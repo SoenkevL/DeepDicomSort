{
 "cells": [
  {
   "cell_type": "code",
   "execution_count": 0,
   "outputs": [],
   "source": [
    "import pandas as pd\n",
    "import os\n",
    "from lxml import etree"
   ],
   "metadata": {
    "collapsed": false
   },
   "id": "38bbf0a0a41cdf1c"
  },
  {
   "cell_type": "code",
   "execution_count": 1,
   "outputs": [],
   "source": [
    "\n",
    "# def createDicomPath(ID):\n",
    "#     dirPart = os.path.dirname(ID)\n",
    "#     basePart = os.path.basename(ID)\n",
    "#     dirPart = os.path.normpath(dirPart.replace(\"NIFTI_SLICES\",\"DICOM_STRUCTURED\"))\n",
    "#     basePartArray = basePart.split('__')[:-1]\n",
    "#     basePart = os.path.normpath(str.join('/',basePartArray))\n",
    "#     fullPath = os.path.normpath(str.join('/',[dirPart,basePart]))\n",
    "#     return fullPath\n",
    "\n",
    "\n",
    "# def findXmlName(DicomPath):\n",
    "#     filename = os.listdir(DicomPath)[0]\n",
    "#     seriesName = filename.split('_br_raw')[0]\n",
    "#     subjectIdent = seriesName.split('_MR_')[0]\n",
    "#     seriesName = seriesName.split('_MR_')[1]\n",
    "#     while seriesName[0] == '_':\n",
    "#         seriesName = seriesName[1:]\n",
    "#     while seriesName[-1] == '_':\n",
    "#         seriesName = seriesName[:-1]\n",
    "#     snum = filename.split('_S')[-1]\n",
    "#     snum = snum.split('_')[0]\n",
    "#     snum = f'S{snum}'\n",
    "#     Inum = filename.split('_I')[-1]\n",
    "#     Inum = Inum.split('.dcm')[0]\n",
    "#     Inum = f'I{Inum}'\n",
    "#     xmlName = f'{subjectIdent}_{seriesName}_{snum}_{Inum}.xml'\n",
    "#     return {'name':xmlName, 'description': seriesName}\n",
    "\n",
    "# def getKey(info,key):\n",
    "#     return info[key]\n",
    "\n",
    "# def getWeightingFromXml(XML_Name, metaDataPath):\n",
    "#     tree = etree.parse(os.path.join(metaDataPath,XML_Name))\n",
    "#     for element in tree.iter():\n",
    "#         try:\n",
    "#             if element.attrib['term'] == 'Weighting':\n",
    "#                 return element.text\n",
    "#         except:\n",
    "#             continue\n",
    "#     return None\n",
    "\n",
    "# \n",
    "# def main():\n",
    "#     Labels = pd.read_csv('ADNI/FirstTest/DATA/Labels.txt',sep='\\t',names=['ID','label','extra'])\n",
    "#     Labels['dicomPath'] = Labels['ID'].apply(createDicomPath)\n",
    "#     Labels['info'] = Labels['dicomPath'].apply(findXmlName)\n",
    "#     Labels['xmlName']=Labels['info'].apply(getKey,key='name')\n",
    "#     Labels['description']=Labels['info'].apply(getKey,key='description')\n",
    "#     Labels['weighting'] = Labels['xmlName'].apply(getWeightingFromXml,metaDataPath='/trinity/home/r098375/DDS/ADNI/FirstTest/ADNI_train/metadata')\n",
    "#     Labels.to_csv('ADNI/FirstTest/DATA/LabelsWithExtraInfo.csv',index=False)"
   ],
   "metadata": {
    "collapsed": false,
    "ExecuteTime": {
     "start_time": "2023-10-06T07:52:51.356477928Z"
    }
   },
   "id": "60ddf0358bf1fb45"
  },
  {
   "cell_type": "code",
   "execution_count": 19,
   "outputs": [
    {
     "data": {
      "text/plain": "                                                  ID  label  extra  \\\n0  /trinity/home/r098375/DDS/data/ADNI/ADNI2/trai...      0      0   \n1  /trinity/home/r098375/DDS/data/ADNI/ADNI2/trai...      0      0   \n2  /trinity/home/r098375/DDS/data/ADNI/ADNI2/trai...      0      0   \n3  /trinity/home/r098375/DDS/data/ADNI/ADNI2/trai...      0      0   \n4  /trinity/home/r098375/DDS/data/ADNI/ADNI2/trai...      0      0   \n\n       description weighting  \n0  Axial_PD_T2_FSE        T2  \n1  Axial_PD_T2_FSE        T2  \n2  Axial_PD_T2_FSE        T2  \n3  Axial_PD_T2_FSE        PD  \n4  Axial_PD_T2_FSE        T2  ",
      "text/html": "<div>\n<style scoped>\n    .dataframe tbody tr th:only-of-type {\n        vertical-align: middle;\n    }\n\n    .dataframe tbody tr th {\n        vertical-align: top;\n    }\n\n    .dataframe thead th {\n        text-align: right;\n    }\n</style>\n<table border=\"1\" class=\"dataframe\">\n  <thead>\n    <tr style=\"text-align: right;\">\n      <th></th>\n      <th>ID</th>\n      <th>label</th>\n      <th>extra</th>\n      <th>description</th>\n      <th>weighting</th>\n    </tr>\n  </thead>\n  <tbody>\n    <tr>\n      <th>0</th>\n      <td>/trinity/home/r098375/DDS/data/ADNI/ADNI2/trai...</td>\n      <td>0</td>\n      <td>0</td>\n      <td>Axial_PD_T2_FSE</td>\n      <td>T2</td>\n    </tr>\n    <tr>\n      <th>1</th>\n      <td>/trinity/home/r098375/DDS/data/ADNI/ADNI2/trai...</td>\n      <td>0</td>\n      <td>0</td>\n      <td>Axial_PD_T2_FSE</td>\n      <td>T2</td>\n    </tr>\n    <tr>\n      <th>2</th>\n      <td>/trinity/home/r098375/DDS/data/ADNI/ADNI2/trai...</td>\n      <td>0</td>\n      <td>0</td>\n      <td>Axial_PD_T2_FSE</td>\n      <td>T2</td>\n    </tr>\n    <tr>\n      <th>3</th>\n      <td>/trinity/home/r098375/DDS/data/ADNI/ADNI2/trai...</td>\n      <td>0</td>\n      <td>0</td>\n      <td>Axial_PD_T2_FSE</td>\n      <td>PD</td>\n    </tr>\n    <tr>\n      <th>4</th>\n      <td>/trinity/home/r098375/DDS/data/ADNI/ADNI2/trai...</td>\n      <td>0</td>\n      <td>0</td>\n      <td>Axial_PD_T2_FSE</td>\n      <td>T2</td>\n    </tr>\n  </tbody>\n</table>\n</div>"
     },
     "execution_count": 19,
     "metadata": {},
     "output_type": "execute_result"
    }
   ],
   "source": [
    "CreateLabelsFrame = pd.read_csv('LabelsWithExtraInfo.csv')\n",
    "CreateLabelsFrame = CreateLabelsFrame.drop(['dicomPath','info','xmlName'],axis=1)\n",
    "CreateLabelsFrame.head()"
   ],
   "metadata": {
    "collapsed": false,
    "ExecuteTime": {
     "end_time": "2023-10-06T07:58:10.353883364Z",
     "start_time": "2023-10-06T07:58:10.309014941Z"
    }
   },
   "id": "9d44b0c4d78fac45"
  },
  {
   "cell_type": "code",
   "execution_count": 20,
   "outputs": [],
   "source": [
    "CreateLabelsFrame['origDesc'] = CreateLabelsFrame['description']"
   ],
   "metadata": {
    "collapsed": false,
    "ExecuteTime": {
     "end_time": "2023-10-06T07:58:13.772640099Z",
     "start_time": "2023-10-06T07:58:13.768693810Z"
    }
   },
   "id": "272e8ff92fa0f4d1"
  },
  {
   "cell_type": "code",
   "execution_count": 21,
   "outputs": [],
   "source": [
    "CreateLabelsFrame = CreateLabelsFrame.dropna()"
   ],
   "metadata": {
    "collapsed": false,
    "ExecuteTime": {
     "end_time": "2023-10-06T07:58:14.705955Z",
     "start_time": "2023-10-06T07:58:14.702096825Z"
    }
   },
   "id": "e9e92367eb36b98d"
  },
  {
   "cell_type": "code",
   "execution_count": 22,
   "outputs": [
    {
     "name": "stdout",
     "output_type": "stream",
     "text": [
      "['Axial_PD_T2_FSE']\n"
     ]
    }
   ],
   "source": [
    "uniqueDesc = CreateLabelsFrame[CreateLabelsFrame['weighting']=='PD']['description'].unique()\n",
    "print(uniqueDesc)"
   ],
   "metadata": {
    "collapsed": false,
    "ExecuteTime": {
     "end_time": "2023-10-06T07:58:15.394346194Z",
     "start_time": "2023-10-06T07:58:15.371940057Z"
    }
   },
   "id": "6e08528ee76f4599"
  },
  {
   "cell_type": "code",
   "execution_count": 23,
   "outputs": [],
   "source": [
    "def renameDesc(desc):\n",
    "    if 'localizer' in desc.lower():\n",
    "        return 'localizer'\n",
    "    if 'phase' in desc.lower():\n",
    "        return 'phase'\n",
    "    if 'field' in desc.lower():\n",
    "        return 'fieldmap'\n",
    "    if 'rage' in desc.lower():\n",
    "        return 'T1w'\n",
    "    if 'cal' in desc.lower():\n",
    "        return 'calibration'\n",
    "    if 'scout' in desc.lower():\n",
    "        return 'scout'\n",
    "    if 'fspgr' in desc.lower():\n",
    "        return 'fspgr'\n",
    "    if 'flair' in desc.lower():\n",
    "        return 'T2-FLAIR'\n",
    "    if 'star' in desc.lower():\n",
    "        return 'T2star'\n",
    "    if 'swi' in desc.lower():\n",
    "        return 'swi'\n",
    "    if 'hippo' in desc.lower():\n",
    "        return 'hippo'\n",
    "    if 'perf' in desc.lower() or 'pwi' in desc.lower():\n",
    "        return 'pwi'\n",
    "    if 'asl' in desc.lower():\n",
    "        return 'Asl'\n",
    "    if 'dti' in desc.lower():\n",
    "        return 'dti'\n",
    "    if 'cerebral_blood_flow' in desc.lower():\n",
    "        return 'cbf'\n",
    "    if 't2' in desc.lower():\n",
    "        return 'T2w'\n"
   ],
   "metadata": {
    "collapsed": false,
    "ExecuteTime": {
     "end_time": "2023-10-06T07:58:16.013804204Z",
     "start_time": "2023-10-06T07:58:16.010267707Z"
    }
   },
   "id": "ce94c844218905d6"
  },
  {
   "cell_type": "code",
   "execution_count": 24,
   "outputs": [],
   "source": [
    "CreateLabelsFrame['description'] = CreateLabelsFrame['origDesc'].apply(renameDesc)"
   ],
   "metadata": {
    "collapsed": false,
    "ExecuteTime": {
     "end_time": "2023-10-06T07:58:16.636061549Z",
     "start_time": "2023-10-06T07:58:16.619594288Z"
    }
   },
   "id": "60c239881b04fc09"
  },
  {
   "cell_type": "code",
   "execution_count": 25,
   "outputs": [],
   "source": [
    "labeldict = {\"T1\":0,\"T1_c\":1,\"T2\":2,\"T2-FLAIR\":3,\"FS\":4,\"PD\":5,\n",
    "             \"SWI\":6, \"GRE\":7, \"T2*\":8, \"DWI\":9, \"ADC\":10, \"BOLD\":11,\n",
    "             \"FlowSensitve\":12,\"PWI\":13,\"Other\":14}\n",
    "def assignLabel(dataframe):\n",
    "    description = dataframe['description']\n",
    "    try:\n",
    "        weight = dataframe['weighting']\n",
    "    except:\n",
    "        weight = None\n",
    "    otherCategories = ['fieldmap','scout','hippo','calibration','phase','localizer','asl','dti','fspgr','cbf', 'nan', 'pasl','NotMri','pet','CT','e2']\n",
    "    if description in otherCategories:\n",
    "        return 14\n",
    "    if description =='T1w':\n",
    "        return 0\n",
    "    if description =='T1c':\n",
    "        return 1\n",
    "    if weight:\n",
    "        if description =='T2w':\n",
    "            if weight=='T2':\n",
    "                return 2\n",
    "            if weight=='PD':\n",
    "                return 5\n",
    "    if description == 'T2w':\n",
    "        return 2\n",
    "    if 'FLAIR' in description:\n",
    "        return 3\n",
    "    if description =='FS':\n",
    "        return 4\n",
    "    if description =='pd':\n",
    "        return 5\n",
    "    if description =='swi' or description=='minIP':\n",
    "        return 6\n",
    "    if description.lower() =='gre':\n",
    "        return 7\n",
    "    if description =='T2star':\n",
    "        return 8\n",
    "    if description =='dwi':\n",
    "        return 9\n",
    "    if description =='adc':\n",
    "        return 10\n",
    "    if description =='bold':\n",
    "        return 11\n",
    "    if description =='angio': #flowsensitive\n",
    "        return 12\n",
    "    if description =='pwi':\n",
    "        return 13\n",
    "    return -1"
   ],
   "metadata": {
    "collapsed": false,
    "ExecuteTime": {
     "end_time": "2023-10-06T07:58:17.030876497Z",
     "start_time": "2023-10-06T07:58:17.016072705Z"
    }
   },
   "id": "c4e93d130d0d3089"
  },
  {
   "cell_type": "code",
   "execution_count": 26,
   "outputs": [],
   "source": [
    "CreateLabelsFrame['label'] = CreateLabelsFrame.apply(assignLabel,axis=1)"
   ],
   "metadata": {
    "collapsed": false,
    "ExecuteTime": {
     "end_time": "2023-10-06T07:58:17.753681980Z",
     "start_time": "2023-10-06T07:58:17.663646879Z"
    }
   },
   "id": "e6b50aad44ff4178"
  },
  {
   "cell_type": "code",
   "execution_count": 27,
   "outputs": [
    {
     "data": {
      "text/plain": "Empty DataFrame\nColumns: [ID, label, extra, description, weighting, origDesc]\nIndex: []",
      "text/html": "<div>\n<style scoped>\n    .dataframe tbody tr th:only-of-type {\n        vertical-align: middle;\n    }\n\n    .dataframe tbody tr th {\n        vertical-align: top;\n    }\n\n    .dataframe thead th {\n        text-align: right;\n    }\n</style>\n<table border=\"1\" class=\"dataframe\">\n  <thead>\n    <tr style=\"text-align: right;\">\n      <th></th>\n      <th>ID</th>\n      <th>label</th>\n      <th>extra</th>\n      <th>description</th>\n      <th>weighting</th>\n      <th>origDesc</th>\n    </tr>\n  </thead>\n  <tbody>\n  </tbody>\n</table>\n</div>"
     },
     "execution_count": 27,
     "metadata": {},
     "output_type": "execute_result"
    }
   ],
   "source": [
    "CreateLabelsFrame[CreateLabelsFrame['label']==-1]"
   ],
   "metadata": {
    "collapsed": false,
    "ExecuteTime": {
     "end_time": "2023-10-06T07:58:18.094355883Z",
     "start_time": "2023-10-06T07:58:18.083247257Z"
    }
   },
   "id": "4abbbc06b2d4834b"
  },
  {
   "cell_type": "code",
   "execution_count": 28,
   "outputs": [],
   "source": [
    "CreateLabelsFrame = CreateLabelsFrame[CreateLabelsFrame['label']!=-1]"
   ],
   "metadata": {
    "collapsed": false,
    "ExecuteTime": {
     "end_time": "2023-10-06T07:58:18.523362953Z",
     "start_time": "2023-10-06T07:58:18.494272357Z"
    }
   },
   "id": "24ddee2eb34757d8"
  },
  {
   "cell_type": "code",
   "execution_count": 31,
   "outputs": [],
   "source": [
    "CreateLabelsFrame[['ID','label','extra']].to_csv('ADNI2_trainLabels.txt',index=False, sep='\\t')"
   ],
   "metadata": {
    "collapsed": false,
    "ExecuteTime": {
     "end_time": "2023-10-06T07:59:59.228569200Z",
     "start_time": "2023-10-06T07:59:59.182027151Z"
    }
   },
   "id": "43999e3c34f053c0"
  },
  {
   "cell_type": "code",
   "execution_count": 30,
   "outputs": [
    {
     "data": {
      "text/plain": "label\n2    4925\n5    4925\nName: count, dtype: int64"
     },
     "execution_count": 30,
     "metadata": {},
     "output_type": "execute_result"
    }
   ],
   "source": [
    "CreateLabelsFrame['label'].value_counts()"
   ],
   "metadata": {
    "collapsed": false,
    "ExecuteTime": {
     "end_time": "2023-10-06T07:58:20.454816459Z",
     "start_time": "2023-10-06T07:58:20.448512429Z"
    }
   },
   "id": "89044c0ae7b840bb"
  },
  {
   "cell_type": "code",
   "execution_count": null,
   "outputs": [],
   "source": [],
   "metadata": {
    "collapsed": false
   },
   "id": "ce1509ae5c9f1cb9"
  }
 ],
 "metadata": {
  "kernelspec": {
   "display_name": "Python 3",
   "language": "python",
   "name": "python3"
  },
  "language_info": {
   "codemirror_mode": {
    "name": "ipython",
    "version": 2
   },
   "file_extension": ".py",
   "mimetype": "text/x-python",
   "name": "python",
   "nbconvert_exporter": "python",
   "pygments_lexer": "ipython2",
   "version": "2.7.6"
  }
 },
 "nbformat": 4,
 "nbformat_minor": 5
}
