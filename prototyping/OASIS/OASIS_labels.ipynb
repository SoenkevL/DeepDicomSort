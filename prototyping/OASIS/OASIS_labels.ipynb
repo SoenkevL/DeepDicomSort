{
 "cells": [
  {
   "cell_type": "code",
   "execution_count": 1,
   "id": "d82ab94f2d03cb14",
   "metadata": {
    "collapsed": true,
    "ExecuteTime": {
     "end_time": "2023-10-18T07:42:47.823852509Z",
     "start_time": "2023-10-18T07:42:47.619629160Z"
    }
   },
   "outputs": [],
   "source": [
    "import os\n",
    "import shutil\n",
    "import pandas as pd"
   ]
  },
  {
   "cell_type": "code",
   "execution_count": 2,
   "outputs": [],
   "source": [
    "# dataDicts = []\n",
    "# for root, dirs, files in os.walk('oasis3downloads'):\n",
    "#     for file in files:\n",
    "#         if 'nii.gz' in file:\n",
    "#             filepath = os.path.join(root,file)\n",
    "#             if '_MR_' in filepath:\n",
    "#                 type = str(filepath).split('_')[-1]\n",
    "#                 type = type.split('.nii.gz')[0]\n",
    "#                 baseFolder = str(filepath).split(os.sep)[1]\n",
    "#                 newPath = os.path.join('NIFTI',baseFolder,file)\n",
    "#                 temp = pd.Series()\n",
    "#                 temp = {'origpath':filepath, 'type':type, 'newpath':newPath}\n",
    "#                 dataDicts.append(temp)\n",
    "#             break"
   ],
   "metadata": {
    "collapsed": false,
    "ExecuteTime": {
     "end_time": "2023-10-18T07:42:47.833481956Z",
     "start_time": "2023-10-18T07:42:47.825797412Z"
    }
   },
   "id": "initial_id"
  },
  {
   "cell_type": "code",
   "execution_count": 3,
   "outputs": [
    {
     "data": {
      "text/plain": "                                                      ID  label  extra\n0      data/OASIS/OASIS3/test/NIFTI_SLICES/sub-OAS303...      0      0\n1      data/OASIS/OASIS3/test/NIFTI_SLICES/sub-OAS309...      0      0\n2      data/OASIS/OASIS3/test/NIFTI_SLICES/sub-OAS303...      0      0\n3      data/OASIS/OASIS3/test/NIFTI_SLICES/sub-OAS305...      0      0\n4      data/OASIS/OASIS3/test/NIFTI_SLICES/sub-OAS303...      0      0\n...                                                  ...    ...    ...\n54370  data/OASIS/OASIS3/test/NIFTI_SLICES/sub-OAS305...      0      0\n54371  data/OASIS/OASIS3/test/NIFTI_SLICES/sub-OAS309...      0      0\n54372  data/OASIS/OASIS3/test/NIFTI_SLICES/sub-OAS302...      0      0\n54373  data/OASIS/OASIS3/test/NIFTI_SLICES/sub-OAS302...      0      0\n54374  data/OASIS/OASIS3/test/NIFTI_SLICES/sub-OAS302...      0      0\n\n[54375 rows x 3 columns]",
      "text/html": "<div>\n<style scoped>\n    .dataframe tbody tr th:only-of-type {\n        vertical-align: middle;\n    }\n\n    .dataframe tbody tr th {\n        vertical-align: top;\n    }\n\n    .dataframe thead th {\n        text-align: right;\n    }\n</style>\n<table border=\"1\" class=\"dataframe\">\n  <thead>\n    <tr style=\"text-align: right;\">\n      <th></th>\n      <th>ID</th>\n      <th>label</th>\n      <th>extra</th>\n    </tr>\n  </thead>\n  <tbody>\n    <tr>\n      <th>0</th>\n      <td>data/OASIS/OASIS3/test/NIFTI_SLICES/sub-OAS303...</td>\n      <td>0</td>\n      <td>0</td>\n    </tr>\n    <tr>\n      <th>1</th>\n      <td>data/OASIS/OASIS3/test/NIFTI_SLICES/sub-OAS309...</td>\n      <td>0</td>\n      <td>0</td>\n    </tr>\n    <tr>\n      <th>2</th>\n      <td>data/OASIS/OASIS3/test/NIFTI_SLICES/sub-OAS303...</td>\n      <td>0</td>\n      <td>0</td>\n    </tr>\n    <tr>\n      <th>3</th>\n      <td>data/OASIS/OASIS3/test/NIFTI_SLICES/sub-OAS305...</td>\n      <td>0</td>\n      <td>0</td>\n    </tr>\n    <tr>\n      <th>4</th>\n      <td>data/OASIS/OASIS3/test/NIFTI_SLICES/sub-OAS303...</td>\n      <td>0</td>\n      <td>0</td>\n    </tr>\n    <tr>\n      <th>...</th>\n      <td>...</td>\n      <td>...</td>\n      <td>...</td>\n    </tr>\n    <tr>\n      <th>54370</th>\n      <td>data/OASIS/OASIS3/test/NIFTI_SLICES/sub-OAS305...</td>\n      <td>0</td>\n      <td>0</td>\n    </tr>\n    <tr>\n      <th>54371</th>\n      <td>data/OASIS/OASIS3/test/NIFTI_SLICES/sub-OAS309...</td>\n      <td>0</td>\n      <td>0</td>\n    </tr>\n    <tr>\n      <th>54372</th>\n      <td>data/OASIS/OASIS3/test/NIFTI_SLICES/sub-OAS302...</td>\n      <td>0</td>\n      <td>0</td>\n    </tr>\n    <tr>\n      <th>54373</th>\n      <td>data/OASIS/OASIS3/test/NIFTI_SLICES/sub-OAS302...</td>\n      <td>0</td>\n      <td>0</td>\n    </tr>\n    <tr>\n      <th>54374</th>\n      <td>data/OASIS/OASIS3/test/NIFTI_SLICES/sub-OAS302...</td>\n      <td>0</td>\n      <td>0</td>\n    </tr>\n  </tbody>\n</table>\n<p>54375 rows × 3 columns</p>\n</div>"
     },
     "execution_count": 3,
     "metadata": {},
     "output_type": "execute_result"
    }
   ],
   "source": [
    "df = pd.read_csv('Oasis3_testLabels.txt',names=['ID','label','extra'],sep='\\t',low_memory=False,dtype={'ID':str,'label':int,'extra':int})\n",
    "df"
   ],
   "metadata": {
    "collapsed": false,
    "ExecuteTime": {
     "end_time": "2023-10-18T07:42:48.244562675Z",
     "start_time": "2023-10-18T07:42:48.154208217Z"
    }
   },
   "id": "e68c1577da37889d"
  },
  {
   "cell_type": "code",
   "execution_count": 4,
   "outputs": [],
   "source": [
    "def extractType(df):\n",
    "    ID = df['ID']\n",
    "    ID = ID.split('__s')[0]\n",
    "    type = ID.split('_')[-1]\n",
    "    return type"
   ],
   "metadata": {
    "collapsed": false,
    "ExecuteTime": {
     "end_time": "2023-10-18T07:42:50.824861155Z",
     "start_time": "2023-10-18T07:42:50.819596046Z"
    }
   },
   "id": "6d2c40b725d5ee5f"
  },
  {
   "cell_type": "code",
   "execution_count": 5,
   "outputs": [],
   "source": [
    "df['type'] = df.apply(extractType,axis=1)"
   ],
   "metadata": {
    "collapsed": false,
    "ExecuteTime": {
     "end_time": "2023-10-18T07:42:51.809099147Z",
     "start_time": "2023-10-18T07:42:51.548731722Z"
    }
   },
   "id": "65d28a5b550437d0"
  },
  {
   "cell_type": "code",
   "execution_count": 6,
   "outputs": [
    {
     "name": "stdout",
     "output_type": "stream",
     "text": [
      "['T1w' 'T2star' 'fieldmap' 'dwi' 'swi' 'minIP' 'T2w' 'CT' 'asl' 'bold'\n",
      " 'FLAIR' 'angio' 'GRE' 'pet' 'pasl']\n"
     ]
    }
   ],
   "source": [
    "print(df['type'].unique())"
   ],
   "metadata": {
    "collapsed": false,
    "ExecuteTime": {
     "end_time": "2023-10-18T07:42:51.935916459Z",
     "start_time": "2023-10-18T07:42:51.895195862Z"
    }
   },
   "id": "74f6ebfe72e3230b"
  },
  {
   "cell_type": "code",
   "execution_count": 7,
   "outputs": [],
   "source": [
    "df['description']=df['type']"
   ],
   "metadata": {
    "collapsed": false,
    "ExecuteTime": {
     "end_time": "2023-10-18T07:42:53.508701469Z",
     "start_time": "2023-10-18T07:42:53.476025166Z"
    }
   },
   "id": "100d8a7549dbfe1b"
  },
  {
   "cell_type": "code",
   "execution_count": 8,
   "outputs": [],
   "source": [
    "labeldict = {\"T1\":0,\"T1_c\":1,\"T2\":2,\"T2-FLAIR\":3,\"FS\":4,\"PD\":5,\n",
    "             \"SWI\":6, \"GRE\":7, \"T2*\":8, \"DWI\":9, \"ADC\":10, \"BOLD\":11,\n",
    "             \"FlowSensitve\":12,\"PWI\":13,\"ASL\":14,\"Hippo\":15,\n",
    "             \"DTI\":16,\"Other\":17}\n",
    "def assignLabel(dataframe):\n",
    "    description = str(dataframe['description'])\n",
    "    try:\n",
    "        weight = dataframe['weighting']\n",
    "    except:\n",
    "        weight = None\n",
    "    otherCategories = ['fieldmap','scout','calibration','phase','localizer','nan','NotMri','pet','CT','e2','minIP']\n",
    "    if description in otherCategories:\n",
    "        return 17\n",
    "    if description =='T1w':\n",
    "        return 0\n",
    "    if description =='T1c':\n",
    "        return 1\n",
    "    if weight:\n",
    "        if description =='T2w':\n",
    "            if weight=='T2':\n",
    "                return 2\n",
    "            if weight=='PD':\n",
    "                return 5\n",
    "    if description == 'T2w':\n",
    "        return 2\n",
    "    if 'FLAIR' in description:\n",
    "        return 3\n",
    "    if description =='FS':\n",
    "        return 4\n",
    "    if description =='pd':\n",
    "        return 5\n",
    "    if description =='swi':\n",
    "        return 6\n",
    "    if description.lower() =='gre': #from oasis3 can be magnitude or phase but no more description\n",
    "        return 7\n",
    "    if description =='T2star':\n",
    "        return 8\n",
    "    if description =='dwi':\n",
    "        return 9\n",
    "    if description =='adc':\n",
    "        return 10\n",
    "    if description =='bold':\n",
    "        return 11\n",
    "    if description =='angio': #flowsensitive\n",
    "        return 12\n",
    "    if description =='pwi' or description=='cbf':\n",
    "        return 13\n",
    "    if 'asl' in description:\n",
    "        return 14\n",
    "    if description == 'hippo':\n",
    "        return 15\n",
    "    if description == 'dti':\n",
    "        return 16\n",
    "    return -1"
   ],
   "metadata": {
    "collapsed": false,
    "ExecuteTime": {
     "end_time": "2023-10-18T07:42:53.964567522Z",
     "start_time": "2023-10-18T07:42:53.959643928Z"
    }
   },
   "id": "fdbf3d7ee21d9d1e"
  },
  {
   "cell_type": "code",
   "execution_count": 9,
   "outputs": [],
   "source": [
    "df['label'] = df.apply(assignLabel,axis=1)"
   ],
   "metadata": {
    "collapsed": false,
    "ExecuteTime": {
     "end_time": "2023-10-18T07:42:55.249555690Z",
     "start_time": "2023-10-18T07:42:54.746678231Z"
    }
   },
   "id": "a54ce670786c146c"
  },
  {
   "cell_type": "code",
   "execution_count": 10,
   "outputs": [
    {
     "data": {
      "text/plain": "label\n17    14075\n11     8275\n2      6350\n0      5750\n9      5400\n8      3625\n14     2700\n7      2400\n6      2025\n3      2025\n12     1750\nName: count, dtype: int64"
     },
     "execution_count": 10,
     "metadata": {},
     "output_type": "execute_result"
    }
   ],
   "source": [
    "df['label'].value_counts()"
   ],
   "metadata": {
    "collapsed": false,
    "ExecuteTime": {
     "end_time": "2023-10-18T07:42:55.259879860Z",
     "start_time": "2023-10-18T07:42:55.253327473Z"
    }
   },
   "id": "f17b37e2aa957ddf"
  },
  {
   "cell_type": "code",
   "execution_count": 11,
   "outputs": [
    {
     "data": {
      "text/plain": "Empty DataFrame\nColumns: [ID, label, extra, type, description]\nIndex: []",
      "text/html": "<div>\n<style scoped>\n    .dataframe tbody tr th:only-of-type {\n        vertical-align: middle;\n    }\n\n    .dataframe tbody tr th {\n        vertical-align: top;\n    }\n\n    .dataframe thead th {\n        text-align: right;\n    }\n</style>\n<table border=\"1\" class=\"dataframe\">\n  <thead>\n    <tr style=\"text-align: right;\">\n      <th></th>\n      <th>ID</th>\n      <th>label</th>\n      <th>extra</th>\n      <th>type</th>\n      <th>description</th>\n    </tr>\n  </thead>\n  <tbody>\n  </tbody>\n</table>\n</div>"
     },
     "execution_count": 11,
     "metadata": {},
     "output_type": "execute_result"
    }
   ],
   "source": [
    "df[df['label']==-1]"
   ],
   "metadata": {
    "collapsed": false,
    "ExecuteTime": {
     "end_time": "2023-10-18T07:42:57.557212817Z",
     "start_time": "2023-10-18T07:42:57.549098692Z"
    }
   },
   "id": "7e890d445e390399"
  },
  {
   "cell_type": "code",
   "execution_count": 12,
   "outputs": [],
   "source": [
    "df = df[df['label']!=-1]"
   ],
   "metadata": {
    "collapsed": false,
    "ExecuteTime": {
     "end_time": "2023-10-18T07:42:59.851099168Z",
     "start_time": "2023-10-18T07:42:59.835689552Z"
    }
   },
   "id": "6e90b131f1a6f7b1"
  },
  {
   "cell_type": "code",
   "execution_count": 13,
   "outputs": [],
   "source": [
    "df = df[['ID','label','extra']]"
   ],
   "metadata": {
    "collapsed": false,
    "ExecuteTime": {
     "end_time": "2023-10-18T07:43:02.975769468Z",
     "start_time": "2023-10-18T07:43:02.972593763Z"
    }
   },
   "id": "d995f319af1b17a8"
  },
  {
   "cell_type": "code",
   "execution_count": 15,
   "outputs": [],
   "source": [
    "df.to_csv('Oasis3_testLabels_extensive2.txt',index=False, header=False, sep='\\t')"
   ],
   "metadata": {
    "collapsed": false,
    "ExecuteTime": {
     "end_time": "2023-10-18T07:43:14.318463691Z",
     "start_time": "2023-10-18T07:43:14.195177476Z"
    }
   },
   "id": "43b9310fc06e345b"
  },
  {
   "cell_type": "code",
   "execution_count": 46,
   "outputs": [],
   "source": [],
   "metadata": {
    "collapsed": false,
    "ExecuteTime": {
     "end_time": "2023-10-17T13:27:59.906734536Z",
     "start_time": "2023-10-17T13:27:59.899007963Z"
    }
   },
   "id": "26a293353c995c91"
  }
 ],
 "metadata": {
  "kernelspec": {
   "display_name": "Python 3",
   "language": "python",
   "name": "python3"
  },
  "language_info": {
   "codemirror_mode": {
    "name": "ipython",
    "version": 2
   },
   "file_extension": ".py",
   "mimetype": "text/x-python",
   "name": "python",
   "nbconvert_exporter": "python",
   "pygments_lexer": "ipython2",
   "version": "2.7.6"
  }
 },
 "nbformat": 4,
 "nbformat_minor": 5
}
