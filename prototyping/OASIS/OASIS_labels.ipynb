{
 "cells": [
  {
   "cell_type": "code",
   "execution_count": 15,
   "id": "d82ab94f2d03cb14",
   "metadata": {
    "collapsed": true,
    "ExecuteTime": {
     "end_time": "2023-11-16T10:21:20.477513392Z",
     "start_time": "2023-11-16T10:21:20.242479579Z"
    }
   },
   "outputs": [],
   "source": [
    "import os\n",
    "import shutil\n",
    "import pandas as pd"
   ]
  },
  {
   "cell_type": "code",
   "execution_count": 16,
   "outputs": [],
   "source": [
    "# dataDicts = []\n",
    "# for root, dirs, files in os.walk('oasis3downloads'):\n",
    "#     for file in files:\n",
    "#         if 'nii.gz' in file:\n",
    "#             filepath = os.path.join(root,file)\n",
    "#             if '_MR_' in filepath:\n",
    "#                 type = str(filepath).split('_')[-1]\n",
    "#                 type = type.split('.nii.gz')[0]\n",
    "#                 baseFolder = str(filepath).split(os.sep)[1]\n",
    "#                 newPath = os.path.join('NIFTI',baseFolder,file)\n",
    "#                 temp = pd.Series()\n",
    "#                 temp = {'origpath':filepath, 'type':type, 'newpath':newPath}\n",
    "#                 dataDicts.append(temp)\n",
    "#             break"
   ],
   "metadata": {
    "collapsed": false,
    "ExecuteTime": {
     "end_time": "2023-11-16T10:21:20.477687123Z",
     "start_time": "2023-11-16T10:21:20.287210730Z"
    }
   },
   "id": "initial_id"
  },
  {
   "cell_type": "code",
   "execution_count": 17,
   "outputs": [
    {
     "data": {
      "text/plain": "                                                       ID  label  extra\n0       data/OASIS/OASIS3/train/NIFTI_SLICES/sub-OAS30...     17      0\n1       data/OASIS/OASIS3/train/NIFTI_SLICES/sub-OAS30...      8      0\n2       data/OASIS/OASIS3/train/NIFTI_SLICES/sub-OAS30...      8      0\n3       data/OASIS/OASIS3/train/NIFTI_SLICES/sub-OAS30...     17      0\n4       data/OASIS/OASIS3/train/NIFTI_SLICES/sub-OAS30...     17      0\n...                                                   ...    ...    ...\n459945  data/OASIS/OASIS3/train/NIFTI_SLICES/sub-OAS30...      0      0\n459946  data/OASIS/OASIS3/train/NIFTI_SLICES/sub-OAS30...      8      0\n459947  data/OASIS/OASIS3/train/NIFTI_SLICES/sub-OAS30...      2      0\n459948  data/OASIS/OASIS3/train/NIFTI_SLICES/sub-OAS30...      2      0\n459949  data/OASIS/OASIS3/train/NIFTI_SLICES/sub-OAS30...     17      0\n\n[459950 rows x 3 columns]",
      "text/html": "<div>\n<style scoped>\n    .dataframe tbody tr th:only-of-type {\n        vertical-align: middle;\n    }\n\n    .dataframe tbody tr th {\n        vertical-align: top;\n    }\n\n    .dataframe thead th {\n        text-align: right;\n    }\n</style>\n<table border=\"1\" class=\"dataframe\">\n  <thead>\n    <tr style=\"text-align: right;\">\n      <th></th>\n      <th>ID</th>\n      <th>label</th>\n      <th>extra</th>\n    </tr>\n  </thead>\n  <tbody>\n    <tr>\n      <th>0</th>\n      <td>data/OASIS/OASIS3/train/NIFTI_SLICES/sub-OAS30...</td>\n      <td>17</td>\n      <td>0</td>\n    </tr>\n    <tr>\n      <th>1</th>\n      <td>data/OASIS/OASIS3/train/NIFTI_SLICES/sub-OAS30...</td>\n      <td>8</td>\n      <td>0</td>\n    </tr>\n    <tr>\n      <th>2</th>\n      <td>data/OASIS/OASIS3/train/NIFTI_SLICES/sub-OAS30...</td>\n      <td>8</td>\n      <td>0</td>\n    </tr>\n    <tr>\n      <th>3</th>\n      <td>data/OASIS/OASIS3/train/NIFTI_SLICES/sub-OAS30...</td>\n      <td>17</td>\n      <td>0</td>\n    </tr>\n    <tr>\n      <th>4</th>\n      <td>data/OASIS/OASIS3/train/NIFTI_SLICES/sub-OAS30...</td>\n      <td>17</td>\n      <td>0</td>\n    </tr>\n    <tr>\n      <th>...</th>\n      <td>...</td>\n      <td>...</td>\n      <td>...</td>\n    </tr>\n    <tr>\n      <th>459945</th>\n      <td>data/OASIS/OASIS3/train/NIFTI_SLICES/sub-OAS30...</td>\n      <td>0</td>\n      <td>0</td>\n    </tr>\n    <tr>\n      <th>459946</th>\n      <td>data/OASIS/OASIS3/train/NIFTI_SLICES/sub-OAS30...</td>\n      <td>8</td>\n      <td>0</td>\n    </tr>\n    <tr>\n      <th>459947</th>\n      <td>data/OASIS/OASIS3/train/NIFTI_SLICES/sub-OAS30...</td>\n      <td>2</td>\n      <td>0</td>\n    </tr>\n    <tr>\n      <th>459948</th>\n      <td>data/OASIS/OASIS3/train/NIFTI_SLICES/sub-OAS30...</td>\n      <td>2</td>\n      <td>0</td>\n    </tr>\n    <tr>\n      <th>459949</th>\n      <td>data/OASIS/OASIS3/train/NIFTI_SLICES/sub-OAS30...</td>\n      <td>17</td>\n      <td>0</td>\n    </tr>\n  </tbody>\n</table>\n<p>459950 rows × 3 columns</p>\n</div>"
     },
     "execution_count": 17,
     "metadata": {},
     "output_type": "execute_result"
    }
   ],
   "source": [
    "df = pd.read_csv('/home/soenke/Internship/DeepDicomSortFork/prototyping/OASIS/extensive2/Oasis3_trainLabels_extensive2.txt',names=['ID','label','extra'],sep='\\t',low_memory=False,dtype={'ID':str,'label':int,'extra':int})\n",
    "df"
   ],
   "metadata": {
    "collapsed": false,
    "ExecuteTime": {
     "end_time": "2023-11-16T10:21:20.891622861Z",
     "start_time": "2023-11-16T10:21:20.287300937Z"
    }
   },
   "id": "e68c1577da37889d"
  },
  {
   "cell_type": "code",
   "execution_count": 18,
   "outputs": [],
   "source": [
    "def extractType(df):\n",
    "    ID = df['ID']\n",
    "    ID = ID.split('__s')[0]\n",
    "    type = ID.split('_')[-1]\n",
    "    return type"
   ],
   "metadata": {
    "collapsed": false,
    "ExecuteTime": {
     "end_time": "2023-11-16T10:21:20.973452018Z",
     "start_time": "2023-11-16T10:21:20.891155857Z"
    }
   },
   "id": "6d2c40b725d5ee5f"
  },
  {
   "cell_type": "code",
   "execution_count": 19,
   "outputs": [],
   "source": [
    "df['type'] = df.apply(extractType,axis=1)"
   ],
   "metadata": {
    "collapsed": false,
    "ExecuteTime": {
     "end_time": "2023-11-16T10:21:23.037439558Z",
     "start_time": "2023-11-16T10:21:20.935267705Z"
    }
   },
   "id": "65d28a5b550437d0"
  },
  {
   "cell_type": "code",
   "execution_count": 20,
   "outputs": [
    {
     "name": "stdout",
     "output_type": "stream",
     "text": [
      "['pet' 'T2star' 'fieldmap' 'bold' 'CT' 'T2w' 'dwi' 'T1w' 'FLAIR' 'asl'\n",
      " 'GRE' 'minIP' 'swi' 'angio' 'pasl' 'e2']\n"
     ]
    }
   ],
   "source": [
    "print(df['type'].unique())"
   ],
   "metadata": {
    "collapsed": false,
    "ExecuteTime": {
     "end_time": "2023-11-16T10:21:23.066867595Z",
     "start_time": "2023-11-16T10:21:23.051347471Z"
    }
   },
   "id": "74f6ebfe72e3230b"
  },
  {
   "cell_type": "code",
   "execution_count": 21,
   "outputs": [],
   "source": [
    "df['description']=df['type']"
   ],
   "metadata": {
    "collapsed": false,
    "ExecuteTime": {
     "end_time": "2023-11-16T10:21:23.076433870Z",
     "start_time": "2023-11-16T10:21:23.065540069Z"
    }
   },
   "id": "100d8a7549dbfe1b"
  },
  {
   "cell_type": "code",
   "execution_count": 22,
   "outputs": [],
   "source": [
    "labeldict = {\"T1\":0,\"T1_c\":1,\"T2\":2,\"T2-FLAIR\":3,\"PD\":4,\n",
    "             \"SWI\":5, \"GRE\":6, \"T2*\":7, \"DWI\":8, \"ADC\":9, \"BOLD\":10,\n",
    "             \"FlowSensitve\":11,\"PWI\":12,\"ASL\":13,\n",
    "             \"DTI\":14,\"Other\":15}\n",
    "def assignLabel(dataframe):\n",
    "    description = dataframe['description']\n",
    "    try:\n",
    "        weight = dataframe['weighting']\n",
    "    except:\n",
    "        weight = None\n",
    "    dropLabels = ['moco','mpr','hippo','spinal','unknown']\n",
    "    otherCategories = ['fieldmap','scout','calibration','phase','localizer','nan','NotMri','pet','CT','e2','minIP','moco','other','survey', 'qflow','smartbrain'] #moco is a motion corrected series\n",
    "    if description in dropLabels:\n",
    "        return -1\n",
    "    if description in otherCategories:\n",
    "        return 15\n",
    "    if description =='T1w':\n",
    "        return 0\n",
    "    if description =='T1c':\n",
    "        return 1\n",
    "    if weight:\n",
    "        if description =='T2w':\n",
    "            if weight=='T2':\n",
    "                return 2\n",
    "            if weight=='PD':\n",
    "                return 4\n",
    "    if description == 'T2w':\n",
    "        return 2\n",
    "    if 'FLAIR' in description:\n",
    "        return 3\n",
    "    if description =='pd':\n",
    "        return 4\n",
    "    if description =='swi':\n",
    "        return 5\n",
    "    if description.lower() =='gre':\n",
    "        return 6\n",
    "    if description =='T2star':\n",
    "        return 7\n",
    "    if description =='dwi':\n",
    "        return 8\n",
    "    if description =='adc':\n",
    "        return 9\n",
    "    if description =='bold':\n",
    "        return 10\n",
    "    if description =='angio': #flowsensitive\n",
    "        return 11\n",
    "    if description =='pwi' or description=='cbf':\n",
    "        return 12\n",
    "    if 'asl' in description:\n",
    "        return 13\n",
    "    if description == 'dti':\n",
    "        return 14\n",
    "    return -1"
   ],
   "metadata": {
    "collapsed": false,
    "ExecuteTime": {
     "end_time": "2023-11-16T10:21:23.098087984Z",
     "start_time": "2023-11-16T10:21:23.078552148Z"
    }
   },
   "id": "fdbf3d7ee21d9d1e"
  },
  {
   "cell_type": "code",
   "execution_count": 23,
   "outputs": [],
   "source": [
    "df['label'] = df.apply(assignLabel,axis=1)"
   ],
   "metadata": {
    "collapsed": false,
    "ExecuteTime": {
     "end_time": "2023-11-16T10:21:27.482116847Z",
     "start_time": "2023-11-16T10:21:23.082109867Z"
    }
   },
   "id": "a54ce670786c146c"
  },
  {
   "cell_type": "code",
   "execution_count": 24,
   "outputs": [
    {
     "data": {
      "text/plain": "label\n15    118925\n10     67150\n2      55725\n0      54000\n8      44825\n7      31725\n13     20800\n6      19450\n5      18275\n3      16900\n11     12175\nName: count, dtype: int64"
     },
     "execution_count": 24,
     "metadata": {},
     "output_type": "execute_result"
    }
   ],
   "source": [
    "df['label'].value_counts()"
   ],
   "metadata": {
    "collapsed": false,
    "ExecuteTime": {
     "end_time": "2023-11-16T10:21:27.542247211Z",
     "start_time": "2023-11-16T10:21:27.527162526Z"
    }
   },
   "id": "f17b37e2aa957ddf"
  },
  {
   "cell_type": "code",
   "execution_count": 25,
   "outputs": [
    {
     "data": {
      "text/plain": "Empty DataFrame\nColumns: [ID, label, extra, type, description]\nIndex: []",
      "text/html": "<div>\n<style scoped>\n    .dataframe tbody tr th:only-of-type {\n        vertical-align: middle;\n    }\n\n    .dataframe tbody tr th {\n        vertical-align: top;\n    }\n\n    .dataframe thead th {\n        text-align: right;\n    }\n</style>\n<table border=\"1\" class=\"dataframe\">\n  <thead>\n    <tr style=\"text-align: right;\">\n      <th></th>\n      <th>ID</th>\n      <th>label</th>\n      <th>extra</th>\n      <th>type</th>\n      <th>description</th>\n    </tr>\n  </thead>\n  <tbody>\n  </tbody>\n</table>\n</div>"
     },
     "execution_count": 25,
     "metadata": {},
     "output_type": "execute_result"
    }
   ],
   "source": [
    "df[df['label']==-1]"
   ],
   "metadata": {
    "collapsed": false,
    "ExecuteTime": {
     "end_time": "2023-11-16T10:21:27.542699732Z",
     "start_time": "2023-11-16T10:21:27.527341716Z"
    }
   },
   "id": "7e890d445e390399"
  },
  {
   "cell_type": "code",
   "execution_count": 26,
   "outputs": [],
   "source": [
    "df = df[df['label']!=-1]"
   ],
   "metadata": {
    "collapsed": false,
    "ExecuteTime": {
     "end_time": "2023-11-16T10:21:27.618689599Z",
     "start_time": "2023-11-16T10:21:27.527436668Z"
    }
   },
   "id": "6e90b131f1a6f7b1"
  },
  {
   "cell_type": "code",
   "execution_count": 27,
   "outputs": [],
   "source": [
    "df = df[['ID','label','extra']]"
   ],
   "metadata": {
    "collapsed": false,
    "ExecuteTime": {
     "end_time": "2023-11-16T10:21:27.618875142Z",
     "start_time": "2023-11-16T10:21:27.593420583Z"
    }
   },
   "id": "d995f319af1b17a8"
  },
  {
   "cell_type": "code",
   "execution_count": 28,
   "outputs": [],
   "source": [
    "df.to_csv('Oasis3_trainLabels_extensive3.txt',index=False, header=False, sep='\\t')"
   ],
   "metadata": {
    "collapsed": false,
    "ExecuteTime": {
     "end_time": "2023-11-16T10:21:28.714162541Z",
     "start_time": "2023-11-16T10:21:27.609577831Z"
    }
   },
   "id": "43b9310fc06e345b"
  },
  {
   "cell_type": "code",
   "execution_count": 28,
   "outputs": [],
   "source": [],
   "metadata": {
    "collapsed": false,
    "ExecuteTime": {
     "end_time": "2023-11-16T10:21:28.717011377Z",
     "start_time": "2023-11-16T10:21:28.714629853Z"
    }
   },
   "id": "26a293353c995c91"
  }
 ],
 "metadata": {
  "kernelspec": {
   "display_name": "Python 3",
   "language": "python",
   "name": "python3"
  },
  "language_info": {
   "codemirror_mode": {
    "name": "ipython",
    "version": 2
   },
   "file_extension": ".py",
   "mimetype": "text/x-python",
   "name": "python",
   "nbconvert_exporter": "python",
   "pygments_lexer": "ipython2",
   "version": "2.7.6"
  }
 },
 "nbformat": 4,
 "nbformat_minor": 5
}
