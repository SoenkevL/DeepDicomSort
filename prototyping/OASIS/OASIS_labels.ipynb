{
 "cells": [
  {
   "cell_type": "code",
   "execution_count": 1,
   "id": "d82ab94f2d03cb14",
   "metadata": {
    "collapsed": true,
    "ExecuteTime": {
     "end_time": "2023-11-23T14:05:56.712400768Z",
     "start_time": "2023-11-23T14:05:56.699881578Z"
    }
   },
   "outputs": [],
   "source": [
    "import os\n",
    "import shutil\n",
    "import pandas as pd"
   ]
  },
  {
   "cell_type": "code",
   "execution_count": 1,
   "outputs": [],
   "source": [],
   "metadata": {
    "collapsed": false,
    "ExecuteTime": {
     "end_time": "2023-11-23T14:05:56.712786176Z",
     "start_time": "2023-11-23T14:05:56.702776886Z"
    }
   },
   "id": "initial_id"
  },
  {
   "cell_type": "code",
   "execution_count": 2,
   "outputs": [
    {
     "data": {
      "text/plain": "                                     NIFTI_slice_name         sid_x  \\\n0        sub-OAS30333_ses-d141_acq-PIB_pet__s6.nii.gz  sub-OAS30333   \n1        sub-OAS30333_ses-d141_acq-PIB_pet__s9.nii.gz  sub-OAS30333   \n2       sub-OAS30333_ses-d141_acq-PIB_pet__s22.nii.gz  sub-OAS30333   \n3        sub-OAS30333_ses-d141_acq-PIB_pet__s4.nii.gz  sub-OAS30333   \n4        sub-OAS30333_ses-d141_acq-PIB_pet__s7.nii.gz  sub-OAS30333   \n...                                               ...           ...   \n514345          sub-OAS30603_sess-d2253_CT__s1.nii.gz  sub-OAS30603   \n514346          sub-OAS30603_sess-d2253_CT__s3.nii.gz  sub-OAS30603   \n514347          sub-OAS30603_sess-d2253_CT__s4.nii.gz  sub-OAS30603   \n514348          sub-OAS30603_sess-d2253_CT__s5.nii.gz  sub-OAS30603   \n514349         sub-OAS30603_sess-d2253_CT__s16.nii.gz  sub-OAS30603   \n\n                                      NIFTI_name         sid_y  split  \n0       sub-OAS30333_ses-d141_acq-PIB_pet.nii.gz  sub-OAS30333  train  \n1       sub-OAS30333_ses-d141_acq-PIB_pet.nii.gz  sub-OAS30333  train  \n2       sub-OAS30333_ses-d141_acq-PIB_pet.nii.gz  sub-OAS30333  train  \n3       sub-OAS30333_ses-d141_acq-PIB_pet.nii.gz  sub-OAS30333  train  \n4       sub-OAS30333_ses-d141_acq-PIB_pet.nii.gz  sub-OAS30333  train  \n...                                          ...           ...    ...  \n514345         sub-OAS30603_sess-d2253_CT.nii.gz  sub-OAS30603  train  \n514346         sub-OAS30603_sess-d2253_CT.nii.gz  sub-OAS30603  train  \n514347         sub-OAS30603_sess-d2253_CT.nii.gz  sub-OAS30603  train  \n514348         sub-OAS30603_sess-d2253_CT.nii.gz  sub-OAS30603  train  \n514349         sub-OAS30603_sess-d2253_CT.nii.gz  sub-OAS30603  train  \n\n[514350 rows x 5 columns]",
      "text/html": "<div>\n<style scoped>\n    .dataframe tbody tr th:only-of-type {\n        vertical-align: middle;\n    }\n\n    .dataframe tbody tr th {\n        vertical-align: top;\n    }\n\n    .dataframe thead th {\n        text-align: right;\n    }\n</style>\n<table border=\"1\" class=\"dataframe\">\n  <thead>\n    <tr style=\"text-align: right;\">\n      <th></th>\n      <th>NIFTI_slice_name</th>\n      <th>sid_x</th>\n      <th>NIFTI_name</th>\n      <th>sid_y</th>\n      <th>split</th>\n    </tr>\n  </thead>\n  <tbody>\n    <tr>\n      <th>0</th>\n      <td>sub-OAS30333_ses-d141_acq-PIB_pet__s6.nii.gz</td>\n      <td>sub-OAS30333</td>\n      <td>sub-OAS30333_ses-d141_acq-PIB_pet.nii.gz</td>\n      <td>sub-OAS30333</td>\n      <td>train</td>\n    </tr>\n    <tr>\n      <th>1</th>\n      <td>sub-OAS30333_ses-d141_acq-PIB_pet__s9.nii.gz</td>\n      <td>sub-OAS30333</td>\n      <td>sub-OAS30333_ses-d141_acq-PIB_pet.nii.gz</td>\n      <td>sub-OAS30333</td>\n      <td>train</td>\n    </tr>\n    <tr>\n      <th>2</th>\n      <td>sub-OAS30333_ses-d141_acq-PIB_pet__s22.nii.gz</td>\n      <td>sub-OAS30333</td>\n      <td>sub-OAS30333_ses-d141_acq-PIB_pet.nii.gz</td>\n      <td>sub-OAS30333</td>\n      <td>train</td>\n    </tr>\n    <tr>\n      <th>3</th>\n      <td>sub-OAS30333_ses-d141_acq-PIB_pet__s4.nii.gz</td>\n      <td>sub-OAS30333</td>\n      <td>sub-OAS30333_ses-d141_acq-PIB_pet.nii.gz</td>\n      <td>sub-OAS30333</td>\n      <td>train</td>\n    </tr>\n    <tr>\n      <th>4</th>\n      <td>sub-OAS30333_ses-d141_acq-PIB_pet__s7.nii.gz</td>\n      <td>sub-OAS30333</td>\n      <td>sub-OAS30333_ses-d141_acq-PIB_pet.nii.gz</td>\n      <td>sub-OAS30333</td>\n      <td>train</td>\n    </tr>\n    <tr>\n      <th>...</th>\n      <td>...</td>\n      <td>...</td>\n      <td>...</td>\n      <td>...</td>\n      <td>...</td>\n    </tr>\n    <tr>\n      <th>514345</th>\n      <td>sub-OAS30603_sess-d2253_CT__s1.nii.gz</td>\n      <td>sub-OAS30603</td>\n      <td>sub-OAS30603_sess-d2253_CT.nii.gz</td>\n      <td>sub-OAS30603</td>\n      <td>train</td>\n    </tr>\n    <tr>\n      <th>514346</th>\n      <td>sub-OAS30603_sess-d2253_CT__s3.nii.gz</td>\n      <td>sub-OAS30603</td>\n      <td>sub-OAS30603_sess-d2253_CT.nii.gz</td>\n      <td>sub-OAS30603</td>\n      <td>train</td>\n    </tr>\n    <tr>\n      <th>514347</th>\n      <td>sub-OAS30603_sess-d2253_CT__s4.nii.gz</td>\n      <td>sub-OAS30603</td>\n      <td>sub-OAS30603_sess-d2253_CT.nii.gz</td>\n      <td>sub-OAS30603</td>\n      <td>train</td>\n    </tr>\n    <tr>\n      <th>514348</th>\n      <td>sub-OAS30603_sess-d2253_CT__s5.nii.gz</td>\n      <td>sub-OAS30603</td>\n      <td>sub-OAS30603_sess-d2253_CT.nii.gz</td>\n      <td>sub-OAS30603</td>\n      <td>train</td>\n    </tr>\n    <tr>\n      <th>514349</th>\n      <td>sub-OAS30603_sess-d2253_CT__s16.nii.gz</td>\n      <td>sub-OAS30603</td>\n      <td>sub-OAS30603_sess-d2253_CT.nii.gz</td>\n      <td>sub-OAS30603</td>\n      <td>train</td>\n    </tr>\n  </tbody>\n</table>\n<p>514350 rows × 5 columns</p>\n</div>"
     },
     "execution_count": 2,
     "metadata": {},
     "output_type": "execute_result"
    }
   ],
   "source": [
    "df = pd.read_csv('trainTestFrame.csv')\n",
    "df"
   ],
   "metadata": {
    "collapsed": false,
    "ExecuteTime": {
     "end_time": "2023-11-23T14:05:57.484485394Z",
     "start_time": "2023-11-23T14:05:56.752792807Z"
    }
   },
   "id": "e68c1577da37889d"
  },
  {
   "cell_type": "code",
   "execution_count": 3,
   "outputs": [],
   "source": [
    "def renameDesc(desc):\n",
    "    desc = desc.lower()\n",
    "    if 'cwk' in desc or 'lwk' in desc or 'twk' in desc:\n",
    "        return 'spinal'\n",
    "    if 'localizer' in desc:\n",
    "        return 'localizer'\n",
    "    if 'phase' in desc:\n",
    "        return 'phase'\n",
    "    if 'field' in desc:\n",
    "        return 'fieldmap'\n",
    "    if 'rage' in desc or 'fspgr' in desc:\n",
    "        return 'T1w'\n",
    "    if 'cal' in desc:\n",
    "        return 'calibration'\n",
    "    if 'scout' in desc:\n",
    "        return 'scout'\n",
    "    if 'flair' in desc:\n",
    "        return 'T2-FLAIR'\n",
    "    if 'star' in desc:\n",
    "        return 'T2star'\n",
    "    if 'swi' in desc:\n",
    "        return 'swi'\n",
    "    if 'perf' in desc or 'pwi' in desc:\n",
    "        return 'pwi'\n",
    "    if 'asl' in desc:\n",
    "        return 'asl'\n",
    "    if 'dti' in desc:\n",
    "        return 'dti'\n",
    "    if 'cerebral_blood_flow' in desc or 'cbf' in desc:\n",
    "        return 'cbf'\n",
    "    if 't2' in desc:\n",
    "        return 'T2w'\n",
    "    if 'moco' in desc:\n",
    "        return 'moco'\n",
    "    if 'format' in desc:\n",
    "        return 'mpr'\n",
    "    if 'coronal' in desc or 't1' in desc:\n",
    "        return 'T1w'\n",
    "    if 'pet' in desc or 'ct' in desc:\n",
    "        return 'NotMri'\n",
    "    if 'bold' in desc:\n",
    "        return 'bold'\n",
    "    if 'dwi' in desc:\n",
    "        return 'dwi'\n",
    "    if 'gre' in desc:\n",
    "        return 'gre'\n",
    "    if 'angio' in desc:\n",
    "        return 'angio'\n",
    "    if 'min' in desc:\n",
    "        return 'minip'\n",
    "    return 'nan'"
   ],
   "metadata": {
    "collapsed": false,
    "ExecuteTime": {
     "end_time": "2023-11-23T14:05:57.493754738Z",
     "start_time": "2023-11-23T14:05:57.488868145Z"
    }
   },
   "id": "796f006afbd14bf4"
  },
  {
   "cell_type": "code",
   "execution_count": 4,
   "outputs": [],
   "source": [
    "df['description']=df['NIFTI_name'].apply(renameDesc)"
   ],
   "metadata": {
    "collapsed": false,
    "ExecuteTime": {
     "end_time": "2023-11-23T14:05:58.088679487Z",
     "start_time": "2023-11-23T14:05:57.513992462Z"
    }
   },
   "id": "100d8a7549dbfe1b"
  },
  {
   "cell_type": "code",
   "execution_count": 5,
   "outputs": [
    {
     "data": {
      "text/plain": "array(['NotMri', 'T2star', 'fieldmap', 'T1w', 'bold', 'T2w', 'dwi',\n       'T2-FLAIR', 'asl', 'swi', 'phase', 'gre', 'minip', 'angio'],\n      dtype=object)"
     },
     "execution_count": 5,
     "metadata": {},
     "output_type": "execute_result"
    }
   ],
   "source": [
    "df['description'].unique()"
   ],
   "metadata": {
    "collapsed": false,
    "ExecuteTime": {
     "end_time": "2023-11-23T14:05:58.110092932Z",
     "start_time": "2023-11-23T14:05:58.098728571Z"
    }
   },
   "id": "d3c04aa4f739b734"
  },
  {
   "cell_type": "code",
   "execution_count": 6,
   "outputs": [
    {
     "data": {
      "text/plain": "Empty DataFrame\nColumns: [NIFTI_slice_name, sid_x, NIFTI_name, sid_y, split, description]\nIndex: []",
      "text/html": "<div>\n<style scoped>\n    .dataframe tbody tr th:only-of-type {\n        vertical-align: middle;\n    }\n\n    .dataframe tbody tr th {\n        vertical-align: top;\n    }\n\n    .dataframe thead th {\n        text-align: right;\n    }\n</style>\n<table border=\"1\" class=\"dataframe\">\n  <thead>\n    <tr style=\"text-align: right;\">\n      <th></th>\n      <th>NIFTI_slice_name</th>\n      <th>sid_x</th>\n      <th>NIFTI_name</th>\n      <th>sid_y</th>\n      <th>split</th>\n      <th>description</th>\n    </tr>\n  </thead>\n  <tbody>\n  </tbody>\n</table>\n</div>"
     },
     "execution_count": 6,
     "metadata": {},
     "output_type": "execute_result"
    }
   ],
   "source": [
    "df[df['description']=='hippo']"
   ],
   "metadata": {
    "collapsed": false,
    "ExecuteTime": {
     "end_time": "2023-11-23T14:05:58.156262587Z",
     "start_time": "2023-11-23T14:05:58.108216764Z"
    }
   },
   "id": "707c8317bf241041"
  },
  {
   "cell_type": "code",
   "execution_count": 7,
   "outputs": [],
   "source": [
    "labeldict = {\"T1\":0,\"T1_c\":1,\"T2\":2,\"T2-FLAIR\":3,\"PD\":4,\n",
    "             \"SWI\":5, \"GRE\":6, \"T2*\":7, \"DWI\":8, \"ADC\":9, \"BOLD\":10,\n",
    "             \"FlowSensitve\":11,\"PWI\":12,\"ASL\":13,\n",
    "             \"DTI\":14,\"Other\":15}\n",
    "def assignLabel(dataframe):\n",
    "    description = dataframe['description']\n",
    "    try:\n",
    "        weight = dataframe['weighting']\n",
    "    except:\n",
    "        weight = None\n",
    "    dropLabels = ['moco','mpr','hippo','spinal','unknown']\n",
    "    otherCategories = ['fieldmap','scout','calibration','phase','localizer','nan','NotMri','pet','CT','e2','minIP','moco','other','survey', 'qflow','smartbrain'] #moco is a motion corrected series\n",
    "    if description in dropLabels:\n",
    "        return -1\n",
    "    if description in otherCategories:\n",
    "        return 15\n",
    "    if description =='T1w':\n",
    "        return 0\n",
    "    if description =='T1c':\n",
    "        return 1\n",
    "    if weight:\n",
    "        if description =='T2w':\n",
    "            if weight=='T2':\n",
    "                return 2\n",
    "            if weight=='PD':\n",
    "                return 4\n",
    "    if description == 'T2w':\n",
    "        return 2\n",
    "    if 'FLAIR' in description:\n",
    "        return 3\n",
    "    if description =='pd':\n",
    "        return 4\n",
    "    if description =='swi' or description=='minip':\n",
    "        return 5\n",
    "    if description.lower() =='gre':\n",
    "        return 6\n",
    "    if description =='T2star':\n",
    "        return 7\n",
    "    if description =='dwi':\n",
    "        return 8\n",
    "    if description =='adc':\n",
    "        return 9\n",
    "    if description =='bold':\n",
    "        return 10\n",
    "    if description =='angio': #flowsensitive\n",
    "        return 11\n",
    "    if description =='pwi' or description=='cbf':\n",
    "        return 12\n",
    "    if 'asl' in description:\n",
    "        return 13\n",
    "    if description == 'dti':\n",
    "        return 14\n",
    "    return -1"
   ],
   "metadata": {
    "collapsed": false,
    "ExecuteTime": {
     "end_time": "2023-11-23T14:05:58.156457826Z",
     "start_time": "2023-11-23T14:05:58.147053913Z"
    }
   },
   "id": "fdbf3d7ee21d9d1e"
  },
  {
   "cell_type": "code",
   "execution_count": 8,
   "outputs": [],
   "source": [
    "df['label'] = df.apply(assignLabel,axis=1)"
   ],
   "metadata": {
    "collapsed": false,
    "ExecuteTime": {
     "end_time": "2023-11-23T14:06:03.090533496Z",
     "start_time": "2023-11-23T14:05:58.150382629Z"
    }
   },
   "id": "a54ce670786c146c"
  },
  {
   "cell_type": "code",
   "execution_count": 9,
   "outputs": [
    {
     "data": {
      "text/plain": "label\n15    123600\n10     75425\n2      62075\n0      59750\n8      50225\n5      40650\n7      35350\n13     23500\n3      18925\n11     13925\n6      10925\nName: count, dtype: int64"
     },
     "execution_count": 9,
     "metadata": {},
     "output_type": "execute_result"
    }
   ],
   "source": [
    "df['label'].value_counts()"
   ],
   "metadata": {
    "collapsed": false,
    "ExecuteTime": {
     "end_time": "2023-11-23T14:06:03.106567905Z",
     "start_time": "2023-11-23T14:06:03.098915189Z"
    }
   },
   "id": "f17b37e2aa957ddf"
  },
  {
   "cell_type": "code",
   "execution_count": 10,
   "outputs": [
    {
     "data": {
      "text/plain": "Empty DataFrame\nColumns: [NIFTI_slice_name, sid_x, NIFTI_name, sid_y, split, description, label]\nIndex: []",
      "text/html": "<div>\n<style scoped>\n    .dataframe tbody tr th:only-of-type {\n        vertical-align: middle;\n    }\n\n    .dataframe tbody tr th {\n        vertical-align: top;\n    }\n\n    .dataframe thead th {\n        text-align: right;\n    }\n</style>\n<table border=\"1\" class=\"dataframe\">\n  <thead>\n    <tr style=\"text-align: right;\">\n      <th></th>\n      <th>NIFTI_slice_name</th>\n      <th>sid_x</th>\n      <th>NIFTI_name</th>\n      <th>sid_y</th>\n      <th>split</th>\n      <th>description</th>\n      <th>label</th>\n    </tr>\n  </thead>\n  <tbody>\n  </tbody>\n</table>\n</div>"
     },
     "execution_count": 10,
     "metadata": {},
     "output_type": "execute_result"
    }
   ],
   "source": [
    "df[df['label']==-1]"
   ],
   "metadata": {
    "collapsed": false,
    "ExecuteTime": {
     "end_time": "2023-11-23T14:06:03.127408840Z",
     "start_time": "2023-11-23T14:06:03.102629106Z"
    }
   },
   "id": "7e890d445e390399"
  },
  {
   "cell_type": "code",
   "execution_count": 11,
   "outputs": [],
   "source": [
    "df = df[df['label']!=-1]"
   ],
   "metadata": {
    "collapsed": false,
    "ExecuteTime": {
     "end_time": "2023-11-23T14:06:03.204101834Z",
     "start_time": "2023-11-23T14:06:03.119865191Z"
    }
   },
   "id": "6e90b131f1a6f7b1"
  },
  {
   "cell_type": "code",
   "execution_count": 12,
   "outputs": [],
   "source": [
    "train_df = df[df['split']=='train'].copy()\n",
    "test_df = df[df['split']=='test'].copy()"
   ],
   "metadata": {
    "collapsed": false,
    "ExecuteTime": {
     "end_time": "2023-11-23T14:06:03.381081232Z",
     "start_time": "2023-11-23T14:06:03.245453430Z"
    }
   },
   "id": "990ab1533df79ca8"
  },
  {
   "cell_type": "code",
   "execution_count": 13,
   "outputs": [
    {
     "data": {
      "text/plain": "                                     NIFTI_slice_name         sid_x  \\\n0        sub-OAS30333_ses-d141_acq-PIB_pet__s6.nii.gz  sub-OAS30333   \n1        sub-OAS30333_ses-d141_acq-PIB_pet__s9.nii.gz  sub-OAS30333   \n2       sub-OAS30333_ses-d141_acq-PIB_pet__s22.nii.gz  sub-OAS30333   \n3        sub-OAS30333_ses-d141_acq-PIB_pet__s4.nii.gz  sub-OAS30333   \n4        sub-OAS30333_ses-d141_acq-PIB_pet__s7.nii.gz  sub-OAS30333   \n...                                               ...           ...   \n514345          sub-OAS30603_sess-d2253_CT__s1.nii.gz  sub-OAS30603   \n514346          sub-OAS30603_sess-d2253_CT__s3.nii.gz  sub-OAS30603   \n514347          sub-OAS30603_sess-d2253_CT__s4.nii.gz  sub-OAS30603   \n514348          sub-OAS30603_sess-d2253_CT__s5.nii.gz  sub-OAS30603   \n514349         sub-OAS30603_sess-d2253_CT__s16.nii.gz  sub-OAS30603   \n\n                                      NIFTI_name         sid_y  split  \\\n0       sub-OAS30333_ses-d141_acq-PIB_pet.nii.gz  sub-OAS30333  train   \n1       sub-OAS30333_ses-d141_acq-PIB_pet.nii.gz  sub-OAS30333  train   \n2       sub-OAS30333_ses-d141_acq-PIB_pet.nii.gz  sub-OAS30333  train   \n3       sub-OAS30333_ses-d141_acq-PIB_pet.nii.gz  sub-OAS30333  train   \n4       sub-OAS30333_ses-d141_acq-PIB_pet.nii.gz  sub-OAS30333  train   \n...                                          ...           ...    ...   \n514345         sub-OAS30603_sess-d2253_CT.nii.gz  sub-OAS30603  train   \n514346         sub-OAS30603_sess-d2253_CT.nii.gz  sub-OAS30603  train   \n514347         sub-OAS30603_sess-d2253_CT.nii.gz  sub-OAS30603  train   \n514348         sub-OAS30603_sess-d2253_CT.nii.gz  sub-OAS30603  train   \n514349         sub-OAS30603_sess-d2253_CT.nii.gz  sub-OAS30603  train   \n\n       description  label  \n0           NotMri     15  \n1           NotMri     15  \n2           NotMri     15  \n3           NotMri     15  \n4           NotMri     15  \n...            ...    ...  \n514345      NotMri     15  \n514346      NotMri     15  \n514347      NotMri     15  \n514348      NotMri     15  \n514349      NotMri     15  \n\n[459975 rows x 7 columns]",
      "text/html": "<div>\n<style scoped>\n    .dataframe tbody tr th:only-of-type {\n        vertical-align: middle;\n    }\n\n    .dataframe tbody tr th {\n        vertical-align: top;\n    }\n\n    .dataframe thead th {\n        text-align: right;\n    }\n</style>\n<table border=\"1\" class=\"dataframe\">\n  <thead>\n    <tr style=\"text-align: right;\">\n      <th></th>\n      <th>NIFTI_slice_name</th>\n      <th>sid_x</th>\n      <th>NIFTI_name</th>\n      <th>sid_y</th>\n      <th>split</th>\n      <th>description</th>\n      <th>label</th>\n    </tr>\n  </thead>\n  <tbody>\n    <tr>\n      <th>0</th>\n      <td>sub-OAS30333_ses-d141_acq-PIB_pet__s6.nii.gz</td>\n      <td>sub-OAS30333</td>\n      <td>sub-OAS30333_ses-d141_acq-PIB_pet.nii.gz</td>\n      <td>sub-OAS30333</td>\n      <td>train</td>\n      <td>NotMri</td>\n      <td>15</td>\n    </tr>\n    <tr>\n      <th>1</th>\n      <td>sub-OAS30333_ses-d141_acq-PIB_pet__s9.nii.gz</td>\n      <td>sub-OAS30333</td>\n      <td>sub-OAS30333_ses-d141_acq-PIB_pet.nii.gz</td>\n      <td>sub-OAS30333</td>\n      <td>train</td>\n      <td>NotMri</td>\n      <td>15</td>\n    </tr>\n    <tr>\n      <th>2</th>\n      <td>sub-OAS30333_ses-d141_acq-PIB_pet__s22.nii.gz</td>\n      <td>sub-OAS30333</td>\n      <td>sub-OAS30333_ses-d141_acq-PIB_pet.nii.gz</td>\n      <td>sub-OAS30333</td>\n      <td>train</td>\n      <td>NotMri</td>\n      <td>15</td>\n    </tr>\n    <tr>\n      <th>3</th>\n      <td>sub-OAS30333_ses-d141_acq-PIB_pet__s4.nii.gz</td>\n      <td>sub-OAS30333</td>\n      <td>sub-OAS30333_ses-d141_acq-PIB_pet.nii.gz</td>\n      <td>sub-OAS30333</td>\n      <td>train</td>\n      <td>NotMri</td>\n      <td>15</td>\n    </tr>\n    <tr>\n      <th>4</th>\n      <td>sub-OAS30333_ses-d141_acq-PIB_pet__s7.nii.gz</td>\n      <td>sub-OAS30333</td>\n      <td>sub-OAS30333_ses-d141_acq-PIB_pet.nii.gz</td>\n      <td>sub-OAS30333</td>\n      <td>train</td>\n      <td>NotMri</td>\n      <td>15</td>\n    </tr>\n    <tr>\n      <th>...</th>\n      <td>...</td>\n      <td>...</td>\n      <td>...</td>\n      <td>...</td>\n      <td>...</td>\n      <td>...</td>\n      <td>...</td>\n    </tr>\n    <tr>\n      <th>514345</th>\n      <td>sub-OAS30603_sess-d2253_CT__s1.nii.gz</td>\n      <td>sub-OAS30603</td>\n      <td>sub-OAS30603_sess-d2253_CT.nii.gz</td>\n      <td>sub-OAS30603</td>\n      <td>train</td>\n      <td>NotMri</td>\n      <td>15</td>\n    </tr>\n    <tr>\n      <th>514346</th>\n      <td>sub-OAS30603_sess-d2253_CT__s3.nii.gz</td>\n      <td>sub-OAS30603</td>\n      <td>sub-OAS30603_sess-d2253_CT.nii.gz</td>\n      <td>sub-OAS30603</td>\n      <td>train</td>\n      <td>NotMri</td>\n      <td>15</td>\n    </tr>\n    <tr>\n      <th>514347</th>\n      <td>sub-OAS30603_sess-d2253_CT__s4.nii.gz</td>\n      <td>sub-OAS30603</td>\n      <td>sub-OAS30603_sess-d2253_CT.nii.gz</td>\n      <td>sub-OAS30603</td>\n      <td>train</td>\n      <td>NotMri</td>\n      <td>15</td>\n    </tr>\n    <tr>\n      <th>514348</th>\n      <td>sub-OAS30603_sess-d2253_CT__s5.nii.gz</td>\n      <td>sub-OAS30603</td>\n      <td>sub-OAS30603_sess-d2253_CT.nii.gz</td>\n      <td>sub-OAS30603</td>\n      <td>train</td>\n      <td>NotMri</td>\n      <td>15</td>\n    </tr>\n    <tr>\n      <th>514349</th>\n      <td>sub-OAS30603_sess-d2253_CT__s16.nii.gz</td>\n      <td>sub-OAS30603</td>\n      <td>sub-OAS30603_sess-d2253_CT.nii.gz</td>\n      <td>sub-OAS30603</td>\n      <td>train</td>\n      <td>NotMri</td>\n      <td>15</td>\n    </tr>\n  </tbody>\n</table>\n<p>459975 rows × 7 columns</p>\n</div>"
     },
     "execution_count": 13,
     "metadata": {},
     "output_type": "execute_result"
    }
   ],
   "source": [
    "train_df"
   ],
   "metadata": {
    "collapsed": false,
    "ExecuteTime": {
     "end_time": "2023-11-23T14:06:03.381824853Z",
     "start_time": "2023-11-23T14:06:03.339665480Z"
    }
   },
   "id": "4821085d3c23e251"
  },
  {
   "cell_type": "code",
   "execution_count": 14,
   "outputs": [
    {
     "data": {
      "text/plain": "                                        NIFTI_slice_name         sid_x  \\\n150        sub-OAS30303_ses-d0910_run-02_T1w__s11.nii.gz  sub-OAS30303   \n151        sub-OAS30303_ses-d0910_run-02_T1w__s22.nii.gz  sub-OAS30303   \n152        sub-OAS30303_ses-d0910_run-02_T1w__s23.nii.gz  sub-OAS30303   \n153        sub-OAS30303_ses-d0910_run-02_T1w__s14.nii.gz  sub-OAS30303   \n154        sub-OAS30303_ses-d0910_run-02_T1w__s21.nii.gz  sub-OAS30303   \n...                                                  ...           ...   \n514095  sub-OAS30579_sess-d3440_run-01_FLAIR__s14.nii.gz  sub-OAS30579   \n514096   sub-OAS30579_sess-d3440_run-01_FLAIR__s0.nii.gz  sub-OAS30579   \n514097   sub-OAS30579_sess-d3440_run-01_FLAIR__s2.nii.gz  sub-OAS30579   \n514098   sub-OAS30579_sess-d3440_run-01_FLAIR__s6.nii.gz  sub-OAS30579   \n514099   sub-OAS30579_sess-d3440_run-01_FLAIR__s1.nii.gz  sub-OAS30579   \n\n                                         NIFTI_name         sid_y split  \\\n150        sub-OAS30303_ses-d0910_run-02_T1w.nii.gz  sub-OAS30303  test   \n151        sub-OAS30303_ses-d0910_run-02_T1w.nii.gz  sub-OAS30303  test   \n152        sub-OAS30303_ses-d0910_run-02_T1w.nii.gz  sub-OAS30303  test   \n153        sub-OAS30303_ses-d0910_run-02_T1w.nii.gz  sub-OAS30303  test   \n154        sub-OAS30303_ses-d0910_run-02_T1w.nii.gz  sub-OAS30303  test   \n...                                             ...           ...   ...   \n514095  sub-OAS30579_sess-d3440_run-01_FLAIR.nii.gz  sub-OAS30579  test   \n514096  sub-OAS30579_sess-d3440_run-01_FLAIR.nii.gz  sub-OAS30579  test   \n514097  sub-OAS30579_sess-d3440_run-01_FLAIR.nii.gz  sub-OAS30579  test   \n514098  sub-OAS30579_sess-d3440_run-01_FLAIR.nii.gz  sub-OAS30579  test   \n514099  sub-OAS30579_sess-d3440_run-01_FLAIR.nii.gz  sub-OAS30579  test   \n\n       description  label  \n150            T1w      0  \n151            T1w      0  \n152            T1w      0  \n153            T1w      0  \n154            T1w      0  \n...            ...    ...  \n514095    T2-FLAIR      3  \n514096    T2-FLAIR      3  \n514097    T2-FLAIR      3  \n514098    T2-FLAIR      3  \n514099    T2-FLAIR      3  \n\n[54375 rows x 7 columns]",
      "text/html": "<div>\n<style scoped>\n    .dataframe tbody tr th:only-of-type {\n        vertical-align: middle;\n    }\n\n    .dataframe tbody tr th {\n        vertical-align: top;\n    }\n\n    .dataframe thead th {\n        text-align: right;\n    }\n</style>\n<table border=\"1\" class=\"dataframe\">\n  <thead>\n    <tr style=\"text-align: right;\">\n      <th></th>\n      <th>NIFTI_slice_name</th>\n      <th>sid_x</th>\n      <th>NIFTI_name</th>\n      <th>sid_y</th>\n      <th>split</th>\n      <th>description</th>\n      <th>label</th>\n    </tr>\n  </thead>\n  <tbody>\n    <tr>\n      <th>150</th>\n      <td>sub-OAS30303_ses-d0910_run-02_T1w__s11.nii.gz</td>\n      <td>sub-OAS30303</td>\n      <td>sub-OAS30303_ses-d0910_run-02_T1w.nii.gz</td>\n      <td>sub-OAS30303</td>\n      <td>test</td>\n      <td>T1w</td>\n      <td>0</td>\n    </tr>\n    <tr>\n      <th>151</th>\n      <td>sub-OAS30303_ses-d0910_run-02_T1w__s22.nii.gz</td>\n      <td>sub-OAS30303</td>\n      <td>sub-OAS30303_ses-d0910_run-02_T1w.nii.gz</td>\n      <td>sub-OAS30303</td>\n      <td>test</td>\n      <td>T1w</td>\n      <td>0</td>\n    </tr>\n    <tr>\n      <th>152</th>\n      <td>sub-OAS30303_ses-d0910_run-02_T1w__s23.nii.gz</td>\n      <td>sub-OAS30303</td>\n      <td>sub-OAS30303_ses-d0910_run-02_T1w.nii.gz</td>\n      <td>sub-OAS30303</td>\n      <td>test</td>\n      <td>T1w</td>\n      <td>0</td>\n    </tr>\n    <tr>\n      <th>153</th>\n      <td>sub-OAS30303_ses-d0910_run-02_T1w__s14.nii.gz</td>\n      <td>sub-OAS30303</td>\n      <td>sub-OAS30303_ses-d0910_run-02_T1w.nii.gz</td>\n      <td>sub-OAS30303</td>\n      <td>test</td>\n      <td>T1w</td>\n      <td>0</td>\n    </tr>\n    <tr>\n      <th>154</th>\n      <td>sub-OAS30303_ses-d0910_run-02_T1w__s21.nii.gz</td>\n      <td>sub-OAS30303</td>\n      <td>sub-OAS30303_ses-d0910_run-02_T1w.nii.gz</td>\n      <td>sub-OAS30303</td>\n      <td>test</td>\n      <td>T1w</td>\n      <td>0</td>\n    </tr>\n    <tr>\n      <th>...</th>\n      <td>...</td>\n      <td>...</td>\n      <td>...</td>\n      <td>...</td>\n      <td>...</td>\n      <td>...</td>\n      <td>...</td>\n    </tr>\n    <tr>\n      <th>514095</th>\n      <td>sub-OAS30579_sess-d3440_run-01_FLAIR__s14.nii.gz</td>\n      <td>sub-OAS30579</td>\n      <td>sub-OAS30579_sess-d3440_run-01_FLAIR.nii.gz</td>\n      <td>sub-OAS30579</td>\n      <td>test</td>\n      <td>T2-FLAIR</td>\n      <td>3</td>\n    </tr>\n    <tr>\n      <th>514096</th>\n      <td>sub-OAS30579_sess-d3440_run-01_FLAIR__s0.nii.gz</td>\n      <td>sub-OAS30579</td>\n      <td>sub-OAS30579_sess-d3440_run-01_FLAIR.nii.gz</td>\n      <td>sub-OAS30579</td>\n      <td>test</td>\n      <td>T2-FLAIR</td>\n      <td>3</td>\n    </tr>\n    <tr>\n      <th>514097</th>\n      <td>sub-OAS30579_sess-d3440_run-01_FLAIR__s2.nii.gz</td>\n      <td>sub-OAS30579</td>\n      <td>sub-OAS30579_sess-d3440_run-01_FLAIR.nii.gz</td>\n      <td>sub-OAS30579</td>\n      <td>test</td>\n      <td>T2-FLAIR</td>\n      <td>3</td>\n    </tr>\n    <tr>\n      <th>514098</th>\n      <td>sub-OAS30579_sess-d3440_run-01_FLAIR__s6.nii.gz</td>\n      <td>sub-OAS30579</td>\n      <td>sub-OAS30579_sess-d3440_run-01_FLAIR.nii.gz</td>\n      <td>sub-OAS30579</td>\n      <td>test</td>\n      <td>T2-FLAIR</td>\n      <td>3</td>\n    </tr>\n    <tr>\n      <th>514099</th>\n      <td>sub-OAS30579_sess-d3440_run-01_FLAIR__s1.nii.gz</td>\n      <td>sub-OAS30579</td>\n      <td>sub-OAS30579_sess-d3440_run-01_FLAIR.nii.gz</td>\n      <td>sub-OAS30579</td>\n      <td>test</td>\n      <td>T2-FLAIR</td>\n      <td>3</td>\n    </tr>\n  </tbody>\n</table>\n<p>54375 rows × 7 columns</p>\n</div>"
     },
     "execution_count": 14,
     "metadata": {},
     "output_type": "execute_result"
    }
   ],
   "source": [
    "test_df"
   ],
   "metadata": {
    "collapsed": false,
    "ExecuteTime": {
     "end_time": "2023-11-23T14:06:03.383402712Z",
     "start_time": "2023-11-23T14:06:03.381005563Z"
    }
   },
   "id": "1b4e0212ea1392f9"
  },
  {
   "cell_type": "code",
   "execution_count": 15,
   "outputs": [],
   "source": [
    "orig_train_df = pd.read_csv('Oasis3_trainLabels.txt',names=['ID','label','extra'],sep='\\t',\n",
    "                            dtype={'ID':str,'label':int,'extra':int})\n",
    "orig_test_df = pd.read_csv('Oasis3_testLabels.txt', names=['ID', 'label', 'extra'], sep='\\t',\n",
    "                            dtype={'ID': str, 'label': int, 'extra': int})"
   ],
   "metadata": {
    "collapsed": false,
    "ExecuteTime": {
     "end_time": "2023-11-23T14:06:04.096281426Z",
     "start_time": "2023-11-23T14:06:03.381214244Z"
    }
   },
   "id": "750d28c07aa05bde"
  },
  {
   "cell_type": "code",
   "execution_count": 16,
   "outputs": [
    {
     "data": {
      "text/plain": "                                                       ID  label  extra  \\\n0       data/OASIS/OASIS3/train/NIFTI_SLICES/sub-OAS30...      0      0   \n1       data/OASIS/OASIS3/train/NIFTI_SLICES/sub-OAS30...      0      0   \n2       data/OASIS/OASIS3/train/NIFTI_SLICES/sub-OAS30...      0      0   \n3       data/OASIS/OASIS3/train/NIFTI_SLICES/sub-OAS30...      0      0   \n4       data/OASIS/OASIS3/train/NIFTI_SLICES/sub-OAS30...      0      0   \n...                                                   ...    ...    ...   \n459970  data/OASIS/OASIS3/train/NIFTI_SLICES/sub-OAS30...      0      0   \n459971  data/OASIS/OASIS3/train/NIFTI_SLICES/sub-OAS30...      0      0   \n459972  data/OASIS/OASIS3/train/NIFTI_SLICES/sub-OAS30...      0      0   \n459973  data/OASIS/OASIS3/train/NIFTI_SLICES/sub-OAS30...      0      0   \n459974  data/OASIS/OASIS3/train/NIFTI_SLICES/sub-OAS30...      0      0   \n\n                                                      sid  \n0            sub-OAS30333_ses-d141_acq-PIB_pet__s6.nii.gz  \n1               sub-OAS30335_ses-d2783_T2star__s18.nii.gz  \n2               sub-OAS30821_ses-d0068_T2star__s11.nii.gz  \n3       sub-OAS30250_sess-d3004_echo-2_run-01_fieldmap...  \n4         sub-OAS30445_ses-d0133_acq-AV45_pet__s14.nii.gz  \n...                                                   ...  \n459970      sub-OAS30505_ses-d4682_run-03_T1w__s17.nii.gz  \n459971         sub-OAS30705_sess-d2185_T2star__s22.nii.gz  \n459972              sub-OAS30758_ses-d0007_T2w__s7.nii.gz  \n459973              sub-OAS30704_ses-d0584_T2w__s6.nii.gz  \n459974  sub-OAS30032_ses-d3499_run-02_fieldmap__s1.nii.gz  \n\n[459975 rows x 4 columns]",
      "text/html": "<div>\n<style scoped>\n    .dataframe tbody tr th:only-of-type {\n        vertical-align: middle;\n    }\n\n    .dataframe tbody tr th {\n        vertical-align: top;\n    }\n\n    .dataframe thead th {\n        text-align: right;\n    }\n</style>\n<table border=\"1\" class=\"dataframe\">\n  <thead>\n    <tr style=\"text-align: right;\">\n      <th></th>\n      <th>ID</th>\n      <th>label</th>\n      <th>extra</th>\n      <th>sid</th>\n    </tr>\n  </thead>\n  <tbody>\n    <tr>\n      <th>0</th>\n      <td>data/OASIS/OASIS3/train/NIFTI_SLICES/sub-OAS30...</td>\n      <td>0</td>\n      <td>0</td>\n      <td>sub-OAS30333_ses-d141_acq-PIB_pet__s6.nii.gz</td>\n    </tr>\n    <tr>\n      <th>1</th>\n      <td>data/OASIS/OASIS3/train/NIFTI_SLICES/sub-OAS30...</td>\n      <td>0</td>\n      <td>0</td>\n      <td>sub-OAS30335_ses-d2783_T2star__s18.nii.gz</td>\n    </tr>\n    <tr>\n      <th>2</th>\n      <td>data/OASIS/OASIS3/train/NIFTI_SLICES/sub-OAS30...</td>\n      <td>0</td>\n      <td>0</td>\n      <td>sub-OAS30821_ses-d0068_T2star__s11.nii.gz</td>\n    </tr>\n    <tr>\n      <th>3</th>\n      <td>data/OASIS/OASIS3/train/NIFTI_SLICES/sub-OAS30...</td>\n      <td>0</td>\n      <td>0</td>\n      <td>sub-OAS30250_sess-d3004_echo-2_run-01_fieldmap...</td>\n    </tr>\n    <tr>\n      <th>4</th>\n      <td>data/OASIS/OASIS3/train/NIFTI_SLICES/sub-OAS30...</td>\n      <td>0</td>\n      <td>0</td>\n      <td>sub-OAS30445_ses-d0133_acq-AV45_pet__s14.nii.gz</td>\n    </tr>\n    <tr>\n      <th>...</th>\n      <td>...</td>\n      <td>...</td>\n      <td>...</td>\n      <td>...</td>\n    </tr>\n    <tr>\n      <th>459970</th>\n      <td>data/OASIS/OASIS3/train/NIFTI_SLICES/sub-OAS30...</td>\n      <td>0</td>\n      <td>0</td>\n      <td>sub-OAS30505_ses-d4682_run-03_T1w__s17.nii.gz</td>\n    </tr>\n    <tr>\n      <th>459971</th>\n      <td>data/OASIS/OASIS3/train/NIFTI_SLICES/sub-OAS30...</td>\n      <td>0</td>\n      <td>0</td>\n      <td>sub-OAS30705_sess-d2185_T2star__s22.nii.gz</td>\n    </tr>\n    <tr>\n      <th>459972</th>\n      <td>data/OASIS/OASIS3/train/NIFTI_SLICES/sub-OAS30...</td>\n      <td>0</td>\n      <td>0</td>\n      <td>sub-OAS30758_ses-d0007_T2w__s7.nii.gz</td>\n    </tr>\n    <tr>\n      <th>459973</th>\n      <td>data/OASIS/OASIS3/train/NIFTI_SLICES/sub-OAS30...</td>\n      <td>0</td>\n      <td>0</td>\n      <td>sub-OAS30704_ses-d0584_T2w__s6.nii.gz</td>\n    </tr>\n    <tr>\n      <th>459974</th>\n      <td>data/OASIS/OASIS3/train/NIFTI_SLICES/sub-OAS30...</td>\n      <td>0</td>\n      <td>0</td>\n      <td>sub-OAS30032_ses-d3499_run-02_fieldmap__s1.nii.gz</td>\n    </tr>\n  </tbody>\n</table>\n<p>459975 rows × 4 columns</p>\n</div>"
     },
     "execution_count": 16,
     "metadata": {},
     "output_type": "execute_result"
    }
   ],
   "source": [
    "orig_train_df['sid'] = orig_train_df['ID'].apply(lambda x: os.path.split(x)[1])\n",
    "orig_train_df"
   ],
   "metadata": {
    "collapsed": false,
    "ExecuteTime": {
     "end_time": "2023-11-23T14:06:04.546180556Z",
     "start_time": "2023-11-23T14:06:04.078021565Z"
    }
   },
   "id": "af180e748971f09d"
  },
  {
   "cell_type": "code",
   "execution_count": 17,
   "outputs": [
    {
     "data": {
      "text/plain": "                                                      ID  label  extra  \\\n0      data/OASIS/OASIS3/test/NIFTI_SLICES/sub-OAS303...      0      0   \n1      data/OASIS/OASIS3/test/NIFTI_SLICES/sub-OAS309...      0      0   \n2      data/OASIS/OASIS3/test/NIFTI_SLICES/sub-OAS303...      0      0   \n3      data/OASIS/OASIS3/test/NIFTI_SLICES/sub-OAS305...      0      0   \n4      data/OASIS/OASIS3/test/NIFTI_SLICES/sub-OAS303...      0      0   \n...                                                  ...    ...    ...   \n54370  data/OASIS/OASIS3/test/NIFTI_SLICES/sub-OAS305...      0      0   \n54371  data/OASIS/OASIS3/test/NIFTI_SLICES/sub-OAS309...      0      0   \n54372  data/OASIS/OASIS3/test/NIFTI_SLICES/sub-OAS302...      0      0   \n54373  data/OASIS/OASIS3/test/NIFTI_SLICES/sub-OAS302...      0      0   \n54374  data/OASIS/OASIS3/test/NIFTI_SLICES/sub-OAS302...      0      0   \n\n                                                     sid  \n0          sub-OAS30303_ses-d0910_run-02_T1w__s11.nii.gz  \n1                  sub-OAS30928_ses-d0177_T1w__s4.nii.gz  \n2          sub-OAS30371_ses-d0338_run-01_T1w__s19.nii.gz  \n3               sub-OAS30579_ses-d2400_T2star__s6.nii.gz  \n4      sub-OAS30376_ses-d0082_echo-2_run-01_fieldmap_...  \n...                                                  ...  \n54370  sub-OAS30579_sess-d3440_task-restingstateMB4_r...  \n54371           sub-OAS30900_ses-d0051_T2star__s7.nii.gz  \n54372  sub-OAS30251_ses-d0220_task-rest_run-03_bold__...  \n54373     sub-OAS30222_ses-d1100_acq-PIB_pet__s12.nii.gz  \n54374          sub-OAS30251_ses-d2954_T2star__s23.nii.gz  \n\n[54375 rows x 4 columns]",
      "text/html": "<div>\n<style scoped>\n    .dataframe tbody tr th:only-of-type {\n        vertical-align: middle;\n    }\n\n    .dataframe tbody tr th {\n        vertical-align: top;\n    }\n\n    .dataframe thead th {\n        text-align: right;\n    }\n</style>\n<table border=\"1\" class=\"dataframe\">\n  <thead>\n    <tr style=\"text-align: right;\">\n      <th></th>\n      <th>ID</th>\n      <th>label</th>\n      <th>extra</th>\n      <th>sid</th>\n    </tr>\n  </thead>\n  <tbody>\n    <tr>\n      <th>0</th>\n      <td>data/OASIS/OASIS3/test/NIFTI_SLICES/sub-OAS303...</td>\n      <td>0</td>\n      <td>0</td>\n      <td>sub-OAS30303_ses-d0910_run-02_T1w__s11.nii.gz</td>\n    </tr>\n    <tr>\n      <th>1</th>\n      <td>data/OASIS/OASIS3/test/NIFTI_SLICES/sub-OAS309...</td>\n      <td>0</td>\n      <td>0</td>\n      <td>sub-OAS30928_ses-d0177_T1w__s4.nii.gz</td>\n    </tr>\n    <tr>\n      <th>2</th>\n      <td>data/OASIS/OASIS3/test/NIFTI_SLICES/sub-OAS303...</td>\n      <td>0</td>\n      <td>0</td>\n      <td>sub-OAS30371_ses-d0338_run-01_T1w__s19.nii.gz</td>\n    </tr>\n    <tr>\n      <th>3</th>\n      <td>data/OASIS/OASIS3/test/NIFTI_SLICES/sub-OAS305...</td>\n      <td>0</td>\n      <td>0</td>\n      <td>sub-OAS30579_ses-d2400_T2star__s6.nii.gz</td>\n    </tr>\n    <tr>\n      <th>4</th>\n      <td>data/OASIS/OASIS3/test/NIFTI_SLICES/sub-OAS303...</td>\n      <td>0</td>\n      <td>0</td>\n      <td>sub-OAS30376_ses-d0082_echo-2_run-01_fieldmap_...</td>\n    </tr>\n    <tr>\n      <th>...</th>\n      <td>...</td>\n      <td>...</td>\n      <td>...</td>\n      <td>...</td>\n    </tr>\n    <tr>\n      <th>54370</th>\n      <td>data/OASIS/OASIS3/test/NIFTI_SLICES/sub-OAS305...</td>\n      <td>0</td>\n      <td>0</td>\n      <td>sub-OAS30579_sess-d3440_task-restingstateMB4_r...</td>\n    </tr>\n    <tr>\n      <th>54371</th>\n      <td>data/OASIS/OASIS3/test/NIFTI_SLICES/sub-OAS309...</td>\n      <td>0</td>\n      <td>0</td>\n      <td>sub-OAS30900_ses-d0051_T2star__s7.nii.gz</td>\n    </tr>\n    <tr>\n      <th>54372</th>\n      <td>data/OASIS/OASIS3/test/NIFTI_SLICES/sub-OAS302...</td>\n      <td>0</td>\n      <td>0</td>\n      <td>sub-OAS30251_ses-d0220_task-rest_run-03_bold__...</td>\n    </tr>\n    <tr>\n      <th>54373</th>\n      <td>data/OASIS/OASIS3/test/NIFTI_SLICES/sub-OAS302...</td>\n      <td>0</td>\n      <td>0</td>\n      <td>sub-OAS30222_ses-d1100_acq-PIB_pet__s12.nii.gz</td>\n    </tr>\n    <tr>\n      <th>54374</th>\n      <td>data/OASIS/OASIS3/test/NIFTI_SLICES/sub-OAS302...</td>\n      <td>0</td>\n      <td>0</td>\n      <td>sub-OAS30251_ses-d2954_T2star__s23.nii.gz</td>\n    </tr>\n  </tbody>\n</table>\n<p>54375 rows × 4 columns</p>\n</div>"
     },
     "execution_count": 17,
     "metadata": {},
     "output_type": "execute_result"
    }
   ],
   "source": [
    "orig_test_df['sid'] = orig_test_df['ID'].apply(lambda x: os.path.split(x)[1])\n",
    "orig_test_df"
   ],
   "metadata": {
    "collapsed": false,
    "ExecuteTime": {
     "end_time": "2023-11-23T14:06:04.630230625Z",
     "start_time": "2023-11-23T14:06:04.598545725Z"
    }
   },
   "id": "c9a4b15396395062"
  },
  {
   "cell_type": "code",
   "execution_count": 18,
   "outputs": [
    {
     "data": {
      "text/plain": "                                     NIFTI_slice_name         sid_x  \\\n0        sub-OAS30333_ses-d141_acq-PIB_pet__s6.nii.gz  sub-OAS30333   \n1        sub-OAS30333_ses-d141_acq-PIB_pet__s9.nii.gz  sub-OAS30333   \n2       sub-OAS30333_ses-d141_acq-PIB_pet__s22.nii.gz  sub-OAS30333   \n3        sub-OAS30333_ses-d141_acq-PIB_pet__s4.nii.gz  sub-OAS30333   \n4        sub-OAS30333_ses-d141_acq-PIB_pet__s7.nii.gz  sub-OAS30333   \n...                                               ...           ...   \n459970          sub-OAS30603_sess-d2253_CT__s1.nii.gz  sub-OAS30603   \n459971          sub-OAS30603_sess-d2253_CT__s3.nii.gz  sub-OAS30603   \n459972          sub-OAS30603_sess-d2253_CT__s4.nii.gz  sub-OAS30603   \n459973          sub-OAS30603_sess-d2253_CT__s5.nii.gz  sub-OAS30603   \n459974         sub-OAS30603_sess-d2253_CT__s16.nii.gz  sub-OAS30603   \n\n                                      NIFTI_name         sid_y  split  \\\n0       sub-OAS30333_ses-d141_acq-PIB_pet.nii.gz  sub-OAS30333  train   \n1       sub-OAS30333_ses-d141_acq-PIB_pet.nii.gz  sub-OAS30333  train   \n2       sub-OAS30333_ses-d141_acq-PIB_pet.nii.gz  sub-OAS30333  train   \n3       sub-OAS30333_ses-d141_acq-PIB_pet.nii.gz  sub-OAS30333  train   \n4       sub-OAS30333_ses-d141_acq-PIB_pet.nii.gz  sub-OAS30333  train   \n...                                          ...           ...    ...   \n459970         sub-OAS30603_sess-d2253_CT.nii.gz  sub-OAS30603  train   \n459971         sub-OAS30603_sess-d2253_CT.nii.gz  sub-OAS30603  train   \n459972         sub-OAS30603_sess-d2253_CT.nii.gz  sub-OAS30603  train   \n459973         sub-OAS30603_sess-d2253_CT.nii.gz  sub-OAS30603  train   \n459974         sub-OAS30603_sess-d2253_CT.nii.gz  sub-OAS30603  train   \n\n       description  label_x  \\\n0           NotMri       15   \n1           NotMri       15   \n2           NotMri       15   \n3           NotMri       15   \n4           NotMri       15   \n...            ...      ...   \n459970      NotMri       15   \n459971      NotMri       15   \n459972      NotMri       15   \n459973      NotMri       15   \n459974      NotMri       15   \n\n                                                       ID  label_y  extra  \\\n0       data/OASIS/OASIS3/train/NIFTI_SLICES/sub-OAS30...        0      0   \n1       data/OASIS/OASIS3/train/NIFTI_SLICES/sub-OAS30...        0      0   \n2       data/OASIS/OASIS3/train/NIFTI_SLICES/sub-OAS30...        0      0   \n3       data/OASIS/OASIS3/train/NIFTI_SLICES/sub-OAS30...        0      0   \n4       data/OASIS/OASIS3/train/NIFTI_SLICES/sub-OAS30...        0      0   \n...                                                   ...      ...    ...   \n459970  data/OASIS/OASIS3/train/NIFTI_SLICES/sub-OAS30...        0      0   \n459971  data/OASIS/OASIS3/train/NIFTI_SLICES/sub-OAS30...        0      0   \n459972  data/OASIS/OASIS3/train/NIFTI_SLICES/sub-OAS30...        0      0   \n459973  data/OASIS/OASIS3/train/NIFTI_SLICES/sub-OAS30...        0      0   \n459974  data/OASIS/OASIS3/train/NIFTI_SLICES/sub-OAS30...        0      0   \n\n                                                  sid  \n0        sub-OAS30333_ses-d141_acq-PIB_pet__s6.nii.gz  \n1        sub-OAS30333_ses-d141_acq-PIB_pet__s9.nii.gz  \n2       sub-OAS30333_ses-d141_acq-PIB_pet__s22.nii.gz  \n3        sub-OAS30333_ses-d141_acq-PIB_pet__s4.nii.gz  \n4        sub-OAS30333_ses-d141_acq-PIB_pet__s7.nii.gz  \n...                                               ...  \n459970          sub-OAS30603_sess-d2253_CT__s1.nii.gz  \n459971          sub-OAS30603_sess-d2253_CT__s3.nii.gz  \n459972          sub-OAS30603_sess-d2253_CT__s4.nii.gz  \n459973          sub-OAS30603_sess-d2253_CT__s5.nii.gz  \n459974         sub-OAS30603_sess-d2253_CT__s16.nii.gz  \n\n[459975 rows x 11 columns]",
      "text/html": "<div>\n<style scoped>\n    .dataframe tbody tr th:only-of-type {\n        vertical-align: middle;\n    }\n\n    .dataframe tbody tr th {\n        vertical-align: top;\n    }\n\n    .dataframe thead th {\n        text-align: right;\n    }\n</style>\n<table border=\"1\" class=\"dataframe\">\n  <thead>\n    <tr style=\"text-align: right;\">\n      <th></th>\n      <th>NIFTI_slice_name</th>\n      <th>sid_x</th>\n      <th>NIFTI_name</th>\n      <th>sid_y</th>\n      <th>split</th>\n      <th>description</th>\n      <th>label_x</th>\n      <th>ID</th>\n      <th>label_y</th>\n      <th>extra</th>\n      <th>sid</th>\n    </tr>\n  </thead>\n  <tbody>\n    <tr>\n      <th>0</th>\n      <td>sub-OAS30333_ses-d141_acq-PIB_pet__s6.nii.gz</td>\n      <td>sub-OAS30333</td>\n      <td>sub-OAS30333_ses-d141_acq-PIB_pet.nii.gz</td>\n      <td>sub-OAS30333</td>\n      <td>train</td>\n      <td>NotMri</td>\n      <td>15</td>\n      <td>data/OASIS/OASIS3/train/NIFTI_SLICES/sub-OAS30...</td>\n      <td>0</td>\n      <td>0</td>\n      <td>sub-OAS30333_ses-d141_acq-PIB_pet__s6.nii.gz</td>\n    </tr>\n    <tr>\n      <th>1</th>\n      <td>sub-OAS30333_ses-d141_acq-PIB_pet__s9.nii.gz</td>\n      <td>sub-OAS30333</td>\n      <td>sub-OAS30333_ses-d141_acq-PIB_pet.nii.gz</td>\n      <td>sub-OAS30333</td>\n      <td>train</td>\n      <td>NotMri</td>\n      <td>15</td>\n      <td>data/OASIS/OASIS3/train/NIFTI_SLICES/sub-OAS30...</td>\n      <td>0</td>\n      <td>0</td>\n      <td>sub-OAS30333_ses-d141_acq-PIB_pet__s9.nii.gz</td>\n    </tr>\n    <tr>\n      <th>2</th>\n      <td>sub-OAS30333_ses-d141_acq-PIB_pet__s22.nii.gz</td>\n      <td>sub-OAS30333</td>\n      <td>sub-OAS30333_ses-d141_acq-PIB_pet.nii.gz</td>\n      <td>sub-OAS30333</td>\n      <td>train</td>\n      <td>NotMri</td>\n      <td>15</td>\n      <td>data/OASIS/OASIS3/train/NIFTI_SLICES/sub-OAS30...</td>\n      <td>0</td>\n      <td>0</td>\n      <td>sub-OAS30333_ses-d141_acq-PIB_pet__s22.nii.gz</td>\n    </tr>\n    <tr>\n      <th>3</th>\n      <td>sub-OAS30333_ses-d141_acq-PIB_pet__s4.nii.gz</td>\n      <td>sub-OAS30333</td>\n      <td>sub-OAS30333_ses-d141_acq-PIB_pet.nii.gz</td>\n      <td>sub-OAS30333</td>\n      <td>train</td>\n      <td>NotMri</td>\n      <td>15</td>\n      <td>data/OASIS/OASIS3/train/NIFTI_SLICES/sub-OAS30...</td>\n      <td>0</td>\n      <td>0</td>\n      <td>sub-OAS30333_ses-d141_acq-PIB_pet__s4.nii.gz</td>\n    </tr>\n    <tr>\n      <th>4</th>\n      <td>sub-OAS30333_ses-d141_acq-PIB_pet__s7.nii.gz</td>\n      <td>sub-OAS30333</td>\n      <td>sub-OAS30333_ses-d141_acq-PIB_pet.nii.gz</td>\n      <td>sub-OAS30333</td>\n      <td>train</td>\n      <td>NotMri</td>\n      <td>15</td>\n      <td>data/OASIS/OASIS3/train/NIFTI_SLICES/sub-OAS30...</td>\n      <td>0</td>\n      <td>0</td>\n      <td>sub-OAS30333_ses-d141_acq-PIB_pet__s7.nii.gz</td>\n    </tr>\n    <tr>\n      <th>...</th>\n      <td>...</td>\n      <td>...</td>\n      <td>...</td>\n      <td>...</td>\n      <td>...</td>\n      <td>...</td>\n      <td>...</td>\n      <td>...</td>\n      <td>...</td>\n      <td>...</td>\n      <td>...</td>\n    </tr>\n    <tr>\n      <th>459970</th>\n      <td>sub-OAS30603_sess-d2253_CT__s1.nii.gz</td>\n      <td>sub-OAS30603</td>\n      <td>sub-OAS30603_sess-d2253_CT.nii.gz</td>\n      <td>sub-OAS30603</td>\n      <td>train</td>\n      <td>NotMri</td>\n      <td>15</td>\n      <td>data/OASIS/OASIS3/train/NIFTI_SLICES/sub-OAS30...</td>\n      <td>0</td>\n      <td>0</td>\n      <td>sub-OAS30603_sess-d2253_CT__s1.nii.gz</td>\n    </tr>\n    <tr>\n      <th>459971</th>\n      <td>sub-OAS30603_sess-d2253_CT__s3.nii.gz</td>\n      <td>sub-OAS30603</td>\n      <td>sub-OAS30603_sess-d2253_CT.nii.gz</td>\n      <td>sub-OAS30603</td>\n      <td>train</td>\n      <td>NotMri</td>\n      <td>15</td>\n      <td>data/OASIS/OASIS3/train/NIFTI_SLICES/sub-OAS30...</td>\n      <td>0</td>\n      <td>0</td>\n      <td>sub-OAS30603_sess-d2253_CT__s3.nii.gz</td>\n    </tr>\n    <tr>\n      <th>459972</th>\n      <td>sub-OAS30603_sess-d2253_CT__s4.nii.gz</td>\n      <td>sub-OAS30603</td>\n      <td>sub-OAS30603_sess-d2253_CT.nii.gz</td>\n      <td>sub-OAS30603</td>\n      <td>train</td>\n      <td>NotMri</td>\n      <td>15</td>\n      <td>data/OASIS/OASIS3/train/NIFTI_SLICES/sub-OAS30...</td>\n      <td>0</td>\n      <td>0</td>\n      <td>sub-OAS30603_sess-d2253_CT__s4.nii.gz</td>\n    </tr>\n    <tr>\n      <th>459973</th>\n      <td>sub-OAS30603_sess-d2253_CT__s5.nii.gz</td>\n      <td>sub-OAS30603</td>\n      <td>sub-OAS30603_sess-d2253_CT.nii.gz</td>\n      <td>sub-OAS30603</td>\n      <td>train</td>\n      <td>NotMri</td>\n      <td>15</td>\n      <td>data/OASIS/OASIS3/train/NIFTI_SLICES/sub-OAS30...</td>\n      <td>0</td>\n      <td>0</td>\n      <td>sub-OAS30603_sess-d2253_CT__s5.nii.gz</td>\n    </tr>\n    <tr>\n      <th>459974</th>\n      <td>sub-OAS30603_sess-d2253_CT__s16.nii.gz</td>\n      <td>sub-OAS30603</td>\n      <td>sub-OAS30603_sess-d2253_CT.nii.gz</td>\n      <td>sub-OAS30603</td>\n      <td>train</td>\n      <td>NotMri</td>\n      <td>15</td>\n      <td>data/OASIS/OASIS3/train/NIFTI_SLICES/sub-OAS30...</td>\n      <td>0</td>\n      <td>0</td>\n      <td>sub-OAS30603_sess-d2253_CT__s16.nii.gz</td>\n    </tr>\n  </tbody>\n</table>\n<p>459975 rows × 11 columns</p>\n</div>"
     },
     "execution_count": 18,
     "metadata": {},
     "output_type": "execute_result"
    }
   ],
   "source": [
    "train_df_merged = train_df.merge(orig_train_df, left_on='NIFTI_slice_name', right_on='sid', how='inner')\n",
    "train_df_merged"
   ],
   "metadata": {
    "collapsed": false,
    "ExecuteTime": {
     "end_time": "2023-11-23T14:06:05.062657334Z",
     "start_time": "2023-11-23T14:06:04.603148824Z"
    }
   },
   "id": "ea52c677c5fb004f"
  },
  {
   "cell_type": "code",
   "execution_count": 19,
   "outputs": [
    {
     "data": {
      "text/plain": "                                       NIFTI_slice_name         sid_x  \\\n0         sub-OAS30303_ses-d0910_run-02_T1w__s11.nii.gz  sub-OAS30303   \n1         sub-OAS30303_ses-d0910_run-02_T1w__s22.nii.gz  sub-OAS30303   \n2         sub-OAS30303_ses-d0910_run-02_T1w__s23.nii.gz  sub-OAS30303   \n3         sub-OAS30303_ses-d0910_run-02_T1w__s14.nii.gz  sub-OAS30303   \n4         sub-OAS30303_ses-d0910_run-02_T1w__s21.nii.gz  sub-OAS30303   \n...                                                 ...           ...   \n54370  sub-OAS30579_sess-d3440_run-01_FLAIR__s14.nii.gz  sub-OAS30579   \n54371   sub-OAS30579_sess-d3440_run-01_FLAIR__s0.nii.gz  sub-OAS30579   \n54372   sub-OAS30579_sess-d3440_run-01_FLAIR__s2.nii.gz  sub-OAS30579   \n54373   sub-OAS30579_sess-d3440_run-01_FLAIR__s6.nii.gz  sub-OAS30579   \n54374   sub-OAS30579_sess-d3440_run-01_FLAIR__s1.nii.gz  sub-OAS30579   \n\n                                        NIFTI_name         sid_y split  \\\n0         sub-OAS30303_ses-d0910_run-02_T1w.nii.gz  sub-OAS30303  test   \n1         sub-OAS30303_ses-d0910_run-02_T1w.nii.gz  sub-OAS30303  test   \n2         sub-OAS30303_ses-d0910_run-02_T1w.nii.gz  sub-OAS30303  test   \n3         sub-OAS30303_ses-d0910_run-02_T1w.nii.gz  sub-OAS30303  test   \n4         sub-OAS30303_ses-d0910_run-02_T1w.nii.gz  sub-OAS30303  test   \n...                                            ...           ...   ...   \n54370  sub-OAS30579_sess-d3440_run-01_FLAIR.nii.gz  sub-OAS30579  test   \n54371  sub-OAS30579_sess-d3440_run-01_FLAIR.nii.gz  sub-OAS30579  test   \n54372  sub-OAS30579_sess-d3440_run-01_FLAIR.nii.gz  sub-OAS30579  test   \n54373  sub-OAS30579_sess-d3440_run-01_FLAIR.nii.gz  sub-OAS30579  test   \n54374  sub-OAS30579_sess-d3440_run-01_FLAIR.nii.gz  sub-OAS30579  test   \n\n      description  label_x                                                 ID  \\\n0             T1w        0  data/OASIS/OASIS3/test/NIFTI_SLICES/sub-OAS303...   \n1             T1w        0  data/OASIS/OASIS3/test/NIFTI_SLICES/sub-OAS303...   \n2             T1w        0  data/OASIS/OASIS3/test/NIFTI_SLICES/sub-OAS303...   \n3             T1w        0  data/OASIS/OASIS3/test/NIFTI_SLICES/sub-OAS303...   \n4             T1w        0  data/OASIS/OASIS3/test/NIFTI_SLICES/sub-OAS303...   \n...           ...      ...                                                ...   \n54370    T2-FLAIR        3  data/OASIS/OASIS3/test/NIFTI_SLICES/sub-OAS305...   \n54371    T2-FLAIR        3  data/OASIS/OASIS3/test/NIFTI_SLICES/sub-OAS305...   \n54372    T2-FLAIR        3  data/OASIS/OASIS3/test/NIFTI_SLICES/sub-OAS305...   \n54373    T2-FLAIR        3  data/OASIS/OASIS3/test/NIFTI_SLICES/sub-OAS305...   \n54374    T2-FLAIR        3  data/OASIS/OASIS3/test/NIFTI_SLICES/sub-OAS305...   \n\n       label_y  extra                                               sid  \n0            0      0     sub-OAS30303_ses-d0910_run-02_T1w__s11.nii.gz  \n1            0      0     sub-OAS30303_ses-d0910_run-02_T1w__s22.nii.gz  \n2            0      0     sub-OAS30303_ses-d0910_run-02_T1w__s23.nii.gz  \n3            0      0     sub-OAS30303_ses-d0910_run-02_T1w__s14.nii.gz  \n4            0      0     sub-OAS30303_ses-d0910_run-02_T1w__s21.nii.gz  \n...        ...    ...                                               ...  \n54370        0      0  sub-OAS30579_sess-d3440_run-01_FLAIR__s14.nii.gz  \n54371        0      0   sub-OAS30579_sess-d3440_run-01_FLAIR__s0.nii.gz  \n54372        0      0   sub-OAS30579_sess-d3440_run-01_FLAIR__s2.nii.gz  \n54373        0      0   sub-OAS30579_sess-d3440_run-01_FLAIR__s6.nii.gz  \n54374        0      0   sub-OAS30579_sess-d3440_run-01_FLAIR__s1.nii.gz  \n\n[54375 rows x 11 columns]",
      "text/html": "<div>\n<style scoped>\n    .dataframe tbody tr th:only-of-type {\n        vertical-align: middle;\n    }\n\n    .dataframe tbody tr th {\n        vertical-align: top;\n    }\n\n    .dataframe thead th {\n        text-align: right;\n    }\n</style>\n<table border=\"1\" class=\"dataframe\">\n  <thead>\n    <tr style=\"text-align: right;\">\n      <th></th>\n      <th>NIFTI_slice_name</th>\n      <th>sid_x</th>\n      <th>NIFTI_name</th>\n      <th>sid_y</th>\n      <th>split</th>\n      <th>description</th>\n      <th>label_x</th>\n      <th>ID</th>\n      <th>label_y</th>\n      <th>extra</th>\n      <th>sid</th>\n    </tr>\n  </thead>\n  <tbody>\n    <tr>\n      <th>0</th>\n      <td>sub-OAS30303_ses-d0910_run-02_T1w__s11.nii.gz</td>\n      <td>sub-OAS30303</td>\n      <td>sub-OAS30303_ses-d0910_run-02_T1w.nii.gz</td>\n      <td>sub-OAS30303</td>\n      <td>test</td>\n      <td>T1w</td>\n      <td>0</td>\n      <td>data/OASIS/OASIS3/test/NIFTI_SLICES/sub-OAS303...</td>\n      <td>0</td>\n      <td>0</td>\n      <td>sub-OAS30303_ses-d0910_run-02_T1w__s11.nii.gz</td>\n    </tr>\n    <tr>\n      <th>1</th>\n      <td>sub-OAS30303_ses-d0910_run-02_T1w__s22.nii.gz</td>\n      <td>sub-OAS30303</td>\n      <td>sub-OAS30303_ses-d0910_run-02_T1w.nii.gz</td>\n      <td>sub-OAS30303</td>\n      <td>test</td>\n      <td>T1w</td>\n      <td>0</td>\n      <td>data/OASIS/OASIS3/test/NIFTI_SLICES/sub-OAS303...</td>\n      <td>0</td>\n      <td>0</td>\n      <td>sub-OAS30303_ses-d0910_run-02_T1w__s22.nii.gz</td>\n    </tr>\n    <tr>\n      <th>2</th>\n      <td>sub-OAS30303_ses-d0910_run-02_T1w__s23.nii.gz</td>\n      <td>sub-OAS30303</td>\n      <td>sub-OAS30303_ses-d0910_run-02_T1w.nii.gz</td>\n      <td>sub-OAS30303</td>\n      <td>test</td>\n      <td>T1w</td>\n      <td>0</td>\n      <td>data/OASIS/OASIS3/test/NIFTI_SLICES/sub-OAS303...</td>\n      <td>0</td>\n      <td>0</td>\n      <td>sub-OAS30303_ses-d0910_run-02_T1w__s23.nii.gz</td>\n    </tr>\n    <tr>\n      <th>3</th>\n      <td>sub-OAS30303_ses-d0910_run-02_T1w__s14.nii.gz</td>\n      <td>sub-OAS30303</td>\n      <td>sub-OAS30303_ses-d0910_run-02_T1w.nii.gz</td>\n      <td>sub-OAS30303</td>\n      <td>test</td>\n      <td>T1w</td>\n      <td>0</td>\n      <td>data/OASIS/OASIS3/test/NIFTI_SLICES/sub-OAS303...</td>\n      <td>0</td>\n      <td>0</td>\n      <td>sub-OAS30303_ses-d0910_run-02_T1w__s14.nii.gz</td>\n    </tr>\n    <tr>\n      <th>4</th>\n      <td>sub-OAS30303_ses-d0910_run-02_T1w__s21.nii.gz</td>\n      <td>sub-OAS30303</td>\n      <td>sub-OAS30303_ses-d0910_run-02_T1w.nii.gz</td>\n      <td>sub-OAS30303</td>\n      <td>test</td>\n      <td>T1w</td>\n      <td>0</td>\n      <td>data/OASIS/OASIS3/test/NIFTI_SLICES/sub-OAS303...</td>\n      <td>0</td>\n      <td>0</td>\n      <td>sub-OAS30303_ses-d0910_run-02_T1w__s21.nii.gz</td>\n    </tr>\n    <tr>\n      <th>...</th>\n      <td>...</td>\n      <td>...</td>\n      <td>...</td>\n      <td>...</td>\n      <td>...</td>\n      <td>...</td>\n      <td>...</td>\n      <td>...</td>\n      <td>...</td>\n      <td>...</td>\n      <td>...</td>\n    </tr>\n    <tr>\n      <th>54370</th>\n      <td>sub-OAS30579_sess-d3440_run-01_FLAIR__s14.nii.gz</td>\n      <td>sub-OAS30579</td>\n      <td>sub-OAS30579_sess-d3440_run-01_FLAIR.nii.gz</td>\n      <td>sub-OAS30579</td>\n      <td>test</td>\n      <td>T2-FLAIR</td>\n      <td>3</td>\n      <td>data/OASIS/OASIS3/test/NIFTI_SLICES/sub-OAS305...</td>\n      <td>0</td>\n      <td>0</td>\n      <td>sub-OAS30579_sess-d3440_run-01_FLAIR__s14.nii.gz</td>\n    </tr>\n    <tr>\n      <th>54371</th>\n      <td>sub-OAS30579_sess-d3440_run-01_FLAIR__s0.nii.gz</td>\n      <td>sub-OAS30579</td>\n      <td>sub-OAS30579_sess-d3440_run-01_FLAIR.nii.gz</td>\n      <td>sub-OAS30579</td>\n      <td>test</td>\n      <td>T2-FLAIR</td>\n      <td>3</td>\n      <td>data/OASIS/OASIS3/test/NIFTI_SLICES/sub-OAS305...</td>\n      <td>0</td>\n      <td>0</td>\n      <td>sub-OAS30579_sess-d3440_run-01_FLAIR__s0.nii.gz</td>\n    </tr>\n    <tr>\n      <th>54372</th>\n      <td>sub-OAS30579_sess-d3440_run-01_FLAIR__s2.nii.gz</td>\n      <td>sub-OAS30579</td>\n      <td>sub-OAS30579_sess-d3440_run-01_FLAIR.nii.gz</td>\n      <td>sub-OAS30579</td>\n      <td>test</td>\n      <td>T2-FLAIR</td>\n      <td>3</td>\n      <td>data/OASIS/OASIS3/test/NIFTI_SLICES/sub-OAS305...</td>\n      <td>0</td>\n      <td>0</td>\n      <td>sub-OAS30579_sess-d3440_run-01_FLAIR__s2.nii.gz</td>\n    </tr>\n    <tr>\n      <th>54373</th>\n      <td>sub-OAS30579_sess-d3440_run-01_FLAIR__s6.nii.gz</td>\n      <td>sub-OAS30579</td>\n      <td>sub-OAS30579_sess-d3440_run-01_FLAIR.nii.gz</td>\n      <td>sub-OAS30579</td>\n      <td>test</td>\n      <td>T2-FLAIR</td>\n      <td>3</td>\n      <td>data/OASIS/OASIS3/test/NIFTI_SLICES/sub-OAS305...</td>\n      <td>0</td>\n      <td>0</td>\n      <td>sub-OAS30579_sess-d3440_run-01_FLAIR__s6.nii.gz</td>\n    </tr>\n    <tr>\n      <th>54374</th>\n      <td>sub-OAS30579_sess-d3440_run-01_FLAIR__s1.nii.gz</td>\n      <td>sub-OAS30579</td>\n      <td>sub-OAS30579_sess-d3440_run-01_FLAIR.nii.gz</td>\n      <td>sub-OAS30579</td>\n      <td>test</td>\n      <td>T2-FLAIR</td>\n      <td>3</td>\n      <td>data/OASIS/OASIS3/test/NIFTI_SLICES/sub-OAS305...</td>\n      <td>0</td>\n      <td>0</td>\n      <td>sub-OAS30579_sess-d3440_run-01_FLAIR__s1.nii.gz</td>\n    </tr>\n  </tbody>\n</table>\n<p>54375 rows × 11 columns</p>\n</div>"
     },
     "execution_count": 19,
     "metadata": {},
     "output_type": "execute_result"
    }
   ],
   "source": [
    "test_df_merged = test_df.merge(orig_test_df, left_on='NIFTI_slice_name', right_on='sid', how='inner')\n",
    "test_df_merged"
   ],
   "metadata": {
    "collapsed": false,
    "ExecuteTime": {
     "end_time": "2023-11-23T14:06:05.160253392Z",
     "start_time": "2023-11-23T14:06:05.081617798Z"
    }
   },
   "id": "59d921e4df34d191"
  },
  {
   "cell_type": "code",
   "execution_count": 20,
   "outputs": [],
   "source": [
    "train_df_merged[['ID','label_x','extra']].to_csv('Oasis3_trainLabels_extensive3.txt',index=False, header=False, sep='\\t')\n",
    "test_df_merged[['ID','label_x','extra']].to_csv('Oasis3_testLabels_extensive3.txt',index=False, header=False, sep='\\t')"
   ],
   "metadata": {
    "collapsed": false,
    "ExecuteTime": {
     "end_time": "2023-11-23T14:06:06.352033970Z",
     "start_time": "2023-11-23T14:06:05.129101682Z"
    }
   },
   "id": "43b9310fc06e345b"
  },
  {
   "cell_type": "code",
   "execution_count": 20,
   "outputs": [],
   "source": [],
   "metadata": {
    "collapsed": false,
    "ExecuteTime": {
     "end_time": "2023-11-23T14:06:06.397823606Z",
     "start_time": "2023-11-23T14:06:06.350824188Z"
    }
   },
   "id": "26a293353c995c91"
  },
  {
   "cell_type": "code",
   "execution_count": 20,
   "outputs": [],
   "source": [],
   "metadata": {
    "collapsed": false,
    "ExecuteTime": {
     "end_time": "2023-11-23T14:06:06.398513787Z",
     "start_time": "2023-11-23T14:06:06.397377036Z"
    }
   },
   "id": "95911d030384dab7"
  }
 ],
 "metadata": {
  "kernelspec": {
   "display_name": "Python 3",
   "language": "python",
   "name": "python3"
  },
  "language_info": {
   "codemirror_mode": {
    "name": "ipython",
    "version": 2
   },
   "file_extension": ".py",
   "mimetype": "text/x-python",
   "name": "python",
   "nbconvert_exporter": "python",
   "pygments_lexer": "ipython2",
   "version": "2.7.6"
  }
 },
 "nbformat": 4,
 "nbformat_minor": 5
}
