{
 "cells": [
  {
   "cell_type": "code",
   "execution_count": 21,
   "id": "initial_id",
   "metadata": {
    "collapsed": true,
    "ExecuteTime": {
     "end_time": "2023-10-31T10:45:08.205653027Z",
     "start_time": "2023-10-31T10:45:07.685969592Z"
    }
   },
   "outputs": [],
   "source": [
    "import matplotlib.pyplot as plt\n",
    "import torchvision\n",
    "from torchview import draw_graph\n",
    "from torchviz import make_dot\n",
    "import torch.nn as nn\n",
    "import torch.nn.functional as F\n",
    "import torch\n",
    "import matplotlib.pyplot as plt"
   ]
  },
  {
   "cell_type": "code",
   "execution_count": 18,
   "outputs": [],
   "source": [
    "class Net(nn.Module): #first version ignores the additional 4d parameter but should be easy to add later\n",
    "    def __init__(self, n_outputclasses=6):\n",
    "        super(Net, self).__init__()\n",
    "        self.conv1 = nn.Conv2d(in_channels=1, out_channels=32, kernel_size=5, stride=1, padding=0)\n",
    "        self.conv2 = nn.Conv2d(in_channels=32, out_channels=32, kernel_size=5, stride=1, padding=0)\n",
    "        self.conv3 = nn.Conv2d(in_channels=32, out_channels=64, kernel_size=5, stride=1, padding=0)\n",
    "        self.conv4 = nn.Conv2d(in_channels=64, out_channels=64, kernel_size=5, stride=1, padding=0)\n",
    "        self.conv5 = nn.Conv2d(in_channels=64, out_channels=64, kernel_size=5, stride=1, padding=0)\n",
    "        self.conv6 = nn.Conv2d(in_channels=64, out_channels=64, kernel_size=5, stride=1, padding=0)\n",
    "        self.maxpool12 = nn.MaxPool2d(kernel_size=3,stride=3,padding=0)\n",
    "        self.maxpool34 = nn.MaxPool2d(kernel_size=3,stride=3,padding=0)\n",
    "        self.maxpool56 = nn.MaxPool2d(kernel_size=3,stride=3,padding=0)\n",
    "        self.relu1 = nn.PReLU(num_parameters=32,init=0.25) #check with paper\n",
    "        self.relu2 = nn.PReLU(num_parameters=32,init=0.25)\n",
    "        self.relu3 = nn.PReLU(num_parameters=64,init=0.25)\n",
    "        self.relu4 = nn.PReLU(num_parameters=64,init=0.25)\n",
    "        self.relu5 = nn.PReLU(num_parameters=64,init=0.25)\n",
    "        self.relu6 = nn.PReLU(num_parameters=64,init=0.25)\n",
    "        self.batchnorm32_1 = nn.BatchNorm2d(num_features=32)\n",
    "        self.batchnorm32_2 = nn.BatchNorm2d(num_features=32)\n",
    "        self.batchnorm64_3 = nn.BatchNorm2d(num_features=64)\n",
    "        self.batchnorm64_4 = nn.BatchNorm2d(num_features=64)\n",
    "        self.batchnorm64_5 = nn.BatchNorm2d(num_features=64)\n",
    "        self.batchnorm64_6 = nn.BatchNorm2d(num_features=64)\n",
    "        self.droput1 = nn.Dropout(p=0.4)\n",
    "        self.droput2 = nn.Dropout(p=0.4)\n",
    "        self.fc1 = nn.Linear(in_features=1600, out_features=1024)\n",
    "        self.fc2 = nn.Linear(in_features=1024, out_features=n_outputclasses) #this needs to be adapted to the target classes\n",
    "        self.flatten = nn.Flatten()\n",
    "\n",
    "    def forward(self, x):\n",
    "        x = self.conv1(x)\n",
    "        x = self.batchnorm32_1(x)\n",
    "        x = self.relu1(x)\n",
    "        x = self.conv2(x)\n",
    "        x = self.batchnorm32_2(x)\n",
    "        x = self.relu2(x)\n",
    "        x = self.maxpool12(x)\n",
    "        x = self.conv3(x)\n",
    "        x = self.batchnorm64_3(x)\n",
    "        x = self.relu3(x)\n",
    "        x = self.conv4(x)\n",
    "        x = self.batchnorm64_4(x)\n",
    "        x = self.relu4(x)\n",
    "        x = self.maxpool34(x)\n",
    "        x = self.conv5(x)\n",
    "        x = self.batchnorm64_5(x)\n",
    "        x = self.relu5(x)\n",
    "        x = self.conv6(x)\n",
    "        x = self.batchnorm64_6(x)\n",
    "        x = self.relu6(x)\n",
    "        x = self.maxpool56(x)\n",
    "        x = self.flatten(x)\n",
    "        x = self.droput1(x)\n",
    "        x = self.fc1(x)\n",
    "        x = F.relu(x)\n",
    "        x = self.droput2(x)\n",
    "        x = self.fc2(x)\n",
    "        output = F.softmax(x,dim=1)\n",
    "        return output"
   ],
   "metadata": {
    "collapsed": false,
    "ExecuteTime": {
     "end_time": "2023-10-31T10:44:23.574330796Z",
     "start_time": "2023-10-31T10:44:23.527622169Z"
    }
   },
   "id": "77ccfb552189a548"
  },
  {
   "cell_type": "code",
   "execution_count": 24,
   "outputs": [
    {
     "data": {
      "text/plain": "'DDS_ModelGraph.png'"
     },
     "execution_count": 24,
     "metadata": {},
     "output_type": "execute_result"
    }
   ],
   "source": [
    "model = Net()\n",
    "x = torch.zeros(1, 1, 256, 256, dtype=torch.float, requires_grad=True)\n",
    "out = model(x)\n",
    "dot = make_dot(out, params=dict(model.named_parameters()))\n",
    "dot.format = 'png'\n",
    "dot.render('DDS_ModelGraph')"
   ],
   "metadata": {
    "collapsed": false,
    "ExecuteTime": {
     "end_time": "2023-10-31T10:48:53.891474263Z",
     "start_time": "2023-10-31T10:48:53.445752064Z"
    }
   },
   "id": "b13117445c697dc9"
  },
  {
   "cell_type": "code",
   "execution_count": null,
   "outputs": [],
   "source": [],
   "metadata": {
    "collapsed": false
   },
   "id": "7e12cb59d03b7fa9"
  }
 ],
 "metadata": {
  "kernelspec": {
   "display_name": "Python 3",
   "language": "python",
   "name": "python3"
  },
  "language_info": {
   "codemirror_mode": {
    "name": "ipython",
    "version": 2
   },
   "file_extension": ".py",
   "mimetype": "text/x-python",
   "name": "python",
   "nbconvert_exporter": "python",
   "pygments_lexer": "ipython2",
   "version": "2.7.6"
  }
 },
 "nbformat": 4,
 "nbformat_minor": 5
}
