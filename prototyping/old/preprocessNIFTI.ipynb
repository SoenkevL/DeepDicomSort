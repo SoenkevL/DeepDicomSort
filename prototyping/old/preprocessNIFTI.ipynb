{
 "cells": [
  {
   "cell_type": "code",
   "execution_count": 1,
   "id": "initial_id",
   "metadata": {
    "collapsed": true,
    "ExecuteTime": {
     "end_time": "2023-09-25T09:56:31.811005861Z",
     "start_time": "2023-09-25T09:56:29.757466154Z"
    }
   },
   "outputs": [],
   "source": [
    "import pandas as pd\n",
    "import monai\n",
    "import os\n",
    "import numpy as np\n",
    "import dcm2niix\n",
    "import pydicom\n",
    "import shutil\n",
    "from pydicom.errors import InvalidDicomError\n",
    "from tqdm import tqdm\n",
    "import nibabel as nib\n",
    "import SimpleITK as sitk\n",
    "from Preprocessing import NIFTI_preparation_functions as nifp\n",
    "from Preprocessing import DICOM_preparation_functions as dicp\n",
    "import yaml\n",
    "from monai.transforms import  SaveImage\n",
    "from sklearn.model_selection import train_test_split\n",
    "import matplotlib.pyplot as plt\n",
    "import pprint"
   ]
  },
  {
   "cell_type": "code",
   "execution_count": 2,
   "outputs": [],
   "source": [
    "with open('./config_Small.yaml', 'r') as ymlfile:\n",
    "    cfg = yaml.safe_load(ymlfile)\n",
    "\n",
    "x_image_size = cfg['data_preparation']['image_size_x']\n",
    "y_image_size = cfg['data_preparation']['image_size_y']\n",
    "z_image_size = cfg['data_preparation']['image_size_z']\n",
    "DICOM_FOLDER = cfg['preprocessing']['root_dicom_folder']"
   ],
   "metadata": {
    "collapsed": false,
    "ExecuteTime": {
     "end_time": "2023-09-25T09:56:31.818316786Z",
     "start_time": "2023-09-25T09:56:31.816337437Z"
    }
   },
   "id": "96b80ed78054ae4"
  },
  {
   "cell_type": "code",
   "execution_count": 3,
   "outputs": [],
   "source": [
    "root_dataFolder = os.path.split(DICOM_FOLDER)[0]"
   ],
   "metadata": {
    "collapsed": false,
    "ExecuteTime": {
     "end_time": "2023-09-25T09:56:31.826786146Z",
     "start_time": "2023-09-25T09:56:31.820464073Z"
    }
   },
   "id": "94880e1733f0ce3d"
  },
  {
   "cell_type": "code",
   "execution_count": 4,
   "outputs": [],
   "source": [
    "Dataset_direc = None\n",
    "NIFTI_direc = os.path.join(root_dataFolder,'NIFTI')\n",
    "NIFIT_slices_direc = os.path.join(root_dataFolder,'NIFTI_SLICES')\n",
    "if not os.path.exists(NIFTI_direc):\n",
    "    os.mkdir(NIFTI_direc)\n",
    "if not os.path.exists(NIFIT_slices_direc):\n",
    "    os.mkdir(NIFIT_slices_direc)"
   ],
   "metadata": {
    "collapsed": false,
    "ExecuteTime": {
     "end_time": "2023-09-25T09:56:31.839073051Z",
     "start_time": "2023-09-25T09:56:31.828844965Z"
    }
   },
   "id": "66f1b30e04c09b57"
  },
  {
   "cell_type": "code",
   "execution_count": 5,
   "outputs": [],
   "source": [
    "if Dataset_direc:\n",
    "    for root, dirs, files in os.walk(Dataset_direc):\n",
    "        for i_file in files:\n",
    "            if '.nii.gz' in i_file:\n",
    "                filepath = os.path.join(root,i_file)\n",
    "                shutil.move(filepath,os.path.join(NIFTI_direc,i_file))\n",
    "            if '.dcm' in i_file:\n",
    "                filepath = os.path.join(root,i_file)\n",
    "                shutil.move(filepath,os.path.join(DICOM_FOLDER,i_file))"
   ],
   "metadata": {
    "collapsed": false,
    "ExecuteTime": {
     "end_time": "2023-09-25T09:56:31.877625643Z",
     "start_time": "2023-09-25T09:56:31.835488194Z"
    }
   },
   "id": "f0d28ffb78459db6"
  },
  {
   "cell_type": "code",
   "execution_count": 6,
   "outputs": [
    {
     "data": {
      "text/plain": "'../data_small/DICOM_STRUCTURED'"
     },
     "execution_count": 6,
     "metadata": {},
     "output_type": "execute_result"
    }
   ],
   "source": [
    "dicp.sort_DICOM_to_structured_folders(root_dir=DICOM_FOLDER)"
   ],
   "metadata": {
    "collapsed": false,
    "ExecuteTime": {
     "end_time": "2023-09-25T09:56:31.998136664Z",
     "start_time": "2023-09-25T09:56:31.877506529Z"
    }
   },
   "id": "c0ab91175d8da300"
  },
  {
   "cell_type": "code",
   "execution_count": 7,
   "outputs": [
    {
     "name": "stdout",
     "output_type": "stream",
     "text": [
      "Chris Rorden's dcm2niiX version v1.0.20220505  GCC11.4.0 x86-64 (64-bit Linux)\n",
      "n.b. Setting directory search depth of zero invokes internal gz (network mode)\n",
      "Found 22 DICOM file(s)\n",
      "Maximizing 16-bit range: raw 0..939 is34\n",
      "Convert 22 DICOM as ../data_small/TEMP/20061201_MR_2.16.840.1.113669.632.20.1211.10000357775_1.3.46.670589.11.0.0.11.4.2.0.8743.5.5396.2006120114262848496 (512x512x22x1)\n",
      "Conversion required 0.506444 seconds (0.506425 for core code).\n",
      "Chris Rorden's dcm2niiX version v1.0.20220505  GCC11.4.0 x86-64 (64-bit Linux)\n",
      "n.b. Setting directory search depth of zero invokes internal gz (network mode)\n",
      "Found 22 DICOM file(s)\n",
      "Maximizing 16-bit range: raw 0..1884 is16\n",
      "Convert 22 DICOM as ../data_small/TEMP/20061201_MR_2.16.840.1.113669.632.20.1211.10000357775_1.3.46.670589.11.0.0.11.4.2.0.8743.5.5396.2006120114333440565 (512x512x22x1)\n",
      "Conversion required 0.953499 seconds (0.953455 for core code).\n",
      "Chris Rorden's dcm2niiX version v1.0.20220505  GCC11.4.0 x86-64 (64-bit Linux)\n",
      "n.b. Setting directory search depth of zero invokes internal gz (network mode)\n",
      "Found 22 DICOM file(s)\n",
      "Maximizing 16-bit range: raw max 1 is64000\n",
      "Convert 22 DICOM as ../data_small/TEMP/20061201_MR_2.16.840.1.113669.632.20.1211.10000357775_1.3.6.1.4.1.19291.2.1.2.1204919319049206430683029813 (288x288x22x1)\n",
      "Conversion required 0.034364 seconds (0.034361 for core code).\n",
      "Chris Rorden's dcm2niiX version v1.0.20220505  GCC11.4.0 x86-64 (64-bit Linux)\n",
      "n.b. Setting directory search depth of zero invokes internal gz (network mode)\n",
      "Found 22 DICOM file(s)\n",
      "Maximizing 16-bit range: raw 0..1026 is31\n",
      "Convert 22 DICOM as ../data_small/TEMP/20061201_MR_2.16.840.1.113669.632.20.1211.10000357775_1.3.46.670589.11.0.0.11.4.2.0.8743.5.5396.2006120114285654497 (288x288x22x1)\n",
      "Conversion required 0.202690 seconds (0.202685 for core code).\n"
     ]
    },
    {
     "data": {
      "text/plain": "'../data_small/NIFTI'"
     },
     "execution_count": 7,
     "metadata": {},
     "output_type": "execute_result"
    }
   ],
   "source": [
    "nifp.convert_DICOM_to_NIFTI(root_dir='../data_small/DICOM_STRUCTURED')"
   ],
   "metadata": {
    "collapsed": false,
    "ExecuteTime": {
     "end_time": "2023-09-25T09:56:33.827372059Z",
     "start_time": "2023-09-25T09:56:31.999804003Z"
    }
   },
   "id": "56f9e3828569be43"
  },
  {
   "cell_type": "code",
   "execution_count": 8,
   "outputs": [
    {
     "name": "stderr",
     "output_type": "stream",
     "text": [
      "0it [00:00, ?it/s]\n",
      "100%|██████████| 4/4 [00:00<00:00, 25.10it/s]\n"
     ]
    }
   ],
   "source": [
    "images_4D_file = nifp.extract_4D_images(NIFTI_direc)"
   ],
   "metadata": {
    "collapsed": false,
    "ExecuteTime": {
     "end_time": "2023-09-25T09:56:33.999457699Z",
     "start_time": "2023-09-25T09:56:33.830214485Z"
    }
   },
   "id": "2fa87432b8dd31c9"
  },
  {
   "cell_type": "code",
   "execution_count": 9,
   "outputs": [
    {
     "name": "stdout",
     "output_type": "stream",
     "text": [
      "4\n"
     ]
    }
   ],
   "source": [
    "filepaths = []\n",
    "filenames = []\n",
    "for root, dirs, files in os.walk(NIFTI_direc):\n",
    "    for i_file in files:\n",
    "        if '.nii.gz' in i_file:\n",
    "            filepaths.append(os.path.join(root,i_file))\n",
    "            filenames.append(i_file.split('.nii.gz')[0])\n",
    "print(len(filepaths))\n",
    "dataset = [{'image':filepath,'label':filename} for filepath, filename in zip(filepaths,filenames)]"
   ],
   "metadata": {
    "collapsed": false,
    "ExecuteTime": {
     "end_time": "2023-09-25T09:56:34.041904618Z",
     "start_time": "2023-09-25T09:56:34.000200868Z"
    }
   },
   "id": "b470f5ece4194da8"
  },
  {
   "cell_type": "code",
   "execution_count": 10,
   "outputs": [
    {
     "ename": "ValueError",
     "evalue": "test_size=4 should be either positive and smaller than the number of samples 4 or a float in the (0, 1) range",
     "output_type": "error",
     "traceback": [
      "\u001B[0;31m---------------------------------------------------------------------------\u001B[0m",
      "\u001B[0;31mValueError\u001B[0m                                Traceback (most recent call last)",
      "Cell \u001B[0;32mIn[10], line 1\u001B[0m\n\u001B[0;32m----> 1\u001B[0m train_dataset, test_dataset \u001B[38;5;241m=\u001B[39m \u001B[43mtrain_test_split\u001B[49m\u001B[43m(\u001B[49m\u001B[43mdataset\u001B[49m\u001B[43m,\u001B[49m\u001B[43mrandom_state\u001B[49m\u001B[38;5;241;43m=\u001B[39;49m\u001B[38;5;241;43m42\u001B[39;49m\u001B[43m,\u001B[49m\u001B[43mshuffle\u001B[49m\u001B[38;5;241;43m=\u001B[39;49m\u001B[38;5;28;43;01mTrue\u001B[39;49;00m\u001B[43m,\u001B[49m\u001B[43mtest_size\u001B[49m\u001B[38;5;241;43m=\u001B[39;49m\u001B[38;5;241;43m4\u001B[39;49m\u001B[43m)\u001B[49m\n",
      "File \u001B[0;32m~/Internship/.mvenv/lib/python3.9/site-packages/sklearn/utils/_param_validation.py:211\u001B[0m, in \u001B[0;36mvalidate_params.<locals>.decorator.<locals>.wrapper\u001B[0;34m(*args, **kwargs)\u001B[0m\n\u001B[1;32m    205\u001B[0m \u001B[38;5;28;01mtry\u001B[39;00m:\n\u001B[1;32m    206\u001B[0m     \u001B[38;5;28;01mwith\u001B[39;00m config_context(\n\u001B[1;32m    207\u001B[0m         skip_parameter_validation\u001B[38;5;241m=\u001B[39m(\n\u001B[1;32m    208\u001B[0m             prefer_skip_nested_validation \u001B[38;5;129;01mor\u001B[39;00m global_skip_validation\n\u001B[1;32m    209\u001B[0m         )\n\u001B[1;32m    210\u001B[0m     ):\n\u001B[0;32m--> 211\u001B[0m         \u001B[38;5;28;01mreturn\u001B[39;00m \u001B[43mfunc\u001B[49m\u001B[43m(\u001B[49m\u001B[38;5;241;43m*\u001B[39;49m\u001B[43margs\u001B[49m\u001B[43m,\u001B[49m\u001B[43m \u001B[49m\u001B[38;5;241;43m*\u001B[39;49m\u001B[38;5;241;43m*\u001B[39;49m\u001B[43mkwargs\u001B[49m\u001B[43m)\u001B[49m\n\u001B[1;32m    212\u001B[0m \u001B[38;5;28;01mexcept\u001B[39;00m InvalidParameterError \u001B[38;5;28;01mas\u001B[39;00m e:\n\u001B[1;32m    213\u001B[0m     \u001B[38;5;66;03m# When the function is just a wrapper around an estimator, we allow\u001B[39;00m\n\u001B[1;32m    214\u001B[0m     \u001B[38;5;66;03m# the function to delegate validation to the estimator, but we replace\u001B[39;00m\n\u001B[1;32m    215\u001B[0m     \u001B[38;5;66;03m# the name of the estimator by the name of the function in the error\u001B[39;00m\n\u001B[1;32m    216\u001B[0m     \u001B[38;5;66;03m# message to avoid confusion.\u001B[39;00m\n\u001B[1;32m    217\u001B[0m     msg \u001B[38;5;241m=\u001B[39m re\u001B[38;5;241m.\u001B[39msub(\n\u001B[1;32m    218\u001B[0m         \u001B[38;5;124mr\u001B[39m\u001B[38;5;124m\"\u001B[39m\u001B[38;5;124mparameter of \u001B[39m\u001B[38;5;124m\\\u001B[39m\u001B[38;5;124mw+ must be\u001B[39m\u001B[38;5;124m\"\u001B[39m,\n\u001B[1;32m    219\u001B[0m         \u001B[38;5;124mf\u001B[39m\u001B[38;5;124m\"\u001B[39m\u001B[38;5;124mparameter of \u001B[39m\u001B[38;5;132;01m{\u001B[39;00mfunc\u001B[38;5;241m.\u001B[39m\u001B[38;5;18m__qualname__\u001B[39m\u001B[38;5;132;01m}\u001B[39;00m\u001B[38;5;124m must be\u001B[39m\u001B[38;5;124m\"\u001B[39m,\n\u001B[1;32m    220\u001B[0m         \u001B[38;5;28mstr\u001B[39m(e),\n\u001B[1;32m    221\u001B[0m     )\n",
      "File \u001B[0;32m~/Internship/.mvenv/lib/python3.9/site-packages/sklearn/model_selection/_split.py:2649\u001B[0m, in \u001B[0;36mtrain_test_split\u001B[0;34m(test_size, train_size, random_state, shuffle, stratify, *arrays)\u001B[0m\n\u001B[1;32m   2646\u001B[0m arrays \u001B[38;5;241m=\u001B[39m indexable(\u001B[38;5;241m*\u001B[39marrays)\n\u001B[1;32m   2648\u001B[0m n_samples \u001B[38;5;241m=\u001B[39m _num_samples(arrays[\u001B[38;5;241m0\u001B[39m])\n\u001B[0;32m-> 2649\u001B[0m n_train, n_test \u001B[38;5;241m=\u001B[39m \u001B[43m_validate_shuffle_split\u001B[49m\u001B[43m(\u001B[49m\n\u001B[1;32m   2650\u001B[0m \u001B[43m    \u001B[49m\u001B[43mn_samples\u001B[49m\u001B[43m,\u001B[49m\u001B[43m \u001B[49m\u001B[43mtest_size\u001B[49m\u001B[43m,\u001B[49m\u001B[43m \u001B[49m\u001B[43mtrain_size\u001B[49m\u001B[43m,\u001B[49m\u001B[43m \u001B[49m\u001B[43mdefault_test_size\u001B[49m\u001B[38;5;241;43m=\u001B[39;49m\u001B[38;5;241;43m0.25\u001B[39;49m\n\u001B[1;32m   2651\u001B[0m \u001B[43m\u001B[49m\u001B[43m)\u001B[49m\n\u001B[1;32m   2653\u001B[0m \u001B[38;5;28;01mif\u001B[39;00m shuffle \u001B[38;5;129;01mis\u001B[39;00m \u001B[38;5;28;01mFalse\u001B[39;00m:\n\u001B[1;32m   2654\u001B[0m     \u001B[38;5;28;01mif\u001B[39;00m stratify \u001B[38;5;129;01mis\u001B[39;00m \u001B[38;5;129;01mnot\u001B[39;00m \u001B[38;5;28;01mNone\u001B[39;00m:\n",
      "File \u001B[0;32m~/Internship/.mvenv/lib/python3.9/site-packages/sklearn/model_selection/_split.py:2250\u001B[0m, in \u001B[0;36m_validate_shuffle_split\u001B[0;34m(n_samples, test_size, train_size, default_test_size)\u001B[0m\n\u001B[1;32m   2242\u001B[0m train_size_type \u001B[38;5;241m=\u001B[39m np\u001B[38;5;241m.\u001B[39masarray(train_size)\u001B[38;5;241m.\u001B[39mdtype\u001B[38;5;241m.\u001B[39mkind\n\u001B[1;32m   2244\u001B[0m \u001B[38;5;28;01mif\u001B[39;00m (\n\u001B[1;32m   2245\u001B[0m     test_size_type \u001B[38;5;241m==\u001B[39m \u001B[38;5;124m\"\u001B[39m\u001B[38;5;124mi\u001B[39m\u001B[38;5;124m\"\u001B[39m\n\u001B[1;32m   2246\u001B[0m     \u001B[38;5;129;01mand\u001B[39;00m (test_size \u001B[38;5;241m>\u001B[39m\u001B[38;5;241m=\u001B[39m n_samples \u001B[38;5;129;01mor\u001B[39;00m test_size \u001B[38;5;241m<\u001B[39m\u001B[38;5;241m=\u001B[39m \u001B[38;5;241m0\u001B[39m)\n\u001B[1;32m   2247\u001B[0m     \u001B[38;5;129;01mor\u001B[39;00m test_size_type \u001B[38;5;241m==\u001B[39m \u001B[38;5;124m\"\u001B[39m\u001B[38;5;124mf\u001B[39m\u001B[38;5;124m\"\u001B[39m\n\u001B[1;32m   2248\u001B[0m     \u001B[38;5;129;01mand\u001B[39;00m (test_size \u001B[38;5;241m<\u001B[39m\u001B[38;5;241m=\u001B[39m \u001B[38;5;241m0\u001B[39m \u001B[38;5;129;01mor\u001B[39;00m test_size \u001B[38;5;241m>\u001B[39m\u001B[38;5;241m=\u001B[39m \u001B[38;5;241m1\u001B[39m)\n\u001B[1;32m   2249\u001B[0m ):\n\u001B[0;32m-> 2250\u001B[0m     \u001B[38;5;28;01mraise\u001B[39;00m \u001B[38;5;167;01mValueError\u001B[39;00m(\n\u001B[1;32m   2251\u001B[0m         \u001B[38;5;124m\"\u001B[39m\u001B[38;5;124mtest_size=\u001B[39m\u001B[38;5;132;01m{0}\u001B[39;00m\u001B[38;5;124m should be either positive and smaller\u001B[39m\u001B[38;5;124m\"\u001B[39m\n\u001B[1;32m   2252\u001B[0m         \u001B[38;5;124m\"\u001B[39m\u001B[38;5;124m than the number of samples \u001B[39m\u001B[38;5;132;01m{1}\u001B[39;00m\u001B[38;5;124m or a float in the \u001B[39m\u001B[38;5;124m\"\u001B[39m\n\u001B[1;32m   2253\u001B[0m         \u001B[38;5;124m\"\u001B[39m\u001B[38;5;124m(0, 1) range\u001B[39m\u001B[38;5;124m\"\u001B[39m\u001B[38;5;241m.\u001B[39mformat(test_size, n_samples)\n\u001B[1;32m   2254\u001B[0m     )\n\u001B[1;32m   2256\u001B[0m \u001B[38;5;28;01mif\u001B[39;00m (\n\u001B[1;32m   2257\u001B[0m     train_size_type \u001B[38;5;241m==\u001B[39m \u001B[38;5;124m\"\u001B[39m\u001B[38;5;124mi\u001B[39m\u001B[38;5;124m\"\u001B[39m\n\u001B[1;32m   2258\u001B[0m     \u001B[38;5;129;01mand\u001B[39;00m (train_size \u001B[38;5;241m>\u001B[39m\u001B[38;5;241m=\u001B[39m n_samples \u001B[38;5;129;01mor\u001B[39;00m train_size \u001B[38;5;241m<\u001B[39m\u001B[38;5;241m=\u001B[39m \u001B[38;5;241m0\u001B[39m)\n\u001B[1;32m   2259\u001B[0m     \u001B[38;5;129;01mor\u001B[39;00m train_size_type \u001B[38;5;241m==\u001B[39m \u001B[38;5;124m\"\u001B[39m\u001B[38;5;124mf\u001B[39m\u001B[38;5;124m\"\u001B[39m\n\u001B[1;32m   2260\u001B[0m     \u001B[38;5;129;01mand\u001B[39;00m (train_size \u001B[38;5;241m<\u001B[39m\u001B[38;5;241m=\u001B[39m \u001B[38;5;241m0\u001B[39m \u001B[38;5;129;01mor\u001B[39;00m train_size \u001B[38;5;241m>\u001B[39m\u001B[38;5;241m=\u001B[39m \u001B[38;5;241m1\u001B[39m)\n\u001B[1;32m   2261\u001B[0m ):\n\u001B[1;32m   2262\u001B[0m     \u001B[38;5;28;01mraise\u001B[39;00m \u001B[38;5;167;01mValueError\u001B[39;00m(\n\u001B[1;32m   2263\u001B[0m         \u001B[38;5;124m\"\u001B[39m\u001B[38;5;124mtrain_size=\u001B[39m\u001B[38;5;132;01m{0}\u001B[39;00m\u001B[38;5;124m should be either positive and smaller\u001B[39m\u001B[38;5;124m\"\u001B[39m\n\u001B[1;32m   2264\u001B[0m         \u001B[38;5;124m\"\u001B[39m\u001B[38;5;124m than the number of samples \u001B[39m\u001B[38;5;132;01m{1}\u001B[39;00m\u001B[38;5;124m or a float in the \u001B[39m\u001B[38;5;124m\"\u001B[39m\n\u001B[1;32m   2265\u001B[0m         \u001B[38;5;124m\"\u001B[39m\u001B[38;5;124m(0, 1) range\u001B[39m\u001B[38;5;124m\"\u001B[39m\u001B[38;5;241m.\u001B[39mformat(train_size, n_samples)\n\u001B[1;32m   2266\u001B[0m     )\n",
      "\u001B[0;31mValueError\u001B[0m: test_size=4 should be either positive and smaller than the number of samples 4 or a float in the (0, 1) range"
     ]
    }
   ],
   "source": [
    "train_dataset, test_dataset = train_test_split(dataset,random_state=42,shuffle=True,test_size=4)"
   ],
   "metadata": {
    "collapsed": false,
    "ExecuteTime": {
     "end_time": "2023-09-25T09:56:34.409625214Z",
     "start_time": "2023-09-25T09:56:34.041619601Z"
    }
   },
   "id": "fc08d4e629236496"
  },
  {
   "cell_type": "code",
   "execution_count": 11,
   "outputs": [],
   "source": [
    "test_dataset = dataset"
   ],
   "metadata": {
    "collapsed": false,
    "ExecuteTime": {
     "end_time": "2023-09-25T09:56:47.501833482Z",
     "start_time": "2023-09-25T09:56:47.494339677Z"
    }
   },
   "id": "6293170ca0b7ad84"
  },
  {
   "cell_type": "code",
   "execution_count": 12,
   "outputs": [],
   "source": [
    "class SaveIndividualSlices(monai.transforms.MapTransform):\n",
    "    def __init__(self, keys, targetDir, split):\n",
    "        self.keys = keys\n",
    "        self.targetDir = targetDir\n",
    "        self.split = split\n",
    "\n",
    "    def __call__(self, data):\n",
    "        os.makedirs(self.targetDir,exist_ok=True)\n",
    "        depth = data[self.keys[0]].shape[-1]\n",
    "        for i in range(depth):\n",
    "            saver = SaveImage(\n",
    "                output_dir=os.path.join(self.targetDir,self.split),\n",
    "                output_postfix=f'_s{i}',\n",
    "                output_ext='.nii.gz',\n",
    "                resample=False,\n",
    "                squeeze_end_dims=True,\n",
    "                data_root_dir=NIFTI_direc,\n",
    "                separate_folder=False,\n",
    "                print_log=False,\n",
    "                savepath_in_metadict=True,\n",
    "            )\n",
    "            slice = data[self.keys[0]][:,:,:,i]\n",
    "            slice = np.array(slice)\n",
    "            slice = slice.reshape((1,x_image_size,y_image_size,1))\n",
    "            metadata = dict(data[f'{self.keys[0]}_meta_dict'])\n",
    "            saver(img=slice,meta_data=metadata)\n",
    "            # filename = str(data[self.keys[1]])\n",
    "            # savepath = os.path.join(self.targetDir,f'{filename}__s{i}.nii.gz')\n",
    "            # affine = metadata['affine']\n",
    "            # nib.save(img=nib.Nifti1Pair(slice,affine=affine), filename=savepath)\n",
    "        return data"
   ],
   "metadata": {
    "collapsed": false,
    "ExecuteTime": {
     "end_time": "2023-09-25T09:56:47.845409109Z",
     "start_time": "2023-09-25T09:56:47.836211281Z"
    }
   },
   "id": "9bb2ca3b951d58c1"
  },
  {
   "cell_type": "code",
   "execution_count": 13,
   "outputs": [],
   "source": [
    "trainTransform = monai.transforms.Compose(\n",
    "    [\n",
    "        monai.transforms.LoadImaged(keys=['image'], image_only=False, ensure_channel_first=False),\n",
    "        monai.transforms.EnsureChannelFirstd(keys=['image']),\n",
    "        monai.transforms.Orientationd(keys=['image'],axcodes='LAS'),\n",
    "        monai.transforms.Resized(keys=['image'], spatial_size=[x_image_size, y_image_size, z_image_size]),\n",
    "        monai.transforms.ScaleIntensityd(keys=['image']),\n",
    "        SaveIndividualSlices(keys=['image', 'label'], targetDir=NIFIT_slices_direc,split='train')\n",
    "    ]\n",
    ")\n",
    "testTransform = monai.transforms.Compose(\n",
    "    [\n",
    "        monai.transforms.LoadImaged(keys=['image'], image_only=False, ensure_channel_first=False),\n",
    "        monai.transforms.EnsureChannelFirstd(keys=['image']),\n",
    "        monai.transforms.Orientationd(keys=['image'],axcodes='LAS'),\n",
    "        monai.transforms.Resized(keys=['image'], spatial_size=[x_image_size, y_image_size, z_image_size]),\n",
    "        monai.transforms.ScaleIntensityd(keys=['image']),\n",
    "        SaveIndividualSlices(keys=['image', 'label'], targetDir=NIFIT_slices_direc,split='test')\n",
    "    ]\n",
    ")"
   ],
   "metadata": {
    "collapsed": false,
    "ExecuteTime": {
     "end_time": "2023-09-25T09:56:48.152679075Z",
     "start_time": "2023-09-25T09:56:48.122553092Z"
    }
   },
   "id": "94880f85004b0e90"
  },
  {
   "cell_type": "code",
   "execution_count": 0,
   "outputs": [],
   "source": [
    "ds_train = monai.data.Dataset(train_dataset, trainTransform)\n",
    "dl_train = monai.data.DataLoader(ds_train, batch_size=1, num_workers=1)"
   ],
   "metadata": {
    "collapsed": false
   },
   "id": "14a3311c31786ab9"
  },
  {
   "cell_type": "code",
   "execution_count": 16,
   "outputs": [],
   "source": [
    "ds_test = monai.data.Dataset(test_dataset, testTransform)\n",
    "dl_test = monai.data.DataLoader(ds_test, batch_size=1, num_workers=1)"
   ],
   "metadata": {
    "collapsed": false,
    "ExecuteTime": {
     "end_time": "2023-09-25T09:57:38.284147258Z",
     "start_time": "2023-09-25T09:57:38.272496807Z"
    }
   },
   "id": "eaebad89c17b7003"
  },
  {
   "cell_type": "code",
   "execution_count": null,
   "outputs": [],
   "source": [
    "counter = -1\n",
    "try:\n",
    "    for i in tqdm(dl_train):\n",
    "        counter+=1\n",
    "        continue\n",
    "except:\n",
    "    print(i['label'])"
   ],
   "metadata": {
    "collapsed": false
   },
   "id": "7b8d4af7475b880c"
  },
  {
   "cell_type": "code",
   "execution_count": 17,
   "outputs": [
    {
     "name": "stderr",
     "output_type": "stream",
     "text": [
      "100%|██████████| 4/4 [00:01<00:00,  2.23it/s]\n"
     ]
    }
   ],
   "source": [
    "counter = -1\n",
    "try:\n",
    "    for i in tqdm(dl_test):\n",
    "        counter+=1\n",
    "        continue\n",
    "except:\n",
    "    print(i['label'])"
   ],
   "metadata": {
    "collapsed": false,
    "ExecuteTime": {
     "end_time": "2023-09-25T09:57:42.192599089Z",
     "start_time": "2023-09-25T09:57:40.397671886Z"
    }
   },
   "id": "c902eab2302dc955"
  },
  {
   "cell_type": "code",
   "execution_count": 18,
   "outputs": [
    {
     "name": "stderr",
     "output_type": "stream",
     "text": [
      "genfromtxt: Empty input file: \"../data_small/DATA/Scans_4D.txt\"\n"
     ]
    },
    {
     "data": {
      "text/plain": "'../data_small/DATA/testLabelsSmall.txt'"
     },
     "execution_count": 18,
     "metadata": {},
     "output_type": "execute_result"
    }
   ],
   "source": [
    "nifp.create_label_file(root_dir=os.path.join(NIFIT_slices_direc,'train'),base_dir=root_dataFolder,images_4D_file=images_4D_file,name='trainLabelsSmall.txt')\n",
    "nifp.create_label_file(root_dir=os.path.join(NIFIT_slices_direc,'test'),base_dir=root_dataFolder,images_4D_file=images_4D_file,name='testLabelsSmall.txt')"
   ],
   "metadata": {
    "collapsed": false,
    "ExecuteTime": {
     "end_time": "2023-09-25T09:57:43.574445011Z",
     "start_time": "2023-09-25T09:57:43.569348343Z"
    }
   },
   "id": "f29f7e6ff9b52ae8"
  },
  {
   "cell_type": "code",
   "execution_count": null,
   "outputs": [],
   "source": [],
   "metadata": {
    "collapsed": false,
    "ExecuteTime": {
     "start_time": "2023-09-25T09:56:34.454436686Z"
    }
   },
   "id": "e824331fa745d548"
  }
 ],
 "metadata": {
  "kernelspec": {
   "display_name": "Python 3",
   "language": "python",
   "name": "python3"
  },
  "language_info": {
   "codemirror_mode": {
    "name": "ipython",
    "version": 2
   },
   "file_extension": ".py",
   "mimetype": "text/x-python",
   "name": "python",
   "nbconvert_exporter": "python",
   "pygments_lexer": "ipython2",
   "version": "2.7.6"
  }
 },
 "nbformat": 4,
 "nbformat_minor": 5
}
