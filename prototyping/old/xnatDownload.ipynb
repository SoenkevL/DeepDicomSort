{
 "cells": [
  {
   "cell_type": "code",
   "execution_count": 1,
   "id": "701370c160b9b489",
   "metadata": {
    "collapsed": true,
    "ExecuteTime": {
     "end_time": "2023-10-05T08:58:36.084124739Z",
     "start_time": "2023-10-05T08:58:35.562276274Z"
    }
   },
   "outputs": [],
   "source": [
    "import pandas as pd\n",
    "import xnat\n",
    "import pandas\n",
    "from tqdm import tqdm\n",
    "xnatpw = 'R077erdamEr4smusMC#0409'"
   ]
  },
  {
   "cell_type": "code",
   "execution_count": 2,
   "outputs": [],
   "source": [
    "# with xnat.connect('https://central.xnat.org',user='svanloh',password=xnatpw) as session:\n",
    "#     project = session.projects['OASIS3']\n",
    "#     subjects = project.subjects\n",
    "#     SubjectFrame = subjects.tabulate_pandas()\n",
    "#     FullFrame = SubjectFrame\n",
    "#     ExperimentFrameAll = pd.DataFrame()\n",
    "#     ScansFrameAll = pd.DataFrame()\n",
    "#     for subjectId in tqdm(list(SubjectFrame['ID'])):\n",
    "#         subject = subjects[subjectId]\n",
    "#         try:\n",
    "#             experiments = subject.experiments\n",
    "#             ExperimentFrame = experiments.tabulate_pandas()\n",
    "#             ExperimentFrame['subjectId'] = subjectId\n",
    "#             if ExperimentFrameAll.empty:\n",
    "#                 ExperimentFrameAll = ExperimentFrame\n",
    "#             else:\n",
    "#                 ExperimentFrameAll = pd.concat([ExperimentFrameAll, ExperimentFrame])\n",
    "#         except:\n",
    "#             continue\n",
    "#         for experimentId in list(ExperimentFrame['ID']):\n",
    "#             experiment = experiments[experimentId]\n",
    "#             try:\n",
    "#                 scans = experiment.scans\n",
    "#                 ScansFrame = scans.tabulate_pandas()\n",
    "#                 ScansFrame['experimentId'] = experimentId\n",
    "#                 if ScansFrameAll.empty:\n",
    "#                     ScansFrameAll = ScansFrame\n",
    "#                 else:\n",
    "#                     ScansFrameAll = pd.concat([ScansFrameAll, ScansFrame])\n",
    "#             except:\n",
    "#                 continue"
   ],
   "metadata": {
    "collapsed": false,
    "ExecuteTime": {
     "end_time": "2023-10-04T06:59:28.776478047Z",
     "start_time": "2023-10-04T06:59:28.703204306Z"
    }
   },
   "id": "7c94ebd864726af5"
  },
  {
   "cell_type": "code",
   "execution_count": 3,
   "outputs": [],
   "source": [
    "        # FullFrame = FullFrame.merge(ExperimentFrameAll, how='left', left_on='ID', right_on='subjectId', suffixes=('_sub','_exp'))\n",
    "        # FullFrame = FullFrame.merge(ScansFrameAll, how='left', left_on='ID_exp', right_on='experimentId', suffixes=('','_scan'))"
   ],
   "metadata": {
    "collapsed": false,
    "ExecuteTime": {
     "end_time": "2023-10-04T06:59:28.777014246Z",
     "start_time": "2023-10-04T06:59:28.706573317Z"
    }
   },
   "id": "initial_id"
  },
  {
   "cell_type": "code",
   "execution_count": 65,
   "outputs": [],
   "source": [
    "FullFrame = pd.read_csv('FullFrame.csv', low_memory=False, index_col=0)"
   ],
   "metadata": {
    "collapsed": false,
    "ExecuteTime": {
     "end_time": "2023-10-05T09:28:24.607734954Z",
     "start_time": "2023-10-05T09:28:24.478522084Z"
    }
   },
   "id": "62836eda2088804d"
  },
  {
   "cell_type": "code",
   "execution_count": 66,
   "outputs": [
    {
     "data": {
      "text/plain": "         project_sub  insert_user           ID_sub          insert_date_sub  \\\n0      cvonhartbrein        admin  BMIAXNAT_S00286  2015-04-22 15:36:30.585   \n1      cvonhartbrein        admin  BMIAXNAT_S00286  2015-04-22 15:36:30.585   \n2      cvonhartbrein        admin  BMIAXNAT_S00286  2015-04-22 15:36:30.585   \n3      cvonhartbrein        admin  BMIAXNAT_S00286  2015-04-22 15:36:30.585   \n4      cvonhartbrein        admin  BMIAXNAT_S00286  2015-04-22 15:36:30.585   \n...              ...          ...              ...                      ...   \n23744  cvonhartbrein  hachterberg  BMIAXNAT_S20581  2020-01-11 03:03:53.304   \n23745  cvonhartbrein  hachterberg  BMIAXNAT_S20581  2020-01-11 03:03:53.304   \n23746  cvonhartbrein  hachterberg  BMIAXNAT_S20581  2020-01-11 03:03:53.304   \n23747  cvonhartbrein  hachterberg  BMIAXNAT_S20581  2020-01-11 03:03:53.304   \n23748  cvonhartbrein  hachterberg  BMIAXNAT_S20581  2020-01-11 03:03:53.304   \n\n      label_sub                         URI_sub    project_exp  \\\n0         A1001  /data/subjects/BMIAXNAT_S00286  cvonhartbrein   \n1         A1001  /data/subjects/BMIAXNAT_S00286  cvonhartbrein   \n2         A1001  /data/subjects/BMIAXNAT_S00286  cvonhartbrein   \n3         A1001  /data/subjects/BMIAXNAT_S00286  cvonhartbrein   \n4         A1001  /data/subjects/BMIAXNAT_S00286  cvonhartbrein   \n...         ...                             ...            ...   \n23744     M3120  /data/subjects/BMIAXNAT_S20581  cvonhartbrein   \n23745     M3120  /data/subjects/BMIAXNAT_S20581  cvonhartbrein   \n23746     M3120  /data/subjects/BMIAXNAT_S20581  cvonhartbrein   \n23747     M3120  /data/subjects/BMIAXNAT_S20581  cvonhartbrein   \n23748     M3120  /data/subjects/BMIAXNAT_S20581  cvonhartbrein   \n\n                  xsiType           ID_exp xnat_subjectassessordata_id  ...  \\\n0      xnat:mrSessionData  BMIAXNAT_E00747             BMIAXNAT_E00747  ...   \n1      xnat:mrSessionData  BMIAXNAT_E00747             BMIAXNAT_E00747  ...   \n2      xnat:mrSessionData  BMIAXNAT_E00747             BMIAXNAT_E00747  ...   \n3      xnat:mrSessionData  BMIAXNAT_E00747             BMIAXNAT_E00747  ...   \n4      xnat:mrSessionData  BMIAXNAT_E00747             BMIAXNAT_E00747  ...   \n...                   ...              ...                         ...  ...   \n23744  xnat:mrSessionData  BMIAXNAT_E80075             BMIAXNAT_E80075  ...   \n23745  xnat:mrSessionData  BMIAXNAT_E80075             BMIAXNAT_E80075  ...   \n23746  xnat:mrSessionData  BMIAXNAT_E80075             BMIAXNAT_E80075  ...   \n23747  xnat:mrSessionData  BMIAXNAT_E80075             BMIAXNAT_E80075  ...   \n23748  xnat:mrSessionData  BMIAXNAT_E80075             BMIAXNAT_E80075  ...   \n\n             subjectId     xsiType_scan quality    ID xnat_imagescandata_id  \\\n0      BMIAXNAT_S00286  xnat:mrScanData  usable   101               11610.0   \n1      BMIAXNAT_S00286  xnat:mrScanData  usable   401               11611.0   \n2      BMIAXNAT_S00286  xnat:mrScanData  usable   501               11612.0   \n3      BMIAXNAT_S00286  xnat:mrScanData  usable   601               11613.0   \n4      BMIAXNAT_S00286  xnat:mrScanData  usable   701               11614.0   \n...                ...              ...     ...   ...                   ...   \n23744  BMIAXNAT_S20581  xnat:mrScanData  usable   701              411982.0   \n23745  BMIAXNAT_S20581  xnat:mrScanData  usable   801              411983.0   \n23746  BMIAXNAT_S20581  xnat:mrScanData  usable   802              411984.0   \n23747  BMIAXNAT_S20581  xnat:mrScanData  usable   901              411985.0   \n23748  BMIAXNAT_S20581  xnat:mrScanData  usable  1001              411986.0   \n\n      series_description           type note  \\\n0                 SURVEY         SURVEY  NaN   \n1            sB-TFE_2KLV    sB-TFE_2KLV  NaN   \n2            sB-TFE_2KRV    sB-TFE_2KRV  NaN   \n3              SurveyPWV      SURVEYpwv  NaN   \n4              sB-TFE_4K      sB-TFE_4K  NaN   \n...                  ...            ...  ...   \n23744         QF min wfs     QF min wfs  NaN   \n23745          ASL SENSE     asl_source  NaN   \n23746         sPerfusion  perfusion_map  NaN   \n23747    M0 meting SENSE             M0  NaN   \n23748       SWI EPI 2min            SWI  NaN   \n\n                                                URI     experimentId  \n0       /data/experiments/BMIAXNAT_E00747/scans/101  BMIAXNAT_E00747  \n1       /data/experiments/BMIAXNAT_E00747/scans/401  BMIAXNAT_E00747  \n2       /data/experiments/BMIAXNAT_E00747/scans/501  BMIAXNAT_E00747  \n3       /data/experiments/BMIAXNAT_E00747/scans/601  BMIAXNAT_E00747  \n4       /data/experiments/BMIAXNAT_E00747/scans/701  BMIAXNAT_E00747  \n...                                             ...              ...  \n23744   /data/experiments/BMIAXNAT_E80075/scans/701  BMIAXNAT_E80075  \n23745   /data/experiments/BMIAXNAT_E80075/scans/801  BMIAXNAT_E80075  \n23746   /data/experiments/BMIAXNAT_E80075/scans/802  BMIAXNAT_E80075  \n23747   /data/experiments/BMIAXNAT_E80075/scans/901  BMIAXNAT_E80075  \n23748  /data/experiments/BMIAXNAT_E80075/scans/1001  BMIAXNAT_E80075  \n\n[23749 rows x 24 columns]",
      "text/html": "<div>\n<style scoped>\n    .dataframe tbody tr th:only-of-type {\n        vertical-align: middle;\n    }\n\n    .dataframe tbody tr th {\n        vertical-align: top;\n    }\n\n    .dataframe thead th {\n        text-align: right;\n    }\n</style>\n<table border=\"1\" class=\"dataframe\">\n  <thead>\n    <tr style=\"text-align: right;\">\n      <th></th>\n      <th>project_sub</th>\n      <th>insert_user</th>\n      <th>ID_sub</th>\n      <th>insert_date_sub</th>\n      <th>label_sub</th>\n      <th>URI_sub</th>\n      <th>project_exp</th>\n      <th>xsiType</th>\n      <th>ID_exp</th>\n      <th>xnat_subjectassessordata_id</th>\n      <th>...</th>\n      <th>subjectId</th>\n      <th>xsiType_scan</th>\n      <th>quality</th>\n      <th>ID</th>\n      <th>xnat_imagescandata_id</th>\n      <th>series_description</th>\n      <th>type</th>\n      <th>note</th>\n      <th>URI</th>\n      <th>experimentId</th>\n    </tr>\n  </thead>\n  <tbody>\n    <tr>\n      <th>0</th>\n      <td>cvonhartbrein</td>\n      <td>admin</td>\n      <td>BMIAXNAT_S00286</td>\n      <td>2015-04-22 15:36:30.585</td>\n      <td>A1001</td>\n      <td>/data/subjects/BMIAXNAT_S00286</td>\n      <td>cvonhartbrein</td>\n      <td>xnat:mrSessionData</td>\n      <td>BMIAXNAT_E00747</td>\n      <td>BMIAXNAT_E00747</td>\n      <td>...</td>\n      <td>BMIAXNAT_S00286</td>\n      <td>xnat:mrScanData</td>\n      <td>usable</td>\n      <td>101</td>\n      <td>11610.0</td>\n      <td>SURVEY</td>\n      <td>SURVEY</td>\n      <td>NaN</td>\n      <td>/data/experiments/BMIAXNAT_E00747/scans/101</td>\n      <td>BMIAXNAT_E00747</td>\n    </tr>\n    <tr>\n      <th>1</th>\n      <td>cvonhartbrein</td>\n      <td>admin</td>\n      <td>BMIAXNAT_S00286</td>\n      <td>2015-04-22 15:36:30.585</td>\n      <td>A1001</td>\n      <td>/data/subjects/BMIAXNAT_S00286</td>\n      <td>cvonhartbrein</td>\n      <td>xnat:mrSessionData</td>\n      <td>BMIAXNAT_E00747</td>\n      <td>BMIAXNAT_E00747</td>\n      <td>...</td>\n      <td>BMIAXNAT_S00286</td>\n      <td>xnat:mrScanData</td>\n      <td>usable</td>\n      <td>401</td>\n      <td>11611.0</td>\n      <td>sB-TFE_2KLV</td>\n      <td>sB-TFE_2KLV</td>\n      <td>NaN</td>\n      <td>/data/experiments/BMIAXNAT_E00747/scans/401</td>\n      <td>BMIAXNAT_E00747</td>\n    </tr>\n    <tr>\n      <th>2</th>\n      <td>cvonhartbrein</td>\n      <td>admin</td>\n      <td>BMIAXNAT_S00286</td>\n      <td>2015-04-22 15:36:30.585</td>\n      <td>A1001</td>\n      <td>/data/subjects/BMIAXNAT_S00286</td>\n      <td>cvonhartbrein</td>\n      <td>xnat:mrSessionData</td>\n      <td>BMIAXNAT_E00747</td>\n      <td>BMIAXNAT_E00747</td>\n      <td>...</td>\n      <td>BMIAXNAT_S00286</td>\n      <td>xnat:mrScanData</td>\n      <td>usable</td>\n      <td>501</td>\n      <td>11612.0</td>\n      <td>sB-TFE_2KRV</td>\n      <td>sB-TFE_2KRV</td>\n      <td>NaN</td>\n      <td>/data/experiments/BMIAXNAT_E00747/scans/501</td>\n      <td>BMIAXNAT_E00747</td>\n    </tr>\n    <tr>\n      <th>3</th>\n      <td>cvonhartbrein</td>\n      <td>admin</td>\n      <td>BMIAXNAT_S00286</td>\n      <td>2015-04-22 15:36:30.585</td>\n      <td>A1001</td>\n      <td>/data/subjects/BMIAXNAT_S00286</td>\n      <td>cvonhartbrein</td>\n      <td>xnat:mrSessionData</td>\n      <td>BMIAXNAT_E00747</td>\n      <td>BMIAXNAT_E00747</td>\n      <td>...</td>\n      <td>BMIAXNAT_S00286</td>\n      <td>xnat:mrScanData</td>\n      <td>usable</td>\n      <td>601</td>\n      <td>11613.0</td>\n      <td>SurveyPWV</td>\n      <td>SURVEYpwv</td>\n      <td>NaN</td>\n      <td>/data/experiments/BMIAXNAT_E00747/scans/601</td>\n      <td>BMIAXNAT_E00747</td>\n    </tr>\n    <tr>\n      <th>4</th>\n      <td>cvonhartbrein</td>\n      <td>admin</td>\n      <td>BMIAXNAT_S00286</td>\n      <td>2015-04-22 15:36:30.585</td>\n      <td>A1001</td>\n      <td>/data/subjects/BMIAXNAT_S00286</td>\n      <td>cvonhartbrein</td>\n      <td>xnat:mrSessionData</td>\n      <td>BMIAXNAT_E00747</td>\n      <td>BMIAXNAT_E00747</td>\n      <td>...</td>\n      <td>BMIAXNAT_S00286</td>\n      <td>xnat:mrScanData</td>\n      <td>usable</td>\n      <td>701</td>\n      <td>11614.0</td>\n      <td>sB-TFE_4K</td>\n      <td>sB-TFE_4K</td>\n      <td>NaN</td>\n      <td>/data/experiments/BMIAXNAT_E00747/scans/701</td>\n      <td>BMIAXNAT_E00747</td>\n    </tr>\n    <tr>\n      <th>...</th>\n      <td>...</td>\n      <td>...</td>\n      <td>...</td>\n      <td>...</td>\n      <td>...</td>\n      <td>...</td>\n      <td>...</td>\n      <td>...</td>\n      <td>...</td>\n      <td>...</td>\n      <td>...</td>\n      <td>...</td>\n      <td>...</td>\n      <td>...</td>\n      <td>...</td>\n      <td>...</td>\n      <td>...</td>\n      <td>...</td>\n      <td>...</td>\n      <td>...</td>\n      <td>...</td>\n    </tr>\n    <tr>\n      <th>23744</th>\n      <td>cvonhartbrein</td>\n      <td>hachterberg</td>\n      <td>BMIAXNAT_S20581</td>\n      <td>2020-01-11 03:03:53.304</td>\n      <td>M3120</td>\n      <td>/data/subjects/BMIAXNAT_S20581</td>\n      <td>cvonhartbrein</td>\n      <td>xnat:mrSessionData</td>\n      <td>BMIAXNAT_E80075</td>\n      <td>BMIAXNAT_E80075</td>\n      <td>...</td>\n      <td>BMIAXNAT_S20581</td>\n      <td>xnat:mrScanData</td>\n      <td>usable</td>\n      <td>701</td>\n      <td>411982.0</td>\n      <td>QF min wfs</td>\n      <td>QF min wfs</td>\n      <td>NaN</td>\n      <td>/data/experiments/BMIAXNAT_E80075/scans/701</td>\n      <td>BMIAXNAT_E80075</td>\n    </tr>\n    <tr>\n      <th>23745</th>\n      <td>cvonhartbrein</td>\n      <td>hachterberg</td>\n      <td>BMIAXNAT_S20581</td>\n      <td>2020-01-11 03:03:53.304</td>\n      <td>M3120</td>\n      <td>/data/subjects/BMIAXNAT_S20581</td>\n      <td>cvonhartbrein</td>\n      <td>xnat:mrSessionData</td>\n      <td>BMIAXNAT_E80075</td>\n      <td>BMIAXNAT_E80075</td>\n      <td>...</td>\n      <td>BMIAXNAT_S20581</td>\n      <td>xnat:mrScanData</td>\n      <td>usable</td>\n      <td>801</td>\n      <td>411983.0</td>\n      <td>ASL SENSE</td>\n      <td>asl_source</td>\n      <td>NaN</td>\n      <td>/data/experiments/BMIAXNAT_E80075/scans/801</td>\n      <td>BMIAXNAT_E80075</td>\n    </tr>\n    <tr>\n      <th>23746</th>\n      <td>cvonhartbrein</td>\n      <td>hachterberg</td>\n      <td>BMIAXNAT_S20581</td>\n      <td>2020-01-11 03:03:53.304</td>\n      <td>M3120</td>\n      <td>/data/subjects/BMIAXNAT_S20581</td>\n      <td>cvonhartbrein</td>\n      <td>xnat:mrSessionData</td>\n      <td>BMIAXNAT_E80075</td>\n      <td>BMIAXNAT_E80075</td>\n      <td>...</td>\n      <td>BMIAXNAT_S20581</td>\n      <td>xnat:mrScanData</td>\n      <td>usable</td>\n      <td>802</td>\n      <td>411984.0</td>\n      <td>sPerfusion</td>\n      <td>perfusion_map</td>\n      <td>NaN</td>\n      <td>/data/experiments/BMIAXNAT_E80075/scans/802</td>\n      <td>BMIAXNAT_E80075</td>\n    </tr>\n    <tr>\n      <th>23747</th>\n      <td>cvonhartbrein</td>\n      <td>hachterberg</td>\n      <td>BMIAXNAT_S20581</td>\n      <td>2020-01-11 03:03:53.304</td>\n      <td>M3120</td>\n      <td>/data/subjects/BMIAXNAT_S20581</td>\n      <td>cvonhartbrein</td>\n      <td>xnat:mrSessionData</td>\n      <td>BMIAXNAT_E80075</td>\n      <td>BMIAXNAT_E80075</td>\n      <td>...</td>\n      <td>BMIAXNAT_S20581</td>\n      <td>xnat:mrScanData</td>\n      <td>usable</td>\n      <td>901</td>\n      <td>411985.0</td>\n      <td>M0 meting SENSE</td>\n      <td>M0</td>\n      <td>NaN</td>\n      <td>/data/experiments/BMIAXNAT_E80075/scans/901</td>\n      <td>BMIAXNAT_E80075</td>\n    </tr>\n    <tr>\n      <th>23748</th>\n      <td>cvonhartbrein</td>\n      <td>hachterberg</td>\n      <td>BMIAXNAT_S20581</td>\n      <td>2020-01-11 03:03:53.304</td>\n      <td>M3120</td>\n      <td>/data/subjects/BMIAXNAT_S20581</td>\n      <td>cvonhartbrein</td>\n      <td>xnat:mrSessionData</td>\n      <td>BMIAXNAT_E80075</td>\n      <td>BMIAXNAT_E80075</td>\n      <td>...</td>\n      <td>BMIAXNAT_S20581</td>\n      <td>xnat:mrScanData</td>\n      <td>usable</td>\n      <td>1001</td>\n      <td>411986.0</td>\n      <td>SWI EPI 2min</td>\n      <td>SWI</td>\n      <td>NaN</td>\n      <td>/data/experiments/BMIAXNAT_E80075/scans/1001</td>\n      <td>BMIAXNAT_E80075</td>\n    </tr>\n  </tbody>\n</table>\n<p>23749 rows × 24 columns</p>\n</div>"
     },
     "execution_count": 66,
     "metadata": {},
     "output_type": "execute_result"
    }
   ],
   "source": [
    "FullFrame"
   ],
   "metadata": {
    "collapsed": false,
    "ExecuteTime": {
     "end_time": "2023-10-05T09:28:24.907724848Z",
     "start_time": "2023-10-05T09:28:24.843538880Z"
    }
   },
   "id": "b3e77a9600a59a57"
  },
  {
   "cell_type": "code",
   "execution_count": 67,
   "outputs": [],
   "source": [
    "def cleanupFrame(dataframe, dropna=True, dropna_thresh=0.9, onlyScans=True, dropTypeUnknown=True):\n",
    "    CleanedFrame = dataframe.drop(['subjectId','experimentId'],axis=1)\n",
    "    if dropna:\n",
    "        CleanedFrame = CleanedFrame.dropna(axis=1, thresh=dropna_thresh)\n",
    "    if onlyScans:\n",
    "        CleanedFrame = CleanedFrame[CleanedFrame['xnat_imagescandata_id'].notna()]\n",
    "    CleanedFrame = CleanedFrame.rename({'ID':'ID_scan', 'URI':'URI_scan'}, axis=1)\n",
    "    CleanedFrame = CleanedFrame[CleanedFrame['type'].str.lower().str.contains('unknown')!=True]\n",
    "    return CleanedFrame"
   ],
   "metadata": {
    "collapsed": false,
    "ExecuteTime": {
     "end_time": "2023-10-05T09:28:25.621416769Z",
     "start_time": "2023-10-05T09:28:25.615171856Z"
    }
   },
   "id": "5a37f6149a2b6f43"
  },
  {
   "cell_type": "code",
   "execution_count": 68,
   "outputs": [],
   "source": [
    "CleanedFrame = cleanupFrame(FullFrame)"
   ],
   "metadata": {
    "collapsed": false,
    "ExecuteTime": {
     "end_time": "2023-10-05T09:28:26.208607264Z",
     "start_time": "2023-10-05T09:28:26.157245762Z"
    }
   },
   "id": "5869f7938d1de073"
  },
  {
   "cell_type": "code",
   "execution_count": 69,
   "outputs": [],
   "source": [
    "CleanedFrame = CleanedFrame.reset_index(drop=True)"
   ],
   "metadata": {
    "collapsed": false,
    "ExecuteTime": {
     "end_time": "2023-10-05T09:28:26.551537624Z",
     "start_time": "2023-10-05T09:28:26.541799325Z"
    }
   },
   "id": "a06cd0559c95f9e0"
  },
  {
   "cell_type": "code",
   "execution_count": 70,
   "outputs": [
    {
     "data": {
      "text/plain": "         project_sub  insert_user           ID_sub          insert_date_sub  \\\n0      cvonhartbrein        admin  BMIAXNAT_S00286  2015-04-22 15:36:30.585   \n1      cvonhartbrein        admin  BMIAXNAT_S00286  2015-04-22 15:36:30.585   \n2      cvonhartbrein        admin  BMIAXNAT_S00286  2015-04-22 15:36:30.585   \n3      cvonhartbrein        admin  BMIAXNAT_S00286  2015-04-22 15:36:30.585   \n4      cvonhartbrein        admin  BMIAXNAT_S00286  2015-04-22 15:36:30.585   \n...              ...          ...              ...                      ...   \n18389  cvonhartbrein  hachterberg  BMIAXNAT_S20581  2020-01-11 03:03:53.304   \n18390  cvonhartbrein  hachterberg  BMIAXNAT_S20581  2020-01-11 03:03:53.304   \n18391  cvonhartbrein  hachterberg  BMIAXNAT_S20581  2020-01-11 03:03:53.304   \n18392  cvonhartbrein  hachterberg  BMIAXNAT_S20581  2020-01-11 03:03:53.304   \n18393  cvonhartbrein  hachterberg  BMIAXNAT_S20581  2020-01-11 03:03:53.304   \n\n      label_sub                         URI_sub    project_exp  \\\n0         A1001  /data/subjects/BMIAXNAT_S00286  cvonhartbrein   \n1         A1001  /data/subjects/BMIAXNAT_S00286  cvonhartbrein   \n2         A1001  /data/subjects/BMIAXNAT_S00286  cvonhartbrein   \n3         A1001  /data/subjects/BMIAXNAT_S00286  cvonhartbrein   \n4         A1001  /data/subjects/BMIAXNAT_S00286  cvonhartbrein   \n...         ...                             ...            ...   \n18389     M3120  /data/subjects/BMIAXNAT_S20581  cvonhartbrein   \n18390     M3120  /data/subjects/BMIAXNAT_S20581  cvonhartbrein   \n18391     M3120  /data/subjects/BMIAXNAT_S20581  cvonhartbrein   \n18392     M3120  /data/subjects/BMIAXNAT_S20581  cvonhartbrein   \n18393     M3120  /data/subjects/BMIAXNAT_S20581  cvonhartbrein   \n\n                  xsiType           ID_exp xnat_subjectassessordata_id  ...  \\\n0      xnat:mrSessionData  BMIAXNAT_E00747             BMIAXNAT_E00747  ...   \n1      xnat:mrSessionData  BMIAXNAT_E00747             BMIAXNAT_E00747  ...   \n2      xnat:mrSessionData  BMIAXNAT_E00747             BMIAXNAT_E00747  ...   \n3      xnat:mrSessionData  BMIAXNAT_E00747             BMIAXNAT_E00747  ...   \n4      xnat:mrSessionData  BMIAXNAT_E00747             BMIAXNAT_E00747  ...   \n...                   ...              ...                         ...  ...   \n18389  xnat:mrSessionData  BMIAXNAT_E80075             BMIAXNAT_E80075  ...   \n18390  xnat:mrSessionData  BMIAXNAT_E80075             BMIAXNAT_E80075  ...   \n18391  xnat:mrSessionData  BMIAXNAT_E80075             BMIAXNAT_E80075  ...   \n18392  xnat:mrSessionData  BMIAXNAT_E80075             BMIAXNAT_E80075  ...   \n18393  xnat:mrSessionData  BMIAXNAT_E80075             BMIAXNAT_E80075  ...   \n\n             date                            URI_exp     xsiType_scan quality  \\\n0      2014-09-04  /data/experiments/BMIAXNAT_E00747  xnat:mrScanData  usable   \n1      2014-09-04  /data/experiments/BMIAXNAT_E00747  xnat:mrScanData  usable   \n2      2014-09-04  /data/experiments/BMIAXNAT_E00747  xnat:mrScanData  usable   \n3      2014-09-04  /data/experiments/BMIAXNAT_E00747  xnat:mrScanData  usable   \n4      2014-09-04  /data/experiments/BMIAXNAT_E00747  xnat:mrScanData  usable   \n...           ...                                ...              ...     ...   \n18389  2016-07-25  /data/experiments/BMIAXNAT_E80075  xnat:mrScanData  usable   \n18390  2016-07-25  /data/experiments/BMIAXNAT_E80075  xnat:mrScanData  usable   \n18391  2016-07-25  /data/experiments/BMIAXNAT_E80075  xnat:mrScanData  usable   \n18392  2016-07-25  /data/experiments/BMIAXNAT_E80075  xnat:mrScanData  usable   \n18393  2016-07-25  /data/experiments/BMIAXNAT_E80075  xnat:mrScanData  usable   \n\n      ID_scan xnat_imagescandata_id series_description           type note  \\\n0         101               11610.0             SURVEY         SURVEY  NaN   \n1         401               11611.0        sB-TFE_2KLV    sB-TFE_2KLV  NaN   \n2         501               11612.0        sB-TFE_2KRV    sB-TFE_2KRV  NaN   \n3         601               11613.0          SurveyPWV      SURVEYpwv  NaN   \n4         701               11614.0          sB-TFE_4K      sB-TFE_4K  NaN   \n...       ...                   ...                ...            ...  ...   \n18389     701              411982.0         QF min wfs     QF min wfs  NaN   \n18390     801              411983.0          ASL SENSE     asl_source  NaN   \n18391     802              411984.0         sPerfusion  perfusion_map  NaN   \n18392     901              411985.0    M0 meting SENSE             M0  NaN   \n18393    1001              411986.0       SWI EPI 2min            SWI  NaN   \n\n                                           URI_scan  \n0       /data/experiments/BMIAXNAT_E00747/scans/101  \n1       /data/experiments/BMIAXNAT_E00747/scans/401  \n2       /data/experiments/BMIAXNAT_E00747/scans/501  \n3       /data/experiments/BMIAXNAT_E00747/scans/601  \n4       /data/experiments/BMIAXNAT_E00747/scans/701  \n...                                             ...  \n18389   /data/experiments/BMIAXNAT_E80075/scans/701  \n18390   /data/experiments/BMIAXNAT_E80075/scans/801  \n18391   /data/experiments/BMIAXNAT_E80075/scans/802  \n18392   /data/experiments/BMIAXNAT_E80075/scans/901  \n18393  /data/experiments/BMIAXNAT_E80075/scans/1001  \n\n[18394 rows x 22 columns]",
      "text/html": "<div>\n<style scoped>\n    .dataframe tbody tr th:only-of-type {\n        vertical-align: middle;\n    }\n\n    .dataframe tbody tr th {\n        vertical-align: top;\n    }\n\n    .dataframe thead th {\n        text-align: right;\n    }\n</style>\n<table border=\"1\" class=\"dataframe\">\n  <thead>\n    <tr style=\"text-align: right;\">\n      <th></th>\n      <th>project_sub</th>\n      <th>insert_user</th>\n      <th>ID_sub</th>\n      <th>insert_date_sub</th>\n      <th>label_sub</th>\n      <th>URI_sub</th>\n      <th>project_exp</th>\n      <th>xsiType</th>\n      <th>ID_exp</th>\n      <th>xnat_subjectassessordata_id</th>\n      <th>...</th>\n      <th>date</th>\n      <th>URI_exp</th>\n      <th>xsiType_scan</th>\n      <th>quality</th>\n      <th>ID_scan</th>\n      <th>xnat_imagescandata_id</th>\n      <th>series_description</th>\n      <th>type</th>\n      <th>note</th>\n      <th>URI_scan</th>\n    </tr>\n  </thead>\n  <tbody>\n    <tr>\n      <th>0</th>\n      <td>cvonhartbrein</td>\n      <td>admin</td>\n      <td>BMIAXNAT_S00286</td>\n      <td>2015-04-22 15:36:30.585</td>\n      <td>A1001</td>\n      <td>/data/subjects/BMIAXNAT_S00286</td>\n      <td>cvonhartbrein</td>\n      <td>xnat:mrSessionData</td>\n      <td>BMIAXNAT_E00747</td>\n      <td>BMIAXNAT_E00747</td>\n      <td>...</td>\n      <td>2014-09-04</td>\n      <td>/data/experiments/BMIAXNAT_E00747</td>\n      <td>xnat:mrScanData</td>\n      <td>usable</td>\n      <td>101</td>\n      <td>11610.0</td>\n      <td>SURVEY</td>\n      <td>SURVEY</td>\n      <td>NaN</td>\n      <td>/data/experiments/BMIAXNAT_E00747/scans/101</td>\n    </tr>\n    <tr>\n      <th>1</th>\n      <td>cvonhartbrein</td>\n      <td>admin</td>\n      <td>BMIAXNAT_S00286</td>\n      <td>2015-04-22 15:36:30.585</td>\n      <td>A1001</td>\n      <td>/data/subjects/BMIAXNAT_S00286</td>\n      <td>cvonhartbrein</td>\n      <td>xnat:mrSessionData</td>\n      <td>BMIAXNAT_E00747</td>\n      <td>BMIAXNAT_E00747</td>\n      <td>...</td>\n      <td>2014-09-04</td>\n      <td>/data/experiments/BMIAXNAT_E00747</td>\n      <td>xnat:mrScanData</td>\n      <td>usable</td>\n      <td>401</td>\n      <td>11611.0</td>\n      <td>sB-TFE_2KLV</td>\n      <td>sB-TFE_2KLV</td>\n      <td>NaN</td>\n      <td>/data/experiments/BMIAXNAT_E00747/scans/401</td>\n    </tr>\n    <tr>\n      <th>2</th>\n      <td>cvonhartbrein</td>\n      <td>admin</td>\n      <td>BMIAXNAT_S00286</td>\n      <td>2015-04-22 15:36:30.585</td>\n      <td>A1001</td>\n      <td>/data/subjects/BMIAXNAT_S00286</td>\n      <td>cvonhartbrein</td>\n      <td>xnat:mrSessionData</td>\n      <td>BMIAXNAT_E00747</td>\n      <td>BMIAXNAT_E00747</td>\n      <td>...</td>\n      <td>2014-09-04</td>\n      <td>/data/experiments/BMIAXNAT_E00747</td>\n      <td>xnat:mrScanData</td>\n      <td>usable</td>\n      <td>501</td>\n      <td>11612.0</td>\n      <td>sB-TFE_2KRV</td>\n      <td>sB-TFE_2KRV</td>\n      <td>NaN</td>\n      <td>/data/experiments/BMIAXNAT_E00747/scans/501</td>\n    </tr>\n    <tr>\n      <th>3</th>\n      <td>cvonhartbrein</td>\n      <td>admin</td>\n      <td>BMIAXNAT_S00286</td>\n      <td>2015-04-22 15:36:30.585</td>\n      <td>A1001</td>\n      <td>/data/subjects/BMIAXNAT_S00286</td>\n      <td>cvonhartbrein</td>\n      <td>xnat:mrSessionData</td>\n      <td>BMIAXNAT_E00747</td>\n      <td>BMIAXNAT_E00747</td>\n      <td>...</td>\n      <td>2014-09-04</td>\n      <td>/data/experiments/BMIAXNAT_E00747</td>\n      <td>xnat:mrScanData</td>\n      <td>usable</td>\n      <td>601</td>\n      <td>11613.0</td>\n      <td>SurveyPWV</td>\n      <td>SURVEYpwv</td>\n      <td>NaN</td>\n      <td>/data/experiments/BMIAXNAT_E00747/scans/601</td>\n    </tr>\n    <tr>\n      <th>4</th>\n      <td>cvonhartbrein</td>\n      <td>admin</td>\n      <td>BMIAXNAT_S00286</td>\n      <td>2015-04-22 15:36:30.585</td>\n      <td>A1001</td>\n      <td>/data/subjects/BMIAXNAT_S00286</td>\n      <td>cvonhartbrein</td>\n      <td>xnat:mrSessionData</td>\n      <td>BMIAXNAT_E00747</td>\n      <td>BMIAXNAT_E00747</td>\n      <td>...</td>\n      <td>2014-09-04</td>\n      <td>/data/experiments/BMIAXNAT_E00747</td>\n      <td>xnat:mrScanData</td>\n      <td>usable</td>\n      <td>701</td>\n      <td>11614.0</td>\n      <td>sB-TFE_4K</td>\n      <td>sB-TFE_4K</td>\n      <td>NaN</td>\n      <td>/data/experiments/BMIAXNAT_E00747/scans/701</td>\n    </tr>\n    <tr>\n      <th>...</th>\n      <td>...</td>\n      <td>...</td>\n      <td>...</td>\n      <td>...</td>\n      <td>...</td>\n      <td>...</td>\n      <td>...</td>\n      <td>...</td>\n      <td>...</td>\n      <td>...</td>\n      <td>...</td>\n      <td>...</td>\n      <td>...</td>\n      <td>...</td>\n      <td>...</td>\n      <td>...</td>\n      <td>...</td>\n      <td>...</td>\n      <td>...</td>\n      <td>...</td>\n      <td>...</td>\n    </tr>\n    <tr>\n      <th>18389</th>\n      <td>cvonhartbrein</td>\n      <td>hachterberg</td>\n      <td>BMIAXNAT_S20581</td>\n      <td>2020-01-11 03:03:53.304</td>\n      <td>M3120</td>\n      <td>/data/subjects/BMIAXNAT_S20581</td>\n      <td>cvonhartbrein</td>\n      <td>xnat:mrSessionData</td>\n      <td>BMIAXNAT_E80075</td>\n      <td>BMIAXNAT_E80075</td>\n      <td>...</td>\n      <td>2016-07-25</td>\n      <td>/data/experiments/BMIAXNAT_E80075</td>\n      <td>xnat:mrScanData</td>\n      <td>usable</td>\n      <td>701</td>\n      <td>411982.0</td>\n      <td>QF min wfs</td>\n      <td>QF min wfs</td>\n      <td>NaN</td>\n      <td>/data/experiments/BMIAXNAT_E80075/scans/701</td>\n    </tr>\n    <tr>\n      <th>18390</th>\n      <td>cvonhartbrein</td>\n      <td>hachterberg</td>\n      <td>BMIAXNAT_S20581</td>\n      <td>2020-01-11 03:03:53.304</td>\n      <td>M3120</td>\n      <td>/data/subjects/BMIAXNAT_S20581</td>\n      <td>cvonhartbrein</td>\n      <td>xnat:mrSessionData</td>\n      <td>BMIAXNAT_E80075</td>\n      <td>BMIAXNAT_E80075</td>\n      <td>...</td>\n      <td>2016-07-25</td>\n      <td>/data/experiments/BMIAXNAT_E80075</td>\n      <td>xnat:mrScanData</td>\n      <td>usable</td>\n      <td>801</td>\n      <td>411983.0</td>\n      <td>ASL SENSE</td>\n      <td>asl_source</td>\n      <td>NaN</td>\n      <td>/data/experiments/BMIAXNAT_E80075/scans/801</td>\n    </tr>\n    <tr>\n      <th>18391</th>\n      <td>cvonhartbrein</td>\n      <td>hachterberg</td>\n      <td>BMIAXNAT_S20581</td>\n      <td>2020-01-11 03:03:53.304</td>\n      <td>M3120</td>\n      <td>/data/subjects/BMIAXNAT_S20581</td>\n      <td>cvonhartbrein</td>\n      <td>xnat:mrSessionData</td>\n      <td>BMIAXNAT_E80075</td>\n      <td>BMIAXNAT_E80075</td>\n      <td>...</td>\n      <td>2016-07-25</td>\n      <td>/data/experiments/BMIAXNAT_E80075</td>\n      <td>xnat:mrScanData</td>\n      <td>usable</td>\n      <td>802</td>\n      <td>411984.0</td>\n      <td>sPerfusion</td>\n      <td>perfusion_map</td>\n      <td>NaN</td>\n      <td>/data/experiments/BMIAXNAT_E80075/scans/802</td>\n    </tr>\n    <tr>\n      <th>18392</th>\n      <td>cvonhartbrein</td>\n      <td>hachterberg</td>\n      <td>BMIAXNAT_S20581</td>\n      <td>2020-01-11 03:03:53.304</td>\n      <td>M3120</td>\n      <td>/data/subjects/BMIAXNAT_S20581</td>\n      <td>cvonhartbrein</td>\n      <td>xnat:mrSessionData</td>\n      <td>BMIAXNAT_E80075</td>\n      <td>BMIAXNAT_E80075</td>\n      <td>...</td>\n      <td>2016-07-25</td>\n      <td>/data/experiments/BMIAXNAT_E80075</td>\n      <td>xnat:mrScanData</td>\n      <td>usable</td>\n      <td>901</td>\n      <td>411985.0</td>\n      <td>M0 meting SENSE</td>\n      <td>M0</td>\n      <td>NaN</td>\n      <td>/data/experiments/BMIAXNAT_E80075/scans/901</td>\n    </tr>\n    <tr>\n      <th>18393</th>\n      <td>cvonhartbrein</td>\n      <td>hachterberg</td>\n      <td>BMIAXNAT_S20581</td>\n      <td>2020-01-11 03:03:53.304</td>\n      <td>M3120</td>\n      <td>/data/subjects/BMIAXNAT_S20581</td>\n      <td>cvonhartbrein</td>\n      <td>xnat:mrSessionData</td>\n      <td>BMIAXNAT_E80075</td>\n      <td>BMIAXNAT_E80075</td>\n      <td>...</td>\n      <td>2016-07-25</td>\n      <td>/data/experiments/BMIAXNAT_E80075</td>\n      <td>xnat:mrScanData</td>\n      <td>usable</td>\n      <td>1001</td>\n      <td>411986.0</td>\n      <td>SWI EPI 2min</td>\n      <td>SWI</td>\n      <td>NaN</td>\n      <td>/data/experiments/BMIAXNAT_E80075/scans/1001</td>\n    </tr>\n  </tbody>\n</table>\n<p>18394 rows × 22 columns</p>\n</div>"
     },
     "execution_count": 70,
     "metadata": {},
     "output_type": "execute_result"
    }
   ],
   "source": [
    "CleanedFrame"
   ],
   "metadata": {
    "collapsed": false,
    "ExecuteTime": {
     "end_time": "2023-10-05T09:28:26.887188480Z",
     "start_time": "2023-10-05T09:28:26.852323419Z"
    }
   },
   "id": "491f153f201cede4"
  },
  {
   "cell_type": "code",
   "execution_count": 71,
   "outputs": [],
   "source": [
    "CleanedFrame.to_csv('CleanedFrame.csv')"
   ],
   "metadata": {
    "collapsed": false,
    "ExecuteTime": {
     "end_time": "2023-10-05T09:28:28.422307984Z",
     "start_time": "2023-10-05T09:28:28.255314660Z"
    }
   },
   "id": "8f48e46dfad014c4"
  },
  {
   "cell_type": "code",
   "execution_count": 16,
   "outputs": [
    {
     "data": {
      "text/plain": "array(['CENTRAL_E09366', 'CENTRAL02_E04743', 'CENTRAL_E09361', ...,\n       'CENTRAL02_E03007', 'CENTRAL02_E03240', 'CENTRAL02_E05934'],\n      dtype=object)"
     },
     "execution_count": 16,
     "metadata": {},
     "output_type": "execute_result"
    }
   ],
   "source": [
    "downloadKeys"
   ],
   "metadata": {
    "collapsed": false,
    "ExecuteTime": {
     "end_time": "2023-10-04T07:18:18.668361333Z",
     "start_time": "2023-10-04T07:18:18.658828126Z"
    }
   },
   "id": "684958a756b43bab"
  },
  {
   "cell_type": "code",
   "execution_count": 17,
   "outputs": [
    {
     "name": "stderr",
     "output_type": "stream",
     "text": [
      "230.0 MiB |            #                                          |  10.1 MiB/s\n",
      " 18.5 MiB |                 #                                     |  10.5 MiB/s\n",
      "232.0 MiB |             #                                         |   8.3 MiB/s\n",
      "218.6 MiB |#                                                      |  10.2 MiB/s\n"
     ]
    }
   ],
   "source": [
    "with xnat.connect('https://central.xnat.org',user='svanloh',password=xnatpw) as session:\n",
    "    for i,expid in enumerate(downloadKeys):\n",
    "        experiment = session.experiments[expid]\n",
    "        experiment.download_dir('oasis3downloads')\n",
    "        if i >2:\n",
    "            break"
   ],
   "metadata": {
    "collapsed": false,
    "ExecuteTime": {
     "end_time": "2023-10-04T07:23:02.838138737Z",
     "start_time": "2023-10-04T07:21:15.625509202Z"
    }
   },
   "id": "941523928f90ef31"
  },
  {
   "cell_type": "code",
   "execution_count": null,
   "outputs": [],
   "source": [
    "def download_experiments(dataframe,dirname, server, user, pw):\n",
    "    downloadKeys = dataframe['ID_exp'].unique()\n",
    "    with xnat.connect(server,user=user,password=pw) as session:\n",
    "        for i,expid in enumerate(downloadKeys):\n",
    "            experiment = session.experiments[expid]\n",
    "            experiment.download_dir(dirname)\n",
    "            if i >2:\n",
    "                break"
   ],
   "metadata": {
    "collapsed": false
   },
   "id": "c79a27b8f8d83838"
  }
 ],
 "metadata": {
  "kernelspec": {
   "display_name": "Python 3",
   "language": "python",
   "name": "python3"
  },
  "language_info": {
   "codemirror_mode": {
    "name": "ipython",
    "version": 2
   },
   "file_extension": ".py",
   "mimetype": "text/x-python",
   "name": "python",
   "nbconvert_exporter": "python",
   "pygments_lexer": "ipython2",
   "version": "2.7.6"
  }
 },
 "nbformat": 4,
 "nbformat_minor": 5
}
