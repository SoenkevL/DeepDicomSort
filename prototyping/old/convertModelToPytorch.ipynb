{
 "cells": [
  {
   "cell_type": "code",
   "execution_count": null,
   "id": "initial_id",
   "metadata": {
    "collapsed": true
   },
   "outputs": [],
   "source": [
    "import tensorflow as tf\n",
    "import torch\n",
    "from Pytorch_monai.Model_and_transforms import Net"
   ]
  },
  {
   "cell_type": "code",
   "execution_count": null,
   "outputs": [],
   "source": [
    "def transferLearningDict(tf_model_path): #works only for the two model provided by the author and only updated the weights of specific layers in hope to speed up the training process\n",
    "    tf_model = tf.keras.models.load_model(tf_model_path)\n",
    "    return {\n",
    "        'conv1.weight':torch.Tensor(tf_model.get_layers('conv2d').get_weights()[0].transpose(3, 2, 0, 1)),\n",
    "        'conv1.bias':torch.Tensor(tf_model.get_layers('conv2d').get_weights()[1]),\n",
    "        'conv2.weight':torch.Tensor(tf_model.get_layers('conv2d_1').get_weights()[0].transpose(3, 2, 0, 1)),\n",
    "        'conv2.bias':torch.Tensor(tf_model.get_layers('conv2d_1').get_weights()[1]),\n",
    "        'conv3.weight':torch.Tensor(tf_model.get_layers('conv2d_2').get_weights()[0].transpose(3, 2, 0, 1)),\n",
    "        'conv3.bias':torch.Tensor(tf_model.get_layers('conv2d_2').get_weights()[1]),\n",
    "        'conv4.weight':torch.Tensor(tf_model.get_layers('conv2d_3').get_weights()[0].transpose(3, 2, 0, 1)),\n",
    "        'conv4.bias':torch.Tensor(tf_model.get_layers('conv2d_3').get_weights()[1]),\n",
    "        'conv5.weight':torch.Tensor(tf_model.get_layers('conv2d_4').get_weights()[0].transpose(3, 2, 0, 1)),\n",
    "        'conv5.bias':torch.Tensor(tf_model.get_layers('conv2d_4').get_weights()[1]),\n",
    "        'conv6.weight':torch.Tensor(tf_model.get_layers('conv2d_5').get_weights()[0].transpose(3, 2, 0, 1)),\n",
    "        'conv6.bias':torch.Tensor(tf_model.get_layers('conv2d_5').get_weights()[1]),\n",
    "        'fc1.weight':torch.Tensor(tf_model.get_layers('dense').get_weights()[0].transpose(1,0)[:,:-1]),\n",
    "        'fc1.bias':torch.Tensor(tf_model.get_layers('dense').get_weights()[1]),\n",
    "        # 'fc2.weight':torch.Tensor(tf_model.get_layers('dense_1').get_weights()[0].transpose(1,0)),\n",
    "        # 'fc2.bias':torch.Tensor(tf_model.get_layers('dense_1').get_weights()[1])\n",
    "    }"
   ],
   "metadata": {
    "collapsed": false
   },
   "id": "153b74c93fd9a444"
  },
  {
   "cell_type": "code",
   "execution_count": null,
   "outputs": [],
   "source": [
    "#testModel = weight_loading('/home/soenke/Internship/DeepDicomSortFork/Trained_Models/model_all_brain_tumor_data.hdf5')"
   ],
   "metadata": {
    "collapsed": false
   },
   "id": "e95269b93dc39a13"
  },
  {
   "cell_type": "code",
   "execution_count": null,
   "outputs": [],
   "source": [
    "tf_model = tf.keras.models.load_model('/home/soenke/Internship/DeepDicomSortFork/Trained_Models/model_all_brain_tumor_data.hdf5')\n",
    "pt_model=Net(n_outputclasses=8)\n",
    "sd = pt_model.state_dict()"
   ],
   "metadata": {
    "collapsed": false
   },
   "id": "5b5338484e39b797"
  },
  {
   "cell_type": "code",
   "execution_count": null,
   "outputs": [],
   "source": [
    "tf_layers = tf_model.layers"
   ],
   "metadata": {
    "collapsed": false
   },
   "id": "e4d045324fed3a94"
  },
  {
   "cell_type": "code",
   "execution_count": null,
   "outputs": [],
   "source": [
    "for i,layer in enumerate(tf_model.layers):\n",
    "    print(layer.name)\n",
    "    for j in range(len(layer.get_weights())):\n",
    "        print(layer.get_weights()[j].shape)"
   ],
   "metadata": {
    "collapsed": false
   },
   "id": "c2a7f543fba25a0e"
  },
  {
   "cell_type": "code",
   "execution_count": null,
   "outputs": [],
   "source": [
    "torch.Tensor(tf_model.get_layer('dense').get_weights()[0].transpose(1,0)[:,:-1]).shape"
   ],
   "metadata": {
    "collapsed": false
   },
   "id": "82350bed0750c3b2"
  },
  {
   "cell_type": "code",
   "execution_count": null,
   "outputs": [],
   "source": [
    "transferConvStateDict = {\n",
    "    'conv1.weight':torch.Tensor(tf_model.get_layer('conv2d').get_weights()[0].transpose(3, 2, 0, 1)),\n",
    "    'conv1.bias':torch.Tensor(tf_model.get_layer('conv2d').get_weights()[1]),\n",
    "    'conv2.weight':torch.Tensor(tf_model.get_layer('conv2d_1').get_weights()[0].transpose(3, 2, 0, 1)),\n",
    "    'conv2.bias':torch.Tensor(tf_model.get_layer('conv2d_1').get_weights()[1]),\n",
    "    'conv3.weight':torch.Tensor(tf_model.get_layer('conv2d_2').get_weights()[0].transpose(3, 2, 0, 1)),\n",
    "    'conv3.bias':torch.Tensor(tf_model.get_layer('conv2d_2').get_weights()[1]),\n",
    "    'conv4.weight':torch.Tensor(tf_model.get_layer('conv2d_3').get_weights()[0].transpose(3, 2, 0, 1)),\n",
    "    'conv4.bias':torch.Tensor(tf_model.get_layer('conv2d_3').get_weights()[1]),\n",
    "    'conv5.weight':torch.Tensor(tf_model.get_layer('conv2d_4').get_weights()[0].transpose(3, 2, 0, 1)),\n",
    "    'conv5.bias':torch.Tensor(tf_model.get_layer('conv2d_4').get_weights()[1]),\n",
    "    'conv6.weight':torch.Tensor(tf_model.get_layer('conv2d_5').get_weights()[0].transpose(3, 2, 0, 1)),\n",
    "    'conv6.bias':torch.Tensor(tf_model.get_layer('conv2d_5').get_weights()[1]),\n",
    "    'fc1.weight':torch.Tensor(tf_model.get_layer('dense').get_weights()[0].transpose(1,0)[:,:-1]),\n",
    "    'fc1.bias':torch.Tensor(tf_model.get_layer('dense').get_weights()[1])\n",
    "}"
   ],
   "metadata": {
    "collapsed": false
   },
   "id": "d01e40de407ac2b6"
  },
  {
   "cell_type": "code",
   "execution_count": null,
   "outputs": [],
   "source": [
    "for key in sd.keys():\n",
    "    print(f'{key}:{sd[key].shape}')"
   ],
   "metadata": {
    "collapsed": false
   },
   "id": "3ee4fe4b4969b7a8"
  },
  {
   "cell_type": "code",
   "execution_count": null,
   "outputs": [],
   "source": [
    "torch.save(transferConvStateDict,'transferStateDict_withDense1.pt')"
   ],
   "metadata": {
    "collapsed": false
   },
   "id": "853cb5a41f0ac547"
  },
  {
   "cell_type": "code",
   "execution_count": null,
   "outputs": [],
   "source": [
    "testdict = torch.load('transferStateDict.pt')"
   ],
   "metadata": {
    "collapsed": false
   },
   "id": "81f28ff3bdb4c394"
  },
  {
   "cell_type": "code",
   "execution_count": null,
   "outputs": [],
   "source": [
    "testdict.keys()"
   ],
   "metadata": {
    "collapsed": false
   },
   "id": "1288fade8567bef7"
  },
  {
   "cell_type": "code",
   "execution_count": null,
   "outputs": [],
   "source": [
    "sd['conv1.weight']"
   ],
   "metadata": {
    "collapsed": false
   },
   "id": "fed9f02a32da8548"
  },
  {
   "cell_type": "code",
   "execution_count": null,
   "outputs": [],
   "source": [
    "for key in sd.keys():\n",
    "    if key in testdict.keys():\n",
    "        sd[key] = testdict[key]"
   ],
   "metadata": {
    "collapsed": false
   },
   "id": "bf312eb311a1cb5e"
  },
  {
   "cell_type": "code",
   "execution_count": null,
   "outputs": [],
   "source": [
    "sd['conv1.weight']"
   ],
   "metadata": {
    "collapsed": false
   },
   "id": "e7bc1884dccfa02f"
  },
  {
   "cell_type": "code",
   "execution_count": null,
   "outputs": [],
   "source": [
    "pt_model.load_state_dict(sd)"
   ],
   "metadata": {
    "collapsed": false
   },
   "id": "86c6efebe7318322"
  },
  {
   "cell_type": "code",
   "execution_count": null,
   "outputs": [],
   "source": [],
   "metadata": {
    "collapsed": false
   },
   "id": "4619a299981d08c3"
  },
  {
   "cell_type": "code",
   "execution_count": null,
   "outputs": [],
   "source": [],
   "metadata": {
    "collapsed": false
   },
   "id": "1753471029e89d8b"
  }
 ],
 "metadata": {
  "kernelspec": {
   "display_name": "Python 3",
   "language": "python",
   "name": "python3"
  },
  "language_info": {
   "codemirror_mode": {
    "name": "ipython",
    "version": 2
   },
   "file_extension": ".py",
   "mimetype": "text/x-python",
   "name": "python",
   "nbconvert_exporter": "python",
   "pygments_lexer": "ipython2",
   "version": "2.7.6"
  }
 },
 "nbformat": 4,
 "nbformat_minor": 5
}
