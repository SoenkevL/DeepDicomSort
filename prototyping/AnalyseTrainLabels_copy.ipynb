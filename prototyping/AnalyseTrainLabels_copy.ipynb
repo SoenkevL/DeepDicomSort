{
 "cells": [
  {
   "cell_type": "code",
   "execution_count": 2,
   "id": "initial_id",
   "metadata": {
    "collapsed": true,
    "ExecuteTime": {
     "end_time": "2023-11-30T09:23:35.861780350Z",
     "start_time": "2023-11-30T09:23:35.622576263Z"
    }
   },
   "outputs": [],
   "source": [
    "import os.path\n",
    "\n",
    "import numpy as np\n",
    "import pandas as pd"
   ]
  },
  {
   "cell_type": "code",
   "execution_count": 3,
   "outputs": [],
   "source": [
    "classesDict = {\n",
    "    \"T1\":0,\n",
    "    \"T1_c\":1,\n",
    "    \"T2\":2,\n",
    "    \"T2-FLAIR\":3,\n",
    "    \"PD\":4,\n",
    "    \"SWI\":5,\n",
    "    \"GRE\":6,\n",
    "    \"T2*\":7,\n",
    "    \"DWI\":8,\n",
    "    \"ADC\":9,\n",
    "    \"BOLD\":10,\n",
    "    \"angio\":11,\n",
    "    \"PWI\":12,\n",
    "    \"ASL\":13,\n",
    "    \"DTI\":14,\n",
    "    \"Other\":15\n",
    "}\n",
    "orig_label_list = list(classesDict.keys())"
   ],
   "metadata": {
    "collapsed": false,
    "ExecuteTime": {
     "end_time": "2023-11-30T09:23:35.970617024Z",
     "start_time": "2023-11-30T09:23:35.924754086Z"
    }
   },
   "id": "edc6427f3b7f991f"
  },
  {
   "cell_type": "code",
   "execution_count": 4,
   "outputs": [],
   "source": [
    "train_labels_path = 'combinedDfs/CombinedTrainingFrame_A2_A3_O3_egd_rss_hb_pruned.txt'\n",
    "test_labels_path = 'combinedDfs/CombinedTestingFrame_A2_A3_O3_egd_rss_hb_pruned.txt'"
   ],
   "metadata": {
    "collapsed": false,
    "ExecuteTime": {
     "end_time": "2023-11-30T09:23:36.273070808Z",
     "start_time": "2023-11-30T09:23:36.257255549Z"
    }
   },
   "id": "1d14e77d3b5bfbc5"
  },
  {
   "cell_type": "code",
   "execution_count": 5,
   "outputs": [],
   "source": [
    "train_labels = pd.read_csv(train_labels_path,names=['ID','label','extra'],sep='\\t', dtype={'ID':str,'label':int,'extra':int})\n",
    "test_labels = pd.read_csv(test_labels_path,names=['ID','label','extra'],sep='\\t', dtype={'ID':str,'label':int,'extra':int})"
   ],
   "metadata": {
    "collapsed": false,
    "ExecuteTime": {
     "end_time": "2023-11-30T09:23:37.791329469Z",
     "start_time": "2023-11-30T09:23:36.687716613Z"
    }
   },
   "id": "4ca9e042b04aded4"
  },
  {
   "cell_type": "code",
   "execution_count": 6,
   "outputs": [],
   "source": [
    "Label_name_list = list(classesDict.keys())"
   ],
   "metadata": {
    "collapsed": false,
    "ExecuteTime": {
     "end_time": "2023-11-30T09:23:37.800095053Z",
     "start_time": "2023-11-30T09:23:37.793127505Z"
    }
   },
   "id": "e56a9c4bfe44909e"
  },
  {
   "cell_type": "code",
   "execution_count": 7,
   "outputs": [
    {
     "data": {
      "text/plain": "                                                      ID  label  extra\n0      /trinity/home/r098375/DDS/data/ADNI/ADNI3/trai...      3      0\n1      /trinity/home/r098375/DDS/data/ADNI/ADNI3/trai...      7      0\n2      /trinity/home/r098375/DDS/data/ADNI/ADNI3/trai...      0      0\n3      /trinity/home/r098375/DDS/data/ADNI/ADNI3/trai...      3      0\n4      /trinity/home/r098375/DDS/data/ADNI/ADNI3/trai...     15      0\n...                                                  ...    ...    ...\n63715  /data/scratch/r098375/data/HeartBrain/NIFTI_SL...     12      0\n63716  /data/scratch/r098375/data/HeartBrain/NIFTI_SL...     12      0\n63717  /data/scratch/r098375/data/HeartBrain/NIFTI_SL...     12      0\n63718  /data/scratch/r098375/data/HeartBrain/NIFTI_SL...     12      0\n63719  /data/scratch/r098375/data/HeartBrain/NIFTI_SL...     12      0\n\n[610650 rows x 3 columns]",
      "text/html": "<div>\n<style scoped>\n    .dataframe tbody tr th:only-of-type {\n        vertical-align: middle;\n    }\n\n    .dataframe tbody tr th {\n        vertical-align: top;\n    }\n\n    .dataframe thead th {\n        text-align: right;\n    }\n</style>\n<table border=\"1\" class=\"dataframe\">\n  <thead>\n    <tr style=\"text-align: right;\">\n      <th></th>\n      <th>ID</th>\n      <th>label</th>\n      <th>extra</th>\n    </tr>\n  </thead>\n  <tbody>\n    <tr>\n      <th>0</th>\n      <td>/trinity/home/r098375/DDS/data/ADNI/ADNI3/trai...</td>\n      <td>3</td>\n      <td>0</td>\n    </tr>\n    <tr>\n      <th>1</th>\n      <td>/trinity/home/r098375/DDS/data/ADNI/ADNI3/trai...</td>\n      <td>7</td>\n      <td>0</td>\n    </tr>\n    <tr>\n      <th>2</th>\n      <td>/trinity/home/r098375/DDS/data/ADNI/ADNI3/trai...</td>\n      <td>0</td>\n      <td>0</td>\n    </tr>\n    <tr>\n      <th>3</th>\n      <td>/trinity/home/r098375/DDS/data/ADNI/ADNI3/trai...</td>\n      <td>3</td>\n      <td>0</td>\n    </tr>\n    <tr>\n      <th>4</th>\n      <td>/trinity/home/r098375/DDS/data/ADNI/ADNI3/trai...</td>\n      <td>15</td>\n      <td>0</td>\n    </tr>\n    <tr>\n      <th>...</th>\n      <td>...</td>\n      <td>...</td>\n      <td>...</td>\n    </tr>\n    <tr>\n      <th>63715</th>\n      <td>/data/scratch/r098375/data/HeartBrain/NIFTI_SL...</td>\n      <td>12</td>\n      <td>0</td>\n    </tr>\n    <tr>\n      <th>63716</th>\n      <td>/data/scratch/r098375/data/HeartBrain/NIFTI_SL...</td>\n      <td>12</td>\n      <td>0</td>\n    </tr>\n    <tr>\n      <th>63717</th>\n      <td>/data/scratch/r098375/data/HeartBrain/NIFTI_SL...</td>\n      <td>12</td>\n      <td>0</td>\n    </tr>\n    <tr>\n      <th>63718</th>\n      <td>/data/scratch/r098375/data/HeartBrain/NIFTI_SL...</td>\n      <td>12</td>\n      <td>0</td>\n    </tr>\n    <tr>\n      <th>63719</th>\n      <td>/data/scratch/r098375/data/HeartBrain/NIFTI_SL...</td>\n      <td>12</td>\n      <td>0</td>\n    </tr>\n  </tbody>\n</table>\n<p>610650 rows × 3 columns</p>\n</div>"
     },
     "execution_count": 7,
     "metadata": {},
     "output_type": "execute_result"
    }
   ],
   "source": [
    "Labels = pd.concat((train_labels, test_labels), axis=0)\n",
    "Labels"
   ],
   "metadata": {
    "collapsed": false,
    "ExecuteTime": {
     "end_time": "2023-11-30T09:23:37.836246482Z",
     "start_time": "2023-11-30T09:23:37.795647302Z"
    }
   },
   "id": "9a4c9676255b78c"
  },
  {
   "cell_type": "code",
   "execution_count": 8,
   "outputs": [],
   "source": [
    "all_binnings_dict = {\n",
    "    'DDS_binning': {\n",
    "        'non_DDS': ['SWI', 'GRE', 'T2*', 'ADC', 'BOLD', 'angio', 'ASL', 'DTI']\n",
    "    },\n",
    "    'alternative_binning': {\n",
    "        'diffusion': ['DWI', 'ADC', 'DTI'],\n",
    "        'perfusion': ['BOLD', 'ASL', 'angio', 'PWI'],\n",
    "        'suscept': ['SWI', 'GRE', 'T2*']\n",
    "    }\n",
    "}\n",
    "\n",
    "\n",
    "def createBinning(original_labelmap, binningDict):\n",
    "    orignal_labelmap_copy = original_labelmap.copy()\n",
    "    new_labelmap = {}\n",
    "    transfer_array = np.zeros(len(original_labelmap))\n",
    "    class_counter = 0\n",
    "    for bin_name, bin_items in binningDict.items():\n",
    "        new_labelmap[bin_name] = class_counter\n",
    "        for item in list(bin_items):\n",
    "            transfer_array[original_labelmap[item]] = class_counter\n",
    "            orignal_labelmap_copy.pop(item)\n",
    "        class_counter += 1\n",
    "    for name, item in orignal_labelmap_copy.items():\n",
    "        new_labelmap[name] = class_counter\n",
    "        transfer_array[item] = class_counter\n",
    "        class_counter += 1\n",
    "    unchangedLabels = orignal_labelmap_copy\n",
    "    return new_labelmap, transfer_array, class_counter, unchangedLabels\n",
    "\n",
    "\n",
    "new_labelmap, transfer_array, class_counter, unchangedLabels = (createBinning\n",
    "                                                                (classesDict,\n",
    "                                        all_binnings_dict['alternative_binning'])\n",
    "                                                                )\n",
    "alt_label_list = list(new_labelmap.keys())\n",
    "\n",
    "def apply_binning_to_df(original_df, transfer_array, suffix=\"\"):\n",
    "    df = original_df.copy()\n",
    "    suffix = '_' + suffix\n",
    "    df[f'label{suffix}'] = df['label'].apply(lambda x: int(transfer_array[x]))\n",
    "    return df"
   ],
   "metadata": {
    "collapsed": false,
    "ExecuteTime": {
     "end_time": "2023-11-30T09:23:38.490459108Z",
     "start_time": "2023-11-30T09:23:38.459970705Z"
    }
   },
   "id": "a54154ac3c469c14"
  },
  {
   "cell_type": "code",
   "execution_count": 11,
   "outputs": [
    {
     "data": {
      "text/plain": "{'diffusion': 0,\n 'perfusion': 1,\n 'suscept': 2,\n 'T1': 3,\n 'T1_c': 4,\n 'T2': 5,\n 'T2-FLAIR': 6,\n 'PD': 7,\n 'Other': 8}"
     },
     "execution_count": 11,
     "metadata": {},
     "output_type": "execute_result"
    }
   ],
   "source": [
    "new_labelmap"
   ],
   "metadata": {
    "collapsed": false,
    "ExecuteTime": {
     "end_time": "2023-11-30T09:24:18.016080214Z",
     "start_time": "2023-11-30T09:24:17.969174993Z"
    }
   },
   "id": "a3b7738ad0c541bd"
  },
  {
   "cell_type": "code",
   "execution_count": 12,
   "outputs": [
    {
     "data": {
      "text/plain": "                                                  ID  label  extra  label_alt  \\\n0  /trinity/home/r098375/DDS/data/ADNI/ADNI3/trai...      3      0          6   \n1  /trinity/home/r098375/DDS/data/ADNI/ADNI3/trai...      7      0          2   \n2  /trinity/home/r098375/DDS/data/ADNI/ADNI3/trai...      0      0          3   \n3  /trinity/home/r098375/DDS/data/ADNI/ADNI3/trai...      3      0          6   \n4  /trinity/home/r098375/DDS/data/ADNI/ADNI3/trai...     15      0          8   \n\n  orig_string_label alt_string_label  \n0          T2-FLAIR         T2-FLAIR  \n1               T2*          suscept  \n2                T1               T1  \n3          T2-FLAIR         T2-FLAIR  \n4             Other            Other  ",
      "text/html": "<div>\n<style scoped>\n    .dataframe tbody tr th:only-of-type {\n        vertical-align: middle;\n    }\n\n    .dataframe tbody tr th {\n        vertical-align: top;\n    }\n\n    .dataframe thead th {\n        text-align: right;\n    }\n</style>\n<table border=\"1\" class=\"dataframe\">\n  <thead>\n    <tr style=\"text-align: right;\">\n      <th></th>\n      <th>ID</th>\n      <th>label</th>\n      <th>extra</th>\n      <th>label_alt</th>\n      <th>orig_string_label</th>\n      <th>alt_string_label</th>\n    </tr>\n  </thead>\n  <tbody>\n    <tr>\n      <th>0</th>\n      <td>/trinity/home/r098375/DDS/data/ADNI/ADNI3/trai...</td>\n      <td>3</td>\n      <td>0</td>\n      <td>6</td>\n      <td>T2-FLAIR</td>\n      <td>T2-FLAIR</td>\n    </tr>\n    <tr>\n      <th>1</th>\n      <td>/trinity/home/r098375/DDS/data/ADNI/ADNI3/trai...</td>\n      <td>7</td>\n      <td>0</td>\n      <td>2</td>\n      <td>T2*</td>\n      <td>suscept</td>\n    </tr>\n    <tr>\n      <th>2</th>\n      <td>/trinity/home/r098375/DDS/data/ADNI/ADNI3/trai...</td>\n      <td>0</td>\n      <td>0</td>\n      <td>3</td>\n      <td>T1</td>\n      <td>T1</td>\n    </tr>\n    <tr>\n      <th>3</th>\n      <td>/trinity/home/r098375/DDS/data/ADNI/ADNI3/trai...</td>\n      <td>3</td>\n      <td>0</td>\n      <td>6</td>\n      <td>T2-FLAIR</td>\n      <td>T2-FLAIR</td>\n    </tr>\n    <tr>\n      <th>4</th>\n      <td>/trinity/home/r098375/DDS/data/ADNI/ADNI3/trai...</td>\n      <td>15</td>\n      <td>0</td>\n      <td>8</td>\n      <td>Other</td>\n      <td>Other</td>\n    </tr>\n  </tbody>\n</table>\n</div>"
     },
     "execution_count": 12,
     "metadata": {},
     "output_type": "execute_result"
    }
   ],
   "source": [
    "binned_df = apply_binning_to_df(Labels, transfer_array, suffix='alt')\n",
    "binned_df['orig_string_label'] = binned_df['label'].apply(lambda x: orig_label_list[x])\n",
    "binned_df['alt_string_label'] = binned_df['label_alt'].apply(lambda x: alt_label_list[x])\n",
    "binned_df.head()"
   ],
   "metadata": {
    "collapsed": false,
    "ExecuteTime": {
     "end_time": "2023-11-30T09:24:30.441265045Z",
     "start_time": "2023-11-30T09:24:30.125037388Z"
    }
   },
   "id": "5c01c993169215ca"
  },
  {
   "cell_type": "code",
   "execution_count": 13,
   "outputs": [],
   "source": [
    "FullLabelFrame = binned_df.copy()"
   ],
   "metadata": {
    "collapsed": false,
    "ExecuteTime": {
     "end_time": "2023-11-30T09:25:04.195957389Z",
     "start_time": "2023-11-30T09:25:04.098574006Z"
    }
   },
   "id": "30ae557186084b76"
  },
  {
   "cell_type": "code",
   "execution_count": 13,
   "outputs": [],
   "source": [],
   "metadata": {
    "collapsed": false,
    "ExecuteTime": {
     "end_time": "2023-11-30T09:25:04.695870057Z",
     "start_time": "2023-11-30T09:25:04.685503179Z"
    }
   },
   "id": "5f48ac48ebf63659"
  },
  {
   "cell_type": "code",
   "execution_count": 15,
   "outputs": [
    {
     "data": {
      "text/plain": "alt_string_label  orig_string_label\nOther             Other                11955.0\nPD                PD                     256.0\nT1                T1                    5242.0\nT1_c              T1_c                   385.0\nT2                T2                    2939.0\nT2-FLAIR          T2-FLAIR              2770.0\ndiffusion         DWI                   2462.0\n                  DTI                    161.0\n                  ADC                    113.0\nperfusion         BOLD                  3034.0\n                  ASL                   1631.0\n                  PWI                   1446.0\n                  angio                  557.0\nsuscept           T2*                   5392.0\n                  SWI                   1930.0\n                  GRE                    437.0\nName: count, dtype: float64"
     },
     "execution_count": 15,
     "metadata": {},
     "output_type": "execute_result"
    }
   ],
   "source": [
    "FullLabelFrame.groupby('alt_string_label')['orig_string_label'].value_counts()/15"
   ],
   "metadata": {
    "collapsed": false,
    "ExecuteTime": {
     "end_time": "2023-11-30T09:25:13.440963243Z",
     "start_time": "2023-11-30T09:25:13.359089772Z"
    }
   },
   "id": "fe1dfef5f6af276b"
  },
  {
   "cell_type": "code",
   "execution_count": 17,
   "outputs": [
    {
     "name": "stdout",
     "output_type": "stream",
     "text": [
      "\\begin{tabular}{llr}\n",
      "\\toprule\n",
      " &  & count \\\\\n",
      "orig_string_label & alt_string_label &  \\\\\n",
      "\\midrule\n",
      "ADC & diffusion & 113.000000 \\\\\n",
      "\\cline{1-3}\n",
      "ASL & perfusion & 1631.000000 \\\\\n",
      "\\cline{1-3}\n",
      "BOLD & perfusion & 3034.000000 \\\\\n",
      "\\cline{1-3}\n",
      "DTI & diffusion & 161.000000 \\\\\n",
      "\\cline{1-3}\n",
      "DWI & diffusion & 2462.000000 \\\\\n",
      "\\cline{1-3}\n",
      "GRE & suscept & 437.000000 \\\\\n",
      "\\cline{1-3}\n",
      "Other & Other & 11955.000000 \\\\\n",
      "\\cline{1-3}\n",
      "PD & PD & 256.000000 \\\\\n",
      "\\cline{1-3}\n",
      "PWI & perfusion & 1446.000000 \\\\\n",
      "\\cline{1-3}\n",
      "SWI & suscept & 1930.000000 \\\\\n",
      "\\cline{1-3}\n",
      "T1 & T1 & 5242.000000 \\\\\n",
      "\\cline{1-3}\n",
      "T1_c & T1_c & 385.000000 \\\\\n",
      "\\cline{1-3}\n",
      "T2 & T2 & 2939.000000 \\\\\n",
      "\\cline{1-3}\n",
      "T2* & suscept & 5392.000000 \\\\\n",
      "\\cline{1-3}\n",
      "T2-FLAIR & T2-FLAIR & 2770.000000 \\\\\n",
      "\\cline{1-3}\n",
      "angio & perfusion & 557.000000 \\\\\n",
      "\\cline{1-3}\n",
      "\\bottomrule\n",
      "\\end{tabular}\n"
     ]
    }
   ],
   "source": [
    "print((FullLabelFrame.groupby('orig_string_label')['alt_string_label'].value_counts()/15).to_latex())"
   ],
   "metadata": {
    "collapsed": false,
    "ExecuteTime": {
     "end_time": "2023-11-30T09:25:41.869211127Z",
     "start_time": "2023-11-30T09:25:41.422010745Z"
    }
   },
   "id": "32dc666b6268de50"
  },
  {
   "cell_type": "code",
   "execution_count": 25,
   "outputs": [],
   "source": [
    "vc = pd.DataFrame(FullLabelFrame.groupby('alt_string_label')['orig_string_label'].value_counts())"
   ],
   "metadata": {
    "collapsed": false,
    "ExecuteTime": {
     "end_time": "2023-11-30T09:28:03.464266419Z",
     "start_time": "2023-11-30T09:28:03.414907997Z"
    }
   },
   "id": "f01953378b046fd6"
  },
  {
   "cell_type": "code",
   "execution_count": 27,
   "outputs": [
    {
     "data": {
      "text/plain": "                                     count\nalt_string_label orig_string_label        \nOther            Other              179325\nPD               PD                   3840\nT1               T1                  78630\nT1_c             T1_c                 5775\nT2               T2                  44085\nT2-FLAIR         T2-FLAIR            41550\ndiffusion        DWI                 36930\n                 DTI                  2415\n                 ADC                  1695\nperfusion        BOLD                45510\n                 ASL                 24465\n                 PWI                 21690\n                 angio                8355\nsuscept          T2*                 80880\n                 SWI                 28950\n                 GRE                  6555",
      "text/html": "<div>\n<style scoped>\n    .dataframe tbody tr th:only-of-type {\n        vertical-align: middle;\n    }\n\n    .dataframe tbody tr th {\n        vertical-align: top;\n    }\n\n    .dataframe thead th {\n        text-align: right;\n    }\n</style>\n<table border=\"1\" class=\"dataframe\">\n  <thead>\n    <tr style=\"text-align: right;\">\n      <th></th>\n      <th></th>\n      <th>count</th>\n    </tr>\n    <tr>\n      <th>alt_string_label</th>\n      <th>orig_string_label</th>\n      <th></th>\n    </tr>\n  </thead>\n  <tbody>\n    <tr>\n      <th>Other</th>\n      <th>Other</th>\n      <td>179325</td>\n    </tr>\n    <tr>\n      <th>PD</th>\n      <th>PD</th>\n      <td>3840</td>\n    </tr>\n    <tr>\n      <th>T1</th>\n      <th>T1</th>\n      <td>78630</td>\n    </tr>\n    <tr>\n      <th>T1_c</th>\n      <th>T1_c</th>\n      <td>5775</td>\n    </tr>\n    <tr>\n      <th>T2</th>\n      <th>T2</th>\n      <td>44085</td>\n    </tr>\n    <tr>\n      <th>T2-FLAIR</th>\n      <th>T2-FLAIR</th>\n      <td>41550</td>\n    </tr>\n    <tr>\n      <th rowspan=\"3\" valign=\"top\">diffusion</th>\n      <th>DWI</th>\n      <td>36930</td>\n    </tr>\n    <tr>\n      <th>DTI</th>\n      <td>2415</td>\n    </tr>\n    <tr>\n      <th>ADC</th>\n      <td>1695</td>\n    </tr>\n    <tr>\n      <th rowspan=\"4\" valign=\"top\">perfusion</th>\n      <th>BOLD</th>\n      <td>45510</td>\n    </tr>\n    <tr>\n      <th>ASL</th>\n      <td>24465</td>\n    </tr>\n    <tr>\n      <th>PWI</th>\n      <td>21690</td>\n    </tr>\n    <tr>\n      <th>angio</th>\n      <td>8355</td>\n    </tr>\n    <tr>\n      <th rowspan=\"3\" valign=\"top\">suscept</th>\n      <th>T2*</th>\n      <td>80880</td>\n    </tr>\n    <tr>\n      <th>SWI</th>\n      <td>28950</td>\n    </tr>\n    <tr>\n      <th>GRE</th>\n      <td>6555</td>\n    </tr>\n  </tbody>\n</table>\n</div>"
     },
     "execution_count": 27,
     "metadata": {},
     "output_type": "execute_result"
    }
   ],
   "source": [
    "vc"
   ],
   "metadata": {
    "collapsed": false,
    "ExecuteTime": {
     "end_time": "2023-11-30T09:28:22.184122153Z",
     "start_time": "2023-11-30T09:28:22.149132365Z"
    }
   },
   "id": "fa465aa92b305f"
  },
  {
   "cell_type": "code",
   "execution_count": 28,
   "outputs": [],
   "source": [
    "first_level_labels = []\n",
    "second_level_labels = []\n",
    "first_level_counts = []\n",
    "second_level_counts = []\n",
    "for idx in vc.index:\n",
    "    firstLevel = idx[0]\n",
    "    secondLevel = idx[1]\n",
    "    count = vc.loc[idx,'count']\n",
    "    if firstLevel not in first_level_labels:\n",
    "        first_level_labels.append(firstLevel)\n",
    "        second_level_labels.append(secondLevel)\n",
    "        first_level_counts.append(count)\n",
    "        second_level_counts.append(count)\n",
    "    else:\n",
    "        second_level_counts.append(count)\n",
    "        second_level_labels.append(secondLevel)\n",
    "        first_level_counts[-1] += count\n",
    "unique_second_level = list(set(second_level_labels))"
   ],
   "metadata": {
    "collapsed": false,
    "ExecuteTime": {
     "end_time": "2023-11-30T09:28:23.529044849Z",
     "start_time": "2023-11-30T09:28:23.500843056Z"
    }
   },
   "id": "70366fd2f944df"
  },
  {
   "cell_type": "code",
   "execution_count": 35,
   "outputs": [],
   "source": [
    "second_level_colors = [unique_second_level.index(x) for x in second_level_labels]"
   ],
   "metadata": {
    "collapsed": false,
    "ExecuteTime": {
     "end_time": "2023-11-30T09:36:02.332906133Z",
     "start_time": "2023-11-30T09:36:02.328950055Z"
    }
   },
   "id": "a791367dd9aeb3a2"
  },
  {
   "cell_type": "code",
   "execution_count": 36,
   "outputs": [
    {
     "data": {
      "text/plain": "[13, 2, 4, 7, 10, 6, 3, 1, 14, 11, 15, 9, 12, 0, 5, 8]"
     },
     "execution_count": 36,
     "metadata": {},
     "output_type": "execute_result"
    }
   ],
   "source": [
    "second_level_colors"
   ],
   "metadata": {
    "collapsed": false,
    "ExecuteTime": {
     "end_time": "2023-11-30T09:36:02.759126964Z",
     "start_time": "2023-11-30T09:36:02.744441819Z"
    }
   },
   "id": "b1549b7c9bbc3b9e"
  },
  {
   "cell_type": "code",
   "execution_count": 54,
   "outputs": [],
   "source": [
    "import matplotlib.pyplot as plt\n",
    "\n",
    "\n",
    "size = 0.3\n",
    "\n",
    "cmap_outer = plt.colormaps[\"tab10\"]\n",
    "cmap_20b = plt.colormaps['tab20b']\n",
    "cmap_20c = plt.colormaps['tab20c']\n",
    "outer_colors = cmap_outer(np.arange(len(first_level_labels)))\n",
    "inner_colors = np.zeros((16,4))\n",
    "inner_colors[0:6,:] = cmap_outer([0,1,2,3,4,5])\n",
    "inner_colors[6:9] = cmap_20b([17,18,19])\n",
    "inner_colors[9:13] = cmap_20c([16,17,18,19])\n",
    "inner_colors[13:] = cmap_20b([8,9,10])"
   ],
   "metadata": {
    "collapsed": false,
    "ExecuteTime": {
     "end_time": "2023-11-30T09:51:45.421866695Z",
     "start_time": "2023-11-30T09:51:45.375019459Z"
    }
   },
   "id": "80789ebbd875a53e"
  },
  {
   "cell_type": "code",
   "execution_count": 55,
   "outputs": [
    {
     "data": {
      "text/plain": "array([[0.12156863, 0.46666667, 0.70588235, 1.        ],\n       [1.        , 0.49803922, 0.05490196, 1.        ],\n       [0.17254902, 0.62745098, 0.17254902, 1.        ],\n       [0.83921569, 0.15294118, 0.15686275, 1.        ],\n       [0.58039216, 0.40392157, 0.74117647, 1.        ],\n       [0.54901961, 0.3372549 , 0.29411765, 1.        ],\n       [0.89019608, 0.46666667, 0.76078431, 1.        ],\n       [0.49803922, 0.49803922, 0.49803922, 1.        ],\n       [0.7372549 , 0.74117647, 0.13333333, 1.        ]])"
     },
     "execution_count": 55,
     "metadata": {},
     "output_type": "execute_result"
    }
   ],
   "source": [
    "outer_colors"
   ],
   "metadata": {
    "collapsed": false,
    "ExecuteTime": {
     "end_time": "2023-11-30T09:51:45.673474291Z",
     "start_time": "2023-11-30T09:51:45.646086538Z"
    }
   },
   "id": "8848dd696eb05b94"
  },
  {
   "cell_type": "code",
   "execution_count": 56,
   "outputs": [
    {
     "data": {
      "text/plain": "array([[0.12156863, 0.46666667, 0.70588235, 1.        ],\n       [1.        , 0.49803922, 0.05490196, 1.        ],\n       [0.17254902, 0.62745098, 0.17254902, 1.        ],\n       [0.83921569, 0.15294118, 0.15686275, 1.        ],\n       [0.58039216, 0.40392157, 0.74117647, 1.        ],\n       [0.54901961, 0.3372549 , 0.29411765, 1.        ],\n       [0.64705882, 0.31764706, 0.58039216, 1.        ],\n       [0.80784314, 0.42745098, 0.74117647, 1.        ],\n       [0.87058824, 0.61960784, 0.83921569, 1.        ],\n       [0.38823529, 0.38823529, 0.38823529, 1.        ],\n       [0.58823529, 0.58823529, 0.58823529, 1.        ],\n       [0.74117647, 0.74117647, 0.74117647, 1.        ],\n       [0.85098039, 0.85098039, 0.85098039, 1.        ],\n       [0.54901961, 0.42745098, 0.19215686, 1.        ],\n       [0.74117647, 0.61960784, 0.22352941, 1.        ],\n       [0.90588235, 0.72941176, 0.32156863, 1.        ]])"
     },
     "execution_count": 56,
     "metadata": {},
     "output_type": "execute_result"
    }
   ],
   "source": [
    "inner_colors"
   ],
   "metadata": {
    "collapsed": false,
    "ExecuteTime": {
     "end_time": "2023-11-30T09:51:45.986071399Z",
     "start_time": "2023-11-30T09:51:45.940582120Z"
    }
   },
   "id": "fde40fe91c930572"
  },
  {
   "cell_type": "code",
   "execution_count": 57,
   "outputs": [
    {
     "data": {
      "text/plain": "[179325, 3840, 78630, 5775, 44085, 41550, 41040, 100020, 116385]"
     },
     "execution_count": 57,
     "metadata": {},
     "output_type": "execute_result"
    }
   ],
   "source": [
    "first_level_counts"
   ],
   "metadata": {
    "collapsed": false,
    "ExecuteTime": {
     "end_time": "2023-11-30T09:51:46.438542777Z",
     "start_time": "2023-11-30T09:51:46.407851528Z"
    }
   },
   "id": "2422073982647622"
  },
  {
   "cell_type": "code",
   "execution_count": 58,
   "outputs": [
    {
     "data": {
      "text/plain": "<Figure size 800x800 with 1 Axes>",
      "image/png": "[encoded data removed]"
     },
     "metadata": {},
     "output_type": "display_data"
    }
   ],
   "source": [
    "fig, ax = plt.subplots(figsize=(8,8))\n",
    "ax.pie(first_level_counts, radius=1, colors=outer_colors,\n",
    "       wedgeprops=dict(width=size, edgecolor='w'), labels=first_level_labels)\n",
    "\n",
    "ax.pie(second_level_counts, radius=1-size, colors=inner_colors,\n",
    "       wedgeprops=dict(width=size, edgecolor='w'))\n",
    "\n",
    "ax.set(aspect=\"equal\", title='Pie plot with `ax.pie`')\n",
    "plt.show()"
   ],
   "metadata": {
    "collapsed": false,
    "ExecuteTime": {
     "end_time": "2023-11-30T09:51:47.298958057Z",
     "start_time": "2023-11-30T09:51:47.045866918Z"
    }
   },
   "id": "1797ea6249763dba"
  },
  {
   "cell_type": "code",
   "execution_count": 19,
   "outputs": [],
   "source": [
    "labels = FullLabelFrame['orig_string_label'].unique()"
   ],
   "metadata": {
    "collapsed": false,
    "ExecuteTime": {
     "end_time": "2023-11-30T09:11:36.325924467Z",
     "start_time": "2023-11-30T09:11:36.252539691Z"
    }
   },
   "id": "15a3238c0fd167d6"
  },
  {
   "cell_type": "code",
   "execution_count": 20,
   "outputs": [],
   "source": [
    "alt_string_labels = FullLabelFrame[FullLabelFrame['orig_string_label']==labels[0]]['alt_string_label'].unique()"
   ],
   "metadata": {
    "collapsed": false,
    "ExecuteTime": {
     "end_time": "2023-11-30T09:11:36.326238993Z",
     "start_time": "2023-11-30T09:11:36.306078017Z"
    }
   },
   "id": "c9809c082362a7ab"
  },
  {
   "cell_type": "code",
   "execution_count": 21,
   "outputs": [],
   "source": [
    "FullLabelFrame['center_slide'] = FullLabelFrame['ID'].apply(lambda x: '__s12' in x)"
   ],
   "metadata": {
    "collapsed": false,
    "ExecuteTime": {
     "end_time": "2023-11-30T09:11:36.431989453Z",
     "start_time": "2023-11-30T09:11:36.330575118Z"
    }
   },
   "id": "67b16b31ba84f1c8"
  },
  {
   "cell_type": "code",
   "execution_count": 22,
   "outputs": [],
   "source": [
    "VisualizeFrame = FullLabelFrame[FullLabelFrame['center_slide']]"
   ],
   "metadata": {
    "collapsed": false,
    "ExecuteTime": {
     "end_time": "2023-11-30T09:11:36.452943099Z",
     "start_time": "2023-11-30T09:11:36.432257923Z"
    }
   },
   "id": "97d7d9cc510fa49b"
  },
  {
   "cell_type": "code",
   "execution_count": 23,
   "outputs": [],
   "source": [
    "# create a frame that contains labels for some visualizations\n",
    "from sklearn.model_selection import train_test_split\n",
    "visualize_frame = pd.DataFrame()\n",
    "for label in labels:\n",
    "    temp1 = VisualizeFrame[VisualizeFrame['orig_string_label']==label]\n",
    "    alt_string_labels = temp1['alt_string_label'].unique()\n",
    "    for alt_string_label in alt_string_labels:\n",
    "        df = temp1[temp1['alt_string_label']==alt_string_label]\n",
    "        try:\n",
    "            visualize, _ = train_test_split(df, train_size=2, shuffle=True, random_state=42)\n",
    "        except ValueError:\n",
    "            visualize = df\n",
    "        visualize_frame = pd.concat([visualize_frame,visualize], axis=0)"
   ],
   "metadata": {
    "collapsed": false,
    "ExecuteTime": {
     "end_time": "2023-11-30T09:11:37.218338927Z",
     "start_time": "2023-11-30T09:11:36.444923709Z"
    }
   },
   "id": "7a5ae6052e67471"
  },
  {
   "cell_type": "code",
   "execution_count": 24,
   "outputs": [
    {
     "data": {
      "text/plain": "                                                       ID  label  extra  \\\n170362  /trinity/home/r098375/DDS/data/ADNI/ADNI3/trai...      3      0   \n130877  /trinity/home/r098375/DDS/data/ADNI/ADNI3/trai...      3      0   \n391847  /trinity/home/r098375/DDS/data/OASIS/OASIS3/tr...      3      0   \n259111  /trinity/home/r098375/DDS/data/OASIS/OASIS3/tr...      3      0   \n204631  /trinity/home/r098375/DDS/data/ADNI/ADNI3/trai...      7      0   \n...                                                   ...    ...    ...   \n266550  /trinity/home/r098375/DDS/data/OASIS/OASIS3/tr...     11      0   \n505981  /trinity/home/r098375/DDS/data/egd/NIFTI_SLICE...      9      0   \n58487   /trinity/home/r098375/DDS/data/egd/NIFTI_SLICE...      9      0   \n56750   /trinity/home/r098375/DDS/data/egd/NIFTI_SLICE...      1      0   \n498691  /trinity/home/r098375/DDS/data/egd/NIFTI_SLICE...      1      0   \n\n       dataset string_label  center_slide  \n170362   ADNI3     T2-FLAIR          True  \n130877   ADNI3     T2-FLAIR          True  \n391847  OASIS3     T2-FLAIR          True  \n259111  OASIS3     T2-FLAIR          True  \n204631   ADNI3          T2*          True  \n...        ...          ...           ...  \n266550  OASIS3        angio          True  \n505981     egd          ADC          True  \n58487      egd          ADC          True  \n56750      egd         T1_c          True  \n498691     egd         T1_c          True  \n\n[87 rows x 6 columns]",
      "text/html": "<div>\n<style scoped>\n    .dataframe tbody tr th:only-of-type {\n        vertical-align: middle;\n    }\n\n    .dataframe tbody tr th {\n        vertical-align: top;\n    }\n\n    .dataframe thead th {\n        text-align: right;\n    }\n</style>\n<table border=\"1\" class=\"dataframe\">\n  <thead>\n    <tr style=\"text-align: right;\">\n      <th></th>\n      <th>ID</th>\n      <th>label</th>\n      <th>extra</th>\n      <th>dataset</th>\n      <th>string_label</th>\n      <th>center_slide</th>\n    </tr>\n  </thead>\n  <tbody>\n    <tr>\n      <th>170362</th>\n      <td>/trinity/home/r098375/DDS/data/ADNI/ADNI3/trai...</td>\n      <td>3</td>\n      <td>0</td>\n      <td>ADNI3</td>\n      <td>T2-FLAIR</td>\n      <td>True</td>\n    </tr>\n    <tr>\n      <th>130877</th>\n      <td>/trinity/home/r098375/DDS/data/ADNI/ADNI3/trai...</td>\n      <td>3</td>\n      <td>0</td>\n      <td>ADNI3</td>\n      <td>T2-FLAIR</td>\n      <td>True</td>\n    </tr>\n    <tr>\n      <th>391847</th>\n      <td>/trinity/home/r098375/DDS/data/OASIS/OASIS3/tr...</td>\n      <td>3</td>\n      <td>0</td>\n      <td>OASIS3</td>\n      <td>T2-FLAIR</td>\n      <td>True</td>\n    </tr>\n    <tr>\n      <th>259111</th>\n      <td>/trinity/home/r098375/DDS/data/OASIS/OASIS3/tr...</td>\n      <td>3</td>\n      <td>0</td>\n      <td>OASIS3</td>\n      <td>T2-FLAIR</td>\n      <td>True</td>\n    </tr>\n    <tr>\n      <th>204631</th>\n      <td>/trinity/home/r098375/DDS/data/ADNI/ADNI3/trai...</td>\n      <td>7</td>\n      <td>0</td>\n      <td>ADNI3</td>\n      <td>T2*</td>\n      <td>True</td>\n    </tr>\n    <tr>\n      <th>...</th>\n      <td>...</td>\n      <td>...</td>\n      <td>...</td>\n      <td>...</td>\n      <td>...</td>\n      <td>...</td>\n    </tr>\n    <tr>\n      <th>266550</th>\n      <td>/trinity/home/r098375/DDS/data/OASIS/OASIS3/tr...</td>\n      <td>11</td>\n      <td>0</td>\n      <td>OASIS3</td>\n      <td>angio</td>\n      <td>True</td>\n    </tr>\n    <tr>\n      <th>505981</th>\n      <td>/trinity/home/r098375/DDS/data/egd/NIFTI_SLICE...</td>\n      <td>9</td>\n      <td>0</td>\n      <td>egd</td>\n      <td>ADC</td>\n      <td>True</td>\n    </tr>\n    <tr>\n      <th>58487</th>\n      <td>/trinity/home/r098375/DDS/data/egd/NIFTI_SLICE...</td>\n      <td>9</td>\n      <td>0</td>\n      <td>egd</td>\n      <td>ADC</td>\n      <td>True</td>\n    </tr>\n    <tr>\n      <th>56750</th>\n      <td>/trinity/home/r098375/DDS/data/egd/NIFTI_SLICE...</td>\n      <td>1</td>\n      <td>0</td>\n      <td>egd</td>\n      <td>T1_c</td>\n      <td>True</td>\n    </tr>\n    <tr>\n      <th>498691</th>\n      <td>/trinity/home/r098375/DDS/data/egd/NIFTI_SLICE...</td>\n      <td>1</td>\n      <td>0</td>\n      <td>egd</td>\n      <td>T1_c</td>\n      <td>True</td>\n    </tr>\n  </tbody>\n</table>\n<p>87 rows × 6 columns</p>\n</div>"
     },
     "execution_count": 24,
     "metadata": {},
     "output_type": "execute_result"
    }
   ],
   "source": [
    "visualize_frame"
   ],
   "metadata": {
    "collapsed": false,
    "ExecuteTime": {
     "end_time": "2023-11-30T09:11:37.230470512Z",
     "start_time": "2023-11-30T09:11:37.225413783Z"
    }
   },
   "id": "141ebd063ce348c0"
  },
  {
   "cell_type": "code",
   "execution_count": 25,
   "outputs": [],
   "source": [
    "# visualize_frame.to_csv('visualizeFrame.csv', index=False)"
   ],
   "metadata": {
    "collapsed": false,
    "ExecuteTime": {
     "end_time": "2023-11-30T09:11:37.239326269Z",
     "start_time": "2023-11-30T09:11:37.230607634Z"
    }
   },
   "id": "447d20f18d033e51"
  },
  {
   "cell_type": "code",
   "execution_count": 25,
   "outputs": [],
   "source": [],
   "metadata": {
    "collapsed": false,
    "ExecuteTime": {
     "end_time": "2023-11-30T09:11:37.259260896Z",
     "start_time": "2023-11-30T09:11:37.241365199Z"
    }
   },
   "id": "62be4c61feb73389"
  }
 ],
 "metadata": {
  "kernelspec": {
   "display_name": "Python 3",
   "language": "python",
   "name": "python3"
  },
  "language_info": {
   "codemirror_mode": {
    "name": "ipython",
    "version": 2
   },
   "file_extension": ".py",
   "mimetype": "text/x-python",
   "name": "python",
   "nbconvert_exporter": "python",
   "pygments_lexer": "ipython2",
   "version": "2.7.6"
  }
 },
 "nbformat": 4,
 "nbformat_minor": 5
}
