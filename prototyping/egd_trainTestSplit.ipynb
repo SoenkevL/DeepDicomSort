{
 "cells": [
  {
   "cell_type": "code",
   "execution_count": 35,
   "id": "initial_id",
   "metadata": {
    "collapsed": true,
    "ExecuteTime": {
     "end_time": "2023-10-18T09:23:46.307420818Z",
     "start_time": "2023-10-18T09:23:46.244567440Z"
    }
   },
   "outputs": [],
   "source": [
    "import pandas as pd"
   ]
  },
  {
   "cell_type": "code",
   "execution_count": 36,
   "outputs": [],
   "source": [
    "Label_df = pd.read_csv('egd_Labels.txt',names=['ID','label','extra'],sep='\\t', dtype={'ID':str,'label':int,'extra':int})\n",
    "df = pd.read_csv('FullyAnnotatedAndTrainTestSplitReady_egd.csv')"
   ],
   "metadata": {
    "collapsed": false,
    "ExecuteTime": {
     "end_time": "2023-10-18T09:23:46.453371354Z",
     "start_time": "2023-10-18T09:23:46.287566924Z"
    }
   },
   "id": "84993c080153c801"
  },
  {
   "cell_type": "code",
   "execution_count": 37,
   "outputs": [
    {
     "data": {
      "text/plain": "                                     structured_path  \\\n0  data/egd/DICOM_STRUCTURED/MR_20020205/20020205...   \n1  data/egd/DICOM_STRUCTURED/MR_20020205/20020205...   \n2  data/egd/DICOM_STRUCTURED/MR_61373/20170605/MR...   \n3  data/egd/DICOM_STRUCTURED/MR_61373/20170605/MR...   \n4  data/egd/DICOM_STRUCTURED/MR_61373/20170605/MR...   \n\n                                            filename  \\\n0  1.2.826.0.1.3680043.10.104.2857427232523006061...   \n1  1.2.826.0.1.3680043.10.104.2857427232523006061...   \n2  1.2.826.0.1.3680043.10.104.1044043140781656433...   \n3  1.2.826.0.1.3680043.10.104.1044043140781656433...   \n4  1.2.826.0.1.3680043.10.104.1044043140781656433...   \n\n                                                path  \\\n0  data/egd/data/MR_20020205_EGD-0924/scans/3-T1_...   \n1  data/egd/data/MR_20020205_EGD-0924/scans/8-T2_...   \n2  data/egd/data/MR_20150326_EGD-1215/scans/3-3D_...   \n3  data/egd/data/MR_20150326_EGD-1215/scans/650-a...   \n4  data/egd/data/MR_20150326_EGD-1215/scans/450-A...   \n\n                                         raw_name name             label_exp  \\\n0                                         3-T1_3D  T1w  MR_20020205_EGD-0924   \n1                                         8-T2_Ax  T2w  MR_20020205_EGD-0924   \n2                      3-3D_Ax_T1_FSPGR_HR_blanco  T1w  MR_20150326_EGD-1215   \n3                                     650-ax_cube  pwi  MR_20150326_EGD-1215   \n4  450-ADC__10__6_mm__s__Nov_02_2018_20_57_56_CET  adc  MR_20150326_EGD-1215   \n\n    subject  train                                         NIFTI_path  \n0  EGD-0924  False  data/egd/NIFTI/MR_20020205/20020205/MR/1.2.826...  \n1  EGD-0924  False  data/egd/NIFTI/MR_20020205/20020205/MR/1.2.826...  \n2  EGD-1215   True  data/egd/NIFTI/MR_61373/20170605/MR/1.2.826.0....  \n3  EGD-1215   True  data/egd/NIFTI/MR_61373/20170605/MR/1.2.826.0....  \n4  EGD-1215   True  data/egd/NIFTI/MR_61373/20170605/MR/1.2.826.0....  ",
      "text/html": "<div>\n<style scoped>\n    .dataframe tbody tr th:only-of-type {\n        vertical-align: middle;\n    }\n\n    .dataframe tbody tr th {\n        vertical-align: top;\n    }\n\n    .dataframe thead th {\n        text-align: right;\n    }\n</style>\n<table border=\"1\" class=\"dataframe\">\n  <thead>\n    <tr style=\"text-align: right;\">\n      <th></th>\n      <th>structured_path</th>\n      <th>filename</th>\n      <th>path</th>\n      <th>raw_name</th>\n      <th>name</th>\n      <th>label_exp</th>\n      <th>subject</th>\n      <th>train</th>\n      <th>NIFTI_path</th>\n    </tr>\n  </thead>\n  <tbody>\n    <tr>\n      <th>0</th>\n      <td>data/egd/DICOM_STRUCTURED/MR_20020205/20020205...</td>\n      <td>1.2.826.0.1.3680043.10.104.2857427232523006061...</td>\n      <td>data/egd/data/MR_20020205_EGD-0924/scans/3-T1_...</td>\n      <td>3-T1_3D</td>\n      <td>T1w</td>\n      <td>MR_20020205_EGD-0924</td>\n      <td>EGD-0924</td>\n      <td>False</td>\n      <td>data/egd/NIFTI/MR_20020205/20020205/MR/1.2.826...</td>\n    </tr>\n    <tr>\n      <th>1</th>\n      <td>data/egd/DICOM_STRUCTURED/MR_20020205/20020205...</td>\n      <td>1.2.826.0.1.3680043.10.104.2857427232523006061...</td>\n      <td>data/egd/data/MR_20020205_EGD-0924/scans/8-T2_...</td>\n      <td>8-T2_Ax</td>\n      <td>T2w</td>\n      <td>MR_20020205_EGD-0924</td>\n      <td>EGD-0924</td>\n      <td>False</td>\n      <td>data/egd/NIFTI/MR_20020205/20020205/MR/1.2.826...</td>\n    </tr>\n    <tr>\n      <th>2</th>\n      <td>data/egd/DICOM_STRUCTURED/MR_61373/20170605/MR...</td>\n      <td>1.2.826.0.1.3680043.10.104.1044043140781656433...</td>\n      <td>data/egd/data/MR_20150326_EGD-1215/scans/3-3D_...</td>\n      <td>3-3D_Ax_T1_FSPGR_HR_blanco</td>\n      <td>T1w</td>\n      <td>MR_20150326_EGD-1215</td>\n      <td>EGD-1215</td>\n      <td>True</td>\n      <td>data/egd/NIFTI/MR_61373/20170605/MR/1.2.826.0....</td>\n    </tr>\n    <tr>\n      <th>3</th>\n      <td>data/egd/DICOM_STRUCTURED/MR_61373/20170605/MR...</td>\n      <td>1.2.826.0.1.3680043.10.104.1044043140781656433...</td>\n      <td>data/egd/data/MR_20150326_EGD-1215/scans/650-a...</td>\n      <td>650-ax_cube</td>\n      <td>pwi</td>\n      <td>MR_20150326_EGD-1215</td>\n      <td>EGD-1215</td>\n      <td>True</td>\n      <td>data/egd/NIFTI/MR_61373/20170605/MR/1.2.826.0....</td>\n    </tr>\n    <tr>\n      <th>4</th>\n      <td>data/egd/DICOM_STRUCTURED/MR_61373/20170605/MR...</td>\n      <td>1.2.826.0.1.3680043.10.104.1044043140781656433...</td>\n      <td>data/egd/data/MR_20150326_EGD-1215/scans/450-A...</td>\n      <td>450-ADC__10__6_mm__s__Nov_02_2018_20_57_56_CET</td>\n      <td>adc</td>\n      <td>MR_20150326_EGD-1215</td>\n      <td>EGD-1215</td>\n      <td>True</td>\n      <td>data/egd/NIFTI/MR_61373/20170605/MR/1.2.826.0....</td>\n    </tr>\n  </tbody>\n</table>\n</div>"
     },
     "execution_count": 37,
     "metadata": {},
     "output_type": "execute_result"
    }
   ],
   "source": [
    "df.head()"
   ],
   "metadata": {
    "collapsed": false,
    "ExecuteTime": {
     "end_time": "2023-10-18T09:23:46.504225534Z",
     "start_time": "2023-10-18T09:23:46.459855349Z"
    }
   },
   "id": "95d8895394b3a3f8"
  },
  {
   "cell_type": "code",
   "execution_count": 47,
   "outputs": [
    {
     "data": {
      "text/plain": "                                          structured_path  \\\ncount                                                2442   \nunique                                               2370   \ntop     data/egd/DICOM_STRUCTURED/MR_29988/20170615/MR...   \nfreq                                                    2   \n\n                                                 filename  \\\ncount                                                2442   \nunique                                               2361   \ntop     1.2.826.0.1.3680043.10.104.1002580906157172357...   \nfreq                                                    4   \n\n                                                     path      raw_name  name  \\\ncount                                                2442          2442  2442   \nunique                                               2424           856     8   \ntop     data/egd/data/MR_20100131_EGD-0381/scans/9-T1G...  4-DWI_DWI_Ax   pwi   \nfreq                                                    2            53   500   \n\n                   label_exp   subject train  \\\ncount                   2442      2442  2442   \nunique                   260       104     2   \ntop     MR_20150526_EGD-1220  EGD-0119  True   \nfreq                      27       162  2120   \n\n                                               NIFTI_path  \ncount                                                2442  \nunique                                               2370  \ntop     /trinity/home/r098375/DDS/data/egd/NIFTI/MR_29...  \nfreq                                                    2  ",
      "text/html": "<div>\n<style scoped>\n    .dataframe tbody tr th:only-of-type {\n        vertical-align: middle;\n    }\n\n    .dataframe tbody tr th {\n        vertical-align: top;\n    }\n\n    .dataframe thead th {\n        text-align: right;\n    }\n</style>\n<table border=\"1\" class=\"dataframe\">\n  <thead>\n    <tr style=\"text-align: right;\">\n      <th></th>\n      <th>structured_path</th>\n      <th>filename</th>\n      <th>path</th>\n      <th>raw_name</th>\n      <th>name</th>\n      <th>label_exp</th>\n      <th>subject</th>\n      <th>train</th>\n      <th>NIFTI_path</th>\n    </tr>\n  </thead>\n  <tbody>\n    <tr>\n      <th>count</th>\n      <td>2442</td>\n      <td>2442</td>\n      <td>2442</td>\n      <td>2442</td>\n      <td>2442</td>\n      <td>2442</td>\n      <td>2442</td>\n      <td>2442</td>\n      <td>2442</td>\n    </tr>\n    <tr>\n      <th>unique</th>\n      <td>2370</td>\n      <td>2361</td>\n      <td>2424</td>\n      <td>856</td>\n      <td>8</td>\n      <td>260</td>\n      <td>104</td>\n      <td>2</td>\n      <td>2370</td>\n    </tr>\n    <tr>\n      <th>top</th>\n      <td>data/egd/DICOM_STRUCTURED/MR_29988/20170615/MR...</td>\n      <td>1.2.826.0.1.3680043.10.104.1002580906157172357...</td>\n      <td>data/egd/data/MR_20100131_EGD-0381/scans/9-T1G...</td>\n      <td>4-DWI_DWI_Ax</td>\n      <td>pwi</td>\n      <td>MR_20150526_EGD-1220</td>\n      <td>EGD-0119</td>\n      <td>True</td>\n      <td>/trinity/home/r098375/DDS/data/egd/NIFTI/MR_29...</td>\n    </tr>\n    <tr>\n      <th>freq</th>\n      <td>2</td>\n      <td>4</td>\n      <td>2</td>\n      <td>53</td>\n      <td>500</td>\n      <td>27</td>\n      <td>162</td>\n      <td>2120</td>\n      <td>2</td>\n    </tr>\n  </tbody>\n</table>\n</div>"
     },
     "execution_count": 47,
     "metadata": {},
     "output_type": "execute_result"
    }
   ],
   "source": [
    "df.describe()"
   ],
   "metadata": {
    "collapsed": false,
    "ExecuteTime": {
     "end_time": "2023-10-18T09:24:24.587101207Z",
     "start_time": "2023-10-18T09:24:24.558821939Z"
    }
   },
   "id": "6b0a0214e22887a5"
  },
  {
   "cell_type": "code",
   "execution_count": 38,
   "outputs": [],
   "source": [
    "def extractNiftiFilepathAndSlicenum(df):\n",
    "    ID = df['ID']\n",
    "    split = ID.rsplit('__s', 1)\n",
    "    NiftiPath = split[0]\n",
    "    NiftiPath = NiftiPath.replace('NIFTI_SLICES', 'NIFTI') + '.nii.gz'\n",
    "    slicenum = int(split[1].split('.nii.gz')[0])\n",
    "    return pd.Series({'NiftiPath': NiftiPath, 'slicenum': slicenum})"
   ],
   "metadata": {
    "collapsed": false,
    "ExecuteTime": {
     "end_time": "2023-10-18T09:23:46.504367175Z",
     "start_time": "2023-10-18T09:23:46.503648145Z"
    }
   },
   "id": "f40a5f0a00968df9"
  },
  {
   "cell_type": "code",
   "execution_count": 39,
   "outputs": [],
   "source": [
    "appendstring = '/trinity/home/r098375/DDS/'\n",
    "def fixPath(ID):\n",
    "    if not 'trinity' in ID:\n",
    "        ID = appendstring+ID\n",
    "    basepart = '/'.join((ID.split('/')[:9]))\n",
    "    namepart = '__'.join((ID.split('/')[9:]))\n",
    "    ID = basepart+'/'+namepart+'.nii.gz'\n",
    "    return ID"
   ],
   "metadata": {
    "collapsed": false,
    "ExecuteTime": {
     "end_time": "2023-10-18T09:23:46.505058834Z",
     "start_time": "2023-10-18T09:23:46.503777460Z"
    }
   },
   "id": "466a5a5c95161d09"
  },
  {
   "cell_type": "code",
   "execution_count": 40,
   "outputs": [],
   "source": [
    "df['NIFTI_path'] = df['NIFTI_path'].apply(fixPath)"
   ],
   "metadata": {
    "collapsed": false,
    "ExecuteTime": {
     "end_time": "2023-10-18T09:23:46.505209282Z",
     "start_time": "2023-10-18T09:23:46.503840143Z"
    }
   },
   "id": "a7a8c045a000bcdb"
  },
  {
   "cell_type": "code",
   "execution_count": 46,
   "outputs": [
    {
     "data": {
      "text/plain": "'/trinity/home/r098375/DDS/data/egd/NIFTI/MR_20020205/20020205__MR__1.2.826.0.1.3680043.10.104.2857427232523006061017867594417320946__1.2.826.0.1.3680043.10.104.1456467217459860599267812336880387893.nii.gz'"
     },
     "execution_count": 46,
     "metadata": {},
     "output_type": "execute_result"
    }
   ],
   "source": [
    "df['NIFTI_path'][0]"
   ],
   "metadata": {
    "collapsed": false,
    "ExecuteTime": {
     "end_time": "2023-10-18T09:24:01.418216348Z",
     "start_time": "2023-10-18T09:24:01.415881519Z"
    }
   },
   "id": "fadfa2155ffbd758"
  },
  {
   "cell_type": "code",
   "execution_count": 42,
   "outputs": [],
   "source": [
    "df_NS = Label_df.apply(extractNiftiFilepathAndSlicenum, axis=1, result_type='expand')\n",
    "Label_df = Label_df.merge(df_NS, left_index=True, right_index=True, how='inner')"
   ],
   "metadata": {
    "collapsed": false,
    "ExecuteTime": {
     "end_time": "2023-10-18T09:24:01.328018990Z",
     "start_time": "2023-10-18T09:23:46.503977995Z"
    }
   },
   "id": "9f9fe37d534cb922"
  },
  {
   "cell_type": "code",
   "execution_count": 43,
   "outputs": [
    {
     "data": {
      "text/plain": "'/trinity/home/r098375/DDS/data/egd/NIFTI/MR_20020205/20020205__MR__1.2.826.0.1.3680043.10.104.2857427232523006061017867594417320946__1.2.826.0.1.3680043.10.104.2282046845047365453865806177133221068.nii.gz'"
     },
     "execution_count": 43,
     "metadata": {},
     "output_type": "execute_result"
    }
   ],
   "source": [
    "Label_df['NiftiPath'][0]"
   ],
   "metadata": {
    "collapsed": false,
    "ExecuteTime": {
     "end_time": "2023-10-18T09:24:01.372193412Z",
     "start_time": "2023-10-18T09:24:01.329691557Z"
    }
   },
   "id": "d4c662708b7b6604"
  },
  {
   "cell_type": "code",
   "execution_count": 44,
   "outputs": [],
   "source": [
    "df_new = pd.merge(df,Label_df,how='inner',right_on='NiftiPath',left_on='NIFTI_path')"
   ],
   "metadata": {
    "collapsed": false,
    "ExecuteTime": {
     "end_time": "2023-10-18T09:24:01.417320738Z",
     "start_time": "2023-10-18T09:24:01.371814130Z"
    }
   },
   "id": "fd63b014978a6657"
  },
  {
   "cell_type": "code",
   "execution_count": 45,
   "outputs": [
    {
     "data": {
      "text/plain": "                                      structured_path  \\\n0   data/egd/DICOM_STRUCTURED/MR_20020205/20020205...   \n1   data/egd/DICOM_STRUCTURED/MR_20020205/20020205...   \n2   data/egd/DICOM_STRUCTURED/MR_20020205/20020205...   \n3   data/egd/DICOM_STRUCTURED/MR_20020205/20020205...   \n4   data/egd/DICOM_STRUCTURED/MR_20020205/20020205...   \n..                                                ...   \n95  data/egd/DICOM_STRUCTURED/MR_61373/20170605/MR...   \n96  data/egd/DICOM_STRUCTURED/MR_61373/20170605/MR...   \n97  data/egd/DICOM_STRUCTURED/MR_61373/20170605/MR...   \n98  data/egd/DICOM_STRUCTURED/MR_61373/20170605/MR...   \n99  data/egd/DICOM_STRUCTURED/MR_61373/20170605/MR...   \n\n                                             filename  \\\n0   1.2.826.0.1.3680043.10.104.2857427232523006061...   \n1   1.2.826.0.1.3680043.10.104.2857427232523006061...   \n2   1.2.826.0.1.3680043.10.104.2857427232523006061...   \n3   1.2.826.0.1.3680043.10.104.2857427232523006061...   \n4   1.2.826.0.1.3680043.10.104.2857427232523006061...   \n..                                                ...   \n95  1.2.826.0.1.3680043.10.104.1044043140781656433...   \n96  1.2.826.0.1.3680043.10.104.1044043140781656433...   \n97  1.2.826.0.1.3680043.10.104.1044043140781656433...   \n98  1.2.826.0.1.3680043.10.104.1044043140781656433...   \n99  1.2.826.0.1.3680043.10.104.1044043140781656433...   \n\n                                                 path  \\\n0   data/egd/data/MR_20020205_EGD-0924/scans/3-T1_...   \n1   data/egd/data/MR_20020205_EGD-0924/scans/3-T1_...   \n2   data/egd/data/MR_20020205_EGD-0924/scans/3-T1_...   \n3   data/egd/data/MR_20020205_EGD-0924/scans/3-T1_...   \n4   data/egd/data/MR_20020205_EGD-0924/scans/3-T1_...   \n..                                                ...   \n95  data/egd/data/MR_20150326_EGD-1215/scans/450-A...   \n96  data/egd/data/MR_20150326_EGD-1215/scans/450-A...   \n97  data/egd/data/MR_20150326_EGD-1215/scans/450-A...   \n98  data/egd/data/MR_20150326_EGD-1215/scans/450-A...   \n99  data/egd/data/MR_20150326_EGD-1215/scans/450-A...   \n\n                                          raw_name name             label_exp  \\\n0                                          3-T1_3D  T1w  MR_20020205_EGD-0924   \n1                                          3-T1_3D  T1w  MR_20020205_EGD-0924   \n2                                          3-T1_3D  T1w  MR_20020205_EGD-0924   \n3                                          3-T1_3D  T1w  MR_20020205_EGD-0924   \n4                                          3-T1_3D  T1w  MR_20020205_EGD-0924   \n..                                             ...  ...                   ...   \n95  450-ADC__10__6_mm__s__Nov_02_2018_20_57_56_CET  adc  MR_20150326_EGD-1215   \n96  450-ADC__10__6_mm__s__Nov_02_2018_20_57_56_CET  adc  MR_20150326_EGD-1215   \n97  450-ADC__10__6_mm__s__Nov_02_2018_20_57_56_CET  adc  MR_20150326_EGD-1215   \n98  450-ADC__10__6_mm__s__Nov_02_2018_20_57_56_CET  adc  MR_20150326_EGD-1215   \n99  450-ADC__10__6_mm__s__Nov_02_2018_20_57_56_CET  adc  MR_20150326_EGD-1215   \n\n     subject  train                                         NIFTI_path  \\\n0   EGD-0924  False  /trinity/home/r098375/DDS/data/egd/NIFTI/MR_20...   \n1   EGD-0924  False  /trinity/home/r098375/DDS/data/egd/NIFTI/MR_20...   \n2   EGD-0924  False  /trinity/home/r098375/DDS/data/egd/NIFTI/MR_20...   \n3   EGD-0924  False  /trinity/home/r098375/DDS/data/egd/NIFTI/MR_20...   \n4   EGD-0924  False  /trinity/home/r098375/DDS/data/egd/NIFTI/MR_20...   \n..       ...    ...                                                ...   \n95  EGD-1215   True  /trinity/home/r098375/DDS/data/egd/NIFTI/MR_61...   \n96  EGD-1215   True  /trinity/home/r098375/DDS/data/egd/NIFTI/MR_61...   \n97  EGD-1215   True  /trinity/home/r098375/DDS/data/egd/NIFTI/MR_61...   \n98  EGD-1215   True  /trinity/home/r098375/DDS/data/egd/NIFTI/MR_61...   \n99  EGD-1215   True  /trinity/home/r098375/DDS/data/egd/NIFTI/MR_61...   \n\n                                                   ID  label  extra  \\\n0   /trinity/home/r098375/DDS/data/egd/NIFTI_SLICE...      0      0   \n1   /trinity/home/r098375/DDS/data/egd/NIFTI_SLICE...      0      0   \n2   /trinity/home/r098375/DDS/data/egd/NIFTI_SLICE...      0      0   \n3   /trinity/home/r098375/DDS/data/egd/NIFTI_SLICE...      0      0   \n4   /trinity/home/r098375/DDS/data/egd/NIFTI_SLICE...      0      0   \n..                                                ...    ...    ...   \n95  /trinity/home/r098375/DDS/data/egd/NIFTI_SLICE...      0      0   \n96  /trinity/home/r098375/DDS/data/egd/NIFTI_SLICE...      0      0   \n97  /trinity/home/r098375/DDS/data/egd/NIFTI_SLICE...      0      0   \n98  /trinity/home/r098375/DDS/data/egd/NIFTI_SLICE...      0      0   \n99  /trinity/home/r098375/DDS/data/egd/NIFTI_SLICE...      0      0   \n\n                                            NiftiPath  slicenum  \n0   /trinity/home/r098375/DDS/data/egd/NIFTI/MR_20...        11  \n1   /trinity/home/r098375/DDS/data/egd/NIFTI/MR_20...         8  \n2   /trinity/home/r098375/DDS/data/egd/NIFTI/MR_20...        21  \n3   /trinity/home/r098375/DDS/data/egd/NIFTI/MR_20...         4  \n4   /trinity/home/r098375/DDS/data/egd/NIFTI/MR_20...        10  \n..                                                ...       ...  \n95  /trinity/home/r098375/DDS/data/egd/NIFTI/MR_61...         1  \n96  /trinity/home/r098375/DDS/data/egd/NIFTI/MR_61...        21  \n97  /trinity/home/r098375/DDS/data/egd/NIFTI/MR_61...        17  \n98  /trinity/home/r098375/DDS/data/egd/NIFTI/MR_61...        13  \n99  /trinity/home/r098375/DDS/data/egd/NIFTI/MR_61...        18  \n\n[100 rows x 14 columns]",
      "text/html": "<div>\n<style scoped>\n    .dataframe tbody tr th:only-of-type {\n        vertical-align: middle;\n    }\n\n    .dataframe tbody tr th {\n        vertical-align: top;\n    }\n\n    .dataframe thead th {\n        text-align: right;\n    }\n</style>\n<table border=\"1\" class=\"dataframe\">\n  <thead>\n    <tr style=\"text-align: right;\">\n      <th></th>\n      <th>structured_path</th>\n      <th>filename</th>\n      <th>path</th>\n      <th>raw_name</th>\n      <th>name</th>\n      <th>label_exp</th>\n      <th>subject</th>\n      <th>train</th>\n      <th>NIFTI_path</th>\n      <th>ID</th>\n      <th>label</th>\n      <th>extra</th>\n      <th>NiftiPath</th>\n      <th>slicenum</th>\n    </tr>\n  </thead>\n  <tbody>\n    <tr>\n      <th>0</th>\n      <td>data/egd/DICOM_STRUCTURED/MR_20020205/20020205...</td>\n      <td>1.2.826.0.1.3680043.10.104.2857427232523006061...</td>\n      <td>data/egd/data/MR_20020205_EGD-0924/scans/3-T1_...</td>\n      <td>3-T1_3D</td>\n      <td>T1w</td>\n      <td>MR_20020205_EGD-0924</td>\n      <td>EGD-0924</td>\n      <td>False</td>\n      <td>/trinity/home/r098375/DDS/data/egd/NIFTI/MR_20...</td>\n      <td>/trinity/home/r098375/DDS/data/egd/NIFTI_SLICE...</td>\n      <td>0</td>\n      <td>0</td>\n      <td>/trinity/home/r098375/DDS/data/egd/NIFTI/MR_20...</td>\n      <td>11</td>\n    </tr>\n    <tr>\n      <th>1</th>\n      <td>data/egd/DICOM_STRUCTURED/MR_20020205/20020205...</td>\n      <td>1.2.826.0.1.3680043.10.104.2857427232523006061...</td>\n      <td>data/egd/data/MR_20020205_EGD-0924/scans/3-T1_...</td>\n      <td>3-T1_3D</td>\n      <td>T1w</td>\n      <td>MR_20020205_EGD-0924</td>\n      <td>EGD-0924</td>\n      <td>False</td>\n      <td>/trinity/home/r098375/DDS/data/egd/NIFTI/MR_20...</td>\n      <td>/trinity/home/r098375/DDS/data/egd/NIFTI_SLICE...</td>\n      <td>0</td>\n      <td>0</td>\n      <td>/trinity/home/r098375/DDS/data/egd/NIFTI/MR_20...</td>\n      <td>8</td>\n    </tr>\n    <tr>\n      <th>2</th>\n      <td>data/egd/DICOM_STRUCTURED/MR_20020205/20020205...</td>\n      <td>1.2.826.0.1.3680043.10.104.2857427232523006061...</td>\n      <td>data/egd/data/MR_20020205_EGD-0924/scans/3-T1_...</td>\n      <td>3-T1_3D</td>\n      <td>T1w</td>\n      <td>MR_20020205_EGD-0924</td>\n      <td>EGD-0924</td>\n      <td>False</td>\n      <td>/trinity/home/r098375/DDS/data/egd/NIFTI/MR_20...</td>\n      <td>/trinity/home/r098375/DDS/data/egd/NIFTI_SLICE...</td>\n      <td>0</td>\n      <td>0</td>\n      <td>/trinity/home/r098375/DDS/data/egd/NIFTI/MR_20...</td>\n      <td>21</td>\n    </tr>\n    <tr>\n      <th>3</th>\n      <td>data/egd/DICOM_STRUCTURED/MR_20020205/20020205...</td>\n      <td>1.2.826.0.1.3680043.10.104.2857427232523006061...</td>\n      <td>data/egd/data/MR_20020205_EGD-0924/scans/3-T1_...</td>\n      <td>3-T1_3D</td>\n      <td>T1w</td>\n      <td>MR_20020205_EGD-0924</td>\n      <td>EGD-0924</td>\n      <td>False</td>\n      <td>/trinity/home/r098375/DDS/data/egd/NIFTI/MR_20...</td>\n      <td>/trinity/home/r098375/DDS/data/egd/NIFTI_SLICE...</td>\n      <td>0</td>\n      <td>0</td>\n      <td>/trinity/home/r098375/DDS/data/egd/NIFTI/MR_20...</td>\n      <td>4</td>\n    </tr>\n    <tr>\n      <th>4</th>\n      <td>data/egd/DICOM_STRUCTURED/MR_20020205/20020205...</td>\n      <td>1.2.826.0.1.3680043.10.104.2857427232523006061...</td>\n      <td>data/egd/data/MR_20020205_EGD-0924/scans/3-T1_...</td>\n      <td>3-T1_3D</td>\n      <td>T1w</td>\n      <td>MR_20020205_EGD-0924</td>\n      <td>EGD-0924</td>\n      <td>False</td>\n      <td>/trinity/home/r098375/DDS/data/egd/NIFTI/MR_20...</td>\n      <td>/trinity/home/r098375/DDS/data/egd/NIFTI_SLICE...</td>\n      <td>0</td>\n      <td>0</td>\n      <td>/trinity/home/r098375/DDS/data/egd/NIFTI/MR_20...</td>\n      <td>10</td>\n    </tr>\n    <tr>\n      <th>...</th>\n      <td>...</td>\n      <td>...</td>\n      <td>...</td>\n      <td>...</td>\n      <td>...</td>\n      <td>...</td>\n      <td>...</td>\n      <td>...</td>\n      <td>...</td>\n      <td>...</td>\n      <td>...</td>\n      <td>...</td>\n      <td>...</td>\n      <td>...</td>\n    </tr>\n    <tr>\n      <th>95</th>\n      <td>data/egd/DICOM_STRUCTURED/MR_61373/20170605/MR...</td>\n      <td>1.2.826.0.1.3680043.10.104.1044043140781656433...</td>\n      <td>data/egd/data/MR_20150326_EGD-1215/scans/450-A...</td>\n      <td>450-ADC__10__6_mm__s__Nov_02_2018_20_57_56_CET</td>\n      <td>adc</td>\n      <td>MR_20150326_EGD-1215</td>\n      <td>EGD-1215</td>\n      <td>True</td>\n      <td>/trinity/home/r098375/DDS/data/egd/NIFTI/MR_61...</td>\n      <td>/trinity/home/r098375/DDS/data/egd/NIFTI_SLICE...</td>\n      <td>0</td>\n      <td>0</td>\n      <td>/trinity/home/r098375/DDS/data/egd/NIFTI/MR_61...</td>\n      <td>1</td>\n    </tr>\n    <tr>\n      <th>96</th>\n      <td>data/egd/DICOM_STRUCTURED/MR_61373/20170605/MR...</td>\n      <td>1.2.826.0.1.3680043.10.104.1044043140781656433...</td>\n      <td>data/egd/data/MR_20150326_EGD-1215/scans/450-A...</td>\n      <td>450-ADC__10__6_mm__s__Nov_02_2018_20_57_56_CET</td>\n      <td>adc</td>\n      <td>MR_20150326_EGD-1215</td>\n      <td>EGD-1215</td>\n      <td>True</td>\n      <td>/trinity/home/r098375/DDS/data/egd/NIFTI/MR_61...</td>\n      <td>/trinity/home/r098375/DDS/data/egd/NIFTI_SLICE...</td>\n      <td>0</td>\n      <td>0</td>\n      <td>/trinity/home/r098375/DDS/data/egd/NIFTI/MR_61...</td>\n      <td>21</td>\n    </tr>\n    <tr>\n      <th>97</th>\n      <td>data/egd/DICOM_STRUCTURED/MR_61373/20170605/MR...</td>\n      <td>1.2.826.0.1.3680043.10.104.1044043140781656433...</td>\n      <td>data/egd/data/MR_20150326_EGD-1215/scans/450-A...</td>\n      <td>450-ADC__10__6_mm__s__Nov_02_2018_20_57_56_CET</td>\n      <td>adc</td>\n      <td>MR_20150326_EGD-1215</td>\n      <td>EGD-1215</td>\n      <td>True</td>\n      <td>/trinity/home/r098375/DDS/data/egd/NIFTI/MR_61...</td>\n      <td>/trinity/home/r098375/DDS/data/egd/NIFTI_SLICE...</td>\n      <td>0</td>\n      <td>0</td>\n      <td>/trinity/home/r098375/DDS/data/egd/NIFTI/MR_61...</td>\n      <td>17</td>\n    </tr>\n    <tr>\n      <th>98</th>\n      <td>data/egd/DICOM_STRUCTURED/MR_61373/20170605/MR...</td>\n      <td>1.2.826.0.1.3680043.10.104.1044043140781656433...</td>\n      <td>data/egd/data/MR_20150326_EGD-1215/scans/450-A...</td>\n      <td>450-ADC__10__6_mm__s__Nov_02_2018_20_57_56_CET</td>\n      <td>adc</td>\n      <td>MR_20150326_EGD-1215</td>\n      <td>EGD-1215</td>\n      <td>True</td>\n      <td>/trinity/home/r098375/DDS/data/egd/NIFTI/MR_61...</td>\n      <td>/trinity/home/r098375/DDS/data/egd/NIFTI_SLICE...</td>\n      <td>0</td>\n      <td>0</td>\n      <td>/trinity/home/r098375/DDS/data/egd/NIFTI/MR_61...</td>\n      <td>13</td>\n    </tr>\n    <tr>\n      <th>99</th>\n      <td>data/egd/DICOM_STRUCTURED/MR_61373/20170605/MR...</td>\n      <td>1.2.826.0.1.3680043.10.104.1044043140781656433...</td>\n      <td>data/egd/data/MR_20150326_EGD-1215/scans/450-A...</td>\n      <td>450-ADC__10__6_mm__s__Nov_02_2018_20_57_56_CET</td>\n      <td>adc</td>\n      <td>MR_20150326_EGD-1215</td>\n      <td>EGD-1215</td>\n      <td>True</td>\n      <td>/trinity/home/r098375/DDS/data/egd/NIFTI/MR_61...</td>\n      <td>/trinity/home/r098375/DDS/data/egd/NIFTI_SLICE...</td>\n      <td>0</td>\n      <td>0</td>\n      <td>/trinity/home/r098375/DDS/data/egd/NIFTI/MR_61...</td>\n      <td>18</td>\n    </tr>\n  </tbody>\n</table>\n<p>100 rows × 14 columns</p>\n</div>"
     },
     "execution_count": 45,
     "metadata": {},
     "output_type": "execute_result"
    }
   ],
   "source": [
    "df_new.head(100)"
   ],
   "metadata": {
    "collapsed": false,
    "ExecuteTime": {
     "end_time": "2023-10-18T09:24:01.417930586Z",
     "start_time": "2023-10-18T09:24:01.415570705Z"
    }
   },
   "id": "226263b80f5b73a7"
  },
  {
   "cell_type": "code",
   "execution_count": 48,
   "outputs": [
    {
     "data": {
      "text/plain": "         label    extra      slicenum\ncount  47950.0  47950.0  47950.000000\nmean       0.0      0.0     12.000000\nstd        0.0      0.0      7.211178\nmin        0.0      0.0      0.000000\n25%        0.0      0.0      6.000000\n50%        0.0      0.0     12.000000\n75%        0.0      0.0     18.000000\nmax        0.0      0.0     24.000000",
      "text/html": "<div>\n<style scoped>\n    .dataframe tbody tr th:only-of-type {\n        vertical-align: middle;\n    }\n\n    .dataframe tbody tr th {\n        vertical-align: top;\n    }\n\n    .dataframe thead th {\n        text-align: right;\n    }\n</style>\n<table border=\"1\" class=\"dataframe\">\n  <thead>\n    <tr style=\"text-align: right;\">\n      <th></th>\n      <th>label</th>\n      <th>extra</th>\n      <th>slicenum</th>\n    </tr>\n  </thead>\n  <tbody>\n    <tr>\n      <th>count</th>\n      <td>47950.0</td>\n      <td>47950.0</td>\n      <td>47950.000000</td>\n    </tr>\n    <tr>\n      <th>mean</th>\n      <td>0.0</td>\n      <td>0.0</td>\n      <td>12.000000</td>\n    </tr>\n    <tr>\n      <th>std</th>\n      <td>0.0</td>\n      <td>0.0</td>\n      <td>7.211178</td>\n    </tr>\n    <tr>\n      <th>min</th>\n      <td>0.0</td>\n      <td>0.0</td>\n      <td>0.000000</td>\n    </tr>\n    <tr>\n      <th>25%</th>\n      <td>0.0</td>\n      <td>0.0</td>\n      <td>6.000000</td>\n    </tr>\n    <tr>\n      <th>50%</th>\n      <td>0.0</td>\n      <td>0.0</td>\n      <td>12.000000</td>\n    </tr>\n    <tr>\n      <th>75%</th>\n      <td>0.0</td>\n      <td>0.0</td>\n      <td>18.000000</td>\n    </tr>\n    <tr>\n      <th>max</th>\n      <td>0.0</td>\n      <td>0.0</td>\n      <td>24.000000</td>\n    </tr>\n  </tbody>\n</table>\n</div>"
     },
     "execution_count": 48,
     "metadata": {},
     "output_type": "execute_result"
    }
   ],
   "source": [
    "df_new.describe()"
   ],
   "metadata": {
    "collapsed": false,
    "ExecuteTime": {
     "end_time": "2023-10-18T09:24:37.513646204Z",
     "start_time": "2023-10-18T09:24:37.470433011Z"
    }
   },
   "id": "c725cc9488a44eb"
  },
  {
   "cell_type": "code",
   "execution_count": 50,
   "outputs": [
    {
     "data": {
      "text/plain": "         label    extra      slicenum\ncount  81175.0  81175.0  81175.000000\nmean       0.0      0.0     12.000000\nstd        0.0      0.0      7.211147\nmin        0.0      0.0      0.000000\n25%        0.0      0.0      6.000000\n50%        0.0      0.0     12.000000\n75%        0.0      0.0     18.000000\nmax        0.0      0.0     24.000000",
      "text/html": "<div>\n<style scoped>\n    .dataframe tbody tr th:only-of-type {\n        vertical-align: middle;\n    }\n\n    .dataframe tbody tr th {\n        vertical-align: top;\n    }\n\n    .dataframe thead th {\n        text-align: right;\n    }\n</style>\n<table border=\"1\" class=\"dataframe\">\n  <thead>\n    <tr style=\"text-align: right;\">\n      <th></th>\n      <th>label</th>\n      <th>extra</th>\n      <th>slicenum</th>\n    </tr>\n  </thead>\n  <tbody>\n    <tr>\n      <th>count</th>\n      <td>81175.0</td>\n      <td>81175.0</td>\n      <td>81175.000000</td>\n    </tr>\n    <tr>\n      <th>mean</th>\n      <td>0.0</td>\n      <td>0.0</td>\n      <td>12.000000</td>\n    </tr>\n    <tr>\n      <th>std</th>\n      <td>0.0</td>\n      <td>0.0</td>\n      <td>7.211147</td>\n    </tr>\n    <tr>\n      <th>min</th>\n      <td>0.0</td>\n      <td>0.0</td>\n      <td>0.000000</td>\n    </tr>\n    <tr>\n      <th>25%</th>\n      <td>0.0</td>\n      <td>0.0</td>\n      <td>6.000000</td>\n    </tr>\n    <tr>\n      <th>50%</th>\n      <td>0.0</td>\n      <td>0.0</td>\n      <td>12.000000</td>\n    </tr>\n    <tr>\n      <th>75%</th>\n      <td>0.0</td>\n      <td>0.0</td>\n      <td>18.000000</td>\n    </tr>\n    <tr>\n      <th>max</th>\n      <td>0.0</td>\n      <td>0.0</td>\n      <td>24.000000</td>\n    </tr>\n  </tbody>\n</table>\n</div>"
     },
     "execution_count": 50,
     "metadata": {},
     "output_type": "execute_result"
    }
   ],
   "source": [
    "Label_df.describe()"
   ],
   "metadata": {
    "collapsed": false,
    "ExecuteTime": {
     "end_time": "2023-10-18T09:26:07.464050903Z",
     "start_time": "2023-10-18T09:26:07.421041598Z"
    }
   },
   "id": "cec005bd3c332cdf"
  },
  {
   "cell_type": "code",
   "execution_count": 51,
   "outputs": [
    {
     "data": {
      "text/plain": "61050"
     },
     "execution_count": 51,
     "metadata": {},
     "output_type": "execute_result"
    }
   ],
   "source": [
    "2442*25"
   ],
   "metadata": {
    "collapsed": false,
    "ExecuteTime": {
     "end_time": "2023-10-18T09:27:28.995870422Z",
     "start_time": "2023-10-18T09:27:28.953387801Z"
    }
   },
   "id": "b1fb7450c9115ca8"
  },
  {
   "cell_type": "code",
   "execution_count": null,
   "outputs": [],
   "source": [],
   "metadata": {
    "collapsed": false
   },
   "id": "a8916c1b9ed05570"
  }
 ],
 "metadata": {
  "kernelspec": {
   "display_name": "Python 3",
   "language": "python",
   "name": "python3"
  },
  "language_info": {
   "codemirror_mode": {
    "name": "ipython",
    "version": 2
   },
   "file_extension": ".py",
   "mimetype": "text/x-python",
   "name": "python",
   "nbconvert_exporter": "python",
   "pygments_lexer": "ipython2",
   "version": "2.7.6"
  }
 },
 "nbformat": 4,
 "nbformat_minor": 5
}
