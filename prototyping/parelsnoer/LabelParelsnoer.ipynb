{
 "cells": [
  {
   "cell_type": "code",
   "execution_count": 1,
   "id": "initial_id",
   "metadata": {
    "collapsed": true,
    "ExecuteTime": {
     "end_time": "2023-11-03T13:03:46.939715331Z",
     "start_time": "2023-11-03T13:03:46.496418051Z"
    }
   },
   "outputs": [],
   "source": [
    "import pandas as pd"
   ]
  },
  {
   "cell_type": "code",
   "execution_count": 2,
   "outputs": [],
   "source": [
    "FileFrame = pd.read_csv('FileFrame.csv')"
   ],
   "metadata": {
    "collapsed": false,
    "ExecuteTime": {
     "end_time": "2023-11-03T13:03:46.996424861Z",
     "start_time": "2023-11-03T13:03:46.940831262Z"
    }
   },
   "id": "91e9c5962e4b4224"
  },
  {
   "cell_type": "code",
   "execution_count": 3,
   "outputs": [
    {
     "data": {
      "text/plain": "                                             originPath  \\\n0     /trinity/home/r098375/DDS/data/parelsnoer/data...   \n1     /trinity/home/r098375/DDS/data/parelsnoer/data...   \n2     /trinity/home/r098375/DDS/data/parelsnoer/data...   \n3     /trinity/home/r098375/DDS/data/parelsnoer/data...   \n4     /trinity/home/r098375/DDS/data/parelsnoer/data...   \n...                                                 ...   \n9018  /trinity/home/r098375/DDS/data/parelsnoer/data...   \n9019  /trinity/home/r098375/DDS/data/parelsnoer/data...   \n9020  /trinity/home/r098375/DDS/data/parelsnoer/data...   \n9021  /trinity/home/r098375/DDS/data/parelsnoer/data...   \n9022  /trinity/home/r098375/DDS/data/parelsnoer/data...   \n\n                                    structuredDicomPath  \\\n0                                                   NaN   \n1     /trinity/home/r098375/DDS/data/parelsnoer/DICO...   \n2                                                   NaN   \n3     /trinity/home/r098375/DDS/data/parelsnoer/DICO...   \n4                                                   NaN   \n...                                                 ...   \n9018  /trinity/home/r098375/DDS/data/parelsnoer/DICO...   \n9019  /trinity/home/r098375/DDS/data/parelsnoer/DICO...   \n9020  /trinity/home/r098375/DDS/data/parelsnoer/DICO...   \n9021  /trinity/home/r098375/DDS/data/parelsnoer/DICO...   \n9022  /trinity/home/r098375/DDS/data/parelsnoer/DICO...   \n\n                                             NIFTI_path  \n0                                                   NaN  \n1     /trinity/home/r098375/DDS/data/parelsnoer/NIFT...  \n2                                                   NaN  \n3     /trinity/home/r098375/DDS/data/parelsnoer/NIFT...  \n4                                                   NaN  \n...                                                 ...  \n9018                                                NaN  \n9019                                                NaN  \n9020                                                NaN  \n9021                                                NaN  \n9022                                                NaN  \n\n[9023 rows x 3 columns]",
      "text/html": "<div>\n<style scoped>\n    .dataframe tbody tr th:only-of-type {\n        vertical-align: middle;\n    }\n\n    .dataframe tbody tr th {\n        vertical-align: top;\n    }\n\n    .dataframe thead th {\n        text-align: right;\n    }\n</style>\n<table border=\"1\" class=\"dataframe\">\n  <thead>\n    <tr style=\"text-align: right;\">\n      <th></th>\n      <th>originPath</th>\n      <th>structuredDicomPath</th>\n      <th>NIFTI_path</th>\n    </tr>\n  </thead>\n  <tbody>\n    <tr>\n      <th>0</th>\n      <td>/trinity/home/r098375/DDS/data/parelsnoer/data...</td>\n      <td>NaN</td>\n      <td>NaN</td>\n    </tr>\n    <tr>\n      <th>1</th>\n      <td>/trinity/home/r098375/DDS/data/parelsnoer/data...</td>\n      <td>/trinity/home/r098375/DDS/data/parelsnoer/DICO...</td>\n      <td>/trinity/home/r098375/DDS/data/parelsnoer/NIFT...</td>\n    </tr>\n    <tr>\n      <th>2</th>\n      <td>/trinity/home/r098375/DDS/data/parelsnoer/data...</td>\n      <td>NaN</td>\n      <td>NaN</td>\n    </tr>\n    <tr>\n      <th>3</th>\n      <td>/trinity/home/r098375/DDS/data/parelsnoer/data...</td>\n      <td>/trinity/home/r098375/DDS/data/parelsnoer/DICO...</td>\n      <td>/trinity/home/r098375/DDS/data/parelsnoer/NIFT...</td>\n    </tr>\n    <tr>\n      <th>4</th>\n      <td>/trinity/home/r098375/DDS/data/parelsnoer/data...</td>\n      <td>NaN</td>\n      <td>NaN</td>\n    </tr>\n    <tr>\n      <th>...</th>\n      <td>...</td>\n      <td>...</td>\n      <td>...</td>\n    </tr>\n    <tr>\n      <th>9018</th>\n      <td>/trinity/home/r098375/DDS/data/parelsnoer/data...</td>\n      <td>/trinity/home/r098375/DDS/data/parelsnoer/DICO...</td>\n      <td>NaN</td>\n    </tr>\n    <tr>\n      <th>9019</th>\n      <td>/trinity/home/r098375/DDS/data/parelsnoer/data...</td>\n      <td>/trinity/home/r098375/DDS/data/parelsnoer/DICO...</td>\n      <td>NaN</td>\n    </tr>\n    <tr>\n      <th>9020</th>\n      <td>/trinity/home/r098375/DDS/data/parelsnoer/data...</td>\n      <td>/trinity/home/r098375/DDS/data/parelsnoer/DICO...</td>\n      <td>NaN</td>\n    </tr>\n    <tr>\n      <th>9021</th>\n      <td>/trinity/home/r098375/DDS/data/parelsnoer/data...</td>\n      <td>/trinity/home/r098375/DDS/data/parelsnoer/DICO...</td>\n      <td>NaN</td>\n    </tr>\n    <tr>\n      <th>9022</th>\n      <td>/trinity/home/r098375/DDS/data/parelsnoer/data...</td>\n      <td>/trinity/home/r098375/DDS/data/parelsnoer/DICO...</td>\n      <td>NaN</td>\n    </tr>\n  </tbody>\n</table>\n<p>9023 rows × 3 columns</p>\n</div>"
     },
     "execution_count": 3,
     "metadata": {},
     "output_type": "execute_result"
    }
   ],
   "source": [
    "FileFrame"
   ],
   "metadata": {
    "collapsed": false,
    "ExecuteTime": {
     "end_time": "2023-11-03T13:03:47.044102453Z",
     "start_time": "2023-11-03T13:03:47.003045135Z"
    }
   },
   "id": "8ebfacf5221ca6b7"
  },
  {
   "cell_type": "code",
   "execution_count": 4,
   "outputs": [],
   "source": [
    "FileFrame = FileFrame[FileFrame['NIFTI_path'].isna()==False].reset_index(drop=True)"
   ],
   "metadata": {
    "collapsed": false,
    "ExecuteTime": {
     "end_time": "2023-11-03T13:03:47.080180727Z",
     "start_time": "2023-11-03T13:03:47.019261940Z"
    }
   },
   "id": "28a2dd496dcd05d7"
  },
  {
   "cell_type": "code",
   "execution_count": 5,
   "outputs": [
    {
     "data": {
      "text/plain": "                                            originPath  \\\n0    /trinity/home/r098375/DDS/data/parelsnoer/data...   \n1    /trinity/home/r098375/DDS/data/parelsnoer/data...   \n2    /trinity/home/r098375/DDS/data/parelsnoer/data...   \n3    /trinity/home/r098375/DDS/data/parelsnoer/data...   \n4    /trinity/home/r098375/DDS/data/parelsnoer/data...   \n..                                                 ...   \n756  /trinity/home/r098375/DDS/data/parelsnoer/data...   \n757  /trinity/home/r098375/DDS/data/parelsnoer/data...   \n758  /trinity/home/r098375/DDS/data/parelsnoer/data...   \n759  /trinity/home/r098375/DDS/data/parelsnoer/data...   \n760  /trinity/home/r098375/DDS/data/parelsnoer/data...   \n\n                                   structuredDicomPath  \\\n0    /trinity/home/r098375/DDS/data/parelsnoer/DICO...   \n1    /trinity/home/r098375/DDS/data/parelsnoer/DICO...   \n2    /trinity/home/r098375/DDS/data/parelsnoer/DICO...   \n3    /trinity/home/r098375/DDS/data/parelsnoer/DICO...   \n4    /trinity/home/r098375/DDS/data/parelsnoer/DICO...   \n..                                                 ...   \n756  /trinity/home/r098375/DDS/data/parelsnoer/DICO...   \n757  /trinity/home/r098375/DDS/data/parelsnoer/DICO...   \n758  /trinity/home/r098375/DDS/data/parelsnoer/DICO...   \n759  /trinity/home/r098375/DDS/data/parelsnoer/DICO...   \n760  /trinity/home/r098375/DDS/data/parelsnoer/DICO...   \n\n                                            NIFTI_path  \n0    /trinity/home/r098375/DDS/data/parelsnoer/NIFT...  \n1    /trinity/home/r098375/DDS/data/parelsnoer/NIFT...  \n2    /trinity/home/r098375/DDS/data/parelsnoer/NIFT...  \n3    /trinity/home/r098375/DDS/data/parelsnoer/NIFT...  \n4    /trinity/home/r098375/DDS/data/parelsnoer/NIFT...  \n..                                                 ...  \n756  /trinity/home/r098375/DDS/data/parelsnoer/NIFT...  \n757  /trinity/home/r098375/DDS/data/parelsnoer/NIFT...  \n758  /trinity/home/r098375/DDS/data/parelsnoer/NIFT...  \n759  /trinity/home/r098375/DDS/data/parelsnoer/NIFT...  \n760  /trinity/home/r098375/DDS/data/parelsnoer/NIFT...  \n\n[761 rows x 3 columns]",
      "text/html": "<div>\n<style scoped>\n    .dataframe tbody tr th:only-of-type {\n        vertical-align: middle;\n    }\n\n    .dataframe tbody tr th {\n        vertical-align: top;\n    }\n\n    .dataframe thead th {\n        text-align: right;\n    }\n</style>\n<table border=\"1\" class=\"dataframe\">\n  <thead>\n    <tr style=\"text-align: right;\">\n      <th></th>\n      <th>originPath</th>\n      <th>structuredDicomPath</th>\n      <th>NIFTI_path</th>\n    </tr>\n  </thead>\n  <tbody>\n    <tr>\n      <th>0</th>\n      <td>/trinity/home/r098375/DDS/data/parelsnoer/data...</td>\n      <td>/trinity/home/r098375/DDS/data/parelsnoer/DICO...</td>\n      <td>/trinity/home/r098375/DDS/data/parelsnoer/NIFT...</td>\n    </tr>\n    <tr>\n      <th>1</th>\n      <td>/trinity/home/r098375/DDS/data/parelsnoer/data...</td>\n      <td>/trinity/home/r098375/DDS/data/parelsnoer/DICO...</td>\n      <td>/trinity/home/r098375/DDS/data/parelsnoer/NIFT...</td>\n    </tr>\n    <tr>\n      <th>2</th>\n      <td>/trinity/home/r098375/DDS/data/parelsnoer/data...</td>\n      <td>/trinity/home/r098375/DDS/data/parelsnoer/DICO...</td>\n      <td>/trinity/home/r098375/DDS/data/parelsnoer/NIFT...</td>\n    </tr>\n    <tr>\n      <th>3</th>\n      <td>/trinity/home/r098375/DDS/data/parelsnoer/data...</td>\n      <td>/trinity/home/r098375/DDS/data/parelsnoer/DICO...</td>\n      <td>/trinity/home/r098375/DDS/data/parelsnoer/NIFT...</td>\n    </tr>\n    <tr>\n      <th>4</th>\n      <td>/trinity/home/r098375/DDS/data/parelsnoer/data...</td>\n      <td>/trinity/home/r098375/DDS/data/parelsnoer/DICO...</td>\n      <td>/trinity/home/r098375/DDS/data/parelsnoer/NIFT...</td>\n    </tr>\n    <tr>\n      <th>...</th>\n      <td>...</td>\n      <td>...</td>\n      <td>...</td>\n    </tr>\n    <tr>\n      <th>756</th>\n      <td>/trinity/home/r098375/DDS/data/parelsnoer/data...</td>\n      <td>/trinity/home/r098375/DDS/data/parelsnoer/DICO...</td>\n      <td>/trinity/home/r098375/DDS/data/parelsnoer/NIFT...</td>\n    </tr>\n    <tr>\n      <th>757</th>\n      <td>/trinity/home/r098375/DDS/data/parelsnoer/data...</td>\n      <td>/trinity/home/r098375/DDS/data/parelsnoer/DICO...</td>\n      <td>/trinity/home/r098375/DDS/data/parelsnoer/NIFT...</td>\n    </tr>\n    <tr>\n      <th>758</th>\n      <td>/trinity/home/r098375/DDS/data/parelsnoer/data...</td>\n      <td>/trinity/home/r098375/DDS/data/parelsnoer/DICO...</td>\n      <td>/trinity/home/r098375/DDS/data/parelsnoer/NIFT...</td>\n    </tr>\n    <tr>\n      <th>759</th>\n      <td>/trinity/home/r098375/DDS/data/parelsnoer/data...</td>\n      <td>/trinity/home/r098375/DDS/data/parelsnoer/DICO...</td>\n      <td>/trinity/home/r098375/DDS/data/parelsnoer/NIFT...</td>\n    </tr>\n    <tr>\n      <th>760</th>\n      <td>/trinity/home/r098375/DDS/data/parelsnoer/data...</td>\n      <td>/trinity/home/r098375/DDS/data/parelsnoer/DICO...</td>\n      <td>/trinity/home/r098375/DDS/data/parelsnoer/NIFT...</td>\n    </tr>\n  </tbody>\n</table>\n<p>761 rows × 3 columns</p>\n</div>"
     },
     "execution_count": 5,
     "metadata": {},
     "output_type": "execute_result"
    }
   ],
   "source": [
    "FileFrame"
   ],
   "metadata": {
    "collapsed": false,
    "ExecuteTime": {
     "end_time": "2023-11-03T13:03:47.159628089Z",
     "start_time": "2023-11-03T13:03:47.035577657Z"
    }
   },
   "id": "fc0fc69920d94d54"
  },
  {
   "cell_type": "code",
   "execution_count": 6,
   "outputs": [],
   "source": [
    "def extractName(path):\n",
    "    return str(path).split('/')[10]"
   ],
   "metadata": {
    "collapsed": false,
    "ExecuteTime": {
     "end_time": "2023-11-03T13:03:47.160075491Z",
     "start_time": "2023-11-03T13:03:47.081573735Z"
    }
   },
   "id": "48dea7c3afff3654"
  },
  {
   "cell_type": "code",
   "execution_count": 7,
   "outputs": [],
   "source": [
    "FileFrame['name'] = FileFrame['originPath'].apply(extractName)"
   ],
   "metadata": {
    "collapsed": false,
    "ExecuteTime": {
     "end_time": "2023-11-03T13:03:47.160349509Z",
     "start_time": "2023-11-03T13:03:47.081990318Z"
    }
   },
   "id": "5c5af53c5c9f7d"
  },
  {
   "cell_type": "code",
   "execution_count": 8,
   "outputs": [],
   "source": [
    "FileFrame['numName'] = FileFrame['name'].apply(lambda x: str(x).split('-')[0])"
   ],
   "metadata": {
    "collapsed": false,
    "ExecuteTime": {
     "end_time": "2023-11-03T13:03:47.160599515Z",
     "start_time": "2023-11-03T13:03:47.082323707Z"
    }
   },
   "id": "3a2be5b6ba55bc61"
  },
  {
   "cell_type": "code",
   "execution_count": 9,
   "outputs": [
    {
     "data": {
      "text/plain": "array(['301', '803', '802', '302', '804', '801', '1001', '601', '101',\n       '501', '202', '604', '603', '1202', '1203', '602', '1302', '1303',\n       '1104', '1103', '1602', '1603', '1102', '1003', '1002', '1004',\n       '703', '303', '702', '704', '503', '504', '204', '502', '1502',\n       '1503', '401', '904', '903', '902', '402', '', '1403', '1402',\n       '701', '901', '201', '203', '102', '403', '608', '607', '1802',\n       '1803'], dtype=object)"
     },
     "execution_count": 9,
     "metadata": {},
     "output_type": "execute_result"
    }
   ],
   "source": [
    "FileFrame['numName'].unique()"
   ],
   "metadata": {
    "collapsed": false,
    "ExecuteTime": {
     "end_time": "2023-11-03T13:03:47.161231090Z",
     "start_time": "2023-11-03T13:03:47.082627079Z"
    }
   },
   "id": "6b0b59000e9c09d3"
  },
  {
   "cell_type": "code",
   "execution_count": 10,
   "outputs": [],
   "source": [
    "FileFrame['numName'] = FileFrame['numName'].apply(lambda x: '0' if x=='' else x)"
   ],
   "metadata": {
    "collapsed": false,
    "ExecuteTime": {
     "end_time": "2023-11-03T13:03:47.267997326Z",
     "start_time": "2023-11-03T13:03:47.084087926Z"
    }
   },
   "id": "e93afdbfe82c8ac8"
  },
  {
   "cell_type": "code",
   "execution_count": 11,
   "outputs": [],
   "source": [
    "FileFrame['r_numName'] = FileFrame['numName'].apply(lambda x:int(int(x)/100))"
   ],
   "metadata": {
    "collapsed": false,
    "ExecuteTime": {
     "end_time": "2023-11-03T13:03:47.274627592Z",
     "start_time": "2023-11-03T13:03:47.125351719Z"
    }
   },
   "id": "e3a9dc01851b6444"
  },
  {
   "cell_type": "code",
   "execution_count": 12,
   "outputs": [
    {
     "data": {
      "text/plain": "array([ 3,  8, 10,  6,  1,  5,  2, 12, 13, 11, 16,  7, 15,  4,  9,  0, 14,\n       18])"
     },
     "execution_count": 12,
     "metadata": {},
     "output_type": "execute_result"
    }
   ],
   "source": [
    "FileFrame['r_numName'].unique()"
   ],
   "metadata": {
    "collapsed": false,
    "ExecuteTime": {
     "end_time": "2023-11-03T13:03:47.275467997Z",
     "start_time": "2023-11-03T13:03:47.125824194Z"
    }
   },
   "id": "2e0fb93007dbb44a"
  },
  {
   "cell_type": "code",
   "execution_count": 13,
   "outputs": [
    {
     "data": {
      "text/plain": "array(['601-t_T1_IR_3mm', '604-isoDWI_uit_DTI', '603-dADC_uit_DTI',\n       '602-Reg___WIP_DTI_high_iso45dir_noDynStab_SENSE', '602-MPR_COR',\n       '608-min_MIP_2e_SWI_60_4__2', '607-min_MIP_1e_SWI_60_4__2',\n       '607-1st_dual_echo_SWI', '608-2nd_dual_echo_SWI'], dtype=object)"
     },
     "execution_count": 13,
     "metadata": {},
     "output_type": "execute_result"
    }
   ],
   "source": [
    "FileFrame[FileFrame['r_numName']==6]['name'].unique()"
   ],
   "metadata": {
    "collapsed": false,
    "ExecuteTime": {
     "end_time": "2023-11-03T13:03:47.276034248Z",
     "start_time": "2023-11-03T13:03:47.126237513Z"
    }
   },
   "id": "9f203f70c20786d8"
  },
  {
   "cell_type": "code",
   "execution_count": 14,
   "outputs": [],
   "source": [
    "def rename(origName):\n",
    "    on = origName.lower()\n",
    "    if 'local' in on:\n",
    "        return 'localizer'\n",
    "    if 'gd' in on:\n",
    "        if 't1' in on or 'fspgr' in on:\n",
    "            return 'T1c'\n",
    "    if 't1' in on or 'fspgr' in on or 'mpr' in on:\n",
    "        return 'T1w'\n",
    "    if 'flair' in on:\n",
    "        return 'flair'\n",
    "    if 'dti' in on:\n",
    "        return 'dti'\n",
    "    if 'dwi' in on:\n",
    "        return 'dwi'\n",
    "    if 't2' in on:\n",
    "        return 'T2w'\n",
    "    if 'adc' in on:\n",
    "        return 'adc'\n",
    "    if 'pwi' in on or 'perf' in on:\n",
    "        return 'pwi'\n",
    "    if 'pd' in on:\n",
    "        return 'pd'\n",
    "    if 'survey' in on:\n",
    "        return 'survey'\n",
    "    if 'asl' in on:\n",
    "        return 'asl'\n",
    "    if 'swi' in on:\n",
    "        return 'swi'\n",
    "    return 'other'"
   ],
   "metadata": {
    "collapsed": false,
    "ExecuteTime": {
     "end_time": "2023-11-03T13:03:47.276280883Z",
     "start_time": "2023-11-03T13:03:47.126971694Z"
    }
   },
   "id": "7320276738615aa3"
  },
  {
   "cell_type": "code",
   "execution_count": 15,
   "outputs": [],
   "source": [
    "FileFrame['renamed'] = FileFrame['name'].apply(rename)"
   ],
   "metadata": {
    "collapsed": false,
    "ExecuteTime": {
     "end_time": "2023-11-03T13:03:47.280987304Z",
     "start_time": "2023-11-03T13:03:47.137990775Z"
    }
   },
   "id": "18b4959b1d45af55"
  },
  {
   "cell_type": "code",
   "execution_count": 16,
   "outputs": [
    {
     "data": {
      "text/plain": "renamed\ndti       487\nT1w       171\nasl        66\nother      13\nsurvey      9\nT2w         5\nflair       4\nswi         4\nT1c         2\nName: count, dtype: int64"
     },
     "execution_count": 16,
     "metadata": {},
     "output_type": "execute_result"
    }
   ],
   "source": [
    "FileFrame['renamed'].value_counts()"
   ],
   "metadata": {
    "collapsed": false,
    "ExecuteTime": {
     "end_time": "2023-11-03T13:03:47.297838133Z",
     "start_time": "2023-11-03T13:03:47.184401900Z"
    }
   },
   "id": "43d98e305192d414"
  },
  {
   "cell_type": "code",
   "execution_count": 17,
   "outputs": [
    {
     "data": {
      "text/plain": "1                                     803-dADC_uit_DTI\n2      802-Reg___WIP_DTI_high_iso45dir_noDynStab_SENSE\n4                                   804-isoDWI_uit_DTI\n5                      801-DTI_high_iso45dir_noDynStab\n10                                    803-dADC_uit_DTI\n                            ...                       \n753    802-Reg___WIP_DTI_high_iso45dir_noDynStab_SENSE\n754                                 804-isoDWI_uit_DTI\n758                                   803-dADC_uit_DTI\n759    802-Reg___WIP_DTI_high_iso45dir_noDynStab_SENSE\n760                                 804-isoDWI_uit_DTI\nName: name, Length: 487, dtype: object"
     },
     "execution_count": 17,
     "metadata": {},
     "output_type": "execute_result"
    }
   ],
   "source": [
    "FileFrame[FileFrame['renamed']=='dti']['name']"
   ],
   "metadata": {
    "collapsed": false,
    "ExecuteTime": {
     "end_time": "2023-11-03T13:03:47.298498270Z",
     "start_time": "2023-11-03T13:03:47.184887021Z"
    }
   },
   "id": "b29a91a2ef0ec318"
  },
  {
   "cell_type": "code",
   "execution_count": 25,
   "outputs": [],
   "source": [
    "labeldict = {\"T1\":0,\"T1_c\":1,\"T2\":2,\"T2-FLAIR\":3,\"FS\":4,\"PD\":5,\n",
    "             \"SWI\":6, \"GRE\":7, \"T2*\":8, \"DWI\":9, \"ADC\":10, \"BOLD\":11,\n",
    "             \"FlowSensitve\":12,\"PWI\":13,\"ASL\":14,\"Hippo\":15,\n",
    "             \"DTI\":16,\"Other\":17}\n",
    "def assignLabel(dataframe):\n",
    "    description = dataframe['description']\n",
    "    try:\n",
    "        weight = dataframe['weighting']\n",
    "    except:\n",
    "        weight = None\n",
    "    otherCategories = ['fieldmap','scout','calibration','phase','localizer','nan','NotMri','pet','CT','e2','minIP','moco','mpr'] #moco is a motion corrected series\n",
    "    if description in otherCategories:\n",
    "        return 17\n",
    "    if description =='T1w':\n",
    "        return 0\n",
    "    if description =='T1c':\n",
    "        return 1\n",
    "    if weight:\n",
    "        if description =='T2w':\n",
    "            if weight=='T2':\n",
    "                return 2\n",
    "            if weight=='PD':\n",
    "                return 5\n",
    "    if description == 'T2w':\n",
    "        return 2\n",
    "    if 'FLAIR' in description:\n",
    "        return 3\n",
    "    if description =='FS':\n",
    "        return 4\n",
    "    if description =='pd':\n",
    "        return 5\n",
    "    if description =='swi':\n",
    "        return 6\n",
    "    if description.lower() =='gre':\n",
    "        return 7\n",
    "    if description =='T2star':\n",
    "        return 8\n",
    "    if description =='dwi':\n",
    "        return 9\n",
    "    if description =='adc':\n",
    "        return 10\n",
    "    if description =='bold':\n",
    "        return 11\n",
    "    if description =='angio': #flowsensitive\n",
    "        return 12\n",
    "    if description =='pwi' or description=='cbf':\n",
    "        return 13\n",
    "    if 'asl' in description:\n",
    "        return 14\n",
    "    if description == 'hippo':\n",
    "        return 15\n",
    "    if description == 'dti':\n",
    "        return 16\n",
    "    return -1"
   ],
   "metadata": {
    "collapsed": false,
    "ExecuteTime": {
     "end_time": "2023-11-03T13:16:00.332185433Z",
     "start_time": "2023-11-03T13:16:00.327901980Z"
    }
   },
   "id": "6750d40c6dfc6951"
  },
  {
   "cell_type": "code",
   "execution_count": 28,
   "outputs": [],
   "source": [
    "FileFrame['description'] = FileFrame['renamed']"
   ],
   "metadata": {
    "collapsed": false,
    "ExecuteTime": {
     "end_time": "2023-11-03T13:16:26.979356146Z",
     "start_time": "2023-11-03T13:16:26.931760342Z"
    }
   },
   "id": "eebf675a2bfae210"
  },
  {
   "cell_type": "code",
   "execution_count": 30,
   "outputs": [
    {
     "data": {
      "text/plain": "                                          originPath  \\\n0  /trinity/home/r098375/DDS/data/parelsnoer/data...   \n1  /trinity/home/r098375/DDS/data/parelsnoer/data...   \n2  /trinity/home/r098375/DDS/data/parelsnoer/data...   \n3  /trinity/home/r098375/DDS/data/parelsnoer/data...   \n4  /trinity/home/r098375/DDS/data/parelsnoer/data...   \n\n                                 structuredDicomPath  \\\n0  /trinity/home/r098375/DDS/data/parelsnoer/DICO...   \n1  /trinity/home/r098375/DDS/data/parelsnoer/DICO...   \n2  /trinity/home/r098375/DDS/data/parelsnoer/DICO...   \n3  /trinity/home/r098375/DDS/data/parelsnoer/DICO...   \n4  /trinity/home/r098375/DDS/data/parelsnoer/DICO...   \n\n                                          NIFTI_path  \\\n0  /trinity/home/r098375/DDS/data/parelsnoer/NIFT...   \n1  /trinity/home/r098375/DDS/data/parelsnoer/NIFT...   \n2  /trinity/home/r098375/DDS/data/parelsnoer/NIFT...   \n3  /trinity/home/r098375/DDS/data/parelsnoer/NIFT...   \n4  /trinity/home/r098375/DDS/data/parelsnoer/NIFT...   \n\n                                              name numName  r_numName renamed  \\\n0                                          301-T1w     301          3     T1w   \n1                                 803-dADC_uit_DTI     803          8     dti   \n2  802-Reg___WIP_DTI_high_iso45dir_noDynStab_SENSE     802          8     dti   \n3                       302-MPR_s_T1W_3D_TFE_SENSE     302          3     T1w   \n4                               804-isoDWI_uit_DTI     804          8     dti   \n\n  description  \n0         T1w  \n1         dti  \n2         dti  \n3         T1w  \n4         dti  ",
      "text/html": "<div>\n<style scoped>\n    .dataframe tbody tr th:only-of-type {\n        vertical-align: middle;\n    }\n\n    .dataframe tbody tr th {\n        vertical-align: top;\n    }\n\n    .dataframe thead th {\n        text-align: right;\n    }\n</style>\n<table border=\"1\" class=\"dataframe\">\n  <thead>\n    <tr style=\"text-align: right;\">\n      <th></th>\n      <th>originPath</th>\n      <th>structuredDicomPath</th>\n      <th>NIFTI_path</th>\n      <th>name</th>\n      <th>numName</th>\n      <th>r_numName</th>\n      <th>renamed</th>\n      <th>description</th>\n    </tr>\n  </thead>\n  <tbody>\n    <tr>\n      <th>0</th>\n      <td>/trinity/home/r098375/DDS/data/parelsnoer/data...</td>\n      <td>/trinity/home/r098375/DDS/data/parelsnoer/DICO...</td>\n      <td>/trinity/home/r098375/DDS/data/parelsnoer/NIFT...</td>\n      <td>301-T1w</td>\n      <td>301</td>\n      <td>3</td>\n      <td>T1w</td>\n      <td>T1w</td>\n    </tr>\n    <tr>\n      <th>1</th>\n      <td>/trinity/home/r098375/DDS/data/parelsnoer/data...</td>\n      <td>/trinity/home/r098375/DDS/data/parelsnoer/DICO...</td>\n      <td>/trinity/home/r098375/DDS/data/parelsnoer/NIFT...</td>\n      <td>803-dADC_uit_DTI</td>\n      <td>803</td>\n      <td>8</td>\n      <td>dti</td>\n      <td>dti</td>\n    </tr>\n    <tr>\n      <th>2</th>\n      <td>/trinity/home/r098375/DDS/data/parelsnoer/data...</td>\n      <td>/trinity/home/r098375/DDS/data/parelsnoer/DICO...</td>\n      <td>/trinity/home/r098375/DDS/data/parelsnoer/NIFT...</td>\n      <td>802-Reg___WIP_DTI_high_iso45dir_noDynStab_SENSE</td>\n      <td>802</td>\n      <td>8</td>\n      <td>dti</td>\n      <td>dti</td>\n    </tr>\n    <tr>\n      <th>3</th>\n      <td>/trinity/home/r098375/DDS/data/parelsnoer/data...</td>\n      <td>/trinity/home/r098375/DDS/data/parelsnoer/DICO...</td>\n      <td>/trinity/home/r098375/DDS/data/parelsnoer/NIFT...</td>\n      <td>302-MPR_s_T1W_3D_TFE_SENSE</td>\n      <td>302</td>\n      <td>3</td>\n      <td>T1w</td>\n      <td>T1w</td>\n    </tr>\n    <tr>\n      <th>4</th>\n      <td>/trinity/home/r098375/DDS/data/parelsnoer/data...</td>\n      <td>/trinity/home/r098375/DDS/data/parelsnoer/DICO...</td>\n      <td>/trinity/home/r098375/DDS/data/parelsnoer/NIFT...</td>\n      <td>804-isoDWI_uit_DTI</td>\n      <td>804</td>\n      <td>8</td>\n      <td>dti</td>\n      <td>dti</td>\n    </tr>\n  </tbody>\n</table>\n</div>"
     },
     "execution_count": 30,
     "metadata": {},
     "output_type": "execute_result"
    }
   ],
   "source": [
    "FileFrame.head()"
   ],
   "metadata": {
    "collapsed": false,
    "ExecuteTime": {
     "end_time": "2023-11-03T13:16:39.393133841Z",
     "start_time": "2023-11-03T13:16:39.381569893Z"
    }
   },
   "id": "e41fc893893fa221"
  },
  {
   "cell_type": "code",
   "execution_count": 32,
   "outputs": [],
   "source": [
    "FileFrame['numLabel'] = FileFrame.apply(assignLabel, axis=1)"
   ],
   "metadata": {
    "collapsed": false,
    "ExecuteTime": {
     "end_time": "2023-11-03T13:17:06.122517265Z",
     "start_time": "2023-11-03T13:17:06.101823912Z"
    }
   },
   "id": "d8f14111c741563c"
  },
  {
   "cell_type": "code",
   "execution_count": 93,
   "outputs": [
    {
     "data": {
      "text/plain": "                                            originPath  \\\n0    /trinity/home/r098375/DDS/data/parelsnoer/data...   \n1    /trinity/home/r098375/DDS/data/parelsnoer/data...   \n2    /trinity/home/r098375/DDS/data/parelsnoer/data...   \n3    /trinity/home/r098375/DDS/data/parelsnoer/data...   \n4    /trinity/home/r098375/DDS/data/parelsnoer/data...   \n..                                                 ...   \n756  /trinity/home/r098375/DDS/data/parelsnoer/data...   \n757  /trinity/home/r098375/DDS/data/parelsnoer/data...   \n758  /trinity/home/r098375/DDS/data/parelsnoer/data...   \n759  /trinity/home/r098375/DDS/data/parelsnoer/data...   \n760  /trinity/home/r098375/DDS/data/parelsnoer/data...   \n\n                                   structuredDicomPath  \\\n0    /trinity/home/r098375/DDS/data/parelsnoer/DICO...   \n1    /trinity/home/r098375/DDS/data/parelsnoer/DICO...   \n2    /trinity/home/r098375/DDS/data/parelsnoer/DICO...   \n3    /trinity/home/r098375/DDS/data/parelsnoer/DICO...   \n4    /trinity/home/r098375/DDS/data/parelsnoer/DICO...   \n..                                                 ...   \n756  /trinity/home/r098375/DDS/data/parelsnoer/DICO...   \n757  /trinity/home/r098375/DDS/data/parelsnoer/DICO...   \n758  /trinity/home/r098375/DDS/data/parelsnoer/DICO...   \n759  /trinity/home/r098375/DDS/data/parelsnoer/DICO...   \n760  /trinity/home/r098375/DDS/data/parelsnoer/DICO...   \n\n                                            NIFTI_path  \\\n0    /trinity/home/r098375/DDS/data/parelsnoer/NIFT...   \n1    /trinity/home/r098375/DDS/data/parelsnoer/NIFT...   \n2    /trinity/home/r098375/DDS/data/parelsnoer/NIFT...   \n3    /trinity/home/r098375/DDS/data/parelsnoer/NIFT...   \n4    /trinity/home/r098375/DDS/data/parelsnoer/NIFT...   \n..                                                 ...   \n756  /trinity/home/r098375/DDS/data/parelsnoer/NIFT...   \n757  /trinity/home/r098375/DDS/data/parelsnoer/NIFT...   \n758  /trinity/home/r098375/DDS/data/parelsnoer/NIFT...   \n759  /trinity/home/r098375/DDS/data/parelsnoer/NIFT...   \n760  /trinity/home/r098375/DDS/data/parelsnoer/NIFT...   \n\n                                                name numName  r_numName  \\\n0                                            301-T1w     301          3   \n1                                   803-dADC_uit_DTI     803          8   \n2    802-Reg___WIP_DTI_high_iso45dir_noDynStab_SENSE     802          8   \n3                         302-MPR_s_T1W_3D_TFE_SENSE     302          3   \n4                                 804-isoDWI_uit_DTI     804          8   \n..                                               ...     ...        ...   \n756                       303-c_mpr_T1W_3D_TFE_SENSE     303          3   \n757                                      303-MPR_COR     303          3   \n758                                 803-dADC_uit_DTI     803          8   \n759  802-Reg___WIP_DTI_high_iso45dir_noDynStab_SENSE     802          8   \n760                               804-isoDWI_uit_DTI     804          8   \n\n    renamed description  numLabel  \n0       T1w         T1w         0  \n1       dti         dti        16  \n2       dti         dti        16  \n3       T1w         T1w         0  \n4       dti         dti        16  \n..      ...         ...       ...  \n756     T1w         T1w         0  \n757     T1w         T1w         0  \n758     dti         dti        16  \n759     dti         dti        16  \n760     dti         dti        16  \n\n[761 rows x 9 columns]",
      "text/html": "<div>\n<style scoped>\n    .dataframe tbody tr th:only-of-type {\n        vertical-align: middle;\n    }\n\n    .dataframe tbody tr th {\n        vertical-align: top;\n    }\n\n    .dataframe thead th {\n        text-align: right;\n    }\n</style>\n<table border=\"1\" class=\"dataframe\">\n  <thead>\n    <tr style=\"text-align: right;\">\n      <th></th>\n      <th>originPath</th>\n      <th>structuredDicomPath</th>\n      <th>NIFTI_path</th>\n      <th>name</th>\n      <th>numName</th>\n      <th>r_numName</th>\n      <th>renamed</th>\n      <th>description</th>\n      <th>numLabel</th>\n    </tr>\n  </thead>\n  <tbody>\n    <tr>\n      <th>0</th>\n      <td>/trinity/home/r098375/DDS/data/parelsnoer/data...</td>\n      <td>/trinity/home/r098375/DDS/data/parelsnoer/DICO...</td>\n      <td>/trinity/home/r098375/DDS/data/parelsnoer/NIFT...</td>\n      <td>301-T1w</td>\n      <td>301</td>\n      <td>3</td>\n      <td>T1w</td>\n      <td>T1w</td>\n      <td>0</td>\n    </tr>\n    <tr>\n      <th>1</th>\n      <td>/trinity/home/r098375/DDS/data/parelsnoer/data...</td>\n      <td>/trinity/home/r098375/DDS/data/parelsnoer/DICO...</td>\n      <td>/trinity/home/r098375/DDS/data/parelsnoer/NIFT...</td>\n      <td>803-dADC_uit_DTI</td>\n      <td>803</td>\n      <td>8</td>\n      <td>dti</td>\n      <td>dti</td>\n      <td>16</td>\n    </tr>\n    <tr>\n      <th>2</th>\n      <td>/trinity/home/r098375/DDS/data/parelsnoer/data...</td>\n      <td>/trinity/home/r098375/DDS/data/parelsnoer/DICO...</td>\n      <td>/trinity/home/r098375/DDS/data/parelsnoer/NIFT...</td>\n      <td>802-Reg___WIP_DTI_high_iso45dir_noDynStab_SENSE</td>\n      <td>802</td>\n      <td>8</td>\n      <td>dti</td>\n      <td>dti</td>\n      <td>16</td>\n    </tr>\n    <tr>\n      <th>3</th>\n      <td>/trinity/home/r098375/DDS/data/parelsnoer/data...</td>\n      <td>/trinity/home/r098375/DDS/data/parelsnoer/DICO...</td>\n      <td>/trinity/home/r098375/DDS/data/parelsnoer/NIFT...</td>\n      <td>302-MPR_s_T1W_3D_TFE_SENSE</td>\n      <td>302</td>\n      <td>3</td>\n      <td>T1w</td>\n      <td>T1w</td>\n      <td>0</td>\n    </tr>\n    <tr>\n      <th>4</th>\n      <td>/trinity/home/r098375/DDS/data/parelsnoer/data...</td>\n      <td>/trinity/home/r098375/DDS/data/parelsnoer/DICO...</td>\n      <td>/trinity/home/r098375/DDS/data/parelsnoer/NIFT...</td>\n      <td>804-isoDWI_uit_DTI</td>\n      <td>804</td>\n      <td>8</td>\n      <td>dti</td>\n      <td>dti</td>\n      <td>16</td>\n    </tr>\n    <tr>\n      <th>...</th>\n      <td>...</td>\n      <td>...</td>\n      <td>...</td>\n      <td>...</td>\n      <td>...</td>\n      <td>...</td>\n      <td>...</td>\n      <td>...</td>\n      <td>...</td>\n    </tr>\n    <tr>\n      <th>756</th>\n      <td>/trinity/home/r098375/DDS/data/parelsnoer/data...</td>\n      <td>/trinity/home/r098375/DDS/data/parelsnoer/DICO...</td>\n      <td>/trinity/home/r098375/DDS/data/parelsnoer/NIFT...</td>\n      <td>303-c_mpr_T1W_3D_TFE_SENSE</td>\n      <td>303</td>\n      <td>3</td>\n      <td>T1w</td>\n      <td>T1w</td>\n      <td>0</td>\n    </tr>\n    <tr>\n      <th>757</th>\n      <td>/trinity/home/r098375/DDS/data/parelsnoer/data...</td>\n      <td>/trinity/home/r098375/DDS/data/parelsnoer/DICO...</td>\n      <td>/trinity/home/r098375/DDS/data/parelsnoer/NIFT...</td>\n      <td>303-MPR_COR</td>\n      <td>303</td>\n      <td>3</td>\n      <td>T1w</td>\n      <td>T1w</td>\n      <td>0</td>\n    </tr>\n    <tr>\n      <th>758</th>\n      <td>/trinity/home/r098375/DDS/data/parelsnoer/data...</td>\n      <td>/trinity/home/r098375/DDS/data/parelsnoer/DICO...</td>\n      <td>/trinity/home/r098375/DDS/data/parelsnoer/NIFT...</td>\n      <td>803-dADC_uit_DTI</td>\n      <td>803</td>\n      <td>8</td>\n      <td>dti</td>\n      <td>dti</td>\n      <td>16</td>\n    </tr>\n    <tr>\n      <th>759</th>\n      <td>/trinity/home/r098375/DDS/data/parelsnoer/data...</td>\n      <td>/trinity/home/r098375/DDS/data/parelsnoer/DICO...</td>\n      <td>/trinity/home/r098375/DDS/data/parelsnoer/NIFT...</td>\n      <td>802-Reg___WIP_DTI_high_iso45dir_noDynStab_SENSE</td>\n      <td>802</td>\n      <td>8</td>\n      <td>dti</td>\n      <td>dti</td>\n      <td>16</td>\n    </tr>\n    <tr>\n      <th>760</th>\n      <td>/trinity/home/r098375/DDS/data/parelsnoer/data...</td>\n      <td>/trinity/home/r098375/DDS/data/parelsnoer/DICO...</td>\n      <td>/trinity/home/r098375/DDS/data/parelsnoer/NIFT...</td>\n      <td>804-isoDWI_uit_DTI</td>\n      <td>804</td>\n      <td>8</td>\n      <td>dti</td>\n      <td>dti</td>\n      <td>16</td>\n    </tr>\n  </tbody>\n</table>\n<p>761 rows × 9 columns</p>\n</div>"
     },
     "execution_count": 93,
     "metadata": {},
     "output_type": "execute_result"
    }
   ],
   "source": [
    "FileFrame"
   ],
   "metadata": {
    "collapsed": false,
    "ExecuteTime": {
     "end_time": "2023-11-03T13:49:19.451309113Z",
     "start_time": "2023-11-03T13:49:19.401733749Z"
    }
   },
   "id": "a5b66dbbff8dcc45"
  },
  {
   "cell_type": "code",
   "execution_count": 34,
   "outputs": [],
   "source": [
    "LabelFrame = pd.read_csv('Labels.txt',names=['ID','label','extra'],sep='\\t', dtype={'ID':str,'label':int,'extra':int})"
   ],
   "metadata": {
    "collapsed": false,
    "ExecuteTime": {
     "end_time": "2023-11-03T13:18:58.097344530Z",
     "start_time": "2023-11-03T13:18:57.915464252Z"
    }
   },
   "id": "b93398cb91c6dc8a"
  },
  {
   "cell_type": "code",
   "execution_count": 92,
   "outputs": [
    {
     "data": {
      "text/plain": "                                                      ID  label  extra  \\\n0      /trinity/home/r098375/DDS/data/parelsnoer/NIFT...      0      0   \n1      /trinity/home/r098375/DDS/data/parelsnoer/NIFT...      0      0   \n2      /trinity/home/r098375/DDS/data/parelsnoer/NIFT...      0      0   \n3      /trinity/home/r098375/DDS/data/parelsnoer/NIFT...      0      0   \n4      /trinity/home/r098375/DDS/data/parelsnoer/NIFT...      0      0   \n...                                                  ...    ...    ...   \n48320  /trinity/home/r098375/DDS/data/parelsnoer/NIFT...      0      0   \n48321  /trinity/home/r098375/DDS/data/parelsnoer/NIFT...      0      0   \n48322  /trinity/home/r098375/DDS/data/parelsnoer/NIFT...      0      0   \n48323  /trinity/home/r098375/DDS/data/parelsnoer/NIFT...      0      0   \n48324  /trinity/home/r098375/DDS/data/parelsnoer/NIFT...      0      0   \n\n                                              nifti_name  \n0      /trinity/home/r098375/DDS/data/parelsnoer/NIFT...  \n1      /trinity/home/r098375/DDS/data/parelsnoer/NIFT...  \n2      /trinity/home/r098375/DDS/data/parelsnoer/NIFT...  \n3      /trinity/home/r098375/DDS/data/parelsnoer/NIFT...  \n4      /trinity/home/r098375/DDS/data/parelsnoer/NIFT...  \n...                                                  ...  \n48320  /trinity/home/r098375/DDS/data/parelsnoer/NIFT...  \n48321  /trinity/home/r098375/DDS/data/parelsnoer/NIFT...  \n48322  /trinity/home/r098375/DDS/data/parelsnoer/NIFT...  \n48323  /trinity/home/r098375/DDS/data/parelsnoer/NIFT...  \n48324  /trinity/home/r098375/DDS/data/parelsnoer/NIFT...  \n\n[48325 rows x 4 columns]",
      "text/html": "<div>\n<style scoped>\n    .dataframe tbody tr th:only-of-type {\n        vertical-align: middle;\n    }\n\n    .dataframe tbody tr th {\n        vertical-align: top;\n    }\n\n    .dataframe thead th {\n        text-align: right;\n    }\n</style>\n<table border=\"1\" class=\"dataframe\">\n  <thead>\n    <tr style=\"text-align: right;\">\n      <th></th>\n      <th>ID</th>\n      <th>label</th>\n      <th>extra</th>\n      <th>nifti_name</th>\n    </tr>\n  </thead>\n  <tbody>\n    <tr>\n      <th>0</th>\n      <td>/trinity/home/r098375/DDS/data/parelsnoer/NIFT...</td>\n      <td>0</td>\n      <td>0</td>\n      <td>/trinity/home/r098375/DDS/data/parelsnoer/NIFT...</td>\n    </tr>\n    <tr>\n      <th>1</th>\n      <td>/trinity/home/r098375/DDS/data/parelsnoer/NIFT...</td>\n      <td>0</td>\n      <td>0</td>\n      <td>/trinity/home/r098375/DDS/data/parelsnoer/NIFT...</td>\n    </tr>\n    <tr>\n      <th>2</th>\n      <td>/trinity/home/r098375/DDS/data/parelsnoer/NIFT...</td>\n      <td>0</td>\n      <td>0</td>\n      <td>/trinity/home/r098375/DDS/data/parelsnoer/NIFT...</td>\n    </tr>\n    <tr>\n      <th>3</th>\n      <td>/trinity/home/r098375/DDS/data/parelsnoer/NIFT...</td>\n      <td>0</td>\n      <td>0</td>\n      <td>/trinity/home/r098375/DDS/data/parelsnoer/NIFT...</td>\n    </tr>\n    <tr>\n      <th>4</th>\n      <td>/trinity/home/r098375/DDS/data/parelsnoer/NIFT...</td>\n      <td>0</td>\n      <td>0</td>\n      <td>/trinity/home/r098375/DDS/data/parelsnoer/NIFT...</td>\n    </tr>\n    <tr>\n      <th>...</th>\n      <td>...</td>\n      <td>...</td>\n      <td>...</td>\n      <td>...</td>\n    </tr>\n    <tr>\n      <th>48320</th>\n      <td>/trinity/home/r098375/DDS/data/parelsnoer/NIFT...</td>\n      <td>0</td>\n      <td>0</td>\n      <td>/trinity/home/r098375/DDS/data/parelsnoer/NIFT...</td>\n    </tr>\n    <tr>\n      <th>48321</th>\n      <td>/trinity/home/r098375/DDS/data/parelsnoer/NIFT...</td>\n      <td>0</td>\n      <td>0</td>\n      <td>/trinity/home/r098375/DDS/data/parelsnoer/NIFT...</td>\n    </tr>\n    <tr>\n      <th>48322</th>\n      <td>/trinity/home/r098375/DDS/data/parelsnoer/NIFT...</td>\n      <td>0</td>\n      <td>0</td>\n      <td>/trinity/home/r098375/DDS/data/parelsnoer/NIFT...</td>\n    </tr>\n    <tr>\n      <th>48323</th>\n      <td>/trinity/home/r098375/DDS/data/parelsnoer/NIFT...</td>\n      <td>0</td>\n      <td>0</td>\n      <td>/trinity/home/r098375/DDS/data/parelsnoer/NIFT...</td>\n    </tr>\n    <tr>\n      <th>48324</th>\n      <td>/trinity/home/r098375/DDS/data/parelsnoer/NIFT...</td>\n      <td>0</td>\n      <td>0</td>\n      <td>/trinity/home/r098375/DDS/data/parelsnoer/NIFT...</td>\n    </tr>\n  </tbody>\n</table>\n<p>48325 rows × 4 columns</p>\n</div>"
     },
     "execution_count": 92,
     "metadata": {},
     "output_type": "execute_result"
    }
   ],
   "source": [
    "LabelFrame"
   ],
   "metadata": {
    "collapsed": false,
    "ExecuteTime": {
     "end_time": "2023-11-03T13:49:10.639102894Z",
     "start_time": "2023-11-03T13:49:10.617267903Z"
    }
   },
   "id": "9d3226547f2e0ecc"
  },
  {
   "cell_type": "code",
   "execution_count": 53,
   "outputs": [],
   "source": [
    "import os"
   ],
   "metadata": {
    "collapsed": false,
    "ExecuteTime": {
     "end_time": "2023-11-03T13:33:36.827267390Z",
     "start_time": "2023-11-03T13:33:36.809723300Z"
    }
   },
   "id": "b08f5069528710b6"
  },
  {
   "cell_type": "code",
   "execution_count": 94,
   "outputs": [],
   "source": [
    "def extractNiftiName(name):\n",
    "    name = name.rsplit('__',1)[0]\n",
    "    name = name.replace('NIFTI_SLICES','NIFTI')\n",
    "    name = name.split('_Scan')[0]\n",
    "    name = f'{name}.nii.gz'\n",
    "    name = name.replace('__','/')\n",
    "    return name"
   ],
   "metadata": {
    "collapsed": false,
    "ExecuteTime": {
     "end_time": "2023-11-03T13:53:14.205127572Z",
     "start_time": "2023-11-03T13:53:14.182586799Z"
    }
   },
   "id": "ad1aaec4c030a3e0"
  },
  {
   "cell_type": "code",
   "execution_count": 95,
   "outputs": [],
   "source": [
    "LabelFrame['nifti_name'] = LabelFrame['ID'].apply(extractNiftiName)"
   ],
   "metadata": {
    "collapsed": false,
    "ExecuteTime": {
     "end_time": "2023-11-03T13:53:14.463207596Z",
     "start_time": "2023-11-03T13:53:14.425662211Z"
    }
   },
   "id": "a8e08f7e2021b2ec"
  },
  {
   "cell_type": "code",
   "execution_count": 96,
   "outputs": [
    {
     "data": {
      "text/plain": "48325"
     },
     "execution_count": 96,
     "metadata": {},
     "output_type": "execute_result"
    }
   ],
   "source": [
    "len(LabelFrame)"
   ],
   "metadata": {
    "collapsed": false,
    "ExecuteTime": {
     "end_time": "2023-11-03T13:53:14.728192935Z",
     "start_time": "2023-11-03T13:53:14.715016701Z"
    }
   },
   "id": "5da96d2c5aa1a868"
  },
  {
   "cell_type": "code",
   "execution_count": 97,
   "outputs": [
    {
     "data": {
      "text/plain": "                                                  ID  label  extra  \\\n0  /trinity/home/r098375/DDS/data/parelsnoer/NIFT...      0      0   \n1  /trinity/home/r098375/DDS/data/parelsnoer/NIFT...      0      0   \n2  /trinity/home/r098375/DDS/data/parelsnoer/NIFT...      0      0   \n3  /trinity/home/r098375/DDS/data/parelsnoer/NIFT...      0      0   \n4  /trinity/home/r098375/DDS/data/parelsnoer/NIFT...      0      0   \n\n                                          nifti_name  \n0  /trinity/home/r098375/DDS/data/parelsnoer/NIFT...  \n1  /trinity/home/r098375/DDS/data/parelsnoer/NIFT...  \n2  /trinity/home/r098375/DDS/data/parelsnoer/NIFT...  \n3  /trinity/home/r098375/DDS/data/parelsnoer/NIFT...  \n4  /trinity/home/r098375/DDS/data/parelsnoer/NIFT...  ",
      "text/html": "<div>\n<style scoped>\n    .dataframe tbody tr th:only-of-type {\n        vertical-align: middle;\n    }\n\n    .dataframe tbody tr th {\n        vertical-align: top;\n    }\n\n    .dataframe thead th {\n        text-align: right;\n    }\n</style>\n<table border=\"1\" class=\"dataframe\">\n  <thead>\n    <tr style=\"text-align: right;\">\n      <th></th>\n      <th>ID</th>\n      <th>label</th>\n      <th>extra</th>\n      <th>nifti_name</th>\n    </tr>\n  </thead>\n  <tbody>\n    <tr>\n      <th>0</th>\n      <td>/trinity/home/r098375/DDS/data/parelsnoer/NIFT...</td>\n      <td>0</td>\n      <td>0</td>\n      <td>/trinity/home/r098375/DDS/data/parelsnoer/NIFT...</td>\n    </tr>\n    <tr>\n      <th>1</th>\n      <td>/trinity/home/r098375/DDS/data/parelsnoer/NIFT...</td>\n      <td>0</td>\n      <td>0</td>\n      <td>/trinity/home/r098375/DDS/data/parelsnoer/NIFT...</td>\n    </tr>\n    <tr>\n      <th>2</th>\n      <td>/trinity/home/r098375/DDS/data/parelsnoer/NIFT...</td>\n      <td>0</td>\n      <td>0</td>\n      <td>/trinity/home/r098375/DDS/data/parelsnoer/NIFT...</td>\n    </tr>\n    <tr>\n      <th>3</th>\n      <td>/trinity/home/r098375/DDS/data/parelsnoer/NIFT...</td>\n      <td>0</td>\n      <td>0</td>\n      <td>/trinity/home/r098375/DDS/data/parelsnoer/NIFT...</td>\n    </tr>\n    <tr>\n      <th>4</th>\n      <td>/trinity/home/r098375/DDS/data/parelsnoer/NIFT...</td>\n      <td>0</td>\n      <td>0</td>\n      <td>/trinity/home/r098375/DDS/data/parelsnoer/NIFT...</td>\n    </tr>\n  </tbody>\n</table>\n</div>"
     },
     "execution_count": 97,
     "metadata": {},
     "output_type": "execute_result"
    }
   ],
   "source": [
    "LabelFrame.head()"
   ],
   "metadata": {
    "collapsed": false,
    "ExecuteTime": {
     "end_time": "2023-11-03T13:53:15.402778370Z",
     "start_time": "2023-11-03T13:53:15.390990006Z"
    }
   },
   "id": "64236870ad153f38"
  },
  {
   "cell_type": "code",
   "execution_count": 104,
   "outputs": [],
   "source": [
    "temp = LabelFrame.merge(FileFrame, how='left', left_on='nifti_name', right_on=\"NIFTI_path\")"
   ],
   "metadata": {
    "collapsed": false,
    "ExecuteTime": {
     "end_time": "2023-11-03T13:54:19.154957215Z",
     "start_time": "2023-11-03T13:54:19.109566068Z"
    }
   },
   "id": "e1ec2ac9f9ed7966"
  },
  {
   "cell_type": "code",
   "execution_count": 105,
   "outputs": [
    {
     "data": {
      "text/plain": "                                                      ID  label  extra  \\\n0      /trinity/home/r098375/DDS/data/parelsnoer/NIFT...      0      0   \n1      /trinity/home/r098375/DDS/data/parelsnoer/NIFT...      0      0   \n2      /trinity/home/r098375/DDS/data/parelsnoer/NIFT...      0      0   \n3      /trinity/home/r098375/DDS/data/parelsnoer/NIFT...      0      0   \n4      /trinity/home/r098375/DDS/data/parelsnoer/NIFT...      0      0   \n...                                                  ...    ...    ...   \n48320  /trinity/home/r098375/DDS/data/parelsnoer/NIFT...      0      0   \n48321  /trinity/home/r098375/DDS/data/parelsnoer/NIFT...      0      0   \n48322  /trinity/home/r098375/DDS/data/parelsnoer/NIFT...      0      0   \n48323  /trinity/home/r098375/DDS/data/parelsnoer/NIFT...      0      0   \n48324  /trinity/home/r098375/DDS/data/parelsnoer/NIFT...      0      0   \n\n                                              nifti_name  \\\n0      /trinity/home/r098375/DDS/data/parelsnoer/NIFT...   \n1      /trinity/home/r098375/DDS/data/parelsnoer/NIFT...   \n2      /trinity/home/r098375/DDS/data/parelsnoer/NIFT...   \n3      /trinity/home/r098375/DDS/data/parelsnoer/NIFT...   \n4      /trinity/home/r098375/DDS/data/parelsnoer/NIFT...   \n...                                                  ...   \n48320  /trinity/home/r098375/DDS/data/parelsnoer/NIFT...   \n48321  /trinity/home/r098375/DDS/data/parelsnoer/NIFT...   \n48322  /trinity/home/r098375/DDS/data/parelsnoer/NIFT...   \n48323  /trinity/home/r098375/DDS/data/parelsnoer/NIFT...   \n48324  /trinity/home/r098375/DDS/data/parelsnoer/NIFT...   \n\n                                              originPath  \\\n0      /trinity/home/r098375/DDS/data/parelsnoer/data...   \n1      /trinity/home/r098375/DDS/data/parelsnoer/data...   \n2      /trinity/home/r098375/DDS/data/parelsnoer/data...   \n3      /trinity/home/r098375/DDS/data/parelsnoer/data...   \n4      /trinity/home/r098375/DDS/data/parelsnoer/data...   \n...                                                  ...   \n48320                                                NaN   \n48321                                                NaN   \n48322                                                NaN   \n48323  /trinity/home/r098375/DDS/data/parelsnoer/data...   \n48324                                                NaN   \n\n                                     structuredDicomPath  \\\n0      /trinity/home/r098375/DDS/data/parelsnoer/DICO...   \n1      /trinity/home/r098375/DDS/data/parelsnoer/DICO...   \n2      /trinity/home/r098375/DDS/data/parelsnoer/DICO...   \n3      /trinity/home/r098375/DDS/data/parelsnoer/DICO...   \n4      /trinity/home/r098375/DDS/data/parelsnoer/DICO...   \n...                                                  ...   \n48320                                                NaN   \n48321                                                NaN   \n48322                                                NaN   \n48323  /trinity/home/r098375/DDS/data/parelsnoer/DICO...   \n48324                                                NaN   \n\n                                              NIFTI_path  \\\n0      /trinity/home/r098375/DDS/data/parelsnoer/NIFT...   \n1      /trinity/home/r098375/DDS/data/parelsnoer/NIFT...   \n2      /trinity/home/r098375/DDS/data/parelsnoer/NIFT...   \n3      /trinity/home/r098375/DDS/data/parelsnoer/NIFT...   \n4      /trinity/home/r098375/DDS/data/parelsnoer/NIFT...   \n...                                                  ...   \n48320                                                NaN   \n48321                                                NaN   \n48322                                                NaN   \n48323  /trinity/home/r098375/DDS/data/parelsnoer/NIFT...   \n48324                                                NaN   \n\n                                                  name numName  r_numName  \\\n0                                      601-t_T1_IR_3mm     601        6.0   \n1      702-Reg___WIP_DTI_high_iso45dir_noDynStab_SENSE     702        7.0   \n2                                      601-t_T1_IR_3mm     601        6.0   \n3      702-Reg___WIP_DTI_high_iso45dir_noDynStab_SENSE     702        7.0   \n4                      701-DTI_high_iso45dir_noDynStab     701        7.0   \n...                                                ...     ...        ...   \n48320                                              NaN     NaN        NaN   \n48321                                              NaN     NaN        NaN   \n48322                                              NaN     NaN        NaN   \n48323                                   202-MPR_cor_T1     202        2.0   \n48324                                              NaN     NaN        NaN   \n\n      renamed description  numLabel  \n0         T1w         T1w       0.0  \n1         dti         dti      16.0  \n2         T1w         T1w       0.0  \n3         dti         dti      16.0  \n4         dti         dti      16.0  \n...       ...         ...       ...  \n48320     NaN         NaN       NaN  \n48321     NaN         NaN       NaN  \n48322     NaN         NaN       NaN  \n48323     T1w         T1w       0.0  \n48324     NaN         NaN       NaN  \n\n[48325 rows x 13 columns]",
      "text/html": "<div>\n<style scoped>\n    .dataframe tbody tr th:only-of-type {\n        vertical-align: middle;\n    }\n\n    .dataframe tbody tr th {\n        vertical-align: top;\n    }\n\n    .dataframe thead th {\n        text-align: right;\n    }\n</style>\n<table border=\"1\" class=\"dataframe\">\n  <thead>\n    <tr style=\"text-align: right;\">\n      <th></th>\n      <th>ID</th>\n      <th>label</th>\n      <th>extra</th>\n      <th>nifti_name</th>\n      <th>originPath</th>\n      <th>structuredDicomPath</th>\n      <th>NIFTI_path</th>\n      <th>name</th>\n      <th>numName</th>\n      <th>r_numName</th>\n      <th>renamed</th>\n      <th>description</th>\n      <th>numLabel</th>\n    </tr>\n  </thead>\n  <tbody>\n    <tr>\n      <th>0</th>\n      <td>/trinity/home/r098375/DDS/data/parelsnoer/NIFT...</td>\n      <td>0</td>\n      <td>0</td>\n      <td>/trinity/home/r098375/DDS/data/parelsnoer/NIFT...</td>\n      <td>/trinity/home/r098375/DDS/data/parelsnoer/data...</td>\n      <td>/trinity/home/r098375/DDS/data/parelsnoer/DICO...</td>\n      <td>/trinity/home/r098375/DDS/data/parelsnoer/NIFT...</td>\n      <td>601-t_T1_IR_3mm</td>\n      <td>601</td>\n      <td>6.0</td>\n      <td>T1w</td>\n      <td>T1w</td>\n      <td>0.0</td>\n    </tr>\n    <tr>\n      <th>1</th>\n      <td>/trinity/home/r098375/DDS/data/parelsnoer/NIFT...</td>\n      <td>0</td>\n      <td>0</td>\n      <td>/trinity/home/r098375/DDS/data/parelsnoer/NIFT...</td>\n      <td>/trinity/home/r098375/DDS/data/parelsnoer/data...</td>\n      <td>/trinity/home/r098375/DDS/data/parelsnoer/DICO...</td>\n      <td>/trinity/home/r098375/DDS/data/parelsnoer/NIFT...</td>\n      <td>702-Reg___WIP_DTI_high_iso45dir_noDynStab_SENSE</td>\n      <td>702</td>\n      <td>7.0</td>\n      <td>dti</td>\n      <td>dti</td>\n      <td>16.0</td>\n    </tr>\n    <tr>\n      <th>2</th>\n      <td>/trinity/home/r098375/DDS/data/parelsnoer/NIFT...</td>\n      <td>0</td>\n      <td>0</td>\n      <td>/trinity/home/r098375/DDS/data/parelsnoer/NIFT...</td>\n      <td>/trinity/home/r098375/DDS/data/parelsnoer/data...</td>\n      <td>/trinity/home/r098375/DDS/data/parelsnoer/DICO...</td>\n      <td>/trinity/home/r098375/DDS/data/parelsnoer/NIFT...</td>\n      <td>601-t_T1_IR_3mm</td>\n      <td>601</td>\n      <td>6.0</td>\n      <td>T1w</td>\n      <td>T1w</td>\n      <td>0.0</td>\n    </tr>\n    <tr>\n      <th>3</th>\n      <td>/trinity/home/r098375/DDS/data/parelsnoer/NIFT...</td>\n      <td>0</td>\n      <td>0</td>\n      <td>/trinity/home/r098375/DDS/data/parelsnoer/NIFT...</td>\n      <td>/trinity/home/r098375/DDS/data/parelsnoer/data...</td>\n      <td>/trinity/home/r098375/DDS/data/parelsnoer/DICO...</td>\n      <td>/trinity/home/r098375/DDS/data/parelsnoer/NIFT...</td>\n      <td>702-Reg___WIP_DTI_high_iso45dir_noDynStab_SENSE</td>\n      <td>702</td>\n      <td>7.0</td>\n      <td>dti</td>\n      <td>dti</td>\n      <td>16.0</td>\n    </tr>\n    <tr>\n      <th>4</th>\n      <td>/trinity/home/r098375/DDS/data/parelsnoer/NIFT...</td>\n      <td>0</td>\n      <td>0</td>\n      <td>/trinity/home/r098375/DDS/data/parelsnoer/NIFT...</td>\n      <td>/trinity/home/r098375/DDS/data/parelsnoer/data...</td>\n      <td>/trinity/home/r098375/DDS/data/parelsnoer/DICO...</td>\n      <td>/trinity/home/r098375/DDS/data/parelsnoer/NIFT...</td>\n      <td>701-DTI_high_iso45dir_noDynStab</td>\n      <td>701</td>\n      <td>7.0</td>\n      <td>dti</td>\n      <td>dti</td>\n      <td>16.0</td>\n    </tr>\n    <tr>\n      <th>...</th>\n      <td>...</td>\n      <td>...</td>\n      <td>...</td>\n      <td>...</td>\n      <td>...</td>\n      <td>...</td>\n      <td>...</td>\n      <td>...</td>\n      <td>...</td>\n      <td>...</td>\n      <td>...</td>\n      <td>...</td>\n      <td>...</td>\n    </tr>\n    <tr>\n      <th>48320</th>\n      <td>/trinity/home/r098375/DDS/data/parelsnoer/NIFT...</td>\n      <td>0</td>\n      <td>0</td>\n      <td>/trinity/home/r098375/DDS/data/parelsnoer/NIFT...</td>\n      <td>NaN</td>\n      <td>NaN</td>\n      <td>NaN</td>\n      <td>NaN</td>\n      <td>NaN</td>\n      <td>NaN</td>\n      <td>NaN</td>\n      <td>NaN</td>\n      <td>NaN</td>\n    </tr>\n    <tr>\n      <th>48321</th>\n      <td>/trinity/home/r098375/DDS/data/parelsnoer/NIFT...</td>\n      <td>0</td>\n      <td>0</td>\n      <td>/trinity/home/r098375/DDS/data/parelsnoer/NIFT...</td>\n      <td>NaN</td>\n      <td>NaN</td>\n      <td>NaN</td>\n      <td>NaN</td>\n      <td>NaN</td>\n      <td>NaN</td>\n      <td>NaN</td>\n      <td>NaN</td>\n      <td>NaN</td>\n    </tr>\n    <tr>\n      <th>48322</th>\n      <td>/trinity/home/r098375/DDS/data/parelsnoer/NIFT...</td>\n      <td>0</td>\n      <td>0</td>\n      <td>/trinity/home/r098375/DDS/data/parelsnoer/NIFT...</td>\n      <td>NaN</td>\n      <td>NaN</td>\n      <td>NaN</td>\n      <td>NaN</td>\n      <td>NaN</td>\n      <td>NaN</td>\n      <td>NaN</td>\n      <td>NaN</td>\n      <td>NaN</td>\n    </tr>\n    <tr>\n      <th>48323</th>\n      <td>/trinity/home/r098375/DDS/data/parelsnoer/NIFT...</td>\n      <td>0</td>\n      <td>0</td>\n      <td>/trinity/home/r098375/DDS/data/parelsnoer/NIFT...</td>\n      <td>/trinity/home/r098375/DDS/data/parelsnoer/data...</td>\n      <td>/trinity/home/r098375/DDS/data/parelsnoer/DICO...</td>\n      <td>/trinity/home/r098375/DDS/data/parelsnoer/NIFT...</td>\n      <td>202-MPR_cor_T1</td>\n      <td>202</td>\n      <td>2.0</td>\n      <td>T1w</td>\n      <td>T1w</td>\n      <td>0.0</td>\n    </tr>\n    <tr>\n      <th>48324</th>\n      <td>/trinity/home/r098375/DDS/data/parelsnoer/NIFT...</td>\n      <td>0</td>\n      <td>0</td>\n      <td>/trinity/home/r098375/DDS/data/parelsnoer/NIFT...</td>\n      <td>NaN</td>\n      <td>NaN</td>\n      <td>NaN</td>\n      <td>NaN</td>\n      <td>NaN</td>\n      <td>NaN</td>\n      <td>NaN</td>\n      <td>NaN</td>\n      <td>NaN</td>\n    </tr>\n  </tbody>\n</table>\n<p>48325 rows × 13 columns</p>\n</div>"
     },
     "execution_count": 105,
     "metadata": {},
     "output_type": "execute_result"
    }
   ],
   "source": [
    "temp"
   ],
   "metadata": {
    "collapsed": false,
    "ExecuteTime": {
     "end_time": "2023-11-03T13:54:19.339868022Z",
     "start_time": "2023-11-03T13:54:19.307890788Z"
    }
   },
   "id": "2502a713672c92bc"
  },
  {
   "cell_type": "code",
   "execution_count": 106,
   "outputs": [
    {
     "data": {
      "text/plain": "48325"
     },
     "execution_count": 106,
     "metadata": {},
     "output_type": "execute_result"
    }
   ],
   "source": [
    "len(temp)"
   ],
   "metadata": {
    "collapsed": false,
    "ExecuteTime": {
     "end_time": "2023-11-03T13:54:19.668472557Z",
     "start_time": "2023-11-03T13:54:19.667970530Z"
    }
   },
   "id": "d756626715e98e0b"
  },
  {
   "cell_type": "code",
   "execution_count": null,
   "outputs": [],
   "source": [],
   "metadata": {
    "collapsed": false
   },
   "id": "fadaa8ebb5130994"
  }
 ],
 "metadata": {
  "kernelspec": {
   "display_name": "Python 3",
   "language": "python",
   "name": "python3"
  },
  "language_info": {
   "codemirror_mode": {
    "name": "ipython",
    "version": 2
   },
   "file_extension": ".py",
   "mimetype": "text/x-python",
   "name": "python",
   "nbconvert_exporter": "python",
   "pygments_lexer": "ipython2",
   "version": "2.7.6"
  }
 },
 "nbformat": 4,
 "nbformat_minor": 5
}
