{
 "cells": [
  {
   "cell_type": "code",
   "execution_count": 1,
   "id": "initial_id",
   "metadata": {
    "collapsed": true,
    "ExecuteTime": {
     "end_time": "2023-10-31T10:18:59.632123522Z",
     "start_time": "2023-10-31T10:18:59.385098306Z"
    }
   },
   "outputs": [],
   "source": [
    "import pandas as pd"
   ]
  },
  {
   "cell_type": "code",
   "execution_count": 2,
   "outputs": [],
   "source": [
    "FileFrame = pd.read_csv('FileFrame.csv')"
   ],
   "metadata": {
    "collapsed": false,
    "ExecuteTime": {
     "end_time": "2023-10-31T10:18:59.669561353Z",
     "start_time": "2023-10-31T10:18:59.636918079Z"
    }
   },
   "id": "91e9c5962e4b4224"
  },
  {
   "cell_type": "code",
   "execution_count": 3,
   "outputs": [
    {
     "data": {
      "text/plain": "                                             originPath  \\\n0     /trinity/home/r098375/DDS/data/parelsnoer/data...   \n1     /trinity/home/r098375/DDS/data/parelsnoer/data...   \n2     /trinity/home/r098375/DDS/data/parelsnoer/data...   \n3     /trinity/home/r098375/DDS/data/parelsnoer/data...   \n4     /trinity/home/r098375/DDS/data/parelsnoer/data...   \n...                                                 ...   \n9018  /trinity/home/r098375/DDS/data/parelsnoer/data...   \n9019  /trinity/home/r098375/DDS/data/parelsnoer/data...   \n9020  /trinity/home/r098375/DDS/data/parelsnoer/data...   \n9021  /trinity/home/r098375/DDS/data/parelsnoer/data...   \n9022  /trinity/home/r098375/DDS/data/parelsnoer/data...   \n\n                                    structuredDicomPath  \\\n0                                                   NaN   \n1     /trinity/home/r098375/DDS/data/parelsnoer/DICO...   \n2                                                   NaN   \n3     /trinity/home/r098375/DDS/data/parelsnoer/DICO...   \n4                                                   NaN   \n...                                                 ...   \n9018  /trinity/home/r098375/DDS/data/parelsnoer/DICO...   \n9019  /trinity/home/r098375/DDS/data/parelsnoer/DICO...   \n9020  /trinity/home/r098375/DDS/data/parelsnoer/DICO...   \n9021  /trinity/home/r098375/DDS/data/parelsnoer/DICO...   \n9022  /trinity/home/r098375/DDS/data/parelsnoer/DICO...   \n\n                                             NIFTI_path  \n0                                                   NaN  \n1     /trinity/home/r098375/DDS/data/parelsnoer/NIFT...  \n2                                                   NaN  \n3     /trinity/home/r098375/DDS/data/parelsnoer/NIFT...  \n4                                                   NaN  \n...                                                 ...  \n9018                                                NaN  \n9019                                                NaN  \n9020                                                NaN  \n9021                                                NaN  \n9022                                                NaN  \n\n[9023 rows x 3 columns]",
      "text/html": "<div>\n<style scoped>\n    .dataframe tbody tr th:only-of-type {\n        vertical-align: middle;\n    }\n\n    .dataframe tbody tr th {\n        vertical-align: top;\n    }\n\n    .dataframe thead th {\n        text-align: right;\n    }\n</style>\n<table border=\"1\" class=\"dataframe\">\n  <thead>\n    <tr style=\"text-align: right;\">\n      <th></th>\n      <th>originPath</th>\n      <th>structuredDicomPath</th>\n      <th>NIFTI_path</th>\n    </tr>\n  </thead>\n  <tbody>\n    <tr>\n      <th>0</th>\n      <td>/trinity/home/r098375/DDS/data/parelsnoer/data...</td>\n      <td>NaN</td>\n      <td>NaN</td>\n    </tr>\n    <tr>\n      <th>1</th>\n      <td>/trinity/home/r098375/DDS/data/parelsnoer/data...</td>\n      <td>/trinity/home/r098375/DDS/data/parelsnoer/DICO...</td>\n      <td>/trinity/home/r098375/DDS/data/parelsnoer/NIFT...</td>\n    </tr>\n    <tr>\n      <th>2</th>\n      <td>/trinity/home/r098375/DDS/data/parelsnoer/data...</td>\n      <td>NaN</td>\n      <td>NaN</td>\n    </tr>\n    <tr>\n      <th>3</th>\n      <td>/trinity/home/r098375/DDS/data/parelsnoer/data...</td>\n      <td>/trinity/home/r098375/DDS/data/parelsnoer/DICO...</td>\n      <td>/trinity/home/r098375/DDS/data/parelsnoer/NIFT...</td>\n    </tr>\n    <tr>\n      <th>4</th>\n      <td>/trinity/home/r098375/DDS/data/parelsnoer/data...</td>\n      <td>NaN</td>\n      <td>NaN</td>\n    </tr>\n    <tr>\n      <th>...</th>\n      <td>...</td>\n      <td>...</td>\n      <td>...</td>\n    </tr>\n    <tr>\n      <th>9018</th>\n      <td>/trinity/home/r098375/DDS/data/parelsnoer/data...</td>\n      <td>/trinity/home/r098375/DDS/data/parelsnoer/DICO...</td>\n      <td>NaN</td>\n    </tr>\n    <tr>\n      <th>9019</th>\n      <td>/trinity/home/r098375/DDS/data/parelsnoer/data...</td>\n      <td>/trinity/home/r098375/DDS/data/parelsnoer/DICO...</td>\n      <td>NaN</td>\n    </tr>\n    <tr>\n      <th>9020</th>\n      <td>/trinity/home/r098375/DDS/data/parelsnoer/data...</td>\n      <td>/trinity/home/r098375/DDS/data/parelsnoer/DICO...</td>\n      <td>NaN</td>\n    </tr>\n    <tr>\n      <th>9021</th>\n      <td>/trinity/home/r098375/DDS/data/parelsnoer/data...</td>\n      <td>/trinity/home/r098375/DDS/data/parelsnoer/DICO...</td>\n      <td>NaN</td>\n    </tr>\n    <tr>\n      <th>9022</th>\n      <td>/trinity/home/r098375/DDS/data/parelsnoer/data...</td>\n      <td>/trinity/home/r098375/DDS/data/parelsnoer/DICO...</td>\n      <td>NaN</td>\n    </tr>\n  </tbody>\n</table>\n<p>9023 rows × 3 columns</p>\n</div>"
     },
     "execution_count": 3,
     "metadata": {},
     "output_type": "execute_result"
    }
   ],
   "source": [
    "FileFrame"
   ],
   "metadata": {
    "collapsed": false,
    "ExecuteTime": {
     "end_time": "2023-10-31T10:18:59.684320496Z",
     "start_time": "2023-10-31T10:18:59.674494945Z"
    }
   },
   "id": "8ebfacf5221ca6b7"
  },
  {
   "cell_type": "code",
   "execution_count": 4,
   "outputs": [],
   "source": [
    "FileFrame = FileFrame[FileFrame['NIFTI_path'].isna()==False].reset_index(drop=True)"
   ],
   "metadata": {
    "collapsed": false,
    "ExecuteTime": {
     "end_time": "2023-10-31T10:18:59.701459109Z",
     "start_time": "2023-10-31T10:18:59.688864639Z"
    }
   },
   "id": "28a2dd496dcd05d7"
  },
  {
   "cell_type": "code",
   "execution_count": 5,
   "outputs": [
    {
     "data": {
      "text/plain": "                                            originPath  \\\n0    /trinity/home/r098375/DDS/data/parelsnoer/data...   \n1    /trinity/home/r098375/DDS/data/parelsnoer/data...   \n2    /trinity/home/r098375/DDS/data/parelsnoer/data...   \n3    /trinity/home/r098375/DDS/data/parelsnoer/data...   \n4    /trinity/home/r098375/DDS/data/parelsnoer/data...   \n..                                                 ...   \n756  /trinity/home/r098375/DDS/data/parelsnoer/data...   \n757  /trinity/home/r098375/DDS/data/parelsnoer/data...   \n758  /trinity/home/r098375/DDS/data/parelsnoer/data...   \n759  /trinity/home/r098375/DDS/data/parelsnoer/data...   \n760  /trinity/home/r098375/DDS/data/parelsnoer/data...   \n\n                                   structuredDicomPath  \\\n0    /trinity/home/r098375/DDS/data/parelsnoer/DICO...   \n1    /trinity/home/r098375/DDS/data/parelsnoer/DICO...   \n2    /trinity/home/r098375/DDS/data/parelsnoer/DICO...   \n3    /trinity/home/r098375/DDS/data/parelsnoer/DICO...   \n4    /trinity/home/r098375/DDS/data/parelsnoer/DICO...   \n..                                                 ...   \n756  /trinity/home/r098375/DDS/data/parelsnoer/DICO...   \n757  /trinity/home/r098375/DDS/data/parelsnoer/DICO...   \n758  /trinity/home/r098375/DDS/data/parelsnoer/DICO...   \n759  /trinity/home/r098375/DDS/data/parelsnoer/DICO...   \n760  /trinity/home/r098375/DDS/data/parelsnoer/DICO...   \n\n                                            NIFTI_path  \n0    /trinity/home/r098375/DDS/data/parelsnoer/NIFT...  \n1    /trinity/home/r098375/DDS/data/parelsnoer/NIFT...  \n2    /trinity/home/r098375/DDS/data/parelsnoer/NIFT...  \n3    /trinity/home/r098375/DDS/data/parelsnoer/NIFT...  \n4    /trinity/home/r098375/DDS/data/parelsnoer/NIFT...  \n..                                                 ...  \n756  /trinity/home/r098375/DDS/data/parelsnoer/NIFT...  \n757  /trinity/home/r098375/DDS/data/parelsnoer/NIFT...  \n758  /trinity/home/r098375/DDS/data/parelsnoer/NIFT...  \n759  /trinity/home/r098375/DDS/data/parelsnoer/NIFT...  \n760  /trinity/home/r098375/DDS/data/parelsnoer/NIFT...  \n\n[761 rows x 3 columns]",
      "text/html": "<div>\n<style scoped>\n    .dataframe tbody tr th:only-of-type {\n        vertical-align: middle;\n    }\n\n    .dataframe tbody tr th {\n        vertical-align: top;\n    }\n\n    .dataframe thead th {\n        text-align: right;\n    }\n</style>\n<table border=\"1\" class=\"dataframe\">\n  <thead>\n    <tr style=\"text-align: right;\">\n      <th></th>\n      <th>originPath</th>\n      <th>structuredDicomPath</th>\n      <th>NIFTI_path</th>\n    </tr>\n  </thead>\n  <tbody>\n    <tr>\n      <th>0</th>\n      <td>/trinity/home/r098375/DDS/data/parelsnoer/data...</td>\n      <td>/trinity/home/r098375/DDS/data/parelsnoer/DICO...</td>\n      <td>/trinity/home/r098375/DDS/data/parelsnoer/NIFT...</td>\n    </tr>\n    <tr>\n      <th>1</th>\n      <td>/trinity/home/r098375/DDS/data/parelsnoer/data...</td>\n      <td>/trinity/home/r098375/DDS/data/parelsnoer/DICO...</td>\n      <td>/trinity/home/r098375/DDS/data/parelsnoer/NIFT...</td>\n    </tr>\n    <tr>\n      <th>2</th>\n      <td>/trinity/home/r098375/DDS/data/parelsnoer/data...</td>\n      <td>/trinity/home/r098375/DDS/data/parelsnoer/DICO...</td>\n      <td>/trinity/home/r098375/DDS/data/parelsnoer/NIFT...</td>\n    </tr>\n    <tr>\n      <th>3</th>\n      <td>/trinity/home/r098375/DDS/data/parelsnoer/data...</td>\n      <td>/trinity/home/r098375/DDS/data/parelsnoer/DICO...</td>\n      <td>/trinity/home/r098375/DDS/data/parelsnoer/NIFT...</td>\n    </tr>\n    <tr>\n      <th>4</th>\n      <td>/trinity/home/r098375/DDS/data/parelsnoer/data...</td>\n      <td>/trinity/home/r098375/DDS/data/parelsnoer/DICO...</td>\n      <td>/trinity/home/r098375/DDS/data/parelsnoer/NIFT...</td>\n    </tr>\n    <tr>\n      <th>...</th>\n      <td>...</td>\n      <td>...</td>\n      <td>...</td>\n    </tr>\n    <tr>\n      <th>756</th>\n      <td>/trinity/home/r098375/DDS/data/parelsnoer/data...</td>\n      <td>/trinity/home/r098375/DDS/data/parelsnoer/DICO...</td>\n      <td>/trinity/home/r098375/DDS/data/parelsnoer/NIFT...</td>\n    </tr>\n    <tr>\n      <th>757</th>\n      <td>/trinity/home/r098375/DDS/data/parelsnoer/data...</td>\n      <td>/trinity/home/r098375/DDS/data/parelsnoer/DICO...</td>\n      <td>/trinity/home/r098375/DDS/data/parelsnoer/NIFT...</td>\n    </tr>\n    <tr>\n      <th>758</th>\n      <td>/trinity/home/r098375/DDS/data/parelsnoer/data...</td>\n      <td>/trinity/home/r098375/DDS/data/parelsnoer/DICO...</td>\n      <td>/trinity/home/r098375/DDS/data/parelsnoer/NIFT...</td>\n    </tr>\n    <tr>\n      <th>759</th>\n      <td>/trinity/home/r098375/DDS/data/parelsnoer/data...</td>\n      <td>/trinity/home/r098375/DDS/data/parelsnoer/DICO...</td>\n      <td>/trinity/home/r098375/DDS/data/parelsnoer/NIFT...</td>\n    </tr>\n    <tr>\n      <th>760</th>\n      <td>/trinity/home/r098375/DDS/data/parelsnoer/data...</td>\n      <td>/trinity/home/r098375/DDS/data/parelsnoer/DICO...</td>\n      <td>/trinity/home/r098375/DDS/data/parelsnoer/NIFT...</td>\n    </tr>\n  </tbody>\n</table>\n<p>761 rows × 3 columns</p>\n</div>"
     },
     "execution_count": 5,
     "metadata": {},
     "output_type": "execute_result"
    }
   ],
   "source": [
    "FileFrame"
   ],
   "metadata": {
    "collapsed": false,
    "ExecuteTime": {
     "end_time": "2023-10-31T10:18:59.761599420Z",
     "start_time": "2023-10-31T10:18:59.733027401Z"
    }
   },
   "id": "fc0fc69920d94d54"
  },
  {
   "cell_type": "code",
   "execution_count": 6,
   "outputs": [],
   "source": [
    "def extractName(path):\n",
    "    return str(path).split('/')[10]"
   ],
   "metadata": {
    "collapsed": false,
    "ExecuteTime": {
     "end_time": "2023-10-31T10:18:59.761866160Z",
     "start_time": "2023-10-31T10:18:59.733308830Z"
    }
   },
   "id": "48dea7c3afff3654"
  },
  {
   "cell_type": "code",
   "execution_count": 7,
   "outputs": [],
   "source": [
    "FileFrame['name'] = FileFrame['originPath'].apply(extractName)"
   ],
   "metadata": {
    "collapsed": false,
    "ExecuteTime": {
     "end_time": "2023-10-31T10:18:59.762036071Z",
     "start_time": "2023-10-31T10:18:59.733436860Z"
    }
   },
   "id": "5c5af53c5c9f7d"
  },
  {
   "cell_type": "code",
   "execution_count": 8,
   "outputs": [],
   "source": [
    "FileFrame['numName'] = FileFrame['name'].apply(lambda x: str(x).split('-')[0])"
   ],
   "metadata": {
    "collapsed": false,
    "ExecuteTime": {
     "end_time": "2023-10-31T10:18:59.765507101Z",
     "start_time": "2023-10-31T10:18:59.733540550Z"
    }
   },
   "id": "3a2be5b6ba55bc61"
  },
  {
   "cell_type": "code",
   "execution_count": 9,
   "outputs": [
    {
     "data": {
      "text/plain": "array(['301', '803', '802', '302', '804', '801', '1001', '601', '101',\n       '501', '202', '604', '603', '1202', '1203', '602', '1302', '1303',\n       '1104', '1103', '1602', '1603', '1102', '1003', '1002', '1004',\n       '703', '303', '702', '704', '503', '504', '204', '502', '1502',\n       '1503', '401', '904', '903', '902', '402', '', '1403', '1402',\n       '701', '901', '201', '203', '102', '403', '608', '607', '1802',\n       '1803'], dtype=object)"
     },
     "execution_count": 9,
     "metadata": {},
     "output_type": "execute_result"
    }
   ],
   "source": [
    "FileFrame['numName'].unique()"
   ],
   "metadata": {
    "collapsed": false,
    "ExecuteTime": {
     "end_time": "2023-10-31T10:18:59.766133865Z",
     "start_time": "2023-10-31T10:18:59.733685163Z"
    }
   },
   "id": "6b0b59000e9c09d3"
  },
  {
   "cell_type": "code",
   "execution_count": 10,
   "outputs": [],
   "source": [
    "FileFrame['numName'] = FileFrame['numName'].apply(lambda x: '0' if x=='' else x)"
   ],
   "metadata": {
    "collapsed": false,
    "ExecuteTime": {
     "end_time": "2023-10-31T10:18:59.766321784Z",
     "start_time": "2023-10-31T10:18:59.733805698Z"
    }
   },
   "id": "e93afdbfe82c8ac8"
  },
  {
   "cell_type": "code",
   "execution_count": 11,
   "outputs": [],
   "source": [
    "FileFrame['r_numName'] = FileFrame['numName'].apply(lambda x:int(int(x)/100))"
   ],
   "metadata": {
    "collapsed": false,
    "ExecuteTime": {
     "end_time": "2023-10-31T10:18:59.785377812Z",
     "start_time": "2023-10-31T10:18:59.733905375Z"
    }
   },
   "id": "e3a9dc01851b6444"
  },
  {
   "cell_type": "code",
   "execution_count": 12,
   "outputs": [
    {
     "data": {
      "text/plain": "array([ 3,  8, 10,  6,  1,  5,  2, 12, 13, 11, 16,  7, 15,  4,  9,  0, 14,\n       18])"
     },
     "execution_count": 12,
     "metadata": {},
     "output_type": "execute_result"
    }
   ],
   "source": [
    "FileFrame['r_numName'].unique()"
   ],
   "metadata": {
    "collapsed": false,
    "ExecuteTime": {
     "end_time": "2023-10-31T10:18:59.785776197Z",
     "start_time": "2023-10-31T10:18:59.777363880Z"
    }
   },
   "id": "2e0fb93007dbb44a"
  },
  {
   "cell_type": "code",
   "execution_count": 13,
   "outputs": [
    {
     "data": {
      "text/plain": "array(['601-t_T1_IR_3mm', '604-isoDWI_uit_DTI', '603-dADC_uit_DTI',\n       '602-Reg___WIP_DTI_high_iso45dir_noDynStab_SENSE', '602-MPR_COR',\n       '608-min_MIP_2e_SWI_60_4__2', '607-min_MIP_1e_SWI_60_4__2',\n       '607-1st_dual_echo_SWI', '608-2nd_dual_echo_SWI'], dtype=object)"
     },
     "execution_count": 13,
     "metadata": {},
     "output_type": "execute_result"
    }
   ],
   "source": [
    "FileFrame[FileFrame['r_numName']==6]['name'].unique()"
   ],
   "metadata": {
    "collapsed": false,
    "ExecuteTime": {
     "end_time": "2023-10-31T10:18:59.786107550Z",
     "start_time": "2023-10-31T10:18:59.777696336Z"
    }
   },
   "id": "9f203f70c20786d8"
  },
  {
   "cell_type": "code",
   "execution_count": 14,
   "outputs": [],
   "source": [
    "def rename(origName):\n",
    "    on = origName.lower()\n",
    "    if 'local' in on:\n",
    "        return 'localizer'\n",
    "    if 'gd' in on:\n",
    "        if 't1' in on or 'fspgr' in on:\n",
    "            return 'T1c'\n",
    "    if 't1' in on or 'fspgr' in on or 'mpr' in on:\n",
    "        return 'T1w'\n",
    "    if 'flair' in on:\n",
    "        return 'flair'\n",
    "    if 'dti' in on:\n",
    "        return 'dti'\n",
    "    if 'dwi' in on:\n",
    "        return 'dwi'\n",
    "    if 't2' in on:\n",
    "        return 'T2w'\n",
    "    if 'adc' in on:\n",
    "        return 'adc'\n",
    "    if 'pwi' in on or 'perf' in on:\n",
    "        return 'pwi'\n",
    "    if 'pd' in on:\n",
    "        return 'pd'\n",
    "    if 'survey' in on:\n",
    "        return 'survey'\n",
    "    if 'asl' in on:\n",
    "        return 'asl'\n",
    "    if 'swi' in on:\n",
    "        return 'swi'\n",
    "    return 'other'"
   ],
   "metadata": {
    "collapsed": false,
    "ExecuteTime": {
     "end_time": "2023-10-31T10:18:59.786262941Z",
     "start_time": "2023-10-31T10:18:59.777810624Z"
    }
   },
   "id": "7320276738615aa3"
  },
  {
   "cell_type": "code",
   "execution_count": 15,
   "outputs": [],
   "source": [
    "FileFrame['renamed'] = FileFrame['name'].apply(rename)"
   ],
   "metadata": {
    "collapsed": false,
    "ExecuteTime": {
     "end_time": "2023-10-31T10:18:59.786405003Z",
     "start_time": "2023-10-31T10:18:59.777894887Z"
    }
   },
   "id": "18b4959b1d45af55"
  },
  {
   "cell_type": "code",
   "execution_count": 16,
   "outputs": [
    {
     "data": {
      "text/plain": "renamed\ndti       487\nT1w       171\nasl        66\nother      13\nsurvey      9\nT2w         5\nflair       4\nswi         4\nT1c         2\nName: count, dtype: int64"
     },
     "execution_count": 16,
     "metadata": {},
     "output_type": "execute_result"
    }
   ],
   "source": [
    "FileFrame['renamed'].value_counts()"
   ],
   "metadata": {
    "collapsed": false,
    "ExecuteTime": {
     "end_time": "2023-10-31T10:18:59.786674953Z",
     "start_time": "2023-10-31T10:18:59.777965072Z"
    }
   },
   "id": "43d98e305192d414"
  },
  {
   "cell_type": "code",
   "execution_count": 28,
   "outputs": [
    {
     "data": {
      "text/plain": "1                                     803-dADC_uit_DTI\n2      802-Reg___WIP_DTI_high_iso45dir_noDynStab_SENSE\n4                                   804-isoDWI_uit_DTI\n5                      801-DTI_high_iso45dir_noDynStab\n10                                    803-dADC_uit_DTI\n                            ...                       \n753    802-Reg___WIP_DTI_high_iso45dir_noDynStab_SENSE\n754                                 804-isoDWI_uit_DTI\n758                                   803-dADC_uit_DTI\n759    802-Reg___WIP_DTI_high_iso45dir_noDynStab_SENSE\n760                                 804-isoDWI_uit_DTI\nName: name, Length: 487, dtype: object"
     },
     "execution_count": 28,
     "metadata": {},
     "output_type": "execute_result"
    }
   ],
   "source": [
    "FileFrame[FileFrame['renamed']=='dti']['name']"
   ],
   "metadata": {
    "collapsed": false,
    "ExecuteTime": {
     "end_time": "2023-10-31T11:13:10.560219051Z",
     "start_time": "2023-10-31T11:13:10.554334302Z"
    }
   },
   "id": "b29a91a2ef0ec318"
  },
  {
   "cell_type": "code",
   "execution_count": 17,
   "outputs": [],
   "source": [],
   "metadata": {
    "collapsed": false,
    "ExecuteTime": {
     "end_time": "2023-10-31T10:18:59.787090964Z",
     "start_time": "2023-10-31T10:18:59.778163384Z"
    }
   },
   "id": "a5b66dbbff8dcc45"
  }
 ],
 "metadata": {
  "kernelspec": {
   "display_name": "Python 3",
   "language": "python",
   "name": "python3"
  },
  "language_info": {
   "codemirror_mode": {
    "name": "ipython",
    "version": 2
   },
   "file_extension": ".py",
   "mimetype": "text/x-python",
   "name": "python",
   "nbconvert_exporter": "python",
   "pygments_lexer": "ipython2",
   "version": "2.7.6"
  }
 },
 "nbformat": 4,
 "nbformat_minor": 5
}
