{
 "cells": [
  {
   "cell_type": "code",
   "execution_count": 47,
   "id": "initial_id",
   "metadata": {
    "collapsed": true,
    "ExecuteTime": {
     "end_time": "2023-11-06T10:57:51.953727635Z",
     "start_time": "2023-11-06T10:57:51.707552922Z"
    }
   },
   "outputs": [],
   "source": [
    "import pandas as pd"
   ]
  },
  {
   "cell_type": "code",
   "execution_count": 48,
   "outputs": [],
   "source": [
    "FileFrame = pd.read_csv('FileFrame.csv')"
   ],
   "metadata": {
    "collapsed": false,
    "ExecuteTime": {
     "end_time": "2023-11-06T10:57:51.954014181Z",
     "start_time": "2023-11-06T10:57:51.751283242Z"
    }
   },
   "id": "91e9c5962e4b4224"
  },
  {
   "cell_type": "code",
   "execution_count": 49,
   "outputs": [
    {
     "data": {
      "text/plain": "                                             originPath  \\\n0     /trinity/home/r098375/DDS/data/parelsnoer/data...   \n1     /trinity/home/r098375/DDS/data/parelsnoer/data...   \n2     /trinity/home/r098375/DDS/data/parelsnoer/data...   \n3     /trinity/home/r098375/DDS/data/parelsnoer/data...   \n4     /trinity/home/r098375/DDS/data/parelsnoer/data...   \n...                                                 ...   \n8403  /trinity/home/r098375/DDS/data/parelsnoer/data...   \n8404  /trinity/home/r098375/DDS/data/parelsnoer/data...   \n8405  /trinity/home/r098375/DDS/data/parelsnoer/data...   \n8406  /trinity/home/r098375/DDS/data/parelsnoer/data...   \n8407  /trinity/home/r098375/DDS/data/parelsnoer/data...   \n\n                                    structuredDicomPath  \\\n0     /trinity/home/r098375/DDS/data/parelsnoer/DICO...   \n1     /trinity/home/r098375/DDS/data/parelsnoer/DICO...   \n2     /trinity/home/r098375/DDS/data/parelsnoer/DICO...   \n3     /trinity/home/r098375/DDS/data/parelsnoer/DICO...   \n4     /trinity/home/r098375/DDS/data/parelsnoer/DICO...   \n...                                                 ...   \n8403  /trinity/home/r098375/DDS/data/parelsnoer/DICO...   \n8404  /trinity/home/r098375/DDS/data/parelsnoer/DICO...   \n8405  /trinity/home/r098375/DDS/data/parelsnoer/DICO...   \n8406  /trinity/home/r098375/DDS/data/parelsnoer/DICO...   \n8407  /trinity/home/r098375/DDS/data/parelsnoer/DICO...   \n\n                                             NIFTI_path sliced  \n0     /trinity/home/r098375/DDS/data/parelsnoer/NIFT...   True  \n1     /trinity/home/r098375/DDS/data/parelsnoer/NIFT...   True  \n2     /trinity/home/r098375/DDS/data/parelsnoer/NIFT...   True  \n3     /trinity/home/r098375/DDS/data/parelsnoer/NIFT...   True  \n4     /trinity/home/r098375/DDS/data/parelsnoer/NIFT...   True  \n...                                                 ...    ...  \n8403                                                NaN    NaN  \n8404                                                NaN    NaN  \n8405                                                NaN    NaN  \n8406                                                NaN    NaN  \n8407                                                NaN    NaN  \n\n[8408 rows x 4 columns]",
      "text/html": "<div>\n<style scoped>\n    .dataframe tbody tr th:only-of-type {\n        vertical-align: middle;\n    }\n\n    .dataframe tbody tr th {\n        vertical-align: top;\n    }\n\n    .dataframe thead th {\n        text-align: right;\n    }\n</style>\n<table border=\"1\" class=\"dataframe\">\n  <thead>\n    <tr style=\"text-align: right;\">\n      <th></th>\n      <th>originPath</th>\n      <th>structuredDicomPath</th>\n      <th>NIFTI_path</th>\n      <th>sliced</th>\n    </tr>\n  </thead>\n  <tbody>\n    <tr>\n      <th>0</th>\n      <td>/trinity/home/r098375/DDS/data/parelsnoer/data...</td>\n      <td>/trinity/home/r098375/DDS/data/parelsnoer/DICO...</td>\n      <td>/trinity/home/r098375/DDS/data/parelsnoer/NIFT...</td>\n      <td>True</td>\n    </tr>\n    <tr>\n      <th>1</th>\n      <td>/trinity/home/r098375/DDS/data/parelsnoer/data...</td>\n      <td>/trinity/home/r098375/DDS/data/parelsnoer/DICO...</td>\n      <td>/trinity/home/r098375/DDS/data/parelsnoer/NIFT...</td>\n      <td>True</td>\n    </tr>\n    <tr>\n      <th>2</th>\n      <td>/trinity/home/r098375/DDS/data/parelsnoer/data...</td>\n      <td>/trinity/home/r098375/DDS/data/parelsnoer/DICO...</td>\n      <td>/trinity/home/r098375/DDS/data/parelsnoer/NIFT...</td>\n      <td>True</td>\n    </tr>\n    <tr>\n      <th>3</th>\n      <td>/trinity/home/r098375/DDS/data/parelsnoer/data...</td>\n      <td>/trinity/home/r098375/DDS/data/parelsnoer/DICO...</td>\n      <td>/trinity/home/r098375/DDS/data/parelsnoer/NIFT...</td>\n      <td>True</td>\n    </tr>\n    <tr>\n      <th>4</th>\n      <td>/trinity/home/r098375/DDS/data/parelsnoer/data...</td>\n      <td>/trinity/home/r098375/DDS/data/parelsnoer/DICO...</td>\n      <td>/trinity/home/r098375/DDS/data/parelsnoer/NIFT...</td>\n      <td>True</td>\n    </tr>\n    <tr>\n      <th>...</th>\n      <td>...</td>\n      <td>...</td>\n      <td>...</td>\n      <td>...</td>\n    </tr>\n    <tr>\n      <th>8403</th>\n      <td>/trinity/home/r098375/DDS/data/parelsnoer/data...</td>\n      <td>/trinity/home/r098375/DDS/data/parelsnoer/DICO...</td>\n      <td>NaN</td>\n      <td>NaN</td>\n    </tr>\n    <tr>\n      <th>8404</th>\n      <td>/trinity/home/r098375/DDS/data/parelsnoer/data...</td>\n      <td>/trinity/home/r098375/DDS/data/parelsnoer/DICO...</td>\n      <td>NaN</td>\n      <td>NaN</td>\n    </tr>\n    <tr>\n      <th>8405</th>\n      <td>/trinity/home/r098375/DDS/data/parelsnoer/data...</td>\n      <td>/trinity/home/r098375/DDS/data/parelsnoer/DICO...</td>\n      <td>NaN</td>\n      <td>NaN</td>\n    </tr>\n    <tr>\n      <th>8406</th>\n      <td>/trinity/home/r098375/DDS/data/parelsnoer/data...</td>\n      <td>/trinity/home/r098375/DDS/data/parelsnoer/DICO...</td>\n      <td>NaN</td>\n      <td>NaN</td>\n    </tr>\n    <tr>\n      <th>8407</th>\n      <td>/trinity/home/r098375/DDS/data/parelsnoer/data...</td>\n      <td>/trinity/home/r098375/DDS/data/parelsnoer/DICO...</td>\n      <td>NaN</td>\n      <td>NaN</td>\n    </tr>\n  </tbody>\n</table>\n<p>8408 rows × 4 columns</p>\n</div>"
     },
     "execution_count": 49,
     "metadata": {},
     "output_type": "execute_result"
    }
   ],
   "source": [
    "FileFrame"
   ],
   "metadata": {
    "collapsed": false,
    "ExecuteTime": {
     "end_time": "2023-11-06T10:57:51.954588930Z",
     "start_time": "2023-11-06T10:57:51.752157323Z"
    }
   },
   "id": "8ebfacf5221ca6b7"
  },
  {
   "cell_type": "code",
   "execution_count": 50,
   "outputs": [],
   "source": [
    "FileFrame = FileFrame[FileFrame['NIFTI_path'].isna()==False].reset_index(drop=True)"
   ],
   "metadata": {
    "collapsed": false,
    "ExecuteTime": {
     "end_time": "2023-11-06T10:57:51.954735557Z",
     "start_time": "2023-11-06T10:57:51.757858785Z"
    }
   },
   "id": "28a2dd496dcd05d7"
  },
  {
   "cell_type": "code",
   "execution_count": 51,
   "outputs": [
    {
     "data": {
      "text/plain": "                                            originPath  \\\n0    /trinity/home/r098375/DDS/data/parelsnoer/data...   \n1    /trinity/home/r098375/DDS/data/parelsnoer/data...   \n2    /trinity/home/r098375/DDS/data/parelsnoer/data...   \n3    /trinity/home/r098375/DDS/data/parelsnoer/data...   \n4    /trinity/home/r098375/DDS/data/parelsnoer/data...   \n..                                                 ...   \n756  /trinity/home/r098375/DDS/data/parelsnoer/data...   \n757  /trinity/home/r098375/DDS/data/parelsnoer/data...   \n758  /trinity/home/r098375/DDS/data/parelsnoer/data...   \n759  /trinity/home/r098375/DDS/data/parelsnoer/data...   \n760  /trinity/home/r098375/DDS/data/parelsnoer/data...   \n\n                                   structuredDicomPath  \\\n0    /trinity/home/r098375/DDS/data/parelsnoer/DICO...   \n1    /trinity/home/r098375/DDS/data/parelsnoer/DICO...   \n2    /trinity/home/r098375/DDS/data/parelsnoer/DICO...   \n3    /trinity/home/r098375/DDS/data/parelsnoer/DICO...   \n4    /trinity/home/r098375/DDS/data/parelsnoer/DICO...   \n..                                                 ...   \n756  /trinity/home/r098375/DDS/data/parelsnoer/DICO...   \n757  /trinity/home/r098375/DDS/data/parelsnoer/DICO...   \n758  /trinity/home/r098375/DDS/data/parelsnoer/DICO...   \n759  /trinity/home/r098375/DDS/data/parelsnoer/DICO...   \n760  /trinity/home/r098375/DDS/data/parelsnoer/DICO...   \n\n                                            NIFTI_path sliced  \n0    /trinity/home/r098375/DDS/data/parelsnoer/NIFT...   True  \n1    /trinity/home/r098375/DDS/data/parelsnoer/NIFT...   True  \n2    /trinity/home/r098375/DDS/data/parelsnoer/NIFT...   True  \n3    /trinity/home/r098375/DDS/data/parelsnoer/NIFT...   True  \n4    /trinity/home/r098375/DDS/data/parelsnoer/NIFT...   True  \n..                                                 ...    ...  \n756  /trinity/home/r098375/DDS/data/parelsnoer/NIFT...   True  \n757  /trinity/home/r098375/DDS/data/parelsnoer/NIFT...   True  \n758  /trinity/home/r098375/DDS/data/parelsnoer/NIFT...   True  \n759  /trinity/home/r098375/DDS/data/parelsnoer/NIFT...   True  \n760  /trinity/home/r098375/DDS/data/parelsnoer/NIFT...   True  \n\n[761 rows x 4 columns]",
      "text/html": "<div>\n<style scoped>\n    .dataframe tbody tr th:only-of-type {\n        vertical-align: middle;\n    }\n\n    .dataframe tbody tr th {\n        vertical-align: top;\n    }\n\n    .dataframe thead th {\n        text-align: right;\n    }\n</style>\n<table border=\"1\" class=\"dataframe\">\n  <thead>\n    <tr style=\"text-align: right;\">\n      <th></th>\n      <th>originPath</th>\n      <th>structuredDicomPath</th>\n      <th>NIFTI_path</th>\n      <th>sliced</th>\n    </tr>\n  </thead>\n  <tbody>\n    <tr>\n      <th>0</th>\n      <td>/trinity/home/r098375/DDS/data/parelsnoer/data...</td>\n      <td>/trinity/home/r098375/DDS/data/parelsnoer/DICO...</td>\n      <td>/trinity/home/r098375/DDS/data/parelsnoer/NIFT...</td>\n      <td>True</td>\n    </tr>\n    <tr>\n      <th>1</th>\n      <td>/trinity/home/r098375/DDS/data/parelsnoer/data...</td>\n      <td>/trinity/home/r098375/DDS/data/parelsnoer/DICO...</td>\n      <td>/trinity/home/r098375/DDS/data/parelsnoer/NIFT...</td>\n      <td>True</td>\n    </tr>\n    <tr>\n      <th>2</th>\n      <td>/trinity/home/r098375/DDS/data/parelsnoer/data...</td>\n      <td>/trinity/home/r098375/DDS/data/parelsnoer/DICO...</td>\n      <td>/trinity/home/r098375/DDS/data/parelsnoer/NIFT...</td>\n      <td>True</td>\n    </tr>\n    <tr>\n      <th>3</th>\n      <td>/trinity/home/r098375/DDS/data/parelsnoer/data...</td>\n      <td>/trinity/home/r098375/DDS/data/parelsnoer/DICO...</td>\n      <td>/trinity/home/r098375/DDS/data/parelsnoer/NIFT...</td>\n      <td>True</td>\n    </tr>\n    <tr>\n      <th>4</th>\n      <td>/trinity/home/r098375/DDS/data/parelsnoer/data...</td>\n      <td>/trinity/home/r098375/DDS/data/parelsnoer/DICO...</td>\n      <td>/trinity/home/r098375/DDS/data/parelsnoer/NIFT...</td>\n      <td>True</td>\n    </tr>\n    <tr>\n      <th>...</th>\n      <td>...</td>\n      <td>...</td>\n      <td>...</td>\n      <td>...</td>\n    </tr>\n    <tr>\n      <th>756</th>\n      <td>/trinity/home/r098375/DDS/data/parelsnoer/data...</td>\n      <td>/trinity/home/r098375/DDS/data/parelsnoer/DICO...</td>\n      <td>/trinity/home/r098375/DDS/data/parelsnoer/NIFT...</td>\n      <td>True</td>\n    </tr>\n    <tr>\n      <th>757</th>\n      <td>/trinity/home/r098375/DDS/data/parelsnoer/data...</td>\n      <td>/trinity/home/r098375/DDS/data/parelsnoer/DICO...</td>\n      <td>/trinity/home/r098375/DDS/data/parelsnoer/NIFT...</td>\n      <td>True</td>\n    </tr>\n    <tr>\n      <th>758</th>\n      <td>/trinity/home/r098375/DDS/data/parelsnoer/data...</td>\n      <td>/trinity/home/r098375/DDS/data/parelsnoer/DICO...</td>\n      <td>/trinity/home/r098375/DDS/data/parelsnoer/NIFT...</td>\n      <td>True</td>\n    </tr>\n    <tr>\n      <th>759</th>\n      <td>/trinity/home/r098375/DDS/data/parelsnoer/data...</td>\n      <td>/trinity/home/r098375/DDS/data/parelsnoer/DICO...</td>\n      <td>/trinity/home/r098375/DDS/data/parelsnoer/NIFT...</td>\n      <td>True</td>\n    </tr>\n    <tr>\n      <th>760</th>\n      <td>/trinity/home/r098375/DDS/data/parelsnoer/data...</td>\n      <td>/trinity/home/r098375/DDS/data/parelsnoer/DICO...</td>\n      <td>/trinity/home/r098375/DDS/data/parelsnoer/NIFT...</td>\n      <td>True</td>\n    </tr>\n  </tbody>\n</table>\n<p>761 rows × 4 columns</p>\n</div>"
     },
     "execution_count": 51,
     "metadata": {},
     "output_type": "execute_result"
    }
   ],
   "source": [
    "FileFrame"
   ],
   "metadata": {
    "collapsed": false,
    "ExecuteTime": {
     "end_time": "2023-11-06T10:57:51.955202705Z",
     "start_time": "2023-11-06T10:57:51.772363527Z"
    }
   },
   "id": "fc0fc69920d94d54"
  },
  {
   "cell_type": "code",
   "execution_count": 52,
   "outputs": [],
   "source": [
    "def extractName(path):\n",
    "    return str(path).split('/')[10]"
   ],
   "metadata": {
    "collapsed": false,
    "ExecuteTime": {
     "end_time": "2023-11-06T10:57:51.955393807Z",
     "start_time": "2023-11-06T10:57:51.777501607Z"
    }
   },
   "id": "48dea7c3afff3654"
  },
  {
   "cell_type": "code",
   "execution_count": 53,
   "outputs": [],
   "source": [
    "FileFrame['name'] = FileFrame['originPath'].apply(extractName)"
   ],
   "metadata": {
    "collapsed": false,
    "ExecuteTime": {
     "end_time": "2023-11-06T10:57:51.955590135Z",
     "start_time": "2023-11-06T10:57:51.819455784Z"
    }
   },
   "id": "5c5af53c5c9f7d"
  },
  {
   "cell_type": "code",
   "execution_count": 54,
   "outputs": [],
   "source": [
    "FileFrame['numName'] = FileFrame['name'].apply(lambda x: str(x).split('-')[0])"
   ],
   "metadata": {
    "collapsed": false,
    "ExecuteTime": {
     "end_time": "2023-11-06T10:57:51.955769406Z",
     "start_time": "2023-11-06T10:57:51.819776336Z"
    }
   },
   "id": "3a2be5b6ba55bc61"
  },
  {
   "cell_type": "code",
   "execution_count": 55,
   "outputs": [
    {
     "data": {
      "text/plain": "array(['301', '803', '802', '302', '804', '801', '1001', '601', '101',\n       '501', '202', '604', '603', '1202', '1203', '602', '1302', '1303',\n       '1104', '1103', '1602', '1603', '1102', '1003', '1002', '1004',\n       '703', '303', '702', '704', '503', '504', '204', '502', '1502',\n       '1503', '401', '904', '903', '902', '402', '', '1403', '1402',\n       '701', '901', '201', '203', '102', '403', '608', '607', '1802',\n       '1803'], dtype=object)"
     },
     "execution_count": 55,
     "metadata": {},
     "output_type": "execute_result"
    }
   ],
   "source": [
    "FileFrame['numName'].unique()"
   ],
   "metadata": {
    "collapsed": false,
    "ExecuteTime": {
     "end_time": "2023-11-06T10:57:51.956155180Z",
     "start_time": "2023-11-06T10:57:51.820623990Z"
    }
   },
   "id": "6b0b59000e9c09d3"
  },
  {
   "cell_type": "code",
   "execution_count": 56,
   "outputs": [],
   "source": [
    "FileFrame['numName'] = FileFrame['numName'].apply(lambda x: '0' if x=='' else x)"
   ],
   "metadata": {
    "collapsed": false,
    "ExecuteTime": {
     "end_time": "2023-11-06T10:57:51.956324343Z",
     "start_time": "2023-11-06T10:57:51.820901599Z"
    }
   },
   "id": "e93afdbfe82c8ac8"
  },
  {
   "cell_type": "code",
   "execution_count": 57,
   "outputs": [],
   "source": [
    "FileFrame['r_numName'] = FileFrame['numName'].apply(lambda x:int(int(x)/100))"
   ],
   "metadata": {
    "collapsed": false,
    "ExecuteTime": {
     "end_time": "2023-11-06T10:57:51.956499807Z",
     "start_time": "2023-11-06T10:57:51.821128491Z"
    }
   },
   "id": "e3a9dc01851b6444"
  },
  {
   "cell_type": "code",
   "execution_count": 58,
   "outputs": [
    {
     "data": {
      "text/plain": "array([ 3,  8, 10,  6,  1,  5,  2, 12, 13, 11, 16,  7, 15,  4,  9,  0, 14,\n       18])"
     },
     "execution_count": 58,
     "metadata": {},
     "output_type": "execute_result"
    }
   ],
   "source": [
    "FileFrame['r_numName'].unique()"
   ],
   "metadata": {
    "collapsed": false,
    "ExecuteTime": {
     "end_time": "2023-11-06T10:57:51.956771865Z",
     "start_time": "2023-11-06T10:57:51.821444381Z"
    }
   },
   "id": "2e0fb93007dbb44a"
  },
  {
   "cell_type": "code",
   "execution_count": 59,
   "outputs": [
    {
     "data": {
      "text/plain": "array(['601-t_T1_IR_3mm', '604-isoDWI_uit_DTI', '603-dADC_uit_DTI',\n       '602-Reg___WIP_DTI_high_iso45dir_noDynStab_SENSE', '602-MPR_COR',\n       '608-min_MIP_2e_SWI_60_4__2', '607-min_MIP_1e_SWI_60_4__2',\n       '607-1st_dual_echo_SWI', '608-2nd_dual_echo_SWI'], dtype=object)"
     },
     "execution_count": 59,
     "metadata": {},
     "output_type": "execute_result"
    }
   ],
   "source": [
    "FileFrame[FileFrame['r_numName']==6]['name'].unique()"
   ],
   "metadata": {
    "collapsed": false,
    "ExecuteTime": {
     "end_time": "2023-11-06T10:57:51.957325909Z",
     "start_time": "2023-11-06T10:57:51.821627763Z"
    }
   },
   "id": "9f203f70c20786d8"
  },
  {
   "cell_type": "code",
   "execution_count": 60,
   "outputs": [],
   "source": [
    "def rename(origName):\n",
    "    on = origName.lower()\n",
    "    if 'local' in on:\n",
    "        return 'localizer'\n",
    "    if 'gd' in on:\n",
    "        if 't1' in on or 'fspgr' in on:\n",
    "            return 'T1c'\n",
    "    if 't1' in on or 'fspgr' in on or 'mpr' in on:\n",
    "        return 'T1w'\n",
    "    if 'flair' in on:\n",
    "        return 'flair'\n",
    "    if 'dti' in on:\n",
    "        return 'dti'\n",
    "    if 'dwi' in on:\n",
    "        return 'dwi'\n",
    "    if 't2' in on:\n",
    "        return 'T2w'\n",
    "    if 'adc' in on:\n",
    "        return 'adc'\n",
    "    if 'pwi' in on or 'perf' in on:\n",
    "        return 'pwi'\n",
    "    if 'pd' in on:\n",
    "        return 'pd'\n",
    "    if 'survey' in on:\n",
    "        return 'survey'\n",
    "    if 'asl' in on:\n",
    "        return 'asl'\n",
    "    if 'swi' in on:\n",
    "        return 'swi'\n",
    "    return 'other'"
   ],
   "metadata": {
    "collapsed": false,
    "ExecuteTime": {
     "end_time": "2023-11-06T10:57:51.957471848Z",
     "start_time": "2023-11-06T10:57:51.863346505Z"
    }
   },
   "id": "7320276738615aa3"
  },
  {
   "cell_type": "code",
   "execution_count": 61,
   "outputs": [],
   "source": [
    "FileFrame['renamed'] = FileFrame['name'].apply(rename)"
   ],
   "metadata": {
    "collapsed": false,
    "ExecuteTime": {
     "end_time": "2023-11-06T10:57:51.957617699Z",
     "start_time": "2023-11-06T10:57:51.863527440Z"
    }
   },
   "id": "18b4959b1d45af55"
  },
  {
   "cell_type": "code",
   "execution_count": 62,
   "outputs": [
    {
     "data": {
      "text/plain": "renamed\ndti       487\nT1w       171\nasl        66\nother      13\nsurvey      9\nT2w         5\nflair       4\nswi         4\nT1c         2\nName: count, dtype: int64"
     },
     "execution_count": 62,
     "metadata": {},
     "output_type": "execute_result"
    }
   ],
   "source": [
    "FileFrame['renamed'].value_counts()"
   ],
   "metadata": {
    "collapsed": false,
    "ExecuteTime": {
     "end_time": "2023-11-06T10:57:51.957973928Z",
     "start_time": "2023-11-06T10:57:51.863629600Z"
    }
   },
   "id": "43d98e305192d414"
  },
  {
   "cell_type": "code",
   "execution_count": 63,
   "outputs": [
    {
     "data": {
      "text/plain": "1                                     803-dADC_uit_DTI\n2      802-Reg___WIP_DTI_high_iso45dir_noDynStab_SENSE\n4                                   804-isoDWI_uit_DTI\n5                      801-DTI_high_iso45dir_noDynStab\n10                                    803-dADC_uit_DTI\n                            ...                       \n753    802-Reg___WIP_DTI_high_iso45dir_noDynStab_SENSE\n754                                 804-isoDWI_uit_DTI\n758                                   803-dADC_uit_DTI\n759    802-Reg___WIP_DTI_high_iso45dir_noDynStab_SENSE\n760                                 804-isoDWI_uit_DTI\nName: name, Length: 487, dtype: object"
     },
     "execution_count": 63,
     "metadata": {},
     "output_type": "execute_result"
    }
   ],
   "source": [
    "FileFrame[FileFrame['renamed']=='dti']['name']"
   ],
   "metadata": {
    "collapsed": false,
    "ExecuteTime": {
     "end_time": "2023-11-06T10:57:51.958295318Z",
     "start_time": "2023-11-06T10:57:51.863738849Z"
    }
   },
   "id": "b29a91a2ef0ec318"
  },
  {
   "cell_type": "code",
   "execution_count": 104,
   "outputs": [],
   "source": [
    "labeldict = {\"T1\":0,\"T1_c\":1,\"T2\":2,\"T2-FLAIR\":3,\"FS\":4,\"PD\":5,\n",
    "             \"SWI\":6, \"GRE\":7, \"T2*\":8, \"DWI\":9, \"ADC\":10, \"BOLD\":11,\n",
    "             \"FlowSensitve\":12,\"PWI\":13,\"ASL\":14,\"Hippo\":15,\n",
    "             \"DTI\":16,\"Other\":17}\n",
    "def assignLabel(dataframe):\n",
    "    description = dataframe['description']\n",
    "    try:\n",
    "        weight = dataframe['weighting']\n",
    "    except:\n",
    "        weight = None\n",
    "    otherCategories = ['fieldmap','scout','calibration','phase','localizer','nan','NotMri','pet','CT','e2','minIP','moco','mpr','other','survey'] #moco is a motion corrected series\n",
    "    if description in otherCategories:\n",
    "        return 17\n",
    "    if description =='T1w':\n",
    "        return 0\n",
    "    if description =='T1c':\n",
    "        return 1\n",
    "    if weight:\n",
    "        if description =='T2w':\n",
    "            if weight=='T2':\n",
    "                return 2\n",
    "            if weight=='PD':\n",
    "                return 5\n",
    "    if description == 'T2w':\n",
    "        return 2\n",
    "    if 'flair' in description.lower():\n",
    "        return 3\n",
    "    if description =='FS':\n",
    "        return 4\n",
    "    if description =='pd':\n",
    "        return 5\n",
    "    if description =='swi':\n",
    "        return 6\n",
    "    if description.lower() =='gre':\n",
    "        return 7\n",
    "    if description =='T2star':\n",
    "        return 8\n",
    "    if description =='dwi':\n",
    "        return 9\n",
    "    if description =='adc':\n",
    "        return 10\n",
    "    if description =='bold':\n",
    "        return 11\n",
    "    if description =='angio': #flowsensitive\n",
    "        return 12\n",
    "    if description =='pwi' or description=='cbf':\n",
    "        return 13\n",
    "    if 'asl' in description:\n",
    "        return 14\n",
    "    if description == 'hippo':\n",
    "        return 15\n",
    "    if description == 'dti':\n",
    "        return 16\n",
    "    return -1"
   ],
   "metadata": {
    "collapsed": false,
    "ExecuteTime": {
     "end_time": "2023-11-06T11:01:43.559654731Z",
     "start_time": "2023-11-06T11:01:43.516301415Z"
    }
   },
   "id": "6750d40c6dfc6951"
  },
  {
   "cell_type": "code",
   "execution_count": 105,
   "outputs": [],
   "source": [
    "FileFrame['description'] = FileFrame['renamed']"
   ],
   "metadata": {
    "collapsed": false,
    "ExecuteTime": {
     "end_time": "2023-11-06T11:01:45.245425827Z",
     "start_time": "2023-11-06T11:01:45.239094546Z"
    }
   },
   "id": "eebf675a2bfae210"
  },
  {
   "cell_type": "code",
   "execution_count": 106,
   "outputs": [
    {
     "data": {
      "text/plain": "                                          originPath  \\\n0  /trinity/home/r098375/DDS/data/parelsnoer/data...   \n1  /trinity/home/r098375/DDS/data/parelsnoer/data...   \n2  /trinity/home/r098375/DDS/data/parelsnoer/data...   \n3  /trinity/home/r098375/DDS/data/parelsnoer/data...   \n4  /trinity/home/r098375/DDS/data/parelsnoer/data...   \n\n                                 structuredDicomPath  \\\n0  /trinity/home/r098375/DDS/data/parelsnoer/DICO...   \n1  /trinity/home/r098375/DDS/data/parelsnoer/DICO...   \n2  /trinity/home/r098375/DDS/data/parelsnoer/DICO...   \n3  /trinity/home/r098375/DDS/data/parelsnoer/DICO...   \n4  /trinity/home/r098375/DDS/data/parelsnoer/DICO...   \n\n                                          NIFTI_path sliced  \\\n0  /trinity/home/r098375/DDS/data/parelsnoer/NIFT...   True   \n1  /trinity/home/r098375/DDS/data/parelsnoer/NIFT...   True   \n2  /trinity/home/r098375/DDS/data/parelsnoer/NIFT...   True   \n3  /trinity/home/r098375/DDS/data/parelsnoer/NIFT...   True   \n4  /trinity/home/r098375/DDS/data/parelsnoer/NIFT...   True   \n\n                                              name numName  r_numName renamed  \\\n0                                          301-T1w     301          3     T1w   \n1                                 803-dADC_uit_DTI     803          8     dti   \n2  802-Reg___WIP_DTI_high_iso45dir_noDynStab_SENSE     802          8     dti   \n3                       302-MPR_s_T1W_3D_TFE_SENSE     302          3     T1w   \n4                               804-isoDWI_uit_DTI     804          8     dti   \n\n  description  numLabel  \n0         T1w         0  \n1         dti        16  \n2         dti        16  \n3         T1w         0  \n4         dti        16  ",
      "text/html": "<div>\n<style scoped>\n    .dataframe tbody tr th:only-of-type {\n        vertical-align: middle;\n    }\n\n    .dataframe tbody tr th {\n        vertical-align: top;\n    }\n\n    .dataframe thead th {\n        text-align: right;\n    }\n</style>\n<table border=\"1\" class=\"dataframe\">\n  <thead>\n    <tr style=\"text-align: right;\">\n      <th></th>\n      <th>originPath</th>\n      <th>structuredDicomPath</th>\n      <th>NIFTI_path</th>\n      <th>sliced</th>\n      <th>name</th>\n      <th>numName</th>\n      <th>r_numName</th>\n      <th>renamed</th>\n      <th>description</th>\n      <th>numLabel</th>\n    </tr>\n  </thead>\n  <tbody>\n    <tr>\n      <th>0</th>\n      <td>/trinity/home/r098375/DDS/data/parelsnoer/data...</td>\n      <td>/trinity/home/r098375/DDS/data/parelsnoer/DICO...</td>\n      <td>/trinity/home/r098375/DDS/data/parelsnoer/NIFT...</td>\n      <td>True</td>\n      <td>301-T1w</td>\n      <td>301</td>\n      <td>3</td>\n      <td>T1w</td>\n      <td>T1w</td>\n      <td>0</td>\n    </tr>\n    <tr>\n      <th>1</th>\n      <td>/trinity/home/r098375/DDS/data/parelsnoer/data...</td>\n      <td>/trinity/home/r098375/DDS/data/parelsnoer/DICO...</td>\n      <td>/trinity/home/r098375/DDS/data/parelsnoer/NIFT...</td>\n      <td>True</td>\n      <td>803-dADC_uit_DTI</td>\n      <td>803</td>\n      <td>8</td>\n      <td>dti</td>\n      <td>dti</td>\n      <td>16</td>\n    </tr>\n    <tr>\n      <th>2</th>\n      <td>/trinity/home/r098375/DDS/data/parelsnoer/data...</td>\n      <td>/trinity/home/r098375/DDS/data/parelsnoer/DICO...</td>\n      <td>/trinity/home/r098375/DDS/data/parelsnoer/NIFT...</td>\n      <td>True</td>\n      <td>802-Reg___WIP_DTI_high_iso45dir_noDynStab_SENSE</td>\n      <td>802</td>\n      <td>8</td>\n      <td>dti</td>\n      <td>dti</td>\n      <td>16</td>\n    </tr>\n    <tr>\n      <th>3</th>\n      <td>/trinity/home/r098375/DDS/data/parelsnoer/data...</td>\n      <td>/trinity/home/r098375/DDS/data/parelsnoer/DICO...</td>\n      <td>/trinity/home/r098375/DDS/data/parelsnoer/NIFT...</td>\n      <td>True</td>\n      <td>302-MPR_s_T1W_3D_TFE_SENSE</td>\n      <td>302</td>\n      <td>3</td>\n      <td>T1w</td>\n      <td>T1w</td>\n      <td>0</td>\n    </tr>\n    <tr>\n      <th>4</th>\n      <td>/trinity/home/r098375/DDS/data/parelsnoer/data...</td>\n      <td>/trinity/home/r098375/DDS/data/parelsnoer/DICO...</td>\n      <td>/trinity/home/r098375/DDS/data/parelsnoer/NIFT...</td>\n      <td>True</td>\n      <td>804-isoDWI_uit_DTI</td>\n      <td>804</td>\n      <td>8</td>\n      <td>dti</td>\n      <td>dti</td>\n      <td>16</td>\n    </tr>\n  </tbody>\n</table>\n</div>"
     },
     "execution_count": 106,
     "metadata": {},
     "output_type": "execute_result"
    }
   ],
   "source": [
    "FileFrame.head()"
   ],
   "metadata": {
    "collapsed": false,
    "ExecuteTime": {
     "end_time": "2023-11-06T11:01:45.427822982Z",
     "start_time": "2023-11-06T11:01:45.382731204Z"
    }
   },
   "id": "e41fc893893fa221"
  },
  {
   "cell_type": "code",
   "execution_count": 107,
   "outputs": [],
   "source": [
    "FileFrame['numLabel'] = FileFrame.apply(assignLabel, axis=1)"
   ],
   "metadata": {
    "collapsed": false,
    "ExecuteTime": {
     "end_time": "2023-11-06T11:01:45.588712130Z",
     "start_time": "2023-11-06T11:01:45.587697248Z"
    }
   },
   "id": "d8f14111c741563c"
  },
  {
   "cell_type": "code",
   "execution_count": 108,
   "outputs": [
    {
     "data": {
      "text/plain": "                                            originPath  \\\n0    /trinity/home/r098375/DDS/data/parelsnoer/data...   \n1    /trinity/home/r098375/DDS/data/parelsnoer/data...   \n2    /trinity/home/r098375/DDS/data/parelsnoer/data...   \n3    /trinity/home/r098375/DDS/data/parelsnoer/data...   \n4    /trinity/home/r098375/DDS/data/parelsnoer/data...   \n..                                                 ...   \n756  /trinity/home/r098375/DDS/data/parelsnoer/data...   \n757  /trinity/home/r098375/DDS/data/parelsnoer/data...   \n758  /trinity/home/r098375/DDS/data/parelsnoer/data...   \n759  /trinity/home/r098375/DDS/data/parelsnoer/data...   \n760  /trinity/home/r098375/DDS/data/parelsnoer/data...   \n\n                                   structuredDicomPath  \\\n0    /trinity/home/r098375/DDS/data/parelsnoer/DICO...   \n1    /trinity/home/r098375/DDS/data/parelsnoer/DICO...   \n2    /trinity/home/r098375/DDS/data/parelsnoer/DICO...   \n3    /trinity/home/r098375/DDS/data/parelsnoer/DICO...   \n4    /trinity/home/r098375/DDS/data/parelsnoer/DICO...   \n..                                                 ...   \n756  /trinity/home/r098375/DDS/data/parelsnoer/DICO...   \n757  /trinity/home/r098375/DDS/data/parelsnoer/DICO...   \n758  /trinity/home/r098375/DDS/data/parelsnoer/DICO...   \n759  /trinity/home/r098375/DDS/data/parelsnoer/DICO...   \n760  /trinity/home/r098375/DDS/data/parelsnoer/DICO...   \n\n                                            NIFTI_path sliced  \\\n0    /trinity/home/r098375/DDS/data/parelsnoer/NIFT...   True   \n1    /trinity/home/r098375/DDS/data/parelsnoer/NIFT...   True   \n2    /trinity/home/r098375/DDS/data/parelsnoer/NIFT...   True   \n3    /trinity/home/r098375/DDS/data/parelsnoer/NIFT...   True   \n4    /trinity/home/r098375/DDS/data/parelsnoer/NIFT...   True   \n..                                                 ...    ...   \n756  /trinity/home/r098375/DDS/data/parelsnoer/NIFT...   True   \n757  /trinity/home/r098375/DDS/data/parelsnoer/NIFT...   True   \n758  /trinity/home/r098375/DDS/data/parelsnoer/NIFT...   True   \n759  /trinity/home/r098375/DDS/data/parelsnoer/NIFT...   True   \n760  /trinity/home/r098375/DDS/data/parelsnoer/NIFT...   True   \n\n                                                name numName  r_numName  \\\n0                                            301-T1w     301          3   \n1                                   803-dADC_uit_DTI     803          8   \n2    802-Reg___WIP_DTI_high_iso45dir_noDynStab_SENSE     802          8   \n3                         302-MPR_s_T1W_3D_TFE_SENSE     302          3   \n4                                 804-isoDWI_uit_DTI     804          8   \n..                                               ...     ...        ...   \n756                       303-c_mpr_T1W_3D_TFE_SENSE     303          3   \n757                                      303-MPR_COR     303          3   \n758                                 803-dADC_uit_DTI     803          8   \n759  802-Reg___WIP_DTI_high_iso45dir_noDynStab_SENSE     802          8   \n760                               804-isoDWI_uit_DTI     804          8   \n\n    renamed description  numLabel  \n0       T1w         T1w         0  \n1       dti         dti        16  \n2       dti         dti        16  \n3       T1w         T1w         0  \n4       dti         dti        16  \n..      ...         ...       ...  \n756     T1w         T1w         0  \n757     T1w         T1w         0  \n758     dti         dti        16  \n759     dti         dti        16  \n760     dti         dti        16  \n\n[761 rows x 10 columns]",
      "text/html": "<div>\n<style scoped>\n    .dataframe tbody tr th:only-of-type {\n        vertical-align: middle;\n    }\n\n    .dataframe tbody tr th {\n        vertical-align: top;\n    }\n\n    .dataframe thead th {\n        text-align: right;\n    }\n</style>\n<table border=\"1\" class=\"dataframe\">\n  <thead>\n    <tr style=\"text-align: right;\">\n      <th></th>\n      <th>originPath</th>\n      <th>structuredDicomPath</th>\n      <th>NIFTI_path</th>\n      <th>sliced</th>\n      <th>name</th>\n      <th>numName</th>\n      <th>r_numName</th>\n      <th>renamed</th>\n      <th>description</th>\n      <th>numLabel</th>\n    </tr>\n  </thead>\n  <tbody>\n    <tr>\n      <th>0</th>\n      <td>/trinity/home/r098375/DDS/data/parelsnoer/data...</td>\n      <td>/trinity/home/r098375/DDS/data/parelsnoer/DICO...</td>\n      <td>/trinity/home/r098375/DDS/data/parelsnoer/NIFT...</td>\n      <td>True</td>\n      <td>301-T1w</td>\n      <td>301</td>\n      <td>3</td>\n      <td>T1w</td>\n      <td>T1w</td>\n      <td>0</td>\n    </tr>\n    <tr>\n      <th>1</th>\n      <td>/trinity/home/r098375/DDS/data/parelsnoer/data...</td>\n      <td>/trinity/home/r098375/DDS/data/parelsnoer/DICO...</td>\n      <td>/trinity/home/r098375/DDS/data/parelsnoer/NIFT...</td>\n      <td>True</td>\n      <td>803-dADC_uit_DTI</td>\n      <td>803</td>\n      <td>8</td>\n      <td>dti</td>\n      <td>dti</td>\n      <td>16</td>\n    </tr>\n    <tr>\n      <th>2</th>\n      <td>/trinity/home/r098375/DDS/data/parelsnoer/data...</td>\n      <td>/trinity/home/r098375/DDS/data/parelsnoer/DICO...</td>\n      <td>/trinity/home/r098375/DDS/data/parelsnoer/NIFT...</td>\n      <td>True</td>\n      <td>802-Reg___WIP_DTI_high_iso45dir_noDynStab_SENSE</td>\n      <td>802</td>\n      <td>8</td>\n      <td>dti</td>\n      <td>dti</td>\n      <td>16</td>\n    </tr>\n    <tr>\n      <th>3</th>\n      <td>/trinity/home/r098375/DDS/data/parelsnoer/data...</td>\n      <td>/trinity/home/r098375/DDS/data/parelsnoer/DICO...</td>\n      <td>/trinity/home/r098375/DDS/data/parelsnoer/NIFT...</td>\n      <td>True</td>\n      <td>302-MPR_s_T1W_3D_TFE_SENSE</td>\n      <td>302</td>\n      <td>3</td>\n      <td>T1w</td>\n      <td>T1w</td>\n      <td>0</td>\n    </tr>\n    <tr>\n      <th>4</th>\n      <td>/trinity/home/r098375/DDS/data/parelsnoer/data...</td>\n      <td>/trinity/home/r098375/DDS/data/parelsnoer/DICO...</td>\n      <td>/trinity/home/r098375/DDS/data/parelsnoer/NIFT...</td>\n      <td>True</td>\n      <td>804-isoDWI_uit_DTI</td>\n      <td>804</td>\n      <td>8</td>\n      <td>dti</td>\n      <td>dti</td>\n      <td>16</td>\n    </tr>\n    <tr>\n      <th>...</th>\n      <td>...</td>\n      <td>...</td>\n      <td>...</td>\n      <td>...</td>\n      <td>...</td>\n      <td>...</td>\n      <td>...</td>\n      <td>...</td>\n      <td>...</td>\n      <td>...</td>\n    </tr>\n    <tr>\n      <th>756</th>\n      <td>/trinity/home/r098375/DDS/data/parelsnoer/data...</td>\n      <td>/trinity/home/r098375/DDS/data/parelsnoer/DICO...</td>\n      <td>/trinity/home/r098375/DDS/data/parelsnoer/NIFT...</td>\n      <td>True</td>\n      <td>303-c_mpr_T1W_3D_TFE_SENSE</td>\n      <td>303</td>\n      <td>3</td>\n      <td>T1w</td>\n      <td>T1w</td>\n      <td>0</td>\n    </tr>\n    <tr>\n      <th>757</th>\n      <td>/trinity/home/r098375/DDS/data/parelsnoer/data...</td>\n      <td>/trinity/home/r098375/DDS/data/parelsnoer/DICO...</td>\n      <td>/trinity/home/r098375/DDS/data/parelsnoer/NIFT...</td>\n      <td>True</td>\n      <td>303-MPR_COR</td>\n      <td>303</td>\n      <td>3</td>\n      <td>T1w</td>\n      <td>T1w</td>\n      <td>0</td>\n    </tr>\n    <tr>\n      <th>758</th>\n      <td>/trinity/home/r098375/DDS/data/parelsnoer/data...</td>\n      <td>/trinity/home/r098375/DDS/data/parelsnoer/DICO...</td>\n      <td>/trinity/home/r098375/DDS/data/parelsnoer/NIFT...</td>\n      <td>True</td>\n      <td>803-dADC_uit_DTI</td>\n      <td>803</td>\n      <td>8</td>\n      <td>dti</td>\n      <td>dti</td>\n      <td>16</td>\n    </tr>\n    <tr>\n      <th>759</th>\n      <td>/trinity/home/r098375/DDS/data/parelsnoer/data...</td>\n      <td>/trinity/home/r098375/DDS/data/parelsnoer/DICO...</td>\n      <td>/trinity/home/r098375/DDS/data/parelsnoer/NIFT...</td>\n      <td>True</td>\n      <td>802-Reg___WIP_DTI_high_iso45dir_noDynStab_SENSE</td>\n      <td>802</td>\n      <td>8</td>\n      <td>dti</td>\n      <td>dti</td>\n      <td>16</td>\n    </tr>\n    <tr>\n      <th>760</th>\n      <td>/trinity/home/r098375/DDS/data/parelsnoer/data...</td>\n      <td>/trinity/home/r098375/DDS/data/parelsnoer/DICO...</td>\n      <td>/trinity/home/r098375/DDS/data/parelsnoer/NIFT...</td>\n      <td>True</td>\n      <td>804-isoDWI_uit_DTI</td>\n      <td>804</td>\n      <td>8</td>\n      <td>dti</td>\n      <td>dti</td>\n      <td>16</td>\n    </tr>\n  </tbody>\n</table>\n<p>761 rows × 10 columns</p>\n</div>"
     },
     "execution_count": 108,
     "metadata": {},
     "output_type": "execute_result"
    }
   ],
   "source": [
    "FileFrame"
   ],
   "metadata": {
    "collapsed": false,
    "ExecuteTime": {
     "end_time": "2023-11-06T11:01:45.734894613Z",
     "start_time": "2023-11-06T11:01:45.719183627Z"
    }
   },
   "id": "a5b66dbbff8dcc45"
  },
  {
   "cell_type": "code",
   "execution_count": 109,
   "outputs": [],
   "source": [
    "LabelFrame = pd.read_csv('Labels.txt',names=['ID','label','extra'],sep='\\t', dtype={'ID':str,'label':int,'extra':int})"
   ],
   "metadata": {
    "collapsed": false,
    "ExecuteTime": {
     "end_time": "2023-11-06T11:01:45.962333079Z",
     "start_time": "2023-11-06T11:01:45.817771650Z"
    }
   },
   "id": "b93398cb91c6dc8a"
  },
  {
   "cell_type": "code",
   "execution_count": 110,
   "outputs": [
    {
     "data": {
      "text/plain": "                                                      ID  label  extra\n0      /trinity/home/r098375/DDS/data/parelsnoer/NIFT...      0      0\n1      /trinity/home/r098375/DDS/data/parelsnoer/NIFT...      0      0\n2      /trinity/home/r098375/DDS/data/parelsnoer/NIFT...      0      0\n3      /trinity/home/r098375/DDS/data/parelsnoer/NIFT...      0      0\n4      /trinity/home/r098375/DDS/data/parelsnoer/NIFT...      0      0\n...                                                  ...    ...    ...\n60845  /trinity/home/r098375/DDS/data/parelsnoer/NIFT...      0      0\n60846  /trinity/home/r098375/DDS/data/parelsnoer/NIFT...      0      0\n60847  /trinity/home/r098375/DDS/data/parelsnoer/NIFT...      0      0\n60848  /trinity/home/r098375/DDS/data/parelsnoer/NIFT...      0      0\n60849  /trinity/home/r098375/DDS/data/parelsnoer/NIFT...      0      0\n\n[60850 rows x 3 columns]",
      "text/html": "<div>\n<style scoped>\n    .dataframe tbody tr th:only-of-type {\n        vertical-align: middle;\n    }\n\n    .dataframe tbody tr th {\n        vertical-align: top;\n    }\n\n    .dataframe thead th {\n        text-align: right;\n    }\n</style>\n<table border=\"1\" class=\"dataframe\">\n  <thead>\n    <tr style=\"text-align: right;\">\n      <th></th>\n      <th>ID</th>\n      <th>label</th>\n      <th>extra</th>\n    </tr>\n  </thead>\n  <tbody>\n    <tr>\n      <th>0</th>\n      <td>/trinity/home/r098375/DDS/data/parelsnoer/NIFT...</td>\n      <td>0</td>\n      <td>0</td>\n    </tr>\n    <tr>\n      <th>1</th>\n      <td>/trinity/home/r098375/DDS/data/parelsnoer/NIFT...</td>\n      <td>0</td>\n      <td>0</td>\n    </tr>\n    <tr>\n      <th>2</th>\n      <td>/trinity/home/r098375/DDS/data/parelsnoer/NIFT...</td>\n      <td>0</td>\n      <td>0</td>\n    </tr>\n    <tr>\n      <th>3</th>\n      <td>/trinity/home/r098375/DDS/data/parelsnoer/NIFT...</td>\n      <td>0</td>\n      <td>0</td>\n    </tr>\n    <tr>\n      <th>4</th>\n      <td>/trinity/home/r098375/DDS/data/parelsnoer/NIFT...</td>\n      <td>0</td>\n      <td>0</td>\n    </tr>\n    <tr>\n      <th>...</th>\n      <td>...</td>\n      <td>...</td>\n      <td>...</td>\n    </tr>\n    <tr>\n      <th>60845</th>\n      <td>/trinity/home/r098375/DDS/data/parelsnoer/NIFT...</td>\n      <td>0</td>\n      <td>0</td>\n    </tr>\n    <tr>\n      <th>60846</th>\n      <td>/trinity/home/r098375/DDS/data/parelsnoer/NIFT...</td>\n      <td>0</td>\n      <td>0</td>\n    </tr>\n    <tr>\n      <th>60847</th>\n      <td>/trinity/home/r098375/DDS/data/parelsnoer/NIFT...</td>\n      <td>0</td>\n      <td>0</td>\n    </tr>\n    <tr>\n      <th>60848</th>\n      <td>/trinity/home/r098375/DDS/data/parelsnoer/NIFT...</td>\n      <td>0</td>\n      <td>0</td>\n    </tr>\n    <tr>\n      <th>60849</th>\n      <td>/trinity/home/r098375/DDS/data/parelsnoer/NIFT...</td>\n      <td>0</td>\n      <td>0</td>\n    </tr>\n  </tbody>\n</table>\n<p>60850 rows × 3 columns</p>\n</div>"
     },
     "execution_count": 110,
     "metadata": {},
     "output_type": "execute_result"
    }
   ],
   "source": [
    "LabelFrame"
   ],
   "metadata": {
    "collapsed": false,
    "ExecuteTime": {
     "end_time": "2023-11-06T11:01:46.068080342Z",
     "start_time": "2023-11-06T11:01:46.067312446Z"
    }
   },
   "id": "9d3226547f2e0ecc"
  },
  {
   "cell_type": "code",
   "execution_count": 111,
   "outputs": [],
   "source": [
    "import os"
   ],
   "metadata": {
    "collapsed": false,
    "ExecuteTime": {
     "end_time": "2023-11-06T11:01:46.170916306Z",
     "start_time": "2023-11-06T11:01:46.143204664Z"
    }
   },
   "id": "b08f5069528710b6"
  },
  {
   "cell_type": "code",
   "execution_count": 112,
   "outputs": [],
   "source": [
    "def extractNiftiName(name):\n",
    "    name = name.rsplit('__',1)[0]\n",
    "    name = name.replace('NIFTI_SLICES','NIFTI')\n",
    "    name = name.split('_Scan')[0]\n",
    "    name = f'{name}.nii.gz'\n",
    "    if len(str(name).split('__')) > 3:\n",
    "        return None\n",
    "    return name"
   ],
   "metadata": {
    "collapsed": false,
    "ExecuteTime": {
     "end_time": "2023-11-06T11:01:46.277392882Z",
     "start_time": "2023-11-06T11:01:46.267250218Z"
    }
   },
   "id": "ad1aaec4c030a3e0"
  },
  {
   "cell_type": "code",
   "execution_count": 113,
   "outputs": [],
   "source": [
    "LabelFrame['nifti_name'] = LabelFrame['ID'].apply(extractNiftiName)"
   ],
   "metadata": {
    "collapsed": false,
    "ExecuteTime": {
     "end_time": "2023-11-06T11:01:46.455269113Z",
     "start_time": "2023-11-06T11:01:46.401825996Z"
    }
   },
   "id": "a8e08f7e2021b2ec"
  },
  {
   "cell_type": "code",
   "execution_count": 114,
   "outputs": [
    {
     "data": {
      "text/plain": "60850"
     },
     "execution_count": 114,
     "metadata": {},
     "output_type": "execute_result"
    }
   ],
   "source": [
    "len(LabelFrame)"
   ],
   "metadata": {
    "collapsed": false,
    "ExecuteTime": {
     "end_time": "2023-11-06T11:01:46.536449298Z",
     "start_time": "2023-11-06T11:01:46.535184584Z"
    }
   },
   "id": "5da96d2c5aa1a868"
  },
  {
   "cell_type": "code",
   "execution_count": 115,
   "outputs": [
    {
     "data": {
      "text/plain": "                                                  ID  label  extra nifti_name\n0  /trinity/home/r098375/DDS/data/parelsnoer/NIFT...      0      0       None\n1  /trinity/home/r098375/DDS/data/parelsnoer/NIFT...      0      0       None\n2  /trinity/home/r098375/DDS/data/parelsnoer/NIFT...      0      0       None\n3  /trinity/home/r098375/DDS/data/parelsnoer/NIFT...      0      0       None\n4  /trinity/home/r098375/DDS/data/parelsnoer/NIFT...      0      0       None",
      "text/html": "<div>\n<style scoped>\n    .dataframe tbody tr th:only-of-type {\n        vertical-align: middle;\n    }\n\n    .dataframe tbody tr th {\n        vertical-align: top;\n    }\n\n    .dataframe thead th {\n        text-align: right;\n    }\n</style>\n<table border=\"1\" class=\"dataframe\">\n  <thead>\n    <tr style=\"text-align: right;\">\n      <th></th>\n      <th>ID</th>\n      <th>label</th>\n      <th>extra</th>\n      <th>nifti_name</th>\n    </tr>\n  </thead>\n  <tbody>\n    <tr>\n      <th>0</th>\n      <td>/trinity/home/r098375/DDS/data/parelsnoer/NIFT...</td>\n      <td>0</td>\n      <td>0</td>\n      <td>None</td>\n    </tr>\n    <tr>\n      <th>1</th>\n      <td>/trinity/home/r098375/DDS/data/parelsnoer/NIFT...</td>\n      <td>0</td>\n      <td>0</td>\n      <td>None</td>\n    </tr>\n    <tr>\n      <th>2</th>\n      <td>/trinity/home/r098375/DDS/data/parelsnoer/NIFT...</td>\n      <td>0</td>\n      <td>0</td>\n      <td>None</td>\n    </tr>\n    <tr>\n      <th>3</th>\n      <td>/trinity/home/r098375/DDS/data/parelsnoer/NIFT...</td>\n      <td>0</td>\n      <td>0</td>\n      <td>None</td>\n    </tr>\n    <tr>\n      <th>4</th>\n      <td>/trinity/home/r098375/DDS/data/parelsnoer/NIFT...</td>\n      <td>0</td>\n      <td>0</td>\n      <td>None</td>\n    </tr>\n  </tbody>\n</table>\n</div>"
     },
     "execution_count": 115,
     "metadata": {},
     "output_type": "execute_result"
    }
   ],
   "source": [
    "LabelFrame.head()"
   ],
   "metadata": {
    "collapsed": false,
    "ExecuteTime": {
     "end_time": "2023-11-06T11:01:46.680245810Z",
     "start_time": "2023-11-06T11:01:46.632058646Z"
    }
   },
   "id": "64236870ad153f38"
  },
  {
   "cell_type": "code",
   "execution_count": 116,
   "outputs": [],
   "source": [
    "temp = LabelFrame.merge(FileFrame, how='inner', left_on='nifti_name', right_on=\"NIFTI_path\")"
   ],
   "metadata": {
    "collapsed": false,
    "ExecuteTime": {
     "end_time": "2023-11-06T11:01:46.823378705Z",
     "start_time": "2023-11-06T11:01:46.775586065Z"
    }
   },
   "id": "e1ec2ac9f9ed7966"
  },
  {
   "cell_type": "code",
   "execution_count": 117,
   "outputs": [
    {
     "data": {
      "text/plain": "                                                      ID  label  extra  \\\n0      /trinity/home/r098375/DDS/data/parelsnoer/NIFT...      0      0   \n1      /trinity/home/r098375/DDS/data/parelsnoer/NIFT...      0      0   \n2      /trinity/home/r098375/DDS/data/parelsnoer/NIFT...      0      0   \n3      /trinity/home/r098375/DDS/data/parelsnoer/NIFT...      0      0   \n4      /trinity/home/r098375/DDS/data/parelsnoer/NIFT...      0      0   \n...                                                  ...    ...    ...   \n18720  /trinity/home/r098375/DDS/data/parelsnoer/NIFT...      0      0   \n18721  /trinity/home/r098375/DDS/data/parelsnoer/NIFT...      0      0   \n18722  /trinity/home/r098375/DDS/data/parelsnoer/NIFT...      0      0   \n18723  /trinity/home/r098375/DDS/data/parelsnoer/NIFT...      0      0   \n18724  /trinity/home/r098375/DDS/data/parelsnoer/NIFT...      0      0   \n\n                                              nifti_name  \\\n0      /trinity/home/r098375/DDS/data/parelsnoer/NIFT...   \n1      /trinity/home/r098375/DDS/data/parelsnoer/NIFT...   \n2      /trinity/home/r098375/DDS/data/parelsnoer/NIFT...   \n3      /trinity/home/r098375/DDS/data/parelsnoer/NIFT...   \n4      /trinity/home/r098375/DDS/data/parelsnoer/NIFT...   \n...                                                  ...   \n18720  /trinity/home/r098375/DDS/data/parelsnoer/NIFT...   \n18721  /trinity/home/r098375/DDS/data/parelsnoer/NIFT...   \n18722  /trinity/home/r098375/DDS/data/parelsnoer/NIFT...   \n18723  /trinity/home/r098375/DDS/data/parelsnoer/NIFT...   \n18724  /trinity/home/r098375/DDS/data/parelsnoer/NIFT...   \n\n                                              originPath  \\\n0      /trinity/home/r098375/DDS/data/parelsnoer/data...   \n1      /trinity/home/r098375/DDS/data/parelsnoer/data...   \n2      /trinity/home/r098375/DDS/data/parelsnoer/data...   \n3      /trinity/home/r098375/DDS/data/parelsnoer/data...   \n4      /trinity/home/r098375/DDS/data/parelsnoer/data...   \n...                                                  ...   \n18720  /trinity/home/r098375/DDS/data/parelsnoer/data...   \n18721  /trinity/home/r098375/DDS/data/parelsnoer/data...   \n18722  /trinity/home/r098375/DDS/data/parelsnoer/data...   \n18723  /trinity/home/r098375/DDS/data/parelsnoer/data...   \n18724  /trinity/home/r098375/DDS/data/parelsnoer/data...   \n\n                                     structuredDicomPath  \\\n0      /trinity/home/r098375/DDS/data/parelsnoer/DICO...   \n1      /trinity/home/r098375/DDS/data/parelsnoer/DICO...   \n2      /trinity/home/r098375/DDS/data/parelsnoer/DICO...   \n3      /trinity/home/r098375/DDS/data/parelsnoer/DICO...   \n4      /trinity/home/r098375/DDS/data/parelsnoer/DICO...   \n...                                                  ...   \n18720  /trinity/home/r098375/DDS/data/parelsnoer/DICO...   \n18721  /trinity/home/r098375/DDS/data/parelsnoer/DICO...   \n18722  /trinity/home/r098375/DDS/data/parelsnoer/DICO...   \n18723  /trinity/home/r098375/DDS/data/parelsnoer/DICO...   \n18724  /trinity/home/r098375/DDS/data/parelsnoer/DICO...   \n\n                                              NIFTI_path sliced  \\\n0      /trinity/home/r098375/DDS/data/parelsnoer/NIFT...   True   \n1      /trinity/home/r098375/DDS/data/parelsnoer/NIFT...   True   \n2      /trinity/home/r098375/DDS/data/parelsnoer/NIFT...   True   \n3      /trinity/home/r098375/DDS/data/parelsnoer/NIFT...   True   \n4      /trinity/home/r098375/DDS/data/parelsnoer/NIFT...   True   \n...                                                  ...    ...   \n18720  /trinity/home/r098375/DDS/data/parelsnoer/NIFT...   True   \n18721  /trinity/home/r098375/DDS/data/parelsnoer/NIFT...   True   \n18722  /trinity/home/r098375/DDS/data/parelsnoer/NIFT...   True   \n18723  /trinity/home/r098375/DDS/data/parelsnoer/NIFT...   True   \n18724  /trinity/home/r098375/DDS/data/parelsnoer/NIFT...   True   \n\n                                                  name numName  r_numName  \\\n0                                   704-isoDWI_uit_DTI     704          7   \n1                                   704-isoDWI_uit_DTI     704          7   \n2                                   704-isoDWI_uit_DTI     704          7   \n3                                   704-isoDWI_uit_DTI     704          7   \n4                                   704-isoDWI_uit_DTI     704          7   \n...                                                ...     ...        ...   \n18720  602-Reg___WIP_DTI_high_iso45dir_noDynStab_SENSE     602          6   \n18721  602-Reg___WIP_DTI_high_iso45dir_noDynStab_SENSE     602          6   \n18722  602-Reg___WIP_DTI_high_iso45dir_noDynStab_SENSE     602          6   \n18723  602-Reg___WIP_DTI_high_iso45dir_noDynStab_SENSE     602          6   \n18724  602-Reg___WIP_DTI_high_iso45dir_noDynStab_SENSE     602          6   \n\n      renamed description  numLabel  \n0         dti         dti        16  \n1         dti         dti        16  \n2         dti         dti        16  \n3         dti         dti        16  \n4         dti         dti        16  \n...       ...         ...       ...  \n18720     dti         dti        16  \n18721     dti         dti        16  \n18722     dti         dti        16  \n18723     dti         dti        16  \n18724     dti         dti        16  \n\n[18725 rows x 14 columns]",
      "text/html": "<div>\n<style scoped>\n    .dataframe tbody tr th:only-of-type {\n        vertical-align: middle;\n    }\n\n    .dataframe tbody tr th {\n        vertical-align: top;\n    }\n\n    .dataframe thead th {\n        text-align: right;\n    }\n</style>\n<table border=\"1\" class=\"dataframe\">\n  <thead>\n    <tr style=\"text-align: right;\">\n      <th></th>\n      <th>ID</th>\n      <th>label</th>\n      <th>extra</th>\n      <th>nifti_name</th>\n      <th>originPath</th>\n      <th>structuredDicomPath</th>\n      <th>NIFTI_path</th>\n      <th>sliced</th>\n      <th>name</th>\n      <th>numName</th>\n      <th>r_numName</th>\n      <th>renamed</th>\n      <th>description</th>\n      <th>numLabel</th>\n    </tr>\n  </thead>\n  <tbody>\n    <tr>\n      <th>0</th>\n      <td>/trinity/home/r098375/DDS/data/parelsnoer/NIFT...</td>\n      <td>0</td>\n      <td>0</td>\n      <td>/trinity/home/r098375/DDS/data/parelsnoer/NIFT...</td>\n      <td>/trinity/home/r098375/DDS/data/parelsnoer/data...</td>\n      <td>/trinity/home/r098375/DDS/data/parelsnoer/DICO...</td>\n      <td>/trinity/home/r098375/DDS/data/parelsnoer/NIFT...</td>\n      <td>True</td>\n      <td>704-isoDWI_uit_DTI</td>\n      <td>704</td>\n      <td>7</td>\n      <td>dti</td>\n      <td>dti</td>\n      <td>16</td>\n    </tr>\n    <tr>\n      <th>1</th>\n      <td>/trinity/home/r098375/DDS/data/parelsnoer/NIFT...</td>\n      <td>0</td>\n      <td>0</td>\n      <td>/trinity/home/r098375/DDS/data/parelsnoer/NIFT...</td>\n      <td>/trinity/home/r098375/DDS/data/parelsnoer/data...</td>\n      <td>/trinity/home/r098375/DDS/data/parelsnoer/DICO...</td>\n      <td>/trinity/home/r098375/DDS/data/parelsnoer/NIFT...</td>\n      <td>True</td>\n      <td>704-isoDWI_uit_DTI</td>\n      <td>704</td>\n      <td>7</td>\n      <td>dti</td>\n      <td>dti</td>\n      <td>16</td>\n    </tr>\n    <tr>\n      <th>2</th>\n      <td>/trinity/home/r098375/DDS/data/parelsnoer/NIFT...</td>\n      <td>0</td>\n      <td>0</td>\n      <td>/trinity/home/r098375/DDS/data/parelsnoer/NIFT...</td>\n      <td>/trinity/home/r098375/DDS/data/parelsnoer/data...</td>\n      <td>/trinity/home/r098375/DDS/data/parelsnoer/DICO...</td>\n      <td>/trinity/home/r098375/DDS/data/parelsnoer/NIFT...</td>\n      <td>True</td>\n      <td>704-isoDWI_uit_DTI</td>\n      <td>704</td>\n      <td>7</td>\n      <td>dti</td>\n      <td>dti</td>\n      <td>16</td>\n    </tr>\n    <tr>\n      <th>3</th>\n      <td>/trinity/home/r098375/DDS/data/parelsnoer/NIFT...</td>\n      <td>0</td>\n      <td>0</td>\n      <td>/trinity/home/r098375/DDS/data/parelsnoer/NIFT...</td>\n      <td>/trinity/home/r098375/DDS/data/parelsnoer/data...</td>\n      <td>/trinity/home/r098375/DDS/data/parelsnoer/DICO...</td>\n      <td>/trinity/home/r098375/DDS/data/parelsnoer/NIFT...</td>\n      <td>True</td>\n      <td>704-isoDWI_uit_DTI</td>\n      <td>704</td>\n      <td>7</td>\n      <td>dti</td>\n      <td>dti</td>\n      <td>16</td>\n    </tr>\n    <tr>\n      <th>4</th>\n      <td>/trinity/home/r098375/DDS/data/parelsnoer/NIFT...</td>\n      <td>0</td>\n      <td>0</td>\n      <td>/trinity/home/r098375/DDS/data/parelsnoer/NIFT...</td>\n      <td>/trinity/home/r098375/DDS/data/parelsnoer/data...</td>\n      <td>/trinity/home/r098375/DDS/data/parelsnoer/DICO...</td>\n      <td>/trinity/home/r098375/DDS/data/parelsnoer/NIFT...</td>\n      <td>True</td>\n      <td>704-isoDWI_uit_DTI</td>\n      <td>704</td>\n      <td>7</td>\n      <td>dti</td>\n      <td>dti</td>\n      <td>16</td>\n    </tr>\n    <tr>\n      <th>...</th>\n      <td>...</td>\n      <td>...</td>\n      <td>...</td>\n      <td>...</td>\n      <td>...</td>\n      <td>...</td>\n      <td>...</td>\n      <td>...</td>\n      <td>...</td>\n      <td>...</td>\n      <td>...</td>\n      <td>...</td>\n      <td>...</td>\n      <td>...</td>\n    </tr>\n    <tr>\n      <th>18720</th>\n      <td>/trinity/home/r098375/DDS/data/parelsnoer/NIFT...</td>\n      <td>0</td>\n      <td>0</td>\n      <td>/trinity/home/r098375/DDS/data/parelsnoer/NIFT...</td>\n      <td>/trinity/home/r098375/DDS/data/parelsnoer/data...</td>\n      <td>/trinity/home/r098375/DDS/data/parelsnoer/DICO...</td>\n      <td>/trinity/home/r098375/DDS/data/parelsnoer/NIFT...</td>\n      <td>True</td>\n      <td>602-Reg___WIP_DTI_high_iso45dir_noDynStab_SENSE</td>\n      <td>602</td>\n      <td>6</td>\n      <td>dti</td>\n      <td>dti</td>\n      <td>16</td>\n    </tr>\n    <tr>\n      <th>18721</th>\n      <td>/trinity/home/r098375/DDS/data/parelsnoer/NIFT...</td>\n      <td>0</td>\n      <td>0</td>\n      <td>/trinity/home/r098375/DDS/data/parelsnoer/NIFT...</td>\n      <td>/trinity/home/r098375/DDS/data/parelsnoer/data...</td>\n      <td>/trinity/home/r098375/DDS/data/parelsnoer/DICO...</td>\n      <td>/trinity/home/r098375/DDS/data/parelsnoer/NIFT...</td>\n      <td>True</td>\n      <td>602-Reg___WIP_DTI_high_iso45dir_noDynStab_SENSE</td>\n      <td>602</td>\n      <td>6</td>\n      <td>dti</td>\n      <td>dti</td>\n      <td>16</td>\n    </tr>\n    <tr>\n      <th>18722</th>\n      <td>/trinity/home/r098375/DDS/data/parelsnoer/NIFT...</td>\n      <td>0</td>\n      <td>0</td>\n      <td>/trinity/home/r098375/DDS/data/parelsnoer/NIFT...</td>\n      <td>/trinity/home/r098375/DDS/data/parelsnoer/data...</td>\n      <td>/trinity/home/r098375/DDS/data/parelsnoer/DICO...</td>\n      <td>/trinity/home/r098375/DDS/data/parelsnoer/NIFT...</td>\n      <td>True</td>\n      <td>602-Reg___WIP_DTI_high_iso45dir_noDynStab_SENSE</td>\n      <td>602</td>\n      <td>6</td>\n      <td>dti</td>\n      <td>dti</td>\n      <td>16</td>\n    </tr>\n    <tr>\n      <th>18723</th>\n      <td>/trinity/home/r098375/DDS/data/parelsnoer/NIFT...</td>\n      <td>0</td>\n      <td>0</td>\n      <td>/trinity/home/r098375/DDS/data/parelsnoer/NIFT...</td>\n      <td>/trinity/home/r098375/DDS/data/parelsnoer/data...</td>\n      <td>/trinity/home/r098375/DDS/data/parelsnoer/DICO...</td>\n      <td>/trinity/home/r098375/DDS/data/parelsnoer/NIFT...</td>\n      <td>True</td>\n      <td>602-Reg___WIP_DTI_high_iso45dir_noDynStab_SENSE</td>\n      <td>602</td>\n      <td>6</td>\n      <td>dti</td>\n      <td>dti</td>\n      <td>16</td>\n    </tr>\n    <tr>\n      <th>18724</th>\n      <td>/trinity/home/r098375/DDS/data/parelsnoer/NIFT...</td>\n      <td>0</td>\n      <td>0</td>\n      <td>/trinity/home/r098375/DDS/data/parelsnoer/NIFT...</td>\n      <td>/trinity/home/r098375/DDS/data/parelsnoer/data...</td>\n      <td>/trinity/home/r098375/DDS/data/parelsnoer/DICO...</td>\n      <td>/trinity/home/r098375/DDS/data/parelsnoer/NIFT...</td>\n      <td>True</td>\n      <td>602-Reg___WIP_DTI_high_iso45dir_noDynStab_SENSE</td>\n      <td>602</td>\n      <td>6</td>\n      <td>dti</td>\n      <td>dti</td>\n      <td>16</td>\n    </tr>\n  </tbody>\n</table>\n<p>18725 rows × 14 columns</p>\n</div>"
     },
     "execution_count": 117,
     "metadata": {},
     "output_type": "execute_result"
    }
   ],
   "source": [
    "temp"
   ],
   "metadata": {
    "collapsed": false,
    "ExecuteTime": {
     "end_time": "2023-11-06T11:01:46.933138719Z",
     "start_time": "2023-11-06T11:01:46.931333254Z"
    }
   },
   "id": "2502a713672c92bc"
  },
  {
   "cell_type": "code",
   "execution_count": 118,
   "outputs": [
    {
     "data": {
      "text/plain": "18725"
     },
     "execution_count": 118,
     "metadata": {},
     "output_type": "execute_result"
    }
   ],
   "source": [
    "len(temp)"
   ],
   "metadata": {
    "collapsed": false,
    "ExecuteTime": {
     "end_time": "2023-11-06T11:01:47.163750716Z",
     "start_time": "2023-11-06T11:01:47.163267345Z"
    }
   },
   "id": "d756626715e98e0b"
  },
  {
   "cell_type": "code",
   "execution_count": 119,
   "outputs": [
    {
     "data": {
      "text/plain": "description\ndti       487.0\nT1w       168.0\nasl        66.0\nother      10.0\nT2w         5.0\nflair       4.0\nswi         4.0\nsurvey      3.0\nT1c         2.0\nName: count, dtype: float64"
     },
     "execution_count": 119,
     "metadata": {},
     "output_type": "execute_result"
    }
   ],
   "source": [
    "temp['description'].value_counts()/25"
   ],
   "metadata": {
    "collapsed": false,
    "ExecuteTime": {
     "end_time": "2023-11-06T11:01:47.272408480Z",
     "start_time": "2023-11-06T11:01:47.259216971Z"
    }
   },
   "id": "fadaa8ebb5130994"
  },
  {
   "cell_type": "code",
   "execution_count": 120,
   "outputs": [
    {
     "data": {
      "text/plain": "renamed\ndti       487\nT1w       171\nasl        66\nother      13\nsurvey      9\nT2w         5\nflair       4\nswi         4\nT1c         2\nName: count, dtype: int64"
     },
     "execution_count": 120,
     "metadata": {},
     "output_type": "execute_result"
    }
   ],
   "source": [
    "FileFrame['renamed'].value_counts()"
   ],
   "metadata": {
    "collapsed": false,
    "ExecuteTime": {
     "end_time": "2023-11-06T11:01:47.404811716Z",
     "start_time": "2023-11-06T11:01:47.355704346Z"
    }
   },
   "id": "ca8216ad7d4638ca"
  },
  {
   "cell_type": "code",
   "execution_count": 121,
   "outputs": [
    {
     "data": {
      "text/plain": "numLabel\n16    487\n0     171\n14     66\n17     22\n2       5\n3       4\n6       4\n1       2\nName: count, dtype: int64"
     },
     "execution_count": 121,
     "metadata": {},
     "output_type": "execute_result"
    }
   ],
   "source": [
    "FileFrame['numLabel'].value_counts()"
   ],
   "metadata": {
    "collapsed": false,
    "ExecuteTime": {
     "end_time": "2023-11-06T11:01:47.580515332Z",
     "start_time": "2023-11-06T11:01:47.555227077Z"
    }
   },
   "id": "3f8fd384b6f4064c"
  },
  {
   "cell_type": "code",
   "execution_count": 122,
   "outputs": [],
   "source": [
    "temp['label'] = temp['numLabel']"
   ],
   "metadata": {
    "collapsed": false,
    "ExecuteTime": {
     "end_time": "2023-11-06T11:02:05.290787080Z",
     "start_time": "2023-11-06T11:02:05.286686280Z"
    }
   },
   "id": "b1d3a4de7027859"
  },
  {
   "cell_type": "code",
   "execution_count": 123,
   "outputs": [],
   "source": [
    "FinalLabelFrame = temp[['ID','label','extra']]"
   ],
   "metadata": {
    "collapsed": false,
    "ExecuteTime": {
     "end_time": "2023-11-06T11:02:05.673079200Z",
     "start_time": "2023-11-06T11:02:05.656240585Z"
    }
   },
   "id": "87f73ed71eece3ec"
  },
  {
   "cell_type": "code",
   "execution_count": 124,
   "outputs": [
    {
     "data": {
      "text/plain": "label\n16    12175\n0      4200\n14     1650\n17      325\n2       125\n3       100\n6       100\n1        50\nName: count, dtype: int64"
     },
     "execution_count": 124,
     "metadata": {},
     "output_type": "execute_result"
    }
   ],
   "source": [
    "FinalLabelFrame.label.value_counts()"
   ],
   "metadata": {
    "collapsed": false,
    "ExecuteTime": {
     "end_time": "2023-11-06T11:02:06.896972511Z",
     "start_time": "2023-11-06T11:02:06.886233121Z"
    }
   },
   "id": "3dca0a5e7e71c583"
  },
  {
   "cell_type": "code",
   "execution_count": 125,
   "outputs": [],
   "source": [
    "FinalLabelFrame.to_csv('Labels_parelsnoer_annotated.txt',sep='\\t', index=False, header=False)"
   ],
   "metadata": {
    "collapsed": false,
    "ExecuteTime": {
     "end_time": "2023-11-06T11:03:22.870950845Z",
     "start_time": "2023-11-06T11:03:22.791116456Z"
    }
   },
   "id": "75c5cf2b8ee37d8a"
  },
  {
   "cell_type": "code",
   "execution_count": null,
   "outputs": [],
   "source": [],
   "metadata": {
    "collapsed": false
   },
   "id": "c6a575d0c8cc2419"
  }
 ],
 "metadata": {
  "kernelspec": {
   "display_name": "Python 3",
   "language": "python",
   "name": "python3"
  },
  "language_info": {
   "codemirror_mode": {
    "name": "ipython",
    "version": 2
   },
   "file_extension": ".py",
   "mimetype": "text/x-python",
   "name": "python",
   "nbconvert_exporter": "python",
   "pygments_lexer": "ipython2",
   "version": "2.7.6"
  }
 },
 "nbformat": 4,
 "nbformat_minor": 5
}
