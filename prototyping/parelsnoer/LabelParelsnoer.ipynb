{
 "cells": [
  {
   "cell_type": "code",
   "execution_count": 1,
   "id": "initial_id",
   "metadata": {
    "collapsed": true,
    "ExecuteTime": {
     "end_time": "2023-11-16T09:52:11.750648264Z",
     "start_time": "2023-11-16T09:52:11.091148877Z"
    }
   },
   "outputs": [],
   "source": [
    "import pandas as pd"
   ]
  },
  {
   "cell_type": "code",
   "execution_count": 2,
   "outputs": [],
   "source": [
    "FileFrame = pd.read_csv('FileFrame.csv')"
   ],
   "metadata": {
    "collapsed": false,
    "ExecuteTime": {
     "end_time": "2023-11-16T09:52:11.753399464Z",
     "start_time": "2023-11-16T09:52:11.335250993Z"
    }
   },
   "id": "91e9c5962e4b4224"
  },
  {
   "cell_type": "code",
   "execution_count": 3,
   "outputs": [
    {
     "data": {
      "text/plain": "                                             originPath  \\\n0     /trinity/home/r098375/DDS/data/parelsnoer/data...   \n1     /trinity/home/r098375/DDS/data/parelsnoer/data...   \n2     /trinity/home/r098375/DDS/data/parelsnoer/data...   \n3     /trinity/home/r098375/DDS/data/parelsnoer/data...   \n4     /trinity/home/r098375/DDS/data/parelsnoer/data...   \n...                                                 ...   \n8403  /trinity/home/r098375/DDS/data/parelsnoer/data...   \n8404  /trinity/home/r098375/DDS/data/parelsnoer/data...   \n8405  /trinity/home/r098375/DDS/data/parelsnoer/data...   \n8406  /trinity/home/r098375/DDS/data/parelsnoer/data...   \n8407  /trinity/home/r098375/DDS/data/parelsnoer/data...   \n\n                                    structuredDicomPath  \\\n0     /trinity/home/r098375/DDS/data/parelsnoer/DICO...   \n1     /trinity/home/r098375/DDS/data/parelsnoer/DICO...   \n2     /trinity/home/r098375/DDS/data/parelsnoer/DICO...   \n3     /trinity/home/r098375/DDS/data/parelsnoer/DICO...   \n4     /trinity/home/r098375/DDS/data/parelsnoer/DICO...   \n...                                                 ...   \n8403  /trinity/home/r098375/DDS/data/parelsnoer/DICO...   \n8404  /trinity/home/r098375/DDS/data/parelsnoer/DICO...   \n8405  /trinity/home/r098375/DDS/data/parelsnoer/DICO...   \n8406  /trinity/home/r098375/DDS/data/parelsnoer/DICO...   \n8407  /trinity/home/r098375/DDS/data/parelsnoer/DICO...   \n\n                                             NIFTI_path sliced  \n0     /trinity/home/r098375/DDS/data/parelsnoer/NIFT...   True  \n1     /trinity/home/r098375/DDS/data/parelsnoer/NIFT...   True  \n2     /trinity/home/r098375/DDS/data/parelsnoer/NIFT...   True  \n3     /trinity/home/r098375/DDS/data/parelsnoer/NIFT...   True  \n4     /trinity/home/r098375/DDS/data/parelsnoer/NIFT...   True  \n...                                                 ...    ...  \n8403                                                NaN    NaN  \n8404                                                NaN    NaN  \n8405                                                NaN    NaN  \n8406                                                NaN    NaN  \n8407                                                NaN    NaN  \n\n[8408 rows x 4 columns]",
      "text/html": "<div>\n<style scoped>\n    .dataframe tbody tr th:only-of-type {\n        vertical-align: middle;\n    }\n\n    .dataframe tbody tr th {\n        vertical-align: top;\n    }\n\n    .dataframe thead th {\n        text-align: right;\n    }\n</style>\n<table border=\"1\" class=\"dataframe\">\n  <thead>\n    <tr style=\"text-align: right;\">\n      <th></th>\n      <th>originPath</th>\n      <th>structuredDicomPath</th>\n      <th>NIFTI_path</th>\n      <th>sliced</th>\n    </tr>\n  </thead>\n  <tbody>\n    <tr>\n      <th>0</th>\n      <td>/trinity/home/r098375/DDS/data/parelsnoer/data...</td>\n      <td>/trinity/home/r098375/DDS/data/parelsnoer/DICO...</td>\n      <td>/trinity/home/r098375/DDS/data/parelsnoer/NIFT...</td>\n      <td>True</td>\n    </tr>\n    <tr>\n      <th>1</th>\n      <td>/trinity/home/r098375/DDS/data/parelsnoer/data...</td>\n      <td>/trinity/home/r098375/DDS/data/parelsnoer/DICO...</td>\n      <td>/trinity/home/r098375/DDS/data/parelsnoer/NIFT...</td>\n      <td>True</td>\n    </tr>\n    <tr>\n      <th>2</th>\n      <td>/trinity/home/r098375/DDS/data/parelsnoer/data...</td>\n      <td>/trinity/home/r098375/DDS/data/parelsnoer/DICO...</td>\n      <td>/trinity/home/r098375/DDS/data/parelsnoer/NIFT...</td>\n      <td>True</td>\n    </tr>\n    <tr>\n      <th>3</th>\n      <td>/trinity/home/r098375/DDS/data/parelsnoer/data...</td>\n      <td>/trinity/home/r098375/DDS/data/parelsnoer/DICO...</td>\n      <td>/trinity/home/r098375/DDS/data/parelsnoer/NIFT...</td>\n      <td>True</td>\n    </tr>\n    <tr>\n      <th>4</th>\n      <td>/trinity/home/r098375/DDS/data/parelsnoer/data...</td>\n      <td>/trinity/home/r098375/DDS/data/parelsnoer/DICO...</td>\n      <td>/trinity/home/r098375/DDS/data/parelsnoer/NIFT...</td>\n      <td>True</td>\n    </tr>\n    <tr>\n      <th>...</th>\n      <td>...</td>\n      <td>...</td>\n      <td>...</td>\n      <td>...</td>\n    </tr>\n    <tr>\n      <th>8403</th>\n      <td>/trinity/home/r098375/DDS/data/parelsnoer/data...</td>\n      <td>/trinity/home/r098375/DDS/data/parelsnoer/DICO...</td>\n      <td>NaN</td>\n      <td>NaN</td>\n    </tr>\n    <tr>\n      <th>8404</th>\n      <td>/trinity/home/r098375/DDS/data/parelsnoer/data...</td>\n      <td>/trinity/home/r098375/DDS/data/parelsnoer/DICO...</td>\n      <td>NaN</td>\n      <td>NaN</td>\n    </tr>\n    <tr>\n      <th>8405</th>\n      <td>/trinity/home/r098375/DDS/data/parelsnoer/data...</td>\n      <td>/trinity/home/r098375/DDS/data/parelsnoer/DICO...</td>\n      <td>NaN</td>\n      <td>NaN</td>\n    </tr>\n    <tr>\n      <th>8406</th>\n      <td>/trinity/home/r098375/DDS/data/parelsnoer/data...</td>\n      <td>/trinity/home/r098375/DDS/data/parelsnoer/DICO...</td>\n      <td>NaN</td>\n      <td>NaN</td>\n    </tr>\n    <tr>\n      <th>8407</th>\n      <td>/trinity/home/r098375/DDS/data/parelsnoer/data...</td>\n      <td>/trinity/home/r098375/DDS/data/parelsnoer/DICO...</td>\n      <td>NaN</td>\n      <td>NaN</td>\n    </tr>\n  </tbody>\n</table>\n<p>8408 rows × 4 columns</p>\n</div>"
     },
     "execution_count": 3,
     "metadata": {},
     "output_type": "execute_result"
    }
   ],
   "source": [
    "FileFrame"
   ],
   "metadata": {
    "collapsed": false,
    "ExecuteTime": {
     "end_time": "2023-11-16T09:52:11.753854012Z",
     "start_time": "2023-11-16T09:52:11.374806088Z"
    }
   },
   "id": "8ebfacf5221ca6b7"
  },
  {
   "cell_type": "code",
   "execution_count": 4,
   "outputs": [],
   "source": [
    "FileFrame = FileFrame[FileFrame['NIFTI_path'].isna()==False].reset_index(drop=True)"
   ],
   "metadata": {
    "collapsed": false,
    "ExecuteTime": {
     "end_time": "2023-11-16T09:52:11.753946756Z",
     "start_time": "2023-11-16T09:52:11.385781328Z"
    }
   },
   "id": "28a2dd496dcd05d7"
  },
  {
   "cell_type": "code",
   "execution_count": 5,
   "outputs": [
    {
     "data": {
      "text/plain": "                                            originPath  \\\n0    /trinity/home/r098375/DDS/data/parelsnoer/data...   \n1    /trinity/home/r098375/DDS/data/parelsnoer/data...   \n2    /trinity/home/r098375/DDS/data/parelsnoer/data...   \n3    /trinity/home/r098375/DDS/data/parelsnoer/data...   \n4    /trinity/home/r098375/DDS/data/parelsnoer/data...   \n..                                                 ...   \n756  /trinity/home/r098375/DDS/data/parelsnoer/data...   \n757  /trinity/home/r098375/DDS/data/parelsnoer/data...   \n758  /trinity/home/r098375/DDS/data/parelsnoer/data...   \n759  /trinity/home/r098375/DDS/data/parelsnoer/data...   \n760  /trinity/home/r098375/DDS/data/parelsnoer/data...   \n\n                                   structuredDicomPath  \\\n0    /trinity/home/r098375/DDS/data/parelsnoer/DICO...   \n1    /trinity/home/r098375/DDS/data/parelsnoer/DICO...   \n2    /trinity/home/r098375/DDS/data/parelsnoer/DICO...   \n3    /trinity/home/r098375/DDS/data/parelsnoer/DICO...   \n4    /trinity/home/r098375/DDS/data/parelsnoer/DICO...   \n..                                                 ...   \n756  /trinity/home/r098375/DDS/data/parelsnoer/DICO...   \n757  /trinity/home/r098375/DDS/data/parelsnoer/DICO...   \n758  /trinity/home/r098375/DDS/data/parelsnoer/DICO...   \n759  /trinity/home/r098375/DDS/data/parelsnoer/DICO...   \n760  /trinity/home/r098375/DDS/data/parelsnoer/DICO...   \n\n                                            NIFTI_path sliced  \n0    /trinity/home/r098375/DDS/data/parelsnoer/NIFT...   True  \n1    /trinity/home/r098375/DDS/data/parelsnoer/NIFT...   True  \n2    /trinity/home/r098375/DDS/data/parelsnoer/NIFT...   True  \n3    /trinity/home/r098375/DDS/data/parelsnoer/NIFT...   True  \n4    /trinity/home/r098375/DDS/data/parelsnoer/NIFT...   True  \n..                                                 ...    ...  \n756  /trinity/home/r098375/DDS/data/parelsnoer/NIFT...   True  \n757  /trinity/home/r098375/DDS/data/parelsnoer/NIFT...   True  \n758  /trinity/home/r098375/DDS/data/parelsnoer/NIFT...   True  \n759  /trinity/home/r098375/DDS/data/parelsnoer/NIFT...   True  \n760  /trinity/home/r098375/DDS/data/parelsnoer/NIFT...   True  \n\n[761 rows x 4 columns]",
      "text/html": "<div>\n<style scoped>\n    .dataframe tbody tr th:only-of-type {\n        vertical-align: middle;\n    }\n\n    .dataframe tbody tr th {\n        vertical-align: top;\n    }\n\n    .dataframe thead th {\n        text-align: right;\n    }\n</style>\n<table border=\"1\" class=\"dataframe\">\n  <thead>\n    <tr style=\"text-align: right;\">\n      <th></th>\n      <th>originPath</th>\n      <th>structuredDicomPath</th>\n      <th>NIFTI_path</th>\n      <th>sliced</th>\n    </tr>\n  </thead>\n  <tbody>\n    <tr>\n      <th>0</th>\n      <td>/trinity/home/r098375/DDS/data/parelsnoer/data...</td>\n      <td>/trinity/home/r098375/DDS/data/parelsnoer/DICO...</td>\n      <td>/trinity/home/r098375/DDS/data/parelsnoer/NIFT...</td>\n      <td>True</td>\n    </tr>\n    <tr>\n      <th>1</th>\n      <td>/trinity/home/r098375/DDS/data/parelsnoer/data...</td>\n      <td>/trinity/home/r098375/DDS/data/parelsnoer/DICO...</td>\n      <td>/trinity/home/r098375/DDS/data/parelsnoer/NIFT...</td>\n      <td>True</td>\n    </tr>\n    <tr>\n      <th>2</th>\n      <td>/trinity/home/r098375/DDS/data/parelsnoer/data...</td>\n      <td>/trinity/home/r098375/DDS/data/parelsnoer/DICO...</td>\n      <td>/trinity/home/r098375/DDS/data/parelsnoer/NIFT...</td>\n      <td>True</td>\n    </tr>\n    <tr>\n      <th>3</th>\n      <td>/trinity/home/r098375/DDS/data/parelsnoer/data...</td>\n      <td>/trinity/home/r098375/DDS/data/parelsnoer/DICO...</td>\n      <td>/trinity/home/r098375/DDS/data/parelsnoer/NIFT...</td>\n      <td>True</td>\n    </tr>\n    <tr>\n      <th>4</th>\n      <td>/trinity/home/r098375/DDS/data/parelsnoer/data...</td>\n      <td>/trinity/home/r098375/DDS/data/parelsnoer/DICO...</td>\n      <td>/trinity/home/r098375/DDS/data/parelsnoer/NIFT...</td>\n      <td>True</td>\n    </tr>\n    <tr>\n      <th>...</th>\n      <td>...</td>\n      <td>...</td>\n      <td>...</td>\n      <td>...</td>\n    </tr>\n    <tr>\n      <th>756</th>\n      <td>/trinity/home/r098375/DDS/data/parelsnoer/data...</td>\n      <td>/trinity/home/r098375/DDS/data/parelsnoer/DICO...</td>\n      <td>/trinity/home/r098375/DDS/data/parelsnoer/NIFT...</td>\n      <td>True</td>\n    </tr>\n    <tr>\n      <th>757</th>\n      <td>/trinity/home/r098375/DDS/data/parelsnoer/data...</td>\n      <td>/trinity/home/r098375/DDS/data/parelsnoer/DICO...</td>\n      <td>/trinity/home/r098375/DDS/data/parelsnoer/NIFT...</td>\n      <td>True</td>\n    </tr>\n    <tr>\n      <th>758</th>\n      <td>/trinity/home/r098375/DDS/data/parelsnoer/data...</td>\n      <td>/trinity/home/r098375/DDS/data/parelsnoer/DICO...</td>\n      <td>/trinity/home/r098375/DDS/data/parelsnoer/NIFT...</td>\n      <td>True</td>\n    </tr>\n    <tr>\n      <th>759</th>\n      <td>/trinity/home/r098375/DDS/data/parelsnoer/data...</td>\n      <td>/trinity/home/r098375/DDS/data/parelsnoer/DICO...</td>\n      <td>/trinity/home/r098375/DDS/data/parelsnoer/NIFT...</td>\n      <td>True</td>\n    </tr>\n    <tr>\n      <th>760</th>\n      <td>/trinity/home/r098375/DDS/data/parelsnoer/data...</td>\n      <td>/trinity/home/r098375/DDS/data/parelsnoer/DICO...</td>\n      <td>/trinity/home/r098375/DDS/data/parelsnoer/NIFT...</td>\n      <td>True</td>\n    </tr>\n  </tbody>\n</table>\n<p>761 rows × 4 columns</p>\n</div>"
     },
     "execution_count": 5,
     "metadata": {},
     "output_type": "execute_result"
    }
   ],
   "source": [
    "FileFrame"
   ],
   "metadata": {
    "collapsed": false,
    "ExecuteTime": {
     "end_time": "2023-11-16T09:52:11.777011662Z",
     "start_time": "2023-11-16T09:52:11.431159687Z"
    }
   },
   "id": "fc0fc69920d94d54"
  },
  {
   "cell_type": "code",
   "execution_count": 6,
   "outputs": [],
   "source": [
    "def extractName(path):\n",
    "    return str(path).split('/')[10]"
   ],
   "metadata": {
    "collapsed": false,
    "ExecuteTime": {
     "end_time": "2023-11-16T09:52:11.777205282Z",
     "start_time": "2023-11-16T09:52:11.431322551Z"
    }
   },
   "id": "48dea7c3afff3654"
  },
  {
   "cell_type": "code",
   "execution_count": 7,
   "outputs": [],
   "source": [
    "FileFrame['name'] = FileFrame['originPath'].apply(extractName)"
   ],
   "metadata": {
    "collapsed": false,
    "ExecuteTime": {
     "end_time": "2023-11-16T09:52:11.777301280Z",
     "start_time": "2023-11-16T09:52:11.431386813Z"
    }
   },
   "id": "5c5af53c5c9f7d"
  },
  {
   "cell_type": "code",
   "execution_count": 8,
   "outputs": [],
   "source": [
    "FileFrame['numName'] = FileFrame['name'].apply(lambda x: str(x).split('-')[0])"
   ],
   "metadata": {
    "collapsed": false,
    "ExecuteTime": {
     "end_time": "2023-11-16T09:52:11.777393998Z",
     "start_time": "2023-11-16T09:52:11.431423665Z"
    }
   },
   "id": "3a2be5b6ba55bc61"
  },
  {
   "cell_type": "code",
   "execution_count": 9,
   "outputs": [
    {
     "data": {
      "text/plain": "array(['301', '803', '802', '302', '804', '801', '1001', '601', '101',\n       '501', '202', '604', '603', '1202', '1203', '602', '1302', '1303',\n       '1104', '1103', '1602', '1603', '1102', '1003', '1002', '1004',\n       '703', '303', '702', '704', '503', '504', '204', '502', '1502',\n       '1503', '401', '904', '903', '902', '402', '', '1403', '1402',\n       '701', '901', '201', '203', '102', '403', '608', '607', '1802',\n       '1803'], dtype=object)"
     },
     "execution_count": 9,
     "metadata": {},
     "output_type": "execute_result"
    }
   ],
   "source": [
    "FileFrame['numName'].unique()"
   ],
   "metadata": {
    "collapsed": false,
    "ExecuteTime": {
     "end_time": "2023-11-16T09:52:11.777655002Z",
     "start_time": "2023-11-16T09:52:11.431531380Z"
    }
   },
   "id": "6b0b59000e9c09d3"
  },
  {
   "cell_type": "code",
   "execution_count": 10,
   "outputs": [],
   "source": [
    "FileFrame['numName'] = FileFrame['numName'].apply(lambda x: '0' if x=='' else x)"
   ],
   "metadata": {
    "collapsed": false,
    "ExecuteTime": {
     "end_time": "2023-11-16T09:52:11.777751562Z",
     "start_time": "2023-11-16T09:52:11.431596464Z"
    }
   },
   "id": "e93afdbfe82c8ac8"
  },
  {
   "cell_type": "code",
   "execution_count": 11,
   "outputs": [],
   "source": [
    "FileFrame['r_numName'] = FileFrame['numName'].apply(lambda x:int(int(x)/100))"
   ],
   "metadata": {
    "collapsed": false,
    "ExecuteTime": {
     "end_time": "2023-11-16T09:52:11.778020980Z",
     "start_time": "2023-11-16T09:52:11.431634319Z"
    }
   },
   "id": "e3a9dc01851b6444"
  },
  {
   "cell_type": "code",
   "execution_count": 12,
   "outputs": [
    {
     "data": {
      "text/plain": "array([ 3,  8, 10,  6,  1,  5,  2, 12, 13, 11, 16,  7, 15,  4,  9,  0, 14,\n       18])"
     },
     "execution_count": 12,
     "metadata": {},
     "output_type": "execute_result"
    }
   ],
   "source": [
    "FileFrame['r_numName'].unique()"
   ],
   "metadata": {
    "collapsed": false,
    "ExecuteTime": {
     "end_time": "2023-11-16T09:52:11.778235551Z",
     "start_time": "2023-11-16T09:52:11.475188404Z"
    }
   },
   "id": "2e0fb93007dbb44a"
  },
  {
   "cell_type": "code",
   "execution_count": 13,
   "outputs": [
    {
     "data": {
      "text/plain": "array(['601-t_T1_IR_3mm', '604-isoDWI_uit_DTI', '603-dADC_uit_DTI',\n       '602-Reg___WIP_DTI_high_iso45dir_noDynStab_SENSE', '602-MPR_COR',\n       '608-min_MIP_2e_SWI_60_4__2', '607-min_MIP_1e_SWI_60_4__2',\n       '607-1st_dual_echo_SWI', '608-2nd_dual_echo_SWI'], dtype=object)"
     },
     "execution_count": 13,
     "metadata": {},
     "output_type": "execute_result"
    }
   ],
   "source": [
    "FileFrame[FileFrame['r_numName']==6]['name'].unique()"
   ],
   "metadata": {
    "collapsed": false,
    "ExecuteTime": {
     "end_time": "2023-11-16T09:52:11.778460183Z",
     "start_time": "2023-11-16T09:52:11.475286959Z"
    }
   },
   "id": "9f203f70c20786d8"
  },
  {
   "cell_type": "code",
   "execution_count": 14,
   "outputs": [],
   "source": [
    "def rename(origName):\n",
    "    on = origName.lower()\n",
    "    if 'cwk' in on or 'lwk' in on or 'twk' in on:\n",
    "        return 'spinal'\n",
    "    if 'phase' in on:\n",
    "        return 'phase'\n",
    "    if 'local' in on:\n",
    "        return 'localizer'\n",
    "    if 'unknown' in on:\n",
    "        return 'unknown'\n",
    "    if 'gd' in on:\n",
    "        if 't1' in on or 'fspgr' in on:\n",
    "            return 'T1c'\n",
    "    if 't1' in on or 'fspgr' in on or 'mpr' in on:\n",
    "        return 'T1w'\n",
    "    if 'flair' in on:\n",
    "        return 'flair'\n",
    "    if 'dti' in on:\n",
    "        return 'dti'\n",
    "    if 'dwi' in on:\n",
    "        return 'dwi'\n",
    "    if 't2' in on:\n",
    "        return 'T2w'\n",
    "    if 'adc' in on:\n",
    "        return 'adc'\n",
    "    if 'pwi' in on or 'perf' in on:\n",
    "        return 'pwi'\n",
    "    if 'pd' in on:\n",
    "        return 'pd'\n",
    "    if 'survey' in on:\n",
    "        return 'survey'\n",
    "    if 'asl' in on:\n",
    "        return 'asl'\n",
    "    if 'min' in on:\n",
    "        return 'minip'\n",
    "    if 'swi' in on:\n",
    "        return 'swi'\n",
    "    return 'other'"
   ],
   "metadata": {
    "collapsed": false,
    "ExecuteTime": {
     "end_time": "2023-11-16T09:52:11.778557855Z",
     "start_time": "2023-11-16T09:52:11.475357287Z"
    }
   },
   "id": "7320276738615aa3"
  },
  {
   "cell_type": "code",
   "execution_count": 15,
   "outputs": [],
   "source": [
    "FileFrame['renamed'] = FileFrame['name'].apply(rename)"
   ],
   "metadata": {
    "collapsed": false,
    "ExecuteTime": {
     "end_time": "2023-11-16T09:52:11.778652455Z",
     "start_time": "2023-11-16T09:52:11.475421438Z"
    }
   },
   "id": "18b4959b1d45af55"
  },
  {
   "cell_type": "code",
   "execution_count": 16,
   "outputs": [
    {
     "data": {
      "text/plain": "renamed\ndti        487\nT1w        171\nasl         66\nother       11\nsurvey       9\nT2w          5\nflair        4\nunknown      2\nminip        2\nT1c          2\nswi          2\nName: count, dtype: int64"
     },
     "execution_count": 16,
     "metadata": {},
     "output_type": "execute_result"
    }
   ],
   "source": [
    "FileFrame['renamed'].value_counts()"
   ],
   "metadata": {
    "collapsed": false,
    "ExecuteTime": {
     "end_time": "2023-11-16T09:52:11.778881891Z",
     "start_time": "2023-11-16T09:52:11.475489956Z"
    }
   },
   "id": "43d98e305192d414"
  },
  {
   "cell_type": "code",
   "execution_count": 17,
   "outputs": [],
   "source": [
    "def CreateIndivudalToUnifiedNameDocument(df, outfile):\n",
    "    with open(outfile, 'w') as f:\n",
    "        names = df['renamed'].unique()\n",
    "        for name in names:\n",
    "            nameMatching = df[df['renamed']==name]['name'].unique()\n",
    "            nameMatching = pd.Series(nameMatching).to_string()\n",
    "            f.write(f'{name}:\\n{nameMatching}\\n\\n{\"-\"*25}\\n')"
   ],
   "metadata": {
    "collapsed": false,
    "ExecuteTime": {
     "end_time": "2023-11-16T09:52:11.779031484Z",
     "start_time": "2023-11-16T09:52:11.475600218Z"
    }
   },
   "id": "2bcaffdc666364f4"
  },
  {
   "cell_type": "code",
   "execution_count": 18,
   "outputs": [],
   "source": [
    "outfile = 'Parelsnoer_NameMatching.txt'\n",
    "CreateIndivudalToUnifiedNameDocument(FileFrame, outfile)"
   ],
   "metadata": {
    "collapsed": false,
    "ExecuteTime": {
     "end_time": "2023-11-16T09:52:11.779417499Z",
     "start_time": "2023-11-16T09:52:11.475658806Z"
    }
   },
   "id": "9a0c73c2919c3c3c"
  },
  {
   "cell_type": "code",
   "execution_count": 19,
   "outputs": [
    {
     "data": {
      "text/plain": "1                                     803-dADC_uit_DTI\n2      802-Reg___WIP_DTI_high_iso45dir_noDynStab_SENSE\n4                                   804-isoDWI_uit_DTI\n5                      801-DTI_high_iso45dir_noDynStab\n10                                    803-dADC_uit_DTI\n                            ...                       \n753    802-Reg___WIP_DTI_high_iso45dir_noDynStab_SENSE\n754                                 804-isoDWI_uit_DTI\n758                                   803-dADC_uit_DTI\n759    802-Reg___WIP_DTI_high_iso45dir_noDynStab_SENSE\n760                                 804-isoDWI_uit_DTI\nName: name, Length: 487, dtype: object"
     },
     "execution_count": 19,
     "metadata": {},
     "output_type": "execute_result"
    }
   ],
   "source": [
    "FileFrame[FileFrame['renamed']=='dti']['name']"
   ],
   "metadata": {
    "collapsed": false,
    "ExecuteTime": {
     "end_time": "2023-11-16T09:52:11.779668271Z",
     "start_time": "2023-11-16T09:52:11.481983983Z"
    }
   },
   "id": "b29a91a2ef0ec318"
  },
  {
   "cell_type": "code",
   "execution_count": 20,
   "outputs": [],
   "source": [
    "labeldict = {\"T1\":0,\"T1_c\":1,\"T2\":2,\"T2-FLAIR\":3,\"PD\":4,\n",
    "             \"SWI\":5, \"GRE\":6, \"T2*\":7, \"DWI\":8, \"ADC\":9, \"BOLD\":10,\n",
    "             \"FlowSensitve\":11,\"PWI\":12,\"ASL\":13,\n",
    "             \"DTI\":14,\"Other\":15}\n",
    "def assignLabel(dataframe):\n",
    "    description = dataframe['description']\n",
    "    try:\n",
    "        weight = dataframe['weighting']\n",
    "    except:\n",
    "        weight = None\n",
    "    dropLabels = ['moco','mpr','hippo','spinal','unknown']\n",
    "    otherCategories = ['fieldmap','scout','calibration','phase','localizer','nan','NotMri','pet','CT','e2','minIP','moco','other','survey', 'qflow','smartbrain'] #moco is a motion corrected series\n",
    "    if description in dropLabels:\n",
    "        return -1\n",
    "    if description in otherCategories:\n",
    "        return 15\n",
    "    if description =='T1w':\n",
    "        return 0\n",
    "    if description =='T1c':\n",
    "        return 1\n",
    "    if weight:\n",
    "        if description =='T2w':\n",
    "            if weight=='T2':\n",
    "                return 2\n",
    "            if weight=='PD':\n",
    "                return 4\n",
    "    if description == 'T2w':\n",
    "        return 2\n",
    "    if 'FLAIR' in description:\n",
    "        return 3\n",
    "    if description =='pd':\n",
    "        return 4\n",
    "    if description =='swi':\n",
    "        return 5\n",
    "    if description.lower() =='gre':\n",
    "        return 6\n",
    "    if description =='T2star':\n",
    "        return 7\n",
    "    if description =='dwi':\n",
    "        return 8\n",
    "    if description =='adc':\n",
    "        return 9\n",
    "    if description =='bold':\n",
    "        return 10\n",
    "    if description =='angio': #flowsensitive\n",
    "        return 11\n",
    "    if description =='pwi' or description=='cbf':\n",
    "        return 12\n",
    "    if 'asl' in description:\n",
    "        return 13\n",
    "    if description == 'dti':\n",
    "        return 14\n",
    "    return -1"
   ],
   "metadata": {
    "collapsed": false,
    "ExecuteTime": {
     "end_time": "2023-11-16T09:52:11.779770888Z",
     "start_time": "2023-11-16T09:52:11.490659190Z"
    }
   },
   "id": "6750d40c6dfc6951"
  },
  {
   "cell_type": "code",
   "execution_count": 21,
   "outputs": [],
   "source": [
    "FileFrame['description'] = FileFrame['renamed']"
   ],
   "metadata": {
    "collapsed": false,
    "ExecuteTime": {
     "end_time": "2023-11-16T09:52:11.779860963Z",
     "start_time": "2023-11-16T09:52:11.494206482Z"
    }
   },
   "id": "eebf675a2bfae210"
  },
  {
   "cell_type": "code",
   "execution_count": 22,
   "outputs": [
    {
     "data": {
      "text/plain": "                                          originPath  \\\n0  /trinity/home/r098375/DDS/data/parelsnoer/data...   \n1  /trinity/home/r098375/DDS/data/parelsnoer/data...   \n2  /trinity/home/r098375/DDS/data/parelsnoer/data...   \n3  /trinity/home/r098375/DDS/data/parelsnoer/data...   \n4  /trinity/home/r098375/DDS/data/parelsnoer/data...   \n\n                                 structuredDicomPath  \\\n0  /trinity/home/r098375/DDS/data/parelsnoer/DICO...   \n1  /trinity/home/r098375/DDS/data/parelsnoer/DICO...   \n2  /trinity/home/r098375/DDS/data/parelsnoer/DICO...   \n3  /trinity/home/r098375/DDS/data/parelsnoer/DICO...   \n4  /trinity/home/r098375/DDS/data/parelsnoer/DICO...   \n\n                                          NIFTI_path sliced  \\\n0  /trinity/home/r098375/DDS/data/parelsnoer/NIFT...   True   \n1  /trinity/home/r098375/DDS/data/parelsnoer/NIFT...   True   \n2  /trinity/home/r098375/DDS/data/parelsnoer/NIFT...   True   \n3  /trinity/home/r098375/DDS/data/parelsnoer/NIFT...   True   \n4  /trinity/home/r098375/DDS/data/parelsnoer/NIFT...   True   \n\n                                              name numName  r_numName renamed  \\\n0                                          301-T1w     301          3     T1w   \n1                                 803-dADC_uit_DTI     803          8     dti   \n2  802-Reg___WIP_DTI_high_iso45dir_noDynStab_SENSE     802          8     dti   \n3                       302-MPR_s_T1W_3D_TFE_SENSE     302          3     T1w   \n4                               804-isoDWI_uit_DTI     804          8     dti   \n\n  description  \n0         T1w  \n1         dti  \n2         dti  \n3         T1w  \n4         dti  ",
      "text/html": "<div>\n<style scoped>\n    .dataframe tbody tr th:only-of-type {\n        vertical-align: middle;\n    }\n\n    .dataframe tbody tr th {\n        vertical-align: top;\n    }\n\n    .dataframe thead th {\n        text-align: right;\n    }\n</style>\n<table border=\"1\" class=\"dataframe\">\n  <thead>\n    <tr style=\"text-align: right;\">\n      <th></th>\n      <th>originPath</th>\n      <th>structuredDicomPath</th>\n      <th>NIFTI_path</th>\n      <th>sliced</th>\n      <th>name</th>\n      <th>numName</th>\n      <th>r_numName</th>\n      <th>renamed</th>\n      <th>description</th>\n    </tr>\n  </thead>\n  <tbody>\n    <tr>\n      <th>0</th>\n      <td>/trinity/home/r098375/DDS/data/parelsnoer/data...</td>\n      <td>/trinity/home/r098375/DDS/data/parelsnoer/DICO...</td>\n      <td>/trinity/home/r098375/DDS/data/parelsnoer/NIFT...</td>\n      <td>True</td>\n      <td>301-T1w</td>\n      <td>301</td>\n      <td>3</td>\n      <td>T1w</td>\n      <td>T1w</td>\n    </tr>\n    <tr>\n      <th>1</th>\n      <td>/trinity/home/r098375/DDS/data/parelsnoer/data...</td>\n      <td>/trinity/home/r098375/DDS/data/parelsnoer/DICO...</td>\n      <td>/trinity/home/r098375/DDS/data/parelsnoer/NIFT...</td>\n      <td>True</td>\n      <td>803-dADC_uit_DTI</td>\n      <td>803</td>\n      <td>8</td>\n      <td>dti</td>\n      <td>dti</td>\n    </tr>\n    <tr>\n      <th>2</th>\n      <td>/trinity/home/r098375/DDS/data/parelsnoer/data...</td>\n      <td>/trinity/home/r098375/DDS/data/parelsnoer/DICO...</td>\n      <td>/trinity/home/r098375/DDS/data/parelsnoer/NIFT...</td>\n      <td>True</td>\n      <td>802-Reg___WIP_DTI_high_iso45dir_noDynStab_SENSE</td>\n      <td>802</td>\n      <td>8</td>\n      <td>dti</td>\n      <td>dti</td>\n    </tr>\n    <tr>\n      <th>3</th>\n      <td>/trinity/home/r098375/DDS/data/parelsnoer/data...</td>\n      <td>/trinity/home/r098375/DDS/data/parelsnoer/DICO...</td>\n      <td>/trinity/home/r098375/DDS/data/parelsnoer/NIFT...</td>\n      <td>True</td>\n      <td>302-MPR_s_T1W_3D_TFE_SENSE</td>\n      <td>302</td>\n      <td>3</td>\n      <td>T1w</td>\n      <td>T1w</td>\n    </tr>\n    <tr>\n      <th>4</th>\n      <td>/trinity/home/r098375/DDS/data/parelsnoer/data...</td>\n      <td>/trinity/home/r098375/DDS/data/parelsnoer/DICO...</td>\n      <td>/trinity/home/r098375/DDS/data/parelsnoer/NIFT...</td>\n      <td>True</td>\n      <td>804-isoDWI_uit_DTI</td>\n      <td>804</td>\n      <td>8</td>\n      <td>dti</td>\n      <td>dti</td>\n    </tr>\n  </tbody>\n</table>\n</div>"
     },
     "execution_count": 22,
     "metadata": {},
     "output_type": "execute_result"
    }
   ],
   "source": [
    "FileFrame.head()"
   ],
   "metadata": {
    "collapsed": false,
    "ExecuteTime": {
     "end_time": "2023-11-16T09:52:11.780285244Z",
     "start_time": "2023-11-16T09:52:11.497407966Z"
    }
   },
   "id": "e41fc893893fa221"
  },
  {
   "cell_type": "code",
   "execution_count": 23,
   "outputs": [],
   "source": [
    "FileFrame['numLabel'] = FileFrame.apply(assignLabel, axis=1)"
   ],
   "metadata": {
    "collapsed": false,
    "ExecuteTime": {
     "end_time": "2023-11-16T09:52:11.780390408Z",
     "start_time": "2023-11-16T09:52:11.519052218Z"
    }
   },
   "id": "d8f14111c741563c"
  },
  {
   "cell_type": "code",
   "execution_count": 24,
   "outputs": [
    {
     "data": {
      "text/plain": "                                            originPath  \\\n0    /trinity/home/r098375/DDS/data/parelsnoer/data...   \n1    /trinity/home/r098375/DDS/data/parelsnoer/data...   \n2    /trinity/home/r098375/DDS/data/parelsnoer/data...   \n3    /trinity/home/r098375/DDS/data/parelsnoer/data...   \n4    /trinity/home/r098375/DDS/data/parelsnoer/data...   \n..                                                 ...   \n756  /trinity/home/r098375/DDS/data/parelsnoer/data...   \n757  /trinity/home/r098375/DDS/data/parelsnoer/data...   \n758  /trinity/home/r098375/DDS/data/parelsnoer/data...   \n759  /trinity/home/r098375/DDS/data/parelsnoer/data...   \n760  /trinity/home/r098375/DDS/data/parelsnoer/data...   \n\n                                   structuredDicomPath  \\\n0    /trinity/home/r098375/DDS/data/parelsnoer/DICO...   \n1    /trinity/home/r098375/DDS/data/parelsnoer/DICO...   \n2    /trinity/home/r098375/DDS/data/parelsnoer/DICO...   \n3    /trinity/home/r098375/DDS/data/parelsnoer/DICO...   \n4    /trinity/home/r098375/DDS/data/parelsnoer/DICO...   \n..                                                 ...   \n756  /trinity/home/r098375/DDS/data/parelsnoer/DICO...   \n757  /trinity/home/r098375/DDS/data/parelsnoer/DICO...   \n758  /trinity/home/r098375/DDS/data/parelsnoer/DICO...   \n759  /trinity/home/r098375/DDS/data/parelsnoer/DICO...   \n760  /trinity/home/r098375/DDS/data/parelsnoer/DICO...   \n\n                                            NIFTI_path sliced  \\\n0    /trinity/home/r098375/DDS/data/parelsnoer/NIFT...   True   \n1    /trinity/home/r098375/DDS/data/parelsnoer/NIFT...   True   \n2    /trinity/home/r098375/DDS/data/parelsnoer/NIFT...   True   \n3    /trinity/home/r098375/DDS/data/parelsnoer/NIFT...   True   \n4    /trinity/home/r098375/DDS/data/parelsnoer/NIFT...   True   \n..                                                 ...    ...   \n756  /trinity/home/r098375/DDS/data/parelsnoer/NIFT...   True   \n757  /trinity/home/r098375/DDS/data/parelsnoer/NIFT...   True   \n758  /trinity/home/r098375/DDS/data/parelsnoer/NIFT...   True   \n759  /trinity/home/r098375/DDS/data/parelsnoer/NIFT...   True   \n760  /trinity/home/r098375/DDS/data/parelsnoer/NIFT...   True   \n\n                                                name numName  r_numName  \\\n0                                            301-T1w     301          3   \n1                                   803-dADC_uit_DTI     803          8   \n2    802-Reg___WIP_DTI_high_iso45dir_noDynStab_SENSE     802          8   \n3                         302-MPR_s_T1W_3D_TFE_SENSE     302          3   \n4                                 804-isoDWI_uit_DTI     804          8   \n..                                               ...     ...        ...   \n756                       303-c_mpr_T1W_3D_TFE_SENSE     303          3   \n757                                      303-MPR_COR     303          3   \n758                                 803-dADC_uit_DTI     803          8   \n759  802-Reg___WIP_DTI_high_iso45dir_noDynStab_SENSE     802          8   \n760                               804-isoDWI_uit_DTI     804          8   \n\n    renamed description  numLabel  \n0       T1w         T1w         0  \n1       dti         dti        14  \n2       dti         dti        14  \n3       T1w         T1w         0  \n4       dti         dti        14  \n..      ...         ...       ...  \n756     T1w         T1w         0  \n757     T1w         T1w         0  \n758     dti         dti        14  \n759     dti         dti        14  \n760     dti         dti        14  \n\n[761 rows x 10 columns]",
      "text/html": "<div>\n<style scoped>\n    .dataframe tbody tr th:only-of-type {\n        vertical-align: middle;\n    }\n\n    .dataframe tbody tr th {\n        vertical-align: top;\n    }\n\n    .dataframe thead th {\n        text-align: right;\n    }\n</style>\n<table border=\"1\" class=\"dataframe\">\n  <thead>\n    <tr style=\"text-align: right;\">\n      <th></th>\n      <th>originPath</th>\n      <th>structuredDicomPath</th>\n      <th>NIFTI_path</th>\n      <th>sliced</th>\n      <th>name</th>\n      <th>numName</th>\n      <th>r_numName</th>\n      <th>renamed</th>\n      <th>description</th>\n      <th>numLabel</th>\n    </tr>\n  </thead>\n  <tbody>\n    <tr>\n      <th>0</th>\n      <td>/trinity/home/r098375/DDS/data/parelsnoer/data...</td>\n      <td>/trinity/home/r098375/DDS/data/parelsnoer/DICO...</td>\n      <td>/trinity/home/r098375/DDS/data/parelsnoer/NIFT...</td>\n      <td>True</td>\n      <td>301-T1w</td>\n      <td>301</td>\n      <td>3</td>\n      <td>T1w</td>\n      <td>T1w</td>\n      <td>0</td>\n    </tr>\n    <tr>\n      <th>1</th>\n      <td>/trinity/home/r098375/DDS/data/parelsnoer/data...</td>\n      <td>/trinity/home/r098375/DDS/data/parelsnoer/DICO...</td>\n      <td>/trinity/home/r098375/DDS/data/parelsnoer/NIFT...</td>\n      <td>True</td>\n      <td>803-dADC_uit_DTI</td>\n      <td>803</td>\n      <td>8</td>\n      <td>dti</td>\n      <td>dti</td>\n      <td>14</td>\n    </tr>\n    <tr>\n      <th>2</th>\n      <td>/trinity/home/r098375/DDS/data/parelsnoer/data...</td>\n      <td>/trinity/home/r098375/DDS/data/parelsnoer/DICO...</td>\n      <td>/trinity/home/r098375/DDS/data/parelsnoer/NIFT...</td>\n      <td>True</td>\n      <td>802-Reg___WIP_DTI_high_iso45dir_noDynStab_SENSE</td>\n      <td>802</td>\n      <td>8</td>\n      <td>dti</td>\n      <td>dti</td>\n      <td>14</td>\n    </tr>\n    <tr>\n      <th>3</th>\n      <td>/trinity/home/r098375/DDS/data/parelsnoer/data...</td>\n      <td>/trinity/home/r098375/DDS/data/parelsnoer/DICO...</td>\n      <td>/trinity/home/r098375/DDS/data/parelsnoer/NIFT...</td>\n      <td>True</td>\n      <td>302-MPR_s_T1W_3D_TFE_SENSE</td>\n      <td>302</td>\n      <td>3</td>\n      <td>T1w</td>\n      <td>T1w</td>\n      <td>0</td>\n    </tr>\n    <tr>\n      <th>4</th>\n      <td>/trinity/home/r098375/DDS/data/parelsnoer/data...</td>\n      <td>/trinity/home/r098375/DDS/data/parelsnoer/DICO...</td>\n      <td>/trinity/home/r098375/DDS/data/parelsnoer/NIFT...</td>\n      <td>True</td>\n      <td>804-isoDWI_uit_DTI</td>\n      <td>804</td>\n      <td>8</td>\n      <td>dti</td>\n      <td>dti</td>\n      <td>14</td>\n    </tr>\n    <tr>\n      <th>...</th>\n      <td>...</td>\n      <td>...</td>\n      <td>...</td>\n      <td>...</td>\n      <td>...</td>\n      <td>...</td>\n      <td>...</td>\n      <td>...</td>\n      <td>...</td>\n      <td>...</td>\n    </tr>\n    <tr>\n      <th>756</th>\n      <td>/trinity/home/r098375/DDS/data/parelsnoer/data...</td>\n      <td>/trinity/home/r098375/DDS/data/parelsnoer/DICO...</td>\n      <td>/trinity/home/r098375/DDS/data/parelsnoer/NIFT...</td>\n      <td>True</td>\n      <td>303-c_mpr_T1W_3D_TFE_SENSE</td>\n      <td>303</td>\n      <td>3</td>\n      <td>T1w</td>\n      <td>T1w</td>\n      <td>0</td>\n    </tr>\n    <tr>\n      <th>757</th>\n      <td>/trinity/home/r098375/DDS/data/parelsnoer/data...</td>\n      <td>/trinity/home/r098375/DDS/data/parelsnoer/DICO...</td>\n      <td>/trinity/home/r098375/DDS/data/parelsnoer/NIFT...</td>\n      <td>True</td>\n      <td>303-MPR_COR</td>\n      <td>303</td>\n      <td>3</td>\n      <td>T1w</td>\n      <td>T1w</td>\n      <td>0</td>\n    </tr>\n    <tr>\n      <th>758</th>\n      <td>/trinity/home/r098375/DDS/data/parelsnoer/data...</td>\n      <td>/trinity/home/r098375/DDS/data/parelsnoer/DICO...</td>\n      <td>/trinity/home/r098375/DDS/data/parelsnoer/NIFT...</td>\n      <td>True</td>\n      <td>803-dADC_uit_DTI</td>\n      <td>803</td>\n      <td>8</td>\n      <td>dti</td>\n      <td>dti</td>\n      <td>14</td>\n    </tr>\n    <tr>\n      <th>759</th>\n      <td>/trinity/home/r098375/DDS/data/parelsnoer/data...</td>\n      <td>/trinity/home/r098375/DDS/data/parelsnoer/DICO...</td>\n      <td>/trinity/home/r098375/DDS/data/parelsnoer/NIFT...</td>\n      <td>True</td>\n      <td>802-Reg___WIP_DTI_high_iso45dir_noDynStab_SENSE</td>\n      <td>802</td>\n      <td>8</td>\n      <td>dti</td>\n      <td>dti</td>\n      <td>14</td>\n    </tr>\n    <tr>\n      <th>760</th>\n      <td>/trinity/home/r098375/DDS/data/parelsnoer/data...</td>\n      <td>/trinity/home/r098375/DDS/data/parelsnoer/DICO...</td>\n      <td>/trinity/home/r098375/DDS/data/parelsnoer/NIFT...</td>\n      <td>True</td>\n      <td>804-isoDWI_uit_DTI</td>\n      <td>804</td>\n      <td>8</td>\n      <td>dti</td>\n      <td>dti</td>\n      <td>14</td>\n    </tr>\n  </tbody>\n</table>\n<p>761 rows × 10 columns</p>\n</div>"
     },
     "execution_count": 24,
     "metadata": {},
     "output_type": "execute_result"
    }
   ],
   "source": [
    "FileFrame"
   ],
   "metadata": {
    "collapsed": false,
    "ExecuteTime": {
     "end_time": "2023-11-16T09:52:11.780933648Z",
     "start_time": "2023-11-16T09:52:11.563195400Z"
    }
   },
   "id": "a5b66dbbff8dcc45"
  },
  {
   "cell_type": "code",
   "execution_count": 25,
   "outputs": [],
   "source": [
    "LabelFrame = pd.read_csv('Labels.txt',names=['ID','label','extra'],sep='\\t', dtype={'ID':str,'label':int,'extra':int})"
   ],
   "metadata": {
    "collapsed": false,
    "ExecuteTime": {
     "end_time": "2023-11-16T09:52:11.781039338Z",
     "start_time": "2023-11-16T09:52:11.563386071Z"
    }
   },
   "id": "b93398cb91c6dc8a"
  },
  {
   "cell_type": "code",
   "execution_count": 26,
   "outputs": [
    {
     "data": {
      "text/plain": "                                                      ID  label  extra\n0      /trinity/home/r098375/DDS/data/parelsnoer/NIFT...      0      0\n1      /trinity/home/r098375/DDS/data/parelsnoer/NIFT...      0      0\n2      /trinity/home/r098375/DDS/data/parelsnoer/NIFT...      0      0\n3      /trinity/home/r098375/DDS/data/parelsnoer/NIFT...      0      0\n4      /trinity/home/r098375/DDS/data/parelsnoer/NIFT...      0      0\n...                                                  ...    ...    ...\n60845  /trinity/home/r098375/DDS/data/parelsnoer/NIFT...      0      0\n60846  /trinity/home/r098375/DDS/data/parelsnoer/NIFT...      0      0\n60847  /trinity/home/r098375/DDS/data/parelsnoer/NIFT...      0      0\n60848  /trinity/home/r098375/DDS/data/parelsnoer/NIFT...      0      0\n60849  /trinity/home/r098375/DDS/data/parelsnoer/NIFT...      0      0\n\n[60850 rows x 3 columns]",
      "text/html": "<div>\n<style scoped>\n    .dataframe tbody tr th:only-of-type {\n        vertical-align: middle;\n    }\n\n    .dataframe tbody tr th {\n        vertical-align: top;\n    }\n\n    .dataframe thead th {\n        text-align: right;\n    }\n</style>\n<table border=\"1\" class=\"dataframe\">\n  <thead>\n    <tr style=\"text-align: right;\">\n      <th></th>\n      <th>ID</th>\n      <th>label</th>\n      <th>extra</th>\n    </tr>\n  </thead>\n  <tbody>\n    <tr>\n      <th>0</th>\n      <td>/trinity/home/r098375/DDS/data/parelsnoer/NIFT...</td>\n      <td>0</td>\n      <td>0</td>\n    </tr>\n    <tr>\n      <th>1</th>\n      <td>/trinity/home/r098375/DDS/data/parelsnoer/NIFT...</td>\n      <td>0</td>\n      <td>0</td>\n    </tr>\n    <tr>\n      <th>2</th>\n      <td>/trinity/home/r098375/DDS/data/parelsnoer/NIFT...</td>\n      <td>0</td>\n      <td>0</td>\n    </tr>\n    <tr>\n      <th>3</th>\n      <td>/trinity/home/r098375/DDS/data/parelsnoer/NIFT...</td>\n      <td>0</td>\n      <td>0</td>\n    </tr>\n    <tr>\n      <th>4</th>\n      <td>/trinity/home/r098375/DDS/data/parelsnoer/NIFT...</td>\n      <td>0</td>\n      <td>0</td>\n    </tr>\n    <tr>\n      <th>...</th>\n      <td>...</td>\n      <td>...</td>\n      <td>...</td>\n    </tr>\n    <tr>\n      <th>60845</th>\n      <td>/trinity/home/r098375/DDS/data/parelsnoer/NIFT...</td>\n      <td>0</td>\n      <td>0</td>\n    </tr>\n    <tr>\n      <th>60846</th>\n      <td>/trinity/home/r098375/DDS/data/parelsnoer/NIFT...</td>\n      <td>0</td>\n      <td>0</td>\n    </tr>\n    <tr>\n      <th>60847</th>\n      <td>/trinity/home/r098375/DDS/data/parelsnoer/NIFT...</td>\n      <td>0</td>\n      <td>0</td>\n    </tr>\n    <tr>\n      <th>60848</th>\n      <td>/trinity/home/r098375/DDS/data/parelsnoer/NIFT...</td>\n      <td>0</td>\n      <td>0</td>\n    </tr>\n    <tr>\n      <th>60849</th>\n      <td>/trinity/home/r098375/DDS/data/parelsnoer/NIFT...</td>\n      <td>0</td>\n      <td>0</td>\n    </tr>\n  </tbody>\n</table>\n<p>60850 rows × 3 columns</p>\n</div>"
     },
     "execution_count": 26,
     "metadata": {},
     "output_type": "execute_result"
    }
   ],
   "source": [
    "LabelFrame"
   ],
   "metadata": {
    "collapsed": false,
    "ExecuteTime": {
     "end_time": "2023-11-16T09:52:11.781768748Z",
     "start_time": "2023-11-16T09:52:11.667676624Z"
    }
   },
   "id": "9d3226547f2e0ecc"
  },
  {
   "cell_type": "code",
   "execution_count": 27,
   "outputs": [],
   "source": [
    "import os"
   ],
   "metadata": {
    "collapsed": false,
    "ExecuteTime": {
     "end_time": "2023-11-16T09:52:11.781848529Z",
     "start_time": "2023-11-16T09:52:11.711275400Z"
    }
   },
   "id": "b08f5069528710b6"
  },
  {
   "cell_type": "code",
   "execution_count": 28,
   "outputs": [],
   "source": [
    "def extractNiftiName(name):\n",
    "    name = name.rsplit('__',1)[0]\n",
    "    name = name.replace('NIFTI_SLICES','NIFTI')\n",
    "    name = name.split('_Scan')[0]\n",
    "    name = f'{name}.nii.gz'\n",
    "    if len(str(name).split('__')) > 3:\n",
    "        return None\n",
    "    return name"
   ],
   "metadata": {
    "collapsed": false,
    "ExecuteTime": {
     "end_time": "2023-11-16T09:52:11.781929991Z",
     "start_time": "2023-11-16T09:52:11.711394286Z"
    }
   },
   "id": "ad1aaec4c030a3e0"
  },
  {
   "cell_type": "code",
   "execution_count": 29,
   "outputs": [],
   "source": [
    "LabelFrame['nifti_name'] = LabelFrame['ID'].apply(extractNiftiName)"
   ],
   "metadata": {
    "collapsed": false,
    "ExecuteTime": {
     "end_time": "2023-11-16T09:52:11.840364698Z",
     "start_time": "2023-11-16T09:52:11.711468526Z"
    }
   },
   "id": "a8e08f7e2021b2ec"
  },
  {
   "cell_type": "code",
   "execution_count": 30,
   "outputs": [
    {
     "data": {
      "text/plain": "60850"
     },
     "execution_count": 30,
     "metadata": {},
     "output_type": "execute_result"
    }
   ],
   "source": [
    "len(LabelFrame)"
   ],
   "metadata": {
    "collapsed": false,
    "ExecuteTime": {
     "end_time": "2023-11-16T09:52:11.840705491Z",
     "start_time": "2023-11-16T09:52:11.755153181Z"
    }
   },
   "id": "5da96d2c5aa1a868"
  },
  {
   "cell_type": "code",
   "execution_count": 31,
   "outputs": [
    {
     "data": {
      "text/plain": "                                                  ID  label  extra nifti_name\n0  /trinity/home/r098375/DDS/data/parelsnoer/NIFT...      0      0       None\n1  /trinity/home/r098375/DDS/data/parelsnoer/NIFT...      0      0       None\n2  /trinity/home/r098375/DDS/data/parelsnoer/NIFT...      0      0       None\n3  /trinity/home/r098375/DDS/data/parelsnoer/NIFT...      0      0       None\n4  /trinity/home/r098375/DDS/data/parelsnoer/NIFT...      0      0       None",
      "text/html": "<div>\n<style scoped>\n    .dataframe tbody tr th:only-of-type {\n        vertical-align: middle;\n    }\n\n    .dataframe tbody tr th {\n        vertical-align: top;\n    }\n\n    .dataframe thead th {\n        text-align: right;\n    }\n</style>\n<table border=\"1\" class=\"dataframe\">\n  <thead>\n    <tr style=\"text-align: right;\">\n      <th></th>\n      <th>ID</th>\n      <th>label</th>\n      <th>extra</th>\n      <th>nifti_name</th>\n    </tr>\n  </thead>\n  <tbody>\n    <tr>\n      <th>0</th>\n      <td>/trinity/home/r098375/DDS/data/parelsnoer/NIFT...</td>\n      <td>0</td>\n      <td>0</td>\n      <td>None</td>\n    </tr>\n    <tr>\n      <th>1</th>\n      <td>/trinity/home/r098375/DDS/data/parelsnoer/NIFT...</td>\n      <td>0</td>\n      <td>0</td>\n      <td>None</td>\n    </tr>\n    <tr>\n      <th>2</th>\n      <td>/trinity/home/r098375/DDS/data/parelsnoer/NIFT...</td>\n      <td>0</td>\n      <td>0</td>\n      <td>None</td>\n    </tr>\n    <tr>\n      <th>3</th>\n      <td>/trinity/home/r098375/DDS/data/parelsnoer/NIFT...</td>\n      <td>0</td>\n      <td>0</td>\n      <td>None</td>\n    </tr>\n    <tr>\n      <th>4</th>\n      <td>/trinity/home/r098375/DDS/data/parelsnoer/NIFT...</td>\n      <td>0</td>\n      <td>0</td>\n      <td>None</td>\n    </tr>\n  </tbody>\n</table>\n</div>"
     },
     "execution_count": 31,
     "metadata": {},
     "output_type": "execute_result"
    }
   ],
   "source": [
    "LabelFrame.head()"
   ],
   "metadata": {
    "collapsed": false,
    "ExecuteTime": {
     "end_time": "2023-11-16T09:52:11.841026745Z",
     "start_time": "2023-11-16T09:52:11.755271558Z"
    }
   },
   "id": "64236870ad153f38"
  },
  {
   "cell_type": "code",
   "execution_count": 32,
   "outputs": [],
   "source": [
    "temp = LabelFrame.merge(FileFrame, how='inner', left_on='nifti_name', right_on=\"NIFTI_path\")"
   ],
   "metadata": {
    "collapsed": false,
    "ExecuteTime": {
     "end_time": "2023-11-16T09:52:11.985062490Z",
     "start_time": "2023-11-16T09:52:11.764786828Z"
    }
   },
   "id": "e1ec2ac9f9ed7966"
  },
  {
   "cell_type": "code",
   "execution_count": 33,
   "outputs": [
    {
     "data": {
      "text/plain": "                                                      ID  label  extra  \\\n0      /trinity/home/r098375/DDS/data/parelsnoer/NIFT...      0      0   \n1      /trinity/home/r098375/DDS/data/parelsnoer/NIFT...      0      0   \n2      /trinity/home/r098375/DDS/data/parelsnoer/NIFT...      0      0   \n3      /trinity/home/r098375/DDS/data/parelsnoer/NIFT...      0      0   \n4      /trinity/home/r098375/DDS/data/parelsnoer/NIFT...      0      0   \n...                                                  ...    ...    ...   \n18720  /trinity/home/r098375/DDS/data/parelsnoer/NIFT...      0      0   \n18721  /trinity/home/r098375/DDS/data/parelsnoer/NIFT...      0      0   \n18722  /trinity/home/r098375/DDS/data/parelsnoer/NIFT...      0      0   \n18723  /trinity/home/r098375/DDS/data/parelsnoer/NIFT...      0      0   \n18724  /trinity/home/r098375/DDS/data/parelsnoer/NIFT...      0      0   \n\n                                              nifti_name  \\\n0      /trinity/home/r098375/DDS/data/parelsnoer/NIFT...   \n1      /trinity/home/r098375/DDS/data/parelsnoer/NIFT...   \n2      /trinity/home/r098375/DDS/data/parelsnoer/NIFT...   \n3      /trinity/home/r098375/DDS/data/parelsnoer/NIFT...   \n4      /trinity/home/r098375/DDS/data/parelsnoer/NIFT...   \n...                                                  ...   \n18720  /trinity/home/r098375/DDS/data/parelsnoer/NIFT...   \n18721  /trinity/home/r098375/DDS/data/parelsnoer/NIFT...   \n18722  /trinity/home/r098375/DDS/data/parelsnoer/NIFT...   \n18723  /trinity/home/r098375/DDS/data/parelsnoer/NIFT...   \n18724  /trinity/home/r098375/DDS/data/parelsnoer/NIFT...   \n\n                                              originPath  \\\n0      /trinity/home/r098375/DDS/data/parelsnoer/data...   \n1      /trinity/home/r098375/DDS/data/parelsnoer/data...   \n2      /trinity/home/r098375/DDS/data/parelsnoer/data...   \n3      /trinity/home/r098375/DDS/data/parelsnoer/data...   \n4      /trinity/home/r098375/DDS/data/parelsnoer/data...   \n...                                                  ...   \n18720  /trinity/home/r098375/DDS/data/parelsnoer/data...   \n18721  /trinity/home/r098375/DDS/data/parelsnoer/data...   \n18722  /trinity/home/r098375/DDS/data/parelsnoer/data...   \n18723  /trinity/home/r098375/DDS/data/parelsnoer/data...   \n18724  /trinity/home/r098375/DDS/data/parelsnoer/data...   \n\n                                     structuredDicomPath  \\\n0      /trinity/home/r098375/DDS/data/parelsnoer/DICO...   \n1      /trinity/home/r098375/DDS/data/parelsnoer/DICO...   \n2      /trinity/home/r098375/DDS/data/parelsnoer/DICO...   \n3      /trinity/home/r098375/DDS/data/parelsnoer/DICO...   \n4      /trinity/home/r098375/DDS/data/parelsnoer/DICO...   \n...                                                  ...   \n18720  /trinity/home/r098375/DDS/data/parelsnoer/DICO...   \n18721  /trinity/home/r098375/DDS/data/parelsnoer/DICO...   \n18722  /trinity/home/r098375/DDS/data/parelsnoer/DICO...   \n18723  /trinity/home/r098375/DDS/data/parelsnoer/DICO...   \n18724  /trinity/home/r098375/DDS/data/parelsnoer/DICO...   \n\n                                              NIFTI_path sliced  \\\n0      /trinity/home/r098375/DDS/data/parelsnoer/NIFT...   True   \n1      /trinity/home/r098375/DDS/data/parelsnoer/NIFT...   True   \n2      /trinity/home/r098375/DDS/data/parelsnoer/NIFT...   True   \n3      /trinity/home/r098375/DDS/data/parelsnoer/NIFT...   True   \n4      /trinity/home/r098375/DDS/data/parelsnoer/NIFT...   True   \n...                                                  ...    ...   \n18720  /trinity/home/r098375/DDS/data/parelsnoer/NIFT...   True   \n18721  /trinity/home/r098375/DDS/data/parelsnoer/NIFT...   True   \n18722  /trinity/home/r098375/DDS/data/parelsnoer/NIFT...   True   \n18723  /trinity/home/r098375/DDS/data/parelsnoer/NIFT...   True   \n18724  /trinity/home/r098375/DDS/data/parelsnoer/NIFT...   True   \n\n                                                  name numName  r_numName  \\\n0                                   704-isoDWI_uit_DTI     704          7   \n1                                   704-isoDWI_uit_DTI     704          7   \n2                                   704-isoDWI_uit_DTI     704          7   \n3                                   704-isoDWI_uit_DTI     704          7   \n4                                   704-isoDWI_uit_DTI     704          7   \n...                                                ...     ...        ...   \n18720  602-Reg___WIP_DTI_high_iso45dir_noDynStab_SENSE     602          6   \n18721  602-Reg___WIP_DTI_high_iso45dir_noDynStab_SENSE     602          6   \n18722  602-Reg___WIP_DTI_high_iso45dir_noDynStab_SENSE     602          6   \n18723  602-Reg___WIP_DTI_high_iso45dir_noDynStab_SENSE     602          6   \n18724  602-Reg___WIP_DTI_high_iso45dir_noDynStab_SENSE     602          6   \n\n      renamed description  numLabel  \n0         dti         dti        14  \n1         dti         dti        14  \n2         dti         dti        14  \n3         dti         dti        14  \n4         dti         dti        14  \n...       ...         ...       ...  \n18720     dti         dti        14  \n18721     dti         dti        14  \n18722     dti         dti        14  \n18723     dti         dti        14  \n18724     dti         dti        14  \n\n[18725 rows x 14 columns]",
      "text/html": "<div>\n<style scoped>\n    .dataframe tbody tr th:only-of-type {\n        vertical-align: middle;\n    }\n\n    .dataframe tbody tr th {\n        vertical-align: top;\n    }\n\n    .dataframe thead th {\n        text-align: right;\n    }\n</style>\n<table border=\"1\" class=\"dataframe\">\n  <thead>\n    <tr style=\"text-align: right;\">\n      <th></th>\n      <th>ID</th>\n      <th>label</th>\n      <th>extra</th>\n      <th>nifti_name</th>\n      <th>originPath</th>\n      <th>structuredDicomPath</th>\n      <th>NIFTI_path</th>\n      <th>sliced</th>\n      <th>name</th>\n      <th>numName</th>\n      <th>r_numName</th>\n      <th>renamed</th>\n      <th>description</th>\n      <th>numLabel</th>\n    </tr>\n  </thead>\n  <tbody>\n    <tr>\n      <th>0</th>\n      <td>/trinity/home/r098375/DDS/data/parelsnoer/NIFT...</td>\n      <td>0</td>\n      <td>0</td>\n      <td>/trinity/home/r098375/DDS/data/parelsnoer/NIFT...</td>\n      <td>/trinity/home/r098375/DDS/data/parelsnoer/data...</td>\n      <td>/trinity/home/r098375/DDS/data/parelsnoer/DICO...</td>\n      <td>/trinity/home/r098375/DDS/data/parelsnoer/NIFT...</td>\n      <td>True</td>\n      <td>704-isoDWI_uit_DTI</td>\n      <td>704</td>\n      <td>7</td>\n      <td>dti</td>\n      <td>dti</td>\n      <td>14</td>\n    </tr>\n    <tr>\n      <th>1</th>\n      <td>/trinity/home/r098375/DDS/data/parelsnoer/NIFT...</td>\n      <td>0</td>\n      <td>0</td>\n      <td>/trinity/home/r098375/DDS/data/parelsnoer/NIFT...</td>\n      <td>/trinity/home/r098375/DDS/data/parelsnoer/data...</td>\n      <td>/trinity/home/r098375/DDS/data/parelsnoer/DICO...</td>\n      <td>/trinity/home/r098375/DDS/data/parelsnoer/NIFT...</td>\n      <td>True</td>\n      <td>704-isoDWI_uit_DTI</td>\n      <td>704</td>\n      <td>7</td>\n      <td>dti</td>\n      <td>dti</td>\n      <td>14</td>\n    </tr>\n    <tr>\n      <th>2</th>\n      <td>/trinity/home/r098375/DDS/data/parelsnoer/NIFT...</td>\n      <td>0</td>\n      <td>0</td>\n      <td>/trinity/home/r098375/DDS/data/parelsnoer/NIFT...</td>\n      <td>/trinity/home/r098375/DDS/data/parelsnoer/data...</td>\n      <td>/trinity/home/r098375/DDS/data/parelsnoer/DICO...</td>\n      <td>/trinity/home/r098375/DDS/data/parelsnoer/NIFT...</td>\n      <td>True</td>\n      <td>704-isoDWI_uit_DTI</td>\n      <td>704</td>\n      <td>7</td>\n      <td>dti</td>\n      <td>dti</td>\n      <td>14</td>\n    </tr>\n    <tr>\n      <th>3</th>\n      <td>/trinity/home/r098375/DDS/data/parelsnoer/NIFT...</td>\n      <td>0</td>\n      <td>0</td>\n      <td>/trinity/home/r098375/DDS/data/parelsnoer/NIFT...</td>\n      <td>/trinity/home/r098375/DDS/data/parelsnoer/data...</td>\n      <td>/trinity/home/r098375/DDS/data/parelsnoer/DICO...</td>\n      <td>/trinity/home/r098375/DDS/data/parelsnoer/NIFT...</td>\n      <td>True</td>\n      <td>704-isoDWI_uit_DTI</td>\n      <td>704</td>\n      <td>7</td>\n      <td>dti</td>\n      <td>dti</td>\n      <td>14</td>\n    </tr>\n    <tr>\n      <th>4</th>\n      <td>/trinity/home/r098375/DDS/data/parelsnoer/NIFT...</td>\n      <td>0</td>\n      <td>0</td>\n      <td>/trinity/home/r098375/DDS/data/parelsnoer/NIFT...</td>\n      <td>/trinity/home/r098375/DDS/data/parelsnoer/data...</td>\n      <td>/trinity/home/r098375/DDS/data/parelsnoer/DICO...</td>\n      <td>/trinity/home/r098375/DDS/data/parelsnoer/NIFT...</td>\n      <td>True</td>\n      <td>704-isoDWI_uit_DTI</td>\n      <td>704</td>\n      <td>7</td>\n      <td>dti</td>\n      <td>dti</td>\n      <td>14</td>\n    </tr>\n    <tr>\n      <th>...</th>\n      <td>...</td>\n      <td>...</td>\n      <td>...</td>\n      <td>...</td>\n      <td>...</td>\n      <td>...</td>\n      <td>...</td>\n      <td>...</td>\n      <td>...</td>\n      <td>...</td>\n      <td>...</td>\n      <td>...</td>\n      <td>...</td>\n      <td>...</td>\n    </tr>\n    <tr>\n      <th>18720</th>\n      <td>/trinity/home/r098375/DDS/data/parelsnoer/NIFT...</td>\n      <td>0</td>\n      <td>0</td>\n      <td>/trinity/home/r098375/DDS/data/parelsnoer/NIFT...</td>\n      <td>/trinity/home/r098375/DDS/data/parelsnoer/data...</td>\n      <td>/trinity/home/r098375/DDS/data/parelsnoer/DICO...</td>\n      <td>/trinity/home/r098375/DDS/data/parelsnoer/NIFT...</td>\n      <td>True</td>\n      <td>602-Reg___WIP_DTI_high_iso45dir_noDynStab_SENSE</td>\n      <td>602</td>\n      <td>6</td>\n      <td>dti</td>\n      <td>dti</td>\n      <td>14</td>\n    </tr>\n    <tr>\n      <th>18721</th>\n      <td>/trinity/home/r098375/DDS/data/parelsnoer/NIFT...</td>\n      <td>0</td>\n      <td>0</td>\n      <td>/trinity/home/r098375/DDS/data/parelsnoer/NIFT...</td>\n      <td>/trinity/home/r098375/DDS/data/parelsnoer/data...</td>\n      <td>/trinity/home/r098375/DDS/data/parelsnoer/DICO...</td>\n      <td>/trinity/home/r098375/DDS/data/parelsnoer/NIFT...</td>\n      <td>True</td>\n      <td>602-Reg___WIP_DTI_high_iso45dir_noDynStab_SENSE</td>\n      <td>602</td>\n      <td>6</td>\n      <td>dti</td>\n      <td>dti</td>\n      <td>14</td>\n    </tr>\n    <tr>\n      <th>18722</th>\n      <td>/trinity/home/r098375/DDS/data/parelsnoer/NIFT...</td>\n      <td>0</td>\n      <td>0</td>\n      <td>/trinity/home/r098375/DDS/data/parelsnoer/NIFT...</td>\n      <td>/trinity/home/r098375/DDS/data/parelsnoer/data...</td>\n      <td>/trinity/home/r098375/DDS/data/parelsnoer/DICO...</td>\n      <td>/trinity/home/r098375/DDS/data/parelsnoer/NIFT...</td>\n      <td>True</td>\n      <td>602-Reg___WIP_DTI_high_iso45dir_noDynStab_SENSE</td>\n      <td>602</td>\n      <td>6</td>\n      <td>dti</td>\n      <td>dti</td>\n      <td>14</td>\n    </tr>\n    <tr>\n      <th>18723</th>\n      <td>/trinity/home/r098375/DDS/data/parelsnoer/NIFT...</td>\n      <td>0</td>\n      <td>0</td>\n      <td>/trinity/home/r098375/DDS/data/parelsnoer/NIFT...</td>\n      <td>/trinity/home/r098375/DDS/data/parelsnoer/data...</td>\n      <td>/trinity/home/r098375/DDS/data/parelsnoer/DICO...</td>\n      <td>/trinity/home/r098375/DDS/data/parelsnoer/NIFT...</td>\n      <td>True</td>\n      <td>602-Reg___WIP_DTI_high_iso45dir_noDynStab_SENSE</td>\n      <td>602</td>\n      <td>6</td>\n      <td>dti</td>\n      <td>dti</td>\n      <td>14</td>\n    </tr>\n    <tr>\n      <th>18724</th>\n      <td>/trinity/home/r098375/DDS/data/parelsnoer/NIFT...</td>\n      <td>0</td>\n      <td>0</td>\n      <td>/trinity/home/r098375/DDS/data/parelsnoer/NIFT...</td>\n      <td>/trinity/home/r098375/DDS/data/parelsnoer/data...</td>\n      <td>/trinity/home/r098375/DDS/data/parelsnoer/DICO...</td>\n      <td>/trinity/home/r098375/DDS/data/parelsnoer/NIFT...</td>\n      <td>True</td>\n      <td>602-Reg___WIP_DTI_high_iso45dir_noDynStab_SENSE</td>\n      <td>602</td>\n      <td>6</td>\n      <td>dti</td>\n      <td>dti</td>\n      <td>14</td>\n    </tr>\n  </tbody>\n</table>\n<p>18725 rows × 14 columns</p>\n</div>"
     },
     "execution_count": 33,
     "metadata": {},
     "output_type": "execute_result"
    }
   ],
   "source": [
    "temp"
   ],
   "metadata": {
    "collapsed": false,
    "ExecuteTime": {
     "end_time": "2023-11-16T09:52:12.053935197Z",
     "start_time": "2023-11-16T09:52:11.791342372Z"
    }
   },
   "id": "2502a713672c92bc"
  },
  {
   "cell_type": "code",
   "execution_count": 34,
   "outputs": [
    {
     "data": {
      "text/plain": "18725"
     },
     "execution_count": 34,
     "metadata": {},
     "output_type": "execute_result"
    }
   ],
   "source": [
    "len(temp)"
   ],
   "metadata": {
    "collapsed": false,
    "ExecuteTime": {
     "end_time": "2023-11-16T09:52:12.054182191Z",
     "start_time": "2023-11-16T09:52:11.830830262Z"
    }
   },
   "id": "d756626715e98e0b"
  },
  {
   "cell_type": "code",
   "execution_count": 35,
   "outputs": [
    {
     "data": {
      "text/plain": "description\ndti       487.0\nT1w       168.0\nasl        66.0\nother      10.0\nT2w         5.0\nflair       4.0\nsurvey      3.0\nT1c         2.0\nminip       2.0\nswi         2.0\nName: count, dtype: float64"
     },
     "execution_count": 35,
     "metadata": {},
     "output_type": "execute_result"
    }
   ],
   "source": [
    "temp['description'].value_counts()/25"
   ],
   "metadata": {
    "collapsed": false,
    "ExecuteTime": {
     "end_time": "2023-11-16T09:52:12.054395810Z",
     "start_time": "2023-11-16T09:52:11.831045209Z"
    }
   },
   "id": "fadaa8ebb5130994"
  },
  {
   "cell_type": "code",
   "execution_count": 36,
   "outputs": [
    {
     "data": {
      "text/plain": "renamed\ndti        487\nT1w        171\nasl         66\nother       11\nsurvey       9\nT2w          5\nflair        4\nunknown      2\nminip        2\nT1c          2\nswi          2\nName: count, dtype: int64"
     },
     "execution_count": 36,
     "metadata": {},
     "output_type": "execute_result"
    }
   ],
   "source": [
    "FileFrame['renamed'].value_counts()"
   ],
   "metadata": {
    "collapsed": false,
    "ExecuteTime": {
     "end_time": "2023-11-16T09:52:12.054612899Z",
     "start_time": "2023-11-16T09:52:11.831109992Z"
    }
   },
   "id": "ca8216ad7d4638ca"
  },
  {
   "cell_type": "code",
   "execution_count": 37,
   "outputs": [
    {
     "data": {
      "text/plain": "numLabel\n 14    487\n 0     171\n 13     66\n 15     20\n-1       8\n 2       5\n 1       2\n 5       2\nName: count, dtype: int64"
     },
     "execution_count": 37,
     "metadata": {},
     "output_type": "execute_result"
    }
   ],
   "source": [
    "FileFrame['numLabel'].value_counts()"
   ],
   "metadata": {
    "collapsed": false,
    "ExecuteTime": {
     "end_time": "2023-11-16T09:52:12.054826022Z",
     "start_time": "2023-11-16T09:52:11.831164696Z"
    }
   },
   "id": "3f8fd384b6f4064c"
  },
  {
   "cell_type": "code",
   "execution_count": 38,
   "outputs": [],
   "source": [
    "temp['label'] = temp['numLabel']"
   ],
   "metadata": {
    "collapsed": false,
    "ExecuteTime": {
     "end_time": "2023-11-16T09:52:12.054921601Z",
     "start_time": "2023-11-16T09:52:11.831211892Z"
    }
   },
   "id": "b1d3a4de7027859"
  },
  {
   "cell_type": "code",
   "execution_count": 39,
   "outputs": [],
   "source": [
    "FinalLabelFrame = temp[['ID','label','extra']]"
   ],
   "metadata": {
    "collapsed": false,
    "ExecuteTime": {
     "end_time": "2023-11-16T09:52:12.055065744Z",
     "start_time": "2023-11-16T09:52:11.831249981Z"
    }
   },
   "id": "87f73ed71eece3ec"
  },
  {
   "cell_type": "code",
   "execution_count": 40,
   "outputs": [
    {
     "data": {
      "text/plain": "label\n 14    12175\n 0      4200\n 13     1650\n 15      325\n-1       150\n 2       125\n 1        50\n 5        50\nName: count, dtype: int64"
     },
     "execution_count": 40,
     "metadata": {},
     "output_type": "execute_result"
    }
   ],
   "source": [
    "FinalLabelFrame.label.value_counts()"
   ],
   "metadata": {
    "collapsed": false,
    "ExecuteTime": {
     "end_time": "2023-11-16T09:52:12.055368688Z",
     "start_time": "2023-11-16T09:52:11.831928165Z"
    }
   },
   "id": "3dca0a5e7e71c583"
  },
  {
   "cell_type": "code",
   "execution_count": 42,
   "outputs": [],
   "source": [
    "FinalLabelFrame = FinalLabelFrame[FinalLabelFrame['label']!=-1]"
   ],
   "metadata": {
    "collapsed": false,
    "ExecuteTime": {
     "end_time": "2023-11-16T09:53:13.471797903Z",
     "start_time": "2023-11-16T09:53:13.424541421Z"
    }
   },
   "id": "7613a3c48ed07cc4"
  },
  {
   "cell_type": "code",
   "execution_count": 43,
   "outputs": [
    {
     "data": {
      "text/plain": "                                                      ID  label  extra\n0      /trinity/home/r098375/DDS/data/parelsnoer/NIFT...     14      0\n1      /trinity/home/r098375/DDS/data/parelsnoer/NIFT...     14      0\n2      /trinity/home/r098375/DDS/data/parelsnoer/NIFT...     14      0\n3      /trinity/home/r098375/DDS/data/parelsnoer/NIFT...     14      0\n4      /trinity/home/r098375/DDS/data/parelsnoer/NIFT...     14      0\n...                                                  ...    ...    ...\n18720  /trinity/home/r098375/DDS/data/parelsnoer/NIFT...     14      0\n18721  /trinity/home/r098375/DDS/data/parelsnoer/NIFT...     14      0\n18722  /trinity/home/r098375/DDS/data/parelsnoer/NIFT...     14      0\n18723  /trinity/home/r098375/DDS/data/parelsnoer/NIFT...     14      0\n18724  /trinity/home/r098375/DDS/data/parelsnoer/NIFT...     14      0\n\n[18575 rows x 3 columns]",
      "text/html": "<div>\n<style scoped>\n    .dataframe tbody tr th:only-of-type {\n        vertical-align: middle;\n    }\n\n    .dataframe tbody tr th {\n        vertical-align: top;\n    }\n\n    .dataframe thead th {\n        text-align: right;\n    }\n</style>\n<table border=\"1\" class=\"dataframe\">\n  <thead>\n    <tr style=\"text-align: right;\">\n      <th></th>\n      <th>ID</th>\n      <th>label</th>\n      <th>extra</th>\n    </tr>\n  </thead>\n  <tbody>\n    <tr>\n      <th>0</th>\n      <td>/trinity/home/r098375/DDS/data/parelsnoer/NIFT...</td>\n      <td>14</td>\n      <td>0</td>\n    </tr>\n    <tr>\n      <th>1</th>\n      <td>/trinity/home/r098375/DDS/data/parelsnoer/NIFT...</td>\n      <td>14</td>\n      <td>0</td>\n    </tr>\n    <tr>\n      <th>2</th>\n      <td>/trinity/home/r098375/DDS/data/parelsnoer/NIFT...</td>\n      <td>14</td>\n      <td>0</td>\n    </tr>\n    <tr>\n      <th>3</th>\n      <td>/trinity/home/r098375/DDS/data/parelsnoer/NIFT...</td>\n      <td>14</td>\n      <td>0</td>\n    </tr>\n    <tr>\n      <th>4</th>\n      <td>/trinity/home/r098375/DDS/data/parelsnoer/NIFT...</td>\n      <td>14</td>\n      <td>0</td>\n    </tr>\n    <tr>\n      <th>...</th>\n      <td>...</td>\n      <td>...</td>\n      <td>...</td>\n    </tr>\n    <tr>\n      <th>18720</th>\n      <td>/trinity/home/r098375/DDS/data/parelsnoer/NIFT...</td>\n      <td>14</td>\n      <td>0</td>\n    </tr>\n    <tr>\n      <th>18721</th>\n      <td>/trinity/home/r098375/DDS/data/parelsnoer/NIFT...</td>\n      <td>14</td>\n      <td>0</td>\n    </tr>\n    <tr>\n      <th>18722</th>\n      <td>/trinity/home/r098375/DDS/data/parelsnoer/NIFT...</td>\n      <td>14</td>\n      <td>0</td>\n    </tr>\n    <tr>\n      <th>18723</th>\n      <td>/trinity/home/r098375/DDS/data/parelsnoer/NIFT...</td>\n      <td>14</td>\n      <td>0</td>\n    </tr>\n    <tr>\n      <th>18724</th>\n      <td>/trinity/home/r098375/DDS/data/parelsnoer/NIFT...</td>\n      <td>14</td>\n      <td>0</td>\n    </tr>\n  </tbody>\n</table>\n<p>18575 rows × 3 columns</p>\n</div>"
     },
     "execution_count": 43,
     "metadata": {},
     "output_type": "execute_result"
    }
   ],
   "source": [
    "FinalLabelFrame"
   ],
   "metadata": {
    "collapsed": false,
    "ExecuteTime": {
     "end_time": "2023-11-16T09:53:18.491195057Z",
     "start_time": "2023-11-16T09:53:18.465355886Z"
    }
   },
   "id": "56e04198ea660d98"
  },
  {
   "cell_type": "code",
   "execution_count": 44,
   "outputs": [],
   "source": [
    "FinalLabelFrame.to_csv('Labels_parelsnoer_annotated_extensive3.txt',sep='\\t', index=False, header=False)"
   ],
   "metadata": {
    "collapsed": false,
    "ExecuteTime": {
     "end_time": "2023-11-16T10:11:40.913522517Z",
     "start_time": "2023-11-16T10:11:40.812964933Z"
    }
   },
   "id": "75c5cf2b8ee37d8a"
  },
  {
   "cell_type": "code",
   "execution_count": 41,
   "outputs": [],
   "source": [],
   "metadata": {
    "collapsed": false,
    "ExecuteTime": {
     "end_time": "2023-11-16T09:52:12.181952193Z",
     "start_time": "2023-11-16T09:52:11.887163082Z"
    }
   },
   "id": "c6a575d0c8cc2419"
  }
 ],
 "metadata": {
  "kernelspec": {
   "display_name": "Python 3",
   "language": "python",
   "name": "python3"
  },
  "language_info": {
   "codemirror_mode": {
    "name": "ipython",
    "version": 2
   },
   "file_extension": ".py",
   "mimetype": "text/x-python",
   "name": "python",
   "nbconvert_exporter": "python",
   "pygments_lexer": "ipython2",
   "version": "2.7.6"
  }
 },
 "nbformat": 4,
 "nbformat_minor": 5
}
