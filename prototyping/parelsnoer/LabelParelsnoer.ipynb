{
 "cells": [
  {
   "cell_type": "code",
   "execution_count": 234,
   "id": "initial_id",
   "metadata": {
    "collapsed": true,
    "ExecuteTime": {
     "end_time": "2023-11-28T11:08:55.556595348Z",
     "start_time": "2023-11-28T11:08:54.986343881Z"
    }
   },
   "outputs": [],
   "source": [
    "import pandas as pd"
   ]
  },
  {
   "cell_type": "code",
   "execution_count": 235,
   "outputs": [],
   "source": [
    "FileFrame = pd.read_csv('FileFrame.csv')"
   ],
   "metadata": {
    "collapsed": false,
    "ExecuteTime": {
     "end_time": "2023-11-28T11:08:55.558835438Z",
     "start_time": "2023-11-28T11:08:55.032586027Z"
    }
   },
   "id": "91e9c5962e4b4224"
  },
  {
   "cell_type": "code",
   "execution_count": 236,
   "outputs": [
    {
     "data": {
      "text/plain": "                                             originPath  \\\n0     /data/scratch/r098375/data/parelsnoer_new/data...   \n1     /data/scratch/r098375/data/parelsnoer_new/data...   \n2     /data/scratch/r098375/data/parelsnoer_new/data...   \n3     /data/scratch/r098375/data/parelsnoer_new/data...   \n4     /data/scratch/r098375/data/parelsnoer_new/data...   \n...                                                 ...   \n8403  /data/scratch/r098375/data/parelsnoer_new/data...   \n8404  /data/scratch/r098375/data/parelsnoer_new/data...   \n8405  /data/scratch/r098375/data/parelsnoer_new/data...   \n8406  /data/scratch/r098375/data/parelsnoer_new/data...   \n8407  /data/scratch/r098375/data/parelsnoer_new/data...   \n\n                                    structuredDicomPath  \\\n0     /data/scratch/r098375/data/parelsnoer_new/DICO...   \n1     /data/scratch/r098375/data/parelsnoer_new/DICO...   \n2     /data/scratch/r098375/data/parelsnoer_new/DICO...   \n3     /data/scratch/r098375/data/parelsnoer_new/DICO...   \n4     /data/scratch/r098375/data/parelsnoer_new/DICO...   \n...                                                 ...   \n8403  /data/scratch/r098375/data/parelsnoer_new/DICO...   \n8404  /data/scratch/r098375/data/parelsnoer_new/DICO...   \n8405  /data/scratch/r098375/data/parelsnoer_new/DICO...   \n8406  /data/scratch/r098375/data/parelsnoer_new/DICO...   \n8407  /data/scratch/r098375/data/parelsnoer_new/DICO...   \n\n                                             NIFTI_path sliced  \n0     /data/scratch/r098375/data/parelsnoer_new/NIFT...   True  \n1     /data/scratch/r098375/data/parelsnoer_new/NIFT...   True  \n2                                                   NaN    NaN  \n3                                                   NaN    NaN  \n4     /data/scratch/r098375/data/parelsnoer_new/NIFT...   True  \n...                                                 ...    ...  \n8403  /data/scratch/r098375/data/parelsnoer_new/NIFT...   True  \n8404  /data/scratch/r098375/data/parelsnoer_new/NIFT...   True  \n8405  /data/scratch/r098375/data/parelsnoer_new/NIFT...   True  \n8406                                                NaN    NaN  \n8407                                                NaN    NaN  \n\n[8408 rows x 4 columns]",
      "text/html": "<div>\n<style scoped>\n    .dataframe tbody tr th:only-of-type {\n        vertical-align: middle;\n    }\n\n    .dataframe tbody tr th {\n        vertical-align: top;\n    }\n\n    .dataframe thead th {\n        text-align: right;\n    }\n</style>\n<table border=\"1\" class=\"dataframe\">\n  <thead>\n    <tr style=\"text-align: right;\">\n      <th></th>\n      <th>originPath</th>\n      <th>structuredDicomPath</th>\n      <th>NIFTI_path</th>\n      <th>sliced</th>\n    </tr>\n  </thead>\n  <tbody>\n    <tr>\n      <th>0</th>\n      <td>/data/scratch/r098375/data/parelsnoer_new/data...</td>\n      <td>/data/scratch/r098375/data/parelsnoer_new/DICO...</td>\n      <td>/data/scratch/r098375/data/parelsnoer_new/NIFT...</td>\n      <td>True</td>\n    </tr>\n    <tr>\n      <th>1</th>\n      <td>/data/scratch/r098375/data/parelsnoer_new/data...</td>\n      <td>/data/scratch/r098375/data/parelsnoer_new/DICO...</td>\n      <td>/data/scratch/r098375/data/parelsnoer_new/NIFT...</td>\n      <td>True</td>\n    </tr>\n    <tr>\n      <th>2</th>\n      <td>/data/scratch/r098375/data/parelsnoer_new/data...</td>\n      <td>/data/scratch/r098375/data/parelsnoer_new/DICO...</td>\n      <td>NaN</td>\n      <td>NaN</td>\n    </tr>\n    <tr>\n      <th>3</th>\n      <td>/data/scratch/r098375/data/parelsnoer_new/data...</td>\n      <td>/data/scratch/r098375/data/parelsnoer_new/DICO...</td>\n      <td>NaN</td>\n      <td>NaN</td>\n    </tr>\n    <tr>\n      <th>4</th>\n      <td>/data/scratch/r098375/data/parelsnoer_new/data...</td>\n      <td>/data/scratch/r098375/data/parelsnoer_new/DICO...</td>\n      <td>/data/scratch/r098375/data/parelsnoer_new/NIFT...</td>\n      <td>True</td>\n    </tr>\n    <tr>\n      <th>...</th>\n      <td>...</td>\n      <td>...</td>\n      <td>...</td>\n      <td>...</td>\n    </tr>\n    <tr>\n      <th>8403</th>\n      <td>/data/scratch/r098375/data/parelsnoer_new/data...</td>\n      <td>/data/scratch/r098375/data/parelsnoer_new/DICO...</td>\n      <td>/data/scratch/r098375/data/parelsnoer_new/NIFT...</td>\n      <td>True</td>\n    </tr>\n    <tr>\n      <th>8404</th>\n      <td>/data/scratch/r098375/data/parelsnoer_new/data...</td>\n      <td>/data/scratch/r098375/data/parelsnoer_new/DICO...</td>\n      <td>/data/scratch/r098375/data/parelsnoer_new/NIFT...</td>\n      <td>True</td>\n    </tr>\n    <tr>\n      <th>8405</th>\n      <td>/data/scratch/r098375/data/parelsnoer_new/data...</td>\n      <td>/data/scratch/r098375/data/parelsnoer_new/DICO...</td>\n      <td>/data/scratch/r098375/data/parelsnoer_new/NIFT...</td>\n      <td>True</td>\n    </tr>\n    <tr>\n      <th>8406</th>\n      <td>/data/scratch/r098375/data/parelsnoer_new/data...</td>\n      <td>/data/scratch/r098375/data/parelsnoer_new/DICO...</td>\n      <td>NaN</td>\n      <td>NaN</td>\n    </tr>\n    <tr>\n      <th>8407</th>\n      <td>/data/scratch/r098375/data/parelsnoer_new/data...</td>\n      <td>/data/scratch/r098375/data/parelsnoer_new/DICO...</td>\n      <td>NaN</td>\n      <td>NaN</td>\n    </tr>\n  </tbody>\n</table>\n<p>8408 rows × 4 columns</p>\n</div>"
     },
     "execution_count": 236,
     "metadata": {},
     "output_type": "execute_result"
    }
   ],
   "source": [
    "FileFrame"
   ],
   "metadata": {
    "collapsed": false,
    "ExecuteTime": {
     "end_time": "2023-11-28T11:08:55.559223136Z",
     "start_time": "2023-11-28T11:08:55.032664128Z"
    }
   },
   "id": "8ebfacf5221ca6b7"
  },
  {
   "cell_type": "code",
   "execution_count": 237,
   "outputs": [],
   "source": [
    "FileFrame = FileFrame[FileFrame['NIFTI_path'].isna()==False].reset_index(drop=True)"
   ],
   "metadata": {
    "collapsed": false,
    "ExecuteTime": {
     "end_time": "2023-11-28T11:08:55.559299276Z",
     "start_time": "2023-11-28T11:08:55.032734418Z"
    }
   },
   "id": "28a2dd496dcd05d7"
  },
  {
   "cell_type": "code",
   "execution_count": 238,
   "outputs": [
    {
     "data": {
      "text/plain": "                                             originPath  \\\n0     /data/scratch/r098375/data/parelsnoer_new/data...   \n1     /data/scratch/r098375/data/parelsnoer_new/data...   \n2     /data/scratch/r098375/data/parelsnoer_new/data...   \n3     /data/scratch/r098375/data/parelsnoer_new/data...   \n4     /data/scratch/r098375/data/parelsnoer_new/data...   \n...                                                 ...   \n4476  /data/scratch/r098375/data/parelsnoer_new/data...   \n4477  /data/scratch/r098375/data/parelsnoer_new/data...   \n4478  /data/scratch/r098375/data/parelsnoer_new/data...   \n4479  /data/scratch/r098375/data/parelsnoer_new/data...   \n4480  /data/scratch/r098375/data/parelsnoer_new/data...   \n\n                                    structuredDicomPath  \\\n0     /data/scratch/r098375/data/parelsnoer_new/DICO...   \n1     /data/scratch/r098375/data/parelsnoer_new/DICO...   \n2     /data/scratch/r098375/data/parelsnoer_new/DICO...   \n3     /data/scratch/r098375/data/parelsnoer_new/DICO...   \n4     /data/scratch/r098375/data/parelsnoer_new/DICO...   \n...                                                 ...   \n4476  /data/scratch/r098375/data/parelsnoer_new/DICO...   \n4477  /data/scratch/r098375/data/parelsnoer_new/DICO...   \n4478  /data/scratch/r098375/data/parelsnoer_new/DICO...   \n4479  /data/scratch/r098375/data/parelsnoer_new/DICO...   \n4480  /data/scratch/r098375/data/parelsnoer_new/DICO...   \n\n                                             NIFTI_path sliced  \n0     /data/scratch/r098375/data/parelsnoer_new/NIFT...   True  \n1     /data/scratch/r098375/data/parelsnoer_new/NIFT...   True  \n2     /data/scratch/r098375/data/parelsnoer_new/NIFT...   True  \n3     /data/scratch/r098375/data/parelsnoer_new/NIFT...   True  \n4     /data/scratch/r098375/data/parelsnoer_new/NIFT...   True  \n...                                                 ...    ...  \n4476  /data/scratch/r098375/data/parelsnoer_new/NIFT...   True  \n4477  /data/scratch/r098375/data/parelsnoer_new/NIFT...   True  \n4478  /data/scratch/r098375/data/parelsnoer_new/NIFT...   True  \n4479  /data/scratch/r098375/data/parelsnoer_new/NIFT...   True  \n4480  /data/scratch/r098375/data/parelsnoer_new/NIFT...   True  \n\n[4481 rows x 4 columns]",
      "text/html": "<div>\n<style scoped>\n    .dataframe tbody tr th:only-of-type {\n        vertical-align: middle;\n    }\n\n    .dataframe tbody tr th {\n        vertical-align: top;\n    }\n\n    .dataframe thead th {\n        text-align: right;\n    }\n</style>\n<table border=\"1\" class=\"dataframe\">\n  <thead>\n    <tr style=\"text-align: right;\">\n      <th></th>\n      <th>originPath</th>\n      <th>structuredDicomPath</th>\n      <th>NIFTI_path</th>\n      <th>sliced</th>\n    </tr>\n  </thead>\n  <tbody>\n    <tr>\n      <th>0</th>\n      <td>/data/scratch/r098375/data/parelsnoer_new/data...</td>\n      <td>/data/scratch/r098375/data/parelsnoer_new/DICO...</td>\n      <td>/data/scratch/r098375/data/parelsnoer_new/NIFT...</td>\n      <td>True</td>\n    </tr>\n    <tr>\n      <th>1</th>\n      <td>/data/scratch/r098375/data/parelsnoer_new/data...</td>\n      <td>/data/scratch/r098375/data/parelsnoer_new/DICO...</td>\n      <td>/data/scratch/r098375/data/parelsnoer_new/NIFT...</td>\n      <td>True</td>\n    </tr>\n    <tr>\n      <th>2</th>\n      <td>/data/scratch/r098375/data/parelsnoer_new/data...</td>\n      <td>/data/scratch/r098375/data/parelsnoer_new/DICO...</td>\n      <td>/data/scratch/r098375/data/parelsnoer_new/NIFT...</td>\n      <td>True</td>\n    </tr>\n    <tr>\n      <th>3</th>\n      <td>/data/scratch/r098375/data/parelsnoer_new/data...</td>\n      <td>/data/scratch/r098375/data/parelsnoer_new/DICO...</td>\n      <td>/data/scratch/r098375/data/parelsnoer_new/NIFT...</td>\n      <td>True</td>\n    </tr>\n    <tr>\n      <th>4</th>\n      <td>/data/scratch/r098375/data/parelsnoer_new/data...</td>\n      <td>/data/scratch/r098375/data/parelsnoer_new/DICO...</td>\n      <td>/data/scratch/r098375/data/parelsnoer_new/NIFT...</td>\n      <td>True</td>\n    </tr>\n    <tr>\n      <th>...</th>\n      <td>...</td>\n      <td>...</td>\n      <td>...</td>\n      <td>...</td>\n    </tr>\n    <tr>\n      <th>4476</th>\n      <td>/data/scratch/r098375/data/parelsnoer_new/data...</td>\n      <td>/data/scratch/r098375/data/parelsnoer_new/DICO...</td>\n      <td>/data/scratch/r098375/data/parelsnoer_new/NIFT...</td>\n      <td>True</td>\n    </tr>\n    <tr>\n      <th>4477</th>\n      <td>/data/scratch/r098375/data/parelsnoer_new/data...</td>\n      <td>/data/scratch/r098375/data/parelsnoer_new/DICO...</td>\n      <td>/data/scratch/r098375/data/parelsnoer_new/NIFT...</td>\n      <td>True</td>\n    </tr>\n    <tr>\n      <th>4478</th>\n      <td>/data/scratch/r098375/data/parelsnoer_new/data...</td>\n      <td>/data/scratch/r098375/data/parelsnoer_new/DICO...</td>\n      <td>/data/scratch/r098375/data/parelsnoer_new/NIFT...</td>\n      <td>True</td>\n    </tr>\n    <tr>\n      <th>4479</th>\n      <td>/data/scratch/r098375/data/parelsnoer_new/data...</td>\n      <td>/data/scratch/r098375/data/parelsnoer_new/DICO...</td>\n      <td>/data/scratch/r098375/data/parelsnoer_new/NIFT...</td>\n      <td>True</td>\n    </tr>\n    <tr>\n      <th>4480</th>\n      <td>/data/scratch/r098375/data/parelsnoer_new/data...</td>\n      <td>/data/scratch/r098375/data/parelsnoer_new/DICO...</td>\n      <td>/data/scratch/r098375/data/parelsnoer_new/NIFT...</td>\n      <td>True</td>\n    </tr>\n  </tbody>\n</table>\n<p>4481 rows × 4 columns</p>\n</div>"
     },
     "execution_count": 238,
     "metadata": {},
     "output_type": "execute_result"
    }
   ],
   "source": [
    "FileFrame"
   ],
   "metadata": {
    "collapsed": false,
    "ExecuteTime": {
     "end_time": "2023-11-28T11:08:55.559595268Z",
     "start_time": "2023-11-28T11:08:55.040446241Z"
    }
   },
   "id": "fc0fc69920d94d54"
  },
  {
   "cell_type": "code",
   "execution_count": 239,
   "outputs": [
    {
     "data": {
      "text/plain": "array(['/data/scratch/r098375/data/parelsnoer_new/NIFTI/PSI73064/20170103/MR/1.2.752.24.7.1209505054.1001773716/1.2.826.0.1.3680043.9.6827.2055175324109748209665415350569835637.nii.gz',\n       '/data/scratch/r098375/data/parelsnoer_new/NIFTI/PSI73064/20170103/MR/1.2.752.24.7.1209505054.1001773716/1.2.826.0.1.3680043.9.6827.1961914994066354481592224106224093073.nii.gz',\n       '/data/scratch/r098375/data/parelsnoer_new/NIFTI/PSI73064/20170103/MR/1.2.752.24.7.1209505054.1001773716/1.2.826.0.1.3680043.9.6827.1302821655838188680365507155874790746.nii.gz',\n       ...,\n       '/data/scratch/r098375/data/parelsnoer_new/NIFTI/PSI86077/20190418/MR/1.2.752.24.7.1715200030.1002695114/1.2.826.0.1.3680043.9.6827.1134295833993294933081142292117229875_Scan_2.nii.gz',\n       '/data/scratch/r098375/data/parelsnoer_new/NIFTI/PSI86077/20190418/MR/1.2.752.24.7.1715200030.1002695114/1.2.826.0.1.3680043.9.6827.1134295833993294933081142292117229875_Scan_3.nii.gz',\n       '/data/scratch/r098375/data/parelsnoer_new/NIFTI/PSI86077/20190418/MR/1.2.752.24.7.1715200030.1002695114/1.2.826.0.1.3680043.9.6827.3019487466687482233819097351804894636_Scan_1.nii.gz'],\n      dtype=object)"
     },
     "execution_count": 239,
     "metadata": {},
     "output_type": "execute_result"
    }
   ],
   "source": [
    "FileFrame['NIFTI_path'].unique()"
   ],
   "metadata": {
    "collapsed": false,
    "ExecuteTime": {
     "end_time": "2023-11-28T11:08:55.559906728Z",
     "start_time": "2023-11-28T11:08:55.046292640Z"
    }
   },
   "id": "af71f0799e161e60"
  },
  {
   "cell_type": "code",
   "execution_count": 240,
   "outputs": [],
   "source": [
    "FileFrame['duplicated'] = FileFrame['NIFTI_path'].duplicated(keep='first')"
   ],
   "metadata": {
    "collapsed": false,
    "ExecuteTime": {
     "end_time": "2023-11-28T11:08:55.560010886Z",
     "start_time": "2023-11-28T11:08:55.053897919Z"
    }
   },
   "id": "7aa9d4a17f9a366b"
  },
  {
   "cell_type": "code",
   "execution_count": 241,
   "outputs": [
    {
     "data": {
      "text/plain": "                                             originPath  \\\n762   /data/scratch/r098375/data/parelsnoer_new/data...   \n764   /data/scratch/r098375/data/parelsnoer_new/data...   \n766   /data/scratch/r098375/data/parelsnoer_new/data...   \n768   /data/scratch/r098375/data/parelsnoer_new/data...   \n770   /data/scratch/r098375/data/parelsnoer_new/data...   \n...                                                 ...   \n4472  /data/scratch/r098375/data/parelsnoer_new/data...   \n4474  /data/scratch/r098375/data/parelsnoer_new/data...   \n4476  /data/scratch/r098375/data/parelsnoer_new/data...   \n4478  /data/scratch/r098375/data/parelsnoer_new/data...   \n4480  /data/scratch/r098375/data/parelsnoer_new/data...   \n\n                                    structuredDicomPath  \\\n762   /data/scratch/r098375/data/parelsnoer_new/DICO...   \n764   /data/scratch/r098375/data/parelsnoer_new/DICO...   \n766   /data/scratch/r098375/data/parelsnoer_new/DICO...   \n768   /data/scratch/r098375/data/parelsnoer_new/DICO...   \n770   /data/scratch/r098375/data/parelsnoer_new/DICO...   \n...                                                 ...   \n4472  /data/scratch/r098375/data/parelsnoer_new/DICO...   \n4474  /data/scratch/r098375/data/parelsnoer_new/DICO...   \n4476  /data/scratch/r098375/data/parelsnoer_new/DICO...   \n4478  /data/scratch/r098375/data/parelsnoer_new/DICO...   \n4480  /data/scratch/r098375/data/parelsnoer_new/DICO...   \n\n                                             NIFTI_path sliced  duplicated  \n762   /data/scratch/r098375/data/parelsnoer_new/NIFT...   True        True  \n764   /data/scratch/r098375/data/parelsnoer_new/NIFT...   True        True  \n766   /data/scratch/r098375/data/parelsnoer_new/NIFT...   True        True  \n768   /data/scratch/r098375/data/parelsnoer_new/NIFT...   True        True  \n770   /data/scratch/r098375/data/parelsnoer_new/NIFT...   True        True  \n...                                                 ...    ...         ...  \n4472  /data/scratch/r098375/data/parelsnoer_new/NIFT...   True        True  \n4474  /data/scratch/r098375/data/parelsnoer_new/NIFT...   True        True  \n4476  /data/scratch/r098375/data/parelsnoer_new/NIFT...   True        True  \n4478  /data/scratch/r098375/data/parelsnoer_new/NIFT...   True        True  \n4480  /data/scratch/r098375/data/parelsnoer_new/NIFT...   True        True  \n\n[1853 rows x 5 columns]",
      "text/html": "<div>\n<style scoped>\n    .dataframe tbody tr th:only-of-type {\n        vertical-align: middle;\n    }\n\n    .dataframe tbody tr th {\n        vertical-align: top;\n    }\n\n    .dataframe thead th {\n        text-align: right;\n    }\n</style>\n<table border=\"1\" class=\"dataframe\">\n  <thead>\n    <tr style=\"text-align: right;\">\n      <th></th>\n      <th>originPath</th>\n      <th>structuredDicomPath</th>\n      <th>NIFTI_path</th>\n      <th>sliced</th>\n      <th>duplicated</th>\n    </tr>\n  </thead>\n  <tbody>\n    <tr>\n      <th>762</th>\n      <td>/data/scratch/r098375/data/parelsnoer_new/data...</td>\n      <td>/data/scratch/r098375/data/parelsnoer_new/DICO...</td>\n      <td>/data/scratch/r098375/data/parelsnoer_new/NIFT...</td>\n      <td>True</td>\n      <td>True</td>\n    </tr>\n    <tr>\n      <th>764</th>\n      <td>/data/scratch/r098375/data/parelsnoer_new/data...</td>\n      <td>/data/scratch/r098375/data/parelsnoer_new/DICO...</td>\n      <td>/data/scratch/r098375/data/parelsnoer_new/NIFT...</td>\n      <td>True</td>\n      <td>True</td>\n    </tr>\n    <tr>\n      <th>766</th>\n      <td>/data/scratch/r098375/data/parelsnoer_new/data...</td>\n      <td>/data/scratch/r098375/data/parelsnoer_new/DICO...</td>\n      <td>/data/scratch/r098375/data/parelsnoer_new/NIFT...</td>\n      <td>True</td>\n      <td>True</td>\n    </tr>\n    <tr>\n      <th>768</th>\n      <td>/data/scratch/r098375/data/parelsnoer_new/data...</td>\n      <td>/data/scratch/r098375/data/parelsnoer_new/DICO...</td>\n      <td>/data/scratch/r098375/data/parelsnoer_new/NIFT...</td>\n      <td>True</td>\n      <td>True</td>\n    </tr>\n    <tr>\n      <th>770</th>\n      <td>/data/scratch/r098375/data/parelsnoer_new/data...</td>\n      <td>/data/scratch/r098375/data/parelsnoer_new/DICO...</td>\n      <td>/data/scratch/r098375/data/parelsnoer_new/NIFT...</td>\n      <td>True</td>\n      <td>True</td>\n    </tr>\n    <tr>\n      <th>...</th>\n      <td>...</td>\n      <td>...</td>\n      <td>...</td>\n      <td>...</td>\n      <td>...</td>\n    </tr>\n    <tr>\n      <th>4472</th>\n      <td>/data/scratch/r098375/data/parelsnoer_new/data...</td>\n      <td>/data/scratch/r098375/data/parelsnoer_new/DICO...</td>\n      <td>/data/scratch/r098375/data/parelsnoer_new/NIFT...</td>\n      <td>True</td>\n      <td>True</td>\n    </tr>\n    <tr>\n      <th>4474</th>\n      <td>/data/scratch/r098375/data/parelsnoer_new/data...</td>\n      <td>/data/scratch/r098375/data/parelsnoer_new/DICO...</td>\n      <td>/data/scratch/r098375/data/parelsnoer_new/NIFT...</td>\n      <td>True</td>\n      <td>True</td>\n    </tr>\n    <tr>\n      <th>4476</th>\n      <td>/data/scratch/r098375/data/parelsnoer_new/data...</td>\n      <td>/data/scratch/r098375/data/parelsnoer_new/DICO...</td>\n      <td>/data/scratch/r098375/data/parelsnoer_new/NIFT...</td>\n      <td>True</td>\n      <td>True</td>\n    </tr>\n    <tr>\n      <th>4478</th>\n      <td>/data/scratch/r098375/data/parelsnoer_new/data...</td>\n      <td>/data/scratch/r098375/data/parelsnoer_new/DICO...</td>\n      <td>/data/scratch/r098375/data/parelsnoer_new/NIFT...</td>\n      <td>True</td>\n      <td>True</td>\n    </tr>\n    <tr>\n      <th>4480</th>\n      <td>/data/scratch/r098375/data/parelsnoer_new/data...</td>\n      <td>/data/scratch/r098375/data/parelsnoer_new/DICO...</td>\n      <td>/data/scratch/r098375/data/parelsnoer_new/NIFT...</td>\n      <td>True</td>\n      <td>True</td>\n    </tr>\n  </tbody>\n</table>\n<p>1853 rows × 5 columns</p>\n</div>"
     },
     "execution_count": 241,
     "metadata": {},
     "output_type": "execute_result"
    }
   ],
   "source": [
    "FileFrame[FileFrame['duplicated']]"
   ],
   "metadata": {
    "collapsed": false,
    "ExecuteTime": {
     "end_time": "2023-11-28T11:08:55.560506617Z",
     "start_time": "2023-11-28T11:08:55.057220642Z"
    }
   },
   "id": "95a2d01b71e53c2a"
  },
  {
   "cell_type": "code",
   "execution_count": 242,
   "outputs": [],
   "source": [
    "FileFrame = FileFrame.drop(FileFrame[FileFrame['duplicated']].index,axis=0)"
   ],
   "metadata": {
    "collapsed": false,
    "ExecuteTime": {
     "end_time": "2023-11-28T11:08:55.560597385Z",
     "start_time": "2023-11-28T11:08:55.068267760Z"
    }
   },
   "id": "9722c4976c83a3c0"
  },
  {
   "cell_type": "code",
   "execution_count": 243,
   "outputs": [],
   "source": [
    "def extractName(path):\n",
    "    return str(path).split('/')[9]"
   ],
   "metadata": {
    "collapsed": false,
    "ExecuteTime": {
     "end_time": "2023-11-28T11:08:55.560658307Z",
     "start_time": "2023-11-28T11:08:55.112561597Z"
    }
   },
   "id": "48dea7c3afff3654"
  },
  {
   "cell_type": "code",
   "execution_count": 244,
   "outputs": [],
   "source": [
    "FileFrame['name'] = FileFrame['originPath'].apply(extractName)"
   ],
   "metadata": {
    "collapsed": false,
    "ExecuteTime": {
     "end_time": "2023-11-28T11:08:55.560721853Z",
     "start_time": "2023-11-28T11:08:55.112633870Z"
    }
   },
   "id": "5c5af53c5c9f7d"
  },
  {
   "cell_type": "code",
   "execution_count": 245,
   "outputs": [],
   "source": [
    "def rename(origName):\n",
    "    on = origName.lower()\n",
    "    if 'cwk' in on or 'lwk' in on or 'twk' in on:\n",
    "        return 'spinal'\n",
    "    if 'phase' in on:\n",
    "        return 'phase'\n",
    "    if 'local' in on:\n",
    "        return 'localizer'\n",
    "    if 'unknown' in on:\n",
    "        return 'unknown'\n",
    "    if 'gd' in on:\n",
    "        if 't1' in on or 'fspgr' in on:\n",
    "            return 'T1c'\n",
    "    if 't1' in on or 'fspgr' in on or 'mpr' in on:\n",
    "        return 'T1w'\n",
    "    if 'flair' in on:\n",
    "        return 'FLAIR'\n",
    "    if 'dti' in on:\n",
    "        return 'dti'\n",
    "    if 'dwi' in on:\n",
    "        return 'dwi'\n",
    "    if 't2' in on:\n",
    "        return 'T2w'\n",
    "    if 'adc' in on:\n",
    "        return 'adc'\n",
    "    if 'pwi' in on or 'perf' in on:\n",
    "        return 'pwi'\n",
    "    if 'pd' in on:\n",
    "        return 'pd'\n",
    "    if 'survey' in on:\n",
    "        return 'survey'\n",
    "    if 'asl' in on:\n",
    "        return 'asl'\n",
    "    if 'min' in on:\n",
    "        return 'minip'\n",
    "    if 'swi' in on:\n",
    "        return 'swi'\n",
    "    return 'other'"
   ],
   "metadata": {
    "collapsed": false,
    "ExecuteTime": {
     "end_time": "2023-11-28T11:08:55.560778756Z",
     "start_time": "2023-11-28T11:08:55.112704060Z"
    }
   },
   "id": "7320276738615aa3"
  },
  {
   "cell_type": "code",
   "execution_count": 246,
   "outputs": [],
   "source": [
    "FileFrame['renamed'] = FileFrame['name'].apply(rename)"
   ],
   "metadata": {
    "collapsed": false,
    "ExecuteTime": {
     "end_time": "2023-11-28T11:08:55.560832519Z",
     "start_time": "2023-11-28T11:08:55.112802534Z"
    }
   },
   "id": "18b4959b1d45af55"
  },
  {
   "cell_type": "code",
   "execution_count": 247,
   "outputs": [
    {
     "data": {
      "text/plain": "renamed\nT1w        664\ndti        640\nT2w        490\nsurvey     320\nother      240\nFLAIR      165\nasl         66\npwi         33\nT1c          3\nminip        3\nswi          2\nunknown      2\nName: count, dtype: int64"
     },
     "execution_count": 247,
     "metadata": {},
     "output_type": "execute_result"
    }
   ],
   "source": [
    "FileFrame['renamed'].value_counts()"
   ],
   "metadata": {
    "collapsed": false,
    "ExecuteTime": {
     "end_time": "2023-11-28T11:08:55.560995527Z",
     "start_time": "2023-11-28T11:08:55.112896477Z"
    }
   },
   "id": "43d98e305192d414"
  },
  {
   "cell_type": "code",
   "execution_count": 248,
   "outputs": [],
   "source": [
    "def CreateIndivudalToUnifiedNameDocument(df, outfile):\n",
    "    with open(outfile, 'w') as f:\n",
    "        names = df['renamed'].unique()\n",
    "        for name in names:\n",
    "            nameMatching = df[df['renamed']==name]['name'].unique()\n",
    "            nameMatching = pd.Series(nameMatching).to_string()\n",
    "            f.write(f'{name}:\\n{nameMatching}\\n\\n{\"-\"*25}\\n')"
   ],
   "metadata": {
    "collapsed": false,
    "ExecuteTime": {
     "end_time": "2023-11-28T11:08:55.561059200Z",
     "start_time": "2023-11-28T11:08:55.113048921Z"
    }
   },
   "id": "2bcaffdc666364f4"
  },
  {
   "cell_type": "code",
   "execution_count": 249,
   "outputs": [],
   "source": [
    "outfile = 'Parelsnoer_NameMatching.txt'\n",
    "CreateIndivudalToUnifiedNameDocument(FileFrame, outfile)"
   ],
   "metadata": {
    "collapsed": false,
    "ExecuteTime": {
     "end_time": "2023-11-28T11:08:55.561125207Z",
     "start_time": "2023-11-28T11:08:55.113145237Z"
    }
   },
   "id": "9a0c73c2919c3c3c"
  },
  {
   "cell_type": "code",
   "execution_count": 250,
   "outputs": [
    {
     "data": {
      "text/plain": "76                 901-t_T2W_FFE_3mm\n200               1001-t_T2W_FFE_3mm\n480                901-t_T2W_FFE_3mm\n677               1001-t_T2W_FFE_3mm\n682               1001-t_T2W_FFE_3mm\n                    ...             \n4433    701-t_T2W_TSE_dual_echo_SPIR\n4445               801-t_T2W_FFE_3mm\n4461               901-t_T2W_FFE_3mm\n4475    801-t_T2W_TSE_dual_echo_SPIR\n4477    801-t_T2W_TSE_dual_echo_SPIR\nName: name, Length: 490, dtype: object"
     },
     "execution_count": 250,
     "metadata": {},
     "output_type": "execute_result"
    }
   ],
   "source": [
    "FileFrame[FileFrame['renamed']=='T2w']['name']"
   ],
   "metadata": {
    "collapsed": false,
    "ExecuteTime": {
     "end_time": "2023-11-28T11:08:55.561276222Z",
     "start_time": "2023-11-28T11:08:55.156582030Z"
    }
   },
   "id": "b29a91a2ef0ec318"
  },
  {
   "cell_type": "code",
   "execution_count": 251,
   "outputs": [],
   "source": [
    "labeldict = {\"T1\":0,\"T1_c\":1,\"T2\":2,\"T2-FLAIR\":3,\"PD\":4,\n",
    "             \"SWI\":5, \"GRE\":6, \"T2*\":7, \"DWI\":8, \"ADC\":9, \"BOLD\":10,\n",
    "             \"FlowSensitve\":11,\"PWI\":12,\"ASL\":13,\n",
    "             \"DTI\":14,\"Other\":15}\n",
    "def assignLabel(dataframe):\n",
    "    description = dataframe['description']\n",
    "    try:\n",
    "        weight = dataframe['weighting']\n",
    "    except:\n",
    "        weight = None\n",
    "    dropLabels = ['moco','mpr','hippo','spinal','unknown']\n",
    "    otherCategories = ['fieldmap','scout','calibration','phase','localizer','nan','NotMri','pet','CT','e2','moco','other','survey', 'qflow','smartbrain'] #moco is a motion corrected series\n",
    "    if description in dropLabels:\n",
    "        return -1\n",
    "    if description in otherCategories:\n",
    "        return 15\n",
    "    if description =='T1w':\n",
    "        return 0\n",
    "    if description =='T1c':\n",
    "        return 1\n",
    "    if weight:\n",
    "        if description =='T2w':\n",
    "            if weight=='T2':\n",
    "                return 2\n",
    "            if weight=='PD':\n",
    "                return 4\n",
    "    if description == 'T2w':\n",
    "        return 2\n",
    "    if 'FLAIR' in description:\n",
    "        return 3\n",
    "    if description =='pd':\n",
    "        return 4\n",
    "    if description =='swi' or description =='minip':\n",
    "        return 5\n",
    "    if description.lower() =='gre':\n",
    "        return 6\n",
    "    if description =='T2star':\n",
    "        return 7\n",
    "    if description =='dwi':\n",
    "        return 8\n",
    "    if description =='adc':\n",
    "        return 9\n",
    "    if description =='bold':\n",
    "        return 10\n",
    "    if description =='angio': #flowsensitive\n",
    "        return 11\n",
    "    if description =='pwi' or description=='cbf':\n",
    "        return 12\n",
    "    if 'asl' in description:\n",
    "        return 13\n",
    "    if description == 'dti':\n",
    "        return 14\n",
    "    return -1"
   ],
   "metadata": {
    "collapsed": false,
    "ExecuteTime": {
     "end_time": "2023-11-28T11:08:55.561337876Z",
     "start_time": "2023-11-28T11:08:55.156664385Z"
    }
   },
   "id": "6750d40c6dfc6951"
  },
  {
   "cell_type": "code",
   "execution_count": 252,
   "outputs": [],
   "source": [
    "FileFrame['description'] = FileFrame['renamed']"
   ],
   "metadata": {
    "collapsed": false,
    "ExecuteTime": {
     "end_time": "2023-11-28T11:08:55.561391968Z",
     "start_time": "2023-11-28T11:08:55.156706316Z"
    }
   },
   "id": "eebf675a2bfae210"
  },
  {
   "cell_type": "code",
   "execution_count": 253,
   "outputs": [
    {
     "data": {
      "text/plain": "                                          originPath  \\\n0  /data/scratch/r098375/data/parelsnoer_new/data...   \n1  /data/scratch/r098375/data/parelsnoer_new/data...   \n2  /data/scratch/r098375/data/parelsnoer_new/data...   \n3  /data/scratch/r098375/data/parelsnoer_new/data...   \n4  /data/scratch/r098375/data/parelsnoer_new/data...   \n\n                                 structuredDicomPath  \\\n0  /data/scratch/r098375/data/parelsnoer_new/DICO...   \n1  /data/scratch/r098375/data/parelsnoer_new/DICO...   \n2  /data/scratch/r098375/data/parelsnoer_new/DICO...   \n3  /data/scratch/r098375/data/parelsnoer_new/DICO...   \n4  /data/scratch/r098375/data/parelsnoer_new/DICO...   \n\n                                          NIFTI_path sliced  duplicated  \\\n0  /data/scratch/r098375/data/parelsnoer_new/NIFT...   True       False   \n1  /data/scratch/r098375/data/parelsnoer_new/NIFT...   True       False   \n2  /data/scratch/r098375/data/parelsnoer_new/NIFT...   True       False   \n3  /data/scratch/r098375/data/parelsnoer_new/NIFT...   True       False   \n4  /data/scratch/r098375/data/parelsnoer_new/NIFT...   True       False   \n\n                         name renamed description  \n0  302-mpr_c_T1_3d_Parelsnoer     T1w         T1w  \n1      1402-sASL_Substraction     asl         asl  \n2          704-isoDWI_uit_DTI     dti         dti  \n3        1403-sASL_Cumulation     asl         asl  \n4            703-dADC_uit_DTI     dti         dti  ",
      "text/html": "<div>\n<style scoped>\n    .dataframe tbody tr th:only-of-type {\n        vertical-align: middle;\n    }\n\n    .dataframe tbody tr th {\n        vertical-align: top;\n    }\n\n    .dataframe thead th {\n        text-align: right;\n    }\n</style>\n<table border=\"1\" class=\"dataframe\">\n  <thead>\n    <tr style=\"text-align: right;\">\n      <th></th>\n      <th>originPath</th>\n      <th>structuredDicomPath</th>\n      <th>NIFTI_path</th>\n      <th>sliced</th>\n      <th>duplicated</th>\n      <th>name</th>\n      <th>renamed</th>\n      <th>description</th>\n    </tr>\n  </thead>\n  <tbody>\n    <tr>\n      <th>0</th>\n      <td>/data/scratch/r098375/data/parelsnoer_new/data...</td>\n      <td>/data/scratch/r098375/data/parelsnoer_new/DICO...</td>\n      <td>/data/scratch/r098375/data/parelsnoer_new/NIFT...</td>\n      <td>True</td>\n      <td>False</td>\n      <td>302-mpr_c_T1_3d_Parelsnoer</td>\n      <td>T1w</td>\n      <td>T1w</td>\n    </tr>\n    <tr>\n      <th>1</th>\n      <td>/data/scratch/r098375/data/parelsnoer_new/data...</td>\n      <td>/data/scratch/r098375/data/parelsnoer_new/DICO...</td>\n      <td>/data/scratch/r098375/data/parelsnoer_new/NIFT...</td>\n      <td>True</td>\n      <td>False</td>\n      <td>1402-sASL_Substraction</td>\n      <td>asl</td>\n      <td>asl</td>\n    </tr>\n    <tr>\n      <th>2</th>\n      <td>/data/scratch/r098375/data/parelsnoer_new/data...</td>\n      <td>/data/scratch/r098375/data/parelsnoer_new/DICO...</td>\n      <td>/data/scratch/r098375/data/parelsnoer_new/NIFT...</td>\n      <td>True</td>\n      <td>False</td>\n      <td>704-isoDWI_uit_DTI</td>\n      <td>dti</td>\n      <td>dti</td>\n    </tr>\n    <tr>\n      <th>3</th>\n      <td>/data/scratch/r098375/data/parelsnoer_new/data...</td>\n      <td>/data/scratch/r098375/data/parelsnoer_new/DICO...</td>\n      <td>/data/scratch/r098375/data/parelsnoer_new/NIFT...</td>\n      <td>True</td>\n      <td>False</td>\n      <td>1403-sASL_Cumulation</td>\n      <td>asl</td>\n      <td>asl</td>\n    </tr>\n    <tr>\n      <th>4</th>\n      <td>/data/scratch/r098375/data/parelsnoer_new/data...</td>\n      <td>/data/scratch/r098375/data/parelsnoer_new/DICO...</td>\n      <td>/data/scratch/r098375/data/parelsnoer_new/NIFT...</td>\n      <td>True</td>\n      <td>False</td>\n      <td>703-dADC_uit_DTI</td>\n      <td>dti</td>\n      <td>dti</td>\n    </tr>\n  </tbody>\n</table>\n</div>"
     },
     "execution_count": 253,
     "metadata": {},
     "output_type": "execute_result"
    }
   ],
   "source": [
    "FileFrame.head()"
   ],
   "metadata": {
    "collapsed": false,
    "ExecuteTime": {
     "end_time": "2023-11-28T11:08:55.561642564Z",
     "start_time": "2023-11-28T11:08:55.156740352Z"
    }
   },
   "id": "e41fc893893fa221"
  },
  {
   "cell_type": "code",
   "execution_count": 254,
   "outputs": [],
   "source": [
    "FileFrame['numLabel'] = FileFrame.apply(assignLabel, axis=1)"
   ],
   "metadata": {
    "collapsed": false,
    "ExecuteTime": {
     "end_time": "2023-11-28T11:08:55.561710818Z",
     "start_time": "2023-11-28T11:08:55.156823397Z"
    }
   },
   "id": "d8f14111c741563c"
  },
  {
   "cell_type": "code",
   "execution_count": 255,
   "outputs": [
    {
     "data": {
      "text/plain": "                                             originPath  \\\n0     /data/scratch/r098375/data/parelsnoer_new/data...   \n1     /data/scratch/r098375/data/parelsnoer_new/data...   \n2     /data/scratch/r098375/data/parelsnoer_new/data...   \n3     /data/scratch/r098375/data/parelsnoer_new/data...   \n4     /data/scratch/r098375/data/parelsnoer_new/data...   \n...                                                 ...   \n4471  /data/scratch/r098375/data/parelsnoer_new/data...   \n4473  /data/scratch/r098375/data/parelsnoer_new/data...   \n4475  /data/scratch/r098375/data/parelsnoer_new/data...   \n4477  /data/scratch/r098375/data/parelsnoer_new/data...   \n4479  /data/scratch/r098375/data/parelsnoer_new/data...   \n\n                                    structuredDicomPath  \\\n0     /data/scratch/r098375/data/parelsnoer_new/DICO...   \n1     /data/scratch/r098375/data/parelsnoer_new/DICO...   \n2     /data/scratch/r098375/data/parelsnoer_new/DICO...   \n3     /data/scratch/r098375/data/parelsnoer_new/DICO...   \n4     /data/scratch/r098375/data/parelsnoer_new/DICO...   \n...                                                 ...   \n4471  /data/scratch/r098375/data/parelsnoer_new/DICO...   \n4473  /data/scratch/r098375/data/parelsnoer_new/DICO...   \n4475  /data/scratch/r098375/data/parelsnoer_new/DICO...   \n4477  /data/scratch/r098375/data/parelsnoer_new/DICO...   \n4479  /data/scratch/r098375/data/parelsnoer_new/DICO...   \n\n                                             NIFTI_path sliced  duplicated  \\\n0     /data/scratch/r098375/data/parelsnoer_new/NIFT...   True       False   \n1     /data/scratch/r098375/data/parelsnoer_new/NIFT...   True       False   \n2     /data/scratch/r098375/data/parelsnoer_new/NIFT...   True       False   \n3     /data/scratch/r098375/data/parelsnoer_new/NIFT...   True       False   \n4     /data/scratch/r098375/data/parelsnoer_new/NIFT...   True       False   \n...                                                 ...    ...         ...   \n4471  /data/scratch/r098375/data/parelsnoer_new/NIFT...   True       False   \n4473  /data/scratch/r098375/data/parelsnoer_new/NIFT...   True       False   \n4475  /data/scratch/r098375/data/parelsnoer_new/NIFT...   True       False   \n4477  /data/scratch/r098375/data/parelsnoer_new/NIFT...   True       False   \n4479  /data/scratch/r098375/data/parelsnoer_new/NIFT...   True       False   \n\n                                 name renamed description  numLabel  \n0          302-mpr_c_T1_3d_Parelsnoer     T1w         T1w         0  \n1              1402-sASL_Substraction     asl         asl        13  \n2                  704-isoDWI_uit_DTI     dti         dti        14  \n3                1403-sASL_Cumulation     asl         asl        13  \n4                    703-dADC_uit_DTI     dti         dti        14  \n...                               ...     ...         ...       ...  \n4471                     101-m_SURVEY  survey      survey        15  \n4473                  501-t_T1_IR_3mm     T1w         T1w         0  \n4475     801-t_T2W_TSE_dual_echo_SPIR     T2w         T2w         2  \n4477     801-t_T2W_TSE_dual_echo_SPIR     T2w         T2w         2  \n4479  701-DTI_high_iso45dir_noDynStab     dti         dti        14  \n\n[2628 rows x 9 columns]",
      "text/html": "<div>\n<style scoped>\n    .dataframe tbody tr th:only-of-type {\n        vertical-align: middle;\n    }\n\n    .dataframe tbody tr th {\n        vertical-align: top;\n    }\n\n    .dataframe thead th {\n        text-align: right;\n    }\n</style>\n<table border=\"1\" class=\"dataframe\">\n  <thead>\n    <tr style=\"text-align: right;\">\n      <th></th>\n      <th>originPath</th>\n      <th>structuredDicomPath</th>\n      <th>NIFTI_path</th>\n      <th>sliced</th>\n      <th>duplicated</th>\n      <th>name</th>\n      <th>renamed</th>\n      <th>description</th>\n      <th>numLabel</th>\n    </tr>\n  </thead>\n  <tbody>\n    <tr>\n      <th>0</th>\n      <td>/data/scratch/r098375/data/parelsnoer_new/data...</td>\n      <td>/data/scratch/r098375/data/parelsnoer_new/DICO...</td>\n      <td>/data/scratch/r098375/data/parelsnoer_new/NIFT...</td>\n      <td>True</td>\n      <td>False</td>\n      <td>302-mpr_c_T1_3d_Parelsnoer</td>\n      <td>T1w</td>\n      <td>T1w</td>\n      <td>0</td>\n    </tr>\n    <tr>\n      <th>1</th>\n      <td>/data/scratch/r098375/data/parelsnoer_new/data...</td>\n      <td>/data/scratch/r098375/data/parelsnoer_new/DICO...</td>\n      <td>/data/scratch/r098375/data/parelsnoer_new/NIFT...</td>\n      <td>True</td>\n      <td>False</td>\n      <td>1402-sASL_Substraction</td>\n      <td>asl</td>\n      <td>asl</td>\n      <td>13</td>\n    </tr>\n    <tr>\n      <th>2</th>\n      <td>/data/scratch/r098375/data/parelsnoer_new/data...</td>\n      <td>/data/scratch/r098375/data/parelsnoer_new/DICO...</td>\n      <td>/data/scratch/r098375/data/parelsnoer_new/NIFT...</td>\n      <td>True</td>\n      <td>False</td>\n      <td>704-isoDWI_uit_DTI</td>\n      <td>dti</td>\n      <td>dti</td>\n      <td>14</td>\n    </tr>\n    <tr>\n      <th>3</th>\n      <td>/data/scratch/r098375/data/parelsnoer_new/data...</td>\n      <td>/data/scratch/r098375/data/parelsnoer_new/DICO...</td>\n      <td>/data/scratch/r098375/data/parelsnoer_new/NIFT...</td>\n      <td>True</td>\n      <td>False</td>\n      <td>1403-sASL_Cumulation</td>\n      <td>asl</td>\n      <td>asl</td>\n      <td>13</td>\n    </tr>\n    <tr>\n      <th>4</th>\n      <td>/data/scratch/r098375/data/parelsnoer_new/data...</td>\n      <td>/data/scratch/r098375/data/parelsnoer_new/DICO...</td>\n      <td>/data/scratch/r098375/data/parelsnoer_new/NIFT...</td>\n      <td>True</td>\n      <td>False</td>\n      <td>703-dADC_uit_DTI</td>\n      <td>dti</td>\n      <td>dti</td>\n      <td>14</td>\n    </tr>\n    <tr>\n      <th>...</th>\n      <td>...</td>\n      <td>...</td>\n      <td>...</td>\n      <td>...</td>\n      <td>...</td>\n      <td>...</td>\n      <td>...</td>\n      <td>...</td>\n      <td>...</td>\n    </tr>\n    <tr>\n      <th>4471</th>\n      <td>/data/scratch/r098375/data/parelsnoer_new/data...</td>\n      <td>/data/scratch/r098375/data/parelsnoer_new/DICO...</td>\n      <td>/data/scratch/r098375/data/parelsnoer_new/NIFT...</td>\n      <td>True</td>\n      <td>False</td>\n      <td>101-m_SURVEY</td>\n      <td>survey</td>\n      <td>survey</td>\n      <td>15</td>\n    </tr>\n    <tr>\n      <th>4473</th>\n      <td>/data/scratch/r098375/data/parelsnoer_new/data...</td>\n      <td>/data/scratch/r098375/data/parelsnoer_new/DICO...</td>\n      <td>/data/scratch/r098375/data/parelsnoer_new/NIFT...</td>\n      <td>True</td>\n      <td>False</td>\n      <td>501-t_T1_IR_3mm</td>\n      <td>T1w</td>\n      <td>T1w</td>\n      <td>0</td>\n    </tr>\n    <tr>\n      <th>4475</th>\n      <td>/data/scratch/r098375/data/parelsnoer_new/data...</td>\n      <td>/data/scratch/r098375/data/parelsnoer_new/DICO...</td>\n      <td>/data/scratch/r098375/data/parelsnoer_new/NIFT...</td>\n      <td>True</td>\n      <td>False</td>\n      <td>801-t_T2W_TSE_dual_echo_SPIR</td>\n      <td>T2w</td>\n      <td>T2w</td>\n      <td>2</td>\n    </tr>\n    <tr>\n      <th>4477</th>\n      <td>/data/scratch/r098375/data/parelsnoer_new/data...</td>\n      <td>/data/scratch/r098375/data/parelsnoer_new/DICO...</td>\n      <td>/data/scratch/r098375/data/parelsnoer_new/NIFT...</td>\n      <td>True</td>\n      <td>False</td>\n      <td>801-t_T2W_TSE_dual_echo_SPIR</td>\n      <td>T2w</td>\n      <td>T2w</td>\n      <td>2</td>\n    </tr>\n    <tr>\n      <th>4479</th>\n      <td>/data/scratch/r098375/data/parelsnoer_new/data...</td>\n      <td>/data/scratch/r098375/data/parelsnoer_new/DICO...</td>\n      <td>/data/scratch/r098375/data/parelsnoer_new/NIFT...</td>\n      <td>True</td>\n      <td>False</td>\n      <td>701-DTI_high_iso45dir_noDynStab</td>\n      <td>dti</td>\n      <td>dti</td>\n      <td>14</td>\n    </tr>\n  </tbody>\n</table>\n<p>2628 rows × 9 columns</p>\n</div>"
     },
     "execution_count": 255,
     "metadata": {},
     "output_type": "execute_result"
    }
   ],
   "source": [
    "FileFrame"
   ],
   "metadata": {
    "collapsed": false,
    "ExecuteTime": {
     "end_time": "2023-11-28T11:08:55.562043952Z",
     "start_time": "2023-11-28T11:08:55.185007834Z"
    }
   },
   "id": "a5b66dbbff8dcc45"
  },
  {
   "cell_type": "code",
   "execution_count": 256,
   "outputs": [],
   "source": [
    "LabelFrame = pd.read_csv('Labels.txt',names=['ID','label','extra'],sep='\\t', dtype={'ID':str,'label':int,'extra':int})"
   ],
   "metadata": {
    "collapsed": false,
    "ExecuteTime": {
     "end_time": "2023-11-28T11:08:55.581493220Z",
     "start_time": "2023-11-28T11:08:55.228615916Z"
    }
   },
   "id": "b93398cb91c6dc8a"
  },
  {
   "cell_type": "code",
   "execution_count": 257,
   "outputs": [
    {
     "data": {
      "text/plain": "                                                      ID  label  extra\n0      /data/scratch/r098375/data/parelsnoer_new/NIFT...      0      0\n1      /data/scratch/r098375/data/parelsnoer_new/NIFT...      0      0\n2      /data/scratch/r098375/data/parelsnoer_new/NIFT...      0      0\n3      /data/scratch/r098375/data/parelsnoer_new/NIFT...      0      0\n4      /data/scratch/r098375/data/parelsnoer_new/NIFT...      0      0\n...                                                  ...    ...    ...\n59095  /data/scratch/r098375/data/parelsnoer_new/NIFT...      0      0\n59096  /data/scratch/r098375/data/parelsnoer_new/NIFT...      0      0\n59097  /data/scratch/r098375/data/parelsnoer_new/NIFT...      0      0\n59098  /data/scratch/r098375/data/parelsnoer_new/NIFT...      0      0\n59099  /data/scratch/r098375/data/parelsnoer_new/NIFT...      0      0\n\n[59100 rows x 3 columns]",
      "text/html": "<div>\n<style scoped>\n    .dataframe tbody tr th:only-of-type {\n        vertical-align: middle;\n    }\n\n    .dataframe tbody tr th {\n        vertical-align: top;\n    }\n\n    .dataframe thead th {\n        text-align: right;\n    }\n</style>\n<table border=\"1\" class=\"dataframe\">\n  <thead>\n    <tr style=\"text-align: right;\">\n      <th></th>\n      <th>ID</th>\n      <th>label</th>\n      <th>extra</th>\n    </tr>\n  </thead>\n  <tbody>\n    <tr>\n      <th>0</th>\n      <td>/data/scratch/r098375/data/parelsnoer_new/NIFT...</td>\n      <td>0</td>\n      <td>0</td>\n    </tr>\n    <tr>\n      <th>1</th>\n      <td>/data/scratch/r098375/data/parelsnoer_new/NIFT...</td>\n      <td>0</td>\n      <td>0</td>\n    </tr>\n    <tr>\n      <th>2</th>\n      <td>/data/scratch/r098375/data/parelsnoer_new/NIFT...</td>\n      <td>0</td>\n      <td>0</td>\n    </tr>\n    <tr>\n      <th>3</th>\n      <td>/data/scratch/r098375/data/parelsnoer_new/NIFT...</td>\n      <td>0</td>\n      <td>0</td>\n    </tr>\n    <tr>\n      <th>4</th>\n      <td>/data/scratch/r098375/data/parelsnoer_new/NIFT...</td>\n      <td>0</td>\n      <td>0</td>\n    </tr>\n    <tr>\n      <th>...</th>\n      <td>...</td>\n      <td>...</td>\n      <td>...</td>\n    </tr>\n    <tr>\n      <th>59095</th>\n      <td>/data/scratch/r098375/data/parelsnoer_new/NIFT...</td>\n      <td>0</td>\n      <td>0</td>\n    </tr>\n    <tr>\n      <th>59096</th>\n      <td>/data/scratch/r098375/data/parelsnoer_new/NIFT...</td>\n      <td>0</td>\n      <td>0</td>\n    </tr>\n    <tr>\n      <th>59097</th>\n      <td>/data/scratch/r098375/data/parelsnoer_new/NIFT...</td>\n      <td>0</td>\n      <td>0</td>\n    </tr>\n    <tr>\n      <th>59098</th>\n      <td>/data/scratch/r098375/data/parelsnoer_new/NIFT...</td>\n      <td>0</td>\n      <td>0</td>\n    </tr>\n    <tr>\n      <th>59099</th>\n      <td>/data/scratch/r098375/data/parelsnoer_new/NIFT...</td>\n      <td>0</td>\n      <td>0</td>\n    </tr>\n  </tbody>\n</table>\n<p>59100 rows × 3 columns</p>\n</div>"
     },
     "execution_count": 257,
     "metadata": {},
     "output_type": "execute_result"
    }
   ],
   "source": [
    "LabelFrame"
   ],
   "metadata": {
    "collapsed": false,
    "ExecuteTime": {
     "end_time": "2023-11-28T11:08:55.582684657Z",
     "start_time": "2023-11-28T11:08:55.346424237Z"
    }
   },
   "id": "9d3226547f2e0ecc"
  },
  {
   "cell_type": "code",
   "execution_count": 258,
   "outputs": [],
   "source": [
    "import os"
   ],
   "metadata": {
    "collapsed": false,
    "ExecuteTime": {
     "end_time": "2023-11-28T11:08:55.582809852Z",
     "start_time": "2023-11-28T11:08:55.388664229Z"
    }
   },
   "id": "b08f5069528710b6"
  },
  {
   "cell_type": "code",
   "execution_count": 259,
   "outputs": [],
   "source": [
    "def extractNiftiName(name):\n",
    "    name = name.rsplit('__',1)[0]\n",
    "    name = name.replace('NIFTI_SLICES','NIFTI')\n",
    "    name = f'{name}.nii.gz'\n",
    "    return name"
   ],
   "metadata": {
    "collapsed": false,
    "ExecuteTime": {
     "end_time": "2023-11-28T11:08:55.582916007Z",
     "start_time": "2023-11-28T11:08:55.388764169Z"
    }
   },
   "id": "ad1aaec4c030a3e0"
  },
  {
   "cell_type": "code",
   "execution_count": 260,
   "outputs": [],
   "source": [
    "LabelFrame['nifti_name'] = LabelFrame['ID'].apply(extractNiftiName)"
   ],
   "metadata": {
    "collapsed": false,
    "ExecuteTime": {
     "end_time": "2023-11-28T11:08:55.583347739Z",
     "start_time": "2023-11-28T11:08:55.388824837Z"
    }
   },
   "id": "a8e08f7e2021b2ec"
  },
  {
   "cell_type": "code",
   "execution_count": 261,
   "outputs": [
    {
     "data": {
      "text/plain": "59100"
     },
     "execution_count": 261,
     "metadata": {},
     "output_type": "execute_result"
    }
   ],
   "source": [
    "len(LabelFrame)"
   ],
   "metadata": {
    "collapsed": false,
    "ExecuteTime": {
     "end_time": "2023-11-28T11:08:55.583574891Z",
     "start_time": "2023-11-28T11:08:55.432547480Z"
    }
   },
   "id": "5da96d2c5aa1a868"
  },
  {
   "cell_type": "code",
   "execution_count": 262,
   "outputs": [
    {
     "data": {
      "text/plain": "                                                  ID  label  extra  \\\n0  /data/scratch/r098375/data/parelsnoer_new/NIFT...      0      0   \n1  /data/scratch/r098375/data/parelsnoer_new/NIFT...      0      0   \n2  /data/scratch/r098375/data/parelsnoer_new/NIFT...      0      0   \n3  /data/scratch/r098375/data/parelsnoer_new/NIFT...      0      0   \n4  /data/scratch/r098375/data/parelsnoer_new/NIFT...      0      0   \n\n                                          nifti_name  \n0  /data/scratch/r098375/data/parelsnoer_new/NIFT...  \n1  /data/scratch/r098375/data/parelsnoer_new/NIFT...  \n2  /data/scratch/r098375/data/parelsnoer_new/NIFT...  \n3  /data/scratch/r098375/data/parelsnoer_new/NIFT...  \n4  /data/scratch/r098375/data/parelsnoer_new/NIFT...  ",
      "text/html": "<div>\n<style scoped>\n    .dataframe tbody tr th:only-of-type {\n        vertical-align: middle;\n    }\n\n    .dataframe tbody tr th {\n        vertical-align: top;\n    }\n\n    .dataframe thead th {\n        text-align: right;\n    }\n</style>\n<table border=\"1\" class=\"dataframe\">\n  <thead>\n    <tr style=\"text-align: right;\">\n      <th></th>\n      <th>ID</th>\n      <th>label</th>\n      <th>extra</th>\n      <th>nifti_name</th>\n    </tr>\n  </thead>\n  <tbody>\n    <tr>\n      <th>0</th>\n      <td>/data/scratch/r098375/data/parelsnoer_new/NIFT...</td>\n      <td>0</td>\n      <td>0</td>\n      <td>/data/scratch/r098375/data/parelsnoer_new/NIFT...</td>\n    </tr>\n    <tr>\n      <th>1</th>\n      <td>/data/scratch/r098375/data/parelsnoer_new/NIFT...</td>\n      <td>0</td>\n      <td>0</td>\n      <td>/data/scratch/r098375/data/parelsnoer_new/NIFT...</td>\n    </tr>\n    <tr>\n      <th>2</th>\n      <td>/data/scratch/r098375/data/parelsnoer_new/NIFT...</td>\n      <td>0</td>\n      <td>0</td>\n      <td>/data/scratch/r098375/data/parelsnoer_new/NIFT...</td>\n    </tr>\n    <tr>\n      <th>3</th>\n      <td>/data/scratch/r098375/data/parelsnoer_new/NIFT...</td>\n      <td>0</td>\n      <td>0</td>\n      <td>/data/scratch/r098375/data/parelsnoer_new/NIFT...</td>\n    </tr>\n    <tr>\n      <th>4</th>\n      <td>/data/scratch/r098375/data/parelsnoer_new/NIFT...</td>\n      <td>0</td>\n      <td>0</td>\n      <td>/data/scratch/r098375/data/parelsnoer_new/NIFT...</td>\n    </tr>\n  </tbody>\n</table>\n</div>"
     },
     "execution_count": 262,
     "metadata": {},
     "output_type": "execute_result"
    }
   ],
   "source": [
    "LabelFrame.head()"
   ],
   "metadata": {
    "collapsed": false,
    "ExecuteTime": {
     "end_time": "2023-11-28T11:08:55.583924533Z",
     "start_time": "2023-11-28T11:08:55.434502172Z"
    }
   },
   "id": "64236870ad153f38"
  },
  {
   "cell_type": "code",
   "execution_count": 263,
   "outputs": [],
   "source": [
    "temp = LabelFrame.merge(FileFrame, how='inner', left_on='nifti_name', right_on=\"NIFTI_path\", validate=\"many_to_one\")"
   ],
   "metadata": {
    "collapsed": false,
    "ExecuteTime": {
     "end_time": "2023-11-28T11:08:55.586174554Z",
     "start_time": "2023-11-28T11:08:55.443111861Z"
    }
   },
   "id": "e1ec2ac9f9ed7966"
  },
  {
   "cell_type": "code",
   "execution_count": 264,
   "outputs": [
    {
     "data": {
      "text/plain": "                                                      ID  label  extra  \\\n0      /data/scratch/r098375/data/parelsnoer_new/NIFT...      0      0   \n1      /data/scratch/r098375/data/parelsnoer_new/NIFT...      0      0   \n2      /data/scratch/r098375/data/parelsnoer_new/NIFT...      0      0   \n3      /data/scratch/r098375/data/parelsnoer_new/NIFT...      0      0   \n4      /data/scratch/r098375/data/parelsnoer_new/NIFT...      0      0   \n...                                                  ...    ...    ...   \n59095  /data/scratch/r098375/data/parelsnoer_new/NIFT...      0      0   \n59096  /data/scratch/r098375/data/parelsnoer_new/NIFT...      0      0   \n59097  /data/scratch/r098375/data/parelsnoer_new/NIFT...      0      0   \n59098  /data/scratch/r098375/data/parelsnoer_new/NIFT...      0      0   \n59099  /data/scratch/r098375/data/parelsnoer_new/NIFT...      0      0   \n\n                                              nifti_name  \\\n0      /data/scratch/r098375/data/parelsnoer_new/NIFT...   \n1      /data/scratch/r098375/data/parelsnoer_new/NIFT...   \n2      /data/scratch/r098375/data/parelsnoer_new/NIFT...   \n3      /data/scratch/r098375/data/parelsnoer_new/NIFT...   \n4      /data/scratch/r098375/data/parelsnoer_new/NIFT...   \n...                                                  ...   \n59095  /data/scratch/r098375/data/parelsnoer_new/NIFT...   \n59096  /data/scratch/r098375/data/parelsnoer_new/NIFT...   \n59097  /data/scratch/r098375/data/parelsnoer_new/NIFT...   \n59098  /data/scratch/r098375/data/parelsnoer_new/NIFT...   \n59099  /data/scratch/r098375/data/parelsnoer_new/NIFT...   \n\n                                              originPath  \\\n0      /data/scratch/r098375/data/parelsnoer_new/data...   \n1      /data/scratch/r098375/data/parelsnoer_new/data...   \n2      /data/scratch/r098375/data/parelsnoer_new/data...   \n3      /data/scratch/r098375/data/parelsnoer_new/data...   \n4      /data/scratch/r098375/data/parelsnoer_new/data...   \n...                                                  ...   \n59095  /data/scratch/r098375/data/parelsnoer_new/data...   \n59096  /data/scratch/r098375/data/parelsnoer_new/data...   \n59097  /data/scratch/r098375/data/parelsnoer_new/data...   \n59098  /data/scratch/r098375/data/parelsnoer_new/data...   \n59099  /data/scratch/r098375/data/parelsnoer_new/data...   \n\n                                     structuredDicomPath  \\\n0      /data/scratch/r098375/data/parelsnoer_new/DICO...   \n1      /data/scratch/r098375/data/parelsnoer_new/DICO...   \n2      /data/scratch/r098375/data/parelsnoer_new/DICO...   \n3      /data/scratch/r098375/data/parelsnoer_new/DICO...   \n4      /data/scratch/r098375/data/parelsnoer_new/DICO...   \n...                                                  ...   \n59095  /data/scratch/r098375/data/parelsnoer_new/DICO...   \n59096  /data/scratch/r098375/data/parelsnoer_new/DICO...   \n59097  /data/scratch/r098375/data/parelsnoer_new/DICO...   \n59098  /data/scratch/r098375/data/parelsnoer_new/DICO...   \n59099  /data/scratch/r098375/data/parelsnoer_new/DICO...   \n\n                                              NIFTI_path sliced  duplicated  \\\n0      /data/scratch/r098375/data/parelsnoer_new/NIFT...   True       False   \n1      /data/scratch/r098375/data/parelsnoer_new/NIFT...   True       False   \n2      /data/scratch/r098375/data/parelsnoer_new/NIFT...   True       False   \n3      /data/scratch/r098375/data/parelsnoer_new/NIFT...   True       False   \n4      /data/scratch/r098375/data/parelsnoer_new/NIFT...   True       False   \n...                                                  ...    ...         ...   \n59095  /data/scratch/r098375/data/parelsnoer_new/NIFT...   True       False   \n59096  /data/scratch/r098375/data/parelsnoer_new/NIFT...   True       False   \n59097  /data/scratch/r098375/data/parelsnoer_new/NIFT...   True       False   \n59098  /data/scratch/r098375/data/parelsnoer_new/NIFT...   True       False   \n59099  /data/scratch/r098375/data/parelsnoer_new/NIFT...   True       False   \n\n                               name renamed description  numLabel  \n0      701-t_T2W_TSE_dual_echo_SPIR     T2w         T2w         2  \n1      701-t_T2W_TSE_dual_echo_SPIR     T2w         T2w         2  \n2      701-t_T2W_TSE_dual_echo_SPIR     T2w         T2w         2  \n3      701-t_T2W_TSE_dual_echo_SPIR     T2w         T2w         2  \n4      701-t_T2W_TSE_dual_echo_SPIR     T2w         T2w         2  \n...                             ...     ...         ...       ...  \n59095                   601-t_Qflow   other       other        15  \n59096                   601-t_Qflow   other       other        15  \n59097                   601-t_Qflow   other       other        15  \n59098                   601-t_Qflow   other       other        15  \n59099                   601-t_Qflow   other       other        15  \n\n[59100 rows x 13 columns]",
      "text/html": "<div>\n<style scoped>\n    .dataframe tbody tr th:only-of-type {\n        vertical-align: middle;\n    }\n\n    .dataframe tbody tr th {\n        vertical-align: top;\n    }\n\n    .dataframe thead th {\n        text-align: right;\n    }\n</style>\n<table border=\"1\" class=\"dataframe\">\n  <thead>\n    <tr style=\"text-align: right;\">\n      <th></th>\n      <th>ID</th>\n      <th>label</th>\n      <th>extra</th>\n      <th>nifti_name</th>\n      <th>originPath</th>\n      <th>structuredDicomPath</th>\n      <th>NIFTI_path</th>\n      <th>sliced</th>\n      <th>duplicated</th>\n      <th>name</th>\n      <th>renamed</th>\n      <th>description</th>\n      <th>numLabel</th>\n    </tr>\n  </thead>\n  <tbody>\n    <tr>\n      <th>0</th>\n      <td>/data/scratch/r098375/data/parelsnoer_new/NIFT...</td>\n      <td>0</td>\n      <td>0</td>\n      <td>/data/scratch/r098375/data/parelsnoer_new/NIFT...</td>\n      <td>/data/scratch/r098375/data/parelsnoer_new/data...</td>\n      <td>/data/scratch/r098375/data/parelsnoer_new/DICO...</td>\n      <td>/data/scratch/r098375/data/parelsnoer_new/NIFT...</td>\n      <td>True</td>\n      <td>False</td>\n      <td>701-t_T2W_TSE_dual_echo_SPIR</td>\n      <td>T2w</td>\n      <td>T2w</td>\n      <td>2</td>\n    </tr>\n    <tr>\n      <th>1</th>\n      <td>/data/scratch/r098375/data/parelsnoer_new/NIFT...</td>\n      <td>0</td>\n      <td>0</td>\n      <td>/data/scratch/r098375/data/parelsnoer_new/NIFT...</td>\n      <td>/data/scratch/r098375/data/parelsnoer_new/data...</td>\n      <td>/data/scratch/r098375/data/parelsnoer_new/DICO...</td>\n      <td>/data/scratch/r098375/data/parelsnoer_new/NIFT...</td>\n      <td>True</td>\n      <td>False</td>\n      <td>701-t_T2W_TSE_dual_echo_SPIR</td>\n      <td>T2w</td>\n      <td>T2w</td>\n      <td>2</td>\n    </tr>\n    <tr>\n      <th>2</th>\n      <td>/data/scratch/r098375/data/parelsnoer_new/NIFT...</td>\n      <td>0</td>\n      <td>0</td>\n      <td>/data/scratch/r098375/data/parelsnoer_new/NIFT...</td>\n      <td>/data/scratch/r098375/data/parelsnoer_new/data...</td>\n      <td>/data/scratch/r098375/data/parelsnoer_new/DICO...</td>\n      <td>/data/scratch/r098375/data/parelsnoer_new/NIFT...</td>\n      <td>True</td>\n      <td>False</td>\n      <td>701-t_T2W_TSE_dual_echo_SPIR</td>\n      <td>T2w</td>\n      <td>T2w</td>\n      <td>2</td>\n    </tr>\n    <tr>\n      <th>3</th>\n      <td>/data/scratch/r098375/data/parelsnoer_new/NIFT...</td>\n      <td>0</td>\n      <td>0</td>\n      <td>/data/scratch/r098375/data/parelsnoer_new/NIFT...</td>\n      <td>/data/scratch/r098375/data/parelsnoer_new/data...</td>\n      <td>/data/scratch/r098375/data/parelsnoer_new/DICO...</td>\n      <td>/data/scratch/r098375/data/parelsnoer_new/NIFT...</td>\n      <td>True</td>\n      <td>False</td>\n      <td>701-t_T2W_TSE_dual_echo_SPIR</td>\n      <td>T2w</td>\n      <td>T2w</td>\n      <td>2</td>\n    </tr>\n    <tr>\n      <th>4</th>\n      <td>/data/scratch/r098375/data/parelsnoer_new/NIFT...</td>\n      <td>0</td>\n      <td>0</td>\n      <td>/data/scratch/r098375/data/parelsnoer_new/NIFT...</td>\n      <td>/data/scratch/r098375/data/parelsnoer_new/data...</td>\n      <td>/data/scratch/r098375/data/parelsnoer_new/DICO...</td>\n      <td>/data/scratch/r098375/data/parelsnoer_new/NIFT...</td>\n      <td>True</td>\n      <td>False</td>\n      <td>701-t_T2W_TSE_dual_echo_SPIR</td>\n      <td>T2w</td>\n      <td>T2w</td>\n      <td>2</td>\n    </tr>\n    <tr>\n      <th>...</th>\n      <td>...</td>\n      <td>...</td>\n      <td>...</td>\n      <td>...</td>\n      <td>...</td>\n      <td>...</td>\n      <td>...</td>\n      <td>...</td>\n      <td>...</td>\n      <td>...</td>\n      <td>...</td>\n      <td>...</td>\n      <td>...</td>\n    </tr>\n    <tr>\n      <th>59095</th>\n      <td>/data/scratch/r098375/data/parelsnoer_new/NIFT...</td>\n      <td>0</td>\n      <td>0</td>\n      <td>/data/scratch/r098375/data/parelsnoer_new/NIFT...</td>\n      <td>/data/scratch/r098375/data/parelsnoer_new/data...</td>\n      <td>/data/scratch/r098375/data/parelsnoer_new/DICO...</td>\n      <td>/data/scratch/r098375/data/parelsnoer_new/NIFT...</td>\n      <td>True</td>\n      <td>False</td>\n      <td>601-t_Qflow</td>\n      <td>other</td>\n      <td>other</td>\n      <td>15</td>\n    </tr>\n    <tr>\n      <th>59096</th>\n      <td>/data/scratch/r098375/data/parelsnoer_new/NIFT...</td>\n      <td>0</td>\n      <td>0</td>\n      <td>/data/scratch/r098375/data/parelsnoer_new/NIFT...</td>\n      <td>/data/scratch/r098375/data/parelsnoer_new/data...</td>\n      <td>/data/scratch/r098375/data/parelsnoer_new/DICO...</td>\n      <td>/data/scratch/r098375/data/parelsnoer_new/NIFT...</td>\n      <td>True</td>\n      <td>False</td>\n      <td>601-t_Qflow</td>\n      <td>other</td>\n      <td>other</td>\n      <td>15</td>\n    </tr>\n    <tr>\n      <th>59097</th>\n      <td>/data/scratch/r098375/data/parelsnoer_new/NIFT...</td>\n      <td>0</td>\n      <td>0</td>\n      <td>/data/scratch/r098375/data/parelsnoer_new/NIFT...</td>\n      <td>/data/scratch/r098375/data/parelsnoer_new/data...</td>\n      <td>/data/scratch/r098375/data/parelsnoer_new/DICO...</td>\n      <td>/data/scratch/r098375/data/parelsnoer_new/NIFT...</td>\n      <td>True</td>\n      <td>False</td>\n      <td>601-t_Qflow</td>\n      <td>other</td>\n      <td>other</td>\n      <td>15</td>\n    </tr>\n    <tr>\n      <th>59098</th>\n      <td>/data/scratch/r098375/data/parelsnoer_new/NIFT...</td>\n      <td>0</td>\n      <td>0</td>\n      <td>/data/scratch/r098375/data/parelsnoer_new/NIFT...</td>\n      <td>/data/scratch/r098375/data/parelsnoer_new/data...</td>\n      <td>/data/scratch/r098375/data/parelsnoer_new/DICO...</td>\n      <td>/data/scratch/r098375/data/parelsnoer_new/NIFT...</td>\n      <td>True</td>\n      <td>False</td>\n      <td>601-t_Qflow</td>\n      <td>other</td>\n      <td>other</td>\n      <td>15</td>\n    </tr>\n    <tr>\n      <th>59099</th>\n      <td>/data/scratch/r098375/data/parelsnoer_new/NIFT...</td>\n      <td>0</td>\n      <td>0</td>\n      <td>/data/scratch/r098375/data/parelsnoer_new/NIFT...</td>\n      <td>/data/scratch/r098375/data/parelsnoer_new/data...</td>\n      <td>/data/scratch/r098375/data/parelsnoer_new/DICO...</td>\n      <td>/data/scratch/r098375/data/parelsnoer_new/NIFT...</td>\n      <td>True</td>\n      <td>False</td>\n      <td>601-t_Qflow</td>\n      <td>other</td>\n      <td>other</td>\n      <td>15</td>\n    </tr>\n  </tbody>\n</table>\n<p>59100 rows × 13 columns</p>\n</div>"
     },
     "execution_count": 264,
     "metadata": {},
     "output_type": "execute_result"
    }
   ],
   "source": [
    "temp"
   ],
   "metadata": {
    "collapsed": false,
    "ExecuteTime": {
     "end_time": "2023-11-28T11:08:55.592638195Z",
     "start_time": "2023-11-28T11:08:55.503647601Z"
    }
   },
   "id": "2502a713672c92bc"
  },
  {
   "cell_type": "code",
   "execution_count": 265,
   "outputs": [
    {
     "data": {
      "text/plain": "59100"
     },
     "execution_count": 265,
     "metadata": {},
     "output_type": "execute_result"
    }
   ],
   "source": [
    "len(temp)"
   ],
   "metadata": {
    "collapsed": false,
    "ExecuteTime": {
     "end_time": "2023-11-28T11:08:55.592943253Z",
     "start_time": "2023-11-28T11:08:55.544624939Z"
    }
   },
   "id": "d756626715e98e0b"
  },
  {
   "cell_type": "code",
   "execution_count": 266,
   "outputs": [
    {
     "data": {
      "text/plain": "description\ndti       640.0\nT1w       613.0\nT2w       490.0\nother     234.0\nFLAIR     165.0\nsurvey    115.0\nasl        66.0\npwi        33.0\nT1c         3.0\nminip       3.0\nswi         2.0\nName: count, dtype: float64"
     },
     "execution_count": 266,
     "metadata": {},
     "output_type": "execute_result"
    }
   ],
   "source": [
    "temp['description'].value_counts()/25"
   ],
   "metadata": {
    "collapsed": false,
    "ExecuteTime": {
     "end_time": "2023-11-28T11:08:55.593147726Z",
     "start_time": "2023-11-28T11:08:55.544762722Z"
    }
   },
   "id": "fadaa8ebb5130994"
  },
  {
   "cell_type": "code",
   "execution_count": 267,
   "outputs": [
    {
     "data": {
      "text/plain": "renamed\nT1w        664\ndti        640\nT2w        490\nsurvey     320\nother      240\nFLAIR      165\nasl         66\npwi         33\nT1c          3\nminip        3\nswi          2\nunknown      2\nName: count, dtype: int64"
     },
     "execution_count": 267,
     "metadata": {},
     "output_type": "execute_result"
    }
   ],
   "source": [
    "FileFrame['renamed'].value_counts()"
   ],
   "metadata": {
    "collapsed": false,
    "ExecuteTime": {
     "end_time": "2023-11-28T11:08:55.593307173Z",
     "start_time": "2023-11-28T11:08:55.544826043Z"
    }
   },
   "id": "ca8216ad7d4638ca"
  },
  {
   "cell_type": "code",
   "execution_count": 268,
   "outputs": [
    {
     "data": {
      "text/plain": "numLabel\n 0     664\n 14    640\n 15    560\n 2     490\n 3     165\n 13     66\n 12     33\n 5       5\n 1       3\n-1       2\nName: count, dtype: int64"
     },
     "execution_count": 268,
     "metadata": {},
     "output_type": "execute_result"
    }
   ],
   "source": [
    "FileFrame['numLabel'].value_counts()"
   ],
   "metadata": {
    "collapsed": false,
    "ExecuteTime": {
     "end_time": "2023-11-28T11:08:55.593517895Z",
     "start_time": "2023-11-28T11:08:55.544903992Z"
    }
   },
   "id": "3f8fd384b6f4064c"
  },
  {
   "cell_type": "code",
   "execution_count": 269,
   "outputs": [],
   "source": [
    "temp['label'] = temp['numLabel']"
   ],
   "metadata": {
    "collapsed": false,
    "ExecuteTime": {
     "end_time": "2023-11-28T11:08:55.593581356Z",
     "start_time": "2023-11-28T11:08:55.544959227Z"
    }
   },
   "id": "b1d3a4de7027859"
  },
  {
   "cell_type": "code",
   "execution_count": 270,
   "outputs": [],
   "source": [
    "temp.loc[temp['label']==2, 'label'] = 7"
   ],
   "metadata": {
    "collapsed": false,
    "ExecuteTime": {
     "end_time": "2023-11-28T11:08:55.593638235Z",
     "start_time": "2023-11-28T11:08:55.544990807Z"
    }
   },
   "id": "8e2ed238467b1c1d"
  },
  {
   "cell_type": "code",
   "execution_count": 271,
   "outputs": [],
   "source": [
    "FinalLabelFrame = temp[['ID','label','extra']]"
   ],
   "metadata": {
    "collapsed": false,
    "ExecuteTime": {
     "end_time": "2023-11-28T11:08:55.796038595Z",
     "start_time": "2023-11-28T11:08:55.545033430Z"
    }
   },
   "id": "87f73ed71eece3ec"
  },
  {
   "cell_type": "code",
   "execution_count": 272,
   "outputs": [
    {
     "data": {
      "text/plain": "label\n14    16000\n0     15325\n7     12250\n15     8725\n3      4125\n13     1650\n12      825\n5       125\n1        75\nName: count, dtype: int64"
     },
     "execution_count": 272,
     "metadata": {},
     "output_type": "execute_result"
    }
   ],
   "source": [
    "FinalLabelFrame.label.value_counts()"
   ],
   "metadata": {
    "collapsed": false,
    "ExecuteTime": {
     "end_time": "2023-11-28T11:08:55.796339028Z",
     "start_time": "2023-11-28T11:08:55.592546039Z"
    }
   },
   "id": "3dca0a5e7e71c583"
  },
  {
   "cell_type": "code",
   "execution_count": 273,
   "outputs": [],
   "source": [
    "FinalLabelFrame = FinalLabelFrame[FinalLabelFrame['label']!=-1]"
   ],
   "metadata": {
    "collapsed": false,
    "ExecuteTime": {
     "end_time": "2023-11-28T11:08:55.796426434Z",
     "start_time": "2023-11-28T11:08:55.592618668Z"
    }
   },
   "id": "7613a3c48ed07cc4"
  },
  {
   "cell_type": "code",
   "execution_count": 274,
   "outputs": [
    {
     "data": {
      "text/plain": "                                                      ID  label  extra\n0      /data/scratch/r098375/data/parelsnoer_new/NIFT...      7      0\n1      /data/scratch/r098375/data/parelsnoer_new/NIFT...      7      0\n2      /data/scratch/r098375/data/parelsnoer_new/NIFT...      7      0\n3      /data/scratch/r098375/data/parelsnoer_new/NIFT...      7      0\n4      /data/scratch/r098375/data/parelsnoer_new/NIFT...      7      0\n...                                                  ...    ...    ...\n59095  /data/scratch/r098375/data/parelsnoer_new/NIFT...     15      0\n59096  /data/scratch/r098375/data/parelsnoer_new/NIFT...     15      0\n59097  /data/scratch/r098375/data/parelsnoer_new/NIFT...     15      0\n59098  /data/scratch/r098375/data/parelsnoer_new/NIFT...     15      0\n59099  /data/scratch/r098375/data/parelsnoer_new/NIFT...     15      0\n\n[59100 rows x 3 columns]",
      "text/html": "<div>\n<style scoped>\n    .dataframe tbody tr th:only-of-type {\n        vertical-align: middle;\n    }\n\n    .dataframe tbody tr th {\n        vertical-align: top;\n    }\n\n    .dataframe thead th {\n        text-align: right;\n    }\n</style>\n<table border=\"1\" class=\"dataframe\">\n  <thead>\n    <tr style=\"text-align: right;\">\n      <th></th>\n      <th>ID</th>\n      <th>label</th>\n      <th>extra</th>\n    </tr>\n  </thead>\n  <tbody>\n    <tr>\n      <th>0</th>\n      <td>/data/scratch/r098375/data/parelsnoer_new/NIFT...</td>\n      <td>7</td>\n      <td>0</td>\n    </tr>\n    <tr>\n      <th>1</th>\n      <td>/data/scratch/r098375/data/parelsnoer_new/NIFT...</td>\n      <td>7</td>\n      <td>0</td>\n    </tr>\n    <tr>\n      <th>2</th>\n      <td>/data/scratch/r098375/data/parelsnoer_new/NIFT...</td>\n      <td>7</td>\n      <td>0</td>\n    </tr>\n    <tr>\n      <th>3</th>\n      <td>/data/scratch/r098375/data/parelsnoer_new/NIFT...</td>\n      <td>7</td>\n      <td>0</td>\n    </tr>\n    <tr>\n      <th>4</th>\n      <td>/data/scratch/r098375/data/parelsnoer_new/NIFT...</td>\n      <td>7</td>\n      <td>0</td>\n    </tr>\n    <tr>\n      <th>...</th>\n      <td>...</td>\n      <td>...</td>\n      <td>...</td>\n    </tr>\n    <tr>\n      <th>59095</th>\n      <td>/data/scratch/r098375/data/parelsnoer_new/NIFT...</td>\n      <td>15</td>\n      <td>0</td>\n    </tr>\n    <tr>\n      <th>59096</th>\n      <td>/data/scratch/r098375/data/parelsnoer_new/NIFT...</td>\n      <td>15</td>\n      <td>0</td>\n    </tr>\n    <tr>\n      <th>59097</th>\n      <td>/data/scratch/r098375/data/parelsnoer_new/NIFT...</td>\n      <td>15</td>\n      <td>0</td>\n    </tr>\n    <tr>\n      <th>59098</th>\n      <td>/data/scratch/r098375/data/parelsnoer_new/NIFT...</td>\n      <td>15</td>\n      <td>0</td>\n    </tr>\n    <tr>\n      <th>59099</th>\n      <td>/data/scratch/r098375/data/parelsnoer_new/NIFT...</td>\n      <td>15</td>\n      <td>0</td>\n    </tr>\n  </tbody>\n</table>\n<p>59100 rows × 3 columns</p>\n</div>"
     },
     "execution_count": 274,
     "metadata": {},
     "output_type": "execute_result"
    }
   ],
   "source": [
    "FinalLabelFrame"
   ],
   "metadata": {
    "collapsed": false,
    "ExecuteTime": {
     "end_time": "2023-11-28T11:08:55.800792356Z",
     "start_time": "2023-11-28T11:08:55.592747977Z"
    }
   },
   "id": "56e04198ea660d98"
  },
  {
   "cell_type": "code",
   "execution_count": 275,
   "outputs": [
    {
     "data": {
      "text/plain": "label\n14    16000\n0     15325\n7     12250\n15     8725\n3      4125\n13     1650\n12      825\n5       125\n1        75\nName: count, dtype: int64"
     },
     "execution_count": 275,
     "metadata": {},
     "output_type": "execute_result"
    }
   ],
   "source": [
    "FinalLabelFrame['label'].value_counts()"
   ],
   "metadata": {
    "collapsed": false,
    "ExecuteTime": {
     "end_time": "2023-11-28T11:08:55.801102980Z",
     "start_time": "2023-11-28T11:08:55.592823738Z"
    }
   },
   "id": "b18ea06a1e4e79d7"
  },
  {
   "cell_type": "code",
   "execution_count": 276,
   "outputs": [],
   "source": [
    "FinalLabelFrame.to_csv('Labels_parelsnoer_annotated_extensive3.txt',sep='\\t', index=False, header=False)"
   ],
   "metadata": {
    "collapsed": false,
    "ExecuteTime": {
     "end_time": "2023-11-28T11:08:56.091689130Z",
     "start_time": "2023-11-28T11:08:55.592898682Z"
    }
   },
   "id": "75c5cf2b8ee37d8a"
  },
  {
   "cell_type": "code",
   "execution_count": 276,
   "outputs": [],
   "source": [],
   "metadata": {
    "collapsed": false,
    "ExecuteTime": {
     "end_time": "2023-11-28T11:08:56.099936842Z",
     "start_time": "2023-11-28T11:08:55.840743579Z"
    }
   },
   "id": "c6a575d0c8cc2419"
  },
  {
   "cell_type": "code",
   "execution_count": 276,
   "outputs": [],
   "source": [],
   "metadata": {
    "collapsed": false,
    "ExecuteTime": {
     "end_time": "2023-11-28T11:08:56.100189515Z",
     "start_time": "2023-11-28T11:08:55.844010656Z"
    }
   },
   "id": "226cdb5835fd63"
  },
  {
   "cell_type": "code",
   "execution_count": 276,
   "outputs": [],
   "source": [],
   "metadata": {
    "collapsed": false,
    "ExecuteTime": {
     "end_time": "2023-11-28T11:08:56.127015052Z",
     "start_time": "2023-11-28T11:08:55.847206283Z"
    }
   },
   "id": "e64f3312ff3a4c7c"
  }
 ],
 "metadata": {
  "kernelspec": {
   "display_name": "Python 3",
   "language": "python",
   "name": "python3"
  },
  "language_info": {
   "codemirror_mode": {
    "name": "ipython",
    "version": 2
   },
   "file_extension": ".py",
   "mimetype": "text/x-python",
   "name": "python",
   "nbconvert_exporter": "python",
   "pygments_lexer": "ipython2",
   "version": "2.7.6"
  }
 },
 "nbformat": 4,
 "nbformat_minor": 5
}
