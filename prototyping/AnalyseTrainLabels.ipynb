{
 "cells": [
  {
   "cell_type": "code",
   "execution_count": 83,
   "id": "initial_id",
   "metadata": {
    "collapsed": true,
    "ExecuteTime": {
     "end_time": "2023-11-17T07:41:22.426061031Z",
     "start_time": "2023-11-17T07:41:22.287624234Z"
    }
   },
   "outputs": [],
   "source": [
    "import os.path\n",
    "\n",
    "import numpy as np\n",
    "import pandas as pd"
   ]
  },
  {
   "cell_type": "code",
   "execution_count": 84,
   "outputs": [],
   "source": [
    "classesDict = {\n",
    "    \"T1\":0,\n",
    "    \"T1_c\":1,\n",
    "    \"T2\":2,\n",
    "    \"T2-FLAIR\":3,\n",
    "    \"PD\":4,\n",
    "    \"SWI\":5,\n",
    "    \"GRE\":6,\n",
    "    \"T2*\":7,\n",
    "    \"DWI\":8,\n",
    "    \"ADC\":9,\n",
    "    \"BOLD\":10,\n",
    "    \"angio\":11,\n",
    "    \"PWI\":12,\n",
    "    \"ASL\":13,\n",
    "    \"DTI\":14,\n",
    "    \"Other\":15\n",
    "}"
   ],
   "metadata": {
    "collapsed": false,
    "ExecuteTime": {
     "end_time": "2023-11-17T07:41:22.429255813Z",
     "start_time": "2023-11-17T07:41:22.328518152Z"
    }
   },
   "id": "edc6427f3b7f991f"
  },
  {
   "cell_type": "code",
   "execution_count": 109,
   "outputs": [],
   "source": [
    "train_labels_path = 'combinedDfs/CombinedTrainingFrame_A2_A3_O3_egd_rss_hb_pruned.txt'\n",
    "test_labels_path = 'combinedDfs/CombinedTestingFrame_A2_A3_O3_egd_rss_hb_pruned.txt'"
   ],
   "metadata": {
    "collapsed": false,
    "ExecuteTime": {
     "end_time": "2023-11-17T09:21:26.586314907Z",
     "start_time": "2023-11-17T09:21:26.583208864Z"
    }
   },
   "id": "1d14e77d3b5bfbc5"
  },
  {
   "cell_type": "code",
   "execution_count": 110,
   "outputs": [],
   "source": [
    "train_labels = pd.read_csv(train_labels_path,names=['ID','label','extra'],sep='\\t', dtype={'ID':str,'label':int,'extra':int})\n",
    "test_labels = pd.read_csv(test_labels_path,names=['ID','label','extra'],sep='\\t', dtype={'ID':str,'label':int,'extra':int})"
   ],
   "metadata": {
    "collapsed": false,
    "ExecuteTime": {
     "end_time": "2023-11-17T09:21:27.795329299Z",
     "start_time": "2023-11-17T09:21:26.844393033Z"
    }
   },
   "id": "4ca9e042b04aded4"
  },
  {
   "cell_type": "code",
   "execution_count": 111,
   "outputs": [],
   "source": [
    "Label_name_list = list(classesDict.keys())"
   ],
   "metadata": {
    "collapsed": false,
    "ExecuteTime": {
     "end_time": "2023-11-17T09:21:27.805274629Z",
     "start_time": "2023-11-17T09:21:27.796727110Z"
    }
   },
   "id": "e56a9c4bfe44909e"
  },
  {
   "cell_type": "code",
   "execution_count": 113,
   "outputs": [
    {
     "data": {
      "text/plain": "                                                      ID  label  extra\n0      /trinity/home/r098375/DDS/data/ADNI/ADNI3/trai...      3      0\n1      /trinity/home/r098375/DDS/data/ADNI/ADNI3/trai...      7      0\n2      /trinity/home/r098375/DDS/data/ADNI/ADNI3/trai...      0      0\n3      /trinity/home/r098375/DDS/data/ADNI/ADNI3/trai...      3      0\n4      /trinity/home/r098375/DDS/data/ADNI/ADNI3/trai...     15      0\n...                                                  ...    ...    ...\n62665  /trinity/home/r098375/DDS/data/HeartBrain/NIFT...      0      0\n62666  /trinity/home/r098375/DDS/data/HeartBrain/NIFT...      0      0\n62667  /trinity/home/r098375/DDS/data/HeartBrain/NIFT...      0      0\n62668  /trinity/home/r098375/DDS/data/HeartBrain/NIFT...      0      0\n62669  /trinity/home/r098375/DDS/data/HeartBrain/NIFT...      0      0\n\n[603855 rows x 3 columns]",
      "text/html": "<div>\n<style scoped>\n    .dataframe tbody tr th:only-of-type {\n        vertical-align: middle;\n    }\n\n    .dataframe tbody tr th {\n        vertical-align: top;\n    }\n\n    .dataframe thead th {\n        text-align: right;\n    }\n</style>\n<table border=\"1\" class=\"dataframe\">\n  <thead>\n    <tr style=\"text-align: right;\">\n      <th></th>\n      <th>ID</th>\n      <th>label</th>\n      <th>extra</th>\n    </tr>\n  </thead>\n  <tbody>\n    <tr>\n      <th>0</th>\n      <td>/trinity/home/r098375/DDS/data/ADNI/ADNI3/trai...</td>\n      <td>3</td>\n      <td>0</td>\n    </tr>\n    <tr>\n      <th>1</th>\n      <td>/trinity/home/r098375/DDS/data/ADNI/ADNI3/trai...</td>\n      <td>7</td>\n      <td>0</td>\n    </tr>\n    <tr>\n      <th>2</th>\n      <td>/trinity/home/r098375/DDS/data/ADNI/ADNI3/trai...</td>\n      <td>0</td>\n      <td>0</td>\n    </tr>\n    <tr>\n      <th>3</th>\n      <td>/trinity/home/r098375/DDS/data/ADNI/ADNI3/trai...</td>\n      <td>3</td>\n      <td>0</td>\n    </tr>\n    <tr>\n      <th>4</th>\n      <td>/trinity/home/r098375/DDS/data/ADNI/ADNI3/trai...</td>\n      <td>15</td>\n      <td>0</td>\n    </tr>\n    <tr>\n      <th>...</th>\n      <td>...</td>\n      <td>...</td>\n      <td>...</td>\n    </tr>\n    <tr>\n      <th>62665</th>\n      <td>/trinity/home/r098375/DDS/data/HeartBrain/NIFT...</td>\n      <td>0</td>\n      <td>0</td>\n    </tr>\n    <tr>\n      <th>62666</th>\n      <td>/trinity/home/r098375/DDS/data/HeartBrain/NIFT...</td>\n      <td>0</td>\n      <td>0</td>\n    </tr>\n    <tr>\n      <th>62667</th>\n      <td>/trinity/home/r098375/DDS/data/HeartBrain/NIFT...</td>\n      <td>0</td>\n      <td>0</td>\n    </tr>\n    <tr>\n      <th>62668</th>\n      <td>/trinity/home/r098375/DDS/data/HeartBrain/NIFT...</td>\n      <td>0</td>\n      <td>0</td>\n    </tr>\n    <tr>\n      <th>62669</th>\n      <td>/trinity/home/r098375/DDS/data/HeartBrain/NIFT...</td>\n      <td>0</td>\n      <td>0</td>\n    </tr>\n  </tbody>\n</table>\n<p>603855 rows × 3 columns</p>\n</div>"
     },
     "execution_count": 113,
     "metadata": {},
     "output_type": "execute_result"
    }
   ],
   "source": [
    "Labels = pd.concat((train_labels, test_labels), axis=0)\n",
    "Labels"
   ],
   "metadata": {
    "collapsed": false,
    "ExecuteTime": {
     "end_time": "2023-11-17T09:21:32.118734526Z",
     "start_time": "2023-11-17T09:21:32.083801821Z"
    }
   },
   "id": "9a4c9676255b78c"
  },
  {
   "cell_type": "code",
   "execution_count": 114,
   "outputs": [],
   "source": [
    "def extractDataset(ID):\n",
    "    if 'ADNI2' in ID:\n",
    "        return 'ADNI2'\n",
    "    elif 'ADNI3' in ID:\n",
    "        return 'ADNI3'\n",
    "    elif 'OASIS3' in ID:\n",
    "        return 'OASIS3'\n",
    "    elif 'egd' in ID:\n",
    "        return 'egd'\n",
    "    elif 'Rstudy' in ID:\n",
    "        return 'rss'\n",
    "    elif 'HeartBrain' in ID:\n",
    "        return 'HeartBrain'\n",
    "    return None\n",
    "\n",
    "def assignStringLabel(label, labelList):\n",
    "    return labelList[label]"
   ],
   "metadata": {
    "collapsed": false,
    "ExecuteTime": {
     "end_time": "2023-11-17T09:21:41.432290038Z",
     "start_time": "2023-11-17T09:21:41.422244259Z"
    }
   },
   "id": "8036efcb119f40ae"
  },
  {
   "cell_type": "code",
   "execution_count": 115,
   "outputs": [],
   "source": [
    "FullLabelFrame = Labels.copy()"
   ],
   "metadata": {
    "collapsed": false,
    "ExecuteTime": {
     "end_time": "2023-11-17T09:21:41.800530196Z",
     "start_time": "2023-11-17T09:21:41.770824150Z"
    }
   },
   "id": "30ae557186084b76"
  },
  {
   "cell_type": "code",
   "execution_count": 116,
   "outputs": [],
   "source": [
    "FullLabelFrame['dataset'] = FullLabelFrame['ID'].apply(extractDataset)\n",
    "FullLabelFrame['string_label'] = FullLabelFrame['label'].apply(assignStringLabel, labelList=Label_name_list)"
   ],
   "metadata": {
    "collapsed": false,
    "ExecuteTime": {
     "end_time": "2023-11-17T09:21:42.450779345Z",
     "start_time": "2023-11-17T09:21:42.093239107Z"
    }
   },
   "id": "76293cacf0efa33d"
  },
  {
   "cell_type": "code",
   "execution_count": 117,
   "outputs": [
    {
     "data": {
      "text/plain": "dataset     string_label\nADNI2       PD               225.0\n            T2               225.0\nADNI3       Other           5791.0\n            T2*             3978.0\n            T1              2326.0\n            T2-FLAIR        2013.0\n            PWI              971.0\n            ASL              377.0\n            DTI               82.0\n            SWI               17.0\n            PD                 2.0\nHeartBrain  Other            838.0\n            PWI              281.0\n            ASL              242.0\n            SWI              215.0\n            T1               173.0\nOASIS3      Other           5758.0\n            BOLD            3017.0\n            T2              2483.0\n            T1              2390.0\n            DWI             2009.0\n            T2*             1414.0\n            ASL              940.0\n            SWI              812.0\n            T2-FLAIR         757.0\n            angio            557.0\n            GRE              437.0\negd         DWI              453.0\n            T1_c             385.0\n            T1               273.0\n            T2               231.0\n            PWI              126.0\n            ADC              113.0\n            Other             60.0\n            PD                 3.0\n            ASL                2.0\n            DTI                1.0\nrss         Other            109.0\n            DTI               78.0\n            PD                26.0\n            T1                25.0\n            SWI               19.0\n            BOLD              17.0\n            ASL                6.0\nName: count, dtype: float64"
     },
     "execution_count": 117,
     "metadata": {},
     "output_type": "execute_result"
    }
   ],
   "source": [
    "FullLabelFrame.groupby('dataset')['string_label'].value_counts()/15"
   ],
   "metadata": {
    "collapsed": false,
    "ExecuteTime": {
     "end_time": "2023-11-17T09:21:42.535940808Z",
     "start_time": "2023-11-17T09:21:42.456408961Z"
    }
   },
   "id": "fe1dfef5f6af276b"
  },
  {
   "cell_type": "code",
   "execution_count": 118,
   "outputs": [
    {
     "name": "stdout",
     "output_type": "stream",
     "text": [
      "\\begin{tabular}{llr}\n",
      "\\toprule\n",
      " &  & count \\\\\n",
      "string_label & dataset &  \\\\\n",
      "\\midrule\n",
      "ADC & egd & 113.000000 \\\\\n",
      "\\cline{1-3}\n",
      "\\multirow[t]{5}{*}{ASL} & OASIS3 & 940.000000 \\\\\n",
      " & ADNI3 & 377.000000 \\\\\n",
      " & HeartBrain & 242.000000 \\\\\n",
      " & rss & 6.000000 \\\\\n",
      " & egd & 2.000000 \\\\\n",
      "\\cline{1-3}\n",
      "\\multirow[t]{2}{*}{BOLD} & OASIS3 & 3017.000000 \\\\\n",
      " & rss & 17.000000 \\\\\n",
      "\\cline{1-3}\n",
      "\\multirow[t]{3}{*}{DTI} & ADNI3 & 82.000000 \\\\\n",
      " & rss & 78.000000 \\\\\n",
      " & egd & 1.000000 \\\\\n",
      "\\cline{1-3}\n",
      "\\multirow[t]{2}{*}{DWI} & OASIS3 & 2009.000000 \\\\\n",
      " & egd & 453.000000 \\\\\n",
      "\\cline{1-3}\n",
      "GRE & OASIS3 & 437.000000 \\\\\n",
      "\\cline{1-3}\n",
      "\\multirow[t]{5}{*}{Other} & ADNI3 & 5791.000000 \\\\\n",
      " & OASIS3 & 5758.000000 \\\\\n",
      " & HeartBrain & 838.000000 \\\\\n",
      " & rss & 109.000000 \\\\\n",
      " & egd & 60.000000 \\\\\n",
      "\\cline{1-3}\n",
      "\\multirow[t]{4}{*}{PD} & ADNI2 & 225.000000 \\\\\n",
      " & rss & 26.000000 \\\\\n",
      " & egd & 3.000000 \\\\\n",
      " & ADNI3 & 2.000000 \\\\\n",
      "\\cline{1-3}\n",
      "\\multirow[t]{3}{*}{PWI} & ADNI3 & 971.000000 \\\\\n",
      " & HeartBrain & 281.000000 \\\\\n",
      " & egd & 126.000000 \\\\\n",
      "\\cline{1-3}\n",
      "\\multirow[t]{4}{*}{SWI} & OASIS3 & 812.000000 \\\\\n",
      " & HeartBrain & 215.000000 \\\\\n",
      " & rss & 19.000000 \\\\\n",
      " & ADNI3 & 17.000000 \\\\\n",
      "\\cline{1-3}\n",
      "\\multirow[t]{5}{*}{T1} & OASIS3 & 2390.000000 \\\\\n",
      " & ADNI3 & 2326.000000 \\\\\n",
      " & egd & 273.000000 \\\\\n",
      " & HeartBrain & 173.000000 \\\\\n",
      " & rss & 25.000000 \\\\\n",
      "\\cline{1-3}\n",
      "T1_c & egd & 385.000000 \\\\\n",
      "\\cline{1-3}\n",
      "\\multirow[t]{3}{*}{T2} & OASIS3 & 2483.000000 \\\\\n",
      " & egd & 231.000000 \\\\\n",
      " & ADNI2 & 225.000000 \\\\\n",
      "\\cline{1-3}\n",
      "\\multirow[t]{2}{*}{T2*} & ADNI3 & 3978.000000 \\\\\n",
      " & OASIS3 & 1414.000000 \\\\\n",
      "\\cline{1-3}\n",
      "\\multirow[t]{2}{*}{T2-FLAIR} & ADNI3 & 2013.000000 \\\\\n",
      " & OASIS3 & 757.000000 \\\\\n",
      "\\cline{1-3}\n",
      "angio & OASIS3 & 557.000000 \\\\\n",
      "\\cline{1-3}\n",
      "\\bottomrule\n",
      "\\end{tabular}\n"
     ]
    }
   ],
   "source": [
    "print((FullLabelFrame.groupby('string_label')['dataset'].value_counts()/15).to_latex())"
   ],
   "metadata": {
    "collapsed": false,
    "ExecuteTime": {
     "end_time": "2023-11-17T09:22:36.128875215Z",
     "start_time": "2023-11-17T09:22:36.050687090Z"
    }
   },
   "id": "32dc666b6268de50"
  },
  {
   "cell_type": "code",
   "execution_count": 94,
   "outputs": [],
   "source": [
    "vc = pd.DataFrame(FullLabelFrame.groupby('string_label')['dataset'].value_counts())"
   ],
   "metadata": {
    "collapsed": false,
    "ExecuteTime": {
     "end_time": "2023-11-17T07:41:22.634399906Z",
     "start_time": "2023-11-17T07:41:22.632409874Z"
    }
   },
   "id": "f01953378b046fd6"
  },
  {
   "cell_type": "code",
   "execution_count": 95,
   "outputs": [
    {
     "data": {
      "text/plain": "                         count\nstring_label dataset          \nADC          egd           300\nASL          OASIS3       1620\n             ADNI3         735\n             HeartBrain    465\n             egd            15\nBOLD         OASIS3       4965\n             rss            30\nDTI          rss           120\n             ADNI3         120\nDWI          OASIS3       3240\n             egd           765\nGRE          OASIS3       1440\nOther        OASIS3       8445\n             ADNI3        8370\n             HeartBrain   1305\n             egd           150\n             rss            90\nPD           ADNI2         420\n             rss            30\nPWI          ADNI3        1455\n             HeartBrain    495\n             egd           315\nSWI          OASIS3       1215\n             HeartBrain    375\n             ADNI3          45\n             rss            30\nT1           ADNI3        3570\n             OASIS3       3450\n             egd           450\n             HeartBrain    195\n             rss            30\nT1_c         egd           600\nT2           OASIS3       3810\n             ADNI2         420\n             egd           315\nT2*          ADNI3        5595\n             OASIS3       2175\nT2-FLAIR     ADNI3        3240\n             OASIS3       1215\nangio        OASIS3       1050",
      "text/html": "<div>\n<style scoped>\n    .dataframe tbody tr th:only-of-type {\n        vertical-align: middle;\n    }\n\n    .dataframe tbody tr th {\n        vertical-align: top;\n    }\n\n    .dataframe thead th {\n        text-align: right;\n    }\n</style>\n<table border=\"1\" class=\"dataframe\">\n  <thead>\n    <tr style=\"text-align: right;\">\n      <th></th>\n      <th></th>\n      <th>count</th>\n    </tr>\n    <tr>\n      <th>string_label</th>\n      <th>dataset</th>\n      <th></th>\n    </tr>\n  </thead>\n  <tbody>\n    <tr>\n      <th>ADC</th>\n      <th>egd</th>\n      <td>300</td>\n    </tr>\n    <tr>\n      <th rowspan=\"4\" valign=\"top\">ASL</th>\n      <th>OASIS3</th>\n      <td>1620</td>\n    </tr>\n    <tr>\n      <th>ADNI3</th>\n      <td>735</td>\n    </tr>\n    <tr>\n      <th>HeartBrain</th>\n      <td>465</td>\n    </tr>\n    <tr>\n      <th>egd</th>\n      <td>15</td>\n    </tr>\n    <tr>\n      <th rowspan=\"2\" valign=\"top\">BOLD</th>\n      <th>OASIS3</th>\n      <td>4965</td>\n    </tr>\n    <tr>\n      <th>rss</th>\n      <td>30</td>\n    </tr>\n    <tr>\n      <th rowspan=\"2\" valign=\"top\">DTI</th>\n      <th>rss</th>\n      <td>120</td>\n    </tr>\n    <tr>\n      <th>ADNI3</th>\n      <td>120</td>\n    </tr>\n    <tr>\n      <th rowspan=\"2\" valign=\"top\">DWI</th>\n      <th>OASIS3</th>\n      <td>3240</td>\n    </tr>\n    <tr>\n      <th>egd</th>\n      <td>765</td>\n    </tr>\n    <tr>\n      <th>GRE</th>\n      <th>OASIS3</th>\n      <td>1440</td>\n    </tr>\n    <tr>\n      <th rowspan=\"5\" valign=\"top\">Other</th>\n      <th>OASIS3</th>\n      <td>8445</td>\n    </tr>\n    <tr>\n      <th>ADNI3</th>\n      <td>8370</td>\n    </tr>\n    <tr>\n      <th>HeartBrain</th>\n      <td>1305</td>\n    </tr>\n    <tr>\n      <th>egd</th>\n      <td>150</td>\n    </tr>\n    <tr>\n      <th>rss</th>\n      <td>90</td>\n    </tr>\n    <tr>\n      <th rowspan=\"2\" valign=\"top\">PD</th>\n      <th>ADNI2</th>\n      <td>420</td>\n    </tr>\n    <tr>\n      <th>rss</th>\n      <td>30</td>\n    </tr>\n    <tr>\n      <th rowspan=\"3\" valign=\"top\">PWI</th>\n      <th>ADNI3</th>\n      <td>1455</td>\n    </tr>\n    <tr>\n      <th>HeartBrain</th>\n      <td>495</td>\n    </tr>\n    <tr>\n      <th>egd</th>\n      <td>315</td>\n    </tr>\n    <tr>\n      <th rowspan=\"4\" valign=\"top\">SWI</th>\n      <th>OASIS3</th>\n      <td>1215</td>\n    </tr>\n    <tr>\n      <th>HeartBrain</th>\n      <td>375</td>\n    </tr>\n    <tr>\n      <th>ADNI3</th>\n      <td>45</td>\n    </tr>\n    <tr>\n      <th>rss</th>\n      <td>30</td>\n    </tr>\n    <tr>\n      <th rowspan=\"5\" valign=\"top\">T1</th>\n      <th>ADNI3</th>\n      <td>3570</td>\n    </tr>\n    <tr>\n      <th>OASIS3</th>\n      <td>3450</td>\n    </tr>\n    <tr>\n      <th>egd</th>\n      <td>450</td>\n    </tr>\n    <tr>\n      <th>HeartBrain</th>\n      <td>195</td>\n    </tr>\n    <tr>\n      <th>rss</th>\n      <td>30</td>\n    </tr>\n    <tr>\n      <th>T1_c</th>\n      <th>egd</th>\n      <td>600</td>\n    </tr>\n    <tr>\n      <th rowspan=\"3\" valign=\"top\">T2</th>\n      <th>OASIS3</th>\n      <td>3810</td>\n    </tr>\n    <tr>\n      <th>ADNI2</th>\n      <td>420</td>\n    </tr>\n    <tr>\n      <th>egd</th>\n      <td>315</td>\n    </tr>\n    <tr>\n      <th rowspan=\"2\" valign=\"top\">T2*</th>\n      <th>ADNI3</th>\n      <td>5595</td>\n    </tr>\n    <tr>\n      <th>OASIS3</th>\n      <td>2175</td>\n    </tr>\n    <tr>\n      <th rowspan=\"2\" valign=\"top\">T2-FLAIR</th>\n      <th>ADNI3</th>\n      <td>3240</td>\n    </tr>\n    <tr>\n      <th>OASIS3</th>\n      <td>1215</td>\n    </tr>\n    <tr>\n      <th>angio</th>\n      <th>OASIS3</th>\n      <td>1050</td>\n    </tr>\n  </tbody>\n</table>\n</div>"
     },
     "execution_count": 95,
     "metadata": {},
     "output_type": "execute_result"
    }
   ],
   "source": [
    "vc"
   ],
   "metadata": {
    "collapsed": false,
    "ExecuteTime": {
     "end_time": "2023-11-17T07:41:22.635273257Z",
     "start_time": "2023-11-17T07:41:22.632547194Z"
    }
   },
   "id": "841980645599965d"
  },
  {
   "cell_type": "code",
   "execution_count": 96,
   "outputs": [],
   "source": [
    "first_level_labels = []\n",
    "second_level_labels = []\n",
    "first_level_counts = []\n",
    "second_level_counts = []\n",
    "for idx in vc.index:\n",
    "    firstLevel = idx[0]\n",
    "    secondLevel = idx[1]\n",
    "    count = vc.loc[idx,'count']\n",
    "    if firstLevel not in first_level_labels:\n",
    "        first_level_labels.append(firstLevel)\n",
    "        second_level_labels.append(secondLevel)\n",
    "        first_level_counts.append(count)\n",
    "        second_level_counts.append(count)\n",
    "    else:\n",
    "        second_level_counts.append(count)\n",
    "        second_level_labels.append(secondLevel)\n",
    "        first_level_counts[-1] += count\n",
    "unique_second_level = list(set(second_level_labels))"
   ],
   "metadata": {
    "collapsed": false,
    "ExecuteTime": {
     "end_time": "2023-11-17T07:41:22.635428005Z",
     "start_time": "2023-11-17T07:41:22.632656677Z"
    }
   },
   "id": "70366fd2f944df"
  },
  {
   "cell_type": "code",
   "execution_count": 97,
   "outputs": [],
   "source": [
    "second_level_colors = [unique_second_level.index(x) for x in second_level_labels]"
   ],
   "metadata": {
    "collapsed": false,
    "ExecuteTime": {
     "end_time": "2023-11-17T07:41:22.635548663Z",
     "start_time": "2023-11-17T07:41:22.632725193Z"
    }
   },
   "id": "a791367dd9aeb3a2"
  },
  {
   "cell_type": "code",
   "execution_count": 98,
   "outputs": [],
   "source": [
    "second_level_colors = np.multiply(second_level_colors,int(np.floor(20/max(second_level_colors))))"
   ],
   "metadata": {
    "collapsed": false,
    "ExecuteTime": {
     "end_time": "2023-11-17T07:41:22.734068380Z",
     "start_time": "2023-11-17T07:41:22.632815626Z"
    }
   },
   "id": "aa73f933fb313b95"
  },
  {
   "cell_type": "code",
   "execution_count": 99,
   "outputs": [
    {
     "data": {
      "text/plain": "array([16, 20,  8,  0, 16, 20,  4,  4,  8, 20, 16, 20, 20,  8,  0, 16,  4,\n       12,  4,  8,  0, 16, 20,  0,  8,  4,  8, 20, 16,  0,  4, 16, 20, 12,\n       16,  8, 20,  8, 20, 20])"
     },
     "execution_count": 99,
     "metadata": {},
     "output_type": "execute_result"
    }
   ],
   "source": [
    "second_level_colors"
   ],
   "metadata": {
    "collapsed": false,
    "ExecuteTime": {
     "end_time": "2023-11-17T07:41:22.734958808Z",
     "start_time": "2023-11-17T07:41:22.680704266Z"
    }
   },
   "id": "9fde1bffb7064907"
  },
  {
   "cell_type": "code",
   "execution_count": 100,
   "outputs": [
    {
     "data": {
      "text/plain": "<Figure size 800x800 with 1 Axes>",
      "image/png": "[encoded data removed]"
     },
     "metadata": {},
     "output_type": "display_data"
    }
   ],
   "source": [
    "import matplotlib.pyplot as plt\n",
    "fig, ax = plt.subplots(figsize=(8,8))\n",
    "\n",
    "size = 0.3\n",
    "\n",
    "cmap_outer = plt.colormaps[\"tab20c\"]\n",
    "cmap_inner = plt.colormaps['tab20b']\n",
    "outer_colors = cmap_outer(np.arange(len(first_level_labels)))\n",
    "inner_colors = cmap_inner(second_level_colors)\n",
    "\n",
    "ax.pie(first_level_counts, radius=1, colors=outer_colors,\n",
    "       wedgeprops=dict(width=size, edgecolor='w'))\n",
    "\n",
    "ax.pie(second_level_counts, radius=1-size, colors=inner_colors,\n",
    "       wedgeprops=dict(width=size, edgecolor='w'))\n",
    "\n",
    "ax.set(aspect=\"equal\", title='Pie plot with `ax.pie`')\n",
    "plt.show()"
   ],
   "metadata": {
    "collapsed": false,
    "ExecuteTime": {
     "end_time": "2023-11-17T07:41:23.044363999Z",
     "start_time": "2023-11-17T07:41:22.680995328Z"
    }
   },
   "id": "1797ea6249763dba"
  },
  {
   "cell_type": "code",
   "execution_count": 101,
   "outputs": [],
   "source": [
    "labels = FullLabelFrame['string_label'].unique()"
   ],
   "metadata": {
    "collapsed": false,
    "ExecuteTime": {
     "end_time": "2023-11-17T07:41:23.057349366Z",
     "start_time": "2023-11-17T07:41:23.046809085Z"
    }
   },
   "id": "15a3238c0fd167d6"
  },
  {
   "cell_type": "code",
   "execution_count": 102,
   "outputs": [],
   "source": [
    "datasets = FullLabelFrame[FullLabelFrame['string_label']==labels[0]]['dataset'].unique()"
   ],
   "metadata": {
    "collapsed": false,
    "ExecuteTime": {
     "end_time": "2023-11-17T07:41:23.155113461Z",
     "start_time": "2023-11-17T07:41:23.051956016Z"
    }
   },
   "id": "c9809c082362a7ab"
  },
  {
   "cell_type": "code",
   "execution_count": 103,
   "outputs": [],
   "source": [
    "FullLabelFrame['center_slide'] = FullLabelFrame['ID'].apply(lambda x: '__s12' in x)"
   ],
   "metadata": {
    "collapsed": false,
    "ExecuteTime": {
     "end_time": "2023-11-17T07:41:23.155340532Z",
     "start_time": "2023-11-17T07:41:23.073619535Z"
    }
   },
   "id": "67b16b31ba84f1c8"
  },
  {
   "cell_type": "code",
   "execution_count": 104,
   "outputs": [],
   "source": [
    "VisualizeFrame = FullLabelFrame[FullLabelFrame['center_slide']]"
   ],
   "metadata": {
    "collapsed": false,
    "ExecuteTime": {
     "end_time": "2023-11-17T07:41:23.155469063Z",
     "start_time": "2023-11-17T07:41:23.136382403Z"
    }
   },
   "id": "97d7d9cc510fa49b"
  },
  {
   "cell_type": "code",
   "execution_count": 105,
   "outputs": [],
   "source": [
    "# create a frame that contains labels for some visualizations\n",
    "from sklearn.model_selection import train_test_split\n",
    "visualize_frame = pd.DataFrame()\n",
    "for label in labels:\n",
    "    temp1 = VisualizeFrame[VisualizeFrame['string_label']==label]\n",
    "    datasets = temp1['dataset'].unique()\n",
    "    for dataset in datasets:\n",
    "        df = temp1[temp1['dataset']==dataset]\n",
    "        try:\n",
    "            visualize, _ = train_test_split(df, train_size=2, shuffle=True, random_state=42)\n",
    "        except ValueError:\n",
    "            visualize = df\n",
    "        visualize_frame = pd.concat([visualize_frame,visualize], axis=0)"
   ],
   "metadata": {
    "collapsed": false,
    "ExecuteTime": {
     "end_time": "2023-11-17T07:41:23.185586296Z",
     "start_time": "2023-11-17T07:41:23.136532884Z"
    }
   },
   "id": "7a5ae6052e67471"
  },
  {
   "cell_type": "code",
   "execution_count": 106,
   "outputs": [
    {
     "data": {
      "text/plain": "                                                      ID  label  extra  \\\n18886  /trinity/home/r098375/DDS/data/ADNI/ADNI3/test...      3      0   \n10793  /trinity/home/r098375/DDS/data/ADNI/ADNI3/test...      3      0   \n31159  /trinity/home/r098375/DDS/data/OASIS/OASIS3/te...      3      0   \n44777  /trinity/home/r098375/DDS/data/OASIS/OASIS3/te...      3      0   \n17546  /trinity/home/r098375/DDS/data/ADNI/ADNI3/test...     15      0   \n...                                                  ...    ...    ...   \n58532  /trinity/home/r098375/DDS/data/egd/NIFTI_SLICE...      8      0   \n58623  /trinity/home/r098375/DDS/data/egd/NIFTI_SLICE...      1      0   \n59345  /trinity/home/r098375/DDS/data/egd/NIFTI_SLICE...      1      0   \n58846  /trinity/home/r098375/DDS/data/egd/NIFTI_SLICE...      9      0   \n57943  /trinity/home/r098375/DDS/data/egd/NIFTI_SLICE...      9      0   \n\n      dataset string_label  center_slide  \n18886   ADNI3     T2-FLAIR          True  \n10793   ADNI3     T2-FLAIR          True  \n31159  OASIS3     T2-FLAIR          True  \n44777  OASIS3     T2-FLAIR          True  \n17546   ADNI3        Other          True  \n...       ...          ...           ...  \n58532     egd          DWI          True  \n58623     egd         T1_c          True  \n59345     egd         T1_c          True  \n58846     egd          ADC          True  \n57943     egd          ADC          True  \n\n[79 rows x 6 columns]",
      "text/html": "<div>\n<style scoped>\n    .dataframe tbody tr th:only-of-type {\n        vertical-align: middle;\n    }\n\n    .dataframe tbody tr th {\n        vertical-align: top;\n    }\n\n    .dataframe thead th {\n        text-align: right;\n    }\n</style>\n<table border=\"1\" class=\"dataframe\">\n  <thead>\n    <tr style=\"text-align: right;\">\n      <th></th>\n      <th>ID</th>\n      <th>label</th>\n      <th>extra</th>\n      <th>dataset</th>\n      <th>string_label</th>\n      <th>center_slide</th>\n    </tr>\n  </thead>\n  <tbody>\n    <tr>\n      <th>18886</th>\n      <td>/trinity/home/r098375/DDS/data/ADNI/ADNI3/test...</td>\n      <td>3</td>\n      <td>0</td>\n      <td>ADNI3</td>\n      <td>T2-FLAIR</td>\n      <td>True</td>\n    </tr>\n    <tr>\n      <th>10793</th>\n      <td>/trinity/home/r098375/DDS/data/ADNI/ADNI3/test...</td>\n      <td>3</td>\n      <td>0</td>\n      <td>ADNI3</td>\n      <td>T2-FLAIR</td>\n      <td>True</td>\n    </tr>\n    <tr>\n      <th>31159</th>\n      <td>/trinity/home/r098375/DDS/data/OASIS/OASIS3/te...</td>\n      <td>3</td>\n      <td>0</td>\n      <td>OASIS3</td>\n      <td>T2-FLAIR</td>\n      <td>True</td>\n    </tr>\n    <tr>\n      <th>44777</th>\n      <td>/trinity/home/r098375/DDS/data/OASIS/OASIS3/te...</td>\n      <td>3</td>\n      <td>0</td>\n      <td>OASIS3</td>\n      <td>T2-FLAIR</td>\n      <td>True</td>\n    </tr>\n    <tr>\n      <th>17546</th>\n      <td>/trinity/home/r098375/DDS/data/ADNI/ADNI3/test...</td>\n      <td>15</td>\n      <td>0</td>\n      <td>ADNI3</td>\n      <td>Other</td>\n      <td>True</td>\n    </tr>\n    <tr>\n      <th>...</th>\n      <td>...</td>\n      <td>...</td>\n      <td>...</td>\n      <td>...</td>\n      <td>...</td>\n      <td>...</td>\n    </tr>\n    <tr>\n      <th>58532</th>\n      <td>/trinity/home/r098375/DDS/data/egd/NIFTI_SLICE...</td>\n      <td>8</td>\n      <td>0</td>\n      <td>egd</td>\n      <td>DWI</td>\n      <td>True</td>\n    </tr>\n    <tr>\n      <th>58623</th>\n      <td>/trinity/home/r098375/DDS/data/egd/NIFTI_SLICE...</td>\n      <td>1</td>\n      <td>0</td>\n      <td>egd</td>\n      <td>T1_c</td>\n      <td>True</td>\n    </tr>\n    <tr>\n      <th>59345</th>\n      <td>/trinity/home/r098375/DDS/data/egd/NIFTI_SLICE...</td>\n      <td>1</td>\n      <td>0</td>\n      <td>egd</td>\n      <td>T1_c</td>\n      <td>True</td>\n    </tr>\n    <tr>\n      <th>58846</th>\n      <td>/trinity/home/r098375/DDS/data/egd/NIFTI_SLICE...</td>\n      <td>9</td>\n      <td>0</td>\n      <td>egd</td>\n      <td>ADC</td>\n      <td>True</td>\n    </tr>\n    <tr>\n      <th>57943</th>\n      <td>/trinity/home/r098375/DDS/data/egd/NIFTI_SLICE...</td>\n      <td>9</td>\n      <td>0</td>\n      <td>egd</td>\n      <td>ADC</td>\n      <td>True</td>\n    </tr>\n  </tbody>\n</table>\n<p>79 rows × 6 columns</p>\n</div>"
     },
     "execution_count": 106,
     "metadata": {},
     "output_type": "execute_result"
    }
   ],
   "source": [
    "visualize_frame"
   ],
   "metadata": {
    "collapsed": false,
    "ExecuteTime": {
     "end_time": "2023-11-17T07:41:23.186154799Z",
     "start_time": "2023-11-17T07:41:23.180515009Z"
    }
   },
   "id": "141ebd063ce348c0"
  },
  {
   "cell_type": "code",
   "execution_count": 107,
   "outputs": [],
   "source": [
    "# visualize_frame.to_csv('visualizeFrame.csv', index=False)"
   ],
   "metadata": {
    "collapsed": false,
    "ExecuteTime": {
     "end_time": "2023-11-17T07:41:23.186255959Z",
     "start_time": "2023-11-17T07:41:23.180707127Z"
    }
   },
   "id": "447d20f18d033e51"
  },
  {
   "cell_type": "code",
   "execution_count": 107,
   "outputs": [],
   "source": [],
   "metadata": {
    "collapsed": false,
    "ExecuteTime": {
     "end_time": "2023-11-17T07:41:23.289595156Z",
     "start_time": "2023-11-17T07:41:23.180858814Z"
    }
   },
   "id": "62be4c61feb73389"
  }
 ],
 "metadata": {
  "kernelspec": {
   "display_name": "Python 3",
   "language": "python",
   "name": "python3"
  },
  "language_info": {
   "codemirror_mode": {
    "name": "ipython",
    "version": 2
   },
   "file_extension": ".py",
   "mimetype": "text/x-python",
   "name": "python",
   "nbconvert_exporter": "python",
   "pygments_lexer": "ipython2",
   "version": "2.7.6"
  }
 },
 "nbformat": 4,
 "nbformat_minor": 5
}
