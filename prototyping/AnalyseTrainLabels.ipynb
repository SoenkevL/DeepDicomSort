{
 "cells": [
  {
   "cell_type": "code",
   "execution_count": 1,
   "id": "initial_id",
   "metadata": {
    "collapsed": true,
    "ExecuteTime": {
     "end_time": "2023-11-15T08:53:30.689051023Z",
     "start_time": "2023-11-15T08:53:30.358860172Z"
    }
   },
   "outputs": [],
   "source": [
    "import os.path\n",
    "\n",
    "import numpy as np\n",
    "import pandas as pd"
   ]
  },
  {
   "cell_type": "code",
   "execution_count": 2,
   "outputs": [],
   "source": [
    "classesDict = {\n",
    "    \"T1\":0,\n",
    "    \"T1_c\":1,\n",
    "    \"T2\":2,\n",
    "    \"T2-FLAIR\":3,\n",
    "    \"FS\":4,\n",
    "    \"PD\":5,\n",
    "    \"SWI\":6,\n",
    "    \"GRE\":7,\n",
    "    \"T2*\":8,\n",
    "    \"DWI\":9,\n",
    "    \"ADC\":10,\n",
    "    \"BOLD\":11,\n",
    "    \"FlowSensitve\":12,\n",
    "    \"PWI\":13,\n",
    "    \"ASL\":14,\n",
    "    \"Hippo\":15,\n",
    "    \"DTI\":16,\n",
    "    \"Other\":17\n",
    "}"
   ],
   "metadata": {
    "collapsed": false,
    "ExecuteTime": {
     "end_time": "2023-11-15T08:53:30.712114737Z",
     "start_time": "2023-11-15T08:53:30.693625960Z"
    }
   },
   "id": "edc6427f3b7f991f"
  },
  {
   "cell_type": "code",
   "execution_count": 3,
   "outputs": [],
   "source": [
    "labels_path = '/home/soenke/Internship/DeepDicomSortFork/prototyping/combinedDfs/CombinedTestingFrame_A2_A3_O3_egd_rss_hb_pruned.txt'"
   ],
   "metadata": {
    "collapsed": false,
    "ExecuteTime": {
     "end_time": "2023-11-15T08:53:30.712368277Z",
     "start_time": "2023-11-15T08:53:30.697017157Z"
    }
   },
   "id": "1d14e77d3b5bfbc5"
  },
  {
   "cell_type": "code",
   "execution_count": 4,
   "outputs": [],
   "source": [
    "Labels = pd.read_csv(labels_path,names=['ID','label','extra'],sep='\\t', dtype={'ID':str,'label':int,'extra':int})"
   ],
   "metadata": {
    "collapsed": false,
    "ExecuteTime": {
     "end_time": "2023-11-15T08:53:30.844611499Z",
     "start_time": "2023-11-15T08:53:30.700306928Z"
    }
   },
   "id": "4ca9e042b04aded4"
  },
  {
   "cell_type": "code",
   "execution_count": 5,
   "outputs": [],
   "source": [
    "Label_name_list = list(classesDict.keys())"
   ],
   "metadata": {
    "collapsed": false,
    "ExecuteTime": {
     "end_time": "2023-11-15T08:53:30.890388168Z",
     "start_time": "2023-11-15T08:53:30.886985707Z"
    }
   },
   "id": "e56a9c4bfe44909e"
  },
  {
   "cell_type": "code",
   "execution_count": 6,
   "outputs": [
    {
     "data": {
      "text/plain": "                                                      ID  label  extra\n0      /trinity/home/r098375/DDS/data/ADNI/ADNI3/test...      3      0\n1      /trinity/home/r098375/DDS/data/ADNI/ADNI3/test...     17      0\n2      /trinity/home/r098375/DDS/data/ADNI/ADNI3/test...      3      0\n3      /trinity/home/r098375/DDS/data/ADNI/ADNI3/test...     15      0\n4      /trinity/home/r098375/DDS/data/ADNI/ADNI3/test...      3      0\n...                                                  ...    ...    ...\n66775  /trinity/home/r098375/DDS/data/HeartBrain/NIFT...      0      0\n66776  /trinity/home/r098375/DDS/data/HeartBrain/NIFT...      0      0\n66777  /trinity/home/r098375/DDS/data/HeartBrain/NIFT...      0      0\n66778  /trinity/home/r098375/DDS/data/HeartBrain/NIFT...      0      0\n66779  /trinity/home/r098375/DDS/data/HeartBrain/NIFT...      0      0\n\n[66780 rows x 3 columns]",
      "text/html": "<div>\n<style scoped>\n    .dataframe tbody tr th:only-of-type {\n        vertical-align: middle;\n    }\n\n    .dataframe tbody tr th {\n        vertical-align: top;\n    }\n\n    .dataframe thead th {\n        text-align: right;\n    }\n</style>\n<table border=\"1\" class=\"dataframe\">\n  <thead>\n    <tr style=\"text-align: right;\">\n      <th></th>\n      <th>ID</th>\n      <th>label</th>\n      <th>extra</th>\n    </tr>\n  </thead>\n  <tbody>\n    <tr>\n      <th>0</th>\n      <td>/trinity/home/r098375/DDS/data/ADNI/ADNI3/test...</td>\n      <td>3</td>\n      <td>0</td>\n    </tr>\n    <tr>\n      <th>1</th>\n      <td>/trinity/home/r098375/DDS/data/ADNI/ADNI3/test...</td>\n      <td>17</td>\n      <td>0</td>\n    </tr>\n    <tr>\n      <th>2</th>\n      <td>/trinity/home/r098375/DDS/data/ADNI/ADNI3/test...</td>\n      <td>3</td>\n      <td>0</td>\n    </tr>\n    <tr>\n      <th>3</th>\n      <td>/trinity/home/r098375/DDS/data/ADNI/ADNI3/test...</td>\n      <td>15</td>\n      <td>0</td>\n    </tr>\n    <tr>\n      <th>4</th>\n      <td>/trinity/home/r098375/DDS/data/ADNI/ADNI3/test...</td>\n      <td>3</td>\n      <td>0</td>\n    </tr>\n    <tr>\n      <th>...</th>\n      <td>...</td>\n      <td>...</td>\n      <td>...</td>\n    </tr>\n    <tr>\n      <th>66775</th>\n      <td>/trinity/home/r098375/DDS/data/HeartBrain/NIFT...</td>\n      <td>0</td>\n      <td>0</td>\n    </tr>\n    <tr>\n      <th>66776</th>\n      <td>/trinity/home/r098375/DDS/data/HeartBrain/NIFT...</td>\n      <td>0</td>\n      <td>0</td>\n    </tr>\n    <tr>\n      <th>66777</th>\n      <td>/trinity/home/r098375/DDS/data/HeartBrain/NIFT...</td>\n      <td>0</td>\n      <td>0</td>\n    </tr>\n    <tr>\n      <th>66778</th>\n      <td>/trinity/home/r098375/DDS/data/HeartBrain/NIFT...</td>\n      <td>0</td>\n      <td>0</td>\n    </tr>\n    <tr>\n      <th>66779</th>\n      <td>/trinity/home/r098375/DDS/data/HeartBrain/NIFT...</td>\n      <td>0</td>\n      <td>0</td>\n    </tr>\n  </tbody>\n</table>\n<p>66780 rows × 3 columns</p>\n</div>"
     },
     "execution_count": 6,
     "metadata": {},
     "output_type": "execute_result"
    }
   ],
   "source": [
    "Labels"
   ],
   "metadata": {
    "collapsed": false,
    "ExecuteTime": {
     "end_time": "2023-11-15T08:53:30.895886835Z",
     "start_time": "2023-11-15T08:53:30.887175041Z"
    }
   },
   "id": "9a4c9676255b78c"
  },
  {
   "cell_type": "code",
   "execution_count": 7,
   "outputs": [],
   "source": [
    "def extractDataset(ID):\n",
    "    if 'ADNI2' in ID:\n",
    "        return 'ADNI2'\n",
    "    elif 'ADNI3' in ID:\n",
    "        return 'ADNI3'\n",
    "    elif 'OASIS3' in ID:\n",
    "        return 'OASIS3'\n",
    "    elif 'egd' in ID:\n",
    "        return 'egd'\n",
    "    elif 'Rstudy' in ID:\n",
    "        return 'rss'\n",
    "    elif 'HeartBrain' in ID:\n",
    "        return 'HeartBrain'\n",
    "    return None\n",
    "\n",
    "def assignStringLabel(label, labelList):\n",
    "    return labelList[label]"
   ],
   "metadata": {
    "collapsed": false,
    "ExecuteTime": {
     "end_time": "2023-11-15T08:53:30.896968532Z",
     "start_time": "2023-11-15T08:53:30.887337215Z"
    }
   },
   "id": "8036efcb119f40ae"
  },
  {
   "cell_type": "code",
   "execution_count": 8,
   "outputs": [],
   "source": [
    "FullLabelFrame = Labels.copy()"
   ],
   "metadata": {
    "collapsed": false,
    "ExecuteTime": {
     "end_time": "2023-11-15T08:53:30.897237194Z",
     "start_time": "2023-11-15T08:53:30.887507298Z"
    }
   },
   "id": "30ae557186084b76"
  },
  {
   "cell_type": "code",
   "execution_count": 9,
   "outputs": [],
   "source": [
    "FullLabelFrame['dataset'] = FullLabelFrame['ID'].apply(extractDataset)\n",
    "FullLabelFrame['string_label'] = FullLabelFrame['label'].apply(assignStringLabel, labelList=Label_name_list)"
   ],
   "metadata": {
    "collapsed": false,
    "ExecuteTime": {
     "end_time": "2023-11-15T08:53:30.977660558Z",
     "start_time": "2023-11-15T08:53:30.887714521Z"
    }
   },
   "id": "76293cacf0efa33d"
  },
  {
   "cell_type": "code",
   "execution_count": 10,
   "outputs": [
    {
     "data": {
      "text/plain": "dataset     string_label\nADNI2       PD               28.0\n            T2               28.0\nADNI3       Other           558.0\n            T2*             373.0\n            T1              238.0\n            T2-FLAIR        216.0\n            Hippo           197.0\n            PWI              97.0\n            ASL              49.0\n            DTI               8.0\n            SWI               3.0\nHeartBrain  Other            87.0\n            PWI              33.0\n            ASL              31.0\n            SWI              25.0\n            T2-FLAIR         24.0\n            Hippo            15.0\n            T1               13.0\nOASIS3      Other           563.0\n            BOLD            331.0\n            T2              254.0\n            T1              230.0\n            DWI             216.0\n            T2*             145.0\n            ASL             108.0\n            GRE              96.0\n            T2-FLAIR         81.0\n            SWI              81.0\n            FlowSensitve     70.0\negd         PWI              50.0\n            T1_c             39.0\n            T1               31.0\n            T2-FLAIR         30.0\n            DWI              27.0\n            T2               27.0\n            ADC              20.0\n            Other             6.0\nrss         DTI               8.0\n            Other             6.0\n            BOLD              2.0\n            PD                2.0\n            SWI               2.0\n            T1                2.0\n            T2-FLAIR          2.0\nName: count, dtype: float64"
     },
     "execution_count": 10,
     "metadata": {},
     "output_type": "execute_result"
    }
   ],
   "source": [
    "FullLabelFrame.groupby('dataset')['string_label'].value_counts()/15"
   ],
   "metadata": {
    "collapsed": false,
    "ExecuteTime": {
     "end_time": "2023-11-15T08:53:31.015318571Z",
     "start_time": "2023-11-15T08:53:30.943462728Z"
    }
   },
   "id": "fe1dfef5f6af276b"
  },
  {
   "cell_type": "code",
   "execution_count": 11,
   "outputs": [
    {
     "name": "stdout",
     "output_type": "stream",
     "text": [
      "\\begin{tabular}{llr}\n",
      "\\toprule\n",
      " &  & count \\\\\n",
      "string_label & dataset &  \\\\\n",
      "\\midrule\n",
      "ADC & egd & 300 \\\\\n",
      "\\cline{1-3}\n",
      "\\multirow[t]{3}{*}{ASL} & OASIS3 & 1620 \\\\\n",
      " & ADNI3 & 735 \\\\\n",
      " & HeartBrain & 465 \\\\\n",
      "\\cline{1-3}\n",
      "\\multirow[t]{2}{*}{BOLD} & OASIS3 & 4965 \\\\\n",
      " & rss & 30 \\\\\n",
      "\\cline{1-3}\n",
      "\\multirow[t]{2}{*}{DTI} & rss & 120 \\\\\n",
      " & ADNI3 & 120 \\\\\n",
      "\\cline{1-3}\n",
      "\\multirow[t]{2}{*}{DWI} & OASIS3 & 3240 \\\\\n",
      " & egd & 405 \\\\\n",
      "\\cline{1-3}\n",
      "FlowSensitve & OASIS3 & 1050 \\\\\n",
      "\\cline{1-3}\n",
      "GRE & OASIS3 & 1440 \\\\\n",
      "\\cline{1-3}\n",
      "\\multirow[t]{2}{*}{Hippo} & ADNI3 & 2955 \\\\\n",
      " & HeartBrain & 225 \\\\\n",
      "\\cline{1-3}\n",
      "\\multirow[t]{5}{*}{Other} & OASIS3 & 8445 \\\\\n",
      " & ADNI3 & 8370 \\\\\n",
      " & HeartBrain & 1305 \\\\\n",
      " & rss & 90 \\\\\n",
      " & egd & 90 \\\\\n",
      "\\cline{1-3}\n",
      "\\multirow[t]{2}{*}{PD} & ADNI2 & 420 \\\\\n",
      " & rss & 30 \\\\\n",
      "\\cline{1-3}\n",
      "\\multirow[t]{3}{*}{PWI} & ADNI3 & 1455 \\\\\n",
      " & egd & 750 \\\\\n",
      " & HeartBrain & 495 \\\\\n",
      "\\cline{1-3}\n",
      "\\multirow[t]{4}{*}{SWI} & OASIS3 & 1215 \\\\\n",
      " & HeartBrain & 375 \\\\\n",
      " & ADNI3 & 45 \\\\\n",
      " & rss & 30 \\\\\n",
      "\\cline{1-3}\n",
      "\\multirow[t]{5}{*}{T1} & ADNI3 & 3570 \\\\\n",
      " & OASIS3 & 3450 \\\\\n",
      " & egd & 465 \\\\\n",
      " & HeartBrain & 195 \\\\\n",
      " & rss & 30 \\\\\n",
      "\\cline{1-3}\n",
      "T1_c & egd & 585 \\\\\n",
      "\\cline{1-3}\n",
      "\\multirow[t]{3}{*}{T2} & OASIS3 & 3810 \\\\\n",
      " & ADNI2 & 420 \\\\\n",
      " & egd & 405 \\\\\n",
      "\\cline{1-3}\n",
      "\\multirow[t]{2}{*}{T2*} & ADNI3 & 5595 \\\\\n",
      " & OASIS3 & 2175 \\\\\n",
      "\\cline{1-3}\n",
      "\\multirow[t]{5}{*}{T2-FLAIR} & ADNI3 & 3240 \\\\\n",
      " & OASIS3 & 1215 \\\\\n",
      " & egd & 450 \\\\\n",
      " & HeartBrain & 360 \\\\\n",
      " & rss & 30 \\\\\n",
      "\\cline{1-3}\n",
      "\\bottomrule\n",
      "\\end{tabular}\n"
     ]
    }
   ],
   "source": [
    "print(FullLabelFrame.groupby('string_label')['dataset'].value_counts().to_latex())"
   ],
   "metadata": {
    "collapsed": false,
    "ExecuteTime": {
     "end_time": "2023-11-15T08:53:31.387174611Z",
     "start_time": "2023-11-15T08:53:30.967111483Z"
    }
   },
   "id": "32dc666b6268de50"
  },
  {
   "cell_type": "code",
   "execution_count": 12,
   "outputs": [],
   "source": [
    "vc = pd.DataFrame(FullLabelFrame.groupby('string_label')['dataset'].value_counts())"
   ],
   "metadata": {
    "collapsed": false,
    "ExecuteTime": {
     "end_time": "2023-11-15T08:53:31.419807392Z",
     "start_time": "2023-11-15T08:53:31.375703160Z"
    }
   },
   "id": "f01953378b046fd6"
  },
  {
   "cell_type": "code",
   "execution_count": 20,
   "outputs": [
    {
     "data": {
      "text/plain": "                         count\nstring_label dataset          \nADC          egd           300\nASL          OASIS3       1620\n             ADNI3         735\n             HeartBrain    465\nBOLD         OASIS3       4965\n             rss            30\nDTI          rss           120\n             ADNI3         120\nDWI          OASIS3       3240\n             egd           405\nFlowSensitve OASIS3       1050\nGRE          OASIS3       1440\nHippo        ADNI3        2955\n             HeartBrain    225\nOther        OASIS3       8445\n             ADNI3        8370\n             HeartBrain   1305\n             rss            90\n             egd            90\nPD           ADNI2         420\n             rss            30\nPWI          ADNI3        1455\n             egd           750\n             HeartBrain    495\nSWI          OASIS3       1215\n             HeartBrain    375\n             ADNI3          45\n             rss            30\nT1           ADNI3        3570\n             OASIS3       3450\n             egd           465\n             HeartBrain    195\n             rss            30\nT1_c         egd           585\nT2           OASIS3       3810\n             ADNI2         420\n             egd           405\nT2*          ADNI3        5595\n             OASIS3       2175\nT2-FLAIR     ADNI3        3240\n             OASIS3       1215\n             egd           450\n             HeartBrain    360\n             rss            30",
      "text/html": "<div>\n<style scoped>\n    .dataframe tbody tr th:only-of-type {\n        vertical-align: middle;\n    }\n\n    .dataframe tbody tr th {\n        vertical-align: top;\n    }\n\n    .dataframe thead th {\n        text-align: right;\n    }\n</style>\n<table border=\"1\" class=\"dataframe\">\n  <thead>\n    <tr style=\"text-align: right;\">\n      <th></th>\n      <th></th>\n      <th>count</th>\n    </tr>\n    <tr>\n      <th>string_label</th>\n      <th>dataset</th>\n      <th></th>\n    </tr>\n  </thead>\n  <tbody>\n    <tr>\n      <th>ADC</th>\n      <th>egd</th>\n      <td>300</td>\n    </tr>\n    <tr>\n      <th rowspan=\"3\" valign=\"top\">ASL</th>\n      <th>OASIS3</th>\n      <td>1620</td>\n    </tr>\n    <tr>\n      <th>ADNI3</th>\n      <td>735</td>\n    </tr>\n    <tr>\n      <th>HeartBrain</th>\n      <td>465</td>\n    </tr>\n    <tr>\n      <th rowspan=\"2\" valign=\"top\">BOLD</th>\n      <th>OASIS3</th>\n      <td>4965</td>\n    </tr>\n    <tr>\n      <th>rss</th>\n      <td>30</td>\n    </tr>\n    <tr>\n      <th rowspan=\"2\" valign=\"top\">DTI</th>\n      <th>rss</th>\n      <td>120</td>\n    </tr>\n    <tr>\n      <th>ADNI3</th>\n      <td>120</td>\n    </tr>\n    <tr>\n      <th rowspan=\"2\" valign=\"top\">DWI</th>\n      <th>OASIS3</th>\n      <td>3240</td>\n    </tr>\n    <tr>\n      <th>egd</th>\n      <td>405</td>\n    </tr>\n    <tr>\n      <th>FlowSensitve</th>\n      <th>OASIS3</th>\n      <td>1050</td>\n    </tr>\n    <tr>\n      <th>GRE</th>\n      <th>OASIS3</th>\n      <td>1440</td>\n    </tr>\n    <tr>\n      <th rowspan=\"2\" valign=\"top\">Hippo</th>\n      <th>ADNI3</th>\n      <td>2955</td>\n    </tr>\n    <tr>\n      <th>HeartBrain</th>\n      <td>225</td>\n    </tr>\n    <tr>\n      <th rowspan=\"5\" valign=\"top\">Other</th>\n      <th>OASIS3</th>\n      <td>8445</td>\n    </tr>\n    <tr>\n      <th>ADNI3</th>\n      <td>8370</td>\n    </tr>\n    <tr>\n      <th>HeartBrain</th>\n      <td>1305</td>\n    </tr>\n    <tr>\n      <th>rss</th>\n      <td>90</td>\n    </tr>\n    <tr>\n      <th>egd</th>\n      <td>90</td>\n    </tr>\n    <tr>\n      <th rowspan=\"2\" valign=\"top\">PD</th>\n      <th>ADNI2</th>\n      <td>420</td>\n    </tr>\n    <tr>\n      <th>rss</th>\n      <td>30</td>\n    </tr>\n    <tr>\n      <th rowspan=\"3\" valign=\"top\">PWI</th>\n      <th>ADNI3</th>\n      <td>1455</td>\n    </tr>\n    <tr>\n      <th>egd</th>\n      <td>750</td>\n    </tr>\n    <tr>\n      <th>HeartBrain</th>\n      <td>495</td>\n    </tr>\n    <tr>\n      <th rowspan=\"4\" valign=\"top\">SWI</th>\n      <th>OASIS3</th>\n      <td>1215</td>\n    </tr>\n    <tr>\n      <th>HeartBrain</th>\n      <td>375</td>\n    </tr>\n    <tr>\n      <th>ADNI3</th>\n      <td>45</td>\n    </tr>\n    <tr>\n      <th>rss</th>\n      <td>30</td>\n    </tr>\n    <tr>\n      <th rowspan=\"5\" valign=\"top\">T1</th>\n      <th>ADNI3</th>\n      <td>3570</td>\n    </tr>\n    <tr>\n      <th>OASIS3</th>\n      <td>3450</td>\n    </tr>\n    <tr>\n      <th>egd</th>\n      <td>465</td>\n    </tr>\n    <tr>\n      <th>HeartBrain</th>\n      <td>195</td>\n    </tr>\n    <tr>\n      <th>rss</th>\n      <td>30</td>\n    </tr>\n    <tr>\n      <th>T1_c</th>\n      <th>egd</th>\n      <td>585</td>\n    </tr>\n    <tr>\n      <th rowspan=\"3\" valign=\"top\">T2</th>\n      <th>OASIS3</th>\n      <td>3810</td>\n    </tr>\n    <tr>\n      <th>ADNI2</th>\n      <td>420</td>\n    </tr>\n    <tr>\n      <th>egd</th>\n      <td>405</td>\n    </tr>\n    <tr>\n      <th rowspan=\"2\" valign=\"top\">T2*</th>\n      <th>ADNI3</th>\n      <td>5595</td>\n    </tr>\n    <tr>\n      <th>OASIS3</th>\n      <td>2175</td>\n    </tr>\n    <tr>\n      <th rowspan=\"5\" valign=\"top\">T2-FLAIR</th>\n      <th>ADNI3</th>\n      <td>3240</td>\n    </tr>\n    <tr>\n      <th>OASIS3</th>\n      <td>1215</td>\n    </tr>\n    <tr>\n      <th>egd</th>\n      <td>450</td>\n    </tr>\n    <tr>\n      <th>HeartBrain</th>\n      <td>360</td>\n    </tr>\n    <tr>\n      <th>rss</th>\n      <td>30</td>\n    </tr>\n  </tbody>\n</table>\n</div>"
     },
     "execution_count": 20,
     "metadata": {},
     "output_type": "execute_result"
    }
   ],
   "source": [
    "vc"
   ],
   "metadata": {
    "collapsed": false,
    "ExecuteTime": {
     "end_time": "2023-11-15T08:53:35.584770327Z",
     "start_time": "2023-11-15T08:53:35.573185245Z"
    }
   },
   "id": "841980645599965d"
  },
  {
   "cell_type": "code",
   "execution_count": 75,
   "outputs": [],
   "source": [
    "first_level_labels = []\n",
    "second_level_labels = []\n",
    "first_level_counts = []\n",
    "second_level_counts = []\n",
    "for idx in vc.index:\n",
    "    firstLevel = idx[0]\n",
    "    secondLevel = idx[1]\n",
    "    count = vc.loc[idx,'count']\n",
    "    if firstLevel not in first_level_labels:\n",
    "        first_level_labels.append(firstLevel)\n",
    "        second_level_labels.append(secondLevel)\n",
    "        first_level_counts.append(count)\n",
    "        second_level_counts.append(count)\n",
    "    else:\n",
    "        second_level_counts.append(count)\n",
    "        second_level_labels.append(secondLevel)\n",
    "        first_level_counts[-1] += count\n",
    "unique_second_level = list(set(second_level_labels))"
   ],
   "metadata": {
    "collapsed": false,
    "ExecuteTime": {
     "end_time": "2023-11-15T10:04:58.847161158Z",
     "start_time": "2023-11-15T10:04:58.802598186Z"
    }
   },
   "id": "70366fd2f944df"
  },
  {
   "cell_type": "code",
   "execution_count": 76,
   "outputs": [],
   "source": [
    "second_level_colors = [unique_second_level.index(x) for x in second_level_labels]"
   ],
   "metadata": {
    "collapsed": false,
    "ExecuteTime": {
     "end_time": "2023-11-15T10:04:59.146023117Z",
     "start_time": "2023-11-15T10:04:59.131742011Z"
    }
   },
   "id": "a791367dd9aeb3a2"
  },
  {
   "cell_type": "code",
   "execution_count": 77,
   "outputs": [],
   "source": [
    "second_level_colors = np.multiply(second_level_colors,int(np.floor(20/max(second_level_colors))))"
   ],
   "metadata": {
    "collapsed": false,
    "ExecuteTime": {
     "end_time": "2023-11-15T10:04:59.384888096Z",
     "start_time": "2023-11-15T10:04:59.371628569Z"
    }
   },
   "id": "aa73f933fb313b95"
  },
  {
   "cell_type": "code",
   "execution_count": 79,
   "outputs": [
    {
     "data": {
      "text/plain": "array([ 0, 16, 20,  4, 16, 12, 12, 20, 16,  0, 16, 16, 20,  4, 16, 20,  4,\n       12,  0,  8, 12, 20,  0,  4, 16,  4, 20, 12, 20, 16,  0,  4, 12,  0,\n       16,  8,  0, 20, 16, 20, 16,  0,  4, 12])"
     },
     "execution_count": 79,
     "metadata": {},
     "output_type": "execute_result"
    }
   ],
   "source": [
    "second_level_colors"
   ],
   "metadata": {
    "collapsed": false,
    "ExecuteTime": {
     "end_time": "2023-11-15T10:05:00.298845174Z",
     "start_time": "2023-11-15T10:05:00.264123794Z"
    }
   },
   "id": "9fde1bffb7064907"
  },
  {
   "cell_type": "code",
   "execution_count": 81,
   "outputs": [
    {
     "name": "stderr",
     "output_type": "stream",
     "text": [
      "No artists with labels found to put in legend.  Note that artists whose label start with an underscore are ignored when legend() is called with no argument.\n"
     ]
    },
    {
     "data": {
      "text/plain": "<Figure size 800x800 with 1 Axes>",
      "image/png": "[encoded data removed]"
     },
     "metadata": {},
     "output_type": "display_data"
    }
   ],
   "source": [
    "import matplotlib.pyplot as plt\n",
    "fig, ax = plt.subplots(figsize=(8,8))\n",
    "\n",
    "size = 0.3\n",
    "\n",
    "cmap_outer = plt.colormaps[\"tab20c\"]\n",
    "cmap_inner = plt.colormaps['tab20b']\n",
    "outer_colors = cmap_outer(np.arange(len(first_level_labels)))\n",
    "inner_colors = cmap_inner(second_level_colors)\n",
    "\n",
    "ax.pie(first_level_counts, radius=1, colors=outer_colors,\n",
    "       wedgeprops=dict(width=size, edgecolor='w'))\n",
    "\n",
    "ax.pie(second_level_counts, radius=1-size, colors=inner_colors,\n",
    "       wedgeprops=dict(width=size, edgecolor='w'))\n",
    "\n",
    "ax.set(aspect=\"equal\", title='Pie plot with `ax.pie`')\n",
    "plt.show()"
   ],
   "metadata": {
    "collapsed": false,
    "ExecuteTime": {
     "end_time": "2023-11-15T10:06:07.260086607Z",
     "start_time": "2023-11-15T10:06:06.765147862Z"
    }
   },
   "id": "1797ea6249763dba"
  },
  {
   "cell_type": "code",
   "execution_count": 13,
   "outputs": [],
   "source": [
    "labels = FullLabelFrame['string_label'].unique()"
   ],
   "metadata": {
    "collapsed": false,
    "ExecuteTime": {
     "end_time": "2023-11-15T08:53:31.458896092Z",
     "start_time": "2023-11-15T08:53:31.443290212Z"
    }
   },
   "id": "15a3238c0fd167d6"
  },
  {
   "cell_type": "code",
   "execution_count": 14,
   "outputs": [],
   "source": [
    "datasets = FullLabelFrame[FullLabelFrame['string_label']==labels[0]]['dataset'].unique()"
   ],
   "metadata": {
    "collapsed": false,
    "ExecuteTime": {
     "end_time": "2023-11-15T08:53:31.459066531Z",
     "start_time": "2023-11-15T08:53:31.443431247Z"
    }
   },
   "id": "c9809c082362a7ab"
  },
  {
   "cell_type": "code",
   "execution_count": 15,
   "outputs": [],
   "source": [
    "FullLabelFrame['center_slide'] = FullLabelFrame['ID'].apply(lambda x: '__s12' in x)"
   ],
   "metadata": {
    "collapsed": false,
    "ExecuteTime": {
     "end_time": "2023-11-15T08:53:31.504962766Z",
     "start_time": "2023-11-15T08:53:31.491129498Z"
    }
   },
   "id": "67b16b31ba84f1c8"
  },
  {
   "cell_type": "code",
   "execution_count": 16,
   "outputs": [],
   "source": [
    "VisualizeFrame = FullLabelFrame[FullLabelFrame['center_slide']]"
   ],
   "metadata": {
    "collapsed": false,
    "ExecuteTime": {
     "end_time": "2023-11-15T08:53:31.505407965Z",
     "start_time": "2023-11-15T08:53:31.491412636Z"
    }
   },
   "id": "97d7d9cc510fa49b"
  },
  {
   "cell_type": "code",
   "execution_count": 17,
   "outputs": [],
   "source": [
    "# create a frame that contains labels for some visualizations\n",
    "from sklearn.model_selection import train_test_split\n",
    "visualize_frame = pd.DataFrame()\n",
    "for label in labels:\n",
    "    temp1 = VisualizeFrame[VisualizeFrame['string_label']==label]\n",
    "    datasets = temp1['dataset'].unique()\n",
    "    for dataset in datasets:\n",
    "        df = temp1[temp1['dataset']==dataset]\n",
    "        try:\n",
    "            visualize, _ = train_test_split(df, train_size=2, shuffle=True, random_state=42)\n",
    "        except ValueError:\n",
    "            visualize = df\n",
    "        visualize_frame = pd.concat([visualize_frame,visualize], axis=0)"
   ],
   "metadata": {
    "collapsed": false,
    "ExecuteTime": {
     "end_time": "2023-11-15T08:53:32.043783297Z",
     "start_time": "2023-11-15T08:53:31.491608663Z"
    }
   },
   "id": "7a5ae6052e67471"
  },
  {
   "cell_type": "code",
   "execution_count": 18,
   "outputs": [
    {
     "data": {
      "text/plain": "                                                      ID  label  extra  \\\n21328  /trinity/home/r098375/DDS/data/ADNI/ADNI3/test...      3      0   \n12194  /trinity/home/r098375/DDS/data/ADNI/ADNI3/test...      3      0   \n34114  /trinity/home/r098375/DDS/data/OASIS/OASIS3/te...      3      0   \n47732  /trinity/home/r098375/DDS/data/OASIS/OASIS3/te...      3      0   \n61913  /trinity/home/r098375/DDS/data/egd/NIFTI_SLICE...      3      0   \n...                                                  ...    ...    ...   \n60489  /trinity/home/r098375/DDS/data/egd/NIFTI_SLICE...      9      0   \n62105  /trinity/home/r098375/DDS/data/egd/NIFTI_SLICE...      1      0   \n62904  /trinity/home/r098375/DDS/data/egd/NIFTI_SLICE...      1      0   \n62251  /trinity/home/r098375/DDS/data/egd/NIFTI_SLICE...     10      0   \n61153  /trinity/home/r098375/DDS/data/egd/NIFTI_SLICE...     10      0   \n\n      dataset string_label  center_slide  \n21328   ADNI3     T2-FLAIR          True  \n12194   ADNI3     T2-FLAIR          True  \n34114  OASIS3     T2-FLAIR          True  \n47732  OASIS3     T2-FLAIR          True  \n61913     egd     T2-FLAIR          True  \n...       ...          ...           ...  \n60489     egd          DWI          True  \n62105     egd         T1_c          True  \n62904     egd         T1_c          True  \n62251     egd          ADC          True  \n61153     egd          ADC          True  \n\n[88 rows x 6 columns]",
      "text/html": "<div>\n<style scoped>\n    .dataframe tbody tr th:only-of-type {\n        vertical-align: middle;\n    }\n\n    .dataframe tbody tr th {\n        vertical-align: top;\n    }\n\n    .dataframe thead th {\n        text-align: right;\n    }\n</style>\n<table border=\"1\" class=\"dataframe\">\n  <thead>\n    <tr style=\"text-align: right;\">\n      <th></th>\n      <th>ID</th>\n      <th>label</th>\n      <th>extra</th>\n      <th>dataset</th>\n      <th>string_label</th>\n      <th>center_slide</th>\n    </tr>\n  </thead>\n  <tbody>\n    <tr>\n      <th>21328</th>\n      <td>/trinity/home/r098375/DDS/data/ADNI/ADNI3/test...</td>\n      <td>3</td>\n      <td>0</td>\n      <td>ADNI3</td>\n      <td>T2-FLAIR</td>\n      <td>True</td>\n    </tr>\n    <tr>\n      <th>12194</th>\n      <td>/trinity/home/r098375/DDS/data/ADNI/ADNI3/test...</td>\n      <td>3</td>\n      <td>0</td>\n      <td>ADNI3</td>\n      <td>T2-FLAIR</td>\n      <td>True</td>\n    </tr>\n    <tr>\n      <th>34114</th>\n      <td>/trinity/home/r098375/DDS/data/OASIS/OASIS3/te...</td>\n      <td>3</td>\n      <td>0</td>\n      <td>OASIS3</td>\n      <td>T2-FLAIR</td>\n      <td>True</td>\n    </tr>\n    <tr>\n      <th>47732</th>\n      <td>/trinity/home/r098375/DDS/data/OASIS/OASIS3/te...</td>\n      <td>3</td>\n      <td>0</td>\n      <td>OASIS3</td>\n      <td>T2-FLAIR</td>\n      <td>True</td>\n    </tr>\n    <tr>\n      <th>61913</th>\n      <td>/trinity/home/r098375/DDS/data/egd/NIFTI_SLICE...</td>\n      <td>3</td>\n      <td>0</td>\n      <td>egd</td>\n      <td>T2-FLAIR</td>\n      <td>True</td>\n    </tr>\n    <tr>\n      <th>...</th>\n      <td>...</td>\n      <td>...</td>\n      <td>...</td>\n      <td>...</td>\n      <td>...</td>\n      <td>...</td>\n    </tr>\n    <tr>\n      <th>60489</th>\n      <td>/trinity/home/r098375/DDS/data/egd/NIFTI_SLICE...</td>\n      <td>9</td>\n      <td>0</td>\n      <td>egd</td>\n      <td>DWI</td>\n      <td>True</td>\n    </tr>\n    <tr>\n      <th>62105</th>\n      <td>/trinity/home/r098375/DDS/data/egd/NIFTI_SLICE...</td>\n      <td>1</td>\n      <td>0</td>\n      <td>egd</td>\n      <td>T1_c</td>\n      <td>True</td>\n    </tr>\n    <tr>\n      <th>62904</th>\n      <td>/trinity/home/r098375/DDS/data/egd/NIFTI_SLICE...</td>\n      <td>1</td>\n      <td>0</td>\n      <td>egd</td>\n      <td>T1_c</td>\n      <td>True</td>\n    </tr>\n    <tr>\n      <th>62251</th>\n      <td>/trinity/home/r098375/DDS/data/egd/NIFTI_SLICE...</td>\n      <td>10</td>\n      <td>0</td>\n      <td>egd</td>\n      <td>ADC</td>\n      <td>True</td>\n    </tr>\n    <tr>\n      <th>61153</th>\n      <td>/trinity/home/r098375/DDS/data/egd/NIFTI_SLICE...</td>\n      <td>10</td>\n      <td>0</td>\n      <td>egd</td>\n      <td>ADC</td>\n      <td>True</td>\n    </tr>\n  </tbody>\n</table>\n<p>88 rows × 6 columns</p>\n</div>"
     },
     "execution_count": 18,
     "metadata": {},
     "output_type": "execute_result"
    }
   ],
   "source": [
    "visualize_frame"
   ],
   "metadata": {
    "collapsed": false,
    "ExecuteTime": {
     "end_time": "2023-11-15T08:53:32.096128265Z",
     "start_time": "2023-11-15T08:53:32.051116200Z"
    }
   },
   "id": "141ebd063ce348c0"
  },
  {
   "cell_type": "code",
   "execution_count": 19,
   "outputs": [],
   "source": [
    "# visualize_frame.to_csv('visualizeFrame.csv', index=False)"
   ],
   "metadata": {
    "collapsed": false,
    "ExecuteTime": {
     "end_time": "2023-11-15T08:53:32.096359358Z",
     "start_time": "2023-11-15T08:53:32.094969168Z"
    }
   },
   "id": "447d20f18d033e51"
  },
  {
   "cell_type": "code",
   "execution_count": 19,
   "outputs": [],
   "source": [],
   "metadata": {
    "collapsed": false,
    "ExecuteTime": {
     "end_time": "2023-11-15T08:53:32.097118291Z",
     "start_time": "2023-11-15T08:53:32.095128336Z"
    }
   },
   "id": "62be4c61feb73389"
  }
 ],
 "metadata": {
  "kernelspec": {
   "display_name": "Python 3",
   "language": "python",
   "name": "python3"
  },
  "language_info": {
   "codemirror_mode": {
    "name": "ipython",
    "version": 2
   },
   "file_extension": ".py",
   "mimetype": "text/x-python",
   "name": "python",
   "nbconvert_exporter": "python",
   "pygments_lexer": "ipython2",
   "version": "2.7.6"
  }
 },
 "nbformat": 4,
 "nbformat_minor": 5
}
