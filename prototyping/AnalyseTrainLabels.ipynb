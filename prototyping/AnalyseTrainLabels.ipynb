{
 "cells": [
  {
   "cell_type": "code",
   "execution_count": 1,
   "id": "initial_id",
   "metadata": {
    "collapsed": true,
    "ExecuteTime": {
     "end_time": "2023-11-30T09:11:33.439989327Z",
     "start_time": "2023-11-30T09:11:33.047368572Z"
    }
   },
   "outputs": [],
   "source": [
    "import os.path\n",
    "\n",
    "import numpy as np\n",
    "import pandas as pd"
   ]
  },
  {
   "cell_type": "code",
   "execution_count": 2,
   "outputs": [],
   "source": [
    "classesDict = {\n",
    "    \"T1\":0,\n",
    "    \"T1_c\":1,\n",
    "    \"T2\":2,\n",
    "    \"T2-FLAIR\":3,\n",
    "    \"PD\":4,\n",
    "    \"SWI\":5,\n",
    "    \"GRE\":6,\n",
    "    \"T2*\":7,\n",
    "    \"DWI\":8,\n",
    "    \"ADC\":9,\n",
    "    \"BOLD\":10,\n",
    "    \"angio\":11,\n",
    "    \"PWI\":12,\n",
    "    \"ASL\":13,\n",
    "    \"DTI\":14,\n",
    "    \"Other\":15\n",
    "}"
   ],
   "metadata": {
    "collapsed": false,
    "ExecuteTime": {
     "end_time": "2023-11-30T09:11:33.482549268Z",
     "start_time": "2023-11-30T09:11:33.482153792Z"
    }
   },
   "id": "edc6427f3b7f991f"
  },
  {
   "cell_type": "code",
   "execution_count": 3,
   "outputs": [],
   "source": [
    "train_labels_path = 'combinedDfs/CombinedTrainingFrame_A2_A3_O3_egd_rss_hb_pruned.txt'\n",
    "test_labels_path = 'combinedDfs/CombinedTestingFrame_A2_A3_O3_egd_rss_hb_pruned.txt'"
   ],
   "metadata": {
    "collapsed": false,
    "ExecuteTime": {
     "end_time": "2023-11-30T09:11:33.482848637Z",
     "start_time": "2023-11-30T09:11:33.482450602Z"
    }
   },
   "id": "1d14e77d3b5bfbc5"
  },
  {
   "cell_type": "code",
   "execution_count": 4,
   "outputs": [],
   "source": [
    "train_labels = pd.read_csv(train_labels_path,names=['ID','label','extra'],sep='\\t', dtype={'ID':str,'label':int,'extra':int})\n",
    "test_labels = pd.read_csv(test_labels_path,names=['ID','label','extra'],sep='\\t', dtype={'ID':str,'label':int,'extra':int})"
   ],
   "metadata": {
    "collapsed": false,
    "ExecuteTime": {
     "end_time": "2023-11-30T09:11:34.494420968Z",
     "start_time": "2023-11-30T09:11:33.482670578Z"
    }
   },
   "id": "4ca9e042b04aded4"
  },
  {
   "cell_type": "code",
   "execution_count": 5,
   "outputs": [],
   "source": [
    "Label_name_list = list(classesDict.keys())"
   ],
   "metadata": {
    "collapsed": false,
    "ExecuteTime": {
     "end_time": "2023-11-30T09:11:34.505844803Z",
     "start_time": "2023-11-30T09:11:34.496033978Z"
    }
   },
   "id": "e56a9c4bfe44909e"
  },
  {
   "cell_type": "code",
   "execution_count": 6,
   "outputs": [
    {
     "data": {
      "text/plain": "                                                      ID  label  extra\n0      /trinity/home/r098375/DDS/data/ADNI/ADNI3/trai...      3      0\n1      /trinity/home/r098375/DDS/data/ADNI/ADNI3/trai...      7      0\n2      /trinity/home/r098375/DDS/data/ADNI/ADNI3/trai...      0      0\n3      /trinity/home/r098375/DDS/data/ADNI/ADNI3/trai...      3      0\n4      /trinity/home/r098375/DDS/data/ADNI/ADNI3/trai...     15      0\n...                                                  ...    ...    ...\n63715  /data/scratch/r098375/data/HeartBrain/NIFTI_SL...     12      0\n63716  /data/scratch/r098375/data/HeartBrain/NIFTI_SL...     12      0\n63717  /data/scratch/r098375/data/HeartBrain/NIFTI_SL...     12      0\n63718  /data/scratch/r098375/data/HeartBrain/NIFTI_SL...     12      0\n63719  /data/scratch/r098375/data/HeartBrain/NIFTI_SL...     12      0\n\n[610650 rows x 3 columns]",
      "text/html": "<div>\n<style scoped>\n    .dataframe tbody tr th:only-of-type {\n        vertical-align: middle;\n    }\n\n    .dataframe tbody tr th {\n        vertical-align: top;\n    }\n\n    .dataframe thead th {\n        text-align: right;\n    }\n</style>\n<table border=\"1\" class=\"dataframe\">\n  <thead>\n    <tr style=\"text-align: right;\">\n      <th></th>\n      <th>ID</th>\n      <th>label</th>\n      <th>extra</th>\n    </tr>\n  </thead>\n  <tbody>\n    <tr>\n      <th>0</th>\n      <td>/trinity/home/r098375/DDS/data/ADNI/ADNI3/trai...</td>\n      <td>3</td>\n      <td>0</td>\n    </tr>\n    <tr>\n      <th>1</th>\n      <td>/trinity/home/r098375/DDS/data/ADNI/ADNI3/trai...</td>\n      <td>7</td>\n      <td>0</td>\n    </tr>\n    <tr>\n      <th>2</th>\n      <td>/trinity/home/r098375/DDS/data/ADNI/ADNI3/trai...</td>\n      <td>0</td>\n      <td>0</td>\n    </tr>\n    <tr>\n      <th>3</th>\n      <td>/trinity/home/r098375/DDS/data/ADNI/ADNI3/trai...</td>\n      <td>3</td>\n      <td>0</td>\n    </tr>\n    <tr>\n      <th>4</th>\n      <td>/trinity/home/r098375/DDS/data/ADNI/ADNI3/trai...</td>\n      <td>15</td>\n      <td>0</td>\n    </tr>\n    <tr>\n      <th>...</th>\n      <td>...</td>\n      <td>...</td>\n      <td>...</td>\n    </tr>\n    <tr>\n      <th>63715</th>\n      <td>/data/scratch/r098375/data/HeartBrain/NIFTI_SL...</td>\n      <td>12</td>\n      <td>0</td>\n    </tr>\n    <tr>\n      <th>63716</th>\n      <td>/data/scratch/r098375/data/HeartBrain/NIFTI_SL...</td>\n      <td>12</td>\n      <td>0</td>\n    </tr>\n    <tr>\n      <th>63717</th>\n      <td>/data/scratch/r098375/data/HeartBrain/NIFTI_SL...</td>\n      <td>12</td>\n      <td>0</td>\n    </tr>\n    <tr>\n      <th>63718</th>\n      <td>/data/scratch/r098375/data/HeartBrain/NIFTI_SL...</td>\n      <td>12</td>\n      <td>0</td>\n    </tr>\n    <tr>\n      <th>63719</th>\n      <td>/data/scratch/r098375/data/HeartBrain/NIFTI_SL...</td>\n      <td>12</td>\n      <td>0</td>\n    </tr>\n  </tbody>\n</table>\n<p>610650 rows × 3 columns</p>\n</div>"
     },
     "execution_count": 6,
     "metadata": {},
     "output_type": "execute_result"
    }
   ],
   "source": [
    "Labels = pd.concat((train_labels, test_labels), axis=0)\n",
    "Labels"
   ],
   "metadata": {
    "collapsed": false,
    "ExecuteTime": {
     "end_time": "2023-11-30T09:11:34.547357227Z",
     "start_time": "2023-11-30T09:11:34.499938599Z"
    }
   },
   "id": "9a4c9676255b78c"
  },
  {
   "cell_type": "code",
   "execution_count": 7,
   "outputs": [],
   "source": [
    "def extractDataset(ID):\n",
    "    if 'ADNI2' in ID:\n",
    "        return 'ADNI2'\n",
    "    elif 'ADNI3' in ID:\n",
    "        return 'ADNI3'\n",
    "    elif 'OASIS3' in ID:\n",
    "        return 'OASIS3'\n",
    "    elif 'egd' in ID:\n",
    "        return 'egd'\n",
    "    elif 'Rstudy' in ID:\n",
    "        return 'rss'\n",
    "    elif 'HeartBrain' in ID:\n",
    "        return 'HeartBrain'\n",
    "    return None\n",
    "\n",
    "def assignStringLabel(label, labelList):\n",
    "    return labelList[label]"
   ],
   "metadata": {
    "collapsed": false,
    "ExecuteTime": {
     "end_time": "2023-11-30T09:11:34.547805357Z",
     "start_time": "2023-11-30T09:11:34.527299754Z"
    }
   },
   "id": "8036efcb119f40ae"
  },
  {
   "cell_type": "code",
   "execution_count": 8,
   "outputs": [],
   "source": [
    "FullLabelFrame = Labels.copy()"
   ],
   "metadata": {
    "collapsed": false,
    "ExecuteTime": {
     "end_time": "2023-11-30T09:11:34.550077840Z",
     "start_time": "2023-11-30T09:11:34.531299866Z"
    }
   },
   "id": "30ae557186084b76"
  },
  {
   "cell_type": "code",
   "execution_count": 9,
   "outputs": [],
   "source": [
    "FullLabelFrame['dataset'] = FullLabelFrame['ID'].apply(extractDataset)\n",
    "FullLabelFrame['string_label'] = FullLabelFrame['label'].apply(assignStringLabel, labelList=Label_name_list)"
   ],
   "metadata": {
    "collapsed": false,
    "ExecuteTime": {
     "end_time": "2023-11-30T09:11:34.947157760Z",
     "start_time": "2023-11-30T09:11:34.548893733Z"
    }
   },
   "id": "76293cacf0efa33d"
  },
  {
   "cell_type": "code",
   "execution_count": 10,
   "outputs": [
    {
     "data": {
      "text/plain": "dataset     string_label\nADNI2       PD               225.0\n            T2               225.0\nADNI3       Other           5791.0\n            T2*             3978.0\n            T1              2326.0\n            T2-FLAIR        2013.0\n            PWI              971.0\n            ASL              377.0\n            DTI               82.0\n            SWI               17.0\n            PD                 2.0\nHeartBrain  Other           1051.0\n            PWI              349.0\n            ASL              306.0\n            SWI              268.0\n            T1               228.0\nOASIS3      Other           4944.0\n            BOLD            3017.0\n            T2              2483.0\n            T1              2390.0\n            DWI             2009.0\n            SWI             1626.0\n            T2*             1414.0\n            ASL              940.0\n            T2-FLAIR         757.0\n            angio            557.0\n            GRE              437.0\negd         DWI              453.0\n            T1_c             385.0\n            T1               273.0\n            T2               231.0\n            PWI              126.0\n            ADC              113.0\n            Other             60.0\n            PD                 3.0\n            ASL                2.0\n            DTI                1.0\nrss         Other            109.0\n            DTI               78.0\n            PD                26.0\n            T1                25.0\n            SWI               19.0\n            BOLD              17.0\n            ASL                6.0\nName: count, dtype: float64"
     },
     "execution_count": 10,
     "metadata": {},
     "output_type": "execute_result"
    }
   ],
   "source": [
    "FullLabelFrame.groupby('dataset')['string_label'].value_counts()/15"
   ],
   "metadata": {
    "collapsed": false,
    "ExecuteTime": {
     "end_time": "2023-11-30T09:11:35.050269581Z",
     "start_time": "2023-11-30T09:11:34.960953664Z"
    }
   },
   "id": "fe1dfef5f6af276b"
  },
  {
   "cell_type": "code",
   "execution_count": 11,
   "outputs": [
    {
     "name": "stdout",
     "output_type": "stream",
     "text": [
      "\\begin{tabular}{llr}\n",
      "\\toprule\n",
      " &  & count \\\\\n",
      "string_label & dataset &  \\\\\n",
      "\\midrule\n",
      "ADC & egd & 113.000000 \\\\\n",
      "\\cline{1-3}\n",
      "\\multirow[t]{5}{*}{ASL} & OASIS3 & 940.000000 \\\\\n",
      " & ADNI3 & 377.000000 \\\\\n",
      " & HeartBrain & 306.000000 \\\\\n",
      " & rss & 6.000000 \\\\\n",
      " & egd & 2.000000 \\\\\n",
      "\\cline{1-3}\n",
      "\\multirow[t]{2}{*}{BOLD} & OASIS3 & 3017.000000 \\\\\n",
      " & rss & 17.000000 \\\\\n",
      "\\cline{1-3}\n",
      "\\multirow[t]{3}{*}{DTI} & ADNI3 & 82.000000 \\\\\n",
      " & rss & 78.000000 \\\\\n",
      " & egd & 1.000000 \\\\\n",
      "\\cline{1-3}\n",
      "\\multirow[t]{2}{*}{DWI} & OASIS3 & 2009.000000 \\\\\n",
      " & egd & 453.000000 \\\\\n",
      "\\cline{1-3}\n",
      "GRE & OASIS3 & 437.000000 \\\\\n",
      "\\cline{1-3}\n",
      "\\multirow[t]{5}{*}{Other} & ADNI3 & 5791.000000 \\\\\n",
      " & OASIS3 & 4944.000000 \\\\\n",
      " & HeartBrain & 1051.000000 \\\\\n",
      " & rss & 109.000000 \\\\\n",
      " & egd & 60.000000 \\\\\n",
      "\\cline{1-3}\n",
      "\\multirow[t]{4}{*}{PD} & ADNI2 & 225.000000 \\\\\n",
      " & rss & 26.000000 \\\\\n",
      " & egd & 3.000000 \\\\\n",
      " & ADNI3 & 2.000000 \\\\\n",
      "\\cline{1-3}\n",
      "\\multirow[t]{3}{*}{PWI} & ADNI3 & 971.000000 \\\\\n",
      " & HeartBrain & 349.000000 \\\\\n",
      " & egd & 126.000000 \\\\\n",
      "\\cline{1-3}\n",
      "\\multirow[t]{4}{*}{SWI} & OASIS3 & 1626.000000 \\\\\n",
      " & HeartBrain & 268.000000 \\\\\n",
      " & rss & 19.000000 \\\\\n",
      " & ADNI3 & 17.000000 \\\\\n",
      "\\cline{1-3}\n",
      "\\multirow[t]{5}{*}{T1} & OASIS3 & 2390.000000 \\\\\n",
      " & ADNI3 & 2326.000000 \\\\\n",
      " & egd & 273.000000 \\\\\n",
      " & HeartBrain & 228.000000 \\\\\n",
      " & rss & 25.000000 \\\\\n",
      "\\cline{1-3}\n",
      "T1_c & egd & 385.000000 \\\\\n",
      "\\cline{1-3}\n",
      "\\multirow[t]{3}{*}{T2} & OASIS3 & 2483.000000 \\\\\n",
      " & egd & 231.000000 \\\\\n",
      " & ADNI2 & 225.000000 \\\\\n",
      "\\cline{1-3}\n",
      "\\multirow[t]{2}{*}{T2*} & ADNI3 & 3978.000000 \\\\\n",
      " & OASIS3 & 1414.000000 \\\\\n",
      "\\cline{1-3}\n",
      "\\multirow[t]{2}{*}{T2-FLAIR} & ADNI3 & 2013.000000 \\\\\n",
      " & OASIS3 & 757.000000 \\\\\n",
      "\\cline{1-3}\n",
      "angio & OASIS3 & 557.000000 \\\\\n",
      "\\cline{1-3}\n",
      "\\bottomrule\n",
      "\\end{tabular}\n"
     ]
    }
   ],
   "source": [
    "print((FullLabelFrame.groupby('string_label')['dataset'].value_counts()/15).to_latex())"
   ],
   "metadata": {
    "collapsed": false,
    "ExecuteTime": {
     "end_time": "2023-11-30T09:11:35.633036504Z",
     "start_time": "2023-11-30T09:11:35.059338859Z"
    }
   },
   "id": "32dc666b6268de50"
  },
  {
   "cell_type": "code",
   "execution_count": 28,
   "outputs": [],
   "source": [
    "vc = pd.DataFrame(FullLabelFrame.groupby('string_label')['dataset'].value_counts())"
   ],
   "metadata": {
    "collapsed": false,
    "ExecuteTime": {
     "end_time": "2023-11-30T09:12:54.331337871Z",
     "start_time": "2023-11-30T09:12:54.301392216Z"
    }
   },
   "id": "f01953378b046fd6"
  },
  {
   "cell_type": "code",
   "execution_count": 14,
   "outputs": [],
   "source": [
    "first_level_labels = []\n",
    "second_level_labels = []\n",
    "first_level_counts = []\n",
    "second_level_counts = []\n",
    "for idx in vc.index:\n",
    "    firstLevel = idx[0]\n",
    "    secondLevel = idx[1]\n",
    "    count = vc.loc[idx,'count']\n",
    "    if firstLevel not in first_level_labels:\n",
    "        first_level_labels.append(firstLevel)\n",
    "        second_level_labels.append(secondLevel)\n",
    "        first_level_counts.append(count)\n",
    "        second_level_counts.append(count)\n",
    "    else:\n",
    "        second_level_counts.append(count)\n",
    "        second_level_labels.append(secondLevel)\n",
    "        first_level_counts[-1] += count\n",
    "unique_second_level = list(set(second_level_labels))"
   ],
   "metadata": {
    "collapsed": false,
    "ExecuteTime": {
     "end_time": "2023-11-30T09:11:35.698137443Z",
     "start_time": "2023-11-30T09:11:35.690868759Z"
    }
   },
   "id": "70366fd2f944df"
  },
  {
   "cell_type": "code",
   "execution_count": 15,
   "outputs": [],
   "source": [
    "second_level_colors = [unique_second_level.index(x) for x in second_level_labels]"
   ],
   "metadata": {
    "collapsed": false,
    "ExecuteTime": {
     "end_time": "2023-11-30T09:11:35.698422717Z",
     "start_time": "2023-11-30T09:11:35.691195657Z"
    }
   },
   "id": "a791367dd9aeb3a2"
  },
  {
   "cell_type": "code",
   "execution_count": 16,
   "outputs": [],
   "source": [
    "second_level_colors = np.multiply(second_level_colors,int(np.floor(20/max(second_level_colors))))"
   ],
   "metadata": {
    "collapsed": false,
    "ExecuteTime": {
     "end_time": "2023-11-30T09:11:35.698632294Z",
     "start_time": "2023-11-30T09:11:35.691443351Z"
    }
   },
   "id": "aa73f933fb313b95"
  },
  {
   "cell_type": "code",
   "execution_count": 17,
   "outputs": [
    {
     "data": {
      "text/plain": "array([ 4,  0, 12, 16, 20,  4,  0, 20, 12, 20,  4,  0,  4,  0, 12,  0, 16,\n       20,  4,  8, 20,  4, 12, 12, 16,  4,  0, 16, 20, 12,  0, 12,  4, 16,\n       20,  4,  0,  4,  8, 12,  0, 12,  0,  0])"
     },
     "execution_count": 17,
     "metadata": {},
     "output_type": "execute_result"
    }
   ],
   "source": [
    "second_level_colors"
   ],
   "metadata": {
    "collapsed": false,
    "ExecuteTime": {
     "end_time": "2023-11-30T09:11:35.699405101Z",
     "start_time": "2023-11-30T09:11:35.691825372Z"
    }
   },
   "id": "9fde1bffb7064907"
  },
  {
   "cell_type": "code",
   "execution_count": 18,
   "outputs": [
    {
     "data": {
      "text/plain": "<Figure size 800x800 with 1 Axes>",
      "image/png": "[encoded data removed]"
     },
     "metadata": {},
     "output_type": "display_data"
    }
   ],
   "source": [
    "import matplotlib.pyplot as plt\n",
    "fig, ax = plt.subplots(figsize=(8,8))\n",
    "\n",
    "size = 0.3\n",
    "\n",
    "cmap_outer = plt.colormaps[\"tab20c\"]\n",
    "cmap_inner = plt.colormaps['tab20b']\n",
    "outer_colors = cmap_outer(np.arange(len(first_level_labels)))\n",
    "inner_colors = cmap_inner(second_level_colors)\n",
    "\n",
    "ax.pie(first_level_counts, radius=1, colors=outer_colors,\n",
    "       wedgeprops=dict(width=size, edgecolor='w'))\n",
    "\n",
    "ax.pie(second_level_counts, radius=1-size, colors=inner_colors,\n",
    "       wedgeprops=dict(width=size, edgecolor='w'))\n",
    "\n",
    "ax.set(aspect=\"equal\", title='Pie plot with `ax.pie`')\n",
    "plt.show()"
   ],
   "metadata": {
    "collapsed": false,
    "ExecuteTime": {
     "end_time": "2023-11-30T09:11:36.325467120Z",
     "start_time": "2023-11-30T09:11:35.692475831Z"
    }
   },
   "id": "1797ea6249763dba"
  },
  {
   "cell_type": "code",
   "execution_count": 19,
   "outputs": [],
   "source": [
    "labels = FullLabelFrame['string_label'].unique()"
   ],
   "metadata": {
    "collapsed": false,
    "ExecuteTime": {
     "end_time": "2023-11-30T09:11:36.325924467Z",
     "start_time": "2023-11-30T09:11:36.252539691Z"
    }
   },
   "id": "15a3238c0fd167d6"
  },
  {
   "cell_type": "code",
   "execution_count": 20,
   "outputs": [],
   "source": [
    "datasets = FullLabelFrame[FullLabelFrame['string_label']==labels[0]]['dataset'].unique()"
   ],
   "metadata": {
    "collapsed": false,
    "ExecuteTime": {
     "end_time": "2023-11-30T09:11:36.326238993Z",
     "start_time": "2023-11-30T09:11:36.306078017Z"
    }
   },
   "id": "c9809c082362a7ab"
  },
  {
   "cell_type": "code",
   "execution_count": 21,
   "outputs": [],
   "source": [
    "FullLabelFrame['center_slide'] = FullLabelFrame['ID'].apply(lambda x: '__s12' in x)"
   ],
   "metadata": {
    "collapsed": false,
    "ExecuteTime": {
     "end_time": "2023-11-30T09:11:36.431989453Z",
     "start_time": "2023-11-30T09:11:36.330575118Z"
    }
   },
   "id": "67b16b31ba84f1c8"
  },
  {
   "cell_type": "code",
   "execution_count": 22,
   "outputs": [],
   "source": [
    "VisualizeFrame = FullLabelFrame[FullLabelFrame['center_slide']]"
   ],
   "metadata": {
    "collapsed": false,
    "ExecuteTime": {
     "end_time": "2023-11-30T09:11:36.452943099Z",
     "start_time": "2023-11-30T09:11:36.432257923Z"
    }
   },
   "id": "97d7d9cc510fa49b"
  },
  {
   "cell_type": "code",
   "execution_count": 23,
   "outputs": [],
   "source": [
    "# create a frame that contains labels for some visualizations\n",
    "from sklearn.model_selection import train_test_split\n",
    "visualize_frame = pd.DataFrame()\n",
    "for label in labels:\n",
    "    temp1 = VisualizeFrame[VisualizeFrame['string_label']==label]\n",
    "    datasets = temp1['dataset'].unique()\n",
    "    for dataset in datasets:\n",
    "        df = temp1[temp1['dataset']==dataset]\n",
    "        try:\n",
    "            visualize, _ = train_test_split(df, train_size=2, shuffle=True, random_state=42)\n",
    "        except ValueError:\n",
    "            visualize = df\n",
    "        visualize_frame = pd.concat([visualize_frame,visualize], axis=0)"
   ],
   "metadata": {
    "collapsed": false,
    "ExecuteTime": {
     "end_time": "2023-11-30T09:11:37.218338927Z",
     "start_time": "2023-11-30T09:11:36.444923709Z"
    }
   },
   "id": "7a5ae6052e67471"
  },
  {
   "cell_type": "code",
   "execution_count": 24,
   "outputs": [
    {
     "data": {
      "text/plain": "                                                       ID  label  extra  \\\n170362  /trinity/home/r098375/DDS/data/ADNI/ADNI3/trai...      3      0   \n130877  /trinity/home/r098375/DDS/data/ADNI/ADNI3/trai...      3      0   \n391847  /trinity/home/r098375/DDS/data/OASIS/OASIS3/tr...      3      0   \n259111  /trinity/home/r098375/DDS/data/OASIS/OASIS3/tr...      3      0   \n204631  /trinity/home/r098375/DDS/data/ADNI/ADNI3/trai...      7      0   \n...                                                   ...    ...    ...   \n266550  /trinity/home/r098375/DDS/data/OASIS/OASIS3/tr...     11      0   \n505981  /trinity/home/r098375/DDS/data/egd/NIFTI_SLICE...      9      0   \n58487   /trinity/home/r098375/DDS/data/egd/NIFTI_SLICE...      9      0   \n56750   /trinity/home/r098375/DDS/data/egd/NIFTI_SLICE...      1      0   \n498691  /trinity/home/r098375/DDS/data/egd/NIFTI_SLICE...      1      0   \n\n       dataset string_label  center_slide  \n170362   ADNI3     T2-FLAIR          True  \n130877   ADNI3     T2-FLAIR          True  \n391847  OASIS3     T2-FLAIR          True  \n259111  OASIS3     T2-FLAIR          True  \n204631   ADNI3          T2*          True  \n...        ...          ...           ...  \n266550  OASIS3        angio          True  \n505981     egd          ADC          True  \n58487      egd          ADC          True  \n56750      egd         T1_c          True  \n498691     egd         T1_c          True  \n\n[87 rows x 6 columns]",
      "text/html": "<div>\n<style scoped>\n    .dataframe tbody tr th:only-of-type {\n        vertical-align: middle;\n    }\n\n    .dataframe tbody tr th {\n        vertical-align: top;\n    }\n\n    .dataframe thead th {\n        text-align: right;\n    }\n</style>\n<table border=\"1\" class=\"dataframe\">\n  <thead>\n    <tr style=\"text-align: right;\">\n      <th></th>\n      <th>ID</th>\n      <th>label</th>\n      <th>extra</th>\n      <th>dataset</th>\n      <th>string_label</th>\n      <th>center_slide</th>\n    </tr>\n  </thead>\n  <tbody>\n    <tr>\n      <th>170362</th>\n      <td>/trinity/home/r098375/DDS/data/ADNI/ADNI3/trai...</td>\n      <td>3</td>\n      <td>0</td>\n      <td>ADNI3</td>\n      <td>T2-FLAIR</td>\n      <td>True</td>\n    </tr>\n    <tr>\n      <th>130877</th>\n      <td>/trinity/home/r098375/DDS/data/ADNI/ADNI3/trai...</td>\n      <td>3</td>\n      <td>0</td>\n      <td>ADNI3</td>\n      <td>T2-FLAIR</td>\n      <td>True</td>\n    </tr>\n    <tr>\n      <th>391847</th>\n      <td>/trinity/home/r098375/DDS/data/OASIS/OASIS3/tr...</td>\n      <td>3</td>\n      <td>0</td>\n      <td>OASIS3</td>\n      <td>T2-FLAIR</td>\n      <td>True</td>\n    </tr>\n    <tr>\n      <th>259111</th>\n      <td>/trinity/home/r098375/DDS/data/OASIS/OASIS3/tr...</td>\n      <td>3</td>\n      <td>0</td>\n      <td>OASIS3</td>\n      <td>T2-FLAIR</td>\n      <td>True</td>\n    </tr>\n    <tr>\n      <th>204631</th>\n      <td>/trinity/home/r098375/DDS/data/ADNI/ADNI3/trai...</td>\n      <td>7</td>\n      <td>0</td>\n      <td>ADNI3</td>\n      <td>T2*</td>\n      <td>True</td>\n    </tr>\n    <tr>\n      <th>...</th>\n      <td>...</td>\n      <td>...</td>\n      <td>...</td>\n      <td>...</td>\n      <td>...</td>\n      <td>...</td>\n    </tr>\n    <tr>\n      <th>266550</th>\n      <td>/trinity/home/r098375/DDS/data/OASIS/OASIS3/tr...</td>\n      <td>11</td>\n      <td>0</td>\n      <td>OASIS3</td>\n      <td>angio</td>\n      <td>True</td>\n    </tr>\n    <tr>\n      <th>505981</th>\n      <td>/trinity/home/r098375/DDS/data/egd/NIFTI_SLICE...</td>\n      <td>9</td>\n      <td>0</td>\n      <td>egd</td>\n      <td>ADC</td>\n      <td>True</td>\n    </tr>\n    <tr>\n      <th>58487</th>\n      <td>/trinity/home/r098375/DDS/data/egd/NIFTI_SLICE...</td>\n      <td>9</td>\n      <td>0</td>\n      <td>egd</td>\n      <td>ADC</td>\n      <td>True</td>\n    </tr>\n    <tr>\n      <th>56750</th>\n      <td>/trinity/home/r098375/DDS/data/egd/NIFTI_SLICE...</td>\n      <td>1</td>\n      <td>0</td>\n      <td>egd</td>\n      <td>T1_c</td>\n      <td>True</td>\n    </tr>\n    <tr>\n      <th>498691</th>\n      <td>/trinity/home/r098375/DDS/data/egd/NIFTI_SLICE...</td>\n      <td>1</td>\n      <td>0</td>\n      <td>egd</td>\n      <td>T1_c</td>\n      <td>True</td>\n    </tr>\n  </tbody>\n</table>\n<p>87 rows × 6 columns</p>\n</div>"
     },
     "execution_count": 24,
     "metadata": {},
     "output_type": "execute_result"
    }
   ],
   "source": [
    "visualize_frame"
   ],
   "metadata": {
    "collapsed": false,
    "ExecuteTime": {
     "end_time": "2023-11-30T09:11:37.230470512Z",
     "start_time": "2023-11-30T09:11:37.225413783Z"
    }
   },
   "id": "141ebd063ce348c0"
  },
  {
   "cell_type": "code",
   "execution_count": 25,
   "outputs": [],
   "source": [
    "# visualize_frame.to_csv('visualizeFrame.csv', index=False)"
   ],
   "metadata": {
    "collapsed": false,
    "ExecuteTime": {
     "end_time": "2023-11-30T09:11:37.239326269Z",
     "start_time": "2023-11-30T09:11:37.230607634Z"
    }
   },
   "id": "447d20f18d033e51"
  },
  {
   "cell_type": "code",
   "execution_count": 25,
   "outputs": [],
   "source": [],
   "metadata": {
    "collapsed": false,
    "ExecuteTime": {
     "end_time": "2023-11-30T09:11:37.259260896Z",
     "start_time": "2023-11-30T09:11:37.241365199Z"
    }
   },
   "id": "62be4c61feb73389"
  }
 ],
 "metadata": {
  "kernelspec": {
   "display_name": "Python 3",
   "language": "python",
   "name": "python3"
  },
  "language_info": {
   "codemirror_mode": {
    "name": "ipython",
    "version": 2
   },
   "file_extension": ".py",
   "mimetype": "text/x-python",
   "name": "python",
   "nbconvert_exporter": "python",
   "pygments_lexer": "ipython2",
   "version": "2.7.6"
  }
 },
 "nbformat": 4,
 "nbformat_minor": 5
}
