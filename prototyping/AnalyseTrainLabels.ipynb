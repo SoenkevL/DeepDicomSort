{
 "cells": [
  {
   "cell_type": "code",
   "execution_count": 15,
   "id": "initial_id",
   "metadata": {
    "collapsed": true,
    "ExecuteTime": {
     "end_time": "2023-11-07T14:09:44.059908724Z",
     "start_time": "2023-11-07T14:09:43.971366945Z"
    }
   },
   "outputs": [],
   "source": [
    "import numpy as np\n",
    "import pandas as pd"
   ]
  },
  {
   "cell_type": "code",
   "execution_count": 16,
   "outputs": [],
   "source": [
    "classesDict = {\n",
    "    \"T1\":0,\n",
    "    \"T1_c\":1,\n",
    "    \"T2\":2,\n",
    "    \"T2-FLAIR\":3,\n",
    "    \"FS\":4,\n",
    "    \"PD\":5,\n",
    "    \"SWI\":6,\n",
    "    \"GRE\":7,\n",
    "    \"T2*\":8,\n",
    "    \"DWI\":9,\n",
    "    \"ADC\":10,\n",
    "    \"BOLD\":11,\n",
    "    \"FlowSensitve\":12,\n",
    "    \"PWI\":13,\n",
    "    \"ASL\":14,\n",
    "    \"Hippo\":15,\n",
    "    \"DTI\":16,\n",
    "    \"Other\":17\n",
    "}"
   ],
   "metadata": {
    "collapsed": false,
    "ExecuteTime": {
     "end_time": "2023-11-07T14:09:44.060106315Z",
     "start_time": "2023-11-07T14:09:44.037997912Z"
    }
   },
   "id": "edc6427f3b7f991f"
  },
  {
   "cell_type": "code",
   "execution_count": 17,
   "outputs": [],
   "source": [
    "labels_path = '/home/soenke/Internship/DeepDicomSortFork/prototyping/combinedDfs/CombinedTestingFrame_A2_A3_O3_egd_rss_hb_pruned.txt'"
   ],
   "metadata": {
    "collapsed": false,
    "ExecuteTime": {
     "end_time": "2023-11-07T14:09:44.060354603Z",
     "start_time": "2023-11-07T14:09:44.038189878Z"
    }
   },
   "id": "1d14e77d3b5bfbc5"
  },
  {
   "cell_type": "code",
   "execution_count": 18,
   "outputs": [],
   "source": [
    "Labels = pd.read_csv(labels_path,names=['ID','label','extra'],sep='\\t', dtype={'ID':str,'label':int,'extra':int})"
   ],
   "metadata": {
    "collapsed": false,
    "ExecuteTime": {
     "end_time": "2023-11-07T14:09:44.114531437Z",
     "start_time": "2023-11-07T14:09:44.038327542Z"
    }
   },
   "id": "4ca9e042b04aded4"
  },
  {
   "cell_type": "code",
   "execution_count": 19,
   "outputs": [],
   "source": [
    "Label_name_list = list(classesDict.keys())"
   ],
   "metadata": {
    "collapsed": false,
    "ExecuteTime": {
     "end_time": "2023-11-07T14:09:44.125595721Z",
     "start_time": "2023-11-07T14:09:44.115954974Z"
    }
   },
   "id": "e56a9c4bfe44909e"
  },
  {
   "cell_type": "code",
   "execution_count": 20,
   "outputs": [
    {
     "data": {
      "text/plain": "                                                      ID  label  extra\n0      /trinity/home/r098375/DDS/data/ADNI/ADNI3/test...      3      0\n1      /trinity/home/r098375/DDS/data/ADNI/ADNI3/test...     17      0\n2      /trinity/home/r098375/DDS/data/ADNI/ADNI3/test...      3      0\n3      /trinity/home/r098375/DDS/data/ADNI/ADNI3/test...     15      0\n4      /trinity/home/r098375/DDS/data/ADNI/ADNI3/test...      3      0\n...                                                  ...    ...    ...\n66775  /trinity/home/r098375/DDS/data/HeartBrain/NIFT...      0      0\n66776  /trinity/home/r098375/DDS/data/HeartBrain/NIFT...      0      0\n66777  /trinity/home/r098375/DDS/data/HeartBrain/NIFT...      0      0\n66778  /trinity/home/r098375/DDS/data/HeartBrain/NIFT...      0      0\n66779  /trinity/home/r098375/DDS/data/HeartBrain/NIFT...      0      0\n\n[66780 rows x 3 columns]",
      "text/html": "<div>\n<style scoped>\n    .dataframe tbody tr th:only-of-type {\n        vertical-align: middle;\n    }\n\n    .dataframe tbody tr th {\n        vertical-align: top;\n    }\n\n    .dataframe thead th {\n        text-align: right;\n    }\n</style>\n<table border=\"1\" class=\"dataframe\">\n  <thead>\n    <tr style=\"text-align: right;\">\n      <th></th>\n      <th>ID</th>\n      <th>label</th>\n      <th>extra</th>\n    </tr>\n  </thead>\n  <tbody>\n    <tr>\n      <th>0</th>\n      <td>/trinity/home/r098375/DDS/data/ADNI/ADNI3/test...</td>\n      <td>3</td>\n      <td>0</td>\n    </tr>\n    <tr>\n      <th>1</th>\n      <td>/trinity/home/r098375/DDS/data/ADNI/ADNI3/test...</td>\n      <td>17</td>\n      <td>0</td>\n    </tr>\n    <tr>\n      <th>2</th>\n      <td>/trinity/home/r098375/DDS/data/ADNI/ADNI3/test...</td>\n      <td>3</td>\n      <td>0</td>\n    </tr>\n    <tr>\n      <th>3</th>\n      <td>/trinity/home/r098375/DDS/data/ADNI/ADNI3/test...</td>\n      <td>15</td>\n      <td>0</td>\n    </tr>\n    <tr>\n      <th>4</th>\n      <td>/trinity/home/r098375/DDS/data/ADNI/ADNI3/test...</td>\n      <td>3</td>\n      <td>0</td>\n    </tr>\n    <tr>\n      <th>...</th>\n      <td>...</td>\n      <td>...</td>\n      <td>...</td>\n    </tr>\n    <tr>\n      <th>66775</th>\n      <td>/trinity/home/r098375/DDS/data/HeartBrain/NIFT...</td>\n      <td>0</td>\n      <td>0</td>\n    </tr>\n    <tr>\n      <th>66776</th>\n      <td>/trinity/home/r098375/DDS/data/HeartBrain/NIFT...</td>\n      <td>0</td>\n      <td>0</td>\n    </tr>\n    <tr>\n      <th>66777</th>\n      <td>/trinity/home/r098375/DDS/data/HeartBrain/NIFT...</td>\n      <td>0</td>\n      <td>0</td>\n    </tr>\n    <tr>\n      <th>66778</th>\n      <td>/trinity/home/r098375/DDS/data/HeartBrain/NIFT...</td>\n      <td>0</td>\n      <td>0</td>\n    </tr>\n    <tr>\n      <th>66779</th>\n      <td>/trinity/home/r098375/DDS/data/HeartBrain/NIFT...</td>\n      <td>0</td>\n      <td>0</td>\n    </tr>\n  </tbody>\n</table>\n<p>66780 rows × 3 columns</p>\n</div>"
     },
     "execution_count": 20,
     "metadata": {},
     "output_type": "execute_result"
    }
   ],
   "source": [
    "Labels"
   ],
   "metadata": {
    "collapsed": false,
    "ExecuteTime": {
     "end_time": "2023-11-07T14:09:44.129077804Z",
     "start_time": "2023-11-07T14:09:44.119345586Z"
    }
   },
   "id": "9a4c9676255b78c"
  },
  {
   "cell_type": "code",
   "execution_count": 21,
   "outputs": [],
   "source": [
    "def extractDataset(ID):\n",
    "    if 'ADNI2' in ID:\n",
    "        return 'ADNI2'\n",
    "    elif 'ADNI3' in ID:\n",
    "        return 'ADNI3'\n",
    "    elif 'OASIS3' in ID:\n",
    "        return 'OASIS3'\n",
    "    elif 'egd' in ID:\n",
    "        return 'egd'\n",
    "    elif 'Rstudy' in ID:\n",
    "        return 'rss'\n",
    "    elif 'HeartBrain' in ID:\n",
    "        return 'HeartBrain'\n",
    "    return None\n",
    "\n",
    "def assignStringLabel(label, labelList):\n",
    "    return labelList[label]"
   ],
   "metadata": {
    "collapsed": false,
    "ExecuteTime": {
     "end_time": "2023-11-07T14:09:44.142270626Z",
     "start_time": "2023-11-07T14:09:44.129553630Z"
    }
   },
   "id": "8036efcb119f40ae"
  },
  {
   "cell_type": "code",
   "execution_count": 22,
   "outputs": [],
   "source": [
    "FullLabelFrame = Labels.copy()"
   ],
   "metadata": {
    "collapsed": false,
    "ExecuteTime": {
     "end_time": "2023-11-07T14:09:44.148680071Z",
     "start_time": "2023-11-07T14:09:44.132772453Z"
    }
   },
   "id": "30ae557186084b76"
  },
  {
   "cell_type": "code",
   "execution_count": 23,
   "outputs": [],
   "source": [
    "FullLabelFrame['dataset'] = FullLabelFrame['ID'].apply(extractDataset)\n",
    "FullLabelFrame['string_label'] = FullLabelFrame['label'].apply(assignStringLabel, labelList=Label_name_list)"
   ],
   "metadata": {
    "collapsed": false,
    "ExecuteTime": {
     "end_time": "2023-11-07T14:09:44.201833870Z",
     "start_time": "2023-11-07T14:09:44.158661812Z"
    }
   },
   "id": "76293cacf0efa33d"
  },
  {
   "cell_type": "code",
   "execution_count": 25,
   "outputs": [
    {
     "data": {
      "text/plain": "dataset     string_label\nADNI2       PD               420\n            T2               420\nADNI3       Other           8370\n            T2*             5595\n            T1              3570\n            T2-FLAIR        3240\n            Hippo           2955\n            PWI             1455\n            ASL              735\n            DTI              120\n            SWI               45\nHeartBrain  Other           1305\n            PWI              495\n            ASL              465\n            SWI              375\n            T2-FLAIR         360\n            Hippo            225\n            T1               195\nOASIS3      Other           8445\n            BOLD            4965\n            T2              3810\n            T1              3450\n            DWI             3240\n            T2*             2175\n            ASL             1620\n            GRE             1440\n            T2-FLAIR        1215\n            SWI             1215\n            FlowSensitve    1050\negd         PWI              750\n            T1_c             585\n            T1               465\n            T2-FLAIR         450\n            DWI              405\n            T2               405\n            ADC              300\n            Other             90\nrss         DTI              120\n            Other             90\n            BOLD              30\n            PD                30\n            SWI               30\n            T1                30\n            T2-FLAIR          30\nName: count, dtype: int64"
     },
     "execution_count": 25,
     "metadata": {},
     "output_type": "execute_result"
    }
   ],
   "source": [
    "FullLabelFrame.groupby('dataset')['string_label'].value_counts()"
   ],
   "metadata": {
    "collapsed": false,
    "ExecuteTime": {
     "end_time": "2023-11-07T14:10:11.689013545Z",
     "start_time": "2023-11-07T14:10:11.616395490Z"
    }
   },
   "id": "fe1dfef5f6af276b"
  },
  {
   "cell_type": "code",
   "execution_count": 28,
   "outputs": [
    {
     "name": "stdout",
     "output_type": "stream",
     "text": [
      "\\begin{tabular}{llr}\n",
      "\\toprule\n",
      " &  & count \\\\\n",
      "string_label & dataset &  \\\\\n",
      "\\midrule\n",
      "ADC & egd & 300 \\\\\n",
      "\\cline{1-3}\n",
      "\\multirow[t]{3}{*}{ASL} & OASIS3 & 1620 \\\\\n",
      " & ADNI3 & 735 \\\\\n",
      " & HeartBrain & 465 \\\\\n",
      "\\cline{1-3}\n",
      "\\multirow[t]{2}{*}{BOLD} & OASIS3 & 4965 \\\\\n",
      " & rss & 30 \\\\\n",
      "\\cline{1-3}\n",
      "\\multirow[t]{2}{*}{DTI} & rss & 120 \\\\\n",
      " & ADNI3 & 120 \\\\\n",
      "\\cline{1-3}\n",
      "\\multirow[t]{2}{*}{DWI} & OASIS3 & 3240 \\\\\n",
      " & egd & 405 \\\\\n",
      "\\cline{1-3}\n",
      "FlowSensitve & OASIS3 & 1050 \\\\\n",
      "\\cline{1-3}\n",
      "GRE & OASIS3 & 1440 \\\\\n",
      "\\cline{1-3}\n",
      "\\multirow[t]{2}{*}{Hippo} & ADNI3 & 2955 \\\\\n",
      " & HeartBrain & 225 \\\\\n",
      "\\cline{1-3}\n",
      "\\multirow[t]{5}{*}{Other} & OASIS3 & 8445 \\\\\n",
      " & ADNI3 & 8370 \\\\\n",
      " & HeartBrain & 1305 \\\\\n",
      " & rss & 90 \\\\\n",
      " & egd & 90 \\\\\n",
      "\\cline{1-3}\n",
      "\\multirow[t]{2}{*}{PD} & ADNI2 & 420 \\\\\n",
      " & rss & 30 \\\\\n",
      "\\cline{1-3}\n",
      "\\multirow[t]{3}{*}{PWI} & ADNI3 & 1455 \\\\\n",
      " & egd & 750 \\\\\n",
      " & HeartBrain & 495 \\\\\n",
      "\\cline{1-3}\n",
      "\\multirow[t]{4}{*}{SWI} & OASIS3 & 1215 \\\\\n",
      " & HeartBrain & 375 \\\\\n",
      " & ADNI3 & 45 \\\\\n",
      " & rss & 30 \\\\\n",
      "\\cline{1-3}\n",
      "\\multirow[t]{5}{*}{T1} & ADNI3 & 3570 \\\\\n",
      " & OASIS3 & 3450 \\\\\n",
      " & egd & 465 \\\\\n",
      " & HeartBrain & 195 \\\\\n",
      " & rss & 30 \\\\\n",
      "\\cline{1-3}\n",
      "T1_c & egd & 585 \\\\\n",
      "\\cline{1-3}\n",
      "\\multirow[t]{3}{*}{T2} & OASIS3 & 3810 \\\\\n",
      " & ADNI2 & 420 \\\\\n",
      " & egd & 405 \\\\\n",
      "\\cline{1-3}\n",
      "\\multirow[t]{2}{*}{T2*} & ADNI3 & 5595 \\\\\n",
      " & OASIS3 & 2175 \\\\\n",
      "\\cline{1-3}\n",
      "\\multirow[t]{5}{*}{T2-FLAIR} & ADNI3 & 3240 \\\\\n",
      " & OASIS3 & 1215 \\\\\n",
      " & egd & 450 \\\\\n",
      " & HeartBrain & 360 \\\\\n",
      " & rss & 30 \\\\\n",
      "\\cline{1-3}\n",
      "\\bottomrule\n",
      "\\end{tabular}\n"
     ]
    }
   ],
   "source": [
    "print(FullLabelFrame.groupby('string_label')['dataset'].value_counts().to_latex())"
   ],
   "metadata": {
    "collapsed": false,
    "ExecuteTime": {
     "end_time": "2023-11-07T14:30:41.333740769Z",
     "start_time": "2023-11-07T14:30:41.287148657Z"
    }
   },
   "id": "32dc666b6268de50"
  },
  {
   "cell_type": "code",
   "execution_count": null,
   "outputs": [],
   "source": [],
   "metadata": {
    "collapsed": false
   },
   "id": "7a5ae6052e67471"
  }
 ],
 "metadata": {
  "kernelspec": {
   "display_name": "Python 3",
   "language": "python",
   "name": "python3"
  },
  "language_info": {
   "codemirror_mode": {
    "name": "ipython",
    "version": 2
   },
   "file_extension": ".py",
   "mimetype": "text/x-python",
   "name": "python",
   "nbconvert_exporter": "python",
   "pygments_lexer": "ipython2",
   "version": "2.7.6"
  }
 },
 "nbformat": 4,
 "nbformat_minor": 5
}
