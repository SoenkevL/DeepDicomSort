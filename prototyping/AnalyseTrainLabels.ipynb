{
 "cells": [
  {
   "cell_type": "code",
   "execution_count": 1,
   "id": "initial_id",
   "metadata": {
    "collapsed": true,
    "ExecuteTime": {
     "end_time": "2023-11-14T13:39:31.268173715Z",
     "start_time": "2023-11-14T13:39:30.944440053Z"
    }
   },
   "outputs": [],
   "source": [
    "import os.path\n",
    "\n",
    "import numpy as np\n",
    "import pandas as pd"
   ]
  },
  {
   "cell_type": "code",
   "execution_count": 2,
   "outputs": [],
   "source": [
    "classesDict = {\n",
    "    \"T1\":0,\n",
    "    \"T1_c\":1,\n",
    "    \"T2\":2,\n",
    "    \"T2-FLAIR\":3,\n",
    "    \"FS\":4,\n",
    "    \"PD\":5,\n",
    "    \"SWI\":6,\n",
    "    \"GRE\":7,\n",
    "    \"T2*\":8,\n",
    "    \"DWI\":9,\n",
    "    \"ADC\":10,\n",
    "    \"BOLD\":11,\n",
    "    \"FlowSensitve\":12,\n",
    "    \"PWI\":13,\n",
    "    \"ASL\":14,\n",
    "    \"Hippo\":15,\n",
    "    \"DTI\":16,\n",
    "    \"Other\":17\n",
    "}"
   ],
   "metadata": {
    "collapsed": false,
    "ExecuteTime": {
     "end_time": "2023-11-14T13:39:31.287534114Z",
     "start_time": "2023-11-14T13:39:31.271009738Z"
    }
   },
   "id": "edc6427f3b7f991f"
  },
  {
   "cell_type": "code",
   "execution_count": 3,
   "outputs": [],
   "source": [
    "labels_path = '/home/soenke/Internship/DeepDicomSortFork/prototyping/combinedDfs/CombinedTestingFrame_A2_A3_O3_egd_rss_hb_pruned.txt'"
   ],
   "metadata": {
    "collapsed": false,
    "ExecuteTime": {
     "end_time": "2023-11-14T13:39:31.287809669Z",
     "start_time": "2023-11-14T13:39:31.275354995Z"
    }
   },
   "id": "1d14e77d3b5bfbc5"
  },
  {
   "cell_type": "code",
   "execution_count": 4,
   "outputs": [],
   "source": [
    "Labels = pd.read_csv(labels_path,names=['ID','label','extra'],sep='\\t', dtype={'ID':str,'label':int,'extra':int})"
   ],
   "metadata": {
    "collapsed": false,
    "ExecuteTime": {
     "end_time": "2023-11-14T13:39:31.419662120Z",
     "start_time": "2023-11-14T13:39:31.281278085Z"
    }
   },
   "id": "4ca9e042b04aded4"
  },
  {
   "cell_type": "code",
   "execution_count": 5,
   "outputs": [],
   "source": [
    "Label_name_list = list(classesDict.keys())"
   ],
   "metadata": {
    "collapsed": false,
    "ExecuteTime": {
     "end_time": "2023-11-14T13:39:31.464733887Z",
     "start_time": "2023-11-14T13:39:31.464299207Z"
    }
   },
   "id": "e56a9c4bfe44909e"
  },
  {
   "cell_type": "code",
   "execution_count": 6,
   "outputs": [
    {
     "data": {
      "text/plain": "                                                      ID  label  extra\n0      /trinity/home/r098375/DDS/data/ADNI/ADNI3/test...      3      0\n1      /trinity/home/r098375/DDS/data/ADNI/ADNI3/test...     17      0\n2      /trinity/home/r098375/DDS/data/ADNI/ADNI3/test...      3      0\n3      /trinity/home/r098375/DDS/data/ADNI/ADNI3/test...     15      0\n4      /trinity/home/r098375/DDS/data/ADNI/ADNI3/test...      3      0\n...                                                  ...    ...    ...\n66775  /trinity/home/r098375/DDS/data/HeartBrain/NIFT...      0      0\n66776  /trinity/home/r098375/DDS/data/HeartBrain/NIFT...      0      0\n66777  /trinity/home/r098375/DDS/data/HeartBrain/NIFT...      0      0\n66778  /trinity/home/r098375/DDS/data/HeartBrain/NIFT...      0      0\n66779  /trinity/home/r098375/DDS/data/HeartBrain/NIFT...      0      0\n\n[66780 rows x 3 columns]",
      "text/html": "<div>\n<style scoped>\n    .dataframe tbody tr th:only-of-type {\n        vertical-align: middle;\n    }\n\n    .dataframe tbody tr th {\n        vertical-align: top;\n    }\n\n    .dataframe thead th {\n        text-align: right;\n    }\n</style>\n<table border=\"1\" class=\"dataframe\">\n  <thead>\n    <tr style=\"text-align: right;\">\n      <th></th>\n      <th>ID</th>\n      <th>label</th>\n      <th>extra</th>\n    </tr>\n  </thead>\n  <tbody>\n    <tr>\n      <th>0</th>\n      <td>/trinity/home/r098375/DDS/data/ADNI/ADNI3/test...</td>\n      <td>3</td>\n      <td>0</td>\n    </tr>\n    <tr>\n      <th>1</th>\n      <td>/trinity/home/r098375/DDS/data/ADNI/ADNI3/test...</td>\n      <td>17</td>\n      <td>0</td>\n    </tr>\n    <tr>\n      <th>2</th>\n      <td>/trinity/home/r098375/DDS/data/ADNI/ADNI3/test...</td>\n      <td>3</td>\n      <td>0</td>\n    </tr>\n    <tr>\n      <th>3</th>\n      <td>/trinity/home/r098375/DDS/data/ADNI/ADNI3/test...</td>\n      <td>15</td>\n      <td>0</td>\n    </tr>\n    <tr>\n      <th>4</th>\n      <td>/trinity/home/r098375/DDS/data/ADNI/ADNI3/test...</td>\n      <td>3</td>\n      <td>0</td>\n    </tr>\n    <tr>\n      <th>...</th>\n      <td>...</td>\n      <td>...</td>\n      <td>...</td>\n    </tr>\n    <tr>\n      <th>66775</th>\n      <td>/trinity/home/r098375/DDS/data/HeartBrain/NIFT...</td>\n      <td>0</td>\n      <td>0</td>\n    </tr>\n    <tr>\n      <th>66776</th>\n      <td>/trinity/home/r098375/DDS/data/HeartBrain/NIFT...</td>\n      <td>0</td>\n      <td>0</td>\n    </tr>\n    <tr>\n      <th>66777</th>\n      <td>/trinity/home/r098375/DDS/data/HeartBrain/NIFT...</td>\n      <td>0</td>\n      <td>0</td>\n    </tr>\n    <tr>\n      <th>66778</th>\n      <td>/trinity/home/r098375/DDS/data/HeartBrain/NIFT...</td>\n      <td>0</td>\n      <td>0</td>\n    </tr>\n    <tr>\n      <th>66779</th>\n      <td>/trinity/home/r098375/DDS/data/HeartBrain/NIFT...</td>\n      <td>0</td>\n      <td>0</td>\n    </tr>\n  </tbody>\n</table>\n<p>66780 rows × 3 columns</p>\n</div>"
     },
     "execution_count": 6,
     "metadata": {},
     "output_type": "execute_result"
    }
   ],
   "source": [
    "Labels"
   ],
   "metadata": {
    "collapsed": false,
    "ExecuteTime": {
     "end_time": "2023-11-14T13:39:31.471362760Z",
     "start_time": "2023-11-14T13:39:31.464612358Z"
    }
   },
   "id": "9a4c9676255b78c"
  },
  {
   "cell_type": "code",
   "execution_count": 7,
   "outputs": [],
   "source": [
    "def extractDataset(ID):\n",
    "    if 'ADNI2' in ID:\n",
    "        return 'ADNI2'\n",
    "    elif 'ADNI3' in ID:\n",
    "        return 'ADNI3'\n",
    "    elif 'OASIS3' in ID:\n",
    "        return 'OASIS3'\n",
    "    elif 'egd' in ID:\n",
    "        return 'egd'\n",
    "    elif 'Rstudy' in ID:\n",
    "        return 'rss'\n",
    "    elif 'HeartBrain' in ID:\n",
    "        return 'HeartBrain'\n",
    "    return None\n",
    "\n",
    "def assignStringLabel(label, labelList):\n",
    "    return labelList[label]"
   ],
   "metadata": {
    "collapsed": false,
    "ExecuteTime": {
     "end_time": "2023-11-14T13:39:31.471889911Z",
     "start_time": "2023-11-14T13:39:31.465147029Z"
    }
   },
   "id": "8036efcb119f40ae"
  },
  {
   "cell_type": "code",
   "execution_count": 8,
   "outputs": [],
   "source": [
    "FullLabelFrame = Labels.copy()"
   ],
   "metadata": {
    "collapsed": false,
    "ExecuteTime": {
     "end_time": "2023-11-14T13:39:31.472087628Z",
     "start_time": "2023-11-14T13:39:31.465378176Z"
    }
   },
   "id": "30ae557186084b76"
  },
  {
   "cell_type": "code",
   "execution_count": 9,
   "outputs": [],
   "source": [
    "FullLabelFrame['dataset'] = FullLabelFrame['ID'].apply(extractDataset)\n",
    "FullLabelFrame['string_label'] = FullLabelFrame['label'].apply(assignStringLabel, labelList=Label_name_list)"
   ],
   "metadata": {
    "collapsed": false,
    "ExecuteTime": {
     "end_time": "2023-11-14T13:39:31.523586994Z",
     "start_time": "2023-11-14T13:39:31.465594048Z"
    }
   },
   "id": "76293cacf0efa33d"
  },
  {
   "cell_type": "code",
   "execution_count": 10,
   "outputs": [
    {
     "data": {
      "text/plain": "dataset     string_label\nADNI2       PD               28.0\n            T2               28.0\nADNI3       Other           558.0\n            T2*             373.0\n            T1              238.0\n            T2-FLAIR        216.0\n            Hippo           197.0\n            PWI              97.0\n            ASL              49.0\n            DTI               8.0\n            SWI               3.0\nHeartBrain  Other            87.0\n            PWI              33.0\n            ASL              31.0\n            SWI              25.0\n            T2-FLAIR         24.0\n            Hippo            15.0\n            T1               13.0\nOASIS3      Other           563.0\n            BOLD            331.0\n            T2              254.0\n            T1              230.0\n            DWI             216.0\n            T2*             145.0\n            ASL             108.0\n            GRE              96.0\n            T2-FLAIR         81.0\n            SWI              81.0\n            FlowSensitve     70.0\negd         PWI              50.0\n            T1_c             39.0\n            T1               31.0\n            T2-FLAIR         30.0\n            DWI              27.0\n            T2               27.0\n            ADC              20.0\n            Other             6.0\nrss         DTI               8.0\n            Other             6.0\n            BOLD              2.0\n            PD                2.0\n            SWI               2.0\n            T1                2.0\n            T2-FLAIR          2.0\nName: count, dtype: float64"
     },
     "execution_count": 10,
     "metadata": {},
     "output_type": "execute_result"
    }
   ],
   "source": [
    "FullLabelFrame.groupby('dataset')['string_label'].value_counts()/15"
   ],
   "metadata": {
    "collapsed": false,
    "ExecuteTime": {
     "end_time": "2023-11-14T13:39:31.577331075Z",
     "start_time": "2023-11-14T13:39:31.507436Z"
    }
   },
   "id": "fe1dfef5f6af276b"
  },
  {
   "cell_type": "code",
   "execution_count": 11,
   "outputs": [
    {
     "name": "stdout",
     "output_type": "stream",
     "text": [
      "\\begin{tabular}{llr}\n",
      "\\toprule\n",
      " &  & count \\\\\n",
      "string_label & dataset &  \\\\\n",
      "\\midrule\n",
      "ADC & egd & 300 \\\\\n",
      "\\cline{1-3}\n",
      "\\multirow[t]{3}{*}{ASL} & OASIS3 & 1620 \\\\\n",
      " & ADNI3 & 735 \\\\\n",
      " & HeartBrain & 465 \\\\\n",
      "\\cline{1-3}\n",
      "\\multirow[t]{2}{*}{BOLD} & OASIS3 & 4965 \\\\\n",
      " & rss & 30 \\\\\n",
      "\\cline{1-3}\n",
      "\\multirow[t]{2}{*}{DTI} & rss & 120 \\\\\n",
      " & ADNI3 & 120 \\\\\n",
      "\\cline{1-3}\n",
      "\\multirow[t]{2}{*}{DWI} & OASIS3 & 3240 \\\\\n",
      " & egd & 405 \\\\\n",
      "\\cline{1-3}\n",
      "FlowSensitve & OASIS3 & 1050 \\\\\n",
      "\\cline{1-3}\n",
      "GRE & OASIS3 & 1440 \\\\\n",
      "\\cline{1-3}\n",
      "\\multirow[t]{2}{*}{Hippo} & ADNI3 & 2955 \\\\\n",
      " & HeartBrain & 225 \\\\\n",
      "\\cline{1-3}\n",
      "\\multirow[t]{5}{*}{Other} & OASIS3 & 8445 \\\\\n",
      " & ADNI3 & 8370 \\\\\n",
      " & HeartBrain & 1305 \\\\\n",
      " & rss & 90 \\\\\n",
      " & egd & 90 \\\\\n",
      "\\cline{1-3}\n",
      "\\multirow[t]{2}{*}{PD} & ADNI2 & 420 \\\\\n",
      " & rss & 30 \\\\\n",
      "\\cline{1-3}\n",
      "\\multirow[t]{3}{*}{PWI} & ADNI3 & 1455 \\\\\n",
      " & egd & 750 \\\\\n",
      " & HeartBrain & 495 \\\\\n",
      "\\cline{1-3}\n",
      "\\multirow[t]{4}{*}{SWI} & OASIS3 & 1215 \\\\\n",
      " & HeartBrain & 375 \\\\\n",
      " & ADNI3 & 45 \\\\\n",
      " & rss & 30 \\\\\n",
      "\\cline{1-3}\n",
      "\\multirow[t]{5}{*}{T1} & ADNI3 & 3570 \\\\\n",
      " & OASIS3 & 3450 \\\\\n",
      " & egd & 465 \\\\\n",
      " & HeartBrain & 195 \\\\\n",
      " & rss & 30 \\\\\n",
      "\\cline{1-3}\n",
      "T1_c & egd & 585 \\\\\n",
      "\\cline{1-3}\n",
      "\\multirow[t]{3}{*}{T2} & OASIS3 & 3810 \\\\\n",
      " & ADNI2 & 420 \\\\\n",
      " & egd & 405 \\\\\n",
      "\\cline{1-3}\n",
      "\\multirow[t]{2}{*}{T2*} & ADNI3 & 5595 \\\\\n",
      " & OASIS3 & 2175 \\\\\n",
      "\\cline{1-3}\n",
      "\\multirow[t]{5}{*}{T2-FLAIR} & ADNI3 & 3240 \\\\\n",
      " & OASIS3 & 1215 \\\\\n",
      " & egd & 450 \\\\\n",
      " & HeartBrain & 360 \\\\\n",
      " & rss & 30 \\\\\n",
      "\\cline{1-3}\n",
      "\\bottomrule\n",
      "\\end{tabular}\n"
     ]
    }
   ],
   "source": [
    "print(FullLabelFrame.groupby('string_label')['dataset'].value_counts().to_latex())"
   ],
   "metadata": {
    "collapsed": false,
    "ExecuteTime": {
     "end_time": "2023-11-14T13:39:31.925935351Z",
     "start_time": "2023-11-14T13:39:31.531556871Z"
    }
   },
   "id": "32dc666b6268de50"
  },
  {
   "cell_type": "code",
   "execution_count": 12,
   "outputs": [],
   "source": [
    "labels = FullLabelFrame['string_label'].unique()"
   ],
   "metadata": {
    "collapsed": false,
    "ExecuteTime": {
     "end_time": "2023-11-14T13:39:31.940399363Z",
     "start_time": "2023-11-14T13:39:31.928672356Z"
    }
   },
   "id": "15a3238c0fd167d6"
  },
  {
   "cell_type": "code",
   "execution_count": 13,
   "outputs": [],
   "source": [
    "datasets = FullLabelFrame[FullLabelFrame['string_label']==labels[0]]['dataset'].unique()"
   ],
   "metadata": {
    "collapsed": false,
    "ExecuteTime": {
     "end_time": "2023-11-14T13:39:31.941503680Z",
     "start_time": "2023-11-14T13:39:31.936995512Z"
    }
   },
   "id": "c9809c082362a7ab"
  },
  {
   "cell_type": "code",
   "execution_count": 18,
   "outputs": [],
   "source": [
    "FullLabelFrame['center_slide'] = FullLabelFrame['ID'].apply(lambda x: '__s12' in x)"
   ],
   "metadata": {
    "collapsed": false,
    "ExecuteTime": {
     "end_time": "2023-11-14T13:42:22.727277941Z",
     "start_time": "2023-11-14T13:42:22.681148688Z"
    }
   },
   "id": "67b16b31ba84f1c8"
  },
  {
   "cell_type": "code",
   "execution_count": 20,
   "outputs": [],
   "source": [
    "VisualizeFrame = FullLabelFrame[FullLabelFrame['center_slide']]"
   ],
   "metadata": {
    "collapsed": false,
    "ExecuteTime": {
     "end_time": "2023-11-14T13:43:06.007343008Z",
     "start_time": "2023-11-14T13:43:05.963706923Z"
    }
   },
   "id": "97d7d9cc510fa49b"
  },
  {
   "cell_type": "code",
   "execution_count": 23,
   "outputs": [],
   "source": [
    "# create a frame that contains labels for some visualizations\n",
    "from sklearn.model_selection import train_test_split\n",
    "visualize_frame = pd.DataFrame()\n",
    "for label in labels:\n",
    "    temp1 = VisualizeFrame[VisualizeFrame['string_label']==label]\n",
    "    datasets = temp1['dataset'].unique()\n",
    "    for dataset in datasets:\n",
    "        df = temp1[temp1['dataset']==dataset]\n",
    "        try:\n",
    "            visualize, _ = train_test_split(df, train_size=2, shuffle=True, random_state=42)\n",
    "        except ValueError:\n",
    "            visualize = df\n",
    "        visualize_frame = pd.concat([visualize_frame,visualize], axis=0)"
   ],
   "metadata": {
    "collapsed": false,
    "ExecuteTime": {
     "end_time": "2023-11-14T13:44:14.127631845Z",
     "start_time": "2023-11-14T13:44:14.049742987Z"
    }
   },
   "id": "7a5ae6052e67471"
  },
  {
   "cell_type": "code",
   "execution_count": 24,
   "outputs": [
    {
     "data": {
      "text/plain": "                                                      ID  label  extra  \\\n21328  /trinity/home/r098375/DDS/data/ADNI/ADNI3/test...      3      0   \n12194  /trinity/home/r098375/DDS/data/ADNI/ADNI3/test...      3      0   \n34114  /trinity/home/r098375/DDS/data/OASIS/OASIS3/te...      3      0   \n47732  /trinity/home/r098375/DDS/data/OASIS/OASIS3/te...      3      0   \n61913  /trinity/home/r098375/DDS/data/egd/NIFTI_SLICE...      3      0   \n...                                                  ...    ...    ...   \n60489  /trinity/home/r098375/DDS/data/egd/NIFTI_SLICE...      9      0   \n62105  /trinity/home/r098375/DDS/data/egd/NIFTI_SLICE...      1      0   \n62904  /trinity/home/r098375/DDS/data/egd/NIFTI_SLICE...      1      0   \n62251  /trinity/home/r098375/DDS/data/egd/NIFTI_SLICE...     10      0   \n61153  /trinity/home/r098375/DDS/data/egd/NIFTI_SLICE...     10      0   \n\n      dataset string_label  center_slide  \n21328   ADNI3     T2-FLAIR          True  \n12194   ADNI3     T2-FLAIR          True  \n34114  OASIS3     T2-FLAIR          True  \n47732  OASIS3     T2-FLAIR          True  \n61913     egd     T2-FLAIR          True  \n...       ...          ...           ...  \n60489     egd          DWI          True  \n62105     egd         T1_c          True  \n62904     egd         T1_c          True  \n62251     egd          ADC          True  \n61153     egd          ADC          True  \n\n[88 rows x 6 columns]",
      "text/html": "<div>\n<style scoped>\n    .dataframe tbody tr th:only-of-type {\n        vertical-align: middle;\n    }\n\n    .dataframe tbody tr th {\n        vertical-align: top;\n    }\n\n    .dataframe thead th {\n        text-align: right;\n    }\n</style>\n<table border=\"1\" class=\"dataframe\">\n  <thead>\n    <tr style=\"text-align: right;\">\n      <th></th>\n      <th>ID</th>\n      <th>label</th>\n      <th>extra</th>\n      <th>dataset</th>\n      <th>string_label</th>\n      <th>center_slide</th>\n    </tr>\n  </thead>\n  <tbody>\n    <tr>\n      <th>21328</th>\n      <td>/trinity/home/r098375/DDS/data/ADNI/ADNI3/test...</td>\n      <td>3</td>\n      <td>0</td>\n      <td>ADNI3</td>\n      <td>T2-FLAIR</td>\n      <td>True</td>\n    </tr>\n    <tr>\n      <th>12194</th>\n      <td>/trinity/home/r098375/DDS/data/ADNI/ADNI3/test...</td>\n      <td>3</td>\n      <td>0</td>\n      <td>ADNI3</td>\n      <td>T2-FLAIR</td>\n      <td>True</td>\n    </tr>\n    <tr>\n      <th>34114</th>\n      <td>/trinity/home/r098375/DDS/data/OASIS/OASIS3/te...</td>\n      <td>3</td>\n      <td>0</td>\n      <td>OASIS3</td>\n      <td>T2-FLAIR</td>\n      <td>True</td>\n    </tr>\n    <tr>\n      <th>47732</th>\n      <td>/trinity/home/r098375/DDS/data/OASIS/OASIS3/te...</td>\n      <td>3</td>\n      <td>0</td>\n      <td>OASIS3</td>\n      <td>T2-FLAIR</td>\n      <td>True</td>\n    </tr>\n    <tr>\n      <th>61913</th>\n      <td>/trinity/home/r098375/DDS/data/egd/NIFTI_SLICE...</td>\n      <td>3</td>\n      <td>0</td>\n      <td>egd</td>\n      <td>T2-FLAIR</td>\n      <td>True</td>\n    </tr>\n    <tr>\n      <th>...</th>\n      <td>...</td>\n      <td>...</td>\n      <td>...</td>\n      <td>...</td>\n      <td>...</td>\n      <td>...</td>\n    </tr>\n    <tr>\n      <th>60489</th>\n      <td>/trinity/home/r098375/DDS/data/egd/NIFTI_SLICE...</td>\n      <td>9</td>\n      <td>0</td>\n      <td>egd</td>\n      <td>DWI</td>\n      <td>True</td>\n    </tr>\n    <tr>\n      <th>62105</th>\n      <td>/trinity/home/r098375/DDS/data/egd/NIFTI_SLICE...</td>\n      <td>1</td>\n      <td>0</td>\n      <td>egd</td>\n      <td>T1_c</td>\n      <td>True</td>\n    </tr>\n    <tr>\n      <th>62904</th>\n      <td>/trinity/home/r098375/DDS/data/egd/NIFTI_SLICE...</td>\n      <td>1</td>\n      <td>0</td>\n      <td>egd</td>\n      <td>T1_c</td>\n      <td>True</td>\n    </tr>\n    <tr>\n      <th>62251</th>\n      <td>/trinity/home/r098375/DDS/data/egd/NIFTI_SLICE...</td>\n      <td>10</td>\n      <td>0</td>\n      <td>egd</td>\n      <td>ADC</td>\n      <td>True</td>\n    </tr>\n    <tr>\n      <th>61153</th>\n      <td>/trinity/home/r098375/DDS/data/egd/NIFTI_SLICE...</td>\n      <td>10</td>\n      <td>0</td>\n      <td>egd</td>\n      <td>ADC</td>\n      <td>True</td>\n    </tr>\n  </tbody>\n</table>\n<p>88 rows × 6 columns</p>\n</div>"
     },
     "execution_count": 24,
     "metadata": {},
     "output_type": "execute_result"
    }
   ],
   "source": [
    "visualize_frame"
   ],
   "metadata": {
    "collapsed": false,
    "ExecuteTime": {
     "end_time": "2023-11-14T13:44:15.195293620Z",
     "start_time": "2023-11-14T13:44:15.166731857Z"
    }
   },
   "id": "141ebd063ce348c0"
  },
  {
   "cell_type": "code",
   "execution_count": 25,
   "outputs": [],
   "source": [
    "import nibabel as nib\n",
    "import matplotlib.pyplot as plt\n",
    "import pandas as pd\n",
    "import os\n",
    "def saveNifti(img_path, outfile):\n",
    "    nimg = nib.load(img_path)\n",
    "    data = nimg.get_fdata()\n",
    "    plt.figure()\n",
    "    plt.imshow(data[:,:],cmap='gray')\n",
    "    plt.savefig(outfile)\n",
    "    plt.close('all')"
   ],
   "metadata": {
    "collapsed": false,
    "ExecuteTime": {
     "end_time": "2023-11-14T13:53:27.336537113Z",
     "start_time": "2023-11-14T13:53:27.164223752Z"
    }
   },
   "id": "d5f26e39aa368f9"
  },
  {
   "cell_type": "code",
   "execution_count": 27,
   "outputs": [],
   "source": [
    "def createMRIexamples(vis_frame_row, output_folder):\n",
    "    outpath = os.path.join(output_folder, vis_frame_row['string_label'], vis_frame_row['dataset'])\n",
    "    counter = 0\n",
    "    if not os.path.exists(outpath):\n",
    "        counter = 1\n",
    "        os.makedirs(outpath)\n",
    "    outfile = os.path.join(outpath, f\"{vis_frame_row['string_label']}__{vis_frame_row['dataset']}__{counter}.png\")\n",
    "    saveNifti(vis_frame_row['ID'], outfile)\n",
    "    "
   ],
   "metadata": {
    "collapsed": false,
    "ExecuteTime": {
     "end_time": "2023-11-14T14:01:07.956364908Z",
     "start_time": "2023-11-14T14:01:07.936938489Z"
    }
   },
   "id": "e259557b6b65b3eb"
  },
  {
   "cell_type": "code",
   "execution_count": 29,
   "outputs": [
    {
     "ename": "FileNotFoundError",
     "evalue": "No such file or no access: '/trinity/home/r098375/DDS/data/ADNI/ADNI3/test/NIFTI_SLICES/021_S_5177/20180718__MR__2.16.124.113543.6006.99.07375842326600443750__2.16.124.113543.6006.99.5033537581123976174__s12.nii.gz'",
     "output_type": "error",
     "traceback": [
      "\u001B[0;31m---------------------------------------------------------------------------\u001B[0m",
      "\u001B[0;31mFileNotFoundError\u001B[0m                         Traceback (most recent call last)",
      "File \u001B[0;32m~/Internship/.mvenv/lib/python3.9/site-packages/nibabel/loadsave.py:100\u001B[0m, in \u001B[0;36mload\u001B[0;34m(filename, **kwargs)\u001B[0m\n\u001B[1;32m     99\u001B[0m \u001B[38;5;28;01mtry\u001B[39;00m:\n\u001B[0;32m--> 100\u001B[0m     stat_result \u001B[38;5;241m=\u001B[39m \u001B[43mos\u001B[49m\u001B[38;5;241;43m.\u001B[39;49m\u001B[43mstat\u001B[49m\u001B[43m(\u001B[49m\u001B[43mfilename\u001B[49m\u001B[43m)\u001B[49m\n\u001B[1;32m    101\u001B[0m \u001B[38;5;28;01mexcept\u001B[39;00m \u001B[38;5;167;01mOSError\u001B[39;00m:\n",
      "\u001B[0;31mFileNotFoundError\u001B[0m: [Errno 2] No such file or directory: '/trinity/home/r098375/DDS/data/ADNI/ADNI3/test/NIFTI_SLICES/021_S_5177/20180718__MR__2.16.124.113543.6006.99.07375842326600443750__2.16.124.113543.6006.99.5033537581123976174__s12.nii.gz'",
      "\nDuring handling of the above exception, another exception occurred:\n",
      "\u001B[0;31mFileNotFoundError\u001B[0m                         Traceback (most recent call last)",
      "Cell \u001B[0;32mIn[29], line 1\u001B[0m\n\u001B[0;32m----> 1\u001B[0m \u001B[43mvisualize_frame\u001B[49m\u001B[38;5;241;43m.\u001B[39;49m\u001B[43mapply\u001B[49m\u001B[43m(\u001B[49m\u001B[43mcreateMRIexamples\u001B[49m\u001B[43m,\u001B[49m\u001B[43m \u001B[49m\u001B[43moutput_folder\u001B[49m\u001B[38;5;241;43m=\u001B[39;49m\u001B[38;5;124;43m'\u001B[39;49m\u001B[38;5;124;43m'\u001B[39;49m\u001B[43m,\u001B[49m\u001B[43m \u001B[49m\u001B[43maxis\u001B[49m\u001B[38;5;241;43m=\u001B[39;49m\u001B[38;5;241;43m1\u001B[39;49m\u001B[43m)\u001B[49m\n",
      "File \u001B[0;32m~/Internship/.mvenv/lib/python3.9/site-packages/pandas/core/frame.py:10037\u001B[0m, in \u001B[0;36mDataFrame.apply\u001B[0;34m(self, func, axis, raw, result_type, args, by_row, **kwargs)\u001B[0m\n\u001B[1;32m  10025\u001B[0m \u001B[38;5;28;01mfrom\u001B[39;00m \u001B[38;5;21;01mpandas\u001B[39;00m\u001B[38;5;21;01m.\u001B[39;00m\u001B[38;5;21;01mcore\u001B[39;00m\u001B[38;5;21;01m.\u001B[39;00m\u001B[38;5;21;01mapply\u001B[39;00m \u001B[38;5;28;01mimport\u001B[39;00m frame_apply\n\u001B[1;32m  10027\u001B[0m op \u001B[38;5;241m=\u001B[39m frame_apply(\n\u001B[1;32m  10028\u001B[0m     \u001B[38;5;28mself\u001B[39m,\n\u001B[1;32m  10029\u001B[0m     func\u001B[38;5;241m=\u001B[39mfunc,\n\u001B[0;32m   (...)\u001B[0m\n\u001B[1;32m  10035\u001B[0m     kwargs\u001B[38;5;241m=\u001B[39mkwargs,\n\u001B[1;32m  10036\u001B[0m )\n\u001B[0;32m> 10037\u001B[0m \u001B[38;5;28;01mreturn\u001B[39;00m \u001B[43mop\u001B[49m\u001B[38;5;241;43m.\u001B[39;49m\u001B[43mapply\u001B[49m\u001B[43m(\u001B[49m\u001B[43m)\u001B[49m\u001B[38;5;241m.\u001B[39m__finalize__(\u001B[38;5;28mself\u001B[39m, method\u001B[38;5;241m=\u001B[39m\u001B[38;5;124m\"\u001B[39m\u001B[38;5;124mapply\u001B[39m\u001B[38;5;124m\"\u001B[39m)\n",
      "File \u001B[0;32m~/Internship/.mvenv/lib/python3.9/site-packages/pandas/core/apply.py:831\u001B[0m, in \u001B[0;36mFrameApply.apply\u001B[0;34m(self)\u001B[0m\n\u001B[1;32m    828\u001B[0m \u001B[38;5;28;01melif\u001B[39;00m \u001B[38;5;28mself\u001B[39m\u001B[38;5;241m.\u001B[39mraw:\n\u001B[1;32m    829\u001B[0m     \u001B[38;5;28;01mreturn\u001B[39;00m \u001B[38;5;28mself\u001B[39m\u001B[38;5;241m.\u001B[39mapply_raw()\n\u001B[0;32m--> 831\u001B[0m \u001B[38;5;28;01mreturn\u001B[39;00m \u001B[38;5;28;43mself\u001B[39;49m\u001B[38;5;241;43m.\u001B[39;49m\u001B[43mapply_standard\u001B[49m\u001B[43m(\u001B[49m\u001B[43m)\u001B[49m\n",
      "File \u001B[0;32m~/Internship/.mvenv/lib/python3.9/site-packages/pandas/core/apply.py:957\u001B[0m, in \u001B[0;36mFrameApply.apply_standard\u001B[0;34m(self)\u001B[0m\n\u001B[1;32m    956\u001B[0m \u001B[38;5;28;01mdef\u001B[39;00m \u001B[38;5;21mapply_standard\u001B[39m(\u001B[38;5;28mself\u001B[39m):\n\u001B[0;32m--> 957\u001B[0m     results, res_index \u001B[38;5;241m=\u001B[39m \u001B[38;5;28;43mself\u001B[39;49m\u001B[38;5;241;43m.\u001B[39;49m\u001B[43mapply_series_generator\u001B[49m\u001B[43m(\u001B[49m\u001B[43m)\u001B[49m\n\u001B[1;32m    959\u001B[0m     \u001B[38;5;66;03m# wrap results\u001B[39;00m\n\u001B[1;32m    960\u001B[0m     \u001B[38;5;28;01mreturn\u001B[39;00m \u001B[38;5;28mself\u001B[39m\u001B[38;5;241m.\u001B[39mwrap_results(results, res_index)\n",
      "File \u001B[0;32m~/Internship/.mvenv/lib/python3.9/site-packages/pandas/core/apply.py:973\u001B[0m, in \u001B[0;36mFrameApply.apply_series_generator\u001B[0;34m(self)\u001B[0m\n\u001B[1;32m    970\u001B[0m \u001B[38;5;28;01mwith\u001B[39;00m option_context(\u001B[38;5;124m\"\u001B[39m\u001B[38;5;124mmode.chained_assignment\u001B[39m\u001B[38;5;124m\"\u001B[39m, \u001B[38;5;28;01mNone\u001B[39;00m):\n\u001B[1;32m    971\u001B[0m     \u001B[38;5;28;01mfor\u001B[39;00m i, v \u001B[38;5;129;01min\u001B[39;00m \u001B[38;5;28menumerate\u001B[39m(series_gen):\n\u001B[1;32m    972\u001B[0m         \u001B[38;5;66;03m# ignore SettingWithCopy here in case the user mutates\u001B[39;00m\n\u001B[0;32m--> 973\u001B[0m         results[i] \u001B[38;5;241m=\u001B[39m \u001B[38;5;28;43mself\u001B[39;49m\u001B[38;5;241;43m.\u001B[39;49m\u001B[43mfunc\u001B[49m\u001B[43m(\u001B[49m\u001B[43mv\u001B[49m\u001B[43m,\u001B[49m\u001B[43m \u001B[49m\u001B[38;5;241;43m*\u001B[39;49m\u001B[38;5;28;43mself\u001B[39;49m\u001B[38;5;241;43m.\u001B[39;49m\u001B[43margs\u001B[49m\u001B[43m,\u001B[49m\u001B[43m \u001B[49m\u001B[38;5;241;43m*\u001B[39;49m\u001B[38;5;241;43m*\u001B[39;49m\u001B[38;5;28;43mself\u001B[39;49m\u001B[38;5;241;43m.\u001B[39;49m\u001B[43mkwargs\u001B[49m\u001B[43m)\u001B[49m\n\u001B[1;32m    974\u001B[0m         \u001B[38;5;28;01mif\u001B[39;00m \u001B[38;5;28misinstance\u001B[39m(results[i], ABCSeries):\n\u001B[1;32m    975\u001B[0m             \u001B[38;5;66;03m# If we have a view on v, we need to make a copy because\u001B[39;00m\n\u001B[1;32m    976\u001B[0m             \u001B[38;5;66;03m#  series_generator will swap out the underlying data\u001B[39;00m\n\u001B[1;32m    977\u001B[0m             results[i] \u001B[38;5;241m=\u001B[39m results[i]\u001B[38;5;241m.\u001B[39mcopy(deep\u001B[38;5;241m=\u001B[39m\u001B[38;5;28;01mFalse\u001B[39;00m)\n",
      "Cell \u001B[0;32mIn[27], line 8\u001B[0m, in \u001B[0;36mcreateMRIexamples\u001B[0;34m(vis_frame_row, output_folder)\u001B[0m\n\u001B[1;32m      6\u001B[0m     os\u001B[38;5;241m.\u001B[39mmakedirs(outpath)\n\u001B[1;32m      7\u001B[0m outfile \u001B[38;5;241m=\u001B[39m os\u001B[38;5;241m.\u001B[39mpath\u001B[38;5;241m.\u001B[39mjoin(outpath, \u001B[38;5;124mf\u001B[39m\u001B[38;5;124m\"\u001B[39m\u001B[38;5;132;01m{\u001B[39;00mvis_frame_row[\u001B[38;5;124m'\u001B[39m\u001B[38;5;124mstring_label\u001B[39m\u001B[38;5;124m'\u001B[39m]\u001B[38;5;132;01m}\u001B[39;00m\u001B[38;5;124m__\u001B[39m\u001B[38;5;132;01m{\u001B[39;00mvis_frame_row[\u001B[38;5;124m'\u001B[39m\u001B[38;5;124mdataset\u001B[39m\u001B[38;5;124m'\u001B[39m]\u001B[38;5;132;01m}\u001B[39;00m\u001B[38;5;124m__\u001B[39m\u001B[38;5;132;01m{\u001B[39;00mcounter\u001B[38;5;132;01m}\u001B[39;00m\u001B[38;5;124m.png\u001B[39m\u001B[38;5;124m\"\u001B[39m)\n\u001B[0;32m----> 8\u001B[0m \u001B[43msaveNifti\u001B[49m\u001B[43m(\u001B[49m\u001B[43mvis_frame_row\u001B[49m\u001B[43m[\u001B[49m\u001B[38;5;124;43m'\u001B[39;49m\u001B[38;5;124;43mID\u001B[39;49m\u001B[38;5;124;43m'\u001B[39;49m\u001B[43m]\u001B[49m\u001B[43m,\u001B[49m\u001B[43m \u001B[49m\u001B[43moutfile\u001B[49m\u001B[43m)\u001B[49m\n",
      "Cell \u001B[0;32mIn[25], line 4\u001B[0m, in \u001B[0;36msaveNifti\u001B[0;34m(img_path, outfile)\u001B[0m\n\u001B[1;32m      3\u001B[0m \u001B[38;5;28;01mdef\u001B[39;00m \u001B[38;5;21msaveNifti\u001B[39m(img_path, outfile):\n\u001B[0;32m----> 4\u001B[0m     nimg \u001B[38;5;241m=\u001B[39m \u001B[43mnib\u001B[49m\u001B[38;5;241;43m.\u001B[39;49m\u001B[43mload\u001B[49m\u001B[43m(\u001B[49m\u001B[43mimg_path\u001B[49m\u001B[43m)\u001B[49m\n\u001B[1;32m      5\u001B[0m     data \u001B[38;5;241m=\u001B[39m nimg\u001B[38;5;241m.\u001B[39mget_fdata()\n\u001B[1;32m      6\u001B[0m     plt\u001B[38;5;241m.\u001B[39mfigure()\n",
      "File \u001B[0;32m~/Internship/.mvenv/lib/python3.9/site-packages/nibabel/loadsave.py:102\u001B[0m, in \u001B[0;36mload\u001B[0;34m(filename, **kwargs)\u001B[0m\n\u001B[1;32m    100\u001B[0m     stat_result \u001B[38;5;241m=\u001B[39m os\u001B[38;5;241m.\u001B[39mstat(filename)\n\u001B[1;32m    101\u001B[0m \u001B[38;5;28;01mexcept\u001B[39;00m \u001B[38;5;167;01mOSError\u001B[39;00m:\n\u001B[0;32m--> 102\u001B[0m     \u001B[38;5;28;01mraise\u001B[39;00m \u001B[38;5;167;01mFileNotFoundError\u001B[39;00m(\u001B[38;5;124mf\u001B[39m\u001B[38;5;124m\"\u001B[39m\u001B[38;5;124mNo such file or no access: \u001B[39m\u001B[38;5;124m'\u001B[39m\u001B[38;5;132;01m{\u001B[39;00mfilename\u001B[38;5;132;01m}\u001B[39;00m\u001B[38;5;124m'\u001B[39m\u001B[38;5;124m\"\u001B[39m)\n\u001B[1;32m    103\u001B[0m \u001B[38;5;28;01mif\u001B[39;00m stat_result\u001B[38;5;241m.\u001B[39mst_size \u001B[38;5;241m<\u001B[39m\u001B[38;5;241m=\u001B[39m \u001B[38;5;241m0\u001B[39m:\n\u001B[1;32m    104\u001B[0m     \u001B[38;5;28;01mraise\u001B[39;00m ImageFileError(\u001B[38;5;124mf\u001B[39m\u001B[38;5;124m\"\u001B[39m\u001B[38;5;124mEmpty file: \u001B[39m\u001B[38;5;124m'\u001B[39m\u001B[38;5;132;01m{\u001B[39;00mfilename\u001B[38;5;132;01m}\u001B[39;00m\u001B[38;5;124m'\u001B[39m\u001B[38;5;124m\"\u001B[39m)\n",
      "\u001B[0;31mFileNotFoundError\u001B[0m: No such file or no access: '/trinity/home/r098375/DDS/data/ADNI/ADNI3/test/NIFTI_SLICES/021_S_5177/20180718__MR__2.16.124.113543.6006.99.07375842326600443750__2.16.124.113543.6006.99.5033537581123976174__s12.nii.gz'"
     ]
    }
   ],
   "source": [
    "visualize_frame.apply(createMRIexamples, output_folder='', axis=1)"
   ],
   "metadata": {
    "collapsed": false,
    "ExecuteTime": {
     "end_time": "2023-11-14T14:01:13.412484356Z",
     "start_time": "2023-11-14T14:01:13.326343733Z"
    }
   },
   "id": "79d2fa9fef69daaf"
  },
  {
   "cell_type": "code",
   "execution_count": 30,
   "outputs": [],
   "source": [
    "visualize_frame.to_csv('visualizeFrame.csv', index=False)"
   ],
   "metadata": {
    "collapsed": false,
    "ExecuteTime": {
     "end_time": "2023-11-14T14:03:45.850307128Z",
     "start_time": "2023-11-14T14:03:45.822906548Z"
    }
   },
   "id": "447d20f18d033e51"
  },
  {
   "cell_type": "code",
   "execution_count": null,
   "outputs": [],
   "source": [],
   "metadata": {
    "collapsed": false
   },
   "id": "62be4c61feb73389"
  }
 ],
 "metadata": {
  "kernelspec": {
   "display_name": "Python 3",
   "language": "python",
   "name": "python3"
  },
  "language_info": {
   "codemirror_mode": {
    "name": "ipython",
    "version": 2
   },
   "file_extension": ".py",
   "mimetype": "text/x-python",
   "name": "python",
   "nbconvert_exporter": "python",
   "pygments_lexer": "ipython2",
   "version": "2.7.6"
  }
 },
 "nbformat": 4,
 "nbformat_minor": 5
}
