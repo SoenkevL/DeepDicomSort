{
 "cells": [
  {
   "cell_type": "code",
   "execution_count": 1,
   "id": "initial_id",
   "metadata": {
    "collapsed": true,
    "ExecuteTime": {
     "end_time": "2023-11-09T11:09:18.171038707Z",
     "start_time": "2023-11-09T11:09:17.941487629Z"
    }
   },
   "outputs": [],
   "source": [
    "import numpy as np\n",
    "import pandas as pd"
   ]
  },
  {
   "cell_type": "code",
   "execution_count": 2,
   "outputs": [],
   "source": [
    "classesDict = {\n",
    "    \"T1\":0,\n",
    "    \"T1_c\":1,\n",
    "    \"T2\":2,\n",
    "    \"T2-FLAIR\":3,\n",
    "    \"FS\":4,\n",
    "    \"PD\":5,\n",
    "    \"SWI\":6,\n",
    "    \"GRE\":7,\n",
    "    \"T2*\":8,\n",
    "    \"DWI\":9,\n",
    "    \"ADC\":10,\n",
    "    \"BOLD\":11,\n",
    "    \"FlowSensitve\":12,\n",
    "    \"PWI\":13,\n",
    "    \"ASL\":14,\n",
    "    \"Hippo\":15,\n",
    "    \"DTI\":16,\n",
    "    \"Other\":17\n",
    "}"
   ],
   "metadata": {
    "collapsed": false,
    "ExecuteTime": {
     "end_time": "2023-11-09T11:09:18.182982276Z",
     "start_time": "2023-11-09T11:09:18.176497033Z"
    }
   },
   "id": "edc6427f3b7f991f"
  },
  {
   "cell_type": "code",
   "execution_count": 3,
   "outputs": [],
   "source": [
    "labels_path = '/home/soenke/Internship/DeepDicomSortFork/prototyping/combinedDfs/CombinedTestingFrame_A2_A3_O3_egd_rss_hb_pruned.txt'"
   ],
   "metadata": {
    "collapsed": false,
    "ExecuteTime": {
     "end_time": "2023-11-09T11:09:18.193091792Z",
     "start_time": "2023-11-09T11:09:18.179487170Z"
    }
   },
   "id": "1d14e77d3b5bfbc5"
  },
  {
   "cell_type": "code",
   "execution_count": 4,
   "outputs": [],
   "source": [
    "Labels = pd.read_csv(labels_path,names=['ID','label','extra'],sep='\\t', dtype={'ID':str,'label':int,'extra':int})"
   ],
   "metadata": {
    "collapsed": false,
    "ExecuteTime": {
     "end_time": "2023-11-09T11:09:18.314270119Z",
     "start_time": "2023-11-09T11:09:18.190428998Z"
    }
   },
   "id": "4ca9e042b04aded4"
  },
  {
   "cell_type": "code",
   "execution_count": 5,
   "outputs": [],
   "source": [
    "Label_name_list = list(classesDict.keys())"
   ],
   "metadata": {
    "collapsed": false,
    "ExecuteTime": {
     "end_time": "2023-11-09T11:09:18.357677174Z",
     "start_time": "2023-11-09T11:09:18.357368765Z"
    }
   },
   "id": "e56a9c4bfe44909e"
  },
  {
   "cell_type": "code",
   "execution_count": 6,
   "outputs": [
    {
     "data": {
      "text/plain": "                                                      ID  label  extra\n0      /trinity/home/r098375/DDS/data/ADNI/ADNI3/test...      3      0\n1      /trinity/home/r098375/DDS/data/ADNI/ADNI3/test...     17      0\n2      /trinity/home/r098375/DDS/data/ADNI/ADNI3/test...      3      0\n3      /trinity/home/r098375/DDS/data/ADNI/ADNI3/test...     15      0\n4      /trinity/home/r098375/DDS/data/ADNI/ADNI3/test...      3      0\n...                                                  ...    ...    ...\n66775  /trinity/home/r098375/DDS/data/HeartBrain/NIFT...      0      0\n66776  /trinity/home/r098375/DDS/data/HeartBrain/NIFT...      0      0\n66777  /trinity/home/r098375/DDS/data/HeartBrain/NIFT...      0      0\n66778  /trinity/home/r098375/DDS/data/HeartBrain/NIFT...      0      0\n66779  /trinity/home/r098375/DDS/data/HeartBrain/NIFT...      0      0\n\n[66780 rows x 3 columns]",
      "text/html": "<div>\n<style scoped>\n    .dataframe tbody tr th:only-of-type {\n        vertical-align: middle;\n    }\n\n    .dataframe tbody tr th {\n        vertical-align: top;\n    }\n\n    .dataframe thead th {\n        text-align: right;\n    }\n</style>\n<table border=\"1\" class=\"dataframe\">\n  <thead>\n    <tr style=\"text-align: right;\">\n      <th></th>\n      <th>ID</th>\n      <th>label</th>\n      <th>extra</th>\n    </tr>\n  </thead>\n  <tbody>\n    <tr>\n      <th>0</th>\n      <td>/trinity/home/r098375/DDS/data/ADNI/ADNI3/test...</td>\n      <td>3</td>\n      <td>0</td>\n    </tr>\n    <tr>\n      <th>1</th>\n      <td>/trinity/home/r098375/DDS/data/ADNI/ADNI3/test...</td>\n      <td>17</td>\n      <td>0</td>\n    </tr>\n    <tr>\n      <th>2</th>\n      <td>/trinity/home/r098375/DDS/data/ADNI/ADNI3/test...</td>\n      <td>3</td>\n      <td>0</td>\n    </tr>\n    <tr>\n      <th>3</th>\n      <td>/trinity/home/r098375/DDS/data/ADNI/ADNI3/test...</td>\n      <td>15</td>\n      <td>0</td>\n    </tr>\n    <tr>\n      <th>4</th>\n      <td>/trinity/home/r098375/DDS/data/ADNI/ADNI3/test...</td>\n      <td>3</td>\n      <td>0</td>\n    </tr>\n    <tr>\n      <th>...</th>\n      <td>...</td>\n      <td>...</td>\n      <td>...</td>\n    </tr>\n    <tr>\n      <th>66775</th>\n      <td>/trinity/home/r098375/DDS/data/HeartBrain/NIFT...</td>\n      <td>0</td>\n      <td>0</td>\n    </tr>\n    <tr>\n      <th>66776</th>\n      <td>/trinity/home/r098375/DDS/data/HeartBrain/NIFT...</td>\n      <td>0</td>\n      <td>0</td>\n    </tr>\n    <tr>\n      <th>66777</th>\n      <td>/trinity/home/r098375/DDS/data/HeartBrain/NIFT...</td>\n      <td>0</td>\n      <td>0</td>\n    </tr>\n    <tr>\n      <th>66778</th>\n      <td>/trinity/home/r098375/DDS/data/HeartBrain/NIFT...</td>\n      <td>0</td>\n      <td>0</td>\n    </tr>\n    <tr>\n      <th>66779</th>\n      <td>/trinity/home/r098375/DDS/data/HeartBrain/NIFT...</td>\n      <td>0</td>\n      <td>0</td>\n    </tr>\n  </tbody>\n</table>\n<p>66780 rows × 3 columns</p>\n</div>"
     },
     "execution_count": 6,
     "metadata": {},
     "output_type": "execute_result"
    }
   ],
   "source": [
    "Labels"
   ],
   "metadata": {
    "collapsed": false,
    "ExecuteTime": {
     "end_time": "2023-11-09T11:09:18.358313960Z",
     "start_time": "2023-11-09T11:09:18.357580568Z"
    }
   },
   "id": "9a4c9676255b78c"
  },
  {
   "cell_type": "code",
   "execution_count": 7,
   "outputs": [],
   "source": [
    "def extractDataset(ID):\n",
    "    if 'ADNI2' in ID:\n",
    "        return 'ADNI2'\n",
    "    elif 'ADNI3' in ID:\n",
    "        return 'ADNI3'\n",
    "    elif 'OASIS3' in ID:\n",
    "        return 'OASIS3'\n",
    "    elif 'egd' in ID:\n",
    "        return 'egd'\n",
    "    elif 'Rstudy' in ID:\n",
    "        return 'rss'\n",
    "    elif 'HeartBrain' in ID:\n",
    "        return 'HeartBrain'\n",
    "    return None\n",
    "\n",
    "def assignStringLabel(label, labelList):\n",
    "    return labelList[label]"
   ],
   "metadata": {
    "collapsed": false,
    "ExecuteTime": {
     "end_time": "2023-11-09T11:09:18.358844495Z",
     "start_time": "2023-11-09T11:09:18.357861565Z"
    }
   },
   "id": "8036efcb119f40ae"
  },
  {
   "cell_type": "code",
   "execution_count": 8,
   "outputs": [],
   "source": [
    "FullLabelFrame = Labels.copy()"
   ],
   "metadata": {
    "collapsed": false,
    "ExecuteTime": {
     "end_time": "2023-11-09T11:09:18.359299803Z",
     "start_time": "2023-11-09T11:09:18.357968801Z"
    }
   },
   "id": "30ae557186084b76"
  },
  {
   "cell_type": "code",
   "execution_count": 9,
   "outputs": [],
   "source": [
    "FullLabelFrame['dataset'] = FullLabelFrame['ID'].apply(extractDataset)\n",
    "FullLabelFrame['string_label'] = FullLabelFrame['label'].apply(assignStringLabel, labelList=Label_name_list)"
   ],
   "metadata": {
    "collapsed": false,
    "ExecuteTime": {
     "end_time": "2023-11-09T11:09:18.440695092Z",
     "start_time": "2023-11-09T11:09:18.358047982Z"
    }
   },
   "id": "76293cacf0efa33d"
  },
  {
   "cell_type": "code",
   "execution_count": 10,
   "outputs": [
    {
     "data": {
      "text/plain": "dataset     string_label\nADNI2       PD               28.0\n            T2               28.0\nADNI3       Other           558.0\n            T2*             373.0\n            T1              238.0\n            T2-FLAIR        216.0\n            Hippo           197.0\n            PWI              97.0\n            ASL              49.0\n            DTI               8.0\n            SWI               3.0\nHeartBrain  Other            87.0\n            PWI              33.0\n            ASL              31.0\n            SWI              25.0\n            T2-FLAIR         24.0\n            Hippo            15.0\n            T1               13.0\nOASIS3      Other           563.0\n            BOLD            331.0\n            T2              254.0\n            T1              230.0\n            DWI             216.0\n            T2*             145.0\n            ASL             108.0\n            GRE              96.0\n            T2-FLAIR         81.0\n            SWI              81.0\n            FlowSensitve     70.0\negd         PWI              50.0\n            T1_c             39.0\n            T1               31.0\n            T2-FLAIR         30.0\n            DWI              27.0\n            T2               27.0\n            ADC              20.0\n            Other             6.0\nrss         DTI               8.0\n            Other             6.0\n            BOLD              2.0\n            PD                2.0\n            SWI               2.0\n            T1                2.0\n            T2-FLAIR          2.0\nName: count, dtype: float64"
     },
     "execution_count": 10,
     "metadata": {},
     "output_type": "execute_result"
    }
   ],
   "source": [
    "FullLabelFrame.groupby('dataset')['string_label'].value_counts()/15"
   ],
   "metadata": {
    "collapsed": false,
    "ExecuteTime": {
     "end_time": "2023-11-09T11:09:18.441287416Z",
     "start_time": "2023-11-09T11:09:18.401487733Z"
    }
   },
   "id": "fe1dfef5f6af276b"
  },
  {
   "cell_type": "code",
   "execution_count": 11,
   "outputs": [
    {
     "name": "stdout",
     "output_type": "stream",
     "text": [
      "\\begin{tabular}{llr}\n",
      "\\toprule\n",
      " &  & count \\\\\n",
      "string_label & dataset &  \\\\\n",
      "\\midrule\n",
      "ADC & egd & 300 \\\\\n",
      "\\cline{1-3}\n",
      "\\multirow[t]{3}{*}{ASL} & OASIS3 & 1620 \\\\\n",
      " & ADNI3 & 735 \\\\\n",
      " & HeartBrain & 465 \\\\\n",
      "\\cline{1-3}\n",
      "\\multirow[t]{2}{*}{BOLD} & OASIS3 & 4965 \\\\\n",
      " & rss & 30 \\\\\n",
      "\\cline{1-3}\n",
      "\\multirow[t]{2}{*}{DTI} & rss & 120 \\\\\n",
      " & ADNI3 & 120 \\\\\n",
      "\\cline{1-3}\n",
      "\\multirow[t]{2}{*}{DWI} & OASIS3 & 3240 \\\\\n",
      " & egd & 405 \\\\\n",
      "\\cline{1-3}\n",
      "FlowSensitve & OASIS3 & 1050 \\\\\n",
      "\\cline{1-3}\n",
      "GRE & OASIS3 & 1440 \\\\\n",
      "\\cline{1-3}\n",
      "\\multirow[t]{2}{*}{Hippo} & ADNI3 & 2955 \\\\\n",
      " & HeartBrain & 225 \\\\\n",
      "\\cline{1-3}\n",
      "\\multirow[t]{5}{*}{Other} & OASIS3 & 8445 \\\\\n",
      " & ADNI3 & 8370 \\\\\n",
      " & HeartBrain & 1305 \\\\\n",
      " & rss & 90 \\\\\n",
      " & egd & 90 \\\\\n",
      "\\cline{1-3}\n",
      "\\multirow[t]{2}{*}{PD} & ADNI2 & 420 \\\\\n",
      " & rss & 30 \\\\\n",
      "\\cline{1-3}\n",
      "\\multirow[t]{3}{*}{PWI} & ADNI3 & 1455 \\\\\n",
      " & egd & 750 \\\\\n",
      " & HeartBrain & 495 \\\\\n",
      "\\cline{1-3}\n",
      "\\multirow[t]{4}{*}{SWI} & OASIS3 & 1215 \\\\\n",
      " & HeartBrain & 375 \\\\\n",
      " & ADNI3 & 45 \\\\\n",
      " & rss & 30 \\\\\n",
      "\\cline{1-3}\n",
      "\\multirow[t]{5}{*}{T1} & ADNI3 & 3570 \\\\\n",
      " & OASIS3 & 3450 \\\\\n",
      " & egd & 465 \\\\\n",
      " & HeartBrain & 195 \\\\\n",
      " & rss & 30 \\\\\n",
      "\\cline{1-3}\n",
      "T1_c & egd & 585 \\\\\n",
      "\\cline{1-3}\n",
      "\\multirow[t]{3}{*}{T2} & OASIS3 & 3810 \\\\\n",
      " & ADNI2 & 420 \\\\\n",
      " & egd & 405 \\\\\n",
      "\\cline{1-3}\n",
      "\\multirow[t]{2}{*}{T2*} & ADNI3 & 5595 \\\\\n",
      " & OASIS3 & 2175 \\\\\n",
      "\\cline{1-3}\n",
      "\\multirow[t]{5}{*}{T2-FLAIR} & ADNI3 & 3240 \\\\\n",
      " & OASIS3 & 1215 \\\\\n",
      " & egd & 450 \\\\\n",
      " & HeartBrain & 360 \\\\\n",
      " & rss & 30 \\\\\n",
      "\\cline{1-3}\n",
      "\\bottomrule\n",
      "\\end{tabular}\n"
     ]
    }
   ],
   "source": [
    "print(FullLabelFrame.groupby('string_label')['dataset'].value_counts().to_latex())"
   ],
   "metadata": {
    "collapsed": false,
    "ExecuteTime": {
     "end_time": "2023-11-09T11:09:18.798319174Z",
     "start_time": "2023-11-09T11:09:18.404425661Z"
    }
   },
   "id": "32dc666b6268de50"
  },
  {
   "cell_type": "code",
   "execution_count": 11,
   "outputs": [],
   "source": [],
   "metadata": {
    "collapsed": false,
    "ExecuteTime": {
     "end_time": "2023-11-09T11:09:18.798513502Z",
     "start_time": "2023-11-09T11:09:18.780622533Z"
    }
   },
   "id": "7a5ae6052e67471"
  }
 ],
 "metadata": {
  "kernelspec": {
   "display_name": "Python 3",
   "language": "python",
   "name": "python3"
  },
  "language_info": {
   "codemirror_mode": {
    "name": "ipython",
    "version": 2
   },
   "file_extension": ".py",
   "mimetype": "text/x-python",
   "name": "python",
   "nbconvert_exporter": "python",
   "pygments_lexer": "ipython2",
   "version": "2.7.6"
  }
 },
 "nbformat": 4,
 "nbformat_minor": 5
}
