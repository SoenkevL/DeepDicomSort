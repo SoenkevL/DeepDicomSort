{
 "cells": [
  {
   "cell_type": "code",
   "execution_count": 24,
   "id": "initial_id",
   "metadata": {
    "collapsed": true,
    "ExecuteTime": {
     "end_time": "2023-10-20T12:57:45.266240481Z",
     "start_time": "2023-10-20T12:57:45.214657801Z"
    }
   },
   "outputs": [],
   "source": [
    "import numpy as np\n",
    "import pandas as pd"
   ]
  },
  {
   "cell_type": "code",
   "execution_count": 25,
   "outputs": [],
   "source": [
    "classesDict = {\n",
    "    \"T1\":0,\n",
    "    \"T1_c\":1,\n",
    "    \"T2\":2,\n",
    "    \"T2-FLAIR\":3,\n",
    "    \"FS\":4,\n",
    "    \"PD\":5,\n",
    "    \"SWI\":6,\n",
    "    \"GRE\":7,\n",
    "    \"T2*\":8,\n",
    "    \"DWI\":9,\n",
    "    \"ADC\":10,\n",
    "    \"BOLD\":11,\n",
    "    \"FlowSensitve\":12,\n",
    "    \"PWI\":13,\n",
    "    \"ASL\":14,\n",
    "    \"Hippo\":15,\n",
    "    \"DTI\":16,\n",
    "    \"Other\":17\n",
    "}"
   ],
   "metadata": {
    "collapsed": false,
    "ExecuteTime": {
     "end_time": "2023-10-20T12:57:45.266523784Z",
     "start_time": "2023-10-20T12:57:45.263768752Z"
    }
   },
   "id": "edc6427f3b7f991f"
  },
  {
   "cell_type": "code",
   "execution_count": 26,
   "outputs": [],
   "source": [
    "labels_path = '/home/soenke/Internship/DeepDicomSortFork/prototyping/CombinedTrainingFrame_A2_A3_O3_egd.txt'"
   ],
   "metadata": {
    "collapsed": false,
    "ExecuteTime": {
     "end_time": "2023-10-20T12:57:45.266705101Z",
     "start_time": "2023-10-20T12:57:45.263905812Z"
    }
   },
   "id": "1d14e77d3b5bfbc5"
  },
  {
   "cell_type": "code",
   "execution_count": 27,
   "outputs": [],
   "source": [
    "Labels = pd.read_csv(labels_path,names=['ID','label','extra'],sep='\\t', dtype={'ID':str,'label':int,'extra':int})"
   ],
   "metadata": {
    "collapsed": false,
    "ExecuteTime": {
     "end_time": "2023-10-20T12:57:47.167227239Z",
     "start_time": "2023-10-20T12:57:45.263990368Z"
    }
   },
   "id": "4ca9e042b04aded4"
  },
  {
   "cell_type": "code",
   "execution_count": 28,
   "outputs": [],
   "source": [
    "Label_name_list = list(classesDict.keys())"
   ],
   "metadata": {
    "collapsed": false,
    "ExecuteTime": {
     "end_time": "2023-10-20T12:57:47.172038195Z",
     "start_time": "2023-10-20T12:57:47.168013765Z"
    }
   },
   "id": "e56a9c4bfe44909e"
  },
  {
   "cell_type": "code",
   "execution_count": 29,
   "outputs": [
    {
     "data": {
      "text/plain": "                                                       ID  label  extra\n0       /trinity/home/r098375/DDS/data/ADNI/ADNI3/trai...      3      0\n1       /trinity/home/r098375/DDS/data/ADNI/ADNI3/trai...      3      0\n2       /trinity/home/r098375/DDS/data/ADNI/ADNI3/trai...      8      0\n3       /trinity/home/r098375/DDS/data/ADNI/ADNI3/trai...     15      0\n4       /trinity/home/r098375/DDS/data/ADNI/ADNI3/trai...      0      0\n...                                                   ...    ...    ...\n908020  /trinity/home/r098375/DDS/data/egd/NIFTI_SLICE...      9      0\n908021  /trinity/home/r098375/DDS/data/egd/NIFTI_SLICE...      9      0\n908022  /trinity/home/r098375/DDS/data/egd/NIFTI_SLICE...      9      0\n908023  /trinity/home/r098375/DDS/data/egd/NIFTI_SLICE...      9      0\n908024  /trinity/home/r098375/DDS/data/egd/NIFTI_SLICE...      9      0\n\n[908025 rows x 3 columns]",
      "text/html": "<div>\n<style scoped>\n    .dataframe tbody tr th:only-of-type {\n        vertical-align: middle;\n    }\n\n    .dataframe tbody tr th {\n        vertical-align: top;\n    }\n\n    .dataframe thead th {\n        text-align: right;\n    }\n</style>\n<table border=\"1\" class=\"dataframe\">\n  <thead>\n    <tr style=\"text-align: right;\">\n      <th></th>\n      <th>ID</th>\n      <th>label</th>\n      <th>extra</th>\n    </tr>\n  </thead>\n  <tbody>\n    <tr>\n      <th>0</th>\n      <td>/trinity/home/r098375/DDS/data/ADNI/ADNI3/trai...</td>\n      <td>3</td>\n      <td>0</td>\n    </tr>\n    <tr>\n      <th>1</th>\n      <td>/trinity/home/r098375/DDS/data/ADNI/ADNI3/trai...</td>\n      <td>3</td>\n      <td>0</td>\n    </tr>\n    <tr>\n      <th>2</th>\n      <td>/trinity/home/r098375/DDS/data/ADNI/ADNI3/trai...</td>\n      <td>8</td>\n      <td>0</td>\n    </tr>\n    <tr>\n      <th>3</th>\n      <td>/trinity/home/r098375/DDS/data/ADNI/ADNI3/trai...</td>\n      <td>15</td>\n      <td>0</td>\n    </tr>\n    <tr>\n      <th>4</th>\n      <td>/trinity/home/r098375/DDS/data/ADNI/ADNI3/trai...</td>\n      <td>0</td>\n      <td>0</td>\n    </tr>\n    <tr>\n      <th>...</th>\n      <td>...</td>\n      <td>...</td>\n      <td>...</td>\n    </tr>\n    <tr>\n      <th>908020</th>\n      <td>/trinity/home/r098375/DDS/data/egd/NIFTI_SLICE...</td>\n      <td>9</td>\n      <td>0</td>\n    </tr>\n    <tr>\n      <th>908021</th>\n      <td>/trinity/home/r098375/DDS/data/egd/NIFTI_SLICE...</td>\n      <td>9</td>\n      <td>0</td>\n    </tr>\n    <tr>\n      <th>908022</th>\n      <td>/trinity/home/r098375/DDS/data/egd/NIFTI_SLICE...</td>\n      <td>9</td>\n      <td>0</td>\n    </tr>\n    <tr>\n      <th>908023</th>\n      <td>/trinity/home/r098375/DDS/data/egd/NIFTI_SLICE...</td>\n      <td>9</td>\n      <td>0</td>\n    </tr>\n    <tr>\n      <th>908024</th>\n      <td>/trinity/home/r098375/DDS/data/egd/NIFTI_SLICE...</td>\n      <td>9</td>\n      <td>0</td>\n    </tr>\n  </tbody>\n</table>\n<p>908025 rows × 3 columns</p>\n</div>"
     },
     "execution_count": 29,
     "metadata": {},
     "output_type": "execute_result"
    }
   ],
   "source": [
    "Labels"
   ],
   "metadata": {
    "collapsed": false,
    "ExecuteTime": {
     "end_time": "2023-10-20T12:57:47.194446005Z",
     "start_time": "2023-10-20T12:57:47.173523970Z"
    }
   },
   "id": "9a4c9676255b78c"
  },
  {
   "cell_type": "code",
   "execution_count": 30,
   "outputs": [],
   "source": [
    "dataset = []\n",
    "Label_txt = []\n",
    "for idx in Labels.index:\n",
    "    ID = Labels['ID'][idx]\n",
    "    label = Labels['label'][idx]\n",
    "    Label_txt.append(Label_name_list[label])\n",
    "    if 'ADNI2' in ID:\n",
    "        dataset.append('ADNI2')\n",
    "        continue\n",
    "    elif 'ADNI3' in ID:\n",
    "        dataset.append('ADNI3')\n",
    "        continue\n",
    "    elif 'OASIS3' in ID:\n",
    "        dataset.append('OASIS3')\n",
    "        continue\n",
    "    elif 'egd' in ID:\n",
    "        dataset.append('egd')\n",
    "    "
   ],
   "metadata": {
    "collapsed": false,
    "ExecuteTime": {
     "end_time": "2023-10-20T12:57:55.609648627Z",
     "start_time": "2023-10-20T12:57:47.205516471Z"
    }
   },
   "id": "8036efcb119f40ae"
  },
  {
   "cell_type": "code",
   "execution_count": 31,
   "outputs": [],
   "source": [
    "temp = [(d, l) for d,l in zip(dataset, Label_txt)]"
   ],
   "metadata": {
    "collapsed": false,
    "ExecuteTime": {
     "end_time": "2023-10-20T12:57:55.722908244Z",
     "start_time": "2023-10-20T12:57:55.655955639Z"
    }
   },
   "id": "258786d3569b705b"
  },
  {
   "cell_type": "code",
   "execution_count": 32,
   "outputs": [],
   "source": [
    "extraInfoFrame = pd.DataFrame(temp, columns=['dataset', 'label_txt'])"
   ],
   "metadata": {
    "collapsed": false,
    "ExecuteTime": {
     "end_time": "2023-10-20T12:57:55.844148384Z",
     "start_time": "2023-10-20T12:57:55.803690749Z"
    }
   },
   "id": "a05a72dbfbea5bcf"
  },
  {
   "cell_type": "code",
   "execution_count": 33,
   "outputs": [],
   "source": [
    "FullLabelFrame = pd.concat([Labels, extraInfoFrame], axis=1)"
   ],
   "metadata": {
    "collapsed": false,
    "ExecuteTime": {
     "end_time": "2023-10-20T12:57:55.844375136Z",
     "start_time": "2023-10-20T12:57:55.843967765Z"
    }
   },
   "id": "9e13077903f76815"
  },
  {
   "cell_type": "code",
   "execution_count": 34,
   "outputs": [
    {
     "data": {
      "text/plain": "                                                       ID  label  extra  \\\n0       /trinity/home/r098375/DDS/data/ADNI/ADNI3/trai...      3      0   \n1       /trinity/home/r098375/DDS/data/ADNI/ADNI3/trai...      3      0   \n2       /trinity/home/r098375/DDS/data/ADNI/ADNI3/trai...      8      0   \n3       /trinity/home/r098375/DDS/data/ADNI/ADNI3/trai...     15      0   \n4       /trinity/home/r098375/DDS/data/ADNI/ADNI3/trai...      0      0   \n...                                                   ...    ...    ...   \n908020  /trinity/home/r098375/DDS/data/egd/NIFTI_SLICE...      9      0   \n908021  /trinity/home/r098375/DDS/data/egd/NIFTI_SLICE...      9      0   \n908022  /trinity/home/r098375/DDS/data/egd/NIFTI_SLICE...      9      0   \n908023  /trinity/home/r098375/DDS/data/egd/NIFTI_SLICE...      9      0   \n908024  /trinity/home/r098375/DDS/data/egd/NIFTI_SLICE...      9      0   \n\n       dataset label_txt  \n0        ADNI3  T2-FLAIR  \n1        ADNI3  T2-FLAIR  \n2        ADNI3       T2*  \n3        ADNI3     Hippo  \n4        ADNI3        T1  \n...        ...       ...  \n908020     egd       DWI  \n908021     egd       DWI  \n908022     egd       DWI  \n908023     egd       DWI  \n908024     egd       DWI  \n\n[908025 rows x 5 columns]",
      "text/html": "<div>\n<style scoped>\n    .dataframe tbody tr th:only-of-type {\n        vertical-align: middle;\n    }\n\n    .dataframe tbody tr th {\n        vertical-align: top;\n    }\n\n    .dataframe thead th {\n        text-align: right;\n    }\n</style>\n<table border=\"1\" class=\"dataframe\">\n  <thead>\n    <tr style=\"text-align: right;\">\n      <th></th>\n      <th>ID</th>\n      <th>label</th>\n      <th>extra</th>\n      <th>dataset</th>\n      <th>label_txt</th>\n    </tr>\n  </thead>\n  <tbody>\n    <tr>\n      <th>0</th>\n      <td>/trinity/home/r098375/DDS/data/ADNI/ADNI3/trai...</td>\n      <td>3</td>\n      <td>0</td>\n      <td>ADNI3</td>\n      <td>T2-FLAIR</td>\n    </tr>\n    <tr>\n      <th>1</th>\n      <td>/trinity/home/r098375/DDS/data/ADNI/ADNI3/trai...</td>\n      <td>3</td>\n      <td>0</td>\n      <td>ADNI3</td>\n      <td>T2-FLAIR</td>\n    </tr>\n    <tr>\n      <th>2</th>\n      <td>/trinity/home/r098375/DDS/data/ADNI/ADNI3/trai...</td>\n      <td>8</td>\n      <td>0</td>\n      <td>ADNI3</td>\n      <td>T2*</td>\n    </tr>\n    <tr>\n      <th>3</th>\n      <td>/trinity/home/r098375/DDS/data/ADNI/ADNI3/trai...</td>\n      <td>15</td>\n      <td>0</td>\n      <td>ADNI3</td>\n      <td>Hippo</td>\n    </tr>\n    <tr>\n      <th>4</th>\n      <td>/trinity/home/r098375/DDS/data/ADNI/ADNI3/trai...</td>\n      <td>0</td>\n      <td>0</td>\n      <td>ADNI3</td>\n      <td>T1</td>\n    </tr>\n    <tr>\n      <th>...</th>\n      <td>...</td>\n      <td>...</td>\n      <td>...</td>\n      <td>...</td>\n      <td>...</td>\n    </tr>\n    <tr>\n      <th>908020</th>\n      <td>/trinity/home/r098375/DDS/data/egd/NIFTI_SLICE...</td>\n      <td>9</td>\n      <td>0</td>\n      <td>egd</td>\n      <td>DWI</td>\n    </tr>\n    <tr>\n      <th>908021</th>\n      <td>/trinity/home/r098375/DDS/data/egd/NIFTI_SLICE...</td>\n      <td>9</td>\n      <td>0</td>\n      <td>egd</td>\n      <td>DWI</td>\n    </tr>\n    <tr>\n      <th>908022</th>\n      <td>/trinity/home/r098375/DDS/data/egd/NIFTI_SLICE...</td>\n      <td>9</td>\n      <td>0</td>\n      <td>egd</td>\n      <td>DWI</td>\n    </tr>\n    <tr>\n      <th>908023</th>\n      <td>/trinity/home/r098375/DDS/data/egd/NIFTI_SLICE...</td>\n      <td>9</td>\n      <td>0</td>\n      <td>egd</td>\n      <td>DWI</td>\n    </tr>\n    <tr>\n      <th>908024</th>\n      <td>/trinity/home/r098375/DDS/data/egd/NIFTI_SLICE...</td>\n      <td>9</td>\n      <td>0</td>\n      <td>egd</td>\n      <td>DWI</td>\n    </tr>\n  </tbody>\n</table>\n<p>908025 rows × 5 columns</p>\n</div>"
     },
     "execution_count": 34,
     "metadata": {},
     "output_type": "execute_result"
    }
   ],
   "source": [
    "FullLabelFrame"
   ],
   "metadata": {
    "collapsed": false,
    "ExecuteTime": {
     "end_time": "2023-10-20T12:57:55.888690123Z",
     "start_time": "2023-10-20T12:57:55.887828344Z"
    }
   },
   "id": "30ae557186084b76"
  },
  {
   "cell_type": "code",
   "execution_count": 36,
   "outputs": [
    {
     "data": {
      "text/plain": "dataset  label_txt   \nADNI2    PD              0.500000\n         T2              0.500000\nADNI3    Other           0.330598\n         T2*             0.227574\n         T1              0.131810\n         Hippo           0.115018\n         T2-FLAIR        0.113440\n         PWI             0.055173\n         ASL             0.020706\n         DTI             0.004671\n         SWI             0.000884\n         PD              0.000126\nOASIS3   Other           0.258561\n         BOLD            0.145994\n         T2              0.121154\n         T1              0.117404\n         DWI             0.097456\n         T2*             0.068975\n         ASL             0.045222\n         GRE             0.042287\n         SWI             0.039733\n         T2-FLAIR        0.036743\n         FlowSensitve    0.026470\negd      T1_c            0.201422\n         DWI             0.198460\n         T1              0.151659\n         T2              0.136256\n         PWI             0.124408\n         T2-FLAIR        0.120261\n         ADC             0.052725\n         Other           0.014810\nName: proportion, dtype: float64"
     },
     "execution_count": 36,
     "metadata": {},
     "output_type": "execute_result"
    }
   ],
   "source": [
    "FullLabelFrame.groupby('dataset')['label_txt'].value_counts(normalize=True)"
   ],
   "metadata": {
    "collapsed": false,
    "ExecuteTime": {
     "end_time": "2023-10-20T12:59:49.829624212Z",
     "start_time": "2023-10-20T12:59:49.670596234Z"
    }
   },
   "id": "fe1dfef5f6af276b"
  },
  {
   "cell_type": "code",
   "execution_count": 35,
   "outputs": [],
   "source": [],
   "metadata": {
    "collapsed": false,
    "ExecuteTime": {
     "end_time": "2023-10-20T12:57:56.052015796Z",
     "start_time": "2023-10-20T12:57:56.010614630Z"
    }
   },
   "id": "32dc666b6268de50"
  }
 ],
 "metadata": {
  "kernelspec": {
   "display_name": "Python 3",
   "language": "python",
   "name": "python3"
  },
  "language_info": {
   "codemirror_mode": {
    "name": "ipython",
    "version": 2
   },
   "file_extension": ".py",
   "mimetype": "text/x-python",
   "name": "python",
   "nbconvert_exporter": "python",
   "pygments_lexer": "ipython2",
   "version": "2.7.6"
  }
 },
 "nbformat": 4,
 "nbformat_minor": 5
}
