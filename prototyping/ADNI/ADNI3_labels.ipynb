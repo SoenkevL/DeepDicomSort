{
 "cells": [
  {
   "cell_type": "code",
   "execution_count": 23,
   "outputs": [],
   "source": [
    "import pandas as pd"
   ],
   "metadata": {
    "collapsed": false,
    "ExecuteTime": {
     "end_time": "2023-10-18T06:34:39.405408053Z",
     "start_time": "2023-10-18T06:34:39.313628611Z"
    }
   },
   "id": "38bbf0a0a41cdf1c"
  },
  {
   "cell_type": "code",
   "execution_count": 24,
   "outputs": [],
   "source": [
    "inname = 'LabelsWithExtraInfo_adni3_train.csv'\n",
    "outname = 'Adni3_trainLabels_extensive2.txt'"
   ],
   "metadata": {
    "collapsed": false,
    "ExecuteTime": {
     "end_time": "2023-10-18T06:34:39.410126811Z",
     "start_time": "2023-10-18T06:34:39.359603933Z"
    }
   },
   "id": "36291a6bf50395fb"
  },
  {
   "cell_type": "code",
   "execution_count": 25,
   "outputs": [
    {
     "data": {
      "text/plain": "                                                  ID  label  extra  \\\n0  /trinity/home/r098375/DDS/data/ADNI/ADNI3/trai...      0      0   \n1  /trinity/home/r098375/DDS/data/ADNI/ADNI3/trai...      0      0   \n2  /trinity/home/r098375/DDS/data/ADNI/ADNI3/trai...      0      0   \n3  /trinity/home/r098375/DDS/data/ADNI/ADNI3/trai...      0      0   \n4  /trinity/home/r098375/DDS/data/ADNI/ADNI3/trai...      0      0   \n\n                                         description weighting  \n0                                  Sagittal_3D_FLAIR        T2  \n1                                  Sagittal_3D_FLAIR        T2  \n2                                      Axial_T2_Star        T2  \n3  HighResHippo_Scan__Oblique_-_perpendicular_to_...        PD  \n4                     Sagittal_3D_Accelerated_MPRAGE        T1  ",
      "text/html": "<div>\n<style scoped>\n    .dataframe tbody tr th:only-of-type {\n        vertical-align: middle;\n    }\n\n    .dataframe tbody tr th {\n        vertical-align: top;\n    }\n\n    .dataframe thead th {\n        text-align: right;\n    }\n</style>\n<table border=\"1\" class=\"dataframe\">\n  <thead>\n    <tr style=\"text-align: right;\">\n      <th></th>\n      <th>ID</th>\n      <th>label</th>\n      <th>extra</th>\n      <th>description</th>\n      <th>weighting</th>\n    </tr>\n  </thead>\n  <tbody>\n    <tr>\n      <th>0</th>\n      <td>/trinity/home/r098375/DDS/data/ADNI/ADNI3/trai...</td>\n      <td>0</td>\n      <td>0</td>\n      <td>Sagittal_3D_FLAIR</td>\n      <td>T2</td>\n    </tr>\n    <tr>\n      <th>1</th>\n      <td>/trinity/home/r098375/DDS/data/ADNI/ADNI3/trai...</td>\n      <td>0</td>\n      <td>0</td>\n      <td>Sagittal_3D_FLAIR</td>\n      <td>T2</td>\n    </tr>\n    <tr>\n      <th>2</th>\n      <td>/trinity/home/r098375/DDS/data/ADNI/ADNI3/trai...</td>\n      <td>0</td>\n      <td>0</td>\n      <td>Axial_T2_Star</td>\n      <td>T2</td>\n    </tr>\n    <tr>\n      <th>3</th>\n      <td>/trinity/home/r098375/DDS/data/ADNI/ADNI3/trai...</td>\n      <td>0</td>\n      <td>0</td>\n      <td>HighResHippo_Scan__Oblique_-_perpendicular_to_...</td>\n      <td>PD</td>\n    </tr>\n    <tr>\n      <th>4</th>\n      <td>/trinity/home/r098375/DDS/data/ADNI/ADNI3/trai...</td>\n      <td>0</td>\n      <td>0</td>\n      <td>Sagittal_3D_Accelerated_MPRAGE</td>\n      <td>T1</td>\n    </tr>\n  </tbody>\n</table>\n</div>"
     },
     "execution_count": 25,
     "metadata": {},
     "output_type": "execute_result"
    }
   ],
   "source": [
    "CreateLabelsFrame = pd.read_csv(inname)\n",
    "CreateLabelsFrame = CreateLabelsFrame.drop(['dicomPath','info','xmlName'],axis=1)\n",
    "CreateLabelsFrame.head()"
   ],
   "metadata": {
    "collapsed": false,
    "ExecuteTime": {
     "end_time": "2023-10-18T06:34:41.177275408Z",
     "start_time": "2023-10-18T06:34:39.359783134Z"
    }
   },
   "id": "9d44b0c4d78fac45"
  },
  {
   "cell_type": "code",
   "execution_count": 26,
   "outputs": [],
   "source": [
    "CreateLabelsFrame['origDesc'] = CreateLabelsFrame['description']"
   ],
   "metadata": {
    "collapsed": false,
    "ExecuteTime": {
     "end_time": "2023-10-18T06:34:41.177544947Z",
     "start_time": "2023-10-18T06:34:41.166523145Z"
    }
   },
   "id": "272e8ff92fa0f4d1"
  },
  {
   "cell_type": "code",
   "execution_count": 27,
   "outputs": [],
   "source": [
    "CreateLabelsFrame = CreateLabelsFrame.dropna()"
   ],
   "metadata": {
    "collapsed": false,
    "ExecuteTime": {
     "end_time": "2023-10-18T06:34:41.283596363Z",
     "start_time": "2023-10-18T06:34:41.169541541Z"
    }
   },
   "id": "e9e92367eb36b98d"
  },
  {
   "cell_type": "code",
   "execution_count": 28,
   "outputs": [
    {
     "name": "stdout",
     "output_type": "stream",
     "text": [
      "['HighResHippo_Scan__Oblique_-_perpendicular_to_hippocampal_tail'\n",
      " 'Axial_2D_PASL' 'HighResHippocampus' 'HighResHippo' 'Cerebral_Blood_Flow'\n",
      " 'Axial_2D_PASL_straight_no_ASL' 'Axial_DTI_straight' 'Perfusion_Weighted'\n",
      " 'tgse_pcasl_PLD2000_phase_A-P' 'HighResHippocampus_Phase_R-L'\n",
      " 'tgse_pcasl_PLD2000' 'Axial_DTI' 'ORIG_HighResHippo'\n",
      " 'Axial_2D_PASL_0_angle_L' 'Accelerated_Sagittal_MPRAGE_Phase_A-P' 'T2_AX'\n",
      " 'relCBF' 'MoCoSeries' 'HighResHippocampus_REPEAT' 'sPWI'\n",
      " 'Axial_3D_pCASL_Eyes_Open'\n",
      " 'Axial_3D_PASL__Eyes_Open_____straight_no_angle' 'Axial_MB_DTI'\n",
      " 'Axial_MB_DTI_phase_noFatSatA' 'Accelerated_Sagittal_MPRAGE_MPR_Tra'\n",
      " 'Accelerated_Sagittal_MPRAGE_MPR_Cor' 'Accelerated_Sagittal_MPRAGE'\n",
      " 'sPerfusionWeighted' 'COR_HighResHippo' 'Accelerated_Sagittal_MPRAGE_ND'\n",
      " 'HighResHippocampus_repeat' 'SOURCE_-_Axial_2D_PASL'\n",
      " 'HighResHippo_Scan_REPEAT' 'WIP_SOURCE_-_Axial_2D_PASL'\n",
      " 'HighResHippocampus_Phase_R-L_rpt' 'Obl_HighResHippo'\n",
      " 'Axial_3D_PASL__Eyes_Open__REPEAT' 'Axial_3D_pCASL'\n",
      " 'HighResHippo_Scan__Oblique_hippocampal__RPT' 'Axial_2D_PASL_RPT'\n",
      " 'Axial_DTI_TRACEW' 'Axial_DTI_ADC' 'Axial_DTI_FA' 'ASL_3D_tra_iso'\n",
      " 'ADNI3_HighResHippocampus' 'ADNI3_Advanced_3D_PASL'\n",
      " 'HighResHippo_Scan__Oblique_-_perpendicular_to_hippocampal_tai'\n",
      " 'HighResHippocampus_REPEAT_2' 'Sagittal_3D_FLAIR_phase_A-P'\n",
      " 'HighResHippocampus_RPT' 'HighResHippo_COR' 'FLAIR_AX' 'Axial_T2-FLAIR'\n",
      " 'Axial_T2_TSE_with_Fat_Sat'\n",
      " 'HighResHippo_Scan__Oblique_-_perpendicular_to_hippocampal_Repe'\n",
      " 'REPEAT_HighResHippocampus' 'HighResHippocampus_rpt']\n"
     ]
    }
   ],
   "source": [
    "uniqueDesc = CreateLabelsFrame[CreateLabelsFrame['weighting']=='PD']['description'].unique()\n",
    "print(uniqueDesc)"
   ],
   "metadata": {
    "collapsed": false,
    "ExecuteTime": {
     "end_time": "2023-10-18T06:34:41.327218258Z",
     "start_time": "2023-10-18T06:34:41.303569872Z"
    }
   },
   "id": "6e08528ee76f4599"
  },
  {
   "cell_type": "code",
   "execution_count": 29,
   "outputs": [],
   "source": [
    "def renameDesc(desc):\n",
    "    desc = desc.lower()\n",
    "    if 'localizer' in desc:\n",
    "        return 'localizer'\n",
    "    if 'phase' in desc:\n",
    "        return 'phase'\n",
    "    if 'field' in desc:\n",
    "        return 'fieldmap'\n",
    "    if 'rage' in desc or 'fspgr' in desc:\n",
    "        return 'T1w'\n",
    "    if 'cal' in desc:\n",
    "        return 'calibration'\n",
    "    if 'scout' in desc:\n",
    "        return 'scout'\n",
    "    if 'flair' in desc:\n",
    "        return 'T2-FLAIR'\n",
    "    if 'star' in desc:\n",
    "        return 'T2star'\n",
    "    if 'swi' in desc:\n",
    "        return 'swi'\n",
    "    if 'hippo' in desc:\n",
    "        return 'hippo'\n",
    "    if 'perf' in desc or 'pwi' in desc:\n",
    "        return 'pwi'\n",
    "    if 'asl' in desc:\n",
    "        return 'asl'\n",
    "    if 'dti' in desc:\n",
    "        return 'dti'\n",
    "    if 'cerebral_blood_flow' in desc or 'cbf' in desc:\n",
    "        return 'cbf'\n",
    "    if 't2' in desc:\n",
    "        return 'T2w'\n",
    "    if 'moco' in desc:\n",
    "        return 'moco'\n",
    "    if 'format' in desc:\n",
    "        return 'mpr'\n",
    "    if 'coronal' in desc:\n",
    "        return 'T1w'\n"
   ],
   "metadata": {
    "collapsed": false,
    "ExecuteTime": {
     "end_time": "2023-10-18T06:34:41.334638107Z",
     "start_time": "2023-10-18T06:34:41.304037228Z"
    }
   },
   "id": "ce94c844218905d6"
  },
  {
   "cell_type": "code",
   "execution_count": 30,
   "outputs": [],
   "source": [
    "CreateLabelsFrame['description'] = CreateLabelsFrame['origDesc'].apply(renameDesc)"
   ],
   "metadata": {
    "collapsed": false,
    "ExecuteTime": {
     "end_time": "2023-10-18T06:34:41.447953098Z",
     "start_time": "2023-10-18T06:34:41.351791037Z"
    }
   },
   "id": "60c239881b04fc09"
  },
  {
   "cell_type": "code",
   "execution_count": 31,
   "outputs": [
    {
     "data": {
      "text/plain": "Empty DataFrame\nColumns: [ID, label, extra, description, weighting, origDesc]\nIndex: []",
      "text/html": "<div>\n<style scoped>\n    .dataframe tbody tr th:only-of-type {\n        vertical-align: middle;\n    }\n\n    .dataframe tbody tr th {\n        vertical-align: top;\n    }\n\n    .dataframe thead th {\n        text-align: right;\n    }\n</style>\n<table border=\"1\" class=\"dataframe\">\n  <thead>\n    <tr style=\"text-align: right;\">\n      <th></th>\n      <th>ID</th>\n      <th>label</th>\n      <th>extra</th>\n      <th>description</th>\n      <th>weighting</th>\n      <th>origDesc</th>\n    </tr>\n  </thead>\n  <tbody>\n  </tbody>\n</table>\n</div>"
     },
     "execution_count": 31,
     "metadata": {},
     "output_type": "execute_result"
    }
   ],
   "source": [
    "CreateLabelsFrame[CreateLabelsFrame['description'].isna()]"
   ],
   "metadata": {
    "collapsed": false,
    "ExecuteTime": {
     "end_time": "2023-10-18T06:34:41.471928224Z",
     "start_time": "2023-10-18T06:34:41.460967992Z"
    }
   },
   "id": "7b9399f9f6fadbfe"
  },
  {
   "cell_type": "code",
   "execution_count": 32,
   "outputs": [],
   "source": [
    "labeldict = {\"T1\":0,\"T1_c\":1,\"T2\":2,\"T2-FLAIR\":3,\"FS\":4,\"PD\":5,\n",
    "             \"SWI\":6, \"GRE\":7, \"T2*\":8, \"DWI\":9, \"ADC\":10, \"BOLD\":11,\n",
    "             \"FlowSensitve\":12,\"PWI\":13,\"ASL\":14,\"Hippo\":15,\n",
    "             \"DTI\":16,\"Other\":17}\n",
    "def assignLabel(dataframe):\n",
    "    description = dataframe['description']\n",
    "    try:\n",
    "        weight = dataframe['weighting']\n",
    "    except:\n",
    "        weight = None\n",
    "    otherCategories = ['fieldmap','scout','calibration','phase','localizer','nan','NotMri','pet','CT','e2','minIP','moco','mpr'] #moco is a motion corrected series\n",
    "    if description in otherCategories:\n",
    "        return 17\n",
    "    if description =='T1w':\n",
    "        return 0\n",
    "    if description =='T1c':\n",
    "        return 1\n",
    "    if weight:\n",
    "        if description =='T2w':\n",
    "            if weight=='T2':\n",
    "                return 2\n",
    "            if weight=='PD':\n",
    "                return 5\n",
    "    if description == 'T2w':\n",
    "        return 2\n",
    "    if 'FLAIR' in description:\n",
    "        return 3\n",
    "    if description =='FS':\n",
    "        return 4\n",
    "    if description =='pd':\n",
    "        return 5\n",
    "    if description =='swi':\n",
    "        return 6\n",
    "    if description.lower() =='gre':\n",
    "        return 7\n",
    "    if description =='T2star':\n",
    "        return 8\n",
    "    if description =='dwi':\n",
    "        return 9\n",
    "    if description =='adc':\n",
    "        return 10\n",
    "    if description =='bold':\n",
    "        return 11\n",
    "    if description =='angio': #flowsensitive\n",
    "        return 12\n",
    "    if description =='pwi' or description=='cbf':\n",
    "        return 13\n",
    "    if 'asl' in description:\n",
    "        return 14\n",
    "    if description == 'hippo':\n",
    "        return 15\n",
    "    if description == 'dti':\n",
    "        return 16\n",
    "    return -1"
   ],
   "metadata": {
    "collapsed": false,
    "ExecuteTime": {
     "end_time": "2023-10-18T06:34:41.519511163Z",
     "start_time": "2023-10-18T06:34:41.467270741Z"
    }
   },
   "id": "c4e93d130d0d3089"
  },
  {
   "cell_type": "code",
   "execution_count": 33,
   "outputs": [],
   "source": [
    "CreateLabelsFrame['label'] = CreateLabelsFrame.apply(assignLabel,axis=1)"
   ],
   "metadata": {
    "collapsed": false,
    "ExecuteTime": {
     "end_time": "2023-10-18T06:34:44.265553166Z",
     "start_time": "2023-10-18T06:34:41.489847075Z"
    }
   },
   "id": "e6b50aad44ff4178"
  },
  {
   "cell_type": "code",
   "execution_count": 34,
   "outputs": [
    {
     "data": {
      "text/plain": "Empty DataFrame\nColumns: [ID, label, extra, description, weighting, origDesc]\nIndex: []",
      "text/html": "<div>\n<style scoped>\n    .dataframe tbody tr th:only-of-type {\n        vertical-align: middle;\n    }\n\n    .dataframe tbody tr th {\n        vertical-align: top;\n    }\n\n    .dataframe thead th {\n        text-align: right;\n    }\n</style>\n<table border=\"1\" class=\"dataframe\">\n  <thead>\n    <tr style=\"text-align: right;\">\n      <th></th>\n      <th>ID</th>\n      <th>label</th>\n      <th>extra</th>\n      <th>description</th>\n      <th>weighting</th>\n      <th>origDesc</th>\n    </tr>\n  </thead>\n  <tbody>\n  </tbody>\n</table>\n</div>"
     },
     "execution_count": 34,
     "metadata": {},
     "output_type": "execute_result"
    }
   ],
   "source": [
    "CreateLabelsFrame[CreateLabelsFrame['label']==-1]"
   ],
   "metadata": {
    "collapsed": false,
    "ExecuteTime": {
     "end_time": "2023-10-18T06:34:44.273558083Z",
     "start_time": "2023-10-18T06:34:44.266479442Z"
    }
   },
   "id": "4abbbc06b2d4834b"
  },
  {
   "cell_type": "code",
   "execution_count": 35,
   "outputs": [],
   "source": [
    "CreateLabelsFrame = CreateLabelsFrame[CreateLabelsFrame['label']!=-1]"
   ],
   "metadata": {
    "collapsed": false,
    "ExecuteTime": {
     "end_time": "2023-10-18T06:34:44.352156814Z",
     "start_time": "2023-10-18T06:34:44.273314713Z"
    }
   },
   "id": "24ddee2eb34757d8"
  },
  {
   "cell_type": "code",
   "execution_count": 36,
   "outputs": [],
   "source": [
    "CreateLabelsFrame[['ID','label','extra']].to_csv(outname,index=False, sep='\\t', header=False)"
   ],
   "metadata": {
    "collapsed": false,
    "ExecuteTime": {
     "end_time": "2023-10-18T06:34:45.999628583Z",
     "start_time": "2023-10-18T06:34:44.352436292Z"
    }
   },
   "id": "43999e3c34f053c0"
  },
  {
   "cell_type": "code",
   "execution_count": 37,
   "outputs": [
    {
     "data": {
      "text/plain": "label\n17    130925\n8      90125\n0      52200\n15     45550\n3      44925\n13     21850\n14      8200\n16      1850\n6        350\n5         50\nName: count, dtype: int64"
     },
     "execution_count": 37,
     "metadata": {},
     "output_type": "execute_result"
    }
   ],
   "source": [
    "CreateLabelsFrame['label'].value_counts()"
   ],
   "metadata": {
    "collapsed": false,
    "ExecuteTime": {
     "end_time": "2023-10-18T06:34:46.010320373Z",
     "start_time": "2023-10-18T06:34:45.999508500Z"
    }
   },
   "id": "89044c0ae7b840bb"
  },
  {
   "cell_type": "code",
   "execution_count": 37,
   "outputs": [],
   "source": [],
   "metadata": {
    "collapsed": false,
    "ExecuteTime": {
     "end_time": "2023-10-18T06:34:46.010767783Z",
     "start_time": "2023-10-18T06:34:46.003447042Z"
    }
   },
   "id": "ce1509ae5c9f1cb9"
  }
 ],
 "metadata": {
  "kernelspec": {
   "display_name": "Python 3",
   "language": "python",
   "name": "python3"
  },
  "language_info": {
   "codemirror_mode": {
    "name": "ipython",
    "version": 2
   },
   "file_extension": ".py",
   "mimetype": "text/x-python",
   "name": "python",
   "nbconvert_exporter": "python",
   "pygments_lexer": "ipython2",
   "version": "2.7.6"
  }
 },
 "nbformat": 4,
 "nbformat_minor": 5
}
