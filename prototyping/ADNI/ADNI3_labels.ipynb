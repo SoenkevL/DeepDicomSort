{
 "cells": [
  {
   "cell_type": "code",
   "execution_count": 21,
   "outputs": [],
   "source": [
    "import pandas as pd"
   ],
   "metadata": {
    "collapsed": false,
    "ExecuteTime": {
     "end_time": "2023-11-16T15:03:00.170086359Z",
     "start_time": "2023-11-16T15:03:00.023677397Z"
    }
   },
   "id": "38bbf0a0a41cdf1c"
  },
  {
   "cell_type": "code",
   "execution_count": 22,
   "outputs": [],
   "source": [
    "# inname1 = 'LabelsWithExtraInfo_adni3_train.csv'\n",
    "# inname2 = 'LabelsWithExtraInfo_adni3_test.csv'\n",
    "# outname = 'Adni3_trainLabels_extensive2.txt'\n",
    "# CreateLabelsFrame1 = pd.read_csv(inname1)\n",
    "# CreateLabelsFrame1 = CreateLabelsFrame1.drop(['dicomPath','info','xmlName'],axis=1)\n",
    "# CreateLabelsFrame2 = pd.read_csv(inname2)\n",
    "# CreateLabelsFrame2 = CreateLabelsFrame2.drop(['dicomPath','info','xmlName'],axis=1)\n",
    "# CreateLabelsFrame = pd.concat([CreateLabelsFrame1, CreateLabelsFrame2], axis=0)"
   ],
   "metadata": {
    "collapsed": false,
    "ExecuteTime": {
     "end_time": "2023-11-16T15:03:00.194489246Z",
     "start_time": "2023-11-16T15:03:00.067121148Z"
    }
   },
   "id": "c687290e4f2a91c4"
  },
  {
   "cell_type": "code",
   "execution_count": 23,
   "outputs": [],
   "source": [
    "inname = 'LabelsWithExtraInfo_adni2_test.csv'\n",
    "outname = 'Adni2_testLabels_extensive3.txt'\n",
    "CreateLabelsFrame = pd.read_csv(inname)\n",
    "CreateLabelsFrame = CreateLabelsFrame.drop(['dicomPath','info','xmlName'],axis=1)"
   ],
   "metadata": {
    "collapsed": false,
    "ExecuteTime": {
     "end_time": "2023-11-16T15:03:00.194626592Z",
     "start_time": "2023-11-16T15:03:00.067225305Z"
    }
   },
   "id": "c92066dba2035879"
  },
  {
   "cell_type": "code",
   "execution_count": 24,
   "outputs": [
    {
     "data": {
      "text/plain": "                                                  ID  label  extra  \\\n0  /trinity/home/r098375/DDS/data/ADNI/ADNI2/test...      0      0   \n1  /trinity/home/r098375/DDS/data/ADNI/ADNI2/test...      0      0   \n2  /trinity/home/r098375/DDS/data/ADNI/ADNI2/test...      0      0   \n3  /trinity/home/r098375/DDS/data/ADNI/ADNI2/test...      0      0   \n4  /trinity/home/r098375/DDS/data/ADNI/ADNI2/test...      0      0   \n\n       description weighting  \n0  Axial_PD_T2_FSE        PD  \n1  Axial_PD_T2_FSE        PD  \n2  Axial_PD_T2_FSE        PD  \n3  Axial_PD_T2_FSE        PD  \n4  Axial_PD_T2_FSE        PD  ",
      "text/html": "<div>\n<style scoped>\n    .dataframe tbody tr th:only-of-type {\n        vertical-align: middle;\n    }\n\n    .dataframe tbody tr th {\n        vertical-align: top;\n    }\n\n    .dataframe thead th {\n        text-align: right;\n    }\n</style>\n<table border=\"1\" class=\"dataframe\">\n  <thead>\n    <tr style=\"text-align: right;\">\n      <th></th>\n      <th>ID</th>\n      <th>label</th>\n      <th>extra</th>\n      <th>description</th>\n      <th>weighting</th>\n    </tr>\n  </thead>\n  <tbody>\n    <tr>\n      <th>0</th>\n      <td>/trinity/home/r098375/DDS/data/ADNI/ADNI2/test...</td>\n      <td>0</td>\n      <td>0</td>\n      <td>Axial_PD_T2_FSE</td>\n      <td>PD</td>\n    </tr>\n    <tr>\n      <th>1</th>\n      <td>/trinity/home/r098375/DDS/data/ADNI/ADNI2/test...</td>\n      <td>0</td>\n      <td>0</td>\n      <td>Axial_PD_T2_FSE</td>\n      <td>PD</td>\n    </tr>\n    <tr>\n      <th>2</th>\n      <td>/trinity/home/r098375/DDS/data/ADNI/ADNI2/test...</td>\n      <td>0</td>\n      <td>0</td>\n      <td>Axial_PD_T2_FSE</td>\n      <td>PD</td>\n    </tr>\n    <tr>\n      <th>3</th>\n      <td>/trinity/home/r098375/DDS/data/ADNI/ADNI2/test...</td>\n      <td>0</td>\n      <td>0</td>\n      <td>Axial_PD_T2_FSE</td>\n      <td>PD</td>\n    </tr>\n    <tr>\n      <th>4</th>\n      <td>/trinity/home/r098375/DDS/data/ADNI/ADNI2/test...</td>\n      <td>0</td>\n      <td>0</td>\n      <td>Axial_PD_T2_FSE</td>\n      <td>PD</td>\n    </tr>\n  </tbody>\n</table>\n</div>"
     },
     "execution_count": 24,
     "metadata": {},
     "output_type": "execute_result"
    }
   ],
   "source": [
    "CreateLabelsFrame.head()"
   ],
   "metadata": {
    "collapsed": false,
    "ExecuteTime": {
     "end_time": "2023-11-16T15:03:00.194958951Z",
     "start_time": "2023-11-16T15:03:00.067286381Z"
    }
   },
   "id": "9d44b0c4d78fac45"
  },
  {
   "cell_type": "code",
   "execution_count": 25,
   "outputs": [],
   "source": [
    "CreateLabelsFrame['origDesc'] = CreateLabelsFrame['description']"
   ],
   "metadata": {
    "collapsed": false,
    "ExecuteTime": {
     "end_time": "2023-11-16T15:03:00.195023993Z",
     "start_time": "2023-11-16T15:03:00.067361346Z"
    }
   },
   "id": "272e8ff92fa0f4d1"
  },
  {
   "cell_type": "code",
   "execution_count": 26,
   "outputs": [],
   "source": [
    "CreateLabelsFrame = CreateLabelsFrame.dropna()"
   ],
   "metadata": {
    "collapsed": false,
    "ExecuteTime": {
     "end_time": "2023-11-16T15:03:00.195073534Z",
     "start_time": "2023-11-16T15:03:00.067394659Z"
    }
   },
   "id": "e9e92367eb36b98d"
  },
  {
   "cell_type": "code",
   "execution_count": 27,
   "outputs": [
    {
     "name": "stdout",
     "output_type": "stream",
     "text": [
      "['Axial_PD_T2_FSE']\n"
     ]
    }
   ],
   "source": [
    "uniqueDesc = CreateLabelsFrame[CreateLabelsFrame['weighting']=='PD']['description'].unique()\n",
    "print(uniqueDesc)"
   ],
   "metadata": {
    "collapsed": false,
    "ExecuteTime": {
     "end_time": "2023-11-16T15:03:00.195177424Z",
     "start_time": "2023-11-16T15:03:00.067441649Z"
    }
   },
   "id": "6e08528ee76f4599"
  },
  {
   "cell_type": "code",
   "execution_count": 28,
   "outputs": [],
   "source": [
    "def renameDesc(desc):\n",
    "    desc = desc.lower()\n",
    "    if 'cwk' in desc or 'lwk' in desc or 'twk' in desc:\n",
    "        return 'spinal'\n",
    "    if 'localizer' in desc:\n",
    "        return 'localizer'\n",
    "    if 'phase' in desc:\n",
    "        return 'phase'\n",
    "    if 'field' in desc:\n",
    "        return 'fieldmap'\n",
    "    if 'rage' in desc or 'fspgr' in desc:\n",
    "        return 'T1w'\n",
    "    if 'cal' in desc:\n",
    "        return 'calibration'\n",
    "    if 'scout' in desc:\n",
    "        return 'scout'\n",
    "    if 'flair' in desc:\n",
    "        return 'T2-FLAIR'\n",
    "    if 'star' in desc:\n",
    "        return 'T2star'\n",
    "    if 'swi' in desc:\n",
    "        return 'swi'\n",
    "    if 'hippo' in desc:\n",
    "        return 'hippo'\n",
    "    if 'perf' in desc or 'pwi' in desc:\n",
    "        return 'pwi'\n",
    "    if 'asl' in desc:\n",
    "        return 'asl'\n",
    "    if 'dti' in desc:\n",
    "        return 'dti'\n",
    "    if 'cerebral_blood_flow' in desc or 'cbf' in desc:\n",
    "        return 'cbf'\n",
    "    if 't2' in desc:\n",
    "        return 'T2w'\n",
    "    if 'moco' in desc:\n",
    "        return 'moco'\n",
    "    if 'format' in desc:\n",
    "        return 'mpr'\n",
    "    if 'coronal' in desc:\n",
    "        return 'T1w'\n"
   ],
   "metadata": {
    "collapsed": false,
    "ExecuteTime": {
     "end_time": "2023-11-16T15:03:00.195228867Z",
     "start_time": "2023-11-16T15:03:00.076104847Z"
    }
   },
   "id": "ce94c844218905d6"
  },
  {
   "cell_type": "code",
   "execution_count": 29,
   "outputs": [],
   "source": [
    "CreateLabelsFrame['description'] = CreateLabelsFrame['origDesc'].apply(renameDesc)"
   ],
   "metadata": {
    "collapsed": false,
    "ExecuteTime": {
     "end_time": "2023-11-16T15:03:00.195288256Z",
     "start_time": "2023-11-16T15:03:00.079105214Z"
    }
   },
   "id": "60c239881b04fc09"
  },
  {
   "cell_type": "code",
   "execution_count": 30,
   "outputs": [
    {
     "data": {
      "text/plain": "Empty DataFrame\nColumns: [ID, label, extra, description, weighting, origDesc]\nIndex: []",
      "text/html": "<div>\n<style scoped>\n    .dataframe tbody tr th:only-of-type {\n        vertical-align: middle;\n    }\n\n    .dataframe tbody tr th {\n        vertical-align: top;\n    }\n\n    .dataframe thead th {\n        text-align: right;\n    }\n</style>\n<table border=\"1\" class=\"dataframe\">\n  <thead>\n    <tr style=\"text-align: right;\">\n      <th></th>\n      <th>ID</th>\n      <th>label</th>\n      <th>extra</th>\n      <th>description</th>\n      <th>weighting</th>\n      <th>origDesc</th>\n    </tr>\n  </thead>\n  <tbody>\n  </tbody>\n</table>\n</div>"
     },
     "execution_count": 30,
     "metadata": {},
     "output_type": "execute_result"
    }
   ],
   "source": [
    "CreateLabelsFrame[CreateLabelsFrame['description'].isna()]"
   ],
   "metadata": {
    "collapsed": false,
    "ExecuteTime": {
     "end_time": "2023-11-16T15:03:00.195464535Z",
     "start_time": "2023-11-16T15:03:00.123150130Z"
    }
   },
   "id": "7b9399f9f6fadbfe"
  },
  {
   "cell_type": "code",
   "execution_count": 31,
   "outputs": [
    {
     "data": {
      "text/plain": "array([], dtype=object)"
     },
     "execution_count": 31,
     "metadata": {},
     "output_type": "execute_result"
    }
   ],
   "source": [
    "CreateLabelsFrame[CreateLabelsFrame['description']=='T2star']['origDesc'].unique()"
   ],
   "metadata": {
    "collapsed": false,
    "ExecuteTime": {
     "end_time": "2023-11-16T15:03:00.195590948Z",
     "start_time": "2023-11-16T15:03:00.123245001Z"
    }
   },
   "id": "fc4bf5b9703f037a"
  },
  {
   "cell_type": "code",
   "execution_count": 32,
   "outputs": [
    {
     "data": {
      "text/plain": "Empty DataFrame\nColumns: [ID, label, extra, description, weighting, origDesc]\nIndex: []",
      "text/html": "<div>\n<style scoped>\n    .dataframe tbody tr th:only-of-type {\n        vertical-align: middle;\n    }\n\n    .dataframe tbody tr th {\n        vertical-align: top;\n    }\n\n    .dataframe thead th {\n        text-align: right;\n    }\n</style>\n<table border=\"1\" class=\"dataframe\">\n  <thead>\n    <tr style=\"text-align: right;\">\n      <th></th>\n      <th>ID</th>\n      <th>label</th>\n      <th>extra</th>\n      <th>description</th>\n      <th>weighting</th>\n      <th>origDesc</th>\n    </tr>\n  </thead>\n  <tbody>\n  </tbody>\n</table>\n</div>"
     },
     "execution_count": 32,
     "metadata": {},
     "output_type": "execute_result"
    }
   ],
   "source": [
    "CreateLabelsFrame[CreateLabelsFrame['origDesc']=='s_Axial_3TE_T2_STAR_Cumulated']"
   ],
   "metadata": {
    "collapsed": false,
    "ExecuteTime": {
     "end_time": "2023-11-16T15:03:00.195766305Z",
     "start_time": "2023-11-16T15:03:00.123299312Z"
    }
   },
   "id": "9fbc853c69ad71b3"
  },
  {
   "cell_type": "code",
   "execution_count": 33,
   "outputs": [],
   "source": [
    "labeldict = {\"T1\":0,\"T1_c\":1,\"T2\":2,\"T2-FLAIR\":3,\"PD\":4,\n",
    "             \"SWI\":5, \"GRE\":6, \"T2*\":7, \"DWI\":8, \"ADC\":9, \"BOLD\":10,\n",
    "             \"FlowSensitve\":11,\"PWI\":12,\"ASL\":13,\n",
    "             \"DTI\":14,\"Other\":15}\n",
    "def assignLabel(dataframe):\n",
    "    description = dataframe['description']\n",
    "    try:\n",
    "        weight = dataframe['weighting']\n",
    "    except:\n",
    "        weight = None\n",
    "    dropLabels = ['moco','mpr','hippo','spinal','unknown']\n",
    "    otherCategories = ['fieldmap','scout','calibration','phase','localizer','nan','NotMri','pet','CT','e2','minIP','moco','other','survey', 'qflow','smartbrain'] #moco is a motion corrected series\n",
    "    if description in dropLabels:\n",
    "        return -1\n",
    "    if description in otherCategories:\n",
    "        return 15\n",
    "    if description =='T1w':\n",
    "        return 0\n",
    "    if description =='T1c':\n",
    "        return 1\n",
    "    if weight:\n",
    "        if description =='T2w':\n",
    "            if weight=='T2':\n",
    "                return 2\n",
    "            if weight=='PD':\n",
    "                return 4\n",
    "    if description == 'T2w':\n",
    "        return 2\n",
    "    if 'FLAIR' in description:\n",
    "        return 3\n",
    "    if description =='pd':\n",
    "        return 4\n",
    "    if description =='swi':\n",
    "        return 5\n",
    "    if description.lower() =='gre':\n",
    "        return 6\n",
    "    if description =='T2star':\n",
    "        return 7\n",
    "    if description =='dwi':\n",
    "        return 8\n",
    "    if description =='adc':\n",
    "        return 9\n",
    "    if description =='bold':\n",
    "        return 10\n",
    "    if description =='angio': #flowsensitive\n",
    "        return 11\n",
    "    if description =='pwi' or description=='cbf':\n",
    "        return 12\n",
    "    if 'asl' in description:\n",
    "        return 13\n",
    "    if description == 'dti':\n",
    "        return 14\n",
    "    return -1"
   ],
   "metadata": {
    "collapsed": false,
    "ExecuteTime": {
     "end_time": "2023-11-16T15:03:00.195826143Z",
     "start_time": "2023-11-16T15:03:00.123355274Z"
    }
   },
   "id": "c4e93d130d0d3089"
  },
  {
   "cell_type": "code",
   "execution_count": 34,
   "outputs": [],
   "source": [
    "CreateLabelsFrame['label'] = CreateLabelsFrame.apply(assignLabel,axis=1)"
   ],
   "metadata": {
    "collapsed": false,
    "ExecuteTime": {
     "end_time": "2023-11-16T15:03:00.196595856Z",
     "start_time": "2023-11-16T15:03:00.123441678Z"
    }
   },
   "id": "e6b50aad44ff4178"
  },
  {
   "cell_type": "code",
   "execution_count": 35,
   "outputs": [
    {
     "data": {
      "text/plain": "Empty DataFrame\nColumns: [ID, label, extra, description, weighting, origDesc]\nIndex: []",
      "text/html": "<div>\n<style scoped>\n    .dataframe tbody tr th:only-of-type {\n        vertical-align: middle;\n    }\n\n    .dataframe tbody tr th {\n        vertical-align: top;\n    }\n\n    .dataframe thead th {\n        text-align: right;\n    }\n</style>\n<table border=\"1\" class=\"dataframe\">\n  <thead>\n    <tr style=\"text-align: right;\">\n      <th></th>\n      <th>ID</th>\n      <th>label</th>\n      <th>extra</th>\n      <th>description</th>\n      <th>weighting</th>\n      <th>origDesc</th>\n    </tr>\n  </thead>\n  <tbody>\n  </tbody>\n</table>\n</div>"
     },
     "execution_count": 35,
     "metadata": {},
     "output_type": "execute_result"
    }
   ],
   "source": [
    "CreateLabelsFrame[CreateLabelsFrame['label']==-1]"
   ],
   "metadata": {
    "collapsed": false,
    "ExecuteTime": {
     "end_time": "2023-11-16T15:03:00.196873095Z",
     "start_time": "2023-11-16T15:03:00.171119170Z"
    }
   },
   "id": "4abbbc06b2d4834b"
  },
  {
   "cell_type": "code",
   "execution_count": 36,
   "outputs": [],
   "source": [
    "CreateLabelsFrame = CreateLabelsFrame[CreateLabelsFrame['label']!=-1]"
   ],
   "metadata": {
    "collapsed": false,
    "ExecuteTime": {
     "end_time": "2023-11-16T15:03:00.196937136Z",
     "start_time": "2023-11-16T15:03:00.171212238Z"
    }
   },
   "id": "24ddee2eb34757d8"
  },
  {
   "cell_type": "code",
   "execution_count": 37,
   "outputs": [],
   "source": [
    "def CreateIndivudalToUnifiedNameDocument(df, outfile):\n",
    "    with open(outfile, 'w') as f:\n",
    "        names = df['description'].unique()\n",
    "        for name in names:\n",
    "            nameMatching = df[df['description']==name]['origDesc'].unique()\n",
    "            nameMatching = pd.Series(nameMatching).to_string()\n",
    "            f.write(f'{name}:\\n{nameMatching}\\n\\n{\"-\"*25}\\n')"
   ],
   "metadata": {
    "collapsed": false,
    "ExecuteTime": {
     "end_time": "2023-11-16T15:03:00.197138725Z",
     "start_time": "2023-11-16T15:03:00.171263697Z"
    }
   },
   "id": "c5eaee512d59711c"
  },
  {
   "cell_type": "code",
   "execution_count": 38,
   "outputs": [],
   "source": [
    "outfile = 'ADNI3_NameMatching.txt'\n",
    "CreateIndivudalToUnifiedNameDocument(CreateLabelsFrame, outfile)"
   ],
   "metadata": {
    "collapsed": false,
    "ExecuteTime": {
     "end_time": "2023-11-16T15:03:00.197191925Z",
     "start_time": "2023-11-16T15:03:00.171311201Z"
    }
   },
   "id": "16e79e4c750f52c5"
  },
  {
   "cell_type": "code",
   "execution_count": 39,
   "outputs": [],
   "source": [
    "CreateLabelsFrame[['ID','label','extra']].to_csv(outname,index=False, sep='\\t', header=False)"
   ],
   "metadata": {
    "collapsed": false,
    "ExecuteTime": {
     "end_time": "2023-11-16T15:03:00.197239077Z",
     "start_time": "2023-11-16T15:03:00.171356926Z"
    }
   },
   "id": "43999e3c34f053c0"
  },
  {
   "cell_type": "code",
   "execution_count": 40,
   "outputs": [
    {
     "data": {
      "text/plain": "label\n4    700\n2    700\nName: count, dtype: int64"
     },
     "execution_count": 40,
     "metadata": {},
     "output_type": "execute_result"
    }
   ],
   "source": [
    "CreateLabelsFrame['label'].value_counts()"
   ],
   "metadata": {
    "collapsed": false,
    "ExecuteTime": {
     "end_time": "2023-11-16T15:03:00.197358652Z",
     "start_time": "2023-11-16T15:03:00.171424220Z"
    }
   },
   "id": "89044c0ae7b840bb"
  },
  {
   "cell_type": "code",
   "execution_count": 40,
   "outputs": [],
   "source": [],
   "metadata": {
    "collapsed": false,
    "ExecuteTime": {
     "end_time": "2023-11-16T15:03:00.245774138Z",
     "start_time": "2023-11-16T15:03:00.215043243Z"
    }
   },
   "id": "ce1509ae5c9f1cb9"
  }
 ],
 "metadata": {
  "kernelspec": {
   "display_name": "Python 3",
   "language": "python",
   "name": "python3"
  },
  "language_info": {
   "codemirror_mode": {
    "name": "ipython",
    "version": 2
   },
   "file_extension": ".py",
   "mimetype": "text/x-python",
   "name": "python",
   "nbconvert_exporter": "python",
   "pygments_lexer": "ipython2",
   "version": "2.7.6"
  }
 },
 "nbformat": 4,
 "nbformat_minor": 5
}
