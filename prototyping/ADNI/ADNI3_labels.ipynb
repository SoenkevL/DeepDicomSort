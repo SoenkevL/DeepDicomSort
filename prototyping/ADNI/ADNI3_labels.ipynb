{
 "cells": [
  {
   "cell_type": "code",
   "execution_count": 102,
   "outputs": [],
   "source": [
    "import pandas as pd"
   ],
   "metadata": {
    "collapsed": false,
    "ExecuteTime": {
     "end_time": "2023-11-15T15:27:36.930392641Z",
     "start_time": "2023-11-15T15:27:36.710862611Z"
    }
   },
   "id": "38bbf0a0a41cdf1c"
  },
  {
   "cell_type": "code",
   "execution_count": 103,
   "outputs": [],
   "source": [
    "# inname1 = 'LabelsWithExtraInfo_adni3_train.csv'\n",
    "# inname2 = 'LabelsWithExtraInfo_adni3_test.csv'\n",
    "# outname = 'Adni3_trainLabels_extensive2.txt'\n",
    "# CreateLabelsFrame1 = pd.read_csv(inname1)\n",
    "# CreateLabelsFrame1 = CreateLabelsFrame1.drop(['dicomPath','info','xmlName'],axis=1)\n",
    "# CreateLabelsFrame2 = pd.read_csv(inname2)\n",
    "# CreateLabelsFrame2 = CreateLabelsFrame2.drop(['dicomPath','info','xmlName'],axis=1)\n",
    "# CreateLabelsFrame = pd.concat([CreateLabelsFrame1, CreateLabelsFrame2], axis=0)"
   ],
   "metadata": {
    "collapsed": false,
    "ExecuteTime": {
     "end_time": "2023-11-15T15:27:36.932046889Z",
     "start_time": "2023-11-15T15:27:36.799724480Z"
    }
   },
   "id": "c687290e4f2a91c4"
  },
  {
   "cell_type": "code",
   "execution_count": 104,
   "outputs": [],
   "source": [
    "inname = 'LabelsWithExtraInfo_adni3_train.csv'\n",
    "outname = 'Adni3_trainLabels_extensive3.txt'\n",
    "CreateLabelsFrame = pd.read_csv(inname)\n",
    "CreateLabelsFrame = CreateLabelsFrame.drop(['dicomPath','info','xmlName'],axis=1)"
   ],
   "metadata": {
    "collapsed": false,
    "ExecuteTime": {
     "end_time": "2023-11-15T15:27:38.735666229Z",
     "start_time": "2023-11-15T15:27:36.799855587Z"
    }
   },
   "id": "c92066dba2035879"
  },
  {
   "cell_type": "code",
   "execution_count": 105,
   "outputs": [
    {
     "data": {
      "text/plain": "                                                  ID  label  extra  \\\n0  /trinity/home/r098375/DDS/data/ADNI/ADNI3/trai...      0      0   \n1  /trinity/home/r098375/DDS/data/ADNI/ADNI3/trai...      0      0   \n2  /trinity/home/r098375/DDS/data/ADNI/ADNI3/trai...      0      0   \n3  /trinity/home/r098375/DDS/data/ADNI/ADNI3/trai...      0      0   \n4  /trinity/home/r098375/DDS/data/ADNI/ADNI3/trai...      0      0   \n\n                                         description weighting  \n0                                  Sagittal_3D_FLAIR        T2  \n1                                  Sagittal_3D_FLAIR        T2  \n2                                      Axial_T2_Star        T2  \n3  HighResHippo_Scan__Oblique_-_perpendicular_to_...        PD  \n4                     Sagittal_3D_Accelerated_MPRAGE        T1  ",
      "text/html": "<div>\n<style scoped>\n    .dataframe tbody tr th:only-of-type {\n        vertical-align: middle;\n    }\n\n    .dataframe tbody tr th {\n        vertical-align: top;\n    }\n\n    .dataframe thead th {\n        text-align: right;\n    }\n</style>\n<table border=\"1\" class=\"dataframe\">\n  <thead>\n    <tr style=\"text-align: right;\">\n      <th></th>\n      <th>ID</th>\n      <th>label</th>\n      <th>extra</th>\n      <th>description</th>\n      <th>weighting</th>\n    </tr>\n  </thead>\n  <tbody>\n    <tr>\n      <th>0</th>\n      <td>/trinity/home/r098375/DDS/data/ADNI/ADNI3/trai...</td>\n      <td>0</td>\n      <td>0</td>\n      <td>Sagittal_3D_FLAIR</td>\n      <td>T2</td>\n    </tr>\n    <tr>\n      <th>1</th>\n      <td>/trinity/home/r098375/DDS/data/ADNI/ADNI3/trai...</td>\n      <td>0</td>\n      <td>0</td>\n      <td>Sagittal_3D_FLAIR</td>\n      <td>T2</td>\n    </tr>\n    <tr>\n      <th>2</th>\n      <td>/trinity/home/r098375/DDS/data/ADNI/ADNI3/trai...</td>\n      <td>0</td>\n      <td>0</td>\n      <td>Axial_T2_Star</td>\n      <td>T2</td>\n    </tr>\n    <tr>\n      <th>3</th>\n      <td>/trinity/home/r098375/DDS/data/ADNI/ADNI3/trai...</td>\n      <td>0</td>\n      <td>0</td>\n      <td>HighResHippo_Scan__Oblique_-_perpendicular_to_...</td>\n      <td>PD</td>\n    </tr>\n    <tr>\n      <th>4</th>\n      <td>/trinity/home/r098375/DDS/data/ADNI/ADNI3/trai...</td>\n      <td>0</td>\n      <td>0</td>\n      <td>Sagittal_3D_Accelerated_MPRAGE</td>\n      <td>T1</td>\n    </tr>\n  </tbody>\n</table>\n</div>"
     },
     "execution_count": 105,
     "metadata": {},
     "output_type": "execute_result"
    }
   ],
   "source": [
    "CreateLabelsFrame.head()"
   ],
   "metadata": {
    "collapsed": false,
    "ExecuteTime": {
     "end_time": "2023-11-15T15:27:38.784363933Z",
     "start_time": "2023-11-15T15:27:38.742299673Z"
    }
   },
   "id": "9d44b0c4d78fac45"
  },
  {
   "cell_type": "code",
   "execution_count": 106,
   "outputs": [],
   "source": [
    "CreateLabelsFrame['origDesc'] = CreateLabelsFrame['description']"
   ],
   "metadata": {
    "collapsed": false,
    "ExecuteTime": {
     "end_time": "2023-11-15T15:27:38.784486954Z",
     "start_time": "2023-11-15T15:27:38.783903337Z"
    }
   },
   "id": "272e8ff92fa0f4d1"
  },
  {
   "cell_type": "code",
   "execution_count": 107,
   "outputs": [],
   "source": [
    "CreateLabelsFrame = CreateLabelsFrame.dropna()"
   ],
   "metadata": {
    "collapsed": false,
    "ExecuteTime": {
     "end_time": "2023-11-15T15:27:38.903403512Z",
     "start_time": "2023-11-15T15:27:38.784027297Z"
    }
   },
   "id": "e9e92367eb36b98d"
  },
  {
   "cell_type": "code",
   "execution_count": 108,
   "outputs": [
    {
     "name": "stdout",
     "output_type": "stream",
     "text": [
      "['HighResHippo_Scan__Oblique_-_perpendicular_to_hippocampal_tail'\n",
      " 'Axial_2D_PASL' 'HighResHippocampus' 'HighResHippo' 'Cerebral_Blood_Flow'\n",
      " 'Axial_2D_PASL_straight_no_ASL' 'Axial_DTI_straight' 'Perfusion_Weighted'\n",
      " 'tgse_pcasl_PLD2000_phase_A-P' 'HighResHippocampus_Phase_R-L'\n",
      " 'tgse_pcasl_PLD2000' 'Axial_DTI' 'ORIG_HighResHippo'\n",
      " 'Axial_2D_PASL_0_angle_L' 'Accelerated_Sagittal_MPRAGE_Phase_A-P' 'T2_AX'\n",
      " 'relCBF' 'MoCoSeries' 'HighResHippocampus_REPEAT' 'sPWI'\n",
      " 'Axial_3D_pCASL_Eyes_Open'\n",
      " 'Axial_3D_PASL__Eyes_Open_____straight_no_angle' 'Axial_MB_DTI'\n",
      " 'Axial_MB_DTI_phase_noFatSatA' 'Accelerated_Sagittal_MPRAGE_MPR_Tra'\n",
      " 'Accelerated_Sagittal_MPRAGE_MPR_Cor' 'Accelerated_Sagittal_MPRAGE'\n",
      " 'sPerfusionWeighted' 'COR_HighResHippo' 'Accelerated_Sagittal_MPRAGE_ND'\n",
      " 'HighResHippocampus_repeat' 'SOURCE_-_Axial_2D_PASL'\n",
      " 'HighResHippo_Scan_REPEAT' 'WIP_SOURCE_-_Axial_2D_PASL'\n",
      " 'HighResHippocampus_Phase_R-L_rpt' 'Obl_HighResHippo'\n",
      " 'Axial_3D_PASL__Eyes_Open__REPEAT' 'Axial_3D_pCASL'\n",
      " 'HighResHippo_Scan__Oblique_hippocampal__RPT' 'Axial_2D_PASL_RPT'\n",
      " 'Axial_DTI_TRACEW' 'Axial_DTI_ADC' 'Axial_DTI_FA' 'ASL_3D_tra_iso'\n",
      " 'ADNI3_HighResHippocampus' 'ADNI3_Advanced_3D_PASL'\n",
      " 'HighResHippo_Scan__Oblique_-_perpendicular_to_hippocampal_tai'\n",
      " 'HighResHippocampus_REPEAT_2' 'Sagittal_3D_FLAIR_phase_A-P'\n",
      " 'HighResHippocampus_RPT' 'HighResHippo_COR' 'FLAIR_AX' 'Axial_T2-FLAIR'\n",
      " 'Axial_T2_TSE_with_Fat_Sat'\n",
      " 'HighResHippo_Scan__Oblique_-_perpendicular_to_hippocampal_Repe'\n",
      " 'REPEAT_HighResHippocampus' 'HighResHippocampus_rpt']\n"
     ]
    }
   ],
   "source": [
    "uniqueDesc = CreateLabelsFrame[CreateLabelsFrame['weighting']=='PD']['description'].unique()\n",
    "print(uniqueDesc)"
   ],
   "metadata": {
    "collapsed": false,
    "ExecuteTime": {
     "end_time": "2023-11-15T15:27:38.938187794Z",
     "start_time": "2023-11-15T15:27:38.886211120Z"
    }
   },
   "id": "6e08528ee76f4599"
  },
  {
   "cell_type": "code",
   "execution_count": 109,
   "outputs": [],
   "source": [
    "def renameDesc(desc):\n",
    "    desc = desc.lower()\n",
    "    if 'cwk' in desc or 'lwk' in desc or 'twk' in desc:\n",
    "        return 'spinal'\n",
    "    if 'localizer' in desc:\n",
    "        return 'localizer'\n",
    "    if 'phase' in desc:\n",
    "        return 'phase'\n",
    "    if 'field' in desc:\n",
    "        return 'fieldmap'\n",
    "    if 'rage' in desc or 'fspgr' in desc:\n",
    "        return 'T1w'\n",
    "    if 'cal' in desc:\n",
    "        return 'calibration'\n",
    "    if 'scout' in desc:\n",
    "        return 'scout'\n",
    "    if 'flair' in desc:\n",
    "        return 'T2-FLAIR'\n",
    "    if 'star' in desc:\n",
    "        return 'T2star'\n",
    "    if 'swi' in desc:\n",
    "        return 'swi'\n",
    "    if 'hippo' in desc:\n",
    "        return 'hippo'\n",
    "    if 'perf' in desc or 'pwi' in desc:\n",
    "        return 'pwi'\n",
    "    if 'asl' in desc:\n",
    "        return 'asl'\n",
    "    if 'dti' in desc:\n",
    "        return 'dti'\n",
    "    if 'cerebral_blood_flow' in desc or 'cbf' in desc:\n",
    "        return 'cbf'\n",
    "    if 't2' in desc:\n",
    "        return 'T2w'\n",
    "    if 'moco' in desc:\n",
    "        return 'moco'\n",
    "    if 'format' in desc:\n",
    "        return 'mpr'\n",
    "    if 'coronal' in desc:\n",
    "        return 'T1w'\n"
   ],
   "metadata": {
    "collapsed": false,
    "ExecuteTime": {
     "end_time": "2023-11-15T15:27:38.938410169Z",
     "start_time": "2023-11-15T15:27:38.927864497Z"
    }
   },
   "id": "ce94c844218905d6"
  },
  {
   "cell_type": "code",
   "execution_count": 110,
   "outputs": [],
   "source": [
    "CreateLabelsFrame['description'] = CreateLabelsFrame['origDesc'].apply(renameDesc)"
   ],
   "metadata": {
    "collapsed": false,
    "ExecuteTime": {
     "end_time": "2023-11-15T15:27:39.110173988Z",
     "start_time": "2023-11-15T15:27:38.927966190Z"
    }
   },
   "id": "60c239881b04fc09"
  },
  {
   "cell_type": "code",
   "execution_count": 111,
   "outputs": [
    {
     "data": {
      "text/plain": "Empty DataFrame\nColumns: [ID, label, extra, description, weighting, origDesc]\nIndex: []",
      "text/html": "<div>\n<style scoped>\n    .dataframe tbody tr th:only-of-type {\n        vertical-align: middle;\n    }\n\n    .dataframe tbody tr th {\n        vertical-align: top;\n    }\n\n    .dataframe thead th {\n        text-align: right;\n    }\n</style>\n<table border=\"1\" class=\"dataframe\">\n  <thead>\n    <tr style=\"text-align: right;\">\n      <th></th>\n      <th>ID</th>\n      <th>label</th>\n      <th>extra</th>\n      <th>description</th>\n      <th>weighting</th>\n      <th>origDesc</th>\n    </tr>\n  </thead>\n  <tbody>\n  </tbody>\n</table>\n</div>"
     },
     "execution_count": 111,
     "metadata": {},
     "output_type": "execute_result"
    }
   ],
   "source": [
    "CreateLabelsFrame[CreateLabelsFrame['description'].isna()]"
   ],
   "metadata": {
    "collapsed": false,
    "ExecuteTime": {
     "end_time": "2023-11-15T15:27:39.176327189Z",
     "start_time": "2023-11-15T15:27:39.133557829Z"
    }
   },
   "id": "7b9399f9f6fadbfe"
  },
  {
   "cell_type": "code",
   "execution_count": 112,
   "outputs": [
    {
     "data": {
      "text/plain": "array(['Axial_T2_Star', 'Axial_T2_STAR', 'Axial_T2_Star_straight',\n       'Axial_3TE_T2_Star', 'Axial_3TE_T2_STAR', 'ORIG_Axial_T2_Star',\n       'Axial_T2_0_angle_Star', '3TE_Axial_T2_Star',\n       'Axial_T2_Star_REPEAT', 'Ax_T2_STAR',\n       'Axial_3TE_T2_STAR__straight_no_angle', '3TE_Axial_T2_Star_REPEAT',\n       's_Axial_3TE_T2_STAR_Cumulated', 'Axial_3TE_T2_STAR_repeat_motion',\n       'AXIAL_T2_STAR', 'Axial_T2_Star_RPT', 'Axial_T2_Star_repeat',\n       'Axial_3TE_T2_STAR_REPEAT', 'Repeat_Axial_T2_STAR',\n       'Axial_T2_STAR_rpt'], dtype=object)"
     },
     "execution_count": 112,
     "metadata": {},
     "output_type": "execute_result"
    }
   ],
   "source": [
    "CreateLabelsFrame[CreateLabelsFrame['description']=='T2star']['origDesc'].unique()"
   ],
   "metadata": {
    "collapsed": false,
    "ExecuteTime": {
     "end_time": "2023-11-15T15:27:39.176585620Z",
     "start_time": "2023-11-15T15:27:39.175924806Z"
    }
   },
   "id": "fc4bf5b9703f037a"
  },
  {
   "cell_type": "code",
   "execution_count": 113,
   "outputs": [
    {
     "data": {
      "text/plain": "                                                       ID  label  extra  \\\n54950   /trinity/home/r098375/DDS/data/ADNI/ADNI3/trai...      0      0   \n54951   /trinity/home/r098375/DDS/data/ADNI/ADNI3/trai...      0      0   \n54964   /trinity/home/r098375/DDS/data/ADNI/ADNI3/trai...      0      0   \n54973   /trinity/home/r098375/DDS/data/ADNI/ADNI3/trai...      0      0   \n54974   /trinity/home/r098375/DDS/data/ADNI/ADNI3/trai...      0      0   \n...                                                   ...    ...    ...   \n294397  /trinity/home/r098375/DDS/data/ADNI/ADNI3/trai...      0      0   \n294416  /trinity/home/r098375/DDS/data/ADNI/ADNI3/trai...      0      0   \n294425  /trinity/home/r098375/DDS/data/ADNI/ADNI3/trai...      0      0   \n294455  /trinity/home/r098375/DDS/data/ADNI/ADNI3/trai...      0      0   \n294459  /trinity/home/r098375/DDS/data/ADNI/ADNI3/trai...      0      0   \n\n       description weighting                       origDesc  \n54950       T2star        T2  s_Axial_3TE_T2_STAR_Cumulated  \n54951       T2star        T2  s_Axial_3TE_T2_STAR_Cumulated  \n54964       T2star        T2  s_Axial_3TE_T2_STAR_Cumulated  \n54973       T2star        T2  s_Axial_3TE_T2_STAR_Cumulated  \n54974       T2star        T2  s_Axial_3TE_T2_STAR_Cumulated  \n...            ...       ...                            ...  \n294397      T2star        T2  s_Axial_3TE_T2_STAR_Cumulated  \n294416      T2star        T2  s_Axial_3TE_T2_STAR_Cumulated  \n294425      T2star        T2  s_Axial_3TE_T2_STAR_Cumulated  \n294455      T2star        T2  s_Axial_3TE_T2_STAR_Cumulated  \n294459      T2star        T2  s_Axial_3TE_T2_STAR_Cumulated  \n\n[125 rows x 6 columns]",
      "text/html": "<div>\n<style scoped>\n    .dataframe tbody tr th:only-of-type {\n        vertical-align: middle;\n    }\n\n    .dataframe tbody tr th {\n        vertical-align: top;\n    }\n\n    .dataframe thead th {\n        text-align: right;\n    }\n</style>\n<table border=\"1\" class=\"dataframe\">\n  <thead>\n    <tr style=\"text-align: right;\">\n      <th></th>\n      <th>ID</th>\n      <th>label</th>\n      <th>extra</th>\n      <th>description</th>\n      <th>weighting</th>\n      <th>origDesc</th>\n    </tr>\n  </thead>\n  <tbody>\n    <tr>\n      <th>54950</th>\n      <td>/trinity/home/r098375/DDS/data/ADNI/ADNI3/trai...</td>\n      <td>0</td>\n      <td>0</td>\n      <td>T2star</td>\n      <td>T2</td>\n      <td>s_Axial_3TE_T2_STAR_Cumulated</td>\n    </tr>\n    <tr>\n      <th>54951</th>\n      <td>/trinity/home/r098375/DDS/data/ADNI/ADNI3/trai...</td>\n      <td>0</td>\n      <td>0</td>\n      <td>T2star</td>\n      <td>T2</td>\n      <td>s_Axial_3TE_T2_STAR_Cumulated</td>\n    </tr>\n    <tr>\n      <th>54964</th>\n      <td>/trinity/home/r098375/DDS/data/ADNI/ADNI3/trai...</td>\n      <td>0</td>\n      <td>0</td>\n      <td>T2star</td>\n      <td>T2</td>\n      <td>s_Axial_3TE_T2_STAR_Cumulated</td>\n    </tr>\n    <tr>\n      <th>54973</th>\n      <td>/trinity/home/r098375/DDS/data/ADNI/ADNI3/trai...</td>\n      <td>0</td>\n      <td>0</td>\n      <td>T2star</td>\n      <td>T2</td>\n      <td>s_Axial_3TE_T2_STAR_Cumulated</td>\n    </tr>\n    <tr>\n      <th>54974</th>\n      <td>/trinity/home/r098375/DDS/data/ADNI/ADNI3/trai...</td>\n      <td>0</td>\n      <td>0</td>\n      <td>T2star</td>\n      <td>T2</td>\n      <td>s_Axial_3TE_T2_STAR_Cumulated</td>\n    </tr>\n    <tr>\n      <th>...</th>\n      <td>...</td>\n      <td>...</td>\n      <td>...</td>\n      <td>...</td>\n      <td>...</td>\n      <td>...</td>\n    </tr>\n    <tr>\n      <th>294397</th>\n      <td>/trinity/home/r098375/DDS/data/ADNI/ADNI3/trai...</td>\n      <td>0</td>\n      <td>0</td>\n      <td>T2star</td>\n      <td>T2</td>\n      <td>s_Axial_3TE_T2_STAR_Cumulated</td>\n    </tr>\n    <tr>\n      <th>294416</th>\n      <td>/trinity/home/r098375/DDS/data/ADNI/ADNI3/trai...</td>\n      <td>0</td>\n      <td>0</td>\n      <td>T2star</td>\n      <td>T2</td>\n      <td>s_Axial_3TE_T2_STAR_Cumulated</td>\n    </tr>\n    <tr>\n      <th>294425</th>\n      <td>/trinity/home/r098375/DDS/data/ADNI/ADNI3/trai...</td>\n      <td>0</td>\n      <td>0</td>\n      <td>T2star</td>\n      <td>T2</td>\n      <td>s_Axial_3TE_T2_STAR_Cumulated</td>\n    </tr>\n    <tr>\n      <th>294455</th>\n      <td>/trinity/home/r098375/DDS/data/ADNI/ADNI3/trai...</td>\n      <td>0</td>\n      <td>0</td>\n      <td>T2star</td>\n      <td>T2</td>\n      <td>s_Axial_3TE_T2_STAR_Cumulated</td>\n    </tr>\n    <tr>\n      <th>294459</th>\n      <td>/trinity/home/r098375/DDS/data/ADNI/ADNI3/trai...</td>\n      <td>0</td>\n      <td>0</td>\n      <td>T2star</td>\n      <td>T2</td>\n      <td>s_Axial_3TE_T2_STAR_Cumulated</td>\n    </tr>\n  </tbody>\n</table>\n<p>125 rows × 6 columns</p>\n</div>"
     },
     "execution_count": 113,
     "metadata": {},
     "output_type": "execute_result"
    }
   ],
   "source": [
    "CreateLabelsFrame[CreateLabelsFrame['origDesc']=='s_Axial_3TE_T2_STAR_Cumulated']"
   ],
   "metadata": {
    "collapsed": false,
    "ExecuteTime": {
     "end_time": "2023-11-15T15:27:39.256117297Z",
     "start_time": "2023-11-15T15:27:39.219885747Z"
    }
   },
   "id": "9fbc853c69ad71b3"
  },
  {
   "cell_type": "code",
   "execution_count": 114,
   "outputs": [],
   "source": [
    "labeldict = {\"T1\":0,\"T1_c\":1,\"T2\":2,\"T2-FLAIR\":3,\"PD\":4,\n",
    "             \"SWI\":5, \"GRE\":6, \"T2*\":7, \"DWI\":8, \"ADC\":9, \"BOLD\":10,\n",
    "             \"FlowSensitve\":11,\"PWI\":12,\"ASL\":13,\n",
    "             \"DTI\":14,\"Other\":15}\n",
    "def assignLabel(dataframe):\n",
    "    description = dataframe['description']\n",
    "    try:\n",
    "        weight = dataframe['weighting']\n",
    "    except:\n",
    "        weight = None\n",
    "    dropLabels = ['moco','mpr','hippo','spinal','unknown']\n",
    "    otherCategories = ['fieldmap','scout','calibration','phase','localizer','nan','NotMri','pet','CT','e2','minIP','moco','other','survey', 'qflow','smartbrain'] #moco is a motion corrected series\n",
    "    if description in dropLabels:\n",
    "        return -1\n",
    "    if description in otherCategories:\n",
    "        return 15\n",
    "    if description =='T1w':\n",
    "        return 0\n",
    "    if description =='T1c':\n",
    "        return 1\n",
    "    if weight:\n",
    "        if description =='T2w':\n",
    "            if weight=='T2':\n",
    "                return 2\n",
    "            if weight=='PD':\n",
    "                return 4\n",
    "    if description == 'T2w':\n",
    "        return 2\n",
    "    if 'FLAIR' in description:\n",
    "        return 3\n",
    "    if description =='pd':\n",
    "        return 4\n",
    "    if description =='swi':\n",
    "        return 5\n",
    "    if description.lower() =='gre':\n",
    "        return 6\n",
    "    if description =='T2star':\n",
    "        return 7\n",
    "    if description =='dwi':\n",
    "        return 8\n",
    "    if description =='adc':\n",
    "        return 9\n",
    "    if description =='bold':\n",
    "        return 10\n",
    "    if description =='angio': #flowsensitive\n",
    "        return 11\n",
    "    if description =='pwi' or description=='cbf':\n",
    "        return 12\n",
    "    if 'asl' in description:\n",
    "        return 13\n",
    "    if description == 'dti':\n",
    "        return 14\n",
    "    return -1"
   ],
   "metadata": {
    "collapsed": false,
    "ExecuteTime": {
     "end_time": "2023-11-15T15:27:39.256274616Z",
     "start_time": "2023-11-15T15:27:39.220010382Z"
    }
   },
   "id": "c4e93d130d0d3089"
  },
  {
   "cell_type": "code",
   "execution_count": 115,
   "outputs": [],
   "source": [
    "CreateLabelsFrame['label'] = CreateLabelsFrame.apply(assignLabel,axis=1)"
   ],
   "metadata": {
    "collapsed": false,
    "ExecuteTime": {
     "end_time": "2023-11-15T15:27:41.706633078Z",
     "start_time": "2023-11-15T15:27:39.220061977Z"
    }
   },
   "id": "e6b50aad44ff4178"
  },
  {
   "cell_type": "code",
   "execution_count": 116,
   "outputs": [
    {
     "data": {
      "text/plain": "                                                       ID  label  extra  \\\n3       /trinity/home/r098375/DDS/data/ADNI/ADNI3/trai...     -1      0   \n9       /trinity/home/r098375/DDS/data/ADNI/ADNI3/trai...     -1      0   \n10      /trinity/home/r098375/DDS/data/ADNI/ADNI3/trai...     -1      0   \n11      /trinity/home/r098375/DDS/data/ADNI/ADNI3/trai...     -1      0   \n17      /trinity/home/r098375/DDS/data/ADNI/ADNI3/trai...     -1      0   \n...                                                   ...    ...    ...   \n439323  /trinity/home/r098375/DDS/data/ADNI/ADNI3/trai...     -1      0   \n439334  /trinity/home/r098375/DDS/data/ADNI/ADNI3/trai...     -1      0   \n439345  /trinity/home/r098375/DDS/data/ADNI/ADNI3/trai...     -1      0   \n439354  /trinity/home/r098375/DDS/data/ADNI/ADNI3/trai...     -1      0   \n439374  /trinity/home/r098375/DDS/data/ADNI/ADNI3/trai...     -1      0   \n\n       description weighting  \\\n3            hippo        PD   \n9            hippo        PD   \n10           hippo        PD   \n11           hippo        PD   \n17           hippo        PD   \n...            ...       ...   \n439323       hippo        PD   \n439334       hippo        PD   \n439345       hippo        PD   \n439354       hippo        PD   \n439374       hippo        PD   \n\n                                                 origDesc  \n3       HighResHippo_Scan__Oblique_-_perpendicular_to_...  \n9       HighResHippo_Scan__Oblique_-_perpendicular_to_...  \n10      HighResHippo_Scan__Oblique_-_perpendicular_to_...  \n11      HighResHippo_Scan__Oblique_-_perpendicular_to_...  \n17      HighResHippo_Scan__Oblique_-_perpendicular_to_...  \n...                                                   ...  \n439323  HighResHippo_Scan__Oblique_-_perpendicular_to_...  \n439334  HighResHippo_Scan__Oblique_-_perpendicular_to_...  \n439345  HighResHippo_Scan__Oblique_-_perpendicular_to_...  \n439354  HighResHippo_Scan__Oblique_-_perpendicular_to_...  \n439374  HighResHippo_Scan__Oblique_-_perpendicular_to_...  \n\n[45650 rows x 6 columns]",
      "text/html": "<div>\n<style scoped>\n    .dataframe tbody tr th:only-of-type {\n        vertical-align: middle;\n    }\n\n    .dataframe tbody tr th {\n        vertical-align: top;\n    }\n\n    .dataframe thead th {\n        text-align: right;\n    }\n</style>\n<table border=\"1\" class=\"dataframe\">\n  <thead>\n    <tr style=\"text-align: right;\">\n      <th></th>\n      <th>ID</th>\n      <th>label</th>\n      <th>extra</th>\n      <th>description</th>\n      <th>weighting</th>\n      <th>origDesc</th>\n    </tr>\n  </thead>\n  <tbody>\n    <tr>\n      <th>3</th>\n      <td>/trinity/home/r098375/DDS/data/ADNI/ADNI3/trai...</td>\n      <td>-1</td>\n      <td>0</td>\n      <td>hippo</td>\n      <td>PD</td>\n      <td>HighResHippo_Scan__Oblique_-_perpendicular_to_...</td>\n    </tr>\n    <tr>\n      <th>9</th>\n      <td>/trinity/home/r098375/DDS/data/ADNI/ADNI3/trai...</td>\n      <td>-1</td>\n      <td>0</td>\n      <td>hippo</td>\n      <td>PD</td>\n      <td>HighResHippo_Scan__Oblique_-_perpendicular_to_...</td>\n    </tr>\n    <tr>\n      <th>10</th>\n      <td>/trinity/home/r098375/DDS/data/ADNI/ADNI3/trai...</td>\n      <td>-1</td>\n      <td>0</td>\n      <td>hippo</td>\n      <td>PD</td>\n      <td>HighResHippo_Scan__Oblique_-_perpendicular_to_...</td>\n    </tr>\n    <tr>\n      <th>11</th>\n      <td>/trinity/home/r098375/DDS/data/ADNI/ADNI3/trai...</td>\n      <td>-1</td>\n      <td>0</td>\n      <td>hippo</td>\n      <td>PD</td>\n      <td>HighResHippo_Scan__Oblique_-_perpendicular_to_...</td>\n    </tr>\n    <tr>\n      <th>17</th>\n      <td>/trinity/home/r098375/DDS/data/ADNI/ADNI3/trai...</td>\n      <td>-1</td>\n      <td>0</td>\n      <td>hippo</td>\n      <td>PD</td>\n      <td>HighResHippo_Scan__Oblique_-_perpendicular_to_...</td>\n    </tr>\n    <tr>\n      <th>...</th>\n      <td>...</td>\n      <td>...</td>\n      <td>...</td>\n      <td>...</td>\n      <td>...</td>\n      <td>...</td>\n    </tr>\n    <tr>\n      <th>439323</th>\n      <td>/trinity/home/r098375/DDS/data/ADNI/ADNI3/trai...</td>\n      <td>-1</td>\n      <td>0</td>\n      <td>hippo</td>\n      <td>PD</td>\n      <td>HighResHippo_Scan__Oblique_-_perpendicular_to_...</td>\n    </tr>\n    <tr>\n      <th>439334</th>\n      <td>/trinity/home/r098375/DDS/data/ADNI/ADNI3/trai...</td>\n      <td>-1</td>\n      <td>0</td>\n      <td>hippo</td>\n      <td>PD</td>\n      <td>HighResHippo_Scan__Oblique_-_perpendicular_to_...</td>\n    </tr>\n    <tr>\n      <th>439345</th>\n      <td>/trinity/home/r098375/DDS/data/ADNI/ADNI3/trai...</td>\n      <td>-1</td>\n      <td>0</td>\n      <td>hippo</td>\n      <td>PD</td>\n      <td>HighResHippo_Scan__Oblique_-_perpendicular_to_...</td>\n    </tr>\n    <tr>\n      <th>439354</th>\n      <td>/trinity/home/r098375/DDS/data/ADNI/ADNI3/trai...</td>\n      <td>-1</td>\n      <td>0</td>\n      <td>hippo</td>\n      <td>PD</td>\n      <td>HighResHippo_Scan__Oblique_-_perpendicular_to_...</td>\n    </tr>\n    <tr>\n      <th>439374</th>\n      <td>/trinity/home/r098375/DDS/data/ADNI/ADNI3/trai...</td>\n      <td>-1</td>\n      <td>0</td>\n      <td>hippo</td>\n      <td>PD</td>\n      <td>HighResHippo_Scan__Oblique_-_perpendicular_to_...</td>\n    </tr>\n  </tbody>\n</table>\n<p>45650 rows × 6 columns</p>\n</div>"
     },
     "execution_count": 116,
     "metadata": {},
     "output_type": "execute_result"
    }
   ],
   "source": [
    "CreateLabelsFrame[CreateLabelsFrame['label']==-1]"
   ],
   "metadata": {
    "collapsed": false,
    "ExecuteTime": {
     "end_time": "2023-11-15T15:27:41.752521426Z",
     "start_time": "2023-11-15T15:27:41.708240619Z"
    }
   },
   "id": "4abbbc06b2d4834b"
  },
  {
   "cell_type": "code",
   "execution_count": 117,
   "outputs": [],
   "source": [
    "CreateLabelsFrame = CreateLabelsFrame[CreateLabelsFrame['label']!=-1]"
   ],
   "metadata": {
    "collapsed": false,
    "ExecuteTime": {
     "end_time": "2023-11-15T15:27:41.815922035Z",
     "start_time": "2023-11-15T15:27:41.751932445Z"
    }
   },
   "id": "24ddee2eb34757d8"
  },
  {
   "cell_type": "code",
   "execution_count": 118,
   "outputs": [],
   "source": [
    "def CreateIndivudalToUnifiedNameDocument(df, outfile):\n",
    "    with open(outfile, 'w') as f:\n",
    "        names = df['description'].unique()\n",
    "        for name in names:\n",
    "            nameMatching = df[df['description']==name]['origDesc'].unique()\n",
    "            nameMatching = pd.Series(nameMatching).to_string()\n",
    "            f.write(f'{name}:\\n{nameMatching}\\n\\n{\"-\"*25}\\n')"
   ],
   "metadata": {
    "collapsed": false,
    "ExecuteTime": {
     "end_time": "2023-11-15T15:27:41.816186492Z",
     "start_time": "2023-11-15T15:27:41.795837884Z"
    }
   },
   "id": "c5eaee512d59711c"
  },
  {
   "cell_type": "code",
   "execution_count": 119,
   "outputs": [],
   "source": [
    "outfile = 'ADNI3_NameMatching.txt'\n",
    "CreateIndivudalToUnifiedNameDocument(CreateLabelsFrame, outfile)"
   ],
   "metadata": {
    "collapsed": false,
    "ExecuteTime": {
     "end_time": "2023-11-15T15:27:42.042691987Z",
     "start_time": "2023-11-15T15:27:41.795966324Z"
    }
   },
   "id": "16e79e4c750f52c5"
  },
  {
   "cell_type": "code",
   "execution_count": 120,
   "outputs": [],
   "source": [
    "CreateLabelsFrame[['ID','label','extra']].to_csv(outname,index=False, sep='\\t', header=False)"
   ],
   "metadata": {
    "collapsed": false,
    "ExecuteTime": {
     "end_time": "2023-11-15T15:27:43.495726924Z",
     "start_time": "2023-11-15T15:27:42.054529651Z"
    }
   },
   "id": "43999e3c34f053c0"
  },
  {
   "cell_type": "code",
   "execution_count": 121,
   "outputs": [
    {
     "data": {
      "text/plain": "label\n15    130825\n7      90125\n0      52200\n3      44925\n12     21850\n13      8200\n14      1850\n5        350\n4         50\nName: count, dtype: int64"
     },
     "execution_count": 121,
     "metadata": {},
     "output_type": "execute_result"
    }
   ],
   "source": [
    "CreateLabelsFrame['label'].value_counts()"
   ],
   "metadata": {
    "collapsed": false,
    "ExecuteTime": {
     "end_time": "2023-11-15T15:27:43.496155762Z",
     "start_time": "2023-11-15T15:27:43.471384708Z"
    }
   },
   "id": "89044c0ae7b840bb"
  },
  {
   "cell_type": "code",
   "execution_count": 121,
   "outputs": [],
   "source": [],
   "metadata": {
    "collapsed": false,
    "ExecuteTime": {
     "end_time": "2023-11-15T15:27:43.496268444Z",
     "start_time": "2023-11-15T15:27:43.471572728Z"
    }
   },
   "id": "ce1509ae5c9f1cb9"
  }
 ],
 "metadata": {
  "kernelspec": {
   "display_name": "Python 3",
   "language": "python",
   "name": "python3"
  },
  "language_info": {
   "codemirror_mode": {
    "name": "ipython",
    "version": 2
   },
   "file_extension": ".py",
   "mimetype": "text/x-python",
   "name": "python",
   "nbconvert_exporter": "python",
   "pygments_lexer": "ipython2",
   "version": "2.7.6"
  }
 },
 "nbformat": 4,
 "nbformat_minor": 5
}
