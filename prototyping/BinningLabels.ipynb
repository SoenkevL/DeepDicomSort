{
 "cells": [
  {
   "cell_type": "code",
   "execution_count": 23,
   "id": "initial_id",
   "metadata": {
    "collapsed": true,
    "ExecuteTime": {
     "end_time": "2023-11-13T12:57:35.624018416Z",
     "start_time": "2023-11-13T12:57:35.574767780Z"
    }
   },
   "outputs": [],
   "source": [
    "import pandas as pd\n",
    "import os\n",
    "import numpy as np"
   ]
  },
  {
   "cell_type": "code",
   "execution_count": 24,
   "outputs": [],
   "source": [
    "original_labelmap = {\n",
    "    \"T1\":0,\n",
    "    \"T1_c\":1,\n",
    "    \"T2\":2,\n",
    "    \"T2-FLAIR\":3,\n",
    "    \"FS\" : 4,\n",
    "    \"PD\":5,\n",
    "    \"SWI\":6,\n",
    "    \"GRE\":7,\n",
    "    \"T2*\":8,\n",
    "    \"DWI\":9,\n",
    "    \"ADC\":10,\n",
    "    \"BOLD\":11,\n",
    "    \"FlowSensitve\":12,\n",
    "    \"PWI\":13,\n",
    "    \"ASL\":14,\n",
    "    \"Hippo\":15,\n",
    "    \"DTI\":16,\n",
    "    \"Other\":17\n",
    "}"
   ],
   "metadata": {
    "collapsed": false,
    "ExecuteTime": {
     "end_time": "2023-11-13T12:57:35.624206078Z",
     "start_time": "2023-11-13T12:57:35.615499930Z"
    }
   },
   "id": "a1a51e3979d1ce3d"
  },
  {
   "cell_type": "code",
   "execution_count": 25,
   "outputs": [],
   "source": [
    "all_binnings_dict = {\n",
    "    'DDS_binning': {\n",
    "        'T1_binned' : ['T1', 'Hippo'],\n",
    "        'non_DDS': ['SWI','GRE','T2*','ADC','BOLD','FlowSensitve','ASL','DTI']\n",
    "    },\n",
    "    'alternative binning': {\n",
    "        'T1_binned' : ['T1', 'Hippo'],\n",
    "        'diffusion' : ['DWI', 'ADC', 'DTI'],\n",
    "        'perfusion' : ['BOLD', 'ASL', 'FlowSensitve', 'PWI'],\n",
    "        'suscept' : ['SWI','GRE','T2*']\n",
    "    }\n",
    "}"
   ],
   "metadata": {
    "collapsed": false,
    "ExecuteTime": {
     "end_time": "2023-11-13T12:57:35.624312165Z",
     "start_time": "2023-11-13T12:57:35.615615650Z"
    }
   },
   "id": "a85a344e800b6fe0"
  },
  {
   "cell_type": "code",
   "execution_count": 26,
   "outputs": [],
   "source": [
    "def createBinning(original_labelmap, binningDict):\n",
    "    orignal_labelmap_copy = original_labelmap.copy()\n",
    "    new_labelmap = {}\n",
    "    transfer_array = np.zeros(len(original_labelmap))\n",
    "    class_counter = 0\n",
    "    for bin_name, bin_items in binningDict.items():\n",
    "        new_labelmap[bin_name] = class_counter\n",
    "        for item in list(bin_items):\n",
    "            transfer_array[original_labelmap[item]] = class_counter\n",
    "            orignal_labelmap_copy.pop(item)\n",
    "        class_counter += 1\n",
    "    for name, item in orignal_labelmap_copy.items():\n",
    "        new_labelmap[name] = class_counter\n",
    "        transfer_array[item] = class_counter\n",
    "        class_counter += 1\n",
    "    unchangedLabels = orignal_labelmap_copy\n",
    "    return new_labelmap, transfer_array, class_counter, unchangedLabels\n",
    "    "
   ],
   "metadata": {
    "collapsed": false,
    "ExecuteTime": {
     "end_time": "2023-11-13T12:57:35.624418054Z",
     "start_time": "2023-11-13T12:57:35.615667269Z"
    }
   },
   "id": "1864c3b54ac400c"
  },
  {
   "cell_type": "code",
   "execution_count": 27,
   "outputs": [
    {
     "ename": "IndexError",
     "evalue": "index 17 is out of bounds for axis 0 with size 17",
     "output_type": "error",
     "traceback": [
      "\u001B[0;31m---------------------------------------------------------------------------\u001B[0m",
      "\u001B[0;31mIndexError\u001B[0m                                Traceback (most recent call last)",
      "Cell \u001B[0;32mIn[27], line 1\u001B[0m\n\u001B[0;32m----> 1\u001B[0m \u001B[43mcreateBinning\u001B[49m\u001B[43m(\u001B[49m\u001B[43moriginal_labelmap\u001B[49m\u001B[43m,\u001B[49m\u001B[43m \u001B[49m\u001B[43mall_binnings_dict\u001B[49m\u001B[43m[\u001B[49m\u001B[38;5;124;43m'\u001B[39;49m\u001B[38;5;124;43mDDS_binning\u001B[39;49m\u001B[38;5;124;43m'\u001B[39;49m\u001B[43m]\u001B[49m\u001B[43m)\u001B[49m\n",
      "Cell \u001B[0;32mIn[26], line 14\u001B[0m, in \u001B[0;36mcreateBinning\u001B[0;34m(original_labelmap, binningDict)\u001B[0m\n\u001B[1;32m     12\u001B[0m \u001B[38;5;28;01mfor\u001B[39;00m name, item \u001B[38;5;129;01min\u001B[39;00m orignal_labelmap_copy\u001B[38;5;241m.\u001B[39mitems():\n\u001B[1;32m     13\u001B[0m     new_labelmap[name] \u001B[38;5;241m=\u001B[39m class_counter\n\u001B[0;32m---> 14\u001B[0m     \u001B[43mtransfer_array\u001B[49m\u001B[43m[\u001B[49m\u001B[43mitem\u001B[49m\u001B[43m]\u001B[49m \u001B[38;5;241m=\u001B[39m class_counter\n\u001B[1;32m     15\u001B[0m     class_counter \u001B[38;5;241m+\u001B[39m\u001B[38;5;241m=\u001B[39m \u001B[38;5;241m1\u001B[39m\n\u001B[1;32m     16\u001B[0m unchangedLabels \u001B[38;5;241m=\u001B[39m orignal_labelmap_copy\n",
      "\u001B[0;31mIndexError\u001B[0m: index 17 is out of bounds for axis 0 with size 17"
     ]
    }
   ],
   "source": [
    "createBinning(original_labelmap, all_binnings_dict['DDS_binning'])"
   ],
   "metadata": {
    "collapsed": false,
    "ExecuteTime": {
     "end_time": "2023-11-13T12:57:35.637096807Z",
     "start_time": "2023-11-13T12:57:35.623878097Z"
    }
   },
   "id": "8d9f13fa78c09701"
  },
  {
   "cell_type": "code",
   "execution_count": null,
   "outputs": [],
   "source": [
    "def apply_binning_to_df(original_df, transfer_array, suffix=\"\"):\n",
    "    df = original_df.copy()\n",
    "    suffix = '_'+suffix\n",
    "    df[f'label{suffix}'] = df['label'].apply(lambda x: transfer_array[x])\n",
    "    return df"
   ],
   "metadata": {
    "collapsed": false,
    "ExecuteTime": {
     "start_time": "2023-11-13T12:57:35.630271302Z"
    }
   },
   "id": "be203e5b0bfce3a8"
  }
 ],
 "metadata": {
  "kernelspec": {
   "display_name": "Python 3",
   "language": "python",
   "name": "python3"
  },
  "language_info": {
   "codemirror_mode": {
    "name": "ipython",
    "version": 2
   },
   "file_extension": ".py",
   "mimetype": "text/x-python",
   "name": "python",
   "nbconvert_exporter": "python",
   "pygments_lexer": "ipython2",
   "version": "2.7.6"
  }
 },
 "nbformat": 4,
 "nbformat_minor": 5
}
