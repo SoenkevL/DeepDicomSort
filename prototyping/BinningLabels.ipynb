{
 "cells": [
  {
   "cell_type": "code",
   "execution_count": 53,
   "id": "initial_id",
   "metadata": {
    "collapsed": true,
    "ExecuteTime": {
     "end_time": "2023-11-17T12:22:30.294961556Z",
     "start_time": "2023-11-17T12:22:30.215020499Z"
    }
   },
   "outputs": [],
   "source": [
    "import pandas as pd\n",
    "import os\n",
    "import numpy as np"
   ]
  },
  {
   "cell_type": "code",
   "execution_count": 54,
   "outputs": [],
   "source": [
    "df_path = 'combinedDfs/CombinedTestingFrame_A2_A3_O3_egd_rss_hb_pruned.txt'\n",
    "binningName = 'DDS_binning'"
   ],
   "metadata": {
    "collapsed": false,
    "ExecuteTime": {
     "end_time": "2023-11-17T12:22:30.295099267Z",
     "start_time": "2023-11-17T12:22:30.260429829Z"
    }
   },
   "id": "939e97727d208644"
  },
  {
   "cell_type": "code",
   "execution_count": 55,
   "outputs": [],
   "source": [
    "original_labelmap = {\n",
    "    \"T1\":0,\n",
    "    \"T1_c\":1,\n",
    "    \"T2\":2,\n",
    "    \"T2-FLAIR\":3,\n",
    "    \"PD\":4,\n",
    "    \"SWI\":5,\n",
    "    \"GRE\":6,\n",
    "    \"T2*\":7,\n",
    "    \"DWI\":8,\n",
    "    \"ADC\":9,\n",
    "    \"BOLD\":10,\n",
    "    \"angio\":11,\n",
    "    \"PWI\":12,\n",
    "    \"ASL\":13,\n",
    "    \"DTI\":14,\n",
    "    \"Other\":15\n",
    "}"
   ],
   "metadata": {
    "collapsed": false,
    "ExecuteTime": {
     "end_time": "2023-11-17T12:22:30.295161767Z",
     "start_time": "2023-11-17T12:22:30.260556749Z"
    }
   },
   "id": "a1a51e3979d1ce3d"
  },
  {
   "cell_type": "code",
   "execution_count": 56,
   "outputs": [],
   "source": [
    "all_binnings_dict = {\n",
    "    'DDS_binning': {\n",
    "        'non_DDS': ['SWI','GRE','T2*','ADC','BOLD','angio','ASL','DTI']\n",
    "    },\n",
    "    'alternative_binning': {\n",
    "        'diffusion' : ['DWI', 'ADC', 'DTI'],\n",
    "        'perfusion' : ['BOLD', 'ASL', 'angio', 'PWI'],\n",
    "        'suscept' : ['SWI','GRE','T2*']\n",
    "    }\n",
    "}"
   ],
   "metadata": {
    "collapsed": false,
    "ExecuteTime": {
     "end_time": "2023-11-17T12:22:30.295214953Z",
     "start_time": "2023-11-17T12:22:30.260637083Z"
    }
   },
   "id": "a85a344e800b6fe0"
  },
  {
   "cell_type": "code",
   "execution_count": 57,
   "outputs": [],
   "source": [
    "def createBinning(original_labelmap, binningDict):\n",
    "    orignal_labelmap_copy = original_labelmap.copy()\n",
    "    new_labelmap = {}\n",
    "    transfer_array = np.zeros(len(original_labelmap))\n",
    "    class_counter = 0\n",
    "    for bin_name, bin_items in binningDict.items():\n",
    "        new_labelmap[bin_name] = class_counter\n",
    "        for item in list(bin_items):\n",
    "            transfer_array[original_labelmap[item]] = class_counter\n",
    "            orignal_labelmap_copy.pop(item)\n",
    "        class_counter += 1\n",
    "    for name, item in orignal_labelmap_copy.items():\n",
    "        new_labelmap[name] = class_counter\n",
    "        transfer_array[item] = class_counter\n",
    "        class_counter += 1\n",
    "    unchangedLabels = orignal_labelmap_copy\n",
    "    return new_labelmap, transfer_array, class_counter, unchangedLabels\n",
    "    "
   ],
   "metadata": {
    "collapsed": false,
    "ExecuteTime": {
     "end_time": "2023-11-17T12:22:30.295263089Z",
     "start_time": "2023-11-17T12:22:30.260710173Z"
    }
   },
   "id": "1864c3b54ac400c"
  },
  {
   "cell_type": "code",
   "execution_count": 58,
   "outputs": [],
   "source": [
    "new_labelmap, transfer_array, class_counter, unchangedLabels = createBinning(original_labelmap, all_binnings_dict[binningName])"
   ],
   "metadata": {
    "collapsed": false,
    "ExecuteTime": {
     "end_time": "2023-11-17T12:22:30.295325220Z",
     "start_time": "2023-11-17T12:22:30.262082106Z"
    }
   },
   "id": "8d9f13fa78c09701"
  },
  {
   "cell_type": "code",
   "execution_count": 59,
   "outputs": [],
   "source": [
    "def apply_binning_to_df(original_df, transfer_array, suffix=\"\"):\n",
    "    df = original_df.copy()\n",
    "    suffix = '_'+suffix\n",
    "    df[f'label{suffix}'] = df['label'].apply(lambda x: int(transfer_array[x]))\n",
    "    return df"
   ],
   "metadata": {
    "collapsed": false,
    "ExecuteTime": {
     "end_time": "2023-11-17T12:22:30.295375358Z",
     "start_time": "2023-11-17T12:22:30.266195657Z"
    }
   },
   "id": "be203e5b0bfce3a8"
  },
  {
   "cell_type": "code",
   "execution_count": 60,
   "outputs": [],
   "source": [
    "origin_df = pd.read_csv(df_path,names=['ID','label','extra'],sep='\\t', dtype={'ID':str,'label':int,'extra':int})"
   ],
   "metadata": {
    "collapsed": false,
    "ExecuteTime": {
     "end_time": "2023-11-17T12:22:30.388254134Z",
     "start_time": "2023-11-17T12:22:30.271625639Z"
    }
   },
   "id": "fb465260c3311e54"
  },
  {
   "cell_type": "code",
   "execution_count": 61,
   "outputs": [],
   "source": [
    "binned_df = apply_binning_to_df(origin_df, transfer_array, suffix=binningName)"
   ],
   "metadata": {
    "collapsed": false,
    "ExecuteTime": {
     "end_time": "2023-11-17T12:22:30.456601911Z",
     "start_time": "2023-11-17T12:22:30.411543378Z"
    }
   },
   "id": "acf218f52f735d0a"
  },
  {
   "cell_type": "code",
   "execution_count": 62,
   "outputs": [
    {
     "data": {
      "text/plain": "                                                      ID  label  extra  \\\n0      /trinity/home/r098375/DDS/data/ADNI/ADNI3/test...      3      0   \n1      /trinity/home/r098375/DDS/data/ADNI/ADNI3/test...     15      0   \n2      /trinity/home/r098375/DDS/data/ADNI/ADNI3/test...      3      0   \n3      /trinity/home/r098375/DDS/data/ADNI/ADNI3/test...      3      0   \n4      /trinity/home/r098375/DDS/data/ADNI/ADNI3/test...      3      0   \n...                                                  ...    ...    ...   \n62665  /trinity/home/r098375/DDS/data/HeartBrain/NIFT...      0      0   \n62666  /trinity/home/r098375/DDS/data/HeartBrain/NIFT...      0      0   \n62667  /trinity/home/r098375/DDS/data/HeartBrain/NIFT...      0      0   \n62668  /trinity/home/r098375/DDS/data/HeartBrain/NIFT...      0      0   \n62669  /trinity/home/r098375/DDS/data/HeartBrain/NIFT...      0      0   \n\n       label_DDS_binning  \n0                      4  \n1                      8  \n2                      4  \n3                      4  \n4                      4  \n...                  ...  \n62665                  1  \n62666                  1  \n62667                  1  \n62668                  1  \n62669                  1  \n\n[62670 rows x 4 columns]",
      "text/html": "<div>\n<style scoped>\n    .dataframe tbody tr th:only-of-type {\n        vertical-align: middle;\n    }\n\n    .dataframe tbody tr th {\n        vertical-align: top;\n    }\n\n    .dataframe thead th {\n        text-align: right;\n    }\n</style>\n<table border=\"1\" class=\"dataframe\">\n  <thead>\n    <tr style=\"text-align: right;\">\n      <th></th>\n      <th>ID</th>\n      <th>label</th>\n      <th>extra</th>\n      <th>label_DDS_binning</th>\n    </tr>\n  </thead>\n  <tbody>\n    <tr>\n      <th>0</th>\n      <td>/trinity/home/r098375/DDS/data/ADNI/ADNI3/test...</td>\n      <td>3</td>\n      <td>0</td>\n      <td>4</td>\n    </tr>\n    <tr>\n      <th>1</th>\n      <td>/trinity/home/r098375/DDS/data/ADNI/ADNI3/test...</td>\n      <td>15</td>\n      <td>0</td>\n      <td>8</td>\n    </tr>\n    <tr>\n      <th>2</th>\n      <td>/trinity/home/r098375/DDS/data/ADNI/ADNI3/test...</td>\n      <td>3</td>\n      <td>0</td>\n      <td>4</td>\n    </tr>\n    <tr>\n      <th>3</th>\n      <td>/trinity/home/r098375/DDS/data/ADNI/ADNI3/test...</td>\n      <td>3</td>\n      <td>0</td>\n      <td>4</td>\n    </tr>\n    <tr>\n      <th>4</th>\n      <td>/trinity/home/r098375/DDS/data/ADNI/ADNI3/test...</td>\n      <td>3</td>\n      <td>0</td>\n      <td>4</td>\n    </tr>\n    <tr>\n      <th>...</th>\n      <td>...</td>\n      <td>...</td>\n      <td>...</td>\n      <td>...</td>\n    </tr>\n    <tr>\n      <th>62665</th>\n      <td>/trinity/home/r098375/DDS/data/HeartBrain/NIFT...</td>\n      <td>0</td>\n      <td>0</td>\n      <td>1</td>\n    </tr>\n    <tr>\n      <th>62666</th>\n      <td>/trinity/home/r098375/DDS/data/HeartBrain/NIFT...</td>\n      <td>0</td>\n      <td>0</td>\n      <td>1</td>\n    </tr>\n    <tr>\n      <th>62667</th>\n      <td>/trinity/home/r098375/DDS/data/HeartBrain/NIFT...</td>\n      <td>0</td>\n      <td>0</td>\n      <td>1</td>\n    </tr>\n    <tr>\n      <th>62668</th>\n      <td>/trinity/home/r098375/DDS/data/HeartBrain/NIFT...</td>\n      <td>0</td>\n      <td>0</td>\n      <td>1</td>\n    </tr>\n    <tr>\n      <th>62669</th>\n      <td>/trinity/home/r098375/DDS/data/HeartBrain/NIFT...</td>\n      <td>0</td>\n      <td>0</td>\n      <td>1</td>\n    </tr>\n  </tbody>\n</table>\n<p>62670 rows × 4 columns</p>\n</div>"
     },
     "execution_count": 62,
     "metadata": {},
     "output_type": "execute_result"
    }
   ],
   "source": [
    "binned_df"
   ],
   "metadata": {
    "collapsed": false,
    "ExecuteTime": {
     "end_time": "2023-11-17T12:22:30.457357047Z",
     "start_time": "2023-11-17T12:22:30.456489174Z"
    }
   },
   "id": "3ce304114f0b14e3"
  },
  {
   "cell_type": "code",
   "execution_count": 63,
   "outputs": [
    {
     "data": {
      "text/plain": "label_DDS_binning  label\n0                  7         7770\n                   10        4995\n                   13        2835\n                   5         1665\n                   11        1050\n                   6          720\n                   9          300\n                   14         240\n1                  0         7695\n2                  1          600\n3                  2         4545\n4                  3         4455\n5                  4          450\n6                  8         4005\n7                  12        2265\n8                  15       19080\nName: count, dtype: int64"
     },
     "execution_count": 63,
     "metadata": {},
     "output_type": "execute_result"
    }
   ],
   "source": [
    "binned_df.groupby(f'label_{binningName}')['label'].value_counts()"
   ],
   "metadata": {
    "collapsed": false,
    "ExecuteTime": {
     "end_time": "2023-11-17T12:22:30.458091821Z",
     "start_time": "2023-11-17T12:22:30.456658706Z"
    }
   },
   "id": "1878bde34b7e5396"
  },
  {
   "cell_type": "code",
   "execution_count": 64,
   "outputs": [
    {
     "data": {
      "text/plain": "{'non_DDS': 0,\n 'T1': 1,\n 'T1_c': 2,\n 'T2': 3,\n 'T2-FLAIR': 4,\n 'PD': 5,\n 'DWI': 6,\n 'PWI': 7,\n 'Other': 8}"
     },
     "execution_count": 64,
     "metadata": {},
     "output_type": "execute_result"
    }
   ],
   "source": [
    "new_labelmap"
   ],
   "metadata": {
    "collapsed": false,
    "ExecuteTime": {
     "end_time": "2023-11-17T12:22:30.458457640Z",
     "start_time": "2023-11-17T12:22:30.456746509Z"
    }
   },
   "id": "7ed455f30abcde5d"
  },
  {
   "cell_type": "code",
   "execution_count": 65,
   "outputs": [],
   "source": [
    "extension = os.path.splitext(df_path)\n",
    "basename = extension[0]\n",
    "extension = extension[1]\n",
    "outname = f'{basename}_{binningName}{extension}'\n",
    "binned_df.to_csv(outname,columns=['ID',f'label_{binningName}','extra'],sep='\\t',index=False,header=False)"
   ],
   "metadata": {
    "collapsed": false,
    "ExecuteTime": {
     "end_time": "2023-11-17T12:22:30.665954446Z",
     "start_time": "2023-11-17T12:22:30.456886801Z"
    }
   },
   "id": "f6988d6a9b67fb75"
  },
  {
   "cell_type": "code",
   "execution_count": null,
   "outputs": [],
   "source": [],
   "metadata": {
    "collapsed": false
   },
   "id": "93ceb4bd826c73d2"
  }
 ],
 "metadata": {
  "kernelspec": {
   "display_name": "Python 3",
   "language": "python",
   "name": "python3"
  },
  "language_info": {
   "codemirror_mode": {
    "name": "ipython",
    "version": 2
   },
   "file_extension": ".py",
   "mimetype": "text/x-python",
   "name": "python",
   "nbconvert_exporter": "python",
   "pygments_lexer": "ipython2",
   "version": "2.7.6"
  }
 },
 "nbformat": 4,
 "nbformat_minor": 5
}
