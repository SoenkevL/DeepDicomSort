{
 "cells": [
  {
   "cell_type": "code",
   "execution_count": 131,
   "id": "initial_id",
   "metadata": {
    "collapsed": true,
    "ExecuteTime": {
     "end_time": "2023-11-28T12:21:54.520257847Z",
     "start_time": "2023-11-28T12:21:54.318844344Z"
    }
   },
   "outputs": [],
   "source": [
    "import pandas as pd\n",
    "import os\n",
    "import numpy as np"
   ]
  },
  {
   "cell_type": "code",
   "execution_count": 132,
   "outputs": [],
   "source": [
    "df_path = 'parelsnoer/Labels_parelsnoer_annotated_extensive3_pruned.txt'\n",
    "binningName = 'DDS_binning'"
   ],
   "metadata": {
    "collapsed": false,
    "ExecuteTime": {
     "end_time": "2023-11-28T12:21:54.522371415Z",
     "start_time": "2023-11-28T12:21:54.364523187Z"
    }
   },
   "id": "939e97727d208644"
  },
  {
   "cell_type": "code",
   "execution_count": 133,
   "outputs": [],
   "source": [
    "original_labelmap = {\n",
    "    \"T1\":0,\n",
    "    \"T1_c\":1,\n",
    "    \"T2\":2,\n",
    "    \"T2-FLAIR\":3,\n",
    "    \"PD\":4,\n",
    "    \"SWI\":5,\n",
    "    \"GRE\":6,\n",
    "    \"T2*\":7,\n",
    "    \"DWI\":8,\n",
    "    \"ADC\":9,\n",
    "    \"BOLD\":10,\n",
    "    \"angio\":11,\n",
    "    \"PWI\":12,\n",
    "    \"ASL\":13,\n",
    "    \"DTI\":14,\n",
    "    \"Other\":15\n",
    "}"
   ],
   "metadata": {
    "collapsed": false,
    "ExecuteTime": {
     "end_time": "2023-11-28T12:21:54.522465791Z",
     "start_time": "2023-11-28T12:21:54.364591677Z"
    }
   },
   "id": "a1a51e3979d1ce3d"
  },
  {
   "cell_type": "code",
   "execution_count": 134,
   "outputs": [],
   "source": [
    "all_binnings_dict = {\n",
    "    'DDS_binning': {\n",
    "        'non_DDS': ['SWI','GRE','T2*','ADC','BOLD','angio','ASL','DTI']\n",
    "    },\n",
    "    'alternative_binning': {\n",
    "        'diffusion' : ['DWI', 'ADC', 'DTI'],\n",
    "        'perfusion' : ['BOLD', 'ASL', 'angio', 'PWI'],\n",
    "        'suscept' : ['SWI','GRE','T2*']\n",
    "    }\n",
    "}"
   ],
   "metadata": {
    "collapsed": false,
    "ExecuteTime": {
     "end_time": "2023-11-28T12:21:54.522538761Z",
     "start_time": "2023-11-28T12:21:54.364627856Z"
    }
   },
   "id": "a85a344e800b6fe0"
  },
  {
   "cell_type": "code",
   "execution_count": 135,
   "outputs": [],
   "source": [
    "def createBinning(original_labelmap, binningDict):\n",
    "    orignal_labelmap_copy = original_labelmap.copy()\n",
    "    new_labelmap = {}\n",
    "    transfer_array = np.zeros(len(original_labelmap))\n",
    "    class_counter = 0\n",
    "    for bin_name, bin_items in binningDict.items():\n",
    "        new_labelmap[bin_name] = class_counter\n",
    "        for item in list(bin_items):\n",
    "            transfer_array[original_labelmap[item]] = class_counter\n",
    "            orignal_labelmap_copy.pop(item)\n",
    "        class_counter += 1\n",
    "    for name, item in orignal_labelmap_copy.items():\n",
    "        new_labelmap[name] = class_counter\n",
    "        transfer_array[item] = class_counter\n",
    "        class_counter += 1\n",
    "    unchangedLabels = orignal_labelmap_copy\n",
    "    return new_labelmap, transfer_array, class_counter, unchangedLabels\n",
    "    "
   ],
   "metadata": {
    "collapsed": false,
    "ExecuteTime": {
     "end_time": "2023-11-28T12:21:54.522605211Z",
     "start_time": "2023-11-28T12:21:54.364658272Z"
    }
   },
   "id": "1864c3b54ac400c"
  },
  {
   "cell_type": "code",
   "execution_count": 136,
   "outputs": [],
   "source": [
    "new_labelmap, transfer_array, class_counter, unchangedLabels = createBinning(original_labelmap, all_binnings_dict[binningName])"
   ],
   "metadata": {
    "collapsed": false,
    "ExecuteTime": {
     "end_time": "2023-11-28T12:21:54.522670479Z",
     "start_time": "2023-11-28T12:21:54.364691486Z"
    }
   },
   "id": "8d9f13fa78c09701"
  },
  {
   "cell_type": "code",
   "execution_count": 137,
   "outputs": [],
   "source": [
    "def apply_binning_to_df(original_df, transfer_array, suffix=\"\"):\n",
    "    df = original_df.copy()\n",
    "    suffix = '_'+suffix\n",
    "    df[f'label{suffix}'] = df['label'].apply(lambda x: int(transfer_array[x]))\n",
    "    return df"
   ],
   "metadata": {
    "collapsed": false,
    "ExecuteTime": {
     "end_time": "2023-11-28T12:21:54.522856695Z",
     "start_time": "2023-11-28T12:21:54.366039432Z"
    }
   },
   "id": "be203e5b0bfce3a8"
  },
  {
   "cell_type": "code",
   "execution_count": 138,
   "outputs": [],
   "source": [
    "origin_df = pd.read_csv(df_path,names=['ID','label','extra'],sep='\\t', dtype={'ID':str,'label':int,'extra':int})"
   ],
   "metadata": {
    "collapsed": false,
    "ExecuteTime": {
     "end_time": "2023-11-28T12:21:54.522934815Z",
     "start_time": "2023-11-28T12:21:54.408561612Z"
    }
   },
   "id": "fb465260c3311e54"
  },
  {
   "cell_type": "code",
   "execution_count": 139,
   "outputs": [],
   "source": [
    "binned_df = apply_binning_to_df(origin_df, transfer_array, suffix=binningName)"
   ],
   "metadata": {
    "collapsed": false,
    "ExecuteTime": {
     "end_time": "2023-11-28T12:21:54.523055267Z",
     "start_time": "2023-11-28T12:21:54.456904955Z"
    }
   },
   "id": "acf218f52f735d0a"
  },
  {
   "cell_type": "code",
   "execution_count": 140,
   "outputs": [
    {
     "data": {
      "text/plain": "                                                      ID  label  extra  \\\n0      /data/scratch/r098375/data/parelsnoer_new/NIFT...      7      0   \n1      /data/scratch/r098375/data/parelsnoer_new/NIFT...      7      0   \n2      /data/scratch/r098375/data/parelsnoer_new/NIFT...      7      0   \n3      /data/scratch/r098375/data/parelsnoer_new/NIFT...      7      0   \n4      /data/scratch/r098375/data/parelsnoer_new/NIFT...      7      0   \n...                                                  ...    ...    ...   \n35455  /data/scratch/r098375/data/parelsnoer_new/NIFT...     15      0   \n35456  /data/scratch/r098375/data/parelsnoer_new/NIFT...     15      0   \n35457  /data/scratch/r098375/data/parelsnoer_new/NIFT...     15      0   \n35458  /data/scratch/r098375/data/parelsnoer_new/NIFT...     15      0   \n35459  /data/scratch/r098375/data/parelsnoer_new/NIFT...     15      0   \n\n       label_DDS_binning  \n0                      0  \n1                      0  \n2                      0  \n3                      0  \n4                      0  \n...                  ...  \n35455                  8  \n35456                  8  \n35457                  8  \n35458                  8  \n35459                  8  \n\n[35460 rows x 4 columns]",
      "text/html": "<div>\n<style scoped>\n    .dataframe tbody tr th:only-of-type {\n        vertical-align: middle;\n    }\n\n    .dataframe tbody tr th {\n        vertical-align: top;\n    }\n\n    .dataframe thead th {\n        text-align: right;\n    }\n</style>\n<table border=\"1\" class=\"dataframe\">\n  <thead>\n    <tr style=\"text-align: right;\">\n      <th></th>\n      <th>ID</th>\n      <th>label</th>\n      <th>extra</th>\n      <th>label_DDS_binning</th>\n    </tr>\n  </thead>\n  <tbody>\n    <tr>\n      <th>0</th>\n      <td>/data/scratch/r098375/data/parelsnoer_new/NIFT...</td>\n      <td>7</td>\n      <td>0</td>\n      <td>0</td>\n    </tr>\n    <tr>\n      <th>1</th>\n      <td>/data/scratch/r098375/data/parelsnoer_new/NIFT...</td>\n      <td>7</td>\n      <td>0</td>\n      <td>0</td>\n    </tr>\n    <tr>\n      <th>2</th>\n      <td>/data/scratch/r098375/data/parelsnoer_new/NIFT...</td>\n      <td>7</td>\n      <td>0</td>\n      <td>0</td>\n    </tr>\n    <tr>\n      <th>3</th>\n      <td>/data/scratch/r098375/data/parelsnoer_new/NIFT...</td>\n      <td>7</td>\n      <td>0</td>\n      <td>0</td>\n    </tr>\n    <tr>\n      <th>4</th>\n      <td>/data/scratch/r098375/data/parelsnoer_new/NIFT...</td>\n      <td>7</td>\n      <td>0</td>\n      <td>0</td>\n    </tr>\n    <tr>\n      <th>...</th>\n      <td>...</td>\n      <td>...</td>\n      <td>...</td>\n      <td>...</td>\n    </tr>\n    <tr>\n      <th>35455</th>\n      <td>/data/scratch/r098375/data/parelsnoer_new/NIFT...</td>\n      <td>15</td>\n      <td>0</td>\n      <td>8</td>\n    </tr>\n    <tr>\n      <th>35456</th>\n      <td>/data/scratch/r098375/data/parelsnoer_new/NIFT...</td>\n      <td>15</td>\n      <td>0</td>\n      <td>8</td>\n    </tr>\n    <tr>\n      <th>35457</th>\n      <td>/data/scratch/r098375/data/parelsnoer_new/NIFT...</td>\n      <td>15</td>\n      <td>0</td>\n      <td>8</td>\n    </tr>\n    <tr>\n      <th>35458</th>\n      <td>/data/scratch/r098375/data/parelsnoer_new/NIFT...</td>\n      <td>15</td>\n      <td>0</td>\n      <td>8</td>\n    </tr>\n    <tr>\n      <th>35459</th>\n      <td>/data/scratch/r098375/data/parelsnoer_new/NIFT...</td>\n      <td>15</td>\n      <td>0</td>\n      <td>8</td>\n    </tr>\n  </tbody>\n</table>\n<p>35460 rows × 4 columns</p>\n</div>"
     },
     "execution_count": 140,
     "metadata": {},
     "output_type": "execute_result"
    }
   ],
   "source": [
    "binned_df"
   ],
   "metadata": {
    "collapsed": false,
    "ExecuteTime": {
     "end_time": "2023-11-28T12:21:54.523531918Z",
     "start_time": "2023-11-28T12:21:54.504627201Z"
    }
   },
   "id": "3ce304114f0b14e3"
  },
  {
   "cell_type": "code",
   "execution_count": 141,
   "outputs": [
    {
     "data": {
      "text/plain": "label_DDS_binning  label\n0                  14       9600\n                   7        7350\n                   13        990\n                   5          75\n1                  0        9195\n2                  1          45\n4                  3        2475\n7                  12        495\n8                  15       5235\nName: count, dtype: int64"
     },
     "execution_count": 141,
     "metadata": {},
     "output_type": "execute_result"
    }
   ],
   "source": [
    "binned_df.groupby(f'label_{binningName}')['label'].value_counts()"
   ],
   "metadata": {
    "collapsed": false,
    "ExecuteTime": {
     "end_time": "2023-11-28T12:21:54.523746355Z",
     "start_time": "2023-11-28T12:21:54.504709519Z"
    }
   },
   "id": "1878bde34b7e5396"
  },
  {
   "cell_type": "code",
   "execution_count": 142,
   "outputs": [
    {
     "data": {
      "text/plain": "{'non_DDS': 0,\n 'T1': 1,\n 'T1_c': 2,\n 'T2': 3,\n 'T2-FLAIR': 4,\n 'PD': 5,\n 'DWI': 6,\n 'PWI': 7,\n 'Other': 8}"
     },
     "execution_count": 142,
     "metadata": {},
     "output_type": "execute_result"
    }
   ],
   "source": [
    "new_labelmap"
   ],
   "metadata": {
    "collapsed": false,
    "ExecuteTime": {
     "end_time": "2023-11-28T12:21:54.523913704Z",
     "start_time": "2023-11-28T12:21:54.504754357Z"
    }
   },
   "id": "7ed455f30abcde5d"
  },
  {
   "cell_type": "code",
   "execution_count": 143,
   "outputs": [],
   "source": [
    "extension = os.path.splitext(df_path)\n",
    "basename = extension[0]\n",
    "extension = extension[1]\n",
    "outname = f'{basename}_{binningName}{extension}'\n",
    "binned_df.to_csv(outname,columns=['ID',f'label_{binningName}','extra'],sep='\\t',index=False,header=False)"
   ],
   "metadata": {
    "collapsed": false,
    "ExecuteTime": {
     "end_time": "2023-11-28T12:21:54.720666214Z",
     "start_time": "2023-11-28T12:21:54.504865248Z"
    }
   },
   "id": "f6988d6a9b67fb75"
  },
  {
   "cell_type": "code",
   "execution_count": 143,
   "outputs": [],
   "source": [],
   "metadata": {
    "collapsed": false,
    "ExecuteTime": {
     "end_time": "2023-11-28T12:21:54.720782845Z",
     "start_time": "2023-11-28T12:21:54.698952517Z"
    }
   },
   "id": "93ceb4bd826c73d2"
  }
 ],
 "metadata": {
  "kernelspec": {
   "display_name": "Python 3",
   "language": "python",
   "name": "python3"
  },
  "language_info": {
   "codemirror_mode": {
    "name": "ipython",
    "version": 2
   },
   "file_extension": ".py",
   "mimetype": "text/x-python",
   "name": "python",
   "nbconvert_exporter": "python",
   "pygments_lexer": "ipython2",
   "version": "2.7.6"
  }
 },
 "nbformat": 4,
 "nbformat_minor": 5
}
