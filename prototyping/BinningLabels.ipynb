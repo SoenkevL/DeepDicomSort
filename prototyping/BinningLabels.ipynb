{
 "cells": [
  {
   "cell_type": "code",
   "execution_count": 40,
   "id": "initial_id",
   "metadata": {
    "collapsed": true,
    "ExecuteTime": {
     "end_time": "2023-11-23T14:13:50.920927715Z",
     "start_time": "2023-11-23T14:13:50.840667338Z"
    }
   },
   "outputs": [],
   "source": [
    "import pandas as pd\n",
    "import os\n",
    "import numpy as np"
   ]
  },
  {
   "cell_type": "code",
   "execution_count": 41,
   "outputs": [],
   "source": [
    "df_path = 'combinedDfs/CombinedTrainingFrame_A2_A3_O3_egd_rss_hb_pruned.txt'\n",
    "binningName = 'DDS_binning'"
   ],
   "metadata": {
    "collapsed": false,
    "ExecuteTime": {
     "end_time": "2023-11-23T14:13:50.921479819Z",
     "start_time": "2023-11-23T14:13:50.892827101Z"
    }
   },
   "id": "939e97727d208644"
  },
  {
   "cell_type": "code",
   "execution_count": 42,
   "outputs": [],
   "source": [
    "original_labelmap = {\n",
    "    \"T1\":0,\n",
    "    \"T1_c\":1,\n",
    "    \"T2\":2,\n",
    "    \"T2-FLAIR\":3,\n",
    "    \"PD\":4,\n",
    "    \"SWI\":5,\n",
    "    \"GRE\":6,\n",
    "    \"T2*\":7,\n",
    "    \"DWI\":8,\n",
    "    \"ADC\":9,\n",
    "    \"BOLD\":10,\n",
    "    \"angio\":11,\n",
    "    \"PWI\":12,\n",
    "    \"ASL\":13,\n",
    "    \"DTI\":14,\n",
    "    \"Other\":15\n",
    "}"
   ],
   "metadata": {
    "collapsed": false,
    "ExecuteTime": {
     "end_time": "2023-11-23T14:13:50.921567909Z",
     "start_time": "2023-11-23T14:13:50.892947588Z"
    }
   },
   "id": "a1a51e3979d1ce3d"
  },
  {
   "cell_type": "code",
   "execution_count": 43,
   "outputs": [],
   "source": [
    "all_binnings_dict = {\n",
    "    'DDS_binning': {\n",
    "        'non_DDS': ['SWI','GRE','T2*','ADC','BOLD','angio','ASL','DTI']\n",
    "    },\n",
    "    'alternative_binning': {\n",
    "        'diffusion' : ['DWI', 'ADC', 'DTI'],\n",
    "        'perfusion' : ['BOLD', 'ASL', 'angio', 'PWI'],\n",
    "        'suscept' : ['SWI','GRE','T2*']\n",
    "    }\n",
    "}"
   ],
   "metadata": {
    "collapsed": false,
    "ExecuteTime": {
     "end_time": "2023-11-23T14:13:50.921643075Z",
     "start_time": "2023-11-23T14:13:50.893001096Z"
    }
   },
   "id": "a85a344e800b6fe0"
  },
  {
   "cell_type": "code",
   "execution_count": 44,
   "outputs": [],
   "source": [
    "def createBinning(original_labelmap, binningDict):\n",
    "    orignal_labelmap_copy = original_labelmap.copy()\n",
    "    new_labelmap = {}\n",
    "    transfer_array = np.zeros(len(original_labelmap))\n",
    "    class_counter = 0\n",
    "    for bin_name, bin_items in binningDict.items():\n",
    "        new_labelmap[bin_name] = class_counter\n",
    "        for item in list(bin_items):\n",
    "            transfer_array[original_labelmap[item]] = class_counter\n",
    "            orignal_labelmap_copy.pop(item)\n",
    "        class_counter += 1\n",
    "    for name, item in orignal_labelmap_copy.items():\n",
    "        new_labelmap[name] = class_counter\n",
    "        transfer_array[item] = class_counter\n",
    "        class_counter += 1\n",
    "    unchangedLabels = orignal_labelmap_copy\n",
    "    return new_labelmap, transfer_array, class_counter, unchangedLabels\n",
    "    "
   ],
   "metadata": {
    "collapsed": false,
    "ExecuteTime": {
     "end_time": "2023-11-23T14:13:50.921768138Z",
     "start_time": "2023-11-23T14:13:50.893054272Z"
    }
   },
   "id": "1864c3b54ac400c"
  },
  {
   "cell_type": "code",
   "execution_count": 45,
   "outputs": [],
   "source": [
    "new_labelmap, transfer_array, class_counter, unchangedLabels = createBinning(original_labelmap, all_binnings_dict[binningName])"
   ],
   "metadata": {
    "collapsed": false,
    "ExecuteTime": {
     "end_time": "2023-11-23T14:13:50.937189081Z",
     "start_time": "2023-11-23T14:13:50.893093517Z"
    }
   },
   "id": "8d9f13fa78c09701"
  },
  {
   "cell_type": "code",
   "execution_count": 46,
   "outputs": [],
   "source": [
    "def apply_binning_to_df(original_df, transfer_array, suffix=\"\"):\n",
    "    df = original_df.copy()\n",
    "    suffix = '_'+suffix\n",
    "    df[f'label{suffix}'] = df['label'].apply(lambda x: int(transfer_array[x]))\n",
    "    return df"
   ],
   "metadata": {
    "collapsed": false,
    "ExecuteTime": {
     "end_time": "2023-11-23T14:13:50.937388203Z",
     "start_time": "2023-11-23T14:13:50.936976668Z"
    }
   },
   "id": "be203e5b0bfce3a8"
  },
  {
   "cell_type": "code",
   "execution_count": 47,
   "outputs": [],
   "source": [
    "origin_df = pd.read_csv(df_path,names=['ID','label','extra'],sep='\\t', dtype={'ID':str,'label':int,'extra':int})"
   ],
   "metadata": {
    "collapsed": false,
    "ExecuteTime": {
     "end_time": "2023-11-23T14:13:51.760869756Z",
     "start_time": "2023-11-23T14:13:50.937144518Z"
    }
   },
   "id": "fb465260c3311e54"
  },
  {
   "cell_type": "code",
   "execution_count": 48,
   "outputs": [],
   "source": [
    "binned_df = apply_binning_to_df(origin_df, transfer_array, suffix=binningName)"
   ],
   "metadata": {
    "collapsed": false,
    "ExecuteTime": {
     "end_time": "2023-11-23T14:13:51.926298432Z",
     "start_time": "2023-11-23T14:13:51.771239515Z"
    }
   },
   "id": "acf218f52f735d0a"
  },
  {
   "cell_type": "code",
   "execution_count": 49,
   "outputs": [
    {
     "data": {
      "text/plain": "                                                       ID  label  extra  \\\n0       /trinity/home/r098375/DDS/data/ADNI/ADNI3/trai...      3      0   \n1       /trinity/home/r098375/DDS/data/ADNI/ADNI3/trai...      7      0   \n2       /trinity/home/r098375/DDS/data/ADNI/ADNI3/trai...      0      0   \n3       /trinity/home/r098375/DDS/data/ADNI/ADNI3/trai...      3      0   \n4       /trinity/home/r098375/DDS/data/ADNI/ADNI3/trai...     15      0   \n...                                                   ...    ...    ...   \n541180  /trinity/home/r098375/DDS/data/HeartBrain/NIFT...     15      0   \n541181  /trinity/home/r098375/DDS/data/HeartBrain/NIFT...     15      0   \n541182  /trinity/home/r098375/DDS/data/HeartBrain/NIFT...     15      0   \n541183  /trinity/home/r098375/DDS/data/HeartBrain/NIFT...     15      0   \n541184  /trinity/home/r098375/DDS/data/HeartBrain/NIFT...     15      0   \n\n        label_DDS_binning  \n0                       4  \n1                       0  \n2                       1  \n3                       4  \n4                       8  \n...                   ...  \n541180                  8  \n541181                  8  \n541182                  8  \n541183                  8  \n541184                  8  \n\n[541185 rows x 4 columns]",
      "text/html": "<div>\n<style scoped>\n    .dataframe tbody tr th:only-of-type {\n        vertical-align: middle;\n    }\n\n    .dataframe tbody tr th {\n        vertical-align: top;\n    }\n\n    .dataframe thead th {\n        text-align: right;\n    }\n</style>\n<table border=\"1\" class=\"dataframe\">\n  <thead>\n    <tr style=\"text-align: right;\">\n      <th></th>\n      <th>ID</th>\n      <th>label</th>\n      <th>extra</th>\n      <th>label_DDS_binning</th>\n    </tr>\n  </thead>\n  <tbody>\n    <tr>\n      <th>0</th>\n      <td>/trinity/home/r098375/DDS/data/ADNI/ADNI3/trai...</td>\n      <td>3</td>\n      <td>0</td>\n      <td>4</td>\n    </tr>\n    <tr>\n      <th>1</th>\n      <td>/trinity/home/r098375/DDS/data/ADNI/ADNI3/trai...</td>\n      <td>7</td>\n      <td>0</td>\n      <td>0</td>\n    </tr>\n    <tr>\n      <th>2</th>\n      <td>/trinity/home/r098375/DDS/data/ADNI/ADNI3/trai...</td>\n      <td>0</td>\n      <td>0</td>\n      <td>1</td>\n    </tr>\n    <tr>\n      <th>3</th>\n      <td>/trinity/home/r098375/DDS/data/ADNI/ADNI3/trai...</td>\n      <td>3</td>\n      <td>0</td>\n      <td>4</td>\n    </tr>\n    <tr>\n      <th>4</th>\n      <td>/trinity/home/r098375/DDS/data/ADNI/ADNI3/trai...</td>\n      <td>15</td>\n      <td>0</td>\n      <td>8</td>\n    </tr>\n    <tr>\n      <th>...</th>\n      <td>...</td>\n      <td>...</td>\n      <td>...</td>\n      <td>...</td>\n    </tr>\n    <tr>\n      <th>541180</th>\n      <td>/trinity/home/r098375/DDS/data/HeartBrain/NIFT...</td>\n      <td>15</td>\n      <td>0</td>\n      <td>8</td>\n    </tr>\n    <tr>\n      <th>541181</th>\n      <td>/trinity/home/r098375/DDS/data/HeartBrain/NIFT...</td>\n      <td>15</td>\n      <td>0</td>\n      <td>8</td>\n    </tr>\n    <tr>\n      <th>541182</th>\n      <td>/trinity/home/r098375/DDS/data/HeartBrain/NIFT...</td>\n      <td>15</td>\n      <td>0</td>\n      <td>8</td>\n    </tr>\n    <tr>\n      <th>541183</th>\n      <td>/trinity/home/r098375/DDS/data/HeartBrain/NIFT...</td>\n      <td>15</td>\n      <td>0</td>\n      <td>8</td>\n    </tr>\n    <tr>\n      <th>541184</th>\n      <td>/trinity/home/r098375/DDS/data/HeartBrain/NIFT...</td>\n      <td>15</td>\n      <td>0</td>\n      <td>8</td>\n    </tr>\n  </tbody>\n</table>\n<p>541185 rows × 4 columns</p>\n</div>"
     },
     "execution_count": 49,
     "metadata": {},
     "output_type": "execute_result"
    }
   ],
   "source": [
    "binned_df"
   ],
   "metadata": {
    "collapsed": false,
    "ExecuteTime": {
     "end_time": "2023-11-23T14:13:51.973445176Z",
     "start_time": "2023-11-23T14:13:51.972858838Z"
    }
   },
   "id": "3ce304114f0b14e3"
  },
  {
   "cell_type": "code",
   "execution_count": 50,
   "outputs": [
    {
     "data": {
      "text/plain": "label_DDS_binning  label\n0                  7         73110\n                   10        40515\n                   13        20670\n                   5         14280\n                   11         7305\n                   6          5835\n                   14         2175\n                   9          1395\n1                  0         70110\n2                  1          5175\n3                  2         39540\n4                  3         37095\n5                  4          3390\n6                  8         32925\n7                  12        18405\n8                  15       169260\nName: count, dtype: int64"
     },
     "execution_count": 50,
     "metadata": {},
     "output_type": "execute_result"
    }
   ],
   "source": [
    "binned_df.groupby(f'label_{binningName}')['label'].value_counts()"
   ],
   "metadata": {
    "collapsed": false,
    "ExecuteTime": {
     "end_time": "2023-11-23T14:13:51.973675946Z",
     "start_time": "2023-11-23T14:13:51.973007904Z"
    }
   },
   "id": "1878bde34b7e5396"
  },
  {
   "cell_type": "code",
   "execution_count": 51,
   "outputs": [
    {
     "data": {
      "text/plain": "{'non_DDS': 0,\n 'T1': 1,\n 'T1_c': 2,\n 'T2': 3,\n 'T2-FLAIR': 4,\n 'PD': 5,\n 'DWI': 6,\n 'PWI': 7,\n 'Other': 8}"
     },
     "execution_count": 51,
     "metadata": {},
     "output_type": "execute_result"
    }
   ],
   "source": [
    "new_labelmap"
   ],
   "metadata": {
    "collapsed": false,
    "ExecuteTime": {
     "end_time": "2023-11-23T14:13:51.973825868Z",
     "start_time": "2023-11-23T14:13:51.973063614Z"
    }
   },
   "id": "7ed455f30abcde5d"
  },
  {
   "cell_type": "code",
   "execution_count": 52,
   "outputs": [],
   "source": [
    "extension = os.path.splitext(df_path)\n",
    "basename = extension[0]\n",
    "extension = extension[1]\n",
    "outname = f'{basename}_{binningName}{extension}'\n",
    "binned_df.to_csv(outname,columns=['ID',f'label_{binningName}','extra'],sep='\\t',index=False,header=False)"
   ],
   "metadata": {
    "collapsed": false,
    "ExecuteTime": {
     "end_time": "2023-11-23T14:13:53.689202009Z",
     "start_time": "2023-11-23T14:13:52.016761586Z"
    }
   },
   "id": "f6988d6a9b67fb75"
  },
  {
   "cell_type": "code",
   "execution_count": 52,
   "outputs": [],
   "source": [],
   "metadata": {
    "collapsed": false,
    "ExecuteTime": {
     "end_time": "2023-11-23T14:13:53.733006939Z",
     "start_time": "2023-11-23T14:13:53.689570657Z"
    }
   },
   "id": "93ceb4bd826c73d2"
  }
 ],
 "metadata": {
  "kernelspec": {
   "display_name": "Python 3",
   "language": "python",
   "name": "python3"
  },
  "language_info": {
   "codemirror_mode": {
    "name": "ipython",
    "version": 2
   },
   "file_extension": ".py",
   "mimetype": "text/x-python",
   "name": "python",
   "nbconvert_exporter": "python",
   "pygments_lexer": "ipython2",
   "version": "2.7.6"
  }
 },
 "nbformat": 4,
 "nbformat_minor": 5
}
