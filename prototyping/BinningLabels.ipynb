{
 "cells": [
  {
   "cell_type": "code",
   "execution_count": 14,
   "id": "initial_id",
   "metadata": {
    "collapsed": true,
    "ExecuteTime": {
     "end_time": "2023-11-20T11:02:46.293447704Z",
     "start_time": "2023-11-20T11:02:46.228593269Z"
    }
   },
   "outputs": [],
   "source": [
    "import pandas as pd\n",
    "import os\n",
    "import numpy as np"
   ]
  },
  {
   "cell_type": "code",
   "execution_count": 15,
   "outputs": [],
   "source": [
    "df_path = 'parelsnoer/parelsnoer_Labels_extensive3_pruned.txt'\n",
    "binningName = 'alternative_binning'"
   ],
   "metadata": {
    "collapsed": false,
    "ExecuteTime": {
     "end_time": "2023-11-20T11:02:46.293707026Z",
     "start_time": "2023-11-20T11:02:46.271916793Z"
    }
   },
   "id": "939e97727d208644"
  },
  {
   "cell_type": "code",
   "execution_count": 16,
   "outputs": [],
   "source": [
    "original_labelmap = {\n",
    "    \"T1\":0,\n",
    "    \"T1_c\":1,\n",
    "    \"T2\":2,\n",
    "    \"T2-FLAIR\":3,\n",
    "    \"PD\":4,\n",
    "    \"SWI\":5,\n",
    "    \"GRE\":6,\n",
    "    \"T2*\":7,\n",
    "    \"DWI\":8,\n",
    "    \"ADC\":9,\n",
    "    \"BOLD\":10,\n",
    "    \"angio\":11,\n",
    "    \"PWI\":12,\n",
    "    \"ASL\":13,\n",
    "    \"DTI\":14,\n",
    "    \"Other\":15\n",
    "}"
   ],
   "metadata": {
    "collapsed": false,
    "ExecuteTime": {
     "end_time": "2023-11-20T11:02:46.293862855Z",
     "start_time": "2023-11-20T11:02:46.272258605Z"
    }
   },
   "id": "a1a51e3979d1ce3d"
  },
  {
   "cell_type": "code",
   "execution_count": 17,
   "outputs": [],
   "source": [
    "all_binnings_dict = {\n",
    "    'DDS_binning': {\n",
    "        'non_DDS': ['SWI','GRE','T2*','ADC','BOLD','angio','ASL','DTI']\n",
    "    },\n",
    "    'alternative_binning': {\n",
    "        'diffusion' : ['DWI', 'ADC', 'DTI'],\n",
    "        'perfusion' : ['BOLD', 'ASL', 'angio', 'PWI'],\n",
    "        'suscept' : ['SWI','GRE','T2*']\n",
    "    }\n",
    "}"
   ],
   "metadata": {
    "collapsed": false,
    "ExecuteTime": {
     "end_time": "2023-11-20T11:02:46.293993518Z",
     "start_time": "2023-11-20T11:02:46.272547267Z"
    }
   },
   "id": "a85a344e800b6fe0"
  },
  {
   "cell_type": "code",
   "execution_count": 18,
   "outputs": [],
   "source": [
    "def createBinning(original_labelmap, binningDict):\n",
    "    orignal_labelmap_copy = original_labelmap.copy()\n",
    "    new_labelmap = {}\n",
    "    transfer_array = np.zeros(len(original_labelmap))\n",
    "    class_counter = 0\n",
    "    for bin_name, bin_items in binningDict.items():\n",
    "        new_labelmap[bin_name] = class_counter\n",
    "        for item in list(bin_items):\n",
    "            transfer_array[original_labelmap[item]] = class_counter\n",
    "            orignal_labelmap_copy.pop(item)\n",
    "        class_counter += 1\n",
    "    for name, item in orignal_labelmap_copy.items():\n",
    "        new_labelmap[name] = class_counter\n",
    "        transfer_array[item] = class_counter\n",
    "        class_counter += 1\n",
    "    unchangedLabels = orignal_labelmap_copy\n",
    "    return new_labelmap, transfer_array, class_counter, unchangedLabels\n",
    "    "
   ],
   "metadata": {
    "collapsed": false,
    "ExecuteTime": {
     "end_time": "2023-11-20T11:02:46.294126705Z",
     "start_time": "2023-11-20T11:02:46.272758449Z"
    }
   },
   "id": "1864c3b54ac400c"
  },
  {
   "cell_type": "code",
   "execution_count": 19,
   "outputs": [],
   "source": [
    "new_labelmap, transfer_array, class_counter, unchangedLabels = createBinning(original_labelmap, all_binnings_dict[binningName])"
   ],
   "metadata": {
    "collapsed": false,
    "ExecuteTime": {
     "end_time": "2023-11-20T11:02:46.326005901Z",
     "start_time": "2023-11-20T11:02:46.275784314Z"
    }
   },
   "id": "8d9f13fa78c09701"
  },
  {
   "cell_type": "code",
   "execution_count": 20,
   "outputs": [],
   "source": [
    "def apply_binning_to_df(original_df, transfer_array, suffix=\"\"):\n",
    "    df = original_df.copy()\n",
    "    suffix = '_'+suffix\n",
    "    df[f'label{suffix}'] = df['label'].apply(lambda x: int(transfer_array[x]))\n",
    "    return df"
   ],
   "metadata": {
    "collapsed": false,
    "ExecuteTime": {
     "end_time": "2023-11-20T11:02:46.326345407Z",
     "start_time": "2023-11-20T11:02:46.319889988Z"
    }
   },
   "id": "be203e5b0bfce3a8"
  },
  {
   "cell_type": "code",
   "execution_count": 21,
   "outputs": [],
   "source": [
    "origin_df = pd.read_csv(df_path,names=['ID','label','extra'],sep='\\t', dtype={'ID':str,'label':int,'extra':int})"
   ],
   "metadata": {
    "collapsed": false,
    "ExecuteTime": {
     "end_time": "2023-11-20T11:02:46.326558898Z",
     "start_time": "2023-11-20T11:02:46.320174288Z"
    }
   },
   "id": "fb465260c3311e54"
  },
  {
   "cell_type": "code",
   "execution_count": 22,
   "outputs": [],
   "source": [
    "binned_df = apply_binning_to_df(origin_df, transfer_array, suffix=binningName)"
   ],
   "metadata": {
    "collapsed": false,
    "ExecuteTime": {
     "end_time": "2023-11-20T11:02:46.380593030Z",
     "start_time": "2023-11-20T11:02:46.370469796Z"
    }
   },
   "id": "acf218f52f735d0a"
  },
  {
   "cell_type": "code",
   "execution_count": 23,
   "outputs": [
    {
     "data": {
      "text/plain": "                                                      ID  label  extra  \\\n0      /trinity/home/r098375/DDS/data/parelsnoer/NIFT...     14      0   \n1      /trinity/home/r098375/DDS/data/parelsnoer/NIFT...     14      0   \n2      /trinity/home/r098375/DDS/data/parelsnoer/NIFT...     14      0   \n3      /trinity/home/r098375/DDS/data/parelsnoer/NIFT...     14      0   \n4      /trinity/home/r098375/DDS/data/parelsnoer/NIFT...     14      0   \n...                                                  ...    ...    ...   \n11140  /trinity/home/r098375/DDS/data/parelsnoer/NIFT...     14      0   \n11141  /trinity/home/r098375/DDS/data/parelsnoer/NIFT...     14      0   \n11142  /trinity/home/r098375/DDS/data/parelsnoer/NIFT...     14      0   \n11143  /trinity/home/r098375/DDS/data/parelsnoer/NIFT...     14      0   \n11144  /trinity/home/r098375/DDS/data/parelsnoer/NIFT...     14      0   \n\n       label_alternative_binning  \n0                              0  \n1                              0  \n2                              0  \n3                              0  \n4                              0  \n...                          ...  \n11140                          0  \n11141                          0  \n11142                          0  \n11143                          0  \n11144                          0  \n\n[11145 rows x 4 columns]",
      "text/html": "<div>\n<style scoped>\n    .dataframe tbody tr th:only-of-type {\n        vertical-align: middle;\n    }\n\n    .dataframe tbody tr th {\n        vertical-align: top;\n    }\n\n    .dataframe thead th {\n        text-align: right;\n    }\n</style>\n<table border=\"1\" class=\"dataframe\">\n  <thead>\n    <tr style=\"text-align: right;\">\n      <th></th>\n      <th>ID</th>\n      <th>label</th>\n      <th>extra</th>\n      <th>label_alternative_binning</th>\n    </tr>\n  </thead>\n  <tbody>\n    <tr>\n      <th>0</th>\n      <td>/trinity/home/r098375/DDS/data/parelsnoer/NIFT...</td>\n      <td>14</td>\n      <td>0</td>\n      <td>0</td>\n    </tr>\n    <tr>\n      <th>1</th>\n      <td>/trinity/home/r098375/DDS/data/parelsnoer/NIFT...</td>\n      <td>14</td>\n      <td>0</td>\n      <td>0</td>\n    </tr>\n    <tr>\n      <th>2</th>\n      <td>/trinity/home/r098375/DDS/data/parelsnoer/NIFT...</td>\n      <td>14</td>\n      <td>0</td>\n      <td>0</td>\n    </tr>\n    <tr>\n      <th>3</th>\n      <td>/trinity/home/r098375/DDS/data/parelsnoer/NIFT...</td>\n      <td>14</td>\n      <td>0</td>\n      <td>0</td>\n    </tr>\n    <tr>\n      <th>4</th>\n      <td>/trinity/home/r098375/DDS/data/parelsnoer/NIFT...</td>\n      <td>14</td>\n      <td>0</td>\n      <td>0</td>\n    </tr>\n    <tr>\n      <th>...</th>\n      <td>...</td>\n      <td>...</td>\n      <td>...</td>\n      <td>...</td>\n    </tr>\n    <tr>\n      <th>11140</th>\n      <td>/trinity/home/r098375/DDS/data/parelsnoer/NIFT...</td>\n      <td>14</td>\n      <td>0</td>\n      <td>0</td>\n    </tr>\n    <tr>\n      <th>11141</th>\n      <td>/trinity/home/r098375/DDS/data/parelsnoer/NIFT...</td>\n      <td>14</td>\n      <td>0</td>\n      <td>0</td>\n    </tr>\n    <tr>\n      <th>11142</th>\n      <td>/trinity/home/r098375/DDS/data/parelsnoer/NIFT...</td>\n      <td>14</td>\n      <td>0</td>\n      <td>0</td>\n    </tr>\n    <tr>\n      <th>11143</th>\n      <td>/trinity/home/r098375/DDS/data/parelsnoer/NIFT...</td>\n      <td>14</td>\n      <td>0</td>\n      <td>0</td>\n    </tr>\n    <tr>\n      <th>11144</th>\n      <td>/trinity/home/r098375/DDS/data/parelsnoer/NIFT...</td>\n      <td>14</td>\n      <td>0</td>\n      <td>0</td>\n    </tr>\n  </tbody>\n</table>\n<p>11145 rows × 4 columns</p>\n</div>"
     },
     "execution_count": 23,
     "metadata": {},
     "output_type": "execute_result"
    }
   ],
   "source": [
    "binned_df"
   ],
   "metadata": {
    "collapsed": false,
    "ExecuteTime": {
     "end_time": "2023-11-20T11:02:46.381353674Z",
     "start_time": "2023-11-20T11:02:46.370823845Z"
    }
   },
   "id": "3ce304114f0b14e3"
  },
  {
   "cell_type": "code",
   "execution_count": 24,
   "outputs": [
    {
     "data": {
      "text/plain": "label_alternative_binning  label\n0                          14       7305\n1                          13        990\n2                          5          30\n3                          0        2520\n4                          1          30\n5                          2          75\n8                          15        195\nName: count, dtype: int64"
     },
     "execution_count": 24,
     "metadata": {},
     "output_type": "execute_result"
    }
   ],
   "source": [
    "binned_df.groupby(f'label_{binningName}')['label'].value_counts()"
   ],
   "metadata": {
    "collapsed": false,
    "ExecuteTime": {
     "end_time": "2023-11-20T11:02:46.381702193Z",
     "start_time": "2023-11-20T11:02:46.371131623Z"
    }
   },
   "id": "1878bde34b7e5396"
  },
  {
   "cell_type": "code",
   "execution_count": 25,
   "outputs": [
    {
     "data": {
      "text/plain": "{'diffusion': 0,\n 'perfusion': 1,\n 'suscept': 2,\n 'T1': 3,\n 'T1_c': 4,\n 'T2': 5,\n 'T2-FLAIR': 6,\n 'PD': 7,\n 'Other': 8}"
     },
     "execution_count": 25,
     "metadata": {},
     "output_type": "execute_result"
    }
   ],
   "source": [
    "new_labelmap"
   ],
   "metadata": {
    "collapsed": false,
    "ExecuteTime": {
     "end_time": "2023-11-20T11:02:46.421532370Z",
     "start_time": "2023-11-20T11:02:46.371350460Z"
    }
   },
   "id": "7ed455f30abcde5d"
  },
  {
   "cell_type": "code",
   "execution_count": 26,
   "outputs": [],
   "source": [
    "extension = os.path.splitext(df_path)\n",
    "basename = extension[0]\n",
    "extension = extension[1]\n",
    "outname = f'{basename}_{binningName}{extension}'\n",
    "binned_df.to_csv(outname,columns=['ID',f'label_{binningName}','extra'],sep='\\t',index=False,header=False)"
   ],
   "metadata": {
    "collapsed": false,
    "ExecuteTime": {
     "end_time": "2023-11-20T11:02:46.437291314Z",
     "start_time": "2023-11-20T11:02:46.407763917Z"
    }
   },
   "id": "f6988d6a9b67fb75"
  },
  {
   "cell_type": "code",
   "execution_count": 26,
   "outputs": [],
   "source": [],
   "metadata": {
    "collapsed": false,
    "ExecuteTime": {
     "end_time": "2023-11-20T11:02:46.512271630Z",
     "start_time": "2023-11-20T11:02:46.417813038Z"
    }
   },
   "id": "93ceb4bd826c73d2"
  }
 ],
 "metadata": {
  "kernelspec": {
   "display_name": "Python 3",
   "language": "python",
   "name": "python3"
  },
  "language_info": {
   "codemirror_mode": {
    "name": "ipython",
    "version": 2
   },
   "file_extension": ".py",
   "mimetype": "text/x-python",
   "name": "python",
   "nbconvert_exporter": "python",
   "pygments_lexer": "ipython2",
   "version": "2.7.6"
  }
 },
 "nbformat": 4,
 "nbformat_minor": 5
}
