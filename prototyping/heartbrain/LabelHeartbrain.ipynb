{
 "cells": [
  {
   "cell_type": "code",
   "execution_count": 134,
   "id": "initial_id",
   "metadata": {
    "collapsed": true,
    "ExecuteTime": {
     "end_time": "2023-11-06T15:12:19.251848456Z",
     "start_time": "2023-11-06T15:12:18.766905057Z"
    }
   },
   "outputs": [],
   "source": [
    "import pandas as pd"
   ]
  },
  {
   "cell_type": "code",
   "execution_count": 135,
   "outputs": [],
   "source": [
    "FileFrame = pd.read_csv('FileFrame.csv')"
   ],
   "metadata": {
    "collapsed": false,
    "ExecuteTime": {
     "end_time": "2023-11-06T15:12:19.252050379Z",
     "start_time": "2023-11-06T15:12:18.811212118Z"
    }
   },
   "id": "2a6ba57fa79749af"
  },
  {
   "cell_type": "code",
   "execution_count": 136,
   "outputs": [
    {
     "data": {
      "text/plain": "                                              originPath  \\\n0      /trinity/home/r098375/DDS/data/HeartBrain/data...   \n1      /trinity/home/r098375/DDS/data/HeartBrain/data...   \n2      /trinity/home/r098375/DDS/data/HeartBrain/data...   \n3      /trinity/home/r098375/DDS/data/HeartBrain/data...   \n4      /trinity/home/r098375/DDS/data/HeartBrain/data...   \n...                                                  ...   \n56515  /trinity/home/r098375/DDS/data/HeartBrain/data...   \n56516  /trinity/home/r098375/DDS/data/HeartBrain/data...   \n56517  /trinity/home/r098375/DDS/data/HeartBrain/data...   \n56518  /trinity/home/r098375/DDS/data/HeartBrain/data...   \n56519  /trinity/home/r098375/DDS/data/HeartBrain/data...   \n\n                                     structuredDicomPath  \n0      /trinity/home/r098375/DDS/data/HeartBrain/DICO...  \n1                                                    NaN  \n2      /trinity/home/r098375/DDS/data/HeartBrain/DICO...  \n3                                                    NaN  \n4                                                    NaN  \n...                                                  ...  \n56515  /trinity/home/r098375/DDS/data/HeartBrain/DICO...  \n56516  /trinity/home/r098375/DDS/data/HeartBrain/DICO...  \n56517  /trinity/home/r098375/DDS/data/HeartBrain/DICO...  \n56518  /trinity/home/r098375/DDS/data/HeartBrain/DICO...  \n56519  /trinity/home/r098375/DDS/data/HeartBrain/DICO...  \n\n[56520 rows x 2 columns]",
      "text/html": "<div>\n<style scoped>\n    .dataframe tbody tr th:only-of-type {\n        vertical-align: middle;\n    }\n\n    .dataframe tbody tr th {\n        vertical-align: top;\n    }\n\n    .dataframe thead th {\n        text-align: right;\n    }\n</style>\n<table border=\"1\" class=\"dataframe\">\n  <thead>\n    <tr style=\"text-align: right;\">\n      <th></th>\n      <th>originPath</th>\n      <th>structuredDicomPath</th>\n    </tr>\n  </thead>\n  <tbody>\n    <tr>\n      <th>0</th>\n      <td>/trinity/home/r098375/DDS/data/HeartBrain/data...</td>\n      <td>/trinity/home/r098375/DDS/data/HeartBrain/DICO...</td>\n    </tr>\n    <tr>\n      <th>1</th>\n      <td>/trinity/home/r098375/DDS/data/HeartBrain/data...</td>\n      <td>NaN</td>\n    </tr>\n    <tr>\n      <th>2</th>\n      <td>/trinity/home/r098375/DDS/data/HeartBrain/data...</td>\n      <td>/trinity/home/r098375/DDS/data/HeartBrain/DICO...</td>\n    </tr>\n    <tr>\n      <th>3</th>\n      <td>/trinity/home/r098375/DDS/data/HeartBrain/data...</td>\n      <td>NaN</td>\n    </tr>\n    <tr>\n      <th>4</th>\n      <td>/trinity/home/r098375/DDS/data/HeartBrain/data...</td>\n      <td>NaN</td>\n    </tr>\n    <tr>\n      <th>...</th>\n      <td>...</td>\n      <td>...</td>\n    </tr>\n    <tr>\n      <th>56515</th>\n      <td>/trinity/home/r098375/DDS/data/HeartBrain/data...</td>\n      <td>/trinity/home/r098375/DDS/data/HeartBrain/DICO...</td>\n    </tr>\n    <tr>\n      <th>56516</th>\n      <td>/trinity/home/r098375/DDS/data/HeartBrain/data...</td>\n      <td>/trinity/home/r098375/DDS/data/HeartBrain/DICO...</td>\n    </tr>\n    <tr>\n      <th>56517</th>\n      <td>/trinity/home/r098375/DDS/data/HeartBrain/data...</td>\n      <td>/trinity/home/r098375/DDS/data/HeartBrain/DICO...</td>\n    </tr>\n    <tr>\n      <th>56518</th>\n      <td>/trinity/home/r098375/DDS/data/HeartBrain/data...</td>\n      <td>/trinity/home/r098375/DDS/data/HeartBrain/DICO...</td>\n    </tr>\n    <tr>\n      <th>56519</th>\n      <td>/trinity/home/r098375/DDS/data/HeartBrain/data...</td>\n      <td>/trinity/home/r098375/DDS/data/HeartBrain/DICO...</td>\n    </tr>\n  </tbody>\n</table>\n<p>56520 rows × 2 columns</p>\n</div>"
     },
     "execution_count": 136,
     "metadata": {},
     "output_type": "execute_result"
    }
   ],
   "source": [
    "FileFrame"
   ],
   "metadata": {
    "collapsed": false,
    "ExecuteTime": {
     "end_time": "2023-11-06T15:12:19.252443852Z",
     "start_time": "2023-11-06T15:12:18.914251111Z"
    }
   },
   "id": "971799488a61faf4"
  },
  {
   "cell_type": "code",
   "execution_count": 137,
   "outputs": [],
   "source": [
    "def FindBrainScan(path):\n",
    "    return 'MRI_SCHEDEL' in path or 'MRI_HERSENEN' in path"
   ],
   "metadata": {
    "collapsed": false,
    "ExecuteTime": {
     "end_time": "2023-11-06T15:12:19.252521585Z",
     "start_time": "2023-11-06T15:12:18.959244822Z"
    }
   },
   "id": "fc8e39291397c2c3"
  },
  {
   "cell_type": "code",
   "execution_count": 138,
   "outputs": [],
   "source": [
    "FileFrame['brainscan'] = FileFrame['originPath'].apply(FindBrainScan)"
   ],
   "metadata": {
    "collapsed": false,
    "ExecuteTime": {
     "end_time": "2023-11-06T15:12:19.252584921Z",
     "start_time": "2023-11-06T15:12:18.959370305Z"
    }
   },
   "id": "f86a3d72ec0a16ec"
  },
  {
   "cell_type": "code",
   "execution_count": 139,
   "outputs": [],
   "source": [
    "BrainFrame = FileFrame[FileFrame['brainscan']].copy()"
   ],
   "metadata": {
    "collapsed": false,
    "ExecuteTime": {
     "end_time": "2023-11-06T15:12:19.252645995Z",
     "start_time": "2023-11-06T15:12:18.959448869Z"
    }
   },
   "id": "1a6c032fae4f0c7e"
  },
  {
   "cell_type": "code",
   "execution_count": 140,
   "outputs": [],
   "source": [
    "def deriveNiftiName(path):\n",
    "    path = str(path).replace('DICOM_STRUCTURED','NIFTI')\n",
    "    path = path+'.nii.gz'\n",
    "    if 'HeartBrain' in path:\n",
    "        path = path.split('HeartBrain/')[1]\n",
    "    return path"
   ],
   "metadata": {
    "collapsed": false,
    "ExecuteTime": {
     "end_time": "2023-11-06T15:12:19.252706422Z",
     "start_time": "2023-11-06T15:12:19.007203152Z"
    }
   },
   "id": "8b753e73d2568399"
  },
  {
   "cell_type": "code",
   "execution_count": 141,
   "outputs": [],
   "source": [
    "BrainFrame['infered_NIFTI_path'] = BrainFrame['structuredDicomPath'].apply(deriveNiftiName)"
   ],
   "metadata": {
    "collapsed": false,
    "ExecuteTime": {
     "end_time": "2023-11-06T15:12:19.252763894Z",
     "start_time": "2023-11-06T15:12:19.007351514Z"
    }
   },
   "id": "473faa79cc5e3a7d"
  },
  {
   "cell_type": "code",
   "execution_count": 142,
   "outputs": [],
   "source": [
    "BrainFrame['name'] = BrainFrame['originPath'].apply(lambda x: str(x).split('/')[10])"
   ],
   "metadata": {
    "collapsed": false,
    "ExecuteTime": {
     "end_time": "2023-11-06T15:12:19.252990850Z",
     "start_time": "2023-11-06T15:12:19.007433731Z"
    }
   },
   "id": "fb5e0cb95f97f176"
  },
  {
   "cell_type": "code",
   "execution_count": 143,
   "outputs": [
    {
     "data": {
      "text/plain": "array(['401-PCA_survey', '902-perfusion_map', '601-T1', ...,\n       '701-s_B1MAP_whole_brain_1min___MTX_SENSE', '301-B0MAP_1msec',\n       '1101-TRUST_ASL'], dtype=object)"
     },
     "execution_count": 143,
     "metadata": {},
     "output_type": "execute_result"
    }
   ],
   "source": [
    "BrainFrame['name'].unique()"
   ],
   "metadata": {
    "collapsed": false,
    "ExecuteTime": {
     "end_time": "2023-11-06T15:12:19.253401501Z",
     "start_time": "2023-11-06T15:12:19.021523487Z"
    }
   },
   "id": "c2c2091e2cdf073d"
  },
  {
   "cell_type": "code",
   "execution_count": 144,
   "outputs": [],
   "source": [
    "BrainFrame['str_name'] = BrainFrame['name'].apply(lambda x:str(x).split('-',2)[1])"
   ],
   "metadata": {
    "collapsed": false,
    "ExecuteTime": {
     "end_time": "2023-11-06T15:12:19.253474994Z",
     "start_time": "2023-11-06T15:12:19.063258018Z"
    }
   },
   "id": "e7cbcef701a4f75b"
  },
  {
   "cell_type": "code",
   "execution_count": 145,
   "outputs": [
    {
     "data": {
      "text/plain": "array(['PCA_survey', 'perfusion_map', 'T1', 'M0', 'asl_source',\n       'mpr_flair', 'MPR_hippo_cor', 'SWI', 'QF_min_wfs', 'FLAIR',\n       'SURVEY_MST', 'unknown', 'MR1', 'OT1', 'Rigid___Medium',\n       'sagmip_4__2_T1w_3D_TFE_pulsate', 'VISUAL_SCOUT_SENSE',\n       'cormip_4__2_T1w_3D_TFE_pulsate', 'tramip_4__2_T1w_3D_TFE_pulsate',\n       'MPR_SmartBrain', 'duyn_visual_3min_SENSE',\n       's_T1w_3D_TFE_pulsate_SENSE', 'VISUAL_shrtStim_SENSE',\n       'MidSlabSag_T1w_3D_TFE_pulsate', 'SmartBrain', 'B1_calibration',\n       'OT6', 'OT3', 'OT5', 'QF_min_wfs_120048_663', 'OT2', 'OT4',\n       'WIP_QF_min_wfs_CLEAR_120458_987',\n       'V3D_Brain_View_FLAIR_SHC_____sag', 'Vs_T1W_3D_TFE', 'FLAIR_extra',\n       'WIP_QF_min_wfs_CLEAR_145730_619', 'SWI_extra', 's_bFFE_PVS',\n       'T1_extra', 'OT7', 'VWIP_s_T1W_3D_TFE_SENSE', 'ASL_SENSE',\n       'sPerfusion', 'QF_min_wfs_121740_436', 'TRUST_ASL',\n       'WIP_QF_min_wfs_CLEAR_153810_368',\n       'WIP_QF_min_wfs_CLEAR_151125_591',\n       'duyn_halfbrain_11min__NAV_SENSE',\n       '2D_QF__5_3_v120_flip60_L_SENSE', 'tBG_2DPCA_TFE2_SENSE',\n       '2D_QF__5_3_v120_flip60_R_SENSE', 'sT1w_3DTFE_old_SENSE',\n       'tWM_2DPCAtoneTFE2_SENSE1_5_SENSE',\n       'WIP_QF_min_wfs_CLEAR_145803_874', 'QF_min_wfs_CLEAR_122424_569',\n       'm_SURVEY', 'duyn_halfbrain_11min_nav_SENSE',\n       'QF_min_wfs_105531_135', 'WIP_QF_min_wfs_110624_962',\n       'QF_min_wfs_CLEAR_124200_731', 't_QF_min_wfs_120652_631',\n       'WIP_QF_min_wfs_CLEAR_154051_991',\n       'WIP_QF_min_wfs_CLEAR_154047_424', 'QF_min_wfs_CLEAR_123436_508',\n       'QF_min_wfs_121032_669', 'Ref_HC_8', 'QF_min_wfs_111957_343',\n       'WIP_QF_min_wfs_CLEAR_20161207_101117_552SC_ImageView', '1',\n       'PCA_survey_F20', 'WIP_QF_min_wfs_CLEAR_144856_366',\n       'WIP_QF_min_wfs_CLEAR_095740_566', 'Vs_T1W_3D_TFE_SENSE',\n       'V3D_Brain_View_FLAIR_SHC_____sag_SENSE', 'DEFAULT_PS_SERIES',\n       'cor', 'Hypo_fMRI_2slice_SENSE', 'MR2',\n       '2D_QF__5_3_v120_flip60_R_TE3_8_SENSE', 'tra',\n       'scumul_2DPCAmag_WM', '2D_QF__5_3_v120_flip60_L_TE3_8_SENSE',\n       'QFlow_min_wfs_122207_401', 'WIP_QF_min_wfs_CLEAR_115431_480',\n       'WIP_QF_min_wfs_CLEAR_114917_198', 'QF__104816_407',\n       'V3dT1_0_9mm_SENSE', '3dT1_0_9mm_SENSE', 'OT9', 'OT8',\n       'WIP_QF_min_wfs_CLEAR_113854_221', 'QF_min_wfs_CLEAR_123845_112',\n       'QF_min_wfs_CLEAR_123924_657', 'QF_min_wfs_CLEAR_152356_309',\n       'QF_min_wfs_105347_082', 'QF_min_wfs_112510_535',\n       'QF_min_wfs_113143_236', 'QF_min_wfs_CLEAR_131043_254',\n       'QF_min_wfs_CLEAR_1_131249_333',\n       'WIP_QF_min_wfs_CLEAR_20161018_112635_354SC_ImageView',\n       'QF_min_wfs_124342_458', 'QF_min_wfs_CLEAR_110229_400',\n       'WIP_QF_min_wfs_111421_429', 'WIP_QF_min_wfs_CLEAR_135211_409',\n       'QF_min_wfs_125648_734', 'WIP_QF_min_wfs_120332_403',\n       'WIP_QF_min_wfs_CLEAR_112829_566', 'QF_min_wfs_112308_012',\n       'WIP_QF_min_wfs_CLEAR_130903_655', 'OT10',\n       'QF_min_wfs_CLEAR1_125955_456', 'QF_min_wfs_CLEAR_125943_241',\n       'QF_min_wfs_135734_606', 'QF_min_wfs_112900_727',\n       'sT1w_3DTFE_fast_SENSE', 's3D_bSSFP_PVS_SENSE',\n       'QF_min_wfs___115827_927',\n       'QF_min_wfs_20180831_120013_248SC_ImageView',\n       'QF_min_wfs_130220_429', 'QFlow_104455_744', 'ASL',\n       'ScreenCapture_125941_324', 'WIP_QF_min_wfs_CLEAR_121323_052',\n       'QF_min_wfs_113917_078', 'QF_min_wfs_114501_975', 'QFLOW_AA',\n       'WIP_QF_min_wfs_CLEAR_121010_146', 'SURVEY', 'sB_TFE_LVOT',\n       'SURVEYpwv', 'sB_TFE_st_sa', 'sB_TFE_2KRV', 'sB_TFE_4K',\n       'QFLOW_MV', 'SURVEY_SA', 'sB_TFE_2KLV', 'QF_min_wfs_124155_108',\n       'WIP_QF_min_wfs_CLEAR_124130_054', 'QF_min_wfs_124309_646',\n       'WIP_QF_min_wfs_CLEAR_124801_939', 'QF_min_wfs_124600_268',\n       'qflow_20170404_111935_161SC_ImageView', 'QF_min_wfs_120555_198',\n       'QF_min_wfs_114249_238', 'QF_min_wfs_CLEAR_122402_137',\n       'WIP_QF_min_wfs_CLEAR_111128_283',\n       'WIP_QF_min_wfs_CLEAR_111753_660',\n       'WIP_QF_min_wfs_CLEAR_124759_916', 'QF_min_wfs_112253_062',\n       'WIP_QF_min_wfs_123013_746', 'WIP_QF_min_wfs_CLEAR_150338_293',\n       'ASL_extra', 'QF__105042_916', 'mpr_cor', 'SURVEY_PCA',\n       'QF_min_wfs_103017_718', 'QF_min_wfs_103812_165',\n       'WIP_QF_min_wfs_CLEAR_134203_754', 'QF_min_wfs_105358_014',\n       'QF_min_wfs_2_124249_857', 'QF_min_wfs_124108_946',\n       'QF_min_wfs_CLEAR_131246_702', 'WIP_QF_min_wfs_112310_639',\n       'QF_min_wfs_110421_416', 'QF_min_wfs_120056_965',\n       'WIP_QF_min_wfs_CLEAR_112001_251',\n       'WIP_QF_min_wfs_CLEAR_113722_879', 'QF_min_wfs_121200_922',\n       'QF_min_wfs_103747_778', 'WIP_QF_min_wfs_CLEAR_150940_124',\n       'WIP_QF_min_wfs_CLEAR_105305_872', 'QF_min_wfs_CLEAR_113223_869',\n       'WIP_QF_min_wfs_132213_949', 'ASL_IR', 'sperfusie',\n       'ASL_PLD700_8phs', 'QF_min_wfs_104317_662',\n       'QF_min_wfs_113624_877',\n       'WIP_QF_min_wfs_CLEAR_20160115_131612_501SC_ImageView',\n       'WIP_QF_min_wfs_CLEAR_131525_691', 'QF_min_wfs_104822_887',\n       'QF_min_wfs_105401_141',\n       'QF_min_wfs_20180406_125708_165SC_ImageView',\n       'QF_min_wfs_141522_835', 'WIP_QF_min_wfs_CLEAR_155245_464',\n       'QF_min_wfs_114929_954', '3D_Brain_View_FLAIR_SHC_____sag',\n       'M0_meting_SENSE', 'Qflow_150641_802', 'QF_min_wfs_134301_144',\n       'WIP_QF_min_wfs_114054_644', 'QF_min_wfs_112153_172', 'SWI_minip',\n       'QF__112829_004', 'WIP_QF_min_wfs_CLEAR_143453_877',\n       'QF_min_wfs_123856_776', 'QF_min_wfs_105140_911',\n       'WIP_QF_min_wfs_CLEAR_132735_519', 'QF__131416_616',\n       'QF_min_wfs_111919_666', 'WIP_QF_min_wfs_CLEAR_111526_111',\n       'WIP_QF_min_wfs_CLEAR_111901_934',\n       'QF_min_wfs_20180406_122623_662SC_ImageView',\n       'QF_min_wfs_20180406_122504_482SC_ImageView',\n       'QF_min_wfs_141625_732', 'QF_min_wfs_115807_983',\n       'QF_min_wfs_122642_399', 'WIP_QF_min_wfs_CLEAR_121123_367',\n       'WIP_QF_min_wfs_CLEAR_112900_499', 'sT1w_3DTFE_old',\n       '2D_QF__5_3_v120_flip60_L', '7T_Survey_40s',\n       's_T1w_3D_TFE_pulsate', '2D_QF__5_3_v120_flip60_R',\n       'tWM_2DPCAtoneTFE2_SENSE1_5', 'tBG_2DPCA_TFE2', 'VISUAL_shrtStim',\n       'VISUAL_SCOUT', 'QF_min_wfs_133929_127', 'MR3', 'MR4',\n       'QF_min_wfs_105930_555', 'mpr_hippo',\n       'QF_min_wfs_CLEAR_152308_349', 'QF_min_wfs_122648_521',\n       'WIP_QF_min_wfs_110700_566', 'QF_min_wfs_104249_342',\n       'QF_min_wfs_123908_117', 'QF_min_wfs_124147_402',\n       'QF_min_wfs_104132_875', 'WIP_QF_min_wfs_CLEAR_120909_955',\n       'QF_min_wfs_CLEAR_151857_732', 'QF_min_wfs_CLEAR_112959_009',\n       'WIP_QF_min_wfs_CLEAR_113502_967', 'QF_min_wfs_112958_933',\n       'WIP_QF_min_wfs_CLEAR_125452_613', 'QF_min_wfs_113944_761',\n       'QF_min_wfs_124102_876', 'QF_min_wfs_112117_559',\n       'QF_min_wfs_CLEAR_125454_198', 'QF_min_wfs_130802_980',\n       'QF_min_wfs_123515_637', 'WIP_QF_min_wfs_CLEAR_114436_727',\n       'WIP_QF_min_wfs_CLEAR_114313_293', 'QF_min_wfs_110803_016',\n       'SenseRefScan', 'CoilSurveyScan', 'QF_min_wfs_121628_419',\n       'QF_min_wfs_20180608_121721_073SC_ImageView',\n       'QF_min_wfs_CLEAR_121955_145', 'QF_min_wfs_105246_442',\n       'QF_min_wfs_121713_356', 'WIP_QF_min_wfs_CLEAR_112017_966',\n       'WIP_QF_min_wfs_CLEAR_124635_133',\n       'WIP_QF_min_wfs_CLEAR_110420_084',\n       'QFlow_20150929_155910_908SC_ImageView', 'QF_min_wfs_122131_110',\n       'QF_min_wfs_111342_886', 'WIP_QF_min_wfs_CLEAR_112719_559',\n       'QF_min_wfs_CLEAR_104341_278', 'QF_min_wfs_104842_080',\n       'QF_min_wfs_122016_736', 'QF_min_wfs_CLEAR_151807_201',\n       'WIP_QF_min_wfs_CLEAR_20150721_152752_873SC_ImageView',\n       'B0MAP_1msec', 's_B1MAP_whole_brain_1min___MTX_SENSE',\n       'B0MAP_1msec_shimmed'], dtype=object)"
     },
     "execution_count": 145,
     "metadata": {},
     "output_type": "execute_result"
    }
   ],
   "source": [
    "BrainFrame['str_name'].unique()"
   ],
   "metadata": {
    "collapsed": false,
    "ExecuteTime": {
     "end_time": "2023-11-06T15:12:19.253989148Z",
     "start_time": "2023-11-06T15:12:19.063369016Z"
    }
   },
   "id": "9c6ddce13a8407b8"
  },
  {
   "cell_type": "code",
   "execution_count": 146,
   "outputs": [],
   "source": [
    "def rename(origName):\n",
    "    on = origName.lower()\n",
    "    if 'local' in on:\n",
    "        return 'localizer'\n",
    "    if 'qflow' in on or 'qf' in on:\n",
    "        return 'qflow'\n",
    "    if 'gd' in on:\n",
    "        if 't1' in on or 'fspgr' in on:\n",
    "            return 'T1c'\n",
    "    if 'flair' in on:\n",
    "        return 'flair'\n",
    "    if 'dti' in on:\n",
    "        return 'dti'\n",
    "    if 'dwi' in on:\n",
    "        return 'dwi'\n",
    "    if 'adc' in on:\n",
    "        return 'adc'\n",
    "    if 'pwi' in on or 'perf' in on:\n",
    "        return 'pwi'\n",
    "    if 'pd' in on:\n",
    "        return 'pd'\n",
    "    if 'survey' in on:\n",
    "        return 'survey'\n",
    "    if 'asl' in on:\n",
    "        return 'asl'\n",
    "    if 'swi' in on:\n",
    "        return 'swi'\n",
    "    if 'hippo' in on:\n",
    "        return 'hippo'\n",
    "    if 't1' in on or 'fspgr' in on or 'mpr' in on:\n",
    "        return 'T1w'\n",
    "    if 't2' in on and not 'ot2' in on:\n",
    "        return 'T2w'\n",
    "    return 'other'"
   ],
   "metadata": {
    "collapsed": false,
    "ExecuteTime": {
     "end_time": "2023-11-06T15:12:19.254060243Z",
     "start_time": "2023-11-06T15:12:19.063528599Z"
    }
   },
   "id": "3fbc221508dfdcca"
  },
  {
   "cell_type": "code",
   "execution_count": 147,
   "outputs": [],
   "source": [
    "BrainFrame['renamed'] = BrainFrame['name'].apply(rename)"
   ],
   "metadata": {
    "collapsed": false,
    "ExecuteTime": {
     "end_time": "2023-11-06T15:12:19.254495211Z",
     "start_time": "2023-11-06T15:12:19.063605629Z"
    }
   },
   "id": "e6f507e103d1b10b"
  },
  {
   "cell_type": "code",
   "execution_count": 148,
   "outputs": [
    {
     "data": {
      "text/plain": "array(['survey', 'pwi', 'T1w', 'other', 'asl', 'flair', 'hippo', 'swi',\n       'qflow'], dtype=object)"
     },
     "execution_count": 148,
     "metadata": {},
     "output_type": "execute_result"
    }
   ],
   "source": [
    "BrainFrame['renamed'].unique()"
   ],
   "metadata": {
    "collapsed": false,
    "ExecuteTime": {
     "end_time": "2023-11-06T15:12:19.254689635Z",
     "start_time": "2023-11-06T15:12:19.111191215Z"
    }
   },
   "id": "5d39fcf0aba7471f"
  },
  {
   "cell_type": "code",
   "execution_count": 149,
   "outputs": [
    {
     "data": {
      "text/plain": "renamed\nother     7365\nsurvey    6112\nT1w       4929\nflair     3034\nasl       2862\nswi       2628\nqflow     2592\npwi       1624\nhippo      306\nName: count, dtype: int64"
     },
     "execution_count": 149,
     "metadata": {},
     "output_type": "execute_result"
    }
   ],
   "source": [
    "BrainFrame['renamed'].value_counts()"
   ],
   "metadata": {
    "collapsed": false,
    "ExecuteTime": {
     "end_time": "2023-11-06T15:12:19.254943009Z",
     "start_time": "2023-11-06T15:12:19.111332168Z"
    }
   },
   "id": "5422836bc0b43d75"
  },
  {
   "cell_type": "code",
   "execution_count": 150,
   "outputs": [
    {
     "data": {
      "text/plain": "array(['1101-SWI', '901-SWI', '1001-SWI', '1201-SWI', '1001-SWI_extra',\n       '1301-SWI', '0-OT1-SWI_EPI_2min', '2301-SWI', '1101-SWI_extra',\n       '801-SWI', '701-SWI', '0-OT3-SWI_EPI_2min', '0-OT2-SWI_EPI_2min',\n       '0-OT5-SWI_EPI_2min', '0-OT8-SWI_EPI_2min', '0-OT6-SWI_EPI_2min',\n       '1401-SWI', '1701-SWI', '2601-SWI', '1102-SWI_minip',\n       '1001-MR2-SWI_extra', '1001-MR3-SWI', '1001-MR1-SWI_EPI_2min',\n       '0-OT7-SWI_EPI_2min', '0-OT4-SWI_EPI_2min', '1801-SWI', '2501-SWI'],\n      dtype=object)"
     },
     "execution_count": 150,
     "metadata": {},
     "output_type": "execute_result"
    }
   ],
   "source": [
    "BrainFrame[BrainFrame['renamed']=='swi']['name'].unique()"
   ],
   "metadata": {
    "collapsed": false,
    "ExecuteTime": {
     "end_time": "2023-11-06T15:12:19.255159851Z",
     "start_time": "2023-11-06T15:12:19.111412494Z"
    }
   },
   "id": "ace894f730169603"
  },
  {
   "cell_type": "code",
   "execution_count": 151,
   "outputs": [],
   "source": [
    "labeldict = {\"T1\":0,\"T1_c\":1,\"T2\":2,\"T2-FLAIR\":3,\"FS\":4,\"PD\":5,\n",
    "             \"SWI\":6, \"GRE\":7, \"T2*\":8, \"DWI\":9, \"ADC\":10, \"BOLD\":11,\n",
    "             \"FlowSensitve\":12,\"PWI\":13,\"ASL\":14,\"Hippo\":15,\n",
    "             \"DTI\":16,\"Other\":17}\n",
    "def assignLabel(dataframe):\n",
    "    description = dataframe['description']\n",
    "    try:\n",
    "        weight = dataframe['weighting']\n",
    "    except:\n",
    "        weight = None\n",
    "    otherCategories = ['fieldmap','scout','calibration','phase','localizer','nan','NotMri','pet','CT','e2','minIP','moco','mpr','other','survey', 'qflow'] #moco is a motion corrected series\n",
    "    if description in otherCategories:\n",
    "        return 17\n",
    "    if description =='T1w':\n",
    "        return 0\n",
    "    if description =='T1c':\n",
    "        return 1\n",
    "    if weight:\n",
    "        if description =='T2w':\n",
    "            if weight=='T2':\n",
    "                return 2\n",
    "            if weight=='PD':\n",
    "                return 5\n",
    "    if description == 'T2w':\n",
    "        return 2\n",
    "    if 'flair' in description.lower():\n",
    "        return 3\n",
    "    if description =='FS':\n",
    "        return 4\n",
    "    if description =='pd':\n",
    "        return 5\n",
    "    if description =='swi':\n",
    "        return 6\n",
    "    if description.lower() =='gre':\n",
    "        return 7\n",
    "    if description =='T2star':\n",
    "        return 8\n",
    "    if description =='dwi':\n",
    "        return 9\n",
    "    if description =='adc':\n",
    "        return 10\n",
    "    if description =='bold':\n",
    "        return 11\n",
    "    if description =='angio': #flowsensitive\n",
    "        return 12\n",
    "    if description =='pwi' or description=='cbf':\n",
    "        return 13\n",
    "    if 'asl' in description:\n",
    "        return 14\n",
    "    if description == 'hippo':\n",
    "        return 15\n",
    "    if description == 'dti':\n",
    "        return 16\n",
    "    return -1"
   ],
   "metadata": {
    "collapsed": false,
    "ExecuteTime": {
     "end_time": "2023-11-06T15:12:19.255229294Z",
     "start_time": "2023-11-06T15:12:19.113679194Z"
    }
   },
   "id": "f3d01600eed07c87"
  },
  {
   "cell_type": "code",
   "execution_count": 152,
   "outputs": [],
   "source": [
    "BrainFrame['description'] = BrainFrame['renamed']"
   ],
   "metadata": {
    "collapsed": false,
    "ExecuteTime": {
     "end_time": "2023-11-06T15:12:19.255291124Z",
     "start_time": "2023-11-06T15:12:19.118623087Z"
    }
   },
   "id": "562f267b477572ba"
  },
  {
   "cell_type": "code",
   "execution_count": 153,
   "outputs": [],
   "source": [
    "BrainFrame['numLabel'] = BrainFrame.apply(assignLabel,axis=1)"
   ],
   "metadata": {
    "collapsed": false,
    "ExecuteTime": {
     "end_time": "2023-11-06T15:12:19.491863222Z",
     "start_time": "2023-11-06T15:12:19.159155149Z"
    }
   },
   "id": "38781f4ef7cb63d1"
  },
  {
   "cell_type": "code",
   "execution_count": 154,
   "outputs": [
    {
     "data": {
      "text/plain": "numLabel\n17    16069\n0      4929\n3      3034\n14     2862\n6      2628\n13     1624\n15      306\nName: count, dtype: int64"
     },
     "execution_count": 154,
     "metadata": {},
     "output_type": "execute_result"
    }
   ],
   "source": [
    "BrainFrame['numLabel'].value_counts()"
   ],
   "metadata": {
    "collapsed": false,
    "ExecuteTime": {
     "end_time": "2023-11-06T15:12:19.557409792Z",
     "start_time": "2023-11-06T15:12:19.519147725Z"
    }
   },
   "id": "d70da7d8aa502a20"
  },
  {
   "cell_type": "code",
   "execution_count": 155,
   "outputs": [],
   "source": [
    "LabelFrame = pd.read_csv('Labels.txt',names=['ID','label','extra'],sep='\\t', dtype={'ID':str,'label':int,'extra':int})"
   ],
   "metadata": {
    "collapsed": false,
    "ExecuteTime": {
     "end_time": "2023-11-06T15:12:20.348509672Z",
     "start_time": "2023-11-06T15:12:19.519318412Z"
    }
   },
   "id": "42538d3910e0be7"
  },
  {
   "cell_type": "code",
   "execution_count": 156,
   "outputs": [],
   "source": [
    "def extractNiftiName(name):\n",
    "    name = name.rsplit('__',1)[0]\n",
    "    name = name.replace('NIFTI_SLICES','NIFTI')\n",
    "    name = name.split('_Scan')[0]\n",
    "    name = f'{name}.nii.gz'\n",
    "    if len(str(name).split('__')) > 3:\n",
    "        return None\n",
    "    return name"
   ],
   "metadata": {
    "collapsed": false,
    "ExecuteTime": {
     "end_time": "2023-11-06T15:12:20.384355750Z",
     "start_time": "2023-11-06T15:12:20.349234691Z"
    }
   },
   "id": "3bf243148fb7be9d"
  },
  {
   "cell_type": "code",
   "execution_count": 157,
   "outputs": [],
   "source": [
    "LabelFrame['nifti_name'] = LabelFrame['ID'].apply(extractNiftiName)"
   ],
   "metadata": {
    "collapsed": false,
    "ExecuteTime": {
     "end_time": "2023-11-06T15:12:20.621477856Z",
     "start_time": "2023-11-06T15:12:20.357392194Z"
    }
   },
   "id": "d42dfddcdbd13fbd"
  },
  {
   "cell_type": "code",
   "execution_count": 158,
   "outputs": [
    {
     "data": {
      "text/plain": "247125"
     },
     "execution_count": 158,
     "metadata": {},
     "output_type": "execute_result"
    }
   ],
   "source": [
    "len(LabelFrame)"
   ],
   "metadata": {
    "collapsed": false,
    "ExecuteTime": {
     "end_time": "2023-11-06T15:12:20.626786171Z",
     "start_time": "2023-11-06T15:12:20.622205229Z"
    }
   },
   "id": "348893e8e3299d49"
  },
  {
   "cell_type": "code",
   "execution_count": 159,
   "outputs": [
    {
     "data": {
      "text/plain": "                                                  ID  label  extra  \\\n0  NIFTI_SLICES/A1114/20160916/MR/1.3.6.1.4.1.407...      0      0   \n1  NIFTI_SLICES/A1114/20160916/MR/1.3.6.1.4.1.407...      0      0   \n2  NIFTI_SLICES/A1114/20160916/MR/1.3.6.1.4.1.407...      0      0   \n3  NIFTI_SLICES/A1114/20160916/MR/1.3.6.1.4.1.407...      0      0   \n4  NIFTI_SLICES/A1114/20160916/MR/1.3.6.1.4.1.407...      0      0   \n\n                                          nifti_name  \n0  NIFTI/A1114/20160916/MR/1.3.6.1.4.1.40744.2.30...  \n1  NIFTI/A1114/20160916/MR/1.3.6.1.4.1.40744.2.30...  \n2  NIFTI/A1114/20160916/MR/1.3.6.1.4.1.40744.2.30...  \n3  NIFTI/A1114/20160916/MR/1.3.6.1.4.1.40744.2.30...  \n4  NIFTI/A1114/20160916/MR/1.3.6.1.4.1.40744.2.30...  ",
      "text/html": "<div>\n<style scoped>\n    .dataframe tbody tr th:only-of-type {\n        vertical-align: middle;\n    }\n\n    .dataframe tbody tr th {\n        vertical-align: top;\n    }\n\n    .dataframe thead th {\n        text-align: right;\n    }\n</style>\n<table border=\"1\" class=\"dataframe\">\n  <thead>\n    <tr style=\"text-align: right;\">\n      <th></th>\n      <th>ID</th>\n      <th>label</th>\n      <th>extra</th>\n      <th>nifti_name</th>\n    </tr>\n  </thead>\n  <tbody>\n    <tr>\n      <th>0</th>\n      <td>NIFTI_SLICES/A1114/20160916/MR/1.3.6.1.4.1.407...</td>\n      <td>0</td>\n      <td>0</td>\n      <td>NIFTI/A1114/20160916/MR/1.3.6.1.4.1.40744.2.30...</td>\n    </tr>\n    <tr>\n      <th>1</th>\n      <td>NIFTI_SLICES/A1114/20160916/MR/1.3.6.1.4.1.407...</td>\n      <td>0</td>\n      <td>0</td>\n      <td>NIFTI/A1114/20160916/MR/1.3.6.1.4.1.40744.2.30...</td>\n    </tr>\n    <tr>\n      <th>2</th>\n      <td>NIFTI_SLICES/A1114/20160916/MR/1.3.6.1.4.1.407...</td>\n      <td>0</td>\n      <td>0</td>\n      <td>NIFTI/A1114/20160916/MR/1.3.6.1.4.1.40744.2.30...</td>\n    </tr>\n    <tr>\n      <th>3</th>\n      <td>NIFTI_SLICES/A1114/20160916/MR/1.3.6.1.4.1.407...</td>\n      <td>0</td>\n      <td>0</td>\n      <td>NIFTI/A1114/20160916/MR/1.3.6.1.4.1.40744.2.30...</td>\n    </tr>\n    <tr>\n      <th>4</th>\n      <td>NIFTI_SLICES/A1114/20160916/MR/1.3.6.1.4.1.407...</td>\n      <td>0</td>\n      <td>0</td>\n      <td>NIFTI/A1114/20160916/MR/1.3.6.1.4.1.40744.2.30...</td>\n    </tr>\n  </tbody>\n</table>\n</div>"
     },
     "execution_count": 159,
     "metadata": {},
     "output_type": "execute_result"
    }
   ],
   "source": [
    "LabelFrame.head()"
   ],
   "metadata": {
    "collapsed": false,
    "ExecuteTime": {
     "end_time": "2023-11-06T15:12:20.647932526Z",
     "start_time": "2023-11-06T15:12:20.629355701Z"
    }
   },
   "id": "6b10715d69a1f2c5"
  },
  {
   "cell_type": "code",
   "execution_count": 160,
   "outputs": [
    {
     "data": {
      "text/plain": "                                          originPath  \\\n0  /trinity/home/r098375/DDS/data/HeartBrain/data...   \n1  /trinity/home/r098375/DDS/data/HeartBrain/data...   \n2  /trinity/home/r098375/DDS/data/HeartBrain/data...   \n3  /trinity/home/r098375/DDS/data/HeartBrain/data...   \n4  /trinity/home/r098375/DDS/data/HeartBrain/data...   \n\n                                 structuredDicomPath  brainscan  \\\n0  /trinity/home/r098375/DDS/data/HeartBrain/DICO...       True   \n1                                                NaN       True   \n2  /trinity/home/r098375/DDS/data/HeartBrain/DICO...       True   \n3                                                NaN       True   \n4                                                NaN       True   \n\n                                  infered_NIFTI_path               name  \\\n0  NIFTI/A1044/20170811/MR/1.3.6.1.4.1.40744.2.19...     401-PCA_survey   \n1                                         nan.nii.gz     401-PCA_survey   \n2  NIFTI/A1044/20170811/MR/1.3.6.1.4.1.40744.2.19...  902-perfusion_map   \n3                                         nan.nii.gz  902-perfusion_map   \n4                                         nan.nii.gz             601-T1   \n\n        str_name renamed description  numLabel  \n0     PCA_survey  survey      survey        17  \n1     PCA_survey  survey      survey        17  \n2  perfusion_map     pwi         pwi        13  \n3  perfusion_map     pwi         pwi        13  \n4             T1     T1w         T1w         0  ",
      "text/html": "<div>\n<style scoped>\n    .dataframe tbody tr th:only-of-type {\n        vertical-align: middle;\n    }\n\n    .dataframe tbody tr th {\n        vertical-align: top;\n    }\n\n    .dataframe thead th {\n        text-align: right;\n    }\n</style>\n<table border=\"1\" class=\"dataframe\">\n  <thead>\n    <tr style=\"text-align: right;\">\n      <th></th>\n      <th>originPath</th>\n      <th>structuredDicomPath</th>\n      <th>brainscan</th>\n      <th>infered_NIFTI_path</th>\n      <th>name</th>\n      <th>str_name</th>\n      <th>renamed</th>\n      <th>description</th>\n      <th>numLabel</th>\n    </tr>\n  </thead>\n  <tbody>\n    <tr>\n      <th>0</th>\n      <td>/trinity/home/r098375/DDS/data/HeartBrain/data...</td>\n      <td>/trinity/home/r098375/DDS/data/HeartBrain/DICO...</td>\n      <td>True</td>\n      <td>NIFTI/A1044/20170811/MR/1.3.6.1.4.1.40744.2.19...</td>\n      <td>401-PCA_survey</td>\n      <td>PCA_survey</td>\n      <td>survey</td>\n      <td>survey</td>\n      <td>17</td>\n    </tr>\n    <tr>\n      <th>1</th>\n      <td>/trinity/home/r098375/DDS/data/HeartBrain/data...</td>\n      <td>NaN</td>\n      <td>True</td>\n      <td>nan.nii.gz</td>\n      <td>401-PCA_survey</td>\n      <td>PCA_survey</td>\n      <td>survey</td>\n      <td>survey</td>\n      <td>17</td>\n    </tr>\n    <tr>\n      <th>2</th>\n      <td>/trinity/home/r098375/DDS/data/HeartBrain/data...</td>\n      <td>/trinity/home/r098375/DDS/data/HeartBrain/DICO...</td>\n      <td>True</td>\n      <td>NIFTI/A1044/20170811/MR/1.3.6.1.4.1.40744.2.19...</td>\n      <td>902-perfusion_map</td>\n      <td>perfusion_map</td>\n      <td>pwi</td>\n      <td>pwi</td>\n      <td>13</td>\n    </tr>\n    <tr>\n      <th>3</th>\n      <td>/trinity/home/r098375/DDS/data/HeartBrain/data...</td>\n      <td>NaN</td>\n      <td>True</td>\n      <td>nan.nii.gz</td>\n      <td>902-perfusion_map</td>\n      <td>perfusion_map</td>\n      <td>pwi</td>\n      <td>pwi</td>\n      <td>13</td>\n    </tr>\n    <tr>\n      <th>4</th>\n      <td>/trinity/home/r098375/DDS/data/HeartBrain/data...</td>\n      <td>NaN</td>\n      <td>True</td>\n      <td>nan.nii.gz</td>\n      <td>601-T1</td>\n      <td>T1</td>\n      <td>T1w</td>\n      <td>T1w</td>\n      <td>0</td>\n    </tr>\n  </tbody>\n</table>\n</div>"
     },
     "execution_count": 160,
     "metadata": {},
     "output_type": "execute_result"
    }
   ],
   "source": [
    "BrainFrame.head()"
   ],
   "metadata": {
    "collapsed": false,
    "ExecuteTime": {
     "end_time": "2023-11-06T15:12:20.668100174Z",
     "start_time": "2023-11-06T15:12:20.639593812Z"
    }
   },
   "id": "d0f9bd8eb9b39bde"
  },
  {
   "cell_type": "code",
   "execution_count": 161,
   "outputs": [],
   "source": [
    "temp = LabelFrame.merge(BrainFrame, how='inner', left_on='nifti_name', right_on=\"infered_NIFTI_path\")"
   ],
   "metadata": {
    "collapsed": false,
    "ExecuteTime": {
     "end_time": "2023-11-06T15:12:20.795977219Z",
     "start_time": "2023-11-06T15:12:20.703649004Z"
    }
   },
   "id": "2b665acdd0682024"
  },
  {
   "cell_type": "code",
   "execution_count": 162,
   "outputs": [
    {
     "data": {
      "text/plain": "                                                      ID  label  extra  \\\n0      NIFTI_SLICES/A1114/20160916/MR/1.3.6.1.4.1.407...      0      0   \n1      NIFTI_SLICES/A1114/20160916/MR/1.3.6.1.4.1.407...      0      0   \n2      NIFTI_SLICES/A1114/20160916/MR/1.3.6.1.4.1.407...      0      0   \n3      NIFTI_SLICES/A1114/20160916/MR/1.3.6.1.4.1.407...      0      0   \n4      NIFTI_SLICES/A1114/20160916/MR/1.3.6.1.4.1.407...      0      0   \n...                                                  ...    ...    ...   \n52795  NIFTI_SLICES/7412286/20181122/MR/1.3.6.1.4.1.4...      0      0   \n52796  NIFTI_SLICES/7412286/20181122/MR/1.3.6.1.4.1.4...      0      0   \n52797  NIFTI_SLICES/7412286/20181122/MR/1.3.6.1.4.1.4...      0      0   \n52798  NIFTI_SLICES/7412286/20181122/MR/1.3.6.1.4.1.4...      0      0   \n52799  NIFTI_SLICES/7412286/20181122/MR/1.3.6.1.4.1.4...      0      0   \n\n                                              nifti_name  \\\n0      NIFTI/A1114/20160916/MR/1.3.6.1.4.1.40744.2.30...   \n1      NIFTI/A1114/20160916/MR/1.3.6.1.4.1.40744.2.30...   \n2      NIFTI/A1114/20160916/MR/1.3.6.1.4.1.40744.2.30...   \n3      NIFTI/A1114/20160916/MR/1.3.6.1.4.1.40744.2.30...   \n4      NIFTI/A1114/20160916/MR/1.3.6.1.4.1.40744.2.30...   \n...                                                  ...   \n52795  NIFTI/7412286/20181122/MR/1.3.6.1.4.1.40744.2....   \n52796  NIFTI/7412286/20181122/MR/1.3.6.1.4.1.40744.2....   \n52797  NIFTI/7412286/20181122/MR/1.3.6.1.4.1.40744.2....   \n52798  NIFTI/7412286/20181122/MR/1.3.6.1.4.1.40744.2....   \n52799  NIFTI/7412286/20181122/MR/1.3.6.1.4.1.40744.2....   \n\n                                              originPath  \\\n0      /trinity/home/r098375/DDS/data/HeartBrain/data...   \n1      /trinity/home/r098375/DDS/data/HeartBrain/data...   \n2      /trinity/home/r098375/DDS/data/HeartBrain/data...   \n3      /trinity/home/r098375/DDS/data/HeartBrain/data...   \n4      /trinity/home/r098375/DDS/data/HeartBrain/data...   \n...                                                  ...   \n52795  /trinity/home/r098375/DDS/data/HeartBrain/data...   \n52796  /trinity/home/r098375/DDS/data/HeartBrain/data...   \n52797  /trinity/home/r098375/DDS/data/HeartBrain/data...   \n52798  /trinity/home/r098375/DDS/data/HeartBrain/data...   \n52799  /trinity/home/r098375/DDS/data/HeartBrain/data...   \n\n                                     structuredDicomPath  brainscan  \\\n0      /trinity/home/r098375/DDS/data/HeartBrain/DICO...       True   \n1      /trinity/home/r098375/DDS/data/HeartBrain/DICO...       True   \n2      /trinity/home/r098375/DDS/data/HeartBrain/DICO...       True   \n3      /trinity/home/r098375/DDS/data/HeartBrain/DICO...       True   \n4      /trinity/home/r098375/DDS/data/HeartBrain/DICO...       True   \n...                                                  ...        ...   \n52795  /trinity/home/r098375/DDS/data/HeartBrain/DICO...       True   \n52796  /trinity/home/r098375/DDS/data/HeartBrain/DICO...       True   \n52797  /trinity/home/r098375/DDS/data/HeartBrain/DICO...       True   \n52798  /trinity/home/r098375/DDS/data/HeartBrain/DICO...       True   \n52799  /trinity/home/r098375/DDS/data/HeartBrain/DICO...       True   \n\n                                      infered_NIFTI_path  \\\n0      NIFTI/A1114/20160916/MR/1.3.6.1.4.1.40744.2.30...   \n1      NIFTI/A1114/20160916/MR/1.3.6.1.4.1.40744.2.30...   \n2      NIFTI/A1114/20160916/MR/1.3.6.1.4.1.40744.2.30...   \n3      NIFTI/A1114/20160916/MR/1.3.6.1.4.1.40744.2.30...   \n4      NIFTI/A1114/20160916/MR/1.3.6.1.4.1.40744.2.30...   \n...                                                  ...   \n52795  NIFTI/7412286/20181122/MR/1.3.6.1.4.1.40744.2....   \n52796  NIFTI/7412286/20181122/MR/1.3.6.1.4.1.40744.2....   \n52797  NIFTI/7412286/20181122/MR/1.3.6.1.4.1.40744.2....   \n52798  NIFTI/7412286/20181122/MR/1.3.6.1.4.1.40744.2....   \n52799  NIFTI/7412286/20181122/MR/1.3.6.1.4.1.40744.2....   \n\n                                      name                        str_name  \\\n0                                  1201-M0                              M0   \n1                                  1201-M0                              M0   \n2                                  1201-M0                              M0   \n3                                  1201-M0                              M0   \n4                                  1201-M0                              M0   \n...                                    ...                             ...   \n52795  1101-duyn_halfbrain_11min_nav_SENSE  duyn_halfbrain_11min_nav_SENSE   \n52796  1101-duyn_halfbrain_11min_nav_SENSE  duyn_halfbrain_11min_nav_SENSE   \n52797  1101-duyn_halfbrain_11min_nav_SENSE  duyn_halfbrain_11min_nav_SENSE   \n52798  1101-duyn_halfbrain_11min_nav_SENSE  duyn_halfbrain_11min_nav_SENSE   \n52799  1101-duyn_halfbrain_11min_nav_SENSE  duyn_halfbrain_11min_nav_SENSE   \n\n      renamed description  numLabel  \n0       other       other        17  \n1       other       other        17  \n2       other       other        17  \n3       other       other        17  \n4       other       other        17  \n...       ...         ...       ...  \n52795   other       other        17  \n52796   other       other        17  \n52797   other       other        17  \n52798   other       other        17  \n52799   other       other        17  \n\n[52800 rows x 13 columns]",
      "text/html": "<div>\n<style scoped>\n    .dataframe tbody tr th:only-of-type {\n        vertical-align: middle;\n    }\n\n    .dataframe tbody tr th {\n        vertical-align: top;\n    }\n\n    .dataframe thead th {\n        text-align: right;\n    }\n</style>\n<table border=\"1\" class=\"dataframe\">\n  <thead>\n    <tr style=\"text-align: right;\">\n      <th></th>\n      <th>ID</th>\n      <th>label</th>\n      <th>extra</th>\n      <th>nifti_name</th>\n      <th>originPath</th>\n      <th>structuredDicomPath</th>\n      <th>brainscan</th>\n      <th>infered_NIFTI_path</th>\n      <th>name</th>\n      <th>str_name</th>\n      <th>renamed</th>\n      <th>description</th>\n      <th>numLabel</th>\n    </tr>\n  </thead>\n  <tbody>\n    <tr>\n      <th>0</th>\n      <td>NIFTI_SLICES/A1114/20160916/MR/1.3.6.1.4.1.407...</td>\n      <td>0</td>\n      <td>0</td>\n      <td>NIFTI/A1114/20160916/MR/1.3.6.1.4.1.40744.2.30...</td>\n      <td>/trinity/home/r098375/DDS/data/HeartBrain/data...</td>\n      <td>/trinity/home/r098375/DDS/data/HeartBrain/DICO...</td>\n      <td>True</td>\n      <td>NIFTI/A1114/20160916/MR/1.3.6.1.4.1.40744.2.30...</td>\n      <td>1201-M0</td>\n      <td>M0</td>\n      <td>other</td>\n      <td>other</td>\n      <td>17</td>\n    </tr>\n    <tr>\n      <th>1</th>\n      <td>NIFTI_SLICES/A1114/20160916/MR/1.3.6.1.4.1.407...</td>\n      <td>0</td>\n      <td>0</td>\n      <td>NIFTI/A1114/20160916/MR/1.3.6.1.4.1.40744.2.30...</td>\n      <td>/trinity/home/r098375/DDS/data/HeartBrain/data...</td>\n      <td>/trinity/home/r098375/DDS/data/HeartBrain/DICO...</td>\n      <td>True</td>\n      <td>NIFTI/A1114/20160916/MR/1.3.6.1.4.1.40744.2.30...</td>\n      <td>1201-M0</td>\n      <td>M0</td>\n      <td>other</td>\n      <td>other</td>\n      <td>17</td>\n    </tr>\n    <tr>\n      <th>2</th>\n      <td>NIFTI_SLICES/A1114/20160916/MR/1.3.6.1.4.1.407...</td>\n      <td>0</td>\n      <td>0</td>\n      <td>NIFTI/A1114/20160916/MR/1.3.6.1.4.1.40744.2.30...</td>\n      <td>/trinity/home/r098375/DDS/data/HeartBrain/data...</td>\n      <td>/trinity/home/r098375/DDS/data/HeartBrain/DICO...</td>\n      <td>True</td>\n      <td>NIFTI/A1114/20160916/MR/1.3.6.1.4.1.40744.2.30...</td>\n      <td>1201-M0</td>\n      <td>M0</td>\n      <td>other</td>\n      <td>other</td>\n      <td>17</td>\n    </tr>\n    <tr>\n      <th>3</th>\n      <td>NIFTI_SLICES/A1114/20160916/MR/1.3.6.1.4.1.407...</td>\n      <td>0</td>\n      <td>0</td>\n      <td>NIFTI/A1114/20160916/MR/1.3.6.1.4.1.40744.2.30...</td>\n      <td>/trinity/home/r098375/DDS/data/HeartBrain/data...</td>\n      <td>/trinity/home/r098375/DDS/data/HeartBrain/DICO...</td>\n      <td>True</td>\n      <td>NIFTI/A1114/20160916/MR/1.3.6.1.4.1.40744.2.30...</td>\n      <td>1201-M0</td>\n      <td>M0</td>\n      <td>other</td>\n      <td>other</td>\n      <td>17</td>\n    </tr>\n    <tr>\n      <th>4</th>\n      <td>NIFTI_SLICES/A1114/20160916/MR/1.3.6.1.4.1.407...</td>\n      <td>0</td>\n      <td>0</td>\n      <td>NIFTI/A1114/20160916/MR/1.3.6.1.4.1.40744.2.30...</td>\n      <td>/trinity/home/r098375/DDS/data/HeartBrain/data...</td>\n      <td>/trinity/home/r098375/DDS/data/HeartBrain/DICO...</td>\n      <td>True</td>\n      <td>NIFTI/A1114/20160916/MR/1.3.6.1.4.1.40744.2.30...</td>\n      <td>1201-M0</td>\n      <td>M0</td>\n      <td>other</td>\n      <td>other</td>\n      <td>17</td>\n    </tr>\n    <tr>\n      <th>...</th>\n      <td>...</td>\n      <td>...</td>\n      <td>...</td>\n      <td>...</td>\n      <td>...</td>\n      <td>...</td>\n      <td>...</td>\n      <td>...</td>\n      <td>...</td>\n      <td>...</td>\n      <td>...</td>\n      <td>...</td>\n      <td>...</td>\n    </tr>\n    <tr>\n      <th>52795</th>\n      <td>NIFTI_SLICES/7412286/20181122/MR/1.3.6.1.4.1.4...</td>\n      <td>0</td>\n      <td>0</td>\n      <td>NIFTI/7412286/20181122/MR/1.3.6.1.4.1.40744.2....</td>\n      <td>/trinity/home/r098375/DDS/data/HeartBrain/data...</td>\n      <td>/trinity/home/r098375/DDS/data/HeartBrain/DICO...</td>\n      <td>True</td>\n      <td>NIFTI/7412286/20181122/MR/1.3.6.1.4.1.40744.2....</td>\n      <td>1101-duyn_halfbrain_11min_nav_SENSE</td>\n      <td>duyn_halfbrain_11min_nav_SENSE</td>\n      <td>other</td>\n      <td>other</td>\n      <td>17</td>\n    </tr>\n    <tr>\n      <th>52796</th>\n      <td>NIFTI_SLICES/7412286/20181122/MR/1.3.6.1.4.1.4...</td>\n      <td>0</td>\n      <td>0</td>\n      <td>NIFTI/7412286/20181122/MR/1.3.6.1.4.1.40744.2....</td>\n      <td>/trinity/home/r098375/DDS/data/HeartBrain/data...</td>\n      <td>/trinity/home/r098375/DDS/data/HeartBrain/DICO...</td>\n      <td>True</td>\n      <td>NIFTI/7412286/20181122/MR/1.3.6.1.4.1.40744.2....</td>\n      <td>1101-duyn_halfbrain_11min_nav_SENSE</td>\n      <td>duyn_halfbrain_11min_nav_SENSE</td>\n      <td>other</td>\n      <td>other</td>\n      <td>17</td>\n    </tr>\n    <tr>\n      <th>52797</th>\n      <td>NIFTI_SLICES/7412286/20181122/MR/1.3.6.1.4.1.4...</td>\n      <td>0</td>\n      <td>0</td>\n      <td>NIFTI/7412286/20181122/MR/1.3.6.1.4.1.40744.2....</td>\n      <td>/trinity/home/r098375/DDS/data/HeartBrain/data...</td>\n      <td>/trinity/home/r098375/DDS/data/HeartBrain/DICO...</td>\n      <td>True</td>\n      <td>NIFTI/7412286/20181122/MR/1.3.6.1.4.1.40744.2....</td>\n      <td>1101-duyn_halfbrain_11min_nav_SENSE</td>\n      <td>duyn_halfbrain_11min_nav_SENSE</td>\n      <td>other</td>\n      <td>other</td>\n      <td>17</td>\n    </tr>\n    <tr>\n      <th>52798</th>\n      <td>NIFTI_SLICES/7412286/20181122/MR/1.3.6.1.4.1.4...</td>\n      <td>0</td>\n      <td>0</td>\n      <td>NIFTI/7412286/20181122/MR/1.3.6.1.4.1.40744.2....</td>\n      <td>/trinity/home/r098375/DDS/data/HeartBrain/data...</td>\n      <td>/trinity/home/r098375/DDS/data/HeartBrain/DICO...</td>\n      <td>True</td>\n      <td>NIFTI/7412286/20181122/MR/1.3.6.1.4.1.40744.2....</td>\n      <td>1101-duyn_halfbrain_11min_nav_SENSE</td>\n      <td>duyn_halfbrain_11min_nav_SENSE</td>\n      <td>other</td>\n      <td>other</td>\n      <td>17</td>\n    </tr>\n    <tr>\n      <th>52799</th>\n      <td>NIFTI_SLICES/7412286/20181122/MR/1.3.6.1.4.1.4...</td>\n      <td>0</td>\n      <td>0</td>\n      <td>NIFTI/7412286/20181122/MR/1.3.6.1.4.1.40744.2....</td>\n      <td>/trinity/home/r098375/DDS/data/HeartBrain/data...</td>\n      <td>/trinity/home/r098375/DDS/data/HeartBrain/DICO...</td>\n      <td>True</td>\n      <td>NIFTI/7412286/20181122/MR/1.3.6.1.4.1.40744.2....</td>\n      <td>1101-duyn_halfbrain_11min_nav_SENSE</td>\n      <td>duyn_halfbrain_11min_nav_SENSE</td>\n      <td>other</td>\n      <td>other</td>\n      <td>17</td>\n    </tr>\n  </tbody>\n</table>\n<p>52800 rows × 13 columns</p>\n</div>"
     },
     "execution_count": 162,
     "metadata": {},
     "output_type": "execute_result"
    }
   ],
   "source": [
    "temp"
   ],
   "metadata": {
    "collapsed": false,
    "ExecuteTime": {
     "end_time": "2023-11-06T15:12:20.844824832Z",
     "start_time": "2023-11-06T15:12:20.745152335Z"
    }
   },
   "id": "38a577996af00365"
  },
  {
   "cell_type": "code",
   "execution_count": 163,
   "outputs": [
    {
     "data": {
      "text/plain": "description\nother     7575\nsurvey    7375\npwi       7025\nasl       6050\nflair     5850\nqflow     5800\nswi       5375\nT1w       4600\nhippo     3150\nName: count, dtype: int64"
     },
     "execution_count": 163,
     "metadata": {},
     "output_type": "execute_result"
    }
   ],
   "source": [
    "temp['description'].value_counts()"
   ],
   "metadata": {
    "collapsed": false,
    "ExecuteTime": {
     "end_time": "2023-11-06T15:12:20.845141549Z",
     "start_time": "2023-11-06T15:12:20.784862775Z"
    }
   },
   "id": "ac9af9ddf28eeeb2"
  },
  {
   "cell_type": "code",
   "execution_count": 164,
   "outputs": [],
   "source": [
    "temp['label'] = temp['numLabel']"
   ],
   "metadata": {
    "collapsed": false,
    "ExecuteTime": {
     "end_time": "2023-11-06T15:12:20.845235833Z",
     "start_time": "2023-11-06T15:12:20.785096200Z"
    }
   },
   "id": "e0ca734a7c0e8318"
  },
  {
   "cell_type": "code",
   "execution_count": 165,
   "outputs": [],
   "source": [
    "FinalLabelFrame = temp[['ID','label','extra']].copy()"
   ],
   "metadata": {
    "collapsed": false,
    "ExecuteTime": {
     "end_time": "2023-11-06T15:12:20.845315256Z",
     "start_time": "2023-11-06T15:12:20.785152438Z"
    }
   },
   "id": "132a9a62f355dd64"
  },
  {
   "cell_type": "code",
   "execution_count": 166,
   "outputs": [
    {
     "data": {
      "text/plain": "                                                      ID  label  extra\n0      NIFTI_SLICES/A1114/20160916/MR/1.3.6.1.4.1.407...     17      0\n1      NIFTI_SLICES/A1114/20160916/MR/1.3.6.1.4.1.407...     17      0\n2      NIFTI_SLICES/A1114/20160916/MR/1.3.6.1.4.1.407...     17      0\n3      NIFTI_SLICES/A1114/20160916/MR/1.3.6.1.4.1.407...     17      0\n4      NIFTI_SLICES/A1114/20160916/MR/1.3.6.1.4.1.407...     17      0\n...                                                  ...    ...    ...\n52795  NIFTI_SLICES/7412286/20181122/MR/1.3.6.1.4.1.4...     17      0\n52796  NIFTI_SLICES/7412286/20181122/MR/1.3.6.1.4.1.4...     17      0\n52797  NIFTI_SLICES/7412286/20181122/MR/1.3.6.1.4.1.4...     17      0\n52798  NIFTI_SLICES/7412286/20181122/MR/1.3.6.1.4.1.4...     17      0\n52799  NIFTI_SLICES/7412286/20181122/MR/1.3.6.1.4.1.4...     17      0\n\n[52800 rows x 3 columns]",
      "text/html": "<div>\n<style scoped>\n    .dataframe tbody tr th:only-of-type {\n        vertical-align: middle;\n    }\n\n    .dataframe tbody tr th {\n        vertical-align: top;\n    }\n\n    .dataframe thead th {\n        text-align: right;\n    }\n</style>\n<table border=\"1\" class=\"dataframe\">\n  <thead>\n    <tr style=\"text-align: right;\">\n      <th></th>\n      <th>ID</th>\n      <th>label</th>\n      <th>extra</th>\n    </tr>\n  </thead>\n  <tbody>\n    <tr>\n      <th>0</th>\n      <td>NIFTI_SLICES/A1114/20160916/MR/1.3.6.1.4.1.407...</td>\n      <td>17</td>\n      <td>0</td>\n    </tr>\n    <tr>\n      <th>1</th>\n      <td>NIFTI_SLICES/A1114/20160916/MR/1.3.6.1.4.1.407...</td>\n      <td>17</td>\n      <td>0</td>\n    </tr>\n    <tr>\n      <th>2</th>\n      <td>NIFTI_SLICES/A1114/20160916/MR/1.3.6.1.4.1.407...</td>\n      <td>17</td>\n      <td>0</td>\n    </tr>\n    <tr>\n      <th>3</th>\n      <td>NIFTI_SLICES/A1114/20160916/MR/1.3.6.1.4.1.407...</td>\n      <td>17</td>\n      <td>0</td>\n    </tr>\n    <tr>\n      <th>4</th>\n      <td>NIFTI_SLICES/A1114/20160916/MR/1.3.6.1.4.1.407...</td>\n      <td>17</td>\n      <td>0</td>\n    </tr>\n    <tr>\n      <th>...</th>\n      <td>...</td>\n      <td>...</td>\n      <td>...</td>\n    </tr>\n    <tr>\n      <th>52795</th>\n      <td>NIFTI_SLICES/7412286/20181122/MR/1.3.6.1.4.1.4...</td>\n      <td>17</td>\n      <td>0</td>\n    </tr>\n    <tr>\n      <th>52796</th>\n      <td>NIFTI_SLICES/7412286/20181122/MR/1.3.6.1.4.1.4...</td>\n      <td>17</td>\n      <td>0</td>\n    </tr>\n    <tr>\n      <th>52797</th>\n      <td>NIFTI_SLICES/7412286/20181122/MR/1.3.6.1.4.1.4...</td>\n      <td>17</td>\n      <td>0</td>\n    </tr>\n    <tr>\n      <th>52798</th>\n      <td>NIFTI_SLICES/7412286/20181122/MR/1.3.6.1.4.1.4...</td>\n      <td>17</td>\n      <td>0</td>\n    </tr>\n    <tr>\n      <th>52799</th>\n      <td>NIFTI_SLICES/7412286/20181122/MR/1.3.6.1.4.1.4...</td>\n      <td>17</td>\n      <td>0</td>\n    </tr>\n  </tbody>\n</table>\n<p>52800 rows × 3 columns</p>\n</div>"
     },
     "execution_count": 166,
     "metadata": {},
     "output_type": "execute_result"
    }
   ],
   "source": [
    "FinalLabelFrame"
   ],
   "metadata": {
    "collapsed": false,
    "ExecuteTime": {
     "end_time": "2023-11-06T15:12:20.845696313Z",
     "start_time": "2023-11-06T15:12:20.785197694Z"
    }
   },
   "id": "7a566a6f3c8b3e6d"
  },
  {
   "cell_type": "code",
   "execution_count": 166,
   "outputs": [],
   "source": [],
   "metadata": {
    "collapsed": false,
    "ExecuteTime": {
     "end_time": "2023-11-06T15:12:20.845818395Z",
     "start_time": "2023-11-06T15:12:20.785261077Z"
    }
   },
   "id": "1acdf827b3d97968"
  },
  {
   "cell_type": "code",
   "execution_count": 167,
   "outputs": [],
   "source": [
    "appendstring = '/trinity/home/r098375/DDS/data/HeartBrain/'\n",
    "def fixPath(ID):\n",
    "    if not 'r098375' in ID:\n",
    "        return appendstring+ID\n",
    "    return ID"
   ],
   "metadata": {
    "collapsed": false,
    "ExecuteTime": {
     "end_time": "2023-11-06T15:12:20.853022030Z",
     "start_time": "2023-11-06T15:12:20.785328756Z"
    }
   },
   "id": "f5eb87b6f9408a7a"
  },
  {
   "cell_type": "code",
   "execution_count": 168,
   "outputs": [],
   "source": [
    "FinalLabelFrame['ID'] = FinalLabelFrame.ID.apply(fixPath)"
   ],
   "metadata": {
    "collapsed": false,
    "ExecuteTime": {
     "end_time": "2023-11-06T15:12:20.855917482Z",
     "start_time": "2023-11-06T15:12:20.788698396Z"
    }
   },
   "id": "79f4e8165bf0a95d"
  },
  {
   "cell_type": "code",
   "execution_count": 175,
   "outputs": [],
   "source": [
    "def extractSubject(ID):\n",
    "    return ID.split('/')[8]"
   ],
   "metadata": {
    "collapsed": false,
    "ExecuteTime": {
     "end_time": "2023-11-06T15:12:37.424870717Z",
     "start_time": "2023-11-06T15:12:37.397173042Z"
    }
   },
   "id": "2cf11498cb54f862"
  },
  {
   "cell_type": "code",
   "execution_count": 176,
   "outputs": [],
   "source": [
    "FinalLabelFrame['subject'] = FinalLabelFrame['ID'].apply(extractSubject)"
   ],
   "metadata": {
    "collapsed": false,
    "ExecuteTime": {
     "end_time": "2023-11-06T15:12:37.633757057Z",
     "start_time": "2023-11-06T15:12:37.609449533Z"
    }
   },
   "id": "cc366684ba2b3f9f"
  },
  {
   "cell_type": "code",
   "execution_count": 177,
   "outputs": [
    {
     "data": {
      "text/plain": "array(['A1114', 'A1127', '5412382', 'A1130', '5412348', '0411634',\n       'A1126', '9412367', 'A1141', 'A1088', 'A1048', '0411599', 'A1011',\n       '1412392', '9412603', 'A1092', 'A1013', '6412353', '0411609',\n       'A1014', 'A1022', 'A1007', '6412597', 'A1070', 'A1103', '1412376',\n       'A1125', '7412269', 'A1133', 'A1006', 'U4161', 'A1029', 'A1024',\n       'U4090', '1412355', '7411642', 'A1062', '5411648', 'A1036',\n       'A1053', 'A1008', '3412397', 'A1016', 'A1081', 'A1145', 'A1082',\n       'A1044', '7412599', 'U4127', '3412282', 'A1065', '0411613',\n       'A1097', '0411627', 'A1116', 'A1139', '3412324', 'A1089', 'A1085',\n       'A1031', '1411647', 'A1060', 'A1019', 'A1064', 'A1100', 'A1040',\n       '9411650', 'A1055', 'A1091', '2411586', '9412346', 'A1028',\n       'A1132', 'A1121', 'A1093', 'A1052', 'A1106', '1412364', '7411578',\n       'A1134', '2411632', '2412375', 'A1046', '5412601', 'A1049',\n       'U4002', '7412291', 'A1033', 'A1018', '6411605', '9412593',\n       'A1142', 'A1056', 'A1066', '5411615', 'A1041', 'A1073', 'A1059',\n       'A1105', '9411646', '9412385', 'A1115', 'A1087', 'A1122', 'A1002',\n       'A1026', '0412340', '1411655', 'A1030', 'A1090', 'A1015',\n       '9412373', '8412341', '1411584', 'A1123', 'A1034', 'A1043',\n       'A1054', '8412395', 'U4101', 'A1144', '5411575', '5412290',\n       'A1074', 'A1107', 'A1137', 'A1075', 'A1117', 'A1047', 'A1118',\n       'A1003', 'A1012', 'A1109', 'U4114', '3411639', 'A1069', '5411594',\n       '3412345', '6411595', '1412280', 'A1061', 'U4162', 'A1099',\n       '3412271', '7411606', 'A1149', 'A1050', '5411580', 'A1020',\n       '9411614', '1412596', '0412396', 'A1146', 'A1143', 'A1140',\n       '0412598', 'A1111', 'A1150', '3411616', 'A1039', '8411636',\n       'A1067', 'A1148', '2412278', '5412337', 'A1042', 'U4032', 'A1005',\n       'A1112', 'A1068', '7412333', '3412351', 'A1027', 'A1077', 'A1119',\n       'U4067', 'A1151', '2412332', '3411651', '8411641', 'A1025',\n       'U4080', '0412327', '2411617', 'A1072', 'A1045', '7411633',\n       'A1147', 'A1063', 'A1113', '2412595', 'A1101', 'U4163', 'A1078',\n       'A1108', 'A1084', 'A1010', 'A1080', 'A1124', '2411643', '6412328',\n       'U4048', 'A1094', 'A1098', 'A1131', '0412365', 'A1120', '5412393',\n       '6411612', '7412286'], dtype=object)"
     },
     "execution_count": 177,
     "metadata": {},
     "output_type": "execute_result"
    }
   ],
   "source": [
    "FinalLabelFrame['subject'].unique()"
   ],
   "metadata": {
    "collapsed": false,
    "ExecuteTime": {
     "end_time": "2023-11-06T15:12:37.786754459Z",
     "start_time": "2023-11-06T15:12:37.769262946Z"
    }
   },
   "id": "e0271dc7fd6e41f1"
  },
  {
   "cell_type": "code",
   "execution_count": 178,
   "outputs": [],
   "source": [
    "subjects = FinalLabelFrame['subject'].unique()"
   ],
   "metadata": {
    "collapsed": false,
    "ExecuteTime": {
     "end_time": "2023-11-06T15:12:37.959267293Z",
     "start_time": "2023-11-06T15:12:37.913252531Z"
    }
   },
   "id": "893f262b974e707e"
  },
  {
   "cell_type": "code",
   "execution_count": 179,
   "outputs": [],
   "source": [
    "from sklearn.model_selection import train_test_split"
   ],
   "metadata": {
    "collapsed": false,
    "ExecuteTime": {
     "end_time": "2023-11-06T15:12:38.117502159Z",
     "start_time": "2023-11-06T15:12:38.070079809Z"
    }
   },
   "id": "a4a594f7e30f2cb"
  },
  {
   "cell_type": "code",
   "execution_count": 180,
   "outputs": [],
   "source": [
    "train, test = train_test_split(subjects, test_size=0.1, shuffle=True, random_state=42)"
   ],
   "metadata": {
    "collapsed": false,
    "ExecuteTime": {
     "end_time": "2023-11-06T15:12:38.250170936Z",
     "start_time": "2023-11-06T15:12:38.207005465Z"
    }
   },
   "id": "75bf233efa366829"
  },
  {
   "cell_type": "code",
   "execution_count": 181,
   "outputs": [],
   "source": [
    "def inList(subject, list):\n",
    "    return subject in list"
   ],
   "metadata": {
    "collapsed": false,
    "ExecuteTime": {
     "end_time": "2023-11-06T15:12:38.427925631Z",
     "start_time": "2023-11-06T15:12:38.373430003Z"
    }
   },
   "id": "20fb88838e894110"
  },
  {
   "cell_type": "code",
   "execution_count": 182,
   "outputs": [],
   "source": [
    "FinalLabelFrame['trainsplit'] = FinalLabelFrame['subject'].apply(inList, list=train)"
   ],
   "metadata": {
    "collapsed": false,
    "ExecuteTime": {
     "end_time": "2023-11-06T15:12:39.029750519Z",
     "start_time": "2023-11-06T15:12:38.517822781Z"
    }
   },
   "id": "c5e6b7e29ad02e40"
  },
  {
   "cell_type": "code",
   "execution_count": 183,
   "outputs": [],
   "source": [
    "trainLabelFrame = FinalLabelFrame[FinalLabelFrame['trainsplit']][['ID','label','extra']]"
   ],
   "metadata": {
    "collapsed": false,
    "ExecuteTime": {
     "end_time": "2023-11-06T15:12:39.068999317Z",
     "start_time": "2023-11-06T15:12:39.026681048Z"
    }
   },
   "id": "2ba56be1f0400830"
  },
  {
   "cell_type": "code",
   "execution_count": 184,
   "outputs": [],
   "source": [
    "testLabelFrame = FinalLabelFrame[FinalLabelFrame['trainsplit']==False][['ID','label','extra']]"
   ],
   "metadata": {
    "collapsed": false,
    "ExecuteTime": {
     "end_time": "2023-11-06T15:12:39.069140408Z",
     "start_time": "2023-11-06T15:12:39.067166849Z"
    }
   },
   "id": "6f4bb6c6b777eaf0"
  },
  {
   "cell_type": "code",
   "execution_count": 185,
   "outputs": [
    {
     "data": {
      "text/plain": "label\n17    18575\n13     6200\n14     5275\n3      5250\n6      4750\n0      4275\n15     2775\nName: count, dtype: int64"
     },
     "execution_count": 185,
     "metadata": {},
     "output_type": "execute_result"
    }
   ],
   "source": [
    "trainLabelFrame['label'].value_counts()"
   ],
   "metadata": {
    "collapsed": false,
    "ExecuteTime": {
     "end_time": "2023-11-06T15:12:39.069364271Z",
     "start_time": "2023-11-06T15:12:39.067266639Z"
    }
   },
   "id": "b4f522991414fc13"
  },
  {
   "cell_type": "code",
   "execution_count": 186,
   "outputs": [
    {
     "data": {
      "text/plain": "label\n17    2175\n13     825\n14     775\n6      625\n3      600\n15     375\n0      325\nName: count, dtype: int64"
     },
     "execution_count": 186,
     "metadata": {},
     "output_type": "execute_result"
    }
   ],
   "source": [
    "testLabelFrame['label'].value_counts()"
   ],
   "metadata": {
    "collapsed": false,
    "ExecuteTime": {
     "end_time": "2023-11-06T15:12:39.351554961Z",
     "start_time": "2023-11-06T15:12:39.305305709Z"
    }
   },
   "id": "c369b66406a3ae8c"
  },
  {
   "cell_type": "code",
   "execution_count": 187,
   "outputs": [],
   "source": [
    "FinalLabelFrame.to_csv('HeartBrain_Labels_extensive2.txt',sep='\\t', index=False, header=False)\n",
    "testLabelFrame.to_csv('HeartBrain_testLabels_extensive2.txt',sep='\\t', index=False, header=False)\n",
    "trainLabelFrame.to_csv('HeartBrain_trainLabels_extensive2.txt',sep='\\t', index=False, header=False)"
   ],
   "metadata": {
    "collapsed": false,
    "ExecuteTime": {
     "end_time": "2023-11-06T15:12:40.741511237Z",
     "start_time": "2023-11-06T15:12:40.311955401Z"
    }
   },
   "id": "de76e89292ca30a1"
  }
 ],
 "metadata": {
  "kernelspec": {
   "display_name": "Python 3",
   "language": "python",
   "name": "python3"
  },
  "language_info": {
   "codemirror_mode": {
    "name": "ipython",
    "version": 2
   },
   "file_extension": ".py",
   "mimetype": "text/x-python",
   "name": "python",
   "nbconvert_exporter": "python",
   "pygments_lexer": "ipython2",
   "version": "2.7.6"
  }
 },
 "nbformat": 4,
 "nbformat_minor": 5
}
