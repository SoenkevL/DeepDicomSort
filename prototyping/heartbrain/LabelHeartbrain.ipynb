{
 "cells": [
  {
   "cell_type": "code",
   "execution_count": 1,
   "id": "initial_id",
   "metadata": {
    "collapsed": true,
    "ExecuteTime": {
     "end_time": "2023-11-03T14:08:22.823054147Z",
     "start_time": "2023-11-03T14:08:22.411877877Z"
    }
   },
   "outputs": [],
   "source": [
    "import pandas as pd"
   ]
  },
  {
   "cell_type": "code",
   "execution_count": 2,
   "outputs": [],
   "source": [
    "FileFrame = pd.read_csv('FileFrame.csv')"
   ],
   "metadata": {
    "collapsed": false,
    "ExecuteTime": {
     "end_time": "2023-11-03T14:08:23.063896472Z",
     "start_time": "2023-11-03T14:08:22.829018744Z"
    }
   },
   "id": "2a6ba57fa79749af"
  },
  {
   "cell_type": "code",
   "execution_count": 3,
   "outputs": [
    {
     "data": {
      "text/plain": "                                              originPath  \\\n0      /trinity/home/r098375/DDS/data/HeartBrain/data...   \n1      /trinity/home/r098375/DDS/data/HeartBrain/data...   \n2      /trinity/home/r098375/DDS/data/HeartBrain/data...   \n3      /trinity/home/r098375/DDS/data/HeartBrain/data...   \n4      /trinity/home/r098375/DDS/data/HeartBrain/data...   \n...                                                  ...   \n48933  /trinity/home/r098375/DDS/data/HeartBrain/data...   \n48934  /trinity/home/r098375/DDS/data/HeartBrain/data...   \n48935  /trinity/home/r098375/DDS/data/HeartBrain/data...   \n48936  /trinity/home/r098375/DDS/data/HeartBrain/data...   \n48937  /trinity/home/r098375/DDS/data/HeartBrain/data...   \n\n                                     structuredDicomPath  \n0      /trinity/home/r098375/DDS/data/HeartBrain/DICO...  \n1                                                    NaN  \n2      /trinity/home/r098375/DDS/data/HeartBrain/DICO...  \n3                                                    NaN  \n4                                                    NaN  \n...                                                  ...  \n48933  /trinity/home/r098375/DDS/data/HeartBrain/DICO...  \n48934  /trinity/home/r098375/DDS/data/HeartBrain/DICO...  \n48935  /trinity/home/r098375/DDS/data/HeartBrain/DICO...  \n48936  /trinity/home/r098375/DDS/data/HeartBrain/DICO...  \n48937  /trinity/home/r098375/DDS/data/HeartBrain/DICO...  \n\n[48938 rows x 2 columns]",
      "text/html": "<div>\n<style scoped>\n    .dataframe tbody tr th:only-of-type {\n        vertical-align: middle;\n    }\n\n    .dataframe tbody tr th {\n        vertical-align: top;\n    }\n\n    .dataframe thead th {\n        text-align: right;\n    }\n</style>\n<table border=\"1\" class=\"dataframe\">\n  <thead>\n    <tr style=\"text-align: right;\">\n      <th></th>\n      <th>originPath</th>\n      <th>structuredDicomPath</th>\n    </tr>\n  </thead>\n  <tbody>\n    <tr>\n      <th>0</th>\n      <td>/trinity/home/r098375/DDS/data/HeartBrain/data...</td>\n      <td>/trinity/home/r098375/DDS/data/HeartBrain/DICO...</td>\n    </tr>\n    <tr>\n      <th>1</th>\n      <td>/trinity/home/r098375/DDS/data/HeartBrain/data...</td>\n      <td>NaN</td>\n    </tr>\n    <tr>\n      <th>2</th>\n      <td>/trinity/home/r098375/DDS/data/HeartBrain/data...</td>\n      <td>/trinity/home/r098375/DDS/data/HeartBrain/DICO...</td>\n    </tr>\n    <tr>\n      <th>3</th>\n      <td>/trinity/home/r098375/DDS/data/HeartBrain/data...</td>\n      <td>NaN</td>\n    </tr>\n    <tr>\n      <th>4</th>\n      <td>/trinity/home/r098375/DDS/data/HeartBrain/data...</td>\n      <td>NaN</td>\n    </tr>\n    <tr>\n      <th>...</th>\n      <td>...</td>\n      <td>...</td>\n    </tr>\n    <tr>\n      <th>48933</th>\n      <td>/trinity/home/r098375/DDS/data/HeartBrain/data...</td>\n      <td>/trinity/home/r098375/DDS/data/HeartBrain/DICO...</td>\n    </tr>\n    <tr>\n      <th>48934</th>\n      <td>/trinity/home/r098375/DDS/data/HeartBrain/data...</td>\n      <td>/trinity/home/r098375/DDS/data/HeartBrain/DICO...</td>\n    </tr>\n    <tr>\n      <th>48935</th>\n      <td>/trinity/home/r098375/DDS/data/HeartBrain/data...</td>\n      <td>/trinity/home/r098375/DDS/data/HeartBrain/DICO...</td>\n    </tr>\n    <tr>\n      <th>48936</th>\n      <td>/trinity/home/r098375/DDS/data/HeartBrain/data...</td>\n      <td>/trinity/home/r098375/DDS/data/HeartBrain/DICO...</td>\n    </tr>\n    <tr>\n      <th>48937</th>\n      <td>/trinity/home/r098375/DDS/data/HeartBrain/data...</td>\n      <td>/trinity/home/r098375/DDS/data/HeartBrain/DICO...</td>\n    </tr>\n  </tbody>\n</table>\n<p>48938 rows × 2 columns</p>\n</div>"
     },
     "execution_count": 3,
     "metadata": {},
     "output_type": "execute_result"
    }
   ],
   "source": [
    "FileFrame"
   ],
   "metadata": {
    "collapsed": false,
    "ExecuteTime": {
     "end_time": "2023-11-03T14:08:23.093218863Z",
     "start_time": "2023-11-03T14:08:23.072825987Z"
    }
   },
   "id": "971799488a61faf4"
  },
  {
   "cell_type": "code",
   "execution_count": 4,
   "outputs": [],
   "source": [
    "def FindBrainScan(path):\n",
    "    return 'MRI_SCHEDEL' in path or 'MRI_HERSENEN' in path"
   ],
   "metadata": {
    "collapsed": false,
    "ExecuteTime": {
     "end_time": "2023-11-03T14:08:23.105367029Z",
     "start_time": "2023-11-03T14:08:23.083853221Z"
    }
   },
   "id": "fc8e39291397c2c3"
  },
  {
   "cell_type": "code",
   "execution_count": 5,
   "outputs": [],
   "source": [
    "FileFrame['brainscan'] = FileFrame['originPath'].apply(FindBrainScan)"
   ],
   "metadata": {
    "collapsed": false,
    "ExecuteTime": {
     "end_time": "2023-11-03T14:08:23.130971286Z",
     "start_time": "2023-11-03T14:08:23.102675061Z"
    }
   },
   "id": "f86a3d72ec0a16ec"
  },
  {
   "cell_type": "code",
   "execution_count": 6,
   "outputs": [],
   "source": [
    "BrainFrame = FileFrame[FileFrame['brainscan']].copy()"
   ],
   "metadata": {
    "collapsed": false,
    "ExecuteTime": {
     "end_time": "2023-11-03T14:08:23.228151838Z",
     "start_time": "2023-11-03T14:08:23.113038267Z"
    }
   },
   "id": "1a6c032fae4f0c7e"
  },
  {
   "cell_type": "code",
   "execution_count": 7,
   "outputs": [],
   "source": [
    "def deriveNiftiName(path):\n",
    "    path = str(path).replace('DICOM_STRUCTURED','NIFTI')\n",
    "    path = path+'.nii.gz'\n",
    "    return path"
   ],
   "metadata": {
    "collapsed": false,
    "ExecuteTime": {
     "end_time": "2023-11-03T14:08:23.228681718Z",
     "start_time": "2023-11-03T14:08:23.160035293Z"
    }
   },
   "id": "8b753e73d2568399"
  },
  {
   "cell_type": "code",
   "execution_count": 8,
   "outputs": [],
   "source": [
    "BrainFrame['infered_NIFTI_path'] = BrainFrame['structuredDicomPath'].apply(deriveNiftiName)"
   ],
   "metadata": {
    "collapsed": false,
    "ExecuteTime": {
     "end_time": "2023-11-03T14:08:23.229025515Z",
     "start_time": "2023-11-03T14:08:23.160396121Z"
    }
   },
   "id": "473faa79cc5e3a7d"
  },
  {
   "cell_type": "code",
   "execution_count": 9,
   "outputs": [],
   "source": [
    "BrainFrame['name'] = BrainFrame['originPath'].apply(lambda x: str(x).split('/')[10])"
   ],
   "metadata": {
    "collapsed": false,
    "ExecuteTime": {
     "end_time": "2023-11-03T14:08:23.230041500Z",
     "start_time": "2023-11-03T14:08:23.160557189Z"
    }
   },
   "id": "fb5e0cb95f97f176"
  },
  {
   "cell_type": "code",
   "execution_count": 10,
   "outputs": [
    {
     "data": {
      "text/plain": "array(['401-PCA_survey', '902-perfusion_map', '601-T1', ...,\n       '23843143-unknown', '23843126-unknown', '23843072-unknown'],\n      dtype=object)"
     },
     "execution_count": 10,
     "metadata": {},
     "output_type": "execute_result"
    }
   ],
   "source": [
    "BrainFrame['name'].unique()"
   ],
   "metadata": {
    "collapsed": false,
    "ExecuteTime": {
     "end_time": "2023-11-03T14:08:23.233536939Z",
     "start_time": "2023-11-03T14:08:23.204112159Z"
    }
   },
   "id": "c2c2091e2cdf073d"
  },
  {
   "cell_type": "code",
   "execution_count": 11,
   "outputs": [],
   "source": [
    "BrainFrame['str_name'] = BrainFrame['name'].apply(lambda x:str(x).split('-',2)[1])"
   ],
   "metadata": {
    "collapsed": false,
    "ExecuteTime": {
     "end_time": "2023-11-03T14:08:23.264865380Z",
     "start_time": "2023-11-03T14:08:23.227742891Z"
    }
   },
   "id": "e7cbcef701a4f75b"
  },
  {
   "cell_type": "code",
   "execution_count": 12,
   "outputs": [
    {
     "data": {
      "text/plain": "array(['PCA_survey', 'perfusion_map', 'T1', 'M0', 'asl_source',\n       'mpr_flair', 'MPR_hippo_cor', 'SWI', 'QF_min_wfs', 'FLAIR',\n       'SURVEY_MST', 'unknown', 'MR1', 'OT1', 'Rigid___Medium',\n       'sagmip_4__2_T1w_3D_TFE_pulsate', 'B0MAP_1msec_shimmed',\n       's_B1MAP_whole_brain_1min___MTX_SENSE', 'VISUAL_SCOUT_SENSE',\n       'cormip_4__2_T1w_3D_TFE_pulsate', 'tramip_4__2_T1w_3D_TFE_pulsate',\n       'MPR_SmartBrain', 'duyn_visual_3min_SENSE',\n       's_T1w_3D_TFE_pulsate_SENSE', 'VISUAL_shrtStim_SENSE',\n       'MidSlabSag_T1w_3D_TFE_pulsate', 'SmartBrain', 'B0MAP_1msec',\n       'B1_calibration', 'OT6', 'OT3', 'OT5', 'QF_min_wfs_120048_663',\n       'OT2', 'OT4', 'WIP_QF_min_wfs_CLEAR_120458_987',\n       'V3D_Brain_View_FLAIR_SHC_____sag', 'Vs_T1W_3D_TFE', 'FLAIR_extra',\n       'WIP_QF_min_wfs_CLEAR_145730_619', 'SWI_extra', 's_bFFE_PVS',\n       'T1_extra', 'OT7', 'VWIP_s_T1W_3D_TFE_SENSE', 'ASL_SENSE',\n       'sPerfusion', 'QF_min_wfs_121740_436', 'TRUST_ASL',\n       'WIP_QF_min_wfs_CLEAR_153810_368',\n       'WIP_QF_min_wfs_CLEAR_151125_591',\n       'duyn_halfbrain_11min__NAV_SENSE',\n       '2D_QF__5_3_v120_flip60_L_SENSE', 'tBG_2DPCA_TFE2_SENSE',\n       '2D_QF__5_3_v120_flip60_R_SENSE', 'sT1w_3DTFE_old_SENSE',\n       'tWM_2DPCAtoneTFE2_SENSE1_5_SENSE',\n       'WIP_QF_min_wfs_CLEAR_145803_874', 'QF_min_wfs_CLEAR_122424_569',\n       'm_SURVEY', 'duyn_halfbrain_11min_nav_SENSE',\n       'QF_min_wfs_105531_135', 'WIP_QF_min_wfs_110624_962',\n       'QF_min_wfs_CLEAR_124200_731', 't_QF_min_wfs_120652_631',\n       'WIP_QF_min_wfs_CLEAR_154051_991',\n       'WIP_QF_min_wfs_CLEAR_154047_424', 'QF_min_wfs_CLEAR_123436_508',\n       'QF_min_wfs_121032_669', 'Ref_HC_8', 'QF_min_wfs_111957_343',\n       'WIP_QF_min_wfs_CLEAR_20161207_101117_552SC_ImageView', '1',\n       'PCA_survey_F20', 'WIP_QF_min_wfs_CLEAR_144856_366',\n       'WIP_QF_min_wfs_CLEAR_095740_566', 'Vs_T1W_3D_TFE_SENSE',\n       'V3D_Brain_View_FLAIR_SHC_____sag_SENSE', 'DEFAULT_PS_SERIES',\n       'cor', 'Hypo_fMRI_2slice_SENSE', 'MR2',\n       '2D_QF__5_3_v120_flip60_R_TE3_8_SENSE', 'tra',\n       'scumul_2DPCAmag_WM', '2D_QF__5_3_v120_flip60_L_TE3_8_SENSE',\n       'QFlow_min_wfs_122207_401', 'WIP_QF_min_wfs_CLEAR_115431_480',\n       'WIP_QF_min_wfs_CLEAR_114917_198', 'QF__104816_407',\n       'V3dT1_0_9mm_SENSE', '3dT1_0_9mm_SENSE', 'OT9', 'OT8',\n       'WIP_QF_min_wfs_CLEAR_113854_221', 'QF_min_wfs_CLEAR_123845_112',\n       'QF_min_wfs_CLEAR_123924_657', 'QF_min_wfs_CLEAR_152356_309',\n       'QF_min_wfs_105347_082', 'QF_min_wfs_112510_535',\n       'QF_min_wfs_113143_236', 'QF_min_wfs_CLEAR_131043_254',\n       'QF_min_wfs_CLEAR_1_131249_333',\n       'WIP_QF_min_wfs_CLEAR_20161018_112635_354SC_ImageView',\n       'QF_min_wfs_124342_458', 'QF_min_wfs_CLEAR_110229_400',\n       'WIP_QF_min_wfs_111421_429', 'WIP_QF_min_wfs_CLEAR_135211_409',\n       'QF_min_wfs_125648_734', 'WIP_QF_min_wfs_120332_403',\n       'WIP_QF_min_wfs_CLEAR_112829_566', 'QF_min_wfs_112308_012',\n       'WIP_QF_min_wfs_CLEAR_130903_655', 'OT10',\n       'QF_min_wfs_CLEAR1_125955_456', 'QF_min_wfs_CLEAR_125943_241',\n       'QF_min_wfs_135734_606', 'QF_min_wfs_112900_727',\n       'sT1w_3DTFE_fast_SENSE', 's3D_bSSFP_PVS_SENSE',\n       'QF_min_wfs___115827_927',\n       'QF_min_wfs_20180831_120013_248SC_ImageView',\n       'QF_min_wfs_130220_429', 'QFlow_104455_744', 'ASL',\n       'ScreenCapture_125941_324', 'WIP_QF_min_wfs_CLEAR_121323_052',\n       'QF_min_wfs_113917_078', 'QF_min_wfs_114501_975', 'QFLOW_AA',\n       'WIP_QF_min_wfs_CLEAR_121010_146', 'SURVEY', 'sB_TFE_LVOT',\n       'SURVEYpwv', 'sB_TFE_st_sa', 'sB_TFE_2KRV', 'sB_TFE_4K',\n       'QFLOW_MV', 'SURVEY_SA', 'sB_TFE_2KLV', 'QF_min_wfs_124155_108',\n       'WIP_QF_min_wfs_CLEAR_124130_054', 'QF_min_wfs_124309_646',\n       'WIP_QF_min_wfs_CLEAR_124801_939', 'QF_min_wfs_124600_268',\n       'qflow_20170404_111935_161SC_ImageView', 'QF_min_wfs_120555_198',\n       'QF_min_wfs_114249_238', 'QF_min_wfs_CLEAR_122402_137',\n       'WIP_QF_min_wfs_CLEAR_111128_283',\n       'WIP_QF_min_wfs_CLEAR_111753_660',\n       'WIP_QF_min_wfs_CLEAR_124759_916', 'QF_min_wfs_112253_062',\n       'WIP_QF_min_wfs_123013_746', 'WIP_QF_min_wfs_CLEAR_150338_293',\n       'ASL_extra', 'QF__105042_916', 'mpr_cor', 'SURVEY_PCA',\n       'QF_min_wfs_103017_718', 'QF_min_wfs_103812_165',\n       'WIP_QF_min_wfs_CLEAR_134203_754', 'QF_min_wfs_105358_014',\n       'QF_min_wfs_2_124249_857', 'QF_min_wfs_124108_946',\n       'QF_min_wfs_CLEAR_131246_702', 'WIP_QF_min_wfs_112310_639',\n       'QF_min_wfs_110421_416', 'QF_min_wfs_120056_965',\n       'WIP_QF_min_wfs_CLEAR_112001_251',\n       'WIP_QF_min_wfs_CLEAR_113722_879', 'QF_min_wfs_121200_922',\n       'QF_min_wfs_103747_778', 'WIP_QF_min_wfs_CLEAR_150940_124',\n       'WIP_QF_min_wfs_CLEAR_105305_872', 'QF_min_wfs_CLEAR_113223_869',\n       'WIP_QF_min_wfs_132213_949', 'ASL_IR', 'sperfusie',\n       'ASL_PLD700_8phs', 'QF_min_wfs_104317_662',\n       'QF_min_wfs_113624_877',\n       'WIP_QF_min_wfs_CLEAR_20160115_131612_501SC_ImageView',\n       'WIP_QF_min_wfs_CLEAR_131525_691', 'QF_min_wfs_104822_887',\n       'QF_min_wfs_105401_141',\n       'QF_min_wfs_20180406_125708_165SC_ImageView',\n       'QF_min_wfs_141522_835', 'WIP_QF_min_wfs_CLEAR_155245_464',\n       'QF_min_wfs_114929_954', '3D_Brain_View_FLAIR_SHC_____sag',\n       'M0_meting_SENSE', 'Qflow_150641_802', 'QF_min_wfs_134301_144',\n       'WIP_QF_min_wfs_114054_644', 'QF_min_wfs_112153_172', 'SWI_minip',\n       'QF__112829_004', 'WIP_QF_min_wfs_CLEAR_143453_877',\n       'QF_min_wfs_123856_776', 'QF_min_wfs_105140_911',\n       'WIP_QF_min_wfs_CLEAR_132735_519', 'QF__131416_616',\n       'QF_min_wfs_111919_666', 'WIP_QF_min_wfs_CLEAR_111526_111',\n       'WIP_QF_min_wfs_CLEAR_111901_934',\n       'QF_min_wfs_20180406_122623_662SC_ImageView',\n       'QF_min_wfs_20180406_122504_482SC_ImageView',\n       'QF_min_wfs_141625_732', 'QF_min_wfs_115807_983',\n       'QF_min_wfs_122642_399', 'WIP_QF_min_wfs_CLEAR_121123_367',\n       'WIP_QF_min_wfs_CLEAR_112900_499', 'sT1w_3DTFE_old',\n       '2D_QF__5_3_v120_flip60_L', '7T_Survey_40s',\n       's_T1w_3D_TFE_pulsate', '2D_QF__5_3_v120_flip60_R',\n       'tWM_2DPCAtoneTFE2_SENSE1_5', 'tBG_2DPCA_TFE2', 'VISUAL_shrtStim',\n       'VISUAL_SCOUT', 'QF_min_wfs_133929_127', 'MR3', 'MR4',\n       'QF_min_wfs_105930_555', 'mpr_hippo',\n       'QF_min_wfs_CLEAR_152308_349', 'QF_min_wfs_122648_521',\n       'WIP_QF_min_wfs_110700_566', 'QF_min_wfs_104249_342',\n       'QF_min_wfs_123908_117', 'QF_min_wfs_124147_402',\n       'QF_min_wfs_104132_875', 'WIP_QF_min_wfs_CLEAR_120909_955',\n       'QF_min_wfs_CLEAR_151857_732', 'QF_min_wfs_CLEAR_112959_009',\n       'WIP_QF_min_wfs_CLEAR_113502_967', 'QF_min_wfs_112958_933',\n       'WIP_QF_min_wfs_CLEAR_125452_613', 'QF_min_wfs_113944_761',\n       'QF_min_wfs_124102_876', 'QF_min_wfs_112117_559',\n       'QF_min_wfs_CLEAR_125454_198', 'QF_min_wfs_130802_980',\n       'QF_min_wfs_123515_637', 'WIP_QF_min_wfs_CLEAR_114436_727',\n       'WIP_QF_min_wfs_CLEAR_114313_293', 'QF_min_wfs_110803_016',\n       'SenseRefScan', 'CoilSurveyScan', 'QF_min_wfs_121628_419',\n       'QF_min_wfs_20180608_121721_073SC_ImageView',\n       'QF_min_wfs_CLEAR_121955_145', 'QF_min_wfs_105246_442',\n       'QF_min_wfs_121713_356', 'WIP_QF_min_wfs_CLEAR_112017_966',\n       'WIP_QF_min_wfs_CLEAR_124635_133',\n       'WIP_QF_min_wfs_CLEAR_110420_084',\n       'QFlow_20150929_155910_908SC_ImageView', 'QF_min_wfs_122131_110',\n       'QF_min_wfs_111342_886', 'WIP_QF_min_wfs_CLEAR_112719_559',\n       'QF_min_wfs_CLEAR_104341_278', 'QF_min_wfs_104842_080',\n       'QF_min_wfs_122016_736', 'QF_min_wfs_CLEAR_151807_201',\n       'WIP_QF_min_wfs_CLEAR_20150721_152752_873SC_ImageView'],\n      dtype=object)"
     },
     "execution_count": 12,
     "metadata": {},
     "output_type": "execute_result"
    }
   ],
   "source": [
    "BrainFrame['str_name'].unique()"
   ],
   "metadata": {
    "collapsed": false,
    "ExecuteTime": {
     "end_time": "2023-11-03T14:08:23.294109552Z",
     "start_time": "2023-11-03T14:08:23.236609735Z"
    }
   },
   "id": "9c6ddce13a8407b8"
  },
  {
   "cell_type": "code",
   "execution_count": 13,
   "outputs": [],
   "source": [
    "def rename(origName):\n",
    "    on = origName.lower()\n",
    "    if 'local' in on:\n",
    "        return 'localizer'\n",
    "    if 'qflow' in on or 'qf' in on:\n",
    "        return 'qflow'\n",
    "    if 'gd' in on:\n",
    "        if 't1' in on or 'fspgr' in on:\n",
    "            return 'T1c'\n",
    "    if 'flair' in on:\n",
    "        return 'flair'\n",
    "    if 'dti' in on:\n",
    "        return 'dti'\n",
    "    if 'dwi' in on:\n",
    "        return 'dwi'\n",
    "    if 'adc' in on:\n",
    "        return 'adc'\n",
    "    if 'pwi' in on or 'perf' in on:\n",
    "        return 'pwi'\n",
    "    if 'pd' in on:\n",
    "        return 'pd'\n",
    "    if 'survey' in on:\n",
    "        return 'survey'\n",
    "    if 'asl' in on:\n",
    "        return 'asl'\n",
    "    if 'swi' in on:\n",
    "        return 'swi'\n",
    "    if 'hippo' in on:\n",
    "        return 'hippo'\n",
    "    if 't1' in on or 'fspgr' in on or 'mpr' in on:\n",
    "        return 'T1w'\n",
    "    if 't2' in on and not 'ot2' in on:\n",
    "        return 'T2w'\n",
    "    return 'other'"
   ],
   "metadata": {
    "collapsed": false,
    "ExecuteTime": {
     "end_time": "2023-11-03T14:08:23.294314073Z",
     "start_time": "2023-11-03T14:08:23.284079810Z"
    }
   },
   "id": "3fbc221508dfdcca"
  },
  {
   "cell_type": "code",
   "execution_count": 14,
   "outputs": [],
   "source": [
    "BrainFrame['renamed'] = BrainFrame['name'].apply(rename)"
   ],
   "metadata": {
    "collapsed": false,
    "ExecuteTime": {
     "end_time": "2023-11-03T14:08:23.340940287Z",
     "start_time": "2023-11-03T14:08:23.284329308Z"
    }
   },
   "id": "e6f507e103d1b10b"
  },
  {
   "cell_type": "code",
   "execution_count": 15,
   "outputs": [
    {
     "data": {
      "text/plain": "array(['survey', 'pwi', 'T1w', 'other', 'asl', 'flair', 'hippo', 'swi',\n       'qflow'], dtype=object)"
     },
     "execution_count": 15,
     "metadata": {},
     "output_type": "execute_result"
    }
   ],
   "source": [
    "BrainFrame['renamed'].unique()"
   ],
   "metadata": {
    "collapsed": false,
    "ExecuteTime": {
     "end_time": "2023-11-03T14:08:23.341458149Z",
     "start_time": "2023-11-03T14:08:23.327925522Z"
    }
   },
   "id": "5d39fcf0aba7471f"
  },
  {
   "cell_type": "code",
   "execution_count": 16,
   "outputs": [
    {
     "data": {
      "text/plain": "renamed\nother     6926\nsurvey    4924\nT1w       4537\nflair     2634\nasl       2494\nswi       2240\nqflow     2190\npwi       1434\nhippo      306\nName: count, dtype: int64"
     },
     "execution_count": 16,
     "metadata": {},
     "output_type": "execute_result"
    }
   ],
   "source": [
    "BrainFrame['renamed'].value_counts()"
   ],
   "metadata": {
    "collapsed": false,
    "ExecuteTime": {
     "end_time": "2023-11-03T14:08:23.341744129Z",
     "start_time": "2023-11-03T14:08:23.328149657Z"
    }
   },
   "id": "5422836bc0b43d75"
  },
  {
   "cell_type": "code",
   "execution_count": 17,
   "outputs": [
    {
     "data": {
      "text/plain": "array(['1101-SWI', '901-SWI', '1001-SWI', '1201-SWI', '1001-SWI_extra',\n       '1301-SWI', '0-OT1-SWI_EPI_2min', '2301-SWI', '1101-SWI_extra',\n       '801-SWI', '701-SWI', '0-OT3-SWI_EPI_2min', '0-OT2-SWI_EPI_2min',\n       '0-OT5-SWI_EPI_2min', '0-OT8-SWI_EPI_2min', '0-OT6-SWI_EPI_2min',\n       '1401-SWI', '1701-SWI', '2601-SWI', '1102-SWI_minip',\n       '1001-MR2-SWI_extra', '1001-MR3-SWI', '1001-MR1-SWI_EPI_2min',\n       '0-OT7-SWI_EPI_2min', '0-OT4-SWI_EPI_2min', '1801-SWI', '2501-SWI'],\n      dtype=object)"
     },
     "execution_count": 17,
     "metadata": {},
     "output_type": "execute_result"
    }
   ],
   "source": [
    "BrainFrame[BrainFrame['renamed']=='swi']['name'].unique()"
   ],
   "metadata": {
    "collapsed": false,
    "ExecuteTime": {
     "end_time": "2023-11-03T14:08:23.342016386Z",
     "start_time": "2023-11-03T14:08:23.328282148Z"
    }
   },
   "id": "ace894f730169603"
  },
  {
   "cell_type": "code",
   "execution_count": 17,
   "outputs": [],
   "source": [],
   "metadata": {
    "collapsed": false,
    "ExecuteTime": {
     "end_time": "2023-11-03T14:08:23.342183753Z",
     "start_time": "2023-11-03T14:08:23.328355245Z"
    }
   },
   "id": "f3d01600eed07c87"
  },
  {
   "cell_type": "code",
   "execution_count": 17,
   "outputs": [],
   "source": [],
   "metadata": {
    "collapsed": false,
    "ExecuteTime": {
     "end_time": "2023-11-03T14:08:23.342299437Z",
     "start_time": "2023-11-03T14:08:23.329651576Z"
    }
   },
   "id": "562f267b477572ba"
  }
 ],
 "metadata": {
  "kernelspec": {
   "display_name": "Python 3",
   "language": "python",
   "name": "python3"
  },
  "language_info": {
   "codemirror_mode": {
    "name": "ipython",
    "version": 2
   },
   "file_extension": ".py",
   "mimetype": "text/x-python",
   "name": "python",
   "nbconvert_exporter": "python",
   "pygments_lexer": "ipython2",
   "version": "2.7.6"
  }
 },
 "nbformat": 4,
 "nbformat_minor": 5
}
