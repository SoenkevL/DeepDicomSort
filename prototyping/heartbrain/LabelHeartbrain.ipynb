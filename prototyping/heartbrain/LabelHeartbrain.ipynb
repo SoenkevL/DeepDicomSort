{
 "cells": [
  {
   "cell_type": "code",
   "execution_count": 55,
   "id": "initial_id",
   "metadata": {
    "collapsed": true,
    "ExecuteTime": {
     "end_time": "2023-11-13T09:51:47.877305634Z",
     "start_time": "2023-11-13T09:51:47.442428848Z"
    }
   },
   "outputs": [],
   "source": [
    "import os\n",
    "\n",
    "import pandas as pd"
   ]
  },
  {
   "cell_type": "code",
   "execution_count": 56,
   "outputs": [],
   "source": [
    "FileFrame = pd.read_csv('FileFrame.csv')"
   ],
   "metadata": {
    "collapsed": false,
    "ExecuteTime": {
     "end_time": "2023-11-13T09:51:47.983228233Z",
     "start_time": "2023-11-13T09:51:47.467872743Z"
    }
   },
   "id": "2a6ba57fa79749af"
  },
  {
   "cell_type": "code",
   "execution_count": 57,
   "outputs": [
    {
     "data": {
      "text/plain": "                                              originPath  \\\n0      /trinity/home/r098375/DDS/data/HeartBrain/data...   \n1      /trinity/home/r098375/DDS/data/HeartBrain/data...   \n2      /trinity/home/r098375/DDS/data/HeartBrain/data...   \n3      /trinity/home/r098375/DDS/data/HeartBrain/data...   \n4      /trinity/home/r098375/DDS/data/HeartBrain/data...   \n...                                                  ...   \n56515  /trinity/home/r098375/DDS/data/HeartBrain/data...   \n56516  /trinity/home/r098375/DDS/data/HeartBrain/data...   \n56517  /trinity/home/r098375/DDS/data/HeartBrain/data...   \n56518  /trinity/home/r098375/DDS/data/HeartBrain/data...   \n56519  /trinity/home/r098375/DDS/data/HeartBrain/data...   \n\n                                     structuredDicomPath  \n0      /trinity/home/r098375/DDS/data/HeartBrain/DICO...  \n1                                                    NaN  \n2      /trinity/home/r098375/DDS/data/HeartBrain/DICO...  \n3                                                    NaN  \n4                                                    NaN  \n...                                                  ...  \n56515  /trinity/home/r098375/DDS/data/HeartBrain/DICO...  \n56516  /trinity/home/r098375/DDS/data/HeartBrain/DICO...  \n56517  /trinity/home/r098375/DDS/data/HeartBrain/DICO...  \n56518  /trinity/home/r098375/DDS/data/HeartBrain/DICO...  \n56519  /trinity/home/r098375/DDS/data/HeartBrain/DICO...  \n\n[56520 rows x 2 columns]",
      "text/html": "<div>\n<style scoped>\n    .dataframe tbody tr th:only-of-type {\n        vertical-align: middle;\n    }\n\n    .dataframe tbody tr th {\n        vertical-align: top;\n    }\n\n    .dataframe thead th {\n        text-align: right;\n    }\n</style>\n<table border=\"1\" class=\"dataframe\">\n  <thead>\n    <tr style=\"text-align: right;\">\n      <th></th>\n      <th>originPath</th>\n      <th>structuredDicomPath</th>\n    </tr>\n  </thead>\n  <tbody>\n    <tr>\n      <th>0</th>\n      <td>/trinity/home/r098375/DDS/data/HeartBrain/data...</td>\n      <td>/trinity/home/r098375/DDS/data/HeartBrain/DICO...</td>\n    </tr>\n    <tr>\n      <th>1</th>\n      <td>/trinity/home/r098375/DDS/data/HeartBrain/data...</td>\n      <td>NaN</td>\n    </tr>\n    <tr>\n      <th>2</th>\n      <td>/trinity/home/r098375/DDS/data/HeartBrain/data...</td>\n      <td>/trinity/home/r098375/DDS/data/HeartBrain/DICO...</td>\n    </tr>\n    <tr>\n      <th>3</th>\n      <td>/trinity/home/r098375/DDS/data/HeartBrain/data...</td>\n      <td>NaN</td>\n    </tr>\n    <tr>\n      <th>4</th>\n      <td>/trinity/home/r098375/DDS/data/HeartBrain/data...</td>\n      <td>NaN</td>\n    </tr>\n    <tr>\n      <th>...</th>\n      <td>...</td>\n      <td>...</td>\n    </tr>\n    <tr>\n      <th>56515</th>\n      <td>/trinity/home/r098375/DDS/data/HeartBrain/data...</td>\n      <td>/trinity/home/r098375/DDS/data/HeartBrain/DICO...</td>\n    </tr>\n    <tr>\n      <th>56516</th>\n      <td>/trinity/home/r098375/DDS/data/HeartBrain/data...</td>\n      <td>/trinity/home/r098375/DDS/data/HeartBrain/DICO...</td>\n    </tr>\n    <tr>\n      <th>56517</th>\n      <td>/trinity/home/r098375/DDS/data/HeartBrain/data...</td>\n      <td>/trinity/home/r098375/DDS/data/HeartBrain/DICO...</td>\n    </tr>\n    <tr>\n      <th>56518</th>\n      <td>/trinity/home/r098375/DDS/data/HeartBrain/data...</td>\n      <td>/trinity/home/r098375/DDS/data/HeartBrain/DICO...</td>\n    </tr>\n    <tr>\n      <th>56519</th>\n      <td>/trinity/home/r098375/DDS/data/HeartBrain/data...</td>\n      <td>/trinity/home/r098375/DDS/data/HeartBrain/DICO...</td>\n    </tr>\n  </tbody>\n</table>\n<p>56520 rows × 2 columns</p>\n</div>"
     },
     "execution_count": 57,
     "metadata": {},
     "output_type": "execute_result"
    }
   ],
   "source": [
    "FileFrame"
   ],
   "metadata": {
    "collapsed": false,
    "ExecuteTime": {
     "end_time": "2023-11-13T09:51:47.984018645Z",
     "start_time": "2023-11-13T09:51:47.651529998Z"
    }
   },
   "id": "971799488a61faf4"
  },
  {
   "cell_type": "code",
   "execution_count": 58,
   "outputs": [],
   "source": [
    "def FindBrainScan(path):\n",
    "    return 'MRI_SCHEDEL' in path or 'MRI_HERSENEN' in path"
   ],
   "metadata": {
    "collapsed": false,
    "ExecuteTime": {
     "end_time": "2023-11-13T09:51:47.984156964Z",
     "start_time": "2023-11-13T09:51:47.651833518Z"
    }
   },
   "id": "fc8e39291397c2c3"
  },
  {
   "cell_type": "code",
   "execution_count": 59,
   "outputs": [],
   "source": [
    "FileFrame['brainscan'] = FileFrame['originPath'].apply(FindBrainScan)"
   ],
   "metadata": {
    "collapsed": false,
    "ExecuteTime": {
     "end_time": "2023-11-13T09:51:47.984269299Z",
     "start_time": "2023-11-13T09:51:47.652111939Z"
    }
   },
   "id": "f86a3d72ec0a16ec"
  },
  {
   "cell_type": "code",
   "execution_count": 60,
   "outputs": [],
   "source": [
    "BrainFrame = FileFrame[FileFrame['brainscan']].copy()"
   ],
   "metadata": {
    "collapsed": false,
    "ExecuteTime": {
     "end_time": "2023-11-13T09:51:47.984952964Z",
     "start_time": "2023-11-13T09:51:47.652329346Z"
    }
   },
   "id": "1a6c032fae4f0c7e"
  },
  {
   "cell_type": "code",
   "execution_count": 61,
   "outputs": [],
   "source": [
    "def deriveNiftiName(path):\n",
    "    path = str(path).replace('DICOM_STRUCTURED','NIFTI')\n",
    "    path = path+'.nii.gz'\n",
    "    if 'HeartBrain' in path:\n",
    "        path = path.split('HeartBrain/')[1]\n",
    "    return path"
   ],
   "metadata": {
    "collapsed": false,
    "ExecuteTime": {
     "end_time": "2023-11-13T09:51:47.985081858Z",
     "start_time": "2023-11-13T09:51:47.699576406Z"
    }
   },
   "id": "8b753e73d2568399"
  },
  {
   "cell_type": "code",
   "execution_count": 62,
   "outputs": [],
   "source": [
    "BrainFrame['infered_NIFTI_path'] = BrainFrame['structuredDicomPath'].apply(deriveNiftiName)"
   ],
   "metadata": {
    "collapsed": false,
    "ExecuteTime": {
     "end_time": "2023-11-13T09:51:47.985189348Z",
     "start_time": "2023-11-13T09:51:47.699808255Z"
    }
   },
   "id": "473faa79cc5e3a7d"
  },
  {
   "cell_type": "code",
   "execution_count": 63,
   "outputs": [],
   "source": [
    "BrainFrame['name'] = BrainFrame['originPath'].apply(lambda x: str(x).split('/')[10])"
   ],
   "metadata": {
    "collapsed": false,
    "ExecuteTime": {
     "end_time": "2023-11-13T09:51:47.985348243Z",
     "start_time": "2023-11-13T09:51:47.699997626Z"
    }
   },
   "id": "fb5e0cb95f97f176"
  },
  {
   "cell_type": "code",
   "execution_count": 64,
   "outputs": [
    {
     "data": {
      "text/plain": "array(['401-PCA_survey', '902-perfusion_map', '601-T1', ...,\n       '701-s_B1MAP_whole_brain_1min___MTX_SENSE', '301-B0MAP_1msec',\n       '1101-TRUST_ASL'], dtype=object)"
     },
     "execution_count": 64,
     "metadata": {},
     "output_type": "execute_result"
    }
   ],
   "source": [
    "BrainFrame['name'].unique()"
   ],
   "metadata": {
    "collapsed": false,
    "ExecuteTime": {
     "end_time": "2023-11-13T09:51:47.985744852Z",
     "start_time": "2023-11-13T09:51:47.710844876Z"
    }
   },
   "id": "c2c2091e2cdf073d"
  },
  {
   "cell_type": "code",
   "execution_count": 65,
   "outputs": [],
   "source": [
    "BrainFrame['str_name'] = BrainFrame['name'].apply(lambda x:str(x).split('-',2)[1])"
   ],
   "metadata": {
    "collapsed": false,
    "ExecuteTime": {
     "end_time": "2023-11-13T09:51:47.985904474Z",
     "start_time": "2023-11-13T09:51:47.751638774Z"
    }
   },
   "id": "e7cbcef701a4f75b"
  },
  {
   "cell_type": "code",
   "execution_count": 66,
   "outputs": [
    {
     "data": {
      "text/plain": "array(['PCA_survey', 'perfusion_map', 'T1', 'M0', 'asl_source',\n       'mpr_flair', 'MPR_hippo_cor', 'SWI', 'QF_min_wfs', 'FLAIR',\n       'SURVEY_MST', 'unknown', 'MR1', 'OT1', 'Rigid___Medium',\n       'sagmip_4__2_T1w_3D_TFE_pulsate', 'VISUAL_SCOUT_SENSE',\n       'cormip_4__2_T1w_3D_TFE_pulsate', 'tramip_4__2_T1w_3D_TFE_pulsate',\n       'MPR_SmartBrain', 'duyn_visual_3min_SENSE',\n       's_T1w_3D_TFE_pulsate_SENSE', 'VISUAL_shrtStim_SENSE',\n       'MidSlabSag_T1w_3D_TFE_pulsate', 'SmartBrain', 'B1_calibration',\n       'OT6', 'OT3', 'OT5', 'QF_min_wfs_120048_663', 'OT2', 'OT4',\n       'WIP_QF_min_wfs_CLEAR_120458_987',\n       'V3D_Brain_View_FLAIR_SHC_____sag', 'Vs_T1W_3D_TFE', 'FLAIR_extra',\n       'WIP_QF_min_wfs_CLEAR_145730_619', 'SWI_extra', 's_bFFE_PVS',\n       'T1_extra', 'OT7', 'VWIP_s_T1W_3D_TFE_SENSE', 'ASL_SENSE',\n       'sPerfusion', 'QF_min_wfs_121740_436', 'TRUST_ASL',\n       'WIP_QF_min_wfs_CLEAR_153810_368',\n       'WIP_QF_min_wfs_CLEAR_151125_591',\n       'duyn_halfbrain_11min__NAV_SENSE',\n       '2D_QF__5_3_v120_flip60_L_SENSE', 'tBG_2DPCA_TFE2_SENSE',\n       '2D_QF__5_3_v120_flip60_R_SENSE', 'sT1w_3DTFE_old_SENSE',\n       'tWM_2DPCAtoneTFE2_SENSE1_5_SENSE',\n       'WIP_QF_min_wfs_CLEAR_145803_874', 'QF_min_wfs_CLEAR_122424_569',\n       'm_SURVEY', 'duyn_halfbrain_11min_nav_SENSE',\n       'QF_min_wfs_105531_135', 'WIP_QF_min_wfs_110624_962',\n       'QF_min_wfs_CLEAR_124200_731', 't_QF_min_wfs_120652_631',\n       'WIP_QF_min_wfs_CLEAR_154051_991',\n       'WIP_QF_min_wfs_CLEAR_154047_424', 'QF_min_wfs_CLEAR_123436_508',\n       'QF_min_wfs_121032_669', 'Ref_HC_8', 'QF_min_wfs_111957_343',\n       'WIP_QF_min_wfs_CLEAR_20161207_101117_552SC_ImageView', '1',\n       'PCA_survey_F20', 'WIP_QF_min_wfs_CLEAR_144856_366',\n       'WIP_QF_min_wfs_CLEAR_095740_566', 'Vs_T1W_3D_TFE_SENSE',\n       'V3D_Brain_View_FLAIR_SHC_____sag_SENSE', 'DEFAULT_PS_SERIES',\n       'cor', 'Hypo_fMRI_2slice_SENSE', 'MR2',\n       '2D_QF__5_3_v120_flip60_R_TE3_8_SENSE', 'tra',\n       'scumul_2DPCAmag_WM', '2D_QF__5_3_v120_flip60_L_TE3_8_SENSE',\n       'QFlow_min_wfs_122207_401', 'WIP_QF_min_wfs_CLEAR_115431_480',\n       'WIP_QF_min_wfs_CLEAR_114917_198', 'QF__104816_407',\n       'V3dT1_0_9mm_SENSE', '3dT1_0_9mm_SENSE', 'OT9', 'OT8',\n       'WIP_QF_min_wfs_CLEAR_113854_221', 'QF_min_wfs_CLEAR_123845_112',\n       'QF_min_wfs_CLEAR_123924_657', 'QF_min_wfs_CLEAR_152356_309',\n       'QF_min_wfs_105347_082', 'QF_min_wfs_112510_535',\n       'QF_min_wfs_113143_236', 'QF_min_wfs_CLEAR_131043_254',\n       'QF_min_wfs_CLEAR_1_131249_333',\n       'WIP_QF_min_wfs_CLEAR_20161018_112635_354SC_ImageView',\n       'QF_min_wfs_124342_458', 'QF_min_wfs_CLEAR_110229_400',\n       'WIP_QF_min_wfs_111421_429', 'WIP_QF_min_wfs_CLEAR_135211_409',\n       'QF_min_wfs_125648_734', 'WIP_QF_min_wfs_120332_403',\n       'WIP_QF_min_wfs_CLEAR_112829_566', 'QF_min_wfs_112308_012',\n       'WIP_QF_min_wfs_CLEAR_130903_655', 'OT10',\n       'QF_min_wfs_CLEAR1_125955_456', 'QF_min_wfs_CLEAR_125943_241',\n       'QF_min_wfs_135734_606', 'QF_min_wfs_112900_727',\n       'sT1w_3DTFE_fast_SENSE', 's3D_bSSFP_PVS_SENSE',\n       'QF_min_wfs___115827_927',\n       'QF_min_wfs_20180831_120013_248SC_ImageView',\n       'QF_min_wfs_130220_429', 'QFlow_104455_744', 'ASL',\n       'ScreenCapture_125941_324', 'WIP_QF_min_wfs_CLEAR_121323_052',\n       'QF_min_wfs_113917_078', 'QF_min_wfs_114501_975', 'QFLOW_AA',\n       'WIP_QF_min_wfs_CLEAR_121010_146', 'SURVEY', 'sB_TFE_LVOT',\n       'SURVEYpwv', 'sB_TFE_st_sa', 'sB_TFE_2KRV', 'sB_TFE_4K',\n       'QFLOW_MV', 'SURVEY_SA', 'sB_TFE_2KLV', 'QF_min_wfs_124155_108',\n       'WIP_QF_min_wfs_CLEAR_124130_054', 'QF_min_wfs_124309_646',\n       'WIP_QF_min_wfs_CLEAR_124801_939', 'QF_min_wfs_124600_268',\n       'qflow_20170404_111935_161SC_ImageView', 'QF_min_wfs_120555_198',\n       'QF_min_wfs_114249_238', 'QF_min_wfs_CLEAR_122402_137',\n       'WIP_QF_min_wfs_CLEAR_111128_283',\n       'WIP_QF_min_wfs_CLEAR_111753_660',\n       'WIP_QF_min_wfs_CLEAR_124759_916', 'QF_min_wfs_112253_062',\n       'WIP_QF_min_wfs_123013_746', 'WIP_QF_min_wfs_CLEAR_150338_293',\n       'ASL_extra', 'QF__105042_916', 'mpr_cor', 'SURVEY_PCA',\n       'QF_min_wfs_103017_718', 'QF_min_wfs_103812_165',\n       'WIP_QF_min_wfs_CLEAR_134203_754', 'QF_min_wfs_105358_014',\n       'QF_min_wfs_2_124249_857', 'QF_min_wfs_124108_946',\n       'QF_min_wfs_CLEAR_131246_702', 'WIP_QF_min_wfs_112310_639',\n       'QF_min_wfs_110421_416', 'QF_min_wfs_120056_965',\n       'WIP_QF_min_wfs_CLEAR_112001_251',\n       'WIP_QF_min_wfs_CLEAR_113722_879', 'QF_min_wfs_121200_922',\n       'QF_min_wfs_103747_778', 'WIP_QF_min_wfs_CLEAR_150940_124',\n       'WIP_QF_min_wfs_CLEAR_105305_872', 'QF_min_wfs_CLEAR_113223_869',\n       'WIP_QF_min_wfs_132213_949', 'ASL_IR', 'sperfusie',\n       'ASL_PLD700_8phs', 'QF_min_wfs_104317_662',\n       'QF_min_wfs_113624_877',\n       'WIP_QF_min_wfs_CLEAR_20160115_131612_501SC_ImageView',\n       'WIP_QF_min_wfs_CLEAR_131525_691', 'QF_min_wfs_104822_887',\n       'QF_min_wfs_105401_141',\n       'QF_min_wfs_20180406_125708_165SC_ImageView',\n       'QF_min_wfs_141522_835', 'WIP_QF_min_wfs_CLEAR_155245_464',\n       'QF_min_wfs_114929_954', '3D_Brain_View_FLAIR_SHC_____sag',\n       'M0_meting_SENSE', 'Qflow_150641_802', 'QF_min_wfs_134301_144',\n       'WIP_QF_min_wfs_114054_644', 'QF_min_wfs_112153_172', 'SWI_minip',\n       'QF__112829_004', 'WIP_QF_min_wfs_CLEAR_143453_877',\n       'QF_min_wfs_123856_776', 'QF_min_wfs_105140_911',\n       'WIP_QF_min_wfs_CLEAR_132735_519', 'QF__131416_616',\n       'QF_min_wfs_111919_666', 'WIP_QF_min_wfs_CLEAR_111526_111',\n       'WIP_QF_min_wfs_CLEAR_111901_934',\n       'QF_min_wfs_20180406_122623_662SC_ImageView',\n       'QF_min_wfs_20180406_122504_482SC_ImageView',\n       'QF_min_wfs_141625_732', 'QF_min_wfs_115807_983',\n       'QF_min_wfs_122642_399', 'WIP_QF_min_wfs_CLEAR_121123_367',\n       'WIP_QF_min_wfs_CLEAR_112900_499', 'sT1w_3DTFE_old',\n       '2D_QF__5_3_v120_flip60_L', '7T_Survey_40s',\n       's_T1w_3D_TFE_pulsate', '2D_QF__5_3_v120_flip60_R',\n       'tWM_2DPCAtoneTFE2_SENSE1_5', 'tBG_2DPCA_TFE2', 'VISUAL_shrtStim',\n       'VISUAL_SCOUT', 'QF_min_wfs_133929_127', 'MR3', 'MR4',\n       'QF_min_wfs_105930_555', 'mpr_hippo',\n       'QF_min_wfs_CLEAR_152308_349', 'QF_min_wfs_122648_521',\n       'WIP_QF_min_wfs_110700_566', 'QF_min_wfs_104249_342',\n       'QF_min_wfs_123908_117', 'QF_min_wfs_124147_402',\n       'QF_min_wfs_104132_875', 'WIP_QF_min_wfs_CLEAR_120909_955',\n       'QF_min_wfs_CLEAR_151857_732', 'QF_min_wfs_CLEAR_112959_009',\n       'WIP_QF_min_wfs_CLEAR_113502_967', 'QF_min_wfs_112958_933',\n       'WIP_QF_min_wfs_CLEAR_125452_613', 'QF_min_wfs_113944_761',\n       'QF_min_wfs_124102_876', 'QF_min_wfs_112117_559',\n       'QF_min_wfs_CLEAR_125454_198', 'QF_min_wfs_130802_980',\n       'QF_min_wfs_123515_637', 'WIP_QF_min_wfs_CLEAR_114436_727',\n       'WIP_QF_min_wfs_CLEAR_114313_293', 'QF_min_wfs_110803_016',\n       'SenseRefScan', 'CoilSurveyScan', 'QF_min_wfs_121628_419',\n       'QF_min_wfs_20180608_121721_073SC_ImageView',\n       'QF_min_wfs_CLEAR_121955_145', 'QF_min_wfs_105246_442',\n       'QF_min_wfs_121713_356', 'WIP_QF_min_wfs_CLEAR_112017_966',\n       'WIP_QF_min_wfs_CLEAR_124635_133',\n       'WIP_QF_min_wfs_CLEAR_110420_084',\n       'QFlow_20150929_155910_908SC_ImageView', 'QF_min_wfs_122131_110',\n       'QF_min_wfs_111342_886', 'WIP_QF_min_wfs_CLEAR_112719_559',\n       'QF_min_wfs_CLEAR_104341_278', 'QF_min_wfs_104842_080',\n       'QF_min_wfs_122016_736', 'QF_min_wfs_CLEAR_151807_201',\n       'WIP_QF_min_wfs_CLEAR_20150721_152752_873SC_ImageView',\n       'B0MAP_1msec', 's_B1MAP_whole_brain_1min___MTX_SENSE',\n       'B0MAP_1msec_shimmed'], dtype=object)"
     },
     "execution_count": 66,
     "metadata": {},
     "output_type": "execute_result"
    }
   ],
   "source": [
    "BrainFrame['str_name'].unique()"
   ],
   "metadata": {
    "collapsed": false,
    "ExecuteTime": {
     "end_time": "2023-11-13T09:51:47.986750294Z",
     "start_time": "2023-11-13T09:51:47.751867457Z"
    }
   },
   "id": "9c6ddce13a8407b8"
  },
  {
   "cell_type": "code",
   "execution_count": 67,
   "outputs": [],
   "source": [
    "def rename(origName):\n",
    "    on = origName.lower()\n",
    "    if 'local' in on:\n",
    "        return 'localizer'\n",
    "    if 'qflow' in on or 'qf' in on:\n",
    "        return 'qflow'\n",
    "    if 'gd' in on:\n",
    "        if 't1' in on or 'fspgr' in on:\n",
    "            return 'T1c'\n",
    "    if 'flair' in on:\n",
    "        return 'flair'\n",
    "    if 'dti' in on:\n",
    "        return 'dti'\n",
    "    if 'dwi' in on:\n",
    "        return 'dwi'\n",
    "    if 'adc' in on:\n",
    "        return 'adc'\n",
    "    if 'pwi' in on or 'perf' in on:\n",
    "        return 'pwi'\n",
    "    if 'pd' in on:\n",
    "        return 'pd'\n",
    "    if 'survey' in on:\n",
    "        return 'survey'\n",
    "    if 'asl' in on:\n",
    "        return 'asl'\n",
    "    if 'swi' in on:\n",
    "        return 'swi'\n",
    "    if 'hippo' in on:\n",
    "        return 'hippo'\n",
    "    if 't1' in on or 'fspgr' in on or 'mpr' in on:\n",
    "        return 'T1w'\n",
    "    if 't2' in on and not 'ot2' in on:\n",
    "        return 'T2w'\n",
    "    return 'other'"
   ],
   "metadata": {
    "collapsed": false,
    "ExecuteTime": {
     "end_time": "2023-11-13T09:51:47.986972131Z",
     "start_time": "2023-11-13T09:51:47.752228141Z"
    }
   },
   "id": "3fbc221508dfdcca"
  },
  {
   "cell_type": "code",
   "execution_count": 68,
   "outputs": [],
   "source": [
    "BrainFrame['renamed'] = BrainFrame['name'].apply(rename)"
   ],
   "metadata": {
    "collapsed": false,
    "ExecuteTime": {
     "end_time": "2023-11-13T09:51:47.987612916Z",
     "start_time": "2023-11-13T09:51:47.752420117Z"
    }
   },
   "id": "e6f507e103d1b10b"
  },
  {
   "cell_type": "code",
   "execution_count": 69,
   "outputs": [
    {
     "data": {
      "text/plain": "array(['survey', 'pwi', 'T1w', 'other', 'asl', 'flair', 'hippo', 'swi',\n       'qflow'], dtype=object)"
     },
     "execution_count": 69,
     "metadata": {},
     "output_type": "execute_result"
    }
   ],
   "source": [
    "BrainFrame['renamed'].unique()"
   ],
   "metadata": {
    "collapsed": false,
    "ExecuteTime": {
     "end_time": "2023-11-13T09:51:47.987903696Z",
     "start_time": "2023-11-13T09:51:47.799843646Z"
    }
   },
   "id": "5d39fcf0aba7471f"
  },
  {
   "cell_type": "code",
   "execution_count": 70,
   "outputs": [
    {
     "data": {
      "text/plain": "renamed\nother     7365\nsurvey    6112\nT1w       4929\nflair     3034\nasl       2862\nswi       2628\nqflow     2592\npwi       1624\nhippo      306\nName: count, dtype: int64"
     },
     "execution_count": 70,
     "metadata": {},
     "output_type": "execute_result"
    }
   ],
   "source": [
    "BrainFrame['renamed'].value_counts()"
   ],
   "metadata": {
    "collapsed": false,
    "ExecuteTime": {
     "end_time": "2023-11-13T09:51:47.988151127Z",
     "start_time": "2023-11-13T09:51:47.800412541Z"
    }
   },
   "id": "5422836bc0b43d75"
  },
  {
   "cell_type": "code",
   "execution_count": 76,
   "outputs": [
    {
     "name": "stdout",
     "output_type": "stream",
     "text": [
      "0               901-asl_source\n",
      "1               702-asl_source\n",
      "2               801-asl_source\n",
      "3     0-OT5-SOURCE___ASL_SENSE\n",
      "4              0-OT1-ASL_SENSE\n",
      "5               802-asl_source\n",
      "6                901-ASL_SENSE\n",
      "7              1401-asl_source\n",
      "8                901-TRUST_ASL\n",
      "9               1001-TRUST_ASL\n",
      "10             2101-asl_source\n",
      "11              902-asl_source\n",
      "12             1101-asl_source\n",
      "13              602-asl_source\n",
      "14             1001-asl_source\n",
      "15             0-OT3-ASL_SENSE\n",
      "16             1002-asl_source\n",
      "17             0-OT4-ASL_SENSE\n",
      "18             0-OT5-ASL_SENSE\n",
      "19                     801-ASL\n",
      "20    0-OT3-SOURCE___ASL_SENSE\n",
      "21             0-OT2-ASL_SENSE\n",
      "22              701-asl_source\n",
      "23             1501-asl_source\n",
      "24               801-ASL_extra\n",
      "25                 1201-ASL_IR\n",
      "26        1101-ASL_PLD700_8phs\n",
      "27               701-ASL_SENSE\n",
      "28                     701-ASL\n",
      "29             2401-asl_source\n",
      "30                 1101-ASL_IR\n",
      "31        1001-ASL_PLD700_8phs\n",
      "32           801-MR2-ASL_SENSE\n",
      "33          801-MR1-asl_source\n",
      "34             1201-asl_source\n",
      "35                 1301-ASL_IR\n",
      "36        1201-ASL_PLD700_8phs\n",
      "37             0-OT6-ASL_SENSE\n",
      "38    0-OT2-SOURCE___ASL_SENSE\n",
      "39             1601-asl_source\n",
      "40             2301-asl_source\n",
      "41              1101-TRUST_ASL\n"
     ]
    }
   ],
   "source": [
    "print(pd.Series(BrainFrame[BrainFrame['renamed']=='asl']['name'].unique()).to_string())"
   ],
   "metadata": {
    "collapsed": false,
    "ExecuteTime": {
     "end_time": "2023-11-13T09:57:16.665082573Z",
     "start_time": "2023-11-13T09:57:16.619921679Z"
    }
   },
   "id": "ace894f730169603"
  },
  {
   "cell_type": "code",
   "execution_count": 79,
   "outputs": [
    {
     "data": {
      "text/plain": "array(['survey', 'pwi', 'T1w', 'other', 'asl', 'flair', 'hippo', 'swi',\n       'qflow'], dtype=object)"
     },
     "execution_count": 79,
     "metadata": {},
     "output_type": "execute_result"
    }
   ],
   "source": [
    "BrainFrame['renamed'].unique()"
   ],
   "metadata": {
    "collapsed": false,
    "ExecuteTime": {
     "end_time": "2023-11-13T09:59:22.103839891Z",
     "start_time": "2023-11-13T09:59:22.059489662Z"
    }
   },
   "id": "be677cd4e4dad9b2"
  },
  {
   "cell_type": "code",
   "execution_count": 84,
   "outputs": [],
   "source": [
    "def CreateIndivudalToUnifiedNameDocument(df, outfile):\n",
    "    with open(outfile, 'w') as f:\n",
    "        names = df['renamed'].unique()\n",
    "        for name in names:\n",
    "            nameMatching = df[df['renamed']==name]['name'].unique()\n",
    "            nameMatching = pd.Series(nameMatching).to_string()\n",
    "            f.write(f'{name}:\\n{nameMatching}\\n\\n{\"-\"*25}\\n')"
   ],
   "metadata": {
    "collapsed": false,
    "ExecuteTime": {
     "end_time": "2023-11-13T10:01:11.685323900Z",
     "start_time": "2023-11-13T10:01:11.641705521Z"
    }
   },
   "id": "65cd7262b89f2c43"
  },
  {
   "cell_type": "code",
   "execution_count": 85,
   "outputs": [],
   "source": [
    "outfile = 'NameMatching.txt'\n",
    "CreateIndivudalToUnifiedNameDocument(BrainFrame, outfile)"
   ],
   "metadata": {
    "collapsed": false,
    "ExecuteTime": {
     "end_time": "2023-11-13T10:01:12.010964778Z",
     "start_time": "2023-11-13T10:01:11.942542057Z"
    }
   },
   "id": "df9ae0e31bd73e44"
  },
  {
   "cell_type": "code",
   "execution_count": null,
   "outputs": [],
   "source": [
    "labeldict = {\"T1\":0,\"T1_c\":1,\"T2\":2,\"T2-FLAIR\":3,\"FS\":4,\"PD\":5,\n",
    "             \"SWI\":6, \"GRE\":7, \"T2*\":8, \"DWI\":9, \"ADC\":10, \"BOLD\":11,\n",
    "             \"FlowSensitve\":12,\"PWI\":13,\"ASL\":14,\"Hippo\":15,\n",
    "             \"DTI\":16,\"Other\":17}\n",
    "def assignLabel(dataframe):\n",
    "    description = dataframe['description']\n",
    "    try:\n",
    "        weight = dataframe['weighting']\n",
    "    except:\n",
    "        weight = None\n",
    "    otherCategories = ['fieldmap','scout','calibration','phase','localizer','nan','NotMri','pet','CT','e2','minIP','moco','mpr','other','survey', 'qflow'] #moco is a motion corrected series\n",
    "    if description in otherCategories:\n",
    "        return 17\n",
    "    if description =='T1w':\n",
    "        return 0\n",
    "    if description =='T1c':\n",
    "        return 1\n",
    "    if weight:\n",
    "        if description =='T2w':\n",
    "            if weight=='T2':\n",
    "                return 2\n",
    "            if weight=='PD':\n",
    "                return 5\n",
    "    if description == 'T2w':\n",
    "        return 2\n",
    "    if 'flair' in description.lower():\n",
    "        return 3\n",
    "    if description =='FS':\n",
    "        return 4\n",
    "    if description =='pd':\n",
    "        return 5\n",
    "    if description =='swi':\n",
    "        return 6\n",
    "    if description.lower() =='gre':\n",
    "        return 7\n",
    "    if description =='T2star':\n",
    "        return 8\n",
    "    if description =='dwi':\n",
    "        return 9\n",
    "    if description =='adc':\n",
    "        return 10\n",
    "    if description =='bold':\n",
    "        return 11\n",
    "    if description =='angio': #flowsensitive\n",
    "        return 12\n",
    "    if description =='pwi' or description=='cbf':\n",
    "        return 13\n",
    "    if 'asl' in description:\n",
    "        return 14\n",
    "    if description == 'hippo':\n",
    "        return 15\n",
    "    if description == 'dti':\n",
    "        return 16\n",
    "    return -1"
   ],
   "metadata": {
    "collapsed": false,
    "ExecuteTime": {
     "start_time": "2023-11-13T09:51:47.836274988Z"
    }
   },
   "id": "f3d01600eed07c87"
  },
  {
   "cell_type": "code",
   "execution_count": null,
   "outputs": [],
   "source": [
    "BrainFrame['description'] = BrainFrame['renamed']"
   ],
   "metadata": {
    "collapsed": false,
    "ExecuteTime": {
     "start_time": "2023-11-13T09:51:47.836428557Z"
    }
   },
   "id": "562f267b477572ba"
  },
  {
   "cell_type": "code",
   "execution_count": null,
   "outputs": [],
   "source": [
    "BrainFrame['numLabel'] = BrainFrame.apply(assignLabel,axis=1)"
   ],
   "metadata": {
    "collapsed": false,
    "ExecuteTime": {
     "start_time": "2023-11-13T09:51:47.836666886Z"
    }
   },
   "id": "38781f4ef7cb63d1"
  },
  {
   "cell_type": "code",
   "execution_count": null,
   "outputs": [],
   "source": [
    "BrainFrame['numLabel'].value_counts()"
   ],
   "metadata": {
    "collapsed": false,
    "ExecuteTime": {
     "start_time": "2023-11-13T09:51:47.836763039Z"
    }
   },
   "id": "d70da7d8aa502a20"
  },
  {
   "cell_type": "code",
   "execution_count": null,
   "outputs": [],
   "source": [
    "LabelFrame = pd.read_csv('Labels.txt',names=['ID','label','extra'],sep='\\t', dtype={'ID':str,'label':int,'extra':int})"
   ],
   "metadata": {
    "collapsed": false,
    "ExecuteTime": {
     "start_time": "2023-11-13T09:51:47.836864013Z"
    }
   },
   "id": "42538d3910e0be7"
  },
  {
   "cell_type": "code",
   "execution_count": null,
   "outputs": [],
   "source": [
    "def extractNiftiName(name):\n",
    "    name = name.rsplit('__',1)[0]\n",
    "    name = name.replace('NIFTI_SLICES','NIFTI')\n",
    "    name = name.split('_Scan')[0]\n",
    "    name = f'{name}.nii.gz'\n",
    "    if len(str(name).split('__')) > 3:\n",
    "        return None\n",
    "    return name"
   ],
   "metadata": {
    "collapsed": false,
    "ExecuteTime": {
     "start_time": "2023-11-13T09:51:47.836948880Z"
    }
   },
   "id": "3bf243148fb7be9d"
  },
  {
   "cell_type": "code",
   "execution_count": null,
   "outputs": [],
   "source": [
    "LabelFrame['nifti_name'] = LabelFrame['ID'].apply(extractNiftiName)"
   ],
   "metadata": {
    "collapsed": false,
    "ExecuteTime": {
     "start_time": "2023-11-13T09:51:47.837029041Z"
    }
   },
   "id": "d42dfddcdbd13fbd"
  },
  {
   "cell_type": "code",
   "execution_count": null,
   "outputs": [],
   "source": [
    "len(LabelFrame)"
   ],
   "metadata": {
    "collapsed": false,
    "ExecuteTime": {
     "start_time": "2023-11-13T09:51:47.837111445Z"
    }
   },
   "id": "348893e8e3299d49"
  },
  {
   "cell_type": "code",
   "execution_count": null,
   "outputs": [],
   "source": [
    "LabelFrame.head()"
   ],
   "metadata": {
    "collapsed": false,
    "ExecuteTime": {
     "start_time": "2023-11-13T09:51:47.837247315Z"
    }
   },
   "id": "6b10715d69a1f2c5"
  },
  {
   "cell_type": "code",
   "execution_count": null,
   "outputs": [],
   "source": [
    "BrainFrame.head()"
   ],
   "metadata": {
    "collapsed": false,
    "ExecuteTime": {
     "start_time": "2023-11-13T09:51:47.838465761Z"
    }
   },
   "id": "d0f9bd8eb9b39bde"
  },
  {
   "cell_type": "code",
   "execution_count": null,
   "outputs": [],
   "source": [
    "temp = LabelFrame.merge(BrainFrame, how='inner', left_on='nifti_name', right_on=\"infered_NIFTI_path\")"
   ],
   "metadata": {
    "collapsed": false,
    "ExecuteTime": {
     "start_time": "2023-11-13T09:51:47.840563889Z"
    }
   },
   "id": "2b665acdd0682024"
  },
  {
   "cell_type": "code",
   "execution_count": null,
   "outputs": [],
   "source": [
    "temp"
   ],
   "metadata": {
    "collapsed": false,
    "ExecuteTime": {
     "start_time": "2023-11-13T09:51:47.842754454Z"
    }
   },
   "id": "38a577996af00365"
  },
  {
   "cell_type": "code",
   "execution_count": null,
   "outputs": [],
   "source": [
    "temp['description'].value_counts()"
   ],
   "metadata": {
    "collapsed": false,
    "ExecuteTime": {
     "start_time": "2023-11-13T09:51:47.845125156Z"
    }
   },
   "id": "ac9af9ddf28eeeb2"
  },
  {
   "cell_type": "code",
   "execution_count": null,
   "outputs": [],
   "source": [
    "temp['label'] = temp['numLabel']"
   ],
   "metadata": {
    "collapsed": false,
    "ExecuteTime": {
     "start_time": "2023-11-13T09:51:47.847400966Z"
    }
   },
   "id": "e0ca734a7c0e8318"
  },
  {
   "cell_type": "code",
   "execution_count": null,
   "outputs": [],
   "source": [
    "FinalLabelFrame = temp[['ID','label','extra']].copy()"
   ],
   "metadata": {
    "collapsed": false,
    "ExecuteTime": {
     "start_time": "2023-11-13T09:51:47.849977075Z"
    }
   },
   "id": "132a9a62f355dd64"
  },
  {
   "cell_type": "code",
   "execution_count": null,
   "outputs": [],
   "source": [
    "FinalLabelFrame"
   ],
   "metadata": {
    "collapsed": false,
    "ExecuteTime": {
     "start_time": "2023-11-13T09:51:47.852274904Z"
    }
   },
   "id": "7a566a6f3c8b3e6d"
  },
  {
   "cell_type": "code",
   "execution_count": null,
   "outputs": [],
   "source": [],
   "metadata": {
    "collapsed": false,
    "ExecuteTime": {
     "start_time": "2023-11-13T09:51:47.854039710Z"
    }
   },
   "id": "1acdf827b3d97968"
  },
  {
   "cell_type": "code",
   "execution_count": null,
   "outputs": [],
   "source": [
    "appendstring = '/trinity/home/r098375/DDS/data/HeartBrain/'\n",
    "def fixPath(ID):\n",
    "    if not 'r098375' in ID:\n",
    "        return appendstring+ID\n",
    "    return ID"
   ],
   "metadata": {
    "collapsed": false,
    "ExecuteTime": {
     "start_time": "2023-11-13T09:51:47.899540479Z"
    }
   },
   "id": "f5eb87b6f9408a7a"
  },
  {
   "cell_type": "code",
   "execution_count": null,
   "outputs": [],
   "source": [
    "FinalLabelFrame['ID'] = FinalLabelFrame.ID.apply(fixPath)"
   ],
   "metadata": {
    "collapsed": false,
    "ExecuteTime": {
     "start_time": "2023-11-13T09:51:47.899660706Z"
    }
   },
   "id": "79f4e8165bf0a95d"
  },
  {
   "cell_type": "code",
   "execution_count": null,
   "outputs": [],
   "source": [
    "def extractSubject(ID):\n",
    "    return ID.split('/')[8]"
   ],
   "metadata": {
    "collapsed": false,
    "ExecuteTime": {
     "start_time": "2023-11-13T09:51:47.899738675Z"
    }
   },
   "id": "2cf11498cb54f862"
  },
  {
   "cell_type": "code",
   "execution_count": null,
   "outputs": [],
   "source": [
    "FinalLabelFrame['subject'] = FinalLabelFrame['ID'].apply(extractSubject)"
   ],
   "metadata": {
    "collapsed": false,
    "ExecuteTime": {
     "start_time": "2023-11-13T09:51:47.899797696Z"
    }
   },
   "id": "cc366684ba2b3f9f"
  },
  {
   "cell_type": "code",
   "execution_count": null,
   "outputs": [],
   "source": [
    "FinalLabelFrame['subject'].unique()"
   ],
   "metadata": {
    "collapsed": false,
    "ExecuteTime": {
     "start_time": "2023-11-13T09:51:47.899850059Z"
    }
   },
   "id": "e0271dc7fd6e41f1"
  },
  {
   "cell_type": "code",
   "execution_count": null,
   "outputs": [],
   "source": [
    "subjects = FinalLabelFrame['subject'].unique()"
   ],
   "metadata": {
    "collapsed": false,
    "ExecuteTime": {
     "start_time": "2023-11-13T09:51:47.899900889Z"
    }
   },
   "id": "893f262b974e707e"
  },
  {
   "cell_type": "code",
   "execution_count": null,
   "outputs": [],
   "source": [
    "from sklearn.model_selection import train_test_split"
   ],
   "metadata": {
    "collapsed": false,
    "ExecuteTime": {
     "start_time": "2023-11-13T09:51:47.899966329Z"
    }
   },
   "id": "a4a594f7e30f2cb"
  },
  {
   "cell_type": "code",
   "execution_count": null,
   "outputs": [],
   "source": [
    "train, test = train_test_split(subjects, test_size=0.1, shuffle=True, random_state=42)"
   ],
   "metadata": {
    "collapsed": false,
    "ExecuteTime": {
     "start_time": "2023-11-13T09:51:47.900016864Z"
    }
   },
   "id": "75bf233efa366829"
  },
  {
   "cell_type": "code",
   "execution_count": null,
   "outputs": [],
   "source": [
    "def inList(subject, list):\n",
    "    return subject in list"
   ],
   "metadata": {
    "collapsed": false,
    "ExecuteTime": {
     "start_time": "2023-11-13T09:51:47.900071512Z"
    }
   },
   "id": "20fb88838e894110"
  },
  {
   "cell_type": "code",
   "execution_count": null,
   "outputs": [],
   "source": [
    "FinalLabelFrame['trainsplit'] = FinalLabelFrame['subject'].apply(inList, list=train)"
   ],
   "metadata": {
    "collapsed": false,
    "ExecuteTime": {
     "start_time": "2023-11-13T09:51:47.900120519Z"
    }
   },
   "id": "c5e6b7e29ad02e40"
  },
  {
   "cell_type": "code",
   "execution_count": null,
   "outputs": [],
   "source": [
    "trainLabelFrame = FinalLabelFrame[FinalLabelFrame['trainsplit']][['ID','label','extra']]"
   ],
   "metadata": {
    "collapsed": false,
    "ExecuteTime": {
     "start_time": "2023-11-13T09:51:47.900169196Z"
    }
   },
   "id": "2ba56be1f0400830"
  },
  {
   "cell_type": "code",
   "execution_count": null,
   "outputs": [],
   "source": [
    "testLabelFrame = FinalLabelFrame[FinalLabelFrame['trainsplit']==False][['ID','label','extra']]"
   ],
   "metadata": {
    "collapsed": false,
    "ExecuteTime": {
     "start_time": "2023-11-13T09:51:47.900217651Z"
    }
   },
   "id": "6f4bb6c6b777eaf0"
  },
  {
   "cell_type": "code",
   "execution_count": null,
   "outputs": [],
   "source": [
    "trainLabelFrame['label'].value_counts()"
   ],
   "metadata": {
    "collapsed": false,
    "ExecuteTime": {
     "start_time": "2023-11-13T09:51:47.900266013Z"
    }
   },
   "id": "b4f522991414fc13"
  },
  {
   "cell_type": "code",
   "execution_count": null,
   "outputs": [],
   "source": [
    "testLabelFrame['label'].value_counts()"
   ],
   "metadata": {
    "collapsed": false,
    "ExecuteTime": {
     "start_time": "2023-11-13T09:51:47.900337382Z"
    }
   },
   "id": "c369b66406a3ae8c"
  },
  {
   "cell_type": "code",
   "execution_count": null,
   "outputs": [],
   "source": [
    "FinalLabelFrame.to_csv('HeartBrain_Labels_extensive2.txt',sep='\\t', index=False, header=False)\n",
    "testLabelFrame.to_csv('HeartBrain_testLabels_extensive2.txt',sep='\\t', index=False, header=False)\n",
    "trainLabelFrame.to_csv('HeartBrain_trainLabels_extensive2.txt',sep='\\t', index=False, header=False)"
   ],
   "metadata": {
    "collapsed": false,
    "ExecuteTime": {
     "start_time": "2023-11-13T09:51:47.900411326Z"
    }
   },
   "id": "de76e89292ca30a1"
  }
 ],
 "metadata": {
  "kernelspec": {
   "display_name": "Python 3",
   "language": "python",
   "name": "python3"
  },
  "language_info": {
   "codemirror_mode": {
    "name": "ipython",
    "version": 2
   },
   "file_extension": ".py",
   "mimetype": "text/x-python",
   "name": "python",
   "nbconvert_exporter": "python",
   "pygments_lexer": "ipython2",
   "version": "2.7.6"
  }
 },
 "nbformat": 4,
 "nbformat_minor": 5
}
