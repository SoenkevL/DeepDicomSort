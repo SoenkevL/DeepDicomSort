{
 "cells": [
  {
   "cell_type": "code",
   "execution_count": 112,
   "id": "initial_id",
   "metadata": {
    "collapsed": true,
    "ExecuteTime": {
     "end_time": "2023-11-28T11:29:57.848498864Z",
     "start_time": "2023-11-28T11:29:57.172576815Z"
    }
   },
   "outputs": [],
   "source": [
    "import os\n",
    "\n",
    "import pandas as pd"
   ]
  },
  {
   "cell_type": "code",
   "execution_count": 113,
   "outputs": [],
   "source": [
    "FileFrame = pd.read_csv('FileFrame.csv')"
   ],
   "metadata": {
    "collapsed": false,
    "ExecuteTime": {
     "end_time": "2023-11-28T11:29:57.850106868Z",
     "start_time": "2023-11-28T11:29:57.172660162Z"
    }
   },
   "id": "2a6ba57fa79749af"
  },
  {
   "cell_type": "code",
   "execution_count": 114,
   "outputs": [
    {
     "data": {
      "text/plain": "                                              originPath  \\\n0      /data/scratch/r098375/data/HeartBrain/data/U40...   \n1      /data/scratch/r098375/data/HeartBrain/data/U40...   \n2      /data/scratch/r098375/data/HeartBrain/data/U40...   \n3      /data/scratch/r098375/data/HeartBrain/data/U40...   \n4      /data/scratch/r098375/data/HeartBrain/data/U40...   \n...                                                  ...   \n38303  /data/scratch/r098375/data/HeartBrain/data/L21...   \n38304  /data/scratch/r098375/data/HeartBrain/data/L21...   \n38305  /data/scratch/r098375/data/HeartBrain/data/L21...   \n38306  /data/scratch/r098375/data/HeartBrain/data/L21...   \n38307  /data/scratch/r098375/data/HeartBrain/data/L21...   \n\n                                     structuredDicomPath  \\\n0      /data/scratch/r098375/data/HeartBrain/DICOM_ST...   \n1      /data/scratch/r098375/data/HeartBrain/DICOM_ST...   \n2      /data/scratch/r098375/data/HeartBrain/DICOM_ST...   \n3      /data/scratch/r098375/data/HeartBrain/DICOM_ST...   \n4      /data/scratch/r098375/data/HeartBrain/DICOM_ST...   \n...                                                  ...   \n38303  /data/scratch/r098375/data/HeartBrain/DICOM_ST...   \n38304  /data/scratch/r098375/data/HeartBrain/DICOM_ST...   \n38305  /data/scratch/r098375/data/HeartBrain/DICOM_ST...   \n38306  /data/scratch/r098375/data/HeartBrain/DICOM_ST...   \n38307  /data/scratch/r098375/data/HeartBrain/DICOM_ST...   \n\n                                              NIFTI_path sliced  \n0                                                    NaN    NaN  \n1                                                    NaN    NaN  \n2                                                    NaN    NaN  \n3                                                    NaN    NaN  \n4                                                    NaN    NaN  \n...                                                  ...    ...  \n38303                                                NaN    NaN  \n38304  /data/scratch/r098375/data/HeartBrain/NIFTI/94...   True  \n38305  /data/scratch/r098375/data/HeartBrain/NIFTI/94...   True  \n38306                                                NaN    NaN  \n38307                                                NaN    NaN  \n\n[38308 rows x 4 columns]",
      "text/html": "<div>\n<style scoped>\n    .dataframe tbody tr th:only-of-type {\n        vertical-align: middle;\n    }\n\n    .dataframe tbody tr th {\n        vertical-align: top;\n    }\n\n    .dataframe thead th {\n        text-align: right;\n    }\n</style>\n<table border=\"1\" class=\"dataframe\">\n  <thead>\n    <tr style=\"text-align: right;\">\n      <th></th>\n      <th>originPath</th>\n      <th>structuredDicomPath</th>\n      <th>NIFTI_path</th>\n      <th>sliced</th>\n    </tr>\n  </thead>\n  <tbody>\n    <tr>\n      <th>0</th>\n      <td>/data/scratch/r098375/data/HeartBrain/data/U40...</td>\n      <td>/data/scratch/r098375/data/HeartBrain/DICOM_ST...</td>\n      <td>NaN</td>\n      <td>NaN</td>\n    </tr>\n    <tr>\n      <th>1</th>\n      <td>/data/scratch/r098375/data/HeartBrain/data/U40...</td>\n      <td>/data/scratch/r098375/data/HeartBrain/DICOM_ST...</td>\n      <td>NaN</td>\n      <td>NaN</td>\n    </tr>\n    <tr>\n      <th>2</th>\n      <td>/data/scratch/r098375/data/HeartBrain/data/U40...</td>\n      <td>/data/scratch/r098375/data/HeartBrain/DICOM_ST...</td>\n      <td>NaN</td>\n      <td>NaN</td>\n    </tr>\n    <tr>\n      <th>3</th>\n      <td>/data/scratch/r098375/data/HeartBrain/data/U40...</td>\n      <td>/data/scratch/r098375/data/HeartBrain/DICOM_ST...</td>\n      <td>NaN</td>\n      <td>NaN</td>\n    </tr>\n    <tr>\n      <th>4</th>\n      <td>/data/scratch/r098375/data/HeartBrain/data/U40...</td>\n      <td>/data/scratch/r098375/data/HeartBrain/DICOM_ST...</td>\n      <td>NaN</td>\n      <td>NaN</td>\n    </tr>\n    <tr>\n      <th>...</th>\n      <td>...</td>\n      <td>...</td>\n      <td>...</td>\n      <td>...</td>\n    </tr>\n    <tr>\n      <th>38303</th>\n      <td>/data/scratch/r098375/data/HeartBrain/data/L21...</td>\n      <td>/data/scratch/r098375/data/HeartBrain/DICOM_ST...</td>\n      <td>NaN</td>\n      <td>NaN</td>\n    </tr>\n    <tr>\n      <th>38304</th>\n      <td>/data/scratch/r098375/data/HeartBrain/data/L21...</td>\n      <td>/data/scratch/r098375/data/HeartBrain/DICOM_ST...</td>\n      <td>/data/scratch/r098375/data/HeartBrain/NIFTI/94...</td>\n      <td>True</td>\n    </tr>\n    <tr>\n      <th>38305</th>\n      <td>/data/scratch/r098375/data/HeartBrain/data/L21...</td>\n      <td>/data/scratch/r098375/data/HeartBrain/DICOM_ST...</td>\n      <td>/data/scratch/r098375/data/HeartBrain/NIFTI/94...</td>\n      <td>True</td>\n    </tr>\n    <tr>\n      <th>38306</th>\n      <td>/data/scratch/r098375/data/HeartBrain/data/L21...</td>\n      <td>/data/scratch/r098375/data/HeartBrain/DICOM_ST...</td>\n      <td>NaN</td>\n      <td>NaN</td>\n    </tr>\n    <tr>\n      <th>38307</th>\n      <td>/data/scratch/r098375/data/HeartBrain/data/L21...</td>\n      <td>/data/scratch/r098375/data/HeartBrain/DICOM_ST...</td>\n      <td>NaN</td>\n      <td>NaN</td>\n    </tr>\n  </tbody>\n</table>\n<p>38308 rows × 4 columns</p>\n</div>"
     },
     "execution_count": 114,
     "metadata": {},
     "output_type": "execute_result"
    }
   ],
   "source": [
    "FileFrame"
   ],
   "metadata": {
    "collapsed": false,
    "ExecuteTime": {
     "end_time": "2023-11-28T11:29:57.850469357Z",
     "start_time": "2023-11-28T11:29:57.295052845Z"
    }
   },
   "id": "971799488a61faf4"
  },
  {
   "cell_type": "code",
   "execution_count": 115,
   "outputs": [
    {
     "data": {
      "text/plain": "                                              originPath  \\\n1      /data/scratch/r098375/data/HeartBrain/data/U40...   \n2      /data/scratch/r098375/data/HeartBrain/data/U40...   \n3      /data/scratch/r098375/data/HeartBrain/data/U40...   \n4      /data/scratch/r098375/data/HeartBrain/data/U40...   \n5      /data/scratch/r098375/data/HeartBrain/data/U40...   \n...                                                  ...   \n38302  /data/scratch/r098375/data/HeartBrain/data/L21...   \n38303  /data/scratch/r098375/data/HeartBrain/data/L21...   \n38305  /data/scratch/r098375/data/HeartBrain/data/L21...   \n38306  /data/scratch/r098375/data/HeartBrain/data/L21...   \n38307  /data/scratch/r098375/data/HeartBrain/data/L21...   \n\n                                     structuredDicomPath  \\\n1      /data/scratch/r098375/data/HeartBrain/DICOM_ST...   \n2      /data/scratch/r098375/data/HeartBrain/DICOM_ST...   \n3      /data/scratch/r098375/data/HeartBrain/DICOM_ST...   \n4      /data/scratch/r098375/data/HeartBrain/DICOM_ST...   \n5      /data/scratch/r098375/data/HeartBrain/DICOM_ST...   \n...                                                  ...   \n38302  /data/scratch/r098375/data/HeartBrain/DICOM_ST...   \n38303  /data/scratch/r098375/data/HeartBrain/DICOM_ST...   \n38305  /data/scratch/r098375/data/HeartBrain/DICOM_ST...   \n38306  /data/scratch/r098375/data/HeartBrain/DICOM_ST...   \n38307  /data/scratch/r098375/data/HeartBrain/DICOM_ST...   \n\n                                              NIFTI_path sliced  duplicated  \n1                                                    NaN    NaN        True  \n2                                                    NaN    NaN        True  \n3                                                    NaN    NaN        True  \n4                                                    NaN    NaN        True  \n5                                                    NaN    NaN        True  \n...                                                  ...    ...         ...  \n38302                                                NaN    NaN        True  \n38303                                                NaN    NaN        True  \n38305  /data/scratch/r098375/data/HeartBrain/NIFTI/94...   True        True  \n38306                                                NaN    NaN        True  \n38307                                                NaN    NaN        True  \n\n[26390 rows x 5 columns]",
      "text/html": "<div>\n<style scoped>\n    .dataframe tbody tr th:only-of-type {\n        vertical-align: middle;\n    }\n\n    .dataframe tbody tr th {\n        vertical-align: top;\n    }\n\n    .dataframe thead th {\n        text-align: right;\n    }\n</style>\n<table border=\"1\" class=\"dataframe\">\n  <thead>\n    <tr style=\"text-align: right;\">\n      <th></th>\n      <th>originPath</th>\n      <th>structuredDicomPath</th>\n      <th>NIFTI_path</th>\n      <th>sliced</th>\n      <th>duplicated</th>\n    </tr>\n  </thead>\n  <tbody>\n    <tr>\n      <th>1</th>\n      <td>/data/scratch/r098375/data/HeartBrain/data/U40...</td>\n      <td>/data/scratch/r098375/data/HeartBrain/DICOM_ST...</td>\n      <td>NaN</td>\n      <td>NaN</td>\n      <td>True</td>\n    </tr>\n    <tr>\n      <th>2</th>\n      <td>/data/scratch/r098375/data/HeartBrain/data/U40...</td>\n      <td>/data/scratch/r098375/data/HeartBrain/DICOM_ST...</td>\n      <td>NaN</td>\n      <td>NaN</td>\n      <td>True</td>\n    </tr>\n    <tr>\n      <th>3</th>\n      <td>/data/scratch/r098375/data/HeartBrain/data/U40...</td>\n      <td>/data/scratch/r098375/data/HeartBrain/DICOM_ST...</td>\n      <td>NaN</td>\n      <td>NaN</td>\n      <td>True</td>\n    </tr>\n    <tr>\n      <th>4</th>\n      <td>/data/scratch/r098375/data/HeartBrain/data/U40...</td>\n      <td>/data/scratch/r098375/data/HeartBrain/DICOM_ST...</td>\n      <td>NaN</td>\n      <td>NaN</td>\n      <td>True</td>\n    </tr>\n    <tr>\n      <th>5</th>\n      <td>/data/scratch/r098375/data/HeartBrain/data/U40...</td>\n      <td>/data/scratch/r098375/data/HeartBrain/DICOM_ST...</td>\n      <td>NaN</td>\n      <td>NaN</td>\n      <td>True</td>\n    </tr>\n    <tr>\n      <th>...</th>\n      <td>...</td>\n      <td>...</td>\n      <td>...</td>\n      <td>...</td>\n      <td>...</td>\n    </tr>\n    <tr>\n      <th>38302</th>\n      <td>/data/scratch/r098375/data/HeartBrain/data/L21...</td>\n      <td>/data/scratch/r098375/data/HeartBrain/DICOM_ST...</td>\n      <td>NaN</td>\n      <td>NaN</td>\n      <td>True</td>\n    </tr>\n    <tr>\n      <th>38303</th>\n      <td>/data/scratch/r098375/data/HeartBrain/data/L21...</td>\n      <td>/data/scratch/r098375/data/HeartBrain/DICOM_ST...</td>\n      <td>NaN</td>\n      <td>NaN</td>\n      <td>True</td>\n    </tr>\n    <tr>\n      <th>38305</th>\n      <td>/data/scratch/r098375/data/HeartBrain/data/L21...</td>\n      <td>/data/scratch/r098375/data/HeartBrain/DICOM_ST...</td>\n      <td>/data/scratch/r098375/data/HeartBrain/NIFTI/94...</td>\n      <td>True</td>\n      <td>True</td>\n    </tr>\n    <tr>\n      <th>38306</th>\n      <td>/data/scratch/r098375/data/HeartBrain/data/L21...</td>\n      <td>/data/scratch/r098375/data/HeartBrain/DICOM_ST...</td>\n      <td>NaN</td>\n      <td>NaN</td>\n      <td>True</td>\n    </tr>\n    <tr>\n      <th>38307</th>\n      <td>/data/scratch/r098375/data/HeartBrain/data/L21...</td>\n      <td>/data/scratch/r098375/data/HeartBrain/DICOM_ST...</td>\n      <td>NaN</td>\n      <td>NaN</td>\n      <td>True</td>\n    </tr>\n  </tbody>\n</table>\n<p>26390 rows × 5 columns</p>\n</div>"
     },
     "execution_count": 115,
     "metadata": {},
     "output_type": "execute_result"
    }
   ],
   "source": [
    "FileFrame['duplicated'] = FileFrame['NIFTI_path'].duplicated(keep='first')\n",
    "FileFrame[FileFrame['duplicated']]"
   ],
   "metadata": {
    "collapsed": false,
    "ExecuteTime": {
     "end_time": "2023-11-28T11:29:57.850762595Z",
     "start_time": "2023-11-28T11:29:57.298490959Z"
    }
   },
   "id": "5a295dde74a779cb"
  },
  {
   "cell_type": "code",
   "execution_count": 116,
   "outputs": [],
   "source": [
    "FileFrame = FileFrame.drop(FileFrame[FileFrame['duplicated']].index,axis=0)"
   ],
   "metadata": {
    "collapsed": false,
    "ExecuteTime": {
     "end_time": "2023-11-28T11:29:57.850827502Z",
     "start_time": "2023-11-28T11:29:57.318295990Z"
    }
   },
   "id": "bb0ef90369a951fe"
  },
  {
   "cell_type": "code",
   "execution_count": 117,
   "outputs": [],
   "source": [
    "def FindBrainScan(path):\n",
    "    return 'MRI_SCHEDEL' in path or 'MRI_HERSENEN' in path"
   ],
   "metadata": {
    "collapsed": false,
    "ExecuteTime": {
     "end_time": "2023-11-28T11:29:57.850892038Z",
     "start_time": "2023-11-28T11:29:57.372570502Z"
    }
   },
   "id": "fc8e39291397c2c3"
  },
  {
   "cell_type": "code",
   "execution_count": 118,
   "outputs": [],
   "source": [
    "FileFrame['brainscan'] = FileFrame['originPath'].apply(FindBrainScan)"
   ],
   "metadata": {
    "collapsed": false,
    "ExecuteTime": {
     "end_time": "2023-11-28T11:29:57.850942034Z",
     "start_time": "2023-11-28T11:29:57.372706807Z"
    }
   },
   "id": "f86a3d72ec0a16ec"
  },
  {
   "cell_type": "code",
   "execution_count": 119,
   "outputs": [],
   "source": [
    "BrainFrame = FileFrame[FileFrame['brainscan']].copy()"
   ],
   "metadata": {
    "collapsed": false,
    "ExecuteTime": {
     "end_time": "2023-11-28T11:29:57.850991883Z",
     "start_time": "2023-11-28T11:29:57.372762942Z"
    }
   },
   "id": "1a6c032fae4f0c7e"
  },
  {
   "cell_type": "code",
   "execution_count": 120,
   "outputs": [],
   "source": [
    "BrainFrame['name'] = BrainFrame['originPath'].apply(lambda x: str(x).split('/')[9])"
   ],
   "metadata": {
    "collapsed": false,
    "ExecuteTime": {
     "end_time": "2023-11-28T11:29:57.851040427Z",
     "start_time": "2023-11-28T11:29:57.372809655Z"
    }
   },
   "id": "fb5e0cb95f97f176"
  },
  {
   "cell_type": "code",
   "execution_count": 121,
   "outputs": [
    {
     "data": {
      "text/plain": "array(['1401-FLAIR', '1701-SWI', '1601-M0', '1301-QF_min_wfs',\n       '601-QFLOW_AA', '1101-PCA_survey', '1502-perfusion_map',\n       '1501-asl_source', '501-SURVEYpwv', '1001-PCA_survey', '1201-T1',\n       '101-SURVEY', '701-SURVEY_MST', '401-PCA_survey', '101-SURVEY_MST',\n       '602-MPR_hippo_cor', '801-FLAIR', '701-QF_min_wfs',\n       '802-mpr_flair', '601-T1', '1101-SWI', '501-PCA_survey',\n       '902-perfusion_map', '901-asl_source', '1001-M0', '501-T1',\n       '802-perfusion_map', '301-PCA_survey', '901-M0',\n       '1301-2D_QF__5_3_v120_flip60_L_SENSE',\n       '401-s_T1w_3D_TFE_pulsate_SENSE',\n       '1401-2D_QF__5_3_v120_flip60_R_SENSE', '701-VISUAL_shrtStim_SENSE',\n       '1201-tBG_2DPCA_TFE2_SENSE', '1101-sT1w_3DTFE_old_SENSE',\n       '601-VISUAL_SCOUT_SENSE', '901-duyn_halfbrain_11min__NAV_SENSE',\n       '801-duyn_visual_3min_SENSE',\n       '1001-tWM_2DPCAtoneTFE2_SENSE1_5_SENSE', '101-SmartBrain',\n       '701-FLAIR', '801-QF_min_wfs', '702-mpr_flair', '702-asl_source',\n       '801-M0', '601-FLAIR', '501-QF_min_wfs', '901-SWI',\n       '201-PCA_survey', '401-T1', '701-perfusion_map',\n       '603-MPR_hippo_cor', '1301-SWI', '701-PCA_survey', '801-T1',\n       '901-QF_min_wfs', '1001-FLAIR', '1101-asl_source',\n       '802-MPR_hippo_cor', '601-PCA_survey', '1201-M0', '201-SURVEY_MST',\n       '1102-perfusion_map', '301-SURVEY_MST', '1002-mpr_flair',\n       '1201-SWI', '1101-M0', '701-T1', '901-FLAIR', '1001-asl_source',\n       '1002-perfusion_map', '1001-SWI', '1101-QF_min_wfs',\n       '801-asl_source', '601-SURVEY_MST', '1001-QF_min_wfs',\n       '502-Vs_T1W_3D_TFE_SENSE',\n       '702-V3D_Brain_View_FLAIR_SHC_____sag_SENSE',\n       '503-Vs_T1W_3D_TFE_SENSE', '602-asl_source',\n       '1101-duyn_halfbrain_11min_nav_SENSE',\n       '703-cormip_4__2_T1w_3D_TFE_pulsate',\n       '704-tramip_4__2_T1w_3D_TFE_pulsate', '901-VISUAL_shrtStim_SENSE',\n       '1601-2D_QF__5_3_v120_flip60_R_TE3_8_SENSE',\n       '1301-sT1w_3DTFE_fast_SENSE', '702-sagmip_4__2_T1w_3D_TFE_pulsate',\n       '701-s_T1w_3D_TFE_pulsate_SENSE', '1401-tBG_2DPCA_TFE2_SENSE',\n       '1001-duyn_visual_3min_SENSE', '104-cor',\n       '1201-tWM_2DPCAtoneTFE2_SENSE1_5_SENSE', '102-MPR_SmartBrain',\n       '103-tra', '1501-2D_QF__5_3_v120_flip60_L_TE3_8_SENSE',\n       '1701-s3D_bSSFP_PVS_SENSE', '801-VISUAL_SCOUT_SENSE',\n       '1002-sperfusie', '1101-ASL_IR', '602-mpr_cor', '1201-FLAIR',\n       '1202-mpr_flair', '1001-ASL_PLD700_8phs',\n       '1401-duyn_halfbrain_11min_nav_SENSE', '1001-3dT1_0_9mm_SENSE',\n       '1301-duyn_visual_3min_SENSE', '202-MPR_SmartBrain',\n       '201-SmartBrain', '1101-VISUAL_SCOUT_SENSE', '204-cor',\n       '1002-V3dT1_0_9mm_SENSE', '1003-V3dT1_0_9mm_SENSE', '203-tra',\n       '701-MR1-FLAIR', '301-MR3-PCA_survey', '1001-MR2-SWI_extra',\n       '1001-MR3-SWI', '501-MR1-T1', '101-MR1-SURVEY_MST', '901-MR1-M0',\n       '301-MR2-PCA_survey', '801-MR1-asl_source', '403-Vs_T1W_3D_TFE',\n       '402-Vs_T1W_3D_TFE', '602-V3D_Brain_View_FLAIR_SHC_____sag',\n       '802-MR1-perfusion_map', '-1-MR1-unknown', '-1-MR2-unknown',\n       '1102-MR1-perfusion_map', '1301-FLAIR', '1302-mpr_flair',\n       '702-MPR_hippo_cor', '402-mpr_flair', '401-FLAIR',\n       '703-V3D_Brain_View_FLAIR_SHC_____sag_SENSE',\n       '1401-VISUAL_SCOUT_SENSE', '1601-duyn_visual_3min_SENSE',\n       '601-7T_Survey_40s', '1501-VISUAL_shrtStim_SENSE',\n       '1201-2D_QF__5_3_v120_flip60_R_TE3_8_SENSE',\n       '1301-2D_QF__5_3_v120_flip60_L_TE3_8_SENSE',\n       '1101-tBG_2DPCA_TFE2_SENSE', '1001-sT1w_3DTFE_fast_SENSE',\n       '801-duyn_halfbrain_11min_nav_SENSE',\n       '901-tWM_2DPCAtoneTFE2_SENSE1_5_SENSE', '702-mpr_cor',\n       '1301-ASL_IR', '1201-ASL_PLD700_8phs', '902-mpr_flair', '901-T1',\n       '701-SWI', '1101-FLAIR', '1102-mpr_flair', '902-MPR_hippo_cor',\n       '601-VISUAL_SCOUT', '401-s_T1w_3D_TFE_pulsate',\n       '1201-2D_QF__5_3_v120_flip60_R', '901-sT1w_3DTFE_old',\n       '701-VISUAL_shrtStim', '801-tWM_2DPCAtoneTFE2_SENSE1_5',\n       '1101-2D_QF__5_3_v120_flip60_L',\n       '1501-duyn_halfbrain_11min__NAV_SENSE', '1301-7T_Survey_40s',\n       '1001-tBG_2DPCA_TFE2', '603-mpr_hippo', '601-QF_min_wfs',\n       '-1-unknown', '1102-SWI_minip', '1001-VISUAL_shrtStim_SENSE',\n       '1101-duyn_visual_3min_SENSE', '901-VISUAL_SCOUT_SENSE',\n       '1201-duyn_halfbrain_11min_nav_SENSE',\n       '1301-tWM_2DPCAtoneTFE2_SENSE1_5_SENSE',\n       '1401-sT1w_3DTFE_fast_SENSE', '1801-s3D_bSSFP_PVS_SENSE',\n       '1701-2D_QF__5_3_v120_flip60_R_TE3_8_SENSE',\n       '1501-tBG_2DPCA_TFE2_SENSE',\n       '1601-2D_QF__5_3_v120_flip60_L_TE3_8_SENSE',\n       '1101-ASL_PLD700_8phs', '1201-ASL_IR', '1102-sperfusie',\n       '1101-s_bFFE_PVS', '-1-MR3-unknown', '2102-perfusion_map',\n       '1601-PCA_survey', '1201-SURVEY_MST', '2201-M0', '1701-T1',\n       '2101-asl_source', '1801-PCA_survey', '1901-QF_min_wfs',\n       '1501-PCA_survey', '2001-FLAIR', '1101-SWI_extra',\n       '602-sagmip_4__2_T1w_3D_TFE_pulsate',\n       '1401-Hypo_fMRI_2slice_SENSE',\n       '1101-2D_QF__5_3_v120_flip60_L_TE3_8_SENSE',\n       '604-tramip_4__2_T1w_3D_TFE_pulsate', '901-MR1-VISUAL_SCOUT_SENSE',\n       '901-MR2-sT1w_3DTFE_fast_SENSE', '1001-tBG_2DPCA_TFE2_SENSE',\n       '601-s_T1w_3D_TFE_pulsate_SENSE',\n       '603-cormip_4__2_T1w_3D_TFE_pulsate', '501-VISUAL_shrtStim_SENSE',\n       '1301-duyn_halfbrain_11min_nav_SENSE',\n       '801-tWM_2DPCAtoneTFE2_SENSE1_5_SENSE', '701-SURVEY_PCA',\n       '901-TRUST_ASL', '1001-TRUST_ASL', '1201-s_bFFE_PVS',\n       '602-Vs_T1W_3D_TFE', '1801-SWI', '1602-perfusion_map',\n       '1601-asl_source', '1701-FLAIR', '1501-M0',\n       '701-VISUAL_SCOUT_SENSE', '902-MR1-perfusion_map',\n       '1001-duyn_halfbrain_11min_nav_SENSE',\n       '1501-2D_QF__5_3_v120_flip60_R_TE3_8_SENSE',\n       '1101-tWM_2DPCAtoneTFE2_SENSE1_5_SENSE',\n       '1401-2D_QF__5_3_v120_flip60_L_TE3_8_SENSE',\n       '1201-sT1w_3DTFE_fast_SENSE', '1301-tBG_2DPCA_TFE2_SENSE',\n       '801-FLAIR_extra',\n       '1_3_6_1_4_1_40744_2_85028290980643361671073012648321061451-unknown',\n       '1_3_6_1_4_1_40744_2_249998143562143236577299372717048427514-unknown',\n       '1_3_6_1_4_1_40744_2_80050377828539455404178130796736653749-unknown',\n       '1_3_6_1_4_1_40744_2_269887237676671636439405948101580451470-unknown',\n       '603-V3D_Brain_View_FLAIR_SHC_____sag', '802-asl_source',\n       '801-perfusion_map',\n       '1_3_6_1_4_1_40744_2_132671337888253259719576127910528777512-unknown',\n       '1_3_6_1_4_1_40744_2_199187375386085499816656950795077602117-unknown',\n       '404-Vs_T1W_3D_TFE', '1301-s3D_bSSFP_PVS_SENSE',\n       '1202-MPR_hippo_cor', '601-T1_extra', '803-mpr_flair',\n       '2201-QF_min_wfs', '2101-T1', '1901-PCA_survey', '2401-asl_source',\n       '2301-FLAIR', '2601-SWI', '2102-MPR_hippo_cor', '2302-mpr_flair',\n       '2001-PCA_survey', '1601-SURVEY_MST', '2501-M0',\n       '2402-perfusion_map', '802-Vs_T1W_3D_TFE_SENSE',\n       '803-Vs_T1W_3D_TFE_SENSE', '1101-T1', '1102-MPR_hippo_cor',\n       '902-asl_source', '2201-FLAIR', '1501-SURVEY_MST', '2401-M0',\n       '2501-SWI', '2302-perfusion_map', '2001-T1', '2301-asl_source',\n       '2101-QF_min_wfs', '501-B0MAP_1msec_shimmed', '501-FLAIR',\n       '601-perfusion_map', '701-M0', '201-B0MAP_1msec',\n       '601-s_B1MAP_whole_brain_1min___MTX_SENSE', '1002-asl_source',\n       '1001-perfusion_map', '901-perfusion_map', '1101-TRUST_ASL',\n       '601-FLAIR_extra', '801-SWI', '1001-SWI_extra',\n       '701-s_B1MAP_whole_brain_1min___MTX_SENSE', '301-B0MAP_1msec',\n       '601-B0MAP_1msec_shimmed',\n       '501-s_B1MAP_whole_brain_1min___MTX_SENSE',\n       '401-B0MAP_1msec_shimmed', '501-T1_extra'], dtype=object)"
     },
     "execution_count": 121,
     "metadata": {},
     "output_type": "execute_result"
    }
   ],
   "source": [
    "BrainFrame['name'].unique()"
   ],
   "metadata": {
    "collapsed": false,
    "ExecuteTime": {
     "end_time": "2023-11-28T11:29:57.851504080Z",
     "start_time": "2023-11-28T11:29:57.372855676Z"
    }
   },
   "id": "c2c2091e2cdf073d"
  },
  {
   "cell_type": "code",
   "execution_count": 122,
   "outputs": [],
   "source": [
    "BrainFrame['str_name'] = BrainFrame['name'].apply(lambda x:str(x).split('-',2)[1])"
   ],
   "metadata": {
    "collapsed": false,
    "ExecuteTime": {
     "end_time": "2023-11-28T11:29:57.851561108Z",
     "start_time": "2023-11-28T11:29:57.373027067Z"
    }
   },
   "id": "e7cbcef701a4f75b"
  },
  {
   "cell_type": "code",
   "execution_count": 123,
   "outputs": [
    {
     "data": {
      "text/plain": "array(['FLAIR', 'SWI', 'M0', 'QF_min_wfs', 'QFLOW_AA', 'PCA_survey',\n       'perfusion_map', 'asl_source', 'SURVEYpwv', 'T1', 'SURVEY',\n       'SURVEY_MST', 'MPR_hippo_cor', 'mpr_flair',\n       '2D_QF__5_3_v120_flip60_L_SENSE', 's_T1w_3D_TFE_pulsate_SENSE',\n       '2D_QF__5_3_v120_flip60_R_SENSE', 'VISUAL_shrtStim_SENSE',\n       'tBG_2DPCA_TFE2_SENSE', 'sT1w_3DTFE_old_SENSE',\n       'VISUAL_SCOUT_SENSE', 'duyn_halfbrain_11min__NAV_SENSE',\n       'duyn_visual_3min_SENSE', 'tWM_2DPCAtoneTFE2_SENSE1_5_SENSE',\n       'SmartBrain', 'Vs_T1W_3D_TFE_SENSE',\n       'V3D_Brain_View_FLAIR_SHC_____sag_SENSE',\n       'duyn_halfbrain_11min_nav_SENSE', 'cormip_4__2_T1w_3D_TFE_pulsate',\n       'tramip_4__2_T1w_3D_TFE_pulsate',\n       '2D_QF__5_3_v120_flip60_R_TE3_8_SENSE', 'sT1w_3DTFE_fast_SENSE',\n       'sagmip_4__2_T1w_3D_TFE_pulsate', 'cor', 'MPR_SmartBrain', 'tra',\n       '2D_QF__5_3_v120_flip60_L_TE3_8_SENSE', 's3D_bSSFP_PVS_SENSE',\n       'sperfusie', 'ASL_IR', 'mpr_cor', 'ASL_PLD700_8phs',\n       '3dT1_0_9mm_SENSE', 'V3dT1_0_9mm_SENSE', 'MR1', 'MR3', 'MR2',\n       'Vs_T1W_3D_TFE', 'V3D_Brain_View_FLAIR_SHC_____sag', '1',\n       '7T_Survey_40s', 'VISUAL_SCOUT', 's_T1w_3D_TFE_pulsate',\n       '2D_QF__5_3_v120_flip60_R', 'sT1w_3DTFE_old', 'VISUAL_shrtStim',\n       'tWM_2DPCAtoneTFE2_SENSE1_5', '2D_QF__5_3_v120_flip60_L',\n       'tBG_2DPCA_TFE2', 'mpr_hippo', 'SWI_minip', 's_bFFE_PVS',\n       'SWI_extra', 'Hypo_fMRI_2slice_SENSE', 'SURVEY_PCA', 'TRUST_ASL',\n       'FLAIR_extra', 'unknown', 'T1_extra', 'B0MAP_1msec_shimmed',\n       'B0MAP_1msec', 's_B1MAP_whole_brain_1min___MTX_SENSE'],\n      dtype=object)"
     },
     "execution_count": 123,
     "metadata": {},
     "output_type": "execute_result"
    }
   ],
   "source": [
    "BrainFrame['str_name'].unique()"
   ],
   "metadata": {
    "collapsed": false,
    "ExecuteTime": {
     "end_time": "2023-11-28T11:29:57.851742832Z",
     "start_time": "2023-11-28T11:29:57.373077865Z"
    }
   },
   "id": "9c6ddce13a8407b8"
  },
  {
   "cell_type": "code",
   "execution_count": 124,
   "outputs": [],
   "source": [
    "def rename(origName):\n",
    "    on = origName.lower()\n",
    "    if 'cwk' in on or 'lwk' in on or 'twk' in on:\n",
    "        return 'spinal'\n",
    "    if 'phase' in on:\n",
    "        return 'phase'\n",
    "    if 'local' in on:\n",
    "        return 'localizer'\n",
    "    if 'unknown' in on:\n",
    "        return 'unknown'\n",
    "    if 'smartbrain' in on:\n",
    "        return 'smartbrain'\n",
    "    if 'qflow' in on or 'qf' in on:\n",
    "        return 'qflow'\n",
    "    if 'gd' in on:\n",
    "        if 't1' in on or 'fspgr' in on:\n",
    "            return 'T1c'\n",
    "    if 'flair' in on:\n",
    "        return 'FLAIR'\n",
    "    if 'dti' in on:\n",
    "        return 'dti'\n",
    "    if 'dwi' in on:\n",
    "        return 'dwi'\n",
    "    if 'adc' in on:\n",
    "        return 'adc'\n",
    "    if 'pwi' in on or 'perf' in on:\n",
    "        return 'pwi'\n",
    "    if 'pd' in on:\n",
    "        return 'pd'\n",
    "    if 'survey' in on:\n",
    "        return 'survey'\n",
    "    if 'asl' in on:\n",
    "        return 'asl'\n",
    "    if 'swi' in on:\n",
    "        return 'swi'\n",
    "    if 'hippo' in on:\n",
    "        return 'hippo'\n",
    "    if 't1' in on or 'fspgr' in on or 'mpr' in on:\n",
    "        if not 'ot1' in on:\n",
    "            return 'T1w'\n",
    "    if 't2' in on and not 'ot2' in on:\n",
    "        return 'T2w'\n",
    "    return 'other'"
   ],
   "metadata": {
    "collapsed": false,
    "ExecuteTime": {
     "end_time": "2023-11-28T11:29:57.851821037Z",
     "start_time": "2023-11-28T11:29:57.416901512Z"
    }
   },
   "id": "3fbc221508dfdcca"
  },
  {
   "cell_type": "code",
   "execution_count": 125,
   "outputs": [],
   "source": [
    "BrainFrame['renamed'] = BrainFrame['name'].apply(rename)"
   ],
   "metadata": {
    "collapsed": false,
    "ExecuteTime": {
     "end_time": "2023-11-28T11:29:57.851879534Z",
     "start_time": "2023-11-28T11:29:57.416981476Z"
    }
   },
   "id": "e6f507e103d1b10b"
  },
  {
   "cell_type": "code",
   "execution_count": 126,
   "outputs": [
    {
     "data": {
      "text/plain": "array(['FLAIR', 'swi', 'other', 'qflow', 'survey', 'pwi', 'asl', 'T1w',\n       'hippo', 'smartbrain', 'unknown'], dtype=object)"
     },
     "execution_count": 126,
     "metadata": {},
     "output_type": "execute_result"
    }
   ],
   "source": [
    "BrainFrame['renamed'].unique()"
   ],
   "metadata": {
    "collapsed": false,
    "ExecuteTime": {
     "end_time": "2023-11-28T11:29:57.851995412Z",
     "start_time": "2023-11-28T11:29:57.417012588Z"
    }
   },
   "id": "5d39fcf0aba7471f"
  },
  {
   "cell_type": "code",
   "execution_count": 127,
   "outputs": [
    {
     "data": {
      "text/plain": "renamed\nsurvey        1356\nother          660\nFLAIR          635\nT1w            588\nqflow          471\nasl            459\npwi            439\nswi            435\nhippo          153\nsmartbrain      34\nunknown         14\nName: count, dtype: int64"
     },
     "execution_count": 127,
     "metadata": {},
     "output_type": "execute_result"
    }
   ],
   "source": [
    "BrainFrame['renamed'].value_counts()"
   ],
   "metadata": {
    "collapsed": false,
    "ExecuteTime": {
     "end_time": "2023-11-28T11:29:57.852121472Z",
     "start_time": "2023-11-28T11:29:57.417048206Z"
    }
   },
   "id": "5422836bc0b43d75"
  },
  {
   "cell_type": "code",
   "execution_count": 128,
   "outputs": [],
   "source": [
    "def CreateIndivudalToUnifiedNameDocument(df, outfile):\n",
    "    with open(outfile, 'w') as f:\n",
    "        names = df['renamed'].unique()\n",
    "        for name in names:\n",
    "            nameMatching = df[df['renamed']==name]['name'].unique()\n",
    "            nameMatching = pd.Series(nameMatching).to_string()\n",
    "            f.write(f'{name}:\\n{nameMatching}\\n\\n{\"-\"*25}\\n')"
   ],
   "metadata": {
    "collapsed": false,
    "ExecuteTime": {
     "end_time": "2023-11-28T11:29:57.852176858Z",
     "start_time": "2023-11-28T11:29:57.417083792Z"
    }
   },
   "id": "65cd7262b89f2c43"
  },
  {
   "cell_type": "code",
   "execution_count": 129,
   "outputs": [],
   "source": [
    "outfile = 'NameMatching.txt'\n",
    "CreateIndivudalToUnifiedNameDocument(BrainFrame, outfile)"
   ],
   "metadata": {
    "collapsed": false,
    "ExecuteTime": {
     "end_time": "2023-11-28T11:29:57.852231420Z",
     "start_time": "2023-11-28T11:29:57.417137427Z"
    }
   },
   "id": "df9ae0e31bd73e44"
  },
  {
   "cell_type": "code",
   "execution_count": 129,
   "outputs": [],
   "source": [],
   "metadata": {
    "collapsed": false,
    "ExecuteTime": {
     "end_time": "2023-11-28T11:29:57.852864464Z",
     "start_time": "2023-11-28T11:29:57.422128029Z"
    }
   },
   "id": "10da9f3ac20b7ff8"
  },
  {
   "cell_type": "code",
   "execution_count": 130,
   "outputs": [],
   "source": [
    "labeldict = {\"T1\":0,\"T1_c\":1,\"T2\":2,\"T2-FLAIR\":3,\"PD\":4,\n",
    "             \"SWI\":5, \"GRE\":6, \"T2*\":7, \"DWI\":8, \"ADC\":9, \"BOLD\":10,\n",
    "             \"FlowSensitve\":11,\"PWI\":12,\"ASL\":13,\n",
    "             \"DTI\":14,\"Other\":15}\n",
    "def assignLabel(dataframe):\n",
    "    description = dataframe['description']\n",
    "    try:\n",
    "        weight = dataframe['weighting']\n",
    "    except:\n",
    "        weight = None\n",
    "    dropLabels = ['moco','mpr','hippo','spinal','unknown']\n",
    "    otherCategories = ['fieldmap','scout','calibration','phase','localizer','nan','NotMri','pet','CT','e2','moco','other','survey', 'qflow','smartbrain'] #moco is a motion corrected series\n",
    "    if description in dropLabels:\n",
    "        return -1\n",
    "    if description in otherCategories:\n",
    "        return 15\n",
    "    if description =='T1w':\n",
    "        return 0\n",
    "    if description =='T1c':\n",
    "        return 1\n",
    "    if weight:\n",
    "        if description =='T2w':\n",
    "            if weight=='T2':\n",
    "                return 2\n",
    "            if weight=='PD':\n",
    "                return 4\n",
    "    if description == 'T2w':\n",
    "        return 2\n",
    "    if 'FLAIR' in description:\n",
    "        return 3\n",
    "    if description =='pd':\n",
    "        return 4\n",
    "    if description =='swi' or description=='minip':\n",
    "        return 5\n",
    "    if description.lower() =='gre':\n",
    "        return 6\n",
    "    if description =='T2star':\n",
    "        return 7\n",
    "    if description =='dwi':\n",
    "        return 8\n",
    "    if description =='adc':\n",
    "        return 9\n",
    "    if description =='bold':\n",
    "        return 10\n",
    "    if description =='angio': #flowsensitive\n",
    "        return 11\n",
    "    if description =='pwi' or description=='cbf':\n",
    "        return 12\n",
    "    if 'asl' in description:\n",
    "        return 13\n",
    "    if description == 'dti':\n",
    "        return 14\n",
    "    return -1"
   ],
   "metadata": {
    "collapsed": false,
    "ExecuteTime": {
     "end_time": "2023-11-28T11:29:57.852932215Z",
     "start_time": "2023-11-28T11:29:57.464593502Z"
    }
   },
   "id": "f3d01600eed07c87"
  },
  {
   "cell_type": "code",
   "execution_count": 131,
   "outputs": [],
   "source": [
    "BrainFrame['description'] = BrainFrame['renamed']"
   ],
   "metadata": {
    "collapsed": false,
    "ExecuteTime": {
     "end_time": "2023-11-28T11:29:57.852986094Z",
     "start_time": "2023-11-28T11:29:57.464668682Z"
    }
   },
   "id": "562f267b477572ba"
  },
  {
   "cell_type": "code",
   "execution_count": 132,
   "outputs": [],
   "source": [
    "BrainFrame['numLabel'] = BrainFrame.apply(assignLabel,axis=1)"
   ],
   "metadata": {
    "collapsed": false,
    "ExecuteTime": {
     "end_time": "2023-11-28T11:29:57.864308868Z",
     "start_time": "2023-11-28T11:29:57.464701550Z"
    }
   },
   "id": "38781f4ef7cb63d1"
  },
  {
   "cell_type": "code",
   "execution_count": 133,
   "outputs": [
    {
     "data": {
      "text/plain": "numLabel\n 15    2521\n 3      635\n 0      588\n 13     459\n 12     439\n 5      435\n-1      167\nName: count, dtype: int64"
     },
     "execution_count": 133,
     "metadata": {},
     "output_type": "execute_result"
    }
   ],
   "source": [
    "BrainFrame['numLabel'].value_counts()"
   ],
   "metadata": {
    "collapsed": false,
    "ExecuteTime": {
     "end_time": "2023-11-28T11:29:57.864746984Z",
     "start_time": "2023-11-28T11:29:57.526779203Z"
    }
   },
   "id": "d70da7d8aa502a20"
  },
  {
   "cell_type": "code",
   "execution_count": 134,
   "outputs": [],
   "source": [
    "BrainFrame = BrainFrame[BrainFrame['numLabel']!=-1]"
   ],
   "metadata": {
    "collapsed": false,
    "ExecuteTime": {
     "end_time": "2023-11-28T11:29:57.864816051Z",
     "start_time": "2023-11-28T11:29:57.532748358Z"
    }
   },
   "id": "414cd0ea818be7e"
  },
  {
   "cell_type": "code",
   "execution_count": 135,
   "outputs": [],
   "source": [
    "LabelFrame = pd.read_csv('Labels.txt',names=['ID','label','extra'],sep='\\t', dtype={'ID':str,'label':int,'extra':int})"
   ],
   "metadata": {
    "collapsed": false,
    "ExecuteTime": {
     "end_time": "2023-11-28T11:29:58.088174200Z",
     "start_time": "2023-11-28T11:29:57.576603059Z"
    }
   },
   "id": "42538d3910e0be7"
  },
  {
   "cell_type": "code",
   "execution_count": 136,
   "outputs": [],
   "source": [
    "def extractNiftiName(name):\n",
    "    name = name.rsplit('__',1)[0]\n",
    "    name = name.replace('NIFTI_SLICES','NIFTI')\n",
    "    name = f'{name}.nii.gz'\n",
    "    return name"
   ],
   "metadata": {
    "collapsed": false,
    "ExecuteTime": {
     "end_time": "2023-11-28T11:29:58.088586458Z",
     "start_time": "2023-11-28T11:29:58.048085402Z"
    }
   },
   "id": "3bf243148fb7be9d"
  },
  {
   "cell_type": "code",
   "execution_count": 137,
   "outputs": [],
   "source": [
    "LabelFrame['nifti_name'] = LabelFrame['ID'].apply(extractNiftiName)"
   ],
   "metadata": {
    "collapsed": false,
    "ExecuteTime": {
     "end_time": "2023-11-28T11:29:58.218226399Z",
     "start_time": "2023-11-28T11:29:58.051388958Z"
    }
   },
   "id": "d42dfddcdbd13fbd"
  },
  {
   "cell_type": "code",
   "execution_count": 138,
   "outputs": [
    {
     "data": {
      "text/plain": "242200"
     },
     "execution_count": 138,
     "metadata": {},
     "output_type": "execute_result"
    }
   ],
   "source": [
    "len(LabelFrame)"
   ],
   "metadata": {
    "collapsed": false,
    "ExecuteTime": {
     "end_time": "2023-11-28T11:29:58.234968592Z",
     "start_time": "2023-11-28T11:29:58.216182505Z"
    }
   },
   "id": "348893e8e3299d49"
  },
  {
   "cell_type": "code",
   "execution_count": 139,
   "outputs": [
    {
     "data": {
      "text/plain": "                                                  ID  label  extra  \\\n0  /data/scratch/r098375/data/HeartBrain/NIFTI_SL...      0      0   \n1  /data/scratch/r098375/data/HeartBrain/NIFTI_SL...      0      0   \n2  /data/scratch/r098375/data/HeartBrain/NIFTI_SL...      0      0   \n3  /data/scratch/r098375/data/HeartBrain/NIFTI_SL...      0      0   \n4  /data/scratch/r098375/data/HeartBrain/NIFTI_SL...      0      0   \n\n                                          nifti_name  \n0  /data/scratch/r098375/data/HeartBrain/NIFTI/A1...  \n1  /data/scratch/r098375/data/HeartBrain/NIFTI/A1...  \n2  /data/scratch/r098375/data/HeartBrain/NIFTI/A1...  \n3  /data/scratch/r098375/data/HeartBrain/NIFTI/A1...  \n4  /data/scratch/r098375/data/HeartBrain/NIFTI/A1...  ",
      "text/html": "<div>\n<style scoped>\n    .dataframe tbody tr th:only-of-type {\n        vertical-align: middle;\n    }\n\n    .dataframe tbody tr th {\n        vertical-align: top;\n    }\n\n    .dataframe thead th {\n        text-align: right;\n    }\n</style>\n<table border=\"1\" class=\"dataframe\">\n  <thead>\n    <tr style=\"text-align: right;\">\n      <th></th>\n      <th>ID</th>\n      <th>label</th>\n      <th>extra</th>\n      <th>nifti_name</th>\n    </tr>\n  </thead>\n  <tbody>\n    <tr>\n      <th>0</th>\n      <td>/data/scratch/r098375/data/HeartBrain/NIFTI_SL...</td>\n      <td>0</td>\n      <td>0</td>\n      <td>/data/scratch/r098375/data/HeartBrain/NIFTI/A1...</td>\n    </tr>\n    <tr>\n      <th>1</th>\n      <td>/data/scratch/r098375/data/HeartBrain/NIFTI_SL...</td>\n      <td>0</td>\n      <td>0</td>\n      <td>/data/scratch/r098375/data/HeartBrain/NIFTI/A1...</td>\n    </tr>\n    <tr>\n      <th>2</th>\n      <td>/data/scratch/r098375/data/HeartBrain/NIFTI_SL...</td>\n      <td>0</td>\n      <td>0</td>\n      <td>/data/scratch/r098375/data/HeartBrain/NIFTI/A1...</td>\n    </tr>\n    <tr>\n      <th>3</th>\n      <td>/data/scratch/r098375/data/HeartBrain/NIFTI_SL...</td>\n      <td>0</td>\n      <td>0</td>\n      <td>/data/scratch/r098375/data/HeartBrain/NIFTI/A1...</td>\n    </tr>\n    <tr>\n      <th>4</th>\n      <td>/data/scratch/r098375/data/HeartBrain/NIFTI_SL...</td>\n      <td>0</td>\n      <td>0</td>\n      <td>/data/scratch/r098375/data/HeartBrain/NIFTI/A1...</td>\n    </tr>\n  </tbody>\n</table>\n</div>"
     },
     "execution_count": 139,
     "metadata": {},
     "output_type": "execute_result"
    }
   ],
   "source": [
    "LabelFrame.head()"
   ],
   "metadata": {
    "collapsed": false,
    "ExecuteTime": {
     "end_time": "2023-11-28T11:29:58.301045077Z",
     "start_time": "2023-11-28T11:29:58.225602092Z"
    }
   },
   "id": "6b10715d69a1f2c5"
  },
  {
   "cell_type": "code",
   "execution_count": 140,
   "outputs": [
    {
     "data": {
      "text/plain": "                                           originPath  \\\n28  /data/scratch/r098375/data/HeartBrain/data/A10...   \n29  /data/scratch/r098375/data/HeartBrain/data/A10...   \n30  /data/scratch/r098375/data/HeartBrain/data/A10...   \n31  /data/scratch/r098375/data/HeartBrain/data/A10...   \n32  /data/scratch/r098375/data/HeartBrain/data/A10...   \n\n                                  structuredDicomPath  \\\n28  /data/scratch/r098375/data/HeartBrain/DICOM_ST...   \n29  /data/scratch/r098375/data/HeartBrain/DICOM_ST...   \n30  /data/scratch/r098375/data/HeartBrain/DICOM_ST...   \n31  /data/scratch/r098375/data/HeartBrain/DICOM_ST...   \n32  /data/scratch/r098375/data/HeartBrain/DICOM_ST...   \n\n                                           NIFTI_path sliced  duplicated  \\\n28  /data/scratch/r098375/data/HeartBrain/NIFTI/A1...   True       False   \n29  /data/scratch/r098375/data/HeartBrain/NIFTI/A1...   True       False   \n30  /data/scratch/r098375/data/HeartBrain/NIFTI/A1...   True       False   \n31  /data/scratch/r098375/data/HeartBrain/NIFTI/A1...   True       False   \n32  /data/scratch/r098375/data/HeartBrain/NIFTI/A1...   True       False   \n\n    brainscan             name    str_name renamed description  numLabel  \n28       True       1401-FLAIR       FLAIR   FLAIR       FLAIR         3  \n29       True         1701-SWI         SWI     swi         swi         5  \n30       True          1601-M0          M0   other       other        15  \n31       True  1301-QF_min_wfs  QF_min_wfs   qflow       qflow        15  \n32       True     601-QFLOW_AA    QFLOW_AA   qflow       qflow        15  ",
      "text/html": "<div>\n<style scoped>\n    .dataframe tbody tr th:only-of-type {\n        vertical-align: middle;\n    }\n\n    .dataframe tbody tr th {\n        vertical-align: top;\n    }\n\n    .dataframe thead th {\n        text-align: right;\n    }\n</style>\n<table border=\"1\" class=\"dataframe\">\n  <thead>\n    <tr style=\"text-align: right;\">\n      <th></th>\n      <th>originPath</th>\n      <th>structuredDicomPath</th>\n      <th>NIFTI_path</th>\n      <th>sliced</th>\n      <th>duplicated</th>\n      <th>brainscan</th>\n      <th>name</th>\n      <th>str_name</th>\n      <th>renamed</th>\n      <th>description</th>\n      <th>numLabel</th>\n    </tr>\n  </thead>\n  <tbody>\n    <tr>\n      <th>28</th>\n      <td>/data/scratch/r098375/data/HeartBrain/data/A10...</td>\n      <td>/data/scratch/r098375/data/HeartBrain/DICOM_ST...</td>\n      <td>/data/scratch/r098375/data/HeartBrain/NIFTI/A1...</td>\n      <td>True</td>\n      <td>False</td>\n      <td>True</td>\n      <td>1401-FLAIR</td>\n      <td>FLAIR</td>\n      <td>FLAIR</td>\n      <td>FLAIR</td>\n      <td>3</td>\n    </tr>\n    <tr>\n      <th>29</th>\n      <td>/data/scratch/r098375/data/HeartBrain/data/A10...</td>\n      <td>/data/scratch/r098375/data/HeartBrain/DICOM_ST...</td>\n      <td>/data/scratch/r098375/data/HeartBrain/NIFTI/A1...</td>\n      <td>True</td>\n      <td>False</td>\n      <td>True</td>\n      <td>1701-SWI</td>\n      <td>SWI</td>\n      <td>swi</td>\n      <td>swi</td>\n      <td>5</td>\n    </tr>\n    <tr>\n      <th>30</th>\n      <td>/data/scratch/r098375/data/HeartBrain/data/A10...</td>\n      <td>/data/scratch/r098375/data/HeartBrain/DICOM_ST...</td>\n      <td>/data/scratch/r098375/data/HeartBrain/NIFTI/A1...</td>\n      <td>True</td>\n      <td>False</td>\n      <td>True</td>\n      <td>1601-M0</td>\n      <td>M0</td>\n      <td>other</td>\n      <td>other</td>\n      <td>15</td>\n    </tr>\n    <tr>\n      <th>31</th>\n      <td>/data/scratch/r098375/data/HeartBrain/data/A10...</td>\n      <td>/data/scratch/r098375/data/HeartBrain/DICOM_ST...</td>\n      <td>/data/scratch/r098375/data/HeartBrain/NIFTI/A1...</td>\n      <td>True</td>\n      <td>False</td>\n      <td>True</td>\n      <td>1301-QF_min_wfs</td>\n      <td>QF_min_wfs</td>\n      <td>qflow</td>\n      <td>qflow</td>\n      <td>15</td>\n    </tr>\n    <tr>\n      <th>32</th>\n      <td>/data/scratch/r098375/data/HeartBrain/data/A10...</td>\n      <td>/data/scratch/r098375/data/HeartBrain/DICOM_ST...</td>\n      <td>/data/scratch/r098375/data/HeartBrain/NIFTI/A1...</td>\n      <td>True</td>\n      <td>False</td>\n      <td>True</td>\n      <td>601-QFLOW_AA</td>\n      <td>QFLOW_AA</td>\n      <td>qflow</td>\n      <td>qflow</td>\n      <td>15</td>\n    </tr>\n  </tbody>\n</table>\n</div>"
     },
     "execution_count": 140,
     "metadata": {},
     "output_type": "execute_result"
    }
   ],
   "source": [
    "BrainFrame.head()"
   ],
   "metadata": {
    "collapsed": false,
    "ExecuteTime": {
     "end_time": "2023-11-28T11:29:58.319335526Z",
     "start_time": "2023-11-28T11:29:58.272573040Z"
    }
   },
   "id": "d0f9bd8eb9b39bde"
  },
  {
   "cell_type": "code",
   "execution_count": 160,
   "outputs": [],
   "source": [
    "temp = LabelFrame.merge(BrainFrame, how='inner', left_on='nifti_name', right_on=\"NIFTI_path\", validate=\"many_to_one\")"
   ],
   "metadata": {
    "collapsed": false,
    "ExecuteTime": {
     "end_time": "2023-11-28T11:31:29.951944185Z",
     "start_time": "2023-11-28T11:31:29.775665079Z"
    }
   },
   "id": "2b665acdd0682024"
  },
  {
   "cell_type": "code",
   "execution_count": 142,
   "outputs": [
    {
     "data": {
      "text/plain": "                                                       ID  label  extra  \\\n0       /data/scratch/r098375/data/HeartBrain/NIFTI_SL...      0      0   \n1       /data/scratch/r098375/data/HeartBrain/NIFTI_SL...      0      0   \n2       /data/scratch/r098375/data/HeartBrain/NIFTI_SL...      0      0   \n3       /data/scratch/r098375/data/HeartBrain/NIFTI_SL...      0      0   \n4       /data/scratch/r098375/data/HeartBrain/NIFTI_SL...      0      0   \n...                                                   ...    ...    ...   \n100320  /data/scratch/r098375/data/HeartBrain/NIFTI_SL...      0      0   \n100321  /data/scratch/r098375/data/HeartBrain/NIFTI_SL...      0      0   \n100322  /data/scratch/r098375/data/HeartBrain/NIFTI_SL...      0      0   \n100323  /data/scratch/r098375/data/HeartBrain/NIFTI_SL...      0      0   \n100324  /data/scratch/r098375/data/HeartBrain/NIFTI_SL...      0      0   \n\n                                               nifti_name  \\\n0       /data/scratch/r098375/data/HeartBrain/NIFTI/A1...   \n1       /data/scratch/r098375/data/HeartBrain/NIFTI/A1...   \n2       /data/scratch/r098375/data/HeartBrain/NIFTI/A1...   \n3       /data/scratch/r098375/data/HeartBrain/NIFTI/A1...   \n4       /data/scratch/r098375/data/HeartBrain/NIFTI/A1...   \n...                                                   ...   \n100320  /data/scratch/r098375/data/HeartBrain/NIFTI/A1...   \n100321  /data/scratch/r098375/data/HeartBrain/NIFTI/A1...   \n100322  /data/scratch/r098375/data/HeartBrain/NIFTI/A1...   \n100323  /data/scratch/r098375/data/HeartBrain/NIFTI/A1...   \n100324  /data/scratch/r098375/data/HeartBrain/NIFTI/A1...   \n\n                                               originPath  \\\n0       /data/scratch/r098375/data/HeartBrain/data/A10...   \n1       /data/scratch/r098375/data/HeartBrain/data/A10...   \n2       /data/scratch/r098375/data/HeartBrain/data/A10...   \n3       /data/scratch/r098375/data/HeartBrain/data/A10...   \n4       /data/scratch/r098375/data/HeartBrain/data/A10...   \n...                                                   ...   \n100320  /data/scratch/r098375/data/HeartBrain/data/A11...   \n100321  /data/scratch/r098375/data/HeartBrain/data/A11...   \n100322  /data/scratch/r098375/data/HeartBrain/data/A11...   \n100323  /data/scratch/r098375/data/HeartBrain/data/A11...   \n100324  /data/scratch/r098375/data/HeartBrain/data/A11...   \n\n                                      structuredDicomPath  \\\n0       /data/scratch/r098375/data/HeartBrain/DICOM_ST...   \n1       /data/scratch/r098375/data/HeartBrain/DICOM_ST...   \n2       /data/scratch/r098375/data/HeartBrain/DICOM_ST...   \n3       /data/scratch/r098375/data/HeartBrain/DICOM_ST...   \n4       /data/scratch/r098375/data/HeartBrain/DICOM_ST...   \n...                                                   ...   \n100320  /data/scratch/r098375/data/HeartBrain/DICOM_ST...   \n100321  /data/scratch/r098375/data/HeartBrain/DICOM_ST...   \n100322  /data/scratch/r098375/data/HeartBrain/DICOM_ST...   \n100323  /data/scratch/r098375/data/HeartBrain/DICOM_ST...   \n100324  /data/scratch/r098375/data/HeartBrain/DICOM_ST...   \n\n                                               NIFTI_path sliced  duplicated  \\\n0       /data/scratch/r098375/data/HeartBrain/NIFTI/A1...   True       False   \n1       /data/scratch/r098375/data/HeartBrain/NIFTI/A1...   True       False   \n2       /data/scratch/r098375/data/HeartBrain/NIFTI/A1...   True       False   \n3       /data/scratch/r098375/data/HeartBrain/NIFTI/A1...   True       False   \n4       /data/scratch/r098375/data/HeartBrain/NIFTI/A1...   True       False   \n...                                                   ...    ...         ...   \n100320  /data/scratch/r098375/data/HeartBrain/NIFTI/A1...   True       False   \n100321  /data/scratch/r098375/data/HeartBrain/NIFTI/A1...   True       False   \n100322  /data/scratch/r098375/data/HeartBrain/NIFTI/A1...   True       False   \n100323  /data/scratch/r098375/data/HeartBrain/NIFTI/A1...   True       False   \n100324  /data/scratch/r098375/data/HeartBrain/NIFTI/A1...   True       False   \n\n        brainscan            name    str_name renamed description  numLabel  \n0            True  401-PCA_survey  PCA_survey  survey      survey        15  \n1            True  401-PCA_survey  PCA_survey  survey      survey        15  \n2            True  401-PCA_survey  PCA_survey  survey      survey        15  \n3            True  401-PCA_survey  PCA_survey  survey      survey        15  \n4            True  401-PCA_survey  PCA_survey  survey      survey        15  \n...           ...             ...         ...     ...         ...       ...  \n100320       True         1001-M0          M0   other       other        15  \n100321       True         1001-M0          M0   other       other        15  \n100322       True         1001-M0          M0   other       other        15  \n100323       True         1001-M0          M0   other       other        15  \n100324       True         1001-M0          M0   other       other        15  \n\n[100325 rows x 15 columns]",
      "text/html": "<div>\n<style scoped>\n    .dataframe tbody tr th:only-of-type {\n        vertical-align: middle;\n    }\n\n    .dataframe tbody tr th {\n        vertical-align: top;\n    }\n\n    .dataframe thead th {\n        text-align: right;\n    }\n</style>\n<table border=\"1\" class=\"dataframe\">\n  <thead>\n    <tr style=\"text-align: right;\">\n      <th></th>\n      <th>ID</th>\n      <th>label</th>\n      <th>extra</th>\n      <th>nifti_name</th>\n      <th>originPath</th>\n      <th>structuredDicomPath</th>\n      <th>NIFTI_path</th>\n      <th>sliced</th>\n      <th>duplicated</th>\n      <th>brainscan</th>\n      <th>name</th>\n      <th>str_name</th>\n      <th>renamed</th>\n      <th>description</th>\n      <th>numLabel</th>\n    </tr>\n  </thead>\n  <tbody>\n    <tr>\n      <th>0</th>\n      <td>/data/scratch/r098375/data/HeartBrain/NIFTI_SL...</td>\n      <td>0</td>\n      <td>0</td>\n      <td>/data/scratch/r098375/data/HeartBrain/NIFTI/A1...</td>\n      <td>/data/scratch/r098375/data/HeartBrain/data/A10...</td>\n      <td>/data/scratch/r098375/data/HeartBrain/DICOM_ST...</td>\n      <td>/data/scratch/r098375/data/HeartBrain/NIFTI/A1...</td>\n      <td>True</td>\n      <td>False</td>\n      <td>True</td>\n      <td>401-PCA_survey</td>\n      <td>PCA_survey</td>\n      <td>survey</td>\n      <td>survey</td>\n      <td>15</td>\n    </tr>\n    <tr>\n      <th>1</th>\n      <td>/data/scratch/r098375/data/HeartBrain/NIFTI_SL...</td>\n      <td>0</td>\n      <td>0</td>\n      <td>/data/scratch/r098375/data/HeartBrain/NIFTI/A1...</td>\n      <td>/data/scratch/r098375/data/HeartBrain/data/A10...</td>\n      <td>/data/scratch/r098375/data/HeartBrain/DICOM_ST...</td>\n      <td>/data/scratch/r098375/data/HeartBrain/NIFTI/A1...</td>\n      <td>True</td>\n      <td>False</td>\n      <td>True</td>\n      <td>401-PCA_survey</td>\n      <td>PCA_survey</td>\n      <td>survey</td>\n      <td>survey</td>\n      <td>15</td>\n    </tr>\n    <tr>\n      <th>2</th>\n      <td>/data/scratch/r098375/data/HeartBrain/NIFTI_SL...</td>\n      <td>0</td>\n      <td>0</td>\n      <td>/data/scratch/r098375/data/HeartBrain/NIFTI/A1...</td>\n      <td>/data/scratch/r098375/data/HeartBrain/data/A10...</td>\n      <td>/data/scratch/r098375/data/HeartBrain/DICOM_ST...</td>\n      <td>/data/scratch/r098375/data/HeartBrain/NIFTI/A1...</td>\n      <td>True</td>\n      <td>False</td>\n      <td>True</td>\n      <td>401-PCA_survey</td>\n      <td>PCA_survey</td>\n      <td>survey</td>\n      <td>survey</td>\n      <td>15</td>\n    </tr>\n    <tr>\n      <th>3</th>\n      <td>/data/scratch/r098375/data/HeartBrain/NIFTI_SL...</td>\n      <td>0</td>\n      <td>0</td>\n      <td>/data/scratch/r098375/data/HeartBrain/NIFTI/A1...</td>\n      <td>/data/scratch/r098375/data/HeartBrain/data/A10...</td>\n      <td>/data/scratch/r098375/data/HeartBrain/DICOM_ST...</td>\n      <td>/data/scratch/r098375/data/HeartBrain/NIFTI/A1...</td>\n      <td>True</td>\n      <td>False</td>\n      <td>True</td>\n      <td>401-PCA_survey</td>\n      <td>PCA_survey</td>\n      <td>survey</td>\n      <td>survey</td>\n      <td>15</td>\n    </tr>\n    <tr>\n      <th>4</th>\n      <td>/data/scratch/r098375/data/HeartBrain/NIFTI_SL...</td>\n      <td>0</td>\n      <td>0</td>\n      <td>/data/scratch/r098375/data/HeartBrain/NIFTI/A1...</td>\n      <td>/data/scratch/r098375/data/HeartBrain/data/A10...</td>\n      <td>/data/scratch/r098375/data/HeartBrain/DICOM_ST...</td>\n      <td>/data/scratch/r098375/data/HeartBrain/NIFTI/A1...</td>\n      <td>True</td>\n      <td>False</td>\n      <td>True</td>\n      <td>401-PCA_survey</td>\n      <td>PCA_survey</td>\n      <td>survey</td>\n      <td>survey</td>\n      <td>15</td>\n    </tr>\n    <tr>\n      <th>...</th>\n      <td>...</td>\n      <td>...</td>\n      <td>...</td>\n      <td>...</td>\n      <td>...</td>\n      <td>...</td>\n      <td>...</td>\n      <td>...</td>\n      <td>...</td>\n      <td>...</td>\n      <td>...</td>\n      <td>...</td>\n      <td>...</td>\n      <td>...</td>\n      <td>...</td>\n    </tr>\n    <tr>\n      <th>100320</th>\n      <td>/data/scratch/r098375/data/HeartBrain/NIFTI_SL...</td>\n      <td>0</td>\n      <td>0</td>\n      <td>/data/scratch/r098375/data/HeartBrain/NIFTI/A1...</td>\n      <td>/data/scratch/r098375/data/HeartBrain/data/A11...</td>\n      <td>/data/scratch/r098375/data/HeartBrain/DICOM_ST...</td>\n      <td>/data/scratch/r098375/data/HeartBrain/NIFTI/A1...</td>\n      <td>True</td>\n      <td>False</td>\n      <td>True</td>\n      <td>1001-M0</td>\n      <td>M0</td>\n      <td>other</td>\n      <td>other</td>\n      <td>15</td>\n    </tr>\n    <tr>\n      <th>100321</th>\n      <td>/data/scratch/r098375/data/HeartBrain/NIFTI_SL...</td>\n      <td>0</td>\n      <td>0</td>\n      <td>/data/scratch/r098375/data/HeartBrain/NIFTI/A1...</td>\n      <td>/data/scratch/r098375/data/HeartBrain/data/A11...</td>\n      <td>/data/scratch/r098375/data/HeartBrain/DICOM_ST...</td>\n      <td>/data/scratch/r098375/data/HeartBrain/NIFTI/A1...</td>\n      <td>True</td>\n      <td>False</td>\n      <td>True</td>\n      <td>1001-M0</td>\n      <td>M0</td>\n      <td>other</td>\n      <td>other</td>\n      <td>15</td>\n    </tr>\n    <tr>\n      <th>100322</th>\n      <td>/data/scratch/r098375/data/HeartBrain/NIFTI_SL...</td>\n      <td>0</td>\n      <td>0</td>\n      <td>/data/scratch/r098375/data/HeartBrain/NIFTI/A1...</td>\n      <td>/data/scratch/r098375/data/HeartBrain/data/A11...</td>\n      <td>/data/scratch/r098375/data/HeartBrain/DICOM_ST...</td>\n      <td>/data/scratch/r098375/data/HeartBrain/NIFTI/A1...</td>\n      <td>True</td>\n      <td>False</td>\n      <td>True</td>\n      <td>1001-M0</td>\n      <td>M0</td>\n      <td>other</td>\n      <td>other</td>\n      <td>15</td>\n    </tr>\n    <tr>\n      <th>100323</th>\n      <td>/data/scratch/r098375/data/HeartBrain/NIFTI_SL...</td>\n      <td>0</td>\n      <td>0</td>\n      <td>/data/scratch/r098375/data/HeartBrain/NIFTI/A1...</td>\n      <td>/data/scratch/r098375/data/HeartBrain/data/A11...</td>\n      <td>/data/scratch/r098375/data/HeartBrain/DICOM_ST...</td>\n      <td>/data/scratch/r098375/data/HeartBrain/NIFTI/A1...</td>\n      <td>True</td>\n      <td>False</td>\n      <td>True</td>\n      <td>1001-M0</td>\n      <td>M0</td>\n      <td>other</td>\n      <td>other</td>\n      <td>15</td>\n    </tr>\n    <tr>\n      <th>100324</th>\n      <td>/data/scratch/r098375/data/HeartBrain/NIFTI_SL...</td>\n      <td>0</td>\n      <td>0</td>\n      <td>/data/scratch/r098375/data/HeartBrain/NIFTI/A1...</td>\n      <td>/data/scratch/r098375/data/HeartBrain/data/A11...</td>\n      <td>/data/scratch/r098375/data/HeartBrain/DICOM_ST...</td>\n      <td>/data/scratch/r098375/data/HeartBrain/NIFTI/A1...</td>\n      <td>True</td>\n      <td>False</td>\n      <td>True</td>\n      <td>1001-M0</td>\n      <td>M0</td>\n      <td>other</td>\n      <td>other</td>\n      <td>15</td>\n    </tr>\n  </tbody>\n</table>\n<p>100325 rows × 15 columns</p>\n</div>"
     },
     "execution_count": 142,
     "metadata": {},
     "output_type": "execute_result"
    }
   ],
   "source": [
    "temp"
   ],
   "metadata": {
    "collapsed": false,
    "ExecuteTime": {
     "end_time": "2023-11-28T11:29:58.439017312Z",
     "start_time": "2023-11-28T11:29:58.377046870Z"
    }
   },
   "id": "38a577996af00365"
  },
  {
   "cell_type": "code",
   "execution_count": 143,
   "outputs": [
    {
     "data": {
      "text/plain": "description\nsurvey        18050\nother         15600\nqflow         11775\nasl           11475\nFLAIR         11475\npwi           10975\nswi           10875\nT1w            9750\nsmartbrain      350\nName: count, dtype: int64"
     },
     "execution_count": 143,
     "metadata": {},
     "output_type": "execute_result"
    }
   ],
   "source": [
    "temp['description'].value_counts()"
   ],
   "metadata": {
    "collapsed": false,
    "ExecuteTime": {
     "end_time": "2023-11-28T11:29:58.439235471Z",
     "start_time": "2023-11-28T11:29:58.424724529Z"
    }
   },
   "id": "ac9af9ddf28eeeb2"
  },
  {
   "cell_type": "code",
   "execution_count": 144,
   "outputs": [],
   "source": [
    "temp['label'] = temp['numLabel']"
   ],
   "metadata": {
    "collapsed": false,
    "ExecuteTime": {
     "end_time": "2023-11-28T11:29:58.439299976Z",
     "start_time": "2023-11-28T11:29:58.424851454Z"
    }
   },
   "id": "e0ca734a7c0e8318"
  },
  {
   "cell_type": "code",
   "execution_count": 145,
   "outputs": [],
   "source": [
    "FinalLabelFrame = temp[['ID','label','extra']].copy()"
   ],
   "metadata": {
    "collapsed": false,
    "ExecuteTime": {
     "end_time": "2023-11-28T11:29:58.439354539Z",
     "start_time": "2023-11-28T11:29:58.424883751Z"
    }
   },
   "id": "132a9a62f355dd64"
  },
  {
   "cell_type": "code",
   "execution_count": 146,
   "outputs": [
    {
     "data": {
      "text/plain": "                                                       ID  label  extra\n0       /data/scratch/r098375/data/HeartBrain/NIFTI_SL...     15      0\n1       /data/scratch/r098375/data/HeartBrain/NIFTI_SL...     15      0\n2       /data/scratch/r098375/data/HeartBrain/NIFTI_SL...     15      0\n3       /data/scratch/r098375/data/HeartBrain/NIFTI_SL...     15      0\n4       /data/scratch/r098375/data/HeartBrain/NIFTI_SL...     15      0\n...                                                   ...    ...    ...\n100320  /data/scratch/r098375/data/HeartBrain/NIFTI_SL...     15      0\n100321  /data/scratch/r098375/data/HeartBrain/NIFTI_SL...     15      0\n100322  /data/scratch/r098375/data/HeartBrain/NIFTI_SL...     15      0\n100323  /data/scratch/r098375/data/HeartBrain/NIFTI_SL...     15      0\n100324  /data/scratch/r098375/data/HeartBrain/NIFTI_SL...     15      0\n\n[100325 rows x 3 columns]",
      "text/html": "<div>\n<style scoped>\n    .dataframe tbody tr th:only-of-type {\n        vertical-align: middle;\n    }\n\n    .dataframe tbody tr th {\n        vertical-align: top;\n    }\n\n    .dataframe thead th {\n        text-align: right;\n    }\n</style>\n<table border=\"1\" class=\"dataframe\">\n  <thead>\n    <tr style=\"text-align: right;\">\n      <th></th>\n      <th>ID</th>\n      <th>label</th>\n      <th>extra</th>\n    </tr>\n  </thead>\n  <tbody>\n    <tr>\n      <th>0</th>\n      <td>/data/scratch/r098375/data/HeartBrain/NIFTI_SL...</td>\n      <td>15</td>\n      <td>0</td>\n    </tr>\n    <tr>\n      <th>1</th>\n      <td>/data/scratch/r098375/data/HeartBrain/NIFTI_SL...</td>\n      <td>15</td>\n      <td>0</td>\n    </tr>\n    <tr>\n      <th>2</th>\n      <td>/data/scratch/r098375/data/HeartBrain/NIFTI_SL...</td>\n      <td>15</td>\n      <td>0</td>\n    </tr>\n    <tr>\n      <th>3</th>\n      <td>/data/scratch/r098375/data/HeartBrain/NIFTI_SL...</td>\n      <td>15</td>\n      <td>0</td>\n    </tr>\n    <tr>\n      <th>4</th>\n      <td>/data/scratch/r098375/data/HeartBrain/NIFTI_SL...</td>\n      <td>15</td>\n      <td>0</td>\n    </tr>\n    <tr>\n      <th>...</th>\n      <td>...</td>\n      <td>...</td>\n      <td>...</td>\n    </tr>\n    <tr>\n      <th>100320</th>\n      <td>/data/scratch/r098375/data/HeartBrain/NIFTI_SL...</td>\n      <td>15</td>\n      <td>0</td>\n    </tr>\n    <tr>\n      <th>100321</th>\n      <td>/data/scratch/r098375/data/HeartBrain/NIFTI_SL...</td>\n      <td>15</td>\n      <td>0</td>\n    </tr>\n    <tr>\n      <th>100322</th>\n      <td>/data/scratch/r098375/data/HeartBrain/NIFTI_SL...</td>\n      <td>15</td>\n      <td>0</td>\n    </tr>\n    <tr>\n      <th>100323</th>\n      <td>/data/scratch/r098375/data/HeartBrain/NIFTI_SL...</td>\n      <td>15</td>\n      <td>0</td>\n    </tr>\n    <tr>\n      <th>100324</th>\n      <td>/data/scratch/r098375/data/HeartBrain/NIFTI_SL...</td>\n      <td>15</td>\n      <td>0</td>\n    </tr>\n  </tbody>\n</table>\n<p>100325 rows × 3 columns</p>\n</div>"
     },
     "execution_count": 146,
     "metadata": {},
     "output_type": "execute_result"
    }
   ],
   "source": [
    "FinalLabelFrame"
   ],
   "metadata": {
    "collapsed": false,
    "ExecuteTime": {
     "end_time": "2023-11-28T11:29:58.439591021Z",
     "start_time": "2023-11-28T11:29:58.424913334Z"
    }
   },
   "id": "7a566a6f3c8b3e6d"
  },
  {
   "cell_type": "code",
   "execution_count": 147,
   "outputs": [],
   "source": [
    "def extractSubject(ID):\n",
    "    return ID.split('/')[8]"
   ],
   "metadata": {
    "collapsed": false,
    "ExecuteTime": {
     "end_time": "2023-11-28T11:29:58.439655564Z",
     "start_time": "2023-11-28T11:29:58.424955880Z"
    }
   },
   "id": "2cf11498cb54f862"
  },
  {
   "cell_type": "code",
   "execution_count": 148,
   "outputs": [],
   "source": [
    "FinalLabelFrame['subject'] = FinalLabelFrame['ID'].apply(extractSubject)"
   ],
   "metadata": {
    "collapsed": false,
    "ExecuteTime": {
     "end_time": "2023-11-28T11:29:58.504571763Z",
     "start_time": "2023-11-28T11:29:58.424993759Z"
    }
   },
   "id": "cc366684ba2b3f9f"
  },
  {
   "cell_type": "code",
   "execution_count": 149,
   "outputs": [
    {
     "data": {
      "text/plain": "array(['20181019', '20160115', '20190618', '20170724', '20170425',\n       '20150123', '20180413', '20160222', '20170124', '20190211',\n       '20160425', '20170609', '20191111', '20150501', '20170116',\n       '20160603', '20180914', '20160901', '20181001', '20190913',\n       '20170703', '20160916', '20190308', '20161209', '20180629',\n       '20160415', '20170317', '20180508', '20160621', '20180807',\n       '20141009', '20161223', '20170714', '20150601', '20150508',\n       '20170407', '20150116', '20180625', '20160520', '20150731',\n       '20150929', '20170203', '20141205', '20141002', '20161007',\n       '20181207', '20161021', '20190221', '20160701', '20190108',\n       '20170110', '20180928', '20160708', '20170303', '20161010',\n       '20141120', '20161202', '20141128', '20150109', '20170630',\n       '20150619', '20170321', '20150312', '20151120', '20180206',\n       '20160219', '20141031', '20181008', '20160830', '20181204',\n       '20160419', '20180618', '20170421', '20190222', '20160905',\n       '20181113', '20141216', '20180406', '20160304', '20181210',\n       '20160909', '20181012', '20160805', '20181015', '20160510',\n       '20141008', '20161025', '20160226', '20160408', '20180622',\n       '20151106', '20161122', '20180911', '20180727', '20160624',\n       '20190524', '20170213', '20170731', '20181130', '20181218',\n       '20190228', '20150904', '20160210', '20180306', '20190729',\n       '20170725', '20180219', '20160129', '20180430', '20160212',\n       '20181123', '20181002', '20160610', '20180205', '20160215',\n       '20170711', '20161003', '20140922', '20160607', '20180918',\n       '20181102', '20160923', '20190118', '20161028', '20190514',\n       '20161107', '20180703', '20190507', '20170117', '20190412',\n       '20161216', '20170331', '20160521', '20180619', '20160902',\n       '20181005', '20170131', '20190430', '20160401', '20170926',\n       '20150106', '20170612', '20150504', '20180827', '20190712',\n       '20170214', '20190423', '20150424', '20170227', '20170602',\n       '20170908', '20150710', '20180403', '20151013', '20170418',\n       '20150306', '20190115', '20190226', '20161206', '20170801',\n       '20160311', '20161118', '20170113', '20170403', '20150320',\n       '20160729', '20190129', '20161220', '20190301', '20170206',\n       '20160418', '20170912', '20141114', '20150220', '20180115',\n       '20151116', '20150313', '20170313', '20161213', '20190212',\n       '20151009', '20190510', '20170210', '20161129', '20190215',\n       '20161104', '20190802', '20170419', '20170505', '20160801',\n       '20180803', '20171020', '20141010', '20160229', '20171110',\n       '20150703', '20170208', '20161018', '20150105', '20140904',\n       '20160829', '20180706', '20180216', '20160822', '20190121',\n       '20180921', '20180907', '20160617', '20170710', '20151228',\n       '20181214', '20161014', '20190219', '20170818', '20150814',\n       '20160815', '20161128', '20141030', '20150323', '20160812',\n       '20180917', '20170811', '20160118', '20170728', '20161125',\n       '20190125', '20190521', '20180821', '20151223', '20140919',\n       '20170831', '20180528', '20160429', '20180504', '20160930',\n       '20140918', '20180518', '20150410', '20190426', '20151030',\n       '20171002', '20171208', '20151113', '20170616', '20150529',\n       '20170103', '20190326', '20170501', '20160709', '20180925',\n       '20150113', '20160906', '20170120', '20181024', '20180831',\n       '20160722', '20150921', '20180705', '20180608', '20160422',\n       '20141219', '20160527', '20180615', '20141106', '20150115',\n       '20170626', '20181016', '20151127', '20171117', '20160920',\n       '20190517', '20190208', '20160809', '20180731', '20160523',\n       '20150120', '20160526', '20180817', '20190111', '20160426',\n       '20180514', '20151130', '20171218', '20181221', '20151218',\n       '20150727', '20160705', '20170825', '20160825', '20181120',\n       '20170411', '20170207', '20191018', '20180119', '20160108',\n       '20181023', '20160913', '20160926', '20181029', '20151102',\n       '20141107', '20141210', '20160927', '20170106', '20190322',\n       '20170424', '20161017', '20141023', '20161024', '20160826',\n       '20180301', '20150330', '20170123', '20150128', '20161205',\n       '20170929', '20170901', '20150807', '20180220', '20160205',\n       '20150518', '20160318', '20140925', '20160912', '20190415',\n       '20160804', '20190813', '20170530', '20150519', '20170704',\n       '20161011', '20191126', '20180312', '20180212', '20160201',\n       '20160919', '20190116', '20160630', '20161101', '20181106',\n       '20171127', '20151005', '20191025', '20190816', '20170224',\n       '20150213', '20170217', '20160816', '20181122', '20181009',\n       '20150522', '20190405', '20151215', '20190628', '20160819'],\n      dtype=object)"
     },
     "execution_count": 149,
     "metadata": {},
     "output_type": "execute_result"
    }
   ],
   "source": [
    "FinalLabelFrame['subject'].unique()"
   ],
   "metadata": {
    "collapsed": false,
    "ExecuteTime": {
     "end_time": "2023-11-28T11:29:58.505105114Z",
     "start_time": "2023-11-28T11:29:58.472535065Z"
    }
   },
   "id": "e0271dc7fd6e41f1"
  },
  {
   "cell_type": "code",
   "execution_count": 150,
   "outputs": [],
   "source": [
    "subjects = FinalLabelFrame['subject'].unique()"
   ],
   "metadata": {
    "collapsed": false,
    "ExecuteTime": {
     "end_time": "2023-11-28T11:29:58.505385349Z",
     "start_time": "2023-11-28T11:29:58.481470936Z"
    }
   },
   "id": "893f262b974e707e"
  },
  {
   "cell_type": "code",
   "execution_count": 151,
   "outputs": [],
   "source": [
    "from sklearn.model_selection import train_test_split"
   ],
   "metadata": {
    "collapsed": false,
    "ExecuteTime": {
     "end_time": "2023-11-28T11:29:58.595961949Z",
     "start_time": "2023-11-28T11:29:58.490387534Z"
    }
   },
   "id": "a4a594f7e30f2cb"
  },
  {
   "cell_type": "code",
   "execution_count": 152,
   "outputs": [],
   "source": [
    "train, test = train_test_split(subjects, test_size=0.1, shuffle=True, random_state=42)"
   ],
   "metadata": {
    "collapsed": false,
    "ExecuteTime": {
     "end_time": "2023-11-28T11:29:58.596130859Z",
     "start_time": "2023-11-28T11:29:58.532564197Z"
    }
   },
   "id": "75bf233efa366829"
  },
  {
   "cell_type": "code",
   "execution_count": 153,
   "outputs": [],
   "source": [
    "def inList(subject, list):\n",
    "    return subject in list"
   ],
   "metadata": {
    "collapsed": false,
    "ExecuteTime": {
     "end_time": "2023-11-28T11:29:58.596222250Z",
     "start_time": "2023-11-28T11:29:58.532682037Z"
    }
   },
   "id": "20fb88838e894110"
  },
  {
   "cell_type": "code",
   "execution_count": 154,
   "outputs": [],
   "source": [
    "FinalLabelFrame['trainsplit'] = FinalLabelFrame['subject'].apply(inList, list=train)"
   ],
   "metadata": {
    "collapsed": false,
    "ExecuteTime": {
     "end_time": "2023-11-28T11:29:59.792501171Z",
     "start_time": "2023-11-28T11:29:58.532751268Z"
    }
   },
   "id": "c5e6b7e29ad02e40"
  },
  {
   "cell_type": "code",
   "execution_count": 155,
   "outputs": [],
   "source": [
    "trainLabelFrame = FinalLabelFrame[FinalLabelFrame['trainsplit']][['ID','label','extra']]"
   ],
   "metadata": {
    "collapsed": false,
    "ExecuteTime": {
     "end_time": "2023-11-28T11:29:59.809195183Z",
     "start_time": "2023-11-28T11:29:59.793738403Z"
    }
   },
   "id": "2ba56be1f0400830"
  },
  {
   "cell_type": "code",
   "execution_count": 156,
   "outputs": [],
   "source": [
    "testLabelFrame = FinalLabelFrame[FinalLabelFrame['trainsplit']==False][['ID','label','extra']]"
   ],
   "metadata": {
    "collapsed": false,
    "ExecuteTime": {
     "end_time": "2023-11-28T11:29:59.819436128Z",
     "start_time": "2023-11-28T11:29:59.807935618Z"
    }
   },
   "id": "6f4bb6c6b777eaf0"
  },
  {
   "cell_type": "code",
   "execution_count": 157,
   "outputs": [
    {
     "data": {
      "text/plain": "label\n15    40750\n3     10075\n13    10050\n12     9650\n5      9525\n0      8325\nName: count, dtype: int64"
     },
     "execution_count": 157,
     "metadata": {},
     "output_type": "execute_result"
    }
   ],
   "source": [
    "trainLabelFrame['label'].value_counts()"
   ],
   "metadata": {
    "collapsed": false,
    "ExecuteTime": {
     "end_time": "2023-11-28T11:29:59.825016378Z",
     "start_time": "2023-11-28T11:29:59.816745433Z"
    }
   },
   "id": "b4f522991414fc13"
  },
  {
   "cell_type": "code",
   "execution_count": 158,
   "outputs": [
    {
     "data": {
      "text/plain": "label\n15    40750\n3     10075\n13    10050\n12     9650\n5      9525\n0      8325\nName: count, dtype: int64"
     },
     "execution_count": 158,
     "metadata": {},
     "output_type": "execute_result"
    }
   ],
   "source": [
    "trainLabelFrame['label'].value_counts()"
   ],
   "metadata": {
    "collapsed": false,
    "ExecuteTime": {
     "end_time": "2023-11-28T11:29:59.836714846Z",
     "start_time": "2023-11-28T11:29:59.821966889Z"
    }
   },
   "id": "c369b66406a3ae8c"
  },
  {
   "cell_type": "code",
   "execution_count": 159,
   "outputs": [],
   "source": [
    "FinalLabelFrame.to_csv('HeartBrain_Labels_extensive3.txt',sep='\\t', index=False, header=False)\n",
    "testLabelFrame.to_csv('HeartBrain_testLabels_extensive3.txt',sep='\\t', index=False, header=False)\n",
    "trainLabelFrame.to_csv('HeartBrain_trainLabels_extensive3.txt',sep='\\t', index=False, header=False)"
   ],
   "metadata": {
    "collapsed": false,
    "ExecuteTime": {
     "end_time": "2023-11-28T11:30:00.611780764Z",
     "start_time": "2023-11-28T11:29:59.827424181Z"
    }
   },
   "id": "de76e89292ca30a1"
  },
  {
   "cell_type": "code",
   "execution_count": 159,
   "outputs": [],
   "source": [],
   "metadata": {
    "collapsed": false,
    "ExecuteTime": {
     "end_time": "2023-11-28T11:30:00.614559606Z",
     "start_time": "2023-11-28T11:30:00.610003141Z"
    }
   },
   "id": "33a77e272f606f62"
  }
 ],
 "metadata": {
  "kernelspec": {
   "display_name": "Python 3",
   "language": "python",
   "name": "python3"
  },
  "language_info": {
   "codemirror_mode": {
    "name": "ipython",
    "version": 2
   },
   "file_extension": ".py",
   "mimetype": "text/x-python",
   "name": "python",
   "nbconvert_exporter": "python",
   "pygments_lexer": "ipython2",
   "version": "2.7.6"
  }
 },
 "nbformat": 4,
 "nbformat_minor": 5
}
