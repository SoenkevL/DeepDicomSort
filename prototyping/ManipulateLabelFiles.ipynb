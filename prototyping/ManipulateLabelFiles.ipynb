{
 "cells": [
  {
   "cell_type": "code",
   "execution_count": 102,
   "id": "initial_id",
   "metadata": {
    "collapsed": true,
    "ExecuteTime": {
     "end_time": "2023-10-09T07:30:53.111115622Z",
     "start_time": "2023-10-09T07:30:53.033499533Z"
    }
   },
   "outputs": [],
   "source": [
    "import pandas as pd\n",
    "import os"
   ]
  },
  {
   "cell_type": "code",
   "execution_count": 103,
   "outputs": [],
   "source": [
    "importFile = 'CombinedTestingFrame_A2_A3_O3.txt'\n",
    "outName = 'CombinedTestingFrame_A2_A3_O3_short.txt'\n",
    "df_import = pd.read_csv(importFile,names=['ID','label','extra'],sep='\\t')"
   ],
   "metadata": {
    "collapsed": false,
    "ExecuteTime": {
     "end_time": "2023-10-09T07:30:53.192415499Z",
     "start_time": "2023-10-09T07:30:53.080246933Z"
    }
   },
   "id": "ad3c756f2f9a0130"
  },
  {
   "cell_type": "code",
   "execution_count": 104,
   "outputs": [
    {
     "data": {
      "text/plain": "label\n14    36750\n8     12950\n0     10925\n11     7850\n3      7525\n2      7075\n9      5200\n6      3875\n7      2000\n13     1700\n12     1575\n5       700\nName: count, dtype: int64"
     },
     "execution_count": 104,
     "metadata": {},
     "output_type": "execute_result"
    }
   ],
   "source": [
    "df_import['label'].value_counts()"
   ],
   "metadata": {
    "collapsed": false,
    "ExecuteTime": {
     "end_time": "2023-10-09T07:30:53.204913454Z",
     "start_time": "2023-10-09T07:30:53.195085151Z"
    }
   },
   "id": "a9051527742a8593"
  },
  {
   "cell_type": "code",
   "execution_count": 105,
   "outputs": [],
   "source": [
    "def extractNiftiFilepathAndSlicenum(df):\n",
    "    ID = df['ID']\n",
    "    split = ID.rsplit('__s',1)\n",
    "    NiftiPath = split[0]\n",
    "    NiftiPath = NiftiPath.replace('NIFTI_SLICES','NIFTI')+'.nii.gz'\n",
    "    slicenum = int(split[1].split('.nii.gz')[0])\n",
    "    return pd.Series({'NiftiPath':NiftiPath, 'slicenum':slicenum})"
   ],
   "metadata": {
    "collapsed": false,
    "ExecuteTime": {
     "end_time": "2023-10-09T07:30:53.229141465Z",
     "start_time": "2023-10-09T07:30:53.201286892Z"
    }
   },
   "id": "79905c248d453c75"
  },
  {
   "cell_type": "code",
   "execution_count": 106,
   "outputs": [],
   "source": [
    "df_NS = df_import.apply(extractNiftiFilepathAndSlicenum,axis=1, result_type='expand')"
   ],
   "metadata": {
    "collapsed": false,
    "ExecuteTime": {
     "end_time": "2023-10-09T07:31:09.676908591Z",
     "start_time": "2023-10-09T07:30:53.225560245Z"
    }
   },
   "id": "34eaa4e596400aa6"
  },
  {
   "cell_type": "code",
   "execution_count": 107,
   "outputs": [],
   "source": [
    "df = df_import.merge(df_NS,left_index=True,right_index=True,how='inner')"
   ],
   "metadata": {
    "collapsed": false,
    "ExecuteTime": {
     "end_time": "2023-10-09T07:31:09.724574084Z",
     "start_time": "2023-10-09T07:31:09.724281738Z"
    }
   },
   "id": "23711007c3f5245b"
  },
  {
   "cell_type": "code",
   "execution_count": 108,
   "outputs": [
    {
     "data": {
      "text/plain": "label\n14    36750\n8     12950\n0     10925\n11     7850\n3      7525\n2      7075\n9      5200\n6      3875\n7      2000\n13     1700\n12     1575\n5       700\nName: count, dtype: int64"
     },
     "execution_count": 108,
     "metadata": {},
     "output_type": "execute_result"
    }
   ],
   "source": [
    "vc = df['label'].value_counts()\n",
    "vc"
   ],
   "metadata": {
    "collapsed": false,
    "ExecuteTime": {
     "end_time": "2023-10-09T07:31:09.724941006Z",
     "start_time": "2023-10-09T07:31:09.724441705Z"
    }
   },
   "id": "2a67fa5efa41690a"
  },
  {
   "cell_type": "code",
   "execution_count": 109,
   "outputs": [
    {
     "data": {
      "text/plain": "700"
     },
     "execution_count": 109,
     "metadata": {},
     "output_type": "execute_result"
    }
   ],
   "source": [
    "min = vc.iloc[-1]\n",
    "min"
   ],
   "metadata": {
    "collapsed": false,
    "ExecuteTime": {
     "end_time": "2023-10-09T07:31:09.725104289Z",
     "start_time": "2023-10-09T07:31:09.724530290Z"
    }
   },
   "id": "501f861c0ee96a11"
  },
  {
   "cell_type": "code",
   "execution_count": 110,
   "outputs": [],
   "source": [
    "from sklearn.model_selection import  train_test_split"
   ],
   "metadata": {
    "collapsed": false,
    "ExecuteTime": {
     "end_time": "2023-10-09T07:31:09.725633588Z",
     "start_time": "2023-10-09T07:31:09.724687256Z"
    }
   },
   "id": "232a63aee21b07ec"
  },
  {
   "cell_type": "code",
   "execution_count": 111,
   "outputs": [
    {
     "name": "stdout",
     "output_type": "stream",
     "text": [
      "301\n",
      "1470\n",
      "518\n",
      "68\n",
      "437\n",
      "155\n",
      "28\n",
      "283\n",
      "314\n",
      "208\n",
      "80\n",
      "63\n"
     ]
    }
   ],
   "source": [
    "FinalFrame = pd.DataFrame(columns=['ID','label','extra'])\n",
    "for l in df['label'].unique():\n",
    "    temp = df[df['label']==l].groupby('NiftiPath')\n",
    "    print(len(temp))\n",
    "    try:\n",
    "        keep, discard = train_test_split(list(range(len(temp))), train_size=int(min/25))\n",
    "    except:\n",
    "        keep = list(range(int(min/25)))\n",
    "    for i,frame in enumerate(temp):\n",
    "        if i in keep:\n",
    "           FinalFrame =  pd.concat((FinalFrame,frame[1]),axis=0)"
   ],
   "metadata": {
    "collapsed": false,
    "ExecuteTime": {
     "end_time": "2023-10-09T07:31:09.964910926Z",
     "start_time": "2023-10-09T07:31:09.724779326Z"
    }
   },
   "id": "125c6e8595c7b248"
  },
  {
   "cell_type": "code",
   "execution_count": 112,
   "outputs": [
    {
     "data": {
      "text/plain": "label\n3     700\n14    700\n8     700\n13    700\n0     700\n6     700\n5     700\n2     700\n11    700\n9     700\n7     700\n12    700\nName: count, dtype: int64"
     },
     "execution_count": 112,
     "metadata": {},
     "output_type": "execute_result"
    }
   ],
   "source": [
    "FinalFrame['label'].value_counts()"
   ],
   "metadata": {
    "collapsed": false,
    "ExecuteTime": {
     "end_time": "2023-10-09T07:31:09.972939427Z",
     "start_time": "2023-10-09T07:31:09.967898107Z"
    }
   },
   "id": "2bedf6461b3569c9"
  },
  {
   "cell_type": "code",
   "execution_count": 113,
   "outputs": [],
   "source": [
    "FinalFrame = FinalFrame.reset_index(drop=True)"
   ],
   "metadata": {
    "collapsed": false,
    "ExecuteTime": {
     "end_time": "2023-10-09T07:31:09.982871068Z",
     "start_time": "2023-10-09T07:31:09.971377337Z"
    }
   },
   "id": "e71fc0c6749358dd"
  },
  {
   "cell_type": "code",
   "execution_count": 114,
   "outputs": [],
   "source": [
    "FinalFrame[['ID','label','extra']].to_csv(outName,header=False,index=False,sep='\\t')"
   ],
   "metadata": {
    "collapsed": false,
    "ExecuteTime": {
     "end_time": "2023-10-09T07:31:10.036391692Z",
     "start_time": "2023-10-09T07:31:09.986280100Z"
    }
   },
   "id": "24a81abb54fdfd9c"
  },
  {
   "cell_type": "code",
   "execution_count": 115,
   "outputs": [
    {
     "data": {
      "text/plain": "                                                     ID label extra  \\\n0     /trinity/home/r098375/DDS/data/ADNI/ADNI3/test...     3     0   \n1     /trinity/home/r098375/DDS/data/ADNI/ADNI3/test...     3     0   \n2     /trinity/home/r098375/DDS/data/ADNI/ADNI3/test...     3     0   \n3     /trinity/home/r098375/DDS/data/ADNI/ADNI3/test...     3     0   \n4     /trinity/home/r098375/DDS/data/ADNI/ADNI3/test...     3     0   \n...                                                 ...   ...   ...   \n8395  data/OASIS/OASIS3/test/NIFTI_SLICES/sub-OAS314...    12     0   \n8396  data/OASIS/OASIS3/test/NIFTI_SLICES/sub-OAS314...    12     0   \n8397  data/OASIS/OASIS3/test/NIFTI_SLICES/sub-OAS314...    12     0   \n8398  data/OASIS/OASIS3/test/NIFTI_SLICES/sub-OAS314...    12     0   \n8399  data/OASIS/OASIS3/test/NIFTI_SLICES/sub-OAS314...    12     0   \n\n                                              NiftiPath  slicenum  \n0     /trinity/home/r098375/DDS/data/ADNI/ADNI3/test...       4.0  \n1     /trinity/home/r098375/DDS/data/ADNI/ADNI3/test...      24.0  \n2     /trinity/home/r098375/DDS/data/ADNI/ADNI3/test...       2.0  \n3     /trinity/home/r098375/DDS/data/ADNI/ADNI3/test...       8.0  \n4     /trinity/home/r098375/DDS/data/ADNI/ADNI3/test...      22.0  \n...                                                 ...       ...  \n8395  data/OASIS/OASIS3/test/NIFTI/sub-OAS31460_sess...       8.0  \n8396  data/OASIS/OASIS3/test/NIFTI/sub-OAS31460_sess...      22.0  \n8397  data/OASIS/OASIS3/test/NIFTI/sub-OAS31460_sess...      23.0  \n8398  data/OASIS/OASIS3/test/NIFTI/sub-OAS31460_sess...       4.0  \n8399  data/OASIS/OASIS3/test/NIFTI/sub-OAS31460_sess...      16.0  \n\n[8400 rows x 5 columns]",
      "text/html": "<div>\n<style scoped>\n    .dataframe tbody tr th:only-of-type {\n        vertical-align: middle;\n    }\n\n    .dataframe tbody tr th {\n        vertical-align: top;\n    }\n\n    .dataframe thead th {\n        text-align: right;\n    }\n</style>\n<table border=\"1\" class=\"dataframe\">\n  <thead>\n    <tr style=\"text-align: right;\">\n      <th></th>\n      <th>ID</th>\n      <th>label</th>\n      <th>extra</th>\n      <th>NiftiPath</th>\n      <th>slicenum</th>\n    </tr>\n  </thead>\n  <tbody>\n    <tr>\n      <th>0</th>\n      <td>/trinity/home/r098375/DDS/data/ADNI/ADNI3/test...</td>\n      <td>3</td>\n      <td>0</td>\n      <td>/trinity/home/r098375/DDS/data/ADNI/ADNI3/test...</td>\n      <td>4.0</td>\n    </tr>\n    <tr>\n      <th>1</th>\n      <td>/trinity/home/r098375/DDS/data/ADNI/ADNI3/test...</td>\n      <td>3</td>\n      <td>0</td>\n      <td>/trinity/home/r098375/DDS/data/ADNI/ADNI3/test...</td>\n      <td>24.0</td>\n    </tr>\n    <tr>\n      <th>2</th>\n      <td>/trinity/home/r098375/DDS/data/ADNI/ADNI3/test...</td>\n      <td>3</td>\n      <td>0</td>\n      <td>/trinity/home/r098375/DDS/data/ADNI/ADNI3/test...</td>\n      <td>2.0</td>\n    </tr>\n    <tr>\n      <th>3</th>\n      <td>/trinity/home/r098375/DDS/data/ADNI/ADNI3/test...</td>\n      <td>3</td>\n      <td>0</td>\n      <td>/trinity/home/r098375/DDS/data/ADNI/ADNI3/test...</td>\n      <td>8.0</td>\n    </tr>\n    <tr>\n      <th>4</th>\n      <td>/trinity/home/r098375/DDS/data/ADNI/ADNI3/test...</td>\n      <td>3</td>\n      <td>0</td>\n      <td>/trinity/home/r098375/DDS/data/ADNI/ADNI3/test...</td>\n      <td>22.0</td>\n    </tr>\n    <tr>\n      <th>...</th>\n      <td>...</td>\n      <td>...</td>\n      <td>...</td>\n      <td>...</td>\n      <td>...</td>\n    </tr>\n    <tr>\n      <th>8395</th>\n      <td>data/OASIS/OASIS3/test/NIFTI_SLICES/sub-OAS314...</td>\n      <td>12</td>\n      <td>0</td>\n      <td>data/OASIS/OASIS3/test/NIFTI/sub-OAS31460_sess...</td>\n      <td>8.0</td>\n    </tr>\n    <tr>\n      <th>8396</th>\n      <td>data/OASIS/OASIS3/test/NIFTI_SLICES/sub-OAS314...</td>\n      <td>12</td>\n      <td>0</td>\n      <td>data/OASIS/OASIS3/test/NIFTI/sub-OAS31460_sess...</td>\n      <td>22.0</td>\n    </tr>\n    <tr>\n      <th>8397</th>\n      <td>data/OASIS/OASIS3/test/NIFTI_SLICES/sub-OAS314...</td>\n      <td>12</td>\n      <td>0</td>\n      <td>data/OASIS/OASIS3/test/NIFTI/sub-OAS31460_sess...</td>\n      <td>23.0</td>\n    </tr>\n    <tr>\n      <th>8398</th>\n      <td>data/OASIS/OASIS3/test/NIFTI_SLICES/sub-OAS314...</td>\n      <td>12</td>\n      <td>0</td>\n      <td>data/OASIS/OASIS3/test/NIFTI/sub-OAS31460_sess...</td>\n      <td>4.0</td>\n    </tr>\n    <tr>\n      <th>8399</th>\n      <td>data/OASIS/OASIS3/test/NIFTI_SLICES/sub-OAS314...</td>\n      <td>12</td>\n      <td>0</td>\n      <td>data/OASIS/OASIS3/test/NIFTI/sub-OAS31460_sess...</td>\n      <td>16.0</td>\n    </tr>\n  </tbody>\n</table>\n<p>8400 rows × 5 columns</p>\n</div>"
     },
     "execution_count": 115,
     "metadata": {},
     "output_type": "execute_result"
    }
   ],
   "source": [
    "FinalFrame"
   ],
   "metadata": {
    "collapsed": false,
    "ExecuteTime": {
     "end_time": "2023-10-09T07:31:10.036937738Z",
     "start_time": "2023-10-09T07:31:10.036284991Z"
    }
   },
   "id": "b7646bfbe7156369"
  },
  {
   "cell_type": "code",
   "execution_count": 115,
   "outputs": [],
   "source": [],
   "metadata": {
    "collapsed": false,
    "ExecuteTime": {
     "end_time": "2023-10-09T07:31:10.037824920Z",
     "start_time": "2023-10-09T07:31:10.036518885Z"
    }
   },
   "id": "61b922478a36592"
  }
 ],
 "metadata": {
  "kernelspec": {
   "display_name": "Python 3",
   "language": "python",
   "name": "python3"
  },
  "language_info": {
   "codemirror_mode": {
    "name": "ipython",
    "version": 2
   },
   "file_extension": ".py",
   "mimetype": "text/x-python",
   "name": "python",
   "nbconvert_exporter": "python",
   "pygments_lexer": "ipython2",
   "version": "2.7.6"
  }
 },
 "nbformat": 4,
 "nbformat_minor": 5
}
