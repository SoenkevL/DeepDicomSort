{
 "cells": [
  {
   "cell_type": "code",
   "execution_count": 28,
   "id": "initial_id",
   "metadata": {
    "collapsed": true,
    "ExecuteTime": {
     "end_time": "2023-10-18T07:52:28.416105689Z",
     "start_time": "2023-10-18T07:52:28.364388624Z"
    }
   },
   "outputs": [],
   "source": [
    "import pandas as pd\n",
    "import os"
   ]
  },
  {
   "cell_type": "code",
   "execution_count": 29,
   "outputs": [],
   "source": [
    "importFile = 'CombinedTestingFrame_A2_A3_O3.txt'\n",
    "outName = 'CombinedTestingFrame_A2_A3_O3_short.txt'\n",
    "df_import = pd.read_csv(importFile,names=['ID','label','extra'],sep='\\t')"
   ],
   "metadata": {
    "collapsed": false,
    "ExecuteTime": {
     "end_time": "2023-10-18T07:52:28.524406253Z",
     "start_time": "2023-10-18T07:52:28.407590090Z"
    }
   },
   "id": "ad3c756f2f9a0130"
  },
  {
   "cell_type": "code",
   "execution_count": 30,
   "outputs": [
    {
     "data": {
      "text/plain": "label\n17    28025\n8     12950\n0     11700\n11     8275\n3      7425\n2      7050\n9      5400\n15     4925\n14     3925\n13     2425\n7      2400\n6      2100\n12     1750\n5       700\n16      200\nName: count, dtype: int64"
     },
     "execution_count": 30,
     "metadata": {},
     "output_type": "execute_result"
    }
   ],
   "source": [
    "df_import['label'].value_counts()"
   ],
   "metadata": {
    "collapsed": false,
    "ExecuteTime": {
     "end_time": "2023-10-18T07:52:28.571991791Z",
     "start_time": "2023-10-18T07:52:28.527720201Z"
    }
   },
   "id": "a9051527742a8593"
  },
  {
   "cell_type": "code",
   "execution_count": 31,
   "outputs": [],
   "source": [
    "def extractNiftiFilepathAndSlicenum(df):\n",
    "    ID = df['ID']\n",
    "    split = ID.rsplit('__s',1)\n",
    "    NiftiPath = split[0]\n",
    "    NiftiPath = NiftiPath.replace('NIFTI_SLICES','NIFTI')+'.nii.gz'\n",
    "    slicenum = int(split[1].split('.nii.gz')[0])\n",
    "    return pd.Series({'NiftiPath':NiftiPath, 'slicenum':slicenum})"
   ],
   "metadata": {
    "collapsed": false,
    "ExecuteTime": {
     "end_time": "2023-10-18T07:52:28.572109623Z",
     "start_time": "2023-10-18T07:52:28.571637652Z"
    }
   },
   "id": "79905c248d453c75"
  },
  {
   "cell_type": "code",
   "execution_count": 32,
   "outputs": [],
   "source": [
    "df_NS = df_import.apply(extractNiftiFilepathAndSlicenum,axis=1, result_type='expand')"
   ],
   "metadata": {
    "collapsed": false,
    "ExecuteTime": {
     "end_time": "2023-10-18T07:52:44.527784832Z",
     "start_time": "2023-10-18T07:52:28.571762019Z"
    }
   },
   "id": "34eaa4e596400aa6"
  },
  {
   "cell_type": "code",
   "execution_count": 33,
   "outputs": [],
   "source": [
    "df = df_import.merge(df_NS,left_index=True,right_index=True,how='inner')"
   ],
   "metadata": {
    "collapsed": false,
    "ExecuteTime": {
     "end_time": "2023-10-18T07:52:44.585987539Z",
     "start_time": "2023-10-18T07:52:44.533148246Z"
    }
   },
   "id": "23711007c3f5245b"
  },
  {
   "cell_type": "code",
   "execution_count": 34,
   "outputs": [
    {
     "data": {
      "text/plain": "label\n17    28025\n8     12950\n0     11700\n11     8275\n3      7425\n2      7050\n9      5400\n15     4925\n14     3925\n13     2425\n7      2400\n6      2100\n12     1750\n5       700\n16      200\nName: count, dtype: int64"
     },
     "execution_count": 34,
     "metadata": {},
     "output_type": "execute_result"
    }
   ],
   "source": [
    "vc = df['label'].value_counts()\n",
    "vc"
   ],
   "metadata": {
    "collapsed": false,
    "ExecuteTime": {
     "end_time": "2023-10-18T07:52:44.627986047Z",
     "start_time": "2023-10-18T07:52:44.627534288Z"
    }
   },
   "id": "2a67fa5efa41690a"
  },
  {
   "cell_type": "code",
   "execution_count": 35,
   "outputs": [
    {
     "data": {
      "text/plain": "700"
     },
     "execution_count": 35,
     "metadata": {},
     "output_type": "execute_result"
    }
   ],
   "source": [
    "min = vc.iloc[-2]\n",
    "min"
   ],
   "metadata": {
    "collapsed": false,
    "ExecuteTime": {
     "end_time": "2023-10-18T07:52:44.628203336Z",
     "start_time": "2023-10-18T07:52:44.627691412Z"
    }
   },
   "id": "501f861c0ee96a11"
  },
  {
   "cell_type": "code",
   "execution_count": 36,
   "outputs": [],
   "source": [
    "from sklearn.model_selection import  train_test_split"
   ],
   "metadata": {
    "collapsed": false,
    "ExecuteTime": {
     "end_time": "2023-10-18T07:52:44.628283874Z",
     "start_time": "2023-10-18T07:52:44.627761294Z"
    }
   },
   "id": "232a63aee21b07ec"
  },
  {
   "cell_type": "code",
   "execution_count": 37,
   "outputs": [
    {
     "name": "stdout",
     "output_type": "stream",
     "text": [
      "297\n",
      "1121\n",
      "197\n",
      "468\n",
      "518\n",
      "97\n",
      "157\n",
      "84\n",
      "8\n",
      "28\n",
      "282\n",
      "216\n",
      "331\n",
      "70\n",
      "96\n"
     ]
    }
   ],
   "source": [
    "FinalFrame = pd.DataFrame(columns=['ID','label','extra'])\n",
    "for l in df['label'].unique():\n",
    "    temp = df[df['label']==l].groupby('NiftiPath')\n",
    "    print(len(temp))\n",
    "    try:\n",
    "        keep, discard = train_test_split(list(range(len(temp))), train_size=int(min/25))\n",
    "    except:\n",
    "        keep = list(range(int(min/25)))\n",
    "    for i,frame in enumerate(temp):\n",
    "        if i in keep:\n",
    "           FinalFrame =  pd.concat((FinalFrame,frame[1]),axis=0)"
   ],
   "metadata": {
    "collapsed": false,
    "ExecuteTime": {
     "end_time": "2023-10-18T07:52:44.894239324Z",
     "start_time": "2023-10-18T07:52:44.627813828Z"
    }
   },
   "id": "125c6e8595c7b248"
  },
  {
   "cell_type": "code",
   "execution_count": 38,
   "outputs": [
    {
     "data": {
      "text/plain": "label\n3     700\n17    700\n15    700\n0     700\n8     700\n13    700\n14    700\n6     700\n5     700\n2     700\n9     700\n11    700\n12    700\n7     700\n16    200\nName: count, dtype: int64"
     },
     "execution_count": 38,
     "metadata": {},
     "output_type": "execute_result"
    }
   ],
   "source": [
    "FinalFrame['label'].value_counts()"
   ],
   "metadata": {
    "collapsed": false,
    "ExecuteTime": {
     "end_time": "2023-10-18T07:52:44.935989108Z",
     "start_time": "2023-10-18T07:52:44.893683861Z"
    }
   },
   "id": "2bedf6461b3569c9"
  },
  {
   "cell_type": "code",
   "execution_count": 39,
   "outputs": [],
   "source": [
    "FinalFrame = FinalFrame.reset_index(drop=True)"
   ],
   "metadata": {
    "collapsed": false,
    "ExecuteTime": {
     "end_time": "2023-10-18T07:52:44.936604382Z",
     "start_time": "2023-10-18T07:52:44.935685233Z"
    }
   },
   "id": "e71fc0c6749358dd"
  },
  {
   "cell_type": "code",
   "execution_count": 40,
   "outputs": [],
   "source": [
    "FinalFrame[['ID','label','extra']].to_csv(outName,header=False,index=False,sep='\\t')"
   ],
   "metadata": {
    "collapsed": false,
    "ExecuteTime": {
     "end_time": "2023-10-18T07:52:44.979728868Z",
     "start_time": "2023-10-18T07:52:44.935832220Z"
    }
   },
   "id": "24a81abb54fdfd9c"
  },
  {
   "cell_type": "code",
   "execution_count": 41,
   "outputs": [
    {
     "data": {
      "text/plain": "                                                     ID label extra  \\\n0     /trinity/home/r098375/DDS/data/ADNI/ADNI3/test...     3     0   \n1     /trinity/home/r098375/DDS/data/ADNI/ADNI3/test...     3     0   \n2     /trinity/home/r098375/DDS/data/ADNI/ADNI3/test...     3     0   \n3     /trinity/home/r098375/DDS/data/ADNI/ADNI3/test...     3     0   \n4     /trinity/home/r098375/DDS/data/ADNI/ADNI3/test...     3     0   \n...                                                 ...   ...   ...   \n9995  /trinity/home/r098375/DDS/data/OASIS/OASIS3/te...     7     0   \n9996  /trinity/home/r098375/DDS/data/OASIS/OASIS3/te...     7     0   \n9997  /trinity/home/r098375/DDS/data/OASIS/OASIS3/te...     7     0   \n9998  /trinity/home/r098375/DDS/data/OASIS/OASIS3/te...     7     0   \n9999  /trinity/home/r098375/DDS/data/OASIS/OASIS3/te...     7     0   \n\n                                              NiftiPath  slicenum  \n0     /trinity/home/r098375/DDS/data/ADNI/ADNI3/test...       3.0  \n1     /trinity/home/r098375/DDS/data/ADNI/ADNI3/test...       5.0  \n2     /trinity/home/r098375/DDS/data/ADNI/ADNI3/test...       7.0  \n3     /trinity/home/r098375/DDS/data/ADNI/ADNI3/test...      16.0  \n4     /trinity/home/r098375/DDS/data/ADNI/ADNI3/test...      20.0  \n...                                                 ...       ...  \n9995  /trinity/home/r098375/DDS/data/OASIS/OASIS3/te...       9.0  \n9996  /trinity/home/r098375/DDS/data/OASIS/OASIS3/te...      10.0  \n9997  /trinity/home/r098375/DDS/data/OASIS/OASIS3/te...      11.0  \n9998  /trinity/home/r098375/DDS/data/OASIS/OASIS3/te...       0.0  \n9999  /trinity/home/r098375/DDS/data/OASIS/OASIS3/te...      23.0  \n\n[10000 rows x 5 columns]",
      "text/html": "<div>\n<style scoped>\n    .dataframe tbody tr th:only-of-type {\n        vertical-align: middle;\n    }\n\n    .dataframe tbody tr th {\n        vertical-align: top;\n    }\n\n    .dataframe thead th {\n        text-align: right;\n    }\n</style>\n<table border=\"1\" class=\"dataframe\">\n  <thead>\n    <tr style=\"text-align: right;\">\n      <th></th>\n      <th>ID</th>\n      <th>label</th>\n      <th>extra</th>\n      <th>NiftiPath</th>\n      <th>slicenum</th>\n    </tr>\n  </thead>\n  <tbody>\n    <tr>\n      <th>0</th>\n      <td>/trinity/home/r098375/DDS/data/ADNI/ADNI3/test...</td>\n      <td>3</td>\n      <td>0</td>\n      <td>/trinity/home/r098375/DDS/data/ADNI/ADNI3/test...</td>\n      <td>3.0</td>\n    </tr>\n    <tr>\n      <th>1</th>\n      <td>/trinity/home/r098375/DDS/data/ADNI/ADNI3/test...</td>\n      <td>3</td>\n      <td>0</td>\n      <td>/trinity/home/r098375/DDS/data/ADNI/ADNI3/test...</td>\n      <td>5.0</td>\n    </tr>\n    <tr>\n      <th>2</th>\n      <td>/trinity/home/r098375/DDS/data/ADNI/ADNI3/test...</td>\n      <td>3</td>\n      <td>0</td>\n      <td>/trinity/home/r098375/DDS/data/ADNI/ADNI3/test...</td>\n      <td>7.0</td>\n    </tr>\n    <tr>\n      <th>3</th>\n      <td>/trinity/home/r098375/DDS/data/ADNI/ADNI3/test...</td>\n      <td>3</td>\n      <td>0</td>\n      <td>/trinity/home/r098375/DDS/data/ADNI/ADNI3/test...</td>\n      <td>16.0</td>\n    </tr>\n    <tr>\n      <th>4</th>\n      <td>/trinity/home/r098375/DDS/data/ADNI/ADNI3/test...</td>\n      <td>3</td>\n      <td>0</td>\n      <td>/trinity/home/r098375/DDS/data/ADNI/ADNI3/test...</td>\n      <td>20.0</td>\n    </tr>\n    <tr>\n      <th>...</th>\n      <td>...</td>\n      <td>...</td>\n      <td>...</td>\n      <td>...</td>\n      <td>...</td>\n    </tr>\n    <tr>\n      <th>9995</th>\n      <td>/trinity/home/r098375/DDS/data/OASIS/OASIS3/te...</td>\n      <td>7</td>\n      <td>0</td>\n      <td>/trinity/home/r098375/DDS/data/OASIS/OASIS3/te...</td>\n      <td>9.0</td>\n    </tr>\n    <tr>\n      <th>9996</th>\n      <td>/trinity/home/r098375/DDS/data/OASIS/OASIS3/te...</td>\n      <td>7</td>\n      <td>0</td>\n      <td>/trinity/home/r098375/DDS/data/OASIS/OASIS3/te...</td>\n      <td>10.0</td>\n    </tr>\n    <tr>\n      <th>9997</th>\n      <td>/trinity/home/r098375/DDS/data/OASIS/OASIS3/te...</td>\n      <td>7</td>\n      <td>0</td>\n      <td>/trinity/home/r098375/DDS/data/OASIS/OASIS3/te...</td>\n      <td>11.0</td>\n    </tr>\n    <tr>\n      <th>9998</th>\n      <td>/trinity/home/r098375/DDS/data/OASIS/OASIS3/te...</td>\n      <td>7</td>\n      <td>0</td>\n      <td>/trinity/home/r098375/DDS/data/OASIS/OASIS3/te...</td>\n      <td>0.0</td>\n    </tr>\n    <tr>\n      <th>9999</th>\n      <td>/trinity/home/r098375/DDS/data/OASIS/OASIS3/te...</td>\n      <td>7</td>\n      <td>0</td>\n      <td>/trinity/home/r098375/DDS/data/OASIS/OASIS3/te...</td>\n      <td>23.0</td>\n    </tr>\n  </tbody>\n</table>\n<p>10000 rows × 5 columns</p>\n</div>"
     },
     "execution_count": 41,
     "metadata": {},
     "output_type": "execute_result"
    }
   ],
   "source": [
    "FinalFrame"
   ],
   "metadata": {
    "collapsed": false,
    "ExecuteTime": {
     "end_time": "2023-10-18T07:52:44.980420043Z",
     "start_time": "2023-10-18T07:52:44.979608922Z"
    }
   },
   "id": "b7646bfbe7156369"
  },
  {
   "cell_type": "code",
   "execution_count": 41,
   "outputs": [],
   "source": [],
   "metadata": {
    "collapsed": false,
    "ExecuteTime": {
     "end_time": "2023-10-18T07:52:44.981202806Z",
     "start_time": "2023-10-18T07:52:44.979861648Z"
    }
   },
   "id": "61b922478a36592"
  }
 ],
 "metadata": {
  "kernelspec": {
   "display_name": "Python 3",
   "language": "python",
   "name": "python3"
  },
  "language_info": {
   "codemirror_mode": {
    "name": "ipython",
    "version": 2
   },
   "file_extension": ".py",
   "mimetype": "text/x-python",
   "name": "python",
   "nbconvert_exporter": "python",
   "pygments_lexer": "ipython2",
   "version": "2.7.6"
  }
 },
 "nbformat": 4,
 "nbformat_minor": 5
}
