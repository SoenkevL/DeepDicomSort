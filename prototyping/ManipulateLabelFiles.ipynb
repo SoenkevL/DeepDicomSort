{
 "cells": [
  {
   "cell_type": "code",
   "execution_count": 58,
   "id": "initial_id",
   "metadata": {
    "collapsed": true,
    "ExecuteTime": {
     "end_time": "2023-10-18T12:34:12.794980415Z",
     "start_time": "2023-10-18T12:34:12.689119599Z"
    }
   },
   "outputs": [],
   "source": [
    "import pandas as pd\n",
    "import os"
   ]
  },
  {
   "cell_type": "code",
   "execution_count": 59,
   "outputs": [],
   "source": [
    "importFile = 'CombinedTrainingFrame_A2_A3_O3_egd.txt'\n",
    "outName = 'CombinedTrainingFrame_A2_A3_O3_egd_short.txt'\n",
    "df_import = pd.read_csv(importFile,names=['ID','label','extra'],sep='\\t')"
   ],
   "metadata": {
    "collapsed": false,
    "ExecuteTime": {
     "end_time": "2023-10-18T12:34:14.303102392Z",
     "start_time": "2023-10-18T12:34:12.731490667Z"
    }
   },
   "id": "ad3c756f2f9a0130"
  },
  {
   "cell_type": "code",
   "execution_count": 60,
   "outputs": [
    {
     "data": {
      "text/plain": "label\n17    250475\n8     121850\n0     112600\n11     67150\n3      66900\n2      66400\n9      53200\n15     45550\n14     29000\n13     27100\n7      19450\n6      18625\n12     12175\n1       8500\n5       4975\n10      2225\n16      1850\nName: count, dtype: int64"
     },
     "execution_count": 60,
     "metadata": {},
     "output_type": "execute_result"
    }
   ],
   "source": [
    "df_import['label'].value_counts()"
   ],
   "metadata": {
    "collapsed": false,
    "ExecuteTime": {
     "end_time": "2023-10-18T12:34:14.319594914Z",
     "start_time": "2023-10-18T12:34:14.309256778Z"
    }
   },
   "id": "a9051527742a8593"
  },
  {
   "cell_type": "code",
   "execution_count": 61,
   "outputs": [],
   "source": [
    "def extractNiftiFilepathAndSlicenum(df):\n",
    "    ID = df['ID']\n",
    "    split = ID.rsplit('__s',1)\n",
    "    NiftiPath = split[0]\n",
    "    NiftiPath = NiftiPath.replace('NIFTI_SLICES','NIFTI')+'.nii.gz'\n",
    "    slicenum = int(split[1].split('.nii.gz')[0])\n",
    "    return pd.Series({'NiftiPath':NiftiPath, 'slicenum':slicenum})"
   ],
   "metadata": {
    "collapsed": false,
    "ExecuteTime": {
     "end_time": "2023-10-18T12:34:14.363730235Z",
     "start_time": "2023-10-18T12:34:14.315613923Z"
    }
   },
   "id": "79905c248d453c75"
  },
  {
   "cell_type": "code",
   "execution_count": 62,
   "outputs": [],
   "source": [
    "df_NS = df_import.apply(extractNiftiFilepathAndSlicenum,axis=1, result_type='expand')"
   ],
   "metadata": {
    "collapsed": false,
    "ExecuteTime": {
     "end_time": "2023-10-18T12:36:46.864387377Z",
     "start_time": "2023-10-18T12:34:14.363556732Z"
    }
   },
   "id": "34eaa4e596400aa6"
  },
  {
   "cell_type": "code",
   "execution_count": 63,
   "outputs": [],
   "source": [
    "df = df_import.merge(df_NS,left_index=True,right_index=True,how='inner')"
   ],
   "metadata": {
    "collapsed": false,
    "ExecuteTime": {
     "end_time": "2023-10-18T12:36:46.908120988Z",
     "start_time": "2023-10-18T12:36:46.907654337Z"
    }
   },
   "id": "23711007c3f5245b"
  },
  {
   "cell_type": "code",
   "execution_count": 64,
   "outputs": [
    {
     "data": {
      "text/plain": "label\n17    250475\n8     121850\n0     112600\n11     67150\n3      66900\n2      66400\n9      53200\n15     45550\n14     29000\n13     27100\n7      19450\n6      18625\n12     12175\n1       8500\n5       4975\n10      2225\n16      1850\nName: count, dtype: int64"
     },
     "execution_count": 64,
     "metadata": {},
     "output_type": "execute_result"
    }
   ],
   "source": [
    "vc = df['label'].value_counts()\n",
    "vc"
   ],
   "metadata": {
    "collapsed": false,
    "ExecuteTime": {
     "end_time": "2023-10-18T12:36:46.929433678Z",
     "start_time": "2023-10-18T12:36:46.917510603Z"
    }
   },
   "id": "2a67fa5efa41690a"
  },
  {
   "cell_type": "code",
   "execution_count": 65,
   "outputs": [
    {
     "data": {
      "text/plain": "4975"
     },
     "execution_count": 65,
     "metadata": {},
     "output_type": "execute_result"
    }
   ],
   "source": [
    "min = vc.iloc[-3]\n",
    "min"
   ],
   "metadata": {
    "collapsed": false,
    "ExecuteTime": {
     "end_time": "2023-10-18T12:36:46.967659127Z",
     "start_time": "2023-10-18T12:36:46.923257748Z"
    }
   },
   "id": "501f861c0ee96a11"
  },
  {
   "cell_type": "code",
   "execution_count": 66,
   "outputs": [],
   "source": [
    "from sklearn.model_selection import  train_test_split"
   ],
   "metadata": {
    "collapsed": false,
    "ExecuteTime": {
     "end_time": "2023-10-18T12:36:46.967780157Z",
     "start_time": "2023-10-18T12:36:46.967491462Z"
    }
   },
   "id": "232a63aee21b07ec"
  },
  {
   "cell_type": "code",
   "execution_count": 67,
   "outputs": [
    {
     "name": "stdout",
     "output_type": "stream",
     "text": [
      "2668\n",
      "4874\n",
      "1822\n",
      "4496\n",
      "10019\n",
      "1160\n",
      "1078\n",
      "74\n",
      "199\n",
      "745\n",
      "2648\n",
      "2686\n",
      "2107\n",
      "778\n",
      "487\n",
      "89\n",
      "332\n"
     ]
    }
   ],
   "source": [
    "FinalFrame = pd.DataFrame(columns=['ID','label','extra'])\n",
    "for l in df['label'].unique():\n",
    "    temp = df[df['label']==l].groupby('NiftiPath')\n",
    "    print(len(temp))\n",
    "    try:\n",
    "        keep, discard = train_test_split(list(range(len(temp))), train_size=int(min/25))\n",
    "    except:\n",
    "        keep = list(range(int(min/25)))\n",
    "    for i,frame in enumerate(temp):\n",
    "        if i in keep:\n",
    "           FinalFrame =  pd.concat((FinalFrame,frame[1]),axis=0)"
   ],
   "metadata": {
    "collapsed": false,
    "ExecuteTime": {
     "end_time": "2023-10-18T12:36:56.077701024Z",
     "start_time": "2023-10-18T12:36:46.967579158Z"
    }
   },
   "id": "125c6e8595c7b248"
  },
  {
   "cell_type": "code",
   "execution_count": 68,
   "outputs": [
    {
     "data": {
      "text/plain": "label\n1     5100\n13    5025\n3     5000\n0     4975\n17    4975\n14    4975\n15    4975\n8     4975\n6     4975\n2     4975\n11    4975\n9     4975\n7     4975\n12    4975\n5     4975\n10    2225\n16    1850\nName: count, dtype: int64"
     },
     "execution_count": 68,
     "metadata": {},
     "output_type": "execute_result"
    }
   ],
   "source": [
    "FinalFrame['label'].value_counts()"
   ],
   "metadata": {
    "collapsed": false,
    "ExecuteTime": {
     "end_time": "2023-10-18T12:36:56.090254195Z",
     "start_time": "2023-10-18T12:36:56.082592396Z"
    }
   },
   "id": "2bedf6461b3569c9"
  },
  {
   "cell_type": "code",
   "execution_count": 69,
   "outputs": [],
   "source": [
    "FinalFrame = FinalFrame.reset_index(drop=True)"
   ],
   "metadata": {
    "collapsed": false,
    "ExecuteTime": {
     "end_time": "2023-10-18T12:36:56.117146366Z",
     "start_time": "2023-10-18T12:36:56.086940175Z"
    }
   },
   "id": "e71fc0c6749358dd"
  },
  {
   "cell_type": "code",
   "execution_count": 70,
   "outputs": [],
   "source": [
    "FinalFrame[['ID','label','extra']].to_csv(outName,header=False,index=False,sep='\\t')"
   ],
   "metadata": {
    "collapsed": false,
    "ExecuteTime": {
     "end_time": "2023-10-18T12:36:56.423106783Z",
     "start_time": "2023-10-18T12:36:56.122868998Z"
    }
   },
   "id": "24a81abb54fdfd9c"
  },
  {
   "cell_type": "code",
   "execution_count": 71,
   "outputs": [
    {
     "data": {
      "text/plain": "                                                      ID label extra  \\\n0      /trinity/home/r098375/DDS/data/ADNI/ADNI3/trai...     3     0   \n1      /trinity/home/r098375/DDS/data/ADNI/ADNI3/trai...     3     0   \n2      /trinity/home/r098375/DDS/data/ADNI/ADNI3/trai...     3     0   \n3      /trinity/home/r098375/DDS/data/ADNI/ADNI3/trai...     3     0   \n4      /trinity/home/r098375/DDS/data/ADNI/ADNI3/trai...     3     0   \n...                                                  ...   ...   ...   \n78895  /trinity/home/r098375/DDS/data/egd/NIFTI_SLICE...     1     0   \n78896  /trinity/home/r098375/DDS/data/egd/NIFTI_SLICE...     1     0   \n78897  /trinity/home/r098375/DDS/data/egd/NIFTI_SLICE...     1     0   \n78898  /trinity/home/r098375/DDS/data/egd/NIFTI_SLICE...     1     0   \n78899  /trinity/home/r098375/DDS/data/egd/NIFTI_SLICE...     1     0   \n\n                                               NiftiPath  slicenum  \n0      /trinity/home/r098375/DDS/data/ADNI/ADNI3/trai...      21.0  \n1      /trinity/home/r098375/DDS/data/ADNI/ADNI3/trai...       6.0  \n2      /trinity/home/r098375/DDS/data/ADNI/ADNI3/trai...       9.0  \n3      /trinity/home/r098375/DDS/data/ADNI/ADNI3/trai...      22.0  \n4      /trinity/home/r098375/DDS/data/ADNI/ADNI3/trai...      18.0  \n...                                                  ...       ...  \n78895  /trinity/home/r098375/DDS/data/egd/NIFTI/MR_97...       4.0  \n78896  /trinity/home/r098375/DDS/data/egd/NIFTI/MR_97...       1.0  \n78897  /trinity/home/r098375/DDS/data/egd/NIFTI/MR_97...       6.0  \n78898  /trinity/home/r098375/DDS/data/egd/NIFTI/MR_97...      23.0  \n78899  /trinity/home/r098375/DDS/data/egd/NIFTI/MR_97...      21.0  \n\n[78900 rows x 5 columns]",
      "text/html": "<div>\n<style scoped>\n    .dataframe tbody tr th:only-of-type {\n        vertical-align: middle;\n    }\n\n    .dataframe tbody tr th {\n        vertical-align: top;\n    }\n\n    .dataframe thead th {\n        text-align: right;\n    }\n</style>\n<table border=\"1\" class=\"dataframe\">\n  <thead>\n    <tr style=\"text-align: right;\">\n      <th></th>\n      <th>ID</th>\n      <th>label</th>\n      <th>extra</th>\n      <th>NiftiPath</th>\n      <th>slicenum</th>\n    </tr>\n  </thead>\n  <tbody>\n    <tr>\n      <th>0</th>\n      <td>/trinity/home/r098375/DDS/data/ADNI/ADNI3/trai...</td>\n      <td>3</td>\n      <td>0</td>\n      <td>/trinity/home/r098375/DDS/data/ADNI/ADNI3/trai...</td>\n      <td>21.0</td>\n    </tr>\n    <tr>\n      <th>1</th>\n      <td>/trinity/home/r098375/DDS/data/ADNI/ADNI3/trai...</td>\n      <td>3</td>\n      <td>0</td>\n      <td>/trinity/home/r098375/DDS/data/ADNI/ADNI3/trai...</td>\n      <td>6.0</td>\n    </tr>\n    <tr>\n      <th>2</th>\n      <td>/trinity/home/r098375/DDS/data/ADNI/ADNI3/trai...</td>\n      <td>3</td>\n      <td>0</td>\n      <td>/trinity/home/r098375/DDS/data/ADNI/ADNI3/trai...</td>\n      <td>9.0</td>\n    </tr>\n    <tr>\n      <th>3</th>\n      <td>/trinity/home/r098375/DDS/data/ADNI/ADNI3/trai...</td>\n      <td>3</td>\n      <td>0</td>\n      <td>/trinity/home/r098375/DDS/data/ADNI/ADNI3/trai...</td>\n      <td>22.0</td>\n    </tr>\n    <tr>\n      <th>4</th>\n      <td>/trinity/home/r098375/DDS/data/ADNI/ADNI3/trai...</td>\n      <td>3</td>\n      <td>0</td>\n      <td>/trinity/home/r098375/DDS/data/ADNI/ADNI3/trai...</td>\n      <td>18.0</td>\n    </tr>\n    <tr>\n      <th>...</th>\n      <td>...</td>\n      <td>...</td>\n      <td>...</td>\n      <td>...</td>\n      <td>...</td>\n    </tr>\n    <tr>\n      <th>78895</th>\n      <td>/trinity/home/r098375/DDS/data/egd/NIFTI_SLICE...</td>\n      <td>1</td>\n      <td>0</td>\n      <td>/trinity/home/r098375/DDS/data/egd/NIFTI/MR_97...</td>\n      <td>4.0</td>\n    </tr>\n    <tr>\n      <th>78896</th>\n      <td>/trinity/home/r098375/DDS/data/egd/NIFTI_SLICE...</td>\n      <td>1</td>\n      <td>0</td>\n      <td>/trinity/home/r098375/DDS/data/egd/NIFTI/MR_97...</td>\n      <td>1.0</td>\n    </tr>\n    <tr>\n      <th>78897</th>\n      <td>/trinity/home/r098375/DDS/data/egd/NIFTI_SLICE...</td>\n      <td>1</td>\n      <td>0</td>\n      <td>/trinity/home/r098375/DDS/data/egd/NIFTI/MR_97...</td>\n      <td>6.0</td>\n    </tr>\n    <tr>\n      <th>78898</th>\n      <td>/trinity/home/r098375/DDS/data/egd/NIFTI_SLICE...</td>\n      <td>1</td>\n      <td>0</td>\n      <td>/trinity/home/r098375/DDS/data/egd/NIFTI/MR_97...</td>\n      <td>23.0</td>\n    </tr>\n    <tr>\n      <th>78899</th>\n      <td>/trinity/home/r098375/DDS/data/egd/NIFTI_SLICE...</td>\n      <td>1</td>\n      <td>0</td>\n      <td>/trinity/home/r098375/DDS/data/egd/NIFTI/MR_97...</td>\n      <td>21.0</td>\n    </tr>\n  </tbody>\n</table>\n<p>78900 rows × 5 columns</p>\n</div>"
     },
     "execution_count": 71,
     "metadata": {},
     "output_type": "execute_result"
    }
   ],
   "source": [
    "FinalFrame"
   ],
   "metadata": {
    "collapsed": false,
    "ExecuteTime": {
     "end_time": "2023-10-18T12:36:56.433692424Z",
     "start_time": "2023-10-18T12:36:56.430279628Z"
    }
   },
   "id": "b7646bfbe7156369"
  },
  {
   "cell_type": "code",
   "execution_count": 71,
   "outputs": [],
   "source": [],
   "metadata": {
    "collapsed": false,
    "ExecuteTime": {
     "end_time": "2023-10-18T12:36:56.441036836Z",
     "start_time": "2023-10-18T12:36:56.434263002Z"
    }
   },
   "id": "61b922478a36592"
  }
 ],
 "metadata": {
  "kernelspec": {
   "display_name": "Python 3",
   "language": "python",
   "name": "python3"
  },
  "language_info": {
   "codemirror_mode": {
    "name": "ipython",
    "version": 2
   },
   "file_extension": ".py",
   "mimetype": "text/x-python",
   "name": "python",
   "nbconvert_exporter": "python",
   "pygments_lexer": "ipython2",
   "version": "2.7.6"
  }
 },
 "nbformat": 4,
 "nbformat_minor": 5
}
