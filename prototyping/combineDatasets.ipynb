{
 "cells": [
  {
   "cell_type": "code",
   "execution_count": 11,
   "id": "initial_id",
   "metadata": {
    "collapsed": true,
    "ExecuteTime": {
     "end_time": "2023-10-09T06:24:15.285630950Z",
     "start_time": "2023-10-09T06:24:15.207739707Z"
    }
   },
   "outputs": [],
   "source": [
    "import pandas as pd\n",
    "import os\n",
    "import pprint"
   ]
  },
  {
   "cell_type": "code",
   "execution_count": 12,
   "outputs": [],
   "source": [
    "A2tr = pd.read_csv('ADNI2_trainLabels_extensive.txt',names=['ID','label','extra'],sep='\\t', dtype={'ID':str,'label':int,'extra':int})\n",
    "A2te = pd.read_csv('ADNI2_testLabels_extensive.txt',names=['ID','label','extra'],sep='\\t', dtype={'ID':str,'label':int,'extra':int})\n",
    "A3tr = pd.read_csv('ADNI3_trainLabels_extensive.txt',names=['ID','label','extra'],sep='\\t',low_memory=False, dtype={'ID':str,'label':int,'extra':int})\n",
    "A3te = pd.read_csv('ADNI3_testLabels_extensive.txt',names=['ID','label','extra'],sep='\\t', dtype={'ID':str,'label':int,'extra':int})\n",
    "O3tr = pd.read_csv('Oasis3_trainLabels_extensive.txt',names=['ID','label','extra'],sep='\\t',low_memory=False,dtype={'ID':str,'label':int,'extra':int})\n",
    "O3te = pd.read_csv('Oasis3_testLabels_extensive.txt',names=['ID','label','extra'],sep='\\t', dtype={'ID':str,'label':int,'extra':int})"
   ],
   "metadata": {
    "collapsed": false,
    "ExecuteTime": {
     "end_time": "2023-10-09T06:24:16.638325243Z",
     "start_time": "2023-10-09T06:24:15.252326569Z"
    }
   },
   "id": "957cb2dcdc5b9aa9"
  },
  {
   "cell_type": "code",
   "execution_count": 13,
   "outputs": [],
   "source": [
    "# appendstring = '/trinity/home/r098375/DDS/'\n",
    "# def fixPath(ID):\n",
    "#     return appendstring+ID\n",
    "# O3tr['ID'] = O3tr['ID'].apply(fixPath)"
   ],
   "metadata": {
    "collapsed": false,
    "ExecuteTime": {
     "end_time": "2023-10-09T06:24:16.688598374Z",
     "start_time": "2023-10-09T06:24:16.639595934Z"
    }
   },
   "id": "cdfc23b194747eba"
  },
  {
   "cell_type": "code",
   "execution_count": 14,
   "outputs": [
    {
     "data": {
      "text/plain": "label\n2    197.0\n5    197.0\nName: count, dtype: float64"
     },
     "execution_count": 14,
     "metadata": {},
     "output_type": "execute_result"
    }
   ],
   "source": [
    "A2tr['label'].value_counts()/25"
   ],
   "metadata": {
    "collapsed": false,
    "ExecuteTime": {
     "end_time": "2023-10-09T06:24:16.689235942Z",
     "start_time": "2023-10-09T06:24:16.688449606Z"
    }
   },
   "id": "7c72ec0ebde8549b"
  },
  {
   "cell_type": "code",
   "execution_count": 15,
   "outputs": [
    {
     "data": {
      "text/plain": "label\n5    28.0\n2    28.0\nName: count, dtype: float64"
     },
     "execution_count": 15,
     "metadata": {},
     "output_type": "execute_result"
    }
   ],
   "source": [
    "A2te['label'].value_counts()/25"
   ],
   "metadata": {
    "collapsed": false,
    "ExecuteTime": {
     "end_time": "2023-10-09T06:24:16.690462078Z",
     "start_time": "2023-10-09T06:24:16.688776133Z"
    }
   },
   "id": "f06b3dbea55d514a"
  },
  {
   "cell_type": "code",
   "execution_count": 16,
   "outputs": [
    {
     "data": {
      "text/plain": "label\n14    8132.0\n8     3605.0\n3     1797.0\n0     1614.0\n13     670.0\n6       14.0\n2        2.0\nName: count, dtype: float64"
     },
     "execution_count": 16,
     "metadata": {},
     "output_type": "execute_result"
    }
   ],
   "source": [
    "A3tr['label'].value_counts()/25"
   ],
   "metadata": {
    "collapsed": false,
    "ExecuteTime": {
     "end_time": "2023-10-09T06:24:16.691306694Z",
     "start_time": "2023-10-09T06:24:16.688980786Z"
    }
   },
   "id": "893154bc5935ec9f"
  },
  {
   "cell_type": "code",
   "execution_count": 17,
   "outputs": [
    {
     "data": {
      "text/plain": "label\n14    897.0\n8     373.0\n3     216.0\n0     182.0\n13     68.0\n6       3.0\nName: count, dtype: float64"
     },
     "execution_count": 17,
     "metadata": {},
     "output_type": "execute_result"
    }
   ],
   "source": [
    "A3te['label'].value_counts()/25"
   ],
   "metadata": {
    "collapsed": false,
    "ExecuteTime": {
     "end_time": "2023-10-09T06:24:16.732769899Z",
     "start_time": "2023-10-09T06:24:16.689132625Z"
    }
   },
   "id": "ac8e2d10f093f8a6"
  },
  {
   "cell_type": "code",
   "execution_count": 18,
   "outputs": [
    {
     "data": {
      "text/plain": "label\n14    4873.0\n11    2703.0\n2     2228.0\n0     2135.0\n9     1801.0\n6     1474.0\n8     1269.0\n7      794.0\n3      672.0\n12     494.0\nName: count, dtype: float64"
     },
     "execution_count": 18,
     "metadata": {},
     "output_type": "execute_result"
    }
   ],
   "source": [
    "O3tr['label'].value_counts()/25"
   ],
   "metadata": {
    "collapsed": false,
    "ExecuteTime": {
     "end_time": "2023-10-09T06:24:16.733300956Z",
     "start_time": "2023-10-09T06:24:16.732264437Z"
    }
   },
   "id": "6091194f5c6815cb"
  },
  {
   "cell_type": "code",
   "execution_count": 19,
   "outputs": [
    {
     "data": {
      "text/plain": "label\n 14    573.0\n 11    314.0\n 0     255.0\n 2     255.0\n 9     208.0\n 6     152.0\n 8     145.0\n 3      85.0\n 7      80.0\n 12     63.0\n-1       1.0\nName: count, dtype: float64"
     },
     "execution_count": 19,
     "metadata": {},
     "output_type": "execute_result"
    }
   ],
   "source": [
    "O3te['label'].value_counts()/25"
   ],
   "metadata": {
    "collapsed": false,
    "ExecuteTime": {
     "end_time": "2023-10-09T06:24:16.733602583Z",
     "start_time": "2023-10-09T06:24:16.732642780Z"
    }
   },
   "id": "a2a1573575ab734c"
  },
  {
   "cell_type": "code",
   "execution_count": 20,
   "outputs": [],
   "source": [
    "combinedTrainingFrame = pd.concat((A3tr,A2tr,O3tr),axis=0)"
   ],
   "metadata": {
    "collapsed": false,
    "ExecuteTime": {
     "end_time": "2023-10-09T06:24:16.734540521Z",
     "start_time": "2023-10-09T06:24:16.732919035Z"
    }
   },
   "id": "29150e53b1e0e152"
  },
  {
   "cell_type": "code",
   "execution_count": 21,
   "outputs": [
    {
     "data": {
      "text/plain": "label\n14    13005.0\n8      4874.0\n0      3749.0\n11     2703.0\n3      2469.0\n2      2427.0\n9      1801.0\n6      1488.0\n7       794.0\n13      670.0\n12      494.0\n5       197.0\nName: count, dtype: float64"
     },
     "execution_count": 21,
     "metadata": {},
     "output_type": "execute_result"
    }
   ],
   "source": [
    "combinedTrainingFrame['label'].value_counts()/25"
   ],
   "metadata": {
    "collapsed": false,
    "ExecuteTime": {
     "end_time": "2023-10-09T06:24:16.745570268Z",
     "start_time": "2023-10-09T06:24:16.740840653Z"
    }
   },
   "id": "c8824bb8cf315fd"
  },
  {
   "cell_type": "code",
   "execution_count": 22,
   "outputs": [],
   "source": [
    "combinedTestingFrame = pd.concat((A3te,A2te,O3te),axis=0)"
   ],
   "metadata": {
    "collapsed": false,
    "ExecuteTime": {
     "end_time": "2023-10-09T06:24:16.788533840Z",
     "start_time": "2023-10-09T06:24:16.745805602Z"
    }
   },
   "id": "c79c489c91dc5787"
  },
  {
   "cell_type": "code",
   "execution_count": 23,
   "outputs": [],
   "source": [
    "combinedTestingFrame = combinedTestingFrame[combinedTestingFrame['label']!=-1]"
   ],
   "metadata": {
    "collapsed": false,
    "ExecuteTime": {
     "end_time": "2023-10-09T06:24:16.788782227Z",
     "start_time": "2023-10-09T06:24:16.788367711Z"
    }
   },
   "id": "8cb7b3330b94c976"
  },
  {
   "cell_type": "code",
   "execution_count": 24,
   "outputs": [
    {
     "data": {
      "text/plain": "label\n14    1470.0\n8      518.0\n0      437.0\n11     314.0\n3      301.0\n2      283.0\n9      208.0\n6      155.0\n7       80.0\n13      68.0\n12      63.0\n5       28.0\nName: count, dtype: float64"
     },
     "execution_count": 24,
     "metadata": {},
     "output_type": "execute_result"
    }
   ],
   "source": [
    "combinedTestingFrame['label'].value_counts()/25"
   ],
   "metadata": {
    "collapsed": false,
    "ExecuteTime": {
     "end_time": "2023-10-09T06:24:16.789821623Z",
     "start_time": "2023-10-09T06:24:16.788696054Z"
    }
   },
   "id": "8c3f9eef6868d0f2"
  },
  {
   "cell_type": "code",
   "execution_count": 25,
   "outputs": [],
   "source": [
    "combinedTestingFrame.to_csv('CombinedTestingFrame_A2_A3_O3.txt',header=False,index=False,sep='\\t')"
   ],
   "metadata": {
    "collapsed": false,
    "ExecuteTime": {
     "end_time": "2023-10-09T06:24:17.048218634Z",
     "start_time": "2023-10-09T06:24:16.788890267Z"
    }
   },
   "id": "7f44b306f048a962"
  },
  {
   "cell_type": "code",
   "execution_count": 26,
   "outputs": [],
   "source": [
    "combinedTrainingFrame.to_csv('CombinedTrainingFrame_A2_A3_O3.txt',header=False,index=False,sep='\\t')"
   ],
   "metadata": {
    "collapsed": false,
    "ExecuteTime": {
     "end_time": "2023-10-09T06:24:19.895921682Z",
     "start_time": "2023-10-09T06:24:17.049790528Z"
    }
   },
   "id": "cc11d5fe4578164f"
  },
  {
   "cell_type": "code",
   "execution_count": 26,
   "outputs": [],
   "source": [],
   "metadata": {
    "collapsed": false,
    "ExecuteTime": {
     "end_time": "2023-10-09T06:24:19.901157937Z",
     "start_time": "2023-10-09T06:24:19.895261701Z"
    }
   },
   "id": "a698be51827077dc"
  }
 ],
 "metadata": {
  "kernelspec": {
   "display_name": "Python 3",
   "language": "python",
   "name": "python3"
  },
  "language_info": {
   "codemirror_mode": {
    "name": "ipython",
    "version": 2
   },
   "file_extension": ".py",
   "mimetype": "text/x-python",
   "name": "python",
   "nbconvert_exporter": "python",
   "pygments_lexer": "ipython2",
   "version": "2.7.6"
  }
 },
 "nbformat": 4,
 "nbformat_minor": 5
}
