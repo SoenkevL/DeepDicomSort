{
 "cells": [
  {
   "cell_type": "code",
   "execution_count": 27,
   "id": "initial_id",
   "metadata": {
    "collapsed": true,
    "ExecuteTime": {
     "end_time": "2023-11-28T12:06:05.210438782Z",
     "start_time": "2023-11-28T12:06:04.885871556Z"
    }
   },
   "outputs": [],
   "source": [
    "import pandas as pd\n",
    "import os\n",
    "import pprint"
   ]
  },
  {
   "cell_type": "code",
   "execution_count": 28,
   "outputs": [],
   "source": [
    "A2tr = pd.read_csv('ADNI/Adni2_trainLabels_extensive3.txt',names=['ID','label','extra'],sep='\\t', dtype={'ID':str,'label':int,'extra':int})\n",
    "A2te = pd.read_csv('ADNI/Adni2_testLabels_extensive3.txt',names=['ID','label','extra'],sep='\\t', dtype={'ID':str,'label':int,'extra':int})\n",
    "A3tr = pd.read_csv('ADNI/Adni3_trainLabels_extensive3.txt',names=['ID','label','extra'],sep='\\t',low_memory=False, dtype={'ID':str,'label':int,'extra':int})\n",
    "A3te = pd.read_csv('ADNI/Adni3_testLabels_extensive3.txt',names=['ID','label','extra'],sep='\\t', dtype={'ID':str,'label':int,'extra':int})\n",
    "O3tr = pd.read_csv('OASIS/Oasis3_trainLabels_extensive3.txt',names=['ID','label','extra'],sep='\\t',low_memory=False,dtype={'ID':str,'label':int,'extra':int})\n",
    "O3te = pd.read_csv('OASIS/Oasis3_testLabels_extensive3.txt',names=['ID','label','extra'],sep='\\t', dtype={'ID':str,'label':int,'extra':int})\n",
    "egdtr = pd.read_csv('egd/egd_trainLabels_extensive3.txt',names=['ID','label','extra'],sep='\\t', dtype={'ID':str,'label':int,'extra':int})\n",
    "egdte = pd.read_csv('egd/egd_testLabels_extensive3.txt',names=['ID','label','extra'],sep='\\t', dtype={'ID':str,'label':int,'extra':int})\n",
    "rsstr = pd.read_csv('RSS/RSS_trainLabels_extensive3.txt',names=['ID','label','extra'],sep='\\t', dtype={'ID':str,'label':int,'extra':int})\n",
    "rsste = pd.read_csv('RSS/RSS_testLabels_extensive3.txt',names=['ID','label','extra'],sep='\\t', dtype={'ID':str,'label':int,'extra':int})\n",
    "hbtr = pd.read_csv('heartbrain/HeartBrain_trainLabels_extensive3.txt',names=['ID','label','extra'],sep='\\t', dtype={'ID':str,'label':int,'extra':int})\n",
    "hbte = pd.read_csv('heartbrain/HeartBrain_testLabels_extensive3.txt',names=['ID','label','extra'],sep='\\t', dtype={'ID':str,'label':int,'extra':int})"
   ],
   "metadata": {
    "collapsed": false,
    "ExecuteTime": {
     "end_time": "2023-11-28T12:06:06.571697571Z",
     "start_time": "2023-11-28T12:06:04.932619214Z"
    }
   },
   "id": "957cb2dcdc5b9aa9"
  },
  {
   "cell_type": "code",
   "execution_count": 29,
   "outputs": [],
   "source": [
    "appendstring = '/trinity/home/r098375/DDS/'\n",
    "def fixPath(ID):\n",
    "    if not 'r098375' in ID:\n",
    "        return appendstring+ID\n",
    "    return ID\n"
   ],
   "metadata": {
    "collapsed": false,
    "ExecuteTime": {
     "end_time": "2023-11-28T12:06:06.617367914Z",
     "start_time": "2023-11-28T12:06:06.573934654Z"
    }
   },
   "id": "cdfc23b194747eba"
  },
  {
   "cell_type": "code",
   "execution_count": 30,
   "outputs": [
    {
     "data": {
      "text/plain": "label\n2    197.0\n4    197.0\nName: count, dtype: float64"
     },
     "execution_count": 30,
     "metadata": {},
     "output_type": "execute_result"
    }
   ],
   "source": [
    "A2tr['label'].value_counts()/25"
   ],
   "metadata": {
    "collapsed": false,
    "ExecuteTime": {
     "end_time": "2023-11-28T12:06:06.617588355Z",
     "start_time": "2023-11-28T12:06:06.616675594Z"
    }
   },
   "id": "7c72ec0ebde8549b"
  },
  {
   "cell_type": "code",
   "execution_count": 31,
   "outputs": [
    {
     "data": {
      "text/plain": "label\n4    28.0\n2    28.0\nName: count, dtype: float64"
     },
     "execution_count": 31,
     "metadata": {},
     "output_type": "execute_result"
    }
   ],
   "source": [
    "A2te['label'].value_counts()/25"
   ],
   "metadata": {
    "collapsed": false,
    "ExecuteTime": {
     "end_time": "2023-11-28T12:06:06.617704348Z",
     "start_time": "2023-11-28T12:06:06.616769780Z"
    }
   },
   "id": "f06b3dbea55d514a"
  },
  {
   "cell_type": "code",
   "execution_count": 32,
   "outputs": [
    {
     "data": {
      "text/plain": "label\n15    5233.0\n7     3605.0\n0     2088.0\n3     1797.0\n12     874.0\n13     328.0\n14      74.0\n5       14.0\n4        2.0\nName: count, dtype: float64"
     },
     "execution_count": 32,
     "metadata": {},
     "output_type": "execute_result"
    }
   ],
   "source": [
    "A3tr['label'].value_counts()/25"
   ],
   "metadata": {
    "collapsed": false,
    "ExecuteTime": {
     "end_time": "2023-11-28T12:06:06.617839100Z",
     "start_time": "2023-11-28T12:06:06.616812739Z"
    }
   },
   "id": "893154bc5935ec9f"
  },
  {
   "cell_type": "code",
   "execution_count": 33,
   "outputs": [
    {
     "data": {
      "text/plain": "label\n15    558.0\n7     373.0\n0     238.0\n3     216.0\n12     97.0\n13     49.0\n14      8.0\n5       3.0\nName: count, dtype: float64"
     },
     "execution_count": 33,
     "metadata": {},
     "output_type": "execute_result"
    }
   ],
   "source": [
    "A3te['label'].value_counts()/25"
   ],
   "metadata": {
    "collapsed": false,
    "ExecuteTime": {
     "end_time": "2023-11-28T12:06:06.617952745Z",
     "start_time": "2023-11-28T12:06:06.616853991Z"
    }
   },
   "id": "ac8e2d10f093f8a6"
  },
  {
   "cell_type": "code",
   "execution_count": 34,
   "outputs": [
    {
     "data": {
      "text/plain": "label\n15    4414.0\n10    2686.0\n2     2229.0\n0     2160.0\n8     1793.0\n5     1464.0\n7     1269.0\n13     832.0\n3      676.0\n11     487.0\n6      389.0\nName: count, dtype: float64"
     },
     "execution_count": 34,
     "metadata": {},
     "output_type": "execute_result"
    }
   ],
   "source": [
    "O3tr['label'].value_counts()/25"
   ],
   "metadata": {
    "collapsed": false,
    "ExecuteTime": {
     "end_time": "2023-11-28T12:06:06.684538602Z",
     "start_time": "2023-11-28T12:06:06.616901158Z"
    }
   },
   "id": "6091194f5c6815cb"
  },
  {
   "cell_type": "code",
   "execution_count": 35,
   "outputs": [
    {
     "data": {
      "text/plain": "label\n15    530.0\n10    331.0\n2     254.0\n0     230.0\n8     216.0\n5     162.0\n7     145.0\n13    108.0\n3      81.0\n11     70.0\n6      48.0\nName: count, dtype: float64"
     },
     "execution_count": 35,
     "metadata": {},
     "output_type": "execute_result"
    }
   ],
   "source": [
    "O3te['label'].value_counts()/25"
   ],
   "metadata": {
    "collapsed": false,
    "ExecuteTime": {
     "end_time": "2023-11-28T12:06:06.684764271Z",
     "start_time": "2023-11-28T12:06:06.660555301Z"
    }
   },
   "id": "a2a1573575ab734c"
  },
  {
   "cell_type": "code",
   "execution_count": 36,
   "outputs": [
    {
     "data": {
      "text/plain": "label\n15    103.0\n14     70.0\n4      24.0\n0      23.0\n5      17.0\n10     15.0\n13      6.0\nName: count, dtype: float64"
     },
     "execution_count": 36,
     "metadata": {},
     "output_type": "execute_result"
    }
   ],
   "source": [
    "rsstr['label'].value_counts()/25"
   ],
   "metadata": {
    "collapsed": false,
    "ExecuteTime": {
     "end_time": "2023-11-28T12:06:06.684895907Z",
     "start_time": "2023-11-28T12:06:06.660635006Z"
    }
   },
   "id": "515021f503dc1b2c"
  },
  {
   "cell_type": "code",
   "execution_count": 37,
   "outputs": [
    {
     "data": {
      "text/plain": "label\n14    8.0\n15    6.0\n5     2.0\n0     2.0\n4     2.0\n10    2.0\nName: count, dtype: float64"
     },
     "execution_count": 37,
     "metadata": {},
     "output_type": "execute_result"
    }
   ],
   "source": [
    "rsste['label'].value_counts()/25"
   ],
   "metadata": {
    "collapsed": false,
    "ExecuteTime": {
     "end_time": "2023-11-28T12:06:06.685014749Z",
     "start_time": "2023-11-28T12:06:06.660678228Z"
    }
   },
   "id": "58326af1845a6cbe"
  },
  {
   "cell_type": "code",
   "execution_count": 38,
   "outputs": [
    {
     "data": {
      "text/plain": "label\n15    1630.0\n3      403.0\n13     402.0\n12     386.0\n5      381.0\n0      333.0\nName: count, dtype: float64"
     },
     "execution_count": 38,
     "metadata": {},
     "output_type": "execute_result"
    }
   ],
   "source": [
    "hbtr.label.value_counts()/25"
   ],
   "metadata": {
    "collapsed": false,
    "ExecuteTime": {
     "end_time": "2023-11-28T12:06:06.685128739Z",
     "start_time": "2023-11-28T12:06:06.660718412Z"
    }
   },
   "id": "ddc7b3ec43e9c8f5"
  },
  {
   "cell_type": "code",
   "execution_count": 39,
   "outputs": [
    {
     "data": {
      "text/plain": "                                                      ID  label  extra\n0      /data/scratch/r098375/data/HeartBrain/NIFTI_SL...     15      0\n1      /data/scratch/r098375/data/HeartBrain/NIFTI_SL...     15      0\n2      /data/scratch/r098375/data/HeartBrain/NIFTI_SL...     15      0\n3      /data/scratch/r098375/data/HeartBrain/NIFTI_SL...     15      0\n4      /data/scratch/r098375/data/HeartBrain/NIFTI_SL...     15      0\n...                                                  ...    ...    ...\n88370  /data/scratch/r098375/data/HeartBrain/NIFTI_SL...     15      0\n88371  /data/scratch/r098375/data/HeartBrain/NIFTI_SL...     15      0\n88372  /data/scratch/r098375/data/HeartBrain/NIFTI_SL...     15      0\n88373  /data/scratch/r098375/data/HeartBrain/NIFTI_SL...     15      0\n88374  /data/scratch/r098375/data/HeartBrain/NIFTI_SL...     15      0\n\n[88375 rows x 3 columns]",
      "text/html": "<div>\n<style scoped>\n    .dataframe tbody tr th:only-of-type {\n        vertical-align: middle;\n    }\n\n    .dataframe tbody tr th {\n        vertical-align: top;\n    }\n\n    .dataframe thead th {\n        text-align: right;\n    }\n</style>\n<table border=\"1\" class=\"dataframe\">\n  <thead>\n    <tr style=\"text-align: right;\">\n      <th></th>\n      <th>ID</th>\n      <th>label</th>\n      <th>extra</th>\n    </tr>\n  </thead>\n  <tbody>\n    <tr>\n      <th>0</th>\n      <td>/data/scratch/r098375/data/HeartBrain/NIFTI_SL...</td>\n      <td>15</td>\n      <td>0</td>\n    </tr>\n    <tr>\n      <th>1</th>\n      <td>/data/scratch/r098375/data/HeartBrain/NIFTI_SL...</td>\n      <td>15</td>\n      <td>0</td>\n    </tr>\n    <tr>\n      <th>2</th>\n      <td>/data/scratch/r098375/data/HeartBrain/NIFTI_SL...</td>\n      <td>15</td>\n      <td>0</td>\n    </tr>\n    <tr>\n      <th>3</th>\n      <td>/data/scratch/r098375/data/HeartBrain/NIFTI_SL...</td>\n      <td>15</td>\n      <td>0</td>\n    </tr>\n    <tr>\n      <th>4</th>\n      <td>/data/scratch/r098375/data/HeartBrain/NIFTI_SL...</td>\n      <td>15</td>\n      <td>0</td>\n    </tr>\n    <tr>\n      <th>...</th>\n      <td>...</td>\n      <td>...</td>\n      <td>...</td>\n    </tr>\n    <tr>\n      <th>88370</th>\n      <td>/data/scratch/r098375/data/HeartBrain/NIFTI_SL...</td>\n      <td>15</td>\n      <td>0</td>\n    </tr>\n    <tr>\n      <th>88371</th>\n      <td>/data/scratch/r098375/data/HeartBrain/NIFTI_SL...</td>\n      <td>15</td>\n      <td>0</td>\n    </tr>\n    <tr>\n      <th>88372</th>\n      <td>/data/scratch/r098375/data/HeartBrain/NIFTI_SL...</td>\n      <td>15</td>\n      <td>0</td>\n    </tr>\n    <tr>\n      <th>88373</th>\n      <td>/data/scratch/r098375/data/HeartBrain/NIFTI_SL...</td>\n      <td>15</td>\n      <td>0</td>\n    </tr>\n    <tr>\n      <th>88374</th>\n      <td>/data/scratch/r098375/data/HeartBrain/NIFTI_SL...</td>\n      <td>15</td>\n      <td>0</td>\n    </tr>\n  </tbody>\n</table>\n<p>88375 rows × 3 columns</p>\n</div>"
     },
     "execution_count": 39,
     "metadata": {},
     "output_type": "execute_result"
    }
   ],
   "source": [
    "hbtr"
   ],
   "metadata": {
    "collapsed": false,
    "ExecuteTime": {
     "end_time": "2023-11-28T12:06:06.685398367Z",
     "start_time": "2023-11-28T12:06:06.660758599Z"
    }
   },
   "id": "4af4b1a092e1226e"
  },
  {
   "cell_type": "code",
   "execution_count": 40,
   "outputs": [
    {
     "data": {
      "text/plain": "label\n15    201.0\n13     57.0\n0      57.0\n3      56.0\n5      54.0\n12     53.0\nName: count, dtype: float64"
     },
     "execution_count": 40,
     "metadata": {},
     "output_type": "execute_result"
    }
   ],
   "source": [
    "hbte.label.value_counts()/25"
   ],
   "metadata": {
    "collapsed": false,
    "ExecuteTime": {
     "end_time": "2023-11-28T12:06:06.747680503Z",
     "start_time": "2023-11-28T12:06:06.660841977Z"
    }
   },
   "id": "30174ae62420f549"
  },
  {
   "cell_type": "code",
   "execution_count": 41,
   "outputs": [],
   "source": [
    "combinedTrainingFrame = pd.concat((A3tr,A2tr,O3tr,egdtr,rsstr,hbtr),axis=0)"
   ],
   "metadata": {
    "collapsed": false,
    "ExecuteTime": {
     "end_time": "2023-11-28T12:06:06.748476244Z",
     "start_time": "2023-11-28T12:06:06.704586094Z"
    }
   },
   "id": "29150e53b1e0e152"
  },
  {
   "cell_type": "code",
   "execution_count": 42,
   "outputs": [
    {
     "data": {
      "text/plain": "label\n15    11430.0\n7      4874.0\n0      4847.0\n3      2876.0\n10     2701.0\n2      2636.0\n8      2195.0\n5      1876.0\n13     1569.0\n12     1365.0\n11      487.0\n6       389.0\n1       345.0\n4       226.0\n14      145.0\n9        93.0\nName: count, dtype: float64"
     },
     "execution_count": 42,
     "metadata": {},
     "output_type": "execute_result"
    }
   ],
   "source": [
    "combinedTrainingFrame['label'].value_counts()/25"
   ],
   "metadata": {
    "collapsed": false,
    "ExecuteTime": {
     "end_time": "2023-11-28T12:06:06.768671393Z",
     "start_time": "2023-11-28T12:06:06.704682800Z"
    }
   },
   "id": "c8824bb8cf315fd"
  },
  {
   "cell_type": "code",
   "execution_count": 43,
   "outputs": [],
   "source": [
    "combinedTestingFrame = pd.concat((A3te,A2te,O3te,egdte,rsste,hbte),axis=0)"
   ],
   "metadata": {
    "collapsed": false,
    "ExecuteTime": {
     "end_time": "2023-11-28T12:06:06.768829595Z",
     "start_time": "2023-11-28T12:06:06.704733577Z"
    }
   },
   "id": "c79c489c91dc5787"
  },
  {
   "cell_type": "code",
   "execution_count": 44,
   "outputs": [
    {
     "data": {
      "text/plain": "Empty DataFrame\nColumns: [ID, label, extra]\nIndex: []",
      "text/html": "<div>\n<style scoped>\n    .dataframe tbody tr th:only-of-type {\n        vertical-align: middle;\n    }\n\n    .dataframe tbody tr th {\n        vertical-align: top;\n    }\n\n    .dataframe thead th {\n        text-align: right;\n    }\n</style>\n<table border=\"1\" class=\"dataframe\">\n  <thead>\n    <tr style=\"text-align: right;\">\n      <th></th>\n      <th>ID</th>\n      <th>label</th>\n      <th>extra</th>\n    </tr>\n  </thead>\n  <tbody>\n  </tbody>\n</table>\n</div>"
     },
     "execution_count": 44,
     "metadata": {},
     "output_type": "execute_result"
    }
   ],
   "source": [
    "combinedTestingFrame[combinedTestingFrame['label']==-1]"
   ],
   "metadata": {
    "collapsed": false,
    "ExecuteTime": {
     "end_time": "2023-11-28T12:06:06.769172495Z",
     "start_time": "2023-11-28T12:06:06.705461359Z"
    }
   },
   "id": "e45129d7f58dc2b7"
  },
  {
   "cell_type": "code",
   "execution_count": 45,
   "outputs": [],
   "source": [
    "combinedTestingFrame = combinedTestingFrame[combinedTestingFrame['label']!=-1]"
   ],
   "metadata": {
    "collapsed": false,
    "ExecuteTime": {
     "end_time": "2023-11-28T12:06:06.783992021Z",
     "start_time": "2023-11-28T12:06:06.711527387Z"
    }
   },
   "id": "8cb7b3330b94c976"
  },
  {
   "cell_type": "code",
   "execution_count": 46,
   "outputs": [],
   "source": [
    "combinedTestingFrame['ID'] = combinedTestingFrame['ID'].apply(fixPath)\n",
    "combinedTrainingFrame['ID'] = combinedTrainingFrame['ID'].apply(fixPath)"
   ],
   "metadata": {
    "collapsed": false,
    "ExecuteTime": {
     "end_time": "2023-11-28T12:06:06.945903006Z",
     "start_time": "2023-11-28T12:06:06.752560754Z"
    }
   },
   "id": "76800c56e1a0a3ae"
  },
  {
   "cell_type": "code",
   "execution_count": 47,
   "outputs": [
    {
     "data": {
      "text/plain": "label\n15    1305.0\n0      557.0\n7      518.0\n3      353.0\n10     333.0\n2      303.0\n8      267.0\n5      221.0\n13     215.0\n12     171.0\n11      70.0\n6       48.0\n1       40.0\n4       30.0\n9       20.0\n14      16.0\nName: count, dtype: float64"
     },
     "execution_count": 47,
     "metadata": {},
     "output_type": "execute_result"
    }
   ],
   "source": [
    "combinedTestingFrame['label'].value_counts()/25"
   ],
   "metadata": {
    "collapsed": false,
    "ExecuteTime": {
     "end_time": "2023-11-28T12:06:06.996867776Z",
     "start_time": "2023-11-28T12:06:06.950700226Z"
    }
   },
   "id": "8c3f9eef6868d0f2"
  },
  {
   "cell_type": "code",
   "execution_count": 48,
   "outputs": [],
   "source": [
    "combinedTestingFrame.to_csv('CombinedTestingFrame_A2_A3_O3_egd_rss_hb.txt',header=False,index=False,sep='\\t')"
   ],
   "metadata": {
    "collapsed": false,
    "ExecuteTime": {
     "end_time": "2023-11-28T12:06:07.287277381Z",
     "start_time": "2023-11-28T12:06:06.996624190Z"
    }
   },
   "id": "7f44b306f048a962"
  },
  {
   "cell_type": "code",
   "execution_count": 49,
   "outputs": [],
   "source": [
    "combinedTrainingFrame.to_csv('CombinedTrainingFrame_A2_A3_O3_egd_rss_hb.txt',header=False,index=False,sep='\\t')"
   ],
   "metadata": {
    "collapsed": false,
    "ExecuteTime": {
     "end_time": "2023-11-28T12:06:10.410847232Z",
     "start_time": "2023-11-28T12:06:07.287914273Z"
    }
   },
   "id": "cc11d5fe4578164f"
  },
  {
   "cell_type": "code",
   "execution_count": 50,
   "outputs": [],
   "source": [
    "listToExclude = ['s0', 's1', 's2', 's3', 's4', 's20', 's21', 's22', 's23', 's24']\n",
    "\n",
    "\n",
    "def shouldStay(pathname):\n",
    "    slice = pathname.rsplit('__',1)[1].split('.nii.gz')[0]\n",
    "    return slice not in listToExclude\n",
    "\n",
    "\n",
    "combinedTestingFrame['keepslice'] = combinedTestingFrame['ID'].apply(shouldStay)\n",
    "combinedTrainingFrame['keepslice'] = combinedTrainingFrame['ID'].apply(shouldStay)"
   ],
   "metadata": {
    "collapsed": false,
    "ExecuteTime": {
     "end_time": "2023-11-28T12:06:10.909278630Z",
     "start_time": "2023-11-28T12:06:10.442316173Z"
    }
   },
   "id": "a698be51827077dc"
  },
  {
   "cell_type": "code",
   "execution_count": 51,
   "outputs": [
    {
     "data": {
      "text/plain": "                                                      ID  label  extra  \\\n0      /trinity/home/r098375/DDS/data/ADNI/ADNI3/trai...      3      0   \n1      /trinity/home/r098375/DDS/data/ADNI/ADNI3/trai...      3      0   \n2      /trinity/home/r098375/DDS/data/ADNI/ADNI3/trai...      7      0   \n3      /trinity/home/r098375/DDS/data/ADNI/ADNI3/trai...      0      0   \n4      /trinity/home/r098375/DDS/data/ADNI/ADNI3/trai...      3      0   \n...                                                  ...    ...    ...   \n88370  /data/scratch/r098375/data/HeartBrain/NIFTI_SL...     15      0   \n88371  /data/scratch/r098375/data/HeartBrain/NIFTI_SL...     15      0   \n88372  /data/scratch/r098375/data/HeartBrain/NIFTI_SL...     15      0   \n88373  /data/scratch/r098375/data/HeartBrain/NIFTI_SL...     15      0   \n88374  /data/scratch/r098375/data/HeartBrain/NIFTI_SL...     15      0   \n\n       keepslice  \n0           True  \n1          False  \n2           True  \n3           True  \n4           True  \n...          ...  \n88370       True  \n88371       True  \n88372       True  \n88373      False  \n88374      False  \n\n[951350 rows x 4 columns]",
      "text/html": "<div>\n<style scoped>\n    .dataframe tbody tr th:only-of-type {\n        vertical-align: middle;\n    }\n\n    .dataframe tbody tr th {\n        vertical-align: top;\n    }\n\n    .dataframe thead th {\n        text-align: right;\n    }\n</style>\n<table border=\"1\" class=\"dataframe\">\n  <thead>\n    <tr style=\"text-align: right;\">\n      <th></th>\n      <th>ID</th>\n      <th>label</th>\n      <th>extra</th>\n      <th>keepslice</th>\n    </tr>\n  </thead>\n  <tbody>\n    <tr>\n      <th>0</th>\n      <td>/trinity/home/r098375/DDS/data/ADNI/ADNI3/trai...</td>\n      <td>3</td>\n      <td>0</td>\n      <td>True</td>\n    </tr>\n    <tr>\n      <th>1</th>\n      <td>/trinity/home/r098375/DDS/data/ADNI/ADNI3/trai...</td>\n      <td>3</td>\n      <td>0</td>\n      <td>False</td>\n    </tr>\n    <tr>\n      <th>2</th>\n      <td>/trinity/home/r098375/DDS/data/ADNI/ADNI3/trai...</td>\n      <td>7</td>\n      <td>0</td>\n      <td>True</td>\n    </tr>\n    <tr>\n      <th>3</th>\n      <td>/trinity/home/r098375/DDS/data/ADNI/ADNI3/trai...</td>\n      <td>0</td>\n      <td>0</td>\n      <td>True</td>\n    </tr>\n    <tr>\n      <th>4</th>\n      <td>/trinity/home/r098375/DDS/data/ADNI/ADNI3/trai...</td>\n      <td>3</td>\n      <td>0</td>\n      <td>True</td>\n    </tr>\n    <tr>\n      <th>...</th>\n      <td>...</td>\n      <td>...</td>\n      <td>...</td>\n      <td>...</td>\n    </tr>\n    <tr>\n      <th>88370</th>\n      <td>/data/scratch/r098375/data/HeartBrain/NIFTI_SL...</td>\n      <td>15</td>\n      <td>0</td>\n      <td>True</td>\n    </tr>\n    <tr>\n      <th>88371</th>\n      <td>/data/scratch/r098375/data/HeartBrain/NIFTI_SL...</td>\n      <td>15</td>\n      <td>0</td>\n      <td>True</td>\n    </tr>\n    <tr>\n      <th>88372</th>\n      <td>/data/scratch/r098375/data/HeartBrain/NIFTI_SL...</td>\n      <td>15</td>\n      <td>0</td>\n      <td>True</td>\n    </tr>\n    <tr>\n      <th>88373</th>\n      <td>/data/scratch/r098375/data/HeartBrain/NIFTI_SL...</td>\n      <td>15</td>\n      <td>0</td>\n      <td>False</td>\n    </tr>\n    <tr>\n      <th>88374</th>\n      <td>/data/scratch/r098375/data/HeartBrain/NIFTI_SL...</td>\n      <td>15</td>\n      <td>0</td>\n      <td>False</td>\n    </tr>\n  </tbody>\n</table>\n<p>951350 rows × 4 columns</p>\n</div>"
     },
     "execution_count": 51,
     "metadata": {},
     "output_type": "execute_result"
    }
   ],
   "source": [
    "combinedTrainingFrame"
   ],
   "metadata": {
    "collapsed": false,
    "ExecuteTime": {
     "end_time": "2023-11-28T12:06:10.916791016Z",
     "start_time": "2023-11-28T12:06:10.912876565Z"
    }
   },
   "id": "cf786e86f080b537"
  },
  {
   "cell_type": "code",
   "execution_count": 52,
   "outputs": [],
   "source": [
    "combinedTestingFrame[combinedTestingFrame['keepslice']][['ID','label','extra']].reset_index(drop=True).to_csv('CombinedTestingFrame_A2_A3_O3_egd_rss_hb_pruned.txt', header=False, index=False, sep='\\t')\n",
    "combinedTrainingFrame[combinedTrainingFrame['keepslice']][['ID','label','extra']].reset_index(drop=True).to_csv('CombinedTrainingFrame_A2_A3_O3_egd_rss_hb_pruned.txt', header=False, index=False, sep='\\t')"
   ],
   "metadata": {
    "collapsed": false,
    "ExecuteTime": {
     "end_time": "2023-11-28T12:06:13.012366143Z",
     "start_time": "2023-11-28T12:06:10.917717587Z"
    }
   },
   "id": "eafe7f995cc24471"
  },
  {
   "cell_type": "code",
   "execution_count": 52,
   "outputs": [],
   "source": [],
   "metadata": {
    "collapsed": false,
    "ExecuteTime": {
     "end_time": "2023-11-28T12:06:13.016086497Z",
     "start_time": "2023-11-28T12:06:13.014735880Z"
    }
   },
   "id": "42c874c547b2a9e4"
  }
 ],
 "metadata": {
  "kernelspec": {
   "display_name": "Python 3",
   "language": "python",
   "name": "python3"
  },
  "language_info": {
   "codemirror_mode": {
    "name": "ipython",
    "version": 2
   },
   "file_extension": ".py",
   "mimetype": "text/x-python",
   "name": "python",
   "nbconvert_exporter": "python",
   "pygments_lexer": "ipython2",
   "version": "2.7.6"
  }
 },
 "nbformat": 4,
 "nbformat_minor": 5
}
