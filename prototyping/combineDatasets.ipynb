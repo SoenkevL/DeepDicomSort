{
 "cells": [
  {
   "cell_type": "code",
   "execution_count": 2,
   "id": "initial_id",
   "metadata": {
    "collapsed": true,
    "ExecuteTime": {
     "end_time": "2023-11-06T13:34:53.495686080Z",
     "start_time": "2023-11-06T13:34:53.244051001Z"
    }
   },
   "outputs": [],
   "source": [
    "import pandas as pd\n",
    "import os\n",
    "import pprint"
   ]
  },
  {
   "cell_type": "code",
   "execution_count": 4,
   "outputs": [],
   "source": [
    "A2tr = pd.read_csv('ADNI/Adni2_trainLabels_extensive2.txt',names=['ID','label','extra'],sep='\\t', dtype={'ID':str,'label':int,'extra':int})\n",
    "A2te = pd.read_csv('ADNI/Adni2_testLabels_extensive2.txt',names=['ID','label','extra'],sep='\\t', dtype={'ID':str,'label':int,'extra':int})\n",
    "A3tr = pd.read_csv('ADNI/Adni3_trainLabels_extensive2.txt',names=['ID','label','extra'],sep='\\t',low_memory=False, dtype={'ID':str,'label':int,'extra':int})\n",
    "A3te = pd.read_csv('ADNI/Adni3_testLabels_extensive2.txt',names=['ID','label','extra'],sep='\\t', dtype={'ID':str,'label':int,'extra':int})\n",
    "O3tr = pd.read_csv('OASIS/Oasis3_trainLabels_extensive2.txt',names=['ID','label','extra'],sep='\\t',low_memory=False,dtype={'ID':str,'label':int,'extra':int})\n",
    "O3te = pd.read_csv('OASIS/Oasis3_testLabels_extensive2.txt',names=['ID','label','extra'],sep='\\t', dtype={'ID':str,'label':int,'extra':int})\n",
    "egdtr = pd.read_csv('egd/egd_trainLabels_extensive2.txt',names=['ID','label','extra'],sep='\\t', dtype={'ID':str,'label':int,'extra':int})\n",
    "egdte = pd.read_csv('egd/egd_testLabels_extensive2.txt',names=['ID','label','extra'],sep='\\t', dtype={'ID':str,'label':int,'extra':int})\n",
    "rsstr = pd.read_csv('RSS/RSS_trainLabels_extensive2.txt',names=['ID','label','extra'],sep='\\t', dtype={'ID':str,'label':int,'extra':int})\n",
    "rsste = pd.read_csv('RSS/RSS_testLabels_extensive2.txt',names=['ID','label','extra'],sep='\\t', dtype={'ID':str,'label':int,'extra':int})\n",
    "hbtr = pd.read_csv('heartbrain/HeartBrain_trainLabels_extensive2.txt',names=['ID','label','extra'],sep='\\t', dtype={'ID':str,'label':int,'extra':int})\n",
    "hbte = pd.read_csv('heartbrain/HeartBrain_testLabels_extensive2.txt',names=['ID','label','extra'],sep='\\t', dtype={'ID':str,'label':int,'extra':int})"
   ],
   "metadata": {
    "collapsed": false,
    "ExecuteTime": {
     "end_time": "2023-11-06T13:35:07.514483959Z",
     "start_time": "2023-11-06T13:35:05.697774678Z"
    }
   },
   "id": "957cb2dcdc5b9aa9"
  },
  {
   "cell_type": "code",
   "execution_count": 5,
   "outputs": [],
   "source": [
    "appendstring = '/trinity/home/r098375/DDS/'\n",
    "def fixPath(ID):\n",
    "    if not 'r098375' in ID:\n",
    "        return appendstring+ID\n",
    "    return ID\n"
   ],
   "metadata": {
    "collapsed": false,
    "ExecuteTime": {
     "end_time": "2023-11-06T13:35:20.815194891Z",
     "start_time": "2023-11-06T13:35:20.773251870Z"
    }
   },
   "id": "cdfc23b194747eba"
  },
  {
   "cell_type": "code",
   "execution_count": 6,
   "outputs": [
    {
     "data": {
      "text/plain": "label\n2    197.0\n5    197.0\nName: count, dtype: float64"
     },
     "execution_count": 6,
     "metadata": {},
     "output_type": "execute_result"
    }
   ],
   "source": [
    "A2tr['label'].value_counts()/25"
   ],
   "metadata": {
    "collapsed": false,
    "ExecuteTime": {
     "end_time": "2023-11-06T13:35:35.734213085Z",
     "start_time": "2023-11-06T13:35:35.730312889Z"
    }
   },
   "id": "7c72ec0ebde8549b"
  },
  {
   "cell_type": "code",
   "execution_count": 7,
   "outputs": [
    {
     "data": {
      "text/plain": "label\n5    28.0\n2    28.0\nName: count, dtype: float64"
     },
     "execution_count": 7,
     "metadata": {},
     "output_type": "execute_result"
    }
   ],
   "source": [
    "A2te['label'].value_counts()/25"
   ],
   "metadata": {
    "collapsed": false,
    "ExecuteTime": {
     "end_time": "2023-11-06T13:35:38.018753034Z",
     "start_time": "2023-11-06T13:35:38.013151045Z"
    }
   },
   "id": "f06b3dbea55d514a"
  },
  {
   "cell_type": "code",
   "execution_count": 8,
   "outputs": [
    {
     "data": {
      "text/plain": "label\n17    5237.0\n8     3605.0\n0     2088.0\n15    1822.0\n3     1797.0\n13     874.0\n14     328.0\n16      74.0\n6       14.0\n5        2.0\nName: count, dtype: float64"
     },
     "execution_count": 8,
     "metadata": {},
     "output_type": "execute_result"
    }
   ],
   "source": [
    "A3tr['label'].value_counts()/25"
   ],
   "metadata": {
    "collapsed": false,
    "ExecuteTime": {
     "end_time": "2023-11-06T13:35:39.177176538Z",
     "start_time": "2023-11-06T13:35:39.149233872Z"
    }
   },
   "id": "893154bc5935ec9f"
  },
  {
   "cell_type": "code",
   "execution_count": 9,
   "outputs": [
    {
     "data": {
      "text/plain": "label\n17    558.0\n8     373.0\n0     238.0\n3     216.0\n15    197.0\n13     97.0\n14     49.0\n16      8.0\n6       3.0\nName: count, dtype: float64"
     },
     "execution_count": 9,
     "metadata": {},
     "output_type": "execute_result"
    }
   ],
   "source": [
    "A3te['label'].value_counts()/25"
   ],
   "metadata": {
    "collapsed": false,
    "ExecuteTime": {
     "end_time": "2023-11-06T13:35:42.965359794Z",
     "start_time": "2023-11-06T13:35:42.934716319Z"
    }
   },
   "id": "ac8e2d10f093f8a6"
  },
  {
   "cell_type": "code",
   "execution_count": 10,
   "outputs": [
    {
     "data": {
      "text/plain": "label\n17    4757.0\n11    2686.0\n2     2229.0\n0     2160.0\n9     1793.0\n8     1269.0\n14     832.0\n7      778.0\n6      731.0\n3      676.0\n12     487.0\nName: count, dtype: float64"
     },
     "execution_count": 10,
     "metadata": {},
     "output_type": "execute_result"
    }
   ],
   "source": [
    "O3tr['label'].value_counts()/25"
   ],
   "metadata": {
    "collapsed": false,
    "ExecuteTime": {
     "end_time": "2023-11-06T13:35:43.749660977Z",
     "start_time": "2023-11-06T13:35:43.706108179Z"
    }
   },
   "id": "6091194f5c6815cb"
  },
  {
   "cell_type": "code",
   "execution_count": 11,
   "outputs": [
    {
     "data": {
      "text/plain": "label\n17    563.0\n11    331.0\n2     254.0\n0     230.0\n9     216.0\n8     145.0\n14    108.0\n7      96.0\n6      81.0\n3      81.0\n12     70.0\nName: count, dtype: float64"
     },
     "execution_count": 11,
     "metadata": {},
     "output_type": "execute_result"
    }
   ],
   "source": [
    "O3te['label'].value_counts()/25"
   ],
   "metadata": {
    "collapsed": false,
    "ExecuteTime": {
     "end_time": "2023-11-06T13:35:44.420524393Z",
     "start_time": "2023-11-06T13:35:44.416580585Z"
    }
   },
   "id": "a2a1573575ab734c"
  },
  {
   "cell_type": "code",
   "execution_count": 13,
   "outputs": [
    {
     "data": {
      "text/plain": "label\n17    140.0\n16     70.0\n5      24.0\n0      23.0\n3      20.0\n6      17.0\n11     15.0\n14      6.0\nName: count, dtype: float64"
     },
     "execution_count": 13,
     "metadata": {},
     "output_type": "execute_result"
    }
   ],
   "source": [
    "rsstr['label'].value_counts()/25"
   ],
   "metadata": {
    "collapsed": false,
    "ExecuteTime": {
     "end_time": "2023-11-06T13:35:54.972012153Z",
     "start_time": "2023-11-06T13:35:54.930776815Z"
    }
   },
   "id": "515021f503dc1b2c"
  },
  {
   "cell_type": "code",
   "execution_count": 14,
   "outputs": [
    {
     "data": {
      "text/plain": "label\n16    8.0\n17    6.0\n6     2.0\n3     2.0\n0     2.0\n5     2.0\n11    2.0\nName: count, dtype: float64"
     },
     "execution_count": 14,
     "metadata": {},
     "output_type": "execute_result"
    }
   ],
   "source": [
    "rsste['label'].value_counts()/25"
   ],
   "metadata": {
    "collapsed": false,
    "ExecuteTime": {
     "end_time": "2023-11-06T13:37:21.168390290Z",
     "start_time": "2023-11-06T13:37:21.126508610Z"
    }
   },
   "id": "58326af1845a6cbe"
  },
  {
   "cell_type": "code",
   "execution_count": 15,
   "outputs": [
    {
     "data": {
      "text/plain": "label\n17    743.0\n13    248.0\n14    211.0\n3     210.0\n6     190.0\n0     171.0\n15    111.0\nName: count, dtype: float64"
     },
     "execution_count": 15,
     "metadata": {},
     "output_type": "execute_result"
    }
   ],
   "source": [
    "hbtr.label.value_counts()/25"
   ],
   "metadata": {
    "collapsed": false,
    "ExecuteTime": {
     "end_time": "2023-11-06T13:37:47.317519269Z",
     "start_time": "2023-11-06T13:37:47.308064075Z"
    }
   },
   "id": "ddc7b3ec43e9c8f5"
  },
  {
   "cell_type": "code",
   "execution_count": 16,
   "outputs": [
    {
     "data": {
      "text/plain": "label\n17    87.0\n13    33.0\n14    31.0\n6     25.0\n3     24.0\n15    15.0\n0     13.0\nName: count, dtype: float64"
     },
     "execution_count": 16,
     "metadata": {},
     "output_type": "execute_result"
    }
   ],
   "source": [
    "hbte.label.value_counts()/25"
   ],
   "metadata": {
    "collapsed": false,
    "ExecuteTime": {
     "end_time": "2023-11-06T13:38:01.820294133Z",
     "start_time": "2023-11-06T13:38:01.798283035Z"
    }
   },
   "id": "30174ae62420f549"
  },
  {
   "cell_type": "code",
   "execution_count": 17,
   "outputs": [],
   "source": [
    "combinedTrainingFrame = pd.concat((A3tr,A2tr,O3tr,egdtr,rsstr,hbtr),axis=0)"
   ],
   "metadata": {
    "collapsed": false,
    "ExecuteTime": {
     "end_time": "2023-11-06T13:38:22.685110393Z",
     "start_time": "2023-11-06T13:38:22.608712520Z"
    }
   },
   "id": "29150e53b1e0e152"
  },
  {
   "cell_type": "code",
   "execution_count": 18,
   "outputs": [
    {
     "data": {
      "text/plain": "label\n17    10902.0\n8      4874.0\n0      4698.0\n3      2906.0\n11     2701.0\n2      2656.0\n9      2128.0\n15     1933.0\n14     1377.0\n13     1332.0\n6       952.0\n7       778.0\n12      487.0\n1       340.0\n5       223.0\n16      144.0\n10       89.0\nName: count, dtype: float64"
     },
     "execution_count": 18,
     "metadata": {},
     "output_type": "execute_result"
    }
   ],
   "source": [
    "combinedTrainingFrame['label'].value_counts()/25"
   ],
   "metadata": {
    "collapsed": false,
    "ExecuteTime": {
     "end_time": "2023-11-06T13:38:23.737059589Z",
     "start_time": "2023-11-06T13:38:23.716052431Z"
    }
   },
   "id": "c8824bb8cf315fd"
  },
  {
   "cell_type": "code",
   "execution_count": 19,
   "outputs": [],
   "source": [
    "combinedTestingFrame = pd.concat((A3te,A2te,O3te,egdte,rsste,hbte),axis=0)"
   ],
   "metadata": {
    "collapsed": false,
    "ExecuteTime": {
     "end_time": "2023-11-06T13:39:09.418114083Z",
     "start_time": "2023-11-06T13:39:09.345820662Z"
    }
   },
   "id": "c79c489c91dc5787"
  },
  {
   "cell_type": "code",
   "execution_count": 20,
   "outputs": [
    {
     "data": {
      "text/plain": "Empty DataFrame\nColumns: [ID, label, extra]\nIndex: []",
      "text/html": "<div>\n<style scoped>\n    .dataframe tbody tr th:only-of-type {\n        vertical-align: middle;\n    }\n\n    .dataframe tbody tr th {\n        vertical-align: top;\n    }\n\n    .dataframe thead th {\n        text-align: right;\n    }\n</style>\n<table border=\"1\" class=\"dataframe\">\n  <thead>\n    <tr style=\"text-align: right;\">\n      <th></th>\n      <th>ID</th>\n      <th>label</th>\n      <th>extra</th>\n    </tr>\n  </thead>\n  <tbody>\n  </tbody>\n</table>\n</div>"
     },
     "execution_count": 20,
     "metadata": {},
     "output_type": "execute_result"
    }
   ],
   "source": [
    "combinedTestingFrame[combinedTestingFrame['label']==-1]"
   ],
   "metadata": {
    "collapsed": false,
    "ExecuteTime": {
     "end_time": "2023-11-06T13:39:10.030156285Z",
     "start_time": "2023-11-06T13:39:10.023646388Z"
    }
   },
   "id": "e45129d7f58dc2b7"
  },
  {
   "cell_type": "code",
   "execution_count": 21,
   "outputs": [],
   "source": [
    "combinedTestingFrame = combinedTestingFrame[combinedTestingFrame['label']!=-1]"
   ],
   "metadata": {
    "collapsed": false,
    "ExecuteTime": {
     "end_time": "2023-11-06T13:39:24.823521661Z",
     "start_time": "2023-11-06T13:39:24.782733154Z"
    }
   },
   "id": "8cb7b3330b94c976"
  },
  {
   "cell_type": "code",
   "execution_count": 22,
   "outputs": [],
   "source": [
    "combinedTestingFrame['ID'] = combinedTestingFrame['ID'].apply(fixPath)\n",
    "combinedTrainingFrame['ID'] = combinedTrainingFrame['ID'].apply(fixPath)"
   ],
   "metadata": {
    "collapsed": false,
    "ExecuteTime": {
     "end_time": "2023-11-06T13:39:25.500627453Z",
     "start_time": "2023-11-06T13:39:25.259578664Z"
    }
   },
   "id": "76800c56e1a0a3ae"
  },
  {
   "cell_type": "code",
   "execution_count": 23,
   "outputs": [
    {
     "data": {
      "text/plain": "label\n17    1220.0\n8      518.0\n0      514.0\n3      353.0\n11     333.0\n2      309.0\n9      243.0\n15     212.0\n14     188.0\n13     180.0\n6      111.0\n7       96.0\n12      70.0\n1       39.0\n5       30.0\n10      20.0\n16      16.0\nName: count, dtype: float64"
     },
     "execution_count": 23,
     "metadata": {},
     "output_type": "execute_result"
    }
   ],
   "source": [
    "combinedTestingFrame['label'].value_counts()/25"
   ],
   "metadata": {
    "collapsed": false,
    "ExecuteTime": {
     "end_time": "2023-11-06T13:39:25.940980876Z",
     "start_time": "2023-11-06T13:39:25.934544142Z"
    }
   },
   "id": "8c3f9eef6868d0f2"
  },
  {
   "cell_type": "code",
   "execution_count": 24,
   "outputs": [],
   "source": [
    "combinedTestingFrame.to_csv('CombinedTestingFrame_A2_A3_O3_egd_rss_hb.txt',header=False,index=False,sep='\\t')"
   ],
   "metadata": {
    "collapsed": false,
    "ExecuteTime": {
     "end_time": "2023-11-06T13:40:11.540608517Z",
     "start_time": "2023-11-06T13:40:11.180304573Z"
    }
   },
   "id": "7f44b306f048a962"
  },
  {
   "cell_type": "code",
   "execution_count": 25,
   "outputs": [],
   "source": [
    "combinedTrainingFrame.to_csv('CombinedTrainingFrame_A2_A3_O3_egd_rss_hb.txt',header=False,index=False,sep='\\t')"
   ],
   "metadata": {
    "collapsed": false,
    "ExecuteTime": {
     "end_time": "2023-11-06T13:40:14.544267809Z",
     "start_time": "2023-11-06T13:40:11.542735845Z"
    }
   },
   "id": "cc11d5fe4578164f"
  },
  {
   "cell_type": "code",
   "execution_count": 26,
   "outputs": [],
   "source": [
    "listToExclude = ['s0', 's1', 's2', 's3', 's4', 's20', 's21', 's22', 's23', 's24']\n",
    "\n",
    "\n",
    "def shouldStay(pathname):\n",
    "    slice = pathname.split('__')[-1].split('.nii.gz')[0]\n",
    "    return slice not in listToExclude\n",
    "\n",
    "\n",
    "combinedTestingFrame['keepslice'] = combinedTestingFrame['ID'].apply(shouldStay)\n",
    "combinedTrainingFrame['keepslice'] = combinedTrainingFrame['ID'].apply(shouldStay)"
   ],
   "metadata": {
    "collapsed": false,
    "ExecuteTime": {
     "end_time": "2023-11-06T13:59:08.857946214Z",
     "start_time": "2023-11-06T13:59:08.232734811Z"
    }
   },
   "id": "a698be51827077dc"
  },
  {
   "cell_type": "code",
   "execution_count": 27,
   "outputs": [
    {
     "data": {
      "text/plain": "                                                      ID  label  extra  \\\n0      /trinity/home/r098375/DDS/data/ADNI/ADNI3/trai...      3      0   \n1      /trinity/home/r098375/DDS/data/ADNI/ADNI3/trai...      3      0   \n2      /trinity/home/r098375/DDS/data/ADNI/ADNI3/trai...      8      0   \n3      /trinity/home/r098375/DDS/data/ADNI/ADNI3/trai...     15      0   \n4      /trinity/home/r098375/DDS/data/ADNI/ADNI3/trai...      0      0   \n...                                                  ...    ...    ...   \n47095  /trinity/home/r098375/DDS/NIFTI_SLICES/7412286...     17      0   \n47096  /trinity/home/r098375/DDS/NIFTI_SLICES/7412286...     17      0   \n47097  /trinity/home/r098375/DDS/NIFTI_SLICES/7412286...     17      0   \n47098  /trinity/home/r098375/DDS/NIFTI_SLICES/7412286...     17      0   \n47099  /trinity/home/r098375/DDS/NIFTI_SLICES/7412286...     17      0   \n\n       keepslice  \n0           True  \n1          False  \n2           True  \n3           True  \n4           True  \n...          ...  \n47095       True  \n47096       True  \n47097       True  \n47098       True  \n47099       True  \n\n[963000 rows x 4 columns]",
      "text/html": "<div>\n<style scoped>\n    .dataframe tbody tr th:only-of-type {\n        vertical-align: middle;\n    }\n\n    .dataframe tbody tr th {\n        vertical-align: top;\n    }\n\n    .dataframe thead th {\n        text-align: right;\n    }\n</style>\n<table border=\"1\" class=\"dataframe\">\n  <thead>\n    <tr style=\"text-align: right;\">\n      <th></th>\n      <th>ID</th>\n      <th>label</th>\n      <th>extra</th>\n      <th>keepslice</th>\n    </tr>\n  </thead>\n  <tbody>\n    <tr>\n      <th>0</th>\n      <td>/trinity/home/r098375/DDS/data/ADNI/ADNI3/trai...</td>\n      <td>3</td>\n      <td>0</td>\n      <td>True</td>\n    </tr>\n    <tr>\n      <th>1</th>\n      <td>/trinity/home/r098375/DDS/data/ADNI/ADNI3/trai...</td>\n      <td>3</td>\n      <td>0</td>\n      <td>False</td>\n    </tr>\n    <tr>\n      <th>2</th>\n      <td>/trinity/home/r098375/DDS/data/ADNI/ADNI3/trai...</td>\n      <td>8</td>\n      <td>0</td>\n      <td>True</td>\n    </tr>\n    <tr>\n      <th>3</th>\n      <td>/trinity/home/r098375/DDS/data/ADNI/ADNI3/trai...</td>\n      <td>15</td>\n      <td>0</td>\n      <td>True</td>\n    </tr>\n    <tr>\n      <th>4</th>\n      <td>/trinity/home/r098375/DDS/data/ADNI/ADNI3/trai...</td>\n      <td>0</td>\n      <td>0</td>\n      <td>True</td>\n    </tr>\n    <tr>\n      <th>...</th>\n      <td>...</td>\n      <td>...</td>\n      <td>...</td>\n      <td>...</td>\n    </tr>\n    <tr>\n      <th>47095</th>\n      <td>/trinity/home/r098375/DDS/NIFTI_SLICES/7412286...</td>\n      <td>17</td>\n      <td>0</td>\n      <td>True</td>\n    </tr>\n    <tr>\n      <th>47096</th>\n      <td>/trinity/home/r098375/DDS/NIFTI_SLICES/7412286...</td>\n      <td>17</td>\n      <td>0</td>\n      <td>True</td>\n    </tr>\n    <tr>\n      <th>47097</th>\n      <td>/trinity/home/r098375/DDS/NIFTI_SLICES/7412286...</td>\n      <td>17</td>\n      <td>0</td>\n      <td>True</td>\n    </tr>\n    <tr>\n      <th>47098</th>\n      <td>/trinity/home/r098375/DDS/NIFTI_SLICES/7412286...</td>\n      <td>17</td>\n      <td>0</td>\n      <td>True</td>\n    </tr>\n    <tr>\n      <th>47099</th>\n      <td>/trinity/home/r098375/DDS/NIFTI_SLICES/7412286...</td>\n      <td>17</td>\n      <td>0</td>\n      <td>True</td>\n    </tr>\n  </tbody>\n</table>\n<p>963000 rows × 4 columns</p>\n</div>"
     },
     "execution_count": 27,
     "metadata": {},
     "output_type": "execute_result"
    }
   ],
   "source": [
    "combinedTrainingFrame"
   ],
   "metadata": {
    "collapsed": false,
    "ExecuteTime": {
     "end_time": "2023-11-06T13:59:15.395693780Z",
     "start_time": "2023-11-06T13:59:15.378525590Z"
    }
   },
   "id": "cf786e86f080b537"
  },
  {
   "cell_type": "code",
   "execution_count": 30,
   "outputs": [],
   "source": [
    "combinedTestingFrame[combinedTestingFrame['keepslice']].reset_index().to_csv('CombinedTestingFrame_A2_A3_O3_egd_rss_hb_pruned.txt', header=False, index=False, sep='\\t')\n",
    "combinedTrainingFrame[combinedTrainingFrame['keepslice']].reset_index().to_csv('CombinedTrainingFrame_A2_A3_O3_egd_rss_hb_pruned.txt', header=False, index=False, sep='\\t')"
   ],
   "metadata": {
    "collapsed": false,
    "ExecuteTime": {
     "end_time": "2023-11-06T14:04:18.116386207Z",
     "start_time": "2023-11-06T14:04:16.000754561Z"
    }
   },
   "id": "eafe7f995cc24471"
  },
  {
   "cell_type": "code",
   "execution_count": null,
   "outputs": [],
   "source": [],
   "metadata": {
    "collapsed": false
   },
   "id": "42c874c547b2a9e4"
  }
 ],
 "metadata": {
  "kernelspec": {
   "display_name": "Python 3",
   "language": "python",
   "name": "python3"
  },
  "language_info": {
   "codemirror_mode": {
    "name": "ipython",
    "version": 2
   },
   "file_extension": ".py",
   "mimetype": "text/x-python",
   "name": "python",
   "nbconvert_exporter": "python",
   "pygments_lexer": "ipython2",
   "version": "2.7.6"
  }
 },
 "nbformat": 4,
 "nbformat_minor": 5
}
