{
 "cells": [
  {
   "cell_type": "code",
   "execution_count": 45,
   "id": "initial_id",
   "metadata": {
    "collapsed": true,
    "ExecuteTime": {
     "end_time": "2023-10-18T07:51:49.651729242Z",
     "start_time": "2023-10-18T07:51:49.544204768Z"
    }
   },
   "outputs": [],
   "source": [
    "import pandas as pd\n",
    "import os\n",
    "import pprint"
   ]
  },
  {
   "cell_type": "code",
   "execution_count": 65,
   "outputs": [],
   "source": [
    "A2tr = pd.read_csv('Adni2_trainLabels_extensive2.txt',names=['ID','label','extra'],sep='\\t', dtype={'ID':str,'label':int,'extra':int})\n",
    "A2te = pd.read_csv('Adni2_testLabels_extensive2.txt',names=['ID','label','extra'],sep='\\t', dtype={'ID':str,'label':int,'extra':int})\n",
    "A3tr = pd.read_csv('Adni3_trainLabels_extensive2.txt',names=['ID','label','extra'],sep='\\t',low_memory=False, dtype={'ID':str,'label':int,'extra':int})\n",
    "A3te = pd.read_csv('Adni3_testLabels_extensive2.txt',names=['ID','label','extra'],sep='\\t', dtype={'ID':str,'label':int,'extra':int})\n",
    "O3tr = pd.read_csv('Oasis3_trainLabels_extensive2.txt',names=['ID','label','extra'],sep='\\t',low_memory=False,dtype={'ID':str,'label':int,'extra':int})\n",
    "O3te = pd.read_csv('Oasis3_testLabels_extensive2.txt',names=['ID','label','extra'],sep='\\t', dtype={'ID':str,'label':int,'extra':int})\n",
    "egdtr = pd.read_csv('egd_trainLabels_extensive2.txt',names=['ID','label','extra'],sep='\\t', dtype={'ID':str,'label':int,'extra':int})\n",
    "egdte = pd.read_csv('egd_testLabels_extensive2.txt',names=['ID','label','extra'],sep='\\t', dtype={'ID':str,'label':int,'extra':int})"
   ],
   "metadata": {
    "collapsed": false,
    "ExecuteTime": {
     "end_time": "2023-10-18T12:29:25.790641870Z",
     "start_time": "2023-10-18T12:29:23.405153614Z"
    }
   },
   "id": "957cb2dcdc5b9aa9"
  },
  {
   "cell_type": "code",
   "execution_count": 47,
   "outputs": [],
   "source": [
    "# x = pd.read_csv('CombinedTestingFrame_A2_A3_O3.txt',names=['ID','label','extra'],sep='\\t', dtype={'ID':str,'label':int,'extra':int})"
   ],
   "metadata": {
    "collapsed": false,
    "ExecuteTime": {
     "end_time": "2023-10-18T07:51:50.979790077Z",
     "start_time": "2023-10-18T07:51:50.936141046Z"
    }
   },
   "id": "c80982300ff775f0"
  },
  {
   "cell_type": "code",
   "execution_count": 48,
   "outputs": [],
   "source": [
    "appendstring = '/trinity/home/r098375/DDS/'\n",
    "def fixPath(ID):\n",
    "    if not 'trinity' in ID:\n",
    "        return appendstring+ID\n",
    "    return ID\n"
   ],
   "metadata": {
    "collapsed": false,
    "ExecuteTime": {
     "end_time": "2023-10-18T07:51:50.980021870Z",
     "start_time": "2023-10-18T07:51:50.979597737Z"
    }
   },
   "id": "cdfc23b194747eba"
  },
  {
   "cell_type": "code",
   "execution_count": 49,
   "outputs": [],
   "source": [
    "# x.to_csv('CombinedTestingFrame_A2_A3_O3.txt',header=False,index=False,sep='\\t')"
   ],
   "metadata": {
    "collapsed": false,
    "ExecuteTime": {
     "end_time": "2023-10-18T07:51:50.980180064Z",
     "start_time": "2023-10-18T07:51:50.979747340Z"
    }
   },
   "id": "97e7c08a5f3c54c7"
  },
  {
   "cell_type": "code",
   "execution_count": 50,
   "outputs": [
    {
     "data": {
      "text/plain": "label\n2    197.0\n5    197.0\nName: count, dtype: float64"
     },
     "execution_count": 50,
     "metadata": {},
     "output_type": "execute_result"
    }
   ],
   "source": [
    "A2tr['label'].value_counts()/25"
   ],
   "metadata": {
    "collapsed": false,
    "ExecuteTime": {
     "end_time": "2023-10-18T07:51:50.981693486Z",
     "start_time": "2023-10-18T07:51:50.979882315Z"
    }
   },
   "id": "7c72ec0ebde8549b"
  },
  {
   "cell_type": "code",
   "execution_count": 51,
   "outputs": [
    {
     "data": {
      "text/plain": "label\n5    28.0\n2    28.0\nName: count, dtype: float64"
     },
     "execution_count": 51,
     "metadata": {},
     "output_type": "execute_result"
    }
   ],
   "source": [
    "A2te['label'].value_counts()/25"
   ],
   "metadata": {
    "collapsed": false,
    "ExecuteTime": {
     "end_time": "2023-10-18T07:51:50.982019270Z",
     "start_time": "2023-10-18T07:51:50.979983627Z"
    }
   },
   "id": "f06b3dbea55d514a"
  },
  {
   "cell_type": "code",
   "execution_count": 52,
   "outputs": [
    {
     "data": {
      "text/plain": "label\n17    5237.0\n8     3605.0\n0     2088.0\n15    1822.0\n3     1797.0\n13     874.0\n14     328.0\n16      74.0\n6       14.0\n5        2.0\nName: count, dtype: float64"
     },
     "execution_count": 52,
     "metadata": {},
     "output_type": "execute_result"
    }
   ],
   "source": [
    "A3tr['label'].value_counts()/25"
   ],
   "metadata": {
    "collapsed": false,
    "ExecuteTime": {
     "end_time": "2023-10-18T07:51:51.027455682Z",
     "start_time": "2023-10-18T07:51:50.980089601Z"
    }
   },
   "id": "893154bc5935ec9f"
  },
  {
   "cell_type": "code",
   "execution_count": 53,
   "outputs": [
    {
     "data": {
      "text/plain": "label\n17    558.0\n8     373.0\n0     238.0\n3     216.0\n15    197.0\n13     97.0\n14     49.0\n16      8.0\n6       3.0\nName: count, dtype: float64"
     },
     "execution_count": 53,
     "metadata": {},
     "output_type": "execute_result"
    }
   ],
   "source": [
    "A3te['label'].value_counts()/25"
   ],
   "metadata": {
    "collapsed": false,
    "ExecuteTime": {
     "end_time": "2023-10-18T07:51:51.027831214Z",
     "start_time": "2023-10-18T07:51:51.023671145Z"
    }
   },
   "id": "ac8e2d10f093f8a6"
  },
  {
   "cell_type": "code",
   "execution_count": 54,
   "outputs": [
    {
     "data": {
      "text/plain": "label\n17    4757.0\n11    2686.0\n2     2229.0\n0     2160.0\n9     1793.0\n8     1269.0\n14     832.0\n7      778.0\n6      731.0\n3      676.0\n12     487.0\nName: count, dtype: float64"
     },
     "execution_count": 54,
     "metadata": {},
     "output_type": "execute_result"
    }
   ],
   "source": [
    "O3tr['label'].value_counts()/25"
   ],
   "metadata": {
    "collapsed": false,
    "ExecuteTime": {
     "end_time": "2023-10-18T07:51:51.028039888Z",
     "start_time": "2023-10-18T07:51:51.023963329Z"
    }
   },
   "id": "6091194f5c6815cb"
  },
  {
   "cell_type": "code",
   "execution_count": 55,
   "outputs": [
    {
     "data": {
      "text/plain": "label\n17    563.0\n11    331.0\n2     254.0\n0     230.0\n9     216.0\n8     145.0\n14    108.0\n7      96.0\n6      81.0\n3      81.0\n12     70.0\nName: count, dtype: float64"
     },
     "execution_count": 55,
     "metadata": {},
     "output_type": "execute_result"
    }
   ],
   "source": [
    "O3te['label'].value_counts()/25"
   ],
   "metadata": {
    "collapsed": false,
    "ExecuteTime": {
     "end_time": "2023-10-18T07:51:51.028242385Z",
     "start_time": "2023-10-18T07:51:51.024100355Z"
    }
   },
   "id": "a2a1573575ab734c"
  },
  {
   "cell_type": "code",
   "execution_count": 66,
   "outputs": [],
   "source": [
    "combinedTrainingFrame = pd.concat((A3tr,A2tr,O3tr,egdtr),axis=0)"
   ],
   "metadata": {
    "collapsed": false,
    "ExecuteTime": {
     "end_time": "2023-10-18T12:29:37.558891792Z",
     "start_time": "2023-10-18T12:29:37.414240104Z"
    }
   },
   "id": "29150e53b1e0e152"
  },
  {
   "cell_type": "code",
   "execution_count": 67,
   "outputs": [
    {
     "data": {
      "text/plain": "label\n17    10019.0\n8      4874.0\n0      4504.0\n11     2686.0\n3      2676.0\n2      2656.0\n9      2128.0\n15     1822.0\n14     1160.0\n13     1084.0\n7       778.0\n6       745.0\n12      487.0\n1       340.0\n5       199.0\n10       89.0\n16       74.0\nName: count, dtype: float64"
     },
     "execution_count": 67,
     "metadata": {},
     "output_type": "execute_result"
    }
   ],
   "source": [
    "combinedTrainingFrame['label'].value_counts()/25"
   ],
   "metadata": {
    "collapsed": false,
    "ExecuteTime": {
     "end_time": "2023-10-18T12:29:39.541383281Z",
     "start_time": "2023-10-18T12:29:39.513478700Z"
    }
   },
   "id": "c8824bb8cf315fd"
  },
  {
   "cell_type": "code",
   "execution_count": 68,
   "outputs": [],
   "source": [
    "combinedTestingFrame = pd.concat((A3te,A2te,O3te,egdte),axis=0)"
   ],
   "metadata": {
    "collapsed": false,
    "ExecuteTime": {
     "end_time": "2023-10-18T12:30:02.517124027Z",
     "start_time": "2023-10-18T12:30:02.499531930Z"
    }
   },
   "id": "c79c489c91dc5787"
  },
  {
   "cell_type": "code",
   "execution_count": 69,
   "outputs": [
    {
     "data": {
      "text/plain": "Empty DataFrame\nColumns: [ID, label, extra]\nIndex: []",
      "text/html": "<div>\n<style scoped>\n    .dataframe tbody tr th:only-of-type {\n        vertical-align: middle;\n    }\n\n    .dataframe tbody tr th {\n        vertical-align: top;\n    }\n\n    .dataframe thead th {\n        text-align: right;\n    }\n</style>\n<table border=\"1\" class=\"dataframe\">\n  <thead>\n    <tr style=\"text-align: right;\">\n      <th></th>\n      <th>ID</th>\n      <th>label</th>\n      <th>extra</th>\n    </tr>\n  </thead>\n  <tbody>\n  </tbody>\n</table>\n</div>"
     },
     "execution_count": 69,
     "metadata": {},
     "output_type": "execute_result"
    }
   ],
   "source": [
    "combinedTestingFrame[combinedTestingFrame['label']==-1]"
   ],
   "metadata": {
    "collapsed": false,
    "ExecuteTime": {
     "end_time": "2023-10-18T12:30:04.484482929Z",
     "start_time": "2023-10-18T12:30:04.457018430Z"
    }
   },
   "id": "e45129d7f58dc2b7"
  },
  {
   "cell_type": "code",
   "execution_count": 70,
   "outputs": [],
   "source": [
    "combinedTestingFrame = combinedTestingFrame[combinedTestingFrame['label']!=-1]"
   ],
   "metadata": {
    "collapsed": false,
    "ExecuteTime": {
     "end_time": "2023-10-18T12:30:07.791728078Z",
     "start_time": "2023-10-18T12:30:07.751202240Z"
    }
   },
   "id": "8cb7b3330b94c976"
  },
  {
   "cell_type": "code",
   "execution_count": 71,
   "outputs": [],
   "source": [
    "combinedTestingFrame['ID'] = combinedTestingFrame['ID'].apply(fixPath)\n",
    "combinedTrainingFrame['ID'] = combinedTrainingFrame['ID'].apply(fixPath)"
   ],
   "metadata": {
    "collapsed": false,
    "ExecuteTime": {
     "end_time": "2023-10-18T12:30:12.322528930Z",
     "start_time": "2023-10-18T12:30:12.135792705Z"
    }
   },
   "id": "76800c56e1a0a3ae"
  },
  {
   "cell_type": "code",
   "execution_count": 72,
   "outputs": [
    {
     "data": {
      "text/plain": "label\n17    1127.0\n8      518.0\n0      499.0\n11     331.0\n3      327.0\n2      309.0\n9      243.0\n15     197.0\n14     157.0\n13     147.0\n7       96.0\n6       84.0\n12      70.0\n1       39.0\n5       28.0\n10      20.0\n16       8.0\nName: count, dtype: float64"
     },
     "execution_count": 72,
     "metadata": {},
     "output_type": "execute_result"
    }
   ],
   "source": [
    "combinedTestingFrame['label'].value_counts()/25"
   ],
   "metadata": {
    "collapsed": false,
    "ExecuteTime": {
     "end_time": "2023-10-18T12:30:15.296560134Z",
     "start_time": "2023-10-18T12:30:15.293641731Z"
    }
   },
   "id": "8c3f9eef6868d0f2"
  },
  {
   "cell_type": "code",
   "execution_count": 73,
   "outputs": [],
   "source": [
    "combinedTestingFrame.to_csv('CombinedTestingFrame_A2_A3_O3_egd.txt',header=False,index=False,sep='\\t')"
   ],
   "metadata": {
    "collapsed": false,
    "ExecuteTime": {
     "end_time": "2023-10-18T12:30:35.635078330Z",
     "start_time": "2023-10-18T12:30:35.234224704Z"
    }
   },
   "id": "7f44b306f048a962"
  },
  {
   "cell_type": "code",
   "execution_count": 74,
   "outputs": [],
   "source": [
    "combinedTrainingFrame.to_csv('CombinedTrainingFrame_A2_A3_O3_egd.txt',header=False,index=False,sep='\\t')"
   ],
   "metadata": {
    "collapsed": false,
    "ExecuteTime": {
     "end_time": "2023-10-18T12:30:38.443243460Z",
     "start_time": "2023-10-18T12:30:35.711484759Z"
    }
   },
   "id": "cc11d5fe4578164f"
  },
  {
   "cell_type": "code",
   "execution_count": 64,
   "outputs": [],
   "source": [],
   "metadata": {
    "collapsed": false,
    "ExecuteTime": {
     "end_time": "2023-10-18T07:51:54.593581116Z",
     "start_time": "2023-10-18T07:51:54.590941171Z"
    }
   },
   "id": "a698be51827077dc"
  }
 ],
 "metadata": {
  "kernelspec": {
   "display_name": "Python 3",
   "language": "python",
   "name": "python3"
  },
  "language_info": {
   "codemirror_mode": {
    "name": "ipython",
    "version": 2
   },
   "file_extension": ".py",
   "mimetype": "text/x-python",
   "name": "python",
   "nbconvert_exporter": "python",
   "pygments_lexer": "ipython2",
   "version": "2.7.6"
  }
 },
 "nbformat": 4,
 "nbformat_minor": 5
}
