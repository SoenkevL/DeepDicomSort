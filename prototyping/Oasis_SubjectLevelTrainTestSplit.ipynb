{
 "cells": [
  {
   "cell_type": "code",
   "execution_count": 1,
   "id": "initial_id",
   "metadata": {
    "collapsed": true,
    "ExecuteTime": {
     "end_time": "2023-10-11T08:25:26.808687083Z",
     "start_time": "2023-10-11T08:25:26.069019154Z"
    }
   },
   "outputs": [],
   "source": [
    "import pandas as pd\n",
    "from sklearn.model_selection import train_test_split"
   ]
  },
  {
   "cell_type": "code",
   "execution_count": 18,
   "outputs": [],
   "source": [
    "df = pd.read_csv('trainTestFrame.csv')"
   ],
   "metadata": {
    "collapsed": false,
    "ExecuteTime": {
     "end_time": "2023-10-11T09:06:11.427389093Z",
     "start_time": "2023-10-11T09:05:55.161933701Z"
    }
   },
   "id": "e574c0a42449fa87"
  },
  {
   "cell_type": "code",
   "execution_count": 20,
   "outputs": [
    {
     "data": {
      "text/plain": "                                 NIFTI_slice_names           sid  \\\n0     sub-OAS30333_ses-d141_acq-PIB_pet__s6.nii.gz  sub-OAS30333   \n1     sub-OAS30333_ses-d141_acq-PIB_pet__s6.nii.gz  sub-OAS30333   \n2     sub-OAS30333_ses-d141_acq-PIB_pet__s6.nii.gz  sub-OAS30333   \n3     sub-OAS30333_ses-d141_acq-PIB_pet__s6.nii.gz  sub-OAS30333   \n4     sub-OAS30333_ses-d141_acq-PIB_pet__s6.nii.gz  sub-OAS30333   \n..                                             ...           ...   \n95  sub-OAS30333_ses-d2005_acq-TSE_T2w__s15.nii.gz  sub-OAS30333   \n96  sub-OAS30333_ses-d2005_acq-TSE_T2w__s15.nii.gz  sub-OAS30333   \n97  sub-OAS30333_ses-d2005_acq-TSE_T2w__s15.nii.gz  sub-OAS30333   \n98  sub-OAS30333_ses-d2005_acq-TSE_T2w__s15.nii.gz  sub-OAS30333   \n99  sub-OAS30333_ses-d2005_acq-TSE_T2w__s15.nii.gz  sub-OAS30333   \n\n                                          NIFTI_names  split  \n0                 sub-OAS30333_ses-d2005_FLAIR.nii.gz  train  \n1            sub-OAS30333_ses-d2008_run-02_asl.nii.gz  train  \n2                   sub-OAS30333_sess-d2891_CT.nii.gz  train  \n3                   sub-OAS30333_ses-d2457_T1w.nii.gz  train  \n4                  sub-OAS30333_sess-d4347_T2w.nii.gz  train  \n..                                                ...    ...  \n95          sub-OAS30333_ses-d2005_acq-TSE_T2w.nii.gz  train  \n96  sub-OAS30333_ses-d0093_task-rest_run-03_bold.n...  train  \n97                  sub-OAS30333_ses-d2008_T1w.nii.gz  train  \n98  sub-OAS30333_ses-d2005_echo-2_run-01_fieldmap....  train  \n99           sub-OAS30333_ses-d611_acq-PIB_pet.nii.gz  train  \n\n[100 rows x 4 columns]",
      "text/html": "<div>\n<style scoped>\n    .dataframe tbody tr th:only-of-type {\n        vertical-align: middle;\n    }\n\n    .dataframe tbody tr th {\n        vertical-align: top;\n    }\n\n    .dataframe thead th {\n        text-align: right;\n    }\n</style>\n<table border=\"1\" class=\"dataframe\">\n  <thead>\n    <tr style=\"text-align: right;\">\n      <th></th>\n      <th>NIFTI_slice_names</th>\n      <th>sid</th>\n      <th>NIFTI_names</th>\n      <th>split</th>\n    </tr>\n  </thead>\n  <tbody>\n    <tr>\n      <th>0</th>\n      <td>sub-OAS30333_ses-d141_acq-PIB_pet__s6.nii.gz</td>\n      <td>sub-OAS30333</td>\n      <td>sub-OAS30333_ses-d2005_FLAIR.nii.gz</td>\n      <td>train</td>\n    </tr>\n    <tr>\n      <th>1</th>\n      <td>sub-OAS30333_ses-d141_acq-PIB_pet__s6.nii.gz</td>\n      <td>sub-OAS30333</td>\n      <td>sub-OAS30333_ses-d2008_run-02_asl.nii.gz</td>\n      <td>train</td>\n    </tr>\n    <tr>\n      <th>2</th>\n      <td>sub-OAS30333_ses-d141_acq-PIB_pet__s6.nii.gz</td>\n      <td>sub-OAS30333</td>\n      <td>sub-OAS30333_sess-d2891_CT.nii.gz</td>\n      <td>train</td>\n    </tr>\n    <tr>\n      <th>3</th>\n      <td>sub-OAS30333_ses-d141_acq-PIB_pet__s6.nii.gz</td>\n      <td>sub-OAS30333</td>\n      <td>sub-OAS30333_ses-d2457_T1w.nii.gz</td>\n      <td>train</td>\n    </tr>\n    <tr>\n      <th>4</th>\n      <td>sub-OAS30333_ses-d141_acq-PIB_pet__s6.nii.gz</td>\n      <td>sub-OAS30333</td>\n      <td>sub-OAS30333_sess-d4347_T2w.nii.gz</td>\n      <td>train</td>\n    </tr>\n    <tr>\n      <th>...</th>\n      <td>...</td>\n      <td>...</td>\n      <td>...</td>\n      <td>...</td>\n    </tr>\n    <tr>\n      <th>95</th>\n      <td>sub-OAS30333_ses-d2005_acq-TSE_T2w__s15.nii.gz</td>\n      <td>sub-OAS30333</td>\n      <td>sub-OAS30333_ses-d2005_acq-TSE_T2w.nii.gz</td>\n      <td>train</td>\n    </tr>\n    <tr>\n      <th>96</th>\n      <td>sub-OAS30333_ses-d2005_acq-TSE_T2w__s15.nii.gz</td>\n      <td>sub-OAS30333</td>\n      <td>sub-OAS30333_ses-d0093_task-rest_run-03_bold.n...</td>\n      <td>train</td>\n    </tr>\n    <tr>\n      <th>97</th>\n      <td>sub-OAS30333_ses-d2005_acq-TSE_T2w__s15.nii.gz</td>\n      <td>sub-OAS30333</td>\n      <td>sub-OAS30333_ses-d2008_T1w.nii.gz</td>\n      <td>train</td>\n    </tr>\n    <tr>\n      <th>98</th>\n      <td>sub-OAS30333_ses-d2005_acq-TSE_T2w__s15.nii.gz</td>\n      <td>sub-OAS30333</td>\n      <td>sub-OAS30333_ses-d2005_echo-2_run-01_fieldmap....</td>\n      <td>train</td>\n    </tr>\n    <tr>\n      <th>99</th>\n      <td>sub-OAS30333_ses-d2005_acq-TSE_T2w__s15.nii.gz</td>\n      <td>sub-OAS30333</td>\n      <td>sub-OAS30333_ses-d611_acq-PIB_pet.nii.gz</td>\n      <td>train</td>\n    </tr>\n  </tbody>\n</table>\n<p>100 rows × 4 columns</p>\n</div>"
     },
     "execution_count": 20,
     "metadata": {},
     "output_type": "execute_result"
    }
   ],
   "source": [
    "df.head(100)"
   ],
   "metadata": {
    "collapsed": false,
    "ExecuteTime": {
     "end_time": "2023-10-11T09:06:22.353302420Z",
     "start_time": "2023-10-11T09:06:22.346531087Z"
    }
   },
   "id": "911b3a6a5ed67b13"
  },
  {
   "cell_type": "code",
   "execution_count": 5,
   "outputs": [],
   "source": [
    "usids = df['sid'].unique()"
   ],
   "metadata": {
    "collapsed": false,
    "ExecuteTime": {
     "end_time": "2023-10-11T08:26:51.179930890Z",
     "start_time": "2023-10-11T08:26:51.139235255Z"
    }
   },
   "id": "d3e24a6aa1cabbb1"
  },
  {
   "cell_type": "code",
   "execution_count": 13,
   "outputs": [],
   "source": [
    "trainsids, testsids = train_test_split(usids, shuffle=True, random_state=42, test_size=0.1)"
   ],
   "metadata": {
    "collapsed": false,
    "ExecuteTime": {
     "end_time": "2023-10-11T08:31:14.425210373Z",
     "start_time": "2023-10-11T08:31:14.381714967Z"
    }
   },
   "id": "58ed8437bc929e8f"
  },
  {
   "cell_type": "code",
   "execution_count": 15,
   "outputs": [],
   "source": [
    "df['split'] = ['train' if s in trainsids else 'test' for s in df['sid']]"
   ],
   "metadata": {
    "collapsed": false,
    "ExecuteTime": {
     "end_time": "2023-10-11T08:31:22.749735438Z",
     "start_time": "2023-10-11T08:31:22.386713224Z"
    }
   },
   "id": "46b1a617118e13f3"
  },
  {
   "cell_type": "code",
   "execution_count": 16,
   "outputs": [
    {
     "data": {
      "text/plain": "                                             NIFTI_names           sid  split\n0                   sub-OAS30015_ses-d2004_T2star.nii.gz  sub-OAS30015  train\n1      sub-OAS30644_ses-d0136_echo-1_run-01_fieldmap....  sub-OAS30644  train\n2              sub-OAS30336_ses-d0238_acq-PIB_pet.nii.gz  sub-OAS30336  train\n3               sub-OAS30848_ses-d0070_run-01_T1w.nii.gz  sub-OAS30848  train\n4                    sub-OAS30348_ses-d0077_FLAIR.nii.gz  sub-OAS30348  train\n...                                                  ...           ...    ...\n20578           sub-OAS30364_ses-d0110_run-01_dwi.nii.gz  sub-OAS30364  train\n20579           sub-OAS30735_ses-d2484_run-02_dwi.nii.gz  sub-OAS30735  train\n20580  sub-OAS30429_ses-d0055_echo-2_run-01_fieldmap....  sub-OAS30429  train\n20581           sub-OAS30063_ses-d0160_run-01_T1w.nii.gz  sub-OAS30063  train\n20582  sub-OAS30598_ses-d0069_task-rest_run-01_bold.n...  sub-OAS30598  train\n\n[20583 rows x 3 columns]",
      "text/html": "<div>\n<style scoped>\n    .dataframe tbody tr th:only-of-type {\n        vertical-align: middle;\n    }\n\n    .dataframe tbody tr th {\n        vertical-align: top;\n    }\n\n    .dataframe thead th {\n        text-align: right;\n    }\n</style>\n<table border=\"1\" class=\"dataframe\">\n  <thead>\n    <tr style=\"text-align: right;\">\n      <th></th>\n      <th>NIFTI_names</th>\n      <th>sid</th>\n      <th>split</th>\n    </tr>\n  </thead>\n  <tbody>\n    <tr>\n      <th>0</th>\n      <td>sub-OAS30015_ses-d2004_T2star.nii.gz</td>\n      <td>sub-OAS30015</td>\n      <td>train</td>\n    </tr>\n    <tr>\n      <th>1</th>\n      <td>sub-OAS30644_ses-d0136_echo-1_run-01_fieldmap....</td>\n      <td>sub-OAS30644</td>\n      <td>train</td>\n    </tr>\n    <tr>\n      <th>2</th>\n      <td>sub-OAS30336_ses-d0238_acq-PIB_pet.nii.gz</td>\n      <td>sub-OAS30336</td>\n      <td>train</td>\n    </tr>\n    <tr>\n      <th>3</th>\n      <td>sub-OAS30848_ses-d0070_run-01_T1w.nii.gz</td>\n      <td>sub-OAS30848</td>\n      <td>train</td>\n    </tr>\n    <tr>\n      <th>4</th>\n      <td>sub-OAS30348_ses-d0077_FLAIR.nii.gz</td>\n      <td>sub-OAS30348</td>\n      <td>train</td>\n    </tr>\n    <tr>\n      <th>...</th>\n      <td>...</td>\n      <td>...</td>\n      <td>...</td>\n    </tr>\n    <tr>\n      <th>20578</th>\n      <td>sub-OAS30364_ses-d0110_run-01_dwi.nii.gz</td>\n      <td>sub-OAS30364</td>\n      <td>train</td>\n    </tr>\n    <tr>\n      <th>20579</th>\n      <td>sub-OAS30735_ses-d2484_run-02_dwi.nii.gz</td>\n      <td>sub-OAS30735</td>\n      <td>train</td>\n    </tr>\n    <tr>\n      <th>20580</th>\n      <td>sub-OAS30429_ses-d0055_echo-2_run-01_fieldmap....</td>\n      <td>sub-OAS30429</td>\n      <td>train</td>\n    </tr>\n    <tr>\n      <th>20581</th>\n      <td>sub-OAS30063_ses-d0160_run-01_T1w.nii.gz</td>\n      <td>sub-OAS30063</td>\n      <td>train</td>\n    </tr>\n    <tr>\n      <th>20582</th>\n      <td>sub-OAS30598_ses-d0069_task-rest_run-01_bold.n...</td>\n      <td>sub-OAS30598</td>\n      <td>train</td>\n    </tr>\n  </tbody>\n</table>\n<p>20583 rows × 3 columns</p>\n</div>"
     },
     "execution_count": 16,
     "metadata": {},
     "output_type": "execute_result"
    }
   ],
   "source": [
    "df"
   ],
   "metadata": {
    "collapsed": false,
    "ExecuteTime": {
     "end_time": "2023-10-11T08:31:22.926869688Z",
     "start_time": "2023-10-11T08:31:22.916404610Z"
    }
   },
   "id": "c4d97e976e81338b"
  },
  {
   "cell_type": "code",
   "execution_count": 17,
   "outputs": [
    {
     "data": {
      "text/plain": "split\ntrain    18404\ntest      2179\nName: count, dtype: int64"
     },
     "execution_count": 17,
     "metadata": {},
     "output_type": "execute_result"
    }
   ],
   "source": [
    "df['split'].value_counts()"
   ],
   "metadata": {
    "collapsed": false,
    "ExecuteTime": {
     "end_time": "2023-10-11T08:31:23.899413892Z",
     "start_time": "2023-10-11T08:31:23.887691516Z"
    }
   },
   "id": "d4d6fe97c0af2d43"
  },
  {
   "cell_type": "code",
   "execution_count": null,
   "outputs": [],
   "source": [],
   "metadata": {
    "collapsed": false
   },
   "id": "4a44f47658c78c1e"
  }
 ],
 "metadata": {
  "kernelspec": {
   "display_name": "Python 3",
   "language": "python",
   "name": "python3"
  },
  "language_info": {
   "codemirror_mode": {
    "name": "ipython",
    "version": 2
   },
   "file_extension": ".py",
   "mimetype": "text/x-python",
   "name": "python",
   "nbconvert_exporter": "python",
   "pygments_lexer": "ipython2",
   "version": "2.7.6"
  }
 },
 "nbformat": 4,
 "nbformat_minor": 5
}
