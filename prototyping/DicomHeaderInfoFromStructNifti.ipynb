{
 "cells": [
  {
   "cell_type": "code",
   "execution_count": 1,
   "id": "initial_id",
   "metadata": {
    "collapsed": true,
    "ExecuteTime": {
     "end_time": "2023-11-05T10:51:08.956346790Z",
     "start_time": "2023-11-05T10:51:08.575426006Z"
    }
   },
   "outputs": [],
   "source": [
    "import pandas as pd"
   ]
  },
  {
   "cell_type": "code",
   "execution_count": 5,
   "outputs": [],
   "source": [
    "def extractDicomInfo(df):\n",
    "    path = df['ID']\n",
    "    path = path.replace('__','/')\n",
    "    split_path = path.split('/')\n",
    "    patient_ID = split_path[-6]\n",
    "    study_date = split_path[-5]\n",
    "    scan_modality = split_path[-4]\n",
    "    study_instance_UID = split_path[-3]\n",
    "    series_instance_UID = split_path[-2].split('_Scan')[0]\n",
    "    return pd.Series({'patiendID':patient_ID, 'study_date':study_date, 'scan_modality':scan_modality,\n",
    "                      'study_instance_UID':study_instance_UID, 'series_instance_UID':series_instance_UID})"
   ],
   "metadata": {
    "collapsed": false,
    "ExecuteTime": {
     "end_time": "2023-11-05T10:59:07.342230580Z",
     "start_time": "2023-11-05T10:59:07.300273862Z"
    }
   },
   "id": "c8b10e0cb3f86e6a"
  },
  {
   "cell_type": "code",
   "execution_count": 6,
   "outputs": [],
   "source": [
    "LabelFrame = pd.read_csv('ADNI/Adni2_trainLabels_extensive2.txt',names=['ID','label','extra'],sep='\\t', dtype={'ID':str,'label':int,'extra':int}, nrows=10)"
   ],
   "metadata": {
    "collapsed": false,
    "ExecuteTime": {
     "end_time": "2023-11-05T10:59:07.483159139Z",
     "start_time": "2023-11-05T10:59:07.475326109Z"
    }
   },
   "id": "fccd1686f5639fd8"
  },
  {
   "cell_type": "code",
   "execution_count": 10,
   "outputs": [],
   "source": [
    "DicomInfo = LabelFrame.apply(extractDicomInfo, axis=1, result_type='expand')"
   ],
   "metadata": {
    "collapsed": false,
    "ExecuteTime": {
     "end_time": "2023-11-05T11:01:23.890217220Z",
     "start_time": "2023-11-05T11:01:23.793663933Z"
    }
   },
   "id": "b0189653515a0c8d"
  },
  {
   "cell_type": "code",
   "execution_count": 13,
   "outputs": [
    {
     "data": {
      "text/plain": "    patiendID study_date scan_modality  \\\n0  127_S_0259   20120402            MR   \n1  127_S_0259   20130419            MR   \n2  127_S_0259   20140409            MR   \n3  127_S_0259   20130419            MR   \n4  127_S_0259   20130419            MR   \n5  127_S_0259   20140409            MR   \n6  127_S_0259   20120402            MR   \n7  127_S_0259   20120402            MR   \n8  127_S_0259   20120402            MR   \n9  127_S_0259   20140409            MR   \n\n                             study_instance_UID  \\\n0  2.16.124.113543.6006.99.07617427753111448044   \n1  2.16.124.113543.6006.99.07124889613641855109   \n2  2.16.124.113543.6006.99.04666528504723189590   \n3  2.16.124.113543.6006.99.07124889613641855109   \n4  2.16.124.113543.6006.99.07124889613641855109   \n5  2.16.124.113543.6006.99.04666528504723189590   \n6  2.16.124.113543.6006.99.07617427753111448044   \n7  2.16.124.113543.6006.99.07617427753111448044   \n8  2.16.124.113543.6006.99.07617427753111448044   \n9  2.16.124.113543.6006.99.04666528504723189590   \n\n                            series_instance_UID  \n0  2.16.124.113543.6006.99.07606728708372605308  \n1  2.16.124.113543.6006.99.07112512496755646235  \n2   2.16.124.113543.6006.99.7691738421478884181  \n3  2.16.124.113543.6006.99.07112512496755646235  \n4  2.16.124.113543.6006.99.07112512496755646235  \n5   2.16.124.113543.6006.99.7691738421478884181  \n6  2.16.124.113543.6006.99.07606728708372605308  \n7  2.16.124.113543.6006.99.07606728708372605308  \n8  2.16.124.113543.6006.99.07606728708372605308  \n9   2.16.124.113543.6006.99.7691738421478884181  ",
      "text/html": "<div>\n<style scoped>\n    .dataframe tbody tr th:only-of-type {\n        vertical-align: middle;\n    }\n\n    .dataframe tbody tr th {\n        vertical-align: top;\n    }\n\n    .dataframe thead th {\n        text-align: right;\n    }\n</style>\n<table border=\"1\" class=\"dataframe\">\n  <thead>\n    <tr style=\"text-align: right;\">\n      <th></th>\n      <th>patiendID</th>\n      <th>study_date</th>\n      <th>scan_modality</th>\n      <th>study_instance_UID</th>\n      <th>series_instance_UID</th>\n    </tr>\n  </thead>\n  <tbody>\n    <tr>\n      <th>0</th>\n      <td>127_S_0259</td>\n      <td>20120402</td>\n      <td>MR</td>\n      <td>2.16.124.113543.6006.99.07617427753111448044</td>\n      <td>2.16.124.113543.6006.99.07606728708372605308</td>\n    </tr>\n    <tr>\n      <th>1</th>\n      <td>127_S_0259</td>\n      <td>20130419</td>\n      <td>MR</td>\n      <td>2.16.124.113543.6006.99.07124889613641855109</td>\n      <td>2.16.124.113543.6006.99.07112512496755646235</td>\n    </tr>\n    <tr>\n      <th>2</th>\n      <td>127_S_0259</td>\n      <td>20140409</td>\n      <td>MR</td>\n      <td>2.16.124.113543.6006.99.04666528504723189590</td>\n      <td>2.16.124.113543.6006.99.7691738421478884181</td>\n    </tr>\n    <tr>\n      <th>3</th>\n      <td>127_S_0259</td>\n      <td>20130419</td>\n      <td>MR</td>\n      <td>2.16.124.113543.6006.99.07124889613641855109</td>\n      <td>2.16.124.113543.6006.99.07112512496755646235</td>\n    </tr>\n    <tr>\n      <th>4</th>\n      <td>127_S_0259</td>\n      <td>20130419</td>\n      <td>MR</td>\n      <td>2.16.124.113543.6006.99.07124889613641855109</td>\n      <td>2.16.124.113543.6006.99.07112512496755646235</td>\n    </tr>\n    <tr>\n      <th>5</th>\n      <td>127_S_0259</td>\n      <td>20140409</td>\n      <td>MR</td>\n      <td>2.16.124.113543.6006.99.04666528504723189590</td>\n      <td>2.16.124.113543.6006.99.7691738421478884181</td>\n    </tr>\n    <tr>\n      <th>6</th>\n      <td>127_S_0259</td>\n      <td>20120402</td>\n      <td>MR</td>\n      <td>2.16.124.113543.6006.99.07617427753111448044</td>\n      <td>2.16.124.113543.6006.99.07606728708372605308</td>\n    </tr>\n    <tr>\n      <th>7</th>\n      <td>127_S_0259</td>\n      <td>20120402</td>\n      <td>MR</td>\n      <td>2.16.124.113543.6006.99.07617427753111448044</td>\n      <td>2.16.124.113543.6006.99.07606728708372605308</td>\n    </tr>\n    <tr>\n      <th>8</th>\n      <td>127_S_0259</td>\n      <td>20120402</td>\n      <td>MR</td>\n      <td>2.16.124.113543.6006.99.07617427753111448044</td>\n      <td>2.16.124.113543.6006.99.07606728708372605308</td>\n    </tr>\n    <tr>\n      <th>9</th>\n      <td>127_S_0259</td>\n      <td>20140409</td>\n      <td>MR</td>\n      <td>2.16.124.113543.6006.99.04666528504723189590</td>\n      <td>2.16.124.113543.6006.99.7691738421478884181</td>\n    </tr>\n  </tbody>\n</table>\n</div>"
     },
     "execution_count": 13,
     "metadata": {},
     "output_type": "execute_result"
    }
   ],
   "source": [
    "DicomInfo"
   ],
   "metadata": {
    "collapsed": false,
    "ExecuteTime": {
     "end_time": "2023-11-05T11:02:18.015737879Z",
     "start_time": "2023-11-05T11:02:17.948550070Z"
    }
   },
   "id": "69338b26c0c2c44e"
  },
  {
   "cell_type": "code",
   "execution_count": 14,
   "outputs": [],
   "source": [
    "AnnotFrame = pd.concat((LabelFrame, DicomInfo), axis=1)"
   ],
   "metadata": {
    "collapsed": false,
    "ExecuteTime": {
     "end_time": "2023-11-05T11:02:41.414353299Z",
     "start_time": "2023-11-05T11:02:41.366659600Z"
    }
   },
   "id": "68328ba094a4912f"
  },
  {
   "cell_type": "code",
   "execution_count": 15,
   "outputs": [
    {
     "data": {
      "text/plain": "                                                  ID  label  extra  \\\n0  /trinity/home/r098375/DDS/data/ADNI/ADNI2/trai...      2      0   \n1  /trinity/home/r098375/DDS/data/ADNI/ADNI2/trai...      2      0   \n2  /trinity/home/r098375/DDS/data/ADNI/ADNI2/trai...      2      0   \n3  /trinity/home/r098375/DDS/data/ADNI/ADNI2/trai...      5      0   \n4  /trinity/home/r098375/DDS/data/ADNI/ADNI2/trai...      2      0   \n5  /trinity/home/r098375/DDS/data/ADNI/ADNI2/trai...      5      0   \n6  /trinity/home/r098375/DDS/data/ADNI/ADNI2/trai...      5      0   \n7  /trinity/home/r098375/DDS/data/ADNI/ADNI2/trai...      2      0   \n8  /trinity/home/r098375/DDS/data/ADNI/ADNI2/trai...      2      0   \n9  /trinity/home/r098375/DDS/data/ADNI/ADNI2/trai...      5      0   \n\n    patiendID study_date scan_modality  \\\n0  127_S_0259   20120402            MR   \n1  127_S_0259   20130419            MR   \n2  127_S_0259   20140409            MR   \n3  127_S_0259   20130419            MR   \n4  127_S_0259   20130419            MR   \n5  127_S_0259   20140409            MR   \n6  127_S_0259   20120402            MR   \n7  127_S_0259   20120402            MR   \n8  127_S_0259   20120402            MR   \n9  127_S_0259   20140409            MR   \n\n                             study_instance_UID  \\\n0  2.16.124.113543.6006.99.07617427753111448044   \n1  2.16.124.113543.6006.99.07124889613641855109   \n2  2.16.124.113543.6006.99.04666528504723189590   \n3  2.16.124.113543.6006.99.07124889613641855109   \n4  2.16.124.113543.6006.99.07124889613641855109   \n5  2.16.124.113543.6006.99.04666528504723189590   \n6  2.16.124.113543.6006.99.07617427753111448044   \n7  2.16.124.113543.6006.99.07617427753111448044   \n8  2.16.124.113543.6006.99.07617427753111448044   \n9  2.16.124.113543.6006.99.04666528504723189590   \n\n                            series_instance_UID  \n0  2.16.124.113543.6006.99.07606728708372605308  \n1  2.16.124.113543.6006.99.07112512496755646235  \n2   2.16.124.113543.6006.99.7691738421478884181  \n3  2.16.124.113543.6006.99.07112512496755646235  \n4  2.16.124.113543.6006.99.07112512496755646235  \n5   2.16.124.113543.6006.99.7691738421478884181  \n6  2.16.124.113543.6006.99.07606728708372605308  \n7  2.16.124.113543.6006.99.07606728708372605308  \n8  2.16.124.113543.6006.99.07606728708372605308  \n9   2.16.124.113543.6006.99.7691738421478884181  ",
      "text/html": "<div>\n<style scoped>\n    .dataframe tbody tr th:only-of-type {\n        vertical-align: middle;\n    }\n\n    .dataframe tbody tr th {\n        vertical-align: top;\n    }\n\n    .dataframe thead th {\n        text-align: right;\n    }\n</style>\n<table border=\"1\" class=\"dataframe\">\n  <thead>\n    <tr style=\"text-align: right;\">\n      <th></th>\n      <th>ID</th>\n      <th>label</th>\n      <th>extra</th>\n      <th>patiendID</th>\n      <th>study_date</th>\n      <th>scan_modality</th>\n      <th>study_instance_UID</th>\n      <th>series_instance_UID</th>\n    </tr>\n  </thead>\n  <tbody>\n    <tr>\n      <th>0</th>\n      <td>/trinity/home/r098375/DDS/data/ADNI/ADNI2/trai...</td>\n      <td>2</td>\n      <td>0</td>\n      <td>127_S_0259</td>\n      <td>20120402</td>\n      <td>MR</td>\n      <td>2.16.124.113543.6006.99.07617427753111448044</td>\n      <td>2.16.124.113543.6006.99.07606728708372605308</td>\n    </tr>\n    <tr>\n      <th>1</th>\n      <td>/trinity/home/r098375/DDS/data/ADNI/ADNI2/trai...</td>\n      <td>2</td>\n      <td>0</td>\n      <td>127_S_0259</td>\n      <td>20130419</td>\n      <td>MR</td>\n      <td>2.16.124.113543.6006.99.07124889613641855109</td>\n      <td>2.16.124.113543.6006.99.07112512496755646235</td>\n    </tr>\n    <tr>\n      <th>2</th>\n      <td>/trinity/home/r098375/DDS/data/ADNI/ADNI2/trai...</td>\n      <td>2</td>\n      <td>0</td>\n      <td>127_S_0259</td>\n      <td>20140409</td>\n      <td>MR</td>\n      <td>2.16.124.113543.6006.99.04666528504723189590</td>\n      <td>2.16.124.113543.6006.99.7691738421478884181</td>\n    </tr>\n    <tr>\n      <th>3</th>\n      <td>/trinity/home/r098375/DDS/data/ADNI/ADNI2/trai...</td>\n      <td>5</td>\n      <td>0</td>\n      <td>127_S_0259</td>\n      <td>20130419</td>\n      <td>MR</td>\n      <td>2.16.124.113543.6006.99.07124889613641855109</td>\n      <td>2.16.124.113543.6006.99.07112512496755646235</td>\n    </tr>\n    <tr>\n      <th>4</th>\n      <td>/trinity/home/r098375/DDS/data/ADNI/ADNI2/trai...</td>\n      <td>2</td>\n      <td>0</td>\n      <td>127_S_0259</td>\n      <td>20130419</td>\n      <td>MR</td>\n      <td>2.16.124.113543.6006.99.07124889613641855109</td>\n      <td>2.16.124.113543.6006.99.07112512496755646235</td>\n    </tr>\n    <tr>\n      <th>5</th>\n      <td>/trinity/home/r098375/DDS/data/ADNI/ADNI2/trai...</td>\n      <td>5</td>\n      <td>0</td>\n      <td>127_S_0259</td>\n      <td>20140409</td>\n      <td>MR</td>\n      <td>2.16.124.113543.6006.99.04666528504723189590</td>\n      <td>2.16.124.113543.6006.99.7691738421478884181</td>\n    </tr>\n    <tr>\n      <th>6</th>\n      <td>/trinity/home/r098375/DDS/data/ADNI/ADNI2/trai...</td>\n      <td>5</td>\n      <td>0</td>\n      <td>127_S_0259</td>\n      <td>20120402</td>\n      <td>MR</td>\n      <td>2.16.124.113543.6006.99.07617427753111448044</td>\n      <td>2.16.124.113543.6006.99.07606728708372605308</td>\n    </tr>\n    <tr>\n      <th>7</th>\n      <td>/trinity/home/r098375/DDS/data/ADNI/ADNI2/trai...</td>\n      <td>2</td>\n      <td>0</td>\n      <td>127_S_0259</td>\n      <td>20120402</td>\n      <td>MR</td>\n      <td>2.16.124.113543.6006.99.07617427753111448044</td>\n      <td>2.16.124.113543.6006.99.07606728708372605308</td>\n    </tr>\n    <tr>\n      <th>8</th>\n      <td>/trinity/home/r098375/DDS/data/ADNI/ADNI2/trai...</td>\n      <td>2</td>\n      <td>0</td>\n      <td>127_S_0259</td>\n      <td>20120402</td>\n      <td>MR</td>\n      <td>2.16.124.113543.6006.99.07617427753111448044</td>\n      <td>2.16.124.113543.6006.99.07606728708372605308</td>\n    </tr>\n    <tr>\n      <th>9</th>\n      <td>/trinity/home/r098375/DDS/data/ADNI/ADNI2/trai...</td>\n      <td>5</td>\n      <td>0</td>\n      <td>127_S_0259</td>\n      <td>20140409</td>\n      <td>MR</td>\n      <td>2.16.124.113543.6006.99.04666528504723189590</td>\n      <td>2.16.124.113543.6006.99.7691738421478884181</td>\n    </tr>\n  </tbody>\n</table>\n</div>"
     },
     "execution_count": 15,
     "metadata": {},
     "output_type": "execute_result"
    }
   ],
   "source": [
    "AnnotFrame"
   ],
   "metadata": {
    "collapsed": false,
    "ExecuteTime": {
     "end_time": "2023-11-05T11:02:41.802053503Z",
     "start_time": "2023-11-05T11:02:41.748734601Z"
    }
   },
   "id": "5a8908a7fb26dcd4"
  },
  {
   "cell_type": "code",
   "execution_count": null,
   "outputs": [],
   "source": [],
   "metadata": {
    "collapsed": false
   },
   "id": "ea920dc3c75343e3"
  }
 ],
 "metadata": {
  "kernelspec": {
   "display_name": "Python 3",
   "language": "python",
   "name": "python3"
  },
  "language_info": {
   "codemirror_mode": {
    "name": "ipython",
    "version": 2
   },
   "file_extension": ".py",
   "mimetype": "text/x-python",
   "name": "python",
   "nbconvert_exporter": "python",
   "pygments_lexer": "ipython2",
   "version": "2.7.6"
  }
 },
 "nbformat": 4,
 "nbformat_minor": 5
}
