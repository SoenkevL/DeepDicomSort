{
 "cells": [
  {
   "cell_type": "code",
   "execution_count": 2,
   "id": "initial_id",
   "metadata": {
    "collapsed": true,
    "ExecuteTime": {
     "end_time": "2023-10-20T06:38:46.104095335Z",
     "start_time": "2023-10-20T06:38:45.551543217Z"
    }
   },
   "outputs": [],
   "source": [
    "import pandas as pd\n",
    "import pydicom as pdicom\n",
    "import os"
   ]
  },
  {
   "cell_type": "code",
   "execution_count": 3,
   "outputs": [],
   "source": [
    "DatasetPath = '/home/soenke/Internship/data_small'"
   ],
   "metadata": {
    "collapsed": false,
    "ExecuteTime": {
     "end_time": "2023-10-20T06:38:46.119834419Z",
     "start_time": "2023-10-20T06:38:46.107116153Z"
    }
   },
   "id": "58244a54d4f735dc"
  },
  {
   "cell_type": "code",
   "execution_count": 17,
   "outputs": [],
   "source": [
    "def createDicomHeaderInfoCsv(DatasetPath):\n",
    "    dicomPath = DatasetPath+'/DICOM_STRUCTURED'\n",
    "    outPath = DatasetPath+'/DicomHeaderFrame.csv'\n",
    "    dicts = []\n",
    "    for root, folders, files in os.walk(dicomPath):\n",
    "        if files:\n",
    "            dicomAttributeDict = {\n",
    "                'structuredPath':None,\n",
    "                'InstanceCreationDate':None,\n",
    "                'Manufacturer':None,\n",
    "                'Modality':None,\n",
    "                'SeriesDescription':None,\n",
    "                'PatientID':None,\n",
    "                'ProtocolName':None,\n",
    "                'StudyInstanceUID':None,\n",
    "                'SeriesInstanceUID':None,\n",
    "                'RepetitionTime':None,\n",
    "                'EchoTime':None,\n",
    "                'InversionTime':None\n",
    "            }\n",
    "            data = pdicom.read_file(os.path.join(root, files[0]), stop_before_pixels=True)\n",
    "            dicomAttributeDict['structuredPath'] = root\n",
    "            try:\n",
    "                dicomAttributeDict['InstanceCreationDate'] = data.InstanceCreationDate\n",
    "            except:\n",
    "                pass\n",
    "            try:\n",
    "                dicomAttributeDict['Manufacturer'] = data.Manufacturer\n",
    "            except:\n",
    "                pass\n",
    "            try:\n",
    "                dicomAttributeDict['Modality'] = data.Modality\n",
    "            except:\n",
    "                pass\n",
    "            try:\n",
    "                dicomAttributeDict['SeriesDescription'] = data.SeriesDescription\n",
    "            except:\n",
    "                pass\n",
    "            try:\n",
    "                dicomAttributeDict['PatientID'] = data.PatientID\n",
    "            except:\n",
    "                pass\n",
    "            try:\n",
    "                dicomAttributeDict['ProtocolName'] = data.ProtocolName\n",
    "            except:\n",
    "                pass\n",
    "            try:\n",
    "                dicomAttributeDict['StudyInstanceUID'] = data.StudyInstanceUID\n",
    "            except:\n",
    "                pass\n",
    "            try:\n",
    "                dicomAttributeDict['SeriesInstanceUID'] = data.SeriesInstanceUID\n",
    "            except:\n",
    "                pass\n",
    "            try:\n",
    "                dicomAttributeDict['RepetitionTime'] = data.RepetitionTime\n",
    "            except:\n",
    "                pass\n",
    "            try:\n",
    "                dicomAttributeDict['EchoTime'] = data.EchoTime\n",
    "            except:\n",
    "                pass\n",
    "            try:\n",
    "                dicomAttributeDict['InversionTime'] = data.InversionTime\n",
    "            except:\n",
    "                pass\n",
    "            dicts.append(dicomAttributeDict)\n",
    "        df_dicom = pd.DataFrame(dicts)\n",
    "        df_dicom.to_csv(outPath, index=False)\n",
    "        return outPath"
   ],
   "metadata": {
    "collapsed": false,
    "ExecuteTime": {
     "end_time": "2023-10-20T08:05:15.264153688Z",
     "start_time": "2023-10-20T08:05:15.218964853Z"
    }
   },
   "id": "f3e5c3b421858676"
  },
  {
   "cell_type": "code",
   "execution_count": null,
   "outputs": [],
   "source": [],
   "metadata": {
    "collapsed": false
   },
   "id": "1e8637d81d711fef"
  }
 ],
 "metadata": {
  "kernelspec": {
   "display_name": "Python 3",
   "language": "python",
   "name": "python3"
  },
  "language_info": {
   "codemirror_mode": {
    "name": "ipython",
    "version": 2
   },
   "file_extension": ".py",
   "mimetype": "text/x-python",
   "name": "python",
   "nbconvert_exporter": "python",
   "pygments_lexer": "ipython2",
   "version": "2.7.6"
  }
 },
 "nbformat": 4,
 "nbformat_minor": 5
}
