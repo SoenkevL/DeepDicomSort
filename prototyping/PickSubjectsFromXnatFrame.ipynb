{
 "cells": [
  {
   "cell_type": "code",
   "execution_count": 1,
   "id": "initial_id",
   "metadata": {
    "collapsed": true,
    "ExecuteTime": {
     "end_time": "2023-10-25T12:16:13.584306382Z",
     "start_time": "2023-10-25T12:16:12.373253690Z"
    }
   },
   "outputs": [],
   "source": [
    "import pandas as pd\n",
    "from sklearn.model_selection import train_test_split"
   ]
  },
  {
   "cell_type": "code",
   "execution_count": 35,
   "outputs": [],
   "source": [
    "frameName = 'FullFrame_RSS.csv'\n",
    "outname = 'FullFrame_RSS_randomSubjectPicks.csv'"
   ],
   "metadata": {
    "collapsed": false,
    "ExecuteTime": {
     "end_time": "2023-10-25T12:41:26.921023558Z",
     "start_time": "2023-10-25T12:41:26.914567407Z"
    }
   },
   "id": "b703789c0b7c9afb"
  },
  {
   "cell_type": "code",
   "execution_count": 5,
   "outputs": [],
   "source": [
    "ImportFrame = pd.read_csv(frameName, index_col=0)"
   ],
   "metadata": {
    "collapsed": false,
    "ExecuteTime": {
     "end_time": "2023-10-25T12:18:49.929278140Z",
     "start_time": "2023-10-25T12:18:48.741347535Z"
    }
   },
   "id": "f8782862847f68fd"
  },
  {
   "cell_type": "code",
   "execution_count": 6,
   "outputs": [
    {
     "data": {
      "text/plain": "           insert_date_sub project_sub            ID_sub  label_sub  \\\n0  2017-07-29 01:47:51.788         rss  ERGO_TEST_S00037       1015   \n1  2017-07-29 01:47:51.788         rss  ERGO_TEST_S00037       1015   \n2  2017-07-29 01:47:51.788         rss  ERGO_TEST_S00037       1015   \n3  2017-07-29 01:47:51.788         rss  ERGO_TEST_S00037       1015   \n4  2017-07-29 01:47:51.788         rss  ERGO_TEST_S00037       1015   \n\n  insert_user                          URI_sub        date  \\\n0    infraadm  /data/subjects/ERGO_TEST_S00037  2016-08-10   \n1    infraadm  /data/subjects/ERGO_TEST_S00037  2016-08-10   \n2    infraadm  /data/subjects/ERGO_TEST_S00037  2016-08-10   \n3    infraadm  /data/subjects/ERGO_TEST_S00037  2016-08-10   \n4    infraadm  /data/subjects/ERGO_TEST_S00037  2016-08-10   \n\n              xsiType xnat_subjectassessordata_id          insert_date_exp  \\\n0  xnat:mrSessionData            ERGO_TEST_E00037  2017-07-29 01:47:51.788   \n1  xnat:mrSessionData            ERGO_TEST_E00037  2017-07-29 01:47:51.788   \n2  xnat:mrSessionData            ERGO_TEST_E00037  2017-07-29 01:47:51.788   \n3  xnat:mrSessionData            ERGO_TEST_E00037  2017-07-29 01:47:51.788   \n4  xnat:mrSessionData            ERGO_TEST_E00037  2017-07-29 01:47:51.788   \n\n   ...         subjectId     xsiType_scan xnat_imagescandata_id note  \\\n0  ...  ERGO_TEST_S00037  xnat:mrScanData                   469  NaN   \n1  ...  ERGO_TEST_S00037  xnat:mrScanData                   470  NaN   \n2  ...  ERGO_TEST_S00037  xnat:mrScanData                   471  NaN   \n3  ...  ERGO_TEST_S00037  xnat:mrScanData                   472  NaN   \n4  ...  ERGO_TEST_S00037  xnat:mrScanData                   473  NaN   \n\n             series_description ID                          type  \\\n0             3-plane localizer  1             3-plane localizer   \n1                     Sag 2D PC  2                     Sag 2D PC   \n2                       PDW-FSE  3                       PDW-FSE   \n3                Flow1Slice8Nex  4                Flow1Slice8Nex   \n4  Rest fMRI-TR2.9-TE60-160v-4m  5  Rest fMRI-TR2.9-TE60-160v-4m   \n\n                                          URI quality      experimentId  \n0  /data/experiments/ERGO_TEST_E00037/scans/1  usable  ERGO_TEST_E00037  \n1  /data/experiments/ERGO_TEST_E00037/scans/2  usable  ERGO_TEST_E00037  \n2  /data/experiments/ERGO_TEST_E00037/scans/3  usable  ERGO_TEST_E00037  \n3  /data/experiments/ERGO_TEST_E00037/scans/4  usable  ERGO_TEST_E00037  \n4  /data/experiments/ERGO_TEST_E00037/scans/5  usable  ERGO_TEST_E00037  \n\n[5 rows x 24 columns]",
      "text/html": "<div>\n<style scoped>\n    .dataframe tbody tr th:only-of-type {\n        vertical-align: middle;\n    }\n\n    .dataframe tbody tr th {\n        vertical-align: top;\n    }\n\n    .dataframe thead th {\n        text-align: right;\n    }\n</style>\n<table border=\"1\" class=\"dataframe\">\n  <thead>\n    <tr style=\"text-align: right;\">\n      <th></th>\n      <th>insert_date_sub</th>\n      <th>project_sub</th>\n      <th>ID_sub</th>\n      <th>label_sub</th>\n      <th>insert_user</th>\n      <th>URI_sub</th>\n      <th>date</th>\n      <th>xsiType</th>\n      <th>xnat_subjectassessordata_id</th>\n      <th>insert_date_exp</th>\n      <th>...</th>\n      <th>subjectId</th>\n      <th>xsiType_scan</th>\n      <th>xnat_imagescandata_id</th>\n      <th>note</th>\n      <th>series_description</th>\n      <th>ID</th>\n      <th>type</th>\n      <th>URI</th>\n      <th>quality</th>\n      <th>experimentId</th>\n    </tr>\n  </thead>\n  <tbody>\n    <tr>\n      <th>0</th>\n      <td>2017-07-29 01:47:51.788</td>\n      <td>rss</td>\n      <td>ERGO_TEST_S00037</td>\n      <td>1015</td>\n      <td>infraadm</td>\n      <td>/data/subjects/ERGO_TEST_S00037</td>\n      <td>2016-08-10</td>\n      <td>xnat:mrSessionData</td>\n      <td>ERGO_TEST_E00037</td>\n      <td>2017-07-29 01:47:51.788</td>\n      <td>...</td>\n      <td>ERGO_TEST_S00037</td>\n      <td>xnat:mrScanData</td>\n      <td>469</td>\n      <td>NaN</td>\n      <td>3-plane localizer</td>\n      <td>1</td>\n      <td>3-plane localizer</td>\n      <td>/data/experiments/ERGO_TEST_E00037/scans/1</td>\n      <td>usable</td>\n      <td>ERGO_TEST_E00037</td>\n    </tr>\n    <tr>\n      <th>1</th>\n      <td>2017-07-29 01:47:51.788</td>\n      <td>rss</td>\n      <td>ERGO_TEST_S00037</td>\n      <td>1015</td>\n      <td>infraadm</td>\n      <td>/data/subjects/ERGO_TEST_S00037</td>\n      <td>2016-08-10</td>\n      <td>xnat:mrSessionData</td>\n      <td>ERGO_TEST_E00037</td>\n      <td>2017-07-29 01:47:51.788</td>\n      <td>...</td>\n      <td>ERGO_TEST_S00037</td>\n      <td>xnat:mrScanData</td>\n      <td>470</td>\n      <td>NaN</td>\n      <td>Sag 2D PC</td>\n      <td>2</td>\n      <td>Sag 2D PC</td>\n      <td>/data/experiments/ERGO_TEST_E00037/scans/2</td>\n      <td>usable</td>\n      <td>ERGO_TEST_E00037</td>\n    </tr>\n    <tr>\n      <th>2</th>\n      <td>2017-07-29 01:47:51.788</td>\n      <td>rss</td>\n      <td>ERGO_TEST_S00037</td>\n      <td>1015</td>\n      <td>infraadm</td>\n      <td>/data/subjects/ERGO_TEST_S00037</td>\n      <td>2016-08-10</td>\n      <td>xnat:mrSessionData</td>\n      <td>ERGO_TEST_E00037</td>\n      <td>2017-07-29 01:47:51.788</td>\n      <td>...</td>\n      <td>ERGO_TEST_S00037</td>\n      <td>xnat:mrScanData</td>\n      <td>471</td>\n      <td>NaN</td>\n      <td>PDW-FSE</td>\n      <td>3</td>\n      <td>PDW-FSE</td>\n      <td>/data/experiments/ERGO_TEST_E00037/scans/3</td>\n      <td>usable</td>\n      <td>ERGO_TEST_E00037</td>\n    </tr>\n    <tr>\n      <th>3</th>\n      <td>2017-07-29 01:47:51.788</td>\n      <td>rss</td>\n      <td>ERGO_TEST_S00037</td>\n      <td>1015</td>\n      <td>infraadm</td>\n      <td>/data/subjects/ERGO_TEST_S00037</td>\n      <td>2016-08-10</td>\n      <td>xnat:mrSessionData</td>\n      <td>ERGO_TEST_E00037</td>\n      <td>2017-07-29 01:47:51.788</td>\n      <td>...</td>\n      <td>ERGO_TEST_S00037</td>\n      <td>xnat:mrScanData</td>\n      <td>472</td>\n      <td>NaN</td>\n      <td>Flow1Slice8Nex</td>\n      <td>4</td>\n      <td>Flow1Slice8Nex</td>\n      <td>/data/experiments/ERGO_TEST_E00037/scans/4</td>\n      <td>usable</td>\n      <td>ERGO_TEST_E00037</td>\n    </tr>\n    <tr>\n      <th>4</th>\n      <td>2017-07-29 01:47:51.788</td>\n      <td>rss</td>\n      <td>ERGO_TEST_S00037</td>\n      <td>1015</td>\n      <td>infraadm</td>\n      <td>/data/subjects/ERGO_TEST_S00037</td>\n      <td>2016-08-10</td>\n      <td>xnat:mrSessionData</td>\n      <td>ERGO_TEST_E00037</td>\n      <td>2017-07-29 01:47:51.788</td>\n      <td>...</td>\n      <td>ERGO_TEST_S00037</td>\n      <td>xnat:mrScanData</td>\n      <td>473</td>\n      <td>NaN</td>\n      <td>Rest fMRI-TR2.9-TE60-160v-4m</td>\n      <td>5</td>\n      <td>Rest fMRI-TR2.9-TE60-160v-4m</td>\n      <td>/data/experiments/ERGO_TEST_E00037/scans/5</td>\n      <td>usable</td>\n      <td>ERGO_TEST_E00037</td>\n    </tr>\n  </tbody>\n</table>\n<p>5 rows × 24 columns</p>\n</div>"
     },
     "execution_count": 6,
     "metadata": {},
     "output_type": "execute_result"
    }
   ],
   "source": [
    "ImportFrame.head()"
   ],
   "metadata": {
    "collapsed": false,
    "ExecuteTime": {
     "end_time": "2023-10-25T12:18:50.001605781Z",
     "start_time": "2023-10-25T12:18:49.947634722Z"
    }
   },
   "id": "73428639cf39c486"
  },
  {
   "cell_type": "code",
   "execution_count": 7,
   "outputs": [],
   "source": [
    "subIDs = ImportFrame['ID_sub'].unique()"
   ],
   "metadata": {
    "collapsed": false,
    "ExecuteTime": {
     "end_time": "2023-10-25T12:19:16.823391663Z",
     "start_time": "2023-10-25T12:19:16.772485757Z"
    }
   },
   "id": "fbe119e9b3ead723"
  },
  {
   "cell_type": "code",
   "execution_count": 8,
   "outputs": [
    {
     "data": {
      "text/plain": "6610"
     },
     "execution_count": 8,
     "metadata": {},
     "output_type": "execute_result"
    }
   ],
   "source": [
    "len(subIDs)"
   ],
   "metadata": {
    "collapsed": false,
    "ExecuteTime": {
     "end_time": "2023-10-25T12:19:49.828455201Z",
     "start_time": "2023-10-25T12:19:49.782141022Z"
    }
   },
   "id": "f7806e213030f6ee"
  },
  {
   "cell_type": "code",
   "execution_count": 26,
   "outputs": [],
   "source": [
    "dates = ImportFrame['insert_date_sub'].unique()"
   ],
   "metadata": {
    "collapsed": false,
    "ExecuteTime": {
     "end_time": "2023-10-25T12:34:32.573839217Z",
     "start_time": "2023-10-25T12:34:32.529096537Z"
    }
   },
   "id": "7af9525ab1010353"
  },
  {
   "cell_type": "code",
   "execution_count": 27,
   "outputs": [
    {
     "data": {
      "text/plain": "array(['2017-07-29 01:47:51.788', '2017-07-29 09:25:39.962',\n       '2018-04-06 13:38:36.591', ..., '2017-07-31 21:32:10.234',\n       '2023-09-28 00:01:09.669', '2023-10-03 00:01:04.905'], dtype=object)"
     },
     "execution_count": 27,
     "metadata": {},
     "output_type": "execute_result"
    }
   ],
   "source": [
    "dates"
   ],
   "metadata": {
    "collapsed": false,
    "ExecuteTime": {
     "end_time": "2023-10-25T12:34:34.697060489Z",
     "start_time": "2023-10-25T12:34:34.687212759Z"
    }
   },
   "id": "18c299c44e4507a2"
  },
  {
   "cell_type": "code",
   "execution_count": 28,
   "outputs": [],
   "source": [
    "years = [str(y).split('-')[0] for y in dates]"
   ],
   "metadata": {
    "collapsed": false,
    "ExecuteTime": {
     "end_time": "2023-10-25T12:37:16.147547366Z",
     "start_time": "2023-10-25T12:37:16.132149443Z"
    }
   },
   "id": "7d414160e7eb4f08"
  },
  {
   "cell_type": "code",
   "execution_count": 29,
   "outputs": [
    {
     "data": {
      "text/plain": "['2017',\n '2017',\n '2018',\n '2017',\n '2017',\n '2017',\n '2017',\n '2017',\n '2017',\n '2017',\n '2017',\n '2017',\n '2017',\n '2017',\n '2017',\n '2017',\n '2017',\n '2017',\n '2017',\n '2017',\n '2017',\n '2017',\n '2017',\n '2017',\n '2017',\n '2017',\n '2017',\n '2017',\n '2017',\n '2017',\n '2017',\n '2017',\n '2017',\n '2017',\n '2017',\n '2017',\n '2017',\n '2017',\n '2017',\n '2017',\n '2017',\n '2017',\n '2017',\n '2017',\n '2017',\n '2017',\n '2017',\n '2017',\n '2017',\n '2017',\n '2017',\n '2017',\n '2017',\n '2017',\n '2017',\n '2017',\n '2017',\n '2017',\n '2017',\n '2017',\n '2017',\n '2017',\n '2017',\n '2017',\n '2017',\n '2017',\n '2017',\n '2017',\n '2017',\n '2017',\n '2017',\n '2017',\n '2017',\n '2017',\n '2017',\n '2017',\n '2017',\n '2017',\n '2017',\n '2017',\n '2017',\n '2017',\n '2017',\n '2017',\n '2017',\n '2017',\n '2017',\n '2017',\n '2017',\n '2017',\n '2017',\n '2017',\n '2017',\n '2017',\n '2017',\n '2017',\n '2017',\n '2017',\n '2017',\n '2017',\n '2017',\n '2017',\n '2017',\n '2017',\n '2017',\n '2017',\n '2017',\n '2017',\n '2017',\n '2017',\n '2017',\n '2018',\n '2017',\n '2017',\n '2017',\n '2017',\n '2017',\n '2017',\n '2017',\n '2017',\n '2017',\n '2017',\n '2017',\n '2017',\n '2017',\n '2017',\n '2017',\n '2017',\n '2017',\n '2017',\n '2017',\n '2017',\n '2017',\n '2017',\n '2017',\n '2022',\n '2017',\n '2022',\n '2017',\n '2017',\n '2017',\n '2017',\n '2017',\n '2017',\n '2017',\n '2017',\n '2017',\n '2017',\n '2017',\n '2017',\n '2017',\n '2017',\n '2017',\n '2017',\n '2017',\n '2017',\n '2017',\n '2017',\n '2017',\n '2017',\n '2017',\n '2017',\n '2017',\n '2017',\n '2017',\n '2022',\n '2022',\n '2017',\n '2022',\n '2022',\n '2022',\n '2017',\n '2017',\n '2017',\n '2017',\n '2017',\n '2017',\n '2017',\n '2017',\n '2017',\n '2017',\n '2017',\n '2017',\n '2017',\n '2017',\n '2017',\n '2017',\n '2017',\n '2017',\n '2017',\n '2017',\n '2017',\n '2017',\n '2017',\n '2017',\n '2017',\n '2017',\n '2017',\n '2017',\n '2017',\n '2017',\n '2017',\n '2017',\n '2017',\n '2017',\n '2017',\n '2017',\n '2017',\n '2017',\n '2017',\n '2017',\n '2017',\n '2017',\n '2017',\n '2017',\n '2017',\n '2017',\n '2017',\n '2017',\n '2017',\n '2017',\n '2017',\n '2017',\n '2017',\n '2017',\n '2017',\n '2019',\n '2017',\n '2017',\n '2017',\n '2017',\n '2017',\n '2017',\n '2017',\n '2017',\n '2017',\n '2017',\n '2017',\n '2017',\n '2017',\n '2017',\n '2017',\n '2017',\n '2017',\n '2017',\n '2017',\n '2017',\n '2017',\n '2017',\n '2017',\n '2017',\n '2017',\n '2017',\n '2017',\n '2017',\n '2017',\n '2017',\n '2017',\n '2017',\n '2017',\n '2017',\n '2017',\n '2017',\n '2017',\n '2017',\n '2017',\n '2017',\n '2019',\n '2017',\n '2017',\n '2017',\n '2017',\n '2017',\n '2017',\n '2017',\n '2017',\n '2017',\n '2017',\n '2017',\n '2017',\n '2017',\n '2017',\n '2017',\n '2017',\n '2017',\n '2017',\n '2017',\n '2017',\n '2017',\n '2017',\n '2017',\n '2017',\n '2017',\n '2017',\n '2017',\n '2017',\n '2017',\n '2017',\n '2017',\n '2017',\n '2017',\n '2017',\n '2019',\n '2017',\n '2017',\n '2017',\n '2017',\n '2017',\n '2017',\n '2017',\n '2017',\n '2017',\n '2017',\n '2017',\n '2017',\n '2017',\n '2017',\n '2017',\n '2017',\n '2017',\n '2017',\n '2017',\n '2017',\n '2017',\n '2017',\n '2017',\n '2017',\n '2017',\n '2017',\n '2017',\n '2017',\n '2017',\n '2017',\n '2017',\n '2017',\n '2017',\n '2017',\n '2017',\n '2017',\n '2017',\n '2017',\n '2017',\n '2017',\n '2017',\n '2017',\n '2017',\n '2017',\n '2017',\n '2017',\n '2017',\n '2017',\n '2017',\n '2017',\n '2017',\n '2017',\n '2017',\n '2017',\n '2017',\n '2017',\n '2022',\n '2017',\n '2017',\n '2017',\n '2017',\n '2017',\n '2017',\n '2017',\n '2017',\n '2017',\n '2017',\n '2017',\n '2017',\n '2017',\n '2017',\n '2017',\n '2017',\n '2017',\n '2017',\n '2017',\n '2017',\n '2017',\n '2017',\n '2017',\n '2017',\n '2017',\n '2017',\n '2017',\n '2017',\n '2017',\n '2017',\n '2017',\n '2017',\n '2017',\n '2022',\n '2017',\n '2017',\n '2017',\n '2017',\n '2017',\n '2017',\n '2017',\n '2017',\n '2017',\n '2017',\n '2017',\n '2017',\n '2017',\n '2017',\n '2017',\n '2017',\n '2017',\n '2017',\n '2017',\n '2017',\n '2017',\n '2017',\n '2017',\n '2017',\n '2017',\n '2017',\n '2017',\n '2017',\n '2017',\n '2017',\n '2017',\n '2017',\n '2017',\n '2017',\n '2017',\n '2017',\n '2017',\n '2017',\n '2017',\n '2017',\n '2017',\n '2017',\n '2017',\n '2017',\n '2017',\n '2017',\n '2017',\n '2017',\n '2017',\n '2017',\n '2017',\n '2017',\n '2017',\n '2017',\n '2017',\n '2017',\n '2022',\n '2017',\n '2017',\n '2017',\n '2017',\n '2017',\n '2017',\n '2017',\n '2017',\n '2017',\n '2017',\n '2017',\n '2017',\n '2017',\n '2017',\n '2017',\n '2017',\n '2017',\n '2017',\n '2017',\n '2017',\n '2017',\n '2017',\n '2017',\n '2017',\n '2017',\n '2017',\n '2017',\n '2017',\n '2017',\n '2017',\n '2017',\n '2017',\n '2017',\n '2017',\n '2017',\n '2017',\n '2017',\n '2017',\n '2017',\n '2017',\n '2017',\n '2017',\n '2017',\n '2017',\n '2017',\n '2017',\n '2017',\n '2017',\n '2017',\n '2017',\n '2017',\n '2017',\n '2017',\n '2017',\n '2017',\n '2017',\n '2017',\n '2017',\n '2017',\n '2017',\n '2017',\n '2017',\n '2017',\n '2017',\n '2017',\n '2017',\n '2017',\n '2017',\n '2017',\n '2017',\n '2017',\n '2017',\n '2017',\n '2017',\n '2017',\n '2017',\n '2017',\n '2017',\n '2017',\n '2017',\n '2017',\n '2017',\n '2017',\n '2017',\n '2017',\n '2017',\n '2017',\n '2017',\n '2017',\n '2017',\n '2017',\n '2017',\n '2017',\n '2017',\n '2017',\n '2017',\n '2017',\n '2017',\n '2017',\n '2017',\n '2017',\n '2017',\n '2017',\n '2017',\n '2017',\n '2017',\n '2017',\n '2017',\n '2017',\n '2017',\n '2017',\n '2017',\n '2017',\n '2017',\n '2017',\n '2017',\n '2017',\n '2017',\n '2017',\n '2017',\n '2017',\n '2017',\n '2017',\n '2017',\n '2017',\n '2017',\n '2017',\n '2017',\n '2017',\n '2017',\n '2017',\n '2017',\n '2017',\n '2017',\n '2017',\n '2017',\n '2017',\n '2017',\n '2017',\n '2017',\n '2017',\n '2017',\n '2017',\n '2017',\n '2017',\n '2017',\n '2017',\n '2017',\n '2017',\n '2017',\n '2017',\n '2017',\n '2017',\n '2017',\n '2017',\n '2017',\n '2017',\n '2017',\n '2017',\n '2017',\n '2017',\n '2017',\n '2017',\n '2017',\n '2017',\n '2017',\n '2017',\n '2017',\n '2017',\n '2017',\n '2017',\n '2017',\n '2017',\n '2017',\n '2017',\n '2017',\n '2017',\n '2017',\n '2017',\n '2017',\n '2017',\n '2017',\n '2017',\n '2017',\n '2017',\n '2017',\n '2017',\n '2017',\n '2017',\n '2017',\n '2017',\n '2017',\n '2017',\n '2017',\n '2017',\n '2017',\n '2017',\n '2017',\n '2017',\n '2017',\n '2017',\n '2017',\n '2017',\n '2017',\n '2017',\n '2017',\n '2017',\n '2017',\n '2017',\n '2017',\n '2017',\n '2017',\n '2017',\n '2018',\n '2017',\n '2017',\n '2017',\n '2017',\n '2017',\n '2017',\n '2017',\n '2017',\n '2017',\n '2017',\n '2017',\n '2017',\n '2017',\n '2017',\n '2017',\n '2017',\n '2017',\n '2017',\n '2017',\n '2017',\n '2017',\n '2017',\n '2017',\n '2017',\n '2017',\n '2017',\n '2017',\n '2017',\n '2017',\n '2017',\n '2017',\n '2017',\n '2017',\n '2017',\n '2017',\n '2017',\n '2017',\n '2017',\n '2017',\n '2017',\n '2017',\n '2017',\n '2017',\n '2017',\n '2017',\n '2017',\n '2017',\n '2017',\n '2017',\n '2017',\n '2017',\n '2017',\n '2017',\n '2017',\n '2017',\n '2017',\n '2017',\n '2017',\n '2017',\n '2017',\n '2017',\n '2017',\n '2017',\n '2017',\n '2017',\n '2017',\n '2017',\n '2017',\n '2017',\n '2017',\n '2017',\n '2017',\n '2017',\n '2017',\n '2017',\n '2017',\n '2017',\n '2017',\n '2017',\n '2017',\n '2017',\n '2017',\n '2017',\n '2017',\n '2017',\n '2017',\n '2017',\n '2017',\n '2017',\n '2017',\n '2017',\n '2017',\n '2017',\n '2017',\n '2017',\n '2017',\n '2017',\n '2017',\n '2017',\n '2017',\n '2017',\n '2017',\n '2017',\n '2017',\n '2017',\n '2017',\n '2017',\n '2017',\n '2017',\n '2017',\n '2017',\n '2017',\n '2017',\n '2017',\n '2017',\n '2017',\n '2017',\n '2017',\n '2017',\n '2017',\n '2017',\n '2017',\n '2017',\n '2017',\n '2017',\n '2017',\n '2017',\n '2017',\n '2017',\n '2017',\n '2017',\n '2017',\n '2017',\n '2017',\n '2017',\n '2017',\n '2017',\n '2017',\n '2017',\n '2017',\n '2017',\n '2017',\n '2017',\n '2017',\n '2017',\n '2017',\n '2017',\n '2017',\n '2017',\n '2017',\n '2017',\n '2017',\n '2017',\n '2017',\n '2017',\n '2017',\n '2017',\n '2017',\n '2018',\n '2017',\n '2017',\n '2017',\n '2017',\n '2017',\n '2017',\n '2017',\n '2017',\n '2017',\n '2017',\n '2017',\n '2017',\n '2017',\n '2017',\n '2017',\n '2017',\n '2017',\n '2017',\n '2017',\n '2017',\n '2017',\n '2017',\n '2017',\n '2017',\n '2017',\n '2017',\n '2017',\n '2018',\n '2017',\n '2017',\n '2017',\n '2017',\n '2017',\n '2017',\n '2017',\n '2017',\n '2017',\n '2017',\n '2017',\n '2017',\n '2017',\n '2017',\n '2017',\n '2017',\n '2017',\n '2018',\n '2018',\n '2017',\n '2017',\n '2018',\n '2017',\n '2017',\n '2018',\n '2017',\n '2018',\n '2017',\n '2018',\n '2017',\n '2017',\n '2018',\n '2017',\n '2017',\n '2017',\n '2017',\n '2017',\n '2017',\n '2017',\n '2017',\n '2017',\n '2017',\n '2017',\n '2017',\n '2017',\n '2018',\n '2018',\n '2017',\n '2017',\n '2017',\n '2017',\n '2017',\n '2017',\n '2017',\n '2017',\n '2017',\n '2017',\n '2017',\n '2017',\n '2017',\n '2018',\n '2017',\n '2017',\n '2017',\n '2017',\n '2017',\n '2017',\n '2017',\n '2017',\n '2017',\n '2017',\n '2017',\n '2017',\n '2017',\n '2017',\n '2018',\n '2017',\n '2017',\n '2018',\n '2017',\n '2017',\n '2017',\n '2017',\n '2017',\n '2017',\n '2017',\n '2017',\n '2017',\n '2017',\n '2017',\n '2017',\n '2017',\n '2017',\n '2017',\n '2017',\n '2017',\n '2017',\n '2017',\n '2017',\n '2017',\n '2017',\n '2017',\n '2017',\n '2017',\n '2017',\n '2017',\n '2017',\n '2017',\n '2017',\n '2017',\n '2017',\n '2017',\n '2017',\n '2017',\n '2017',\n '2017',\n '2017',\n '2017',\n '2017',\n '2017',\n '2017',\n '2017',\n '2017',\n '2017',\n '2017',\n '2017',\n '2017',\n '2017',\n '2017',\n '2017',\n '2017',\n '2017',\n '2017',\n '2017',\n '2017',\n '2017',\n '2017',\n '2017',\n '2017',\n '2017',\n '2017',\n '2017',\n '2017',\n '2017',\n '2017',\n '2017',\n '2017',\n '2017',\n ...]"
     },
     "execution_count": 29,
     "metadata": {},
     "output_type": "execute_result"
    }
   ],
   "source": [
    "years"
   ],
   "metadata": {
    "collapsed": false,
    "ExecuteTime": {
     "end_time": "2023-10-25T12:37:22.518107715Z",
     "start_time": "2023-10-25T12:37:22.492003983Z"
    }
   },
   "id": "e1b410b260d87315"
  },
  {
   "cell_type": "code",
   "execution_count": 30,
   "outputs": [],
   "source": [
    "keep, discard = train_test_split(subIDs, train_size=50,stratify=years, shuffle=True, random_state=42)"
   ],
   "metadata": {
    "collapsed": false,
    "ExecuteTime": {
     "end_time": "2023-10-25T12:37:54.131421554Z",
     "start_time": "2023-10-25T12:37:54.062235675Z"
    }
   },
   "id": "7c91bf5d1aa84d3c"
  },
  {
   "cell_type": "code",
   "execution_count": 31,
   "outputs": [],
   "source": [
    "df = pd.DataFrame()\n",
    "for ID in keep:\n",
    "    temp = ImportFrame[ImportFrame['ID_sub']==ID]\n",
    "    df = pd.concat([df, temp], axis=0)\n",
    "    "
   ],
   "metadata": {
    "collapsed": false,
    "ExecuteTime": {
     "end_time": "2023-10-25T12:37:55.315249774Z",
     "start_time": "2023-10-25T12:37:54.722666405Z"
    }
   },
   "id": "5db62e8aa87b138"
  },
  {
   "cell_type": "code",
   "execution_count": 32,
   "outputs": [
    {
     "data": {
      "text/plain": "                insert_date_sub project_sub            ID_sub  label_sub  \\\n110364   2019-05-21 18:14:18.37         rss  ERGO_TEST_S06536       4290   \n110365   2019-05-21 18:14:18.37         rss  ERGO_TEST_S06536       4290   \n110366   2019-05-21 18:14:18.37         rss  ERGO_TEST_S06536       4290   \n110367   2019-05-21 18:14:18.37         rss  ERGO_TEST_S06536       4290   \n110368   2019-05-21 18:14:18.37         rss  ERGO_TEST_S06536       4290   \n...                         ...         ...               ...        ...   \n2057    2017-07-29 14:11:33.404         rss  ERGO_TEST_S00086        783   \n2058    2017-07-29 14:11:33.404         rss  ERGO_TEST_S00086        783   \n2059    2017-07-29 14:11:33.404         rss  ERGO_TEST_S00086        783   \n2060    2017-07-29 14:11:33.404         rss  ERGO_TEST_S00086        783   \n2061    2017-07-29 14:11:33.404         rss  ERGO_TEST_S00086        783   \n\n       insert_user                          URI_sub        date  \\\n110364    mkoekadm  /data/subjects/ERGO_TEST_S06536  2014-03-20   \n110365    mkoekadm  /data/subjects/ERGO_TEST_S06536  2014-03-20   \n110366    mkoekadm  /data/subjects/ERGO_TEST_S06536  2014-03-20   \n110367    mkoekadm  /data/subjects/ERGO_TEST_S06536  2014-03-20   \n110368    mkoekadm  /data/subjects/ERGO_TEST_S06536  2014-03-20   \n...            ...                              ...         ...   \n2057      infraadm  /data/subjects/ERGO_TEST_S00086  2011-05-03   \n2058      infraadm  /data/subjects/ERGO_TEST_S00086  2011-05-03   \n2059      infraadm  /data/subjects/ERGO_TEST_S00086  2011-05-03   \n2060      infraadm  /data/subjects/ERGO_TEST_S00086  2011-05-03   \n2061      infraadm  /data/subjects/ERGO_TEST_S00086  2011-05-03   \n\n                   xsiType xnat_subjectassessordata_id  \\\n110364  xnat:mrSessionData            ERGO_TEST_E09155   \n110365  xnat:mrSessionData            ERGO_TEST_E09155   \n110366  xnat:mrSessionData            ERGO_TEST_E09155   \n110367  xnat:mrSessionData            ERGO_TEST_E09155   \n110368  xnat:mrSessionData            ERGO_TEST_E09155   \n...                    ...                         ...   \n2057    xnat:mrSessionData            ERGO_TEST_E04414   \n2058    xnat:mrSessionData            ERGO_TEST_E04414   \n2059    xnat:mrSessionData            ERGO_TEST_E04414   \n2060    xnat:mrSessionData            ERGO_TEST_E04414   \n2061    xnat:mrSessionData            ERGO_TEST_E04414   \n\n                insert_date_exp  ...         subjectId     xsiType_scan  \\\n110364   2019-05-21 18:14:18.37  ...  ERGO_TEST_S06536  xnat:mrScanData   \n110365   2019-05-21 18:14:18.37  ...  ERGO_TEST_S06536  xnat:mrScanData   \n110366   2019-05-21 18:14:18.37  ...  ERGO_TEST_S06536  xnat:mrScanData   \n110367   2019-05-21 18:14:18.37  ...  ERGO_TEST_S06536  xnat:mrScanData   \n110368   2019-05-21 18:14:18.37  ...  ERGO_TEST_S06536  xnat:mrScanData   \n...                         ...  ...               ...              ...   \n2057    2019-04-02 09:32:44.439  ...  ERGO_TEST_S00086  xnat:mrScanData   \n2058    2019-04-02 09:32:44.439  ...  ERGO_TEST_S00086  xnat:mrScanData   \n2059    2019-04-02 09:32:44.439  ...  ERGO_TEST_S00086  xnat:mrScanData   \n2060    2019-04-02 09:32:44.439  ...  ERGO_TEST_S00086  xnat:mrScanData   \n2061    2019-04-02 09:32:44.439  ...  ERGO_TEST_S00086  xnat:mrScanData   \n\n       xnat_imagescandata_id note            series_description   ID  \\\n110364                109025  NaN             3-plane localizer    1   \n110365                109026  NaN                     Sag 2D PC    2   \n110366                109027  NaN                       PDW-FSE    3   \n110367                109028  NaN                Flow1Slice8Nex    4   \n110368                109029  NaN  Rest fMRI-TR2.9-TE60-160v-4m    5   \n...                      ...  ...                           ...  ...   \n2057                   53691  NaN             Asset Calibration    9   \n2058                   53692  NaN                        SWI-3D   10   \n2059                   53693  NaN                    TENSOR-DWI  800   \n2060                   53694  NaN                    TENSOR-DWI  801   \n2061                   53695  NaN                    TENSOR-DWI  802   \n\n                                type  \\\n110364             3-plane localizer   \n110365                     Sag 2D PC   \n110366                       PDW-FSE   \n110367                Flow1Slice8Nex   \n110368  Rest fMRI-TR2.9-TE60-160v-4m   \n...                              ...   \n2057               Asset Calibration   \n2058                          SWI-3D   \n2059                      TENSOR-DWI   \n2060                      TENSOR-DWI   \n2061                      TENSOR-DWI   \n\n                                                 URI quality      experimentId  \n110364    /data/experiments/ERGO_TEST_E09155/scans/1  usable  ERGO_TEST_E09155  \n110365    /data/experiments/ERGO_TEST_E09155/scans/2  usable  ERGO_TEST_E09155  \n110366    /data/experiments/ERGO_TEST_E09155/scans/3  usable  ERGO_TEST_E09155  \n110367    /data/experiments/ERGO_TEST_E09155/scans/4  usable  ERGO_TEST_E09155  \n110368    /data/experiments/ERGO_TEST_E09155/scans/5  usable  ERGO_TEST_E09155  \n...                                              ...     ...               ...  \n2057      /data/experiments/ERGO_TEST_E04414/scans/9  usable  ERGO_TEST_E04414  \n2058     /data/experiments/ERGO_TEST_E04414/scans/10  usable  ERGO_TEST_E04414  \n2059    /data/experiments/ERGO_TEST_E04414/scans/800  usable  ERGO_TEST_E04414  \n2060    /data/experiments/ERGO_TEST_E04414/scans/801  usable  ERGO_TEST_E04414  \n2061    /data/experiments/ERGO_TEST_E04414/scans/802  usable  ERGO_TEST_E04414  \n\n[1037 rows x 24 columns]",
      "text/html": "<div>\n<style scoped>\n    .dataframe tbody tr th:only-of-type {\n        vertical-align: middle;\n    }\n\n    .dataframe tbody tr th {\n        vertical-align: top;\n    }\n\n    .dataframe thead th {\n        text-align: right;\n    }\n</style>\n<table border=\"1\" class=\"dataframe\">\n  <thead>\n    <tr style=\"text-align: right;\">\n      <th></th>\n      <th>insert_date_sub</th>\n      <th>project_sub</th>\n      <th>ID_sub</th>\n      <th>label_sub</th>\n      <th>insert_user</th>\n      <th>URI_sub</th>\n      <th>date</th>\n      <th>xsiType</th>\n      <th>xnat_subjectassessordata_id</th>\n      <th>insert_date_exp</th>\n      <th>...</th>\n      <th>subjectId</th>\n      <th>xsiType_scan</th>\n      <th>xnat_imagescandata_id</th>\n      <th>note</th>\n      <th>series_description</th>\n      <th>ID</th>\n      <th>type</th>\n      <th>URI</th>\n      <th>quality</th>\n      <th>experimentId</th>\n    </tr>\n  </thead>\n  <tbody>\n    <tr>\n      <th>110364</th>\n      <td>2019-05-21 18:14:18.37</td>\n      <td>rss</td>\n      <td>ERGO_TEST_S06536</td>\n      <td>4290</td>\n      <td>mkoekadm</td>\n      <td>/data/subjects/ERGO_TEST_S06536</td>\n      <td>2014-03-20</td>\n      <td>xnat:mrSessionData</td>\n      <td>ERGO_TEST_E09155</td>\n      <td>2019-05-21 18:14:18.37</td>\n      <td>...</td>\n      <td>ERGO_TEST_S06536</td>\n      <td>xnat:mrScanData</td>\n      <td>109025</td>\n      <td>NaN</td>\n      <td>3-plane localizer</td>\n      <td>1</td>\n      <td>3-plane localizer</td>\n      <td>/data/experiments/ERGO_TEST_E09155/scans/1</td>\n      <td>usable</td>\n      <td>ERGO_TEST_E09155</td>\n    </tr>\n    <tr>\n      <th>110365</th>\n      <td>2019-05-21 18:14:18.37</td>\n      <td>rss</td>\n      <td>ERGO_TEST_S06536</td>\n      <td>4290</td>\n      <td>mkoekadm</td>\n      <td>/data/subjects/ERGO_TEST_S06536</td>\n      <td>2014-03-20</td>\n      <td>xnat:mrSessionData</td>\n      <td>ERGO_TEST_E09155</td>\n      <td>2019-05-21 18:14:18.37</td>\n      <td>...</td>\n      <td>ERGO_TEST_S06536</td>\n      <td>xnat:mrScanData</td>\n      <td>109026</td>\n      <td>NaN</td>\n      <td>Sag 2D PC</td>\n      <td>2</td>\n      <td>Sag 2D PC</td>\n      <td>/data/experiments/ERGO_TEST_E09155/scans/2</td>\n      <td>usable</td>\n      <td>ERGO_TEST_E09155</td>\n    </tr>\n    <tr>\n      <th>110366</th>\n      <td>2019-05-21 18:14:18.37</td>\n      <td>rss</td>\n      <td>ERGO_TEST_S06536</td>\n      <td>4290</td>\n      <td>mkoekadm</td>\n      <td>/data/subjects/ERGO_TEST_S06536</td>\n      <td>2014-03-20</td>\n      <td>xnat:mrSessionData</td>\n      <td>ERGO_TEST_E09155</td>\n      <td>2019-05-21 18:14:18.37</td>\n      <td>...</td>\n      <td>ERGO_TEST_S06536</td>\n      <td>xnat:mrScanData</td>\n      <td>109027</td>\n      <td>NaN</td>\n      <td>PDW-FSE</td>\n      <td>3</td>\n      <td>PDW-FSE</td>\n      <td>/data/experiments/ERGO_TEST_E09155/scans/3</td>\n      <td>usable</td>\n      <td>ERGO_TEST_E09155</td>\n    </tr>\n    <tr>\n      <th>110367</th>\n      <td>2019-05-21 18:14:18.37</td>\n      <td>rss</td>\n      <td>ERGO_TEST_S06536</td>\n      <td>4290</td>\n      <td>mkoekadm</td>\n      <td>/data/subjects/ERGO_TEST_S06536</td>\n      <td>2014-03-20</td>\n      <td>xnat:mrSessionData</td>\n      <td>ERGO_TEST_E09155</td>\n      <td>2019-05-21 18:14:18.37</td>\n      <td>...</td>\n      <td>ERGO_TEST_S06536</td>\n      <td>xnat:mrScanData</td>\n      <td>109028</td>\n      <td>NaN</td>\n      <td>Flow1Slice8Nex</td>\n      <td>4</td>\n      <td>Flow1Slice8Nex</td>\n      <td>/data/experiments/ERGO_TEST_E09155/scans/4</td>\n      <td>usable</td>\n      <td>ERGO_TEST_E09155</td>\n    </tr>\n    <tr>\n      <th>110368</th>\n      <td>2019-05-21 18:14:18.37</td>\n      <td>rss</td>\n      <td>ERGO_TEST_S06536</td>\n      <td>4290</td>\n      <td>mkoekadm</td>\n      <td>/data/subjects/ERGO_TEST_S06536</td>\n      <td>2014-03-20</td>\n      <td>xnat:mrSessionData</td>\n      <td>ERGO_TEST_E09155</td>\n      <td>2019-05-21 18:14:18.37</td>\n      <td>...</td>\n      <td>ERGO_TEST_S06536</td>\n      <td>xnat:mrScanData</td>\n      <td>109029</td>\n      <td>NaN</td>\n      <td>Rest fMRI-TR2.9-TE60-160v-4m</td>\n      <td>5</td>\n      <td>Rest fMRI-TR2.9-TE60-160v-4m</td>\n      <td>/data/experiments/ERGO_TEST_E09155/scans/5</td>\n      <td>usable</td>\n      <td>ERGO_TEST_E09155</td>\n    </tr>\n    <tr>\n      <th>...</th>\n      <td>...</td>\n      <td>...</td>\n      <td>...</td>\n      <td>...</td>\n      <td>...</td>\n      <td>...</td>\n      <td>...</td>\n      <td>...</td>\n      <td>...</td>\n      <td>...</td>\n      <td>...</td>\n      <td>...</td>\n      <td>...</td>\n      <td>...</td>\n      <td>...</td>\n      <td>...</td>\n      <td>...</td>\n      <td>...</td>\n      <td>...</td>\n      <td>...</td>\n      <td>...</td>\n    </tr>\n    <tr>\n      <th>2057</th>\n      <td>2017-07-29 14:11:33.404</td>\n      <td>rss</td>\n      <td>ERGO_TEST_S00086</td>\n      <td>783</td>\n      <td>infraadm</td>\n      <td>/data/subjects/ERGO_TEST_S00086</td>\n      <td>2011-05-03</td>\n      <td>xnat:mrSessionData</td>\n      <td>ERGO_TEST_E04414</td>\n      <td>2019-04-02 09:32:44.439</td>\n      <td>...</td>\n      <td>ERGO_TEST_S00086</td>\n      <td>xnat:mrScanData</td>\n      <td>53691</td>\n      <td>NaN</td>\n      <td>Asset Calibration</td>\n      <td>9</td>\n      <td>Asset Calibration</td>\n      <td>/data/experiments/ERGO_TEST_E04414/scans/9</td>\n      <td>usable</td>\n      <td>ERGO_TEST_E04414</td>\n    </tr>\n    <tr>\n      <th>2058</th>\n      <td>2017-07-29 14:11:33.404</td>\n      <td>rss</td>\n      <td>ERGO_TEST_S00086</td>\n      <td>783</td>\n      <td>infraadm</td>\n      <td>/data/subjects/ERGO_TEST_S00086</td>\n      <td>2011-05-03</td>\n      <td>xnat:mrSessionData</td>\n      <td>ERGO_TEST_E04414</td>\n      <td>2019-04-02 09:32:44.439</td>\n      <td>...</td>\n      <td>ERGO_TEST_S00086</td>\n      <td>xnat:mrScanData</td>\n      <td>53692</td>\n      <td>NaN</td>\n      <td>SWI-3D</td>\n      <td>10</td>\n      <td>SWI-3D</td>\n      <td>/data/experiments/ERGO_TEST_E04414/scans/10</td>\n      <td>usable</td>\n      <td>ERGO_TEST_E04414</td>\n    </tr>\n    <tr>\n      <th>2059</th>\n      <td>2017-07-29 14:11:33.404</td>\n      <td>rss</td>\n      <td>ERGO_TEST_S00086</td>\n      <td>783</td>\n      <td>infraadm</td>\n      <td>/data/subjects/ERGO_TEST_S00086</td>\n      <td>2011-05-03</td>\n      <td>xnat:mrSessionData</td>\n      <td>ERGO_TEST_E04414</td>\n      <td>2019-04-02 09:32:44.439</td>\n      <td>...</td>\n      <td>ERGO_TEST_S00086</td>\n      <td>xnat:mrScanData</td>\n      <td>53693</td>\n      <td>NaN</td>\n      <td>TENSOR-DWI</td>\n      <td>800</td>\n      <td>TENSOR-DWI</td>\n      <td>/data/experiments/ERGO_TEST_E04414/scans/800</td>\n      <td>usable</td>\n      <td>ERGO_TEST_E04414</td>\n    </tr>\n    <tr>\n      <th>2060</th>\n      <td>2017-07-29 14:11:33.404</td>\n      <td>rss</td>\n      <td>ERGO_TEST_S00086</td>\n      <td>783</td>\n      <td>infraadm</td>\n      <td>/data/subjects/ERGO_TEST_S00086</td>\n      <td>2011-05-03</td>\n      <td>xnat:mrSessionData</td>\n      <td>ERGO_TEST_E04414</td>\n      <td>2019-04-02 09:32:44.439</td>\n      <td>...</td>\n      <td>ERGO_TEST_S00086</td>\n      <td>xnat:mrScanData</td>\n      <td>53694</td>\n      <td>NaN</td>\n      <td>TENSOR-DWI</td>\n      <td>801</td>\n      <td>TENSOR-DWI</td>\n      <td>/data/experiments/ERGO_TEST_E04414/scans/801</td>\n      <td>usable</td>\n      <td>ERGO_TEST_E04414</td>\n    </tr>\n    <tr>\n      <th>2061</th>\n      <td>2017-07-29 14:11:33.404</td>\n      <td>rss</td>\n      <td>ERGO_TEST_S00086</td>\n      <td>783</td>\n      <td>infraadm</td>\n      <td>/data/subjects/ERGO_TEST_S00086</td>\n      <td>2011-05-03</td>\n      <td>xnat:mrSessionData</td>\n      <td>ERGO_TEST_E04414</td>\n      <td>2019-04-02 09:32:44.439</td>\n      <td>...</td>\n      <td>ERGO_TEST_S00086</td>\n      <td>xnat:mrScanData</td>\n      <td>53695</td>\n      <td>NaN</td>\n      <td>TENSOR-DWI</td>\n      <td>802</td>\n      <td>TENSOR-DWI</td>\n      <td>/data/experiments/ERGO_TEST_E04414/scans/802</td>\n      <td>usable</td>\n      <td>ERGO_TEST_E04414</td>\n    </tr>\n  </tbody>\n</table>\n<p>1037 rows × 24 columns</p>\n</div>"
     },
     "execution_count": 32,
     "metadata": {},
     "output_type": "execute_result"
    }
   ],
   "source": [
    "df"
   ],
   "metadata": {
    "collapsed": false,
    "ExecuteTime": {
     "end_time": "2023-10-25T12:37:56.629810170Z",
     "start_time": "2023-10-25T12:37:56.473554054Z"
    }
   },
   "id": "4ca4e9cdf04f339f"
  },
  {
   "cell_type": "code",
   "execution_count": 33,
   "outputs": [],
   "source": [
    "ExportFrame = df"
   ],
   "metadata": {
    "collapsed": false,
    "ExecuteTime": {
     "end_time": "2023-10-25T12:38:41.282688162Z",
     "start_time": "2023-10-25T12:38:41.273703792Z"
    }
   },
   "id": "98c1c2fffa8395f8"
  },
  {
   "cell_type": "code",
   "execution_count": 36,
   "outputs": [],
   "source": [
    "ExportFrame.to_csv(outname, index=False)"
   ],
   "metadata": {
    "collapsed": false,
    "ExecuteTime": {
     "end_time": "2023-10-25T12:41:32.935300893Z",
     "start_time": "2023-10-25T12:41:32.914912913Z"
    }
   },
   "id": "edcae9323e497bbf"
  },
  {
   "cell_type": "code",
   "execution_count": null,
   "outputs": [],
   "source": [],
   "metadata": {
    "collapsed": false
   },
   "id": "2170f9e28c575b65"
  }
 ],
 "metadata": {
  "kernelspec": {
   "display_name": "Python 3",
   "language": "python",
   "name": "python3"
  },
  "language_info": {
   "codemirror_mode": {
    "name": "ipython",
    "version": 2
   },
   "file_extension": ".py",
   "mimetype": "text/x-python",
   "name": "python",
   "nbconvert_exporter": "python",
   "pygments_lexer": "ipython2",
   "version": "2.7.6"
  }
 },
 "nbformat": 4,
 "nbformat_minor": 5
}
