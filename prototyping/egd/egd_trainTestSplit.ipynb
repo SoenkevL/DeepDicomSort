{
 "cells": [
  {
   "cell_type": "code",
   "execution_count": 1,
   "id": "initial_id",
   "metadata": {
    "collapsed": true,
    "ExecuteTime": {
     "end_time": "2023-11-16T10:35:32.431520716Z",
     "start_time": "2023-11-16T10:35:31.939151633Z"
    }
   },
   "outputs": [],
   "source": [
    "import pandas as pd"
   ]
  },
  {
   "cell_type": "code",
   "execution_count": 2,
   "outputs": [],
   "source": [
    "Label_df = pd.read_csv('egd_Labels.txt',names=['ID','label','extra'],sep='\\t', dtype={'ID':str,'label':int,'extra':int})\n",
    "df = pd.read_csv('Annotated_CombinedDirCsv.csv')"
   ],
   "metadata": {
    "collapsed": false,
    "ExecuteTime": {
     "end_time": "2023-11-16T10:35:32.479770718Z",
     "start_time": "2023-11-16T10:35:32.190753211Z"
    }
   },
   "id": "84993c080153c801"
  },
  {
   "cell_type": "code",
   "execution_count": 3,
   "outputs": [
    {
     "data": {
      "text/plain": "                                     structured_path  \\\n0  data/egd/DICOM_STRUCTURED/MR_20020205/20020205...   \n1  data/egd/DICOM_STRUCTURED/MR_20020205/20020205...   \n2  data/egd/DICOM_STRUCTURED/MR_61373/20170605/MR...   \n3  data/egd/DICOM_STRUCTURED/MR_61373/20170605/MR...   \n4  data/egd/DICOM_STRUCTURED/MR_61373/20170605/MR...   \n\n                                            filename  \\\n0  1.2.826.0.1.3680043.10.104.2857427232523006061...   \n1  1.2.826.0.1.3680043.10.104.2857427232523006061...   \n2  1.2.826.0.1.3680043.10.104.1044043140781656433...   \n3  1.2.826.0.1.3680043.10.104.1044043140781656433...   \n4  1.2.826.0.1.3680043.10.104.1044043140781656433...   \n\n                                                path  \\\n0  data/egd/data/MR_20020205_EGD-0924/scans/3-T1_...   \n1  data/egd/data/MR_20020205_EGD-0924/scans/8-T2_...   \n2  data/egd/data/MR_20150326_EGD-1215/scans/3-3D_...   \n3  data/egd/data/MR_20150326_EGD-1215/scans/650-a...   \n4  data/egd/data/MR_20150326_EGD-1215/scans/450-A...   \n\n                                         raw_name   name  \\\n0                                         3-T1_3D    T1w   \n1                                         8-T2_Ax    T2w   \n2                      3-3D_Ax_T1_FSPGR_HR_blanco    T1w   \n3                                     650-ax_cube  other   \n4  450-ADC__10__6_mm__s__Nov_02_2018_20_57_56_CET    adc   \n\n              label_exp   subject  train  \\\n0  MR_20020205_EGD-0924  EGD-0924  False   \n1  MR_20020205_EGD-0924  EGD-0924  False   \n2  MR_20150326_EGD-1215  EGD-1215   True   \n3  MR_20150326_EGD-1215  EGD-1215   True   \n4  MR_20150326_EGD-1215  EGD-1215   True   \n\n                                          NIFTI_path  \n0  data/egd/NIFTI/MR_20020205/20020205/MR/1.2.826...  \n1  data/egd/NIFTI/MR_20020205/20020205/MR/1.2.826...  \n2  data/egd/NIFTI/MR_61373/20170605/MR/1.2.826.0....  \n3  data/egd/NIFTI/MR_61373/20170605/MR/1.2.826.0....  \n4  data/egd/NIFTI/MR_61373/20170605/MR/1.2.826.0....  ",
      "text/html": "<div>\n<style scoped>\n    .dataframe tbody tr th:only-of-type {\n        vertical-align: middle;\n    }\n\n    .dataframe tbody tr th {\n        vertical-align: top;\n    }\n\n    .dataframe thead th {\n        text-align: right;\n    }\n</style>\n<table border=\"1\" class=\"dataframe\">\n  <thead>\n    <tr style=\"text-align: right;\">\n      <th></th>\n      <th>structured_path</th>\n      <th>filename</th>\n      <th>path</th>\n      <th>raw_name</th>\n      <th>name</th>\n      <th>label_exp</th>\n      <th>subject</th>\n      <th>train</th>\n      <th>NIFTI_path</th>\n    </tr>\n  </thead>\n  <tbody>\n    <tr>\n      <th>0</th>\n      <td>data/egd/DICOM_STRUCTURED/MR_20020205/20020205...</td>\n      <td>1.2.826.0.1.3680043.10.104.2857427232523006061...</td>\n      <td>data/egd/data/MR_20020205_EGD-0924/scans/3-T1_...</td>\n      <td>3-T1_3D</td>\n      <td>T1w</td>\n      <td>MR_20020205_EGD-0924</td>\n      <td>EGD-0924</td>\n      <td>False</td>\n      <td>data/egd/NIFTI/MR_20020205/20020205/MR/1.2.826...</td>\n    </tr>\n    <tr>\n      <th>1</th>\n      <td>data/egd/DICOM_STRUCTURED/MR_20020205/20020205...</td>\n      <td>1.2.826.0.1.3680043.10.104.2857427232523006061...</td>\n      <td>data/egd/data/MR_20020205_EGD-0924/scans/8-T2_...</td>\n      <td>8-T2_Ax</td>\n      <td>T2w</td>\n      <td>MR_20020205_EGD-0924</td>\n      <td>EGD-0924</td>\n      <td>False</td>\n      <td>data/egd/NIFTI/MR_20020205/20020205/MR/1.2.826...</td>\n    </tr>\n    <tr>\n      <th>2</th>\n      <td>data/egd/DICOM_STRUCTURED/MR_61373/20170605/MR...</td>\n      <td>1.2.826.0.1.3680043.10.104.1044043140781656433...</td>\n      <td>data/egd/data/MR_20150326_EGD-1215/scans/3-3D_...</td>\n      <td>3-3D_Ax_T1_FSPGR_HR_blanco</td>\n      <td>T1w</td>\n      <td>MR_20150326_EGD-1215</td>\n      <td>EGD-1215</td>\n      <td>True</td>\n      <td>data/egd/NIFTI/MR_61373/20170605/MR/1.2.826.0....</td>\n    </tr>\n    <tr>\n      <th>3</th>\n      <td>data/egd/DICOM_STRUCTURED/MR_61373/20170605/MR...</td>\n      <td>1.2.826.0.1.3680043.10.104.1044043140781656433...</td>\n      <td>data/egd/data/MR_20150326_EGD-1215/scans/650-a...</td>\n      <td>650-ax_cube</td>\n      <td>other</td>\n      <td>MR_20150326_EGD-1215</td>\n      <td>EGD-1215</td>\n      <td>True</td>\n      <td>data/egd/NIFTI/MR_61373/20170605/MR/1.2.826.0....</td>\n    </tr>\n    <tr>\n      <th>4</th>\n      <td>data/egd/DICOM_STRUCTURED/MR_61373/20170605/MR...</td>\n      <td>1.2.826.0.1.3680043.10.104.1044043140781656433...</td>\n      <td>data/egd/data/MR_20150326_EGD-1215/scans/450-A...</td>\n      <td>450-ADC__10__6_mm__s__Nov_02_2018_20_57_56_CET</td>\n      <td>adc</td>\n      <td>MR_20150326_EGD-1215</td>\n      <td>EGD-1215</td>\n      <td>True</td>\n      <td>data/egd/NIFTI/MR_61373/20170605/MR/1.2.826.0....</td>\n    </tr>\n  </tbody>\n</table>\n</div>"
     },
     "execution_count": 3,
     "metadata": {},
     "output_type": "execute_result"
    }
   ],
   "source": [
    "df.head()"
   ],
   "metadata": {
    "collapsed": false,
    "ExecuteTime": {
     "end_time": "2023-11-16T10:35:32.480186923Z",
     "start_time": "2023-11-16T10:35:32.475401820Z"
    }
   },
   "id": "95d8895394b3a3f8"
  },
  {
   "cell_type": "code",
   "execution_count": 4,
   "outputs": [
    {
     "data": {
      "text/plain": "                                          structured_path  \\\ncount                                                2442   \nunique                                               2370   \ntop     data/egd/DICOM_STRUCTURED/MR_29988/20170615/MR...   \nfreq                                                    2   \n\n                                                 filename  \\\ncount                                                2442   \nunique                                               2361   \ntop     1.2.826.0.1.3680043.10.104.1002580906157172357...   \nfreq                                                    4   \n\n                                                     path      raw_name  name  \\\ncount                                                2442          2442  2442   \nunique                                               2424           856    17   \ntop     data/egd/data/MR_20100131_EGD-0381/scans/9-T1G...  4-DWI_DWI_Ax   T1c   \nfreq                                                    2            53   501   \n\n                   label_exp   subject train  \\\ncount                   2442      2442  2442   \nunique                   260       104     2   \ntop     MR_20150526_EGD-1220  EGD-0119  True   \nfreq                      27       162  2120   \n\n                                               NIFTI_path  \ncount                                                2442  \nunique                                               2370  \ntop     data/egd/NIFTI/MR_29988/20170615/MR/1.2.826.0....  \nfreq                                                    2  ",
      "text/html": "<div>\n<style scoped>\n    .dataframe tbody tr th:only-of-type {\n        vertical-align: middle;\n    }\n\n    .dataframe tbody tr th {\n        vertical-align: top;\n    }\n\n    .dataframe thead th {\n        text-align: right;\n    }\n</style>\n<table border=\"1\" class=\"dataframe\">\n  <thead>\n    <tr style=\"text-align: right;\">\n      <th></th>\n      <th>structured_path</th>\n      <th>filename</th>\n      <th>path</th>\n      <th>raw_name</th>\n      <th>name</th>\n      <th>label_exp</th>\n      <th>subject</th>\n      <th>train</th>\n      <th>NIFTI_path</th>\n    </tr>\n  </thead>\n  <tbody>\n    <tr>\n      <th>count</th>\n      <td>2442</td>\n      <td>2442</td>\n      <td>2442</td>\n      <td>2442</td>\n      <td>2442</td>\n      <td>2442</td>\n      <td>2442</td>\n      <td>2442</td>\n      <td>2442</td>\n    </tr>\n    <tr>\n      <th>unique</th>\n      <td>2370</td>\n      <td>2361</td>\n      <td>2424</td>\n      <td>856</td>\n      <td>17</td>\n      <td>260</td>\n      <td>104</td>\n      <td>2</td>\n      <td>2370</td>\n    </tr>\n    <tr>\n      <th>top</th>\n      <td>data/egd/DICOM_STRUCTURED/MR_29988/20170615/MR...</td>\n      <td>1.2.826.0.1.3680043.10.104.1002580906157172357...</td>\n      <td>data/egd/data/MR_20100131_EGD-0381/scans/9-T1G...</td>\n      <td>4-DWI_DWI_Ax</td>\n      <td>T1c</td>\n      <td>MR_20150526_EGD-1220</td>\n      <td>EGD-0119</td>\n      <td>True</td>\n      <td>data/egd/NIFTI/MR_29988/20170615/MR/1.2.826.0....</td>\n    </tr>\n    <tr>\n      <th>freq</th>\n      <td>2</td>\n      <td>4</td>\n      <td>2</td>\n      <td>53</td>\n      <td>501</td>\n      <td>27</td>\n      <td>162</td>\n      <td>2120</td>\n      <td>2</td>\n    </tr>\n  </tbody>\n</table>\n</div>"
     },
     "execution_count": 4,
     "metadata": {},
     "output_type": "execute_result"
    }
   ],
   "source": [
    "df.describe()"
   ],
   "metadata": {
    "collapsed": false,
    "ExecuteTime": {
     "end_time": "2023-11-16T10:35:32.540820707Z",
     "start_time": "2023-11-16T10:35:32.479189060Z"
    }
   },
   "id": "6b0a0214e22887a5"
  },
  {
   "cell_type": "code",
   "execution_count": 5,
   "outputs": [],
   "source": [
    "def extractNiftiFilepathAndSlicenum(df):\n",
    "    ID = df['ID']\n",
    "    split = ID.rsplit('__s', 1)\n",
    "    NiftiPath = split[0]\n",
    "    NiftiPath = NiftiPath.replace('NIFTI_SLICES', 'NIFTI') + '.nii.gz'\n",
    "    slicenum = int(split[1].split('.nii.gz')[0])\n",
    "    return pd.Series({'NiftiPath': NiftiPath, 'slicenum': slicenum})"
   ],
   "metadata": {
    "collapsed": false,
    "ExecuteTime": {
     "end_time": "2023-11-16T10:35:32.551229684Z",
     "start_time": "2023-11-16T10:35:32.512866079Z"
    }
   },
   "id": "f40a5f0a00968df9"
  },
  {
   "cell_type": "code",
   "execution_count": 6,
   "outputs": [],
   "source": [
    "appendstring = '/trinity/home/r098375/DDS/'\n",
    "def fixPath(ID):\n",
    "    if not 'trinity' in ID:\n",
    "        ID = appendstring+ID\n",
    "    basepart = '/'.join((ID.split('/')[:9]))\n",
    "    namepart = '__'.join((ID.split('/')[9:]))\n",
    "    ID = basepart+'/'+namepart+'.nii.gz'\n",
    "    return ID"
   ],
   "metadata": {
    "collapsed": false,
    "ExecuteTime": {
     "end_time": "2023-11-16T10:35:32.605634246Z",
     "start_time": "2023-11-16T10:35:32.516838606Z"
    }
   },
   "id": "466a5a5c95161d09"
  },
  {
   "cell_type": "code",
   "execution_count": 7,
   "outputs": [],
   "source": [
    "df['NIFTI_path'] = df['NIFTI_path'].apply(fixPath)"
   ],
   "metadata": {
    "collapsed": false,
    "ExecuteTime": {
     "end_time": "2023-11-16T10:35:32.605900668Z",
     "start_time": "2023-11-16T10:35:32.559142953Z"
    }
   },
   "id": "a7a8c045a000bcdb"
  },
  {
   "cell_type": "code",
   "execution_count": 8,
   "outputs": [
    {
     "data": {
      "text/plain": "'/trinity/home/r098375/DDS/data/egd/NIFTI/MR_20020205/20020205__MR__1.2.826.0.1.3680043.10.104.2857427232523006061017867594417320946__1.2.826.0.1.3680043.10.104.1456467217459860599267812336880387893.nii.gz'"
     },
     "execution_count": 8,
     "metadata": {},
     "output_type": "execute_result"
    }
   ],
   "source": [
    "df['NIFTI_path'][0]"
   ],
   "metadata": {
    "collapsed": false,
    "ExecuteTime": {
     "end_time": "2023-11-16T10:35:32.606207381Z",
     "start_time": "2023-11-16T10:35:32.559213054Z"
    }
   },
   "id": "fadfa2155ffbd758"
  },
  {
   "cell_type": "code",
   "execution_count": 9,
   "outputs": [],
   "source": [
    "df_NS = Label_df.apply(extractNiftiFilepathAndSlicenum, axis=1, result_type='expand')\n",
    "Label_df = Label_df.merge(df_NS, left_index=True, right_index=True, how='inner')"
   ],
   "metadata": {
    "collapsed": false,
    "ExecuteTime": {
     "end_time": "2023-11-16T10:35:46.706737032Z",
     "start_time": "2023-11-16T10:35:32.559257907Z"
    }
   },
   "id": "9f9fe37d534cb922"
  },
  {
   "cell_type": "code",
   "execution_count": 10,
   "outputs": [
    {
     "data": {
      "text/plain": "'/trinity/home/r098375/DDS/data/egd/NIFTI/MR_20020205/20020205__MR__1.2.826.0.1.3680043.10.104.2857427232523006061017867594417320946__1.2.826.0.1.3680043.10.104.2282046845047365453865806177133221068.nii.gz'"
     },
     "execution_count": 10,
     "metadata": {},
     "output_type": "execute_result"
    }
   ],
   "source": [
    "Label_df['NiftiPath'][0]"
   ],
   "metadata": {
    "collapsed": false,
    "ExecuteTime": {
     "end_time": "2023-11-16T10:35:46.755706245Z",
     "start_time": "2023-11-16T10:35:46.710243924Z"
    }
   },
   "id": "d4c662708b7b6604"
  },
  {
   "cell_type": "code",
   "execution_count": 11,
   "outputs": [],
   "source": [
    "df_new = pd.merge(df,Label_df,how='inner',right_on='NiftiPath',left_on='NIFTI_path')"
   ],
   "metadata": {
    "collapsed": false,
    "ExecuteTime": {
     "end_time": "2023-11-16T10:35:46.807805344Z",
     "start_time": "2023-11-16T10:35:46.755280653Z"
    }
   },
   "id": "fd63b014978a6657"
  },
  {
   "cell_type": "code",
   "execution_count": 12,
   "outputs": [
    {
     "data": {
      "text/plain": "                                         structured_path  \\\n0      data/egd/DICOM_STRUCTURED/MR_20020205/20020205...   \n1      data/egd/DICOM_STRUCTURED/MR_20020205/20020205...   \n2      data/egd/DICOM_STRUCTURED/MR_20020205/20020205...   \n3      data/egd/DICOM_STRUCTURED/MR_20020205/20020205...   \n4      data/egd/DICOM_STRUCTURED/MR_20020205/20020205...   \n...                                                  ...   \n47945  data/egd/DICOM_STRUCTURED/MR_97898/20180127/MR...   \n47946  data/egd/DICOM_STRUCTURED/MR_97898/20180127/MR...   \n47947  data/egd/DICOM_STRUCTURED/MR_97898/20180127/MR...   \n47948  data/egd/DICOM_STRUCTURED/MR_97898/20180127/MR...   \n47949  data/egd/DICOM_STRUCTURED/MR_97898/20180127/MR...   \n\n                                                filename  \\\n0      1.2.826.0.1.3680043.10.104.2857427232523006061...   \n1      1.2.826.0.1.3680043.10.104.2857427232523006061...   \n2      1.2.826.0.1.3680043.10.104.2857427232523006061...   \n3      1.2.826.0.1.3680043.10.104.2857427232523006061...   \n4      1.2.826.0.1.3680043.10.104.2857427232523006061...   \n...                                                  ...   \n47945  1.2.826.0.1.3680043.10.104.1081727604819600522...   \n47946  1.2.826.0.1.3680043.10.104.1081727604819600522...   \n47947  1.2.826.0.1.3680043.10.104.1081727604819600522...   \n47948  1.2.826.0.1.3680043.10.104.1081727604819600522...   \n47949  1.2.826.0.1.3680043.10.104.1081727604819600522...   \n\n                                                    path  \\\n0      data/egd/data/MR_20020205_EGD-0924/scans/3-T1_...   \n1      data/egd/data/MR_20020205_EGD-0924/scans/3-T1_...   \n2      data/egd/data/MR_20020205_EGD-0924/scans/3-T1_...   \n3      data/egd/data/MR_20020205_EGD-0924/scans/3-T1_...   \n4      data/egd/data/MR_20020205_EGD-0924/scans/3-T1_...   \n...                                                  ...   \n47945  data/egd/data/MR_20151117_EGD-1208/scans/450-A...   \n47946  data/egd/data/MR_20151117_EGD-1208/scans/450-A...   \n47947  data/egd/data/MR_20151117_EGD-1208/scans/450-A...   \n47948  data/egd/data/MR_20151117_EGD-1208/scans/450-A...   \n47949  data/egd/data/MR_20151117_EGD-1208/scans/450-A...   \n\n                                         raw_name name             label_exp  \\\n0                                         3-T1_3D  T1w  MR_20020205_EGD-0924   \n1                                         3-T1_3D  T1w  MR_20020205_EGD-0924   \n2                                         3-T1_3D  T1w  MR_20020205_EGD-0924   \n3                                         3-T1_3D  T1w  MR_20020205_EGD-0924   \n4                                         3-T1_3D  T1w  MR_20020205_EGD-0924   \n...                                           ...  ...                   ...   \n47945  450-ADC__10__6_mm__s__Jun_26_2019_14_35_34  adc  MR_20151117_EGD-1208   \n47946  450-ADC__10__6_mm__s__Jun_26_2019_14_35_34  adc  MR_20151117_EGD-1208   \n47947  450-ADC__10__6_mm__s__Jun_26_2019_14_35_34  adc  MR_20151117_EGD-1208   \n47948  450-ADC__10__6_mm__s__Jun_26_2019_14_35_34  adc  MR_20151117_EGD-1208   \n47949  450-ADC__10__6_mm__s__Jun_26_2019_14_35_34  adc  MR_20151117_EGD-1208   \n\n        subject  train                                         NIFTI_path  \\\n0      EGD-0924  False  /trinity/home/r098375/DDS/data/egd/NIFTI/MR_20...   \n1      EGD-0924  False  /trinity/home/r098375/DDS/data/egd/NIFTI/MR_20...   \n2      EGD-0924  False  /trinity/home/r098375/DDS/data/egd/NIFTI/MR_20...   \n3      EGD-0924  False  /trinity/home/r098375/DDS/data/egd/NIFTI/MR_20...   \n4      EGD-0924  False  /trinity/home/r098375/DDS/data/egd/NIFTI/MR_20...   \n...         ...    ...                                                ...   \n47945  EGD-1208  False  /trinity/home/r098375/DDS/data/egd/NIFTI/MR_97...   \n47946  EGD-1208  False  /trinity/home/r098375/DDS/data/egd/NIFTI/MR_97...   \n47947  EGD-1208  False  /trinity/home/r098375/DDS/data/egd/NIFTI/MR_97...   \n47948  EGD-1208  False  /trinity/home/r098375/DDS/data/egd/NIFTI/MR_97...   \n47949  EGD-1208  False  /trinity/home/r098375/DDS/data/egd/NIFTI/MR_97...   \n\n                                                      ID  label  extra  \\\n0      /trinity/home/r098375/DDS/data/egd/NIFTI_SLICE...      0      0   \n1      /trinity/home/r098375/DDS/data/egd/NIFTI_SLICE...      0      0   \n2      /trinity/home/r098375/DDS/data/egd/NIFTI_SLICE...      0      0   \n3      /trinity/home/r098375/DDS/data/egd/NIFTI_SLICE...      0      0   \n4      /trinity/home/r098375/DDS/data/egd/NIFTI_SLICE...      0      0   \n...                                                  ...    ...    ...   \n47945  /trinity/home/r098375/DDS/data/egd/NIFTI_SLICE...      0      0   \n47946  /trinity/home/r098375/DDS/data/egd/NIFTI_SLICE...      0      0   \n47947  /trinity/home/r098375/DDS/data/egd/NIFTI_SLICE...      0      0   \n47948  /trinity/home/r098375/DDS/data/egd/NIFTI_SLICE...      0      0   \n47949  /trinity/home/r098375/DDS/data/egd/NIFTI_SLICE...      0      0   \n\n                                               NiftiPath  slicenum  \n0      /trinity/home/r098375/DDS/data/egd/NIFTI/MR_20...        11  \n1      /trinity/home/r098375/DDS/data/egd/NIFTI/MR_20...         8  \n2      /trinity/home/r098375/DDS/data/egd/NIFTI/MR_20...        21  \n3      /trinity/home/r098375/DDS/data/egd/NIFTI/MR_20...         4  \n4      /trinity/home/r098375/DDS/data/egd/NIFTI/MR_20...        10  \n...                                                  ...       ...  \n47945  /trinity/home/r098375/DDS/data/egd/NIFTI/MR_97...         5  \n47946  /trinity/home/r098375/DDS/data/egd/NIFTI/MR_97...        18  \n47947  /trinity/home/r098375/DDS/data/egd/NIFTI/MR_97...        22  \n47948  /trinity/home/r098375/DDS/data/egd/NIFTI/MR_97...        14  \n47949  /trinity/home/r098375/DDS/data/egd/NIFTI/MR_97...         1  \n\n[47950 rows x 14 columns]",
      "text/html": "<div>\n<style scoped>\n    .dataframe tbody tr th:only-of-type {\n        vertical-align: middle;\n    }\n\n    .dataframe tbody tr th {\n        vertical-align: top;\n    }\n\n    .dataframe thead th {\n        text-align: right;\n    }\n</style>\n<table border=\"1\" class=\"dataframe\">\n  <thead>\n    <tr style=\"text-align: right;\">\n      <th></th>\n      <th>structured_path</th>\n      <th>filename</th>\n      <th>path</th>\n      <th>raw_name</th>\n      <th>name</th>\n      <th>label_exp</th>\n      <th>subject</th>\n      <th>train</th>\n      <th>NIFTI_path</th>\n      <th>ID</th>\n      <th>label</th>\n      <th>extra</th>\n      <th>NiftiPath</th>\n      <th>slicenum</th>\n    </tr>\n  </thead>\n  <tbody>\n    <tr>\n      <th>0</th>\n      <td>data/egd/DICOM_STRUCTURED/MR_20020205/20020205...</td>\n      <td>1.2.826.0.1.3680043.10.104.2857427232523006061...</td>\n      <td>data/egd/data/MR_20020205_EGD-0924/scans/3-T1_...</td>\n      <td>3-T1_3D</td>\n      <td>T1w</td>\n      <td>MR_20020205_EGD-0924</td>\n      <td>EGD-0924</td>\n      <td>False</td>\n      <td>/trinity/home/r098375/DDS/data/egd/NIFTI/MR_20...</td>\n      <td>/trinity/home/r098375/DDS/data/egd/NIFTI_SLICE...</td>\n      <td>0</td>\n      <td>0</td>\n      <td>/trinity/home/r098375/DDS/data/egd/NIFTI/MR_20...</td>\n      <td>11</td>\n    </tr>\n    <tr>\n      <th>1</th>\n      <td>data/egd/DICOM_STRUCTURED/MR_20020205/20020205...</td>\n      <td>1.2.826.0.1.3680043.10.104.2857427232523006061...</td>\n      <td>data/egd/data/MR_20020205_EGD-0924/scans/3-T1_...</td>\n      <td>3-T1_3D</td>\n      <td>T1w</td>\n      <td>MR_20020205_EGD-0924</td>\n      <td>EGD-0924</td>\n      <td>False</td>\n      <td>/trinity/home/r098375/DDS/data/egd/NIFTI/MR_20...</td>\n      <td>/trinity/home/r098375/DDS/data/egd/NIFTI_SLICE...</td>\n      <td>0</td>\n      <td>0</td>\n      <td>/trinity/home/r098375/DDS/data/egd/NIFTI/MR_20...</td>\n      <td>8</td>\n    </tr>\n    <tr>\n      <th>2</th>\n      <td>data/egd/DICOM_STRUCTURED/MR_20020205/20020205...</td>\n      <td>1.2.826.0.1.3680043.10.104.2857427232523006061...</td>\n      <td>data/egd/data/MR_20020205_EGD-0924/scans/3-T1_...</td>\n      <td>3-T1_3D</td>\n      <td>T1w</td>\n      <td>MR_20020205_EGD-0924</td>\n      <td>EGD-0924</td>\n      <td>False</td>\n      <td>/trinity/home/r098375/DDS/data/egd/NIFTI/MR_20...</td>\n      <td>/trinity/home/r098375/DDS/data/egd/NIFTI_SLICE...</td>\n      <td>0</td>\n      <td>0</td>\n      <td>/trinity/home/r098375/DDS/data/egd/NIFTI/MR_20...</td>\n      <td>21</td>\n    </tr>\n    <tr>\n      <th>3</th>\n      <td>data/egd/DICOM_STRUCTURED/MR_20020205/20020205...</td>\n      <td>1.2.826.0.1.3680043.10.104.2857427232523006061...</td>\n      <td>data/egd/data/MR_20020205_EGD-0924/scans/3-T1_...</td>\n      <td>3-T1_3D</td>\n      <td>T1w</td>\n      <td>MR_20020205_EGD-0924</td>\n      <td>EGD-0924</td>\n      <td>False</td>\n      <td>/trinity/home/r098375/DDS/data/egd/NIFTI/MR_20...</td>\n      <td>/trinity/home/r098375/DDS/data/egd/NIFTI_SLICE...</td>\n      <td>0</td>\n      <td>0</td>\n      <td>/trinity/home/r098375/DDS/data/egd/NIFTI/MR_20...</td>\n      <td>4</td>\n    </tr>\n    <tr>\n      <th>4</th>\n      <td>data/egd/DICOM_STRUCTURED/MR_20020205/20020205...</td>\n      <td>1.2.826.0.1.3680043.10.104.2857427232523006061...</td>\n      <td>data/egd/data/MR_20020205_EGD-0924/scans/3-T1_...</td>\n      <td>3-T1_3D</td>\n      <td>T1w</td>\n      <td>MR_20020205_EGD-0924</td>\n      <td>EGD-0924</td>\n      <td>False</td>\n      <td>/trinity/home/r098375/DDS/data/egd/NIFTI/MR_20...</td>\n      <td>/trinity/home/r098375/DDS/data/egd/NIFTI_SLICE...</td>\n      <td>0</td>\n      <td>0</td>\n      <td>/trinity/home/r098375/DDS/data/egd/NIFTI/MR_20...</td>\n      <td>10</td>\n    </tr>\n    <tr>\n      <th>...</th>\n      <td>...</td>\n      <td>...</td>\n      <td>...</td>\n      <td>...</td>\n      <td>...</td>\n      <td>...</td>\n      <td>...</td>\n      <td>...</td>\n      <td>...</td>\n      <td>...</td>\n      <td>...</td>\n      <td>...</td>\n      <td>...</td>\n      <td>...</td>\n    </tr>\n    <tr>\n      <th>47945</th>\n      <td>data/egd/DICOM_STRUCTURED/MR_97898/20180127/MR...</td>\n      <td>1.2.826.0.1.3680043.10.104.1081727604819600522...</td>\n      <td>data/egd/data/MR_20151117_EGD-1208/scans/450-A...</td>\n      <td>450-ADC__10__6_mm__s__Jun_26_2019_14_35_34</td>\n      <td>adc</td>\n      <td>MR_20151117_EGD-1208</td>\n      <td>EGD-1208</td>\n      <td>False</td>\n      <td>/trinity/home/r098375/DDS/data/egd/NIFTI/MR_97...</td>\n      <td>/trinity/home/r098375/DDS/data/egd/NIFTI_SLICE...</td>\n      <td>0</td>\n      <td>0</td>\n      <td>/trinity/home/r098375/DDS/data/egd/NIFTI/MR_97...</td>\n      <td>5</td>\n    </tr>\n    <tr>\n      <th>47946</th>\n      <td>data/egd/DICOM_STRUCTURED/MR_97898/20180127/MR...</td>\n      <td>1.2.826.0.1.3680043.10.104.1081727604819600522...</td>\n      <td>data/egd/data/MR_20151117_EGD-1208/scans/450-A...</td>\n      <td>450-ADC__10__6_mm__s__Jun_26_2019_14_35_34</td>\n      <td>adc</td>\n      <td>MR_20151117_EGD-1208</td>\n      <td>EGD-1208</td>\n      <td>False</td>\n      <td>/trinity/home/r098375/DDS/data/egd/NIFTI/MR_97...</td>\n      <td>/trinity/home/r098375/DDS/data/egd/NIFTI_SLICE...</td>\n      <td>0</td>\n      <td>0</td>\n      <td>/trinity/home/r098375/DDS/data/egd/NIFTI/MR_97...</td>\n      <td>18</td>\n    </tr>\n    <tr>\n      <th>47947</th>\n      <td>data/egd/DICOM_STRUCTURED/MR_97898/20180127/MR...</td>\n      <td>1.2.826.0.1.3680043.10.104.1081727604819600522...</td>\n      <td>data/egd/data/MR_20151117_EGD-1208/scans/450-A...</td>\n      <td>450-ADC__10__6_mm__s__Jun_26_2019_14_35_34</td>\n      <td>adc</td>\n      <td>MR_20151117_EGD-1208</td>\n      <td>EGD-1208</td>\n      <td>False</td>\n      <td>/trinity/home/r098375/DDS/data/egd/NIFTI/MR_97...</td>\n      <td>/trinity/home/r098375/DDS/data/egd/NIFTI_SLICE...</td>\n      <td>0</td>\n      <td>0</td>\n      <td>/trinity/home/r098375/DDS/data/egd/NIFTI/MR_97...</td>\n      <td>22</td>\n    </tr>\n    <tr>\n      <th>47948</th>\n      <td>data/egd/DICOM_STRUCTURED/MR_97898/20180127/MR...</td>\n      <td>1.2.826.0.1.3680043.10.104.1081727604819600522...</td>\n      <td>data/egd/data/MR_20151117_EGD-1208/scans/450-A...</td>\n      <td>450-ADC__10__6_mm__s__Jun_26_2019_14_35_34</td>\n      <td>adc</td>\n      <td>MR_20151117_EGD-1208</td>\n      <td>EGD-1208</td>\n      <td>False</td>\n      <td>/trinity/home/r098375/DDS/data/egd/NIFTI/MR_97...</td>\n      <td>/trinity/home/r098375/DDS/data/egd/NIFTI_SLICE...</td>\n      <td>0</td>\n      <td>0</td>\n      <td>/trinity/home/r098375/DDS/data/egd/NIFTI/MR_97...</td>\n      <td>14</td>\n    </tr>\n    <tr>\n      <th>47949</th>\n      <td>data/egd/DICOM_STRUCTURED/MR_97898/20180127/MR...</td>\n      <td>1.2.826.0.1.3680043.10.104.1081727604819600522...</td>\n      <td>data/egd/data/MR_20151117_EGD-1208/scans/450-A...</td>\n      <td>450-ADC__10__6_mm__s__Jun_26_2019_14_35_34</td>\n      <td>adc</td>\n      <td>MR_20151117_EGD-1208</td>\n      <td>EGD-1208</td>\n      <td>False</td>\n      <td>/trinity/home/r098375/DDS/data/egd/NIFTI/MR_97...</td>\n      <td>/trinity/home/r098375/DDS/data/egd/NIFTI_SLICE...</td>\n      <td>0</td>\n      <td>0</td>\n      <td>/trinity/home/r098375/DDS/data/egd/NIFTI/MR_97...</td>\n      <td>1</td>\n    </tr>\n  </tbody>\n</table>\n<p>47950 rows × 14 columns</p>\n</div>"
     },
     "execution_count": 12,
     "metadata": {},
     "output_type": "execute_result"
    }
   ],
   "source": [
    "df_new"
   ],
   "metadata": {
    "collapsed": false,
    "ExecuteTime": {
     "end_time": "2023-11-16T10:35:46.808491425Z",
     "start_time": "2023-11-16T10:35:46.799167507Z"
    }
   },
   "id": "226263b80f5b73a7"
  },
  {
   "cell_type": "code",
   "execution_count": 13,
   "outputs": [
    {
     "data": {
      "text/plain": "         label    extra      slicenum\ncount  47950.0  47950.0  47950.000000\nmean       0.0      0.0     12.000000\nstd        0.0      0.0      7.211178\nmin        0.0      0.0      0.000000\n25%        0.0      0.0      6.000000\n50%        0.0      0.0     12.000000\n75%        0.0      0.0     18.000000\nmax        0.0      0.0     24.000000",
      "text/html": "<div>\n<style scoped>\n    .dataframe tbody tr th:only-of-type {\n        vertical-align: middle;\n    }\n\n    .dataframe tbody tr th {\n        vertical-align: top;\n    }\n\n    .dataframe thead th {\n        text-align: right;\n    }\n</style>\n<table border=\"1\" class=\"dataframe\">\n  <thead>\n    <tr style=\"text-align: right;\">\n      <th></th>\n      <th>label</th>\n      <th>extra</th>\n      <th>slicenum</th>\n    </tr>\n  </thead>\n  <tbody>\n    <tr>\n      <th>count</th>\n      <td>47950.0</td>\n      <td>47950.0</td>\n      <td>47950.000000</td>\n    </tr>\n    <tr>\n      <th>mean</th>\n      <td>0.0</td>\n      <td>0.0</td>\n      <td>12.000000</td>\n    </tr>\n    <tr>\n      <th>std</th>\n      <td>0.0</td>\n      <td>0.0</td>\n      <td>7.211178</td>\n    </tr>\n    <tr>\n      <th>min</th>\n      <td>0.0</td>\n      <td>0.0</td>\n      <td>0.000000</td>\n    </tr>\n    <tr>\n      <th>25%</th>\n      <td>0.0</td>\n      <td>0.0</td>\n      <td>6.000000</td>\n    </tr>\n    <tr>\n      <th>50%</th>\n      <td>0.0</td>\n      <td>0.0</td>\n      <td>12.000000</td>\n    </tr>\n    <tr>\n      <th>75%</th>\n      <td>0.0</td>\n      <td>0.0</td>\n      <td>18.000000</td>\n    </tr>\n    <tr>\n      <th>max</th>\n      <td>0.0</td>\n      <td>0.0</td>\n      <td>24.000000</td>\n    </tr>\n  </tbody>\n</table>\n</div>"
     },
     "execution_count": 13,
     "metadata": {},
     "output_type": "execute_result"
    }
   ],
   "source": [
    "df_new.describe()"
   ],
   "metadata": {
    "collapsed": false,
    "ExecuteTime": {
     "end_time": "2023-11-16T10:35:46.808805470Z",
     "start_time": "2023-11-16T10:35:46.799512632Z"
    }
   },
   "id": "c725cc9488a44eb"
  },
  {
   "cell_type": "code",
   "execution_count": 14,
   "outputs": [
    {
     "data": {
      "text/plain": "                                         structured_path  \\\n0      data/egd/DICOM_STRUCTURED/MR_20020205/20020205...   \n1      data/egd/DICOM_STRUCTURED/MR_20020205/20020205...   \n2      data/egd/DICOM_STRUCTURED/MR_20020205/20020205...   \n3      data/egd/DICOM_STRUCTURED/MR_20020205/20020205...   \n4      data/egd/DICOM_STRUCTURED/MR_20020205/20020205...   \n...                                                  ...   \n47945  data/egd/DICOM_STRUCTURED/MR_97898/20180127/MR...   \n47946  data/egd/DICOM_STRUCTURED/MR_97898/20180127/MR...   \n47947  data/egd/DICOM_STRUCTURED/MR_97898/20180127/MR...   \n47948  data/egd/DICOM_STRUCTURED/MR_97898/20180127/MR...   \n47949  data/egd/DICOM_STRUCTURED/MR_97898/20180127/MR...   \n\n                                                filename  \\\n0      1.2.826.0.1.3680043.10.104.2857427232523006061...   \n1      1.2.826.0.1.3680043.10.104.2857427232523006061...   \n2      1.2.826.0.1.3680043.10.104.2857427232523006061...   \n3      1.2.826.0.1.3680043.10.104.2857427232523006061...   \n4      1.2.826.0.1.3680043.10.104.2857427232523006061...   \n...                                                  ...   \n47945  1.2.826.0.1.3680043.10.104.1081727604819600522...   \n47946  1.2.826.0.1.3680043.10.104.1081727604819600522...   \n47947  1.2.826.0.1.3680043.10.104.1081727604819600522...   \n47948  1.2.826.0.1.3680043.10.104.1081727604819600522...   \n47949  1.2.826.0.1.3680043.10.104.1081727604819600522...   \n\n                                                    path  \\\n0      data/egd/data/MR_20020205_EGD-0924/scans/3-T1_...   \n1      data/egd/data/MR_20020205_EGD-0924/scans/3-T1_...   \n2      data/egd/data/MR_20020205_EGD-0924/scans/3-T1_...   \n3      data/egd/data/MR_20020205_EGD-0924/scans/3-T1_...   \n4      data/egd/data/MR_20020205_EGD-0924/scans/3-T1_...   \n...                                                  ...   \n47945  data/egd/data/MR_20151117_EGD-1208/scans/450-A...   \n47946  data/egd/data/MR_20151117_EGD-1208/scans/450-A...   \n47947  data/egd/data/MR_20151117_EGD-1208/scans/450-A...   \n47948  data/egd/data/MR_20151117_EGD-1208/scans/450-A...   \n47949  data/egd/data/MR_20151117_EGD-1208/scans/450-A...   \n\n                                         raw_name name             label_exp  \\\n0                                         3-T1_3D  T1w  MR_20020205_EGD-0924   \n1                                         3-T1_3D  T1w  MR_20020205_EGD-0924   \n2                                         3-T1_3D  T1w  MR_20020205_EGD-0924   \n3                                         3-T1_3D  T1w  MR_20020205_EGD-0924   \n4                                         3-T1_3D  T1w  MR_20020205_EGD-0924   \n...                                           ...  ...                   ...   \n47945  450-ADC__10__6_mm__s__Jun_26_2019_14_35_34  adc  MR_20151117_EGD-1208   \n47946  450-ADC__10__6_mm__s__Jun_26_2019_14_35_34  adc  MR_20151117_EGD-1208   \n47947  450-ADC__10__6_mm__s__Jun_26_2019_14_35_34  adc  MR_20151117_EGD-1208   \n47948  450-ADC__10__6_mm__s__Jun_26_2019_14_35_34  adc  MR_20151117_EGD-1208   \n47949  450-ADC__10__6_mm__s__Jun_26_2019_14_35_34  adc  MR_20151117_EGD-1208   \n\n        subject  train                                         NIFTI_path  \\\n0      EGD-0924  False  /trinity/home/r098375/DDS/data/egd/NIFTI/MR_20...   \n1      EGD-0924  False  /trinity/home/r098375/DDS/data/egd/NIFTI/MR_20...   \n2      EGD-0924  False  /trinity/home/r098375/DDS/data/egd/NIFTI/MR_20...   \n3      EGD-0924  False  /trinity/home/r098375/DDS/data/egd/NIFTI/MR_20...   \n4      EGD-0924  False  /trinity/home/r098375/DDS/data/egd/NIFTI/MR_20...   \n...         ...    ...                                                ...   \n47945  EGD-1208  False  /trinity/home/r098375/DDS/data/egd/NIFTI/MR_97...   \n47946  EGD-1208  False  /trinity/home/r098375/DDS/data/egd/NIFTI/MR_97...   \n47947  EGD-1208  False  /trinity/home/r098375/DDS/data/egd/NIFTI/MR_97...   \n47948  EGD-1208  False  /trinity/home/r098375/DDS/data/egd/NIFTI/MR_97...   \n47949  EGD-1208  False  /trinity/home/r098375/DDS/data/egd/NIFTI/MR_97...   \n\n                                                      ID  label  extra  \\\n0      /trinity/home/r098375/DDS/data/egd/NIFTI_SLICE...      0      0   \n1      /trinity/home/r098375/DDS/data/egd/NIFTI_SLICE...      0      0   \n2      /trinity/home/r098375/DDS/data/egd/NIFTI_SLICE...      0      0   \n3      /trinity/home/r098375/DDS/data/egd/NIFTI_SLICE...      0      0   \n4      /trinity/home/r098375/DDS/data/egd/NIFTI_SLICE...      0      0   \n...                                                  ...    ...    ...   \n47945  /trinity/home/r098375/DDS/data/egd/NIFTI_SLICE...      0      0   \n47946  /trinity/home/r098375/DDS/data/egd/NIFTI_SLICE...      0      0   \n47947  /trinity/home/r098375/DDS/data/egd/NIFTI_SLICE...      0      0   \n47948  /trinity/home/r098375/DDS/data/egd/NIFTI_SLICE...      0      0   \n47949  /trinity/home/r098375/DDS/data/egd/NIFTI_SLICE...      0      0   \n\n                                               NiftiPath  slicenum  \n0      /trinity/home/r098375/DDS/data/egd/NIFTI/MR_20...        11  \n1      /trinity/home/r098375/DDS/data/egd/NIFTI/MR_20...         8  \n2      /trinity/home/r098375/DDS/data/egd/NIFTI/MR_20...        21  \n3      /trinity/home/r098375/DDS/data/egd/NIFTI/MR_20...         4  \n4      /trinity/home/r098375/DDS/data/egd/NIFTI/MR_20...        10  \n...                                                  ...       ...  \n47945  /trinity/home/r098375/DDS/data/egd/NIFTI/MR_97...         5  \n47946  /trinity/home/r098375/DDS/data/egd/NIFTI/MR_97...        18  \n47947  /trinity/home/r098375/DDS/data/egd/NIFTI/MR_97...        22  \n47948  /trinity/home/r098375/DDS/data/egd/NIFTI/MR_97...        14  \n47949  /trinity/home/r098375/DDS/data/egd/NIFTI/MR_97...         1  \n\n[47950 rows x 14 columns]",
      "text/html": "<div>\n<style scoped>\n    .dataframe tbody tr th:only-of-type {\n        vertical-align: middle;\n    }\n\n    .dataframe tbody tr th {\n        vertical-align: top;\n    }\n\n    .dataframe thead th {\n        text-align: right;\n    }\n</style>\n<table border=\"1\" class=\"dataframe\">\n  <thead>\n    <tr style=\"text-align: right;\">\n      <th></th>\n      <th>structured_path</th>\n      <th>filename</th>\n      <th>path</th>\n      <th>raw_name</th>\n      <th>name</th>\n      <th>label_exp</th>\n      <th>subject</th>\n      <th>train</th>\n      <th>NIFTI_path</th>\n      <th>ID</th>\n      <th>label</th>\n      <th>extra</th>\n      <th>NiftiPath</th>\n      <th>slicenum</th>\n    </tr>\n  </thead>\n  <tbody>\n    <tr>\n      <th>0</th>\n      <td>data/egd/DICOM_STRUCTURED/MR_20020205/20020205...</td>\n      <td>1.2.826.0.1.3680043.10.104.2857427232523006061...</td>\n      <td>data/egd/data/MR_20020205_EGD-0924/scans/3-T1_...</td>\n      <td>3-T1_3D</td>\n      <td>T1w</td>\n      <td>MR_20020205_EGD-0924</td>\n      <td>EGD-0924</td>\n      <td>False</td>\n      <td>/trinity/home/r098375/DDS/data/egd/NIFTI/MR_20...</td>\n      <td>/trinity/home/r098375/DDS/data/egd/NIFTI_SLICE...</td>\n      <td>0</td>\n      <td>0</td>\n      <td>/trinity/home/r098375/DDS/data/egd/NIFTI/MR_20...</td>\n      <td>11</td>\n    </tr>\n    <tr>\n      <th>1</th>\n      <td>data/egd/DICOM_STRUCTURED/MR_20020205/20020205...</td>\n      <td>1.2.826.0.1.3680043.10.104.2857427232523006061...</td>\n      <td>data/egd/data/MR_20020205_EGD-0924/scans/3-T1_...</td>\n      <td>3-T1_3D</td>\n      <td>T1w</td>\n      <td>MR_20020205_EGD-0924</td>\n      <td>EGD-0924</td>\n      <td>False</td>\n      <td>/trinity/home/r098375/DDS/data/egd/NIFTI/MR_20...</td>\n      <td>/trinity/home/r098375/DDS/data/egd/NIFTI_SLICE...</td>\n      <td>0</td>\n      <td>0</td>\n      <td>/trinity/home/r098375/DDS/data/egd/NIFTI/MR_20...</td>\n      <td>8</td>\n    </tr>\n    <tr>\n      <th>2</th>\n      <td>data/egd/DICOM_STRUCTURED/MR_20020205/20020205...</td>\n      <td>1.2.826.0.1.3680043.10.104.2857427232523006061...</td>\n      <td>data/egd/data/MR_20020205_EGD-0924/scans/3-T1_...</td>\n      <td>3-T1_3D</td>\n      <td>T1w</td>\n      <td>MR_20020205_EGD-0924</td>\n      <td>EGD-0924</td>\n      <td>False</td>\n      <td>/trinity/home/r098375/DDS/data/egd/NIFTI/MR_20...</td>\n      <td>/trinity/home/r098375/DDS/data/egd/NIFTI_SLICE...</td>\n      <td>0</td>\n      <td>0</td>\n      <td>/trinity/home/r098375/DDS/data/egd/NIFTI/MR_20...</td>\n      <td>21</td>\n    </tr>\n    <tr>\n      <th>3</th>\n      <td>data/egd/DICOM_STRUCTURED/MR_20020205/20020205...</td>\n      <td>1.2.826.0.1.3680043.10.104.2857427232523006061...</td>\n      <td>data/egd/data/MR_20020205_EGD-0924/scans/3-T1_...</td>\n      <td>3-T1_3D</td>\n      <td>T1w</td>\n      <td>MR_20020205_EGD-0924</td>\n      <td>EGD-0924</td>\n      <td>False</td>\n      <td>/trinity/home/r098375/DDS/data/egd/NIFTI/MR_20...</td>\n      <td>/trinity/home/r098375/DDS/data/egd/NIFTI_SLICE...</td>\n      <td>0</td>\n      <td>0</td>\n      <td>/trinity/home/r098375/DDS/data/egd/NIFTI/MR_20...</td>\n      <td>4</td>\n    </tr>\n    <tr>\n      <th>4</th>\n      <td>data/egd/DICOM_STRUCTURED/MR_20020205/20020205...</td>\n      <td>1.2.826.0.1.3680043.10.104.2857427232523006061...</td>\n      <td>data/egd/data/MR_20020205_EGD-0924/scans/3-T1_...</td>\n      <td>3-T1_3D</td>\n      <td>T1w</td>\n      <td>MR_20020205_EGD-0924</td>\n      <td>EGD-0924</td>\n      <td>False</td>\n      <td>/trinity/home/r098375/DDS/data/egd/NIFTI/MR_20...</td>\n      <td>/trinity/home/r098375/DDS/data/egd/NIFTI_SLICE...</td>\n      <td>0</td>\n      <td>0</td>\n      <td>/trinity/home/r098375/DDS/data/egd/NIFTI/MR_20...</td>\n      <td>10</td>\n    </tr>\n    <tr>\n      <th>...</th>\n      <td>...</td>\n      <td>...</td>\n      <td>...</td>\n      <td>...</td>\n      <td>...</td>\n      <td>...</td>\n      <td>...</td>\n      <td>...</td>\n      <td>...</td>\n      <td>...</td>\n      <td>...</td>\n      <td>...</td>\n      <td>...</td>\n      <td>...</td>\n    </tr>\n    <tr>\n      <th>47945</th>\n      <td>data/egd/DICOM_STRUCTURED/MR_97898/20180127/MR...</td>\n      <td>1.2.826.0.1.3680043.10.104.1081727604819600522...</td>\n      <td>data/egd/data/MR_20151117_EGD-1208/scans/450-A...</td>\n      <td>450-ADC__10__6_mm__s__Jun_26_2019_14_35_34</td>\n      <td>adc</td>\n      <td>MR_20151117_EGD-1208</td>\n      <td>EGD-1208</td>\n      <td>False</td>\n      <td>/trinity/home/r098375/DDS/data/egd/NIFTI/MR_97...</td>\n      <td>/trinity/home/r098375/DDS/data/egd/NIFTI_SLICE...</td>\n      <td>0</td>\n      <td>0</td>\n      <td>/trinity/home/r098375/DDS/data/egd/NIFTI/MR_97...</td>\n      <td>5</td>\n    </tr>\n    <tr>\n      <th>47946</th>\n      <td>data/egd/DICOM_STRUCTURED/MR_97898/20180127/MR...</td>\n      <td>1.2.826.0.1.3680043.10.104.1081727604819600522...</td>\n      <td>data/egd/data/MR_20151117_EGD-1208/scans/450-A...</td>\n      <td>450-ADC__10__6_mm__s__Jun_26_2019_14_35_34</td>\n      <td>adc</td>\n      <td>MR_20151117_EGD-1208</td>\n      <td>EGD-1208</td>\n      <td>False</td>\n      <td>/trinity/home/r098375/DDS/data/egd/NIFTI/MR_97...</td>\n      <td>/trinity/home/r098375/DDS/data/egd/NIFTI_SLICE...</td>\n      <td>0</td>\n      <td>0</td>\n      <td>/trinity/home/r098375/DDS/data/egd/NIFTI/MR_97...</td>\n      <td>18</td>\n    </tr>\n    <tr>\n      <th>47947</th>\n      <td>data/egd/DICOM_STRUCTURED/MR_97898/20180127/MR...</td>\n      <td>1.2.826.0.1.3680043.10.104.1081727604819600522...</td>\n      <td>data/egd/data/MR_20151117_EGD-1208/scans/450-A...</td>\n      <td>450-ADC__10__6_mm__s__Jun_26_2019_14_35_34</td>\n      <td>adc</td>\n      <td>MR_20151117_EGD-1208</td>\n      <td>EGD-1208</td>\n      <td>False</td>\n      <td>/trinity/home/r098375/DDS/data/egd/NIFTI/MR_97...</td>\n      <td>/trinity/home/r098375/DDS/data/egd/NIFTI_SLICE...</td>\n      <td>0</td>\n      <td>0</td>\n      <td>/trinity/home/r098375/DDS/data/egd/NIFTI/MR_97...</td>\n      <td>22</td>\n    </tr>\n    <tr>\n      <th>47948</th>\n      <td>data/egd/DICOM_STRUCTURED/MR_97898/20180127/MR...</td>\n      <td>1.2.826.0.1.3680043.10.104.1081727604819600522...</td>\n      <td>data/egd/data/MR_20151117_EGD-1208/scans/450-A...</td>\n      <td>450-ADC__10__6_mm__s__Jun_26_2019_14_35_34</td>\n      <td>adc</td>\n      <td>MR_20151117_EGD-1208</td>\n      <td>EGD-1208</td>\n      <td>False</td>\n      <td>/trinity/home/r098375/DDS/data/egd/NIFTI/MR_97...</td>\n      <td>/trinity/home/r098375/DDS/data/egd/NIFTI_SLICE...</td>\n      <td>0</td>\n      <td>0</td>\n      <td>/trinity/home/r098375/DDS/data/egd/NIFTI/MR_97...</td>\n      <td>14</td>\n    </tr>\n    <tr>\n      <th>47949</th>\n      <td>data/egd/DICOM_STRUCTURED/MR_97898/20180127/MR...</td>\n      <td>1.2.826.0.1.3680043.10.104.1081727604819600522...</td>\n      <td>data/egd/data/MR_20151117_EGD-1208/scans/450-A...</td>\n      <td>450-ADC__10__6_mm__s__Jun_26_2019_14_35_34</td>\n      <td>adc</td>\n      <td>MR_20151117_EGD-1208</td>\n      <td>EGD-1208</td>\n      <td>False</td>\n      <td>/trinity/home/r098375/DDS/data/egd/NIFTI/MR_97...</td>\n      <td>/trinity/home/r098375/DDS/data/egd/NIFTI_SLICE...</td>\n      <td>0</td>\n      <td>0</td>\n      <td>/trinity/home/r098375/DDS/data/egd/NIFTI/MR_97...</td>\n      <td>1</td>\n    </tr>\n  </tbody>\n</table>\n<p>47950 rows × 14 columns</p>\n</div>"
     },
     "execution_count": 14,
     "metadata": {},
     "output_type": "execute_result"
    }
   ],
   "source": [
    "df_new"
   ],
   "metadata": {
    "collapsed": false,
    "ExecuteTime": {
     "end_time": "2023-11-16T10:35:46.869065615Z",
     "start_time": "2023-11-16T10:35:46.843317122Z"
    }
   },
   "id": "f6592a460d7feec4"
  },
  {
   "cell_type": "code",
   "execution_count": 15,
   "outputs": [],
   "source": [
    "labeldict = {\"T1\":0,\"T1_c\":1,\"T2\":2,\"T2-FLAIR\":3,\"PD\":4,\n",
    "             \"SWI\":5, \"GRE\":6, \"T2*\":7, \"DWI\":8, \"ADC\":9, \"BOLD\":10,\n",
    "             \"FlowSensitve\":11,\"PWI\":12,\"ASL\":13,\n",
    "             \"DTI\":14,\"Other\":15}\n",
    "def assignLabel(dataframe):\n",
    "    description = dataframe['description']\n",
    "    try:\n",
    "        weight = dataframe['weighting']\n",
    "    except:\n",
    "        weight = None\n",
    "    dropLabels = ['moco','mpr','hippo','spinal','unknown']\n",
    "    otherCategories = ['fieldmap','scout','calibration','phase','localizer','nan','NotMri','pet','CT','e2','minIP','moco','other','survey', 'qflow','smartbrain'] #moco is a motion corrected series\n",
    "    if description in dropLabels:\n",
    "        return -1\n",
    "    if description in otherCategories:\n",
    "        return 15\n",
    "    if description =='T1w':\n",
    "        return 0\n",
    "    if description =='T1c':\n",
    "        return 1\n",
    "    if weight:\n",
    "        if description =='T2w':\n",
    "            if weight=='T2':\n",
    "                return 2\n",
    "            if weight=='PD':\n",
    "                return 4\n",
    "    if description == 'T2w':\n",
    "        return 2\n",
    "    if 'FLAIR' in description:\n",
    "        return 3\n",
    "    if description =='pd':\n",
    "        return 4\n",
    "    if description =='swi':\n",
    "        return 5\n",
    "    if description.lower() =='gre':\n",
    "        return 6\n",
    "    if description =='T2star':\n",
    "        return 7\n",
    "    if description =='dwi':\n",
    "        return 8\n",
    "    if description =='adc':\n",
    "        return 9\n",
    "    if description =='bold':\n",
    "        return 10\n",
    "    if description =='angio': #flowsensitive\n",
    "        return 11\n",
    "    if description =='pwi' or description=='cbf':\n",
    "        return 12\n",
    "    if 'asl' in description:\n",
    "        return 13\n",
    "    if description == 'dti':\n",
    "        return 14\n",
    "    return -1"
   ],
   "metadata": {
    "collapsed": false,
    "ExecuteTime": {
     "end_time": "2023-11-16T10:35:46.869189011Z",
     "start_time": "2023-11-16T10:35:46.843607784Z"
    }
   },
   "id": "825dd8fc14b6bc51"
  },
  {
   "cell_type": "code",
   "execution_count": 16,
   "outputs": [],
   "source": [
    "df_new['description'] = df_new['name']"
   ],
   "metadata": {
    "collapsed": false,
    "ExecuteTime": {
     "end_time": "2023-11-16T10:35:46.869256162Z",
     "start_time": "2023-11-16T10:35:46.843668442Z"
    }
   },
   "id": "57bc8e7b21a39d9d"
  },
  {
   "cell_type": "code",
   "execution_count": 17,
   "outputs": [],
   "source": [
    "df_new['label'] = df_new.apply(assignLabel, axis=1)"
   ],
   "metadata": {
    "collapsed": false,
    "ExecuteTime": {
     "end_time": "2023-11-16T10:35:47.362849275Z",
     "start_time": "2023-11-16T10:35:46.843703706Z"
    }
   },
   "id": "df134b3e1e33c9d2"
  },
  {
   "cell_type": "code",
   "execution_count": 18,
   "outputs": [
    {
     "data": {
      "text/plain": "label\n 1     9625\n 8     9075\n 0     6825\n-1     6725\n 2     5775\n 12    3725\n 15    3225\n 9     2825\n 4       75\n 13      50\n 14      25\nName: count, dtype: int64"
     },
     "execution_count": 18,
     "metadata": {},
     "output_type": "execute_result"
    }
   ],
   "source": [
    "df_new['label'].value_counts()"
   ],
   "metadata": {
    "collapsed": false,
    "ExecuteTime": {
     "end_time": "2023-11-16T10:35:47.399891229Z",
     "start_time": "2023-11-16T10:35:47.347840212Z"
    }
   },
   "id": "cc25b46239fdb20b"
  },
  {
   "cell_type": "code",
   "execution_count": 19,
   "outputs": [
    {
     "data": {
      "text/plain": "                                         structured_path  \\\n125    data/egd/DICOM_STRUCTURED/MR_61373/20170605/MR...   \n126    data/egd/DICOM_STRUCTURED/MR_61373/20170605/MR...   \n127    data/egd/DICOM_STRUCTURED/MR_61373/20170605/MR...   \n128    data/egd/DICOM_STRUCTURED/MR_61373/20170605/MR...   \n129    data/egd/DICOM_STRUCTURED/MR_61373/20170605/MR...   \n...                                                  ...   \n47770  data/egd/DICOM_STRUCTURED/MR_97898/20180127/MR...   \n47771  data/egd/DICOM_STRUCTURED/MR_97898/20180127/MR...   \n47772  data/egd/DICOM_STRUCTURED/MR_97898/20180127/MR...   \n47773  data/egd/DICOM_STRUCTURED/MR_97898/20180127/MR...   \n47774  data/egd/DICOM_STRUCTURED/MR_97898/20180127/MR...   \n\n                                                filename  \\\n125    1.2.826.0.1.3680043.10.104.1044043140781656433...   \n126    1.2.826.0.1.3680043.10.104.1044043140781656433...   \n127    1.2.826.0.1.3680043.10.104.1044043140781656433...   \n128    1.2.826.0.1.3680043.10.104.1044043140781656433...   \n129    1.2.826.0.1.3680043.10.104.1044043140781656433...   \n...                                                  ...   \n47770  1.2.826.0.1.3680043.10.104.1081727604819600522...   \n47771  1.2.826.0.1.3680043.10.104.1081727604819600522...   \n47772  1.2.826.0.1.3680043.10.104.1081727604819600522...   \n47773  1.2.826.0.1.3680043.10.104.1081727604819600522...   \n47774  1.2.826.0.1.3680043.10.104.1081727604819600522...   \n\n                                                    path  \\\n125    data/egd/data/MR_20150326_EGD-1215/scans/6-Sag...   \n126    data/egd/data/MR_20150326_EGD-1215/scans/6-Sag...   \n127    data/egd/data/MR_20150326_EGD-1215/scans/6-Sag...   \n128    data/egd/data/MR_20150326_EGD-1215/scans/6-Sag...   \n129    data/egd/data/MR_20150326_EGD-1215/scans/6-Sag...   \n...                                                  ...   \n47770  data/egd/data/MR_20151117_EGD-1208/scans/6-Sag...   \n47771  data/egd/data/MR_20151117_EGD-1208/scans/6-Sag...   \n47772  data/egd/data/MR_20151117_EGD-1208/scans/6-Sag...   \n47773  data/egd/data/MR_20151117_EGD-1208/scans/6-Sag...   \n47774  data/egd/data/MR_20151117_EGD-1208/scans/6-Sag...   \n\n                        raw_name   name             label_exp   subject  \\\n125    6-Sag_Cube_FLAIR_FS_HS1_5  flair  MR_20150326_EGD-1215  EGD-1215   \n126    6-Sag_Cube_FLAIR_FS_HS1_5  flair  MR_20150326_EGD-1215  EGD-1215   \n127    6-Sag_Cube_FLAIR_FS_HS1_5  flair  MR_20150326_EGD-1215  EGD-1215   \n128    6-Sag_Cube_FLAIR_FS_HS1_5  flair  MR_20150326_EGD-1215  EGD-1215   \n129    6-Sag_Cube_FLAIR_FS_HS1_5  flair  MR_20150326_EGD-1215  EGD-1215   \n...                          ...    ...                   ...       ...   \n47770  6-Sag_Cube_FLAIR_FS_HS1_5  flair  MR_20151117_EGD-1208  EGD-1208   \n47771  6-Sag_Cube_FLAIR_FS_HS1_5  flair  MR_20151117_EGD-1208  EGD-1208   \n47772  6-Sag_Cube_FLAIR_FS_HS1_5  flair  MR_20151117_EGD-1208  EGD-1208   \n47773  6-Sag_Cube_FLAIR_FS_HS1_5  flair  MR_20151117_EGD-1208  EGD-1208   \n47774  6-Sag_Cube_FLAIR_FS_HS1_5  flair  MR_20151117_EGD-1208  EGD-1208   \n\n       train                                         NIFTI_path  \\\n125     True  /trinity/home/r098375/DDS/data/egd/NIFTI/MR_61...   \n126     True  /trinity/home/r098375/DDS/data/egd/NIFTI/MR_61...   \n127     True  /trinity/home/r098375/DDS/data/egd/NIFTI/MR_61...   \n128     True  /trinity/home/r098375/DDS/data/egd/NIFTI/MR_61...   \n129     True  /trinity/home/r098375/DDS/data/egd/NIFTI/MR_61...   \n...      ...                                                ...   \n47770  False  /trinity/home/r098375/DDS/data/egd/NIFTI/MR_97...   \n47771  False  /trinity/home/r098375/DDS/data/egd/NIFTI/MR_97...   \n47772  False  /trinity/home/r098375/DDS/data/egd/NIFTI/MR_97...   \n47773  False  /trinity/home/r098375/DDS/data/egd/NIFTI/MR_97...   \n47774  False  /trinity/home/r098375/DDS/data/egd/NIFTI/MR_97...   \n\n                                                      ID  label  extra  \\\n125    /trinity/home/r098375/DDS/data/egd/NIFTI_SLICE...     -1      0   \n126    /trinity/home/r098375/DDS/data/egd/NIFTI_SLICE...     -1      0   \n127    /trinity/home/r098375/DDS/data/egd/NIFTI_SLICE...     -1      0   \n128    /trinity/home/r098375/DDS/data/egd/NIFTI_SLICE...     -1      0   \n129    /trinity/home/r098375/DDS/data/egd/NIFTI_SLICE...     -1      0   \n...                                                  ...    ...    ...   \n47770  /trinity/home/r098375/DDS/data/egd/NIFTI_SLICE...     -1      0   \n47771  /trinity/home/r098375/DDS/data/egd/NIFTI_SLICE...     -1      0   \n47772  /trinity/home/r098375/DDS/data/egd/NIFTI_SLICE...     -1      0   \n47773  /trinity/home/r098375/DDS/data/egd/NIFTI_SLICE...     -1      0   \n47774  /trinity/home/r098375/DDS/data/egd/NIFTI_SLICE...     -1      0   \n\n                                               NiftiPath  slicenum description  \n125    /trinity/home/r098375/DDS/data/egd/NIFTI/MR_61...         3       flair  \n126    /trinity/home/r098375/DDS/data/egd/NIFTI/MR_61...         9       flair  \n127    /trinity/home/r098375/DDS/data/egd/NIFTI/MR_61...        10       flair  \n128    /trinity/home/r098375/DDS/data/egd/NIFTI/MR_61...        20       flair  \n129    /trinity/home/r098375/DDS/data/egd/NIFTI/MR_61...        11       flair  \n...                                                  ...       ...         ...  \n47770  /trinity/home/r098375/DDS/data/egd/NIFTI/MR_97...        11       flair  \n47771  /trinity/home/r098375/DDS/data/egd/NIFTI/MR_97...         0       flair  \n47772  /trinity/home/r098375/DDS/data/egd/NIFTI/MR_97...        10       flair  \n47773  /trinity/home/r098375/DDS/data/egd/NIFTI/MR_97...        17       flair  \n47774  /trinity/home/r098375/DDS/data/egd/NIFTI/MR_97...        21       flair  \n\n[6725 rows x 15 columns]",
      "text/html": "<div>\n<style scoped>\n    .dataframe tbody tr th:only-of-type {\n        vertical-align: middle;\n    }\n\n    .dataframe tbody tr th {\n        vertical-align: top;\n    }\n\n    .dataframe thead th {\n        text-align: right;\n    }\n</style>\n<table border=\"1\" class=\"dataframe\">\n  <thead>\n    <tr style=\"text-align: right;\">\n      <th></th>\n      <th>structured_path</th>\n      <th>filename</th>\n      <th>path</th>\n      <th>raw_name</th>\n      <th>name</th>\n      <th>label_exp</th>\n      <th>subject</th>\n      <th>train</th>\n      <th>NIFTI_path</th>\n      <th>ID</th>\n      <th>label</th>\n      <th>extra</th>\n      <th>NiftiPath</th>\n      <th>slicenum</th>\n      <th>description</th>\n    </tr>\n  </thead>\n  <tbody>\n    <tr>\n      <th>125</th>\n      <td>data/egd/DICOM_STRUCTURED/MR_61373/20170605/MR...</td>\n      <td>1.2.826.0.1.3680043.10.104.1044043140781656433...</td>\n      <td>data/egd/data/MR_20150326_EGD-1215/scans/6-Sag...</td>\n      <td>6-Sag_Cube_FLAIR_FS_HS1_5</td>\n      <td>flair</td>\n      <td>MR_20150326_EGD-1215</td>\n      <td>EGD-1215</td>\n      <td>True</td>\n      <td>/trinity/home/r098375/DDS/data/egd/NIFTI/MR_61...</td>\n      <td>/trinity/home/r098375/DDS/data/egd/NIFTI_SLICE...</td>\n      <td>-1</td>\n      <td>0</td>\n      <td>/trinity/home/r098375/DDS/data/egd/NIFTI/MR_61...</td>\n      <td>3</td>\n      <td>flair</td>\n    </tr>\n    <tr>\n      <th>126</th>\n      <td>data/egd/DICOM_STRUCTURED/MR_61373/20170605/MR...</td>\n      <td>1.2.826.0.1.3680043.10.104.1044043140781656433...</td>\n      <td>data/egd/data/MR_20150326_EGD-1215/scans/6-Sag...</td>\n      <td>6-Sag_Cube_FLAIR_FS_HS1_5</td>\n      <td>flair</td>\n      <td>MR_20150326_EGD-1215</td>\n      <td>EGD-1215</td>\n      <td>True</td>\n      <td>/trinity/home/r098375/DDS/data/egd/NIFTI/MR_61...</td>\n      <td>/trinity/home/r098375/DDS/data/egd/NIFTI_SLICE...</td>\n      <td>-1</td>\n      <td>0</td>\n      <td>/trinity/home/r098375/DDS/data/egd/NIFTI/MR_61...</td>\n      <td>9</td>\n      <td>flair</td>\n    </tr>\n    <tr>\n      <th>127</th>\n      <td>data/egd/DICOM_STRUCTURED/MR_61373/20170605/MR...</td>\n      <td>1.2.826.0.1.3680043.10.104.1044043140781656433...</td>\n      <td>data/egd/data/MR_20150326_EGD-1215/scans/6-Sag...</td>\n      <td>6-Sag_Cube_FLAIR_FS_HS1_5</td>\n      <td>flair</td>\n      <td>MR_20150326_EGD-1215</td>\n      <td>EGD-1215</td>\n      <td>True</td>\n      <td>/trinity/home/r098375/DDS/data/egd/NIFTI/MR_61...</td>\n      <td>/trinity/home/r098375/DDS/data/egd/NIFTI_SLICE...</td>\n      <td>-1</td>\n      <td>0</td>\n      <td>/trinity/home/r098375/DDS/data/egd/NIFTI/MR_61...</td>\n      <td>10</td>\n      <td>flair</td>\n    </tr>\n    <tr>\n      <th>128</th>\n      <td>data/egd/DICOM_STRUCTURED/MR_61373/20170605/MR...</td>\n      <td>1.2.826.0.1.3680043.10.104.1044043140781656433...</td>\n      <td>data/egd/data/MR_20150326_EGD-1215/scans/6-Sag...</td>\n      <td>6-Sag_Cube_FLAIR_FS_HS1_5</td>\n      <td>flair</td>\n      <td>MR_20150326_EGD-1215</td>\n      <td>EGD-1215</td>\n      <td>True</td>\n      <td>/trinity/home/r098375/DDS/data/egd/NIFTI/MR_61...</td>\n      <td>/trinity/home/r098375/DDS/data/egd/NIFTI_SLICE...</td>\n      <td>-1</td>\n      <td>0</td>\n      <td>/trinity/home/r098375/DDS/data/egd/NIFTI/MR_61...</td>\n      <td>20</td>\n      <td>flair</td>\n    </tr>\n    <tr>\n      <th>129</th>\n      <td>data/egd/DICOM_STRUCTURED/MR_61373/20170605/MR...</td>\n      <td>1.2.826.0.1.3680043.10.104.1044043140781656433...</td>\n      <td>data/egd/data/MR_20150326_EGD-1215/scans/6-Sag...</td>\n      <td>6-Sag_Cube_FLAIR_FS_HS1_5</td>\n      <td>flair</td>\n      <td>MR_20150326_EGD-1215</td>\n      <td>EGD-1215</td>\n      <td>True</td>\n      <td>/trinity/home/r098375/DDS/data/egd/NIFTI/MR_61...</td>\n      <td>/trinity/home/r098375/DDS/data/egd/NIFTI_SLICE...</td>\n      <td>-1</td>\n      <td>0</td>\n      <td>/trinity/home/r098375/DDS/data/egd/NIFTI/MR_61...</td>\n      <td>11</td>\n      <td>flair</td>\n    </tr>\n    <tr>\n      <th>...</th>\n      <td>...</td>\n      <td>...</td>\n      <td>...</td>\n      <td>...</td>\n      <td>...</td>\n      <td>...</td>\n      <td>...</td>\n      <td>...</td>\n      <td>...</td>\n      <td>...</td>\n      <td>...</td>\n      <td>...</td>\n      <td>...</td>\n      <td>...</td>\n      <td>...</td>\n    </tr>\n    <tr>\n      <th>47770</th>\n      <td>data/egd/DICOM_STRUCTURED/MR_97898/20180127/MR...</td>\n      <td>1.2.826.0.1.3680043.10.104.1081727604819600522...</td>\n      <td>data/egd/data/MR_20151117_EGD-1208/scans/6-Sag...</td>\n      <td>6-Sag_Cube_FLAIR_FS_HS1_5</td>\n      <td>flair</td>\n      <td>MR_20151117_EGD-1208</td>\n      <td>EGD-1208</td>\n      <td>False</td>\n      <td>/trinity/home/r098375/DDS/data/egd/NIFTI/MR_97...</td>\n      <td>/trinity/home/r098375/DDS/data/egd/NIFTI_SLICE...</td>\n      <td>-1</td>\n      <td>0</td>\n      <td>/trinity/home/r098375/DDS/data/egd/NIFTI/MR_97...</td>\n      <td>11</td>\n      <td>flair</td>\n    </tr>\n    <tr>\n      <th>47771</th>\n      <td>data/egd/DICOM_STRUCTURED/MR_97898/20180127/MR...</td>\n      <td>1.2.826.0.1.3680043.10.104.1081727604819600522...</td>\n      <td>data/egd/data/MR_20151117_EGD-1208/scans/6-Sag...</td>\n      <td>6-Sag_Cube_FLAIR_FS_HS1_5</td>\n      <td>flair</td>\n      <td>MR_20151117_EGD-1208</td>\n      <td>EGD-1208</td>\n      <td>False</td>\n      <td>/trinity/home/r098375/DDS/data/egd/NIFTI/MR_97...</td>\n      <td>/trinity/home/r098375/DDS/data/egd/NIFTI_SLICE...</td>\n      <td>-1</td>\n      <td>0</td>\n      <td>/trinity/home/r098375/DDS/data/egd/NIFTI/MR_97...</td>\n      <td>0</td>\n      <td>flair</td>\n    </tr>\n    <tr>\n      <th>47772</th>\n      <td>data/egd/DICOM_STRUCTURED/MR_97898/20180127/MR...</td>\n      <td>1.2.826.0.1.3680043.10.104.1081727604819600522...</td>\n      <td>data/egd/data/MR_20151117_EGD-1208/scans/6-Sag...</td>\n      <td>6-Sag_Cube_FLAIR_FS_HS1_5</td>\n      <td>flair</td>\n      <td>MR_20151117_EGD-1208</td>\n      <td>EGD-1208</td>\n      <td>False</td>\n      <td>/trinity/home/r098375/DDS/data/egd/NIFTI/MR_97...</td>\n      <td>/trinity/home/r098375/DDS/data/egd/NIFTI_SLICE...</td>\n      <td>-1</td>\n      <td>0</td>\n      <td>/trinity/home/r098375/DDS/data/egd/NIFTI/MR_97...</td>\n      <td>10</td>\n      <td>flair</td>\n    </tr>\n    <tr>\n      <th>47773</th>\n      <td>data/egd/DICOM_STRUCTURED/MR_97898/20180127/MR...</td>\n      <td>1.2.826.0.1.3680043.10.104.1081727604819600522...</td>\n      <td>data/egd/data/MR_20151117_EGD-1208/scans/6-Sag...</td>\n      <td>6-Sag_Cube_FLAIR_FS_HS1_5</td>\n      <td>flair</td>\n      <td>MR_20151117_EGD-1208</td>\n      <td>EGD-1208</td>\n      <td>False</td>\n      <td>/trinity/home/r098375/DDS/data/egd/NIFTI/MR_97...</td>\n      <td>/trinity/home/r098375/DDS/data/egd/NIFTI_SLICE...</td>\n      <td>-1</td>\n      <td>0</td>\n      <td>/trinity/home/r098375/DDS/data/egd/NIFTI/MR_97...</td>\n      <td>17</td>\n      <td>flair</td>\n    </tr>\n    <tr>\n      <th>47774</th>\n      <td>data/egd/DICOM_STRUCTURED/MR_97898/20180127/MR...</td>\n      <td>1.2.826.0.1.3680043.10.104.1081727604819600522...</td>\n      <td>data/egd/data/MR_20151117_EGD-1208/scans/6-Sag...</td>\n      <td>6-Sag_Cube_FLAIR_FS_HS1_5</td>\n      <td>flair</td>\n      <td>MR_20151117_EGD-1208</td>\n      <td>EGD-1208</td>\n      <td>False</td>\n      <td>/trinity/home/r098375/DDS/data/egd/NIFTI/MR_97...</td>\n      <td>/trinity/home/r098375/DDS/data/egd/NIFTI_SLICE...</td>\n      <td>-1</td>\n      <td>0</td>\n      <td>/trinity/home/r098375/DDS/data/egd/NIFTI/MR_97...</td>\n      <td>21</td>\n      <td>flair</td>\n    </tr>\n  </tbody>\n</table>\n<p>6725 rows × 15 columns</p>\n</div>"
     },
     "execution_count": 19,
     "metadata": {},
     "output_type": "execute_result"
    }
   ],
   "source": [
    "df_new[df_new['label']==-1]"
   ],
   "metadata": {
    "collapsed": false,
    "ExecuteTime": {
     "end_time": "2023-11-16T10:35:47.400889133Z",
     "start_time": "2023-11-16T10:35:47.391194718Z"
    }
   },
   "id": "45ec73eec4211dbb"
  },
  {
   "cell_type": "code",
   "execution_count": 20,
   "outputs": [],
   "source": [
    "df_new = df_new[df_new['label']!=-1]"
   ],
   "metadata": {
    "collapsed": false,
    "ExecuteTime": {
     "end_time": "2023-11-16T10:35:47.401272724Z",
     "start_time": "2023-11-16T10:35:47.391474501Z"
    }
   },
   "id": "7f52d7924b7f4319"
  },
  {
   "cell_type": "code",
   "execution_count": 21,
   "outputs": [],
   "source": [
    "testLabelFrame = df_new[['ID','label','extra']][df_new['train']!=True]\n",
    "trainLabelFrame = df_new[['ID','label','extra']][df_new['train']]\n",
    "AllLabelFrame = df_new[['ID','label','extra']]"
   ],
   "metadata": {
    "collapsed": false,
    "ExecuteTime": {
     "end_time": "2023-11-16T10:35:47.458209618Z",
     "start_time": "2023-11-16T10:35:47.391551160Z"
    }
   },
   "id": "c7d9a142f17c653b"
  },
  {
   "cell_type": "code",
   "execution_count": 22,
   "outputs": [
    {
     "data": {
      "text/plain": "label\n1     8625\n8     8400\n0     6075\n2     5250\n12    3150\n15    2425\n9     2325\n4       75\n14      25\n13      25\nName: count, dtype: int64"
     },
     "execution_count": 22,
     "metadata": {},
     "output_type": "execute_result"
    }
   ],
   "source": [
    "trainLabelFrame['label'].value_counts()"
   ],
   "metadata": {
    "collapsed": false,
    "ExecuteTime": {
     "end_time": "2023-11-16T10:35:47.458507052Z",
     "start_time": "2023-11-16T10:35:47.435302384Z"
    }
   },
   "id": "5561a6754860f692"
  },
  {
   "cell_type": "code",
   "execution_count": 23,
   "outputs": [
    {
     "data": {
      "text/plain": "label\n1     1000\n15     800\n0      750\n8      675\n12     575\n2      525\n9      500\n13      25\nName: count, dtype: int64"
     },
     "execution_count": 23,
     "metadata": {},
     "output_type": "execute_result"
    }
   ],
   "source": [
    "testLabelFrame['label'].value_counts()"
   ],
   "metadata": {
    "collapsed": false,
    "ExecuteTime": {
     "end_time": "2023-11-16T10:35:47.458676103Z",
     "start_time": "2023-11-16T10:35:47.435429803Z"
    }
   },
   "id": "3e8339ec58eec4cd"
  },
  {
   "cell_type": "code",
   "execution_count": 24,
   "outputs": [],
   "source": [
    "trainLabelFrame.to_csv('egd_trainLabels_extensive3.txt', header=False,index=False, sep='\\t')\n",
    "testLabelFrame.to_csv('egd_testLabels_extensive3.txt', header=False,index=False, sep='\\t')\n",
    "AllLabelFrame.to_csv('egd_Labels_extensive3.txt', header=False,index=False, sep='\\t')"
   ],
   "metadata": {
    "collapsed": false,
    "ExecuteTime": {
     "end_time": "2023-11-16T10:35:47.803609584Z",
     "start_time": "2023-11-16T10:35:47.435490972Z"
    }
   },
   "id": "e6c8c364eae000ef"
  },
  {
   "cell_type": "code",
   "execution_count": 24,
   "outputs": [],
   "source": [],
   "metadata": {
    "collapsed": false,
    "ExecuteTime": {
     "end_time": "2023-11-16T10:35:47.848176263Z",
     "start_time": "2023-11-16T10:35:47.805349932Z"
    }
   },
   "id": "1f23391c6f380"
  }
 ],
 "metadata": {
  "kernelspec": {
   "display_name": "Python 3",
   "language": "python",
   "name": "python3"
  },
  "language_info": {
   "codemirror_mode": {
    "name": "ipython",
    "version": 2
   },
   "file_extension": ".py",
   "mimetype": "text/x-python",
   "name": "python",
   "nbconvert_exporter": "python",
   "pygments_lexer": "ipython2",
   "version": "2.7.6"
  }
 },
 "nbformat": 4,
 "nbformat_minor": 5
}
