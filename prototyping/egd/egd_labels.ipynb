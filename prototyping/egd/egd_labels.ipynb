{
 "cells": [
  {
   "cell_type": "code",
   "execution_count": 1,
   "id": "initial_id",
   "metadata": {
    "collapsed": true,
    "ExecuteTime": {
     "end_time": "2023-11-13T10:08:35.337484828Z",
     "start_time": "2023-11-13T10:08:35.079477587Z"
    }
   },
   "outputs": [],
   "source": [
    "import pandas as pd\n",
    "import os"
   ]
  },
  {
   "cell_type": "code",
   "execution_count": 2,
   "outputs": [
    {
     "data": {
      "text/plain": "                                                                                             filename  \\\nstructured_path                                                                                         \ndata/egd/DICOM_STRUCTURED/MR_20020205/20020205/...  1.2.826.0.1.3680043.10.104.2857427232523006061...   \ndata/egd/DICOM_STRUCTURED/MR_20020205/20020205/...  1.2.826.0.1.3680043.10.104.2857427232523006061...   \ndata/egd/DICOM_STRUCTURED/MR_61373/20170605/MR/...  1.2.826.0.1.3680043.10.104.1044043140781656433...   \ndata/egd/DICOM_STRUCTURED/MR_61373/20170605/MR/...  1.2.826.0.1.3680043.10.104.1044043140781656433...   \ndata/egd/DICOM_STRUCTURED/MR_61373/20170605/MR/...  1.2.826.0.1.3680043.10.104.1044043140781656433...   \n...                                                                                               ...   \ndata/egd/DICOM_STRUCTURED/MR_97898/20180127/MR/...  1.2.826.0.1.3680043.10.104.1081727604819600522...   \ndata/egd/DICOM_STRUCTURED/MR_97898/20180127/MR/...  1.2.826.0.1.3680043.10.104.1081727604819600522...   \ndata/egd/DICOM_STRUCTURED/MR_97898/20180127/MR/...  1.2.826.0.1.3680043.10.104.1081727604819600522...   \ndata/egd/DICOM_STRUCTURED/MR_97898/20180127/MR/...  1.2.826.0.1.3680043.10.104.1081727604819600522...   \ndata/egd/DICOM_STRUCTURED/MR_97898/20180127/MR/...  1.2.826.0.1.3680043.10.104.1081727604819600522...   \n\n                                                                                                 path  \\\nstructured_path                                                                                         \ndata/egd/DICOM_STRUCTURED/MR_20020205/20020205/...  data/egd/data/MR_20020205_EGD-0924/scans/3-T1_...   \ndata/egd/DICOM_STRUCTURED/MR_20020205/20020205/...  data/egd/data/MR_20020205_EGD-0924/scans/8-T2_...   \ndata/egd/DICOM_STRUCTURED/MR_61373/20170605/MR/...  data/egd/data/MR_20150326_EGD-1215/scans/3-3D_...   \ndata/egd/DICOM_STRUCTURED/MR_61373/20170605/MR/...  data/egd/data/MR_20150326_EGD-1215/scans/650-a...   \ndata/egd/DICOM_STRUCTURED/MR_61373/20170605/MR/...  data/egd/data/MR_20150326_EGD-1215/scans/450-A...   \n...                                                                                               ...   \ndata/egd/DICOM_STRUCTURED/MR_97898/20180127/MR/...  data/egd/data/MR_20151117_EGD-1208/scans/950-P...   \ndata/egd/DICOM_STRUCTURED/MR_97898/20180127/MR/...  data/egd/data/MR_20151117_EGD-1208/scans/651-P...   \ndata/egd/DICOM_STRUCTURED/MR_97898/20180127/MR/...  data/egd/data/MR_20151117_EGD-1208/scans/4-Ax_...   \ndata/egd/DICOM_STRUCTURED/MR_97898/20180127/MR/...  data/egd/data/MR_20151117_EGD-1208/scans/451-e...   \ndata/egd/DICOM_STRUCTURED/MR_97898/20180127/MR/...  data/egd/data/MR_20151117_EGD-1208/scans/450-A...   \n\n                                                                                          raw_name  \\\nstructured_path                                                                                      \ndata/egd/DICOM_STRUCTURED/MR_20020205/20020205/...                                         3-T1_3D   \ndata/egd/DICOM_STRUCTURED/MR_20020205/20020205/...                                         8-T2_Ax   \ndata/egd/DICOM_STRUCTURED/MR_61373/20170605/MR/...                      3-3D_Ax_T1_FSPGR_HR_blanco   \ndata/egd/DICOM_STRUCTURED/MR_61373/20170605/MR/...                                     650-ax_cube   \ndata/egd/DICOM_STRUCTURED/MR_61373/20170605/MR/...  450-ADC__10__6_mm__s__Nov_02_2018_20_57_56_CET   \n...                                                                                            ...   \ndata/egd/DICOM_STRUCTURED/MR_97898/20180127/MR/...                            950-Processed_Images   \ndata/egd/DICOM_STRUCTURED/MR_97898/20180127/MR/...                            651-Processed_Images   \ndata/egd/DICOM_STRUCTURED/MR_97898/20180127/MR/...                          4-Ax_DWI_ALL_B1000_3mm   \ndata/egd/DICOM_STRUCTURED/MR_97898/20180127/MR/...                   451-eADC_Jun_26_2019_14_35_34   \ndata/egd/DICOM_STRUCTURED/MR_97898/20180127/MR/...      450-ADC__10__6_mm__s__Jun_26_2019_14_35_34   \n\n                                                   name             label_exp  \\\nstructured_path                                                                 \ndata/egd/DICOM_STRUCTURED/MR_20020205/20020205/...  T1w  MR_20020205_EGD-0924   \ndata/egd/DICOM_STRUCTURED/MR_20020205/20020205/...  T2w  MR_20020205_EGD-0924   \ndata/egd/DICOM_STRUCTURED/MR_61373/20170605/MR/...  T1w  MR_20150326_EGD-1215   \ndata/egd/DICOM_STRUCTURED/MR_61373/20170605/MR/...  pwi  MR_20150326_EGD-1215   \ndata/egd/DICOM_STRUCTURED/MR_61373/20170605/MR/...  adc  MR_20150326_EGD-1215   \n...                                                 ...                   ...   \ndata/egd/DICOM_STRUCTURED/MR_97898/20180127/MR/...  pwi  MR_20151117_EGD-1208   \ndata/egd/DICOM_STRUCTURED/MR_97898/20180127/MR/...  pwi  MR_20151117_EGD-1208   \ndata/egd/DICOM_STRUCTURED/MR_97898/20180127/MR/...  dwi  MR_20151117_EGD-1208   \ndata/egd/DICOM_STRUCTURED/MR_97898/20180127/MR/...  adc  MR_20151117_EGD-1208   \ndata/egd/DICOM_STRUCTURED/MR_97898/20180127/MR/...  adc  MR_20151117_EGD-1208   \n\n                                                     subject  train  \\\nstructured_path                                                       \ndata/egd/DICOM_STRUCTURED/MR_20020205/20020205/...  EGD-0924  False   \ndata/egd/DICOM_STRUCTURED/MR_20020205/20020205/...  EGD-0924  False   \ndata/egd/DICOM_STRUCTURED/MR_61373/20170605/MR/...  EGD-1215   True   \ndata/egd/DICOM_STRUCTURED/MR_61373/20170605/MR/...  EGD-1215   True   \ndata/egd/DICOM_STRUCTURED/MR_61373/20170605/MR/...  EGD-1215   True   \n...                                                      ...    ...   \ndata/egd/DICOM_STRUCTURED/MR_97898/20180127/MR/...  EGD-1208  False   \ndata/egd/DICOM_STRUCTURED/MR_97898/20180127/MR/...  EGD-1208  False   \ndata/egd/DICOM_STRUCTURED/MR_97898/20180127/MR/...  EGD-1208  False   \ndata/egd/DICOM_STRUCTURED/MR_97898/20180127/MR/...  EGD-1208  False   \ndata/egd/DICOM_STRUCTURED/MR_97898/20180127/MR/...  EGD-1208  False   \n\n                                                                                           NIFTI_path  \nstructured_path                                                                                        \ndata/egd/DICOM_STRUCTURED/MR_20020205/20020205/...  data/egd/NIFTI/MR_20020205/20020205/MR/1.2.826...  \ndata/egd/DICOM_STRUCTURED/MR_20020205/20020205/...  data/egd/NIFTI/MR_20020205/20020205/MR/1.2.826...  \ndata/egd/DICOM_STRUCTURED/MR_61373/20170605/MR/...  data/egd/NIFTI/MR_61373/20170605/MR/1.2.826.0....  \ndata/egd/DICOM_STRUCTURED/MR_61373/20170605/MR/...  data/egd/NIFTI/MR_61373/20170605/MR/1.2.826.0....  \ndata/egd/DICOM_STRUCTURED/MR_61373/20170605/MR/...  data/egd/NIFTI/MR_61373/20170605/MR/1.2.826.0....  \n...                                                                                               ...  \ndata/egd/DICOM_STRUCTURED/MR_97898/20180127/MR/...  data/egd/NIFTI/MR_97898/20180127/MR/1.2.826.0....  \ndata/egd/DICOM_STRUCTURED/MR_97898/20180127/MR/...  data/egd/NIFTI/MR_97898/20180127/MR/1.2.826.0....  \ndata/egd/DICOM_STRUCTURED/MR_97898/20180127/MR/...  data/egd/NIFTI/MR_97898/20180127/MR/1.2.826.0....  \ndata/egd/DICOM_STRUCTURED/MR_97898/20180127/MR/...  data/egd/NIFTI/MR_97898/20180127/MR/1.2.826.0....  \ndata/egd/DICOM_STRUCTURED/MR_97898/20180127/MR/...  data/egd/NIFTI/MR_97898/20180127/MR/1.2.826.0....  \n\n[2442 rows x 8 columns]",
      "text/html": "<div>\n<style scoped>\n    .dataframe tbody tr th:only-of-type {\n        vertical-align: middle;\n    }\n\n    .dataframe tbody tr th {\n        vertical-align: top;\n    }\n\n    .dataframe thead th {\n        text-align: right;\n    }\n</style>\n<table border=\"1\" class=\"dataframe\">\n  <thead>\n    <tr style=\"text-align: right;\">\n      <th></th>\n      <th>filename</th>\n      <th>path</th>\n      <th>raw_name</th>\n      <th>name</th>\n      <th>label_exp</th>\n      <th>subject</th>\n      <th>train</th>\n      <th>NIFTI_path</th>\n    </tr>\n    <tr>\n      <th>structured_path</th>\n      <th></th>\n      <th></th>\n      <th></th>\n      <th></th>\n      <th></th>\n      <th></th>\n      <th></th>\n      <th></th>\n    </tr>\n  </thead>\n  <tbody>\n    <tr>\n      <th>data/egd/DICOM_STRUCTURED/MR_20020205/20020205/MR/1.2.826.0.1.3680043.10.104.2857427232523006061017867594417320946/1.2.826.0.1.3680043.10.104.1456467217459860599267812336880387893</th>\n      <td>1.2.826.0.1.3680043.10.104.2857427232523006061...</td>\n      <td>data/egd/data/MR_20020205_EGD-0924/scans/3-T1_...</td>\n      <td>3-T1_3D</td>\n      <td>T1w</td>\n      <td>MR_20020205_EGD-0924</td>\n      <td>EGD-0924</td>\n      <td>False</td>\n      <td>data/egd/NIFTI/MR_20020205/20020205/MR/1.2.826...</td>\n    </tr>\n    <tr>\n      <th>data/egd/DICOM_STRUCTURED/MR_20020205/20020205/MR/1.2.826.0.1.3680043.10.104.2857427232523006061017867594417320946/1.2.826.0.1.3680043.10.104.3273507327985140605260743148514163249</th>\n      <td>1.2.826.0.1.3680043.10.104.2857427232523006061...</td>\n      <td>data/egd/data/MR_20020205_EGD-0924/scans/8-T2_...</td>\n      <td>8-T2_Ax</td>\n      <td>T2w</td>\n      <td>MR_20020205_EGD-0924</td>\n      <td>EGD-0924</td>\n      <td>False</td>\n      <td>data/egd/NIFTI/MR_20020205/20020205/MR/1.2.826...</td>\n    </tr>\n    <tr>\n      <th>data/egd/DICOM_STRUCTURED/MR_61373/20170605/MR/1.2.826.0.1.3680043.10.104.1044043140781656433796316460050911171/1.2.826.0.1.3680043.10.104.1801745603026959729082416841174952821</th>\n      <td>1.2.826.0.1.3680043.10.104.1044043140781656433...</td>\n      <td>data/egd/data/MR_20150326_EGD-1215/scans/3-3D_...</td>\n      <td>3-3D_Ax_T1_FSPGR_HR_blanco</td>\n      <td>T1w</td>\n      <td>MR_20150326_EGD-1215</td>\n      <td>EGD-1215</td>\n      <td>True</td>\n      <td>data/egd/NIFTI/MR_61373/20170605/MR/1.2.826.0....</td>\n    </tr>\n    <tr>\n      <th>data/egd/DICOM_STRUCTURED/MR_61373/20170605/MR/1.2.826.0.1.3680043.10.104.1044043140781656433796316460050911171/1.2.826.0.1.3680043.10.104.6340855328950919361085493438770231184</th>\n      <td>1.2.826.0.1.3680043.10.104.1044043140781656433...</td>\n      <td>data/egd/data/MR_20150326_EGD-1215/scans/650-a...</td>\n      <td>650-ax_cube</td>\n      <td>pwi</td>\n      <td>MR_20150326_EGD-1215</td>\n      <td>EGD-1215</td>\n      <td>True</td>\n      <td>data/egd/NIFTI/MR_61373/20170605/MR/1.2.826.0....</td>\n    </tr>\n    <tr>\n      <th>data/egd/DICOM_STRUCTURED/MR_61373/20170605/MR/1.2.826.0.1.3680043.10.104.1044043140781656433796316460050911171/1.2.826.0.1.3680043.10.104.2455553308229043306235389483795484114</th>\n      <td>1.2.826.0.1.3680043.10.104.1044043140781656433...</td>\n      <td>data/egd/data/MR_20150326_EGD-1215/scans/450-A...</td>\n      <td>450-ADC__10__6_mm__s__Nov_02_2018_20_57_56_CET</td>\n      <td>adc</td>\n      <td>MR_20150326_EGD-1215</td>\n      <td>EGD-1215</td>\n      <td>True</td>\n      <td>data/egd/NIFTI/MR_61373/20170605/MR/1.2.826.0....</td>\n    </tr>\n    <tr>\n      <th>...</th>\n      <td>...</td>\n      <td>...</td>\n      <td>...</td>\n      <td>...</td>\n      <td>...</td>\n      <td>...</td>\n      <td>...</td>\n      <td>...</td>\n    </tr>\n    <tr>\n      <th>data/egd/DICOM_STRUCTURED/MR_97898/20180127/MR/1.2.826.0.1.3680043.10.104.1081727604819600522515099247972642027/1.2.826.0.1.3680043.10.104.1233963667631848302032727597138300639</th>\n      <td>1.2.826.0.1.3680043.10.104.1081727604819600522...</td>\n      <td>data/egd/data/MR_20151117_EGD-1208/scans/950-P...</td>\n      <td>950-Processed_Images</td>\n      <td>pwi</td>\n      <td>MR_20151117_EGD-1208</td>\n      <td>EGD-1208</td>\n      <td>False</td>\n      <td>data/egd/NIFTI/MR_97898/20180127/MR/1.2.826.0....</td>\n    </tr>\n    <tr>\n      <th>data/egd/DICOM_STRUCTURED/MR_97898/20180127/MR/1.2.826.0.1.3680043.10.104.1081727604819600522515099247972642027/1.2.826.0.1.3680043.10.104.2516993570889467225083077180013450050</th>\n      <td>1.2.826.0.1.3680043.10.104.1081727604819600522...</td>\n      <td>data/egd/data/MR_20151117_EGD-1208/scans/651-P...</td>\n      <td>651-Processed_Images</td>\n      <td>pwi</td>\n      <td>MR_20151117_EGD-1208</td>\n      <td>EGD-1208</td>\n      <td>False</td>\n      <td>data/egd/NIFTI/MR_97898/20180127/MR/1.2.826.0....</td>\n    </tr>\n    <tr>\n      <th>data/egd/DICOM_STRUCTURED/MR_97898/20180127/MR/1.2.826.0.1.3680043.10.104.1081727604819600522515099247972642027/1.2.826.0.1.3680043.10.104.2535406566969555595764238334092657810</th>\n      <td>1.2.826.0.1.3680043.10.104.1081727604819600522...</td>\n      <td>data/egd/data/MR_20151117_EGD-1208/scans/4-Ax_...</td>\n      <td>4-Ax_DWI_ALL_B1000_3mm</td>\n      <td>dwi</td>\n      <td>MR_20151117_EGD-1208</td>\n      <td>EGD-1208</td>\n      <td>False</td>\n      <td>data/egd/NIFTI/MR_97898/20180127/MR/1.2.826.0....</td>\n    </tr>\n    <tr>\n      <th>data/egd/DICOM_STRUCTURED/MR_97898/20180127/MR/1.2.826.0.1.3680043.10.104.1081727604819600522515099247972642027/1.2.826.0.1.3680043.10.104.1625583477166092580202018711545471512</th>\n      <td>1.2.826.0.1.3680043.10.104.1081727604819600522...</td>\n      <td>data/egd/data/MR_20151117_EGD-1208/scans/451-e...</td>\n      <td>451-eADC_Jun_26_2019_14_35_34</td>\n      <td>adc</td>\n      <td>MR_20151117_EGD-1208</td>\n      <td>EGD-1208</td>\n      <td>False</td>\n      <td>data/egd/NIFTI/MR_97898/20180127/MR/1.2.826.0....</td>\n    </tr>\n    <tr>\n      <th>data/egd/DICOM_STRUCTURED/MR_97898/20180127/MR/1.2.826.0.1.3680043.10.104.1081727604819600522515099247972642027/1.2.826.0.1.3680043.10.104.2068317196340539917609654278762212220</th>\n      <td>1.2.826.0.1.3680043.10.104.1081727604819600522...</td>\n      <td>data/egd/data/MR_20151117_EGD-1208/scans/450-A...</td>\n      <td>450-ADC__10__6_mm__s__Jun_26_2019_14_35_34</td>\n      <td>adc</td>\n      <td>MR_20151117_EGD-1208</td>\n      <td>EGD-1208</td>\n      <td>False</td>\n      <td>data/egd/NIFTI/MR_97898/20180127/MR/1.2.826.0....</td>\n    </tr>\n  </tbody>\n</table>\n<p>2442 rows × 8 columns</p>\n</div>"
     },
     "execution_count": 2,
     "metadata": {},
     "output_type": "execute_result"
    }
   ],
   "source": [
    "dfi = pd.read_csv('FullyAnnotatedAndTrainTestSplitReady_egd.csv', index_col=0)\n",
    "dfi"
   ],
   "metadata": {
    "collapsed": false,
    "ExecuteTime": {
     "end_time": "2023-11-13T10:08:35.393903126Z",
     "start_time": "2023-11-13T10:08:35.346589136Z"
    }
   },
   "id": "742f3641cfcc57e4"
  },
  {
   "cell_type": "code",
   "execution_count": 3,
   "outputs": [],
   "source": [
    "# def findName(path):\n",
    "#     return path.split(os.sep)[5]"
   ],
   "metadata": {
    "collapsed": false,
    "ExecuteTime": {
     "end_time": "2023-11-13T10:08:35.403973086Z",
     "start_time": "2023-11-13T10:08:35.394212508Z"
    }
   },
   "id": "a7b20c569dbc779"
  },
  {
   "cell_type": "code",
   "execution_count": 4,
   "outputs": [],
   "source": [
    "# dfi['raw_name'] = dfi['path'].apply(findName)"
   ],
   "metadata": {
    "collapsed": false,
    "ExecuteTime": {
     "end_time": "2023-11-13T10:08:35.404163048Z",
     "start_time": "2023-11-13T10:08:35.398328316Z"
    }
   },
   "id": "3c87a4499db93878"
  },
  {
   "cell_type": "code",
   "execution_count": 5,
   "outputs": [],
   "source": [
    "df = dfi[['unknown' not in name.lower() for name in dfi['raw_name']]].copy()"
   ],
   "metadata": {
    "collapsed": false,
    "ExecuteTime": {
     "end_time": "2023-11-13T10:08:35.478155309Z",
     "start_time": "2023-11-13T10:08:35.432665644Z"
    }
   },
   "id": "646f269a7b58350a"
  },
  {
   "cell_type": "code",
   "execution_count": 6,
   "outputs": [
    {
     "data": {
      "text/plain": "array(['3-T1_3D', '8-T2_Ax', '3-3D_Ax_T1_FSPGR_HR_blanco', '650-ax_cube',\n       '450-ADC__10__6_mm__s__Nov_02_2018_20_57_56_CET', '651-cor_cube',\n       '951-ax_fspgr_gd', '8-Ax_T2_PROP_3mm', '6-Sag_Cube_FLAIR_FS_HS1_5',\n       '1-3_Plane_Localizer', '451-eADC_Nov_02_2018_20_57_56_CET',\n       '9-3D_Ax_T1_FSPGR_HR_na_gd', '950-cor_fspgr_gd',\n       '7-Ax_perfusie_EPI_GRE_EMC', '4-Ax_DWI_ALL_B1000_3mm',\n       '601_split_2-PD_Ax', '301-T1_Ax', '502-DWI_DERIVED_Ax',\n       '501-DWI_DWI_Ax', '401-FLAIR_Ax', '701-T1GD_3D', '703-T1GD_3D',\n       '707-T1GD_3D', '705-T1GD_3D', '2-T2_Ax', '4-FLAIR_Ax', '5-T1GD_3D',\n       '3-T1_Ax', '518-T1GD_3D', '403-DERIVED_Ax', '201-FLAIR_Ax',\n       '402-DWI_DWI_Ax', '301-T2_Ax', '501-T1_Ax', '2-T1_Ax',\n       '7-T1GD_Cor', '4-T2_Sag', '3-FLAIR_Ax', '5-DWI_DWI_Ax',\n       '6-T1GD_Ax', '5-T2_Sag', '552-Processed_Images', '6-PWI_DSC_Ax',\n       '851-Processed_Images', '450-DERIVED_Ax', '5-FLAIR_3D',\n       '8-T1GD_3D',\n       '2-LOCALIZER__zet_protocol_notes_aan_voor_instructies_',\n       '850-Processed_Images', '551-Processed_Images', '7-T2_Ax',\n       '4-DWI_DWI_Ax', '550-Processed_Images', '852-Processed_Images',\n       '4-T1GD_3D', '2-T2_3D', '400-DWI_DERIVED_Ax', '6-DWI_B0_Ax',\n       '10-sag_mpr_blanco', '8-t1_mprage_tra_iso_post',\n       '9-cor_mpr_blanco', '2-t2_tirm_tra_dark_fluid',\n       '6-t1_mprage_tra_iso_pre', '11-cor_mpr_na_gado',\n       '12-sag_mpr_na_gado', '8-T1GD_Ax', '10-T1GD_Cor',\n       '9-t1_se_sag_gado', '4-T1_Ax', '5-T2_Ax', '6-DWI_DWI_Ax',\n       '7-DERIVED_Ax', '8-MPR_cor_1mm_post', '4-t1_mprage_tra_iso_pre',\n       '7-MPR_cor_1mm_pre', '6-t1_mprage_tra_iso_post', '6-T1GD_Sag',\n       '2_split_2-PD_Ax', '5-T1GD_Ax', '3-T1_Sag', '350-Processed_Images',\n       '1-LOCALIZER', '352-Processed_Images',\n       '3-3D_Ax_T1_FSPGR_blanco_fast', '6-Ax_Perfusion_GE_EPI_LR',\n       '8-3D_Ax_T1_FSPGR_HR_na_gd', '5-Sag_CUBE_FLAIR__BOLUS',\n       '450-ADC__10__6_mm__s__Jun_11_2019_11_50_32',\n       '351-Processed_Images', '7-Ax_T2_PROP_3mm', '500_split_1-T1GD_3D',\n       '6-DWI_b0_Ax', '501_split_1-DWI_DERIVED_3D', '601-DWI_DWI_Ax',\n       '701_split_2-PD_Ax', '901-T1GD_Cor', '602-DWI_DERIVED_Ax',\n       '801-T1GD_Ax', '9-FLAIR_Cor', '11-T1GD_3D', '10-T2_Ax', '6-T2_Cor',\n       '8-DWI_DERIVED_Ax', '5-T1_Ax', '13-T1GD_3D', '7-DWI_DWI_Ax',\n       '12-T1GD_3D', '550-Ax_MPR_CUBE_T2_Flair',\n       '2-3D_ASL__non_contrast_', '8-Ax_FSPGR_3D__gd',\n       '850-Ax_MPR_fSPGR_gd', '4-Ax_DWI_EPI_FreqRL_3mm', '1-T2_Ax',\n       '3-DWI_DERIVED_Ax', '9-T1_Sag', '2-T1_Sag', '4-T1GD_Sag',\n       '5-DWI_DERIVED_Ax', '950-Processed_Images', '350-Cor_FSPGR_blanco',\n       '2-LOCALIZER', '3-Ax_FSPGR_3D_blanco', '351-Tra_FSPGR_blanco',\n       '7-Perfusion_GE_epi_gd', '5-sag__Cube_Flair', '550-tra_cube_flair',\n       '8-Ax_T2_PROPELLER___GD_5mm', '6-Ax_T2_FLAIR___Bolus',\n       '4-Ax_DWI_EPI_FreqRL_4mm', '551-Cor_Cube_Flair',\n       '450-ADC__10__6_mm__s__Aug_16_2019_10_48_50',\n       '951-Processed_Images', '9-Ax_FSPGR_3D__gd', '2-ASSET_calibration',\n       '401-Processed_Images', '4-FSPGR_3D___GD', '400-Processed_Images',\n       '3-FSPGR_3D', '300-Processed_Images', '301-Processed_Images',\n       '7-PWI_DSC_Ax', '450-DWI_DWI_Ax', '251-cor_fspgr',\n       '650-cor_fspgr_gd', '3-Cal_Head_24', '551-ax_cube', '6-T1GD_3D',\n       '452-DERIVED_Ax', '250-ax_fspgr', '651-ax_fspgr_gd',\n       '550-cor_cube', '451-DERIVED_Ax', '2-T1_3D',\n       '6-Sag_CUBE_FLAIR__BOLUS',\n       '550-ADC__10__6_mm__s__Jul_04_2019_09_51_14',\n       '7-Ax_Perfusion_GE_EPI_LR', '650-cor_cube',\n       '5-Ax_DWI_ALL_B1000_3mm', '4-3D_Ax_T1_FSPGR_blanco_fast',\n       '651-Ax__Cube_Flair', '450-ADC__10__6_mm__s__Jul_29_2019_13_14_31',\n       '5003-T1GD_3D', '5002-T1GD_3D', '5004-T1GD_3D', '602-T1GD_3D',\n       '601-T1GD_3D', '401-DWI_DWI_Ax', '501-T2_Ax', '603-T1GD_3D',\n       '103-Patient_Aligned_MPR_AWPLAN_SMARTPLAN_TYPE_BRAIN',\n       '7-Sag_CUBE_FLAIR__BOLUS', '551-eADC_Dec_14_2018_16_35_00_CET',\n       '6-3D_Ax_T1_FSPGR_blanco_fast', '9-Ax_T2_PROP_3mm',\n       '751-Cor_Cube_Flair', '10-3D_Ax_T1_FSPGR_HR_na_gd',\n       '750-tra_cube_flair',\n       '550-ADC__10__6_mm__s__Dec_14_2018_16_35_00_CET',\n       '1050-tra_fspgr_gd', '1051-cor_fspgr_gd',\n       '8-Ax_perfusie_EPI_GRE_EMC', '24-T1GD_Ax', '21-MR2-DWI_DWI_Ax',\n       '2-MR1-T1_Sag', '18-FLAIR_Ax', '9-DWI_DERIVED_Ax',\n       '16-MR1-DWI_DWI_Ax', '22-T1_Ax', '26-T2_Sag', '13-MR1-T2_Sag',\n       '17-T1GD_Ax', '14-MR2-T1_Sag', '14-MR1-T1GD_Cor',\n       '2-MR2_split_2-T2_Ax', '13-MR2-T1GD_Sag', '10-DWI_DERIVED_Ax',\n       '16-MR2-T1_Ax', '21-MR1_split_2-T2_Ax', '8-T1_Sag', '4-T1GD_Cor',\n       '11-T2_Ax', '6-T2_Ax', '7-FLAIR_Ax', '12-T1GD_Ax', '13-T1GD_Cor',\n       '8-DWI_DWI_Ax', '10-T1_Sag', '14-T2_Ax', '7-FLAIR_3D',\n       '6-FLAIR_3D', '9-T1GD_3D', '500-DWI_DERIVED_Ax', '7-DWI_B0_Ax',\n       '850-Cor_MPR_fSPGR_gd', '551-Ax_MPR_CUBE_T2_Flair',\n       '601-Reg___Ax_Perfusion_GE_EPI_LR', '851-Ax_MPR_fSPGR_gd',\n       '450-ADC__10__6_mm__s__Jun_04_2019_13_58_28',\n       '550-Cor_MPR_CUBE_T2_Flair', '401-T1_Ax', '501-T1GD_Ax',\n       '701-T1GD_Sag', '601-T1GD_Cor', '5-PWI_DSC_Ax',\n       '702-DWI_DERIVED_Ax', '701-DWI_DERIVED_Ax', '4-PWI_DERIVED_Ax',\n       '700-DWI_DERIVED_Ax', '14-T1GD_Ax', '9-T2_Ax', '6-T1_Ax',\n       '5-FLAIR_Ax', '10-T1GD_3D', '803-T1GD_3D', '504-DWI_DWI_Ax',\n       '201-T1_Ax', '801-T1GD_3D', '101-Survey', '802-T1GD_3D',\n       '505-DERIVED_Ax', '601-T2_Ax', '503-DWI_DWI_Ax', '701-T1GD_Ax',\n       '350-Cor_MPR_fSPGR', '451-FA_May_14_2019_19_06_50',\n       '752-Sag_MPR_fSPGR_gd', '550-Cor_Cube_Flair', '4-Ax_DTI_3mm',\n       '452-AvDC_May_14_2019_19_06_51', '6-Ax_T2_PROP_gd',\n       '352-sag_MPR_fSPGR', '751-tra_MPR_fSPGR_gd',\n       '7-3D_Ax_T1_FSPGR_HR_na_gd', '5-Sag_Cube_FLAIR_FS_HS1_5',\n       '750-Cor_MPR_fSPGR_gd', '351-Ax_MPR_fSPGR', '551-Ax__Cube_Flair',\n       '450-Trace_May_14_2019_19_06_50', '101-T1_3D',\n       '551-Ax_MPR_CUBE_T2_Flair_gd', '451-eADC_Jan_09_2019_11_27_21_CET',\n       '550-Cor_MPR_CUBE_T2_Flair_GD', '6-Ax_perfusie_EPI_GRE_EMC',\n       '450-ADC__10__6_mm__s__Jan_09_2019_11_27_21_CET', '702-DERIVED_Ax',\n       '650-Cor_Cube_Flair_gd', '651-Ax_CUBE_FLAIR_gd', '301-T1_3D',\n       '401-T1GD_3D', '201-T2_Ax', '6-T1_3D', '2-PWI_DSC_Ax',\n       '3-PWI_DSC_Ax', '13-T2_Ax', '15-DWI_DERIVED_Ax',\n       '802-DWI_DERIVED_Ax', '800-DWI_DERIVED_Ax', '4-PWI_DSC_Ax',\n       '801-DWI_DERIVED_Ax', '10-FLAIR_Cor', '2-AAHead_Scout_MPR_sag',\n       '9-DERIVED_Ax', '601-Ax_perfusie_EPI_GRE_EMC',\n       '450-ADC__10__6_mm__s__Aug_20_2019_11_09_07',\n       '451-eADC_Aug_20_2019_11_09_07', '551-Ax_Flair_GD',\n       '450-ADC__10__6_mm__s__Jun_20_2018_10_17_51', '550-Cor_Flair_GD',\n       '451-eADC_Jun_20_2018_10_17_51',\n       '1-LOCALIZER__zet_protocol_notes_aan_voor_instructies_', '3-T2_Ax',\n       '451-eADC_Nov_30_2018_20_37_39_CET',\n       '450-ADC__10__6_mm__s__Nov_30_2018_20_37_39_CET',\n       '600-DWI_DERIVED_Ax', '601-DWI_DERIVED_Ax', '2-PD_Ax',\n       '602-DWI_DWI_Ax', '750-Processed_Images',\n       '450-ADC__10__6_mm__s__Jul_24_2019_14_31_54', '5-Ax_T2_PROP_3mm',\n       '7-Sag_Cube_FLAIR_FS_HS1_5', '451-eADC_Jul_24_2019_14_31_54',\n       '751-Processed_Images', '201_split_2-PD_Ax', '601-T1GD_Ax',\n       '501_split_2-PD_Ax', '401-FLAIR_Cor', '1-T1_3D', '2-DWI_DWI_Ax',\n       '702-PWI_DERIVED_Ax', '701-PWI_DERIVED_Ax',\n       '700-Ax_perfusie_EPI_GRE_EMC', '651-Processed_Images',\n       '650-Processed_Images', '703-DERIVED_Ax', '7-T1GD_3D',\n       '2-FLAIR_Ax', '7-T2_Sag', '601_split_1-PD_Ax', '601-pd_t2_tse_tra',\n       '1_2_826_0_1_3680043_10_104_3991991637083301736652413865872583013-FLAIR_3D',\n       '502-DERIVED_Ax', '402-FLAIR_3D', '401-FLAIR_3D', '702-T1GD_3D',\n       '1-FLAIR_Ax', '9-DWI_DWI_Ax', '5-T1_3D', '7-T1_Ax',\n       '550-DERIVED_Ax', '9-T1GD_Ax', '8-T2_Sag', '102-SmartBrain',\n       '301-FLAIR_3D', '1002-T1GD_3D', '302-FLAIR_3D', '1003-T1GD_3D',\n       '701-FLAIR_3D', '702-FLAIR_3D', '1001-T1GD_3D', '603-T1_3D',\n       '601-T1_3D', '602-T1_3D', '703-FLAIR_Ax', '1004-T1GD_3D',\n       '901-T2_Ax', '300-T1GD_3D',\n       '3-LOCALIZER__zet_protocol_notes_aan_voor_instructies_',\n       '11-Tra_FSPGR_3D__gd', '1152-Sag_fspgr_gd',\n       '8-Ax_T2_FLAIR_4mm___bolus', '1150-cor_fspgr_gd',\n       '752-Processed_Images', '10-Ax_T2_PROPELLER___GD_4mm',\n       '1151-ax_fspgr_gd', '651-eADC_Apr_24_2019_14_11_16',\n       '650-ADC__10__6_mm__s__Apr_24_2019_14_11_16',\n       '7-Sag_3D_CUBE_FLAIR', '5-Tra_FSPGR_3D', '6-Ax_DWI_EPI_4mm',\n       '9-Perfusion_GE_EPI__Xcc_gd', '1051-Ax_MPR_fSPGR_gd',\n       '1050-Cor_MPR_fSPGR_gd', '650-Cor_MPR_CUBE_T2_Flair',\n       '8-PWI_DSC_Ax', '651-Ax_MPR_CUBE_T2_Flair', '10-FLAIR_Sag',\n       '11-T1GD_Ax', '7-FLAIR_Cor', '6-T2_Sag', '5-DERIVED_Ax',\n       '7-Ax_T2_PROP_3mm_gd', '6-Ax_Perfusion_GE_EPI__7_5ccgadovist',\n       '350-ADC__10__6_mm__s__Apr_15_2019_14_30_47', '8-Ax_FSPGR_3D_gd',\n       '4-Ax_T1_SE', '5-Sag_CUBE_flair_7_5cc_gadovist', '3-Ax_DWI',\n       '351-eADC_Apr_15_2019_14_30_48', '3-T1GD_Cor', '1_split_2-T2_Ax',\n       '7-T1GD_Sag', '603-T1GD_Cor', '605-T1GD_Sag', '650-Cor_Cube_Flair',\n       '450-ADC__10__6_mm__s__Oct_12_2018_17_58_40',\n       '451-eADC_Oct_12_2018_17_58_40', '9-3D_Ax_T1_FSPGR_HR_gd',\n       '951-tra_fspgr_gd', '304-DWI_DWI_Ax', '502-FLAIR_3D',\n       '501-FLAIR_3D', '701-T2_Ax', '303-DWI_DWI_Ax', '302-DERIVED_Ax',\n       '900_split_1-DWI_DERIVED_Ax', '601_split_1-T1GD_3D',\n       '600_split_1-DWI_DERIVED_3D', '901_split_1-T1GD_3D', '7-DWI_b0_Ax',\n       '350-cor_fspgr', '1050-cor_fspgr_gd', '452-cor_cube',\n       '650-cor_swan', '850-DERIVED_Ax', '851-DERIVED_Ax', '450-cor_cube',\n       '451-ax_cube', '4-FLAIR_3D', '352-ax_fspgr', '1052-T1GD_3D',\n       '651-ax__swan', '701-Reg___Ax_Perfusion_GE_EPI_LR',\n       '550-ADC__10__6_mm__s__Aug_02_2019_08_48_57', '603-DERIVED_Ax',\n       '606-DERIVED_Ax', '605-DERIVED_Ax', '602-DERIVED_Ax',\n       '604-DERIVED_Ax', '851-Cor_MPR_fSPGR_gd', '601-PWI_DSC_Ax',\n       '450-ADC__10__6_mm__s__Mar_07_2019_16_22_39_CET',\n       '451-eADC_Mar_07_2019_16_22_39_CET', '6-DWI_DERIVED_Ax',\n       '4-T1_Sag', '9-T1GD_Cor', '300-FAT__Sag_IDEAL_T2_cwk',\n       '5-Sag_T1_FLAIR_T6_S2', '6-Sag_T1_FLAIR_Gd_cwk_twk',\n       '9-Ax_T1_FSE_GD', '301-InPhase__Sag_IDEAL_T2_cwk', '4-LOC_Twk_Lwk',\n       '8-Ax_T1_FSE_GD', '1-LOC_Cwk_Twk', '2-Sag_T1_FLAIR_CWK_T7',\n       '3-WATER__Sag_IDEAL_T2_cwk', '7-Sag_T1_FLAIR_Gd_twk_lwk',\n       '302-OutPhase__Sag_IDEAL_T2_cwk', '10-T1_Cor', '6-T1_Sag',\n       '11-T1_Sag', '6-Ax_DWI_ALL_B1000_3mm', '1050-Processed_Images',\n       '651-eADC_May_04_2019_14_19_58',\n       '650-ADC__10__6_mm__s__May_04_2019_14_19_58',\n       '2-3_Plane_Localizer', '4-3D_Ax_T1_FSPGR_HR_blanco',\n       '1051-Processed_Images', '602-PWI_DERIVED_Ax',\n       '601-PWI_DERIVED_Ax', '12_split_2-T1GD_3D', '10_split_2-T1GD_3D',\n       '4-T2_Ax', '11_split_2-T1GD_3D', '2-FLAIR_Cor', '1-T2_Cor',\n       '9_split_2-T1GD_3D', '9-_MPR_Range_', '10-_MPR_Range_1__',\n       '7-T1_3D', '3-DERIVED_Ax', '1-t2_haste_localizer',\n       '7-t1_mprage_tra_iso_post', '9-mpr_1mm_cor_pre', '40005-FLAIR_3D',\n       '851_split_1-DWI_DERIVED_3D', '451-DWI_DERIVED_Ax', '40007-T2_Ax',\n       '40003-T1_3D', '40008-T1GD_3D', '850_split_1-T1GD_3D',\n       '450-DWI_DERIVED_Ax', '4-T1GD_Ax', '5-T1GD_Cor', '10-T1GD_Sag',\n       '7-DWI_DERIVED_Ax', '401-Gd_T1_3D_TFE_TRA', '201-T1W_SE',\n       '402-Gd_T1_3D_TFE_COR', '402_split_2-T1GD_3D',\n       '301_split_1-T1GD_Ax', '301-Gd_T1W_SE', '403-Gd_T1_3D_TFE_SAG',\n       '403_split_2-T1GD_3D', '3-DWI_DWI_Ax', '301-DWI_DERIVED_Ax',\n       '300-DWI_DERIVED_Ax', '4-T1_3D', '451-eADC_Jul_03_2019_09_04_53',\n       '450-ADC__10__6_mm__s__Jul_03_2019_09_04_53', '7-T1GD_Ax',\n       '10-T2_Sag', '8-T1GD_Cor', '5-DWI_B0_Ax', '310-DWI_DWI_Ax',\n       '350-DWI_DERIVED_Ax', '8-AX_MPRAGE_POST', '2-SAG_T1', '4-ax_flair',\n       '7-COR_T1_PRE', '6-AXIAL_DIFFUSION_ADC',\n       '5-AXIAL_DIFFUSION_TRACEW', '9-COR_T1_POST', '1-T1_Sag',\n       '6-T1_Cor', '2-DWI_DERIVED_Ax', '7-T1_Sag', '553-Processed_Images',\n       '450-ADC__10__6_mm__s__Sep_25_2019_10_02_24', '3-Ax_T1_SE',\n       '853-Processed_Images', '4-Ax_DWI',\n       '451-eADC_Sep_25_2019_10_02_24', '852-Ax_recon_Gd',\n       '450-ADC__10__6_mm__s__May_03_2019_17_03_00',\n       '451-eADC_May_03_2019_17_03_00', '705-T1GD_Sag', '707-T1GD_Cor',\n       '551-eADC_Oct_31_2018_16_27_02_CET', '653-cor_fspgr_gd',\n       '550-ADC__10__6_mm__s__Oct_31_2018_16_27_02_CET',\n       '652-Ax_CUBE_FLAIR_gd', '5-Ax_DWI', '7-Ax_Perfusion_GE_EPI_gd',\n       '702-nrelCBVGVRegAx_Perfusion_GE_EPI_gd', '6-Sag_CUBE_FLAIR_GD',\n       '9-Ax_FSPGR_3D_gd', '8-Ax_T2_PROPELLER', '3-Ax_FSPGR_3D',\n       '654-ax_fspgr_gd', '601_split_2-T1GD_3D', '601-Gd_T1_3D_TFE_TRA',\n       '501-T1W_SE', '301-T2W_TSE', '402-sDWI_b1000',\n       '402_split_2-DWI_DWI_Ax', '603-Gd_T1_3D_TFE_SAG',\n       '403_split_2-DERIVED_Ax', '403-dDWI_ADC_b0_1000',\n       '602-Gd_T1_3D_TFE_COR', '201-T2W_FLAIR_longTR', '3-T1GD_3D',\n       '8-T1_Cor', '3-FLAIR_3D',\n       '350-ADC__10__6_mm__s__Apr_03_2019_16_10_13',\n       '351-eADC_Apr_03_2019_16_10_13', '504-FLAIR_3D', '402-DERIVED_Ax',\n       '451-eADC_Apr_10_2019_08_37_06',\n       '450-ADC__10__6_mm__s__Apr_10_2019_08_37_06',\n       '950-Cor_MPR_fSPGR_gd', '952-Sag_MPR_fSPGR_gd',\n       '451-eADC_Sep_25_2019_08_52_11',\n       '450-ADC__10__6_mm__s__Sep_25_2019_08_52_11',\n       '951-Ax_MPR_fSPGR_gd', '451-eADC_Jul_24_2019_08_51_47',\n       '450-ADC__10__6_mm__s__Jul_24_2019_08_51_47', '551-flair_tra_gd',\n       '851-tra_fspgr_gd', '550-flair_cor_gd',\n       '451-eADC_Feb_07_2019_13_27_30_CET',\n       '450-ADC__10__6_mm__s__Feb_07_2019_13_27_29_CET',\n       '850-cor_fspgr_gd', '6-Sag_3D_CUBE_FLAIR', '4-Tra_FSPGR_3D',\n       '10-Tra_FSPGR_3D__gd', '1052-fspgr_gd_sag', '1051-FSPGR_GD_tra',\n       '9-Ax_T2_PROPELLER___GD_4mm', '551-eADC_Feb_05_2019_14_09_24_CET',\n       '8-Perfusion_GE_EPI__Xcc_gd', '1050-FSPGR_GD_cor',\n       '550-ADC__10__6_mm__s__Feb_05_2019_14_09_24_CET',\n       '5-Ax_DWI_EPI_4mm', '7-Ax_T2_FLAIR_4mm___bolus',\n       '802-nrelCBVGVRegPerfusion_GE_EPI__Xcc_gd', '1-T1GD_3D',\n       '18-MR1-DERIVED_Ax', '24-T1GD_3D', '19-MR2-DERIVED_Ax',\n       '22-T1GD_3D', '15-MR1-DERIVED_Ax', '4-AAHead_Scout_MPR_tra',\n       '6-DERIVED_Ax', '23-T1GD_3D', '19-MR1-DERIVED_Ax',\n       '18-MR2-DERIVED_Ax', '12-PWI_DSC_Ax', '8-T1_3D', '21-FLAIR_Ax',\n       '13-PWI_DSC_Ax', '20-T2_Ax', '17-MR2-DERIVED_Ax', '16-DERIVED_Ax',\n       '9-T1_3D', '15-MR2-DERIVED_Ax', '14-MR2-DERIVED_Ax',\n       '17-MR1-DERIVED_Ax', '3-AAHead_Scout_MPR_cor', '14-MR1-DERIVED_Ax',\n       '403-T1_Sag', '1001-FLAIR_Sag', '301-FLAIR_Ax', '404-T1_Cor',\n       '801-T2_Sag', '601-PD_Ax', '201-T1_3D', '751-T1GD_Cor',\n       '750-T1GD_Ax', '451-FLAIR_Cor', '450-FLAIR_Ax', '4-FLAIR_Sag',\n       '804-Vs3D_PCA_SINUS_SENSE', '803-Vs3D_PCA_SINUS_SENSE',\n       '403-DWI_DERIVED_Ax', '551-eADC_Sep_26_2019_09_29_49',\n       '550-ADC__10__6_mm__s__Sep_26_2019_09_29_49',\n       '350-ADC__10__6_mm__s__Jun_19_2019_12_37_25',\n       '351-eADC_Jun_19_2019_12_37_25', '901-DWI_DERIVED_Ax',\n       '900-DWI_DERIVED_Ax', '6-Perfusion_GE_epi_gd',\n       '350-ADC__10__6_mm__s__Jul_18_2019_08_32_07',\n       '3-Ax_DWI_EPI_FreqRL_4mm', '451-Cor_Cube_Flair',\n       '2-Ax_FSPGR_3D_blanco', '7-Ax_T2_PROPELLER___GD_5mm',\n       '4-sag__Cube_Flair', '450-Ax__Cube_Flair', '5-Ax_T2_FLAIR___Bolus',\n       '11-DWI_DERIVED_Ax', '6-FLAIR_Cor', '12-T2_Ax', '14-T1GD_3D',\n       '2-T1GD_3D', '451-eADC_Oct_31_2018_17_15_46_CET',\n       '951-cor_fspgr_gd', '950-ax_fspgr_gd', '651-ax_flair',\n       '450-ADC__10__6_mm__s__Oct_31_2018_17_15_46_CET', '650-cor_flair',\n       '450-Processed_Images', '3-3D_Ax_T1_FSPGR_HR_na_gd',\n       '451-Processed_Images', '4-Sag_CUBE_FLAIR__PH',\n       '451-eADC_Mar_23_2019_16_11_25_CET', '952-Processed_Images',\n       '450-ADC__10__6_mm__s__Mar_23_2019_16_11_25_CET',\n       '451-eADC_Feb_27_2019_14_26_52_CET',\n       '450-ADC__10__6_mm__s__Feb_27_2019_14_26_52_CET', '501-T1GD_3D',\n       '4_split_2-T1GD_3D', '7_split_2-T1GD_3D', '6_split_2-T1GD_3D',\n       '3_split_2-T1GD_3D', '650-DWI_DERIVED_Ax', '651-PWI_DERIVED_Ax',\n       '4-MR2-PWI_DSC_Ax', '302-DWI_DERIVED_Ax', '3-MR1-DWI_DWI_Ax',\n       '3-MR2-T1_3D', '4-MR1-T2_Ax', '401-T2_Ax', '501-FLAIR_Cor',\n       '451-eADC_Sep_11_2019_09_01_29',\n       '450-ADC__10__6_mm__s__Sep_11_2019_09_01_28',\n       '852-Sag_MPR_fSPGR_gd', '550-Cor_Cube_Flair_gd',\n       '551-Ax_CUBE_FLAIR_gd', '10_split_1-T1GD_3D', '9_split_1-T1GD_3D',\n       '11_split_2-PD_Ax', '5-T1_Sag', '13-DWI_DERIVED_Ax',\n       '7-Perfusion_GE_epi__7_5cc_gd', '551-eADC_May_22_2019_08_45_39',\n       '550-ADC__10__6_mm__s__May_22_2019_08_45_38', '5-Ax_DWI_EPI_3mm',\n       '4-Ax_FSPGR_3D_blanco', '3-3D_ASL_extra_op_3T',\n       '450-ADC__10__6_mm__s__Sep_02_2019_15_21_33', '8-T1GD_Sag',\n       '8-FLAIR_Cor', '100_split_1-T1GD_3D', '100-sag_2mm_gado',\n       '101_split_1-T1GD_3D', '101-cor_2mm_mpr_gado', '354-sag_fspgr',\n       '552-sag_flair', '550-cor_flair', '1053-ax_fspgr_gd',\n       '1051-Sag_fspgr_gd', '4-Ax_DWI_EPI_4mm', '1052-cor_fspgr_gd',\n       '351-tra_fspgr', '6-Ax_T2_FLAIR_4mm___bolus',\n       '451-eADC_Sep_18_2019_10_39_45', '7-Perfusion_GE_epi__10cc_gd',\n       '551-tra_flair', '450-ADC__10__6_mm__s__Sep_18_2019_10_39_45',\n       '10-FSPGR_3D___GD',\n       '450-ADC__10__6_mm__s__Jan_28_2019_14_09_24_CET',\n       '451-eADC_Jan_28_2019_14_09_24_CET', '552-Ax_CUBE_FLAIR_gd',\n       '851-ax_fspgr_gd', '4-Ax_FSPGR_3D',\n       '351-eADC_Jun_14_2019_15_05_32',\n       '350-ADC__10__6_mm__s__Jun_14_2019_15_05_32', '8-DERIVED_Ax',\n       '10-T1GD_Ax', '3_split_2-PD_Ax', '1-T1GD_Cor', '12-T1_3D',\n       '11-T1GD_Sag', '450-ADC__10__6_mm__s__Jan_16_2019_10_02_22_CET',\n       '6-Ax_Perfusion_GE_EPI__15cc_prohance', '8-Ax_FSPGR_3D_PH',\n       '5-Sag_CUBE_flair_15cc_prohance',\n       '451-eADC_Jan_16_2019_10_02_22_CET', '751-PWI_DERIVED_Ax',\n       '750-PWI_DERIVED_Ax', '9-T2_Sag', '14-T1GD_Cor',\n       '450-ADC__10__6_mm__s__Apr_10_2019_08_58_59',\n       '602-nrelCBVGVRegAx_perfusie_EPI_GRE_EMC',\n       '451-eADC_Jun_22_2019_13_26_22', '651-ax_cube',\n       '450-ADC__10__6_mm__s__Jun_22_2019_13_26_22',\n       '100-_4822_10_1__236___4822_3_1__236_',\n       '451-eADC_Sep_18_2019_09_01_59', '853-Sag_MPR_fSPGR_gd',\n       '550-Ax_CUBE_FLAIR_gd',\n       '450-ADC__10__6_mm__s__Sep_18_2019_09_01_58',\n       '852-Cor_MPR_fSPGR_gd',\n       '450-ADC__10__6_mm__s__Mar_01_2019_10_19_25_CET',\n       '451-eADC_Mar_01_2019_10_19_26_CET',\n       '451-eADC_May_07_2019_14_56_08',\n       '100-_2664_9_1__236___2664_3_1__236_', '3-Ax_T1_FSPGR_blanco',\n       '450-ADC__10__6_mm__s__May_07_2019_14_56_07', '8-DWI_B0_Ax',\n       '901-T1GD_Ax', '903-T1GD_Cor', '904-T1GD_Sag',\n       '450-ADC__10__6_mm__s__Mar_05_2019_09_16_20_CET',\n       '450-ADC__10__6_mm__s__Jun_12_2019_09_17_45',\n       '451-eADC_Jun_12_2019_09_17_45', '451-eADC_Apr_25_2019_14_51_28',\n       '450-ADC__10__6_mm__s__Apr_25_2019_14_51_28', '501-MR2-T1_Cor',\n       '401-MR1-T2_Ax', '301-MR2-T1_Ax', '201-MR1-FLAIR_Ax',\n       '203-DERIVED_Ax', '201-DWI_DWI_Ax', '102-MPR___SmartBrain',\n       '202-DWI_DWI_Ax', '601-FLAIR_Ax', '12-FLAIR_Cor',\n       '702-s3di_mc_HR_cirkel_van_willes', '703-mip', '201-T1_Sag',\n       '201-T1GD_3D', '11_split_1-T1GD_3D', '3-PD_Ax', '9-Ax_FSPGR_3D_PH',\n       '550-ADC__10__6_mm__s__Jan_23_2019_09_18_41_CET',\n       '551-eADC_Jan_23_2019_09_18_41_CET',\n       '7-Ax_Perfusion_GE_EPI__15cc_prohance',\n       '6-Sag_CUBE_flair_15cc_prohance', '5_split_2-T1_3D',\n       '600-Ax_Perfusion_GE_EPI__7_5ccgadovist',\n       '450-ADC__10__6_mm__s__Sep_19_2019_09_02_31',\n       '451-eADC_Sep_19_2019_09_02_32', '401-DWI_DERIVED_Ax',\n       '550-ADC__10__6_mm__s__Oct_13_2018_20_02_00',\n       '551-eADC_Oct_13_2018_20_02_00', '1-3Plane_Loc_SSFSE',\n       '6-LOCALIZER', '751-Ax__Cube_Flair',\n       '450-ADC__10__6_mm__s__Apr_11_2019_08_28_41', '750-Cor_Cube_Flair',\n       '451-eADC_Dec_05_2018_17_40_17_CET',\n       '450-ADC__10__6_mm__s__Dec_05_2018_17_40_16_CET',\n       '551-ax_MPR_Cube_flair_gd',\n       '602-nrelCBVGVRegAx_Perfusion_GE_EPI_LR',\n       '600-Ax_Perfusion_GE_EPI_LR', '550-Cor_MPR_Cube_flair_gd',\n       '850-Sag_MPR_fSPGR_gd',\n       '450-ADC__10__6_mm__s__Sep_18_2019_13_12_13',\n       '603-Reg___Ax_Perfusion_GE_EPI_LR', '852-Ax_MPR_fSPGR_gd',\n       '13-Ax_Cube_T2_cwk', '14-Ax_T1_FSE_C5_6', '10-Sag_T1_FLAIR_cwk_gd',\n       '7-Sag_T1_FLAIR__twk_lwk', '9-Sag_T1_FLAIR_Gd_twk_lwk',\n       '16-Ax_T1_FSE_L4_gd', '1-LOC_cwk', '5-LOC_Twk_Lwk',\n       '8-Sag_T2_FRFSE_twk_lwk', '4-Sag_T2_FRFSE_cwk', '3-Sag_T1_FLAIR',\n       '11-Sag_T1_FLAIR_Gd_twk_lwk', '900-T1GD_Cor', '600-FLAIR_Cor',\n       '3_split_1-PD_Ax', '6-T1GD_Cor',\n       '3-resolve_4scan_trace_tra_TRACEW', '6-t1_se_cor_gado',\n       '5-t1_se_tra_gado_gado', '4-resolve_4scan_trace_tra_ADC',\n       '4-T2_Cor', '101_split_2-T1GD_3D', '102_split_2-T1GD_3D',\n       '100_split_2-T1GD_3D', '750-Cor_Flair_GD', '751-Ax_Flair_GD',\n       '650-PWI_DERIVED_Ax', '450-ADC__10__6_mm__s__Apr_04_2019_13_20_21',\n       '950-FSPGR_GD_cor', '351-FSPGR__tra', '350-FSPGR_cor',\n       '451-eADC_Apr_04_2019_13_20_21', '951-FSPGR_GD_tra',\n       '7-Perfusion_GE_EPI__Xcc_gd_5mm', '6-Ax_T2_FLAIR_5mm___bolus',\n       '451-eADC_Jul_03_2019_11_04_02', '8-Tra_FSPGR_3D__gd',\n       '5-Sag_3D_CUBE_FLAIR', '3-Tra_FSPGR_3D', '4-Ax_DWI_EPI_5mm',\n       '450-ADC__10__6_mm__s__Jul_03_2019_11_04_02',\n       '701-Reg___Perfusion_GE_EPI__Xcc_gd_5mm', '701-pd_t2_tse_tra',\n       '701_split_1-PD_Ax', '8-FLAIR_Ax', '15-T1GD_3D', '8-T1_Ax',\n       '551-eADC_Jun_28_2019_09_44_24',\n       '550-ADC__10__6_mm__s__Jun_28_2019_09_44_23', '5-FSPGR_3D___ph',\n       '350-cor_flair', '550-cor_fspgr', '351-ax_flair',\n       '3-sag__Cube_Flair', '551-ax_fspgr', '6_split_1-PD_Ax',\n       '9-T1GD_Sag', '1-DWI_DWI_Ax',\n       '450-ADC__10__6_mm__s__May_27_2019_14_31_12', '6-Ax_T2_PROP_3mm',\n       '301-T2_Cor', '402-DWI_DERIVED_Ax',\n       '451-eADC_Jun_26_2019_14_35_34',\n       '450-ADC__10__6_mm__s__Jun_26_2019_14_35_34'], dtype=object)"
     },
     "execution_count": 6,
     "metadata": {},
     "output_type": "execute_result"
    }
   ],
   "source": [
    "df['raw_name'].unique()"
   ],
   "metadata": {
    "collapsed": false,
    "ExecuteTime": {
     "end_time": "2023-11-13T10:08:35.480371345Z",
     "start_time": "2023-11-13T10:08:35.432777515Z"
    }
   },
   "id": "1ff9226607e0bf86"
  },
  {
   "cell_type": "code",
   "execution_count": 7,
   "outputs": [],
   "source": [
    "def rename(origName):\n",
    "    on = origName.lower()\n",
    "    if 'local' in on:\n",
    "        return 'localizer'\n",
    "    if 'gd' in on:\n",
    "        if 't1' in on or 'fspgr' in on:\n",
    "            return 'T1c'\n",
    "    if 't1' in on or 'fspgr' in on:\n",
    "        return 'T1w'\n",
    "    if 'flair' in on:\n",
    "        return 'flair'\n",
    "    if 'dwi' in on:\n",
    "        return 'dwi'\n",
    "    if 't2' in on:\n",
    "        return 'T2w'\n",
    "    if 'adc' in on:\n",
    "        return 'adc'\n",
    "    if 'pwi' in on or 'perf' in on:\n",
    "        return 'pwi'\n",
    "    if 'pd' in on:\n",
    "        return 'pd'\n",
    "    if 'dti' in on:\n",
    "        return 'dti'\n",
    "    if 'survey' in on:\n",
    "        return 'survey'\n",
    "    if 'asl' in on:\n",
    "        return 'asl'\n",
    "    return 'other'"
   ],
   "metadata": {
    "collapsed": false,
    "ExecuteTime": {
     "end_time": "2023-11-13T10:08:35.518332615Z",
     "start_time": "2023-11-13T10:08:35.433023009Z"
    }
   },
   "id": "b385b772ce7e1c2a"
  },
  {
   "cell_type": "code",
   "execution_count": 8,
   "outputs": [],
   "source": [
    "df['name'] = df['raw_name'].apply(rename)"
   ],
   "metadata": {
    "collapsed": false,
    "ExecuteTime": {
     "end_time": "2023-11-13T10:08:35.518977622Z",
     "start_time": "2023-11-13T10:08:35.433117614Z"
    }
   },
   "id": "ead104c515ae53dd"
  },
  {
   "cell_type": "code",
   "execution_count": 9,
   "outputs": [
    {
     "data": {
      "text/plain": "name\nT1c          495\ndwi          372\nother        327\nT1w          314\nflair        304\nT2w          265\npwi          149\nadc          109\nlocalizer     83\npd            20\nasl            2\nsurvey         1\ndti            1\nName: count, dtype: int64"
     },
     "execution_count": 9,
     "metadata": {},
     "output_type": "execute_result"
    }
   ],
   "source": [
    "df['name'].value_counts()"
   ],
   "metadata": {
    "collapsed": false,
    "ExecuteTime": {
     "end_time": "2023-11-13T10:08:35.521518332Z",
     "start_time": "2023-11-13T10:08:35.439375577Z"
    }
   },
   "id": "629e9bcc7e5912d4"
  },
  {
   "cell_type": "code",
   "execution_count": 10,
   "outputs": [
    {
     "data": {
      "text/plain": "array(['650-ax_cube', '651-cor_cube', '403-DERIVED_Ax',\n       '552-Processed_Images', '851-Processed_Images', '450-DERIVED_Ax',\n       '850-Processed_Images', '551-Processed_Images',\n       '550-Processed_Images', '852-Processed_Images',\n       '10-sag_mpr_blanco', '9-cor_mpr_blanco', '11-cor_mpr_na_gado',\n       '12-sag_mpr_na_gado', '7-DERIVED_Ax', '8-MPR_cor_1mm_post',\n       '7-MPR_cor_1mm_pre', '350-Processed_Images',\n       '352-Processed_Images', '351-Processed_Images',\n       '950-Processed_Images', '951-Processed_Images',\n       '2-ASSET_calibration', '401-Processed_Images',\n       '400-Processed_Images', '300-Processed_Images',\n       '301-Processed_Images', '3-Cal_Head_24', '551-ax_cube',\n       '452-DERIVED_Ax', '550-cor_cube', '451-DERIVED_Ax', '650-cor_cube',\n       '103-Patient_Aligned_MPR_AWPLAN_SMARTPLAN_TYPE_BRAIN',\n       '505-DERIVED_Ax', '451-FA_May_14_2019_19_06_50',\n       '452-AvDC_May_14_2019_19_06_51', '450-Trace_May_14_2019_19_06_50',\n       '702-DERIVED_Ax', '2-AAHead_Scout_MPR_sag', '9-DERIVED_Ax',\n       '750-Processed_Images', '751-Processed_Images',\n       '651-Processed_Images', '650-Processed_Images', '703-DERIVED_Ax',\n       '502-DERIVED_Ax', '550-DERIVED_Ax', '102-SmartBrain',\n       '752-Processed_Images', '5-DERIVED_Ax', '302-DERIVED_Ax',\n       '452-cor_cube', '650-cor_swan', '850-DERIVED_Ax', '851-DERIVED_Ax',\n       '450-cor_cube', '451-ax_cube', '651-ax__swan', '603-DERIVED_Ax',\n       '606-DERIVED_Ax', '605-DERIVED_Ax', '602-DERIVED_Ax',\n       '604-DERIVED_Ax', '4-LOC_Twk_Lwk', '1-LOC_Cwk_Twk',\n       '1050-Processed_Images', '1051-Processed_Images', '9-_MPR_Range_',\n       '10-_MPR_Range_1__', '3-DERIVED_Ax', '9-mpr_1mm_cor_pre',\n       '8-AX_MPRAGE_POST', '5-AXIAL_DIFFUSION_TRACEW',\n       '553-Processed_Images', '853-Processed_Images', '852-Ax_recon_Gd',\n       '403_split_2-DERIVED_Ax', '402-DERIVED_Ax', '18-MR1-DERIVED_Ax',\n       '19-MR2-DERIVED_Ax', '15-MR1-DERIVED_Ax', '4-AAHead_Scout_MPR_tra',\n       '6-DERIVED_Ax', '19-MR1-DERIVED_Ax', '18-MR2-DERIVED_Ax',\n       '17-MR2-DERIVED_Ax', '16-DERIVED_Ax', '15-MR2-DERIVED_Ax',\n       '14-MR2-DERIVED_Ax', '17-MR1-DERIVED_Ax', '3-AAHead_Scout_MPR_cor',\n       '14-MR1-DERIVED_Ax', '804-Vs3D_PCA_SINUS_SENSE',\n       '803-Vs3D_PCA_SINUS_SENSE', '450-Processed_Images',\n       '451-Processed_Images', '952-Processed_Images', '100-sag_2mm_gado',\n       '101-cor_2mm_mpr_gado', '8-DERIVED_Ax', '651-ax_cube',\n       '100-_4822_10_1__236___4822_3_1__236_',\n       '100-_2664_9_1__236___2664_3_1__236_', '203-DERIVED_Ax',\n       '102-MPR___SmartBrain', '702-s3di_mc_HR_cirkel_van_willes',\n       '703-mip', '1-3Plane_Loc_SSFSE', '1-LOC_cwk', '5-LOC_Twk_Lwk',\n       '3-resolve_4scan_trace_tra_TRACEW'], dtype=object)"
     },
     "execution_count": 10,
     "metadata": {},
     "output_type": "execute_result"
    }
   ],
   "source": [
    "df[df['name']=='other']['raw_name'].unique()"
   ],
   "metadata": {
    "collapsed": false,
    "ExecuteTime": {
     "end_time": "2023-11-13T10:08:35.521923437Z",
     "start_time": "2023-11-13T10:08:35.483540849Z"
    }
   },
   "id": "107ca17536a44b96"
  },
  {
   "cell_type": "code",
   "execution_count": 12,
   "outputs": [],
   "source": [
    "def CreateIndivudalToUnifiedNameDocument(df, outfile):\n",
    "    with open(outfile, 'w') as f:\n",
    "        names = df['name'].unique()\n",
    "        for name in names:\n",
    "            nameMatching = df[df['name']==name]['raw_name'].unique()\n",
    "            nameMatching = pd.Series(nameMatching).to_string()\n",
    "            f.write(f'{name}:\\n{nameMatching}\\n\\n{\"-\"*25}\\n')"
   ],
   "metadata": {
    "collapsed": false,
    "ExecuteTime": {
     "end_time": "2023-11-13T10:09:16.216347243Z",
     "start_time": "2023-11-13T10:09:16.168530230Z"
    }
   },
   "id": "b1b66314562e35d9"
  },
  {
   "cell_type": "code",
   "execution_count": 13,
   "outputs": [],
   "source": [
    "outfile = 'EGD_nameMatching.txt'\n",
    "CreateIndivudalToUnifiedNameDocument(df, outfile)"
   ],
   "metadata": {
    "collapsed": false,
    "ExecuteTime": {
     "end_time": "2023-11-13T10:09:54.979619873Z",
     "start_time": "2023-11-13T10:09:54.938256311Z"
    }
   },
   "id": "6088ae99769f8b22"
  },
  {
   "cell_type": "code",
   "execution_count": 11,
   "outputs": [],
   "source": [
    "# df.to_csv('Annotated_CombinedDirCsv.csv')"
   ],
   "metadata": {
    "collapsed": false,
    "ExecuteTime": {
     "end_time": "2023-11-13T10:08:35.522137561Z",
     "start_time": "2023-11-13T10:08:35.483778836Z"
    }
   },
   "id": "3481804911d42a83"
  },
  {
   "cell_type": "code",
   "execution_count": 11,
   "outputs": [],
   "source": [],
   "metadata": {
    "collapsed": false,
    "ExecuteTime": {
     "end_time": "2023-11-13T10:08:35.522225660Z",
     "start_time": "2023-11-13T10:08:35.483869902Z"
    }
   },
   "id": "4e286cc1abd0a3f9"
  }
 ],
 "metadata": {
  "kernelspec": {
   "display_name": "Python 3",
   "language": "python",
   "name": "python3"
  },
  "language_info": {
   "codemirror_mode": {
    "name": "ipython",
    "version": 2
   },
   "file_extension": ".py",
   "mimetype": "text/x-python",
   "name": "python",
   "nbconvert_exporter": "python",
   "pygments_lexer": "ipython2",
   "version": "2.7.6"
  }
 },
 "nbformat": 4,
 "nbformat_minor": 5
}
