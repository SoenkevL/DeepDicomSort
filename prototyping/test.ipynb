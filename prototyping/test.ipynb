{
 "cells": [
  {
   "cell_type": "code",
   "execution_count": 15,
   "outputs": [],
   "source": [
    "c = '[1, 0.8, 0.6]'"
   ],
   "metadata": {
    "collapsed": false,
    "ExecuteTime": {
     "end_time": "2023-10-10T08:00:41.991359654Z",
     "start_time": "2023-10-10T08:00:41.949071111Z"
    }
   },
   "id": "4388dbcd54bc38f7"
  },
  {
   "cell_type": "code",
   "execution_count": 16,
   "outputs": [],
   "source": [
    "c = c.split(',')\n",
    "stringNums=[]\n",
    "for s in c:\n",
    "    s = s.replace('[','')\n",
    "    s = s.replace(']','')\n",
    "    s = s.replace(' ','')\n",
    "    s = float(s)\n",
    "    stringNums.append(s)"
   ],
   "metadata": {
    "collapsed": false,
    "ExecuteTime": {
     "end_time": "2023-10-10T08:00:42.243557900Z",
     "start_time": "2023-10-10T08:00:42.234996144Z"
    }
   },
   "id": "5c2f698fecca4012"
  },
  {
   "cell_type": "code",
   "execution_count": 17,
   "outputs": [
    {
     "data": {
      "text/plain": "[1.0, 0.8, 0.6]"
     },
     "execution_count": 17,
     "metadata": {},
     "output_type": "execute_result"
    }
   ],
   "source": [
    "stringNums"
   ],
   "metadata": {
    "collapsed": false,
    "ExecuteTime": {
     "end_time": "2023-10-10T08:00:42.594396315Z",
     "start_time": "2023-10-10T08:00:42.580411879Z"
    }
   },
   "id": "d3538f76ff27b19b"
  },
  {
   "cell_type": "code",
   "execution_count": null,
   "outputs": [],
   "source": [],
   "metadata": {
    "collapsed": false
   },
   "id": "ca05ac52779e795f"
  }
 ],
 "metadata": {
  "kernelspec": {
   "display_name": "Python 3",
   "language": "python",
   "name": "python3"
  },
  "language_info": {
   "codemirror_mode": {
    "name": "ipython",
    "version": 2
   },
   "file_extension": ".py",
   "mimetype": "text/x-python",
   "name": "python",
   "nbconvert_exporter": "python",
   "pygments_lexer": "ipython2",
   "version": "2.7.6"
  }
 },
 "nbformat": 4,
 "nbformat_minor": 5
}
