{
 "cells": [
  {
   "cell_type": "code",
   "execution_count": 1,
   "id": "initial_id",
   "metadata": {
    "collapsed": true,
    "ExecuteTime": {
     "end_time": "2023-11-21T07:26:02.891014750Z",
     "start_time": "2023-11-21T07:26:02.066440380Z"
    }
   },
   "outputs": [],
   "source": [
    "import pandas as pd\n",
    "from sklearn.model_selection import train_test_split"
   ]
  },
  {
   "cell_type": "code",
   "execution_count": 2,
   "outputs": [],
   "source": [
    "frameName = 'CleanedFrame.csv'\n",
    "outname = 'CleanedFrame_ACE_randomSubjectPicks.csv'"
   ],
   "metadata": {
    "collapsed": false,
    "ExecuteTime": {
     "end_time": "2023-11-21T07:26:02.900407836Z",
     "start_time": "2023-11-21T07:26:02.891407853Z"
    }
   },
   "id": "b703789c0b7c9afb"
  },
  {
   "cell_type": "code",
   "execution_count": 3,
   "outputs": [],
   "source": [
    "ImportFrame = pd.read_csv(frameName, index_col=0)"
   ],
   "metadata": {
    "collapsed": false,
    "ExecuteTime": {
     "end_time": "2023-11-21T07:26:03.092871754Z",
     "start_time": "2023-11-21T07:26:02.895957602Z"
    }
   },
   "id": "f8782862847f68fd"
  },
  {
   "cell_type": "code",
   "execution_count": 4,
   "outputs": [
    {
     "data": {
      "text/plain": "  project_sub   insert_user             ID_sub          insert_date_sub  \\\n0         ace  lgroenendijk  BMIAXNAT36_S01924  2023-09-26 10:29:16.696   \n1         ace  lgroenendijk  BMIAXNAT36_S01924  2023-09-26 10:29:16.696   \n2         ace  lgroenendijk  BMIAXNAT36_S01924  2023-09-26 10:29:16.696   \n3         ace  lgroenendijk  BMIAXNAT36_S01924  2023-09-26 10:29:16.696   \n4         ace  lgroenendijk  BMIAXNAT36_S01924  2023-09-26 10:29:16.696   \n\n  label_sub                           URI_sub project_exp             xsiType  \\\n0  ACE00192  /data/subjects/BMIAXNAT36_S01924         ace  xnat:mrSessionData   \n1  ACE00192  /data/subjects/BMIAXNAT36_S01924         ace  xnat:mrSessionData   \n2  ACE00192  /data/subjects/BMIAXNAT36_S01924         ace  xnat:mrSessionData   \n3  ACE00192  /data/subjects/BMIAXNAT36_S01924         ace  xnat:mrSessionData   \n4  ACE00192  /data/subjects/BMIAXNAT36_S01924         ace  xnat:mrSessionData   \n\n              ID_exp xnat_subjectassessordata_id  ... label_exp        date  \\\n0  BMIAXNAT36_E02475           BMIAXNAT36_E02475  ...  MR_91167  2011-09-07   \n1  BMIAXNAT36_E02475           BMIAXNAT36_E02475  ...  MR_91167  2011-09-07   \n2  BMIAXNAT36_E02475           BMIAXNAT36_E02475  ...  MR_91167  2011-09-07   \n3  BMIAXNAT36_E02475           BMIAXNAT36_E02475  ...  MR_91167  2011-09-07   \n4  BMIAXNAT36_E02475           BMIAXNAT36_E02475  ...  MR_91167  2011-09-07   \n\n                               URI_exp     xsiType_scan quality ID_scan  \\\n0  /data/experiments/BMIAXNAT36_E02475  xnat:mrScanData  usable       3   \n1  /data/experiments/BMIAXNAT36_E02475  xnat:mrScanData  usable       4   \n2  /data/experiments/BMIAXNAT36_E02475  xnat:mrScanData  usable       5   \n3  /data/experiments/BMIAXNAT36_E02475  xnat:mrScanData  usable       6   \n4  /data/experiments/BMIAXNAT36_E02475  xnat:mrScanData  usable       7   \n\n  xnat_imagescandata_id      series_description                    type  \\\n0                899941  t2_tirm_tra_dark-fluid  t2_tirm_tra_dark-fluid   \n1                899942               t1_se_tra               t1_se_tra   \n2                899943  t2_tirm_cor_dark-fluid  t2_tirm_cor_dark-fluid   \n3                899944              t2_tse_tra              t2_tse_tra   \n4                899945        t2_fl2d_tra_hemo        t2_fl2d_tra_hemo   \n\n                                      URI_scan  \n0  /data/experiments/BMIAXNAT36_E02475/scans/3  \n1  /data/experiments/BMIAXNAT36_E02475/scans/4  \n2  /data/experiments/BMIAXNAT36_E02475/scans/5  \n3  /data/experiments/BMIAXNAT36_E02475/scans/6  \n4  /data/experiments/BMIAXNAT36_E02475/scans/7  \n\n[5 rows x 21 columns]",
      "text/html": "<div>\n<style scoped>\n    .dataframe tbody tr th:only-of-type {\n        vertical-align: middle;\n    }\n\n    .dataframe tbody tr th {\n        vertical-align: top;\n    }\n\n    .dataframe thead th {\n        text-align: right;\n    }\n</style>\n<table border=\"1\" class=\"dataframe\">\n  <thead>\n    <tr style=\"text-align: right;\">\n      <th></th>\n      <th>project_sub</th>\n      <th>insert_user</th>\n      <th>ID_sub</th>\n      <th>insert_date_sub</th>\n      <th>label_sub</th>\n      <th>URI_sub</th>\n      <th>project_exp</th>\n      <th>xsiType</th>\n      <th>ID_exp</th>\n      <th>xnat_subjectassessordata_id</th>\n      <th>...</th>\n      <th>label_exp</th>\n      <th>date</th>\n      <th>URI_exp</th>\n      <th>xsiType_scan</th>\n      <th>quality</th>\n      <th>ID_scan</th>\n      <th>xnat_imagescandata_id</th>\n      <th>series_description</th>\n      <th>type</th>\n      <th>URI_scan</th>\n    </tr>\n  </thead>\n  <tbody>\n    <tr>\n      <th>0</th>\n      <td>ace</td>\n      <td>lgroenendijk</td>\n      <td>BMIAXNAT36_S01924</td>\n      <td>2023-09-26 10:29:16.696</td>\n      <td>ACE00192</td>\n      <td>/data/subjects/BMIAXNAT36_S01924</td>\n      <td>ace</td>\n      <td>xnat:mrSessionData</td>\n      <td>BMIAXNAT36_E02475</td>\n      <td>BMIAXNAT36_E02475</td>\n      <td>...</td>\n      <td>MR_91167</td>\n      <td>2011-09-07</td>\n      <td>/data/experiments/BMIAXNAT36_E02475</td>\n      <td>xnat:mrScanData</td>\n      <td>usable</td>\n      <td>3</td>\n      <td>899941</td>\n      <td>t2_tirm_tra_dark-fluid</td>\n      <td>t2_tirm_tra_dark-fluid</td>\n      <td>/data/experiments/BMIAXNAT36_E02475/scans/3</td>\n    </tr>\n    <tr>\n      <th>1</th>\n      <td>ace</td>\n      <td>lgroenendijk</td>\n      <td>BMIAXNAT36_S01924</td>\n      <td>2023-09-26 10:29:16.696</td>\n      <td>ACE00192</td>\n      <td>/data/subjects/BMIAXNAT36_S01924</td>\n      <td>ace</td>\n      <td>xnat:mrSessionData</td>\n      <td>BMIAXNAT36_E02475</td>\n      <td>BMIAXNAT36_E02475</td>\n      <td>...</td>\n      <td>MR_91167</td>\n      <td>2011-09-07</td>\n      <td>/data/experiments/BMIAXNAT36_E02475</td>\n      <td>xnat:mrScanData</td>\n      <td>usable</td>\n      <td>4</td>\n      <td>899942</td>\n      <td>t1_se_tra</td>\n      <td>t1_se_tra</td>\n      <td>/data/experiments/BMIAXNAT36_E02475/scans/4</td>\n    </tr>\n    <tr>\n      <th>2</th>\n      <td>ace</td>\n      <td>lgroenendijk</td>\n      <td>BMIAXNAT36_S01924</td>\n      <td>2023-09-26 10:29:16.696</td>\n      <td>ACE00192</td>\n      <td>/data/subjects/BMIAXNAT36_S01924</td>\n      <td>ace</td>\n      <td>xnat:mrSessionData</td>\n      <td>BMIAXNAT36_E02475</td>\n      <td>BMIAXNAT36_E02475</td>\n      <td>...</td>\n      <td>MR_91167</td>\n      <td>2011-09-07</td>\n      <td>/data/experiments/BMIAXNAT36_E02475</td>\n      <td>xnat:mrScanData</td>\n      <td>usable</td>\n      <td>5</td>\n      <td>899943</td>\n      <td>t2_tirm_cor_dark-fluid</td>\n      <td>t2_tirm_cor_dark-fluid</td>\n      <td>/data/experiments/BMIAXNAT36_E02475/scans/5</td>\n    </tr>\n    <tr>\n      <th>3</th>\n      <td>ace</td>\n      <td>lgroenendijk</td>\n      <td>BMIAXNAT36_S01924</td>\n      <td>2023-09-26 10:29:16.696</td>\n      <td>ACE00192</td>\n      <td>/data/subjects/BMIAXNAT36_S01924</td>\n      <td>ace</td>\n      <td>xnat:mrSessionData</td>\n      <td>BMIAXNAT36_E02475</td>\n      <td>BMIAXNAT36_E02475</td>\n      <td>...</td>\n      <td>MR_91167</td>\n      <td>2011-09-07</td>\n      <td>/data/experiments/BMIAXNAT36_E02475</td>\n      <td>xnat:mrScanData</td>\n      <td>usable</td>\n      <td>6</td>\n      <td>899944</td>\n      <td>t2_tse_tra</td>\n      <td>t2_tse_tra</td>\n      <td>/data/experiments/BMIAXNAT36_E02475/scans/6</td>\n    </tr>\n    <tr>\n      <th>4</th>\n      <td>ace</td>\n      <td>lgroenendijk</td>\n      <td>BMIAXNAT36_S01924</td>\n      <td>2023-09-26 10:29:16.696</td>\n      <td>ACE00192</td>\n      <td>/data/subjects/BMIAXNAT36_S01924</td>\n      <td>ace</td>\n      <td>xnat:mrSessionData</td>\n      <td>BMIAXNAT36_E02475</td>\n      <td>BMIAXNAT36_E02475</td>\n      <td>...</td>\n      <td>MR_91167</td>\n      <td>2011-09-07</td>\n      <td>/data/experiments/BMIAXNAT36_E02475</td>\n      <td>xnat:mrScanData</td>\n      <td>usable</td>\n      <td>7</td>\n      <td>899945</td>\n      <td>t2_fl2d_tra_hemo</td>\n      <td>t2_fl2d_tra_hemo</td>\n      <td>/data/experiments/BMIAXNAT36_E02475/scans/7</td>\n    </tr>\n  </tbody>\n</table>\n<p>5 rows × 21 columns</p>\n</div>"
     },
     "execution_count": 4,
     "metadata": {},
     "output_type": "execute_result"
    }
   ],
   "source": [
    "ImportFrame.head()"
   ],
   "metadata": {
    "collapsed": false,
    "ExecuteTime": {
     "end_time": "2023-11-21T07:26:03.142170285Z",
     "start_time": "2023-11-21T07:26:03.097316651Z"
    }
   },
   "id": "73428639cf39c486"
  },
  {
   "cell_type": "code",
   "execution_count": 5,
   "outputs": [],
   "source": [
    "subIDs = ImportFrame['ID_sub'].unique()"
   ],
   "metadata": {
    "collapsed": false,
    "ExecuteTime": {
     "end_time": "2023-11-21T07:26:57.869895419Z",
     "start_time": "2023-11-21T07:26:57.825387414Z"
    }
   },
   "id": "fbe119e9b3ead723"
  },
  {
   "cell_type": "code",
   "execution_count": 6,
   "outputs": [
    {
     "data": {
      "text/plain": "1861"
     },
     "execution_count": 6,
     "metadata": {},
     "output_type": "execute_result"
    }
   ],
   "source": [
    "len(subIDs)"
   ],
   "metadata": {
    "collapsed": false,
    "ExecuteTime": {
     "end_time": "2023-11-21T07:26:59.901456206Z",
     "start_time": "2023-11-21T07:26:59.892648619Z"
    }
   },
   "id": "f7806e213030f6ee"
  },
  {
   "cell_type": "code",
   "execution_count": 7,
   "outputs": [],
   "source": [
    "dates = ImportFrame['insert_date_sub'].unique()"
   ],
   "metadata": {
    "collapsed": false,
    "ExecuteTime": {
     "end_time": "2023-11-21T07:27:05.522034927Z",
     "start_time": "2023-11-21T07:27:05.481149083Z"
    }
   },
   "id": "7af9525ab1010353"
  },
  {
   "cell_type": "code",
   "execution_count": 8,
   "outputs": [
    {
     "data": {
      "text/plain": "array(['2023-09-26 10:29:16.696', '2023-09-26 10:34:54.347',\n       '2023-09-26 10:41:33.504', ..., '2023-04-18 14:30:55.89',\n       '2023-04-18 14:53:00.918', '2023-04-18 14:53:03.732'], dtype=object)"
     },
     "execution_count": 8,
     "metadata": {},
     "output_type": "execute_result"
    }
   ],
   "source": [
    "dates"
   ],
   "metadata": {
    "collapsed": false,
    "ExecuteTime": {
     "end_time": "2023-11-21T07:27:07.074319113Z",
     "start_time": "2023-11-21T07:27:07.065969322Z"
    }
   },
   "id": "18c299c44e4507a2"
  },
  {
   "cell_type": "code",
   "execution_count": 12,
   "outputs": [],
   "source": [
    "years = pd.Series([str(y).split('-')[0] for y in dates], name='years')"
   ],
   "metadata": {
    "collapsed": false,
    "ExecuteTime": {
     "end_time": "2023-11-21T07:29:56.649794650Z",
     "start_time": "2023-11-21T07:29:56.597992449Z"
    }
   },
   "id": "7d414160e7eb4f08"
  },
  {
   "cell_type": "code",
   "execution_count": 17,
   "outputs": [],
   "source": [
    "years = years[years!='nan']"
   ],
   "metadata": {
    "collapsed": false,
    "ExecuteTime": {
     "end_time": "2023-11-21T07:31:09.082096612Z",
     "start_time": "2023-11-21T07:31:09.000577826Z"
    }
   },
   "id": "3ff34620ca51f68e"
  },
  {
   "cell_type": "code",
   "execution_count": 18,
   "outputs": [
    {
     "data": {
      "text/plain": "years\n2022    1743\n2023     115\nName: count, dtype: int64"
     },
     "execution_count": 18,
     "metadata": {},
     "output_type": "execute_result"
    }
   ],
   "source": [
    "years.value_counts()"
   ],
   "metadata": {
    "collapsed": false,
    "ExecuteTime": {
     "end_time": "2023-11-21T07:31:09.247886837Z",
     "start_time": "2023-11-21T07:31:09.240413701Z"
    }
   },
   "id": "e1b410b260d87315"
  },
  {
   "cell_type": "code",
   "execution_count": 19,
   "outputs": [],
   "source": [
    "keep, discard = train_test_split(subIDs[:-3], train_size=200,stratify=years, shuffle=True, random_state=42)"
   ],
   "metadata": {
    "collapsed": false,
    "ExecuteTime": {
     "end_time": "2023-11-21T07:31:24.521806288Z",
     "start_time": "2023-11-21T07:31:24.505352956Z"
    }
   },
   "id": "7c91bf5d1aa84d3c"
  },
  {
   "cell_type": "code",
   "execution_count": 20,
   "outputs": [],
   "source": [
    "df = pd.DataFrame()\n",
    "for ID in keep:\n",
    "    temp = ImportFrame[ImportFrame['ID_sub']==ID]\n",
    "    df = pd.concat([df, temp], axis=0)\n",
    "    "
   ],
   "metadata": {
    "collapsed": false,
    "ExecuteTime": {
     "end_time": "2023-11-21T07:31:27.182671141Z",
     "start_time": "2023-11-21T07:31:26.610373425Z"
    }
   },
   "id": "5db62e8aa87b138"
  },
  {
   "cell_type": "code",
   "execution_count": 22,
   "outputs": [
    {
     "data": {
      "text/plain": "insert_date_sub\n2022-07-08 07:00:14.569    288\n2022-07-19 15:13:21.469    165\n2022-07-19 17:18:57.681    164\n2022-07-07 17:19:42.718    107\n2022-07-07 20:22:32.382     88\n                          ... \n2022-08-01 13:18:00.334      3\n2022-08-01 12:51:48.724      3\n2022-07-05 07:08:59.945      3\n2022-08-01 12:41:38.616      2\n2022-07-28 03:58:02.468      2\nName: count, Length: 200, dtype: int64"
     },
     "execution_count": 22,
     "metadata": {},
     "output_type": "execute_result"
    }
   ],
   "source": [
    "df['insert_date_sub'].value_counts()"
   ],
   "metadata": {
    "collapsed": false,
    "ExecuteTime": {
     "end_time": "2023-11-21T07:31:45.066512267Z",
     "start_time": "2023-11-21T07:31:45.017650692Z"
    }
   },
   "id": "4ca4e9cdf04f339f"
  },
  {
   "cell_type": "code",
   "execution_count": 23,
   "outputs": [],
   "source": [
    "ExportFrame = df"
   ],
   "metadata": {
    "collapsed": false,
    "ExecuteTime": {
     "end_time": "2023-11-21T07:32:45.333014315Z",
     "start_time": "2023-11-21T07:32:45.328044520Z"
    }
   },
   "id": "98c1c2fffa8395f8"
  },
  {
   "cell_type": "code",
   "execution_count": 24,
   "outputs": [],
   "source": [
    "ExportFrame.to_csv(outname, index=False)"
   ],
   "metadata": {
    "collapsed": false,
    "ExecuteTime": {
     "end_time": "2023-11-21T07:32:45.865171725Z",
     "start_time": "2023-11-21T07:32:45.825086755Z"
    }
   },
   "id": "edcae9323e497bbf"
  },
  {
   "cell_type": "code",
   "execution_count": null,
   "outputs": [],
   "source": [],
   "metadata": {
    "collapsed": false
   },
   "id": "2170f9e28c575b65"
  }
 ],
 "metadata": {
  "kernelspec": {
   "display_name": "Python 3",
   "language": "python",
   "name": "python3"
  },
  "language_info": {
   "codemirror_mode": {
    "name": "ipython",
    "version": 2
   },
   "file_extension": ".py",
   "mimetype": "text/x-python",
   "name": "python",
   "nbconvert_exporter": "python",
   "pygments_lexer": "ipython2",
   "version": "2.7.6"
  }
 },
 "nbformat": 4,
 "nbformat_minor": 5
}
