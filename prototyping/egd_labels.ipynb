{
 "cells": [
  {
   "cell_type": "code",
   "execution_count": 1,
   "id": "initial_id",
   "metadata": {
    "collapsed": true,
    "ExecuteTime": {
     "end_time": "2023-10-10T13:30:39.028897215Z",
     "start_time": "2023-10-10T13:30:39.014303850Z"
    }
   },
   "outputs": [],
   "source": [
    "import pandas as pd\n",
    "import os"
   ]
  },
  {
   "cell_type": "code",
   "execution_count": 2,
   "outputs": [
    {
     "data": {
      "text/plain": "                                        structured_path  \\\n0     data/egd/DICOM_STRUCTURED/MR_20020205/20020205...   \n1     data/egd/DICOM_STRUCTURED/MR_20020205/20020205...   \n2     data/egd/DICOM_STRUCTURED/MR_20020205/20020205...   \n3     data/egd/DICOM_STRUCTURED/MR_61373/20170605/MR...   \n4     data/egd/DICOM_STRUCTURED/MR_61373/20170605/MR...   \n...                                                 ...   \n4597  data/egd/DICOM_STRUCTURED/MR_97898/20180127/MR...   \n4598  data/egd/DICOM_STRUCTURED/MR_97898/20180127/MR...   \n4599  data/egd/DICOM_STRUCTURED/MR_97898/20180127/MR...   \n4600  data/egd/DICOM_STRUCTURED/MR_97898/20180127/MR...   \n4601  data/egd/DICOM_STRUCTURED/MR_97898/20180127/MR...   \n\n                                               filename  \\\n0     1.2.826.0.1.3680043.10.104.2857427232523006061...   \n1     1.2.826.0.1.3680043.10.104.2857427232523006061...   \n2     1.2.826.0.1.3680043.10.104.2857427232523006061...   \n3     1.2.826.0.1.3680043.10.104.1044043140781656433...   \n4     1.2.826.0.1.3680043.10.104.1044043140781656433...   \n...                                                 ...   \n4597  1.2.826.0.1.3680043.10.104.1081727604819600522...   \n4598  1.2.826.0.1.3680043.10.104.1081727604819600522...   \n4599  1.2.826.0.1.3680043.10.104.1081727604819600522...   \n4600  1.2.826.0.1.3680043.10.104.1081727604819600522...   \n4601  1.2.826.0.1.3680043.10.104.1081727604819600522...   \n\n                                                   path  \n0     data/egd/data/MR_20020205_EGD-0924/scans/3-T1_...  \n1     data/egd/data/MR_20020205_EGD-0924/scans/8-T2_...  \n2     data/egd/data/MR_20020205_EGD-0924/scans/1-unk...  \n3     data/egd/data/MR_20150326_EGD-1215/scans/650_s...  \n4     data/egd/data/MR_20150326_EGD-1215/scans/3-3D_...  \n...                                                 ...  \n4597  data/egd/data/MR_20151117_EGD-1208/scans/651_s...  \n4598  data/egd/data/MR_20151117_EGD-1208/scans/651-P...  \n4599  data/egd/data/MR_20151117_EGD-1208/scans/4-Ax_...  \n4600  data/egd/data/MR_20151117_EGD-1208/scans/451-e...  \n4601  data/egd/data/MR_20151117_EGD-1208/scans/450-A...  \n\n[4602 rows x 3 columns]",
      "text/html": "<div>\n<style scoped>\n    .dataframe tbody tr th:only-of-type {\n        vertical-align: middle;\n    }\n\n    .dataframe tbody tr th {\n        vertical-align: top;\n    }\n\n    .dataframe thead th {\n        text-align: right;\n    }\n</style>\n<table border=\"1\" class=\"dataframe\">\n  <thead>\n    <tr style=\"text-align: right;\">\n      <th></th>\n      <th>structured_path</th>\n      <th>filename</th>\n      <th>path</th>\n    </tr>\n  </thead>\n  <tbody>\n    <tr>\n      <th>0</th>\n      <td>data/egd/DICOM_STRUCTURED/MR_20020205/20020205...</td>\n      <td>1.2.826.0.1.3680043.10.104.2857427232523006061...</td>\n      <td>data/egd/data/MR_20020205_EGD-0924/scans/3-T1_...</td>\n    </tr>\n    <tr>\n      <th>1</th>\n      <td>data/egd/DICOM_STRUCTURED/MR_20020205/20020205...</td>\n      <td>1.2.826.0.1.3680043.10.104.2857427232523006061...</td>\n      <td>data/egd/data/MR_20020205_EGD-0924/scans/8-T2_...</td>\n    </tr>\n    <tr>\n      <th>2</th>\n      <td>data/egd/DICOM_STRUCTURED/MR_20020205/20020205...</td>\n      <td>1.2.826.0.1.3680043.10.104.2857427232523006061...</td>\n      <td>data/egd/data/MR_20020205_EGD-0924/scans/1-unk...</td>\n    </tr>\n    <tr>\n      <th>3</th>\n      <td>data/egd/DICOM_STRUCTURED/MR_61373/20170605/MR...</td>\n      <td>1.2.826.0.1.3680043.10.104.1044043140781656433...</td>\n      <td>data/egd/data/MR_20150326_EGD-1215/scans/650_s...</td>\n    </tr>\n    <tr>\n      <th>4</th>\n      <td>data/egd/DICOM_STRUCTURED/MR_61373/20170605/MR...</td>\n      <td>1.2.826.0.1.3680043.10.104.1044043140781656433...</td>\n      <td>data/egd/data/MR_20150326_EGD-1215/scans/3-3D_...</td>\n    </tr>\n    <tr>\n      <th>...</th>\n      <td>...</td>\n      <td>...</td>\n      <td>...</td>\n    </tr>\n    <tr>\n      <th>4597</th>\n      <td>data/egd/DICOM_STRUCTURED/MR_97898/20180127/MR...</td>\n      <td>1.2.826.0.1.3680043.10.104.1081727604819600522...</td>\n      <td>data/egd/data/MR_20151117_EGD-1208/scans/651_s...</td>\n    </tr>\n    <tr>\n      <th>4598</th>\n      <td>data/egd/DICOM_STRUCTURED/MR_97898/20180127/MR...</td>\n      <td>1.2.826.0.1.3680043.10.104.1081727604819600522...</td>\n      <td>data/egd/data/MR_20151117_EGD-1208/scans/651-P...</td>\n    </tr>\n    <tr>\n      <th>4599</th>\n      <td>data/egd/DICOM_STRUCTURED/MR_97898/20180127/MR...</td>\n      <td>1.2.826.0.1.3680043.10.104.1081727604819600522...</td>\n      <td>data/egd/data/MR_20151117_EGD-1208/scans/4-Ax_...</td>\n    </tr>\n    <tr>\n      <th>4600</th>\n      <td>data/egd/DICOM_STRUCTURED/MR_97898/20180127/MR...</td>\n      <td>1.2.826.0.1.3680043.10.104.1081727604819600522...</td>\n      <td>data/egd/data/MR_20151117_EGD-1208/scans/451-e...</td>\n    </tr>\n    <tr>\n      <th>4601</th>\n      <td>data/egd/DICOM_STRUCTURED/MR_97898/20180127/MR...</td>\n      <td>1.2.826.0.1.3680043.10.104.1081727604819600522...</td>\n      <td>data/egd/data/MR_20151117_EGD-1208/scans/450-A...</td>\n    </tr>\n  </tbody>\n</table>\n<p>4602 rows × 3 columns</p>\n</div>"
     },
     "execution_count": 2,
     "metadata": {},
     "output_type": "execute_result"
    }
   ],
   "source": [
    "dfi = pd.read_csv('CombinedDirCsv.csv', index_col=0)\n",
    "dfi"
   ],
   "metadata": {
    "collapsed": false,
    "ExecuteTime": {
     "end_time": "2023-10-10T13:30:39.036426292Z",
     "start_time": "2023-10-10T13:30:39.026177267Z"
    }
   },
   "id": "742f3641cfcc57e4"
  },
  {
   "cell_type": "code",
   "execution_count": 3,
   "outputs": [],
   "source": [
    "def findName(path):\n",
    "    return path.split(os.sep)[5]"
   ],
   "metadata": {
    "collapsed": false,
    "ExecuteTime": {
     "end_time": "2023-10-10T13:30:39.036767327Z",
     "start_time": "2023-10-10T13:30:39.027066292Z"
    }
   },
   "id": "a7b20c569dbc779"
  },
  {
   "cell_type": "code",
   "execution_count": 4,
   "outputs": [],
   "source": [
    "dfi['raw_name'] = dfi['path'].apply(findName)"
   ],
   "metadata": {
    "collapsed": false,
    "ExecuteTime": {
     "end_time": "2023-10-10T13:30:39.037004454Z",
     "start_time": "2023-10-10T13:30:39.027522924Z"
    }
   },
   "id": "3c87a4499db93878"
  },
  {
   "cell_type": "code",
   "execution_count": 5,
   "outputs": [],
   "source": [
    "df = dfi[['unknown' not in name.lower() for name in dfi['raw_name']]]"
   ],
   "metadata": {
    "collapsed": false,
    "ExecuteTime": {
     "end_time": "2023-10-10T13:30:39.037234698Z",
     "start_time": "2023-10-10T13:30:39.028674488Z"
    }
   },
   "id": "646f269a7b58350a"
  },
  {
   "cell_type": "code",
   "execution_count": 6,
   "outputs": [
    {
     "data": {
      "text/plain": "array(['3-T1_3D', '8-T2_Ax', '3-3D_Ax_T1_FSPGR_HR_blanco', ...,\n       '402-DWI_DERIVED_Ax', '451-eADC_Jun_26_2019_14_35_34',\n       '450-ADC__10__6_mm__s__Jun_26_2019_14_35_34'], dtype=object)"
     },
     "execution_count": 6,
     "metadata": {},
     "output_type": "execute_result"
    }
   ],
   "source": [
    "df['raw_name'].unique()"
   ],
   "metadata": {
    "collapsed": false,
    "ExecuteTime": {
     "end_time": "2023-10-10T13:30:39.095896557Z",
     "start_time": "2023-10-10T13:30:39.029414720Z"
    }
   },
   "id": "1ff9226607e0bf86"
  },
  {
   "cell_type": "code",
   "execution_count": 12,
   "outputs": [],
   "source": [
    "def rename(origName):\n",
    "    on = origName.lower()\n",
    "    if 'local' in on:\n",
    "        return 'localizer'\n",
    "    if 'gd' in on:\n",
    "        if 't1' in on or 'fspgr' in on:\n",
    "            return 'T1c'\n",
    "    if 't1' in on or 'fspgr' in on:\n",
    "        return 'T1w'\n",
    "    if 'flair' in on:\n",
    "        return 'flair'\n",
    "    if 'dwi' in on:\n",
    "        return 'dwi'\n",
    "    if 't2' in on:\n",
    "        return 'T2w'\n",
    "    if 'adc' in on:\n",
    "        return 'adc'\n",
    "    if 'pwi' in on or 'perf' in on:\n",
    "        return 'pwi'\n",
    "    if 'pd' in on:\n",
    "        return 'pd'\n",
    "    if 'dti' in on:\n",
    "        return 'dti'\n",
    "    if 'survey' in on:\n",
    "        return 'survey'\n",
    "    if 'asl' in on:\n",
    "        return 'asl'\n",
    "    return 'other'"
   ],
   "metadata": {
    "collapsed": false,
    "ExecuteTime": {
     "end_time": "2023-10-10T13:31:33.844539198Z",
     "start_time": "2023-10-10T13:31:33.802187415Z"
    }
   },
   "id": "b385b772ce7e1c2a"
  },
  {
   "cell_type": "code",
   "execution_count": 13,
   "outputs": [
    {
     "name": "stderr",
     "output_type": "stream",
     "text": [
      "/tmp/ipykernel_987655/1827683296.py:1: SettingWithCopyWarning: \n",
      "A value is trying to be set on a copy of a slice from a DataFrame.\n",
      "Try using .loc[row_indexer,col_indexer] = value instead\n",
      "\n",
      "See the caveats in the documentation: https://pandas.pydata.org/pandas-docs/stable/user_guide/indexing.html#returning-a-view-versus-a-copy\n",
      "  df['name'] = df['raw_name'].apply(rename)\n"
     ]
    }
   ],
   "source": [
    "df['name'] = df['raw_name'].apply(rename)"
   ],
   "metadata": {
    "collapsed": false,
    "ExecuteTime": {
     "end_time": "2023-10-10T13:31:34.141099215Z",
     "start_time": "2023-10-10T13:31:34.129806020Z"
    }
   },
   "id": "ead104c515ae53dd"
  },
  {
   "cell_type": "code",
   "execution_count": 14,
   "outputs": [
    {
     "data": {
      "text/plain": "name\nT1c          691\nflair        477\ndwi          406\nother        367\nT1w          363\nT2w          314\npwi          167\nadc          124\nlocalizer     98\npd            20\nasl            4\nsurvey         1\ndti            1\nName: count, dtype: int64"
     },
     "execution_count": 14,
     "metadata": {},
     "output_type": "execute_result"
    }
   ],
   "source": [
    "df['name'].value_counts()"
   ],
   "metadata": {
    "collapsed": false,
    "ExecuteTime": {
     "end_time": "2023-10-10T13:31:35.071606418Z",
     "start_time": "2023-10-10T13:31:34.993994619Z"
    }
   },
   "id": "629e9bcc7e5912d4"
  },
  {
   "cell_type": "code",
   "execution_count": 16,
   "outputs": [
    {
     "data": {
      "text/plain": "array(['950-cor_fspgr_gd', '951-ax_fspgr_gd', '9-3D_Ax_T1_FSPGR_HR_na_gd',\n       '701-T1GD_3D', '703-T1GD_3D', '707-T1GD_3D', '705-T1GD_3D',\n       '5-T1GD_3D', '518-T1GD_3D', '517_split_2-T1GD_3D', '7-T1GD_Cor',\n       '6-T1GD_Ax', '8-T1GD_3D', '850_split_1-T1GD_3D',\n       '851_split_1-T1GD_3D', '852_split_1-T1GD_3D', '4-T1GD_3D',\n       '401_split_1-T1GD_3D', '400_split_1-T1GD_3D',\n       '800_split_1-T1GD_3D', '801_split_1-T1GD_3D', '8-T1GD_Ax',\n       '10-T1GD_Cor', '6-T1GD_Sag', '5-T1GD_Ax',\n       '8-3D_Ax_T1_FSPGR_HR_na_gd', '500_split_1-T1GD_3D', '901-T1GD_Cor',\n       '801-T1GD_Ax', '11-T1GD_3D', '13-T1GD_3D', '12-T1GD_3D',\n       '850-Ax_MPR_fSPGR_gd', '851-Cor_MPR_fSPGR_gd', '8-Ax_FSPGR_3D__gd',\n       '4-T1GD_Sag', '950-Cor_MPR_fSPGR_gd', '951-Cor_MPR_fSPGR_gd',\n       '9-3D_Ax_T1_FSPGR_gd', '9-Ax_FSPGR_3D__gd', '101_split_1-T1GD_3D',\n       '100_split_1-T1GD_3D', '4-FSPGR_3D___GD', '650-cor_fspgr_gd',\n       '651-ax_fspgr_gd', '6-T1GD_3D', '650_split_2-T1GD_3D',\n       '651_split_2-T1GD_3D', '5003-T1GD_3D', '5002-T1GD_3D',\n       '5004-T1GD_3D', '602-T1GD_3D', '601-T1GD_3D', '603-T1GD_3D',\n       '1050-tra_fspgr_gd', '1051-cor_fspgr_gd',\n       '10-3D_Ax_T1_FSPGR_HR_na_gd', '24-T1GD_Ax', '17-T1GD_Ax',\n       '14-MR1-T1GD_Cor', '13-MR2-T1GD_Sag', '4-T1GD_Cor', '12-T1GD_Ax',\n       '13-T1GD_Cor', '6-T1GD_Cor', '7-T1GD_Ax', '8-T1GD_Sag',\n       '601_split_1-T1GD_3D', '600_split_1-T1GD_3D',\n       '900_split_1-T1GD_3D', '9-T1GD_3D', '901_split_1-T1GD_3D',\n       '850-Cor_MPR_fSPGR_gd', '851-Ax_MPR_fSPGR_gd', '501-T1GD_Ax',\n       '701-T1GD_Sag', '601-T1GD_Cor', '803-T1GD_Cor', '804-T1GD_Sag',\n       '901-T1GD_Ax', '14-T1GD_Ax', '10-T1GD_3D', '803-T1GD_3D',\n       '801-T1GD_3D', '802-T1GD_3D', '701-T1GD_Ax',\n       '751-tra_MPR_fSPGR_gd', '750-Cor_MPR_fSPGR_gd',\n       '7-3D_Ax_T1_FSPGR_HR_na_gd', '752-Sag_MPR_fSPGR_gd',\n       '950_split_1-T1GD_3D', '951_split_1-T1GD_3D', '401-T1GD_3D',\n       '850-cor_fspgr_gd', '851-ax_fspgr_gd', '802_split_1-T1GD_3D',\n       '601-T1GD_Ax', '951-Ax_MPR_fSPGR_gd', '900_split_2-T1GD_3D',\n       '901_split_2-T1GD_3D', '7-T1GD_3D', '801_split_2-T1GD_3D',\n       '800_split_2-T1GD_3D', '802_split_2-T1GD_3D',\n       '850_split_2-T1GD_3D', '851_split_2-T1GD_3D', '702-T1GD_3D',\n       '950_split_2-T1GD_3D', '951_split_2-T1GD_3D', '9-T1GD_Ax',\n       '700_split_1-T1GD_3D', '700_split_2-T1GD_3D',\n       '701_split_2-T1GD_3D', '501_split_1-T1GD_3D',\n       '551_split_1-T1GD_3D', '550_split_1-T1GD_3D', '1002-T1GD_3D',\n       '1003-T1GD_3D', '1001-T1GD_3D', '1004-T1GD_3D', '300-T1GD_3D',\n       '11-Tra_FSPGR_3D__gd', '1150-cor_fspgr_gd', '1151-ax_fspgr_gd',\n       '1152-Sag_fspgr_gd', '1051_split_1-T1GD_3D',\n       '1050_split_1-T1GD_3D', '1050-Cor_MPR_fSPGR_gd',\n       '1051-Ax_MPR_fSPGR_gd', '11-T1GD_Ax', '8-Ax_FSPGR_3D_gd',\n       '3-T1GD_Cor', '7-T1GD_Sag', '603-T1GD_Cor', '605-T1GD_Sag',\n       '951-tra_fspgr_gd', '9-3D_Ax_T1_FSPGR_HR_gd', '1050-cor_fspgr_gd',\n       '1052-T1GD_3D', '9-T1GD_Cor', '6-Sag_T1_FLAIR_Gd_cwk_twk',\n       '9-Ax_T1_FSE_GD', '8-Ax_T1_FSE_GD', '7-Sag_T1_FLAIR_Gd_twk_lwk',\n       '12_split_2-T1GD_3D', '11_split_2-T1GD_3D', '10_split_2-T1GD_3D',\n       '9_split_2-T1GD_3D', '40008-T1GD_3D', '4-T1GD_Ax', '5-T1GD_Cor',\n       '10-T1GD_Sag', '9-Ax_FSPGR_3D_gd', '951-cor_fspgr_gd',\n       '950-tra_fspgr_gd', '402-Gd_T1_3D_TFE_COR', '402_split_2-T1GD_3D',\n       '301_split_1-T1GD_Ax', '301-Gd_T1W_SE', '403-Gd_T1_3D_TFE_SAG',\n       '403_split_2-T1GD_3D', '401_split_2-T1GD_3D',\n       '401-Gd_T1_3D_TFE_TRA', '8-T1GD_Cor', '750_split_2-T1GD_3D',\n       '751_split_2-T1GD_3D', '705-T1GD_Sag', '707-T1GD_Cor',\n       '653-cor_fspgr_gd', '654-ax_fspgr_gd', '601_split_2-T1GD_3D',\n       '601-Gd_T1_3D_TFE_TRA', '603-Gd_T1_3D_TFE_SAG',\n       '602-Gd_T1_3D_TFE_COR', '350_split_1-T1GD_3D', '3-T1GD_3D',\n       '351_split_1-T1GD_3D', '952-Sag_MPR_fSPGR_gd', '851-tra_fspgr_gd',\n       '10-Tra_FSPGR_3D__gd', '1051-FSPGR_GD_tra', '1052-fspgr_gd_sag',\n       '1050-FSPGR_GD_cor', '1-T1GD_3D', '24-T1GD_3D', '22-T1GD_3D',\n       '23-T1GD_3D', '10-Ax_FSPGR_3D__gd', '750-T1GD_Ax', '751-T1GD_Cor',\n       '14-T1GD_3D', '2-T1GD_3D', '950-ax_fspgr_gd',\n       '3-3D_Ax_T1_FSPGR_HR_na_gd', '501-T1GD_3D', '4_split_2-T1GD_3D',\n       '3_split_2-T1GD_3D', '6_split_2-T1GD_3D', '7_split_2-T1GD_3D',\n       '852-Sag_MPR_fSPGR_gd', '10_split_1-T1GD_3D', '9_split_1-T1GD_3D',\n       '1052-cor_fspgr_gd', '1051-Sag_fspgr_gd', '10-FSPGR_3D___GD',\n       '1053-ax_fspgr_gd', '10-T1GD_Ax', '1-T1GD_Cor', '11-T1GD_Sag',\n       '902_split_2-T1GD_3D', '14-T1GD_Cor', '852-Cor_MPR_fSPGR_gd',\n       '853-Sag_MPR_fSPGR_gd', '1001_split_1-T1GD_3D',\n       '1000_split_1-T1GD_3D', '903-T1GD_Cor', '904-T1GD_Sag',\n       '1002_split_1-T1GD_3D', '201-T1GD_3D', '11_split_1-T1GD_3D',\n       '850-Sag_MPR_fSPGR_gd', '852-Ax_MPR_fSPGR_gd',\n       '10-Sag_T1_FLAIR_cwk_gd', '9-Sag_T1_FLAIR_Gd_twk_lwk',\n       '16-Ax_T1_FSE_L4_gd', '11-Sag_T1_FLAIR_Gd_twk_lwk', '900-T1GD_Cor',\n       '533_split_1-T1GD_3D', '534_split_2-T1GD_3D',\n       '101_split_2-T1GD_3D', '102_split_2-T1GD_3D',\n       '100_split_2-T1GD_3D', '951-FSPGR_GD_tra', '950-FSPGR_GD_cor',\n       '8-Tra_FSPGR_3D__gd', '1501_split_2-T1GD_3D', '15-T1GD_3D',\n       '1500_split_2-T1GD_3D', '1502_split_2-T1GD_3D', '9-T1GD_Sag',\n       '201_split_1-T1GD_3D', '200_split_1-T1GD_3D'], dtype=object)"
     },
     "execution_count": 16,
     "metadata": {},
     "output_type": "execute_result"
    }
   ],
   "source": [
    "df[df['name']=='T1c']['raw_name'].unique()"
   ],
   "metadata": {
    "collapsed": false,
    "ExecuteTime": {
     "end_time": "2023-10-10T14:11:55.764775920Z",
     "start_time": "2023-10-10T14:11:55.751553581Z"
    }
   },
   "id": "107ca17536a44b96"
  },
  {
   "cell_type": "code",
   "execution_count": 17,
   "outputs": [],
   "source": [
    "df.to_csv('Annotated_CombinedDirCsv.csv')"
   ],
   "metadata": {
    "collapsed": false,
    "ExecuteTime": {
     "end_time": "2023-10-10T14:13:23.033286120Z",
     "start_time": "2023-10-10T14:13:22.988183056Z"
    }
   },
   "id": "3481804911d42a83"
  },
  {
   "cell_type": "code",
   "execution_count": 11,
   "outputs": [],
   "source": [],
   "metadata": {
    "collapsed": false,
    "ExecuteTime": {
     "end_time": "2023-10-10T13:30:39.169961134Z",
     "start_time": "2023-10-10T13:30:39.112271940Z"
    }
   },
   "id": "4e286cc1abd0a3f9"
  }
 ],
 "metadata": {
  "kernelspec": {
   "display_name": "Python 3",
   "language": "python",
   "name": "python3"
  },
  "language_info": {
   "codemirror_mode": {
    "name": "ipython",
    "version": 2
   },
   "file_extension": ".py",
   "mimetype": "text/x-python",
   "name": "python",
   "nbconvert_exporter": "python",
   "pygments_lexer": "ipython2",
   "version": "2.7.6"
  }
 },
 "nbformat": 4,
 "nbformat_minor": 5
}
