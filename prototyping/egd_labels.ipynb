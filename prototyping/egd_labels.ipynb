{
 "cells": [
  {
   "cell_type": "code",
   "execution_count": 19,
   "id": "initial_id",
   "metadata": {
    "collapsed": true,
    "ExecuteTime": {
     "end_time": "2023-10-09T12:58:22.142850909Z",
     "start_time": "2023-10-09T12:58:22.091476170Z"
    }
   },
   "outputs": [],
   "source": [
    "import pandas as pd\n",
    "import os"
   ]
  },
  {
   "cell_type": "code",
   "execution_count": 20,
   "outputs": [
    {
     "data": {
      "text/plain": "                                        structured_path  \\\n0     data/parelsnoer/DICOM_STRUCTURED/PSI53336/2019...   \n1     data/parelsnoer/DICOM_STRUCTURED/PSI53336/2019...   \n2     data/parelsnoer/DICOM_STRUCTURED/PSI53336/2019...   \n3     data/parelsnoer/DICOM_STRUCTURED/PSI53336/2019...   \n4     data/parelsnoer/DICOM_STRUCTURED/PSI53336/2019...   \n...                                                 ...   \n4699  data/parelsnoer/DICOM_STRUCTURED/PSI71840/2018...   \n4700  data/parelsnoer/DICOM_STRUCTURED/PSI71840/2018...   \n4701  data/parelsnoer/DICOM_STRUCTURED/PSI71840/2018...   \n4702  data/parelsnoer/DICOM_STRUCTURED/PSI71840/2018...   \n4703  data/parelsnoer/DICOM_STRUCTURED/PSI71840/2018...   \n\n                                               filename  \\\n0     1.2.752.24.7.1715200030.1002639406-702-1000-1h...   \n1     1.2.752.24.7.1715200030.1002639406-601-1-pe01l...   \n2     1.2.752.24.7.1715200030.1002639406-101-1-o9ahw...   \n3     1.2.752.24.7.1715200030.1002639406-401-1-1kjp0...   \n4     1.2.752.24.7.1715200030.1002639406-704-1012-dr...   \n...                                                 ...   \n4699  1.2.752.24.7.1209505054.1002166583-901-1-1buor...   \n4700  1.2.752.24.7.1209505054.1002166583-501-1-1750h...   \n4701  1.2.752.24.7.1209505054.1002166583-201-1-ex9rh...   \n4702  1.2.752.24.7.1209505054.1002166583-701-1-ehubh...   \n4703  1.2.752.24.7.1209505054.1002166583-801-1-1xo5g...   \n\n                                                   path  \n0     data/parelsnoer/data/1_2_752_24_7_1715200030_1...  \n1     data/parelsnoer/data/1_2_752_24_7_1715200030_1...  \n2     data/parelsnoer/data/1_2_752_24_7_1715200030_1...  \n3     data/parelsnoer/data/1_2_752_24_7_1715200030_1...  \n4     data/parelsnoer/data/1_2_752_24_7_1715200030_1...  \n...                                                 ...  \n4699  data/parelsnoer/data/1_2_752_24_7_1209505054_1...  \n4700  data/parelsnoer/data/1_2_752_24_7_1209505054_1...  \n4701  data/parelsnoer/data/1_2_752_24_7_1209505054_1...  \n4702  data/parelsnoer/data/1_2_752_24_7_1209505054_1...  \n4703  data/parelsnoer/data/1_2_752_24_7_1209505054_1...  \n\n[4704 rows x 3 columns]",
      "text/html": "<div>\n<style scoped>\n    .dataframe tbody tr th:only-of-type {\n        vertical-align: middle;\n    }\n\n    .dataframe tbody tr th {\n        vertical-align: top;\n    }\n\n    .dataframe thead th {\n        text-align: right;\n    }\n</style>\n<table border=\"1\" class=\"dataframe\">\n  <thead>\n    <tr style=\"text-align: right;\">\n      <th></th>\n      <th>structured_path</th>\n      <th>filename</th>\n      <th>path</th>\n    </tr>\n  </thead>\n  <tbody>\n    <tr>\n      <th>0</th>\n      <td>data/parelsnoer/DICOM_STRUCTURED/PSI53336/2019...</td>\n      <td>1.2.752.24.7.1715200030.1002639406-702-1000-1h...</td>\n      <td>data/parelsnoer/data/1_2_752_24_7_1715200030_1...</td>\n    </tr>\n    <tr>\n      <th>1</th>\n      <td>data/parelsnoer/DICOM_STRUCTURED/PSI53336/2019...</td>\n      <td>1.2.752.24.7.1715200030.1002639406-601-1-pe01l...</td>\n      <td>data/parelsnoer/data/1_2_752_24_7_1715200030_1...</td>\n    </tr>\n    <tr>\n      <th>2</th>\n      <td>data/parelsnoer/DICOM_STRUCTURED/PSI53336/2019...</td>\n      <td>1.2.752.24.7.1715200030.1002639406-101-1-o9ahw...</td>\n      <td>data/parelsnoer/data/1_2_752_24_7_1715200030_1...</td>\n    </tr>\n    <tr>\n      <th>3</th>\n      <td>data/parelsnoer/DICOM_STRUCTURED/PSI53336/2019...</td>\n      <td>1.2.752.24.7.1715200030.1002639406-401-1-1kjp0...</td>\n      <td>data/parelsnoer/data/1_2_752_24_7_1715200030_1...</td>\n    </tr>\n    <tr>\n      <th>4</th>\n      <td>data/parelsnoer/DICOM_STRUCTURED/PSI53336/2019...</td>\n      <td>1.2.752.24.7.1715200030.1002639406-704-1012-dr...</td>\n      <td>data/parelsnoer/data/1_2_752_24_7_1715200030_1...</td>\n    </tr>\n    <tr>\n      <th>...</th>\n      <td>...</td>\n      <td>...</td>\n      <td>...</td>\n    </tr>\n    <tr>\n      <th>4699</th>\n      <td>data/parelsnoer/DICOM_STRUCTURED/PSI71840/2018...</td>\n      <td>1.2.752.24.7.1209505054.1002166583-901-1-1buor...</td>\n      <td>data/parelsnoer/data/1_2_752_24_7_1209505054_1...</td>\n    </tr>\n    <tr>\n      <th>4700</th>\n      <td>data/parelsnoer/DICOM_STRUCTURED/PSI71840/2018...</td>\n      <td>1.2.752.24.7.1209505054.1002166583-501-1-1750h...</td>\n      <td>data/parelsnoer/data/1_2_752_24_7_1209505054_1...</td>\n    </tr>\n    <tr>\n      <th>4701</th>\n      <td>data/parelsnoer/DICOM_STRUCTURED/PSI71840/2018...</td>\n      <td>1.2.752.24.7.1209505054.1002166583-201-1-ex9rh...</td>\n      <td>data/parelsnoer/data/1_2_752_24_7_1209505054_1...</td>\n    </tr>\n    <tr>\n      <th>4702</th>\n      <td>data/parelsnoer/DICOM_STRUCTURED/PSI71840/2018...</td>\n      <td>1.2.752.24.7.1209505054.1002166583-701-1-ehubh...</td>\n      <td>data/parelsnoer/data/1_2_752_24_7_1209505054_1...</td>\n    </tr>\n    <tr>\n      <th>4703</th>\n      <td>data/parelsnoer/DICOM_STRUCTURED/PSI71840/2018...</td>\n      <td>1.2.752.24.7.1209505054.1002166583-801-1-1xo5g...</td>\n      <td>data/parelsnoer/data/1_2_752_24_7_1209505054_1...</td>\n    </tr>\n  </tbody>\n</table>\n<p>4704 rows × 3 columns</p>\n</div>"
     },
     "execution_count": 20,
     "metadata": {},
     "output_type": "execute_result"
    }
   ],
   "source": [
    "dfi = pd.read_csv('CombinedDirCsv.csv', index_col=0)\n",
    "dfi"
   ],
   "metadata": {
    "collapsed": false,
    "ExecuteTime": {
     "end_time": "2023-10-09T12:58:22.143375117Z",
     "start_time": "2023-10-09T12:58:22.132224407Z"
    }
   },
   "id": "742f3641cfcc57e4"
  },
  {
   "cell_type": "code",
   "execution_count": 21,
   "outputs": [],
   "source": [
    "def findName(path):\n",
    "    return path.split(os.sep)[5]"
   ],
   "metadata": {
    "collapsed": false,
    "ExecuteTime": {
     "end_time": "2023-10-09T12:58:22.143482821Z",
     "start_time": "2023-10-09T12:58:22.132387224Z"
    }
   },
   "id": "a7b20c569dbc779"
  },
  {
   "cell_type": "code",
   "execution_count": 22,
   "outputs": [],
   "source": [
    "dfi['raw_name'] = dfi['path'].apply(findName)"
   ],
   "metadata": {
    "collapsed": false,
    "ExecuteTime": {
     "end_time": "2023-10-09T12:58:22.143580253Z",
     "start_time": "2023-10-09T12:58:22.132449375Z"
    }
   },
   "id": "3c87a4499db93878"
  },
  {
   "cell_type": "code",
   "execution_count": 23,
   "outputs": [],
   "source": [
    "df = dfi[['unknown' not in name.lower() for name in dfi['raw_name']]]"
   ],
   "metadata": {
    "collapsed": false,
    "ExecuteTime": {
     "end_time": "2023-10-09T12:58:22.146886444Z",
     "start_time": "2023-10-09T12:58:22.140581555Z"
    }
   },
   "id": "646f269a7b58350a"
  },
  {
   "cell_type": "code",
   "execution_count": 24,
   "outputs": [
    {
     "data": {
      "text/plain": "array(['702-Reg___WIP_DTI_high_iso45dir_noDynStab_SENSE',\n       '601-t_T1_IR_3mm', '101-m_SURVEY', '401-FLAIR',\n       '704-isoDWI_uit_DTI', '901-t_T2W_FFE_3mm', '703-dADC_uit_DTI',\n       '201-T1w', '801-t_T2W_TSE_dual_echo_SPIR',\n       '701-DTI_high_iso45dir_noDynStab', '502-WIP_t_Qflow_162734_038',\n       '301-s_SURVEY_PC', '202-MPR_cor_T1', '501-t_Qflow',\n       '202-mpr_c_T1_3d_Parelsnoer', '1202-sASL_Substraction',\n       '1001-CSF_T1_T2', '603-dADC_uit_DTI', '1201-ASL_Perfusion',\n       '1203-sASL_Cumulation', '601-DTI_high_iso45dir_noDynStab',\n       '1101-CSF_HR_T1_T2', '101-SURVEY', '701-t_T2W_TSE_dual_echo_SPIR',\n       '602-Reg___WIP_DTI_high_iso45dir_noDynStab_SENSE',\n       '1301-ASL_T1_2500ms', '1401-ASL_T1_1250ms', '1501-ASL_T1_625ms',\n       '604-isoDWI_uit_DTI', '1601-CSF_Motion', '901-t_Qflow',\n       '801-t_T2W_FFE_3mm', '501-t_T1_IR_3mm', '801-t_Qflow',\n       '601-t_Qflow', '301-FLAIR', '901-t_T2W_TSE_dual_echo_SPIR',\n       '802-t_Qflow_105714_385', '401-s_SURVEY_PC', '1001-t_T2W_FFE_3mm',\n       '301-T1w', '904-isoDWI_uit_DTI', '202-B1_calibration',\n       '501-s_SURVEY_PC', '1101-t_T2W_FFE_3mm', '701-t_Qflow',\n       '901-DTI_high_iso45dir_noDynStab',\n       '802-WIP_t_Qflow_CLEAR_125416_988',\n       '1001-t_T2W_TSE_dual_echo_SPIR',\n       '902-Reg___WIP_DTI_high_iso45dir_noDynStab_SENSE',\n       '702-WIP_t_Qflow_CLEAR_125224_689', '302-MPR_cor_T1W_3D_TFE_SENSE',\n       '903-dADC_uit_DTI', '201-B1_calibration', '801-c_SURVEY_PC',\n       '302-c_mpr_T1W_3D_TFE_SENSE', '902-t_Qflow', '701-s_SURVEY_PC',\n       '501-FLAIR', '201-SenseHead8',\n       '802-Reg___WIP_DTI_high_iso45dir_noDynStab_SENSE',\n       '801-DTI_high_iso45dir_noDynStab', '702-t_Qflow',\n       '303-MPR_cor_Pare', '804-isoDWI_uit_DTI', '803-dADC_uit_DTI',\n       '702-WIP_t_Qflow_CLEAR_122208_658', '303-MPR_cor_T1_',\n       '1101-s_T1_3D_gd', '1103-MPR_s_T1_gd', '1102-MPR_cor_T1_gd',\n       '1104-MPR_t_T1_gd', '1402-sASL_Substraction', '1201-CSF_T1_T2',\n       '1301-s_PCA', '1601-ASL_T1_1250ms', '1701-ASL_T1_625ms',\n       '1401-ASL_Perfusion', '1501-ASL_T1_2500ms', '1801-CSF_Motion',\n       '1-t_Qflow_CLEAR_143744_698', '1403-sASL_Cumulation',\n       '502-WIP_t_Qflow_100859_007', '902-t_Qflow_CLEAR_143827_760',\n       '202-MPR_cor_T1W_3D_TFE_SENSE', '502-WIP_t_Qflow_CLEAR_112436_399',\n       '601-FLAIR', '701-t_T1_IR_3mm', '401-T1w',\n       '402-mpr_c_T1_3d_Parelsnoer', '202-MPR_cor_t13d', '1001-t_Qflow',\n       '601-t_T2W_TSE_dual_echo_SPIR', '401-t_T1_IR_3mm',\n       '901-s_SURVEY_PC', '1002-WIP_t_Qflow_112927_582', '1002-t_Qflow',\n       '302-s_MPR_T1W_3D_TFE', '2-BAERENDS_BOSK_A', '302-mpr_cor_T1W_3D_',\n       '402-MPR_cor_T1W_3D_TFE_SENSE', '801-t_T1_IR_3mm', '302-MPR_COR',\n       '302-MPR_RPS', '303-C_T_1MPR', '1501-ASL_T1_1250ms',\n       '1701-CSF_Motion', '1301-ASL_Perfusion',\n       '602-t_Qflow_CLEAR_123550_292', '1303-sASL_Cumulation',\n       '1601-ASL_T1_625ms', '1401-ASL_T1_2500ms',\n       '1302-sASL_Substraction', '303-c_mpr_T1W_3D_TFE_SENSE',\n       '302-mpr_c_T1_3d_Parelsnoer', '501-SURVEY', '602-t_Qflow',\n       '302-cor_MPR', '302-mpr_c_T1_parelsnoer',\n       '302-cor_T1W_3D_TFE_SENSE', '102-MR2-SmartBrain_7T',\n       '502-MPR_tFLAIR_180_0_8_0', '101-MR2-SmartBrain_7T',\n       '102-MR1-SmartBrain_7T', '608-min_MIP_2e_SWI_60_4__2',\n       '702-MPR__T2W_TSE___180_0_8_0', '607-min_MIP_1e_SWI_60_4__2',\n       '101-MR1-SURVEY', '101-MR3-SmartBrain_7T',\n       '403-MPR_t_T1_TFE_180_0_8_0', '1101-CSF_T1_T2',\n       '1201-CSF_HR_T1_T2', '401-s_PCA', '303-cor_mpr_SENSE',\n       '302-MPR_s_T1W_3D_TFE_SENSE', '1101-t_T2W_TSE_dual_echo_SPIR',\n       '401-SURVEY', '1002-Reg___WIP_DTI_high_iso45dir_noDynStab_SENSE',\n       '1901-ASL_T1_2500ms', '1001-DTI_high_iso45dir_noDynStab',\n       '2001-ASL_T1_1250ms', '1201-t_T2W_FFE_3mm', '1801-ASL_Perfusion',\n       '701-FLAIR', '1501-CSF_HR_T1_T2', '1003-dADC_uit_DTI',\n       '1601-CSF_T1_T2', '601-s_SURVEY_PC', '1301-t_Qflow',\n       '1401-CSF_T1_T2', '1004-isoDWI_uit_DTI', '2201-CSF_Motion',\n       '1803-sASL_Cumulation', '901-t_T1_IR_3mm', '1701-s_PCA',\n       '1802-sASL_Substraction', '1302-t_Qflow_CLEAR_123433_334',\n       '2101-ASL_T1_625ms', '802-t_Qflow', '302-MPR_c_T1W_3D_TFE_SENSE',\n       '1102-t_Qflow', '303-MPR_COR', '1101-t_Qflow', '402-s_PCA',\n       '503-dADC_uit_DTI', '902-WIP_t_Qflow_115014_292',\n       '504-isoDWI_uit_DTI',\n       '502-Reg___WIP_DTI_high_iso45dir_noDynStab_SENSE',\n       '501-DTI_high_iso45dir_noDynStab', '203-MPR_cor_T1_',\n       '502-t_Qflow', '402-MPR_cor_T1W', '302-MPR_C_T1_3D',\n       '702-WIP_t_Qflow_CLEAR_110246_122', '302-B1_calibration',\n       '201-m_SURVEY', '301-B1_calibration', '702-WIP_t_Qflow_095315_970',\n       '202-MPR_COR', '702-t_Qflow_CLEAR_122103_747', '201-Ref_SHC_8',\n       '501-T1w', '1001-FLAIR', '301-Ref_SH8',\n       '502-MPR_c_T1W_3D_TFE_SENSE', '1102-Qflow_110041_100',\n       '302-cor_mpr_T1W_3D_TFE_SENSE', '1001-t_T1_IR_3mm', '401-t_Qflow',\n       '302-MPR_cor_T1', '201-s_SURVEY_PC', '402-WIP_t_Qflow_095715_796',\n       '1701-t_T2W_FFE_3mm', '802-t_Qflow_CLEAR_133700_908',\n       '1103-t_Qflow', '303-cor_MPR_parelsnoer', '303-MPR_cT1_',\n       '1301-CSF_HR_T1_T2', '1801-ASL_T1_1250ms', '1603-sASL_Cumulation',\n       '1901-ASL_T1_625ms', '1701-ASL_T1_2500ms', '1601-ASL_Perfusion',\n       '1501-s_PCA', '1-WIP_t_Qflow_CLEAR_132257_119',\n       '1602-sASL_Substraction', '2001-CSF_Motion',\n       '2-WIP_t_Qflow_CLEAR_132459_645', '1104-isoDWI_uit_DTI',\n       '1101-DTI_high_iso45dir_noDynStab', '1103-dADC_uit_DTI',\n       '1102-Reg___WIP_DTI_high_iso45dir_noDynStab_SENSE',\n       '902-WIP_t_Qflow_114554_521', '802-t_Qflow_CLEAR_124640_511',\n       '201-SURVEY', '302-c_MPR_Parelsnoer',\n       '302-c_MPR_s_T1W_3D_TFE_SENSE', '1001-CSF_T1T2_MLEV_LOW',\n       '703-t_Qflow', '607-1st_dual_echo_SWI', '608-2nd_dual_echo_SWI',\n       '402-t_mpr_T1_3D_TFE', '1101-c_T1_IR', '502-MPR_3D_FLAIR',\n       '702-t_Qflow_CLEAR_125511_636', '202-MPR_cor_T1_TFE',\n       '902-WIP_t_Qflow_161320_219', '402-cor_MPR', '301-SenseHead8',\n       '1401-t_Qflow', '1701-ASL_T1_1250ms', '1503-sASL_Cumulation',\n       '1601-ASL_T1_2500ms', '1801-ASL_T1_625ms',\n       '1402-t_Qflow_CLEAR_124621_955', '1501-ASL_Perfusion',\n       '1901-CSF_Motion', '1502-sASL_Substraction', '801-s_SURVEY_PC',\n       '1002-WIP_t_Qflow_CLEAR_110311_506', '302-MPR_cT1',\n       '702-t_Qflow1_CLEAR_123700_387', '902-t_Qflow2_CLEAR_123832_059',\n       '602-WIP_t_Qflow_CLEAR_120010_456',\n       '302-MPR_cor_s_T1W_3D_TFE_SENSE', '402-MPR_c_T1W_3D',\n       '401-t__DUAL_TSE_SPAIR', '901-T1w', '501-t_DW_HR',\n       '801-c_T1_IR_dem', '701-t_T2_FFE', '902-c_mpr_T1W_3D_TFE_SENSE',\n       '502-dt_DW_HR_SENSE', '503-MPR_cor_3DT1', '402-t_Qflow',\n       '702-WIP_t_Qflow_CLEAR_132615_437', '801-FLAIR',\n       '303-c_MPR_Parelsnoer', '1301-CSF_T1_T2', '1201-t_Qflow',\n       '901-s_PCA', '1401-CSF_HR_T1_T2', '1202-t_Qflow',\n       '402-MPR__T1W_3D_TFE', '302-MIP_cor', '602-WIP_t_Qflow_160934_200',\n       '902-t_Qflow_CLEAR_135018_080', '3-ROSSEWIJL_1', '301-SURVEY',\n       '303-MPR_cT1W_TFE_SENSE', '302-VWIP_s_T1W_3D_TFE_SENSE',\n       '802-WIP_t_Qflow_CLEAR_110318_990', '302-MPR_c_parelsn',\n       '203-MPR_cor_T1', '702-WIP_t_Qflow_163136_392',\n       '902-t_Qflow_CLEAR_120111_719', '303-MPR_cT1',\n       '502-t_Qflow_104306_791', '902-t_Qflow_112047_946',\n       '602-t_Qflow_CLEAR_124245_664', '402-mpr_s_3D_TFE',\n       '303-MPR_cor_T1W_3D_TFE_SENSE', '802-WIP_t_Qflow_CLEAR_125057_983',\n       '302-MPR_COR_3D', '602-MPR_COR', '601-T1w',\n       '1-t_Qflow_CLEAR_131706_219', '502-WIP_t_Qflow_095932_291',\n       '902-t_Qflow_CLEAR_130338_034', '402-MPR_RPS', '403-MPR_COR',\n       '1301-t_T2W_FFE_3mm', '902-WIP_t_Qflow_162141_237',\n       '1401-CSF_Motion', '1-t_Qflow_CLEAR_123211_889',\n       '802-t_Qflow_CLEAR_133236_874', '204-mpr_c_T1_3d_Parelsnoer',\n       '1102-t_Qflow_110457_567', '602-WIP_t_Qflow_100707_270',\n       '1202-t_Qflow_CLEAR_133244_510', '702-WIP_t_Qflow_100828_953',\n       '902-t_Qflow_CLEAR_130014_465', '402-cor_MPR_s_T1W_3D_TFE_SENSE',\n       '2-BRUGHJ_Cvan_der1', '1101-CSF_T1T2_MLEV_LOW', '303-MPR_t_T1w',\n       '1801-CSF_HR_T1_T2', '302-MPR_cor_TFE_SENSE', '302-MPR_cor_T1W',\n       '403-cor_MPR', '502-t_Qflow_130543_158',\n       '1002-WIP_t_Qflow_105954_912', '302-c_mpr_T1W_3D_TFE',\n       '302-MPR_cor_t13d', '1001-s_PCA',\n       '902-WIP_t_Qflow_CLEAR_140200_634', '902-t_Qflow_095751_733',\n       '902-t_Qflow_CLEAR_132715_143', '1001-QF_BASIL',\n       '1002-WIP_QF_BASIL_111252_668', '901-QF_min_wfs'], dtype=object)"
     },
     "execution_count": 24,
     "metadata": {},
     "output_type": "execute_result"
    }
   ],
   "source": [
    "df['raw_name'].unique()"
   ],
   "metadata": {
    "collapsed": false,
    "ExecuteTime": {
     "end_time": "2023-10-09T12:58:22.217811169Z",
     "start_time": "2023-10-09T12:58:22.188217633Z"
    }
   },
   "id": "1ff9226607e0bf86"
  },
  {
   "cell_type": "code",
   "execution_count": 30,
   "outputs": [],
   "source": [
    "def rename(origName):\n",
    "    on = origName.lower()\n",
    "    if 'local' in on:\n",
    "        return 'localizer'\n",
    "    if 'gd' in on:\n",
    "        if 't1' in on or 'fspgr' in on:\n",
    "            return 'T1c'\n",
    "    if 't1' in on or 'fspgr' in on:\n",
    "        return 'T1w'\n",
    "    if 'flair' in on:\n",
    "        return 'flair'\n",
    "    if 'dwi' in on:\n",
    "        return 'dwi'\n",
    "    if 't2' in on:\n",
    "        return 'T2w'\n",
    "    if 'adc' in on:\n",
    "        return 'adc'\n",
    "    if 'pwi' in on or 'perf' in on:\n",
    "        return 'pwi'\n",
    "    if 'pd' in on:\n",
    "        return 'pd'\n",
    "    if 'dti' in on:\n",
    "        return 'dti'\n",
    "    if 'survey' in on:\n",
    "        return 'survey'\n",
    "    return 'other'"
   ],
   "metadata": {
    "collapsed": false,
    "ExecuteTime": {
     "end_time": "2023-10-09T13:00:32.817533020Z",
     "start_time": "2023-10-09T13:00:32.771526280Z"
    }
   },
   "id": "b385b772ce7e1c2a"
  },
  {
   "cell_type": "code",
   "execution_count": 31,
   "outputs": [
    {
     "name": "stderr",
     "output_type": "stream",
     "text": [
      "/tmp/ipykernel_39443/1827683296.py:1: SettingWithCopyWarning: \n",
      "A value is trying to be set on a copy of a slice from a DataFrame.\n",
      "Try using .loc[row_indexer,col_indexer] = value instead\n",
      "\n",
      "See the caveats in the documentation: https://pandas.pydata.org/pandas-docs/stable/user_guide/indexing.html#returning-a-view-versus-a-copy\n",
      "  df['name'] = df['raw_name'].apply(rename)\n"
     ]
    }
   ],
   "source": [
    "df['name'] = df['raw_name'].apply(rename)"
   ],
   "metadata": {
    "collapsed": false,
    "ExecuteTime": {
     "end_time": "2023-10-09T13:00:33.682377634Z",
     "start_time": "2023-10-09T13:00:33.656517557Z"
    }
   },
   "id": "ead104c515ae53dd"
  },
  {
   "cell_type": "code",
   "execution_count": 32,
   "outputs": [
    {
     "data": {
      "text/plain": "name\nother    1927\nT1w      1126\nT2w       647\nflair     330\nadc       162\ndwi       160\npwi        66\nT1c         5\nName: count, dtype: int64"
     },
     "execution_count": 32,
     "metadata": {},
     "output_type": "execute_result"
    }
   ],
   "source": [
    "df['name'].value_counts()"
   ],
   "metadata": {
    "collapsed": false,
    "ExecuteTime": {
     "end_time": "2023-10-09T13:00:34.853878156Z",
     "start_time": "2023-10-09T13:00:34.838267696Z"
    }
   },
   "id": "629e9bcc7e5912d4"
  },
  {
   "cell_type": "code",
   "execution_count": 28,
   "outputs": [],
   "source": [
    "df.to_csv('Annotated_CombinedDirCsv.csv')"
   ],
   "metadata": {
    "collapsed": false,
    "ExecuteTime": {
     "end_time": "2023-10-09T12:58:22.237975033Z",
     "start_time": "2023-10-09T12:58:22.188607553Z"
    }
   },
   "id": "3481804911d42a83"
  },
  {
   "cell_type": "code",
   "execution_count": 35,
   "outputs": [
    {
     "data": {
      "text/plain": "raw_name\n101-SURVEY                          243\n401-s_SURVEY_PC                     130\n801-DTI_high_iso45dir_noDynStab     124\n301-s_SURVEY_PC                     103\n601-t_Qflow                          86\n                                   ... \n607-1st_dual_echo_SWI                 1\n703-t_Qflow                           1\n602-t_Qflow_CLEAR_123550_292          1\n802-t_Qflow_CLEAR_124640_511          1\n602-WIP_t_Qflow_CLEAR_120010_456      1\nName: count, Length: 181, dtype: int64"
     },
     "execution_count": 35,
     "metadata": {},
     "output_type": "execute_result"
    }
   ],
   "source": [
    "df[df['name']=='other']['raw_name'].value_counts()"
   ],
   "metadata": {
    "collapsed": false,
    "ExecuteTime": {
     "end_time": "2023-10-09T13:05:02.632728828Z",
     "start_time": "2023-10-09T13:05:02.588756365Z"
    }
   },
   "id": "ec5d43b1d7d9431a"
  },
  {
   "cell_type": "code",
   "execution_count": null,
   "outputs": [],
   "source": [],
   "metadata": {
    "collapsed": false
   },
   "id": "4e286cc1abd0a3f9"
  }
 ],
 "metadata": {
  "kernelspec": {
   "display_name": "Python 3",
   "language": "python",
   "name": "python3"
  },
  "language_info": {
   "codemirror_mode": {
    "name": "ipython",
    "version": 2
   },
   "file_extension": ".py",
   "mimetype": "text/x-python",
   "name": "python",
   "nbconvert_exporter": "python",
   "pygments_lexer": "ipython2",
   "version": "2.7.6"
  }
 },
 "nbformat": 4,
 "nbformat_minor": 5
}
