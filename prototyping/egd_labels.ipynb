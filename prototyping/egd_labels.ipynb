{
 "cells": [
  {
   "cell_type": "code",
   "execution_count": 1,
   "id": "initial_id",
   "metadata": {
    "collapsed": true,
    "ExecuteTime": {
     "end_time": "2023-10-10T07:03:31.439604215Z",
     "start_time": "2023-10-10T07:03:31.171281972Z"
    }
   },
   "outputs": [],
   "source": [
    "import pandas as pd\n",
    "import os"
   ]
  },
  {
   "cell_type": "code",
   "execution_count": 2,
   "outputs": [
    {
     "data": {
      "text/plain": "                                        structured_path  \\\n0     data/egd/DICOM_STRUCTURED/MR_20020205/20020205...   \n1     data/egd/DICOM_STRUCTURED/MR_20020205/20020205...   \n2     data/egd/DICOM_STRUCTURED/MR_20020205/20020205...   \n3     data/egd/DICOM_STRUCTURED/MR_61373/20170605/MR...   \n4     data/egd/DICOM_STRUCTURED/MR_61373/20170605/MR...   \n...                                                 ...   \n4597  data/egd/DICOM_STRUCTURED/MR_97898/20180127/MR...   \n4598  data/egd/DICOM_STRUCTURED/MR_97898/20180127/MR...   \n4599  data/egd/DICOM_STRUCTURED/MR_97898/20180127/MR...   \n4600  data/egd/DICOM_STRUCTURED/MR_97898/20180127/MR...   \n4601  data/egd/DICOM_STRUCTURED/MR_97898/20180127/MR...   \n\n                                               filename  \\\n0     1.2.826.0.1.3680043.10.104.2857427232523006061...   \n1     1.2.826.0.1.3680043.10.104.2857427232523006061...   \n2     1.2.826.0.1.3680043.10.104.2857427232523006061...   \n3     1.2.826.0.1.3680043.10.104.1044043140781656433...   \n4     1.2.826.0.1.3680043.10.104.1044043140781656433...   \n...                                                 ...   \n4597  1.2.826.0.1.3680043.10.104.1081727604819600522...   \n4598  1.2.826.0.1.3680043.10.104.1081727604819600522...   \n4599  1.2.826.0.1.3680043.10.104.1081727604819600522...   \n4600  1.2.826.0.1.3680043.10.104.1081727604819600522...   \n4601  1.2.826.0.1.3680043.10.104.1081727604819600522...   \n\n                                                   path  \n0     data/egd/data/MR_20020205_EGD-0924/scans/3-T1_...  \n1     data/egd/data/MR_20020205_EGD-0924/scans/8-T2_...  \n2     data/egd/data/MR_20020205_EGD-0924/scans/1-unk...  \n3     data/egd/data/MR_20150326_EGD-1215/scans/650_s...  \n4     data/egd/data/MR_20150326_EGD-1215/scans/3-3D_...  \n...                                                 ...  \n4597  data/egd/data/MR_20151117_EGD-1208/scans/651_s...  \n4598  data/egd/data/MR_20151117_EGD-1208/scans/651-P...  \n4599  data/egd/data/MR_20151117_EGD-1208/scans/4-Ax_...  \n4600  data/egd/data/MR_20151117_EGD-1208/scans/451-e...  \n4601  data/egd/data/MR_20151117_EGD-1208/scans/450-A...  \n\n[4602 rows x 3 columns]",
      "text/html": "<div>\n<style scoped>\n    .dataframe tbody tr th:only-of-type {\n        vertical-align: middle;\n    }\n\n    .dataframe tbody tr th {\n        vertical-align: top;\n    }\n\n    .dataframe thead th {\n        text-align: right;\n    }\n</style>\n<table border=\"1\" class=\"dataframe\">\n  <thead>\n    <tr style=\"text-align: right;\">\n      <th></th>\n      <th>structured_path</th>\n      <th>filename</th>\n      <th>path</th>\n    </tr>\n  </thead>\n  <tbody>\n    <tr>\n      <th>0</th>\n      <td>data/egd/DICOM_STRUCTURED/MR_20020205/20020205...</td>\n      <td>1.2.826.0.1.3680043.10.104.2857427232523006061...</td>\n      <td>data/egd/data/MR_20020205_EGD-0924/scans/3-T1_...</td>\n    </tr>\n    <tr>\n      <th>1</th>\n      <td>data/egd/DICOM_STRUCTURED/MR_20020205/20020205...</td>\n      <td>1.2.826.0.1.3680043.10.104.2857427232523006061...</td>\n      <td>data/egd/data/MR_20020205_EGD-0924/scans/8-T2_...</td>\n    </tr>\n    <tr>\n      <th>2</th>\n      <td>data/egd/DICOM_STRUCTURED/MR_20020205/20020205...</td>\n      <td>1.2.826.0.1.3680043.10.104.2857427232523006061...</td>\n      <td>data/egd/data/MR_20020205_EGD-0924/scans/1-unk...</td>\n    </tr>\n    <tr>\n      <th>3</th>\n      <td>data/egd/DICOM_STRUCTURED/MR_61373/20170605/MR...</td>\n      <td>1.2.826.0.1.3680043.10.104.1044043140781656433...</td>\n      <td>data/egd/data/MR_20150326_EGD-1215/scans/650_s...</td>\n    </tr>\n    <tr>\n      <th>4</th>\n      <td>data/egd/DICOM_STRUCTURED/MR_61373/20170605/MR...</td>\n      <td>1.2.826.0.1.3680043.10.104.1044043140781656433...</td>\n      <td>data/egd/data/MR_20150326_EGD-1215/scans/3-3D_...</td>\n    </tr>\n    <tr>\n      <th>...</th>\n      <td>...</td>\n      <td>...</td>\n      <td>...</td>\n    </tr>\n    <tr>\n      <th>4597</th>\n      <td>data/egd/DICOM_STRUCTURED/MR_97898/20180127/MR...</td>\n      <td>1.2.826.0.1.3680043.10.104.1081727604819600522...</td>\n      <td>data/egd/data/MR_20151117_EGD-1208/scans/651_s...</td>\n    </tr>\n    <tr>\n      <th>4598</th>\n      <td>data/egd/DICOM_STRUCTURED/MR_97898/20180127/MR...</td>\n      <td>1.2.826.0.1.3680043.10.104.1081727604819600522...</td>\n      <td>data/egd/data/MR_20151117_EGD-1208/scans/651-P...</td>\n    </tr>\n    <tr>\n      <th>4599</th>\n      <td>data/egd/DICOM_STRUCTURED/MR_97898/20180127/MR...</td>\n      <td>1.2.826.0.1.3680043.10.104.1081727604819600522...</td>\n      <td>data/egd/data/MR_20151117_EGD-1208/scans/4-Ax_...</td>\n    </tr>\n    <tr>\n      <th>4600</th>\n      <td>data/egd/DICOM_STRUCTURED/MR_97898/20180127/MR...</td>\n      <td>1.2.826.0.1.3680043.10.104.1081727604819600522...</td>\n      <td>data/egd/data/MR_20151117_EGD-1208/scans/451-e...</td>\n    </tr>\n    <tr>\n      <th>4601</th>\n      <td>data/egd/DICOM_STRUCTURED/MR_97898/20180127/MR...</td>\n      <td>1.2.826.0.1.3680043.10.104.1081727604819600522...</td>\n      <td>data/egd/data/MR_20151117_EGD-1208/scans/450-A...</td>\n    </tr>\n  </tbody>\n</table>\n<p>4602 rows × 3 columns</p>\n</div>"
     },
     "execution_count": 2,
     "metadata": {},
     "output_type": "execute_result"
    }
   ],
   "source": [
    "dfi = pd.read_csv('CombinedDirCsv.csv', index_col=0)\n",
    "dfi"
   ],
   "metadata": {
    "collapsed": false,
    "ExecuteTime": {
     "end_time": "2023-10-10T07:03:31.484785656Z",
     "start_time": "2023-10-10T07:03:31.444445415Z"
    }
   },
   "id": "742f3641cfcc57e4"
  },
  {
   "cell_type": "code",
   "execution_count": 3,
   "outputs": [],
   "source": [
    "def findName(path):\n",
    "    return path.split(os.sep)[5]"
   ],
   "metadata": {
    "collapsed": false,
    "ExecuteTime": {
     "end_time": "2023-10-10T07:03:31.486308885Z",
     "start_time": "2023-10-10T07:03:31.475923992Z"
    }
   },
   "id": "a7b20c569dbc779"
  },
  {
   "cell_type": "code",
   "execution_count": 4,
   "outputs": [],
   "source": [
    "dfi['raw_name'] = dfi['path'].apply(findName)"
   ],
   "metadata": {
    "collapsed": false,
    "ExecuteTime": {
     "end_time": "2023-10-10T07:03:31.487811293Z",
     "start_time": "2023-10-10T07:03:31.485108653Z"
    }
   },
   "id": "3c87a4499db93878"
  },
  {
   "cell_type": "code",
   "execution_count": 5,
   "outputs": [],
   "source": [
    "df = dfi[['unknown' not in name.lower() for name in dfi['raw_name']]]"
   ],
   "metadata": {
    "collapsed": false,
    "ExecuteTime": {
     "end_time": "2023-10-10T07:03:31.607010046Z",
     "start_time": "2023-10-10T07:03:31.531541466Z"
    }
   },
   "id": "646f269a7b58350a"
  },
  {
   "cell_type": "code",
   "execution_count": 6,
   "outputs": [
    {
     "data": {
      "text/plain": "array(['3-T1_3D', '8-T2_Ax', '3-3D_Ax_T1_FSPGR_HR_blanco', ...,\n       '402-DWI_DERIVED_Ax', '451-eADC_Jun_26_2019_14_35_34',\n       '450-ADC__10__6_mm__s__Jun_26_2019_14_35_34'], dtype=object)"
     },
     "execution_count": 6,
     "metadata": {},
     "output_type": "execute_result"
    }
   ],
   "source": [
    "df['raw_name'].unique()"
   ],
   "metadata": {
    "collapsed": false,
    "ExecuteTime": {
     "end_time": "2023-10-10T07:03:31.607747727Z",
     "start_time": "2023-10-10T07:03:31.531715252Z"
    }
   },
   "id": "1ff9226607e0bf86"
  },
  {
   "cell_type": "code",
   "execution_count": 7,
   "outputs": [],
   "source": [
    "def rename(origName):\n",
    "    on = origName.lower()\n",
    "    if 'local' in on:\n",
    "        return 'localizer'\n",
    "    if 'gd' in on:\n",
    "        if 't1' in on or 'fspgr' in on:\n",
    "            return 'T1c'\n",
    "    if 't1' in on or 'fspgr' in on:\n",
    "        return 'T1w'\n",
    "    if 'flair' in on:\n",
    "        return 'flair'\n",
    "    if 'dwi' in on:\n",
    "        return 'dwi'\n",
    "    if 't2' in on:\n",
    "        return 'T2w'\n",
    "    if 'adc' in on:\n",
    "        return 'adc'\n",
    "    if 'pwi' in on or 'perf' in on:\n",
    "        return 'pwi'\n",
    "    if 'pd' in on:\n",
    "        return 'pd'\n",
    "    if 'dti' in on:\n",
    "        return 'dti'\n",
    "    if 'survey' in on:\n",
    "        return 'survey'\n",
    "    return 'other'"
   ],
   "metadata": {
    "collapsed": false,
    "ExecuteTime": {
     "end_time": "2023-10-10T07:03:31.607912566Z",
     "start_time": "2023-10-10T07:03:31.531861237Z"
    }
   },
   "id": "b385b772ce7e1c2a"
  },
  {
   "cell_type": "code",
   "execution_count": 8,
   "outputs": [
    {
     "name": "stderr",
     "output_type": "stream",
     "text": [
      "/tmp/ipykernel_11847/1827683296.py:1: SettingWithCopyWarning: \n",
      "A value is trying to be set on a copy of a slice from a DataFrame.\n",
      "Try using .loc[row_indexer,col_indexer] = value instead\n",
      "\n",
      "See the caveats in the documentation: https://pandas.pydata.org/pandas-docs/stable/user_guide/indexing.html#returning-a-view-versus-a-copy\n",
      "  df['name'] = df['raw_name'].apply(rename)\n"
     ]
    }
   ],
   "source": [
    "df['name'] = df['raw_name'].apply(rename)"
   ],
   "metadata": {
    "collapsed": false,
    "ExecuteTime": {
     "end_time": "2023-10-10T07:03:31.608312415Z",
     "start_time": "2023-10-10T07:03:31.531992229Z"
    }
   },
   "id": "ead104c515ae53dd"
  },
  {
   "cell_type": "code",
   "execution_count": 9,
   "outputs": [
    {
     "data": {
      "text/plain": "name\nT1c          691\nflair        477\ndwi          406\nother        371\nT1w          363\nT2w          314\npwi          167\nadc          124\nlocalizer     98\npd            20\nsurvey         1\ndti            1\nName: count, dtype: int64"
     },
     "execution_count": 9,
     "metadata": {},
     "output_type": "execute_result"
    }
   ],
   "source": [
    "df['name'].value_counts()"
   ],
   "metadata": {
    "collapsed": false,
    "ExecuteTime": {
     "end_time": "2023-10-10T07:03:31.608628896Z",
     "start_time": "2023-10-10T07:03:31.532138495Z"
    }
   },
   "id": "629e9bcc7e5912d4"
  },
  {
   "cell_type": "code",
   "execution_count": 12,
   "outputs": [
    {
     "data": {
      "text/plain": "array(['651-cor_cube', '650-ax_cube', '403-DERIVED_Ax', '450-DERIVED_Ax',\n       '552-Processed_Images', '852-Processed_Images',\n       '850-Processed_Images', '551-Processed_Images',\n       '851-Processed_Images', '550-Processed_Images',\n       '10-sag_mpr_blanco', '9-cor_mpr_blanco', '11-cor_mpr_na_gado',\n       '12-sag_mpr_na_gado', '7-DERIVED_Ax', '7-MPR_cor_1mm_pre',\n       '8-MPR_cor_1mm_post', '352-Processed_Images',\n       '351-Processed_Images', '350-Processed_Images',\n       '2-3D_ASL__non_contrast_', '100-_3153_9_1__244___3153_3_1__244_',\n       '950-Processed_Images', '951-Processed_Images', '3-DERIVED_Ax',\n       '400-Processed_Images', '2-ASSET_calibration',\n       '401-Processed_Images', '300-Processed_Images',\n       '301-Processed_Images', '550-cor_cube', '3-Cal_Head_24',\n       '452-DERIVED_Ax', '451-DERIVED_Ax', '551-ax_cube', '650-cor_cube',\n       '103-Patient_Aligned_MPR_AWPLAN_SMARTPLAN_TYPE_BRAIN',\n       '505-DERIVED_Ax', '451-FA_May_14_2019_19_06_50',\n       '452-AvDC_May_14_2019_19_06_51', '450-Trace_May_14_2019_19_06_50',\n       '702-DERIVED_Ax', '2-AAHead_Scout_MPR_sag', '9-DERIVED_Ax',\n       '750-Processed_Images', '751-Processed_Images',\n       '100-_14136_9_1__216___14136_4_1__216_',\n       '100-_4799_9_1__236___4799_3_1__236_', '651-Processed_Images',\n       '703-DERIVED_Ax', '650-Processed_Images', '502-DERIVED_Ax',\n       '550-DERIVED_Ax', '102-SmartBrain', '752-Processed_Images',\n       '5-DERIVED_Ax', '302-DERIVED_Ax', '450-cor_cube', '850-DERIVED_Ax',\n       '851-DERIVED_Ax', '651-ax__swan', '452-cor_cube', '451-ax_cube',\n       '650-cor_swan', '603-DERIVED_Ax', '606-DERIVED_Ax',\n       '605-DERIVED_Ax', '602-DERIVED_Ax', '604-DERIVED_Ax',\n       '4-LOC_Twk_Lwk', '1-LOC_Cwk_Twk', '1050-Processed_Images',\n       '1051-Processed_Images', '10-_MPR_Range_1__', '9-_MPR_Range_',\n       '9-mpr_1mm_cor_pre', '8-AX_MPRAGE_POST',\n       '5-AXIAL_DIFFUSION_TRACEW', '853-Processed_Images',\n       '553-Processed_Images', '852-Ax_recon_Gd',\n       '403_split_2-DERIVED_Ax', '402-DERIVED_Ax', '18-MR1-DERIVED_Ax',\n       '19-MR2-DERIVED_Ax', '15-MR1-DERIVED_Ax', '4-AAHead_Scout_MPR_tra',\n       '6-DERIVED_Ax', '19-MR1-DERIVED_Ax', '18-MR2-DERIVED_Ax',\n       '17-MR2-DERIVED_Ax', '16-DERIVED_Ax', '15-MR2-DERIVED_Ax',\n       '14-MR2-DERIVED_Ax', '17-MR1-DERIVED_Ax', '3-AAHead_Scout_MPR_cor',\n       '14-MR1-DERIVED_Ax', '502-ddiffusie_SENSE', '501-diffusie',\n       '902-mpr_sag_1mm', '3-3D_ASL_extra_op_3T',\n       '804-Vs3D_PCA_SINUS_SENSE', '803-Vs3D_PCA_SINUS_SENSE',\n       '450-Processed_Images', '451-Processed_Images',\n       '952-Processed_Images', '100-sag_2mm_gado', '101-cor_2mm_mpr_gado',\n       '8-DERIVED_Ax', '651-ax_cube',\n       '100-_4822_10_1__236___4822_3_1__236_',\n       '100-_2664_9_1__236___2664_3_1__236_', '203-DERIVED_Ax',\n       '102-MPR___SmartBrain', '702-s3di_mc_HR_cirkel_van_willes',\n       '703-mip', '1-3Plane_Loc_SSFSE', '1-LOC_cwk', '5-LOC_Twk_Lwk',\n       '3-resolve_4scan_trace_tra_TRACEW'], dtype=object)"
     },
     "execution_count": 12,
     "metadata": {},
     "output_type": "execute_result"
    }
   ],
   "source": [
    "df[df['name']=='other']['raw_name'].unique()"
   ],
   "metadata": {
    "collapsed": false,
    "ExecuteTime": {
     "end_time": "2023-10-10T07:04:14.711021400Z",
     "start_time": "2023-10-10T07:04:14.665922848Z"
    }
   },
   "id": "107ca17536a44b96"
  },
  {
   "cell_type": "code",
   "execution_count": 10,
   "outputs": [],
   "source": [
    "df.to_csv('Annotated_CombinedDirCsv.csv')"
   ],
   "metadata": {
    "collapsed": false,
    "ExecuteTime": {
     "end_time": "2023-10-10T07:03:31.610018687Z",
     "start_time": "2023-10-10T07:03:31.532338149Z"
    }
   },
   "id": "3481804911d42a83"
  },
  {
   "cell_type": "code",
   "execution_count": 11,
   "outputs": [],
   "source": [],
   "metadata": {
    "collapsed": false,
    "ExecuteTime": {
     "end_time": "2023-10-10T07:03:31.610546495Z",
     "start_time": "2023-10-10T07:03:31.575611112Z"
    }
   },
   "id": "4e286cc1abd0a3f9"
  }
 ],
 "metadata": {
  "kernelspec": {
   "display_name": "Python 3",
   "language": "python",
   "name": "python3"
  },
  "language_info": {
   "codemirror_mode": {
    "name": "ipython",
    "version": 2
   },
   "file_extension": ".py",
   "mimetype": "text/x-python",
   "name": "python",
   "nbconvert_exporter": "python",
   "pygments_lexer": "ipython2",
   "version": "2.7.6"
  }
 },
 "nbformat": 4,
 "nbformat_minor": 5
}
