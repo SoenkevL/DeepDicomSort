{
 "cells": [
  {
   "cell_type": "code",
   "execution_count": 40,
   "id": "initial_id",
   "metadata": {
    "collapsed": true,
    "ExecuteTime": {
     "end_time": "2023-11-28T11:17:44.823819960Z",
     "start_time": "2023-11-28T11:17:44.688770990Z"
    }
   },
   "outputs": [],
   "source": [
    "import pandas as pd\n",
    "from sklearn.model_selection import train_test_split\n",
    "import os"
   ]
  },
  {
   "cell_type": "code",
   "execution_count": 41,
   "outputs": [],
   "source": [
    "FullLabelPath = 'parelsnoer/Labels_parelsnoer_annotated_extensive3_pruned.txt'\n",
    "FullLabelFile = pd.read_csv(FullLabelPath,names=['ID','label','extra'],sep='\\t',low_memory=False)"
   ],
   "metadata": {
    "collapsed": false,
    "ExecuteTime": {
     "end_time": "2023-11-28T11:17:44.825449749Z",
     "start_time": "2023-11-28T11:17:44.736612332Z"
    }
   },
   "id": "4d668da469b97f05"
  },
  {
   "cell_type": "code",
   "execution_count": 42,
   "outputs": [
    {
     "data": {
      "text/plain": "                                                      ID  label  extra\n0      /data/scratch/r098375/data/parelsnoer_new/NIFT...      7      0\n1      /data/scratch/r098375/data/parelsnoer_new/NIFT...      7      0\n2      /data/scratch/r098375/data/parelsnoer_new/NIFT...      7      0\n3      /data/scratch/r098375/data/parelsnoer_new/NIFT...      7      0\n4      /data/scratch/r098375/data/parelsnoer_new/NIFT...      7      0\n...                                                  ...    ...    ...\n35455  /data/scratch/r098375/data/parelsnoer_new/NIFT...     15      0\n35456  /data/scratch/r098375/data/parelsnoer_new/NIFT...     15      0\n35457  /data/scratch/r098375/data/parelsnoer_new/NIFT...     15      0\n35458  /data/scratch/r098375/data/parelsnoer_new/NIFT...     15      0\n35459  /data/scratch/r098375/data/parelsnoer_new/NIFT...     15      0\n\n[35460 rows x 3 columns]",
      "text/html": "<div>\n<style scoped>\n    .dataframe tbody tr th:only-of-type {\n        vertical-align: middle;\n    }\n\n    .dataframe tbody tr th {\n        vertical-align: top;\n    }\n\n    .dataframe thead th {\n        text-align: right;\n    }\n</style>\n<table border=\"1\" class=\"dataframe\">\n  <thead>\n    <tr style=\"text-align: right;\">\n      <th></th>\n      <th>ID</th>\n      <th>label</th>\n      <th>extra</th>\n    </tr>\n  </thead>\n  <tbody>\n    <tr>\n      <th>0</th>\n      <td>/data/scratch/r098375/data/parelsnoer_new/NIFT...</td>\n      <td>7</td>\n      <td>0</td>\n    </tr>\n    <tr>\n      <th>1</th>\n      <td>/data/scratch/r098375/data/parelsnoer_new/NIFT...</td>\n      <td>7</td>\n      <td>0</td>\n    </tr>\n    <tr>\n      <th>2</th>\n      <td>/data/scratch/r098375/data/parelsnoer_new/NIFT...</td>\n      <td>7</td>\n      <td>0</td>\n    </tr>\n    <tr>\n      <th>3</th>\n      <td>/data/scratch/r098375/data/parelsnoer_new/NIFT...</td>\n      <td>7</td>\n      <td>0</td>\n    </tr>\n    <tr>\n      <th>4</th>\n      <td>/data/scratch/r098375/data/parelsnoer_new/NIFT...</td>\n      <td>7</td>\n      <td>0</td>\n    </tr>\n    <tr>\n      <th>...</th>\n      <td>...</td>\n      <td>...</td>\n      <td>...</td>\n    </tr>\n    <tr>\n      <th>35455</th>\n      <td>/data/scratch/r098375/data/parelsnoer_new/NIFT...</td>\n      <td>15</td>\n      <td>0</td>\n    </tr>\n    <tr>\n      <th>35456</th>\n      <td>/data/scratch/r098375/data/parelsnoer_new/NIFT...</td>\n      <td>15</td>\n      <td>0</td>\n    </tr>\n    <tr>\n      <th>35457</th>\n      <td>/data/scratch/r098375/data/parelsnoer_new/NIFT...</td>\n      <td>15</td>\n      <td>0</td>\n    </tr>\n    <tr>\n      <th>35458</th>\n      <td>/data/scratch/r098375/data/parelsnoer_new/NIFT...</td>\n      <td>15</td>\n      <td>0</td>\n    </tr>\n    <tr>\n      <th>35459</th>\n      <td>/data/scratch/r098375/data/parelsnoer_new/NIFT...</td>\n      <td>15</td>\n      <td>0</td>\n    </tr>\n  </tbody>\n</table>\n<p>35460 rows × 3 columns</p>\n</div>"
     },
     "execution_count": 42,
     "metadata": {},
     "output_type": "execute_result"
    }
   ],
   "source": [
    "FullLabelFile"
   ],
   "metadata": {
    "collapsed": false,
    "ExecuteTime": {
     "end_time": "2023-11-28T11:17:44.828317611Z",
     "start_time": "2023-11-28T11:17:44.777047219Z"
    }
   },
   "id": "b35a5eed24c67fef"
  },
  {
   "cell_type": "code",
   "execution_count": 43,
   "outputs": [
    {
     "data": {
      "text/plain": "label\n14    9600\n0     9195\n7     7350\n15    5235\n3     2475\n13     990\n12     495\n5       75\n1       45\nName: count, dtype: int64"
     },
     "execution_count": 43,
     "metadata": {},
     "output_type": "execute_result"
    }
   ],
   "source": [
    "FullLabelFile['label'].value_counts()"
   ],
   "metadata": {
    "collapsed": false,
    "ExecuteTime": {
     "end_time": "2023-11-28T11:17:44.828607316Z",
     "start_time": "2023-11-28T11:17:44.824637218Z"
    }
   },
   "id": "8328f09caa447141"
  },
  {
   "cell_type": "code",
   "execution_count": 44,
   "outputs": [],
   "source": [
    "amountsPerClass = [1, 5, 10, 20]"
   ],
   "metadata": {
    "collapsed": false,
    "ExecuteTime": {
     "end_time": "2023-11-28T11:17:44.828670737Z",
     "start_time": "2023-11-28T11:17:44.824739153Z"
    }
   },
   "id": "b1ff613a00288ee1"
  },
  {
   "cell_type": "code",
   "execution_count": 45,
   "outputs": [],
   "source": [
    "def extractNiftiFilepathAndSlicenum(df):\n",
    "    ID = df['ID']\n",
    "    split = ID.rsplit('__s', 1)\n",
    "    NiftiPath = split[0]\n",
    "    NiftiPath = NiftiPath.replace('NIFTI_SLICES', 'NIFTI') + '.nii.gz'\n",
    "    slicenum = int(split[1].split('.nii.gz')[0])\n",
    "    return pd.Series({'NiftiPath': NiftiPath, 'slicenum': slicenum})"
   ],
   "metadata": {
    "collapsed": false,
    "ExecuteTime": {
     "end_time": "2023-11-28T11:17:44.828730820Z",
     "start_time": "2023-11-28T11:17:44.824791203Z"
    }
   },
   "id": "8b817f0aebe74b26"
  },
  {
   "cell_type": "code",
   "execution_count": 46,
   "outputs": [],
   "source": [
    "FilepathsAndSlicenums = FullLabelFile.apply(extractNiftiFilepathAndSlicenum, axis=1)"
   ],
   "metadata": {
    "collapsed": false,
    "ExecuteTime": {
     "end_time": "2023-11-28T11:17:50.321490479Z",
     "start_time": "2023-11-28T11:17:44.824822401Z"
    }
   },
   "id": "6d8afb8b297d15fc"
  },
  {
   "cell_type": "code",
   "execution_count": 47,
   "outputs": [],
   "source": [
    "FullLabelFile = FullLabelFile.merge(FilepathsAndSlicenums, left_index=True, right_index=True)"
   ],
   "metadata": {
    "collapsed": false,
    "ExecuteTime": {
     "end_time": "2023-11-28T11:17:50.368761201Z",
     "start_time": "2023-11-28T11:17:50.324579522Z"
    }
   },
   "id": "9fae67c4b9b05e19"
  },
  {
   "cell_type": "code",
   "execution_count": 48,
   "outputs": [
    {
     "data": {
      "text/plain": "                                                      ID  label  extra  \\\n0      /data/scratch/r098375/data/parelsnoer_new/NIFT...      7      0   \n1      /data/scratch/r098375/data/parelsnoer_new/NIFT...      7      0   \n2      /data/scratch/r098375/data/parelsnoer_new/NIFT...      7      0   \n3      /data/scratch/r098375/data/parelsnoer_new/NIFT...      7      0   \n4      /data/scratch/r098375/data/parelsnoer_new/NIFT...      7      0   \n...                                                  ...    ...    ...   \n35455  /data/scratch/r098375/data/parelsnoer_new/NIFT...     15      0   \n35456  /data/scratch/r098375/data/parelsnoer_new/NIFT...     15      0   \n35457  /data/scratch/r098375/data/parelsnoer_new/NIFT...     15      0   \n35458  /data/scratch/r098375/data/parelsnoer_new/NIFT...     15      0   \n35459  /data/scratch/r098375/data/parelsnoer_new/NIFT...     15      0   \n\n                                               NiftiPath  slicenum  \n0      /data/scratch/r098375/data/parelsnoer_new/NIFT...        17  \n1      /data/scratch/r098375/data/parelsnoer_new/NIFT...         5  \n2      /data/scratch/r098375/data/parelsnoer_new/NIFT...         6  \n3      /data/scratch/r098375/data/parelsnoer_new/NIFT...        12  \n4      /data/scratch/r098375/data/parelsnoer_new/NIFT...        18  \n...                                                  ...       ...  \n35455  /data/scratch/r098375/data/parelsnoer_new/NIFT...        11  \n35456  /data/scratch/r098375/data/parelsnoer_new/NIFT...        19  \n35457  /data/scratch/r098375/data/parelsnoer_new/NIFT...         8  \n35458  /data/scratch/r098375/data/parelsnoer_new/NIFT...         9  \n35459  /data/scratch/r098375/data/parelsnoer_new/NIFT...         6  \n\n[35460 rows x 5 columns]",
      "text/html": "<div>\n<style scoped>\n    .dataframe tbody tr th:only-of-type {\n        vertical-align: middle;\n    }\n\n    .dataframe tbody tr th {\n        vertical-align: top;\n    }\n\n    .dataframe thead th {\n        text-align: right;\n    }\n</style>\n<table border=\"1\" class=\"dataframe\">\n  <thead>\n    <tr style=\"text-align: right;\">\n      <th></th>\n      <th>ID</th>\n      <th>label</th>\n      <th>extra</th>\n      <th>NiftiPath</th>\n      <th>slicenum</th>\n    </tr>\n  </thead>\n  <tbody>\n    <tr>\n      <th>0</th>\n      <td>/data/scratch/r098375/data/parelsnoer_new/NIFT...</td>\n      <td>7</td>\n      <td>0</td>\n      <td>/data/scratch/r098375/data/parelsnoer_new/NIFT...</td>\n      <td>17</td>\n    </tr>\n    <tr>\n      <th>1</th>\n      <td>/data/scratch/r098375/data/parelsnoer_new/NIFT...</td>\n      <td>7</td>\n      <td>0</td>\n      <td>/data/scratch/r098375/data/parelsnoer_new/NIFT...</td>\n      <td>5</td>\n    </tr>\n    <tr>\n      <th>2</th>\n      <td>/data/scratch/r098375/data/parelsnoer_new/NIFT...</td>\n      <td>7</td>\n      <td>0</td>\n      <td>/data/scratch/r098375/data/parelsnoer_new/NIFT...</td>\n      <td>6</td>\n    </tr>\n    <tr>\n      <th>3</th>\n      <td>/data/scratch/r098375/data/parelsnoer_new/NIFT...</td>\n      <td>7</td>\n      <td>0</td>\n      <td>/data/scratch/r098375/data/parelsnoer_new/NIFT...</td>\n      <td>12</td>\n    </tr>\n    <tr>\n      <th>4</th>\n      <td>/data/scratch/r098375/data/parelsnoer_new/NIFT...</td>\n      <td>7</td>\n      <td>0</td>\n      <td>/data/scratch/r098375/data/parelsnoer_new/NIFT...</td>\n      <td>18</td>\n    </tr>\n    <tr>\n      <th>...</th>\n      <td>...</td>\n      <td>...</td>\n      <td>...</td>\n      <td>...</td>\n      <td>...</td>\n    </tr>\n    <tr>\n      <th>35455</th>\n      <td>/data/scratch/r098375/data/parelsnoer_new/NIFT...</td>\n      <td>15</td>\n      <td>0</td>\n      <td>/data/scratch/r098375/data/parelsnoer_new/NIFT...</td>\n      <td>11</td>\n    </tr>\n    <tr>\n      <th>35456</th>\n      <td>/data/scratch/r098375/data/parelsnoer_new/NIFT...</td>\n      <td>15</td>\n      <td>0</td>\n      <td>/data/scratch/r098375/data/parelsnoer_new/NIFT...</td>\n      <td>19</td>\n    </tr>\n    <tr>\n      <th>35457</th>\n      <td>/data/scratch/r098375/data/parelsnoer_new/NIFT...</td>\n      <td>15</td>\n      <td>0</td>\n      <td>/data/scratch/r098375/data/parelsnoer_new/NIFT...</td>\n      <td>8</td>\n    </tr>\n    <tr>\n      <th>35458</th>\n      <td>/data/scratch/r098375/data/parelsnoer_new/NIFT...</td>\n      <td>15</td>\n      <td>0</td>\n      <td>/data/scratch/r098375/data/parelsnoer_new/NIFT...</td>\n      <td>9</td>\n    </tr>\n    <tr>\n      <th>35459</th>\n      <td>/data/scratch/r098375/data/parelsnoer_new/NIFT...</td>\n      <td>15</td>\n      <td>0</td>\n      <td>/data/scratch/r098375/data/parelsnoer_new/NIFT...</td>\n      <td>6</td>\n    </tr>\n  </tbody>\n</table>\n<p>35460 rows × 5 columns</p>\n</div>"
     },
     "execution_count": 48,
     "metadata": {},
     "output_type": "execute_result"
    }
   ],
   "source": [
    "FullLabelFile"
   ],
   "metadata": {
    "collapsed": false,
    "ExecuteTime": {
     "end_time": "2023-11-28T11:17:50.369163391Z",
     "start_time": "2023-11-28T11:17:50.368659395Z"
    }
   },
   "id": "4d5965e6829ad966"
  },
  {
   "cell_type": "code",
   "execution_count": 49,
   "outputs": [],
   "source": [
    "for numTrainSamples in amountsPerClass:\n",
    "    extension = os.path.splitext(FullLabelPath)\n",
    "    basename = extension[0]\n",
    "    extension = extension[1]\n",
    "    df_train = pd.DataFrame()\n",
    "    df_test = pd.DataFrame()\n",
    "    for label in FullLabelFile['label'].unique():\n",
    "        outname_train = f'{basename}_s{numTrainSamples}_train{extension}'\n",
    "        outname_test = f'{basename}_s{numTrainSamples}_test{extension}'\n",
    "        LabelFrame = FullLabelFile[FullLabelFile['label']==label]\n",
    "        NiftiNames = LabelFrame['NiftiPath'].unique()\n",
    "        try:\n",
    "            train, test = train_test_split(NiftiNames, train_size=numTrainSamples, shuffle=True, random_state=42)\n",
    "        except:\n",
    "            train = NiftiNames\n",
    "            test = []\n",
    "        for tr in train:\n",
    "            if df_train.empty:\n",
    "                df_train = LabelFrame[LabelFrame['NiftiPath']==tr]\n",
    "            else:\n",
    "                temp = LabelFrame[LabelFrame['NiftiPath']==tr]\n",
    "                df_train = pd.concat([df_train, temp],axis=0)\n",
    "        for te in test:\n",
    "            if df_test.empty:\n",
    "                df_test = LabelFrame[LabelFrame['NiftiPath']==te]\n",
    "            else:\n",
    "                temp = LabelFrame[LabelFrame['NiftiPath']==te]\n",
    "                df_test = pd.concat([df_test, temp],axis=0)\n",
    "        df_train[['ID','label','extra']].to_csv(outname_train, index=False, header=False, sep='\\t')\n",
    "        df_test[['ID','label','extra']].to_csv(outname_test, index=False, header=False, sep='\\t')"
   ],
   "metadata": {
    "collapsed": false,
    "ExecuteTime": {
     "end_time": "2023-11-28T11:18:05.651775984Z",
     "start_time": "2023-11-28T11:17:50.368818780Z"
    }
   },
   "id": "a076ee95bf9730aa"
  },
  {
   "cell_type": "code",
   "execution_count": 50,
   "outputs": [
    {
     "data": {
      "text/plain": "                                                      ID  label  extra  \\\n9630   /data/scratch/r098375/data/parelsnoer_new/NIFT...      7      0   \n9631   /data/scratch/r098375/data/parelsnoer_new/NIFT...      7      0   \n9632   /data/scratch/r098375/data/parelsnoer_new/NIFT...      7      0   \n9633   /data/scratch/r098375/data/parelsnoer_new/NIFT...      7      0   \n9634   /data/scratch/r098375/data/parelsnoer_new/NIFT...      7      0   \n...                                                  ...    ...    ...   \n16270  /data/scratch/r098375/data/parelsnoer_new/NIFT...      1      0   \n16271  /data/scratch/r098375/data/parelsnoer_new/NIFT...      1      0   \n16272  /data/scratch/r098375/data/parelsnoer_new/NIFT...      1      0   \n16273  /data/scratch/r098375/data/parelsnoer_new/NIFT...      1      0   \n16274  /data/scratch/r098375/data/parelsnoer_new/NIFT...      1      0   \n\n                                               NiftiPath  slicenum  \n9630   /data/scratch/r098375/data/parelsnoer_new/NIFT...         8  \n9631   /data/scratch/r098375/data/parelsnoer_new/NIFT...         7  \n9632   /data/scratch/r098375/data/parelsnoer_new/NIFT...        16  \n9633   /data/scratch/r098375/data/parelsnoer_new/NIFT...        10  \n9634   /data/scratch/r098375/data/parelsnoer_new/NIFT...         6  \n...                                                  ...       ...  \n16270  /data/scratch/r098375/data/parelsnoer_new/NIFT...        17  \n16271  /data/scratch/r098375/data/parelsnoer_new/NIFT...        18  \n16272  /data/scratch/r098375/data/parelsnoer_new/NIFT...         7  \n16273  /data/scratch/r098375/data/parelsnoer_new/NIFT...        11  \n16274  /data/scratch/r098375/data/parelsnoer_new/NIFT...        15  \n\n[2220 rows x 5 columns]",
      "text/html": "<div>\n<style scoped>\n    .dataframe tbody tr th:only-of-type {\n        vertical-align: middle;\n    }\n\n    .dataframe tbody tr th {\n        vertical-align: top;\n    }\n\n    .dataframe thead th {\n        text-align: right;\n    }\n</style>\n<table border=\"1\" class=\"dataframe\">\n  <thead>\n    <tr style=\"text-align: right;\">\n      <th></th>\n      <th>ID</th>\n      <th>label</th>\n      <th>extra</th>\n      <th>NiftiPath</th>\n      <th>slicenum</th>\n    </tr>\n  </thead>\n  <tbody>\n    <tr>\n      <th>9630</th>\n      <td>/data/scratch/r098375/data/parelsnoer_new/NIFT...</td>\n      <td>7</td>\n      <td>0</td>\n      <td>/data/scratch/r098375/data/parelsnoer_new/NIFT...</td>\n      <td>8</td>\n    </tr>\n    <tr>\n      <th>9631</th>\n      <td>/data/scratch/r098375/data/parelsnoer_new/NIFT...</td>\n      <td>7</td>\n      <td>0</td>\n      <td>/data/scratch/r098375/data/parelsnoer_new/NIFT...</td>\n      <td>7</td>\n    </tr>\n    <tr>\n      <th>9632</th>\n      <td>/data/scratch/r098375/data/parelsnoer_new/NIFT...</td>\n      <td>7</td>\n      <td>0</td>\n      <td>/data/scratch/r098375/data/parelsnoer_new/NIFT...</td>\n      <td>16</td>\n    </tr>\n    <tr>\n      <th>9633</th>\n      <td>/data/scratch/r098375/data/parelsnoer_new/NIFT...</td>\n      <td>7</td>\n      <td>0</td>\n      <td>/data/scratch/r098375/data/parelsnoer_new/NIFT...</td>\n      <td>10</td>\n    </tr>\n    <tr>\n      <th>9634</th>\n      <td>/data/scratch/r098375/data/parelsnoer_new/NIFT...</td>\n      <td>7</td>\n      <td>0</td>\n      <td>/data/scratch/r098375/data/parelsnoer_new/NIFT...</td>\n      <td>6</td>\n    </tr>\n    <tr>\n      <th>...</th>\n      <td>...</td>\n      <td>...</td>\n      <td>...</td>\n      <td>...</td>\n      <td>...</td>\n    </tr>\n    <tr>\n      <th>16270</th>\n      <td>/data/scratch/r098375/data/parelsnoer_new/NIFT...</td>\n      <td>1</td>\n      <td>0</td>\n      <td>/data/scratch/r098375/data/parelsnoer_new/NIFT...</td>\n      <td>17</td>\n    </tr>\n    <tr>\n      <th>16271</th>\n      <td>/data/scratch/r098375/data/parelsnoer_new/NIFT...</td>\n      <td>1</td>\n      <td>0</td>\n      <td>/data/scratch/r098375/data/parelsnoer_new/NIFT...</td>\n      <td>18</td>\n    </tr>\n    <tr>\n      <th>16272</th>\n      <td>/data/scratch/r098375/data/parelsnoer_new/NIFT...</td>\n      <td>1</td>\n      <td>0</td>\n      <td>/data/scratch/r098375/data/parelsnoer_new/NIFT...</td>\n      <td>7</td>\n    </tr>\n    <tr>\n      <th>16273</th>\n      <td>/data/scratch/r098375/data/parelsnoer_new/NIFT...</td>\n      <td>1</td>\n      <td>0</td>\n      <td>/data/scratch/r098375/data/parelsnoer_new/NIFT...</td>\n      <td>11</td>\n    </tr>\n    <tr>\n      <th>16274</th>\n      <td>/data/scratch/r098375/data/parelsnoer_new/NIFT...</td>\n      <td>1</td>\n      <td>0</td>\n      <td>/data/scratch/r098375/data/parelsnoer_new/NIFT...</td>\n      <td>15</td>\n    </tr>\n  </tbody>\n</table>\n<p>2220 rows × 5 columns</p>\n</div>"
     },
     "execution_count": 50,
     "metadata": {},
     "output_type": "execute_result"
    }
   ],
   "source": [
    "df_train"
   ],
   "metadata": {
    "collapsed": false,
    "ExecuteTime": {
     "end_time": "2023-11-28T11:18:05.661323585Z",
     "start_time": "2023-11-28T11:18:05.657186806Z"
    }
   },
   "id": "ed6375760de64f96"
  },
  {
   "cell_type": "code",
   "execution_count": 51,
   "outputs": [
    {
     "data": {
      "text/plain": "                                                      ID  label  extra  \\\n32895  /data/scratch/r098375/data/parelsnoer_new/NIFT...      7      0   \n32896  /data/scratch/r098375/data/parelsnoer_new/NIFT...      7      0   \n32897  /data/scratch/r098375/data/parelsnoer_new/NIFT...      7      0   \n32898  /data/scratch/r098375/data/parelsnoer_new/NIFT...      7      0   \n32899  /data/scratch/r098375/data/parelsnoer_new/NIFT...      7      0   \n...                                                  ...    ...    ...   \n26680  /data/scratch/r098375/data/parelsnoer_new/NIFT...     13      0   \n26681  /data/scratch/r098375/data/parelsnoer_new/NIFT...     13      0   \n26682  /data/scratch/r098375/data/parelsnoer_new/NIFT...     13      0   \n26683  /data/scratch/r098375/data/parelsnoer_new/NIFT...     13      0   \n26684  /data/scratch/r098375/data/parelsnoer_new/NIFT...     13      0   \n\n                                               NiftiPath  slicenum  \n32895  /data/scratch/r098375/data/parelsnoer_new/NIFT...         8  \n32896  /data/scratch/r098375/data/parelsnoer_new/NIFT...        19  \n32897  /data/scratch/r098375/data/parelsnoer_new/NIFT...         6  \n32898  /data/scratch/r098375/data/parelsnoer_new/NIFT...        10  \n32899  /data/scratch/r098375/data/parelsnoer_new/NIFT...        17  \n...                                                  ...       ...  \n26680  /data/scratch/r098375/data/parelsnoer_new/NIFT...        13  \n26681  /data/scratch/r098375/data/parelsnoer_new/NIFT...         9  \n26682  /data/scratch/r098375/data/parelsnoer_new/NIFT...        12  \n26683  /data/scratch/r098375/data/parelsnoer_new/NIFT...         7  \n26684  /data/scratch/r098375/data/parelsnoer_new/NIFT...        18  \n\n[33240 rows x 5 columns]",
      "text/html": "<div>\n<style scoped>\n    .dataframe tbody tr th:only-of-type {\n        vertical-align: middle;\n    }\n\n    .dataframe tbody tr th {\n        vertical-align: top;\n    }\n\n    .dataframe thead th {\n        text-align: right;\n    }\n</style>\n<table border=\"1\" class=\"dataframe\">\n  <thead>\n    <tr style=\"text-align: right;\">\n      <th></th>\n      <th>ID</th>\n      <th>label</th>\n      <th>extra</th>\n      <th>NiftiPath</th>\n      <th>slicenum</th>\n    </tr>\n  </thead>\n  <tbody>\n    <tr>\n      <th>32895</th>\n      <td>/data/scratch/r098375/data/parelsnoer_new/NIFT...</td>\n      <td>7</td>\n      <td>0</td>\n      <td>/data/scratch/r098375/data/parelsnoer_new/NIFT...</td>\n      <td>8</td>\n    </tr>\n    <tr>\n      <th>32896</th>\n      <td>/data/scratch/r098375/data/parelsnoer_new/NIFT...</td>\n      <td>7</td>\n      <td>0</td>\n      <td>/data/scratch/r098375/data/parelsnoer_new/NIFT...</td>\n      <td>19</td>\n    </tr>\n    <tr>\n      <th>32897</th>\n      <td>/data/scratch/r098375/data/parelsnoer_new/NIFT...</td>\n      <td>7</td>\n      <td>0</td>\n      <td>/data/scratch/r098375/data/parelsnoer_new/NIFT...</td>\n      <td>6</td>\n    </tr>\n    <tr>\n      <th>32898</th>\n      <td>/data/scratch/r098375/data/parelsnoer_new/NIFT...</td>\n      <td>7</td>\n      <td>0</td>\n      <td>/data/scratch/r098375/data/parelsnoer_new/NIFT...</td>\n      <td>10</td>\n    </tr>\n    <tr>\n      <th>32899</th>\n      <td>/data/scratch/r098375/data/parelsnoer_new/NIFT...</td>\n      <td>7</td>\n      <td>0</td>\n      <td>/data/scratch/r098375/data/parelsnoer_new/NIFT...</td>\n      <td>17</td>\n    </tr>\n    <tr>\n      <th>...</th>\n      <td>...</td>\n      <td>...</td>\n      <td>...</td>\n      <td>...</td>\n      <td>...</td>\n    </tr>\n    <tr>\n      <th>26680</th>\n      <td>/data/scratch/r098375/data/parelsnoer_new/NIFT...</td>\n      <td>13</td>\n      <td>0</td>\n      <td>/data/scratch/r098375/data/parelsnoer_new/NIFT...</td>\n      <td>13</td>\n    </tr>\n    <tr>\n      <th>26681</th>\n      <td>/data/scratch/r098375/data/parelsnoer_new/NIFT...</td>\n      <td>13</td>\n      <td>0</td>\n      <td>/data/scratch/r098375/data/parelsnoer_new/NIFT...</td>\n      <td>9</td>\n    </tr>\n    <tr>\n      <th>26682</th>\n      <td>/data/scratch/r098375/data/parelsnoer_new/NIFT...</td>\n      <td>13</td>\n      <td>0</td>\n      <td>/data/scratch/r098375/data/parelsnoer_new/NIFT...</td>\n      <td>12</td>\n    </tr>\n    <tr>\n      <th>26683</th>\n      <td>/data/scratch/r098375/data/parelsnoer_new/NIFT...</td>\n      <td>13</td>\n      <td>0</td>\n      <td>/data/scratch/r098375/data/parelsnoer_new/NIFT...</td>\n      <td>7</td>\n    </tr>\n    <tr>\n      <th>26684</th>\n      <td>/data/scratch/r098375/data/parelsnoer_new/NIFT...</td>\n      <td>13</td>\n      <td>0</td>\n      <td>/data/scratch/r098375/data/parelsnoer_new/NIFT...</td>\n      <td>18</td>\n    </tr>\n  </tbody>\n</table>\n<p>33240 rows × 5 columns</p>\n</div>"
     },
     "execution_count": 51,
     "metadata": {},
     "output_type": "execute_result"
    }
   ],
   "source": [
    "df_test"
   ],
   "metadata": {
    "collapsed": false,
    "ExecuteTime": {
     "end_time": "2023-11-28T11:18:05.774568103Z",
     "start_time": "2023-11-28T11:18:05.666145912Z"
    }
   },
   "id": "650775b72ccf2a36"
  },
  {
   "cell_type": "code",
   "execution_count": 51,
   "outputs": [],
   "source": [],
   "metadata": {
    "collapsed": false,
    "ExecuteTime": {
     "end_time": "2023-11-28T11:18:05.774751068Z",
     "start_time": "2023-11-28T11:18:05.709107880Z"
    }
   },
   "id": "c48b1cf6815996bf"
  }
 ],
 "metadata": {
  "kernelspec": {
   "display_name": "Python 3",
   "language": "python",
   "name": "python3"
  },
  "language_info": {
   "codemirror_mode": {
    "name": "ipython",
    "version": 2
   },
   "file_extension": ".py",
   "mimetype": "text/x-python",
   "name": "python",
   "nbconvert_exporter": "python",
   "pygments_lexer": "ipython2",
   "version": "2.7.6"
  }
 },
 "nbformat": 4,
 "nbformat_minor": 5
}
