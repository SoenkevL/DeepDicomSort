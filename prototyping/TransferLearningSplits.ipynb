{
 "cells": [
  {
   "cell_type": "code",
   "execution_count": 73,
   "id": "initial_id",
   "metadata": {
    "collapsed": true,
    "ExecuteTime": {
     "end_time": "2023-10-23T12:23:41.094292576Z",
     "start_time": "2023-10-23T12:23:41.032976165Z"
    }
   },
   "outputs": [],
   "source": [
    "import pandas as pd\n",
    "from sklearn.model_selection import train_test_split\n",
    "import os"
   ]
  },
  {
   "cell_type": "code",
   "execution_count": 74,
   "outputs": [],
   "source": [
    "FullLabelPath = 'egd_trainLabels_extensive2.txt'\n",
    "FullLabelFile = pd.read_csv(FullLabelPath,names=['ID','label','extra'],sep='\\t',low_memory=False)"
   ],
   "metadata": {
    "collapsed": false,
    "ExecuteTime": {
     "end_time": "2023-10-23T12:23:41.133937356Z",
     "start_time": "2023-10-23T12:23:41.081406829Z"
    }
   },
   "id": "4d668da469b97f05"
  },
  {
   "cell_type": "code",
   "execution_count": 75,
   "outputs": [
    {
     "data": {
      "text/plain": "                                                      ID  label  extra\n0      /trinity/home/r098375/DDS/data/egd/NIFTI_SLICE...      0      0\n1      /trinity/home/r098375/DDS/data/egd/NIFTI_SLICE...      0      0\n2      /trinity/home/r098375/DDS/data/egd/NIFTI_SLICE...      0      0\n3      /trinity/home/r098375/DDS/data/egd/NIFTI_SLICE...      0      0\n4      /trinity/home/r098375/DDS/data/egd/NIFTI_SLICE...      0      0\n...                                                  ...    ...    ...\n42195  /trinity/home/r098375/DDS/data/egd/NIFTI_SLICE...      9      0\n42196  /trinity/home/r098375/DDS/data/egd/NIFTI_SLICE...      9      0\n42197  /trinity/home/r098375/DDS/data/egd/NIFTI_SLICE...      9      0\n42198  /trinity/home/r098375/DDS/data/egd/NIFTI_SLICE...      9      0\n42199  /trinity/home/r098375/DDS/data/egd/NIFTI_SLICE...      9      0\n\n[42200 rows x 3 columns]",
      "text/html": "<div>\n<style scoped>\n    .dataframe tbody tr th:only-of-type {\n        vertical-align: middle;\n    }\n\n    .dataframe tbody tr th {\n        vertical-align: top;\n    }\n\n    .dataframe thead th {\n        text-align: right;\n    }\n</style>\n<table border=\"1\" class=\"dataframe\">\n  <thead>\n    <tr style=\"text-align: right;\">\n      <th></th>\n      <th>ID</th>\n      <th>label</th>\n      <th>extra</th>\n    </tr>\n  </thead>\n  <tbody>\n    <tr>\n      <th>0</th>\n      <td>/trinity/home/r098375/DDS/data/egd/NIFTI_SLICE...</td>\n      <td>0</td>\n      <td>0</td>\n    </tr>\n    <tr>\n      <th>1</th>\n      <td>/trinity/home/r098375/DDS/data/egd/NIFTI_SLICE...</td>\n      <td>0</td>\n      <td>0</td>\n    </tr>\n    <tr>\n      <th>2</th>\n      <td>/trinity/home/r098375/DDS/data/egd/NIFTI_SLICE...</td>\n      <td>0</td>\n      <td>0</td>\n    </tr>\n    <tr>\n      <th>3</th>\n      <td>/trinity/home/r098375/DDS/data/egd/NIFTI_SLICE...</td>\n      <td>0</td>\n      <td>0</td>\n    </tr>\n    <tr>\n      <th>4</th>\n      <td>/trinity/home/r098375/DDS/data/egd/NIFTI_SLICE...</td>\n      <td>0</td>\n      <td>0</td>\n    </tr>\n    <tr>\n      <th>...</th>\n      <td>...</td>\n      <td>...</td>\n      <td>...</td>\n    </tr>\n    <tr>\n      <th>42195</th>\n      <td>/trinity/home/r098375/DDS/data/egd/NIFTI_SLICE...</td>\n      <td>9</td>\n      <td>0</td>\n    </tr>\n    <tr>\n      <th>42196</th>\n      <td>/trinity/home/r098375/DDS/data/egd/NIFTI_SLICE...</td>\n      <td>9</td>\n      <td>0</td>\n    </tr>\n    <tr>\n      <th>42197</th>\n      <td>/trinity/home/r098375/DDS/data/egd/NIFTI_SLICE...</td>\n      <td>9</td>\n      <td>0</td>\n    </tr>\n    <tr>\n      <th>42198</th>\n      <td>/trinity/home/r098375/DDS/data/egd/NIFTI_SLICE...</td>\n      <td>9</td>\n      <td>0</td>\n    </tr>\n    <tr>\n      <th>42199</th>\n      <td>/trinity/home/r098375/DDS/data/egd/NIFTI_SLICE...</td>\n      <td>9</td>\n      <td>0</td>\n    </tr>\n  </tbody>\n</table>\n<p>42200 rows × 3 columns</p>\n</div>"
     },
     "execution_count": 75,
     "metadata": {},
     "output_type": "execute_result"
    }
   ],
   "source": [
    "FullLabelFile"
   ],
   "metadata": {
    "collapsed": false,
    "ExecuteTime": {
     "end_time": "2023-10-23T12:23:41.182280756Z",
     "start_time": "2023-10-23T12:23:41.138675092Z"
    }
   },
   "id": "b35a5eed24c67fef"
  },
  {
   "cell_type": "code",
   "execution_count": 76,
   "outputs": [
    {
     "data": {
      "text/plain": "label\n1     8500\n9     8375\n0     6400\n2     5750\n13    5250\n3     5075\n10    2225\n17     625\nName: count, dtype: int64"
     },
     "execution_count": 76,
     "metadata": {},
     "output_type": "execute_result"
    }
   ],
   "source": [
    "FullLabelFile['label'].value_counts()"
   ],
   "metadata": {
    "collapsed": false,
    "ExecuteTime": {
     "end_time": "2023-10-23T12:23:41.183026323Z",
     "start_time": "2023-10-23T12:23:41.181585653Z"
    }
   },
   "id": "8328f09caa447141"
  },
  {
   "cell_type": "code",
   "execution_count": 77,
   "outputs": [],
   "source": [
    "amountsPerClass = [1, 5, 10, 20]"
   ],
   "metadata": {
    "collapsed": false,
    "ExecuteTime": {
     "end_time": "2023-10-23T12:23:41.183352503Z",
     "start_time": "2023-10-23T12:23:41.181801171Z"
    }
   },
   "id": "b1ff613a00288ee1"
  },
  {
   "cell_type": "code",
   "execution_count": 78,
   "outputs": [],
   "source": [
    "def extractNiftiFilepathAndSlicenum(df):\n",
    "    ID = df['ID']\n",
    "    split = ID.rsplit('__s', 1)\n",
    "    NiftiPath = split[0]\n",
    "    NiftiPath = NiftiPath.replace('NIFTI_SLICES', 'NIFTI') + '.nii.gz'\n",
    "    slicenum = int(split[1].split('.nii.gz')[0])\n",
    "    return pd.Series({'NiftiPath': NiftiPath, 'slicenum': slicenum})"
   ],
   "metadata": {
    "collapsed": false,
    "ExecuteTime": {
     "end_time": "2023-10-23T12:23:41.183456971Z",
     "start_time": "2023-10-23T12:23:41.181947424Z"
    }
   },
   "id": "8b817f0aebe74b26"
  },
  {
   "cell_type": "code",
   "execution_count": 79,
   "outputs": [],
   "source": [
    "FilepathsAndSlicenums = FullLabelFile.apply(extractNiftiFilepathAndSlicenum, axis=1)"
   ],
   "metadata": {
    "collapsed": false,
    "ExecuteTime": {
     "end_time": "2023-10-23T12:23:48.410378902Z",
     "start_time": "2023-10-23T12:23:41.182075302Z"
    }
   },
   "id": "6d8afb8b297d15fc"
  },
  {
   "cell_type": "code",
   "execution_count": 80,
   "outputs": [],
   "source": [
    "FullLabelFile = FullLabelFile.merge(FilepathsAndSlicenums, left_index=True, right_index=True)"
   ],
   "metadata": {
    "collapsed": false,
    "ExecuteTime": {
     "end_time": "2023-10-23T12:23:48.423356672Z",
     "start_time": "2023-10-23T12:23:48.413514702Z"
    }
   },
   "id": "9fae67c4b9b05e19"
  },
  {
   "cell_type": "code",
   "execution_count": 86,
   "outputs": [
    {
     "data": {
      "text/plain": "                                                      ID  label  extra  \\\n0      /trinity/home/r098375/DDS/data/egd/NIFTI_SLICE...      0      0   \n1      /trinity/home/r098375/DDS/data/egd/NIFTI_SLICE...      0      0   \n2      /trinity/home/r098375/DDS/data/egd/NIFTI_SLICE...      0      0   \n3      /trinity/home/r098375/DDS/data/egd/NIFTI_SLICE...      0      0   \n4      /trinity/home/r098375/DDS/data/egd/NIFTI_SLICE...      0      0   \n...                                                  ...    ...    ...   \n42195  /trinity/home/r098375/DDS/data/egd/NIFTI_SLICE...      9      0   \n42196  /trinity/home/r098375/DDS/data/egd/NIFTI_SLICE...      9      0   \n42197  /trinity/home/r098375/DDS/data/egd/NIFTI_SLICE...      9      0   \n42198  /trinity/home/r098375/DDS/data/egd/NIFTI_SLICE...      9      0   \n42199  /trinity/home/r098375/DDS/data/egd/NIFTI_SLICE...      9      0   \n\n                                               NiftiPath  slicenum  \n0      /trinity/home/r098375/DDS/data/egd/NIFTI/MR_61...        17  \n1      /trinity/home/r098375/DDS/data/egd/NIFTI/MR_61...         1  \n2      /trinity/home/r098375/DDS/data/egd/NIFTI/MR_61...        10  \n3      /trinity/home/r098375/DDS/data/egd/NIFTI/MR_61...        13  \n4      /trinity/home/r098375/DDS/data/egd/NIFTI/MR_61...        15  \n...                                                  ...       ...  \n42195  /trinity/home/r098375/DDS/data/egd/NIFTI/MR_20...         4  \n42196  /trinity/home/r098375/DDS/data/egd/NIFTI/MR_20...         3  \n42197  /trinity/home/r098375/DDS/data/egd/NIFTI/MR_20...        19  \n42198  /trinity/home/r098375/DDS/data/egd/NIFTI/MR_20...        17  \n42199  /trinity/home/r098375/DDS/data/egd/NIFTI/MR_20...        24  \n\n[42200 rows x 5 columns]",
      "text/html": "<div>\n<style scoped>\n    .dataframe tbody tr th:only-of-type {\n        vertical-align: middle;\n    }\n\n    .dataframe tbody tr th {\n        vertical-align: top;\n    }\n\n    .dataframe thead th {\n        text-align: right;\n    }\n</style>\n<table border=\"1\" class=\"dataframe\">\n  <thead>\n    <tr style=\"text-align: right;\">\n      <th></th>\n      <th>ID</th>\n      <th>label</th>\n      <th>extra</th>\n      <th>NiftiPath</th>\n      <th>slicenum</th>\n    </tr>\n  </thead>\n  <tbody>\n    <tr>\n      <th>0</th>\n      <td>/trinity/home/r098375/DDS/data/egd/NIFTI_SLICE...</td>\n      <td>0</td>\n      <td>0</td>\n      <td>/trinity/home/r098375/DDS/data/egd/NIFTI/MR_61...</td>\n      <td>17</td>\n    </tr>\n    <tr>\n      <th>1</th>\n      <td>/trinity/home/r098375/DDS/data/egd/NIFTI_SLICE...</td>\n      <td>0</td>\n      <td>0</td>\n      <td>/trinity/home/r098375/DDS/data/egd/NIFTI/MR_61...</td>\n      <td>1</td>\n    </tr>\n    <tr>\n      <th>2</th>\n      <td>/trinity/home/r098375/DDS/data/egd/NIFTI_SLICE...</td>\n      <td>0</td>\n      <td>0</td>\n      <td>/trinity/home/r098375/DDS/data/egd/NIFTI/MR_61...</td>\n      <td>10</td>\n    </tr>\n    <tr>\n      <th>3</th>\n      <td>/trinity/home/r098375/DDS/data/egd/NIFTI_SLICE...</td>\n      <td>0</td>\n      <td>0</td>\n      <td>/trinity/home/r098375/DDS/data/egd/NIFTI/MR_61...</td>\n      <td>13</td>\n    </tr>\n    <tr>\n      <th>4</th>\n      <td>/trinity/home/r098375/DDS/data/egd/NIFTI_SLICE...</td>\n      <td>0</td>\n      <td>0</td>\n      <td>/trinity/home/r098375/DDS/data/egd/NIFTI/MR_61...</td>\n      <td>15</td>\n    </tr>\n    <tr>\n      <th>...</th>\n      <td>...</td>\n      <td>...</td>\n      <td>...</td>\n      <td>...</td>\n      <td>...</td>\n    </tr>\n    <tr>\n      <th>42195</th>\n      <td>/trinity/home/r098375/DDS/data/egd/NIFTI_SLICE...</td>\n      <td>9</td>\n      <td>0</td>\n      <td>/trinity/home/r098375/DDS/data/egd/NIFTI/MR_20...</td>\n      <td>4</td>\n    </tr>\n    <tr>\n      <th>42196</th>\n      <td>/trinity/home/r098375/DDS/data/egd/NIFTI_SLICE...</td>\n      <td>9</td>\n      <td>0</td>\n      <td>/trinity/home/r098375/DDS/data/egd/NIFTI/MR_20...</td>\n      <td>3</td>\n    </tr>\n    <tr>\n      <th>42197</th>\n      <td>/trinity/home/r098375/DDS/data/egd/NIFTI_SLICE...</td>\n      <td>9</td>\n      <td>0</td>\n      <td>/trinity/home/r098375/DDS/data/egd/NIFTI/MR_20...</td>\n      <td>19</td>\n    </tr>\n    <tr>\n      <th>42198</th>\n      <td>/trinity/home/r098375/DDS/data/egd/NIFTI_SLICE...</td>\n      <td>9</td>\n      <td>0</td>\n      <td>/trinity/home/r098375/DDS/data/egd/NIFTI/MR_20...</td>\n      <td>17</td>\n    </tr>\n    <tr>\n      <th>42199</th>\n      <td>/trinity/home/r098375/DDS/data/egd/NIFTI_SLICE...</td>\n      <td>9</td>\n      <td>0</td>\n      <td>/trinity/home/r098375/DDS/data/egd/NIFTI/MR_20...</td>\n      <td>24</td>\n    </tr>\n  </tbody>\n</table>\n<p>42200 rows × 5 columns</p>\n</div>"
     },
     "execution_count": 86,
     "metadata": {},
     "output_type": "execute_result"
    }
   ],
   "source": [
    "FullLabelFile"
   ],
   "metadata": {
    "collapsed": false,
    "ExecuteTime": {
     "end_time": "2023-10-23T12:26:08.677400035Z",
     "start_time": "2023-10-23T12:26:08.630866140Z"
    }
   },
   "id": "4d5965e6829ad966"
  },
  {
   "cell_type": "code",
   "execution_count": 93,
   "outputs": [],
   "source": [
    "for numTrainSamples in amountsPerClass:\n",
    "    extension = os.path.splitext(FullLabelPath)\n",
    "    basename = extension[0]\n",
    "    extension = extension[1]\n",
    "    df = pd.DataFrame()\n",
    "    for label in FullLabelFile['label'].unique():\n",
    "        outname = f'{basename}_s{numTrainSamples}{extension}'\n",
    "        LabelFrame = FullLabelFile[FullLabelFile['label']==label]\n",
    "        NiftiNames = LabelFrame['NiftiPath'].unique()\n",
    "        train, test = train_test_split(NiftiNames, train_size=numTrainSamples, shuffle=True, random_state=42)\n",
    "        for t in train:\n",
    "            if df.empty:\n",
    "                df = LabelFrame[LabelFrame['NiftiPath']==t]\n",
    "            else:\n",
    "                temp = LabelFrame[LabelFrame['NiftiPath']==t]\n",
    "                df = pd.concat([df, temp],axis=0)\n",
    "        df[['ID','label','extra']].to_csv(outname, index=False, header=False, sep='\\t')"
   ],
   "metadata": {
    "collapsed": false,
    "ExecuteTime": {
     "end_time": "2023-10-23T12:27:58.395439979Z",
     "start_time": "2023-10-23T12:27:57.848920775Z"
    }
   },
   "id": "a076ee95bf9730aa"
  },
  {
   "cell_type": "code",
   "execution_count": 94,
   "outputs": [
    {
     "data": {
      "text/plain": "                                                      ID  label  extra  \\\n22300  /trinity/home/r098375/DDS/data/egd/NIFTI_SLICE...      0      0   \n22301  /trinity/home/r098375/DDS/data/egd/NIFTI_SLICE...      0      0   \n22302  /trinity/home/r098375/DDS/data/egd/NIFTI_SLICE...      0      0   \n22303  /trinity/home/r098375/DDS/data/egd/NIFTI_SLICE...      0      0   \n22304  /trinity/home/r098375/DDS/data/egd/NIFTI_SLICE...      0      0   \n...                                                  ...    ...    ...   \n13120  /trinity/home/r098375/DDS/data/egd/NIFTI_SLICE...      9      0   \n13121  /trinity/home/r098375/DDS/data/egd/NIFTI_SLICE...      9      0   \n13122  /trinity/home/r098375/DDS/data/egd/NIFTI_SLICE...      9      0   \n13123  /trinity/home/r098375/DDS/data/egd/NIFTI_SLICE...      9      0   \n13124  /trinity/home/r098375/DDS/data/egd/NIFTI_SLICE...      9      0   \n\n                                               NiftiPath  slicenum  \n22300  /trinity/home/r098375/DDS/data/egd/NIFTI/MR_15...        23  \n22301  /trinity/home/r098375/DDS/data/egd/NIFTI/MR_15...         9  \n22302  /trinity/home/r098375/DDS/data/egd/NIFTI/MR_15...        14  \n22303  /trinity/home/r098375/DDS/data/egd/NIFTI/MR_15...        12  \n22304  /trinity/home/r098375/DDS/data/egd/NIFTI/MR_15...         0  \n...                                                  ...       ...  \n13120  /trinity/home/r098375/DDS/data/egd/NIFTI/MR_20...        14  \n13121  /trinity/home/r098375/DDS/data/egd/NIFTI/MR_20...        11  \n13122  /trinity/home/r098375/DDS/data/egd/NIFTI/MR_20...         6  \n13123  /trinity/home/r098375/DDS/data/egd/NIFTI/MR_20...         5  \n13124  /trinity/home/r098375/DDS/data/egd/NIFTI/MR_20...         8  \n\n[4150 rows x 5 columns]",
      "text/html": "<div>\n<style scoped>\n    .dataframe tbody tr th:only-of-type {\n        vertical-align: middle;\n    }\n\n    .dataframe tbody tr th {\n        vertical-align: top;\n    }\n\n    .dataframe thead th {\n        text-align: right;\n    }\n</style>\n<table border=\"1\" class=\"dataframe\">\n  <thead>\n    <tr style=\"text-align: right;\">\n      <th></th>\n      <th>ID</th>\n      <th>label</th>\n      <th>extra</th>\n      <th>NiftiPath</th>\n      <th>slicenum</th>\n    </tr>\n  </thead>\n  <tbody>\n    <tr>\n      <th>22300</th>\n      <td>/trinity/home/r098375/DDS/data/egd/NIFTI_SLICE...</td>\n      <td>0</td>\n      <td>0</td>\n      <td>/trinity/home/r098375/DDS/data/egd/NIFTI/MR_15...</td>\n      <td>23</td>\n    </tr>\n    <tr>\n      <th>22301</th>\n      <td>/trinity/home/r098375/DDS/data/egd/NIFTI_SLICE...</td>\n      <td>0</td>\n      <td>0</td>\n      <td>/trinity/home/r098375/DDS/data/egd/NIFTI/MR_15...</td>\n      <td>9</td>\n    </tr>\n    <tr>\n      <th>22302</th>\n      <td>/trinity/home/r098375/DDS/data/egd/NIFTI_SLICE...</td>\n      <td>0</td>\n      <td>0</td>\n      <td>/trinity/home/r098375/DDS/data/egd/NIFTI/MR_15...</td>\n      <td>14</td>\n    </tr>\n    <tr>\n      <th>22303</th>\n      <td>/trinity/home/r098375/DDS/data/egd/NIFTI_SLICE...</td>\n      <td>0</td>\n      <td>0</td>\n      <td>/trinity/home/r098375/DDS/data/egd/NIFTI/MR_15...</td>\n      <td>12</td>\n    </tr>\n    <tr>\n      <th>22304</th>\n      <td>/trinity/home/r098375/DDS/data/egd/NIFTI_SLICE...</td>\n      <td>0</td>\n      <td>0</td>\n      <td>/trinity/home/r098375/DDS/data/egd/NIFTI/MR_15...</td>\n      <td>0</td>\n    </tr>\n    <tr>\n      <th>...</th>\n      <td>...</td>\n      <td>...</td>\n      <td>...</td>\n      <td>...</td>\n      <td>...</td>\n    </tr>\n    <tr>\n      <th>13120</th>\n      <td>/trinity/home/r098375/DDS/data/egd/NIFTI_SLICE...</td>\n      <td>9</td>\n      <td>0</td>\n      <td>/trinity/home/r098375/DDS/data/egd/NIFTI/MR_20...</td>\n      <td>14</td>\n    </tr>\n    <tr>\n      <th>13121</th>\n      <td>/trinity/home/r098375/DDS/data/egd/NIFTI_SLICE...</td>\n      <td>9</td>\n      <td>0</td>\n      <td>/trinity/home/r098375/DDS/data/egd/NIFTI/MR_20...</td>\n      <td>11</td>\n    </tr>\n    <tr>\n      <th>13122</th>\n      <td>/trinity/home/r098375/DDS/data/egd/NIFTI_SLICE...</td>\n      <td>9</td>\n      <td>0</td>\n      <td>/trinity/home/r098375/DDS/data/egd/NIFTI/MR_20...</td>\n      <td>6</td>\n    </tr>\n    <tr>\n      <th>13123</th>\n      <td>/trinity/home/r098375/DDS/data/egd/NIFTI_SLICE...</td>\n      <td>9</td>\n      <td>0</td>\n      <td>/trinity/home/r098375/DDS/data/egd/NIFTI/MR_20...</td>\n      <td>5</td>\n    </tr>\n    <tr>\n      <th>13124</th>\n      <td>/trinity/home/r098375/DDS/data/egd/NIFTI_SLICE...</td>\n      <td>9</td>\n      <td>0</td>\n      <td>/trinity/home/r098375/DDS/data/egd/NIFTI/MR_20...</td>\n      <td>8</td>\n    </tr>\n  </tbody>\n</table>\n<p>4150 rows × 5 columns</p>\n</div>"
     },
     "execution_count": 94,
     "metadata": {},
     "output_type": "execute_result"
    }
   ],
   "source": [
    "df"
   ],
   "metadata": {
    "collapsed": false,
    "ExecuteTime": {
     "end_time": "2023-10-23T12:28:00.511980237Z",
     "start_time": "2023-10-23T12:28:00.497402683Z"
    }
   },
   "id": "ed6375760de64f96"
  },
  {
   "cell_type": "code",
   "execution_count": 95,
   "outputs": [],
   "source": [
    "control = 'egd_trainLabels_extensive2_s10.txt'\n",
    "ControlLabelFile = pd.read_csv(control,names=['ID','label','extra'],sep='\\t',low_memory=False)"
   ],
   "metadata": {
    "collapsed": false,
    "ExecuteTime": {
     "end_time": "2023-10-23T12:28:00.677712193Z",
     "start_time": "2023-10-23T12:28:00.677422067Z"
    }
   },
   "id": "ffac2d7aa1f7b508"
  },
  {
   "cell_type": "code",
   "execution_count": 96,
   "outputs": [
    {
     "data": {
      "text/plain": "label\n1     275\n0     250\n10    250\n2     250\n3     250\n17    250\n13    250\n9     250\nName: count, dtype: int64"
     },
     "execution_count": 96,
     "metadata": {},
     "output_type": "execute_result"
    }
   ],
   "source": [
    "ControlLabelFile['label'].value_counts()"
   ],
   "metadata": {
    "collapsed": false,
    "ExecuteTime": {
     "end_time": "2023-10-23T12:28:00.897684392Z",
     "start_time": "2023-10-23T12:28:00.853851429Z"
    }
   },
   "id": "a5f499af2c5e9dd5"
  },
  {
   "cell_type": "code",
   "execution_count": 85,
   "outputs": [],
   "source": [],
   "metadata": {
    "collapsed": false,
    "ExecuteTime": {
     "end_time": "2023-10-23T12:23:49.210861901Z",
     "start_time": "2023-10-23T12:23:49.209654036Z"
    }
   },
   "id": "c48b1cf6815996bf"
  }
 ],
 "metadata": {
  "kernelspec": {
   "display_name": "Python 3",
   "language": "python",
   "name": "python3"
  },
  "language_info": {
   "codemirror_mode": {
    "name": "ipython",
    "version": 2
   },
   "file_extension": ".py",
   "mimetype": "text/x-python",
   "name": "python",
   "nbconvert_exporter": "python",
   "pygments_lexer": "ipython2",
   "version": "2.7.6"
  }
 },
 "nbformat": 4,
 "nbformat_minor": 5
}
