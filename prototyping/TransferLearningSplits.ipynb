{
 "cells": [
  {
   "cell_type": "code",
   "execution_count": 40,
   "id": "initial_id",
   "metadata": {
    "collapsed": true,
    "ExecuteTime": {
     "end_time": "2023-11-21T08:28:25.337123532Z",
     "start_time": "2023-11-21T08:28:25.258607276Z"
    }
   },
   "outputs": [],
   "source": [
    "import pandas as pd\n",
    "from sklearn.model_selection import train_test_split\n",
    "import os"
   ]
  },
  {
   "cell_type": "code",
   "execution_count": 41,
   "outputs": [],
   "source": [
    "FullLabelPath = 'parelsnoer/parelsnoer_Labels_extensive3_pruned_alternative_binning.txt'\n",
    "FullLabelFile = pd.read_csv(FullLabelPath,names=['ID','label','extra'],sep='\\t',low_memory=False)"
   ],
   "metadata": {
    "collapsed": false,
    "ExecuteTime": {
     "end_time": "2023-11-21T08:28:25.338228769Z",
     "start_time": "2023-11-21T08:28:25.309601420Z"
    }
   },
   "id": "4d668da469b97f05"
  },
  {
   "cell_type": "code",
   "execution_count": 42,
   "outputs": [
    {
     "data": {
      "text/plain": "                                                      ID  label  extra\n0      /trinity/home/r098375/DDS/data/parelsnoer/NIFT...      0      0\n1      /trinity/home/r098375/DDS/data/parelsnoer/NIFT...      0      0\n2      /trinity/home/r098375/DDS/data/parelsnoer/NIFT...      0      0\n3      /trinity/home/r098375/DDS/data/parelsnoer/NIFT...      0      0\n4      /trinity/home/r098375/DDS/data/parelsnoer/NIFT...      0      0\n...                                                  ...    ...    ...\n11140  /trinity/home/r098375/DDS/data/parelsnoer/NIFT...      0      0\n11141  /trinity/home/r098375/DDS/data/parelsnoer/NIFT...      0      0\n11142  /trinity/home/r098375/DDS/data/parelsnoer/NIFT...      0      0\n11143  /trinity/home/r098375/DDS/data/parelsnoer/NIFT...      0      0\n11144  /trinity/home/r098375/DDS/data/parelsnoer/NIFT...      0      0\n\n[11145 rows x 3 columns]",
      "text/html": "<div>\n<style scoped>\n    .dataframe tbody tr th:only-of-type {\n        vertical-align: middle;\n    }\n\n    .dataframe tbody tr th {\n        vertical-align: top;\n    }\n\n    .dataframe thead th {\n        text-align: right;\n    }\n</style>\n<table border=\"1\" class=\"dataframe\">\n  <thead>\n    <tr style=\"text-align: right;\">\n      <th></th>\n      <th>ID</th>\n      <th>label</th>\n      <th>extra</th>\n    </tr>\n  </thead>\n  <tbody>\n    <tr>\n      <th>0</th>\n      <td>/trinity/home/r098375/DDS/data/parelsnoer/NIFT...</td>\n      <td>0</td>\n      <td>0</td>\n    </tr>\n    <tr>\n      <th>1</th>\n      <td>/trinity/home/r098375/DDS/data/parelsnoer/NIFT...</td>\n      <td>0</td>\n      <td>0</td>\n    </tr>\n    <tr>\n      <th>2</th>\n      <td>/trinity/home/r098375/DDS/data/parelsnoer/NIFT...</td>\n      <td>0</td>\n      <td>0</td>\n    </tr>\n    <tr>\n      <th>3</th>\n      <td>/trinity/home/r098375/DDS/data/parelsnoer/NIFT...</td>\n      <td>0</td>\n      <td>0</td>\n    </tr>\n    <tr>\n      <th>4</th>\n      <td>/trinity/home/r098375/DDS/data/parelsnoer/NIFT...</td>\n      <td>0</td>\n      <td>0</td>\n    </tr>\n    <tr>\n      <th>...</th>\n      <td>...</td>\n      <td>...</td>\n      <td>...</td>\n    </tr>\n    <tr>\n      <th>11140</th>\n      <td>/trinity/home/r098375/DDS/data/parelsnoer/NIFT...</td>\n      <td>0</td>\n      <td>0</td>\n    </tr>\n    <tr>\n      <th>11141</th>\n      <td>/trinity/home/r098375/DDS/data/parelsnoer/NIFT...</td>\n      <td>0</td>\n      <td>0</td>\n    </tr>\n    <tr>\n      <th>11142</th>\n      <td>/trinity/home/r098375/DDS/data/parelsnoer/NIFT...</td>\n      <td>0</td>\n      <td>0</td>\n    </tr>\n    <tr>\n      <th>11143</th>\n      <td>/trinity/home/r098375/DDS/data/parelsnoer/NIFT...</td>\n      <td>0</td>\n      <td>0</td>\n    </tr>\n    <tr>\n      <th>11144</th>\n      <td>/trinity/home/r098375/DDS/data/parelsnoer/NIFT...</td>\n      <td>0</td>\n      <td>0</td>\n    </tr>\n  </tbody>\n</table>\n<p>11145 rows × 3 columns</p>\n</div>"
     },
     "execution_count": 42,
     "metadata": {},
     "output_type": "execute_result"
    }
   ],
   "source": [
    "FullLabelFile"
   ],
   "metadata": {
    "collapsed": false,
    "ExecuteTime": {
     "end_time": "2023-11-21T08:28:25.370292937Z",
     "start_time": "2023-11-21T08:28:25.318125797Z"
    }
   },
   "id": "b35a5eed24c67fef"
  },
  {
   "cell_type": "code",
   "execution_count": 43,
   "outputs": [
    {
     "data": {
      "text/plain": "label\n0    7305\n3    2520\n1     990\n8     195\n5      75\n4      30\n2      30\nName: count, dtype: int64"
     },
     "execution_count": 43,
     "metadata": {},
     "output_type": "execute_result"
    }
   ],
   "source": [
    "FullLabelFile['label'].value_counts()"
   ],
   "metadata": {
    "collapsed": false,
    "ExecuteTime": {
     "end_time": "2023-11-21T08:28:25.370655159Z",
     "start_time": "2023-11-21T08:28:25.361717468Z"
    }
   },
   "id": "8328f09caa447141"
  },
  {
   "cell_type": "code",
   "execution_count": 44,
   "outputs": [],
   "source": [
    "FullLabelFile.loc[FullLabelFile['label']==5,'label']=2"
   ],
   "metadata": {
    "collapsed": false,
    "ExecuteTime": {
     "end_time": "2023-11-21T08:28:25.370788664Z",
     "start_time": "2023-11-21T08:28:25.361861588Z"
    }
   },
   "id": "bec7e398c8b92048"
  },
  {
   "cell_type": "code",
   "execution_count": 45,
   "outputs": [],
   "source": [
    "amountsPerClass = [1, 5, 10, 20]"
   ],
   "metadata": {
    "collapsed": false,
    "ExecuteTime": {
     "end_time": "2023-11-21T08:28:25.370886877Z",
     "start_time": "2023-11-21T08:28:25.361934388Z"
    }
   },
   "id": "b1ff613a00288ee1"
  },
  {
   "cell_type": "code",
   "execution_count": 46,
   "outputs": [],
   "source": [
    "def extractNiftiFilepathAndSlicenum(df):\n",
    "    ID = df['ID']\n",
    "    split = ID.rsplit('__s', 1)\n",
    "    NiftiPath = split[0]\n",
    "    NiftiPath = NiftiPath.replace('NIFTI_SLICES', 'NIFTI') + '.nii.gz'\n",
    "    slicenum = int(split[1].split('.nii.gz')[0])\n",
    "    return pd.Series({'NiftiPath': NiftiPath, 'slicenum': slicenum})"
   ],
   "metadata": {
    "collapsed": false,
    "ExecuteTime": {
     "end_time": "2023-11-21T08:28:25.370977619Z",
     "start_time": "2023-11-21T08:28:25.362002184Z"
    }
   },
   "id": "8b817f0aebe74b26"
  },
  {
   "cell_type": "code",
   "execution_count": 47,
   "outputs": [],
   "source": [
    "FilepathsAndSlicenums = FullLabelFile.apply(extractNiftiFilepathAndSlicenum, axis=1)"
   ],
   "metadata": {
    "collapsed": false,
    "ExecuteTime": {
     "end_time": "2023-11-21T08:28:27.448993126Z",
     "start_time": "2023-11-21T08:28:25.362093048Z"
    }
   },
   "id": "6d8afb8b297d15fc"
  },
  {
   "cell_type": "code",
   "execution_count": 48,
   "outputs": [],
   "source": [
    "FullLabelFile = FullLabelFile.merge(FilepathsAndSlicenums, left_index=True, right_index=True)"
   ],
   "metadata": {
    "collapsed": false,
    "ExecuteTime": {
     "end_time": "2023-11-21T08:28:27.461255738Z",
     "start_time": "2023-11-21T08:28:27.452476783Z"
    }
   },
   "id": "9fae67c4b9b05e19"
  },
  {
   "cell_type": "code",
   "execution_count": 49,
   "outputs": [
    {
     "data": {
      "text/plain": "                                                      ID  label  extra  \\\n0      /trinity/home/r098375/DDS/data/parelsnoer/NIFT...      0      0   \n1      /trinity/home/r098375/DDS/data/parelsnoer/NIFT...      0      0   \n2      /trinity/home/r098375/DDS/data/parelsnoer/NIFT...      0      0   \n3      /trinity/home/r098375/DDS/data/parelsnoer/NIFT...      0      0   \n4      /trinity/home/r098375/DDS/data/parelsnoer/NIFT...      0      0   \n...                                                  ...    ...    ...   \n11140  /trinity/home/r098375/DDS/data/parelsnoer/NIFT...      0      0   \n11141  /trinity/home/r098375/DDS/data/parelsnoer/NIFT...      0      0   \n11142  /trinity/home/r098375/DDS/data/parelsnoer/NIFT...      0      0   \n11143  /trinity/home/r098375/DDS/data/parelsnoer/NIFT...      0      0   \n11144  /trinity/home/r098375/DDS/data/parelsnoer/NIFT...      0      0   \n\n                                               NiftiPath  slicenum  \n0      /trinity/home/r098375/DDS/data/parelsnoer/NIFT...         7  \n1      /trinity/home/r098375/DDS/data/parelsnoer/NIFT...         5  \n2      /trinity/home/r098375/DDS/data/parelsnoer/NIFT...         8  \n3      /trinity/home/r098375/DDS/data/parelsnoer/NIFT...        13  \n4      /trinity/home/r098375/DDS/data/parelsnoer/NIFT...         9  \n...                                                  ...       ...  \n11140  /trinity/home/r098375/DDS/data/parelsnoer/NIFT...         5  \n11141  /trinity/home/r098375/DDS/data/parelsnoer/NIFT...         7  \n11142  /trinity/home/r098375/DDS/data/parelsnoer/NIFT...        17  \n11143  /trinity/home/r098375/DDS/data/parelsnoer/NIFT...        10  \n11144  /trinity/home/r098375/DDS/data/parelsnoer/NIFT...        13  \n\n[11145 rows x 5 columns]",
      "text/html": "<div>\n<style scoped>\n    .dataframe tbody tr th:only-of-type {\n        vertical-align: middle;\n    }\n\n    .dataframe tbody tr th {\n        vertical-align: top;\n    }\n\n    .dataframe thead th {\n        text-align: right;\n    }\n</style>\n<table border=\"1\" class=\"dataframe\">\n  <thead>\n    <tr style=\"text-align: right;\">\n      <th></th>\n      <th>ID</th>\n      <th>label</th>\n      <th>extra</th>\n      <th>NiftiPath</th>\n      <th>slicenum</th>\n    </tr>\n  </thead>\n  <tbody>\n    <tr>\n      <th>0</th>\n      <td>/trinity/home/r098375/DDS/data/parelsnoer/NIFT...</td>\n      <td>0</td>\n      <td>0</td>\n      <td>/trinity/home/r098375/DDS/data/parelsnoer/NIFT...</td>\n      <td>7</td>\n    </tr>\n    <tr>\n      <th>1</th>\n      <td>/trinity/home/r098375/DDS/data/parelsnoer/NIFT...</td>\n      <td>0</td>\n      <td>0</td>\n      <td>/trinity/home/r098375/DDS/data/parelsnoer/NIFT...</td>\n      <td>5</td>\n    </tr>\n    <tr>\n      <th>2</th>\n      <td>/trinity/home/r098375/DDS/data/parelsnoer/NIFT...</td>\n      <td>0</td>\n      <td>0</td>\n      <td>/trinity/home/r098375/DDS/data/parelsnoer/NIFT...</td>\n      <td>8</td>\n    </tr>\n    <tr>\n      <th>3</th>\n      <td>/trinity/home/r098375/DDS/data/parelsnoer/NIFT...</td>\n      <td>0</td>\n      <td>0</td>\n      <td>/trinity/home/r098375/DDS/data/parelsnoer/NIFT...</td>\n      <td>13</td>\n    </tr>\n    <tr>\n      <th>4</th>\n      <td>/trinity/home/r098375/DDS/data/parelsnoer/NIFT...</td>\n      <td>0</td>\n      <td>0</td>\n      <td>/trinity/home/r098375/DDS/data/parelsnoer/NIFT...</td>\n      <td>9</td>\n    </tr>\n    <tr>\n      <th>...</th>\n      <td>...</td>\n      <td>...</td>\n      <td>...</td>\n      <td>...</td>\n      <td>...</td>\n    </tr>\n    <tr>\n      <th>11140</th>\n      <td>/trinity/home/r098375/DDS/data/parelsnoer/NIFT...</td>\n      <td>0</td>\n      <td>0</td>\n      <td>/trinity/home/r098375/DDS/data/parelsnoer/NIFT...</td>\n      <td>5</td>\n    </tr>\n    <tr>\n      <th>11141</th>\n      <td>/trinity/home/r098375/DDS/data/parelsnoer/NIFT...</td>\n      <td>0</td>\n      <td>0</td>\n      <td>/trinity/home/r098375/DDS/data/parelsnoer/NIFT...</td>\n      <td>7</td>\n    </tr>\n    <tr>\n      <th>11142</th>\n      <td>/trinity/home/r098375/DDS/data/parelsnoer/NIFT...</td>\n      <td>0</td>\n      <td>0</td>\n      <td>/trinity/home/r098375/DDS/data/parelsnoer/NIFT...</td>\n      <td>17</td>\n    </tr>\n    <tr>\n      <th>11143</th>\n      <td>/trinity/home/r098375/DDS/data/parelsnoer/NIFT...</td>\n      <td>0</td>\n      <td>0</td>\n      <td>/trinity/home/r098375/DDS/data/parelsnoer/NIFT...</td>\n      <td>10</td>\n    </tr>\n    <tr>\n      <th>11144</th>\n      <td>/trinity/home/r098375/DDS/data/parelsnoer/NIFT...</td>\n      <td>0</td>\n      <td>0</td>\n      <td>/trinity/home/r098375/DDS/data/parelsnoer/NIFT...</td>\n      <td>13</td>\n    </tr>\n  </tbody>\n</table>\n<p>11145 rows × 5 columns</p>\n</div>"
     },
     "execution_count": 49,
     "metadata": {},
     "output_type": "execute_result"
    }
   ],
   "source": [
    "FullLabelFile"
   ],
   "metadata": {
    "collapsed": false,
    "ExecuteTime": {
     "end_time": "2023-11-21T08:28:27.498183358Z",
     "start_time": "2023-11-21T08:28:27.456888175Z"
    }
   },
   "id": "4d5965e6829ad966"
  },
  {
   "cell_type": "code",
   "execution_count": 50,
   "outputs": [],
   "source": [
    "for numTrainSamples in amountsPerClass:\n",
    "    extension = os.path.splitext(FullLabelPath)\n",
    "    basename = extension[0]\n",
    "    extension = extension[1]\n",
    "    df_train = pd.DataFrame()\n",
    "    df_test = pd.DataFrame()\n",
    "    for label in FullLabelFile['label'].unique():\n",
    "        outname_train = f'{basename}_s{numTrainSamples}_train{extension}'\n",
    "        outname_test = f'{basename}_s{numTrainSamples}_test{extension}'\n",
    "        LabelFrame = FullLabelFile[FullLabelFile['label']==label]\n",
    "        NiftiNames = LabelFrame['NiftiPath'].unique()\n",
    "        try:\n",
    "            train, test = train_test_split(NiftiNames, train_size=numTrainSamples, shuffle=True, random_state=42)\n",
    "        except:\n",
    "            train = NiftiNames\n",
    "            test = []\n",
    "        for tr in train:\n",
    "            if df_train.empty:\n",
    "                df_train = LabelFrame[LabelFrame['NiftiPath']==tr]\n",
    "            else:\n",
    "                temp = LabelFrame[LabelFrame['NiftiPath']==tr]\n",
    "                df_train = pd.concat([df_train, temp],axis=0)\n",
    "        for te in test:\n",
    "            if df_test.empty:\n",
    "                df_test = LabelFrame[LabelFrame['NiftiPath']==te]\n",
    "            else:\n",
    "                temp = LabelFrame[LabelFrame['NiftiPath']==te]\n",
    "                df_test = pd.concat([df_test, temp],axis=0)\n",
    "        df_train[['ID','label','extra']].to_csv(outname_train, index=False, header=False, sep='\\t')\n",
    "        df_test[['ID','label','extra']].to_csv(outname_test, index=False, header=False, sep='\\t')"
   ],
   "metadata": {
    "collapsed": false,
    "ExecuteTime": {
     "end_time": "2023-11-21T08:28:31.032186869Z",
     "start_time": "2023-11-21T08:28:27.497658294Z"
    }
   },
   "id": "a076ee95bf9730aa"
  },
  {
   "cell_type": "code",
   "execution_count": 51,
   "outputs": [
    {
     "data": {
      "text/plain": "                                                     ID  label  extra  \\\n3030  /trinity/home/r098375/DDS/data/parelsnoer/NIFT...      0      0   \n3031  /trinity/home/r098375/DDS/data/parelsnoer/NIFT...      0      0   \n3032  /trinity/home/r098375/DDS/data/parelsnoer/NIFT...      0      0   \n3033  /trinity/home/r098375/DDS/data/parelsnoer/NIFT...      0      0   \n3034  /trinity/home/r098375/DDS/data/parelsnoer/NIFT...      0      0   \n...                                                 ...    ...    ...   \n520   /trinity/home/r098375/DDS/data/parelsnoer/NIFT...      4      0   \n521   /trinity/home/r098375/DDS/data/parelsnoer/NIFT...      4      0   \n522   /trinity/home/r098375/DDS/data/parelsnoer/NIFT...      4      0   \n523   /trinity/home/r098375/DDS/data/parelsnoer/NIFT...      4      0   \n524   /trinity/home/r098375/DDS/data/parelsnoer/NIFT...      4      0   \n\n                                              NiftiPath  slicenum  \n3030  /trinity/home/r098375/DDS/data/parelsnoer/NIFT...        13  \n3031  /trinity/home/r098375/DDS/data/parelsnoer/NIFT...        14  \n3032  /trinity/home/r098375/DDS/data/parelsnoer/NIFT...         8  \n3033  /trinity/home/r098375/DDS/data/parelsnoer/NIFT...        19  \n3034  /trinity/home/r098375/DDS/data/parelsnoer/NIFT...        18  \n...                                                 ...       ...  \n520   /trinity/home/r098375/DDS/data/parelsnoer/NIFT...        12  \n521   /trinity/home/r098375/DDS/data/parelsnoer/NIFT...         7  \n522   /trinity/home/r098375/DDS/data/parelsnoer/NIFT...         6  \n523   /trinity/home/r098375/DDS/data/parelsnoer/NIFT...        15  \n524   /trinity/home/r098375/DDS/data/parelsnoer/NIFT...        10  \n\n[1230 rows x 5 columns]",
      "text/html": "<div>\n<style scoped>\n    .dataframe tbody tr th:only-of-type {\n        vertical-align: middle;\n    }\n\n    .dataframe tbody tr th {\n        vertical-align: top;\n    }\n\n    .dataframe thead th {\n        text-align: right;\n    }\n</style>\n<table border=\"1\" class=\"dataframe\">\n  <thead>\n    <tr style=\"text-align: right;\">\n      <th></th>\n      <th>ID</th>\n      <th>label</th>\n      <th>extra</th>\n      <th>NiftiPath</th>\n      <th>slicenum</th>\n    </tr>\n  </thead>\n  <tbody>\n    <tr>\n      <th>3030</th>\n      <td>/trinity/home/r098375/DDS/data/parelsnoer/NIFT...</td>\n      <td>0</td>\n      <td>0</td>\n      <td>/trinity/home/r098375/DDS/data/parelsnoer/NIFT...</td>\n      <td>13</td>\n    </tr>\n    <tr>\n      <th>3031</th>\n      <td>/trinity/home/r098375/DDS/data/parelsnoer/NIFT...</td>\n      <td>0</td>\n      <td>0</td>\n      <td>/trinity/home/r098375/DDS/data/parelsnoer/NIFT...</td>\n      <td>14</td>\n    </tr>\n    <tr>\n      <th>3032</th>\n      <td>/trinity/home/r098375/DDS/data/parelsnoer/NIFT...</td>\n      <td>0</td>\n      <td>0</td>\n      <td>/trinity/home/r098375/DDS/data/parelsnoer/NIFT...</td>\n      <td>8</td>\n    </tr>\n    <tr>\n      <th>3033</th>\n      <td>/trinity/home/r098375/DDS/data/parelsnoer/NIFT...</td>\n      <td>0</td>\n      <td>0</td>\n      <td>/trinity/home/r098375/DDS/data/parelsnoer/NIFT...</td>\n      <td>19</td>\n    </tr>\n    <tr>\n      <th>3034</th>\n      <td>/trinity/home/r098375/DDS/data/parelsnoer/NIFT...</td>\n      <td>0</td>\n      <td>0</td>\n      <td>/trinity/home/r098375/DDS/data/parelsnoer/NIFT...</td>\n      <td>18</td>\n    </tr>\n    <tr>\n      <th>...</th>\n      <td>...</td>\n      <td>...</td>\n      <td>...</td>\n      <td>...</td>\n      <td>...</td>\n    </tr>\n    <tr>\n      <th>520</th>\n      <td>/trinity/home/r098375/DDS/data/parelsnoer/NIFT...</td>\n      <td>4</td>\n      <td>0</td>\n      <td>/trinity/home/r098375/DDS/data/parelsnoer/NIFT...</td>\n      <td>12</td>\n    </tr>\n    <tr>\n      <th>521</th>\n      <td>/trinity/home/r098375/DDS/data/parelsnoer/NIFT...</td>\n      <td>4</td>\n      <td>0</td>\n      <td>/trinity/home/r098375/DDS/data/parelsnoer/NIFT...</td>\n      <td>7</td>\n    </tr>\n    <tr>\n      <th>522</th>\n      <td>/trinity/home/r098375/DDS/data/parelsnoer/NIFT...</td>\n      <td>4</td>\n      <td>0</td>\n      <td>/trinity/home/r098375/DDS/data/parelsnoer/NIFT...</td>\n      <td>6</td>\n    </tr>\n    <tr>\n      <th>523</th>\n      <td>/trinity/home/r098375/DDS/data/parelsnoer/NIFT...</td>\n      <td>4</td>\n      <td>0</td>\n      <td>/trinity/home/r098375/DDS/data/parelsnoer/NIFT...</td>\n      <td>15</td>\n    </tr>\n    <tr>\n      <th>524</th>\n      <td>/trinity/home/r098375/DDS/data/parelsnoer/NIFT...</td>\n      <td>4</td>\n      <td>0</td>\n      <td>/trinity/home/r098375/DDS/data/parelsnoer/NIFT...</td>\n      <td>10</td>\n    </tr>\n  </tbody>\n</table>\n<p>1230 rows × 5 columns</p>\n</div>"
     },
     "execution_count": 51,
     "metadata": {},
     "output_type": "execute_result"
    }
   ],
   "source": [
    "df_train"
   ],
   "metadata": {
    "collapsed": false,
    "ExecuteTime": {
     "end_time": "2023-11-21T08:28:31.043894780Z",
     "start_time": "2023-11-21T08:28:31.039019361Z"
    }
   },
   "id": "ed6375760de64f96"
  },
  {
   "cell_type": "code",
   "execution_count": 52,
   "outputs": [
    {
     "data": {
      "text/plain": "                                                     ID  label  extra  \\\n1680  /trinity/home/r098375/DDS/data/parelsnoer/NIFT...      0      0   \n1681  /trinity/home/r098375/DDS/data/parelsnoer/NIFT...      0      0   \n1682  /trinity/home/r098375/DDS/data/parelsnoer/NIFT...      0      0   \n1683  /trinity/home/r098375/DDS/data/parelsnoer/NIFT...      0      0   \n1684  /trinity/home/r098375/DDS/data/parelsnoer/NIFT...      0      0   \n...                                                 ...    ...    ...   \n8425  /trinity/home/r098375/DDS/data/parelsnoer/NIFT...      1      0   \n8426  /trinity/home/r098375/DDS/data/parelsnoer/NIFT...      1      0   \n8427  /trinity/home/r098375/DDS/data/parelsnoer/NIFT...      1      0   \n8428  /trinity/home/r098375/DDS/data/parelsnoer/NIFT...      1      0   \n8429  /trinity/home/r098375/DDS/data/parelsnoer/NIFT...      1      0   \n\n                                              NiftiPath  slicenum  \n1680  /trinity/home/r098375/DDS/data/parelsnoer/NIFT...        11  \n1681  /trinity/home/r098375/DDS/data/parelsnoer/NIFT...        16  \n1682  /trinity/home/r098375/DDS/data/parelsnoer/NIFT...         7  \n1683  /trinity/home/r098375/DDS/data/parelsnoer/NIFT...        15  \n1684  /trinity/home/r098375/DDS/data/parelsnoer/NIFT...         9  \n...                                                 ...       ...  \n8425  /trinity/home/r098375/DDS/data/parelsnoer/NIFT...         6  \n8426  /trinity/home/r098375/DDS/data/parelsnoer/NIFT...        14  \n8427  /trinity/home/r098375/DDS/data/parelsnoer/NIFT...         5  \n8428  /trinity/home/r098375/DDS/data/parelsnoer/NIFT...         8  \n8429  /trinity/home/r098375/DDS/data/parelsnoer/NIFT...        15  \n\n[9915 rows x 5 columns]",
      "text/html": "<div>\n<style scoped>\n    .dataframe tbody tr th:only-of-type {\n        vertical-align: middle;\n    }\n\n    .dataframe tbody tr th {\n        vertical-align: top;\n    }\n\n    .dataframe thead th {\n        text-align: right;\n    }\n</style>\n<table border=\"1\" class=\"dataframe\">\n  <thead>\n    <tr style=\"text-align: right;\">\n      <th></th>\n      <th>ID</th>\n      <th>label</th>\n      <th>extra</th>\n      <th>NiftiPath</th>\n      <th>slicenum</th>\n    </tr>\n  </thead>\n  <tbody>\n    <tr>\n      <th>1680</th>\n      <td>/trinity/home/r098375/DDS/data/parelsnoer/NIFT...</td>\n      <td>0</td>\n      <td>0</td>\n      <td>/trinity/home/r098375/DDS/data/parelsnoer/NIFT...</td>\n      <td>11</td>\n    </tr>\n    <tr>\n      <th>1681</th>\n      <td>/trinity/home/r098375/DDS/data/parelsnoer/NIFT...</td>\n      <td>0</td>\n      <td>0</td>\n      <td>/trinity/home/r098375/DDS/data/parelsnoer/NIFT...</td>\n      <td>16</td>\n    </tr>\n    <tr>\n      <th>1682</th>\n      <td>/trinity/home/r098375/DDS/data/parelsnoer/NIFT...</td>\n      <td>0</td>\n      <td>0</td>\n      <td>/trinity/home/r098375/DDS/data/parelsnoer/NIFT...</td>\n      <td>7</td>\n    </tr>\n    <tr>\n      <th>1683</th>\n      <td>/trinity/home/r098375/DDS/data/parelsnoer/NIFT...</td>\n      <td>0</td>\n      <td>0</td>\n      <td>/trinity/home/r098375/DDS/data/parelsnoer/NIFT...</td>\n      <td>15</td>\n    </tr>\n    <tr>\n      <th>1684</th>\n      <td>/trinity/home/r098375/DDS/data/parelsnoer/NIFT...</td>\n      <td>0</td>\n      <td>0</td>\n      <td>/trinity/home/r098375/DDS/data/parelsnoer/NIFT...</td>\n      <td>9</td>\n    </tr>\n    <tr>\n      <th>...</th>\n      <td>...</td>\n      <td>...</td>\n      <td>...</td>\n      <td>...</td>\n      <td>...</td>\n    </tr>\n    <tr>\n      <th>8425</th>\n      <td>/trinity/home/r098375/DDS/data/parelsnoer/NIFT...</td>\n      <td>1</td>\n      <td>0</td>\n      <td>/trinity/home/r098375/DDS/data/parelsnoer/NIFT...</td>\n      <td>6</td>\n    </tr>\n    <tr>\n      <th>8426</th>\n      <td>/trinity/home/r098375/DDS/data/parelsnoer/NIFT...</td>\n      <td>1</td>\n      <td>0</td>\n      <td>/trinity/home/r098375/DDS/data/parelsnoer/NIFT...</td>\n      <td>14</td>\n    </tr>\n    <tr>\n      <th>8427</th>\n      <td>/trinity/home/r098375/DDS/data/parelsnoer/NIFT...</td>\n      <td>1</td>\n      <td>0</td>\n      <td>/trinity/home/r098375/DDS/data/parelsnoer/NIFT...</td>\n      <td>5</td>\n    </tr>\n    <tr>\n      <th>8428</th>\n      <td>/trinity/home/r098375/DDS/data/parelsnoer/NIFT...</td>\n      <td>1</td>\n      <td>0</td>\n      <td>/trinity/home/r098375/DDS/data/parelsnoer/NIFT...</td>\n      <td>8</td>\n    </tr>\n    <tr>\n      <th>8429</th>\n      <td>/trinity/home/r098375/DDS/data/parelsnoer/NIFT...</td>\n      <td>1</td>\n      <td>0</td>\n      <td>/trinity/home/r098375/DDS/data/parelsnoer/NIFT...</td>\n      <td>15</td>\n    </tr>\n  </tbody>\n</table>\n<p>9915 rows × 5 columns</p>\n</div>"
     },
     "execution_count": 52,
     "metadata": {},
     "output_type": "execute_result"
    }
   ],
   "source": [
    "df_test"
   ],
   "metadata": {
    "collapsed": false,
    "ExecuteTime": {
     "end_time": "2023-11-21T08:28:31.138818426Z",
     "start_time": "2023-11-21T08:28:31.092290850Z"
    }
   },
   "id": "650775b72ccf2a36"
  },
  {
   "cell_type": "code",
   "execution_count": 53,
   "outputs": [],
   "source": [
    "control = 'parelsnoer/parelsnoer_Labels_extensive3_pruned_alternative_binning_s10_train.txt'\n",
    "ControlLabelFile = pd.read_csv(control,names=['ID','label','extra'],sep='\\t',low_memory=False)"
   ],
   "metadata": {
    "collapsed": false,
    "ExecuteTime": {
     "end_time": "2023-11-21T08:28:31.139004107Z",
     "start_time": "2023-11-21T08:28:31.092789017Z"
    }
   },
   "id": "ffac2d7aa1f7b508"
  },
  {
   "cell_type": "code",
   "execution_count": 54,
   "outputs": [
    {
     "data": {
      "text/plain": "label\n0    150\n3    150\n8    150\n1    150\n2    105\n4     30\nName: count, dtype: int64"
     },
     "execution_count": 54,
     "metadata": {},
     "output_type": "execute_result"
    }
   ],
   "source": [
    "ControlLabelFile['label'].value_counts()"
   ],
   "metadata": {
    "collapsed": false,
    "ExecuteTime": {
     "end_time": "2023-11-21T08:28:31.139292566Z",
     "start_time": "2023-11-21T08:28:31.092980125Z"
    }
   },
   "id": "a5f499af2c5e9dd5"
  },
  {
   "cell_type": "code",
   "execution_count": 54,
   "outputs": [],
   "source": [],
   "metadata": {
    "collapsed": false,
    "ExecuteTime": {
     "end_time": "2023-11-21T08:28:31.139442724Z",
     "start_time": "2023-11-21T08:28:31.093177955Z"
    }
   },
   "id": "c48b1cf6815996bf"
  }
 ],
 "metadata": {
  "kernelspec": {
   "display_name": "Python 3",
   "language": "python",
   "name": "python3"
  },
  "language_info": {
   "codemirror_mode": {
    "name": "ipython",
    "version": 2
   },
   "file_extension": ".py",
   "mimetype": "text/x-python",
   "name": "python",
   "nbconvert_exporter": "python",
   "pygments_lexer": "ipython2",
   "version": "2.7.6"
  }
 },
 "nbformat": 4,
 "nbformat_minor": 5
}
