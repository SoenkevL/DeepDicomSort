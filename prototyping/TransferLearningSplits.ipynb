{
 "cells": [
  {
   "cell_type": "code",
   "execution_count": 1,
   "id": "initial_id",
   "metadata": {
    "collapsed": true,
    "ExecuteTime": {
     "end_time": "2023-11-10T10:41:58.119383410Z",
     "start_time": "2023-11-10T10:41:57.185476595Z"
    }
   },
   "outputs": [],
   "source": [
    "import pandas as pd\n",
    "from sklearn.model_selection import train_test_split\n",
    "import os"
   ]
  },
  {
   "cell_type": "code",
   "execution_count": 2,
   "outputs": [],
   "source": [
    "FullLabelPath = 'parelsnoer/Parelsnoer_Labels_extensive2_pruned.txt'\n",
    "FullLabelFile = pd.read_csv(FullLabelPath,names=['ID','label','extra'],sep='\\t',low_memory=False)"
   ],
   "metadata": {
    "collapsed": false,
    "ExecuteTime": {
     "end_time": "2023-11-10T10:41:58.152536453Z",
     "start_time": "2023-11-10T10:41:58.119795179Z"
    }
   },
   "id": "4d668da469b97f05"
  },
  {
   "cell_type": "code",
   "execution_count": 3,
   "outputs": [
    {
     "data": {
      "text/plain": "                                                      ID  label  extra\n0      /trinity/home/r098375/DDS/data/parelsnoer/NIFT...     16      0\n1      /trinity/home/r098375/DDS/data/parelsnoer/NIFT...     16      0\n2      /trinity/home/r098375/DDS/data/parelsnoer/NIFT...     16      0\n3      /trinity/home/r098375/DDS/data/parelsnoer/NIFT...     16      0\n4      /trinity/home/r098375/DDS/data/parelsnoer/NIFT...     16      0\n...                                                  ...    ...    ...\n11230  /trinity/home/r098375/DDS/data/parelsnoer/NIFT...     16      0\n11231  /trinity/home/r098375/DDS/data/parelsnoer/NIFT...     16      0\n11232  /trinity/home/r098375/DDS/data/parelsnoer/NIFT...     16      0\n11233  /trinity/home/r098375/DDS/data/parelsnoer/NIFT...     16      0\n11234  /trinity/home/r098375/DDS/data/parelsnoer/NIFT...     16      0\n\n[11235 rows x 3 columns]",
      "text/html": "<div>\n<style scoped>\n    .dataframe tbody tr th:only-of-type {\n        vertical-align: middle;\n    }\n\n    .dataframe tbody tr th {\n        vertical-align: top;\n    }\n\n    .dataframe thead th {\n        text-align: right;\n    }\n</style>\n<table border=\"1\" class=\"dataframe\">\n  <thead>\n    <tr style=\"text-align: right;\">\n      <th></th>\n      <th>ID</th>\n      <th>label</th>\n      <th>extra</th>\n    </tr>\n  </thead>\n  <tbody>\n    <tr>\n      <th>0</th>\n      <td>/trinity/home/r098375/DDS/data/parelsnoer/NIFT...</td>\n      <td>16</td>\n      <td>0</td>\n    </tr>\n    <tr>\n      <th>1</th>\n      <td>/trinity/home/r098375/DDS/data/parelsnoer/NIFT...</td>\n      <td>16</td>\n      <td>0</td>\n    </tr>\n    <tr>\n      <th>2</th>\n      <td>/trinity/home/r098375/DDS/data/parelsnoer/NIFT...</td>\n      <td>16</td>\n      <td>0</td>\n    </tr>\n    <tr>\n      <th>3</th>\n      <td>/trinity/home/r098375/DDS/data/parelsnoer/NIFT...</td>\n      <td>16</td>\n      <td>0</td>\n    </tr>\n    <tr>\n      <th>4</th>\n      <td>/trinity/home/r098375/DDS/data/parelsnoer/NIFT...</td>\n      <td>16</td>\n      <td>0</td>\n    </tr>\n    <tr>\n      <th>...</th>\n      <td>...</td>\n      <td>...</td>\n      <td>...</td>\n    </tr>\n    <tr>\n      <th>11230</th>\n      <td>/trinity/home/r098375/DDS/data/parelsnoer/NIFT...</td>\n      <td>16</td>\n      <td>0</td>\n    </tr>\n    <tr>\n      <th>11231</th>\n      <td>/trinity/home/r098375/DDS/data/parelsnoer/NIFT...</td>\n      <td>16</td>\n      <td>0</td>\n    </tr>\n    <tr>\n      <th>11232</th>\n      <td>/trinity/home/r098375/DDS/data/parelsnoer/NIFT...</td>\n      <td>16</td>\n      <td>0</td>\n    </tr>\n    <tr>\n      <th>11233</th>\n      <td>/trinity/home/r098375/DDS/data/parelsnoer/NIFT...</td>\n      <td>16</td>\n      <td>0</td>\n    </tr>\n    <tr>\n      <th>11234</th>\n      <td>/trinity/home/r098375/DDS/data/parelsnoer/NIFT...</td>\n      <td>16</td>\n      <td>0</td>\n    </tr>\n  </tbody>\n</table>\n<p>11235 rows × 3 columns</p>\n</div>"
     },
     "execution_count": 3,
     "metadata": {},
     "output_type": "execute_result"
    }
   ],
   "source": [
    "FullLabelFile"
   ],
   "metadata": {
    "collapsed": false,
    "ExecuteTime": {
     "end_time": "2023-11-10T10:41:58.169874854Z",
     "start_time": "2023-11-10T10:41:58.155409269Z"
    }
   },
   "id": "b35a5eed24c67fef"
  },
  {
   "cell_type": "code",
   "execution_count": 4,
   "outputs": [
    {
     "data": {
      "text/plain": "label\n16    7305\n0     2520\n14     990\n17     195\n2       75\n3       60\n6       60\n1       30\nName: count, dtype: int64"
     },
     "execution_count": 4,
     "metadata": {},
     "output_type": "execute_result"
    }
   ],
   "source": [
    "FullLabelFile['label'].value_counts()"
   ],
   "metadata": {
    "collapsed": false,
    "ExecuteTime": {
     "end_time": "2023-11-10T10:41:58.171843667Z",
     "start_time": "2023-11-10T10:41:58.168623893Z"
    }
   },
   "id": "8328f09caa447141"
  },
  {
   "cell_type": "code",
   "execution_count": 5,
   "outputs": [],
   "source": [
    "amountsPerClass = [1, 5, 10, 20]"
   ],
   "metadata": {
    "collapsed": false,
    "ExecuteTime": {
     "end_time": "2023-11-10T10:41:58.263427923Z",
     "start_time": "2023-11-10T10:41:58.173580687Z"
    }
   },
   "id": "b1ff613a00288ee1"
  },
  {
   "cell_type": "code",
   "execution_count": 6,
   "outputs": [],
   "source": [
    "def extractNiftiFilepathAndSlicenum(df):\n",
    "    ID = df['ID']\n",
    "    split = ID.rsplit('__s', 1)\n",
    "    NiftiPath = split[0]\n",
    "    NiftiPath = NiftiPath.replace('NIFTI_SLICES', 'NIFTI') + '.nii.gz'\n",
    "    slicenum = int(split[1].split('.nii.gz')[0])\n",
    "    return pd.Series({'NiftiPath': NiftiPath, 'slicenum': slicenum})"
   ],
   "metadata": {
    "collapsed": false,
    "ExecuteTime": {
     "end_time": "2023-11-10T10:41:58.264150207Z",
     "start_time": "2023-11-10T10:41:58.219518728Z"
    }
   },
   "id": "8b817f0aebe74b26"
  },
  {
   "cell_type": "code",
   "execution_count": 7,
   "outputs": [],
   "source": [
    "FilepathsAndSlicenums = FullLabelFile.apply(extractNiftiFilepathAndSlicenum, axis=1)"
   ],
   "metadata": {
    "collapsed": false,
    "ExecuteTime": {
     "end_time": "2023-11-10T10:42:00.291281488Z",
     "start_time": "2023-11-10T10:41:58.219718715Z"
    }
   },
   "id": "6d8afb8b297d15fc"
  },
  {
   "cell_type": "code",
   "execution_count": 8,
   "outputs": [],
   "source": [
    "FullLabelFile = FullLabelFile.merge(FilepathsAndSlicenums, left_index=True, right_index=True)"
   ],
   "metadata": {
    "collapsed": false,
    "ExecuteTime": {
     "end_time": "2023-11-10T10:42:00.306303448Z",
     "start_time": "2023-11-10T10:42:00.303643206Z"
    }
   },
   "id": "9fae67c4b9b05e19"
  },
  {
   "cell_type": "code",
   "execution_count": 9,
   "outputs": [
    {
     "data": {
      "text/plain": "                                                      ID  label  extra  \\\n0      /trinity/home/r098375/DDS/data/parelsnoer/NIFT...     16      0   \n1      /trinity/home/r098375/DDS/data/parelsnoer/NIFT...     16      0   \n2      /trinity/home/r098375/DDS/data/parelsnoer/NIFT...     16      0   \n3      /trinity/home/r098375/DDS/data/parelsnoer/NIFT...     16      0   \n4      /trinity/home/r098375/DDS/data/parelsnoer/NIFT...     16      0   \n...                                                  ...    ...    ...   \n11230  /trinity/home/r098375/DDS/data/parelsnoer/NIFT...     16      0   \n11231  /trinity/home/r098375/DDS/data/parelsnoer/NIFT...     16      0   \n11232  /trinity/home/r098375/DDS/data/parelsnoer/NIFT...     16      0   \n11233  /trinity/home/r098375/DDS/data/parelsnoer/NIFT...     16      0   \n11234  /trinity/home/r098375/DDS/data/parelsnoer/NIFT...     16      0   \n\n                                               NiftiPath  slicenum  \n0      /trinity/home/r098375/DDS/data/parelsnoer/NIFT...         7  \n1      /trinity/home/r098375/DDS/data/parelsnoer/NIFT...         5  \n2      /trinity/home/r098375/DDS/data/parelsnoer/NIFT...         8  \n3      /trinity/home/r098375/DDS/data/parelsnoer/NIFT...        13  \n4      /trinity/home/r098375/DDS/data/parelsnoer/NIFT...         9  \n...                                                  ...       ...  \n11230  /trinity/home/r098375/DDS/data/parelsnoer/NIFT...         5  \n11231  /trinity/home/r098375/DDS/data/parelsnoer/NIFT...         7  \n11232  /trinity/home/r098375/DDS/data/parelsnoer/NIFT...        17  \n11233  /trinity/home/r098375/DDS/data/parelsnoer/NIFT...        10  \n11234  /trinity/home/r098375/DDS/data/parelsnoer/NIFT...        13  \n\n[11235 rows x 5 columns]",
      "text/html": "<div>\n<style scoped>\n    .dataframe tbody tr th:only-of-type {\n        vertical-align: middle;\n    }\n\n    .dataframe tbody tr th {\n        vertical-align: top;\n    }\n\n    .dataframe thead th {\n        text-align: right;\n    }\n</style>\n<table border=\"1\" class=\"dataframe\">\n  <thead>\n    <tr style=\"text-align: right;\">\n      <th></th>\n      <th>ID</th>\n      <th>label</th>\n      <th>extra</th>\n      <th>NiftiPath</th>\n      <th>slicenum</th>\n    </tr>\n  </thead>\n  <tbody>\n    <tr>\n      <th>0</th>\n      <td>/trinity/home/r098375/DDS/data/parelsnoer/NIFT...</td>\n      <td>16</td>\n      <td>0</td>\n      <td>/trinity/home/r098375/DDS/data/parelsnoer/NIFT...</td>\n      <td>7</td>\n    </tr>\n    <tr>\n      <th>1</th>\n      <td>/trinity/home/r098375/DDS/data/parelsnoer/NIFT...</td>\n      <td>16</td>\n      <td>0</td>\n      <td>/trinity/home/r098375/DDS/data/parelsnoer/NIFT...</td>\n      <td>5</td>\n    </tr>\n    <tr>\n      <th>2</th>\n      <td>/trinity/home/r098375/DDS/data/parelsnoer/NIFT...</td>\n      <td>16</td>\n      <td>0</td>\n      <td>/trinity/home/r098375/DDS/data/parelsnoer/NIFT...</td>\n      <td>8</td>\n    </tr>\n    <tr>\n      <th>3</th>\n      <td>/trinity/home/r098375/DDS/data/parelsnoer/NIFT...</td>\n      <td>16</td>\n      <td>0</td>\n      <td>/trinity/home/r098375/DDS/data/parelsnoer/NIFT...</td>\n      <td>13</td>\n    </tr>\n    <tr>\n      <th>4</th>\n      <td>/trinity/home/r098375/DDS/data/parelsnoer/NIFT...</td>\n      <td>16</td>\n      <td>0</td>\n      <td>/trinity/home/r098375/DDS/data/parelsnoer/NIFT...</td>\n      <td>9</td>\n    </tr>\n    <tr>\n      <th>...</th>\n      <td>...</td>\n      <td>...</td>\n      <td>...</td>\n      <td>...</td>\n      <td>...</td>\n    </tr>\n    <tr>\n      <th>11230</th>\n      <td>/trinity/home/r098375/DDS/data/parelsnoer/NIFT...</td>\n      <td>16</td>\n      <td>0</td>\n      <td>/trinity/home/r098375/DDS/data/parelsnoer/NIFT...</td>\n      <td>5</td>\n    </tr>\n    <tr>\n      <th>11231</th>\n      <td>/trinity/home/r098375/DDS/data/parelsnoer/NIFT...</td>\n      <td>16</td>\n      <td>0</td>\n      <td>/trinity/home/r098375/DDS/data/parelsnoer/NIFT...</td>\n      <td>7</td>\n    </tr>\n    <tr>\n      <th>11232</th>\n      <td>/trinity/home/r098375/DDS/data/parelsnoer/NIFT...</td>\n      <td>16</td>\n      <td>0</td>\n      <td>/trinity/home/r098375/DDS/data/parelsnoer/NIFT...</td>\n      <td>17</td>\n    </tr>\n    <tr>\n      <th>11233</th>\n      <td>/trinity/home/r098375/DDS/data/parelsnoer/NIFT...</td>\n      <td>16</td>\n      <td>0</td>\n      <td>/trinity/home/r098375/DDS/data/parelsnoer/NIFT...</td>\n      <td>10</td>\n    </tr>\n    <tr>\n      <th>11234</th>\n      <td>/trinity/home/r098375/DDS/data/parelsnoer/NIFT...</td>\n      <td>16</td>\n      <td>0</td>\n      <td>/trinity/home/r098375/DDS/data/parelsnoer/NIFT...</td>\n      <td>13</td>\n    </tr>\n  </tbody>\n</table>\n<p>11235 rows × 5 columns</p>\n</div>"
     },
     "execution_count": 9,
     "metadata": {},
     "output_type": "execute_result"
    }
   ],
   "source": [
    "FullLabelFile"
   ],
   "metadata": {
    "collapsed": false,
    "ExecuteTime": {
     "end_time": "2023-11-10T10:42:00.348435575Z",
     "start_time": "2023-11-10T10:42:00.347609492Z"
    }
   },
   "id": "4d5965e6829ad966"
  },
  {
   "cell_type": "code",
   "execution_count": 10,
   "outputs": [],
   "source": [
    "for numTrainSamples in amountsPerClass:\n",
    "    extension = os.path.splitext(FullLabelPath)\n",
    "    basename = extension[0]\n",
    "    extension = extension[1]\n",
    "    df_train = pd.DataFrame()\n",
    "    df_test = pd.DataFrame()\n",
    "    for label in FullLabelFile['label'].unique():\n",
    "        outname_train = f'{basename}_s{numTrainSamples}_train{extension}'\n",
    "        outname_test = f'{basename}_s{numTrainSamples}_test{extension}'\n",
    "        LabelFrame = FullLabelFile[FullLabelFile['label']==label]\n",
    "        NiftiNames = LabelFrame['NiftiPath'].unique()\n",
    "        try:\n",
    "            train, test = train_test_split(NiftiNames, train_size=numTrainSamples, shuffle=True, random_state=42)\n",
    "        except:\n",
    "            train = NiftiNames\n",
    "            test = []\n",
    "        for tr in train:\n",
    "            if df_train.empty:\n",
    "                df_train = LabelFrame[LabelFrame['NiftiPath']==tr]\n",
    "            else:\n",
    "                temp = LabelFrame[LabelFrame['NiftiPath']==tr]\n",
    "                df_train = pd.concat([df_train, temp],axis=0)\n",
    "        for te in test:\n",
    "            if df_test.empty:\n",
    "                df_test = LabelFrame[LabelFrame['NiftiPath']==te]\n",
    "            else:\n",
    "                temp = LabelFrame[LabelFrame['NiftiPath']==te]\n",
    "                df_test = pd.concat([df_test, temp],axis=0)\n",
    "        df_train[['ID','label','extra']].to_csv(outname_train, index=False, header=False, sep='\\t')\n",
    "        df_test[['ID','label','extra']].to_csv(outname_test, index=False, header=False, sep='\\t')"
   ],
   "metadata": {
    "collapsed": false,
    "ExecuteTime": {
     "end_time": "2023-11-10T10:42:04.027668575Z",
     "start_time": "2023-11-10T10:42:00.347895124Z"
    }
   },
   "id": "a076ee95bf9730aa"
  },
  {
   "cell_type": "code",
   "execution_count": 11,
   "outputs": [
    {
     "data": {
      "text/plain": "                                                     ID  label  extra  \\\n3075  /trinity/home/r098375/DDS/data/parelsnoer/NIFT...     16      0   \n3076  /trinity/home/r098375/DDS/data/parelsnoer/NIFT...     16      0   \n3077  /trinity/home/r098375/DDS/data/parelsnoer/NIFT...     16      0   \n3078  /trinity/home/r098375/DDS/data/parelsnoer/NIFT...     16      0   \n3079  /trinity/home/r098375/DDS/data/parelsnoer/NIFT...     16      0   \n...                                                 ...    ...    ...   \n4570  /trinity/home/r098375/DDS/data/parelsnoer/NIFT...      6      0   \n4571  /trinity/home/r098375/DDS/data/parelsnoer/NIFT...      6      0   \n4572  /trinity/home/r098375/DDS/data/parelsnoer/NIFT...      6      0   \n4573  /trinity/home/r098375/DDS/data/parelsnoer/NIFT...      6      0   \n4574  /trinity/home/r098375/DDS/data/parelsnoer/NIFT...      6      0   \n\n                                              NiftiPath  slicenum  \n3075  /trinity/home/r098375/DDS/data/parelsnoer/NIFT...        13  \n3076  /trinity/home/r098375/DDS/data/parelsnoer/NIFT...        14  \n3077  /trinity/home/r098375/DDS/data/parelsnoer/NIFT...         8  \n3078  /trinity/home/r098375/DDS/data/parelsnoer/NIFT...        19  \n3079  /trinity/home/r098375/DDS/data/parelsnoer/NIFT...        18  \n...                                                 ...       ...  \n4570  /trinity/home/r098375/DDS/data/parelsnoer/NIFT...        10  \n4571  /trinity/home/r098375/DDS/data/parelsnoer/NIFT...         6  \n4572  /trinity/home/r098375/DDS/data/parelsnoer/NIFT...        16  \n4573  /trinity/home/r098375/DDS/data/parelsnoer/NIFT...        19  \n4574  /trinity/home/r098375/DDS/data/parelsnoer/NIFT...         7  \n\n[1320 rows x 5 columns]",
      "text/html": "<div>\n<style scoped>\n    .dataframe tbody tr th:only-of-type {\n        vertical-align: middle;\n    }\n\n    .dataframe tbody tr th {\n        vertical-align: top;\n    }\n\n    .dataframe thead th {\n        text-align: right;\n    }\n</style>\n<table border=\"1\" class=\"dataframe\">\n  <thead>\n    <tr style=\"text-align: right;\">\n      <th></th>\n      <th>ID</th>\n      <th>label</th>\n      <th>extra</th>\n      <th>NiftiPath</th>\n      <th>slicenum</th>\n    </tr>\n  </thead>\n  <tbody>\n    <tr>\n      <th>3075</th>\n      <td>/trinity/home/r098375/DDS/data/parelsnoer/NIFT...</td>\n      <td>16</td>\n      <td>0</td>\n      <td>/trinity/home/r098375/DDS/data/parelsnoer/NIFT...</td>\n      <td>13</td>\n    </tr>\n    <tr>\n      <th>3076</th>\n      <td>/trinity/home/r098375/DDS/data/parelsnoer/NIFT...</td>\n      <td>16</td>\n      <td>0</td>\n      <td>/trinity/home/r098375/DDS/data/parelsnoer/NIFT...</td>\n      <td>14</td>\n    </tr>\n    <tr>\n      <th>3077</th>\n      <td>/trinity/home/r098375/DDS/data/parelsnoer/NIFT...</td>\n      <td>16</td>\n      <td>0</td>\n      <td>/trinity/home/r098375/DDS/data/parelsnoer/NIFT...</td>\n      <td>8</td>\n    </tr>\n    <tr>\n      <th>3078</th>\n      <td>/trinity/home/r098375/DDS/data/parelsnoer/NIFT...</td>\n      <td>16</td>\n      <td>0</td>\n      <td>/trinity/home/r098375/DDS/data/parelsnoer/NIFT...</td>\n      <td>19</td>\n    </tr>\n    <tr>\n      <th>3079</th>\n      <td>/trinity/home/r098375/DDS/data/parelsnoer/NIFT...</td>\n      <td>16</td>\n      <td>0</td>\n      <td>/trinity/home/r098375/DDS/data/parelsnoer/NIFT...</td>\n      <td>18</td>\n    </tr>\n    <tr>\n      <th>...</th>\n      <td>...</td>\n      <td>...</td>\n      <td>...</td>\n      <td>...</td>\n      <td>...</td>\n    </tr>\n    <tr>\n      <th>4570</th>\n      <td>/trinity/home/r098375/DDS/data/parelsnoer/NIFT...</td>\n      <td>6</td>\n      <td>0</td>\n      <td>/trinity/home/r098375/DDS/data/parelsnoer/NIFT...</td>\n      <td>10</td>\n    </tr>\n    <tr>\n      <th>4571</th>\n      <td>/trinity/home/r098375/DDS/data/parelsnoer/NIFT...</td>\n      <td>6</td>\n      <td>0</td>\n      <td>/trinity/home/r098375/DDS/data/parelsnoer/NIFT...</td>\n      <td>6</td>\n    </tr>\n    <tr>\n      <th>4572</th>\n      <td>/trinity/home/r098375/DDS/data/parelsnoer/NIFT...</td>\n      <td>6</td>\n      <td>0</td>\n      <td>/trinity/home/r098375/DDS/data/parelsnoer/NIFT...</td>\n      <td>16</td>\n    </tr>\n    <tr>\n      <th>4573</th>\n      <td>/trinity/home/r098375/DDS/data/parelsnoer/NIFT...</td>\n      <td>6</td>\n      <td>0</td>\n      <td>/trinity/home/r098375/DDS/data/parelsnoer/NIFT...</td>\n      <td>19</td>\n    </tr>\n    <tr>\n      <th>4574</th>\n      <td>/trinity/home/r098375/DDS/data/parelsnoer/NIFT...</td>\n      <td>6</td>\n      <td>0</td>\n      <td>/trinity/home/r098375/DDS/data/parelsnoer/NIFT...</td>\n      <td>7</td>\n    </tr>\n  </tbody>\n</table>\n<p>1320 rows × 5 columns</p>\n</div>"
     },
     "execution_count": 11,
     "metadata": {},
     "output_type": "execute_result"
    }
   ],
   "source": [
    "df_train"
   ],
   "metadata": {
    "collapsed": false,
    "ExecuteTime": {
     "end_time": "2023-11-10T10:42:04.084742148Z",
     "start_time": "2023-11-10T10:42:04.033687380Z"
    }
   },
   "id": "ed6375760de64f96"
  },
  {
   "cell_type": "code",
   "execution_count": 12,
   "outputs": [
    {
     "data": {
      "text/plain": "                                                     ID  label  extra  \\\n1695  /trinity/home/r098375/DDS/data/parelsnoer/NIFT...     16      0   \n1696  /trinity/home/r098375/DDS/data/parelsnoer/NIFT...     16      0   \n1697  /trinity/home/r098375/DDS/data/parelsnoer/NIFT...     16      0   \n1698  /trinity/home/r098375/DDS/data/parelsnoer/NIFT...     16      0   \n1699  /trinity/home/r098375/DDS/data/parelsnoer/NIFT...     16      0   \n...                                                 ...    ...    ...   \n8515  /trinity/home/r098375/DDS/data/parelsnoer/NIFT...     14      0   \n8516  /trinity/home/r098375/DDS/data/parelsnoer/NIFT...     14      0   \n8517  /trinity/home/r098375/DDS/data/parelsnoer/NIFT...     14      0   \n8518  /trinity/home/r098375/DDS/data/parelsnoer/NIFT...     14      0   \n8519  /trinity/home/r098375/DDS/data/parelsnoer/NIFT...     14      0   \n\n                                              NiftiPath  slicenum  \n1695  /trinity/home/r098375/DDS/data/parelsnoer/NIFT...        11  \n1696  /trinity/home/r098375/DDS/data/parelsnoer/NIFT...        16  \n1697  /trinity/home/r098375/DDS/data/parelsnoer/NIFT...         7  \n1698  /trinity/home/r098375/DDS/data/parelsnoer/NIFT...        15  \n1699  /trinity/home/r098375/DDS/data/parelsnoer/NIFT...         9  \n...                                                 ...       ...  \n8515  /trinity/home/r098375/DDS/data/parelsnoer/NIFT...         6  \n8516  /trinity/home/r098375/DDS/data/parelsnoer/NIFT...        14  \n8517  /trinity/home/r098375/DDS/data/parelsnoer/NIFT...         5  \n8518  /trinity/home/r098375/DDS/data/parelsnoer/NIFT...         8  \n8519  /trinity/home/r098375/DDS/data/parelsnoer/NIFT...        15  \n\n[9915 rows x 5 columns]",
      "text/html": "<div>\n<style scoped>\n    .dataframe tbody tr th:only-of-type {\n        vertical-align: middle;\n    }\n\n    .dataframe tbody tr th {\n        vertical-align: top;\n    }\n\n    .dataframe thead th {\n        text-align: right;\n    }\n</style>\n<table border=\"1\" class=\"dataframe\">\n  <thead>\n    <tr style=\"text-align: right;\">\n      <th></th>\n      <th>ID</th>\n      <th>label</th>\n      <th>extra</th>\n      <th>NiftiPath</th>\n      <th>slicenum</th>\n    </tr>\n  </thead>\n  <tbody>\n    <tr>\n      <th>1695</th>\n      <td>/trinity/home/r098375/DDS/data/parelsnoer/NIFT...</td>\n      <td>16</td>\n      <td>0</td>\n      <td>/trinity/home/r098375/DDS/data/parelsnoer/NIFT...</td>\n      <td>11</td>\n    </tr>\n    <tr>\n      <th>1696</th>\n      <td>/trinity/home/r098375/DDS/data/parelsnoer/NIFT...</td>\n      <td>16</td>\n      <td>0</td>\n      <td>/trinity/home/r098375/DDS/data/parelsnoer/NIFT...</td>\n      <td>16</td>\n    </tr>\n    <tr>\n      <th>1697</th>\n      <td>/trinity/home/r098375/DDS/data/parelsnoer/NIFT...</td>\n      <td>16</td>\n      <td>0</td>\n      <td>/trinity/home/r098375/DDS/data/parelsnoer/NIFT...</td>\n      <td>7</td>\n    </tr>\n    <tr>\n      <th>1698</th>\n      <td>/trinity/home/r098375/DDS/data/parelsnoer/NIFT...</td>\n      <td>16</td>\n      <td>0</td>\n      <td>/trinity/home/r098375/DDS/data/parelsnoer/NIFT...</td>\n      <td>15</td>\n    </tr>\n    <tr>\n      <th>1699</th>\n      <td>/trinity/home/r098375/DDS/data/parelsnoer/NIFT...</td>\n      <td>16</td>\n      <td>0</td>\n      <td>/trinity/home/r098375/DDS/data/parelsnoer/NIFT...</td>\n      <td>9</td>\n    </tr>\n    <tr>\n      <th>...</th>\n      <td>...</td>\n      <td>...</td>\n      <td>...</td>\n      <td>...</td>\n      <td>...</td>\n    </tr>\n    <tr>\n      <th>8515</th>\n      <td>/trinity/home/r098375/DDS/data/parelsnoer/NIFT...</td>\n      <td>14</td>\n      <td>0</td>\n      <td>/trinity/home/r098375/DDS/data/parelsnoer/NIFT...</td>\n      <td>6</td>\n    </tr>\n    <tr>\n      <th>8516</th>\n      <td>/trinity/home/r098375/DDS/data/parelsnoer/NIFT...</td>\n      <td>14</td>\n      <td>0</td>\n      <td>/trinity/home/r098375/DDS/data/parelsnoer/NIFT...</td>\n      <td>14</td>\n    </tr>\n    <tr>\n      <th>8517</th>\n      <td>/trinity/home/r098375/DDS/data/parelsnoer/NIFT...</td>\n      <td>14</td>\n      <td>0</td>\n      <td>/trinity/home/r098375/DDS/data/parelsnoer/NIFT...</td>\n      <td>5</td>\n    </tr>\n    <tr>\n      <th>8518</th>\n      <td>/trinity/home/r098375/DDS/data/parelsnoer/NIFT...</td>\n      <td>14</td>\n      <td>0</td>\n      <td>/trinity/home/r098375/DDS/data/parelsnoer/NIFT...</td>\n      <td>8</td>\n    </tr>\n    <tr>\n      <th>8519</th>\n      <td>/trinity/home/r098375/DDS/data/parelsnoer/NIFT...</td>\n      <td>14</td>\n      <td>0</td>\n      <td>/trinity/home/r098375/DDS/data/parelsnoer/NIFT...</td>\n      <td>15</td>\n    </tr>\n  </tbody>\n</table>\n<p>9915 rows × 5 columns</p>\n</div>"
     },
     "execution_count": 12,
     "metadata": {},
     "output_type": "execute_result"
    }
   ],
   "source": [
    "df_test"
   ],
   "metadata": {
    "collapsed": false,
    "ExecuteTime": {
     "end_time": "2023-11-10T10:42:04.089893682Z",
     "start_time": "2023-11-10T10:42:04.082294901Z"
    }
   },
   "id": "650775b72ccf2a36"
  },
  {
   "cell_type": "code",
   "execution_count": 13,
   "outputs": [],
   "source": [
    "control = 'parelsnoer/Parelsnoer_Labels_extensive2_pruned_s10.txt'\n",
    "ControlLabelFile = pd.read_csv(control,names=['ID','label','extra'],sep='\\t',low_memory=False)"
   ],
   "metadata": {
    "collapsed": false,
    "ExecuteTime": {
     "end_time": "2023-11-10T10:42:04.091134098Z",
     "start_time": "2023-11-10T10:42:04.082883643Z"
    }
   },
   "id": "ffac2d7aa1f7b508"
  },
  {
   "cell_type": "code",
   "execution_count": 14,
   "outputs": [
    {
     "data": {
      "text/plain": "label\n16    150\n0     150\n17    150\n14    150\n2      75\n3      60\n6      60\n1      30\nName: count, dtype: int64"
     },
     "execution_count": 14,
     "metadata": {},
     "output_type": "execute_result"
    }
   ],
   "source": [
    "ControlLabelFile['label'].value_counts()"
   ],
   "metadata": {
    "collapsed": false,
    "ExecuteTime": {
     "end_time": "2023-11-10T10:42:04.092647657Z",
     "start_time": "2023-11-10T10:42:04.084508594Z"
    }
   },
   "id": "a5f499af2c5e9dd5"
  },
  {
   "cell_type": "code",
   "execution_count": 14,
   "outputs": [],
   "source": [],
   "metadata": {
    "collapsed": false,
    "ExecuteTime": {
     "end_time": "2023-11-10T10:42:04.110040389Z",
     "start_time": "2023-11-10T10:42:04.085349229Z"
    }
   },
   "id": "c48b1cf6815996bf"
  }
 ],
 "metadata": {
  "kernelspec": {
   "display_name": "Python 3",
   "language": "python",
   "name": "python3"
  },
  "language_info": {
   "codemirror_mode": {
    "name": "ipython",
    "version": 2
   },
   "file_extension": ".py",
   "mimetype": "text/x-python",
   "name": "python",
   "nbconvert_exporter": "python",
   "pygments_lexer": "ipython2",
   "version": "2.7.6"
  }
 },
 "nbformat": 4,
 "nbformat_minor": 5
}
