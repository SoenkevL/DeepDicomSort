{
 "cells": [
  {
   "cell_type": "code",
   "execution_count": 138,
   "outputs": [],
   "source": [
    "import pandas as pd\n",
    "import os\n",
    "from sklearn.model_selection import train_test_split"
   ],
   "metadata": {
    "collapsed": false,
    "ExecuteTime": {
     "end_time": "2023-10-11T13:35:29.399641875Z",
     "start_time": "2023-10-11T13:35:29.354369984Z"
    }
   },
   "id": "ca05ac52779e795f"
  },
  {
   "cell_type": "code",
   "execution_count": 139,
   "outputs": [],
   "source": [
    "cf = pd.read_csv('CleanedFrame.csv',index_col=0)\n",
    "annot = pd.read_csv('Annotated_CombinedDirCsv.csv',index_col=0)"
   ],
   "metadata": {
    "collapsed": false,
    "ExecuteTime": {
     "end_time": "2023-10-11T13:35:29.455798604Z",
     "start_time": "2023-10-11T13:35:29.395512988Z"
    }
   },
   "id": "5960d73d81964ffa"
  },
  {
   "cell_type": "code",
   "execution_count": 140,
   "outputs": [
    {
     "data": {
      "text/plain": "14237"
     },
     "execution_count": 140,
     "metadata": {},
     "output_type": "execute_result"
    }
   ],
   "source": [
    "len(cf)"
   ],
   "metadata": {
    "collapsed": false,
    "ExecuteTime": {
     "end_time": "2023-10-11T13:35:29.499824070Z",
     "start_time": "2023-10-11T13:35:29.457693931Z"
    }
   },
   "id": "3ccb3ce80031fd0d"
  },
  {
   "cell_type": "code",
   "execution_count": 141,
   "outputs": [
    {
     "data": {
      "text/plain": "2442"
     },
     "execution_count": 141,
     "metadata": {},
     "output_type": "execute_result"
    }
   ],
   "source": [
    "len(annot)"
   ],
   "metadata": {
    "collapsed": false,
    "ExecuteTime": {
     "end_time": "2023-10-11T13:35:29.500008156Z",
     "start_time": "2023-10-11T13:35:29.499536980Z"
    }
   },
   "id": "94ba543c763945e"
  },
  {
   "cell_type": "code",
   "execution_count": 142,
   "outputs": [],
   "source": [
    "def findIdent(df):\n",
    "    path = df['path']\n",
    "    ident = path.split(os.sep)[3]\n",
    "    sub = ident.split('_',2)[-1]\n",
    "    sub = sub.split('_')[0]\n",
    "    return pd.Series({'label_exp':ident, 'subject':sub,})"
   ],
   "metadata": {
    "collapsed": false,
    "ExecuteTime": {
     "end_time": "2023-10-11T13:35:29.500089296Z",
     "start_time": "2023-10-11T13:35:29.499631484Z"
    }
   },
   "id": "1fa7da71e8507641"
  },
  {
   "cell_type": "code",
   "execution_count": 143,
   "outputs": [],
   "source": [
    "annot_expand = annot.apply(findIdent,axis=1, result_type='expand')"
   ],
   "metadata": {
    "collapsed": false,
    "ExecuteTime": {
     "end_time": "2023-10-11T13:35:29.881666811Z",
     "start_time": "2023-10-11T13:35:29.499681499Z"
    }
   },
   "id": "597db7b0201a0664"
  },
  {
   "cell_type": "code",
   "execution_count": 144,
   "outputs": [],
   "source": [
    "annot = annot.merge(annot_expand, left_index=True, right_index=True)"
   ],
   "metadata": {
    "collapsed": false,
    "ExecuteTime": {
     "end_time": "2023-10-11T13:35:29.927571600Z",
     "start_time": "2023-10-11T13:35:29.884523067Z"
    }
   },
   "id": "880fa95d5c2f28cf"
  },
  {
   "cell_type": "code",
   "execution_count": 145,
   "outputs": [],
   "source": [
    "train, test = train_test_split(annot['subject'].unique(), random_state=42, shuffle=True, test_size=0.1)"
   ],
   "metadata": {
    "collapsed": false,
    "ExecuteTime": {
     "end_time": "2023-10-11T13:35:29.927711086Z",
     "start_time": "2023-10-11T13:35:29.927451216Z"
    }
   },
   "id": "623eedb6976c364"
  },
  {
   "cell_type": "code",
   "execution_count": 146,
   "outputs": [],
   "source": [
    "annot['train'] = [True if s in train else False for s in annot['subject']]"
   ],
   "metadata": {
    "collapsed": false,
    "ExecuteTime": {
     "end_time": "2023-10-11T13:35:29.927788461Z",
     "start_time": "2023-10-11T13:35:29.927540530Z"
    }
   },
   "id": "d49821eb7fd7f521"
  },
  {
   "cell_type": "code",
   "execution_count": 147,
   "outputs": [
    {
     "data": {
      "text/plain": "                                        structured_path  \\\n0     data/egd/DICOM_STRUCTURED/MR_20020205/20020205...   \n1     data/egd/DICOM_STRUCTURED/MR_20020205/20020205...   \n3     data/egd/DICOM_STRUCTURED/MR_61373/20170605/MR...   \n4     data/egd/DICOM_STRUCTURED/MR_61373/20170605/MR...   \n6     data/egd/DICOM_STRUCTURED/MR_61373/20170605/MR...   \n...                                                 ...   \n3503  data/egd/DICOM_STRUCTURED/MR_97898/20180127/MR...   \n3505  data/egd/DICOM_STRUCTURED/MR_97898/20180127/MR...   \n3506  data/egd/DICOM_STRUCTURED/MR_97898/20180127/MR...   \n3507  data/egd/DICOM_STRUCTURED/MR_97898/20180127/MR...   \n3508  data/egd/DICOM_STRUCTURED/MR_97898/20180127/MR...   \n\n                                               filename  \\\n0     1.2.826.0.1.3680043.10.104.2857427232523006061...   \n1     1.2.826.0.1.3680043.10.104.2857427232523006061...   \n3     1.2.826.0.1.3680043.10.104.1044043140781656433...   \n4     1.2.826.0.1.3680043.10.104.1044043140781656433...   \n6     1.2.826.0.1.3680043.10.104.1044043140781656433...   \n...                                                 ...   \n3503  1.2.826.0.1.3680043.10.104.1081727604819600522...   \n3505  1.2.826.0.1.3680043.10.104.1081727604819600522...   \n3506  1.2.826.0.1.3680043.10.104.1081727604819600522...   \n3507  1.2.826.0.1.3680043.10.104.1081727604819600522...   \n3508  1.2.826.0.1.3680043.10.104.1081727604819600522...   \n\n                                                   path  \\\n0     data/egd/data/MR_20020205_EGD-0924/scans/3-T1_...   \n1     data/egd/data/MR_20020205_EGD-0924/scans/8-T2_...   \n3     data/egd/data/MR_20150326_EGD-1215/scans/3-3D_...   \n4     data/egd/data/MR_20150326_EGD-1215/scans/650-a...   \n6     data/egd/data/MR_20150326_EGD-1215/scans/450-A...   \n...                                                 ...   \n3503  data/egd/data/MR_20151117_EGD-1208/scans/950-P...   \n3505  data/egd/data/MR_20151117_EGD-1208/scans/651-P...   \n3506  data/egd/data/MR_20151117_EGD-1208/scans/4-Ax_...   \n3507  data/egd/data/MR_20151117_EGD-1208/scans/451-e...   \n3508  data/egd/data/MR_20151117_EGD-1208/scans/450-A...   \n\n                                            raw_name name  \\\n0                                            3-T1_3D  T1w   \n1                                            8-T2_Ax  T2w   \n3                         3-3D_Ax_T1_FSPGR_HR_blanco  T1w   \n4                                        650-ax_cube  pwi   \n6     450-ADC__10__6_mm__s__Nov_02_2018_20_57_56_CET  adc   \n...                                              ...  ...   \n3503                            950-Processed_Images  pwi   \n3505                            651-Processed_Images  pwi   \n3506                          4-Ax_DWI_ALL_B1000_3mm  dwi   \n3507                   451-eADC_Jun_26_2019_14_35_34  adc   \n3508      450-ADC__10__6_mm__s__Jun_26_2019_14_35_34  adc   \n\n                 label_exp   subject  train  \n0     MR_20020205_EGD-0924  EGD-0924  False  \n1     MR_20020205_EGD-0924  EGD-0924  False  \n3     MR_20150326_EGD-1215  EGD-1215   True  \n4     MR_20150326_EGD-1215  EGD-1215   True  \n6     MR_20150326_EGD-1215  EGD-1215   True  \n...                    ...       ...    ...  \n3503  MR_20151117_EGD-1208  EGD-1208  False  \n3505  MR_20151117_EGD-1208  EGD-1208  False  \n3506  MR_20151117_EGD-1208  EGD-1208  False  \n3507  MR_20151117_EGD-1208  EGD-1208  False  \n3508  MR_20151117_EGD-1208  EGD-1208  False  \n\n[2442 rows x 8 columns]",
      "text/html": "<div>\n<style scoped>\n    .dataframe tbody tr th:only-of-type {\n        vertical-align: middle;\n    }\n\n    .dataframe tbody tr th {\n        vertical-align: top;\n    }\n\n    .dataframe thead th {\n        text-align: right;\n    }\n</style>\n<table border=\"1\" class=\"dataframe\">\n  <thead>\n    <tr style=\"text-align: right;\">\n      <th></th>\n      <th>structured_path</th>\n      <th>filename</th>\n      <th>path</th>\n      <th>raw_name</th>\n      <th>name</th>\n      <th>label_exp</th>\n      <th>subject</th>\n      <th>train</th>\n    </tr>\n  </thead>\n  <tbody>\n    <tr>\n      <th>0</th>\n      <td>data/egd/DICOM_STRUCTURED/MR_20020205/20020205...</td>\n      <td>1.2.826.0.1.3680043.10.104.2857427232523006061...</td>\n      <td>data/egd/data/MR_20020205_EGD-0924/scans/3-T1_...</td>\n      <td>3-T1_3D</td>\n      <td>T1w</td>\n      <td>MR_20020205_EGD-0924</td>\n      <td>EGD-0924</td>\n      <td>False</td>\n    </tr>\n    <tr>\n      <th>1</th>\n      <td>data/egd/DICOM_STRUCTURED/MR_20020205/20020205...</td>\n      <td>1.2.826.0.1.3680043.10.104.2857427232523006061...</td>\n      <td>data/egd/data/MR_20020205_EGD-0924/scans/8-T2_...</td>\n      <td>8-T2_Ax</td>\n      <td>T2w</td>\n      <td>MR_20020205_EGD-0924</td>\n      <td>EGD-0924</td>\n      <td>False</td>\n    </tr>\n    <tr>\n      <th>3</th>\n      <td>data/egd/DICOM_STRUCTURED/MR_61373/20170605/MR...</td>\n      <td>1.2.826.0.1.3680043.10.104.1044043140781656433...</td>\n      <td>data/egd/data/MR_20150326_EGD-1215/scans/3-3D_...</td>\n      <td>3-3D_Ax_T1_FSPGR_HR_blanco</td>\n      <td>T1w</td>\n      <td>MR_20150326_EGD-1215</td>\n      <td>EGD-1215</td>\n      <td>True</td>\n    </tr>\n    <tr>\n      <th>4</th>\n      <td>data/egd/DICOM_STRUCTURED/MR_61373/20170605/MR...</td>\n      <td>1.2.826.0.1.3680043.10.104.1044043140781656433...</td>\n      <td>data/egd/data/MR_20150326_EGD-1215/scans/650-a...</td>\n      <td>650-ax_cube</td>\n      <td>pwi</td>\n      <td>MR_20150326_EGD-1215</td>\n      <td>EGD-1215</td>\n      <td>True</td>\n    </tr>\n    <tr>\n      <th>6</th>\n      <td>data/egd/DICOM_STRUCTURED/MR_61373/20170605/MR...</td>\n      <td>1.2.826.0.1.3680043.10.104.1044043140781656433...</td>\n      <td>data/egd/data/MR_20150326_EGD-1215/scans/450-A...</td>\n      <td>450-ADC__10__6_mm__s__Nov_02_2018_20_57_56_CET</td>\n      <td>adc</td>\n      <td>MR_20150326_EGD-1215</td>\n      <td>EGD-1215</td>\n      <td>True</td>\n    </tr>\n    <tr>\n      <th>...</th>\n      <td>...</td>\n      <td>...</td>\n      <td>...</td>\n      <td>...</td>\n      <td>...</td>\n      <td>...</td>\n      <td>...</td>\n      <td>...</td>\n    </tr>\n    <tr>\n      <th>3503</th>\n      <td>data/egd/DICOM_STRUCTURED/MR_97898/20180127/MR...</td>\n      <td>1.2.826.0.1.3680043.10.104.1081727604819600522...</td>\n      <td>data/egd/data/MR_20151117_EGD-1208/scans/950-P...</td>\n      <td>950-Processed_Images</td>\n      <td>pwi</td>\n      <td>MR_20151117_EGD-1208</td>\n      <td>EGD-1208</td>\n      <td>False</td>\n    </tr>\n    <tr>\n      <th>3505</th>\n      <td>data/egd/DICOM_STRUCTURED/MR_97898/20180127/MR...</td>\n      <td>1.2.826.0.1.3680043.10.104.1081727604819600522...</td>\n      <td>data/egd/data/MR_20151117_EGD-1208/scans/651-P...</td>\n      <td>651-Processed_Images</td>\n      <td>pwi</td>\n      <td>MR_20151117_EGD-1208</td>\n      <td>EGD-1208</td>\n      <td>False</td>\n    </tr>\n    <tr>\n      <th>3506</th>\n      <td>data/egd/DICOM_STRUCTURED/MR_97898/20180127/MR...</td>\n      <td>1.2.826.0.1.3680043.10.104.1081727604819600522...</td>\n      <td>data/egd/data/MR_20151117_EGD-1208/scans/4-Ax_...</td>\n      <td>4-Ax_DWI_ALL_B1000_3mm</td>\n      <td>dwi</td>\n      <td>MR_20151117_EGD-1208</td>\n      <td>EGD-1208</td>\n      <td>False</td>\n    </tr>\n    <tr>\n      <th>3507</th>\n      <td>data/egd/DICOM_STRUCTURED/MR_97898/20180127/MR...</td>\n      <td>1.2.826.0.1.3680043.10.104.1081727604819600522...</td>\n      <td>data/egd/data/MR_20151117_EGD-1208/scans/451-e...</td>\n      <td>451-eADC_Jun_26_2019_14_35_34</td>\n      <td>adc</td>\n      <td>MR_20151117_EGD-1208</td>\n      <td>EGD-1208</td>\n      <td>False</td>\n    </tr>\n    <tr>\n      <th>3508</th>\n      <td>data/egd/DICOM_STRUCTURED/MR_97898/20180127/MR...</td>\n      <td>1.2.826.0.1.3680043.10.104.1081727604819600522...</td>\n      <td>data/egd/data/MR_20151117_EGD-1208/scans/450-A...</td>\n      <td>450-ADC__10__6_mm__s__Jun_26_2019_14_35_34</td>\n      <td>adc</td>\n      <td>MR_20151117_EGD-1208</td>\n      <td>EGD-1208</td>\n      <td>False</td>\n    </tr>\n  </tbody>\n</table>\n<p>2442 rows × 8 columns</p>\n</div>"
     },
     "execution_count": 147,
     "metadata": {},
     "output_type": "execute_result"
    }
   ],
   "source": [
    "annot"
   ],
   "metadata": {
    "collapsed": false,
    "ExecuteTime": {
     "end_time": "2023-10-11T13:35:35.318011576Z",
     "start_time": "2023-10-11T13:35:35.287504011Z"
    }
   },
   "id": "371d29b72621d059"
  },
  {
   "cell_type": "code",
   "execution_count": 150,
   "outputs": [],
   "source": [
    "annot['NIFTI_path'] = [str(s).replace('DICOM_STRUCTURED','NIFTI') for s in annot['structured_path']]"
   ],
   "metadata": {
    "collapsed": false,
    "ExecuteTime": {
     "end_time": "2023-10-11T13:41:20.711586455Z",
     "start_time": "2023-10-11T13:41:20.665396537Z"
    }
   },
   "id": "3b7f9363687bd963"
  },
  {
   "cell_type": "code",
   "execution_count": 152,
   "outputs": [],
   "source": [
    "annot.to_csv('FullyAnnotatedAndTrainTestSplitReady_egd.csv',index=False)"
   ],
   "metadata": {
    "collapsed": false,
    "ExecuteTime": {
     "end_time": "2023-10-11T13:42:39.047769855Z",
     "start_time": "2023-10-11T13:42:39.006383225Z"
    }
   },
   "id": "556b10597a5851ac"
  },
  {
   "cell_type": "code",
   "execution_count": null,
   "outputs": [],
   "source": [],
   "metadata": {
    "collapsed": false
   },
   "id": "cea1f1367ca90d81"
  }
 ],
 "metadata": {
  "kernelspec": {
   "display_name": "Python 3",
   "language": "python",
   "name": "python3"
  },
  "language_info": {
   "codemirror_mode": {
    "name": "ipython",
    "version": 2
   },
   "file_extension": ".py",
   "mimetype": "text/x-python",
   "name": "python",
   "nbconvert_exporter": "python",
   "pygments_lexer": "ipython2",
   "version": "2.7.6"
  }
 },
 "nbformat": 4,
 "nbformat_minor": 5
}
