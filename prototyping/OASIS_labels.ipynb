{
 "cells": [
  {
   "cell_type": "code",
   "execution_count": 1,
   "id": "d82ab94f2d03cb14",
   "metadata": {
    "collapsed": true,
    "ExecuteTime": {
     "end_time": "2023-10-06T06:37:19.800742661Z",
     "start_time": "2023-10-06T06:37:19.353600559Z"
    }
   },
   "outputs": [],
   "source": [
    "import os\n",
    "import shutil\n",
    "import pandas as pd"
   ]
  },
  {
   "cell_type": "code",
   "execution_count": 2,
   "outputs": [],
   "source": [
    "# dataDicts = []\n",
    "# for root, dirs, files in os.walk('oasis3downloads'):\n",
    "#     for file in files:\n",
    "#         if 'nii.gz' in file:\n",
    "#             filepath = os.path.join(root,file)\n",
    "#             if '_MR_' in filepath:\n",
    "#                 type = str(filepath).split('_')[-1]\n",
    "#                 type = type.split('.nii.gz')[0]\n",
    "#                 baseFolder = str(filepath).split(os.sep)[1]\n",
    "#                 newPath = os.path.join('NIFTI',baseFolder,file)\n",
    "#                 temp = pd.Series()\n",
    "#                 temp = {'origpath':filepath, 'type':type, 'newpath':newPath}\n",
    "#                 dataDicts.append(temp)\n",
    "#             break"
   ],
   "metadata": {
    "collapsed": false,
    "ExecuteTime": {
     "end_time": "2023-10-05T09:18:16.589138034Z",
     "start_time": "2023-10-05T09:18:16.578086611Z"
    }
   },
   "id": "initial_id"
  },
  {
   "cell_type": "code",
   "execution_count": 3,
   "outputs": [],
   "source": [
    "# df = pd.read_csv('MoveFileTest.csv', index_col=0)\n",
    "# df.head(10)"
   ],
   "metadata": {
    "collapsed": false,
    "ExecuteTime": {
     "end_time": "2023-10-05T09:18:16.599943674Z",
     "start_time": "2023-10-05T09:18:16.587555301Z"
    }
   },
   "id": "e68c1577da37889d"
  },
  {
   "cell_type": "code",
   "execution_count": 5,
   "outputs": [
    {
     "name": "stdout",
     "output_type": "stream",
     "text": [
      "['NotMri' 'bold' 'T2w' 'T1w' 'T2star' 'minIP' 'dwi' 'swi' 'FLAIR' 'GRE'\n",
      " 'asl' 'fieldmap' 'angio' 'pasl' nan]\n"
     ]
    }
   ],
   "source": [
    "# print(df['type'].unique())"
   ],
   "metadata": {
    "collapsed": false,
    "ExecuteTime": {
     "end_time": "2023-10-05T09:18:17.772582339Z",
     "start_time": "2023-10-05T09:18:17.769277694Z"
    }
   },
   "id": "74f6ebfe72e3230b"
  },
  {
   "cell_type": "code",
   "execution_count": 52,
   "outputs": [],
   "source": [
    "labeldict = {\"T1\":0,\"T1_c\":1,\"T2\":2,\"T2-FLAIR\":3,\"FS\":4,\"PD\":5,\n",
    "             \"SWI\":6, \"GRE\":7, \"T2*\":8, \"DWI\":9, \"ADC\":10, \"BOLD\":11,\n",
    "             \"FlowSensitve\":12,\"PWI\":13,\"Other\":14}\n",
    "def assignLabel(dataframe):\n",
    "    description = dataframe['description']\n",
    "    try:\n",
    "        weight = dataframe['weighting']\n",
    "    except:\n",
    "        weight = None\n",
    "    otherCategories = ['fieldmap','scout','hippo','calibration','phase','localizer','asl','dti','fspgr','cbf', 'nan', 'pasl','NotMri','pet','CT','e2']\n",
    "    if description in otherCategories:\n",
    "        return 14\n",
    "    if description =='T1w':\n",
    "        return 0\n",
    "    if description =='T1c':\n",
    "        return 1\n",
    "    if weight:\n",
    "        if description =='T2w':\n",
    "            if weight=='T2':\n",
    "                return 2\n",
    "            if weight=='PD':\n",
    "                return 5\n",
    "    if description == 'T2w':\n",
    "        return 2\n",
    "    if 'FLAIR' in description:\n",
    "        return 3\n",
    "    if description =='FS':\n",
    "        return 4\n",
    "    if description =='pd':\n",
    "        return 5\n",
    "    if description =='swi' or description=='minIP':\n",
    "        return 6\n",
    "    if description.lower() =='gre':\n",
    "        return 7\n",
    "    if description =='T2star':\n",
    "        return 8\n",
    "    if description =='dwi':\n",
    "        return 9\n",
    "    if description =='adc':\n",
    "        return 10\n",
    "    if description =='bold':\n",
    "        return 11\n",
    "    if description =='angio': #flowsensitive\n",
    "        return 12\n",
    "    if description =='pwi':\n",
    "        return 13\n",
    "    return -1"
   ],
   "metadata": {
    "collapsed": false,
    "ExecuteTime": {
     "end_time": "2023-10-06T06:53:30.840387745Z",
     "start_time": "2023-10-06T06:53:30.804004595Z"
    }
   },
   "id": "fdbf3d7ee21d9d1e"
  },
  {
   "cell_type": "code",
   "execution_count": 60,
   "outputs": [],
   "source": [
    "Labels = pd.read_csv('Labels.txt', names=['ID','label','extra'],sep='\\t')"
   ],
   "metadata": {
    "collapsed": false,
    "ExecuteTime": {
     "end_time": "2023-10-06T07:04:38.136145520Z",
     "start_time": "2023-10-06T07:04:38.052881240Z"
    }
   },
   "id": "b50e6655857b8ec3"
  },
  {
   "cell_type": "code",
   "execution_count": 61,
   "outputs": [
    {
     "data": {
      "text/plain": "                                                      ID  label  extra\n0      data/OASIS/OASIS3/test/NIFTI_SLICES/sub-OAS300...      0      0\n1      data/OASIS/OASIS3/test/NIFTI_SLICES/sub-OAS304...      0      0\n2      data/OASIS/OASIS3/test/NIFTI_SLICES/sub-OAS306...      0      0\n3      data/OASIS/OASIS3/test/NIFTI_SLICES/sub-OAS306...      0      0\n4      data/OASIS/OASIS3/test/NIFTI_SLICES/sub-OAS302...      0      0\n...                                                  ...    ...    ...\n53270  data/OASIS/OASIS3/test/NIFTI_SLICES/sub-OAS304...      0      0\n53271  data/OASIS/OASIS3/test/NIFTI_SLICES/sub-OAS312...      0      0\n53272  data/OASIS/OASIS3/test/NIFTI_SLICES/sub-OAS304...      0      0\n53273  data/OASIS/OASIS3/test/NIFTI_SLICES/sub-OAS300...      0      0\n53274  data/OASIS/OASIS3/test/NIFTI_SLICES/sub-OAS304...      0      0\n\n[53275 rows x 3 columns]",
      "text/html": "<div>\n<style scoped>\n    .dataframe tbody tr th:only-of-type {\n        vertical-align: middle;\n    }\n\n    .dataframe tbody tr th {\n        vertical-align: top;\n    }\n\n    .dataframe thead th {\n        text-align: right;\n    }\n</style>\n<table border=\"1\" class=\"dataframe\">\n  <thead>\n    <tr style=\"text-align: right;\">\n      <th></th>\n      <th>ID</th>\n      <th>label</th>\n      <th>extra</th>\n    </tr>\n  </thead>\n  <tbody>\n    <tr>\n      <th>0</th>\n      <td>data/OASIS/OASIS3/test/NIFTI_SLICES/sub-OAS300...</td>\n      <td>0</td>\n      <td>0</td>\n    </tr>\n    <tr>\n      <th>1</th>\n      <td>data/OASIS/OASIS3/test/NIFTI_SLICES/sub-OAS304...</td>\n      <td>0</td>\n      <td>0</td>\n    </tr>\n    <tr>\n      <th>2</th>\n      <td>data/OASIS/OASIS3/test/NIFTI_SLICES/sub-OAS306...</td>\n      <td>0</td>\n      <td>0</td>\n    </tr>\n    <tr>\n      <th>3</th>\n      <td>data/OASIS/OASIS3/test/NIFTI_SLICES/sub-OAS306...</td>\n      <td>0</td>\n      <td>0</td>\n    </tr>\n    <tr>\n      <th>4</th>\n      <td>data/OASIS/OASIS3/test/NIFTI_SLICES/sub-OAS302...</td>\n      <td>0</td>\n      <td>0</td>\n    </tr>\n    <tr>\n      <th>...</th>\n      <td>...</td>\n      <td>...</td>\n      <td>...</td>\n    </tr>\n    <tr>\n      <th>53270</th>\n      <td>data/OASIS/OASIS3/test/NIFTI_SLICES/sub-OAS304...</td>\n      <td>0</td>\n      <td>0</td>\n    </tr>\n    <tr>\n      <th>53271</th>\n      <td>data/OASIS/OASIS3/test/NIFTI_SLICES/sub-OAS312...</td>\n      <td>0</td>\n      <td>0</td>\n    </tr>\n    <tr>\n      <th>53272</th>\n      <td>data/OASIS/OASIS3/test/NIFTI_SLICES/sub-OAS304...</td>\n      <td>0</td>\n      <td>0</td>\n    </tr>\n    <tr>\n      <th>53273</th>\n      <td>data/OASIS/OASIS3/test/NIFTI_SLICES/sub-OAS300...</td>\n      <td>0</td>\n      <td>0</td>\n    </tr>\n    <tr>\n      <th>53274</th>\n      <td>data/OASIS/OASIS3/test/NIFTI_SLICES/sub-OAS304...</td>\n      <td>0</td>\n      <td>0</td>\n    </tr>\n  </tbody>\n</table>\n<p>53275 rows × 3 columns</p>\n</div>"
     },
     "execution_count": 61,
     "metadata": {},
     "output_type": "execute_result"
    }
   ],
   "source": [
    "Labels"
   ],
   "metadata": {
    "collapsed": false,
    "ExecuteTime": {
     "end_time": "2023-10-06T07:04:38.281239674Z",
     "start_time": "2023-10-06T07:04:38.232991523Z"
    }
   },
   "id": "b9f7e89a7013079"
  },
  {
   "cell_type": "code",
   "execution_count": 62,
   "outputs": [],
   "source": [
    "def findType(ID):\n",
    "    type = ID.split('__')[0]\n",
    "    type = type.split('_')[-1]\n",
    "    return type"
   ],
   "metadata": {
    "collapsed": false,
    "ExecuteTime": {
     "end_time": "2023-10-06T07:04:38.513202574Z",
     "start_time": "2023-10-06T07:04:38.512609968Z"
    }
   },
   "id": "87e9c158e9d9ff1a"
  },
  {
   "cell_type": "code",
   "execution_count": 63,
   "outputs": [],
   "source": [
    "Labels['description'] = Labels['ID'].apply(findType)"
   ],
   "metadata": {
    "collapsed": false,
    "ExecuteTime": {
     "end_time": "2023-10-06T07:04:38.618211396Z",
     "start_time": "2023-10-06T07:04:38.592641789Z"
    }
   },
   "id": "97133e36c52faf9f"
  },
  {
   "cell_type": "code",
   "execution_count": 64,
   "outputs": [
    {
     "name": "stdout",
     "output_type": "stream",
     "text": [
      "Index(['ID', 'label', 'extra', 'description'], dtype='object')\n"
     ]
    }
   ],
   "source": [
    "print(Labels.columns)"
   ],
   "metadata": {
    "collapsed": false,
    "ExecuteTime": {
     "end_time": "2023-10-06T07:04:38.783906959Z",
     "start_time": "2023-10-06T07:04:38.738485813Z"
    }
   },
   "id": "38f34bac61856d52"
  },
  {
   "cell_type": "code",
   "execution_count": 65,
   "outputs": [
    {
     "data": {
      "text/plain": "label\n 14    14325\n 11     7850\n 0      6375\n 2      6375\n 9      5200\n 6      3800\n 8      3625\n 3      2125\n 7      2000\n 12     1575\n-1        25\nName: count, dtype: int64"
     },
     "execution_count": 65,
     "metadata": {},
     "output_type": "execute_result"
    }
   ],
   "source": [
    "Labels['label'] = Labels.apply(assignLabel,axis=1)\n",
    "Labels['label'].value_counts()"
   ],
   "metadata": {
    "collapsed": false,
    "ExecuteTime": {
     "end_time": "2023-10-06T07:04:39.555742952Z",
     "start_time": "2023-10-06T07:04:39.196556517Z"
    }
   },
   "id": "b8a44372eb58f770"
  },
  {
   "cell_type": "code",
   "execution_count": 66,
   "outputs": [],
   "source": [
    "Labels[['ID','label','extra']].to_csv('Test_labels_annotated.txt',index=False,sep='\\t')"
   ],
   "metadata": {
    "collapsed": false,
    "ExecuteTime": {
     "end_time": "2023-10-06T07:04:39.965329193Z",
     "start_time": "2023-10-06T07:04:39.843012378Z"
    }
   },
   "id": "984ca17b343d26b3"
  },
  {
   "cell_type": "code",
   "execution_count": null,
   "outputs": [],
   "source": [],
   "metadata": {
    "collapsed": false
   },
   "id": "43b9310fc06e345b"
  }
 ],
 "metadata": {
  "kernelspec": {
   "display_name": "Python 3",
   "language": "python",
   "name": "python3"
  },
  "language_info": {
   "codemirror_mode": {
    "name": "ipython",
    "version": 2
   },
   "file_extension": ".py",
   "mimetype": "text/x-python",
   "name": "python",
   "nbconvert_exporter": "python",
   "pygments_lexer": "ipython2",
   "version": "2.7.6"
  }
 },
 "nbformat": 4,
 "nbformat_minor": 5
}
