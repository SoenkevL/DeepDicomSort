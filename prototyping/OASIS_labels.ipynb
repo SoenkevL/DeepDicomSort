{
 "cells": [
  {
   "cell_type": "code",
   "execution_count": 2,
   "id": "d82ab94f2d03cb14",
   "metadata": {
    "collapsed": true,
    "ExecuteTime": {
     "end_time": "2023-10-11T09:45:00.982477133Z",
     "start_time": "2023-10-11T09:45:00.694441452Z"
    }
   },
   "outputs": [],
   "source": [
    "import os\n",
    "import shutil\n",
    "import pandas as pd"
   ]
  },
  {
   "cell_type": "code",
   "execution_count": 2,
   "outputs": [],
   "source": [
    "# dataDicts = []\n",
    "# for root, dirs, files in os.walk('oasis3downloads'):\n",
    "#     for file in files:\n",
    "#         if 'nii.gz' in file:\n",
    "#             filepath = os.path.join(root,file)\n",
    "#             if '_MR_' in filepath:\n",
    "#                 type = str(filepath).split('_')[-1]\n",
    "#                 type = type.split('.nii.gz')[0]\n",
    "#                 baseFolder = str(filepath).split(os.sep)[1]\n",
    "#                 newPath = os.path.join('NIFTI',baseFolder,file)\n",
    "#                 temp = pd.Series()\n",
    "#                 temp = {'origpath':filepath, 'type':type, 'newpath':newPath}\n",
    "#                 dataDicts.append(temp)\n",
    "#             break"
   ],
   "metadata": {
    "collapsed": false,
    "ExecuteTime": {
     "end_time": "2023-10-05T09:18:16.589138034Z",
     "start_time": "2023-10-05T09:18:16.578086611Z"
    }
   },
   "id": "initial_id"
  },
  {
   "cell_type": "code",
   "execution_count": 3,
   "outputs": [
    {
     "data": {
      "text/plain": "                                              type\nNIFTI_slice_name                                  \nsub-OAS30333_ses-d141_acq-PIB_pet__s6.nii.gz   pet\nsub-OAS30333_ses-d141_acq-PIB_pet__s9.nii.gz   pet\nsub-OAS30333_ses-d141_acq-PIB_pet__s22.nii.gz  pet\nsub-OAS30333_ses-d141_acq-PIB_pet__s4.nii.gz   pet\nsub-OAS30333_ses-d141_acq-PIB_pet__s7.nii.gz   pet\n...                                            ...\nsub-OAS30603_sess-d2253_CT__s1.nii.gz           CT\nsub-OAS30603_sess-d2253_CT__s3.nii.gz           CT\nsub-OAS30603_sess-d2253_CT__s4.nii.gz           CT\nsub-OAS30603_sess-d2253_CT__s5.nii.gz           CT\nsub-OAS30603_sess-d2253_CT__s16.nii.gz          CT\n\n[459975 rows x 1 columns]",
      "text/html": "<div>\n<style scoped>\n    .dataframe tbody tr th:only-of-type {\n        vertical-align: middle;\n    }\n\n    .dataframe tbody tr th {\n        vertical-align: top;\n    }\n\n    .dataframe thead th {\n        text-align: right;\n    }\n</style>\n<table border=\"1\" class=\"dataframe\">\n  <thead>\n    <tr style=\"text-align: right;\">\n      <th></th>\n      <th>type</th>\n    </tr>\n    <tr>\n      <th>NIFTI_slice_name</th>\n      <th></th>\n    </tr>\n  </thead>\n  <tbody>\n    <tr>\n      <th>sub-OAS30333_ses-d141_acq-PIB_pet__s6.nii.gz</th>\n      <td>pet</td>\n    </tr>\n    <tr>\n      <th>sub-OAS30333_ses-d141_acq-PIB_pet__s9.nii.gz</th>\n      <td>pet</td>\n    </tr>\n    <tr>\n      <th>sub-OAS30333_ses-d141_acq-PIB_pet__s22.nii.gz</th>\n      <td>pet</td>\n    </tr>\n    <tr>\n      <th>sub-OAS30333_ses-d141_acq-PIB_pet__s4.nii.gz</th>\n      <td>pet</td>\n    </tr>\n    <tr>\n      <th>sub-OAS30333_ses-d141_acq-PIB_pet__s7.nii.gz</th>\n      <td>pet</td>\n    </tr>\n    <tr>\n      <th>...</th>\n      <td>...</td>\n    </tr>\n    <tr>\n      <th>sub-OAS30603_sess-d2253_CT__s1.nii.gz</th>\n      <td>CT</td>\n    </tr>\n    <tr>\n      <th>sub-OAS30603_sess-d2253_CT__s3.nii.gz</th>\n      <td>CT</td>\n    </tr>\n    <tr>\n      <th>sub-OAS30603_sess-d2253_CT__s4.nii.gz</th>\n      <td>CT</td>\n    </tr>\n    <tr>\n      <th>sub-OAS30603_sess-d2253_CT__s5.nii.gz</th>\n      <td>CT</td>\n    </tr>\n    <tr>\n      <th>sub-OAS30603_sess-d2253_CT__s16.nii.gz</th>\n      <td>CT</td>\n    </tr>\n  </tbody>\n</table>\n<p>459975 rows × 1 columns</p>\n</div>"
     },
     "execution_count": 3,
     "metadata": {},
     "output_type": "execute_result"
    }
   ],
   "source": [
    "df = pd.read_csv('trainLabels.txt',names=['ID','label','extra'],sep='\\t',low_memory=False,dtype={'ID':str,'label':int,'extra':int})\n",
    "df"
   ],
   "metadata": {
    "collapsed": false,
    "ExecuteTime": {
     "end_time": "2023-10-11T09:45:03.502481637Z",
     "start_time": "2023-10-11T09:45:03.033218433Z"
    }
   },
   "id": "e68c1577da37889d"
  },
  {
   "cell_type": "code",
   "execution_count": 4,
   "outputs": [
    {
     "name": "stdout",
     "output_type": "stream",
     "text": [
      "['pet' 'T2star' 'fieldmap' 'bold' 'CT' 'T2w' 'dwi' 'T1w' 'FLAIR' 'asl'\n",
      " 'GRE' 'minIP' 'swi' 'angio' 'pasl' 'e2' nan]\n"
     ]
    }
   ],
   "source": [
    "print(df['type'].unique())"
   ],
   "metadata": {
    "collapsed": false,
    "ExecuteTime": {
     "end_time": "2023-10-11T09:45:06.065430534Z",
     "start_time": "2023-10-11T09:45:06.062046052Z"
    }
   },
   "id": "74f6ebfe72e3230b"
  },
  {
   "cell_type": "code",
   "execution_count": 9,
   "outputs": [],
   "source": [
    "df['description']=df['type']"
   ],
   "metadata": {
    "collapsed": false,
    "ExecuteTime": {
     "end_time": "2023-10-11T09:48:37.219786081Z",
     "start_time": "2023-10-11T09:48:37.178231690Z"
    }
   },
   "id": "100d8a7549dbfe1b"
  },
  {
   "cell_type": "code",
   "execution_count": 12,
   "outputs": [],
   "source": [
    "labeldict = {\"T1\":0,\"T1_c\":1,\"T2\":2,\"T2-FLAIR\":3,\"FS\":4,\"PD\":5,\n",
    "             \"SWI\":6, \"GRE\":7, \"T2*\":8, \"DWI\":9, \"ADC\":10, \"BOLD\":11,\n",
    "             \"FlowSensitve\":12,\"PWI\":13,\"ASL\":14,\"Hippo\":15,\n",
    "             \"DTI\":16,\"Other\":17}\n",
    "def assignLabel(dataframe):\n",
    "    description = str(dataframe['description'])\n",
    "    try:\n",
    "        weight = dataframe['weighting']\n",
    "    except:\n",
    "        weight = None\n",
    "    otherCategories = ['fieldmap','scout','calibration','phase','localizer','nan','NotMri','pet','CT','e2']\n",
    "    if description in otherCategories:\n",
    "        return 17\n",
    "    if description =='T1w':\n",
    "        return 0\n",
    "    if description =='T1c':\n",
    "        return 1\n",
    "    if weight:\n",
    "        if description =='T2w':\n",
    "            if weight=='T2':\n",
    "                return 2\n",
    "            if weight=='PD':\n",
    "                return 5\n",
    "    if description == 'T2w':\n",
    "        return 2\n",
    "    if 'FLAIR' in description:\n",
    "        return 3\n",
    "    if description =='FS':\n",
    "        return 4\n",
    "    if description =='pd':\n",
    "        return 5\n",
    "    if description =='swi' or description=='minIP':\n",
    "        return 6\n",
    "    if description.lower() =='gre': #from oasis3 can be magnitude or phase but no more description\n",
    "        return 7\n",
    "    if description =='T2star':\n",
    "        return 8\n",
    "    if description =='dwi':\n",
    "        return 9\n",
    "    if description =='adc':\n",
    "        return 10\n",
    "    if description =='bold':\n",
    "        return 11\n",
    "    if description =='angio': #flowsensitive\n",
    "        return 12\n",
    "    if description =='pwi' or description=='cbf':\n",
    "        return 13\n",
    "    if 'asl' in description:\n",
    "        return 14\n",
    "    if description == 'hippo':\n",
    "        return 15\n",
    "    if description == 'dti':\n",
    "        return 16\n",
    "    return -1"
   ],
   "metadata": {
    "collapsed": false,
    "ExecuteTime": {
     "end_time": "2023-10-11T09:49:19.031699092Z",
     "start_time": "2023-10-11T09:49:18.986599440Z"
    }
   },
   "id": "fdbf3d7ee21d9d1e"
  },
  {
   "cell_type": "code",
   "execution_count": 13,
   "outputs": [],
   "source": [
    "df['label'] = df.apply(assignLabel,axis=1)"
   ],
   "metadata": {
    "collapsed": false,
    "ExecuteTime": {
     "end_time": "2023-10-11T09:49:23.236216414Z",
     "start_time": "2023-10-11T09:49:19.248750453Z"
    }
   },
   "id": "a54ce670786c146c"
  },
  {
   "cell_type": "code",
   "execution_count": 15,
   "outputs": [
    {
     "data": {
      "text/plain": "label\n17    100625\n11     67150\n2      55725\n0      54000\n9      44825\n6      36600\n8      31725\n14     20800\n7      19450\n3      16900\n12     12175\nName: count, dtype: int64"
     },
     "execution_count": 15,
     "metadata": {},
     "output_type": "execute_result"
    }
   ],
   "source": [
    "df['label'].value_counts()"
   ],
   "metadata": {
    "collapsed": false,
    "ExecuteTime": {
     "end_time": "2023-10-11T09:51:42.604278953Z",
     "start_time": "2023-10-11T09:51:42.561553175Z"
    }
   },
   "id": "f17b37e2aa957ddf"
  },
  {
   "cell_type": "code",
   "execution_count": null,
   "outputs": [],
   "source": [
    "df.to_csv('Oasis3_trainLabels_extensive2.txt',index=False, header=False)"
   ],
   "metadata": {
    "collapsed": false
   },
   "id": "43b9310fc06e345b"
  }
 ],
 "metadata": {
  "kernelspec": {
   "display_name": "Python 3",
   "language": "python",
   "name": "python3"
  },
  "language_info": {
   "codemirror_mode": {
    "name": "ipython",
    "version": 2
   },
   "file_extension": ".py",
   "mimetype": "text/x-python",
   "name": "python",
   "nbconvert_exporter": "python",
   "pygments_lexer": "ipython2",
   "version": "2.7.6"
  }
 },
 "nbformat": 4,
 "nbformat_minor": 5
}
