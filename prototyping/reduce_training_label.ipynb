{
 "cells": [
  {
   "cell_type": "code",
   "execution_count": 1,
   "id": "initial_id",
   "metadata": {
    "collapsed": true,
    "ExecuteTime": {
     "end_time": "2023-11-09T08:45:55.791127405Z",
     "start_time": "2023-11-09T08:45:55.533622736Z"
    }
   },
   "outputs": [],
   "source": [
    "import pandas as pd\n",
    "import os"
   ]
  },
  {
   "cell_type": "code",
   "execution_count": 2,
   "outputs": [
    {
     "data": {
      "text/plain": "                                                path  label  extra\n0  /trinity/home/r098375/DDS/data/parelsnoer/NIFT...     16      0\n1  /trinity/home/r098375/DDS/data/parelsnoer/NIFT...     16      0\n2  /trinity/home/r098375/DDS/data/parelsnoer/NIFT...     16      0\n3  /trinity/home/r098375/DDS/data/parelsnoer/NIFT...     16      0\n4  /trinity/home/r098375/DDS/data/parelsnoer/NIFT...     16      0",
      "text/html": "<div>\n<style scoped>\n    .dataframe tbody tr th:only-of-type {\n        vertical-align: middle;\n    }\n\n    .dataframe tbody tr th {\n        vertical-align: top;\n    }\n\n    .dataframe thead th {\n        text-align: right;\n    }\n</style>\n<table border=\"1\" class=\"dataframe\">\n  <thead>\n    <tr style=\"text-align: right;\">\n      <th></th>\n      <th>path</th>\n      <th>label</th>\n      <th>extra</th>\n    </tr>\n  </thead>\n  <tbody>\n    <tr>\n      <th>0</th>\n      <td>/trinity/home/r098375/DDS/data/parelsnoer/NIFT...</td>\n      <td>16</td>\n      <td>0</td>\n    </tr>\n    <tr>\n      <th>1</th>\n      <td>/trinity/home/r098375/DDS/data/parelsnoer/NIFT...</td>\n      <td>16</td>\n      <td>0</td>\n    </tr>\n    <tr>\n      <th>2</th>\n      <td>/trinity/home/r098375/DDS/data/parelsnoer/NIFT...</td>\n      <td>16</td>\n      <td>0</td>\n    </tr>\n    <tr>\n      <th>3</th>\n      <td>/trinity/home/r098375/DDS/data/parelsnoer/NIFT...</td>\n      <td>16</td>\n      <td>0</td>\n    </tr>\n    <tr>\n      <th>4</th>\n      <td>/trinity/home/r098375/DDS/data/parelsnoer/NIFT...</td>\n      <td>16</td>\n      <td>0</td>\n    </tr>\n  </tbody>\n</table>\n</div>"
     },
     "execution_count": 2,
     "metadata": {},
     "output_type": "execute_result"
    }
   ],
   "source": [
    "LabelFile = 'parelsnoer/Parelsnoer_Labels_extensive2.txt'\n",
    "trainingLabelFrame = pd.read_csv(LabelFile,sep='\\t',names=['path','label','extra'])\n",
    "trainingLabelFrame.head()"
   ],
   "metadata": {
    "collapsed": false,
    "ExecuteTime": {
     "end_time": "2023-11-09T08:45:55.867386979Z",
     "start_time": "2023-11-09T08:45:55.794464695Z"
    }
   },
   "id": "b7e3bec08806d10f"
  },
  {
   "cell_type": "code",
   "execution_count": 3,
   "outputs": [
    {
     "data": {
      "text/plain": "'s20'"
     },
     "execution_count": 3,
     "metadata": {},
     "output_type": "execute_result"
    }
   ],
   "source": [
    "test = trainingLabelFrame['path'][0]\n",
    "test.split('__')[1].split('.nii.gz')[0]"
   ],
   "metadata": {
    "collapsed": false,
    "ExecuteTime": {
     "end_time": "2023-11-09T08:45:55.868144391Z",
     "start_time": "2023-11-09T08:45:55.854719548Z"
    }
   },
   "id": "2255257f0794a816"
  },
  {
   "cell_type": "code",
   "execution_count": 4,
   "outputs": [],
   "source": [
    "listToExclude = ['s0','s1','s2','s3','s4','s20','s21','s22','s23','s24']"
   ],
   "metadata": {
    "collapsed": false,
    "ExecuteTime": {
     "end_time": "2023-11-09T08:45:55.868321640Z",
     "start_time": "2023-11-09T08:45:55.861191088Z"
    }
   },
   "id": "c0483243640ad6a6"
  },
  {
   "cell_type": "code",
   "execution_count": 5,
   "outputs": [],
   "source": [
    "def shouldStay(pathname):\n",
    "    slice = pathname.split('__')[1].split('.nii.gz')[0]\n",
    "    return slice not in listToExclude"
   ],
   "metadata": {
    "collapsed": false,
    "ExecuteTime": {
     "end_time": "2023-11-09T08:45:55.947574634Z",
     "start_time": "2023-11-09T08:45:55.905880146Z"
    }
   },
   "id": "8f5395ecb6563d0b"
  },
  {
   "cell_type": "code",
   "execution_count": 6,
   "outputs": [],
   "source": [
    "trainingLabelFrame['keepslice'] = trainingLabelFrame['path'].apply(shouldStay)"
   ],
   "metadata": {
    "collapsed": false,
    "ExecuteTime": {
     "end_time": "2023-11-09T08:45:55.974698576Z",
     "start_time": "2023-11-09T08:45:55.906355391Z"
    }
   },
   "id": "9d8ef916e3f56db1"
  },
  {
   "cell_type": "code",
   "execution_count": 7,
   "outputs": [
    {
     "data": {
      "text/plain": "                                                path  label  extra  keepslice\n0  /trinity/home/r098375/DDS/data/parelsnoer/NIFT...     16      0      False\n1  /trinity/home/r098375/DDS/data/parelsnoer/NIFT...     16      0       True\n2  /trinity/home/r098375/DDS/data/parelsnoer/NIFT...     16      0      False\n3  /trinity/home/r098375/DDS/data/parelsnoer/NIFT...     16      0       True\n4  /trinity/home/r098375/DDS/data/parelsnoer/NIFT...     16      0       True",
      "text/html": "<div>\n<style scoped>\n    .dataframe tbody tr th:only-of-type {\n        vertical-align: middle;\n    }\n\n    .dataframe tbody tr th {\n        vertical-align: top;\n    }\n\n    .dataframe thead th {\n        text-align: right;\n    }\n</style>\n<table border=\"1\" class=\"dataframe\">\n  <thead>\n    <tr style=\"text-align: right;\">\n      <th></th>\n      <th>path</th>\n      <th>label</th>\n      <th>extra</th>\n      <th>keepslice</th>\n    </tr>\n  </thead>\n  <tbody>\n    <tr>\n      <th>0</th>\n      <td>/trinity/home/r098375/DDS/data/parelsnoer/NIFT...</td>\n      <td>16</td>\n      <td>0</td>\n      <td>False</td>\n    </tr>\n    <tr>\n      <th>1</th>\n      <td>/trinity/home/r098375/DDS/data/parelsnoer/NIFT...</td>\n      <td>16</td>\n      <td>0</td>\n      <td>True</td>\n    </tr>\n    <tr>\n      <th>2</th>\n      <td>/trinity/home/r098375/DDS/data/parelsnoer/NIFT...</td>\n      <td>16</td>\n      <td>0</td>\n      <td>False</td>\n    </tr>\n    <tr>\n      <th>3</th>\n      <td>/trinity/home/r098375/DDS/data/parelsnoer/NIFT...</td>\n      <td>16</td>\n      <td>0</td>\n      <td>True</td>\n    </tr>\n    <tr>\n      <th>4</th>\n      <td>/trinity/home/r098375/DDS/data/parelsnoer/NIFT...</td>\n      <td>16</td>\n      <td>0</td>\n      <td>True</td>\n    </tr>\n  </tbody>\n</table>\n</div>"
     },
     "execution_count": 7,
     "metadata": {},
     "output_type": "execute_result"
    }
   ],
   "source": [
    "trainingLabelFrame.head()"
   ],
   "metadata": {
    "collapsed": false,
    "ExecuteTime": {
     "end_time": "2023-11-09T08:45:55.975496154Z",
     "start_time": "2023-11-09T08:45:55.906570968Z"
    }
   },
   "id": "393744f83ab16431"
  },
  {
   "cell_type": "code",
   "execution_count": 8,
   "outputs": [],
   "source": [
    "PruneFrame = trainingLabelFrame[trainingLabelFrame['keepslice']==True]"
   ],
   "metadata": {
    "collapsed": false,
    "ExecuteTime": {
     "end_time": "2023-11-09T08:45:56.010674266Z",
     "start_time": "2023-11-09T08:45:55.906757854Z"
    }
   },
   "id": "b0222f489ef3b4c0"
  },
  {
   "cell_type": "code",
   "execution_count": 9,
   "outputs": [
    {
     "data": {
      "text/plain": "              label    extra\ncount  11235.000000  11235.0\nmean      11.995995      0.0\nstd        6.716259      0.0\nmin        0.000000      0.0\n25%       14.000000      0.0\n50%       16.000000      0.0\n75%       16.000000      0.0\nmax       17.000000      0.0",
      "text/html": "<div>\n<style scoped>\n    .dataframe tbody tr th:only-of-type {\n        vertical-align: middle;\n    }\n\n    .dataframe tbody tr th {\n        vertical-align: top;\n    }\n\n    .dataframe thead th {\n        text-align: right;\n    }\n</style>\n<table border=\"1\" class=\"dataframe\">\n  <thead>\n    <tr style=\"text-align: right;\">\n      <th></th>\n      <th>label</th>\n      <th>extra</th>\n    </tr>\n  </thead>\n  <tbody>\n    <tr>\n      <th>count</th>\n      <td>11235.000000</td>\n      <td>11235.0</td>\n    </tr>\n    <tr>\n      <th>mean</th>\n      <td>11.995995</td>\n      <td>0.0</td>\n    </tr>\n    <tr>\n      <th>std</th>\n      <td>6.716259</td>\n      <td>0.0</td>\n    </tr>\n    <tr>\n      <th>min</th>\n      <td>0.000000</td>\n      <td>0.0</td>\n    </tr>\n    <tr>\n      <th>25%</th>\n      <td>14.000000</td>\n      <td>0.0</td>\n    </tr>\n    <tr>\n      <th>50%</th>\n      <td>16.000000</td>\n      <td>0.0</td>\n    </tr>\n    <tr>\n      <th>75%</th>\n      <td>16.000000</td>\n      <td>0.0</td>\n    </tr>\n    <tr>\n      <th>max</th>\n      <td>17.000000</td>\n      <td>0.0</td>\n    </tr>\n  </tbody>\n</table>\n</div>"
     },
     "execution_count": 9,
     "metadata": {},
     "output_type": "execute_result"
    }
   ],
   "source": [
    "PruneFrame.describe()"
   ],
   "metadata": {
    "collapsed": false,
    "ExecuteTime": {
     "end_time": "2023-11-09T08:45:56.011733317Z",
     "start_time": "2023-11-09T08:45:55.953580504Z"
    }
   },
   "id": "5f1774cc67fb93d0"
  },
  {
   "cell_type": "code",
   "execution_count": 10,
   "outputs": [],
   "source": [
    "extension = os.path.splitext(LabelFile)\n",
    "basename = extension[0]\n",
    "extension = extension[1]\n",
    "outname = f'{basename}_pruned{extension}'\n",
    "PruneFrame.to_csv(outname,columns=['path','label','extra'],sep='\\t',index=False,header=False)"
   ],
   "metadata": {
    "collapsed": false,
    "ExecuteTime": {
     "end_time": "2023-11-09T08:45:56.023153364Z",
     "start_time": "2023-11-09T08:45:55.954000776Z"
    }
   },
   "id": "bdae2d46e6674819"
  },
  {
   "cell_type": "code",
   "execution_count": 10,
   "outputs": [],
   "source": [],
   "metadata": {
    "collapsed": false,
    "ExecuteTime": {
     "end_time": "2023-11-09T08:45:56.023418807Z",
     "start_time": "2023-11-09T08:45:55.988555912Z"
    }
   },
   "id": "d327e6b39068ac4d"
  }
 ],
 "metadata": {
  "kernelspec": {
   "display_name": "Python 3",
   "language": "python",
   "name": "python3"
  },
  "language_info": {
   "codemirror_mode": {
    "name": "ipython",
    "version": 2
   },
   "file_extension": ".py",
   "mimetype": "text/x-python",
   "name": "python",
   "nbconvert_exporter": "python",
   "pygments_lexer": "ipython2",
   "version": "2.7.6"
  }
 },
 "nbformat": 4,
 "nbformat_minor": 5
}
