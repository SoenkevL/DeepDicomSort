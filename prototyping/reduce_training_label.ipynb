{
 "cells": [
  {
   "cell_type": "code",
   "execution_count": 23,
   "id": "initial_id",
   "metadata": {
    "collapsed": true,
    "ExecuteTime": {
     "end_time": "2023-11-28T11:15:49.788356207Z",
     "start_time": "2023-11-28T11:15:49.684432379Z"
    }
   },
   "outputs": [],
   "source": [
    "import pandas as pd\n",
    "import os"
   ]
  },
  {
   "cell_type": "code",
   "execution_count": 24,
   "outputs": [
    {
     "data": {
      "text/plain": "                                                    path  label  extra\n0      /data/scratch/r098375/data/parelsnoer_new/NIFT...      7      0\n1      /data/scratch/r098375/data/parelsnoer_new/NIFT...      7      0\n2      /data/scratch/r098375/data/parelsnoer_new/NIFT...      7      0\n3      /data/scratch/r098375/data/parelsnoer_new/NIFT...      7      0\n4      /data/scratch/r098375/data/parelsnoer_new/NIFT...      7      0\n...                                                  ...    ...    ...\n59095  /data/scratch/r098375/data/parelsnoer_new/NIFT...     15      0\n59096  /data/scratch/r098375/data/parelsnoer_new/NIFT...     15      0\n59097  /data/scratch/r098375/data/parelsnoer_new/NIFT...     15      0\n59098  /data/scratch/r098375/data/parelsnoer_new/NIFT...     15      0\n59099  /data/scratch/r098375/data/parelsnoer_new/NIFT...     15      0\n\n[59100 rows x 3 columns]",
      "text/html": "<div>\n<style scoped>\n    .dataframe tbody tr th:only-of-type {\n        vertical-align: middle;\n    }\n\n    .dataframe tbody tr th {\n        vertical-align: top;\n    }\n\n    .dataframe thead th {\n        text-align: right;\n    }\n</style>\n<table border=\"1\" class=\"dataframe\">\n  <thead>\n    <tr style=\"text-align: right;\">\n      <th></th>\n      <th>path</th>\n      <th>label</th>\n      <th>extra</th>\n    </tr>\n  </thead>\n  <tbody>\n    <tr>\n      <th>0</th>\n      <td>/data/scratch/r098375/data/parelsnoer_new/NIFT...</td>\n      <td>7</td>\n      <td>0</td>\n    </tr>\n    <tr>\n      <th>1</th>\n      <td>/data/scratch/r098375/data/parelsnoer_new/NIFT...</td>\n      <td>7</td>\n      <td>0</td>\n    </tr>\n    <tr>\n      <th>2</th>\n      <td>/data/scratch/r098375/data/parelsnoer_new/NIFT...</td>\n      <td>7</td>\n      <td>0</td>\n    </tr>\n    <tr>\n      <th>3</th>\n      <td>/data/scratch/r098375/data/parelsnoer_new/NIFT...</td>\n      <td>7</td>\n      <td>0</td>\n    </tr>\n    <tr>\n      <th>4</th>\n      <td>/data/scratch/r098375/data/parelsnoer_new/NIFT...</td>\n      <td>7</td>\n      <td>0</td>\n    </tr>\n    <tr>\n      <th>...</th>\n      <td>...</td>\n      <td>...</td>\n      <td>...</td>\n    </tr>\n    <tr>\n      <th>59095</th>\n      <td>/data/scratch/r098375/data/parelsnoer_new/NIFT...</td>\n      <td>15</td>\n      <td>0</td>\n    </tr>\n    <tr>\n      <th>59096</th>\n      <td>/data/scratch/r098375/data/parelsnoer_new/NIFT...</td>\n      <td>15</td>\n      <td>0</td>\n    </tr>\n    <tr>\n      <th>59097</th>\n      <td>/data/scratch/r098375/data/parelsnoer_new/NIFT...</td>\n      <td>15</td>\n      <td>0</td>\n    </tr>\n    <tr>\n      <th>59098</th>\n      <td>/data/scratch/r098375/data/parelsnoer_new/NIFT...</td>\n      <td>15</td>\n      <td>0</td>\n    </tr>\n    <tr>\n      <th>59099</th>\n      <td>/data/scratch/r098375/data/parelsnoer_new/NIFT...</td>\n      <td>15</td>\n      <td>0</td>\n    </tr>\n  </tbody>\n</table>\n<p>59100 rows × 3 columns</p>\n</div>"
     },
     "execution_count": 24,
     "metadata": {},
     "output_type": "execute_result"
    }
   ],
   "source": [
    "LabelFile = 'parelsnoer/Labels_parelsnoer_annotated_extensive3.txt'\n",
    "trainingLabelFrame = pd.read_csv(LabelFile,sep='\\t',names=['path','label','extra'])\n",
    "trainingLabelFrame"
   ],
   "metadata": {
    "collapsed": false,
    "ExecuteTime": {
     "end_time": "2023-11-28T11:15:49.833073624Z",
     "start_time": "2023-11-28T11:15:49.728668071Z"
    }
   },
   "id": "b7e3bec08806d10f"
  },
  {
   "cell_type": "code",
   "execution_count": 25,
   "outputs": [
    {
     "data": {
      "text/plain": "'s22'"
     },
     "execution_count": 25,
     "metadata": {},
     "output_type": "execute_result"
    }
   ],
   "source": [
    "test = trainingLabelFrame['path'][0]\n",
    "test.rsplit('__',1)[1].split('.nii.gz')[0]"
   ],
   "metadata": {
    "collapsed": false,
    "ExecuteTime": {
     "end_time": "2023-11-28T11:15:49.905560822Z",
     "start_time": "2023-11-28T11:15:49.831791931Z"
    }
   },
   "id": "2255257f0794a816"
  },
  {
   "cell_type": "code",
   "execution_count": 26,
   "outputs": [],
   "source": [
    "listToExclude = ['s0','s1','s2','s3','s4','s20','s21','s22','s23','s24']"
   ],
   "metadata": {
    "collapsed": false,
    "ExecuteTime": {
     "end_time": "2023-11-28T11:15:49.905700119Z",
     "start_time": "2023-11-28T11:15:49.876548467Z"
    }
   },
   "id": "c0483243640ad6a6"
  },
  {
   "cell_type": "code",
   "execution_count": 27,
   "outputs": [],
   "source": [
    "def shouldStay(pathname):\n",
    "    slice = pathname.rsplit('__',1)[1].split('.nii.gz')[0]\n",
    "    return slice not in listToExclude"
   ],
   "metadata": {
    "collapsed": false,
    "ExecuteTime": {
     "end_time": "2023-11-28T11:15:49.905756770Z",
     "start_time": "2023-11-28T11:15:49.876614912Z"
    }
   },
   "id": "8f5395ecb6563d0b"
  },
  {
   "cell_type": "code",
   "execution_count": 28,
   "outputs": [],
   "source": [
    "trainingLabelFrame['keepslice'] = trainingLabelFrame['path'].apply(shouldStay)"
   ],
   "metadata": {
    "collapsed": false,
    "ExecuteTime": {
     "end_time": "2023-11-28T11:15:49.931102742Z",
     "start_time": "2023-11-28T11:15:49.876651208Z"
    }
   },
   "id": "9d8ef916e3f56db1"
  },
  {
   "cell_type": "code",
   "execution_count": 29,
   "outputs": [
    {
     "data": {
      "text/plain": "                                                    path  label  extra  \\\n1      /data/scratch/r098375/data/parelsnoer_new/NIFT...      7      0   \n4      /data/scratch/r098375/data/parelsnoer_new/NIFT...      7      0   \n5      /data/scratch/r098375/data/parelsnoer_new/NIFT...      7      0   \n6      /data/scratch/r098375/data/parelsnoer_new/NIFT...      7      0   \n7      /data/scratch/r098375/data/parelsnoer_new/NIFT...      7      0   \n...                                                  ...    ...    ...   \n59091  /data/scratch/r098375/data/parelsnoer_new/NIFT...     15      0   \n59092  /data/scratch/r098375/data/parelsnoer_new/NIFT...     15      0   \n59093  /data/scratch/r098375/data/parelsnoer_new/NIFT...     15      0   \n59096  /data/scratch/r098375/data/parelsnoer_new/NIFT...     15      0   \n59098  /data/scratch/r098375/data/parelsnoer_new/NIFT...     15      0   \n\n       keepslice  \n1           True  \n4           True  \n5           True  \n6           True  \n7           True  \n...          ...  \n59091       True  \n59092       True  \n59093       True  \n59096       True  \n59098       True  \n\n[35460 rows x 4 columns]",
      "text/html": "<div>\n<style scoped>\n    .dataframe tbody tr th:only-of-type {\n        vertical-align: middle;\n    }\n\n    .dataframe tbody tr th {\n        vertical-align: top;\n    }\n\n    .dataframe thead th {\n        text-align: right;\n    }\n</style>\n<table border=\"1\" class=\"dataframe\">\n  <thead>\n    <tr style=\"text-align: right;\">\n      <th></th>\n      <th>path</th>\n      <th>label</th>\n      <th>extra</th>\n      <th>keepslice</th>\n    </tr>\n  </thead>\n  <tbody>\n    <tr>\n      <th>1</th>\n      <td>/data/scratch/r098375/data/parelsnoer_new/NIFT...</td>\n      <td>7</td>\n      <td>0</td>\n      <td>True</td>\n    </tr>\n    <tr>\n      <th>4</th>\n      <td>/data/scratch/r098375/data/parelsnoer_new/NIFT...</td>\n      <td>7</td>\n      <td>0</td>\n      <td>True</td>\n    </tr>\n    <tr>\n      <th>5</th>\n      <td>/data/scratch/r098375/data/parelsnoer_new/NIFT...</td>\n      <td>7</td>\n      <td>0</td>\n      <td>True</td>\n    </tr>\n    <tr>\n      <th>6</th>\n      <td>/data/scratch/r098375/data/parelsnoer_new/NIFT...</td>\n      <td>7</td>\n      <td>0</td>\n      <td>True</td>\n    </tr>\n    <tr>\n      <th>7</th>\n      <td>/data/scratch/r098375/data/parelsnoer_new/NIFT...</td>\n      <td>7</td>\n      <td>0</td>\n      <td>True</td>\n    </tr>\n    <tr>\n      <th>...</th>\n      <td>...</td>\n      <td>...</td>\n      <td>...</td>\n      <td>...</td>\n    </tr>\n    <tr>\n      <th>59091</th>\n      <td>/data/scratch/r098375/data/parelsnoer_new/NIFT...</td>\n      <td>15</td>\n      <td>0</td>\n      <td>True</td>\n    </tr>\n    <tr>\n      <th>59092</th>\n      <td>/data/scratch/r098375/data/parelsnoer_new/NIFT...</td>\n      <td>15</td>\n      <td>0</td>\n      <td>True</td>\n    </tr>\n    <tr>\n      <th>59093</th>\n      <td>/data/scratch/r098375/data/parelsnoer_new/NIFT...</td>\n      <td>15</td>\n      <td>0</td>\n      <td>True</td>\n    </tr>\n    <tr>\n      <th>59096</th>\n      <td>/data/scratch/r098375/data/parelsnoer_new/NIFT...</td>\n      <td>15</td>\n      <td>0</td>\n      <td>True</td>\n    </tr>\n    <tr>\n      <th>59098</th>\n      <td>/data/scratch/r098375/data/parelsnoer_new/NIFT...</td>\n      <td>15</td>\n      <td>0</td>\n      <td>True</td>\n    </tr>\n  </tbody>\n</table>\n<p>35460 rows × 4 columns</p>\n</div>"
     },
     "execution_count": 29,
     "metadata": {},
     "output_type": "execute_result"
    }
   ],
   "source": [
    "trainingLabelFrame[trainingLabelFrame['keepslice']]"
   ],
   "metadata": {
    "collapsed": false,
    "ExecuteTime": {
     "end_time": "2023-11-28T11:15:49.931486954Z",
     "start_time": "2023-11-28T11:15:49.920686581Z"
    }
   },
   "id": "393744f83ab16431"
  },
  {
   "cell_type": "code",
   "execution_count": 30,
   "outputs": [],
   "source": [
    "PruneFrame = trainingLabelFrame[trainingLabelFrame['keepslice']]"
   ],
   "metadata": {
    "collapsed": false,
    "ExecuteTime": {
     "end_time": "2023-11-28T11:15:49.931558426Z",
     "start_time": "2023-11-28T11:15:49.920861305Z"
    }
   },
   "id": "b0222f489ef3b4c0"
  },
  {
   "cell_type": "code",
   "execution_count": 31,
   "outputs": [
    {
     "data": {
      "text/plain": "label\n14    640.0\n0     613.0\n7     490.0\n15    349.0\n3     165.0\n13     66.0\n12     33.0\n5       5.0\n1       3.0\nName: count, dtype: float64"
     },
     "execution_count": 31,
     "metadata": {},
     "output_type": "execute_result"
    }
   ],
   "source": [
    "PruneFrame['label'].value_counts()/15"
   ],
   "metadata": {
    "collapsed": false,
    "ExecuteTime": {
     "end_time": "2023-11-28T11:15:49.931683813Z",
     "start_time": "2023-11-28T11:15:49.920910627Z"
    }
   },
   "id": "5f1774cc67fb93d0"
  },
  {
   "cell_type": "code",
   "execution_count": 32,
   "outputs": [],
   "source": [
    "extension = os.path.splitext(LabelFile)\n",
    "basename = extension[0]\n",
    "extension = extension[1]\n",
    "outname = f'{basename}_pruned{extension}'\n",
    "PruneFrame.to_csv(outname,columns=['path','label','extra'],sep='\\t',index=False,header=False)"
   ],
   "metadata": {
    "collapsed": false,
    "ExecuteTime": {
     "end_time": "2023-11-28T11:15:50.063144551Z",
     "start_time": "2023-11-28T11:15:49.920954325Z"
    }
   },
   "id": "bdae2d46e6674819"
  },
  {
   "cell_type": "code",
   "execution_count": 32,
   "outputs": [],
   "source": [],
   "metadata": {
    "collapsed": false,
    "ExecuteTime": {
     "end_time": "2023-11-28T11:15:50.067859683Z",
     "start_time": "2023-11-28T11:15:50.063382483Z"
    }
   },
   "id": "d327e6b39068ac4d"
  }
 ],
 "metadata": {
  "kernelspec": {
   "display_name": "Python 3",
   "language": "python",
   "name": "python3"
  },
  "language_info": {
   "codemirror_mode": {
    "name": "ipython",
    "version": 2
   },
   "file_extension": ".py",
   "mimetype": "text/x-python",
   "name": "python",
   "nbconvert_exporter": "python",
   "pygments_lexer": "ipython2",
   "version": "2.7.6"
  }
 },
 "nbformat": 4,
 "nbformat_minor": 5
}
