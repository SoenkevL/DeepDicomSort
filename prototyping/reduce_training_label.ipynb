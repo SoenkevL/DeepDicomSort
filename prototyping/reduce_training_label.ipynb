{
 "cells": [
  {
   "cell_type": "code",
   "execution_count": 3,
   "id": "initial_id",
   "metadata": {
    "collapsed": true,
    "ExecuteTime": {
     "end_time": "2023-11-17T07:31:26.870835125Z",
     "start_time": "2023-11-17T07:31:26.821467411Z"
    }
   },
   "outputs": [],
   "source": [
    "import pandas as pd\n",
    "import os"
   ]
  },
  {
   "cell_type": "code",
   "execution_count": 4,
   "outputs": [
    {
     "data": {
      "text/plain": "                                                     path  label  extra\n0       /trinity/home/r098375/DDS/data/ADNI/ADNI3/trai...      3      0\n1       /trinity/home/r098375/DDS/data/ADNI/ADNI3/trai...      3      0\n2       /trinity/home/r098375/DDS/data/ADNI/ADNI3/trai...      7      0\n3       /trinity/home/r098375/DDS/data/ADNI/ADNI3/trai...      0      0\n4       /trinity/home/r098375/DDS/data/ADNI/ADNI3/trai...      3      0\n...                                                   ...    ...    ...\n350370  /trinity/home/r098375/DDS/data/ADNI/ADNI3/trai...     12      0\n350371  /trinity/home/r098375/DDS/data/ADNI/ADNI3/trai...     15      0\n350372  /trinity/home/r098375/DDS/data/ADNI/ADNI3/trai...     15      0\n350373  /trinity/home/r098375/DDS/data/ADNI/ADNI3/trai...     15      0\n350374  /trinity/home/r098375/DDS/data/ADNI/ADNI3/trai...     15      0\n\n[350375 rows x 3 columns]",
      "text/html": "<div>\n<style scoped>\n    .dataframe tbody tr th:only-of-type {\n        vertical-align: middle;\n    }\n\n    .dataframe tbody tr th {\n        vertical-align: top;\n    }\n\n    .dataframe thead th {\n        text-align: right;\n    }\n</style>\n<table border=\"1\" class=\"dataframe\">\n  <thead>\n    <tr style=\"text-align: right;\">\n      <th></th>\n      <th>path</th>\n      <th>label</th>\n      <th>extra</th>\n    </tr>\n  </thead>\n  <tbody>\n    <tr>\n      <th>0</th>\n      <td>/trinity/home/r098375/DDS/data/ADNI/ADNI3/trai...</td>\n      <td>3</td>\n      <td>0</td>\n    </tr>\n    <tr>\n      <th>1</th>\n      <td>/trinity/home/r098375/DDS/data/ADNI/ADNI3/trai...</td>\n      <td>3</td>\n      <td>0</td>\n    </tr>\n    <tr>\n      <th>2</th>\n      <td>/trinity/home/r098375/DDS/data/ADNI/ADNI3/trai...</td>\n      <td>7</td>\n      <td>0</td>\n    </tr>\n    <tr>\n      <th>3</th>\n      <td>/trinity/home/r098375/DDS/data/ADNI/ADNI3/trai...</td>\n      <td>0</td>\n      <td>0</td>\n    </tr>\n    <tr>\n      <th>4</th>\n      <td>/trinity/home/r098375/DDS/data/ADNI/ADNI3/trai...</td>\n      <td>3</td>\n      <td>0</td>\n    </tr>\n    <tr>\n      <th>...</th>\n      <td>...</td>\n      <td>...</td>\n      <td>...</td>\n    </tr>\n    <tr>\n      <th>350370</th>\n      <td>/trinity/home/r098375/DDS/data/ADNI/ADNI3/trai...</td>\n      <td>12</td>\n      <td>0</td>\n    </tr>\n    <tr>\n      <th>350371</th>\n      <td>/trinity/home/r098375/DDS/data/ADNI/ADNI3/trai...</td>\n      <td>15</td>\n      <td>0</td>\n    </tr>\n    <tr>\n      <th>350372</th>\n      <td>/trinity/home/r098375/DDS/data/ADNI/ADNI3/trai...</td>\n      <td>15</td>\n      <td>0</td>\n    </tr>\n    <tr>\n      <th>350373</th>\n      <td>/trinity/home/r098375/DDS/data/ADNI/ADNI3/trai...</td>\n      <td>15</td>\n      <td>0</td>\n    </tr>\n    <tr>\n      <th>350374</th>\n      <td>/trinity/home/r098375/DDS/data/ADNI/ADNI3/trai...</td>\n      <td>15</td>\n      <td>0</td>\n    </tr>\n  </tbody>\n</table>\n<p>350375 rows × 3 columns</p>\n</div>"
     },
     "execution_count": 4,
     "metadata": {},
     "output_type": "execute_result"
    }
   ],
   "source": [
    "LabelFile = 'ADNI/Adni3_trainLabels_extensive3.txt'\n",
    "trainingLabelFrame = pd.read_csv(LabelFile,sep='\\t',names=['path','label','extra'])\n",
    "trainingLabelFrame"
   ],
   "metadata": {
    "collapsed": false,
    "ExecuteTime": {
     "end_time": "2023-11-17T07:31:27.601183008Z",
     "start_time": "2023-11-17T07:31:26.868556098Z"
    }
   },
   "id": "b7e3bec08806d10f"
  },
  {
   "cell_type": "code",
   "execution_count": 5,
   "outputs": [
    {
     "data": {
      "text/plain": "'s11'"
     },
     "execution_count": 5,
     "metadata": {},
     "output_type": "execute_result"
    }
   ],
   "source": [
    "test = trainingLabelFrame['path'][0]\n",
    "test.rsplit('__',1)[1].split('.nii.gz')[0]"
   ],
   "metadata": {
    "collapsed": false,
    "ExecuteTime": {
     "end_time": "2023-11-17T07:31:27.601667468Z",
     "start_time": "2023-11-17T07:31:27.591597600Z"
    }
   },
   "id": "2255257f0794a816"
  },
  {
   "cell_type": "code",
   "execution_count": 6,
   "outputs": [],
   "source": [
    "listToExclude = ['s0','s1','s2','s3','s4','s20','s21','s22','s23','s24']"
   ],
   "metadata": {
    "collapsed": false,
    "ExecuteTime": {
     "end_time": "2023-11-17T07:31:27.670523164Z",
     "start_time": "2023-11-17T07:31:27.595757822Z"
    }
   },
   "id": "c0483243640ad6a6"
  },
  {
   "cell_type": "code",
   "execution_count": 7,
   "outputs": [],
   "source": [
    "def shouldStay(pathname):\n",
    "    slice = pathname.rsplit('__',1)[1].split('.nii.gz')[0]\n",
    "    return slice not in listToExclude"
   ],
   "metadata": {
    "collapsed": false,
    "ExecuteTime": {
     "end_time": "2023-11-17T07:31:27.695231458Z",
     "start_time": "2023-11-17T07:31:27.640623360Z"
    }
   },
   "id": "8f5395ecb6563d0b"
  },
  {
   "cell_type": "code",
   "execution_count": 8,
   "outputs": [],
   "source": [
    "trainingLabelFrame['keepslice'] = trainingLabelFrame['path'].apply(shouldStay)"
   ],
   "metadata": {
    "collapsed": false,
    "ExecuteTime": {
     "end_time": "2023-11-17T07:31:27.807570584Z",
     "start_time": "2023-11-17T07:31:27.640871958Z"
    }
   },
   "id": "9d8ef916e3f56db1"
  },
  {
   "cell_type": "code",
   "execution_count": 9,
   "outputs": [
    {
     "data": {
      "text/plain": "                                                     path  label  extra  \\\n0       /trinity/home/r098375/DDS/data/ADNI/ADNI3/trai...      3      0   \n2       /trinity/home/r098375/DDS/data/ADNI/ADNI3/trai...      7      0   \n3       /trinity/home/r098375/DDS/data/ADNI/ADNI3/trai...      0      0   \n4       /trinity/home/r098375/DDS/data/ADNI/ADNI3/trai...      3      0   \n5       /trinity/home/r098375/DDS/data/ADNI/ADNI3/trai...     15      0   \n...                                                   ...    ...    ...   \n350366  /trinity/home/r098375/DDS/data/ADNI/ADNI3/trai...      0      0   \n350367  /trinity/home/r098375/DDS/data/ADNI/ADNI3/trai...     15      0   \n350370  /trinity/home/r098375/DDS/data/ADNI/ADNI3/trai...     12      0   \n350372  /trinity/home/r098375/DDS/data/ADNI/ADNI3/trai...     15      0   \n350373  /trinity/home/r098375/DDS/data/ADNI/ADNI3/trai...     15      0   \n\n        keepslice  \n0            True  \n2            True  \n3            True  \n4            True  \n5            True  \n...           ...  \n350366       True  \n350367       True  \n350370       True  \n350372       True  \n350373       True  \n\n[210225 rows x 4 columns]",
      "text/html": "<div>\n<style scoped>\n    .dataframe tbody tr th:only-of-type {\n        vertical-align: middle;\n    }\n\n    .dataframe tbody tr th {\n        vertical-align: top;\n    }\n\n    .dataframe thead th {\n        text-align: right;\n    }\n</style>\n<table border=\"1\" class=\"dataframe\">\n  <thead>\n    <tr style=\"text-align: right;\">\n      <th></th>\n      <th>path</th>\n      <th>label</th>\n      <th>extra</th>\n      <th>keepslice</th>\n    </tr>\n  </thead>\n  <tbody>\n    <tr>\n      <th>0</th>\n      <td>/trinity/home/r098375/DDS/data/ADNI/ADNI3/trai...</td>\n      <td>3</td>\n      <td>0</td>\n      <td>True</td>\n    </tr>\n    <tr>\n      <th>2</th>\n      <td>/trinity/home/r098375/DDS/data/ADNI/ADNI3/trai...</td>\n      <td>7</td>\n      <td>0</td>\n      <td>True</td>\n    </tr>\n    <tr>\n      <th>3</th>\n      <td>/trinity/home/r098375/DDS/data/ADNI/ADNI3/trai...</td>\n      <td>0</td>\n      <td>0</td>\n      <td>True</td>\n    </tr>\n    <tr>\n      <th>4</th>\n      <td>/trinity/home/r098375/DDS/data/ADNI/ADNI3/trai...</td>\n      <td>3</td>\n      <td>0</td>\n      <td>True</td>\n    </tr>\n    <tr>\n      <th>5</th>\n      <td>/trinity/home/r098375/DDS/data/ADNI/ADNI3/trai...</td>\n      <td>15</td>\n      <td>0</td>\n      <td>True</td>\n    </tr>\n    <tr>\n      <th>...</th>\n      <td>...</td>\n      <td>...</td>\n      <td>...</td>\n      <td>...</td>\n    </tr>\n    <tr>\n      <th>350366</th>\n      <td>/trinity/home/r098375/DDS/data/ADNI/ADNI3/trai...</td>\n      <td>0</td>\n      <td>0</td>\n      <td>True</td>\n    </tr>\n    <tr>\n      <th>350367</th>\n      <td>/trinity/home/r098375/DDS/data/ADNI/ADNI3/trai...</td>\n      <td>15</td>\n      <td>0</td>\n      <td>True</td>\n    </tr>\n    <tr>\n      <th>350370</th>\n      <td>/trinity/home/r098375/DDS/data/ADNI/ADNI3/trai...</td>\n      <td>12</td>\n      <td>0</td>\n      <td>True</td>\n    </tr>\n    <tr>\n      <th>350372</th>\n      <td>/trinity/home/r098375/DDS/data/ADNI/ADNI3/trai...</td>\n      <td>15</td>\n      <td>0</td>\n      <td>True</td>\n    </tr>\n    <tr>\n      <th>350373</th>\n      <td>/trinity/home/r098375/DDS/data/ADNI/ADNI3/trai...</td>\n      <td>15</td>\n      <td>0</td>\n      <td>True</td>\n    </tr>\n  </tbody>\n</table>\n<p>210225 rows × 4 columns</p>\n</div>"
     },
     "execution_count": 9,
     "metadata": {},
     "output_type": "execute_result"
    }
   ],
   "source": [
    "trainingLabelFrame[trainingLabelFrame['keepslice']]"
   ],
   "metadata": {
    "collapsed": false,
    "ExecuteTime": {
     "end_time": "2023-11-17T07:31:27.853296062Z",
     "start_time": "2023-11-17T07:31:27.809063848Z"
    }
   },
   "id": "393744f83ab16431"
  },
  {
   "cell_type": "code",
   "execution_count": 10,
   "outputs": [],
   "source": [
    "PruneFrame = trainingLabelFrame[trainingLabelFrame['keepslice']]"
   ],
   "metadata": {
    "collapsed": false,
    "ExecuteTime": {
     "end_time": "2023-11-17T07:31:27.853465349Z",
     "start_time": "2023-11-17T07:31:27.852602698Z"
    }
   },
   "id": "b0222f489ef3b4c0"
  },
  {
   "cell_type": "code",
   "execution_count": 13,
   "outputs": [
    {
     "data": {
      "text/plain": "label\n15    5233.0\n7     3605.0\n0     2088.0\n3     1797.0\n12     874.0\n13     328.0\n14      74.0\n5       14.0\n4        2.0\nName: count, dtype: float64"
     },
     "execution_count": 13,
     "metadata": {},
     "output_type": "execute_result"
    }
   ],
   "source": [
    "PruneFrame['label'].value_counts()/15"
   ],
   "metadata": {
    "collapsed": false,
    "ExecuteTime": {
     "end_time": "2023-11-17T07:31:59.233014169Z",
     "start_time": "2023-11-17T07:31:59.186719106Z"
    }
   },
   "id": "5f1774cc67fb93d0"
  },
  {
   "cell_type": "code",
   "execution_count": 12,
   "outputs": [],
   "source": [
    "extension = os.path.splitext(LabelFile)\n",
    "basename = extension[0]\n",
    "extension = extension[1]\n",
    "outname = f'{basename}_pruned{extension}'\n",
    "PruneFrame.to_csv(outname,columns=['path','label','extra'],sep='\\t',index=False,header=False)"
   ],
   "metadata": {
    "collapsed": false,
    "ExecuteTime": {
     "end_time": "2023-11-17T07:31:28.789004893Z",
     "start_time": "2023-11-17T07:31:27.900484510Z"
    }
   },
   "id": "bdae2d46e6674819"
  },
  {
   "cell_type": "code",
   "execution_count": 12,
   "outputs": [],
   "source": [],
   "metadata": {
    "collapsed": false,
    "ExecuteTime": {
     "end_time": "2023-11-17T07:31:28.836660152Z",
     "start_time": "2023-11-17T07:31:28.790210470Z"
    }
   },
   "id": "d327e6b39068ac4d"
  }
 ],
 "metadata": {
  "kernelspec": {
   "display_name": "Python 3",
   "language": "python",
   "name": "python3"
  },
  "language_info": {
   "codemirror_mode": {
    "name": "ipython",
    "version": 2
   },
   "file_extension": ".py",
   "mimetype": "text/x-python",
   "name": "python",
   "nbconvert_exporter": "python",
   "pygments_lexer": "ipython2",
   "version": "2.7.6"
  }
 },
 "nbformat": 4,
 "nbformat_minor": 5
}
