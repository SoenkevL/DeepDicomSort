{
 "cells": [
  {
   "cell_type": "code",
   "execution_count": 11,
   "id": "initial_id",
   "metadata": {
    "collapsed": true,
    "ExecuteTime": {
     "end_time": "2023-09-21T14:12:48.322595204Z",
     "start_time": "2023-09-21T14:12:48.273717128Z"
    }
   },
   "outputs": [],
   "source": [
    "import pandas as pd\n",
    "import os"
   ]
  },
  {
   "cell_type": "code",
   "execution_count": 12,
   "outputs": [
    {
     "data": {
      "text/plain": "                                                path  label  extra\n0  ../data/NIFTI_SLICES/test/BraTS2021_01181_seg_...      4      0\n1  ../data/NIFTI_SLICES/test/BraTS2021_01399_seg_...      4      0\n2  ../data/NIFTI_SLICES/test/BraTS2021_00118_t2__...      2      0\n3  ../data/NIFTI_SLICES/test/BraTS2021_01357_seg_...      4      0\n4  ../data/NIFTI_SLICES/test/BraTS2021_00130_flai...      3      0",
      "text/html": "<div>\n<style scoped>\n    .dataframe tbody tr th:only-of-type {\n        vertical-align: middle;\n    }\n\n    .dataframe tbody tr th {\n        vertical-align: top;\n    }\n\n    .dataframe thead th {\n        text-align: right;\n    }\n</style>\n<table border=\"1\" class=\"dataframe\">\n  <thead>\n    <tr style=\"text-align: right;\">\n      <th></th>\n      <th>path</th>\n      <th>label</th>\n      <th>extra</th>\n    </tr>\n  </thead>\n  <tbody>\n    <tr>\n      <th>0</th>\n      <td>../data/NIFTI_SLICES/test/BraTS2021_01181_seg_...</td>\n      <td>4</td>\n      <td>0</td>\n    </tr>\n    <tr>\n      <th>1</th>\n      <td>../data/NIFTI_SLICES/test/BraTS2021_01399_seg_...</td>\n      <td>4</td>\n      <td>0</td>\n    </tr>\n    <tr>\n      <th>2</th>\n      <td>../data/NIFTI_SLICES/test/BraTS2021_00118_t2__...</td>\n      <td>2</td>\n      <td>0</td>\n    </tr>\n    <tr>\n      <th>3</th>\n      <td>../data/NIFTI_SLICES/test/BraTS2021_01357_seg_...</td>\n      <td>4</td>\n      <td>0</td>\n    </tr>\n    <tr>\n      <th>4</th>\n      <td>../data/NIFTI_SLICES/test/BraTS2021_00130_flai...</td>\n      <td>3</td>\n      <td>0</td>\n    </tr>\n  </tbody>\n</table>\n</div>"
     },
     "execution_count": 12,
     "metadata": {},
     "output_type": "execute_result"
    }
   ],
   "source": [
    "trainingLabelFrame = pd.read_csv('/home/soenke/Internship/data/DATA/testLabelsBRATS.txt',sep='\\t',names=['path','label','extra'])\n",
    "trainingLabelFrame.head()"
   ],
   "metadata": {
    "collapsed": false,
    "ExecuteTime": {
     "end_time": "2023-09-21T14:12:48.323137926Z",
     "start_time": "2023-09-21T14:12:48.314876426Z"
    }
   },
   "id": "b7e3bec08806d10f"
  },
  {
   "cell_type": "code",
   "execution_count": 13,
   "outputs": [
    {
     "data": {
      "text/plain": "'s8'"
     },
     "execution_count": 13,
     "metadata": {},
     "output_type": "execute_result"
    }
   ],
   "source": [
    "test = trainingLabelFrame['path'][0]\n",
    "test.split('__')[1].split('.nii.gz')[0]"
   ],
   "metadata": {
    "collapsed": false,
    "ExecuteTime": {
     "end_time": "2023-09-21T14:12:48.323330104Z",
     "start_time": "2023-09-21T14:12:48.314969426Z"
    }
   },
   "id": "2255257f0794a816"
  },
  {
   "cell_type": "code",
   "execution_count": 14,
   "outputs": [],
   "source": [
    "listToExclude = ['s0','s1','s2','s3','s4','s20','s21','s22','s23','s24']"
   ],
   "metadata": {
    "collapsed": false,
    "ExecuteTime": {
     "end_time": "2023-09-21T14:12:48.323414446Z",
     "start_time": "2023-09-21T14:12:48.315028142Z"
    }
   },
   "id": "c0483243640ad6a6"
  },
  {
   "cell_type": "code",
   "execution_count": 15,
   "outputs": [],
   "source": [
    "def shouldStay(pathname):\n",
    "    slice = pathname.split('__')[1].split('.nii.gz')[0]\n",
    "    return slice not in listToExclude"
   ],
   "metadata": {
    "collapsed": false,
    "ExecuteTime": {
     "end_time": "2023-09-21T14:12:48.323486809Z",
     "start_time": "2023-09-21T14:12:48.319189912Z"
    }
   },
   "id": "8f5395ecb6563d0b"
  },
  {
   "cell_type": "code",
   "execution_count": 16,
   "outputs": [],
   "source": [
    "trainingLabelFrame['keepslice'] = trainingLabelFrame['path'].apply(shouldStay)"
   ],
   "metadata": {
    "collapsed": false,
    "ExecuteTime": {
     "end_time": "2023-09-21T14:12:48.413755206Z",
     "start_time": "2023-09-21T14:12:48.332918349Z"
    }
   },
   "id": "9d8ef916e3f56db1"
  },
  {
   "cell_type": "code",
   "execution_count": 17,
   "outputs": [
    {
     "data": {
      "text/plain": "                                                path  label  extra  keepslice\n0  ../data/NIFTI_SLICES/test/BraTS2021_01181_seg_...      4      0       True\n1  ../data/NIFTI_SLICES/test/BraTS2021_01399_seg_...      4      0       True\n2  ../data/NIFTI_SLICES/test/BraTS2021_00118_t2__...      2      0      False\n3  ../data/NIFTI_SLICES/test/BraTS2021_01357_seg_...      4      0      False\n4  ../data/NIFTI_SLICES/test/BraTS2021_00130_flai...      3      0       True",
      "text/html": "<div>\n<style scoped>\n    .dataframe tbody tr th:only-of-type {\n        vertical-align: middle;\n    }\n\n    .dataframe tbody tr th {\n        vertical-align: top;\n    }\n\n    .dataframe thead th {\n        text-align: right;\n    }\n</style>\n<table border=\"1\" class=\"dataframe\">\n  <thead>\n    <tr style=\"text-align: right;\">\n      <th></th>\n      <th>path</th>\n      <th>label</th>\n      <th>extra</th>\n      <th>keepslice</th>\n    </tr>\n  </thead>\n  <tbody>\n    <tr>\n      <th>0</th>\n      <td>../data/NIFTI_SLICES/test/BraTS2021_01181_seg_...</td>\n      <td>4</td>\n      <td>0</td>\n      <td>True</td>\n    </tr>\n    <tr>\n      <th>1</th>\n      <td>../data/NIFTI_SLICES/test/BraTS2021_01399_seg_...</td>\n      <td>4</td>\n      <td>0</td>\n      <td>True</td>\n    </tr>\n    <tr>\n      <th>2</th>\n      <td>../data/NIFTI_SLICES/test/BraTS2021_00118_t2__...</td>\n      <td>2</td>\n      <td>0</td>\n      <td>False</td>\n    </tr>\n    <tr>\n      <th>3</th>\n      <td>../data/NIFTI_SLICES/test/BraTS2021_01357_seg_...</td>\n      <td>4</td>\n      <td>0</td>\n      <td>False</td>\n    </tr>\n    <tr>\n      <th>4</th>\n      <td>../data/NIFTI_SLICES/test/BraTS2021_00130_flai...</td>\n      <td>3</td>\n      <td>0</td>\n      <td>True</td>\n    </tr>\n  </tbody>\n</table>\n</div>"
     },
     "execution_count": 17,
     "metadata": {},
     "output_type": "execute_result"
    }
   ],
   "source": [
    "trainingLabelFrame.head()"
   ],
   "metadata": {
    "collapsed": false,
    "ExecuteTime": {
     "end_time": "2023-09-21T14:12:48.414476744Z",
     "start_time": "2023-09-21T14:12:48.374937143Z"
    }
   },
   "id": "393744f83ab16431"
  },
  {
   "cell_type": "code",
   "execution_count": 18,
   "outputs": [],
   "source": [
    "PruneFrame = trainingLabelFrame[trainingLabelFrame['keepslice']==True]"
   ],
   "metadata": {
    "collapsed": false,
    "ExecuteTime": {
     "end_time": "2023-09-21T14:12:48.414668459Z",
     "start_time": "2023-09-21T14:12:48.375036661Z"
    }
   },
   "id": "b0222f489ef3b4c0"
  },
  {
   "cell_type": "code",
   "execution_count": 19,
   "outputs": [
    {
     "data": {
      "text/plain": "             label   extra\ncount  9390.000000  9390.0\nmean      1.894569     0.0\nstd       1.371298     0.0\nmin       0.000000     0.0\n25%       1.000000     0.0\n50%       2.000000     0.0\n75%       3.000000     0.0\nmax       4.000000     0.0",
      "text/html": "<div>\n<style scoped>\n    .dataframe tbody tr th:only-of-type {\n        vertical-align: middle;\n    }\n\n    .dataframe tbody tr th {\n        vertical-align: top;\n    }\n\n    .dataframe thead th {\n        text-align: right;\n    }\n</style>\n<table border=\"1\" class=\"dataframe\">\n  <thead>\n    <tr style=\"text-align: right;\">\n      <th></th>\n      <th>label</th>\n      <th>extra</th>\n    </tr>\n  </thead>\n  <tbody>\n    <tr>\n      <th>count</th>\n      <td>9390.000000</td>\n      <td>9390.0</td>\n    </tr>\n    <tr>\n      <th>mean</th>\n      <td>1.894569</td>\n      <td>0.0</td>\n    </tr>\n    <tr>\n      <th>std</th>\n      <td>1.371298</td>\n      <td>0.0</td>\n    </tr>\n    <tr>\n      <th>min</th>\n      <td>0.000000</td>\n      <td>0.0</td>\n    </tr>\n    <tr>\n      <th>25%</th>\n      <td>1.000000</td>\n      <td>0.0</td>\n    </tr>\n    <tr>\n      <th>50%</th>\n      <td>2.000000</td>\n      <td>0.0</td>\n    </tr>\n    <tr>\n      <th>75%</th>\n      <td>3.000000</td>\n      <td>0.0</td>\n    </tr>\n    <tr>\n      <th>max</th>\n      <td>4.000000</td>\n      <td>0.0</td>\n    </tr>\n  </tbody>\n</table>\n</div>"
     },
     "execution_count": 19,
     "metadata": {},
     "output_type": "execute_result"
    }
   ],
   "source": [
    "PruneFrame.describe()"
   ],
   "metadata": {
    "collapsed": false,
    "ExecuteTime": {
     "end_time": "2023-09-21T14:12:48.415140796Z",
     "start_time": "2023-09-21T14:12:48.375071465Z"
    }
   },
   "id": "5f1774cc67fb93d0"
  },
  {
   "cell_type": "code",
   "execution_count": 20,
   "outputs": [],
   "source": [
    "PruneFrame.to_csv('../data/DATA/prunedTestLabels.txt',columns=['path','label','extra'],sep='\\t',index=False,header=False)"
   ],
   "metadata": {
    "collapsed": false,
    "ExecuteTime": {
     "end_time": "2023-09-21T14:12:48.422711860Z",
     "start_time": "2023-09-21T14:12:48.375121623Z"
    }
   },
   "id": "bdae2d46e6674819"
  },
  {
   "cell_type": "code",
   "execution_count": 20,
   "outputs": [],
   "source": [],
   "metadata": {
    "collapsed": false,
    "ExecuteTime": {
     "end_time": "2023-09-21T14:12:48.422996844Z",
     "start_time": "2023-09-21T14:12:48.418926272Z"
    }
   },
   "id": "d327e6b39068ac4d"
  }
 ],
 "metadata": {
  "kernelspec": {
   "display_name": "Python 3",
   "language": "python",
   "name": "python3"
  },
  "language_info": {
   "codemirror_mode": {
    "name": "ipython",
    "version": 2
   },
   "file_extension": ".py",
   "mimetype": "text/x-python",
   "name": "python",
   "nbconvert_exporter": "python",
   "pygments_lexer": "ipython2",
   "version": "2.7.6"
  }
 },
 "nbformat": 4,
 "nbformat_minor": 5
}
