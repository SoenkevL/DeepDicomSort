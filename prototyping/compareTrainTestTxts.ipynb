{
 "cells": [
  {
   "cell_type": "code",
   "execution_count": 19,
   "id": "initial_id",
   "metadata": {
    "collapsed": true,
    "ExecuteTime": {
     "end_time": "2023-10-18T12:47:37.556251444Z",
     "start_time": "2023-10-18T12:47:37.501005856Z"
    }
   },
   "outputs": [],
   "source": [
    "import pandas as pd\n",
    "import os"
   ]
  },
  {
   "cell_type": "code",
   "execution_count": 20,
   "outputs": [],
   "source": [
    "testFile = 'CombinedTestingFrame_A2_A3_O3_egd_short.txt'\n",
    "trainFile = 'CombinedTrainingFrame_A2_A3_O3_egd_short.txt'"
   ],
   "metadata": {
    "collapsed": false,
    "ExecuteTime": {
     "end_time": "2023-10-18T12:47:37.556405164Z",
     "start_time": "2023-10-18T12:47:37.543802001Z"
    }
   },
   "id": "da12b4faa04f6830"
  },
  {
   "cell_type": "code",
   "execution_count": 21,
   "outputs": [],
   "source": [
    "testFrame = pd.read_csv(testFile,names=['ID','label','extra'],sep='\\t',low_memory=False, dtype={'ID':str,'label':int,'extra':int})\n",
    "trainFrame = pd.read_csv(trainFile,names=['ID','label','extra'],sep='\\t',low_memory=False, dtype={'ID':str,'label':int,'extra':int})"
   ],
   "metadata": {
    "collapsed": false,
    "ExecuteTime": {
     "end_time": "2023-10-18T12:47:37.676358132Z",
     "start_time": "2023-10-18T12:47:37.543890150Z"
    }
   },
   "id": "bbe7a2e2561d0c7f"
  },
  {
   "cell_type": "code",
   "execution_count": 28,
   "outputs": [
    {
     "data": {
      "text/plain": "                                                      ID  label  extra  \\\n0      /trinity/home/r098375/DDS/data/ADNI/ADNI3/test...      3      0   \n1      /trinity/home/r098375/DDS/data/ADNI/ADNI3/test...      3      0   \n2      /trinity/home/r098375/DDS/data/ADNI/ADNI3/test...      3      0   \n3      /trinity/home/r098375/DDS/data/ADNI/ADNI3/test...      3      0   \n4      /trinity/home/r098375/DDS/data/ADNI/ADNI3/test...      3      0   \n...                                                  ...    ...    ...   \n11195  /trinity/home/r098375/DDS/data/egd/NIFTI_SLICE...     10      0   \n11196  /trinity/home/r098375/DDS/data/egd/NIFTI_SLICE...     10      0   \n11197  /trinity/home/r098375/DDS/data/egd/NIFTI_SLICE...     10      0   \n11198  /trinity/home/r098375/DDS/data/egd/NIFTI_SLICE...     10      0   \n11199  /trinity/home/r098375/DDS/data/egd/NIFTI_SLICE...     10      0   \n\n                                               niftiName  \n0      20200213__MR__2.16.124.113543.6006.99.49513324...  \n1      20200213__MR__2.16.124.113543.6006.99.49513324...  \n2      20200213__MR__2.16.124.113543.6006.99.49513324...  \n3      20200213__MR__2.16.124.113543.6006.99.49513324...  \n4      20200213__MR__2.16.124.113543.6006.99.49513324...  \n...                                                  ...  \n11195  20180127__MR__1.2.826.0.1.3680043.10.104.10817...  \n11196  20180127__MR__1.2.826.0.1.3680043.10.104.10817...  \n11197  20180127__MR__1.2.826.0.1.3680043.10.104.10817...  \n11198  20180127__MR__1.2.826.0.1.3680043.10.104.10817...  \n11199  20180127__MR__1.2.826.0.1.3680043.10.104.10817...  \n\n[11200 rows x 4 columns]",
      "text/html": "<div>\n<style scoped>\n    .dataframe tbody tr th:only-of-type {\n        vertical-align: middle;\n    }\n\n    .dataframe tbody tr th {\n        vertical-align: top;\n    }\n\n    .dataframe thead th {\n        text-align: right;\n    }\n</style>\n<table border=\"1\" class=\"dataframe\">\n  <thead>\n    <tr style=\"text-align: right;\">\n      <th></th>\n      <th>ID</th>\n      <th>label</th>\n      <th>extra</th>\n      <th>niftiName</th>\n    </tr>\n  </thead>\n  <tbody>\n    <tr>\n      <th>0</th>\n      <td>/trinity/home/r098375/DDS/data/ADNI/ADNI3/test...</td>\n      <td>3</td>\n      <td>0</td>\n      <td>20200213__MR__2.16.124.113543.6006.99.49513324...</td>\n    </tr>\n    <tr>\n      <th>1</th>\n      <td>/trinity/home/r098375/DDS/data/ADNI/ADNI3/test...</td>\n      <td>3</td>\n      <td>0</td>\n      <td>20200213__MR__2.16.124.113543.6006.99.49513324...</td>\n    </tr>\n    <tr>\n      <th>2</th>\n      <td>/trinity/home/r098375/DDS/data/ADNI/ADNI3/test...</td>\n      <td>3</td>\n      <td>0</td>\n      <td>20200213__MR__2.16.124.113543.6006.99.49513324...</td>\n    </tr>\n    <tr>\n      <th>3</th>\n      <td>/trinity/home/r098375/DDS/data/ADNI/ADNI3/test...</td>\n      <td>3</td>\n      <td>0</td>\n      <td>20200213__MR__2.16.124.113543.6006.99.49513324...</td>\n    </tr>\n    <tr>\n      <th>4</th>\n      <td>/trinity/home/r098375/DDS/data/ADNI/ADNI3/test...</td>\n      <td>3</td>\n      <td>0</td>\n      <td>20200213__MR__2.16.124.113543.6006.99.49513324...</td>\n    </tr>\n    <tr>\n      <th>...</th>\n      <td>...</td>\n      <td>...</td>\n      <td>...</td>\n      <td>...</td>\n    </tr>\n    <tr>\n      <th>11195</th>\n      <td>/trinity/home/r098375/DDS/data/egd/NIFTI_SLICE...</td>\n      <td>10</td>\n      <td>0</td>\n      <td>20180127__MR__1.2.826.0.1.3680043.10.104.10817...</td>\n    </tr>\n    <tr>\n      <th>11196</th>\n      <td>/trinity/home/r098375/DDS/data/egd/NIFTI_SLICE...</td>\n      <td>10</td>\n      <td>0</td>\n      <td>20180127__MR__1.2.826.0.1.3680043.10.104.10817...</td>\n    </tr>\n    <tr>\n      <th>11197</th>\n      <td>/trinity/home/r098375/DDS/data/egd/NIFTI_SLICE...</td>\n      <td>10</td>\n      <td>0</td>\n      <td>20180127__MR__1.2.826.0.1.3680043.10.104.10817...</td>\n    </tr>\n    <tr>\n      <th>11198</th>\n      <td>/trinity/home/r098375/DDS/data/egd/NIFTI_SLICE...</td>\n      <td>10</td>\n      <td>0</td>\n      <td>20180127__MR__1.2.826.0.1.3680043.10.104.10817...</td>\n    </tr>\n    <tr>\n      <th>11199</th>\n      <td>/trinity/home/r098375/DDS/data/egd/NIFTI_SLICE...</td>\n      <td>10</td>\n      <td>0</td>\n      <td>20180127__MR__1.2.826.0.1.3680043.10.104.10817...</td>\n    </tr>\n  </tbody>\n</table>\n<p>11200 rows × 4 columns</p>\n</div>"
     },
     "execution_count": 28,
     "metadata": {},
     "output_type": "execute_result"
    }
   ],
   "source": [
    "testFrame"
   ],
   "metadata": {
    "collapsed": false,
    "ExecuteTime": {
     "end_time": "2023-10-18T12:48:29.431925514Z",
     "start_time": "2023-10-18T12:48:29.389604146Z"
    }
   },
   "id": "d32c8679baff1c55"
  },
  {
   "cell_type": "code",
   "execution_count": 23,
   "outputs": [
    {
     "data": {
      "text/plain": "                                                      ID  label  extra\n0      /trinity/home/r098375/DDS/data/ADNI/ADNI3/trai...      3      0\n1      /trinity/home/r098375/DDS/data/ADNI/ADNI3/trai...      3      0\n2      /trinity/home/r098375/DDS/data/ADNI/ADNI3/trai...      3      0\n3      /trinity/home/r098375/DDS/data/ADNI/ADNI3/trai...      3      0\n4      /trinity/home/r098375/DDS/data/ADNI/ADNI3/trai...      3      0\n...                                                  ...    ...    ...\n78895  /trinity/home/r098375/DDS/data/egd/NIFTI_SLICE...      1      0\n78896  /trinity/home/r098375/DDS/data/egd/NIFTI_SLICE...      1      0\n78897  /trinity/home/r098375/DDS/data/egd/NIFTI_SLICE...      1      0\n78898  /trinity/home/r098375/DDS/data/egd/NIFTI_SLICE...      1      0\n78899  /trinity/home/r098375/DDS/data/egd/NIFTI_SLICE...      1      0\n\n[78900 rows x 3 columns]",
      "text/html": "<div>\n<style scoped>\n    .dataframe tbody tr th:only-of-type {\n        vertical-align: middle;\n    }\n\n    .dataframe tbody tr th {\n        vertical-align: top;\n    }\n\n    .dataframe thead th {\n        text-align: right;\n    }\n</style>\n<table border=\"1\" class=\"dataframe\">\n  <thead>\n    <tr style=\"text-align: right;\">\n      <th></th>\n      <th>ID</th>\n      <th>label</th>\n      <th>extra</th>\n    </tr>\n  </thead>\n  <tbody>\n    <tr>\n      <th>0</th>\n      <td>/trinity/home/r098375/DDS/data/ADNI/ADNI3/trai...</td>\n      <td>3</td>\n      <td>0</td>\n    </tr>\n    <tr>\n      <th>1</th>\n      <td>/trinity/home/r098375/DDS/data/ADNI/ADNI3/trai...</td>\n      <td>3</td>\n      <td>0</td>\n    </tr>\n    <tr>\n      <th>2</th>\n      <td>/trinity/home/r098375/DDS/data/ADNI/ADNI3/trai...</td>\n      <td>3</td>\n      <td>0</td>\n    </tr>\n    <tr>\n      <th>3</th>\n      <td>/trinity/home/r098375/DDS/data/ADNI/ADNI3/trai...</td>\n      <td>3</td>\n      <td>0</td>\n    </tr>\n    <tr>\n      <th>4</th>\n      <td>/trinity/home/r098375/DDS/data/ADNI/ADNI3/trai...</td>\n      <td>3</td>\n      <td>0</td>\n    </tr>\n    <tr>\n      <th>...</th>\n      <td>...</td>\n      <td>...</td>\n      <td>...</td>\n    </tr>\n    <tr>\n      <th>78895</th>\n      <td>/trinity/home/r098375/DDS/data/egd/NIFTI_SLICE...</td>\n      <td>1</td>\n      <td>0</td>\n    </tr>\n    <tr>\n      <th>78896</th>\n      <td>/trinity/home/r098375/DDS/data/egd/NIFTI_SLICE...</td>\n      <td>1</td>\n      <td>0</td>\n    </tr>\n    <tr>\n      <th>78897</th>\n      <td>/trinity/home/r098375/DDS/data/egd/NIFTI_SLICE...</td>\n      <td>1</td>\n      <td>0</td>\n    </tr>\n    <tr>\n      <th>78898</th>\n      <td>/trinity/home/r098375/DDS/data/egd/NIFTI_SLICE...</td>\n      <td>1</td>\n      <td>0</td>\n    </tr>\n    <tr>\n      <th>78899</th>\n      <td>/trinity/home/r098375/DDS/data/egd/NIFTI_SLICE...</td>\n      <td>1</td>\n      <td>0</td>\n    </tr>\n  </tbody>\n</table>\n<p>78900 rows × 3 columns</p>\n</div>"
     },
     "execution_count": 23,
     "metadata": {},
     "output_type": "execute_result"
    }
   ],
   "source": [
    "trainFrame"
   ],
   "metadata": {
    "collapsed": false,
    "ExecuteTime": {
     "end_time": "2023-10-18T12:47:37.728717797Z",
     "start_time": "2023-10-18T12:47:37.727675137Z"
    }
   },
   "id": "5c635e17523d86e2"
  },
  {
   "cell_type": "code",
   "execution_count": 24,
   "outputs": [],
   "source": [
    "def extractNiftiName(ID):\n",
    "    name = ID.split(os.sep)[-1]\n",
    "    name = name.split('__s')[0]\n",
    "    return name"
   ],
   "metadata": {
    "collapsed": false,
    "ExecuteTime": {
     "end_time": "2023-10-18T12:47:37.728863060Z",
     "start_time": "2023-10-18T12:47:37.727806720Z"
    }
   },
   "id": "97d9cde4df1b2387"
  },
  {
   "cell_type": "code",
   "execution_count": 25,
   "outputs": [],
   "source": [
    "trainFrame['niftiName'] =  trainFrame['ID'].apply(extractNiftiName)\n",
    "testFrame['niftiName'] = testFrame['ID'].apply(extractNiftiName)"
   ],
   "metadata": {
    "collapsed": false,
    "ExecuteTime": {
     "end_time": "2023-10-18T12:47:37.810236542Z",
     "start_time": "2023-10-18T12:47:37.771471498Z"
    }
   },
   "id": "f33e405ae53cf0f5"
  },
  {
   "cell_type": "code",
   "execution_count": 26,
   "outputs": [],
   "source": [
    "overlap = trainFrame.merge(testFrame,how='inner',on='niftiName')"
   ],
   "metadata": {
    "collapsed": false,
    "ExecuteTime": {
     "end_time": "2023-10-18T12:47:37.810433416Z",
     "start_time": "2023-10-18T12:47:37.771564666Z"
    }
   },
   "id": "e0ca4b54a676dca3"
  },
  {
   "cell_type": "code",
   "execution_count": 27,
   "outputs": [
    {
     "data": {
      "text/plain": "Empty DataFrame\nColumns: [ID_x, label_x, extra_x, niftiName, ID_y, label_y, extra_y]\nIndex: []",
      "text/html": "<div>\n<style scoped>\n    .dataframe tbody tr th:only-of-type {\n        vertical-align: middle;\n    }\n\n    .dataframe tbody tr th {\n        vertical-align: top;\n    }\n\n    .dataframe thead th {\n        text-align: right;\n    }\n</style>\n<table border=\"1\" class=\"dataframe\">\n  <thead>\n    <tr style=\"text-align: right;\">\n      <th></th>\n      <th>ID_x</th>\n      <th>label_x</th>\n      <th>extra_x</th>\n      <th>niftiName</th>\n      <th>ID_y</th>\n      <th>label_y</th>\n      <th>extra_y</th>\n    </tr>\n  </thead>\n  <tbody>\n  </tbody>\n</table>\n</div>"
     },
     "execution_count": 27,
     "metadata": {},
     "output_type": "execute_result"
    }
   ],
   "source": [
    "overlap"
   ],
   "metadata": {
    "collapsed": false,
    "ExecuteTime": {
     "end_time": "2023-10-18T12:47:37.843994159Z",
     "start_time": "2023-10-18T12:47:37.785299625Z"
    }
   },
   "id": "bf6c6f23aa5a72ce"
  },
  {
   "cell_type": "code",
   "execution_count": 27,
   "outputs": [],
   "source": [],
   "metadata": {
    "collapsed": false,
    "ExecuteTime": {
     "end_time": "2023-10-18T12:47:37.844124093Z",
     "start_time": "2023-10-18T12:47:37.831477620Z"
    }
   },
   "id": "5bba8549473aea6c"
  }
 ],
 "metadata": {
  "kernelspec": {
   "display_name": "Python 3",
   "language": "python",
   "name": "python3"
  },
  "language_info": {
   "codemirror_mode": {
    "name": "ipython",
    "version": 2
   },
   "file_extension": ".py",
   "mimetype": "text/x-python",
   "name": "python",
   "nbconvert_exporter": "python",
   "pygments_lexer": "ipython2",
   "version": "2.7.6"
  }
 },
 "nbformat": 4,
 "nbformat_minor": 5
}
