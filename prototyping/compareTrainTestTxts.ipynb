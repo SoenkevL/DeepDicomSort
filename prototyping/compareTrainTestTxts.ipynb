{
 "cells": [
  {
   "cell_type": "code",
   "execution_count": 10,
   "id": "initial_id",
   "metadata": {
    "collapsed": true,
    "ExecuteTime": {
     "end_time": "2023-10-18T07:53:09.533497071Z",
     "start_time": "2023-10-18T07:53:09.487859347Z"
    }
   },
   "outputs": [],
   "source": [
    "import pandas as pd\n",
    "import os"
   ]
  },
  {
   "cell_type": "code",
   "execution_count": 11,
   "outputs": [],
   "source": [
    "testFile = 'CombinedTestingFrame_A2_A3_O3_short.txt'\n",
    "trainFile = 'CombinedTrainingFrame_A2_A3_O3_short.txt'"
   ],
   "metadata": {
    "collapsed": false,
    "ExecuteTime": {
     "end_time": "2023-10-18T07:53:09.533655512Z",
     "start_time": "2023-10-18T07:53:09.531601184Z"
    }
   },
   "id": "da12b4faa04f6830"
  },
  {
   "cell_type": "code",
   "execution_count": 12,
   "outputs": [],
   "source": [
    "testFrame = pd.read_csv(testFile,names=['ID','label','extra'],sep='\\t',low_memory=False, dtype={'ID':str,'label':int,'extra':int})\n",
    "trainFrame = pd.read_csv(trainFile,names=['ID','label','extra'],sep='\\t',low_memory=False, dtype={'ID':str,'label':int,'extra':int})"
   ],
   "metadata": {
    "collapsed": false,
    "ExecuteTime": {
     "end_time": "2023-10-18T07:53:09.628464052Z",
     "start_time": "2023-10-18T07:53:09.531718831Z"
    }
   },
   "id": "bbe7a2e2561d0c7f"
  },
  {
   "cell_type": "code",
   "execution_count": 13,
   "outputs": [
    {
     "data": {
      "text/plain": "                                                     ID  label  extra\n0     /trinity/home/r098375/DDS/data/ADNI/ADNI3/test...      3      0\n1     /trinity/home/r098375/DDS/data/ADNI/ADNI3/test...      3      0\n2     /trinity/home/r098375/DDS/data/ADNI/ADNI3/test...      3      0\n3     /trinity/home/r098375/DDS/data/ADNI/ADNI3/test...      3      0\n4     /trinity/home/r098375/DDS/data/ADNI/ADNI3/test...      3      0\n...                                                 ...    ...    ...\n9995  /trinity/home/r098375/DDS/data/OASIS/OASIS3/te...      7      0\n9996  /trinity/home/r098375/DDS/data/OASIS/OASIS3/te...      7      0\n9997  /trinity/home/r098375/DDS/data/OASIS/OASIS3/te...      7      0\n9998  /trinity/home/r098375/DDS/data/OASIS/OASIS3/te...      7      0\n9999  /trinity/home/r098375/DDS/data/OASIS/OASIS3/te...      7      0\n\n[10000 rows x 3 columns]",
      "text/html": "<div>\n<style scoped>\n    .dataframe tbody tr th:only-of-type {\n        vertical-align: middle;\n    }\n\n    .dataframe tbody tr th {\n        vertical-align: top;\n    }\n\n    .dataframe thead th {\n        text-align: right;\n    }\n</style>\n<table border=\"1\" class=\"dataframe\">\n  <thead>\n    <tr style=\"text-align: right;\">\n      <th></th>\n      <th>ID</th>\n      <th>label</th>\n      <th>extra</th>\n    </tr>\n  </thead>\n  <tbody>\n    <tr>\n      <th>0</th>\n      <td>/trinity/home/r098375/DDS/data/ADNI/ADNI3/test...</td>\n      <td>3</td>\n      <td>0</td>\n    </tr>\n    <tr>\n      <th>1</th>\n      <td>/trinity/home/r098375/DDS/data/ADNI/ADNI3/test...</td>\n      <td>3</td>\n      <td>0</td>\n    </tr>\n    <tr>\n      <th>2</th>\n      <td>/trinity/home/r098375/DDS/data/ADNI/ADNI3/test...</td>\n      <td>3</td>\n      <td>0</td>\n    </tr>\n    <tr>\n      <th>3</th>\n      <td>/trinity/home/r098375/DDS/data/ADNI/ADNI3/test...</td>\n      <td>3</td>\n      <td>0</td>\n    </tr>\n    <tr>\n      <th>4</th>\n      <td>/trinity/home/r098375/DDS/data/ADNI/ADNI3/test...</td>\n      <td>3</td>\n      <td>0</td>\n    </tr>\n    <tr>\n      <th>...</th>\n      <td>...</td>\n      <td>...</td>\n      <td>...</td>\n    </tr>\n    <tr>\n      <th>9995</th>\n      <td>/trinity/home/r098375/DDS/data/OASIS/OASIS3/te...</td>\n      <td>7</td>\n      <td>0</td>\n    </tr>\n    <tr>\n      <th>9996</th>\n      <td>/trinity/home/r098375/DDS/data/OASIS/OASIS3/te...</td>\n      <td>7</td>\n      <td>0</td>\n    </tr>\n    <tr>\n      <th>9997</th>\n      <td>/trinity/home/r098375/DDS/data/OASIS/OASIS3/te...</td>\n      <td>7</td>\n      <td>0</td>\n    </tr>\n    <tr>\n      <th>9998</th>\n      <td>/trinity/home/r098375/DDS/data/OASIS/OASIS3/te...</td>\n      <td>7</td>\n      <td>0</td>\n    </tr>\n    <tr>\n      <th>9999</th>\n      <td>/trinity/home/r098375/DDS/data/OASIS/OASIS3/te...</td>\n      <td>7</td>\n      <td>0</td>\n    </tr>\n  </tbody>\n</table>\n<p>10000 rows × 3 columns</p>\n</div>"
     },
     "execution_count": 13,
     "metadata": {},
     "output_type": "execute_result"
    }
   ],
   "source": [
    "testFrame"
   ],
   "metadata": {
    "collapsed": false,
    "ExecuteTime": {
     "end_time": "2023-10-18T07:53:09.676921923Z",
     "start_time": "2023-10-18T07:53:09.634656451Z"
    }
   },
   "id": "d32c8679baff1c55"
  },
  {
   "cell_type": "code",
   "execution_count": 14,
   "outputs": [
    {
     "data": {
      "text/plain": "                                                      ID  label  extra\n0      /trinity/home/r098375/DDS/data/ADNI/ADNI3/trai...      3      0\n1      /trinity/home/r098375/DDS/data/ADNI/ADNI3/trai...      3      0\n2      /trinity/home/r098375/DDS/data/ADNI/ADNI3/trai...      3      0\n3      /trinity/home/r098375/DDS/data/ADNI/ADNI3/trai...      3      0\n4      /trinity/home/r098375/DDS/data/ADNI/ADNI3/trai...      3      0\n...                                                  ...    ...    ...\n71495  /trinity/home/r098375/DDS/data/OASIS/OASIS3/tr...     12      0\n71496  /trinity/home/r098375/DDS/data/OASIS/OASIS3/tr...     12      0\n71497  /trinity/home/r098375/DDS/data/OASIS/OASIS3/tr...     12      0\n71498  /trinity/home/r098375/DDS/data/OASIS/OASIS3/tr...     12      0\n71499  /trinity/home/r098375/DDS/data/OASIS/OASIS3/tr...     12      0\n\n[71500 rows x 3 columns]",
      "text/html": "<div>\n<style scoped>\n    .dataframe tbody tr th:only-of-type {\n        vertical-align: middle;\n    }\n\n    .dataframe tbody tr th {\n        vertical-align: top;\n    }\n\n    .dataframe thead th {\n        text-align: right;\n    }\n</style>\n<table border=\"1\" class=\"dataframe\">\n  <thead>\n    <tr style=\"text-align: right;\">\n      <th></th>\n      <th>ID</th>\n      <th>label</th>\n      <th>extra</th>\n    </tr>\n  </thead>\n  <tbody>\n    <tr>\n      <th>0</th>\n      <td>/trinity/home/r098375/DDS/data/ADNI/ADNI3/trai...</td>\n      <td>3</td>\n      <td>0</td>\n    </tr>\n    <tr>\n      <th>1</th>\n      <td>/trinity/home/r098375/DDS/data/ADNI/ADNI3/trai...</td>\n      <td>3</td>\n      <td>0</td>\n    </tr>\n    <tr>\n      <th>2</th>\n      <td>/trinity/home/r098375/DDS/data/ADNI/ADNI3/trai...</td>\n      <td>3</td>\n      <td>0</td>\n    </tr>\n    <tr>\n      <th>3</th>\n      <td>/trinity/home/r098375/DDS/data/ADNI/ADNI3/trai...</td>\n      <td>3</td>\n      <td>0</td>\n    </tr>\n    <tr>\n      <th>4</th>\n      <td>/trinity/home/r098375/DDS/data/ADNI/ADNI3/trai...</td>\n      <td>3</td>\n      <td>0</td>\n    </tr>\n    <tr>\n      <th>...</th>\n      <td>...</td>\n      <td>...</td>\n      <td>...</td>\n    </tr>\n    <tr>\n      <th>71495</th>\n      <td>/trinity/home/r098375/DDS/data/OASIS/OASIS3/tr...</td>\n      <td>12</td>\n      <td>0</td>\n    </tr>\n    <tr>\n      <th>71496</th>\n      <td>/trinity/home/r098375/DDS/data/OASIS/OASIS3/tr...</td>\n      <td>12</td>\n      <td>0</td>\n    </tr>\n    <tr>\n      <th>71497</th>\n      <td>/trinity/home/r098375/DDS/data/OASIS/OASIS3/tr...</td>\n      <td>12</td>\n      <td>0</td>\n    </tr>\n    <tr>\n      <th>71498</th>\n      <td>/trinity/home/r098375/DDS/data/OASIS/OASIS3/tr...</td>\n      <td>12</td>\n      <td>0</td>\n    </tr>\n    <tr>\n      <th>71499</th>\n      <td>/trinity/home/r098375/DDS/data/OASIS/OASIS3/tr...</td>\n      <td>12</td>\n      <td>0</td>\n    </tr>\n  </tbody>\n</table>\n<p>71500 rows × 3 columns</p>\n</div>"
     },
     "execution_count": 14,
     "metadata": {},
     "output_type": "execute_result"
    }
   ],
   "source": [
    "trainFrame"
   ],
   "metadata": {
    "collapsed": false,
    "ExecuteTime": {
     "end_time": "2023-10-18T07:53:09.677423558Z",
     "start_time": "2023-10-18T07:53:09.675775288Z"
    }
   },
   "id": "5c635e17523d86e2"
  },
  {
   "cell_type": "code",
   "execution_count": 15,
   "outputs": [],
   "source": [
    "def extractNiftiName(ID):\n",
    "    name = ID.split(os.sep)[-1]\n",
    "    name = name.split('__s')[0]\n",
    "    return name"
   ],
   "metadata": {
    "collapsed": false,
    "ExecuteTime": {
     "end_time": "2023-10-18T07:53:09.677537699Z",
     "start_time": "2023-10-18T07:53:09.676003524Z"
    }
   },
   "id": "97d9cde4df1b2387"
  },
  {
   "cell_type": "code",
   "execution_count": 16,
   "outputs": [],
   "source": [
    "trainFrame['niftiName'] =  trainFrame['ID'].apply(extractNiftiName)\n",
    "testFrame['niftiName'] = testFrame['ID'].apply(extractNiftiName)"
   ],
   "metadata": {
    "collapsed": false,
    "ExecuteTime": {
     "end_time": "2023-10-18T07:53:09.797192192Z",
     "start_time": "2023-10-18T07:53:09.719467432Z"
    }
   },
   "id": "f33e405ae53cf0f5"
  },
  {
   "cell_type": "code",
   "execution_count": 17,
   "outputs": [],
   "source": [
    "overlap = trainFrame.merge(testFrame,how='inner',on='niftiName')"
   ],
   "metadata": {
    "collapsed": false,
    "ExecuteTime": {
     "end_time": "2023-10-18T07:53:09.797782251Z",
     "start_time": "2023-10-18T07:53:09.749599714Z"
    }
   },
   "id": "e0ca4b54a676dca3"
  },
  {
   "cell_type": "code",
   "execution_count": 18,
   "outputs": [
    {
     "data": {
      "text/plain": "Empty DataFrame\nColumns: [ID_x, label_x, extra_x, niftiName, ID_y, label_y, extra_y]\nIndex: []",
      "text/html": "<div>\n<style scoped>\n    .dataframe tbody tr th:only-of-type {\n        vertical-align: middle;\n    }\n\n    .dataframe tbody tr th {\n        vertical-align: top;\n    }\n\n    .dataframe thead th {\n        text-align: right;\n    }\n</style>\n<table border=\"1\" class=\"dataframe\">\n  <thead>\n    <tr style=\"text-align: right;\">\n      <th></th>\n      <th>ID_x</th>\n      <th>label_x</th>\n      <th>extra_x</th>\n      <th>niftiName</th>\n      <th>ID_y</th>\n      <th>label_y</th>\n      <th>extra_y</th>\n    </tr>\n  </thead>\n  <tbody>\n  </tbody>\n</table>\n</div>"
     },
     "execution_count": 18,
     "metadata": {},
     "output_type": "execute_result"
    }
   ],
   "source": [
    "overlap"
   ],
   "metadata": {
    "collapsed": false,
    "ExecuteTime": {
     "end_time": "2023-10-18T07:53:09.798510686Z",
     "start_time": "2023-10-18T07:53:09.758266827Z"
    }
   },
   "id": "bf6c6f23aa5a72ce"
  },
  {
   "cell_type": "code",
   "execution_count": 18,
   "outputs": [],
   "source": [],
   "metadata": {
    "collapsed": false,
    "ExecuteTime": {
     "end_time": "2023-10-18T07:53:09.798659274Z",
     "start_time": "2023-10-18T07:53:09.763199233Z"
    }
   },
   "id": "5bba8549473aea6c"
  }
 ],
 "metadata": {
  "kernelspec": {
   "display_name": "Python 3",
   "language": "python",
   "name": "python3"
  },
  "language_info": {
   "codemirror_mode": {
    "name": "ipython",
    "version": 2
   },
   "file_extension": ".py",
   "mimetype": "text/x-python",
   "name": "python",
   "nbconvert_exporter": "python",
   "pygments_lexer": "ipython2",
   "version": "2.7.6"
  }
 },
 "nbformat": 4,
 "nbformat_minor": 5
}
