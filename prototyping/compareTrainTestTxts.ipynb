{
 "cells": [
  {
   "cell_type": "code",
   "execution_count": 2,
   "id": "initial_id",
   "metadata": {
    "collapsed": true,
    "ExecuteTime": {
     "end_time": "2023-10-10T09:14:40.681198583Z",
     "start_time": "2023-10-10T09:14:40.674356629Z"
    }
   },
   "outputs": [],
   "source": [
    "import pandas as pd\n",
    "import os"
   ]
  },
  {
   "cell_type": "code",
   "execution_count": 6,
   "outputs": [],
   "source": [
    "testFile = 'CombinedTestingFrame_A2_A3_O3_short.txt'\n",
    "trainFile = 'CombinedTrainingFrame_A2_A3_O3_short.txt'"
   ],
   "metadata": {
    "collapsed": false,
    "ExecuteTime": {
     "end_time": "2023-10-10T09:18:33.403272932Z",
     "start_time": "2023-10-10T09:18:33.355661213Z"
    }
   },
   "id": "da12b4faa04f6830"
  },
  {
   "cell_type": "code",
   "execution_count": 7,
   "outputs": [],
   "source": [
    "testFrame = pd.read_csv(testFile,names=['ID','label','extra'],sep='\\t',low_memory=False, dtype={'ID':str,'label':int,'extra':int})\n",
    "trainFrame = pd.read_csv(trainFile,names=['ID','label','extra'],sep='\\t',low_memory=False, dtype={'ID':str,'label':int,'extra':int})"
   ],
   "metadata": {
    "collapsed": false,
    "ExecuteTime": {
     "end_time": "2023-10-10T09:18:33.594107261Z",
     "start_time": "2023-10-10T09:18:33.487835021Z"
    }
   },
   "id": "bbe7a2e2561d0c7f"
  },
  {
   "cell_type": "code",
   "execution_count": 8,
   "outputs": [
    {
     "data": {
      "text/plain": "                                                     ID  label  extra\n0     /trinity/home/r098375/DDS/data/ADNI/ADNI3/test...      3      0\n1     /trinity/home/r098375/DDS/data/ADNI/ADNI3/test...      3      0\n2     /trinity/home/r098375/DDS/data/ADNI/ADNI3/test...      3      0\n3     /trinity/home/r098375/DDS/data/ADNI/ADNI3/test...      3      0\n4     /trinity/home/r098375/DDS/data/ADNI/ADNI3/test...      3      0\n...                                                 ...    ...    ...\n8395  /trinity/home/r098375/DDS/data/OASIS/OASIS3/te...     12      0\n8396  /trinity/home/r098375/DDS/data/OASIS/OASIS3/te...     12      0\n8397  /trinity/home/r098375/DDS/data/OASIS/OASIS3/te...     12      0\n8398  /trinity/home/r098375/DDS/data/OASIS/OASIS3/te...     12      0\n8399  /trinity/home/r098375/DDS/data/OASIS/OASIS3/te...     12      0\n\n[8400 rows x 3 columns]",
      "text/html": "<div>\n<style scoped>\n    .dataframe tbody tr th:only-of-type {\n        vertical-align: middle;\n    }\n\n    .dataframe tbody tr th {\n        vertical-align: top;\n    }\n\n    .dataframe thead th {\n        text-align: right;\n    }\n</style>\n<table border=\"1\" class=\"dataframe\">\n  <thead>\n    <tr style=\"text-align: right;\">\n      <th></th>\n      <th>ID</th>\n      <th>label</th>\n      <th>extra</th>\n    </tr>\n  </thead>\n  <tbody>\n    <tr>\n      <th>0</th>\n      <td>/trinity/home/r098375/DDS/data/ADNI/ADNI3/test...</td>\n      <td>3</td>\n      <td>0</td>\n    </tr>\n    <tr>\n      <th>1</th>\n      <td>/trinity/home/r098375/DDS/data/ADNI/ADNI3/test...</td>\n      <td>3</td>\n      <td>0</td>\n    </tr>\n    <tr>\n      <th>2</th>\n      <td>/trinity/home/r098375/DDS/data/ADNI/ADNI3/test...</td>\n      <td>3</td>\n      <td>0</td>\n    </tr>\n    <tr>\n      <th>3</th>\n      <td>/trinity/home/r098375/DDS/data/ADNI/ADNI3/test...</td>\n      <td>3</td>\n      <td>0</td>\n    </tr>\n    <tr>\n      <th>4</th>\n      <td>/trinity/home/r098375/DDS/data/ADNI/ADNI3/test...</td>\n      <td>3</td>\n      <td>0</td>\n    </tr>\n    <tr>\n      <th>...</th>\n      <td>...</td>\n      <td>...</td>\n      <td>...</td>\n    </tr>\n    <tr>\n      <th>8395</th>\n      <td>/trinity/home/r098375/DDS/data/OASIS/OASIS3/te...</td>\n      <td>12</td>\n      <td>0</td>\n    </tr>\n    <tr>\n      <th>8396</th>\n      <td>/trinity/home/r098375/DDS/data/OASIS/OASIS3/te...</td>\n      <td>12</td>\n      <td>0</td>\n    </tr>\n    <tr>\n      <th>8397</th>\n      <td>/trinity/home/r098375/DDS/data/OASIS/OASIS3/te...</td>\n      <td>12</td>\n      <td>0</td>\n    </tr>\n    <tr>\n      <th>8398</th>\n      <td>/trinity/home/r098375/DDS/data/OASIS/OASIS3/te...</td>\n      <td>12</td>\n      <td>0</td>\n    </tr>\n    <tr>\n      <th>8399</th>\n      <td>/trinity/home/r098375/DDS/data/OASIS/OASIS3/te...</td>\n      <td>12</td>\n      <td>0</td>\n    </tr>\n  </tbody>\n</table>\n<p>8400 rows × 3 columns</p>\n</div>"
     },
     "execution_count": 8,
     "metadata": {},
     "output_type": "execute_result"
    }
   ],
   "source": [
    "testFrame"
   ],
   "metadata": {
    "collapsed": false,
    "ExecuteTime": {
     "end_time": "2023-10-10T09:18:37.385971472Z",
     "start_time": "2023-10-10T09:18:37.367683586Z"
    }
   },
   "id": "d32c8679baff1c55"
  },
  {
   "cell_type": "code",
   "execution_count": 9,
   "outputs": [
    {
     "data": {
      "text/plain": "                                                      ID  label  extra\n0      /trinity/home/r098375/DDS/data/ADNI/ADNI3/trai...      3      0\n1      /trinity/home/r098375/DDS/data/ADNI/ADNI3/trai...      3      0\n2      /trinity/home/r098375/DDS/data/ADNI/ADNI3/trai...      3      0\n3      /trinity/home/r098375/DDS/data/ADNI/ADNI3/trai...      3      0\n4      /trinity/home/r098375/DDS/data/ADNI/ADNI3/trai...      3      0\n...                                                  ...    ...    ...\n59095  data/OASIS/OASIS3/train/NIFTI_SLICES/sub-OAS31...     12      0\n59096  data/OASIS/OASIS3/train/NIFTI_SLICES/sub-OAS31...     12      0\n59097  data/OASIS/OASIS3/train/NIFTI_SLICES/sub-OAS31...     12      0\n59098  data/OASIS/OASIS3/train/NIFTI_SLICES/sub-OAS31...     12      0\n59099  data/OASIS/OASIS3/train/NIFTI_SLICES/sub-OAS31...     12      0\n\n[59100 rows x 3 columns]",
      "text/html": "<div>\n<style scoped>\n    .dataframe tbody tr th:only-of-type {\n        vertical-align: middle;\n    }\n\n    .dataframe tbody tr th {\n        vertical-align: top;\n    }\n\n    .dataframe thead th {\n        text-align: right;\n    }\n</style>\n<table border=\"1\" class=\"dataframe\">\n  <thead>\n    <tr style=\"text-align: right;\">\n      <th></th>\n      <th>ID</th>\n      <th>label</th>\n      <th>extra</th>\n    </tr>\n  </thead>\n  <tbody>\n    <tr>\n      <th>0</th>\n      <td>/trinity/home/r098375/DDS/data/ADNI/ADNI3/trai...</td>\n      <td>3</td>\n      <td>0</td>\n    </tr>\n    <tr>\n      <th>1</th>\n      <td>/trinity/home/r098375/DDS/data/ADNI/ADNI3/trai...</td>\n      <td>3</td>\n      <td>0</td>\n    </tr>\n    <tr>\n      <th>2</th>\n      <td>/trinity/home/r098375/DDS/data/ADNI/ADNI3/trai...</td>\n      <td>3</td>\n      <td>0</td>\n    </tr>\n    <tr>\n      <th>3</th>\n      <td>/trinity/home/r098375/DDS/data/ADNI/ADNI3/trai...</td>\n      <td>3</td>\n      <td>0</td>\n    </tr>\n    <tr>\n      <th>4</th>\n      <td>/trinity/home/r098375/DDS/data/ADNI/ADNI3/trai...</td>\n      <td>3</td>\n      <td>0</td>\n    </tr>\n    <tr>\n      <th>...</th>\n      <td>...</td>\n      <td>...</td>\n      <td>...</td>\n    </tr>\n    <tr>\n      <th>59095</th>\n      <td>data/OASIS/OASIS3/train/NIFTI_SLICES/sub-OAS31...</td>\n      <td>12</td>\n      <td>0</td>\n    </tr>\n    <tr>\n      <th>59096</th>\n      <td>data/OASIS/OASIS3/train/NIFTI_SLICES/sub-OAS31...</td>\n      <td>12</td>\n      <td>0</td>\n    </tr>\n    <tr>\n      <th>59097</th>\n      <td>data/OASIS/OASIS3/train/NIFTI_SLICES/sub-OAS31...</td>\n      <td>12</td>\n      <td>0</td>\n    </tr>\n    <tr>\n      <th>59098</th>\n      <td>data/OASIS/OASIS3/train/NIFTI_SLICES/sub-OAS31...</td>\n      <td>12</td>\n      <td>0</td>\n    </tr>\n    <tr>\n      <th>59099</th>\n      <td>data/OASIS/OASIS3/train/NIFTI_SLICES/sub-OAS31...</td>\n      <td>12</td>\n      <td>0</td>\n    </tr>\n  </tbody>\n</table>\n<p>59100 rows × 3 columns</p>\n</div>"
     },
     "execution_count": 9,
     "metadata": {},
     "output_type": "execute_result"
    }
   ],
   "source": [
    "trainFrame"
   ],
   "metadata": {
    "collapsed": false,
    "ExecuteTime": {
     "end_time": "2023-10-10T09:18:41.293616002Z",
     "start_time": "2023-10-10T09:18:41.268359355Z"
    }
   },
   "id": "5c635e17523d86e2"
  },
  {
   "cell_type": "code",
   "execution_count": 10,
   "outputs": [],
   "source": [
    "def extractNiftiName(ID):\n",
    "    name = ID.split(os.sep)[-1]\n",
    "    name = name.split('__s')[0]\n",
    "    return name"
   ],
   "metadata": {
    "collapsed": false,
    "ExecuteTime": {
     "end_time": "2023-10-10T09:20:07.929154303Z",
     "start_time": "2023-10-10T09:20:07.879793404Z"
    }
   },
   "id": "97d9cde4df1b2387"
  },
  {
   "cell_type": "code",
   "execution_count": 11,
   "outputs": [],
   "source": [
    "trainFrame['niftiName'] =  trainFrame['ID'].apply(extractNiftiName)\n",
    "testFrame['niftiName'] = testFrame['ID'].apply(extractNiftiName)"
   ],
   "metadata": {
    "collapsed": false,
    "ExecuteTime": {
     "end_time": "2023-10-10T09:22:45.083292558Z",
     "start_time": "2023-10-10T09:22:45.037346343Z"
    }
   },
   "id": "f33e405ae53cf0f5"
  },
  {
   "cell_type": "code",
   "execution_count": 12,
   "outputs": [],
   "source": [
    "overlap = trainFrame.merge(testFrame,how='inner',on='niftiName')"
   ],
   "metadata": {
    "collapsed": false,
    "ExecuteTime": {
     "end_time": "2023-10-10T09:23:11.895264823Z",
     "start_time": "2023-10-10T09:23:11.852501125Z"
    }
   },
   "id": "e0ca4b54a676dca3"
  },
  {
   "cell_type": "code",
   "execution_count": 13,
   "outputs": [
    {
     "data": {
      "text/plain": "Empty DataFrame\nColumns: [ID_x, label_x, extra_x, niftiName, ID_y, label_y, extra_y]\nIndex: []",
      "text/html": "<div>\n<style scoped>\n    .dataframe tbody tr th:only-of-type {\n        vertical-align: middle;\n    }\n\n    .dataframe tbody tr th {\n        vertical-align: top;\n    }\n\n    .dataframe thead th {\n        text-align: right;\n    }\n</style>\n<table border=\"1\" class=\"dataframe\">\n  <thead>\n    <tr style=\"text-align: right;\">\n      <th></th>\n      <th>ID_x</th>\n      <th>label_x</th>\n      <th>extra_x</th>\n      <th>niftiName</th>\n      <th>ID_y</th>\n      <th>label_y</th>\n      <th>extra_y</th>\n    </tr>\n  </thead>\n  <tbody>\n  </tbody>\n</table>\n</div>"
     },
     "execution_count": 13,
     "metadata": {},
     "output_type": "execute_result"
    }
   ],
   "source": [
    "overlap"
   ],
   "metadata": {
    "collapsed": false,
    "ExecuteTime": {
     "end_time": "2023-10-10T09:23:13.989853121Z",
     "start_time": "2023-10-10T09:23:13.966216239Z"
    }
   },
   "id": "bf6c6f23aa5a72ce"
  },
  {
   "cell_type": "code",
   "execution_count": null,
   "outputs": [],
   "source": [],
   "metadata": {
    "collapsed": false
   },
   "id": "5bba8549473aea6c"
  }
 ],
 "metadata": {
  "kernelspec": {
   "display_name": "Python 3",
   "language": "python",
   "name": "python3"
  },
  "language_info": {
   "codemirror_mode": {
    "name": "ipython",
    "version": 2
   },
   "file_extension": ".py",
   "mimetype": "text/x-python",
   "name": "python",
   "nbconvert_exporter": "python",
   "pygments_lexer": "ipython2",
   "version": "2.7.6"
  }
 },
 "nbformat": 4,
 "nbformat_minor": 5
}
