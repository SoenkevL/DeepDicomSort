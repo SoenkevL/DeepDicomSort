{
 "cells": [
  {
   "cell_type": "code",
   "execution_count": 1,
   "id": "initial_id",
   "metadata": {
    "collapsed": true,
    "ExecuteTime": {
     "end_time": "2023-11-20T13:54:03.348265504Z",
     "start_time": "2023-11-20T13:54:03.069719573Z"
    }
   },
   "outputs": [],
   "source": [
    "import pandas as pd\n",
    "import os"
   ]
  },
  {
   "cell_type": "code",
   "execution_count": 5,
   "outputs": [],
   "source": [
    "FileFrame = pd.read_csv('/home/soenke/Internship/DeepDicomSortFork/prototyping/parelsnoer/FileFrame.csv')\n",
    "Results = pd.read_csv('/home/soenke/Internship/DeepDicomSortFork/prototyping/parelsnoer/Predictions_DDS_model_epochs20_time_2023-11-19_22:56_ensamblePredictions.csv')"
   ],
   "metadata": {
    "collapsed": false,
    "ExecuteTime": {
     "end_time": "2023-11-20T13:59:13.669822141Z",
     "start_time": "2023-11-20T13:59:13.547588887Z"
    }
   },
   "id": "9d8bcfd439e04454"
  },
  {
   "cell_type": "code",
   "execution_count": 6,
   "outputs": [
    {
     "data": {
      "text/plain": "                                             originPath  \\\n0     /trinity/home/r098375/DDS/data/parelsnoer/data...   \n1     /trinity/home/r098375/DDS/data/parelsnoer/data...   \n2     /trinity/home/r098375/DDS/data/parelsnoer/data...   \n3     /trinity/home/r098375/DDS/data/parelsnoer/data...   \n4     /trinity/home/r098375/DDS/data/parelsnoer/data...   \n...                                                 ...   \n8403  /trinity/home/r098375/DDS/data/parelsnoer/data...   \n8404  /trinity/home/r098375/DDS/data/parelsnoer/data...   \n8405  /trinity/home/r098375/DDS/data/parelsnoer/data...   \n8406  /trinity/home/r098375/DDS/data/parelsnoer/data...   \n8407  /trinity/home/r098375/DDS/data/parelsnoer/data...   \n\n                                    structuredDicomPath  \\\n0     /trinity/home/r098375/DDS/data/parelsnoer/DICO...   \n1     /trinity/home/r098375/DDS/data/parelsnoer/DICO...   \n2     /trinity/home/r098375/DDS/data/parelsnoer/DICO...   \n3     /trinity/home/r098375/DDS/data/parelsnoer/DICO...   \n4     /trinity/home/r098375/DDS/data/parelsnoer/DICO...   \n...                                                 ...   \n8403  /trinity/home/r098375/DDS/data/parelsnoer/DICO...   \n8404  /trinity/home/r098375/DDS/data/parelsnoer/DICO...   \n8405  /trinity/home/r098375/DDS/data/parelsnoer/DICO...   \n8406  /trinity/home/r098375/DDS/data/parelsnoer/DICO...   \n8407  /trinity/home/r098375/DDS/data/parelsnoer/DICO...   \n\n                                             NIFTI_path sliced  \n0     /trinity/home/r098375/DDS/data/parelsnoer/NIFT...   True  \n1     /trinity/home/r098375/DDS/data/parelsnoer/NIFT...   True  \n2     /trinity/home/r098375/DDS/data/parelsnoer/NIFT...   True  \n3     /trinity/home/r098375/DDS/data/parelsnoer/NIFT...   True  \n4     /trinity/home/r098375/DDS/data/parelsnoer/NIFT...   True  \n...                                                 ...    ...  \n8403                                                NaN    NaN  \n8404                                                NaN    NaN  \n8405                                                NaN    NaN  \n8406                                                NaN    NaN  \n8407                                                NaN    NaN  \n\n[8408 rows x 4 columns]",
      "text/html": "<div>\n<style scoped>\n    .dataframe tbody tr th:only-of-type {\n        vertical-align: middle;\n    }\n\n    .dataframe tbody tr th {\n        vertical-align: top;\n    }\n\n    .dataframe thead th {\n        text-align: right;\n    }\n</style>\n<table border=\"1\" class=\"dataframe\">\n  <thead>\n    <tr style=\"text-align: right;\">\n      <th></th>\n      <th>originPath</th>\n      <th>structuredDicomPath</th>\n      <th>NIFTI_path</th>\n      <th>sliced</th>\n    </tr>\n  </thead>\n  <tbody>\n    <tr>\n      <th>0</th>\n      <td>/trinity/home/r098375/DDS/data/parelsnoer/data...</td>\n      <td>/trinity/home/r098375/DDS/data/parelsnoer/DICO...</td>\n      <td>/trinity/home/r098375/DDS/data/parelsnoer/NIFT...</td>\n      <td>True</td>\n    </tr>\n    <tr>\n      <th>1</th>\n      <td>/trinity/home/r098375/DDS/data/parelsnoer/data...</td>\n      <td>/trinity/home/r098375/DDS/data/parelsnoer/DICO...</td>\n      <td>/trinity/home/r098375/DDS/data/parelsnoer/NIFT...</td>\n      <td>True</td>\n    </tr>\n    <tr>\n      <th>2</th>\n      <td>/trinity/home/r098375/DDS/data/parelsnoer/data...</td>\n      <td>/trinity/home/r098375/DDS/data/parelsnoer/DICO...</td>\n      <td>/trinity/home/r098375/DDS/data/parelsnoer/NIFT...</td>\n      <td>True</td>\n    </tr>\n    <tr>\n      <th>3</th>\n      <td>/trinity/home/r098375/DDS/data/parelsnoer/data...</td>\n      <td>/trinity/home/r098375/DDS/data/parelsnoer/DICO...</td>\n      <td>/trinity/home/r098375/DDS/data/parelsnoer/NIFT...</td>\n      <td>True</td>\n    </tr>\n    <tr>\n      <th>4</th>\n      <td>/trinity/home/r098375/DDS/data/parelsnoer/data...</td>\n      <td>/trinity/home/r098375/DDS/data/parelsnoer/DICO...</td>\n      <td>/trinity/home/r098375/DDS/data/parelsnoer/NIFT...</td>\n      <td>True</td>\n    </tr>\n    <tr>\n      <th>...</th>\n      <td>...</td>\n      <td>...</td>\n      <td>...</td>\n      <td>...</td>\n    </tr>\n    <tr>\n      <th>8403</th>\n      <td>/trinity/home/r098375/DDS/data/parelsnoer/data...</td>\n      <td>/trinity/home/r098375/DDS/data/parelsnoer/DICO...</td>\n      <td>NaN</td>\n      <td>NaN</td>\n    </tr>\n    <tr>\n      <th>8404</th>\n      <td>/trinity/home/r098375/DDS/data/parelsnoer/data...</td>\n      <td>/trinity/home/r098375/DDS/data/parelsnoer/DICO...</td>\n      <td>NaN</td>\n      <td>NaN</td>\n    </tr>\n    <tr>\n      <th>8405</th>\n      <td>/trinity/home/r098375/DDS/data/parelsnoer/data...</td>\n      <td>/trinity/home/r098375/DDS/data/parelsnoer/DICO...</td>\n      <td>NaN</td>\n      <td>NaN</td>\n    </tr>\n    <tr>\n      <th>8406</th>\n      <td>/trinity/home/r098375/DDS/data/parelsnoer/data...</td>\n      <td>/trinity/home/r098375/DDS/data/parelsnoer/DICO...</td>\n      <td>NaN</td>\n      <td>NaN</td>\n    </tr>\n    <tr>\n      <th>8407</th>\n      <td>/trinity/home/r098375/DDS/data/parelsnoer/data...</td>\n      <td>/trinity/home/r098375/DDS/data/parelsnoer/DICO...</td>\n      <td>NaN</td>\n      <td>NaN</td>\n    </tr>\n  </tbody>\n</table>\n<p>8408 rows × 4 columns</p>\n</div>"
     },
     "execution_count": 6,
     "metadata": {},
     "output_type": "execute_result"
    }
   ],
   "source": [
    "FileFrame"
   ],
   "metadata": {
    "collapsed": false,
    "ExecuteTime": {
     "end_time": "2023-11-20T13:59:14.148181344Z",
     "start_time": "2023-11-20T13:59:14.144618873Z"
    }
   },
   "id": "ad66aa52950e051f"
  },
  {
   "cell_type": "code",
   "execution_count": 7,
   "outputs": [
    {
     "data": {
      "text/plain": "                                              NIFTI_name  slicenum  \\\n0      1.2.826.0.1.3680043.9.6827.1011249712807393890...        10   \n1      1.2.826.0.1.3680043.9.6827.1011249712807393890...        11   \n2      1.2.826.0.1.3680043.9.6827.1011249712807393890...        12   \n3      1.2.826.0.1.3680043.9.6827.1011249712807393890...        13   \n4      1.2.826.0.1.3680043.9.6827.1011249712807393890...        14   \n...                                                  ...       ...   \n11140  1.2.826.0.1.3680043.9.6827.9977247350982070909...         5   \n11141  1.2.826.0.1.3680043.9.6827.9977247350982070909...         6   \n11142  1.2.826.0.1.3680043.9.6827.9977247350982070909...         7   \n11143  1.2.826.0.1.3680043.9.6827.9977247350982070909...         8   \n11144  1.2.826.0.1.3680043.9.6827.9977247350982070909...         9   \n\n                                                 imageID  groundTruth  \\\n0      /trinity/home/r098375/DDS/data/parelsnoer/NIFT...            0   \n1      /trinity/home/r098375/DDS/data/parelsnoer/NIFT...            0   \n2      /trinity/home/r098375/DDS/data/parelsnoer/NIFT...            0   \n3      /trinity/home/r098375/DDS/data/parelsnoer/NIFT...            0   \n4      /trinity/home/r098375/DDS/data/parelsnoer/NIFT...            0   \n...                                                  ...          ...   \n11140  /trinity/home/r098375/DDS/data/parelsnoer/NIFT...            0   \n11141  /trinity/home/r098375/DDS/data/parelsnoer/NIFT...            0   \n11142  /trinity/home/r098375/DDS/data/parelsnoer/NIFT...            0   \n11143  /trinity/home/r098375/DDS/data/parelsnoer/NIFT...            0   \n11144  /trinity/home/r098375/DDS/data/parelsnoer/NIFT...            0   \n\n       prediction  raw_0         raw_1  raw_2  raw_3  raw_4  raw_5  raw_6  \\\n0               0    1.0  0.000000e+00    0.0    0.0    0.0    0.0    0.0   \n1               0    1.0  0.000000e+00    0.0    0.0    0.0    0.0    0.0   \n2               0    1.0  0.000000e+00    0.0    0.0    0.0    0.0    0.0   \n3               0    1.0  0.000000e+00    0.0    0.0    0.0    0.0    0.0   \n4               0    1.0  0.000000e+00    0.0    0.0    0.0    0.0    0.0   \n...           ...    ...           ...    ...    ...    ...    ...    ...   \n11140           0    1.0  1.310432e-19    0.0    0.0    0.0    0.0    0.0   \n11141           1    0.0  1.000000e+00    0.0    0.0    0.0    0.0    0.0   \n11142           0    1.0  0.000000e+00    0.0    0.0    0.0    0.0    0.0   \n11143           0    1.0  0.000000e+00    0.0    0.0    0.0    0.0    0.0   \n11144           0    1.0  0.000000e+00    0.0    0.0    0.0    0.0    0.0   \n\n       raw_7  raw_8                                         NIFTI_path  vote  \\\n0        0.0    0.0  /trinity/home/r098375/DDS/data/parelsnoer/NIFT...   0.0   \n1        0.0    0.0  /trinity/home/r098375/DDS/data/parelsnoer/NIFT...   0.0   \n2        0.0    0.0  /trinity/home/r098375/DDS/data/parelsnoer/NIFT...   0.0   \n3        0.0    0.0  /trinity/home/r098375/DDS/data/parelsnoer/NIFT...   0.0   \n4        0.0    0.0  /trinity/home/r098375/DDS/data/parelsnoer/NIFT...   0.0   \n...      ...    ...                                                ...   ...   \n11140    0.0    0.0  /trinity/home/r098375/DDS/data/parelsnoer/NIFT...   0.0   \n11141    0.0    0.0  /trinity/home/r098375/DDS/data/parelsnoer/NIFT...   0.0   \n11142    0.0    0.0  /trinity/home/r098375/DDS/data/parelsnoer/NIFT...   0.0   \n11143    0.0    0.0  /trinity/home/r098375/DDS/data/parelsnoer/NIFT...   0.0   \n11144    0.0    0.0  /trinity/home/r098375/DDS/data/parelsnoer/NIFT...   0.0   \n\n       certainty  \n0       1.000000  \n1       1.000000  \n2       1.000000  \n3       1.000000  \n4       1.000000  \n...          ...  \n11140   0.866667  \n11141   0.866667  \n11142   0.866667  \n11143   0.866667  \n11144   0.866667  \n\n[11145 rows x 17 columns]",
      "text/html": "<div>\n<style scoped>\n    .dataframe tbody tr th:only-of-type {\n        vertical-align: middle;\n    }\n\n    .dataframe tbody tr th {\n        vertical-align: top;\n    }\n\n    .dataframe thead th {\n        text-align: right;\n    }\n</style>\n<table border=\"1\" class=\"dataframe\">\n  <thead>\n    <tr style=\"text-align: right;\">\n      <th></th>\n      <th>NIFTI_name</th>\n      <th>slicenum</th>\n      <th>imageID</th>\n      <th>groundTruth</th>\n      <th>prediction</th>\n      <th>raw_0</th>\n      <th>raw_1</th>\n      <th>raw_2</th>\n      <th>raw_3</th>\n      <th>raw_4</th>\n      <th>raw_5</th>\n      <th>raw_6</th>\n      <th>raw_7</th>\n      <th>raw_8</th>\n      <th>NIFTI_path</th>\n      <th>vote</th>\n      <th>certainty</th>\n    </tr>\n  </thead>\n  <tbody>\n    <tr>\n      <th>0</th>\n      <td>1.2.826.0.1.3680043.9.6827.1011249712807393890...</td>\n      <td>10</td>\n      <td>/trinity/home/r098375/DDS/data/parelsnoer/NIFT...</td>\n      <td>0</td>\n      <td>0</td>\n      <td>1.0</td>\n      <td>0.000000e+00</td>\n      <td>0.0</td>\n      <td>0.0</td>\n      <td>0.0</td>\n      <td>0.0</td>\n      <td>0.0</td>\n      <td>0.0</td>\n      <td>0.0</td>\n      <td>/trinity/home/r098375/DDS/data/parelsnoer/NIFT...</td>\n      <td>0.0</td>\n      <td>1.000000</td>\n    </tr>\n    <tr>\n      <th>1</th>\n      <td>1.2.826.0.1.3680043.9.6827.1011249712807393890...</td>\n      <td>11</td>\n      <td>/trinity/home/r098375/DDS/data/parelsnoer/NIFT...</td>\n      <td>0</td>\n      <td>0</td>\n      <td>1.0</td>\n      <td>0.000000e+00</td>\n      <td>0.0</td>\n      <td>0.0</td>\n      <td>0.0</td>\n      <td>0.0</td>\n      <td>0.0</td>\n      <td>0.0</td>\n      <td>0.0</td>\n      <td>/trinity/home/r098375/DDS/data/parelsnoer/NIFT...</td>\n      <td>0.0</td>\n      <td>1.000000</td>\n    </tr>\n    <tr>\n      <th>2</th>\n      <td>1.2.826.0.1.3680043.9.6827.1011249712807393890...</td>\n      <td>12</td>\n      <td>/trinity/home/r098375/DDS/data/parelsnoer/NIFT...</td>\n      <td>0</td>\n      <td>0</td>\n      <td>1.0</td>\n      <td>0.000000e+00</td>\n      <td>0.0</td>\n      <td>0.0</td>\n      <td>0.0</td>\n      <td>0.0</td>\n      <td>0.0</td>\n      <td>0.0</td>\n      <td>0.0</td>\n      <td>/trinity/home/r098375/DDS/data/parelsnoer/NIFT...</td>\n      <td>0.0</td>\n      <td>1.000000</td>\n    </tr>\n    <tr>\n      <th>3</th>\n      <td>1.2.826.0.1.3680043.9.6827.1011249712807393890...</td>\n      <td>13</td>\n      <td>/trinity/home/r098375/DDS/data/parelsnoer/NIFT...</td>\n      <td>0</td>\n      <td>0</td>\n      <td>1.0</td>\n      <td>0.000000e+00</td>\n      <td>0.0</td>\n      <td>0.0</td>\n      <td>0.0</td>\n      <td>0.0</td>\n      <td>0.0</td>\n      <td>0.0</td>\n      <td>0.0</td>\n      <td>/trinity/home/r098375/DDS/data/parelsnoer/NIFT...</td>\n      <td>0.0</td>\n      <td>1.000000</td>\n    </tr>\n    <tr>\n      <th>4</th>\n      <td>1.2.826.0.1.3680043.9.6827.1011249712807393890...</td>\n      <td>14</td>\n      <td>/trinity/home/r098375/DDS/data/parelsnoer/NIFT...</td>\n      <td>0</td>\n      <td>0</td>\n      <td>1.0</td>\n      <td>0.000000e+00</td>\n      <td>0.0</td>\n      <td>0.0</td>\n      <td>0.0</td>\n      <td>0.0</td>\n      <td>0.0</td>\n      <td>0.0</td>\n      <td>0.0</td>\n      <td>/trinity/home/r098375/DDS/data/parelsnoer/NIFT...</td>\n      <td>0.0</td>\n      <td>1.000000</td>\n    </tr>\n    <tr>\n      <th>...</th>\n      <td>...</td>\n      <td>...</td>\n      <td>...</td>\n      <td>...</td>\n      <td>...</td>\n      <td>...</td>\n      <td>...</td>\n      <td>...</td>\n      <td>...</td>\n      <td>...</td>\n      <td>...</td>\n      <td>...</td>\n      <td>...</td>\n      <td>...</td>\n      <td>...</td>\n      <td>...</td>\n      <td>...</td>\n    </tr>\n    <tr>\n      <th>11140</th>\n      <td>1.2.826.0.1.3680043.9.6827.9977247350982070909...</td>\n      <td>5</td>\n      <td>/trinity/home/r098375/DDS/data/parelsnoer/NIFT...</td>\n      <td>0</td>\n      <td>0</td>\n      <td>1.0</td>\n      <td>1.310432e-19</td>\n      <td>0.0</td>\n      <td>0.0</td>\n      <td>0.0</td>\n      <td>0.0</td>\n      <td>0.0</td>\n      <td>0.0</td>\n      <td>0.0</td>\n      <td>/trinity/home/r098375/DDS/data/parelsnoer/NIFT...</td>\n      <td>0.0</td>\n      <td>0.866667</td>\n    </tr>\n    <tr>\n      <th>11141</th>\n      <td>1.2.826.0.1.3680043.9.6827.9977247350982070909...</td>\n      <td>6</td>\n      <td>/trinity/home/r098375/DDS/data/parelsnoer/NIFT...</td>\n      <td>0</td>\n      <td>1</td>\n      <td>0.0</td>\n      <td>1.000000e+00</td>\n      <td>0.0</td>\n      <td>0.0</td>\n      <td>0.0</td>\n      <td>0.0</td>\n      <td>0.0</td>\n      <td>0.0</td>\n      <td>0.0</td>\n      <td>/trinity/home/r098375/DDS/data/parelsnoer/NIFT...</td>\n      <td>0.0</td>\n      <td>0.866667</td>\n    </tr>\n    <tr>\n      <th>11142</th>\n      <td>1.2.826.0.1.3680043.9.6827.9977247350982070909...</td>\n      <td>7</td>\n      <td>/trinity/home/r098375/DDS/data/parelsnoer/NIFT...</td>\n      <td>0</td>\n      <td>0</td>\n      <td>1.0</td>\n      <td>0.000000e+00</td>\n      <td>0.0</td>\n      <td>0.0</td>\n      <td>0.0</td>\n      <td>0.0</td>\n      <td>0.0</td>\n      <td>0.0</td>\n      <td>0.0</td>\n      <td>/trinity/home/r098375/DDS/data/parelsnoer/NIFT...</td>\n      <td>0.0</td>\n      <td>0.866667</td>\n    </tr>\n    <tr>\n      <th>11143</th>\n      <td>1.2.826.0.1.3680043.9.6827.9977247350982070909...</td>\n      <td>8</td>\n      <td>/trinity/home/r098375/DDS/data/parelsnoer/NIFT...</td>\n      <td>0</td>\n      <td>0</td>\n      <td>1.0</td>\n      <td>0.000000e+00</td>\n      <td>0.0</td>\n      <td>0.0</td>\n      <td>0.0</td>\n      <td>0.0</td>\n      <td>0.0</td>\n      <td>0.0</td>\n      <td>0.0</td>\n      <td>/trinity/home/r098375/DDS/data/parelsnoer/NIFT...</td>\n      <td>0.0</td>\n      <td>0.866667</td>\n    </tr>\n    <tr>\n      <th>11144</th>\n      <td>1.2.826.0.1.3680043.9.6827.9977247350982070909...</td>\n      <td>9</td>\n      <td>/trinity/home/r098375/DDS/data/parelsnoer/NIFT...</td>\n      <td>0</td>\n      <td>0</td>\n      <td>1.0</td>\n      <td>0.000000e+00</td>\n      <td>0.0</td>\n      <td>0.0</td>\n      <td>0.0</td>\n      <td>0.0</td>\n      <td>0.0</td>\n      <td>0.0</td>\n      <td>0.0</td>\n      <td>/trinity/home/r098375/DDS/data/parelsnoer/NIFT...</td>\n      <td>0.0</td>\n      <td>0.866667</td>\n    </tr>\n  </tbody>\n</table>\n<p>11145 rows × 17 columns</p>\n</div>"
     },
     "execution_count": 7,
     "metadata": {},
     "output_type": "execute_result"
    }
   ],
   "source": [
    "Results"
   ],
   "metadata": {
    "collapsed": false,
    "ExecuteTime": {
     "end_time": "2023-11-20T13:59:14.661984902Z",
     "start_time": "2023-11-20T13:59:14.658526289Z"
    }
   },
   "id": "6d4d2ff6430c8fd3"
  },
  {
   "cell_type": "code",
   "execution_count": 14,
   "outputs": [],
   "source": [
    "Results_depr = Results[Results['slicenum']==10][['groundTruth','vote','NIFTI_path']]"
   ],
   "metadata": {
    "collapsed": false,
    "ExecuteTime": {
     "end_time": "2023-11-20T14:12:25.803756539Z",
     "start_time": "2023-11-20T14:12:25.756257194Z"
    }
   },
   "id": "8590f361118bf9d6"
  },
  {
   "cell_type": "code",
   "execution_count": 15,
   "outputs": [
    {
     "data": {
      "text/plain": "       groundTruth  vote                                         NIFTI_path\n0                0   0.0  /trinity/home/r098375/DDS/data/parelsnoer/NIFT...\n15               0   0.0  /trinity/home/r098375/DDS/data/parelsnoer/NIFT...\n30               3   3.0  /trinity/home/r098375/DDS/data/parelsnoer/NIFT...\n45               0   0.0  /trinity/home/r098375/DDS/data/parelsnoer/NIFT...\n60               8   1.0  /trinity/home/r098375/DDS/data/parelsnoer/NIFT...\n...            ...   ...                                                ...\n11070            0   0.0  /trinity/home/r098375/DDS/data/parelsnoer/NIFT...\n11085            0   0.0  /trinity/home/r098375/DDS/data/parelsnoer/NIFT...\n11100            0   0.0  /trinity/home/r098375/DDS/data/parelsnoer/NIFT...\n11115            3   3.0  /trinity/home/r098375/DDS/data/parelsnoer/NIFT...\n11130            0   0.0  /trinity/home/r098375/DDS/data/parelsnoer/NIFT...\n\n[743 rows x 3 columns]",
      "text/html": "<div>\n<style scoped>\n    .dataframe tbody tr th:only-of-type {\n        vertical-align: middle;\n    }\n\n    .dataframe tbody tr th {\n        vertical-align: top;\n    }\n\n    .dataframe thead th {\n        text-align: right;\n    }\n</style>\n<table border=\"1\" class=\"dataframe\">\n  <thead>\n    <tr style=\"text-align: right;\">\n      <th></th>\n      <th>groundTruth</th>\n      <th>vote</th>\n      <th>NIFTI_path</th>\n    </tr>\n  </thead>\n  <tbody>\n    <tr>\n      <th>0</th>\n      <td>0</td>\n      <td>0.0</td>\n      <td>/trinity/home/r098375/DDS/data/parelsnoer/NIFT...</td>\n    </tr>\n    <tr>\n      <th>15</th>\n      <td>0</td>\n      <td>0.0</td>\n      <td>/trinity/home/r098375/DDS/data/parelsnoer/NIFT...</td>\n    </tr>\n    <tr>\n      <th>30</th>\n      <td>3</td>\n      <td>3.0</td>\n      <td>/trinity/home/r098375/DDS/data/parelsnoer/NIFT...</td>\n    </tr>\n    <tr>\n      <th>45</th>\n      <td>0</td>\n      <td>0.0</td>\n      <td>/trinity/home/r098375/DDS/data/parelsnoer/NIFT...</td>\n    </tr>\n    <tr>\n      <th>60</th>\n      <td>8</td>\n      <td>1.0</td>\n      <td>/trinity/home/r098375/DDS/data/parelsnoer/NIFT...</td>\n    </tr>\n    <tr>\n      <th>...</th>\n      <td>...</td>\n      <td>...</td>\n      <td>...</td>\n    </tr>\n    <tr>\n      <th>11070</th>\n      <td>0</td>\n      <td>0.0</td>\n      <td>/trinity/home/r098375/DDS/data/parelsnoer/NIFT...</td>\n    </tr>\n    <tr>\n      <th>11085</th>\n      <td>0</td>\n      <td>0.0</td>\n      <td>/trinity/home/r098375/DDS/data/parelsnoer/NIFT...</td>\n    </tr>\n    <tr>\n      <th>11100</th>\n      <td>0</td>\n      <td>0.0</td>\n      <td>/trinity/home/r098375/DDS/data/parelsnoer/NIFT...</td>\n    </tr>\n    <tr>\n      <th>11115</th>\n      <td>3</td>\n      <td>3.0</td>\n      <td>/trinity/home/r098375/DDS/data/parelsnoer/NIFT...</td>\n    </tr>\n    <tr>\n      <th>11130</th>\n      <td>0</td>\n      <td>0.0</td>\n      <td>/trinity/home/r098375/DDS/data/parelsnoer/NIFT...</td>\n    </tr>\n  </tbody>\n</table>\n<p>743 rows × 3 columns</p>\n</div>"
     },
     "execution_count": 15,
     "metadata": {},
     "output_type": "execute_result"
    }
   ],
   "source": [
    "Results_depr"
   ],
   "metadata": {
    "collapsed": false,
    "ExecuteTime": {
     "end_time": "2023-11-20T14:12:26.134384496Z",
     "start_time": "2023-11-20T14:12:26.119064503Z"
    }
   },
   "id": "82195fb83f27dc80"
  },
  {
   "cell_type": "code",
   "execution_count": 16,
   "outputs": [],
   "source": [
    "CombinedFrame = Results_depr.merge(FileFrame, how='inner', left_on='NIFTI_path', right_on='NIFTI_path')"
   ],
   "metadata": {
    "collapsed": false,
    "ExecuteTime": {
     "end_time": "2023-11-20T14:12:51.121986553Z",
     "start_time": "2023-11-20T14:12:51.078511715Z"
    }
   },
   "id": "8fa749ab6f40a739"
  },
  {
   "cell_type": "code",
   "execution_count": 19,
   "outputs": [],
   "source": [
    "CombinedFrame = CombinedFrame.drop('sliced', axis=1)"
   ],
   "metadata": {
    "collapsed": false,
    "ExecuteTime": {
     "end_time": "2023-11-20T14:13:43.697041607Z",
     "start_time": "2023-11-20T14:13:43.693254195Z"
    }
   },
   "id": "8ca80bf1962242cf"
  },
  {
   "cell_type": "code",
   "execution_count": 20,
   "outputs": [
    {
     "data": {
      "text/plain": "     groundTruth  vote                                         NIFTI_path  \\\n0              0   0.0  /trinity/home/r098375/DDS/data/parelsnoer/NIFT...   \n1              0   0.0  /trinity/home/r098375/DDS/data/parelsnoer/NIFT...   \n2              3   3.0  /trinity/home/r098375/DDS/data/parelsnoer/NIFT...   \n3              0   0.0  /trinity/home/r098375/DDS/data/parelsnoer/NIFT...   \n4              8   1.0  /trinity/home/r098375/DDS/data/parelsnoer/NIFT...   \n..           ...   ...                                                ...   \n738            0   0.0  /trinity/home/r098375/DDS/data/parelsnoer/NIFT...   \n739            0   0.0  /trinity/home/r098375/DDS/data/parelsnoer/NIFT...   \n740            0   0.0  /trinity/home/r098375/DDS/data/parelsnoer/NIFT...   \n741            3   3.0  /trinity/home/r098375/DDS/data/parelsnoer/NIFT...   \n742            0   0.0  /trinity/home/r098375/DDS/data/parelsnoer/NIFT...   \n\n                                            originPath  \\\n0    /trinity/home/r098375/DDS/data/parelsnoer/data...   \n1    /trinity/home/r098375/DDS/data/parelsnoer/data...   \n2    /trinity/home/r098375/DDS/data/parelsnoer/data...   \n3    /trinity/home/r098375/DDS/data/parelsnoer/data...   \n4    /trinity/home/r098375/DDS/data/parelsnoer/data...   \n..                                                 ...   \n738  /trinity/home/r098375/DDS/data/parelsnoer/data...   \n739  /trinity/home/r098375/DDS/data/parelsnoer/data...   \n740  /trinity/home/r098375/DDS/data/parelsnoer/data...   \n741  /trinity/home/r098375/DDS/data/parelsnoer/data...   \n742  /trinity/home/r098375/DDS/data/parelsnoer/data...   \n\n                                   structuredDicomPath  \n0    /trinity/home/r098375/DDS/data/parelsnoer/DICO...  \n1    /trinity/home/r098375/DDS/data/parelsnoer/DICO...  \n2    /trinity/home/r098375/DDS/data/parelsnoer/DICO...  \n3    /trinity/home/r098375/DDS/data/parelsnoer/DICO...  \n4    /trinity/home/r098375/DDS/data/parelsnoer/DICO...  \n..                                                 ...  \n738  /trinity/home/r098375/DDS/data/parelsnoer/DICO...  \n739  /trinity/home/r098375/DDS/data/parelsnoer/DICO...  \n740  /trinity/home/r098375/DDS/data/parelsnoer/DICO...  \n741  /trinity/home/r098375/DDS/data/parelsnoer/DICO...  \n742  /trinity/home/r098375/DDS/data/parelsnoer/DICO...  \n\n[743 rows x 5 columns]",
      "text/html": "<div>\n<style scoped>\n    .dataframe tbody tr th:only-of-type {\n        vertical-align: middle;\n    }\n\n    .dataframe tbody tr th {\n        vertical-align: top;\n    }\n\n    .dataframe thead th {\n        text-align: right;\n    }\n</style>\n<table border=\"1\" class=\"dataframe\">\n  <thead>\n    <tr style=\"text-align: right;\">\n      <th></th>\n      <th>groundTruth</th>\n      <th>vote</th>\n      <th>NIFTI_path</th>\n      <th>originPath</th>\n      <th>structuredDicomPath</th>\n    </tr>\n  </thead>\n  <tbody>\n    <tr>\n      <th>0</th>\n      <td>0</td>\n      <td>0.0</td>\n      <td>/trinity/home/r098375/DDS/data/parelsnoer/NIFT...</td>\n      <td>/trinity/home/r098375/DDS/data/parelsnoer/data...</td>\n      <td>/trinity/home/r098375/DDS/data/parelsnoer/DICO...</td>\n    </tr>\n    <tr>\n      <th>1</th>\n      <td>0</td>\n      <td>0.0</td>\n      <td>/trinity/home/r098375/DDS/data/parelsnoer/NIFT...</td>\n      <td>/trinity/home/r098375/DDS/data/parelsnoer/data...</td>\n      <td>/trinity/home/r098375/DDS/data/parelsnoer/DICO...</td>\n    </tr>\n    <tr>\n      <th>2</th>\n      <td>3</td>\n      <td>3.0</td>\n      <td>/trinity/home/r098375/DDS/data/parelsnoer/NIFT...</td>\n      <td>/trinity/home/r098375/DDS/data/parelsnoer/data...</td>\n      <td>/trinity/home/r098375/DDS/data/parelsnoer/DICO...</td>\n    </tr>\n    <tr>\n      <th>3</th>\n      <td>0</td>\n      <td>0.0</td>\n      <td>/trinity/home/r098375/DDS/data/parelsnoer/NIFT...</td>\n      <td>/trinity/home/r098375/DDS/data/parelsnoer/data...</td>\n      <td>/trinity/home/r098375/DDS/data/parelsnoer/DICO...</td>\n    </tr>\n    <tr>\n      <th>4</th>\n      <td>8</td>\n      <td>1.0</td>\n      <td>/trinity/home/r098375/DDS/data/parelsnoer/NIFT...</td>\n      <td>/trinity/home/r098375/DDS/data/parelsnoer/data...</td>\n      <td>/trinity/home/r098375/DDS/data/parelsnoer/DICO...</td>\n    </tr>\n    <tr>\n      <th>...</th>\n      <td>...</td>\n      <td>...</td>\n      <td>...</td>\n      <td>...</td>\n      <td>...</td>\n    </tr>\n    <tr>\n      <th>738</th>\n      <td>0</td>\n      <td>0.0</td>\n      <td>/trinity/home/r098375/DDS/data/parelsnoer/NIFT...</td>\n      <td>/trinity/home/r098375/DDS/data/parelsnoer/data...</td>\n      <td>/trinity/home/r098375/DDS/data/parelsnoer/DICO...</td>\n    </tr>\n    <tr>\n      <th>739</th>\n      <td>0</td>\n      <td>0.0</td>\n      <td>/trinity/home/r098375/DDS/data/parelsnoer/NIFT...</td>\n      <td>/trinity/home/r098375/DDS/data/parelsnoer/data...</td>\n      <td>/trinity/home/r098375/DDS/data/parelsnoer/DICO...</td>\n    </tr>\n    <tr>\n      <th>740</th>\n      <td>0</td>\n      <td>0.0</td>\n      <td>/trinity/home/r098375/DDS/data/parelsnoer/NIFT...</td>\n      <td>/trinity/home/r098375/DDS/data/parelsnoer/data...</td>\n      <td>/trinity/home/r098375/DDS/data/parelsnoer/DICO...</td>\n    </tr>\n    <tr>\n      <th>741</th>\n      <td>3</td>\n      <td>3.0</td>\n      <td>/trinity/home/r098375/DDS/data/parelsnoer/NIFT...</td>\n      <td>/trinity/home/r098375/DDS/data/parelsnoer/data...</td>\n      <td>/trinity/home/r098375/DDS/data/parelsnoer/DICO...</td>\n    </tr>\n    <tr>\n      <th>742</th>\n      <td>0</td>\n      <td>0.0</td>\n      <td>/trinity/home/r098375/DDS/data/parelsnoer/NIFT...</td>\n      <td>/trinity/home/r098375/DDS/data/parelsnoer/data...</td>\n      <td>/trinity/home/r098375/DDS/data/parelsnoer/DICO...</td>\n    </tr>\n  </tbody>\n</table>\n<p>743 rows × 5 columns</p>\n</div>"
     },
     "execution_count": 20,
     "metadata": {},
     "output_type": "execute_result"
    }
   ],
   "source": [
    "CombinedFrame"
   ],
   "metadata": {
    "collapsed": false,
    "ExecuteTime": {
     "end_time": "2023-11-20T14:13:46.364984384Z",
     "start_time": "2023-11-20T14:13:46.331901032Z"
    }
   },
   "id": "9bd17196ba21c021"
  },
  {
   "cell_type": "code",
   "execution_count": null,
   "outputs": [],
   "source": [],
   "metadata": {
    "collapsed": false
   },
   "id": "b9111c09326177f8"
  }
 ],
 "metadata": {
  "kernelspec": {
   "display_name": "Python 3",
   "language": "python",
   "name": "python3"
  },
  "language_info": {
   "codemirror_mode": {
    "name": "ipython",
    "version": 2
   },
   "file_extension": ".py",
   "mimetype": "text/x-python",
   "name": "python",
   "nbconvert_exporter": "python",
   "pygments_lexer": "ipython2",
   "version": "2.7.6"
  }
 },
 "nbformat": 4,
 "nbformat_minor": 5
}
