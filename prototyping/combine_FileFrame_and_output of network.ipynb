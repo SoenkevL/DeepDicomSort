{
 "cells": [
  {
   "cell_type": "code",
   "execution_count": null,
   "id": "initial_id",
   "metadata": {
    "collapsed": true
   },
   "outputs": [],
   "source": [
    "import pandas as pd\n",
    "import os\n",
    "# FileFrame = pd.read_csv('/data/scratch/r098375/data/ACE/FileFrame.csv')\n",
    "# Results = pd.read_csv('/data/scratch/r098375/data/ACE/post_processing/Predictions_DDS_model_epochs20_time_2023-11-19_22:56_ensamblePredictions.csv')\n",
    "FileFrame = pd.read_csv('/home/soenke/Internship/DeepDicomSortFork/prototyping/ACE/FileFrame.csv')\n",
    "Results = pd.read_csv('/home/soenke/Internship/DeepDicomSortFork/prototyping/ACE/Predictions_DDS_model_epochs20_time_2023-11-19_22:56_ensamblePredictions.csv')\n",
    "# XNATFrame = pd.read_csv('/trinity/home/r098375/DDS/DeepDicomSort/.finalExperiments/exp4/scantype_mapping.csv', header=0, delimiter=';')"
   ]
  },
  {
   "cell_type": "code",
   "execution_count": null,
   "outputs": [],
   "source": [
    "Results_depr = Results[Results['slicenum']==10][['vote','NIFTI_path']]\n",
    "Results_depr"
   ],
   "metadata": {
    "collapsed": false
   },
   "id": "8590f361118bf9d6"
  },
  {
   "cell_type": "code",
   "execution_count": null,
   "outputs": [],
   "source": [
    "FileFrame['NIFTI_path'] = FileFrame['NIFTI_path'].apply(lambda x: str(x).replace('ACE_new','ACE'))"
   ],
   "metadata": {
    "collapsed": false
   },
   "id": "69621fc4ae8ce197"
  },
  {
   "cell_type": "code",
   "execution_count": null,
   "outputs": [],
   "source": [
    "CombinedFrame = Results_depr.merge(FileFrame, how='inner', left_on='NIFTI_path', right_on='NIFTI_path')\n",
    "CombinedFrame = CombinedFrame.drop('sliced', axis=1)\n"
   ],
   "metadata": {
    "collapsed": false
   },
   "id": "8fa749ab6f40a739"
  },
  {
   "cell_type": "code",
   "execution_count": null,
   "outputs": [],
   "source": [
    "def unify_mapping_names(name):\n",
    "    name = name.strip()\n",
    "    return name.replace(' ', '_')"
   ],
   "metadata": {
    "collapsed": false
   },
   "id": "b9111c09326177f8"
  },
  {
   "cell_type": "code",
   "execution_count": null,
   "outputs": [],
   "source": [
    "def extract_scantype_name_from_datapath(datapath):\n",
    "    datapath = datapath.split('/')[9]\n",
    "    datapath = datapath.strip()\n",
    "    datapath = '-'.join(datapath.split('-')[1:])\n",
    "    return datapath"
   ],
   "metadata": {
    "collapsed": false
   },
   "id": "377f4480815297cf"
  },
  {
   "cell_type": "code",
   "execution_count": null,
   "outputs": [],
   "source": [
    "CombinedFrame.head()"
   ],
   "metadata": {
    "collapsed": false
   },
   "id": "930db53a3a45d0a3"
  },
  {
   "cell_type": "code",
   "execution_count": null,
   "outputs": [],
   "source": [
    "CombinedFrame['extracted_scantype'] = CombinedFrame['originPath'].apply(extract_scantype_name_from_datapath)"
   ],
   "metadata": {
    "collapsed": false
   },
   "id": "341418b712f960ba"
  },
  {
   "cell_type": "code",
   "execution_count": null,
   "outputs": [],
   "source": [
    "CombinedFrame[['originPath','extracted_scantype']]"
   ],
   "metadata": {
    "collapsed": false
   },
   "id": "f162b8d2a978694c"
  },
  {
   "cell_type": "code",
   "execution_count": null,
   "outputs": [],
   "source": [
    "XNAT_Frame_cleanedNames = XNAT_Frame.apply(unify_mapping_names)"
   ],
   "metadata": {
    "collapsed": false
   },
   "id": "42cffee092ebc39d"
  },
  {
   "cell_type": "code",
   "execution_count": null,
   "outputs": [],
   "source": [
    "def assign_label(extracted_scantype, xnat_frame_cleaned):\n",
    "    cols = list(xnat_frame_cleaned.columns)\n",
    "    for col in cols:\n",
    "        if extracted_scantype in list(xnat_frame_cleaned.loc[:,col]):\n",
    "            return col\n",
    "    return None"
   ],
   "metadata": {
    "collapsed": false
   },
   "id": "3ec98a9d03045e7d"
  },
  {
   "cell_type": "code",
   "execution_count": null,
   "outputs": [],
   "source": [
    "CombinedFrame['cleaned_label'] = CombinedFrame['extracted_scantype'].apply(assign_label, xnat_frame_cleaned=XNAT_Frame_cleanedNames)\n",
    "CombinedFrame.to_csv('Annotated_File_Frame.csv', index=False)"
   ],
   "metadata": {
    "collapsed": false
   },
   "id": "63c1511b8d2f6115"
  }
 ],
 "metadata": {
  "kernelspec": {
   "display_name": "Python 3",
   "language": "python",
   "name": "python3"
  },
  "language_info": {
   "codemirror_mode": {
    "name": "ipython",
    "version": 2
   },
   "file_extension": ".py",
   "mimetype": "text/x-python",
   "name": "python",
   "nbconvert_exporter": "python",
   "pygments_lexer": "ipython2",
   "version": "2.7.6"
  }
 },
 "nbformat": 4,
 "nbformat_minor": 5
}
