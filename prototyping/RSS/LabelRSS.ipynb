{
 "cells": [
  {
   "cell_type": "code",
   "execution_count": 1,
   "id": "initial_id",
   "metadata": {
    "collapsed": true,
    "ExecuteTime": {
     "end_time": "2023-11-06T12:52:45.741350850Z",
     "start_time": "2023-11-06T12:52:45.287121237Z"
    }
   },
   "outputs": [],
   "source": [
    "import pandas as pd"
   ]
  },
  {
   "cell_type": "code",
   "execution_count": 2,
   "outputs": [],
   "source": [
    "FileFrame = pd.read_csv('FileFrame.csv')"
   ],
   "metadata": {
    "collapsed": false,
    "ExecuteTime": {
     "end_time": "2023-11-06T12:52:45.752928835Z",
     "start_time": "2023-11-06T12:52:45.744062633Z"
    }
   },
   "id": "2a6ba57fa79749af"
  },
  {
   "cell_type": "code",
   "execution_count": 3,
   "outputs": [
    {
     "data": {
      "text/plain": "                                            originPath  \\\n0    /data/scratch/r098375/data/Rstudy/data/4876_20...   \n1    /data/scratch/r098375/data/Rstudy/data/4876_20...   \n2    /data/scratch/r098375/data/Rstudy/data/4876_20...   \n3    /data/scratch/r098375/data/Rstudy/data/4876_20...   \n4    /data/scratch/r098375/data/Rstudy/data/4876_20...   \n..                                                 ...   \n387  /data/scratch/r098375/data/Rstudy/data/14720_2...   \n388  /data/scratch/r098375/data/Rstudy/data/14720_2...   \n389  /data/scratch/r098375/data/Rstudy/data/14720_2...   \n390  /data/scratch/r098375/data/Rstudy/data/14720_2...   \n391  /data/scratch/r098375/data/Rstudy/data/14720_2...   \n\n                                   structuredDicomPath  \\\n0    /data/scratch/r098375/data/Rstudy/DICOM_STRUCT...   \n1    /data/scratch/r098375/data/Rstudy/DICOM_STRUCT...   \n2    /data/scratch/r098375/data/Rstudy/DICOM_STRUCT...   \n3    /data/scratch/r098375/data/Rstudy/DICOM_STRUCT...   \n4    /data/scratch/r098375/data/Rstudy/DICOM_STRUCT...   \n..                                                 ...   \n387  /data/scratch/r098375/data/Rstudy/DICOM_STRUCT...   \n388  /data/scratch/r098375/data/Rstudy/DICOM_STRUCT...   \n389  /data/scratch/r098375/data/Rstudy/DICOM_STRUCT...   \n390  /data/scratch/r098375/data/Rstudy/DICOM_STRUCT...   \n391  /data/scratch/r098375/data/Rstudy/DICOM_STRUCT...   \n\n                                            NIFTI_path sliced  \n0    /data/scratch/r098375/data/Rstudy/NIFTI/996922...   True  \n1    /data/scratch/r098375/data/Rstudy/NIFTI/996922...   True  \n2    /data/scratch/r098375/data/Rstudy/NIFTI/996922...   True  \n3    /data/scratch/r098375/data/Rstudy/NIFTI/996922...   True  \n4    /data/scratch/r098375/data/Rstudy/NIFTI/996922...   True  \n..                                                 ...    ...  \n387                                                NaN    NaN  \n388                                                NaN    NaN  \n389                                                NaN    NaN  \n390                                                NaN    NaN  \n391                                                NaN    NaN  \n\n[392 rows x 4 columns]",
      "text/html": "<div>\n<style scoped>\n    .dataframe tbody tr th:only-of-type {\n        vertical-align: middle;\n    }\n\n    .dataframe tbody tr th {\n        vertical-align: top;\n    }\n\n    .dataframe thead th {\n        text-align: right;\n    }\n</style>\n<table border=\"1\" class=\"dataframe\">\n  <thead>\n    <tr style=\"text-align: right;\">\n      <th></th>\n      <th>originPath</th>\n      <th>structuredDicomPath</th>\n      <th>NIFTI_path</th>\n      <th>sliced</th>\n    </tr>\n  </thead>\n  <tbody>\n    <tr>\n      <th>0</th>\n      <td>/data/scratch/r098375/data/Rstudy/data/4876_20...</td>\n      <td>/data/scratch/r098375/data/Rstudy/DICOM_STRUCT...</td>\n      <td>/data/scratch/r098375/data/Rstudy/NIFTI/996922...</td>\n      <td>True</td>\n    </tr>\n    <tr>\n      <th>1</th>\n      <td>/data/scratch/r098375/data/Rstudy/data/4876_20...</td>\n      <td>/data/scratch/r098375/data/Rstudy/DICOM_STRUCT...</td>\n      <td>/data/scratch/r098375/data/Rstudy/NIFTI/996922...</td>\n      <td>True</td>\n    </tr>\n    <tr>\n      <th>2</th>\n      <td>/data/scratch/r098375/data/Rstudy/data/4876_20...</td>\n      <td>/data/scratch/r098375/data/Rstudy/DICOM_STRUCT...</td>\n      <td>/data/scratch/r098375/data/Rstudy/NIFTI/996922...</td>\n      <td>True</td>\n    </tr>\n    <tr>\n      <th>3</th>\n      <td>/data/scratch/r098375/data/Rstudy/data/4876_20...</td>\n      <td>/data/scratch/r098375/data/Rstudy/DICOM_STRUCT...</td>\n      <td>/data/scratch/r098375/data/Rstudy/NIFTI/996922...</td>\n      <td>True</td>\n    </tr>\n    <tr>\n      <th>4</th>\n      <td>/data/scratch/r098375/data/Rstudy/data/4876_20...</td>\n      <td>/data/scratch/r098375/data/Rstudy/DICOM_STRUCT...</td>\n      <td>/data/scratch/r098375/data/Rstudy/NIFTI/996922...</td>\n      <td>True</td>\n    </tr>\n    <tr>\n      <th>...</th>\n      <td>...</td>\n      <td>...</td>\n      <td>...</td>\n      <td>...</td>\n    </tr>\n    <tr>\n      <th>387</th>\n      <td>/data/scratch/r098375/data/Rstudy/data/14720_2...</td>\n      <td>/data/scratch/r098375/data/Rstudy/DICOM_STRUCT...</td>\n      <td>NaN</td>\n      <td>NaN</td>\n    </tr>\n    <tr>\n      <th>388</th>\n      <td>/data/scratch/r098375/data/Rstudy/data/14720_2...</td>\n      <td>/data/scratch/r098375/data/Rstudy/DICOM_STRUCT...</td>\n      <td>NaN</td>\n      <td>NaN</td>\n    </tr>\n    <tr>\n      <th>389</th>\n      <td>/data/scratch/r098375/data/Rstudy/data/14720_2...</td>\n      <td>/data/scratch/r098375/data/Rstudy/DICOM_STRUCT...</td>\n      <td>NaN</td>\n      <td>NaN</td>\n    </tr>\n    <tr>\n      <th>390</th>\n      <td>/data/scratch/r098375/data/Rstudy/data/14720_2...</td>\n      <td>/data/scratch/r098375/data/Rstudy/DICOM_STRUCT...</td>\n      <td>NaN</td>\n      <td>NaN</td>\n    </tr>\n    <tr>\n      <th>391</th>\n      <td>/data/scratch/r098375/data/Rstudy/data/14720_2...</td>\n      <td>/data/scratch/r098375/data/Rstudy/DICOM_STRUCT...</td>\n      <td>NaN</td>\n      <td>NaN</td>\n    </tr>\n  </tbody>\n</table>\n<p>392 rows × 4 columns</p>\n</div>"
     },
     "execution_count": 3,
     "metadata": {},
     "output_type": "execute_result"
    }
   ],
   "source": [
    "FileFrame"
   ],
   "metadata": {
    "collapsed": false,
    "ExecuteTime": {
     "end_time": "2023-11-06T12:52:45.771722362Z",
     "start_time": "2023-11-06T12:52:45.751898121Z"
    }
   },
   "id": "971799488a61faf4"
  },
  {
   "cell_type": "code",
   "execution_count": 6,
   "outputs": [],
   "source": [
    "FileFrame['name'] = FileFrame['originPath'].apply(lambda x: str(x).split('/')[9])"
   ],
   "metadata": {
    "collapsed": false,
    "ExecuteTime": {
     "end_time": "2023-11-06T12:55:44.441960859Z",
     "start_time": "2023-11-06T12:55:44.427261588Z"
    }
   },
   "id": "fb5e0cb95f97f176"
  },
  {
   "cell_type": "code",
   "execution_count": 7,
   "outputs": [
    {
     "data": {
      "text/plain": "array(['801-TENSOR_DWI', '9-Asset_Calibration', '1-3_plane_localizer',\n       '8-TENSOR_DWI', '3-PDW_FSE', '6-FLAIR',\n       '5-Rest_fMRI_TR2_9_TE60_160v_4m', '800-TENSOR_DWI', '2-Sag_2D_PC',\n       '10-SWI_3D', '802-TENSOR_DWI', '4-Flow1Slice8Nex', '7-T1W_3D',\n       '5-rsfMRI_TR3_1s_TE60ms_160v_8m', '5-FLAIR', '7-TENSOR_DWI',\n       '9-SWI_3D', '6-T1W_3D', '700-TENSOR_DWI', '701-TENSOR_DWI',\n       '702-TENSOR_DWI', '8-Asset_Calibration',\n       '751-FA_Jul_31_2023_13_18_05', '20008-Screen_Save',\n       '20004-Screen_Save', '20006-Screen_Save', '900-FILT_PHA__SWAN',\n       '20005-Screen_Save', '10-3D_ASL_non_contrast', '9-SWAN',\n       '200-COL_Sag_2D_PC', '20002-Screen_Save', '20009-Screen_Save',\n       '752-AvDC__m__s__Jul_31_2023_13_18_05',\n       '750-Trace_Jul_31_2023_13_18_04', '400-COL_Flow1Slice8Nex',\n       '704-Average_DC', '705-Fractional_Aniso_', '703-SCREENSAVE',\n       '751-FA_Jun_05_2023_09_17_46', '750-Trace_Jun_05_2023_09_17_46',\n       '752-AvDC__m__s__Jun_05_2023_09_17_47', '11-3D_ASL_non_contrast',\n       '20007-Screen_Save', '850-Trace_Nov_02_2020_14_32_49_CET',\n       '10-SWAN', '1000-FILT_PHA__SWAN', '20010-Screen_Save',\n       '852-AvDC__m__s__Nov_02_2020_14_32_50_CET',\n       '851-FA_Nov_02_2020_14_32_49_CET', '751-FA_May_11_2021_09_45_11',\n       '750-Trace_May_11_2021_09_45_10',\n       '752-AvDC__m__s__May_11_2021_09_45_11',\n       '750-Trace_Mar_29_2022_14_08_10',\n       '752-AvDC__m__s__Mar_29_2022_14_08_11',\n       '751-FA_Mar_29_2022_14_08_10', '1-SR1-Carestream_PACS_Reports',\n       '1-MR1-3_plane_localizer', '750-Trace_Sep_19_2022_09_31_51',\n       '751-FA_Sep_19_2022_09_31_51',\n       '752-AvDC__m__s__Sep_19_2022_09_31_52'], dtype=object)"
     },
     "execution_count": 7,
     "metadata": {},
     "output_type": "execute_result"
    }
   ],
   "source": [
    "FileFrame['name'].unique()"
   ],
   "metadata": {
    "collapsed": false,
    "ExecuteTime": {
     "end_time": "2023-11-06T12:55:45.334901067Z",
     "start_time": "2023-11-06T12:55:45.288387491Z"
    }
   },
   "id": "c2c2091e2cdf073d"
  },
  {
   "cell_type": "code",
   "execution_count": 8,
   "outputs": [],
   "source": [
    "FileFrame['str_name'] = FileFrame['name'].apply(lambda x:str(x).split('-',2)[1])"
   ],
   "metadata": {
    "collapsed": false,
    "ExecuteTime": {
     "end_time": "2023-11-06T12:57:04.987560978Z",
     "start_time": "2023-11-06T12:57:04.945374109Z"
    }
   },
   "id": "e7cbcef701a4f75b"
  },
  {
   "cell_type": "code",
   "execution_count": 9,
   "outputs": [
    {
     "data": {
      "text/plain": "array(['TENSOR_DWI', 'Asset_Calibration', '3_plane_localizer', 'PDW_FSE',\n       'FLAIR', 'Rest_fMRI_TR2_9_TE60_160v_4m', 'Sag_2D_PC', 'SWI_3D',\n       'Flow1Slice8Nex', 'T1W_3D', 'rsfMRI_TR3_1s_TE60ms_160v_8m',\n       'FA_Jul_31_2023_13_18_05', 'Screen_Save', 'FILT_PHA__SWAN',\n       '3D_ASL_non_contrast', 'SWAN', 'COL_Sag_2D_PC',\n       'AvDC__m__s__Jul_31_2023_13_18_05', 'Trace_Jul_31_2023_13_18_04',\n       'COL_Flow1Slice8Nex', 'Average_DC', 'Fractional_Aniso_',\n       'SCREENSAVE', 'FA_Jun_05_2023_09_17_46',\n       'Trace_Jun_05_2023_09_17_46', 'AvDC__m__s__Jun_05_2023_09_17_47',\n       'Trace_Nov_02_2020_14_32_49_CET',\n       'AvDC__m__s__Nov_02_2020_14_32_50_CET',\n       'FA_Nov_02_2020_14_32_49_CET', 'FA_May_11_2021_09_45_11',\n       'Trace_May_11_2021_09_45_10', 'AvDC__m__s__May_11_2021_09_45_11',\n       'Trace_Mar_29_2022_14_08_10', 'AvDC__m__s__Mar_29_2022_14_08_11',\n       'FA_Mar_29_2022_14_08_10', 'SR1', 'MR1',\n       'Trace_Sep_19_2022_09_31_51', 'FA_Sep_19_2022_09_31_51',\n       'AvDC__m__s__Sep_19_2022_09_31_52'], dtype=object)"
     },
     "execution_count": 9,
     "metadata": {},
     "output_type": "execute_result"
    }
   ],
   "source": [
    "FileFrame['str_name'].unique()"
   ],
   "metadata": {
    "collapsed": false,
    "ExecuteTime": {
     "end_time": "2023-11-06T12:57:05.155185434Z",
     "start_time": "2023-11-06T12:57:05.137523140Z"
    }
   },
   "id": "9c6ddce13a8407b8"
  },
  {
   "cell_type": "code",
   "execution_count": 13,
   "outputs": [
    {
     "data": {
      "text/plain": "array(['7-T1W_3D', '6-T1W_3D'], dtype=object)"
     },
     "execution_count": 13,
     "metadata": {},
     "output_type": "execute_result"
    }
   ],
   "source": [
    "FileFrame[FileFrame['str_name']=='T1W_3D']['name'].unique()"
   ],
   "metadata": {
    "collapsed": false,
    "ExecuteTime": {
     "end_time": "2023-11-06T13:00:19.727593249Z",
     "start_time": "2023-11-06T13:00:19.686826355Z"
    }
   },
   "id": "b121590676ae49af"
  },
  {
   "cell_type": "code",
   "execution_count": 27,
   "outputs": [],
   "source": [
    "def rename(origName):\n",
    "    on = origName.lower()\n",
    "    if 'local' in on:\n",
    "        return 'localizer'\n",
    "    if 'qflow' in on or 'qf' in on:\n",
    "        return 'qflow'\n",
    "    if 'gd' in on:\n",
    "        if 't1' in on or 'fspgr' in on:\n",
    "            return 'T1c'\n",
    "    if 'flair' in on:\n",
    "        return 'flair'\n",
    "    if 'dti' in on or 'tensor' in on:\n",
    "        return 'dti'\n",
    "    if 'dwi' in on:\n",
    "        return 'dwi'\n",
    "    if 'adc' in on:\n",
    "        return 'adc'\n",
    "    if 'pwi' in on or 'perf' in on:\n",
    "        return 'pwi'\n",
    "    if 'pd' in on:\n",
    "        return 'pd'\n",
    "    if 'survey' in on:\n",
    "        return 'survey'\n",
    "    if 'asl' in on:\n",
    "        return 'asl'\n",
    "    if 'swi' in on:\n",
    "        return 'swi'\n",
    "    if 'hippo' in on:\n",
    "        return 'hippo'\n",
    "    if 't1' in on or 'fspgr' in on or 'mpr' in on:\n",
    "        return 'T1w'\n",
    "    if 't2' in on and not 'ot2' in on:\n",
    "        return 'T2w'\n",
    "    if 'fmri' in on:\n",
    "        return 'bold'\n",
    "    return 'other'"
   ],
   "metadata": {
    "collapsed": false,
    "ExecuteTime": {
     "end_time": "2023-11-06T13:17:23.906088993Z",
     "start_time": "2023-11-06T13:17:23.861366996Z"
    }
   },
   "id": "3fbc221508dfdcca"
  },
  {
   "cell_type": "code",
   "execution_count": 28,
   "outputs": [],
   "source": [
    "FileFrame['renamed'] = FileFrame['name'].apply(rename)"
   ],
   "metadata": {
    "collapsed": false,
    "ExecuteTime": {
     "end_time": "2023-11-06T13:17:24.271762561Z",
     "start_time": "2023-11-06T13:17:24.241714390Z"
    }
   },
   "id": "e6f507e103d1b10b"
  },
  {
   "cell_type": "code",
   "execution_count": 29,
   "outputs": [
    {
     "data": {
      "text/plain": "array(['dti', 'other', 'localizer', 'pd', 'flair', 'bold', 'swi', 'T1w',\n       'asl'], dtype=object)"
     },
     "execution_count": 29,
     "metadata": {},
     "output_type": "execute_result"
    }
   ],
   "source": [
    "FileFrame['renamed'].unique()"
   ],
   "metadata": {
    "collapsed": false,
    "ExecuteTime": {
     "end_time": "2023-11-06T13:17:24.663920548Z",
     "start_time": "2023-11-06T13:17:24.631704753Z"
    }
   },
   "id": "5d39fcf0aba7471f"
  },
  {
   "cell_type": "code",
   "execution_count": 30,
   "outputs": [
    {
     "data": {
      "text/plain": "renamed\nother        159\ndti           86\nflair         28\nlocalizer     26\npd            26\nT1w           25\nswi           19\nbold          17\nasl            6\nName: count, dtype: int64"
     },
     "execution_count": 30,
     "metadata": {},
     "output_type": "execute_result"
    }
   ],
   "source": [
    "FileFrame['renamed'].value_counts()"
   ],
   "metadata": {
    "collapsed": false,
    "ExecuteTime": {
     "end_time": "2023-11-06T13:17:28.199986297Z",
     "start_time": "2023-11-06T13:17:28.184112175Z"
    }
   },
   "id": "5422836bc0b43d75"
  },
  {
   "cell_type": "code",
   "execution_count": 39,
   "outputs": [
    {
     "data": {
      "text/plain": "array(['10-3D_ASL_non_contrast', '11-3D_ASL_non_contrast'], dtype=object)"
     },
     "execution_count": 39,
     "metadata": {},
     "output_type": "execute_result"
    }
   ],
   "source": [
    "FileFrame[FileFrame['renamed']=='asl']['name'].unique()"
   ],
   "metadata": {
    "collapsed": false,
    "ExecuteTime": {
     "end_time": "2023-11-06T13:18:45.518370981Z",
     "start_time": "2023-11-06T13:18:45.471821359Z"
    }
   },
   "id": "ace894f730169603"
  },
  {
   "cell_type": "code",
   "execution_count": 40,
   "outputs": [],
   "source": [
    "labeldict = {\"T1\":0,\"T1_c\":1,\"T2\":2,\"T2-FLAIR\":3,\"FS\":4,\"PD\":5,\n",
    "             \"SWI\":6, \"GRE\":7, \"T2*\":8, \"DWI\":9, \"ADC\":10, \"BOLD\":11,\n",
    "             \"FlowSensitve\":12,\"PWI\":13,\"ASL\":14,\"Hippo\":15,\n",
    "             \"DTI\":16,\"Other\":17}\n",
    "def assignLabel(dataframe):\n",
    "    description = dataframe['description']\n",
    "    try:\n",
    "        weight = dataframe['weighting']\n",
    "    except:\n",
    "        weight = None\n",
    "    otherCategories = ['fieldmap','scout','calibration','phase','localizer','nan','NotMri','pet','CT','e2','minIP','moco','mpr','other','survey', 'qflow'] #moco is a motion corrected series\n",
    "    if description in otherCategories:\n",
    "        return 17\n",
    "    if description =='T1w':\n",
    "        return 0\n",
    "    if description =='T1c':\n",
    "        return 1\n",
    "    if weight:\n",
    "        if description =='T2w':\n",
    "            if weight=='T2':\n",
    "                return 2\n",
    "            if weight=='PD':\n",
    "                return 5\n",
    "    if description == 'T2w':\n",
    "        return 2\n",
    "    if 'flair' in description.lower():\n",
    "        return 3\n",
    "    if description =='FS':\n",
    "        return 4\n",
    "    if description =='pd':\n",
    "        return 5\n",
    "    if description =='swi':\n",
    "        return 6\n",
    "    if description.lower() =='gre':\n",
    "        return 7\n",
    "    if description =='T2star':\n",
    "        return 8\n",
    "    if description =='dwi':\n",
    "        return 9\n",
    "    if description =='adc':\n",
    "        return 10\n",
    "    if description =='bold':\n",
    "        return 11\n",
    "    if description =='angio': #flowsensitive\n",
    "        return 12\n",
    "    if description =='pwi' or description=='cbf':\n",
    "        return 13\n",
    "    if 'asl' in description:\n",
    "        return 14\n",
    "    if description == 'hippo':\n",
    "        return 15\n",
    "    if description == 'dti':\n",
    "        return 16\n",
    "    return -1"
   ],
   "metadata": {
    "collapsed": false,
    "ExecuteTime": {
     "end_time": "2023-11-06T13:19:06.097390019Z",
     "start_time": "2023-11-06T13:19:06.047672219Z"
    }
   },
   "id": "f3d01600eed07c87"
  },
  {
   "cell_type": "code",
   "execution_count": 41,
   "outputs": [],
   "source": [
    "FileFrame['description'] = FileFrame['renamed']"
   ],
   "metadata": {
    "collapsed": false,
    "ExecuteTime": {
     "end_time": "2023-11-06T13:19:06.936393414Z",
     "start_time": "2023-11-06T13:19:06.918135198Z"
    }
   },
   "id": "562f267b477572ba"
  },
  {
   "cell_type": "code",
   "execution_count": 42,
   "outputs": [],
   "source": [
    "FileFrame['numLabel'] = FileFrame.apply(assignLabel,axis=1)"
   ],
   "metadata": {
    "collapsed": false,
    "ExecuteTime": {
     "end_time": "2023-11-06T13:19:07.668859140Z",
     "start_time": "2023-11-06T13:19:07.608041592Z"
    }
   },
   "id": "38781f4ef7cb63d1"
  },
  {
   "cell_type": "code",
   "execution_count": 43,
   "outputs": [
    {
     "data": {
      "text/plain": "numLabel\n17    185\n16     86\n3      28\n5      26\n0      25\n6      19\n11     17\n14      6\nName: count, dtype: int64"
     },
     "execution_count": 43,
     "metadata": {},
     "output_type": "execute_result"
    }
   ],
   "source": [
    "FileFrame['numLabel'].value_counts()"
   ],
   "metadata": {
    "collapsed": false,
    "ExecuteTime": {
     "end_time": "2023-11-06T13:19:08.248053814Z",
     "start_time": "2023-11-06T13:19:08.235126615Z"
    }
   },
   "id": "d70da7d8aa502a20"
  },
  {
   "cell_type": "code",
   "execution_count": 44,
   "outputs": [],
   "source": [
    "LabelFrame = pd.read_csv('Labels.txt',names=['ID','label','extra'],sep='\\t', dtype={'ID':str,'label':int,'extra':int})"
   ],
   "metadata": {
    "collapsed": false,
    "ExecuteTime": {
     "end_time": "2023-11-06T13:19:20.975403664Z",
     "start_time": "2023-11-06T13:19:20.933568767Z"
    }
   },
   "id": "42538d3910e0be7"
  },
  {
   "cell_type": "code",
   "execution_count": 45,
   "outputs": [],
   "source": [
    "def extractNiftiName(name):\n",
    "    name = name.rsplit('__',1)[0]\n",
    "    name = name.replace('NIFTI_SLICES','NIFTI')\n",
    "    name = name.split('_Scan')[0]\n",
    "    name = f'{name}.nii.gz'\n",
    "    if len(str(name).split('__')) > 3:\n",
    "        return None\n",
    "    return name"
   ],
   "metadata": {
    "collapsed": false,
    "ExecuteTime": {
     "end_time": "2023-11-06T13:19:24.174764753Z",
     "start_time": "2023-11-06T13:19:24.162919645Z"
    }
   },
   "id": "3bf243148fb7be9d"
  },
  {
   "cell_type": "code",
   "execution_count": 46,
   "outputs": [],
   "source": [
    "LabelFrame['nifti_name'] = LabelFrame['ID'].apply(extractNiftiName)"
   ],
   "metadata": {
    "collapsed": false,
    "ExecuteTime": {
     "end_time": "2023-11-06T13:19:30.994620020Z",
     "start_time": "2023-11-06T13:19:30.989000012Z"
    }
   },
   "id": "d42dfddcdbd13fbd"
  },
  {
   "cell_type": "code",
   "execution_count": 47,
   "outputs": [
    {
     "data": {
      "text/plain": "8475"
     },
     "execution_count": 47,
     "metadata": {},
     "output_type": "execute_result"
    }
   ],
   "source": [
    "len(LabelFrame)"
   ],
   "metadata": {
    "collapsed": false,
    "ExecuteTime": {
     "end_time": "2023-11-06T13:19:32.047608991Z",
     "start_time": "2023-11-06T13:19:32.023972298Z"
    }
   },
   "id": "348893e8e3299d49"
  },
  {
   "cell_type": "code",
   "execution_count": 48,
   "outputs": [
    {
     "data": {
      "text/plain": "                                                  ID  label  extra  \\\n0  /data/scratch/r098375/data/Rstudy/NIFTI_SLICES...      0      0   \n1  /data/scratch/r098375/data/Rstudy/NIFTI_SLICES...      0      0   \n2  /data/scratch/r098375/data/Rstudy/NIFTI_SLICES...      0      0   \n3  /data/scratch/r098375/data/Rstudy/NIFTI_SLICES...      0      0   \n4  /data/scratch/r098375/data/Rstudy/NIFTI_SLICES...      0      0   \n\n                                          nifti_name  \n0  /data/scratch/r098375/data/Rstudy/NIFTI/513602...  \n1  /data/scratch/r098375/data/Rstudy/NIFTI/513602...  \n2  /data/scratch/r098375/data/Rstudy/NIFTI/513602...  \n3  /data/scratch/r098375/data/Rstudy/NIFTI/513602...  \n4  /data/scratch/r098375/data/Rstudy/NIFTI/513602...  ",
      "text/html": "<div>\n<style scoped>\n    .dataframe tbody tr th:only-of-type {\n        vertical-align: middle;\n    }\n\n    .dataframe tbody tr th {\n        vertical-align: top;\n    }\n\n    .dataframe thead th {\n        text-align: right;\n    }\n</style>\n<table border=\"1\" class=\"dataframe\">\n  <thead>\n    <tr style=\"text-align: right;\">\n      <th></th>\n      <th>ID</th>\n      <th>label</th>\n      <th>extra</th>\n      <th>nifti_name</th>\n    </tr>\n  </thead>\n  <tbody>\n    <tr>\n      <th>0</th>\n      <td>/data/scratch/r098375/data/Rstudy/NIFTI_SLICES...</td>\n      <td>0</td>\n      <td>0</td>\n      <td>/data/scratch/r098375/data/Rstudy/NIFTI/513602...</td>\n    </tr>\n    <tr>\n      <th>1</th>\n      <td>/data/scratch/r098375/data/Rstudy/NIFTI_SLICES...</td>\n      <td>0</td>\n      <td>0</td>\n      <td>/data/scratch/r098375/data/Rstudy/NIFTI/513602...</td>\n    </tr>\n    <tr>\n      <th>2</th>\n      <td>/data/scratch/r098375/data/Rstudy/NIFTI_SLICES...</td>\n      <td>0</td>\n      <td>0</td>\n      <td>/data/scratch/r098375/data/Rstudy/NIFTI/513602...</td>\n    </tr>\n    <tr>\n      <th>3</th>\n      <td>/data/scratch/r098375/data/Rstudy/NIFTI_SLICES...</td>\n      <td>0</td>\n      <td>0</td>\n      <td>/data/scratch/r098375/data/Rstudy/NIFTI/513602...</td>\n    </tr>\n    <tr>\n      <th>4</th>\n      <td>/data/scratch/r098375/data/Rstudy/NIFTI_SLICES...</td>\n      <td>0</td>\n      <td>0</td>\n      <td>/data/scratch/r098375/data/Rstudy/NIFTI/513602...</td>\n    </tr>\n  </tbody>\n</table>\n</div>"
     },
     "execution_count": 48,
     "metadata": {},
     "output_type": "execute_result"
    }
   ],
   "source": [
    "LabelFrame.head()"
   ],
   "metadata": {
    "collapsed": false,
    "ExecuteTime": {
     "end_time": "2023-11-06T13:19:33.425987367Z",
     "start_time": "2023-11-06T13:19:33.415460980Z"
    }
   },
   "id": "6b10715d69a1f2c5"
  },
  {
   "cell_type": "code",
   "execution_count": 49,
   "outputs": [
    {
     "data": {
      "text/plain": "                                          originPath  \\\n0  /data/scratch/r098375/data/Rstudy/data/4876_20...   \n1  /data/scratch/r098375/data/Rstudy/data/4876_20...   \n2  /data/scratch/r098375/data/Rstudy/data/4876_20...   \n3  /data/scratch/r098375/data/Rstudy/data/4876_20...   \n4  /data/scratch/r098375/data/Rstudy/data/4876_20...   \n\n                                 structuredDicomPath  \\\n0  /data/scratch/r098375/data/Rstudy/DICOM_STRUCT...   \n1  /data/scratch/r098375/data/Rstudy/DICOM_STRUCT...   \n2  /data/scratch/r098375/data/Rstudy/DICOM_STRUCT...   \n3  /data/scratch/r098375/data/Rstudy/DICOM_STRUCT...   \n4  /data/scratch/r098375/data/Rstudy/DICOM_STRUCT...   \n\n                                          NIFTI_path sliced  \\\n0  /data/scratch/r098375/data/Rstudy/NIFTI/996922...   True   \n1  /data/scratch/r098375/data/Rstudy/NIFTI/996922...   True   \n2  /data/scratch/r098375/data/Rstudy/NIFTI/996922...   True   \n3  /data/scratch/r098375/data/Rstudy/NIFTI/996922...   True   \n4  /data/scratch/r098375/data/Rstudy/NIFTI/996922...   True   \n\n                  name           str_name    renamed description  numLabel  \n0       801-TENSOR_DWI         TENSOR_DWI        dti         dti        16  \n1  9-Asset_Calibration  Asset_Calibration      other       other        17  \n2  1-3_plane_localizer  3_plane_localizer  localizer   localizer        17  \n3         8-TENSOR_DWI         TENSOR_DWI        dti         dti        16  \n4            3-PDW_FSE            PDW_FSE         pd          pd         5  ",
      "text/html": "<div>\n<style scoped>\n    .dataframe tbody tr th:only-of-type {\n        vertical-align: middle;\n    }\n\n    .dataframe tbody tr th {\n        vertical-align: top;\n    }\n\n    .dataframe thead th {\n        text-align: right;\n    }\n</style>\n<table border=\"1\" class=\"dataframe\">\n  <thead>\n    <tr style=\"text-align: right;\">\n      <th></th>\n      <th>originPath</th>\n      <th>structuredDicomPath</th>\n      <th>NIFTI_path</th>\n      <th>sliced</th>\n      <th>name</th>\n      <th>str_name</th>\n      <th>renamed</th>\n      <th>description</th>\n      <th>numLabel</th>\n    </tr>\n  </thead>\n  <tbody>\n    <tr>\n      <th>0</th>\n      <td>/data/scratch/r098375/data/Rstudy/data/4876_20...</td>\n      <td>/data/scratch/r098375/data/Rstudy/DICOM_STRUCT...</td>\n      <td>/data/scratch/r098375/data/Rstudy/NIFTI/996922...</td>\n      <td>True</td>\n      <td>801-TENSOR_DWI</td>\n      <td>TENSOR_DWI</td>\n      <td>dti</td>\n      <td>dti</td>\n      <td>16</td>\n    </tr>\n    <tr>\n      <th>1</th>\n      <td>/data/scratch/r098375/data/Rstudy/data/4876_20...</td>\n      <td>/data/scratch/r098375/data/Rstudy/DICOM_STRUCT...</td>\n      <td>/data/scratch/r098375/data/Rstudy/NIFTI/996922...</td>\n      <td>True</td>\n      <td>9-Asset_Calibration</td>\n      <td>Asset_Calibration</td>\n      <td>other</td>\n      <td>other</td>\n      <td>17</td>\n    </tr>\n    <tr>\n      <th>2</th>\n      <td>/data/scratch/r098375/data/Rstudy/data/4876_20...</td>\n      <td>/data/scratch/r098375/data/Rstudy/DICOM_STRUCT...</td>\n      <td>/data/scratch/r098375/data/Rstudy/NIFTI/996922...</td>\n      <td>True</td>\n      <td>1-3_plane_localizer</td>\n      <td>3_plane_localizer</td>\n      <td>localizer</td>\n      <td>localizer</td>\n      <td>17</td>\n    </tr>\n    <tr>\n      <th>3</th>\n      <td>/data/scratch/r098375/data/Rstudy/data/4876_20...</td>\n      <td>/data/scratch/r098375/data/Rstudy/DICOM_STRUCT...</td>\n      <td>/data/scratch/r098375/data/Rstudy/NIFTI/996922...</td>\n      <td>True</td>\n      <td>8-TENSOR_DWI</td>\n      <td>TENSOR_DWI</td>\n      <td>dti</td>\n      <td>dti</td>\n      <td>16</td>\n    </tr>\n    <tr>\n      <th>4</th>\n      <td>/data/scratch/r098375/data/Rstudy/data/4876_20...</td>\n      <td>/data/scratch/r098375/data/Rstudy/DICOM_STRUCT...</td>\n      <td>/data/scratch/r098375/data/Rstudy/NIFTI/996922...</td>\n      <td>True</td>\n      <td>3-PDW_FSE</td>\n      <td>PDW_FSE</td>\n      <td>pd</td>\n      <td>pd</td>\n      <td>5</td>\n    </tr>\n  </tbody>\n</table>\n</div>"
     },
     "execution_count": 49,
     "metadata": {},
     "output_type": "execute_result"
    }
   ],
   "source": [
    "FileFrame.head()"
   ],
   "metadata": {
    "collapsed": false,
    "ExecuteTime": {
     "end_time": "2023-11-06T13:19:35.105723650Z",
     "start_time": "2023-11-06T13:19:35.061472569Z"
    }
   },
   "id": "d0f9bd8eb9b39bde"
  },
  {
   "cell_type": "code",
   "execution_count": 51,
   "outputs": [],
   "source": [
    "temp = LabelFrame.merge(FileFrame, how='inner', left_on='nifti_name', right_on=\"NIFTI_path\")"
   ],
   "metadata": {
    "collapsed": false,
    "ExecuteTime": {
     "end_time": "2023-11-06T13:19:52.496142260Z",
     "start_time": "2023-11-06T13:19:52.456516196Z"
    }
   },
   "id": "2b665acdd0682024"
  },
  {
   "cell_type": "code",
   "execution_count": 52,
   "outputs": [
    {
     "data": {
      "text/plain": "                                                     ID  label  extra  \\\n0     /data/scratch/r098375/data/Rstudy/NIFTI_SLICES...      0      0   \n1     /data/scratch/r098375/data/Rstudy/NIFTI_SLICES...      0      0   \n2     /data/scratch/r098375/data/Rstudy/NIFTI_SLICES...      0      0   \n3     /data/scratch/r098375/data/Rstudy/NIFTI_SLICES...      0      0   \n4     /data/scratch/r098375/data/Rstudy/NIFTI_SLICES...      0      0   \n...                                                 ...    ...    ...   \n8470  /data/scratch/r098375/data/Rstudy/NIFTI_SLICES...      0      0   \n8471  /data/scratch/r098375/data/Rstudy/NIFTI_SLICES...      0      0   \n8472  /data/scratch/r098375/data/Rstudy/NIFTI_SLICES...      0      0   \n8473  /data/scratch/r098375/data/Rstudy/NIFTI_SLICES...      0      0   \n8474  /data/scratch/r098375/data/Rstudy/NIFTI_SLICES...      0      0   \n\n                                             nifti_name  \\\n0     /data/scratch/r098375/data/Rstudy/NIFTI/513602...   \n1     /data/scratch/r098375/data/Rstudy/NIFTI/513602...   \n2     /data/scratch/r098375/data/Rstudy/NIFTI/513602...   \n3     /data/scratch/r098375/data/Rstudy/NIFTI/513602...   \n4     /data/scratch/r098375/data/Rstudy/NIFTI/513602...   \n...                                                 ...   \n8470  /data/scratch/r098375/data/Rstudy/NIFTI/507555...   \n8471  /data/scratch/r098375/data/Rstudy/NIFTI/507555...   \n8472  /data/scratch/r098375/data/Rstudy/NIFTI/507555...   \n8473  /data/scratch/r098375/data/Rstudy/NIFTI/507555...   \n8474  /data/scratch/r098375/data/Rstudy/NIFTI/507555...   \n\n                                             originPath  \\\n0     /data/scratch/r098375/data/Rstudy/data/4290_20...   \n1     /data/scratch/r098375/data/Rstudy/data/4290_20...   \n2     /data/scratch/r098375/data/Rstudy/data/4290_20...   \n3     /data/scratch/r098375/data/Rstudy/data/4290_20...   \n4     /data/scratch/r098375/data/Rstudy/data/4290_20...   \n...                                                 ...   \n8470  /data/scratch/r098375/data/Rstudy/data/7096_20...   \n8471  /data/scratch/r098375/data/Rstudy/data/7096_20...   \n8472  /data/scratch/r098375/data/Rstudy/data/7096_20...   \n8473  /data/scratch/r098375/data/Rstudy/data/7096_20...   \n8474  /data/scratch/r098375/data/Rstudy/data/7096_20...   \n\n                                    structuredDicomPath  \\\n0     /data/scratch/r098375/data/Rstudy/DICOM_STRUCT...   \n1     /data/scratch/r098375/data/Rstudy/DICOM_STRUCT...   \n2     /data/scratch/r098375/data/Rstudy/DICOM_STRUCT...   \n3     /data/scratch/r098375/data/Rstudy/DICOM_STRUCT...   \n4     /data/scratch/r098375/data/Rstudy/DICOM_STRUCT...   \n...                                                 ...   \n8470  /data/scratch/r098375/data/Rstudy/DICOM_STRUCT...   \n8471  /data/scratch/r098375/data/Rstudy/DICOM_STRUCT...   \n8472  /data/scratch/r098375/data/Rstudy/DICOM_STRUCT...   \n8473  /data/scratch/r098375/data/Rstudy/DICOM_STRUCT...   \n8474  /data/scratch/r098375/data/Rstudy/DICOM_STRUCT...   \n\n                                             NIFTI_path sliced  \\\n0     /data/scratch/r098375/data/Rstudy/NIFTI/513602...   True   \n1     /data/scratch/r098375/data/Rstudy/NIFTI/513602...   True   \n2     /data/scratch/r098375/data/Rstudy/NIFTI/513602...   True   \n3     /data/scratch/r098375/data/Rstudy/NIFTI/513602...   True   \n4     /data/scratch/r098375/data/Rstudy/NIFTI/513602...   True   \n...                                                 ...    ...   \n8470  /data/scratch/r098375/data/Rstudy/NIFTI/507555...   True   \n8471  /data/scratch/r098375/data/Rstudy/NIFTI/507555...   True   \n8472  /data/scratch/r098375/data/Rstudy/NIFTI/507555...   True   \n8473  /data/scratch/r098375/data/Rstudy/NIFTI/507555...   True   \n8474  /data/scratch/r098375/data/Rstudy/NIFTI/507555...   True   \n\n                             name                 str_name renamed  \\\n0                       10-SWI_3D                   SWI_3D     swi   \n1                       10-SWI_3D                   SWI_3D     swi   \n2                       10-SWI_3D                   SWI_3D     swi   \n3                       10-SWI_3D                   SWI_3D     swi   \n4                       10-SWI_3D                   SWI_3D     swi   \n...                           ...                      ...     ...   \n8470  751-FA_Sep_19_2022_09_31_51  FA_Sep_19_2022_09_31_51   other   \n8471  751-FA_Sep_19_2022_09_31_51  FA_Sep_19_2022_09_31_51   other   \n8472  751-FA_Sep_19_2022_09_31_51  FA_Sep_19_2022_09_31_51   other   \n8473  751-FA_Sep_19_2022_09_31_51  FA_Sep_19_2022_09_31_51   other   \n8474  751-FA_Sep_19_2022_09_31_51  FA_Sep_19_2022_09_31_51   other   \n\n     description  numLabel  \n0            swi         6  \n1            swi         6  \n2            swi         6  \n3            swi         6  \n4            swi         6  \n...          ...       ...  \n8470       other        17  \n8471       other        17  \n8472       other        17  \n8473       other        17  \n8474       other        17  \n\n[8475 rows x 13 columns]",
      "text/html": "<div>\n<style scoped>\n    .dataframe tbody tr th:only-of-type {\n        vertical-align: middle;\n    }\n\n    .dataframe tbody tr th {\n        vertical-align: top;\n    }\n\n    .dataframe thead th {\n        text-align: right;\n    }\n</style>\n<table border=\"1\" class=\"dataframe\">\n  <thead>\n    <tr style=\"text-align: right;\">\n      <th></th>\n      <th>ID</th>\n      <th>label</th>\n      <th>extra</th>\n      <th>nifti_name</th>\n      <th>originPath</th>\n      <th>structuredDicomPath</th>\n      <th>NIFTI_path</th>\n      <th>sliced</th>\n      <th>name</th>\n      <th>str_name</th>\n      <th>renamed</th>\n      <th>description</th>\n      <th>numLabel</th>\n    </tr>\n  </thead>\n  <tbody>\n    <tr>\n      <th>0</th>\n      <td>/data/scratch/r098375/data/Rstudy/NIFTI_SLICES...</td>\n      <td>0</td>\n      <td>0</td>\n      <td>/data/scratch/r098375/data/Rstudy/NIFTI/513602...</td>\n      <td>/data/scratch/r098375/data/Rstudy/data/4290_20...</td>\n      <td>/data/scratch/r098375/data/Rstudy/DICOM_STRUCT...</td>\n      <td>/data/scratch/r098375/data/Rstudy/NIFTI/513602...</td>\n      <td>True</td>\n      <td>10-SWI_3D</td>\n      <td>SWI_3D</td>\n      <td>swi</td>\n      <td>swi</td>\n      <td>6</td>\n    </tr>\n    <tr>\n      <th>1</th>\n      <td>/data/scratch/r098375/data/Rstudy/NIFTI_SLICES...</td>\n      <td>0</td>\n      <td>0</td>\n      <td>/data/scratch/r098375/data/Rstudy/NIFTI/513602...</td>\n      <td>/data/scratch/r098375/data/Rstudy/data/4290_20...</td>\n      <td>/data/scratch/r098375/data/Rstudy/DICOM_STRUCT...</td>\n      <td>/data/scratch/r098375/data/Rstudy/NIFTI/513602...</td>\n      <td>True</td>\n      <td>10-SWI_3D</td>\n      <td>SWI_3D</td>\n      <td>swi</td>\n      <td>swi</td>\n      <td>6</td>\n    </tr>\n    <tr>\n      <th>2</th>\n      <td>/data/scratch/r098375/data/Rstudy/NIFTI_SLICES...</td>\n      <td>0</td>\n      <td>0</td>\n      <td>/data/scratch/r098375/data/Rstudy/NIFTI/513602...</td>\n      <td>/data/scratch/r098375/data/Rstudy/data/4290_20...</td>\n      <td>/data/scratch/r098375/data/Rstudy/DICOM_STRUCT...</td>\n      <td>/data/scratch/r098375/data/Rstudy/NIFTI/513602...</td>\n      <td>True</td>\n      <td>10-SWI_3D</td>\n      <td>SWI_3D</td>\n      <td>swi</td>\n      <td>swi</td>\n      <td>6</td>\n    </tr>\n    <tr>\n      <th>3</th>\n      <td>/data/scratch/r098375/data/Rstudy/NIFTI_SLICES...</td>\n      <td>0</td>\n      <td>0</td>\n      <td>/data/scratch/r098375/data/Rstudy/NIFTI/513602...</td>\n      <td>/data/scratch/r098375/data/Rstudy/data/4290_20...</td>\n      <td>/data/scratch/r098375/data/Rstudy/DICOM_STRUCT...</td>\n      <td>/data/scratch/r098375/data/Rstudy/NIFTI/513602...</td>\n      <td>True</td>\n      <td>10-SWI_3D</td>\n      <td>SWI_3D</td>\n      <td>swi</td>\n      <td>swi</td>\n      <td>6</td>\n    </tr>\n    <tr>\n      <th>4</th>\n      <td>/data/scratch/r098375/data/Rstudy/NIFTI_SLICES...</td>\n      <td>0</td>\n      <td>0</td>\n      <td>/data/scratch/r098375/data/Rstudy/NIFTI/513602...</td>\n      <td>/data/scratch/r098375/data/Rstudy/data/4290_20...</td>\n      <td>/data/scratch/r098375/data/Rstudy/DICOM_STRUCT...</td>\n      <td>/data/scratch/r098375/data/Rstudy/NIFTI/513602...</td>\n      <td>True</td>\n      <td>10-SWI_3D</td>\n      <td>SWI_3D</td>\n      <td>swi</td>\n      <td>swi</td>\n      <td>6</td>\n    </tr>\n    <tr>\n      <th>...</th>\n      <td>...</td>\n      <td>...</td>\n      <td>...</td>\n      <td>...</td>\n      <td>...</td>\n      <td>...</td>\n      <td>...</td>\n      <td>...</td>\n      <td>...</td>\n      <td>...</td>\n      <td>...</td>\n      <td>...</td>\n      <td>...</td>\n    </tr>\n    <tr>\n      <th>8470</th>\n      <td>/data/scratch/r098375/data/Rstudy/NIFTI_SLICES...</td>\n      <td>0</td>\n      <td>0</td>\n      <td>/data/scratch/r098375/data/Rstudy/NIFTI/507555...</td>\n      <td>/data/scratch/r098375/data/Rstudy/data/7096_20...</td>\n      <td>/data/scratch/r098375/data/Rstudy/DICOM_STRUCT...</td>\n      <td>/data/scratch/r098375/data/Rstudy/NIFTI/507555...</td>\n      <td>True</td>\n      <td>751-FA_Sep_19_2022_09_31_51</td>\n      <td>FA_Sep_19_2022_09_31_51</td>\n      <td>other</td>\n      <td>other</td>\n      <td>17</td>\n    </tr>\n    <tr>\n      <th>8471</th>\n      <td>/data/scratch/r098375/data/Rstudy/NIFTI_SLICES...</td>\n      <td>0</td>\n      <td>0</td>\n      <td>/data/scratch/r098375/data/Rstudy/NIFTI/507555...</td>\n      <td>/data/scratch/r098375/data/Rstudy/data/7096_20...</td>\n      <td>/data/scratch/r098375/data/Rstudy/DICOM_STRUCT...</td>\n      <td>/data/scratch/r098375/data/Rstudy/NIFTI/507555...</td>\n      <td>True</td>\n      <td>751-FA_Sep_19_2022_09_31_51</td>\n      <td>FA_Sep_19_2022_09_31_51</td>\n      <td>other</td>\n      <td>other</td>\n      <td>17</td>\n    </tr>\n    <tr>\n      <th>8472</th>\n      <td>/data/scratch/r098375/data/Rstudy/NIFTI_SLICES...</td>\n      <td>0</td>\n      <td>0</td>\n      <td>/data/scratch/r098375/data/Rstudy/NIFTI/507555...</td>\n      <td>/data/scratch/r098375/data/Rstudy/data/7096_20...</td>\n      <td>/data/scratch/r098375/data/Rstudy/DICOM_STRUCT...</td>\n      <td>/data/scratch/r098375/data/Rstudy/NIFTI/507555...</td>\n      <td>True</td>\n      <td>751-FA_Sep_19_2022_09_31_51</td>\n      <td>FA_Sep_19_2022_09_31_51</td>\n      <td>other</td>\n      <td>other</td>\n      <td>17</td>\n    </tr>\n    <tr>\n      <th>8473</th>\n      <td>/data/scratch/r098375/data/Rstudy/NIFTI_SLICES...</td>\n      <td>0</td>\n      <td>0</td>\n      <td>/data/scratch/r098375/data/Rstudy/NIFTI/507555...</td>\n      <td>/data/scratch/r098375/data/Rstudy/data/7096_20...</td>\n      <td>/data/scratch/r098375/data/Rstudy/DICOM_STRUCT...</td>\n      <td>/data/scratch/r098375/data/Rstudy/NIFTI/507555...</td>\n      <td>True</td>\n      <td>751-FA_Sep_19_2022_09_31_51</td>\n      <td>FA_Sep_19_2022_09_31_51</td>\n      <td>other</td>\n      <td>other</td>\n      <td>17</td>\n    </tr>\n    <tr>\n      <th>8474</th>\n      <td>/data/scratch/r098375/data/Rstudy/NIFTI_SLICES...</td>\n      <td>0</td>\n      <td>0</td>\n      <td>/data/scratch/r098375/data/Rstudy/NIFTI/507555...</td>\n      <td>/data/scratch/r098375/data/Rstudy/data/7096_20...</td>\n      <td>/data/scratch/r098375/data/Rstudy/DICOM_STRUCT...</td>\n      <td>/data/scratch/r098375/data/Rstudy/NIFTI/507555...</td>\n      <td>True</td>\n      <td>751-FA_Sep_19_2022_09_31_51</td>\n      <td>FA_Sep_19_2022_09_31_51</td>\n      <td>other</td>\n      <td>other</td>\n      <td>17</td>\n    </tr>\n  </tbody>\n</table>\n<p>8475 rows × 13 columns</p>\n</div>"
     },
     "execution_count": 52,
     "metadata": {},
     "output_type": "execute_result"
    }
   ],
   "source": [
    "temp"
   ],
   "metadata": {
    "collapsed": false,
    "ExecuteTime": {
     "end_time": "2023-11-06T13:19:53.748950727Z",
     "start_time": "2023-11-06T13:19:53.723960887Z"
    }
   },
   "id": "38a577996af00365"
  },
  {
   "cell_type": "code",
   "execution_count": 54,
   "outputs": [
    {
     "data": {
      "text/plain": "description\nother        120.0\ndti           78.0\nlocalizer     26.0\npd            26.0\nT1w           25.0\nflair         22.0\nswi           19.0\nbold          17.0\nasl            6.0\nName: count, dtype: float64"
     },
     "execution_count": 54,
     "metadata": {},
     "output_type": "execute_result"
    }
   ],
   "source": [
    "temp['description'].value_counts()/25"
   ],
   "metadata": {
    "collapsed": false,
    "ExecuteTime": {
     "end_time": "2023-11-06T13:20:11.403919898Z",
     "start_time": "2023-11-06T13:20:11.341287972Z"
    }
   },
   "id": "ac9af9ddf28eeeb2"
  },
  {
   "cell_type": "code",
   "execution_count": 55,
   "outputs": [],
   "source": [
    "temp['label'] = temp['numLabel']"
   ],
   "metadata": {
    "collapsed": false,
    "ExecuteTime": {
     "end_time": "2023-11-06T13:20:33.187526276Z",
     "start_time": "2023-11-06T13:20:33.143725046Z"
    }
   },
   "id": "e0ca734a7c0e8318"
  },
  {
   "cell_type": "code",
   "execution_count": 56,
   "outputs": [],
   "source": [
    "FinalLabelFrame = temp[['ID','label','extra']].copy()"
   ],
   "metadata": {
    "collapsed": false,
    "ExecuteTime": {
     "end_time": "2023-11-06T13:20:33.353784955Z",
     "start_time": "2023-11-06T13:20:33.344477126Z"
    }
   },
   "id": "132a9a62f355dd64"
  },
  {
   "cell_type": "code",
   "execution_count": 57,
   "outputs": [
    {
     "data": {
      "text/plain": "                                                     ID  label  extra\n0     /data/scratch/r098375/data/Rstudy/NIFTI_SLICES...      6      0\n1     /data/scratch/r098375/data/Rstudy/NIFTI_SLICES...      6      0\n2     /data/scratch/r098375/data/Rstudy/NIFTI_SLICES...      6      0\n3     /data/scratch/r098375/data/Rstudy/NIFTI_SLICES...      6      0\n4     /data/scratch/r098375/data/Rstudy/NIFTI_SLICES...      6      0\n...                                                 ...    ...    ...\n8470  /data/scratch/r098375/data/Rstudy/NIFTI_SLICES...     17      0\n8471  /data/scratch/r098375/data/Rstudy/NIFTI_SLICES...     17      0\n8472  /data/scratch/r098375/data/Rstudy/NIFTI_SLICES...     17      0\n8473  /data/scratch/r098375/data/Rstudy/NIFTI_SLICES...     17      0\n8474  /data/scratch/r098375/data/Rstudy/NIFTI_SLICES...     17      0\n\n[8475 rows x 3 columns]",
      "text/html": "<div>\n<style scoped>\n    .dataframe tbody tr th:only-of-type {\n        vertical-align: middle;\n    }\n\n    .dataframe tbody tr th {\n        vertical-align: top;\n    }\n\n    .dataframe thead th {\n        text-align: right;\n    }\n</style>\n<table border=\"1\" class=\"dataframe\">\n  <thead>\n    <tr style=\"text-align: right;\">\n      <th></th>\n      <th>ID</th>\n      <th>label</th>\n      <th>extra</th>\n    </tr>\n  </thead>\n  <tbody>\n    <tr>\n      <th>0</th>\n      <td>/data/scratch/r098375/data/Rstudy/NIFTI_SLICES...</td>\n      <td>6</td>\n      <td>0</td>\n    </tr>\n    <tr>\n      <th>1</th>\n      <td>/data/scratch/r098375/data/Rstudy/NIFTI_SLICES...</td>\n      <td>6</td>\n      <td>0</td>\n    </tr>\n    <tr>\n      <th>2</th>\n      <td>/data/scratch/r098375/data/Rstudy/NIFTI_SLICES...</td>\n      <td>6</td>\n      <td>0</td>\n    </tr>\n    <tr>\n      <th>3</th>\n      <td>/data/scratch/r098375/data/Rstudy/NIFTI_SLICES...</td>\n      <td>6</td>\n      <td>0</td>\n    </tr>\n    <tr>\n      <th>4</th>\n      <td>/data/scratch/r098375/data/Rstudy/NIFTI_SLICES...</td>\n      <td>6</td>\n      <td>0</td>\n    </tr>\n    <tr>\n      <th>...</th>\n      <td>...</td>\n      <td>...</td>\n      <td>...</td>\n    </tr>\n    <tr>\n      <th>8470</th>\n      <td>/data/scratch/r098375/data/Rstudy/NIFTI_SLICES...</td>\n      <td>17</td>\n      <td>0</td>\n    </tr>\n    <tr>\n      <th>8471</th>\n      <td>/data/scratch/r098375/data/Rstudy/NIFTI_SLICES...</td>\n      <td>17</td>\n      <td>0</td>\n    </tr>\n    <tr>\n      <th>8472</th>\n      <td>/data/scratch/r098375/data/Rstudy/NIFTI_SLICES...</td>\n      <td>17</td>\n      <td>0</td>\n    </tr>\n    <tr>\n      <th>8473</th>\n      <td>/data/scratch/r098375/data/Rstudy/NIFTI_SLICES...</td>\n      <td>17</td>\n      <td>0</td>\n    </tr>\n    <tr>\n      <th>8474</th>\n      <td>/data/scratch/r098375/data/Rstudy/NIFTI_SLICES...</td>\n      <td>17</td>\n      <td>0</td>\n    </tr>\n  </tbody>\n</table>\n<p>8475 rows × 3 columns</p>\n</div>"
     },
     "execution_count": 57,
     "metadata": {},
     "output_type": "execute_result"
    }
   ],
   "source": [
    "FinalLabelFrame"
   ],
   "metadata": {
    "collapsed": false,
    "ExecuteTime": {
     "end_time": "2023-11-06T13:20:33.551380223Z",
     "start_time": "2023-11-06T13:20:33.533084275Z"
    }
   },
   "id": "7a566a6f3c8b3e6d"
  },
  {
   "cell_type": "code",
   "execution_count": 63,
   "outputs": [],
   "source": [
    "def extractSubject(ID):\n",
    "    return ID.split('/')[7]"
   ],
   "metadata": {
    "collapsed": false,
    "ExecuteTime": {
     "end_time": "2023-11-06T13:21:08.848490104Z",
     "start_time": "2023-11-06T13:21:08.803381224Z"
    }
   },
   "id": "2cf11498cb54f862"
  },
  {
   "cell_type": "code",
   "execution_count": 64,
   "outputs": [],
   "source": [
    "FinalLabelFrame['subject'] = FinalLabelFrame['ID'].apply(extractSubject)"
   ],
   "metadata": {
    "collapsed": false,
    "ExecuteTime": {
     "end_time": "2023-11-06T13:21:09.663116059Z",
     "start_time": "2023-11-06T13:21:09.637158924Z"
    }
   },
   "id": "cc366684ba2b3f9f"
  },
  {
   "cell_type": "code",
   "execution_count": 65,
   "outputs": [],
   "source": [
    "subjects = FinalLabelFrame['subject'].unique()"
   ],
   "metadata": {
    "collapsed": false,
    "ExecuteTime": {
     "end_time": "2023-11-06T13:21:10.050516218Z",
     "start_time": "2023-11-06T13:21:10.036265460Z"
    }
   },
   "id": "893f262b974e707e"
  },
  {
   "cell_type": "code",
   "execution_count": 66,
   "outputs": [],
   "source": [
    "from sklearn.model_selection import train_test_split"
   ],
   "metadata": {
    "collapsed": false,
    "ExecuteTime": {
     "end_time": "2023-11-06T13:21:10.417415710Z",
     "start_time": "2023-11-06T13:21:10.391906979Z"
    }
   },
   "id": "a4a594f7e30f2cb"
  },
  {
   "cell_type": "code",
   "execution_count": 67,
   "outputs": [],
   "source": [
    "train, test = train_test_split(subjects, test_size=0.1, shuffle=True, random_state=42)"
   ],
   "metadata": {
    "collapsed": false,
    "ExecuteTime": {
     "end_time": "2023-11-06T13:21:10.949241318Z",
     "start_time": "2023-11-06T13:21:10.935448790Z"
    }
   },
   "id": "75bf233efa366829"
  },
  {
   "cell_type": "code",
   "execution_count": 68,
   "outputs": [],
   "source": [
    "def inList(subject, list):\n",
    "    return subject in list"
   ],
   "metadata": {
    "collapsed": false,
    "ExecuteTime": {
     "end_time": "2023-11-06T13:21:11.773978144Z",
     "start_time": "2023-11-06T13:21:11.732984135Z"
    }
   },
   "id": "20fb88838e894110"
  },
  {
   "cell_type": "code",
   "execution_count": 69,
   "outputs": [],
   "source": [
    "FinalLabelFrame['trainsplit'] = FinalLabelFrame['subject'].apply(inList, list=train)"
   ],
   "metadata": {
    "collapsed": false,
    "ExecuteTime": {
     "end_time": "2023-11-06T13:21:12.713741221Z",
     "start_time": "2023-11-06T13:21:12.710718660Z"
    }
   },
   "id": "c5e6b7e29ad02e40"
  },
  {
   "cell_type": "code",
   "execution_count": 70,
   "outputs": [],
   "source": [
    "trainLabelFrame = FinalLabelFrame[FinalLabelFrame['trainsplit']][['ID','label','extra']]"
   ],
   "metadata": {
    "collapsed": false,
    "ExecuteTime": {
     "end_time": "2023-11-06T13:21:13.447848249Z",
     "start_time": "2023-11-06T13:21:13.407947759Z"
    }
   },
   "id": "2ba56be1f0400830"
  },
  {
   "cell_type": "code",
   "execution_count": 71,
   "outputs": [],
   "source": [
    "testLabelFrame = FinalLabelFrame[FinalLabelFrame['trainsplit']==False][['ID','label','extra']]"
   ],
   "metadata": {
    "collapsed": false,
    "ExecuteTime": {
     "end_time": "2023-11-06T13:21:13.952363933Z",
     "start_time": "2023-11-06T13:21:13.938838354Z"
    }
   },
   "id": "6f4bb6c6b777eaf0"
  },
  {
   "cell_type": "code",
   "execution_count": 72,
   "outputs": [
    {
     "data": {
      "text/plain": "label\n17    3500\n16    1750\n5      600\n0      575\n3      500\n6      425\n11     375\n14     150\nName: count, dtype: int64"
     },
     "execution_count": 72,
     "metadata": {},
     "output_type": "execute_result"
    }
   ],
   "source": [
    "trainLabelFrame['label'].value_counts()"
   ],
   "metadata": {
    "collapsed": false,
    "ExecuteTime": {
     "end_time": "2023-11-06T13:21:17.395483374Z",
     "start_time": "2023-11-06T13:21:17.351705826Z"
    }
   },
   "id": "b4f522991414fc13"
  },
  {
   "cell_type": "code",
   "execution_count": 73,
   "outputs": [
    {
     "data": {
      "text/plain": "label\n16    200\n17    150\n6      50\n3      50\n0      50\n5      50\n11     50\nName: count, dtype: int64"
     },
     "execution_count": 73,
     "metadata": {},
     "output_type": "execute_result"
    }
   ],
   "source": [
    "testLabelFrame['label'].value_counts()"
   ],
   "metadata": {
    "collapsed": false,
    "ExecuteTime": {
     "end_time": "2023-11-06T13:21:18.348022288Z",
     "start_time": "2023-11-06T13:21:18.336010877Z"
    }
   },
   "id": "c369b66406a3ae8c"
  },
  {
   "cell_type": "code",
   "execution_count": 74,
   "outputs": [],
   "source": [
    "FinalLabelFrame.to_csv('RSS_Labels_extensive2.txt',sep='\\t', index=False, header=False)\n",
    "testLabelFrame.to_csv('RSS_testLabels_extensive2.txt',sep='\\t', index=False, header=False)\n",
    "trainLabelFrame.to_csv('RSS_trainLabels_extensive2.txt',sep='\\t', index=False, header=False)"
   ],
   "metadata": {
    "collapsed": false,
    "ExecuteTime": {
     "end_time": "2023-11-06T13:22:07.160783987Z",
     "start_time": "2023-11-06T13:22:07.082194817Z"
    }
   },
   "id": "de76e89292ca30a1"
  },
  {
   "cell_type": "code",
   "execution_count": null,
   "outputs": [],
   "source": [],
   "metadata": {
    "collapsed": false
   },
   "id": "89b629fd197ca490"
  }
 ],
 "metadata": {
  "kernelspec": {
   "display_name": "Python 3",
   "language": "python",
   "name": "python3"
  },
  "language_info": {
   "codemirror_mode": {
    "name": "ipython",
    "version": 2
   },
   "file_extension": ".py",
   "mimetype": "text/x-python",
   "name": "python",
   "nbconvert_exporter": "python",
   "pygments_lexer": "ipython2",
   "version": "2.7.6"
  }
 },
 "nbformat": 4,
 "nbformat_minor": 5
}
