{
 "cells": [
  {
   "cell_type": "code",
   "execution_count": 2,
   "id": "initial_id",
   "metadata": {
    "collapsed": true,
    "ExecuteTime": {
     "end_time": "2023-09-26T13:51:10.252829651Z",
     "start_time": "2023-09-26T13:51:09.098145358Z"
    }
   },
   "outputs": [],
   "source": [
    "import glob\n",
    "import os\n",
    "import shutil\n",
    "#import tempfile\n",
    "import yaml\n",
    "from tqdm import tqdm\n",
    "import pandas as pd\n",
    "\n",
    "import nibabel as nib\n",
    "import numpy as np\n",
    "import torch\n",
    "import matplotlib.pyplot as plt\n",
    "\n",
    "import monai\n",
    "from monai.transforms import SaveImage"
   ]
  },
  {
   "cell_type": "code",
   "execution_count": 3,
   "outputs": [
    {
     "ename": "FileNotFoundError",
     "evalue": "[Errno 2] No such file or directory: './config.yaml'",
     "output_type": "error",
     "traceback": [
      "\u001B[0;31m---------------------------------------------------------------------------\u001B[0m",
      "\u001B[0;31mFileNotFoundError\u001B[0m                         Traceback (most recent call last)",
      "Cell \u001B[0;32mIn[3], line 1\u001B[0m\n\u001B[0;32m----> 1\u001B[0m \u001B[38;5;28;01mwith\u001B[39;00m \u001B[38;5;28;43mopen\u001B[39;49m\u001B[43m(\u001B[49m\u001B[38;5;124;43m'\u001B[39;49m\u001B[38;5;124;43m./config.yaml\u001B[39;49m\u001B[38;5;124;43m'\u001B[39;49m\u001B[43m,\u001B[49m\u001B[43m \u001B[49m\u001B[38;5;124;43m'\u001B[39;49m\u001B[38;5;124;43mr\u001B[39;49m\u001B[38;5;124;43m'\u001B[39;49m\u001B[43m)\u001B[49m \u001B[38;5;28;01mas\u001B[39;00m ymlfile:\n\u001B[1;32m      2\u001B[0m     cfg \u001B[38;5;241m=\u001B[39m yaml\u001B[38;5;241m.\u001B[39msafe_load(ymlfile)\n\u001B[1;32m      4\u001B[0m x_image_size \u001B[38;5;241m=\u001B[39m cfg[\u001B[38;5;124m'\u001B[39m\u001B[38;5;124mdata_preparation\u001B[39m\u001B[38;5;124m'\u001B[39m][\u001B[38;5;124m'\u001B[39m\u001B[38;5;124mimage_size_x\u001B[39m\u001B[38;5;124m'\u001B[39m]\n",
      "File \u001B[0;32m~/Internship/.mvenv/lib/python3.9/site-packages/IPython/core/interactiveshell.py:286\u001B[0m, in \u001B[0;36m_modified_open\u001B[0;34m(file, *args, **kwargs)\u001B[0m\n\u001B[1;32m    279\u001B[0m \u001B[38;5;28;01mif\u001B[39;00m file \u001B[38;5;129;01min\u001B[39;00m {\u001B[38;5;241m0\u001B[39m, \u001B[38;5;241m1\u001B[39m, \u001B[38;5;241m2\u001B[39m}:\n\u001B[1;32m    280\u001B[0m     \u001B[38;5;28;01mraise\u001B[39;00m \u001B[38;5;167;01mValueError\u001B[39;00m(\n\u001B[1;32m    281\u001B[0m         \u001B[38;5;124mf\u001B[39m\u001B[38;5;124m\"\u001B[39m\u001B[38;5;124mIPython won\u001B[39m\u001B[38;5;124m'\u001B[39m\u001B[38;5;124mt let you open fd=\u001B[39m\u001B[38;5;132;01m{\u001B[39;00mfile\u001B[38;5;132;01m}\u001B[39;00m\u001B[38;5;124m by default \u001B[39m\u001B[38;5;124m\"\u001B[39m\n\u001B[1;32m    282\u001B[0m         \u001B[38;5;124m\"\u001B[39m\u001B[38;5;124mas it is likely to crash IPython. If you know what you are doing, \u001B[39m\u001B[38;5;124m\"\u001B[39m\n\u001B[1;32m    283\u001B[0m         \u001B[38;5;124m\"\u001B[39m\u001B[38;5;124myou can use builtins\u001B[39m\u001B[38;5;124m'\u001B[39m\u001B[38;5;124m open.\u001B[39m\u001B[38;5;124m\"\u001B[39m\n\u001B[1;32m    284\u001B[0m     )\n\u001B[0;32m--> 286\u001B[0m \u001B[38;5;28;01mreturn\u001B[39;00m \u001B[43mio_open\u001B[49m\u001B[43m(\u001B[49m\u001B[43mfile\u001B[49m\u001B[43m,\u001B[49m\u001B[43m \u001B[49m\u001B[38;5;241;43m*\u001B[39;49m\u001B[43margs\u001B[49m\u001B[43m,\u001B[49m\u001B[43m \u001B[49m\u001B[38;5;241;43m*\u001B[39;49m\u001B[38;5;241;43m*\u001B[39;49m\u001B[43mkwargs\u001B[49m\u001B[43m)\u001B[49m\n",
      "\u001B[0;31mFileNotFoundError\u001B[0m: [Errno 2] No such file or directory: './config.yaml'"
     ]
    }
   ],
   "source": [
    "with open('./config.yaml', 'r') as ymlfile:\n",
    "    cfg = yaml.safe_load(ymlfile)\n",
    "\n",
    "x_image_size = cfg['data_preparation']['image_size_x']\n",
    "y_image_size = cfg['data_preparation']['image_size_y']\n",
    "z_image_size = cfg['data_preparation']['image_size_z']\n",
    "DICOM_FOLDER = cfg['preprocessing']['root_dicom_folder']\n",
    "root_dataFolder = os.path.split(DICOM_FOLDER)[0]\n",
    "NIFTI_direc = os.path.join(root_dataFolder,'NIFTI_test')\n",
    "NIFIT_slices_direc = os.path.join(root_dataFolder,'NIFTI_SCLICES_test')\n"
   ],
   "metadata": {
    "collapsed": false,
    "ExecuteTime": {
     "end_time": "2023-09-26T13:51:10.383410154Z",
     "start_time": "2023-09-26T13:51:10.246251783Z"
    }
   },
   "id": "60232bd99b67f52d"
  },
  {
   "cell_type": "code",
   "execution_count": null,
   "outputs": [],
   "source": [
    "# filepaths = []\n",
    "# filenames = []\n",
    "# for root, dirs, files in os.walk(NIFTI_direc):\n",
    "#     for i_file in files:\n",
    "#         if '.nii.gz' in i_file:\n",
    "#             filepaths.append(os.path.join(root,i_file))\n",
    "#             filenames.append(i_file.split('.nii.gz')[0])\n",
    "# print(len(filepaths))\n",
    "resultFrame = pd.read_csv('.testing/out/Predictions_DDS_model_epochs100_time_2023-09-21_16:16:19.587076/Predictions_DDS_model_epochs100_time_2023-09-21_16:16_ensamblePredictions.csv')\n",
    "missclassifications = resultFrame[resultFrame['groundTruth']!=resultFrame['vote']]\n",
    "missclassifications = missclassifications[missclassifications['certainty']==1]"
   ],
   "metadata": {
    "collapsed": false,
    "ExecuteTime": {
     "end_time": "2023-09-26T13:51:10.392364873Z",
     "start_time": "2023-09-26T13:51:10.389146839Z"
    }
   },
   "id": "e92f9f34661b26c3"
  },
  {
   "cell_type": "code",
   "execution_count": null,
   "outputs": [],
   "source": [
    "T1examples = resultFrame[resultFrame['groundTruth']==1]"
   ],
   "metadata": {
    "collapsed": false,
    "ExecuteTime": {
     "start_time": "2023-09-26T13:51:10.391315106Z"
    }
   },
   "id": "aa763cf4eaa2c3fa"
  },
  {
   "cell_type": "code",
   "execution_count": null,
   "outputs": [],
   "source": [
    "dataset = [{'image':filepath,'label':filename} for filepath, filename in zip(T1examples.imageID,T1examples.NIFTI_name)]"
   ],
   "metadata": {
    "collapsed": false,
    "ExecuteTime": {
     "start_time": "2023-09-26T13:51:10.434211628Z"
    }
   },
   "id": "40f5837f1ceb00b1"
  },
  {
   "cell_type": "code",
   "execution_count": null,
   "outputs": [],
   "source": [
    "dataset = [{'image':filepath,'label':filename} for filepath, filename in zip(missclassifications.imageID,missclassifications.NIFTI_name)]"
   ],
   "metadata": {
    "collapsed": false,
    "ExecuteTime": {
     "start_time": "2023-09-26T13:51:10.434379210Z"
    }
   },
   "id": "a2fffb3454ed5101"
  },
  {
   "cell_type": "code",
   "execution_count": null,
   "outputs": [],
   "source": [
    "imgIDX = 2\n",
    "img_path = dataset[imgIDX]['image']\n",
    "nimg = nib.load(img_path)\n",
    "data = nimg.get_fdata()\n",
    "affine = nimg.affine\n",
    "header = nimg.header\n",
    "print(data.shape,data.dtype,'\\n',affine.shape,affine.dtype)\n",
    "plt.figure()\n",
    "plt.imshow(data[0,:,:],cmap='gray')\n",
    "plt.title(dataset[imgIDX]['label'])\n",
    "plt.show()"
   ],
   "metadata": {
    "collapsed": false,
    "ExecuteTime": {
     "start_time": "2023-09-26T13:51:10.434473918Z"
    }
   },
   "id": "3235caead429a013"
  },
  {
   "cell_type": "code",
   "execution_count": null,
   "outputs": [],
   "source": [
    "class SaveIndividualSlices(monai.transforms.MapTransform):\n",
    "    def __init__(self, keys, targetDir):\n",
    "        self.keys = keys\n",
    "        self.targetDir = targetDir\n",
    "\n",
    "    def __call__(self, data):\n",
    "        os.makedirs(self.targetDir,exist_ok=True)\n",
    "        depth = data[self.keys[0]].shape[-1]\n",
    "        for i in range(depth):\n",
    "            if i<10:\n",
    "                postfix = f'_s0{i}'\n",
    "            else:\n",
    "                postfix = f'_s{i}'\n",
    "            saver = SaveImage(\n",
    "                output_dir=self.targetDir,\n",
    "                output_postfix=postfix,\n",
    "                output_ext='.nii.gz',\n",
    "                resample=False,\n",
    "                squeeze_end_dims=True,\n",
    "                data_root_dir=NIFTI_direc,\n",
    "                separate_folder=False,\n",
    "                print_log=False,\n",
    "                savepath_in_metadict=True,\n",
    "            )\n",
    "            slice = data[self.keys[0]][:,:,:,i]\n",
    "            slice = np.array(slice)\n",
    "            slice = slice.reshape((1,256,256,1))\n",
    "            metadata = dict(data[f'{self.keys[0]}_meta_dict'])\n",
    "            saver(img=slice,meta_data=metadata)\n",
    "            # filename = str(data[self.keys[1]])\n",
    "            # savepath = os.path.join(self.targetDir,f'{filename}__s{i}.nii.gz')\n",
    "            # affine = metadata['affine']\n",
    "            # nib.save(img=nib.Nifti1Pair(slice,affine=affine), filename=savepath)\n",
    "        return data"
   ],
   "metadata": {
    "collapsed": false,
    "ExecuteTime": {
     "start_time": "2023-09-26T13:51:10.434544484Z"
    }
   },
   "id": "dc745c94f635421"
  },
  {
   "cell_type": "code",
   "execution_count": null,
   "outputs": [],
   "source": [
    "baseTransform = monai.transforms.Compose(\n",
    "    [\n",
    "        monai.transforms.LoadImaged(keys=['image'], image_only=False, ensure_channel_first=False),\n",
    "        monai.transforms.EnsureChannelFirstd(keys=['image']),\n",
    "        monai.transforms.Orientationd(keys=['image'],axcodes='RAS'),\n",
    "        monai.transforms.Resized(keys=['image'], spatial_size=[256, 256, 25]),\n",
    "        monai.transforms.ScaleIntensityd(keys=['image']),\n",
    "        SaveIndividualSlices(keys=['image', 'label'], targetDir=NIFIT_slices_direc)\n",
    "    ]\n",
    ")"
   ],
   "metadata": {
    "collapsed": false,
    "ExecuteTime": {
     "start_time": "2023-09-26T13:51:10.434601959Z"
    }
   },
   "id": "f904f98be49a0a6a"
  },
  {
   "cell_type": "code",
   "execution_count": null,
   "outputs": [],
   "source": [
    "ds_2d = monai.data.Dataset(dataset, baseTransform)\n",
    "dl_2d = monai.data.DataLoader(ds_2d, batch_size=1, num_workers=0,shuffle=False)"
   ],
   "metadata": {
    "collapsed": false,
    "ExecuteTime": {
     "start_time": "2023-09-26T13:51:10.434658776Z"
    }
   },
   "id": "81a093338a234878"
  },
  {
   "cell_type": "code",
   "execution_count": null,
   "outputs": [],
   "source": [
    "counter = -1\n",
    "try:\n",
    "    for i in tqdm(dl_2d):\n",
    "        counter+=1\n",
    "        continue\n",
    "except:\n",
    "    print(i['label'])"
   ],
   "metadata": {
    "collapsed": false,
    "ExecuteTime": {
     "end_time": "2023-09-26T13:51:10.438059029Z",
     "start_time": "2023-09-26T13:51:10.434714718Z"
    }
   },
   "id": "c60da63e0702ac46"
  },
  {
   "cell_type": "code",
   "execution_count": null,
   "outputs": [],
   "source": [
    "filepaths2 = []\n",
    "filenames2 = []\n",
    "dataset2 = []\n",
    "for root, dirs, files in os.walk(NIFIT_slices_direc,topdown=True):\n",
    "    for i_file in sorted(files):\n",
    "        if '.nii.gz' in i_file:\n",
    "            filepaths2.append(os.path.join(root,i_file))\n",
    "            filenames2.append(i_file.split('.nii.gz')[0])\n",
    "print(len(filepaths2))\n",
    "dataset2 = [{'image':filepath,'label':filename} for filepath, filename in zip(filepaths2,filenames2)]"
   ],
   "metadata": {
    "collapsed": false,
    "ExecuteTime": {
     "start_time": "2023-09-26T13:51:10.434777284Z"
    }
   },
   "id": "b1cb2a785c6f2761"
  },
  {
   "cell_type": "code",
   "execution_count": null,
   "outputs": [],
   "source": [
    "imgIDX = 1\n",
    "img_path = dataset2[imgIDX]['image']\n",
    "nimg = nib.load(img_path)\n",
    "data = nimg.get_fdata()\n",
    "affine = nimg.affine\n",
    "header = nimg.header\n",
    "print(data.shape,data.dtype,'\\n',affine.shape,affine.dtype)\n",
    "plt.figure()\n",
    "plt.imshow(data[:,:],cmap='gray')\n",
    "plt.title(dataset2[imgIDX]['label'])\n",
    "plt.show()"
   ],
   "metadata": {
    "collapsed": false,
    "ExecuteTime": {
     "start_time": "2023-09-26T13:51:10.434834162Z"
    }
   },
   "id": "c8e62bb0ac44b6aa"
  },
  {
   "cell_type": "code",
   "execution_count": null,
   "outputs": [],
   "source": [
    "plt.hist((data[:,:].flatten()))"
   ],
   "metadata": {
    "collapsed": false,
    "ExecuteTime": {
     "start_time": "2023-09-26T13:51:10.434890043Z"
    }
   },
   "id": "caf85e71e01214c4"
  },
  {
   "cell_type": "code",
   "execution_count": null,
   "outputs": [],
   "source": [],
   "metadata": {
    "collapsed": false,
    "ExecuteTime": {
     "start_time": "2023-09-26T13:51:10.434945694Z"
    }
   },
   "id": "4096146d7ee95d12"
  }
 ],
 "metadata": {
  "kernelspec": {
   "display_name": "Python 3",
   "language": "python",
   "name": "python3"
  },
  "language_info": {
   "codemirror_mode": {
    "name": "ipython",
    "version": 2
   },
   "file_extension": ".py",
   "mimetype": "text/x-python",
   "name": "python",
   "nbconvert_exporter": "python",
   "pygments_lexer": "ipython2",
   "version": "2.7.6"
  }
 },
 "nbformat": 4,
 "nbformat_minor": 5
}
